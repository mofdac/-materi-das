{
  "nbformat": 4,
  "nbformat_minor": 0,
  "metadata": {
    "colab": {
      "provenance": [],
      "toc_visible": true
    },
    "kernelspec": {
      "name": "python3",
      "display_name": "Python 3"
    },
    "language_info": {
      "name": "python"
    }
  },
  "cells": [
    {
      "cell_type": "markdown",
      "source": [
        "# PJJ Data Analytics Specialist : Materi Pemrograman Python"
      ],
      "metadata": {
        "id": "eFBfsdqYGX1w"
      }
    },
    {
      "cell_type": "markdown",
      "source": [
        "## Pendahuluan\n",
        "Python merupakan bahasa pemrograman yang banyak digunakan baik dalam pengembangan aplikasi web, REST API, scientific programming, hingga data science.\n",
        "\n",
        "Python merupakan bahasa pemrograman yang dikembangkan oleh Guido Von Rossum pada tahun 1991. Python dapat dikenali dengan karakteristik berikut:\n",
        "\n",
        "\n",
        "1.   Menggunakan interpreter\n",
        "2.   Portable\n",
        "3.   Object Oriented\n",
        "4.   Interactive\n",
        "5.   Interface\n",
        "6.   Open source\n",
        "7.   Mudah dipahami dan digunakan\n",
        "\n",
        "\n",
        "\n"
      ],
      "metadata": {
        "id": "mZ2SAYkeGqBS"
      }
    },
    {
      "cell_type": "markdown",
      "source": [
        "Pemrograman adalah mengenai bagaimana memindahkan proses dan logika dalam pikiran kita ke dalam bentuk baris code yang dapat dijalankan.\n",
        "\n",
        "Belajar pemrograman dimulai dari membentuk cara berpikir kita tentang program hingga cara menuliskan baris kode yang seusai.\n",
        "\n",
        "Terdapat sebuah model berpikir tentang pemrograman yang disebut Sequence-Selection-Itteration.\n",
        "\n",
        "\n",
        "\n",
        "1.   Sequence : Menjalankan beberapa perintah pada waktu tertentu secara berurutan;\n",
        "2.   Selection : Menggunakan conditional statement semisal If else untuk menentukan operasi yang akan dilakukan pada berbagai kondisi yang berbeda;\n",
        "3.  Iteration : Melakukan operasi yang sama secara berulang.\n",
        "\n",
        "\n",
        "\n",
        "(Donald R. Sheehy, A First Course on Data Structure in Python)"
      ],
      "metadata": {
        "id": "u4CQbf8_oERD"
      }
    },
    {
      "cell_type": "markdown",
      "source": [
        "## Data Structures\n",
        "\n",
        "Python memiliki sejumlah struktur data. Struktur data dapat memuat banyak data bahkan dengan berbagai tipe data yang beragam. Struktur data berupa collection dalam pemrograman python adalah sebagai berikut:\n",
        "\n",
        "\n",
        "1.   List\n",
        "2.   Set\n",
        "3.   Tuple\n",
        "4.   Dictionary\n",
        "5.   Deque\n",
        "6.   Heap\n",
        "\n",
        "List dan dictionary merupakan struktur data yang paling banyak digunakan.\n",
        "\n"
      ],
      "metadata": {
        "id": "jmqlEpW0myCU"
      }
    },
    {
      "cell_type": "markdown",
      "source": [
        "### Strings\n",
        "Strings adalah kumpulan karakter yang tersusun/ berurutan, digunakan untuk menyimpan teks.\n",
        "\n",
        "Strings dapat digabung dan dipecah."
      ],
      "metadata": {
        "id": "fk57ZTYMt9oL"
      }
    },
    {
      "cell_type": "code",
      "execution_count": null,
      "metadata": {
        "id": "bJuaLOOOGWsn"
      },
      "outputs": [],
      "source": [
        "txt1 = \"Selamat datang\"\n",
        "txt2 = \"pada pelatihan Python\""
      ]
    },
    {
      "cell_type": "code",
      "source": [
        "txt3 = txt1 +\" \"+ txt2\n",
        "print(txt3)"
      ],
      "metadata": {
        "colab": {
          "base_uri": "https://localhost:8080/"
        },
        "id": "CHDk0uDwu5IN",
        "outputId": "c831cab2-2577-4329-beb8-24cd23e67544"
      },
      "execution_count": null,
      "outputs": [
        {
          "output_type": "stream",
          "name": "stdout",
          "text": [
            "Selamat datang pada pelatihan Python\n"
          ]
        }
      ]
    },
    {
      "cell_type": "markdown",
      "source": [
        "### List\n",
        "List adalah kumpulan objek yang tersusun berurutan. List dapat berisi banyak objek dengan tipe data yang beragam. List dapat juga menampung banyak objek list lainnya."
      ],
      "metadata": {
        "id": "SrOwc-iZv_5W"
      }
    },
    {
      "cell_type": "code",
      "source": [
        "daftar1 = []\n",
        "daftar1.append(1)\n",
        "daftar1.append(\"Aris Budi S\")"
      ],
      "metadata": {
        "id": "9bKc_NoRxUNl"
      },
      "execution_count": null,
      "outputs": []
    },
    {
      "cell_type": "code",
      "source": [
        "from datetime import datetime\n",
        "tgldaftar = datetime.strptime(\"07-07-2023\",\"%d-%m-%Y\")"
      ],
      "metadata": {
        "id": "lw-hqmp_y5M-"
      },
      "execution_count": null,
      "outputs": []
    },
    {
      "cell_type": "code",
      "source": [
        "daftar1.append(tgldaftar)"
      ],
      "metadata": {
        "id": "EH3WicjyzrL_"
      },
      "execution_count": null,
      "outputs": []
    },
    {
      "cell_type": "code",
      "source": [
        "dfnilai = [100,90,95,85,98]\n",
        "daftar1.append(dfnilai)"
      ],
      "metadata": {
        "id": "1_-PpGBv0T64"
      },
      "execution_count": null,
      "outputs": []
    },
    {
      "cell_type": "code",
      "source": [
        "daftar1"
      ],
      "metadata": {
        "colab": {
          "base_uri": "https://localhost:8080/"
        },
        "id": "YR5jiVdX0hYj",
        "outputId": "f56530c5-2f56-470d-d4dc-f8ebc5983e79"
      },
      "execution_count": null,
      "outputs": [
        {
          "output_type": "execute_result",
          "data": {
            "text/plain": [
              "[1,\n",
              " 'Aris Budi Santoso',\n",
              " datetime.datetime(2023, 7, 7, 0, 0),\n",
              " [100, 90, 95, 85, 98]]"
            ]
          },
          "metadata": {},
          "execution_count": 7
        }
      ]
    },
    {
      "cell_type": "code",
      "source": [
        "daftar1[1] = 'Aris Budi Santoso'"
      ],
      "metadata": {
        "id": "ecvLYHpq0on-"
      },
      "execution_count": null,
      "outputs": []
    },
    {
      "cell_type": "code",
      "source": [
        "daftar1"
      ],
      "metadata": {
        "colab": {
          "base_uri": "https://localhost:8080/"
        },
        "id": "iMpAP-lX0xcJ",
        "outputId": "0f0c4429-7e31-4abd-d943-c41dd697955c"
      },
      "execution_count": null,
      "outputs": [
        {
          "output_type": "execute_result",
          "data": {
            "text/plain": [
              "[1, 'Aris Budi Santoso']"
            ]
          },
          "metadata": {},
          "execution_count": 43
        }
      ]
    },
    {
      "cell_type": "code",
      "source": [
        "daftar2 = [['SD','SMP','SMU','DIII','DIV','S2'],['2c', '3a','3b']]"
      ],
      "metadata": {
        "id": "srMEHuTy3AnY"
      },
      "execution_count": null,
      "outputs": []
    },
    {
      "cell_type": "code",
      "source": [
        "daftar1.extend(daftar2)"
      ],
      "metadata": {
        "id": "VfEppDet3hER"
      },
      "execution_count": null,
      "outputs": []
    },
    {
      "cell_type": "code",
      "source": [
        "daftar1"
      ],
      "metadata": {
        "colab": {
          "base_uri": "https://localhost:8080/"
        },
        "id": "CUmRyCnm30ak",
        "outputId": "e08d527d-1034-443b-f9ab-8c0a5938d435"
      },
      "execution_count": null,
      "outputs": [
        {
          "output_type": "execute_result",
          "data": {
            "text/plain": [
              "[1,\n",
              " 'Aris Budi Santoso',\n",
              " ['SD', 'SMP', 'SMU', 'DIII', 'DIV', 'S2'],\n",
              " ['2c', '3a', '3b']]"
            ]
          },
          "metadata": {},
          "execution_count": 46
        }
      ]
    },
    {
      "cell_type": "code",
      "source": [
        "#Mengurutkan List of integers\n",
        "import random\n",
        "lsrandom = [random.randint(a,100) for a in range(20)]"
      ],
      "metadata": {
        "id": "KaMwqkF9yIpk"
      },
      "execution_count": null,
      "outputs": []
    },
    {
      "cell_type": "code",
      "source": [
        "lsrandom"
      ],
      "metadata": {
        "colab": {
          "base_uri": "https://localhost:8080/"
        },
        "id": "6ZqdSLHYzWPI",
        "outputId": "ab298a7b-a928-4f04-c7d7-2bac4874b105"
      },
      "execution_count": null,
      "outputs": [
        {
          "output_type": "execute_result",
          "data": {
            "text/plain": [
              "[30, 4, 97, 29, 34, 12, 92, 90, 56, 98, 86, 85, 98, 53, 33, 29, 35, 73, 73, 57]"
            ]
          },
          "metadata": {},
          "execution_count": 2
        }
      ]
    },
    {
      "cell_type": "code",
      "source": [
        "lsrandom.sort()\n",
        "lsrandom"
      ],
      "metadata": {
        "colab": {
          "base_uri": "https://localhost:8080/"
        },
        "id": "0xCWxl_YzY_e",
        "outputId": "c292e6df-f1bf-4de0-80ef-c15451ff532b"
      },
      "execution_count": null,
      "outputs": [
        {
          "output_type": "execute_result",
          "data": {
            "text/plain": [
              "[4, 12, 29, 29, 30, 33, 34, 35, 53, 56, 57, 73, 73, 85, 86, 90, 92, 97, 98, 98]"
            ]
          },
          "metadata": {},
          "execution_count": 5
        }
      ]
    },
    {
      "cell_type": "code",
      "source": [
        "sorted(lsrandom)"
      ],
      "metadata": {
        "colab": {
          "base_uri": "https://localhost:8080/"
        },
        "id": "eIJk8KHQzgqQ",
        "outputId": "24f5d86e-7053-4ccf-d869-efe147276f5e"
      },
      "execution_count": null,
      "outputs": [
        {
          "output_type": "execute_result",
          "data": {
            "text/plain": [
              "[4, 12, 29, 29, 30, 33, 34, 35, 53, 56, 57, 73, 73, 85, 86, 90, 92, 97, 98, 98]"
            ]
          },
          "metadata": {},
          "execution_count": 6
        }
      ]
    },
    {
      "cell_type": "code",
      "source": [
        "#Mengurutkan list of string\n",
        "import string"
      ],
      "metadata": {
        "id": "MwGRKACg1TP5"
      },
      "execution_count": null,
      "outputs": []
    },
    {
      "cell_type": "code",
      "source": [
        "ranstrings = [''.join(random.choices(string.ascii_lowercase, k=5)) for a in range(100)]"
      ],
      "metadata": {
        "id": "tXBuawB11csx"
      },
      "execution_count": null,
      "outputs": []
    },
    {
      "cell_type": "code",
      "source": [
        "ranstrings[:10]"
      ],
      "metadata": {
        "colab": {
          "base_uri": "https://localhost:8080/"
        },
        "id": "kw79gx_s2n19",
        "outputId": "27397b56-c516-4b9c-9997-b2da9f51f6a5"
      },
      "execution_count": null,
      "outputs": [
        {
          "output_type": "execute_result",
          "data": {
            "text/plain": [
              "['pyjrn',\n",
              " 'kjyqx',\n",
              " 'ecybt',\n",
              " 'asukh',\n",
              " 'morzt',\n",
              " 'xdtnj',\n",
              " 'khlsj',\n",
              " 'aoqoa',\n",
              " 'rtzqe',\n",
              " 'leoco']"
            ]
          },
          "metadata": {},
          "execution_count": 12
        }
      ]
    },
    {
      "cell_type": "code",
      "source": [
        "ranstrings.sort()"
      ],
      "metadata": {
        "id": "DfSEyhSi3Boh"
      },
      "execution_count": null,
      "outputs": []
    },
    {
      "cell_type": "code",
      "source": [
        "ranstrings[:10]"
      ],
      "metadata": {
        "colab": {
          "base_uri": "https://localhost:8080/"
        },
        "id": "D8seozZP3Oib",
        "outputId": "ce9be86c-6296-4860-920b-918625a26422"
      },
      "execution_count": null,
      "outputs": [
        {
          "output_type": "execute_result",
          "data": {
            "text/plain": [
              "['acbdv',\n",
              " 'acpty',\n",
              " 'aeyjc',\n",
              " 'afiyv',\n",
              " 'aoqoa',\n",
              " 'asukh',\n",
              " 'ayctj',\n",
              " 'bbnps',\n",
              " 'bpunn',\n",
              " 'bzrmq']"
            ]
          },
          "metadata": {},
          "execution_count": 18
        }
      ]
    },
    {
      "cell_type": "markdown",
      "source": [
        "### Set\n",
        "Kumpulan objek tanpa ada duplikat nilai. Set bersifat tidak berurutan sesuai input. Set dapat berisi objek dengan tipe data beragam. Set bersifat tidak bisa diubah nilainya (immutable)."
      ],
      "metadata": {
        "id": "6Jcp1WWw06Qq"
      }
    },
    {
      "cell_type": "code",
      "source": [
        "set1 = {5,4,3,3,3,3}"
      ],
      "metadata": {
        "id": "InIYXbgs01t1"
      },
      "execution_count": null,
      "outputs": []
    },
    {
      "cell_type": "code",
      "source": [
        "set1"
      ],
      "metadata": {
        "colab": {
          "base_uri": "https://localhost:8080/"
        },
        "id": "KbiAewNL1kL1",
        "outputId": "4acdd7ce-b603-4ead-b147-e46dfadbcbad"
      },
      "execution_count": null,
      "outputs": [
        {
          "output_type": "execute_result",
          "data": {
            "text/plain": [
              "{3, 4, 5}"
            ]
          },
          "metadata": {},
          "execution_count": 14
        }
      ]
    },
    {
      "cell_type": "code",
      "source": [
        "set1.add('a')"
      ],
      "metadata": {
        "id": "5HOtbvxl1wR1"
      },
      "execution_count": null,
      "outputs": []
    },
    {
      "cell_type": "code",
      "source": [
        "set1.add(tgldaftar)"
      ],
      "metadata": {
        "id": "GD7bmYCA2Ort"
      },
      "execution_count": null,
      "outputs": []
    },
    {
      "cell_type": "code",
      "source": [
        "set2 = {1,2,3}"
      ],
      "metadata": {
        "id": "e_37HQ7X2jsI"
      },
      "execution_count": null,
      "outputs": []
    },
    {
      "cell_type": "code",
      "source": [
        "set3 = set1.union(set2)"
      ],
      "metadata": {
        "id": "9z_DAwra2Y6D"
      },
      "execution_count": null,
      "outputs": []
    },
    {
      "cell_type": "code",
      "source": [
        "set3"
      ],
      "metadata": {
        "colab": {
          "base_uri": "https://localhost:8080/"
        },
        "id": "Txqkh9OB2iJg",
        "outputId": "dd31bbe3-34ee-4dac-aced-8944dfb5b24a"
      },
      "execution_count": null,
      "outputs": [
        {
          "output_type": "execute_result",
          "data": {
            "text/plain": [
              "{1, 2, datetime.datetime(2023, 7, 7, 0, 0), 3, 4, 5, 'a'}"
            ]
          },
          "metadata": {},
          "execution_count": 19
        }
      ]
    },
    {
      "cell_type": "code",
      "source": [
        "set1.update('A')"
      ],
      "metadata": {
        "id": "3K6LSiv34QZS"
      },
      "execution_count": null,
      "outputs": []
    },
    {
      "cell_type": "code",
      "source": [
        "set1"
      ],
      "metadata": {
        "colab": {
          "base_uri": "https://localhost:8080/"
        },
        "id": "T0MuoaTK4oP0",
        "outputId": "6842af84-b042-4061-a58f-021581b3746b"
      },
      "execution_count": null,
      "outputs": [
        {
          "output_type": "execute_result",
          "data": {
            "text/plain": [
              "{datetime.datetime(2023, 7, 7, 0, 0), 3, 4, 5, 'A', 'a'}"
            ]
          },
          "metadata": {},
          "execution_count": 21
        }
      ]
    },
    {
      "cell_type": "code",
      "source": [
        "set3"
      ],
      "metadata": {
        "colab": {
          "base_uri": "https://localhost:8080/"
        },
        "id": "lNgSzX8Z4srm",
        "outputId": "4e704ac1-f33d-408d-8227-f616ff35936e"
      },
      "execution_count": null,
      "outputs": [
        {
          "output_type": "execute_result",
          "data": {
            "text/plain": [
              "{1, 2, datetime.datetime(2023, 7, 7, 0, 0), 3, 4, 5, 'a'}"
            ]
          },
          "metadata": {},
          "execution_count": 22
        }
      ]
    },
    {
      "cell_type": "markdown",
      "source": [
        "### Dictionary\n",
        "Dictionary merupakan kumpulan objek yang berupa pasangan key dan value. Key harus berupa nilai yang unik dan namun value tidak harus unik dan dapat berupa objek dengan berbagai tipe data. Key bersifat immutable/ tidak dapat diubah."
      ],
      "metadata": {
        "id": "tVX5oI-d4JXM"
      }
    },
    {
      "cell_type": "code",
      "source": [
        "dict1 = dict()\n",
        "dict1['SD'] = 'Sekolah Dasar'\n",
        "dict1['SMP'] = 'Sekolah Menengah Pertama'\n",
        "dict1['SMA'] = 'Sekolah Menengah Atas'\n",
        "dict1['DIII'] = 'Diploma III atau Akademi'"
      ],
      "metadata": {
        "id": "2CXu4G8U5vip"
      },
      "execution_count": null,
      "outputs": []
    },
    {
      "cell_type": "code",
      "source": [
        "dict1"
      ],
      "metadata": {
        "colab": {
          "base_uri": "https://localhost:8080/"
        },
        "id": "x7dD5KQw6JeW",
        "outputId": "9b13838c-4447-4e50-bf75-217d1eb28344"
      },
      "execution_count": null,
      "outputs": [
        {
          "output_type": "execute_result",
          "data": {
            "text/plain": [
              "{'SD': 'Sekolah Dasar',\n",
              " 'SMP': 'Sekolah Menengah Pertama',\n",
              " 'SMA': 'Sekolah Menengah Atas',\n",
              " 'DIII': 'Diploma III atau Akademi'}"
            ]
          },
          "metadata": {},
          "execution_count": 24
        }
      ]
    },
    {
      "cell_type": "code",
      "source": [
        "dict1.get('SMP')"
      ],
      "metadata": {
        "colab": {
          "base_uri": "https://localhost:8080/",
          "height": 35
        },
        "id": "fUj4YHDR6MwO",
        "outputId": "46d74bdc-9f73-4550-96c9-99e42470261c"
      },
      "execution_count": null,
      "outputs": [
        {
          "output_type": "execute_result",
          "data": {
            "text/plain": [
              "'Sekolah Menengah Pertama'"
            ],
            "application/vnd.google.colaboratory.intrinsic+json": {
              "type": "string"
            }
          },
          "metadata": {},
          "execution_count": 25
        }
      ]
    },
    {
      "cell_type": "code",
      "source": [
        "dict1['SMA'] = 'Sekolah Menengah Tingkat Atas'"
      ],
      "metadata": {
        "id": "TYQkiLlZ62gr"
      },
      "execution_count": null,
      "outputs": []
    },
    {
      "cell_type": "code",
      "source": [
        "dict1"
      ],
      "metadata": {
        "colab": {
          "base_uri": "https://localhost:8080/"
        },
        "id": "09g0XDZs7A55",
        "outputId": "be794a1d-8421-4927-e6a9-14909c181247"
      },
      "execution_count": null,
      "outputs": [
        {
          "output_type": "execute_result",
          "data": {
            "text/plain": [
              "{'SD': 'Sekolah Dasar',\n",
              " 'SMP': 'Sekolah Menengah Pertama',\n",
              " 'SMA': 'Sekolah Menengah Tingkat Atas',\n",
              " 'DIII': 'Diploma III atau Akademi'}"
            ]
          },
          "metadata": {},
          "execution_count": 27
        }
      ]
    },
    {
      "cell_type": "code",
      "source": [
        "dict1.pop('DIII')"
      ],
      "metadata": {
        "colab": {
          "base_uri": "https://localhost:8080/",
          "height": 35
        },
        "id": "m4eEixjM7PvM",
        "outputId": "685cee51-e25a-4807-9613-d7a4c8d0ad43"
      },
      "execution_count": null,
      "outputs": [
        {
          "output_type": "execute_result",
          "data": {
            "text/plain": [
              "'Diploma III atau Akademi'"
            ],
            "application/vnd.google.colaboratory.intrinsic+json": {
              "type": "string"
            }
          },
          "metadata": {},
          "execution_count": 28
        }
      ]
    },
    {
      "cell_type": "code",
      "source": [
        "dict1"
      ],
      "metadata": {
        "colab": {
          "base_uri": "https://localhost:8080/"
        },
        "id": "KigeAS2w7rZ4",
        "outputId": "8056edb7-850e-4c7a-dbde-0ff9441a52a3"
      },
      "execution_count": null,
      "outputs": [
        {
          "output_type": "execute_result",
          "data": {
            "text/plain": [
              "{'SD': 'Sekolah Dasar',\n",
              " 'SMP': 'Sekolah Menengah Pertama',\n",
              " 'SMA': 'Sekolah Menengah Tingkat Atas'}"
            ]
          },
          "metadata": {},
          "execution_count": 29
        }
      ]
    },
    {
      "cell_type": "code",
      "source": [
        "# Membuat dictionary dengan menggunakan random string\n",
        "dicran = dict()\n",
        "for k in range(10):\n",
        "  v = ''.join(random.choices(string.ascii_lowercase, k=5))\n",
        "  dicran[k] = v"
      ],
      "metadata": {
        "id": "1eL46PV33uA0"
      },
      "execution_count": null,
      "outputs": []
    },
    {
      "cell_type": "code",
      "source": [
        "dicran"
      ],
      "metadata": {
        "colab": {
          "base_uri": "https://localhost:8080/"
        },
        "id": "haply_oK4mCc",
        "outputId": "e200b364-3e63-4df3-b8c4-f2151d0aa8f6"
      },
      "execution_count": null,
      "outputs": [
        {
          "output_type": "execute_result",
          "data": {
            "text/plain": [
              "{0: 'twqnd',\n",
              " 1: 'ydwlb',\n",
              " 2: 'nhlui',\n",
              " 3: 'hesvi',\n",
              " 4: 'tmpnk',\n",
              " 5: 'pvxln',\n",
              " 6: 'juxaq',\n",
              " 7: 'blvvv',\n",
              " 8: 'fnfbx',\n",
              " 9: 'hgvag'}"
            ]
          },
          "metadata": {},
          "execution_count": 21
        }
      ]
    },
    {
      "cell_type": "code",
      "source": [
        "# sort descending berdasarkan key\n",
        "desckey = sorted(dicran.items(), key=lambda x:x[0], reverse=True)\n",
        "desckey_dic = dict(desckey)"
      ],
      "metadata": {
        "id": "T-_j93wy4qyf"
      },
      "execution_count": null,
      "outputs": []
    },
    {
      "cell_type": "code",
      "source": [
        "desckey"
      ],
      "metadata": {
        "colab": {
          "base_uri": "https://localhost:8080/"
        },
        "id": "v1RY_jtp6y5o",
        "outputId": "254bcda4-4040-4386-f0fa-2d2cea1480c6"
      },
      "execution_count": null,
      "outputs": [
        {
          "output_type": "execute_result",
          "data": {
            "text/plain": [
              "[(9, 'hgvag'),\n",
              " (8, 'fnfbx'),\n",
              " (7, 'blvvv'),\n",
              " (6, 'juxaq'),\n",
              " (5, 'pvxln'),\n",
              " (4, 'tmpnk'),\n",
              " (3, 'hesvi'),\n",
              " (2, 'nhlui'),\n",
              " (1, 'ydwlb'),\n",
              " (0, 'twqnd')]"
            ]
          },
          "metadata": {},
          "execution_count": 24
        }
      ]
    },
    {
      "cell_type": "code",
      "source": [
        "# sort descending berdasarkan value\n",
        "descval = sorted(dicran.items(), key=lambda x:x[1], reverse=True)\n",
        "descval_dic = dict(descval)"
      ],
      "metadata": {
        "id": "9q_J2h6X6712"
      },
      "execution_count": null,
      "outputs": []
    },
    {
      "cell_type": "code",
      "source": [
        "descval_dic"
      ],
      "metadata": {
        "colab": {
          "base_uri": "https://localhost:8080/"
        },
        "id": "qAPsX4op7FOS",
        "outputId": "36a2cc78-9f90-434c-bb4c-4504764704b8"
      },
      "execution_count": null,
      "outputs": [
        {
          "output_type": "execute_result",
          "data": {
            "text/plain": [
              "{1: 'ydwlb',\n",
              " 0: 'twqnd',\n",
              " 4: 'tmpnk',\n",
              " 5: 'pvxln',\n",
              " 2: 'nhlui',\n",
              " 6: 'juxaq',\n",
              " 9: 'hgvag',\n",
              " 3: 'hesvi',\n",
              " 8: 'fnfbx',\n",
              " 7: 'blvvv'}"
            ]
          },
          "metadata": {},
          "execution_count": 26
        }
      ]
    },
    {
      "cell_type": "markdown",
      "source": [
        "### Tuple\n",
        "Tuple adalah kumpulan objek yang tersusun berurutan. Tuple bersifat immutable"
      ],
      "metadata": {
        "id": "WWgaYsJLy2Ih"
      }
    },
    {
      "cell_type": "code",
      "source": [
        "tup1 = (1,2,3,\"a\",tgldaftar)"
      ],
      "metadata": {
        "id": "UqAp2AYRy5Bz"
      },
      "execution_count": null,
      "outputs": []
    },
    {
      "cell_type": "code",
      "source": [
        "print(tup1)"
      ],
      "metadata": {
        "colab": {
          "base_uri": "https://localhost:8080/"
        },
        "id": "PIXAAudmzAXh",
        "outputId": "ee3956f7-44bb-4cd0-ceba-2ff87cab300f"
      },
      "execution_count": null,
      "outputs": [
        {
          "output_type": "stream",
          "name": "stdout",
          "text": [
            "(1, 2, 3, 'a', datetime.datetime(2023, 7, 7, 0, 0))\n"
          ]
        }
      ]
    },
    {
      "cell_type": "markdown",
      "source": [
        "### Deque\n",
        "Deque (doubly ended que) bentuk kumpulan data yang memiliki keunggulan lebih cepat dalam operasi menambahkan(append) dan menghilangkan(pop) dibandingkan List"
      ],
      "metadata": {
        "id": "yyH0hTLh3LO6"
      }
    },
    {
      "cell_type": "code",
      "source": [
        "from collections import deque"
      ],
      "metadata": {
        "id": "n7HJX4JU3vNM"
      },
      "execution_count": null,
      "outputs": []
    },
    {
      "cell_type": "code",
      "source": [
        "de = deque([1, 2, 3])"
      ],
      "metadata": {
        "id": "0Z4Fkq7C30A_"
      },
      "execution_count": null,
      "outputs": []
    },
    {
      "cell_type": "code",
      "source": [
        "de.append(4)"
      ],
      "metadata": {
        "id": "l1np8fTA3-TJ"
      },
      "execution_count": null,
      "outputs": []
    },
    {
      "cell_type": "code",
      "source": [
        "de"
      ],
      "metadata": {
        "colab": {
          "base_uri": "https://localhost:8080/"
        },
        "id": "yDeX53wU4B1H",
        "outputId": "ceb1f90c-c36b-40e5-d786-2f262cc7d933"
      },
      "execution_count": null,
      "outputs": [
        {
          "output_type": "execute_result",
          "data": {
            "text/plain": [
              "deque([1, 2, 3, 4])"
            ]
          },
          "metadata": {},
          "execution_count": 50
        }
      ]
    },
    {
      "cell_type": "markdown",
      "source": [
        "### Heap\n",
        "Heap merupakan struktur data yang digunakan untuk kebutuhan antrian dengan prioritas"
      ],
      "metadata": {
        "id": "Gc9kITeg4FDB"
      }
    },
    {
      "cell_type": "code",
      "source": [
        "import heapq"
      ],
      "metadata": {
        "id": "GHOu9YcR4h49"
      },
      "execution_count": null,
      "outputs": []
    },
    {
      "cell_type": "code",
      "source": [
        "ls = [5, 7, 9, 1, 3]"
      ],
      "metadata": {
        "id": "4Viwvinq4oUn"
      },
      "execution_count": null,
      "outputs": []
    },
    {
      "cell_type": "code",
      "source": [
        "heapq.heapify(ls)"
      ],
      "metadata": {
        "id": "J1yphVOS4tVI"
      },
      "execution_count": null,
      "outputs": []
    },
    {
      "cell_type": "code",
      "source": [
        "heapq.heappush(ls, 4)"
      ],
      "metadata": {
        "id": "Zvyf6PcF43h-"
      },
      "execution_count": null,
      "outputs": []
    },
    {
      "cell_type": "markdown",
      "source": [
        "## Control Flow"
      ],
      "metadata": {
        "id": "Gq_b6KC8_7j3"
      }
    },
    {
      "cell_type": "markdown",
      "source": [
        "### Sequence"
      ],
      "metadata": {
        "id": "8usKAJVS_7c_"
      }
    },
    {
      "cell_type": "code",
      "source": [
        "var1 = 1\n",
        "print(\"dari baris ke \"+str(var1))\n",
        "var1 = 2\n",
        "print(\"dari baris ke \"+str(var1))\n"
      ],
      "metadata": {
        "colab": {
          "base_uri": "https://localhost:8080/"
        },
        "id": "gSPCrjO6_6GY",
        "outputId": "d52d8b3d-0cfd-4e69-fec8-0e20b1ac9baf"
      },
      "execution_count": null,
      "outputs": [
        {
          "output_type": "stream",
          "name": "stdout",
          "text": [
            "dari baris ke 1\n",
            "dari baris ke 2\n"
          ]
        }
      ]
    },
    {
      "cell_type": "markdown",
      "source": [
        "### Selection"
      ],
      "metadata": {
        "id": "E5P-hVENAkQ0"
      }
    },
    {
      "cell_type": "markdown",
      "source": [
        "#### If Else"
      ],
      "metadata": {
        "id": "BEzLis2lDM9m"
      }
    },
    {
      "cell_type": "code",
      "source": [
        "cek = 'ada'\n",
        "if(cek == 'ada'):\n",
        "  print('ditemukan')\n",
        "elif(cek == 'tidak ada'):\n",
        "  print('tidak ditemukan')\n",
        "else:\n",
        "  print('tidak diketahui')"
      ],
      "metadata": {
        "colab": {
          "base_uri": "https://localhost:8080/"
        },
        "id": "744S5MXlAji2",
        "outputId": "0ae20911-5004-48a7-b154-1aec47cbe763"
      },
      "execution_count": null,
      "outputs": [
        {
          "output_type": "stream",
          "name": "stdout",
          "text": [
            "ditemukan\n"
          ]
        }
      ]
    },
    {
      "cell_type": "markdown",
      "source": [
        "#### Match Case"
      ],
      "metadata": {
        "id": "EDQRImlRDPyh"
      }
    },
    {
      "cell_type": "code",
      "source": [
        "match cek:\n",
        "  case \"ada\":\n",
        "    print(\"ditemukan\")\n",
        "  case \"tidak ada\":\n",
        "    print(\"tidak ditemukan\")\n",
        "  case _:\n",
        "    print(\"tidak diketahui\")"
      ],
      "metadata": {
        "colab": {
          "base_uri": "https://localhost:8080/"
        },
        "id": "NwdB4oAMCzIX",
        "outputId": "d898c721-5dd6-4a34-f2d0-90cc541bb57a"
      },
      "execution_count": null,
      "outputs": [
        {
          "output_type": "stream",
          "name": "stdout",
          "text": [
            "ditemukan\n"
          ]
        }
      ]
    },
    {
      "cell_type": "markdown",
      "source": [
        "### Iteration/ Loop"
      ],
      "metadata": {
        "id": "ZJDt3K3DDa7O"
      }
    },
    {
      "cell_type": "markdown",
      "source": [
        "#### Looping dari Data Berupa List"
      ],
      "metadata": {
        "id": "mnNSGHCIvE5r"
      }
    },
    {
      "cell_type": "code",
      "source": [
        "for a in daftar1:\n",
        "  print(a)"
      ],
      "metadata": {
        "colab": {
          "base_uri": "https://localhost:8080/"
        },
        "id": "zefPt0jMDcdt",
        "outputId": "e79a5971-817f-4b15-f1f9-0c974c3089b9"
      },
      "execution_count": null,
      "outputs": [
        {
          "output_type": "stream",
          "name": "stdout",
          "text": [
            "1\n",
            "Aris Budi Santoso, SST, MTI\n",
            "2023-07-07 00:00:00\n",
            "[100, 90, 95, 85, 98]\n",
            "['SD', 'SMP', 'SMU', 'DIII', 'DIV', 'S2']\n",
            "['2c', '3a', '3b']\n"
          ]
        }
      ]
    },
    {
      "cell_type": "code",
      "source": [
        "for i in range(len(daftar1)):\n",
        "  print(daftar1[i])"
      ],
      "metadata": {
        "colab": {
          "base_uri": "https://localhost:8080/"
        },
        "id": "E4LsZ2hPwofR",
        "outputId": "72a122c0-abd8-4e75-81ca-06b4730599e8"
      },
      "execution_count": null,
      "outputs": [
        {
          "output_type": "stream",
          "name": "stdout",
          "text": [
            "1\n",
            "Aris Budi Santoso, SST, MTI\n",
            "2023-07-07 00:00:00\n",
            "[100, 90, 95, 85, 98]\n",
            "['SD', 'SMP', 'SMU', 'DIII', 'DIV', 'S2']\n",
            "['2c', '3a', '3b']\n"
          ]
        }
      ]
    },
    {
      "cell_type": "markdown",
      "source": [
        "#### Looping Data Berupa Set"
      ],
      "metadata": {
        "id": "v7F2iFCSwejf"
      }
    },
    {
      "cell_type": "code",
      "source": [
        "for s in set1:\n",
        "  print(s)"
      ],
      "metadata": {
        "colab": {
          "base_uri": "https://localhost:8080/"
        },
        "id": "OIECHjlqwhWN",
        "outputId": "f802221d-9037-4210-a932-19f6dfc29032"
      },
      "execution_count": null,
      "outputs": [
        {
          "output_type": "stream",
          "name": "stdout",
          "text": [
            "3\n",
            "4\n",
            "5\n",
            "2023-07-07 00:00:00\n",
            "A\n",
            "a\n"
          ]
        }
      ]
    },
    {
      "cell_type": "markdown",
      "source": [
        "#### Looping dari Data Berupa Dictionary"
      ],
      "metadata": {
        "id": "YA_nWj6YvXdD"
      }
    },
    {
      "cell_type": "code",
      "source": [
        "for k,v in dict1.items():\n",
        "  print(f\"key : {k} dan value : {v}\")"
      ],
      "metadata": {
        "colab": {
          "base_uri": "https://localhost:8080/"
        },
        "id": "WYrt1YyIva4C",
        "outputId": "3ac25dce-946b-4b1c-9aa5-b3536bdb0133"
      },
      "execution_count": null,
      "outputs": [
        {
          "output_type": "stream",
          "name": "stdout",
          "text": [
            "key : SD dan value : Sekolah Dasar\n",
            "key : SMP dan value : Sekolah Menengah Pertama\n",
            "key : SMA dan value : Sekolah Menengah Tingkat Atas\n"
          ]
        }
      ]
    },
    {
      "cell_type": "markdown",
      "source": [
        "## Function\n",
        "Function adalah objek yang dapat menerima input, melakukan operasi, dan menghasilkan output"
      ],
      "metadata": {
        "id": "2f9s4aetyECk"
      }
    },
    {
      "cell_type": "markdown",
      "source": [
        "### Simple Function"
      ],
      "metadata": {
        "id": "PIjIIY3j1lHN"
      }
    },
    {
      "cell_type": "code",
      "source": [
        "def func1(a,b):\n",
        "  out = (a**2 + b **2)**0.5\n",
        "  return out"
      ],
      "metadata": {
        "id": "GTeE4gUD0Tyc"
      },
      "execution_count": null,
      "outputs": []
    },
    {
      "cell_type": "code",
      "source": [
        "func1(3,4)"
      ],
      "metadata": {
        "colab": {
          "base_uri": "https://localhost:8080/"
        },
        "id": "eCh3UKlI1MDn",
        "outputId": "7135bf94-f06f-4ac2-edb4-11d66cbbd3b4"
      },
      "execution_count": null,
      "outputs": [
        {
          "output_type": "execute_result",
          "data": {
            "text/plain": [
              "5.0"
            ]
          },
          "metadata": {},
          "execution_count": 44
        }
      ]
    },
    {
      "cell_type": "markdown",
      "source": [
        "### Anonymous Function"
      ],
      "metadata": {
        "id": "nFShsZOZ4RFZ"
      }
    },
    {
      "cell_type": "code",
      "source": [
        "(lambda a,b : (a**2 + b **2)**0.5)(3,4)"
      ],
      "metadata": {
        "colab": {
          "base_uri": "https://localhost:8080/"
        },
        "id": "63jQKg7d3sQo",
        "outputId": "2f26d061-2e7e-4e1f-fa30-3d333b2adb9c"
      },
      "execution_count": null,
      "outputs": [
        {
          "output_type": "execute_result",
          "data": {
            "text/plain": [
              "5.0"
            ]
          },
          "metadata": {},
          "execution_count": 48
        }
      ]
    },
    {
      "cell_type": "markdown",
      "source": [
        "### Decorated Function"
      ],
      "metadata": {
        "id": "g2zNujd64e6D"
      }
    },
    {
      "cell_type": "code",
      "source": [
        "import time\n",
        "import math\n",
        "\n",
        "# decorator to calculate duration\n",
        "# taken by any function.\n",
        "def calculate_time(func):\n",
        "\n",
        "    # added arguments inside the inner1,\n",
        "    # if function takes any arguments,\n",
        "    # can be added like this.\n",
        "    def inner1(*args, **kwargs):\n",
        "\n",
        "        # storing time before function execution\n",
        "        begin = time.time()\n",
        "\n",
        "        func(*args, **kwargs)\n",
        "\n",
        "        # storing time after function execution\n",
        "        end = time.time()\n",
        "        print(f\"{func.__name__} total time taken in : {end - begin} s\")\n",
        "\n",
        "    return inner1"
      ],
      "metadata": {
        "id": "uQQ6ibxn5-2M"
      },
      "execution_count": null,
      "outputs": []
    },
    {
      "cell_type": "code",
      "source": [
        "@calculate_time\n",
        "def factorial(num):\n",
        "\n",
        "    # sleep 2 seconds because it takes very less time\n",
        "    # so that you can see the actual difference\n",
        "    time.sleep(2)\n",
        "    print(math.factorial(num))\n"
      ],
      "metadata": {
        "id": "CbkKiea88UsA"
      },
      "execution_count": null,
      "outputs": []
    },
    {
      "cell_type": "code",
      "source": [
        "# calling the function.\n",
        "factorial(10)"
      ],
      "metadata": {
        "colab": {
          "base_uri": "https://localhost:8080/"
        },
        "id": "PmFgp-TI8gyQ",
        "outputId": "f94c9f58-f094-4a1e-ef0b-a085cb8a7c20"
      },
      "execution_count": null,
      "outputs": [
        {
          "output_type": "stream",
          "name": "stdout",
          "text": [
            "3628800\n",
            "factorial total time taken in : 2.0012662410736084 s\n"
          ]
        }
      ]
    },
    {
      "cell_type": "markdown",
      "source": [
        "### Function in Iteration"
      ],
      "metadata": {
        "id": "eGy0uC909YiI"
      }
    },
    {
      "cell_type": "code",
      "source": [
        "def square(x):\n",
        "  return x**2"
      ],
      "metadata": {
        "id": "85zYNKmN9d9l"
      },
      "execution_count": null,
      "outputs": []
    },
    {
      "cell_type": "code",
      "source": [
        "ls = [a+1 for a in range(100)]"
      ],
      "metadata": {
        "id": "xCkEMZDS9ncz"
      },
      "execution_count": null,
      "outputs": []
    },
    {
      "cell_type": "code",
      "source": [
        "len(ls)"
      ],
      "metadata": {
        "colab": {
          "base_uri": "https://localhost:8080/"
        },
        "id": "iX6nyKng9umG",
        "outputId": "b893b878-a564-46f6-fb27-952877a3da8c"
      },
      "execution_count": null,
      "outputs": [
        {
          "output_type": "execute_result",
          "data": {
            "text/plain": [
              "100"
            ]
          },
          "metadata": {},
          "execution_count": 79
        }
      ]
    },
    {
      "cell_type": "code",
      "source": [
        "mapsquare = map(square, ls)"
      ],
      "metadata": {
        "id": "3fgrTD_C93FI"
      },
      "execution_count": null,
      "outputs": []
    },
    {
      "cell_type": "code",
      "source": [
        "lssquare = list(mapsquare)"
      ],
      "metadata": {
        "id": "25Jkh2Ab9xJT"
      },
      "execution_count": null,
      "outputs": []
    },
    {
      "cell_type": "code",
      "source": [
        "lssquare[:10]"
      ],
      "metadata": {
        "colab": {
          "base_uri": "https://localhost:8080/"
        },
        "id": "uQQoKrCq-UPg",
        "outputId": "bb85cb65-1acd-4433-abca-d1d506ebe4a5"
      },
      "execution_count": null,
      "outputs": [
        {
          "output_type": "execute_result",
          "data": {
            "text/plain": [
              "[1, 4, 9, 16, 25, 36, 49, 64, 81, 100]"
            ]
          },
          "metadata": {},
          "execution_count": 89
        }
      ]
    },
    {
      "cell_type": "markdown",
      "source": [
        "### Object Oriented Programming"
      ],
      "metadata": {
        "id": "oKWk1SL2Zslk"
      }
    },
    {
      "cell_type": "markdown",
      "source": [
        "#### Class"
      ],
      "metadata": {
        "id": "c1dXueBNZzKA"
      }
    },
    {
      "cell_type": "code",
      "source": [
        "class Orang:\n",
        "  def __init__(self, nik, nama, usia):\n",
        "    self.nik=nik\n",
        "    self.nama=nama\n",
        "    self.usia=usia\n",
        "  def bicara(self):\n",
        "    print(f\"Perkenalkan saya {self.nama}\")"
      ],
      "metadata": {
        "id": "rKsS1IQuW_zO"
      },
      "execution_count": null,
      "outputs": []
    },
    {
      "cell_type": "markdown",
      "source": [
        "#### Object"
      ],
      "metadata": {
        "id": "guI98HDlcxRJ"
      }
    },
    {
      "cell_type": "code",
      "source": [
        "jaka = Orang('12345678', 'jaka wibawa',40)"
      ],
      "metadata": {
        "id": "sR1wmyQ3b4vX"
      },
      "execution_count": null,
      "outputs": []
    },
    {
      "cell_type": "code",
      "source": [
        "jaka.nik"
      ],
      "metadata": {
        "colab": {
          "base_uri": "https://localhost:8080/",
          "height": 35
        },
        "id": "QMhzqjWQcqQH",
        "outputId": "430e58d6-3335-43b2-f26e-9a36f9057a3a"
      },
      "execution_count": null,
      "outputs": [
        {
          "output_type": "execute_result",
          "data": {
            "text/plain": [
              "'12345678'"
            ],
            "application/vnd.google.colaboratory.intrinsic+json": {
              "type": "string"
            }
          },
          "metadata": {},
          "execution_count": 11
        }
      ]
    },
    {
      "cell_type": "code",
      "source": [
        "jaka.bicara()"
      ],
      "metadata": {
        "colab": {
          "base_uri": "https://localhost:8080/"
        },
        "id": "1-nLmljdfl1a",
        "outputId": "9f6ea78c-3eb3-470f-ffdf-034e9515be4e"
      },
      "execution_count": null,
      "outputs": [
        {
          "output_type": "stream",
          "name": "stdout",
          "text": [
            "Perkenalkan saya jaka wibawa\n"
          ]
        }
      ]
    },
    {
      "cell_type": "markdown",
      "source": [
        "### Pewarisan/ Inheritance"
      ],
      "metadata": {
        "id": "IVYBhI27d9l-"
      }
    },
    {
      "cell_type": "code",
      "source": [
        "class Pegawai(Orang):\n",
        "  def __init__(self,nik, nama, usia, grade, jabatan):\n",
        "    self.grade=grade\n",
        "    self.jabatan=jabatan\n",
        "    Orang.__init__(self,nik,nama,usia)"
      ],
      "metadata": {
        "id": "3UIV6QJ2eEI_"
      },
      "execution_count": null,
      "outputs": []
    },
    {
      "cell_type": "code",
      "source": [
        "peg_jaka = Pegawai('12345678','Jaka Wibawa',40,13,'Pranata Komputer')"
      ],
      "metadata": {
        "id": "pCAGkn9rfjA3"
      },
      "execution_count": null,
      "outputs": []
    },
    {
      "cell_type": "code",
      "source": [
        "peg_jaka.bicara()"
      ],
      "metadata": {
        "colab": {
          "base_uri": "https://localhost:8080/"
        },
        "id": "2tJSngdvciuz",
        "outputId": "9afa8898-4acf-4aa2-8720-c71524f1b0e1"
      },
      "execution_count": null,
      "outputs": [
        {
          "output_type": "stream",
          "name": "stdout",
          "text": [
            "Perkenalkan saya Jaka Wibawa\n"
          ]
        }
      ]
    },
    {
      "cell_type": "code",
      "source": [
        "peg_jaka.jabatan"
      ],
      "metadata": {
        "colab": {
          "base_uri": "https://localhost:8080/",
          "height": 35
        },
        "id": "hHj5ySSif8yz",
        "outputId": "819957ef-d52e-44e4-fbfa-6c48e1bf8231"
      },
      "execution_count": null,
      "outputs": [
        {
          "output_type": "execute_result",
          "data": {
            "text/plain": [
              "'Pranata Komputer'"
            ],
            "application/vnd.google.colaboratory.intrinsic+json": {
              "type": "string"
            }
          },
          "metadata": {},
          "execution_count": 18
        }
      ]
    },
    {
      "cell_type": "markdown",
      "source": [
        "## Multi Threading\n",
        "Thread adalah bagian terkecil dari proses yang dijalankan oleh Sistem Operasi. Multi threading adalah mekanisme untuk menjalankan banyak thread secara bersamaan."
      ],
      "metadata": {
        "id": "dktknspq2_ir"
      }
    },
    {
      "cell_type": "markdown",
      "source": [
        "### Menggunakan Threading"
      ],
      "metadata": {
        "id": "2HO9fgvxgcHl"
      }
    },
    {
      "cell_type": "code",
      "source": [
        "import threading\n",
        "from math import sqrt"
      ],
      "metadata": {
        "id": "ffxAPC6z5GL7"
      },
      "execution_count": null,
      "outputs": []
    },
    {
      "cell_type": "code",
      "source": [
        "inp = 20\n",
        "def cek(n):\n",
        "  for i in range(n):\n",
        "    time.sleep(1)"
      ],
      "metadata": {
        "id": "S9kZPuaHVSyb"
      },
      "execution_count": null,
      "outputs": []
    },
    {
      "cell_type": "code",
      "source": [
        "@calculate_time\n",
        "def singlecek(inp):\n",
        "  cek(inp)"
      ],
      "metadata": {
        "id": "imIC39zGVmyh"
      },
      "execution_count": null,
      "outputs": []
    },
    {
      "cell_type": "code",
      "source": [
        "singlecek(20)"
      ],
      "metadata": {
        "colab": {
          "base_uri": "https://localhost:8080/"
        },
        "id": "lN_ZkIyoV0my",
        "outputId": "327db8f9-d616-4d2c-b6b8-26ca8be7713f"
      },
      "execution_count": null,
      "outputs": [
        {
          "output_type": "stream",
          "name": "stdout",
          "text": [
            "singlecek total time taken in : 20.02003312110901 s\n"
          ]
        }
      ]
    },
    {
      "cell_type": "code",
      "source": [
        "@calculate_time\n",
        "def multicek(inp):\n",
        "  t1 = threading.Thread(target=cek, args=(int(inp/2),))\n",
        "  t2 = threading.Thread(target=cek, args=(int(inp/2),))\n",
        "  t1.start()\n",
        "  t2.start()\n",
        "  t1.join()\n",
        "  t2.join()\n",
        "  print(\"done\")"
      ],
      "metadata": {
        "id": "xOjgX_BXV6Jp"
      },
      "execution_count": null,
      "outputs": []
    },
    {
      "cell_type": "code",
      "source": [
        "multicek(20)"
      ],
      "metadata": {
        "colab": {
          "base_uri": "https://localhost:8080/"
        },
        "id": "-z1pD1MYWmlg",
        "outputId": "65f6bda0-8480-4257-ea76-a5a618fb172a"
      },
      "execution_count": null,
      "outputs": [
        {
          "output_type": "stream",
          "name": "stdout",
          "text": [
            "done\n",
            "multicek total time taken in : 10.011112689971924 s\n"
          ]
        }
      ]
    },
    {
      "cell_type": "code",
      "source": [
        "nums = [(a, a+2) for a in range(100000)]"
      ],
      "metadata": {
        "id": "G5Iv0cYN6pjM"
      },
      "execution_count": null,
      "outputs": []
    },
    {
      "cell_type": "code",
      "source": [
        "def hitung(dt):\n",
        "  out = [sqrt(tup[0]**2 + tup[1]**2) for tup in dt]\n",
        "  return out"
      ],
      "metadata": {
        "id": "fcGliVoI7F-N"
      },
      "execution_count": null,
      "outputs": []
    },
    {
      "cell_type": "code",
      "source": [
        "@calculate_time\n",
        "def single_proses(dt):\n",
        "  hasil = hitung(nums)\n",
        "  return hasil"
      ],
      "metadata": {
        "id": "-r7T7_RI766z"
      },
      "execution_count": null,
      "outputs": []
    },
    {
      "cell_type": "code",
      "source": [
        "single_proses(nums)"
      ],
      "metadata": {
        "colab": {
          "base_uri": "https://localhost:8080/"
        },
        "id": "g54DHXll9QOe",
        "outputId": "62e897d9-3956-4d9a-ded5-137b7263d736"
      },
      "execution_count": null,
      "outputs": [
        {
          "output_type": "stream",
          "name": "stdout",
          "text": [
            "single_proses total time taken in : 0.07531213760375977 s\n"
          ]
        }
      ]
    },
    {
      "cell_type": "code",
      "source": [
        "import threading\n",
        "import sys\n",
        "\n",
        "\n",
        "class ReturnValueThread(threading.Thread):\n",
        "    def __init__(self, *args, **kwargs):\n",
        "        super().__init__(*args, **kwargs)\n",
        "        self.result = None\n",
        "\n",
        "    def run(self):\n",
        "        if self._target is None:\n",
        "            return  # could alternatively raise an exception, depends on the use case\n",
        "        try:\n",
        "            self.result = self._target(*self._args, **self._kwargs)\n",
        "        except Exception as exc:\n",
        "            print(f'{type(exc).__name__}: {exc}', file=sys.stderr)  # properly handle the exception\n",
        "\n",
        "    def join(self, *args, **kwargs):\n",
        "        super().join(*args, **kwargs)\n",
        "        return self.result"
      ],
      "metadata": {
        "id": "EEwLXVOL9bEn"
      },
      "execution_count": null,
      "outputs": []
    },
    {
      "cell_type": "code",
      "source": [
        "@calculate_time\n",
        "def doall(nums):\n",
        "    thread1 = ReturnValueThread(target=hitung, args=(nums[:50000],))\n",
        "    thread2 = ReturnValueThread(target=hitung, args=(nums[50000:],))\n",
        "    thread1.start()\n",
        "    thread2.start()\n",
        "    result = thread1.join()\n",
        "    result.extend(thread2.join())\n",
        "    return result"
      ],
      "metadata": {
        "id": "HsN2oaeIL2BT"
      },
      "execution_count": null,
      "outputs": []
    },
    {
      "cell_type": "code",
      "source": [
        "data = doall(nums)"
      ],
      "metadata": {
        "colab": {
          "base_uri": "https://localhost:8080/"
        },
        "id": "JIxbmqSUMqTx",
        "outputId": "838f8dfd-fa14-4b21-b2b3-bced84d0e7d6"
      },
      "execution_count": null,
      "outputs": [
        {
          "output_type": "stream",
          "name": "stdout",
          "text": [
            "doall total time taken in : 0.0883321762084961 s\n"
          ]
        }
      ]
    },
    {
      "cell_type": "markdown",
      "source": [
        "### Menggunakan multiprocessing"
      ],
      "metadata": {
        "id": "VmjW4v8rgPay"
      }
    },
    {
      "cell_type": "code",
      "source": [
        "import multiprocessing\n",
        "import time\n",
        "\n",
        "def square(x):\n",
        "\treturn x * x"
      ],
      "metadata": {
        "id": "uig00ad0f_Vg"
      },
      "execution_count": null,
      "outputs": []
    },
    {
      "cell_type": "code",
      "source": [
        "pool = multiprocessing.Pool()\n",
        "pool = multiprocessing.Pool(processes=4)\n",
        "inputs = [a for a in range(100)]\n",
        "outputs = pool.map(square, inputs)\n",
        "print(\"Input: {}\".format(inputs))\n",
        "print(\"Output: {}\".format(outputs))\n"
      ],
      "metadata": {
        "colab": {
          "base_uri": "https://localhost:8080/"
        },
        "id": "ZSKnYcwcVbs_",
        "outputId": "ae17a0a9-2fc0-4720-a1b6-f557a957985a"
      },
      "execution_count": null,
      "outputs": [
        {
          "output_type": "stream",
          "name": "stdout",
          "text": [
            "Input: [0, 1, 2, 3, 4, 5, 6, 7, 8, 9, 10, 11, 12, 13, 14, 15, 16, 17, 18, 19, 20, 21, 22, 23, 24, 25, 26, 27, 28, 29, 30, 31, 32, 33, 34, 35, 36, 37, 38, 39, 40, 41, 42, 43, 44, 45, 46, 47, 48, 49, 50, 51, 52, 53, 54, 55, 56, 57, 58, 59, 60, 61, 62, 63, 64, 65, 66, 67, 68, 69, 70, 71, 72, 73, 74, 75, 76, 77, 78, 79, 80, 81, 82, 83, 84, 85, 86, 87, 88, 89, 90, 91, 92, 93, 94, 95, 96, 97, 98, 99]\n",
            "Output: [0, 1, 4, 9, 16, 25, 36, 49, 64, 81, 100, 121, 144, 169, 196, 225, 256, 289, 324, 361, 400, 441, 484, 529, 576, 625, 676, 729, 784, 841, 900, 961, 1024, 1089, 1156, 1225, 1296, 1369, 1444, 1521, 1600, 1681, 1764, 1849, 1936, 2025, 2116, 2209, 2304, 2401, 2500, 2601, 2704, 2809, 2916, 3025, 3136, 3249, 3364, 3481, 3600, 3721, 3844, 3969, 4096, 4225, 4356, 4489, 4624, 4761, 4900, 5041, 5184, 5329, 5476, 5625, 5776, 5929, 6084, 6241, 6400, 6561, 6724, 6889, 7056, 7225, 7396, 7569, 7744, 7921, 8100, 8281, 8464, 8649, 8836, 9025, 9216, 9409, 9604, 9801]\n"
          ]
        }
      ]
    },
    {
      "cell_type": "markdown",
      "source": [
        "## Latihan"
      ],
      "metadata": {
        "id": "kFPQbQZeniV6"
      }
    },
    {
      "cell_type": "markdown",
      "source": [
        "### 1. Buatlah list yang terdiri dari bilangan ganjil dari 1 hingga 1000\n",
        "Gunakan looping dan if satement untuk menyelesaikannya"
      ],
      "metadata": {
        "id": "3uA3U7OSnklg"
      }
    },
    {
      "cell_type": "code",
      "source": [],
      "metadata": {
        "id": "FtxSi4PAoNh-"
      },
      "execution_count": null,
      "outputs": []
    },
    {
      "cell_type": "markdown",
      "source": [
        "### 2. Buatlah list yang berisi kumpulan 1000 tuple. Setiap tuple berisi angka dan hasil kuadratnya secara berurutan\n",
        "Gunakan looping dan function"
      ],
      "metadata": {
        "id": "7FHTBNWkoLUB"
      }
    },
    {
      "cell_type": "code",
      "source": [],
      "metadata": {
        "id": "UzpzSOidqx5D"
      },
      "execution_count": null,
      "outputs": []
    },
    {
      "cell_type": "markdown",
      "source": [
        "### 3. Membuat dictionary dari 2 list\n",
        "1. Buatlah list yang berisi 100 nilai integer secara random.\n",
        "\n",
        "2. Kemudian, buatlah list yang berisi 100 string (8 karakter) yg dibentuk secara random.\n",
        "\n",
        "3. Selanjutnya buatlah dictionary dengan keys dari list of integer pada langkah 1 dan values dari list of string pada langkah 2\n",
        "\n",
        "4. Buat objek dictionary, gunakan looping, pada setiap iterasi set key dan value\n",
        "\n",
        "5. Contoh hasil yang diharapkan {4 : 'abcdefgh', 2 : 'xhucdqrt', 6 : 'nbklbvmk'}"
      ],
      "metadata": {
        "id": "4Lw4fpf5q74U"
      }
    },
    {
      "cell_type": "code",
      "source": [],
      "metadata": {
        "id": "ru9NeRyBBQlf"
      },
      "execution_count": null,
      "outputs": []
    },
    {
      "cell_type": "markdown",
      "source": [
        "## Referensi\n"
      ],
      "metadata": {
        "id": "a5uNxvlPwJWp"
      }
    },
    {
      "cell_type": "markdown",
      "source": [
        "Donald R. Sheehy. A First Course on Data Structure in Python\n",
        "\n",
        "Nelli, Fabio. 2015. Python Data Analytics\n",
        "\n",
        "https://docs.python.org/3\n",
        "\n",
        "https://www.geeksforgeeks.org/decorators-in-python/\n",
        "\n",
        "https://alexandra-zaharia.github.io/posts/how-to-return-a-result-from-a-python-thread/\n",
        "\n"
      ],
      "metadata": {
        "id": "fab1VIe6wIsL"
      }
    }
  ]
}