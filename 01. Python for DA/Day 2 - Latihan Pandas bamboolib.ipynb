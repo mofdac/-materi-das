{
 "cells": [
  {
   "cell_type": "markdown",
   "id": "01737fe7",
   "metadata": {},
   "source": [
    "# Persiapan "
   ]
  },
  {
   "cell_type": "code",
   "execution_count": null,
   "id": "8cca71e8",
   "metadata": {},
   "outputs": [],
   "source": [
    "# !pip install bamboolib"
   ]
  },
  {
   "cell_type": "code",
   "execution_count": null,
   "id": "6af48da3",
   "metadata": {},
   "outputs": [],
   "source": [
    "import bamboolib as bam"
   ]
  },
  {
   "cell_type": "markdown",
   "id": "decreased-cattle",
   "metadata": {},
   "source": [
    "# Dataset 1"
   ]
  },
  {
   "cell_type": "code",
   "execution_count": null,
   "id": "fbaf7abd",
   "metadata": {},
   "outputs": [],
   "source": [
    "#gunakan url file ini untuk menjawab latihan part 1\n",
    "link_boston = \"https://github.com/mofdac/-materi-das/blob/main/01.%20Python%20for%20DA/latihan/Boston_Housing.xlsx?raw=true\""
   ]
  },
  {
   "cell_type": "code",
   "execution_count": null,
   "id": "freelance-model",
   "metadata": {
    "tags": []
   },
   "outputs": [],
   "source": [
    "df = pd.read_excel(link_boston)\n",
    "import pandas as pd; import numpy as np\n",
    "# Step: Keep rows where CRIM > 0\n",
    "df = df.loc[df['CRIM'] > 0]\n",
    "\n",
    "df"
   ]
  },
  {
   "cell_type": "markdown",
   "id": "pleasant-labor",
   "metadata": {},
   "source": [
    "# Dataset 2 \n",
    "Sumber data : Sales_June_2019.csv dan Sales_July_2019.csv "
   ]
  },
  {
   "cell_type": "code",
   "execution_count": null,
   "id": "miniature-appearance",
   "metadata": {},
   "outputs": [],
   "source": [
    "sales_june = \"https://github.com/mofdac/-materi-das/blob/main/01.%20Python%20for%20DA/latihan/Sales_July_2019.csv?raw=true\"\n",
    "sales_july = \"https://github.com/mofdac/-materi-das/blob/main/01.%20Python%20for%20DA/latihan/Sales_July_2019.csv?raw=true\""
   ]
  },
  {
   "cell_type": "code",
   "execution_count": null,
   "id": "e5f82bf5",
   "metadata": {},
   "outputs": [],
   "source": [
    "dfjune = pd.read_csv(sales_june)\n",
    "dfjune"
   ]
  },
  {
   "cell_type": "markdown",
   "id": "93dba3b0",
   "metadata": {},
   "source": [
    "# Dataset dari API"
   ]
  },
  {
   "cell_type": "code",
   "execution_count": null,
   "id": "d2d52ac3",
   "metadata": {},
   "outputs": [],
   "source": [
    "import requests"
   ]
  },
  {
   "cell_type": "code",
   "execution_count": null,
   "id": "e0aca69f",
   "metadata": {},
   "outputs": [],
   "source": [
    "url = 'https://api.publicapis.org/entries'"
   ]
  },
  {
   "cell_type": "code",
   "execution_count": null,
   "id": "0f526e09",
   "metadata": {},
   "outputs": [],
   "source": [
    "r = requests.get(url)\n",
    "json = r.json()"
   ]
  },
  {
   "cell_type": "code",
   "execution_count": null,
   "id": "46afaa15",
   "metadata": {},
   "outputs": [],
   "source": [
    "json.keys()"
   ]
  },
  {
   "cell_type": "code",
   "execution_count": null,
   "id": "5637d574",
   "metadata": {},
   "outputs": [],
   "source": [
    "print(type(json['count']),\n",
    "    type(json['entries']))"
   ]
  },
  {
   "cell_type": "code",
   "execution_count": null,
   "id": "75622749",
   "metadata": {},
   "outputs": [],
   "source": [
    "json['entries'][:3]"
   ]
  },
  {
   "cell_type": "code",
   "execution_count": null,
   "id": "e48598fa",
   "metadata": {},
   "outputs": [],
   "source": [
    "dff = pd.DataFrame(json['entries'][:20])\n",
    "dff"
   ]
  },
  {
   "cell_type": "markdown",
   "id": "c2f2de44",
   "metadata": {},
   "source": [
    "# Dataset dari Scraping"
   ]
  },
  {
   "cell_type": "code",
   "execution_count": null,
   "id": "69a36e74",
   "metadata": {
    "scrolled": false
   },
   "outputs": [],
   "source": [
    "# !pip install requests-html"
   ]
  },
  {
   "cell_type": "code",
   "execution_count": null,
   "id": "60894cb8",
   "metadata": {},
   "outputs": [],
   "source": [
    "from requests_html import HTMLSession\n",
    "import time\n",
    "import pandas as pd\n",
    "session = HTMLSession()"
   ]
  },
  {
   "cell_type": "code",
   "execution_count": null,
   "id": "ca4fbaf7",
   "metadata": {},
   "outputs": [],
   "source": [
    "url = f'https://news.google.com/rss/search?q=gempa'\n",
    "r = session.get(url)\n",
    "r.html.find"
   ]
  },
  {
   "cell_type": "code",
   "execution_count": null,
   "id": "4cc79e7f",
   "metadata": {},
   "outputs": [],
   "source": [
    "topik = 'gempa'"
   ]
  },
  {
   "cell_type": "code",
   "execution_count": null,
   "id": "0b3cbc4d",
   "metadata": {},
   "outputs": [],
   "source": [
    "def getNews(topik):\n",
    "    url = f'https://news.google.com/rss/search?q={topik}'\n",
    "    r = session.get(url)\n",
    "    newstitles = []\n",
    "    for title in r.html.find('title'):\n",
    "        newstitles.append(title.text)\n",
    "        time.sleep(0.1)\n",
    "    text = [i.split(\" - \", 1)[0] for i in newstitles[1:]]\n",
    "    source = [i.split(\" - \", 1)[1] for i in newstitles[1:]]\n",
    "    df = pd.DataFrame(list(zip(text,source)),columns =['News_Title','Source'])\n",
    "    return df"
   ]
  },
  {
   "cell_type": "code",
   "execution_count": null,
   "id": "d2a7cd2b",
   "metadata": {},
   "outputs": [],
   "source": [
    "dfnews = getNews(topik)\n",
    "dfnews"
   ]
  }
 ],
 "metadata": {
  "kernelspec": {
   "display_name": "Python 3 (ipykernel)",
   "language": "python",
   "name": "python3"
  },
  "language_info": {
   "codemirror_mode": {
    "name": "ipython",
    "version": 3
   },
   "file_extension": ".py",
   "mimetype": "text/x-python",
   "name": "python",
   "nbconvert_exporter": "python",
   "pygments_lexer": "ipython3",
   "version": "3.10.9"
  },
  "varInspector": {
   "cols": {
    "lenName": 16,
    "lenType": 16,
    "lenVar": 40
   },
   "kernels_config": {
    "python": {
     "delete_cmd_postfix": "",
     "delete_cmd_prefix": "del ",
     "library": "var_list.py",
     "varRefreshCmd": "print(var_dic_list())"
    },
    "r": {
     "delete_cmd_postfix": ") ",
     "delete_cmd_prefix": "rm(",
     "library": "var_list.r",
     "varRefreshCmd": "cat(var_dic_list()) "
    }
   },
   "types_to_exclude": [
    "module",
    "function",
    "builtin_function_or_method",
    "instance",
    "_Feature"
   ],
   "window_display": false
  },
  "widgets": {
   "application/vnd.jupyter.widget-state+json": {
    "state": {},
    "version_major": 2,
    "version_minor": 0
   }
  }
 },
 "nbformat": 4,
 "nbformat_minor": 5
}
