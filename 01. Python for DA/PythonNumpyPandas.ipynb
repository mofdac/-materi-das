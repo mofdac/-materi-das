{
  "nbformat": 4,
  "nbformat_minor": 0,
  "metadata": {
    "colab": {
      "provenance": []
    },
    "kernelspec": {
      "name": "python3",
      "display_name": "Python 3"
    },
    "language_info": {
      "name": "python"
    }
  },
  "cells": [
    {
      "cell_type": "markdown",
      "source": [
        "# Python : Pengenalan Numpy dan Pandas"
      ],
      "metadata": {
        "id": "131DBt6DuYlk"
      }
    },
    {
      "cell_type": "markdown",
      "source": [
        "## Numpy\n",
        "Numerical Python (Numpy) merupakan package dasar yang diperlukan dalam pemrograman scientific dengan Python.\n",
        "\n",
        "Numpy merupakan library Python yang mencakup beragam objek terkait multidimensional array. mencakup juga mathematical, logical, shape manipulation, sorting, selecting, serta operasi lainnya."
      ],
      "metadata": {
        "id": "fOsCAmeWufWM"
      }
    },
    {
      "cell_type": "markdown",
      "source": [
        "### Numpy Installation"
      ],
      "metadata": {
        "id": "KFtt8YjWBN-p"
      }
    },
    {
      "cell_type": "code",
      "execution_count": 1,
      "metadata": {
        "colab": {
          "base_uri": "https://localhost:8080/"
        },
        "id": "y7jN0vdJAqBy",
        "outputId": "9db8265a-3adf-4bda-c5e8-5bf4de5d539f"
      },
      "outputs": [
        {
          "output_type": "stream",
          "name": "stdout",
          "text": [
            "Name: numpy\n",
            "Version: 1.22.4\n",
            "Summary: NumPy is the fundamental package for array computing with Python.\n",
            "Home-page: https://www.numpy.org\n",
            "Author: Travis E. Oliphant et al.\n",
            "Author-email: \n",
            "License: BSD\n",
            "Location: /usr/local/lib/python3.10/dist-packages\n",
            "Requires: \n",
            "Required-by: albumentations, altair, arviz, astropy, autograd, blis, bokeh, chex, cmdstanpy, contourpy, cufflinks, cvxpy, datascience, db-dtypes, dopamine-rl, ecos, flax, folium, gensim, gym, h5py, holoviews, hyperopt, imageio, imbalanced-learn, imgaug, jax, jaxlib, librosa, lightgbm, matplotlib, matplotlib-venn, missingno, mizani, ml-dtypes, mlxtend, moviepy, music21, nibabel, numba, numexpr, opencv-contrib-python, opencv-python, opencv-python-headless, opt-einsum, optax, orbax-checkpoint, osqp, pandas, pandas-gbq, patsy, plotnine, prophet, pyarrow, pycocotools, pyerfa, pymc, pytensor, python-louvain, PyWavelets, qdldl, qudida, scikit-image, scikit-learn, scipy, scs, seaborn, shapely, sklearn-pandas, soxr, spacy, statsmodels, tables, tensorboard, tensorflow, tensorflow-datasets, tensorflow-hub, tensorflow-probability, tensorstore, thinc, tifffile, torchtext, torchvision, wordcloud, xarray, xarray-einstats, xgboost, yellowbrick, yfinance\n"
          ]
        }
      ],
      "source": [
        "!pip show numpy"
      ]
    },
    {
      "cell_type": "code",
      "source": [
        "import numpy as np"
      ],
      "metadata": {
        "id": "w1U1Bz1GBcrS"
      },
      "execution_count": 2,
      "outputs": []
    },
    {
      "cell_type": "markdown",
      "source": [
        "### Membuat Array"
      ],
      "metadata": {
        "id": "hCymFiO4uVzN"
      }
    },
    {
      "cell_type": "markdown",
      "source": [
        "#### Manual dari List"
      ],
      "metadata": {
        "id": "2xiz-VIDGfjH"
      }
    },
    {
      "cell_type": "code",
      "source": [
        "lsdata = [a for a in range(100)]"
      ],
      "metadata": {
        "id": "3lGExftwEbee"
      },
      "execution_count": 3,
      "outputs": []
    },
    {
      "cell_type": "code",
      "source": [
        "arrdata = np.array(lsdata)"
      ],
      "metadata": {
        "id": "LsvKMfHsGpLc"
      },
      "execution_count": 4,
      "outputs": []
    },
    {
      "cell_type": "code",
      "source": [
        "arrdata"
      ],
      "metadata": {
        "colab": {
          "base_uri": "https://localhost:8080/"
        },
        "id": "JSYqbSKRGxff",
        "outputId": "6a45acb3-8869-46f6-a364-6ea44a0eb613"
      },
      "execution_count": 5,
      "outputs": [
        {
          "output_type": "execute_result",
          "data": {
            "text/plain": [
              "array([ 0,  1,  2,  3,  4,  5,  6,  7,  8,  9, 10, 11, 12, 13, 14, 15, 16,\n",
              "       17, 18, 19, 20, 21, 22, 23, 24, 25, 26, 27, 28, 29, 30, 31, 32, 33,\n",
              "       34, 35, 36, 37, 38, 39, 40, 41, 42, 43, 44, 45, 46, 47, 48, 49, 50,\n",
              "       51, 52, 53, 54, 55, 56, 57, 58, 59, 60, 61, 62, 63, 64, 65, 66, 67,\n",
              "       68, 69, 70, 71, 72, 73, 74, 75, 76, 77, 78, 79, 80, 81, 82, 83, 84,\n",
              "       85, 86, 87, 88, 89, 90, 91, 92, 93, 94, 95, 96, 97, 98, 99])"
            ]
          },
          "metadata": {},
          "execution_count": 5
        }
      ]
    },
    {
      "cell_type": "code",
      "source": [
        "arrdata.ndim"
      ],
      "metadata": {
        "colab": {
          "base_uri": "https://localhost:8080/"
        },
        "id": "j4oO6YmPffk0",
        "outputId": "fa346daf-a4e0-4347-ed3e-725736d3aa14"
      },
      "execution_count": 6,
      "outputs": [
        {
          "output_type": "execute_result",
          "data": {
            "text/plain": [
              "1"
            ]
          },
          "metadata": {},
          "execution_count": 6
        }
      ]
    },
    {
      "cell_type": "code",
      "source": [
        "import random"
      ],
      "metadata": {
        "id": "7KVMENXoHUt4"
      },
      "execution_count": 7,
      "outputs": []
    },
    {
      "cell_type": "code",
      "source": [
        "lsdata1 = [[random.randint(0,100) for i in range(3)] for a in range(10)]"
      ],
      "metadata": {
        "id": "9pm6VRVmHWhS"
      },
      "execution_count": 8,
      "outputs": []
    },
    {
      "cell_type": "code",
      "source": [
        "lsdata1"
      ],
      "metadata": {
        "colab": {
          "base_uri": "https://localhost:8080/"
        },
        "id": "rSnuxCOxH1L4",
        "outputId": "2ab2d2ca-8191-4d3e-b1bb-6b8004c5202f"
      },
      "execution_count": 9,
      "outputs": [
        {
          "output_type": "execute_result",
          "data": {
            "text/plain": [
              "[[47, 83, 37],\n",
              " [37, 13, 53],\n",
              " [48, 38, 32],\n",
              " [40, 68, 13],\n",
              " [26, 29, 38],\n",
              " [10, 82, 68],\n",
              " [97, 15, 33],\n",
              " [31, 59, 45],\n",
              " [97, 29, 31],\n",
              " [33, 55, 27]]"
            ]
          },
          "metadata": {},
          "execution_count": 9
        }
      ]
    },
    {
      "cell_type": "code",
      "source": [
        "arrdata1 = np.array(lsdata1, dtype=np.float32)"
      ],
      "metadata": {
        "id": "94INxfu3ILqy"
      },
      "execution_count": 10,
      "outputs": []
    },
    {
      "cell_type": "code",
      "source": [
        "arrdata1.dtype"
      ],
      "metadata": {
        "colab": {
          "base_uri": "https://localhost:8080/"
        },
        "id": "9b3LzpDkIY0J",
        "outputId": "73576c85-1677-4ba0-b6c9-b3f8046d6181"
      },
      "execution_count": 11,
      "outputs": [
        {
          "output_type": "execute_result",
          "data": {
            "text/plain": [
              "dtype('float32')"
            ]
          },
          "metadata": {},
          "execution_count": 11
        }
      ]
    },
    {
      "cell_type": "code",
      "source": [
        "arrdata1.ndim"
      ],
      "metadata": {
        "colab": {
          "base_uri": "https://localhost:8080/"
        },
        "id": "pdR2sfRo7bK3",
        "outputId": "b472ab60-5534-4d5e-d30a-1ee156f86cd9"
      },
      "execution_count": 12,
      "outputs": [
        {
          "output_type": "execute_result",
          "data": {
            "text/plain": [
              "2"
            ]
          },
          "metadata": {},
          "execution_count": 12
        }
      ]
    },
    {
      "cell_type": "code",
      "source": [
        "ls3d = [[[n for n in range(2)] for i in range(3)] for a in range(10)]"
      ],
      "metadata": {
        "id": "7zl2Ns8Hf5l0"
      },
      "execution_count": 14,
      "outputs": []
    },
    {
      "cell_type": "code",
      "source": [
        "ls3d"
      ],
      "metadata": {
        "colab": {
          "base_uri": "https://localhost:8080/"
        },
        "id": "rHk4M5ACgU17",
        "outputId": "ceec8199-d4e6-458f-d216-018619564b2f"
      },
      "execution_count": 15,
      "outputs": [
        {
          "output_type": "execute_result",
          "data": {
            "text/plain": [
              "[[[0, 1], [0, 1], [0, 1]],\n",
              " [[0, 1], [0, 1], [0, 1]],\n",
              " [[0, 1], [0, 1], [0, 1]],\n",
              " [[0, 1], [0, 1], [0, 1]],\n",
              " [[0, 1], [0, 1], [0, 1]],\n",
              " [[0, 1], [0, 1], [0, 1]],\n",
              " [[0, 1], [0, 1], [0, 1]],\n",
              " [[0, 1], [0, 1], [0, 1]],\n",
              " [[0, 1], [0, 1], [0, 1]],\n",
              " [[0, 1], [0, 1], [0, 1]]]"
            ]
          },
          "metadata": {},
          "execution_count": 15
        }
      ]
    },
    {
      "cell_type": "code",
      "source": [
        "arr3d = np.array(ls3d)"
      ],
      "metadata": {
        "id": "vdwgh2p_gZDb"
      },
      "execution_count": 16,
      "outputs": []
    },
    {
      "cell_type": "code",
      "source": [
        "arr3d.ndim"
      ],
      "metadata": {
        "colab": {
          "base_uri": "https://localhost:8080/"
        },
        "id": "kpdzwMC5ggV2",
        "outputId": "f2eac565-5f92-443c-f218-de0621b509fd"
      },
      "execution_count": 17,
      "outputs": [
        {
          "output_type": "execute_result",
          "data": {
            "text/plain": [
              "3"
            ]
          },
          "metadata": {},
          "execution_count": 17
        }
      ]
    },
    {
      "cell_type": "markdown",
      "source": [
        "### Menggunakan Function"
      ],
      "metadata": {
        "id": "naberFzcG3IU"
      }
    },
    {
      "cell_type": "code",
      "source": [
        "arr1 = np.arange(0,10)"
      ],
      "metadata": {
        "id": "uOJuBCo3G2I9"
      },
      "execution_count": 18,
      "outputs": []
    },
    {
      "cell_type": "code",
      "source": [
        "arr1"
      ],
      "metadata": {
        "colab": {
          "base_uri": "https://localhost:8080/"
        },
        "id": "P4BP_aXcN0e3",
        "outputId": "d5438881-dce9-4c2d-b5a7-62b05eae85fc"
      },
      "execution_count": 19,
      "outputs": [
        {
          "output_type": "execute_result",
          "data": {
            "text/plain": [
              "array([0, 1, 2, 3, 4, 5, 6, 7, 8, 9])"
            ]
          },
          "metadata": {},
          "execution_count": 19
        }
      ]
    },
    {
      "cell_type": "code",
      "source": [
        "arr2 = np.arange(0,30,2)"
      ],
      "metadata": {
        "id": "m3sGnLDSN2-1"
      },
      "execution_count": 20,
      "outputs": []
    },
    {
      "cell_type": "code",
      "source": [
        "arr2"
      ],
      "metadata": {
        "colab": {
          "base_uri": "https://localhost:8080/"
        },
        "id": "CSlwvmbgOMYU",
        "outputId": "4b4071f7-badf-46c8-f3b7-31299f7170fd"
      },
      "execution_count": 21,
      "outputs": [
        {
          "output_type": "execute_result",
          "data": {
            "text/plain": [
              "array([ 0,  2,  4,  6,  8, 10, 12, 14, 16, 18, 20, 22, 24, 26, 28])"
            ]
          },
          "metadata": {},
          "execution_count": 21
        }
      ]
    },
    {
      "cell_type": "markdown",
      "source": [
        "## Indexing"
      ],
      "metadata": {
        "id": "QCLOcdnROq9h"
      }
    },
    {
      "cell_type": "code",
      "source": [
        "arr1[2]"
      ],
      "metadata": {
        "colab": {
          "base_uri": "https://localhost:8080/"
        },
        "id": "p3v-5aY_O3vu",
        "outputId": "38727a5a-529e-4e2f-ff83-322e23cd9525"
      },
      "execution_count": 23,
      "outputs": [
        {
          "output_type": "execute_result",
          "data": {
            "text/plain": [
              "2"
            ]
          },
          "metadata": {},
          "execution_count": 23
        }
      ]
    },
    {
      "cell_type": "code",
      "source": [
        "arr1[-2]"
      ],
      "metadata": {
        "colab": {
          "base_uri": "https://localhost:8080/"
        },
        "id": "dVQH5o6vO-tv",
        "outputId": "f4ab6568-ee2c-4196-beab-3a55e599fc25"
      },
      "execution_count": 24,
      "outputs": [
        {
          "output_type": "execute_result",
          "data": {
            "text/plain": [
              "8"
            ]
          },
          "metadata": {},
          "execution_count": 24
        }
      ]
    },
    {
      "cell_type": "code",
      "source": [
        "arr1[0:2]"
      ],
      "metadata": {
        "colab": {
          "base_uri": "https://localhost:8080/"
        },
        "id": "-6MAmIFbO1UI",
        "outputId": "e15f8f11-e5bb-44fa-cc2e-e998b7a6afb5"
      },
      "execution_count": 25,
      "outputs": [
        {
          "output_type": "execute_result",
          "data": {
            "text/plain": [
              "array([0, 1])"
            ]
          },
          "metadata": {},
          "execution_count": 25
        }
      ]
    },
    {
      "cell_type": "code",
      "source": [
        "arr1[:3]"
      ],
      "metadata": {
        "id": "0NiGuCO7PHBI",
        "colab": {
          "base_uri": "https://localhost:8080/"
        },
        "outputId": "6c990482-8e11-43a6-a3eb-890521e265dd"
      },
      "execution_count": 26,
      "outputs": [
        {
          "output_type": "execute_result",
          "data": {
            "text/plain": [
              "array([0, 1, 2])"
            ]
          },
          "metadata": {},
          "execution_count": 26
        }
      ]
    },
    {
      "cell_type": "code",
      "source": [
        "arr1[1:3]"
      ],
      "metadata": {
        "colab": {
          "base_uri": "https://localhost:8080/"
        },
        "id": "LJRh0GqJAWtA",
        "outputId": "41a0074a-92f6-47c1-ccd9-a5e089ce9ad7"
      },
      "execution_count": 27,
      "outputs": [
        {
          "output_type": "execute_result",
          "data": {
            "text/plain": [
              "array([1, 2])"
            ]
          },
          "metadata": {},
          "execution_count": 27
        }
      ]
    },
    {
      "cell_type": "code",
      "source": [
        "arr_3 = np.array([[[1,2,3,4,5], [6,7,8,9,10]],[[2,4,6,8,10], [12,14,16,16,20]]])"
      ],
      "metadata": {
        "id": "iMddUVxO-HRQ"
      },
      "execution_count": 28,
      "outputs": []
    },
    {
      "cell_type": "code",
      "source": [
        "arr_3.ndim"
      ],
      "metadata": {
        "colab": {
          "base_uri": "https://localhost:8080/"
        },
        "id": "vazmoNzc-YFS",
        "outputId": "b6b7b373-df19-45f6-e0ba-d4c66c44068c"
      },
      "execution_count": 29,
      "outputs": [
        {
          "output_type": "execute_result",
          "data": {
            "text/plain": [
              "3"
            ]
          },
          "metadata": {},
          "execution_count": 29
        }
      ]
    },
    {
      "cell_type": "code",
      "source": [
        "arr_3[1]"
      ],
      "metadata": {
        "colab": {
          "base_uri": "https://localhost:8080/"
        },
        "id": "u2PwwTaZ-c5G",
        "outputId": "2e5f5f43-b5de-40fb-b4f4-cfaf2c622ba7"
      },
      "execution_count": 30,
      "outputs": [
        {
          "output_type": "execute_result",
          "data": {
            "text/plain": [
              "array([[ 2,  4,  6,  8, 10],\n",
              "       [12, 14, 16, 16, 20]])"
            ]
          },
          "metadata": {},
          "execution_count": 30
        }
      ]
    },
    {
      "cell_type": "code",
      "source": [
        "arr_3[1][0]"
      ],
      "metadata": {
        "colab": {
          "base_uri": "https://localhost:8080/"
        },
        "id": "5QX8vNFi-qMN",
        "outputId": "c92954b1-cc00-4675-bd75-fc86b6cde575"
      },
      "execution_count": 31,
      "outputs": [
        {
          "output_type": "execute_result",
          "data": {
            "text/plain": [
              "array([ 2,  4,  6,  8, 10])"
            ]
          },
          "metadata": {},
          "execution_count": 31
        }
      ]
    },
    {
      "cell_type": "code",
      "source": [
        "arr_3[1][0][0]"
      ],
      "metadata": {
        "colab": {
          "base_uri": "https://localhost:8080/"
        },
        "id": "fW1qHvYp-wgg",
        "outputId": "1aa4deb8-9c8a-4731-f0ba-d5ecb8c1c72e"
      },
      "execution_count": 32,
      "outputs": [
        {
          "output_type": "execute_result",
          "data": {
            "text/plain": [
              "2"
            ]
          },
          "metadata": {},
          "execution_count": 32
        }
      ]
    },
    {
      "cell_type": "code",
      "source": [
        "arr_3[1,0,0]"
      ],
      "metadata": {
        "colab": {
          "base_uri": "https://localhost:8080/"
        },
        "id": "95deqxW1_7m4",
        "outputId": "128a2f65-5e5d-4597-ea52-bd481be1597c"
      },
      "execution_count": 33,
      "outputs": [
        {
          "output_type": "execute_result",
          "data": {
            "text/plain": [
              "2"
            ]
          },
          "metadata": {},
          "execution_count": 33
        }
      ]
    },
    {
      "cell_type": "markdown",
      "source": [
        "## Operation"
      ],
      "metadata": {
        "id": "8l7voGNoPJU-"
      }
    },
    {
      "cell_type": "code",
      "source": [
        "arr1+2"
      ],
      "metadata": {
        "colab": {
          "base_uri": "https://localhost:8080/"
        },
        "id": "xIxeEuUTPMpb",
        "outputId": "d7e321b9-88d0-4633-a4be-a0eefed8cab4"
      },
      "execution_count": 34,
      "outputs": [
        {
          "output_type": "execute_result",
          "data": {
            "text/plain": [
              "array([ 2,  3,  4,  5,  6,  7,  8,  9, 10, 11])"
            ]
          },
          "metadata": {},
          "execution_count": 34
        }
      ]
    },
    {
      "cell_type": "code",
      "source": [
        "arr1*3"
      ],
      "metadata": {
        "colab": {
          "base_uri": "https://localhost:8080/"
        },
        "id": "tP9Me0KjPyPv",
        "outputId": "cc2b96b8-b44b-4467-b253-5135815a1278"
      },
      "execution_count": 35,
      "outputs": [
        {
          "output_type": "execute_result",
          "data": {
            "text/plain": [
              "array([ 0,  3,  6,  9, 12, 15, 18, 21, 24, 27])"
            ]
          },
          "metadata": {},
          "execution_count": 35
        }
      ]
    },
    {
      "cell_type": "code",
      "source": [
        "arr1**2"
      ],
      "metadata": {
        "colab": {
          "base_uri": "https://localhost:8080/"
        },
        "id": "u0tk9x5PP2QO",
        "outputId": "79ea115e-00b9-4cb8-a0c2-7ed6c4af118c"
      },
      "execution_count": 36,
      "outputs": [
        {
          "output_type": "execute_result",
          "data": {
            "text/plain": [
              "array([ 0,  1,  4,  9, 16, 25, 36, 49, 64, 81])"
            ]
          },
          "metadata": {},
          "execution_count": 36
        }
      ]
    },
    {
      "cell_type": "code",
      "source": [
        "arr1[0:6]+arr2[0:6]"
      ],
      "metadata": {
        "colab": {
          "base_uri": "https://localhost:8080/"
        },
        "id": "-RnTm8KKP5vR",
        "outputId": "9a7fdc09-7956-4e14-a957-0bcf7ffe2006"
      },
      "execution_count": 37,
      "outputs": [
        {
          "output_type": "execute_result",
          "data": {
            "text/plain": [
              "array([ 0,  3,  6,  9, 12, 15])"
            ]
          },
          "metadata": {},
          "execution_count": 37
        }
      ]
    },
    {
      "cell_type": "code",
      "source": [
        "arr1[0:6]*arr2[0:6]"
      ],
      "metadata": {
        "colab": {
          "base_uri": "https://localhost:8080/"
        },
        "id": "b6lSNDZDQWcx",
        "outputId": "81c80945-87ad-4e35-b09d-a52a5e5fac6a"
      },
      "execution_count": 38,
      "outputs": [
        {
          "output_type": "execute_result",
          "data": {
            "text/plain": [
              "array([ 0,  2,  8, 18, 32, 50])"
            ]
          },
          "metadata": {},
          "execution_count": 38
        }
      ]
    },
    {
      "cell_type": "code",
      "source": [],
      "metadata": {
        "id": "_N4dgZDGQb6r"
      },
      "execution_count": null,
      "outputs": []
    },
    {
      "cell_type": "markdown",
      "source": [
        "## Statistik"
      ],
      "metadata": {
        "id": "7b2OUUYtQdFO"
      }
    },
    {
      "cell_type": "code",
      "source": [
        "arrdata1"
      ],
      "metadata": {
        "colab": {
          "base_uri": "https://localhost:8080/"
        },
        "id": "TzEGseFjQ1BE",
        "outputId": "96b5a86f-b3a5-4f99-c4a0-8baa8eeba118"
      },
      "execution_count": 39,
      "outputs": [
        {
          "output_type": "execute_result",
          "data": {
            "text/plain": [
              "array([[47., 83., 37.],\n",
              "       [37., 13., 53.],\n",
              "       [48., 38., 32.],\n",
              "       [40., 68., 13.],\n",
              "       [26., 29., 38.],\n",
              "       [10., 82., 68.],\n",
              "       [97., 15., 33.],\n",
              "       [31., 59., 45.],\n",
              "       [97., 29., 31.],\n",
              "       [33., 55., 27.]], dtype=float32)"
            ]
          },
          "metadata": {},
          "execution_count": 39
        }
      ]
    },
    {
      "cell_type": "code",
      "source": [
        "arrdata1.shape"
      ],
      "metadata": {
        "colab": {
          "base_uri": "https://localhost:8080/"
        },
        "id": "p2Dbv-WPQfLy",
        "outputId": "b0c98fb7-8196-4716-9f81-0cb091af5760"
      },
      "execution_count": 40,
      "outputs": [
        {
          "output_type": "execute_result",
          "data": {
            "text/plain": [
              "(10, 3)"
            ]
          },
          "metadata": {},
          "execution_count": 40
        }
      ]
    },
    {
      "cell_type": "code",
      "source": [
        "arrdata1.max()"
      ],
      "metadata": {
        "colab": {
          "base_uri": "https://localhost:8080/"
        },
        "id": "_dprl4Z1Qqz8",
        "outputId": "6fd6fffb-ddb4-4a16-fa28-c7ff2de4189f"
      },
      "execution_count": 41,
      "outputs": [
        {
          "output_type": "execute_result",
          "data": {
            "text/plain": [
              "97.0"
            ]
          },
          "metadata": {},
          "execution_count": 41
        }
      ]
    },
    {
      "cell_type": "code",
      "source": [
        "arrdata1.min()"
      ],
      "metadata": {
        "colab": {
          "base_uri": "https://localhost:8080/"
        },
        "id": "0Dmf7vmwQ4MJ",
        "outputId": "cb874e70-4ff3-474b-a8ad-80b1a02c3e4b"
      },
      "execution_count": 42,
      "outputs": [
        {
          "output_type": "execute_result",
          "data": {
            "text/plain": [
              "10.0"
            ]
          },
          "metadata": {},
          "execution_count": 42
        }
      ]
    },
    {
      "cell_type": "code",
      "source": [
        "arrdata1.mean()"
      ],
      "metadata": {
        "colab": {
          "base_uri": "https://localhost:8080/"
        },
        "id": "VoT-wrafQ_FP",
        "outputId": "1bd6c7ab-04cc-42ea-fb74-01d7e50e8cf2"
      },
      "execution_count": 43,
      "outputs": [
        {
          "output_type": "execute_result",
          "data": {
            "text/plain": [
              "43.8"
            ]
          },
          "metadata": {},
          "execution_count": 43
        }
      ]
    },
    {
      "cell_type": "code",
      "source": [
        "arrdata1.std()"
      ],
      "metadata": {
        "colab": {
          "base_uri": "https://localhost:8080/"
        },
        "id": "5ueD5zcKQ6dM",
        "outputId": "ea5adfe7-580d-4861-929e-09925f9d4928"
      },
      "execution_count": 44,
      "outputs": [
        {
          "output_type": "execute_result",
          "data": {
            "text/plain": [
              "23.15081"
            ]
          },
          "metadata": {},
          "execution_count": 44
        }
      ]
    },
    {
      "cell_type": "code",
      "source": [
        "arrdata1.cumsum()"
      ],
      "metadata": {
        "colab": {
          "base_uri": "https://localhost:8080/"
        },
        "id": "IT_6LKGtRHyA",
        "outputId": "ac20a7da-996b-4b1d-ce16-63bc9f96726f"
      },
      "execution_count": 45,
      "outputs": [
        {
          "output_type": "execute_result",
          "data": {
            "text/plain": [
              "array([  47.,  130.,  167.,  204.,  217.,  270.,  318.,  356.,  388.,\n",
              "        428.,  496.,  509.,  535.,  564.,  602.,  612.,  694.,  762.,\n",
              "        859.,  874.,  907.,  938.,  997., 1042., 1139., 1168., 1199.,\n",
              "       1232., 1287., 1314.], dtype=float32)"
            ]
          },
          "metadata": {},
          "execution_count": 45
        }
      ]
    },
    {
      "cell_type": "code",
      "source": [],
      "metadata": {
        "id": "Z3-kfmRURjGn"
      },
      "execution_count": null,
      "outputs": []
    },
    {
      "cell_type": "markdown",
      "source": [
        "### Seberapa Cepat Numpy Array dibandingkan List"
      ],
      "metadata": {
        "id": "dA6FQ6QoD-0w"
      }
    },
    {
      "cell_type": "code",
      "source": [
        "#https://www.geeksforgeeks.org/why-numpy-is-faster-in-python/\n",
        "# importing required packages\n",
        "import numpy\n",
        "import time\n",
        "\n",
        "# size of arrays and lists\n",
        "size = 1000000\n",
        "\n",
        "# declaring lists\n",
        "list1 = range(size)\n",
        "list2 = range(size)\n",
        "\n",
        "# declaring arrays\n",
        "array1 = numpy.arange(size)\n",
        "array2 = numpy.arange(size)\n",
        "\n",
        "# list\n",
        "initialTime = time.time()\n",
        "resultantList = [(a * b) for a, b in zip(list1, list2)]\n",
        "\n",
        "# calculating execution time\n",
        "print(\"Time taken by Lists :\",\n",
        "\t(time.time() - initialTime),\n",
        "\t\"seconds\")\n",
        "\n",
        "# NumPy array\n",
        "initialTime = time.time()\n",
        "resultantArray = array1 * array2\n",
        "\n",
        "# calculating execution time\n",
        "print(\"Time taken by NumPy Arrays :\",\n",
        "\t(time.time() - initialTime),\n",
        "\t\"seconds\")\n"
      ],
      "metadata": {
        "colab": {
          "base_uri": "https://localhost:8080/"
        },
        "id": "1Dx88VTZEE6D",
        "outputId": "b0b4377c-37a5-4ce9-c239-eaf57e1cee56"
      },
      "execution_count": 46,
      "outputs": [
        {
          "output_type": "stream",
          "name": "stdout",
          "text": [
            "Time taken by Lists : 0.11108136177062988 seconds\n",
            "Time taken by NumPy Arrays : 0.004428386688232422 seconds\n"
          ]
        }
      ]
    }
  ]
}