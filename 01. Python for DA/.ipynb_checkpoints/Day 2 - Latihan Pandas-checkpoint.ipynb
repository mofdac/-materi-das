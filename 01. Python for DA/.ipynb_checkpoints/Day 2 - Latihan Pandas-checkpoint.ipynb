{
 "cells": [
  {
   "cell_type": "markdown",
   "id": "decreased-cattle",
   "metadata": {},
   "source": [
    "# Latihan 1 "
   ]
  },
  {
   "cell_type": "code",
   "execution_count": 2,
   "id": "fbaf7abd",
   "metadata": {},
   "outputs": [],
   "source": [
    "#gunakan url file ini untuk menjawab latihan part 1\n",
    "link_boston = \"https://github.com/mofdac/-materi-das/blob/main/01.%20Python%20for%20DA/latihan/Boston_Housing.xlsx?raw=true\""
   ]
  },
  {
   "cell_type": "code",
   "execution_count": 1,
   "id": "front-liverpool",
   "metadata": {},
   "outputs": [],
   "source": [
    "import pandas as pd \n",
    "#silahkan di import package lain jika diperlukan "
   ]
  },
  {
   "cell_type": "code",
   "execution_count": null,
   "id": "freelance-model",
   "metadata": {
    "tags": []
   },
   "outputs": [],
   "source": []
  },
  {
   "cell_type": "markdown",
   "id": "joint-turkey",
   "metadata": {
    "tags": []
   },
   "source": [
    "## 1. Tampilkan Informasi Statistik Seperti Mean, Median,Std, dll dari dataset diatas "
   ]
  },
  {
   "cell_type": "code",
   "execution_count": null,
   "id": "attended-stress",
   "metadata": {},
   "outputs": [],
   "source": []
  },
  {
   "cell_type": "markdown",
   "id": "documented-level",
   "metadata": {},
   "source": [
    "## 2. Apa saja tipe data yang ada dari dataframe diatas "
   ]
  },
  {
   "cell_type": "code",
   "execution_count": null,
   "id": "visible-survivor",
   "metadata": {},
   "outputs": [],
   "source": []
  },
  {
   "cell_type": "markdown",
   "id": "exterior-socket",
   "metadata": {},
   "source": [
    "## 3.  Terdapat Berapa Kolom di data diatas ? "
   ]
  },
  {
   "cell_type": "code",
   "execution_count": null,
   "id": "covered-fault",
   "metadata": {},
   "outputs": [],
   "source": []
  },
  {
   "cell_type": "markdown",
   "id": "fourth-margin",
   "metadata": {},
   "source": [
    "## 4. Kolom manakah yang memiliki keberagaman paling tinggi ? "
   ]
  },
  {
   "cell_type": "code",
   "execution_count": null,
   "id": "accessible-reservation",
   "metadata": {},
   "outputs": [],
   "source": []
  },
  {
   "cell_type": "markdown",
   "id": "continued-explosion",
   "metadata": {},
   "source": [
    "## 5. Buatlah DataFrame baru dari data diatas, dengan ketentuan ambil baris dengan nilai kolom \"CRIM\" 10 Terbesar. Tampilkan hanya Kolom \"DIS,MEDV, dan LSTAT\" saja "
   ]
  },
  {
   "cell_type": "code",
   "execution_count": null,
   "id": "genetic-sight",
   "metadata": {},
   "outputs": [],
   "source": []
  },
  {
   "cell_type": "markdown",
   "id": "pleasant-labor",
   "metadata": {},
   "source": [
    "# Latihan 2 \n",
    "Sumber data : Sales_June_2019.csv dan Sales_July_2019.csv "
   ]
  },
  {
   "cell_type": "code",
   "execution_count": 3,
   "id": "miniature-appearance",
   "metadata": {},
   "outputs": [],
   "source": [
    "sales_june = \"https://github.com/mofdac/-materi-das/blob/main/01.%20Python%20for%20DA/latihan/Sales_July_2019.csv?raw=true\"\n",
    "sales_july = \"https://github.com/mofdac/-materi-das/blob/main/01.%20Python%20for%20DA/latihan/Sales_July_2019.csv?raw=true\""
   ]
  },
  {
   "cell_type": "markdown",
   "id": "forty-election",
   "metadata": {},
   "source": [
    "## 6. Gabungkan kedua data diatas "
   ]
  },
  {
   "cell_type": "code",
   "execution_count": null,
   "id": "designing-plate",
   "metadata": {},
   "outputs": [],
   "source": []
  },
  {
   "cell_type": "markdown",
   "id": "exposed-judge",
   "metadata": {},
   "source": [
    "## 7.  Tanggal berapakah Sales Tertinggi (Nilai Jual) pada Bulan Juni dan Juli\n"
   ]
  },
  {
   "cell_type": "code",
   "execution_count": null,
   "id": "concrete-mainstream",
   "metadata": {},
   "outputs": [],
   "source": []
  },
  {
   "cell_type": "markdown",
   "id": "absent-milan",
   "metadata": {},
   "source": [
    "## 8. Tampilkan 10 produk dengan Nilai Penjualan Tertinggi Juni s.d. Juli "
   ]
  },
  {
   "cell_type": "code",
   "execution_count": null,
   "id": "daily-puzzle",
   "metadata": {},
   "outputs": [],
   "source": []
  },
  {
   "cell_type": "markdown",
   "id": "behavioral-rescue",
   "metadata": {},
   "source": [
    "## 9. Tampilkan 10 Kota Dengan Order terbanyak Juni s.d. Juli"
   ]
  },
  {
   "cell_type": "code",
   "execution_count": null,
   "id": "random-audio",
   "metadata": {},
   "outputs": [],
   "source": []
  },
  {
   "cell_type": "markdown",
   "id": "premier-cannon",
   "metadata": {},
   "source": [
    "## 10. Simpan Data yang sudah difilter pada no 8 menjadi file excel baru "
   ]
  },
  {
   "cell_type": "code",
   "execution_count": null,
   "id": "julian-premium",
   "metadata": {},
   "outputs": [],
   "source": []
  }
 ],
 "metadata": {
  "kernelspec": {
   "display_name": "Python 3 (ipykernel)",
   "language": "python",
   "name": "python3"
  },
  "language_info": {
   "codemirror_mode": {
    "name": "ipython",
    "version": 3
   },
   "file_extension": ".py",
   "mimetype": "text/x-python",
   "name": "python",
   "nbconvert_exporter": "python",
   "pygments_lexer": "ipython3",
   "version": "3.9.7"
  },
  "widgets": {
   "application/vnd.jupyter.widget-state+json": {
    "state": {},
    "version_major": 2,
    "version_minor": 0
   }
  }
 },
 "nbformat": 4,
 "nbformat_minor": 5
}
