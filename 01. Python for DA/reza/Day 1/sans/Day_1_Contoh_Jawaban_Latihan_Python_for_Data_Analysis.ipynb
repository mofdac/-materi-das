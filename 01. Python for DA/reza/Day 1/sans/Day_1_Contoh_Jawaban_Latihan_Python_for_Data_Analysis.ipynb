{
 "cells": [
  {
   "cell_type": "markdown",
   "metadata": {},
   "source": [
    "### 1. Buatlah list berisi seluruh email pegawai yang ada di string data berikut."
   ]
  },
  {
   "cell_type": "code",
   "execution_count": 2,
   "metadata": {},
   "outputs": [],
   "source": [
    "data = '''booker12;rachel@example.com;9012;Rachel;Booker\n",
    "grey07;grey@anatomy.com;2070;Laura;Grey\n",
    "johnson81;johnson@johnson.and;4081;Craig;Johnson\n",
    "jenkins46;mary@example.com;9346;Mary;Jenkins\n",
    "smith79;jamie@example.com;5079;Jamie;Smith\n",
    "looke13;looke@example.com;9012;Rachel;Looke\n",
    "york07;york@anatomy.com;2070;Laura;York\n",
    "sholeh05;sholeh@johnson.and;4081;Craig;Sholeh\n",
    "vale46;vale@example.com;9346;Mary;Vale\n",
    "tugtug79;tugtug@example.com;5079;Jamie;Tugtug'''"
   ]
  },
  {
   "cell_type": "markdown",
   "metadata": {},
   "source": [
    "Contoh jawaban:\n",
    ">['rachel@example.com', 'grey@anatomy.com', 'johnson@johnson.and', 'mary@example.com', 'jamie@example.com', 'looke@example.com', 'york@anatomy.com', 'sholeh@johnson.and', 'vale@example.com', 'tugtug@example.com']"
   ]
  },
  {
   "cell_type": "code",
   "execution_count": 5,
   "metadata": {},
   "outputs": [
    {
     "name": "stdout",
     "output_type": "stream",
     "text": [
      "['rachel@example.com', 'grey@anatomy.com', 'johnson@johnson.and', 'mary@example.com', 'jamie@example.com', 'looke@example.com', 'york@anatomy.com', 'sholeh@johnson.and', 'vale@example.com', 'tugtug@example.com']\n"
     ]
    }
   ],
   "source": [
    "# versi for-loop\n",
    "email_list = []\n",
    "\n",
    "for row in data.split('\\n'):\n",
    "    email_list.append(row.split(';')[1])\n",
    "\n",
    "print(email_list)"
   ]
  },
  {
   "cell_type": "markdown",
   "metadata": {},
   "source": [
    "Challenge Zone: apakah task di atas bisa diselesaikan dengan satu baris kode?"
   ]
  },
  {
   "cell_type": "code",
   "execution_count": 6,
   "metadata": {},
   "outputs": [
    {
     "name": "stdout",
     "output_type": "stream",
     "text": [
      "['rachel@example.com', 'grey@anatomy.com', 'johnson@johnson.and', 'mary@example.com', 'jamie@example.com', 'looke@example.com', 'york@anatomy.com', 'sholeh@johnson.and', 'vale@example.com', 'tugtug@example.com']\n"
     ]
    }
   ],
   "source": [
    "# versi list comprehension\n",
    "email_list = [row.split(';')[1] for row in data.split('\\n')]\n",
    "\n",
    "print(email_list)"
   ]
  },
  {
   "cell_type": "markdown",
   "metadata": {},
   "source": [
    "### 2. Buatlah list deck kartu yang berisi pasangan antara ```card_sleeve``` dan ```card_value```\n",
    "\n",
    "contoh output: \n",
    ">['2 of ♣', '2 of ♦', '2 of ♥', '2 of ♠', '3 of ♣', '3 of ♦', '3 of ♥', '3 of ♠', '4 of ♣', '4 of ♦', '4 of ♥', '4 of ♠', '5 of ♣', '5 of ♦', '5 of ♥', '5 of ♠', '6 of ♣', '6 of ♦', '6 of ♥', '6 of ♠', '7 of ♣', '7 of ♦', '7 of ♥', '7 of ♠', '8 of ♣', '8 of ♦', '8 of ♥', '8 of ♠', '9 of ♣', '9 of ♦', '9 of ♥', '9 of ♠', '10 of ♣', '10 of ♦', '10 of ♥', '10 of ♠', 'J of ♣', 'J of ♦', 'J of ♥', 'J of ♠', 'Q of ♣', 'Q of ♦', 'Q of ♥', 'Q of ♠', 'K of ♣', 'K of ♦', 'K of ♥', 'K of ♠', 'A of ♣', 'A of ♦', 'A of ♥', 'A of ♠']"
   ]
  },
  {
   "cell_type": "code",
   "execution_count": 8,
   "metadata": {},
   "outputs": [],
   "source": [
    "card_sleeve = ['♣','♦','♥','♠']\n",
    "card_value = ['2','3','4','5','6','7','8','9','10','J','Q','K','A']"
   ]
  },
  {
   "cell_type": "code",
   "execution_count": 9,
   "metadata": {},
   "outputs": [
    {
     "name": "stdout",
     "output_type": "stream",
     "text": [
      "['2 of ♣', '3 of ♣', '4 of ♣', '5 of ♣', '6 of ♣', '7 of ♣', '8 of ♣', '9 of ♣', '10 of ♣', 'J of ♣', 'Q of ♣', 'K of ♣', 'A of ♣', '2 of ♦', '3 of ♦', '4 of ♦', '5 of ♦', '6 of ♦', '7 of ♦', '8 of ♦', '9 of ♦', '10 of ♦', 'J of ♦', 'Q of ♦', 'K of ♦', 'A of ♦', '2 of ♥', '3 of ♥', '4 of ♥', '5 of ♥', '6 of ♥', '7 of ♥', '8 of ♥', '9 of ♥', '10 of ♥', 'J of ♥', 'Q of ♥', 'K of ♥', 'A of ♥', '2 of ♠', '3 of ♠', '4 of ♠', '5 of ♠', '6 of ♠', '7 of ♠', '8 of ♠', '9 of ♠', '10 of ♠', 'J of ♠', 'Q of ♠', 'K of ♠', 'A of ♠']\n"
     ]
    }
   ],
   "source": [
    "card_deck = []\n",
    "\n",
    "# urutan for loop dibalik boleh, tidak harus card sleeve dulu baru card value\n",
    "for sleeve in card_sleeve: # iterate over card_sleeve\n",
    "    for value in card_value: #iterate over card_value\n",
    "        card_deck.append(f\"{value} of {sleeve}\")\n",
    "\n",
    "print(card_deck)"
   ]
  },
  {
   "cell_type": "markdown",
   "metadata": {},
   "source": [
    "Challenge Zone: apakah task di atas bisa diselesaikan dengan satu baris kode?"
   ]
  },
  {
   "cell_type": "code",
   "execution_count": 10,
   "metadata": {},
   "outputs": [
    {
     "name": "stdout",
     "output_type": "stream",
     "text": [
      "['2 of ♣', '2 of ♦', '2 of ♥', '2 of ♠', '3 of ♣', '3 of ♦', '3 of ♥', '3 of ♠', '4 of ♣', '4 of ♦', '4 of ♥', '4 of ♠', '5 of ♣', '5 of ♦', '5 of ♥', '5 of ♠', '6 of ♣', '6 of ♦', '6 of ♥', '6 of ♠', '7 of ♣', '7 of ♦', '7 of ♥', '7 of ♠', '8 of ♣', '8 of ♦', '8 of ♥', '8 of ♠', '9 of ♣', '9 of ♦', '9 of ♥', '9 of ♠', '10 of ♣', '10 of ♦', '10 of ♥', '10 of ♠', 'J of ♣', 'J of ♦', 'J of ♥', 'J of ♠', 'Q of ♣', 'Q of ♦', 'Q of ♥', 'Q of ♠', 'K of ♣', 'K of ♦', 'K of ♥', 'K of ♠', 'A of ♣', 'A of ♦', 'A of ♥', 'A of ♠']\n"
     ]
    }
   ],
   "source": [
    "card_deck = [f\"{value} of {sleeve}\" for value in card_value for sleeve in card_sleeve]\n",
    "\n",
    "print(card_deck)"
   ]
  },
  {
   "cell_type": "markdown",
   "metadata": {},
   "source": [
    "### 3. Buatlah function untuk mengecek apakah pegawai dengan nama tertentu ada di ```employee_data```, \n",
    "\n",
    "jika ada print dengan format:\n",
    "\n",
    ">Nama: abc def<br>\n",
    "Email: abc@abc.cba"
   ]
  },
  {
   "cell_type": "code",
   "execution_count": 12,
   "metadata": {},
   "outputs": [
    {
     "name": "stdout",
     "output_type": "stream",
     "text": [
      "Nama: rachel looke\n",
      "Email: looke@example.com\n"
     ]
    }
   ],
   "source": [
    "employee_data = '''booker12;rachel@example.com;9012;rachel booker\n",
    "grey07;grey@anatomy.com;2070;laura grey\n",
    "johnson81;johnson@johnson.and;4081;craig johnson\n",
    "jenkins46;mary@example.com;9346;mary jenkins\n",
    "smith79;jamie@example.com;5079;jamie smith\n",
    "looke13;looke@example.com;9012;rachel looke\n",
    "york07;york@anatomy.com;2070;laura york\n",
    "sholeh05;sholeh@johnson.and;4081;craig sholeh\n",
    "vale46;vale@example.com;9346;mary vale\n",
    "tugtug79;tugtug@example.com;5079;jamie tugtug'''\n",
    "\n",
    "def employee_is_exist(searched_name):\n",
    "    # iterate over employee_data, that has been split by using '\\n' delimiter\n",
    "    for row in employee_data.split('\\n'):  \n",
    "        employee_name = row.split(';')[-1] # get the last column of every row\n",
    "        if searched_name in employee_name:\n",
    "            print(f\"Nama: {employee_name}\")\n",
    "            print(f\"Email: {row.split(';')[1]}\")\n",
    "\n",
    "employee_is_exist('looke')"
   ]
  },
  {
   "cell_type": "code",
   "execution_count": 13,
   "metadata": {},
   "outputs": [
    {
     "name": "stdout",
     "output_type": "stream",
     "text": [
      "Nama: jamie smith\n",
      "Email: jamie@example.com\n"
     ]
    }
   ],
   "source": [
    "employee_is_exist('smith')"
   ]
  },
  {
   "cell_type": "code",
   "execution_count": 14,
   "metadata": {},
   "outputs": [
    {
     "name": "stdout",
     "output_type": "stream",
     "text": [
      "Nama: jamie tugtug\n",
      "Email: tugtug@example.com\n"
     ]
    }
   ],
   "source": [
    "employee_is_exist('tugtug')"
   ]
  },
  {
   "cell_type": "code",
   "execution_count": 15,
   "metadata": {},
   "outputs": [
    {
     "name": "stdout",
     "output_type": "stream",
     "text": [
      "Nama: jamie smith\n",
      "Email: jamie@example.com\n",
      "Nama: jamie tugtug\n",
      "Email: tugtug@example.com\n"
     ]
    }
   ],
   "source": [
    "employee_is_exist('jamie')"
   ]
  },
  {
   "cell_type": "markdown",
   "metadata": {},
   "source": [
    "### 4. Di dalam variabel ```student_score_data``` terdapat daftar nilai setiap mata pelajaran dari setiap siswa di kelas A. Siapa saja siswa yang ada di kelas A? Dan apa saja mata pelajaran yang mereka pelajari?\n",
    "\n",
    "hint: gunakan tipe data kolektif yang elemennya tidak bisa duplikat"
   ]
  },
  {
   "cell_type": "code",
   "execution_count": 17,
   "metadata": {},
   "outputs": [],
   "source": [
    "student_score_data = '''Tono,Matematika,100\n",
    "Tuti,Matematika,34\n",
    "Rosi,Matematika,78\n",
    "Aldo,Matematika,86\n",
    "Tono,English,73\n",
    "Tuti,English,99\n",
    "Rosi,English,63\n",
    "Aldo,English,82\n",
    "Tono,Biologi,67\n",
    "Tuti,Biologi,97\n",
    "Rosi,Biologi,72\n",
    "Aldo,Biologi,81\n",
    "Tono,Fisika,91\n",
    "Tuti,Fisika,76\n",
    "Rosi,Fisika,77\n",
    "Aldo,Fisika,83\n",
    "Tono,Olahraga,72\n",
    "Tuti,Olahraga,74\n",
    "Rosi,Olahraga,97\n",
    "Aldo,Olahraga,91'''"
   ]
  },
  {
   "cell_type": "markdown",
   "metadata": {},
   "source": [
    "Jawaban untuk nama siswa"
   ]
  },
  {
   "cell_type": "code",
   "execution_count": 19,
   "metadata": {},
   "outputs": [
    {
     "name": "stdout",
     "output_type": "stream",
     "text": [
      "{'Aldo', 'Rosi', 'Tuti', 'Tono'}\n"
     ]
    }
   ],
   "source": [
    "# Nama siswa\n",
    "\n",
    "semua_nama_siswa = []\n",
    "\n",
    "for row in student_score_data.split(\"\\n\"):\n",
    "    nama = row.split(\",\")[0] # nama siswa adalah kolom ke-0 di tiap baris\n",
    "    semua_nama_siswa.append(nama)\n",
    "\n",
    "# karena nama siswa tidak unik, ada duplikasi, \n",
    "# maka kita perlu mengubahnya ke bentuk set, agar duplikasinya tereliminasi\n",
    "\n",
    "nama_siswa = set(semua_nama_siswa)\n",
    "print(nama_siswa)"
   ]
  },
  {
   "cell_type": "code",
   "execution_count": 20,
   "metadata": {},
   "outputs": [
    {
     "name": "stdout",
     "output_type": "stream",
     "text": [
      "{'Aldo', 'Rosi', 'Tuti', 'Tono'}\n"
     ]
    }
   ],
   "source": [
    "# Nama siswa menggunakan list comprehension\n",
    "nama_siswa = set([row.split(\",\")[0] for row in student_score_data.split(\"\\n\")])\n",
    "print(nama_siswa)"
   ]
  },
  {
   "cell_type": "markdown",
   "metadata": {},
   "source": [
    "Jawaban untuk mata pelajaran"
   ]
  },
  {
   "cell_type": "code",
   "execution_count": 21,
   "metadata": {},
   "outputs": [
    {
     "name": "stdout",
     "output_type": "stream",
     "text": [
      "{'Olahraga', 'English', 'Biologi', 'Matematika', 'Fisika'}\n"
     ]
    }
   ],
   "source": [
    "# mata pelajaran\n",
    "\n",
    "semua_mata_pelajaran = []\n",
    "\n",
    "for row in student_score_data.split(\"\\n\"):\n",
    "    nama_mapel = row.split(\",\")[1] # nama mapel adalah kolom ke-1 di tiap baris\n",
    "    semua_mata_pelajaran.append(nama_mapel)\n",
    "\n",
    "# karena nama mapel tidak unik, ada duplikasi, \n",
    "# maka kita perlu mengubahnya ke bentuk set, agar duplikasinya tereliminasi\n",
    "\n",
    "mata_pelajaran = set(semua_mata_pelajaran)\n",
    "print(mata_pelajaran)"
   ]
  },
  {
   "cell_type": "code",
   "execution_count": 22,
   "metadata": {},
   "outputs": [
    {
     "name": "stdout",
     "output_type": "stream",
     "text": [
      "{'Olahraga', 'English', 'Biologi', 'Matematika', 'Fisika'}\n"
     ]
    }
   ],
   "source": [
    "# Nama mapel menggunakan list comprehension\n",
    "mata_pelajaran = set([row.split(\",\")[1] for row in student_score_data.split(\"\\n\")])\n",
    "print(mata_pelajaran)"
   ]
  },
  {
   "cell_type": "markdown",
   "metadata": {},
   "source": [
    "## 5. Buat dictionary dengan key nama siswa, dan value berisi rata-rata nilai siswa tersebut"
   ]
  },
  {
   "cell_type": "code",
   "execution_count": 6,
   "metadata": {},
   "outputs": [
    {
     "data": {
      "text/plain": [
       "{'Rosi': 77.4, 'Aldo': 84.6, 'Tono': 80.6, 'Tuti': 76.0}"
      ]
     },
     "execution_count": 6,
     "metadata": {},
     "output_type": "execute_result"
    }
   ],
   "source": [
    "# membuat set berisi nama siswa\n",
    "student = set([student_score.split(',')[0] for student_score in student_score_data.split('\\n')])\n",
    "\n",
    "score_dict = {} # buat dictionary kosong untuk skor\n",
    "\n",
    "for s in student: # iterate over student name\n",
    "    student_score_list = [] # Buat list kosong untuk menampung seluruh nilai dari siswa\n",
    "    for score_data in student_score_data.split('\\n'): # Iterate over student_score_data that is splitted\n",
    "        if score_data.split(',')[0]==s: # Jika nama siswa di baris tersebut sama dengan nama student yang diiterasi\n",
    "            student_score_list.append(int(score_data.split(',')[-1])) # Tambahkan ke dalam list student_socre_list\n",
    "    score_dict[s] = sum(student_score_list)/len(student_score_list) # Mencari rata-rata nilai (sum nilai/panjang list)\n",
    "\n",
    "score_dict"
   ]
  },
  {
   "cell_type": "markdown",
   "metadata": {},
   "source": [
    "### 6. Buat function untuk melakukan enkripsi password dengan langkah-langkah sebagai berikut:\n",
    "\n",
    "1. Dapatkan nomor ASCII code dari setiap huruf dengan menggunakan fungsi ```ord()```.\n",
    "2. Hitung sisa pembagian (modulo) dari nomor ASCII code dari langkah a dengan panjang variabel str_1.\n",
    "3. Gunakan sisa pembagian (modulo) dari langkah b sebagai index untuk mengambil karakter hasil enkripsi dari  str_1.\n",
    "\n",
    "Untuk mengetes fungsi yang Anda buat: \n",
    "* apabila passwordnya adalah ```password```, hasil enkripsinya menjadi ```YJ226X1M```\n",
    "* apabila passwordnya adalah ```abcd1234```, hasil enkripsinya menjadi ```JKLMXYZ1```"
   ]
  },
  {
   "cell_type": "code",
   "execution_count": 28,
   "metadata": {},
   "outputs": [],
   "source": [
    "def password_encryptor(password):\n",
    "    str_1 = \"abcdefghijklmnopqrstuvwxyzABCDEFGHIJKLMNOPQRSTUVWXYZ1234567890\"\n",
    "    \n",
    "    encrypted_password = '' # String kosong untuk menampung password hasil enkripsi\n",
    "\n",
    "    for i in password:\n",
    "        ascii_code = ord(i) # Step 1\n",
    "        mod = ascii_code%len(str_1) # Step 2\n",
    "        encryption = str_1[mod] # Step 3\n",
    "        encrypted_password+=encryption\n",
    "\n",
    "    return encrypted_password"
   ]
  },
  {
   "cell_type": "code",
   "execution_count": 29,
   "metadata": {},
   "outputs": [
    {
     "data": {
      "text/plain": [
       "'YJ226X1M'"
      ]
     },
     "execution_count": 29,
     "metadata": {},
     "output_type": "execute_result"
    }
   ],
   "source": [
    "password_encryptor('password')"
   ]
  },
  {
   "cell_type": "code",
   "execution_count": 30,
   "metadata": {},
   "outputs": [
    {
     "data": {
      "text/plain": [
       "'JKLMXYZ1'"
      ]
     },
     "execution_count": 30,
     "metadata": {},
     "output_type": "execute_result"
    }
   ],
   "source": [
    "password_encryptor('abcd1234')"
   ]
  },
  {
   "cell_type": "markdown",
   "metadata": {},
   "source": [
    "### 7. Berikut ini adalah pesan yang dituliskan dalam kode di variabel ```myst_nums```. Untungnya pemilik pesan telah menyediakan 3 dictionary ```dict1```, ```dict2```, dan ```dict3``` untuk menerjemahkannya. Bisakah Anda menerjemahkan pesan tersebut?"
   ]
  },
  {
   "cell_type": "code",
   "execution_count": 18,
   "metadata": {},
   "outputs": [],
   "source": [
    "# Run this code cell to create the variables\n",
    "# mysterious numbers\n",
    "myst_nums = \"2658 8503 2582 3035 9951 5535 1763 5552 2276 2079 4906 2658 293 2582 3407 786 6164 3279 3825 595 4975 6152 1974 7262 7262 2070 1861 6055 9735 1398 183 7262 7708 3284 4175 2908 8000 9364 4979 2070 1861 6055 9735 8590 4691 4979 8618 4161 9302 4979 7840 7262 3589 3589 9817 5372 7278 3522 2890 7206 8258 2037 8445 1076 7853 5400 8159 4505 8364 8258 1258 2738 4527 8258 2635 6049 5576 6798 9432 9290 4362 8258 6142 978 9198\"\n",
    "\n",
    "# first look up dictionary\n",
    "dict1 = {6152: 'then', 9302: 'till', 9735: 'much', 1398: 'a', 8618: 'was', 3284: 'out', 7262: 'you', 1974: \"there's\", 4979: 'i', 4161: 'lost', 9364: 'crowds', 1861: 'feel', 7840: 'found', 183: 'stranger', 8590: 'in', 8000: 'the', 6055: 'that', 2070: \"don't\", 4691: 'danger', 4175: 'from', 7708: 'stand', 2908: 'all'}\n",
    "# second look up dictionary\n",
    "dict2 = {3279: 'when', 595: 'none', 2276: 'no', 1763: 'streets', 3407: 'tryna', 3825: \"there's\", 3035: 'fighting', 4906: 'ground', 293: 'just', 5552: 'with', 2582: 'strangers', 2658: \"we're\", 9951: 'in', 5535: 'the', 6164: 'release', 2079: 'common', 4975: 'around', 8503: 'all', 786: 'find'}\n",
    "# third look up dictionary\n",
    "dict3 = {9432: 'me', 3589: 'baby,', 5576: 'baby', 4505: 'not', 6142: 'can', 2738: 'is', 5372: 'you', 9817: \"won't\", 8258: 'i', 8445: 'really', 7853: 'stay', 6798: 'hold', 9198: 'breathe', 7278: 'please', 5400: 'if', 7206: 'me?', 6049: 'you,', 4362: 'so', 3522: 'come', 1258: 'know', 2635: 'need', 8159: \"you're\", 978: 'finally', 1076: 'wanna', 4527: 'that', 2890: 'rescue', 2037: \"don't\", 9290: 'close', 8364: 'all'}"
   ]
  },
  {
   "cell_type": "markdown",
   "metadata": {},
   "source": [
    "Contoh jawaban"
   ]
  },
  {
   "cell_type": "code",
   "execution_count": null,
   "metadata": {},
   "outputs": [
    {
     "name": "stdout",
     "output_type": "stream",
     "text": [
      "we're all strangers fighting in the streets with no common ground we're just strangers tryna find release when there's none around then there's you you don't feel that much a stranger you stand out from all the crowds i don't feel that much in danger i was lost till i found you baby, baby, won't you please come rescue me? i don't really wanna stay if you're not all i know is that i need you, baby hold me close so i can finally breathe\n"
     ]
    }
   ],
   "source": [
    "codes = [] # list kosong untuk number \n",
    "\n",
    "for number in myst_nums.split(' '):\n",
    "    codes.append(int(number)) # number diubah menjadi integer dulu sebelum dimasukkan ke dalam list\n",
    "\n",
    "terjemah_kode = [] # list kosong untuk menampung hasil terjemahan kode\n",
    "\n",
    "for number in codes: # Iterate over code list\n",
    "    if number in dict1: # Cek apakah angka tersebut merupakan key pada dict1\n",
    "        kata = dict1[number] # Mengambil kata dari dictionary 1\n",
    "        terjemah_kode.append(kata)\n",
    "\n",
    "    elif number in dict2: # Cek apakah angka tersebut merupakan key pada dict2\n",
    "        kata = dict2[number] # Mengambil kata dari dictionary 2\n",
    "        terjemah_kode.append(kata)\n",
    "    \n",
    "    else: # Jika tidak ada di dict1 atau dict2 sudah pasti ada di dict3\n",
    "        kata = dict3[number]  # Mengambil kata dari dictionary 3\n",
    "        terjemah_kode.append(kata)\n",
    "\n",
    "print(\" \".join(terjemah_kode))"
   ]
  },
  {
   "cell_type": "markdown",
   "metadata": {},
   "source": [
    "Jawaban menggunakan list comprehension"
   ]
  },
  {
   "cell_type": "code",
   "execution_count": null,
   "metadata": {},
   "outputs": [
    {
     "name": "stdout",
     "output_type": "stream",
     "text": [
      "we're all strangers fighting in the streets with no common ground we're just strangers tryna find release when there's none around then there's you you don't feel that much a stranger you stand out from all the crowds i don't feel that much in danger i was lost till i found you baby, baby, won't you please come rescue me? i don't really wanna stay if you're not all i know is that i need you, baby hold me close so i can finally breathe\n"
     ]
    }
   ],
   "source": [
    "codes = [int(number) for number in myst_nums.split(' ')]\n",
    "\n",
    "terjemah_kode = [dict1[i] if i in dict1 else dict2[i] if i in dict2 else dict3[i] for i in codes]\n",
    "\n",
    "print(\" \".join(terjemah_kode))"
   ]
  }
 ],
 "metadata": {
  "kernelspec": {
   "display_name": "Python 3",
   "language": "python",
   "name": "python3"
  },
  "language_info": {
   "codemirror_mode": {
    "name": "ipython",
    "version": 3
   },
   "file_extension": ".py",
   "mimetype": "text/x-python",
   "name": "python",
   "nbconvert_exporter": "python",
   "pygments_lexer": "ipython3",
   "version": "3.9.18"
  }
 },
 "nbformat": 4,
 "nbformat_minor": 2
}
