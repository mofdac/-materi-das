{
 "cells": [
  {
   "cell_type": "markdown",
   "id": "b1ee8836-9b46-4d9f-bc7b-1242ec79443a",
   "metadata": {
    "id": "b1ee8836-9b46-4d9f-bc7b-1242ec79443a",
    "jp-MarkdownHeadingCollapsed": true,
    "slideshow": {
     "slide_type": "slide"
    },
    "tags": []
   },
   "source": [
    "# **Python for Data Analytics**"
   ]
  },
  {
   "cell_type": "markdown",
   "id": "eS7RDMHQu5-w",
   "metadata": {
    "id": "eS7RDMHQu5-w",
    "slideshow": {
     "slide_type": "slide"
    },
    "tags": []
   },
   "source": [
    "# **Basic Python**"
   ]
  },
  {
   "cell_type": "markdown",
   "id": "abb28ab4-a5e6-47ac-a687-cd5b0af7b5f7",
   "metadata": {
    "id": "abb28ab4-a5e6-47ac-a687-cd5b0af7b5f7",
    "slideshow": {
     "slide_type": "slide"
    }
   },
   "source": [
    "<img src=\"https://raw.githubusercontent.com/mihoku/repository-random/master/basic_python_building_blocks.png\" width=\"700\">\n",
    "\n",
    "Agenda (Hari Pertama) :\n",
    "1. ```Sintaksis``` dan ```Variabel```.\n",
    "2. ```Tipe data``` (atomic and collective).\n",
    "3. ```Indexing dan slicing```.\n",
    "4. ```Input & Output```\n",
    "5. ```Control Structures```.\n",
    "6. ```Functions```."
   ]
  },
  {
   "cell_type": "markdown",
   "id": "57e64917-5e2f-4d0f-9e2b-ddc9ca178899",
   "metadata": {
    "slideshow": {
     "slide_type": "slide"
    }
   },
   "source": [
    "## Mari kita mulai"
   ]
  },
  {
   "cell_type": "code",
   "execution_count": 5,
   "id": "4bbf1feb-441e-4107-8999-5918cdb76fac",
   "metadata": {
    "ExecuteTime": {
     "end_time": "2023-08-20T21:55:51.359803Z",
     "start_time": "2023-08-20T21:55:51.296348Z"
    },
    "colab": {
     "base_uri": "https://localhost:8080/",
     "height": 134
    },
    "id": "4bbf1feb-441e-4107-8999-5918cdb76fac",
    "outputId": "612dd293-8bd1-45a3-ee6d-58656b111aab",
    "slideshow": {
     "slide_type": "slide"
    },
    "tags": []
   },
   "outputs": [
    {
     "name": "stdout",
     "output_type": "stream",
     "text": [
      "Hello World!\n"
     ]
    }
   ],
   "source": [
    "\n",
    "print('Hello World!')\n"
   ]
  },
  {
   "cell_type": "markdown",
   "id": "3f0ff1db-df75-41ed-b2a1-09e4294a959f",
   "metadata": {
    "slideshow": {
     "slide_type": "slide"
    }
   },
   "source": [
    "``` print('Hello World!') ``` <br>\n",
    "Program pertama kita terdiri dari:\n",
    " - kata ``` print ```\n",
    " - kurang buka\n",
    " - kutip\n",
    " - teks\n",
    " - kutip\n",
    " - kurung tutup"
   ]
  },
  {
   "cell_type": "code",
   "execution_count": 6,
   "id": "53b53a1a-2d16-4bd7-9343-235f48eea4ae",
   "metadata": {
    "ExecuteTime": {
     "end_time": "2023-08-20T21:57:40.467096Z",
     "start_time": "2023-08-20T21:57:40.444851Z"
    },
    "slideshow": {
     "slide_type": "subslide"
    },
    "tags": []
   },
   "outputs": [
    {
     "ename": "SyntaxError",
     "evalue": "unexpected EOF while parsing (628126063.py, line 1)",
     "output_type": "error",
     "traceback": [
      "\u001b[1;36m  Input \u001b[1;32mIn [6]\u001b[1;36m\u001b[0m\n\u001b[1;33m    print('Hello World!'\u001b[0m\n\u001b[1;37m                        ^\u001b[0m\n\u001b[1;31mSyntaxError\u001b[0m\u001b[1;31m:\u001b[0m unexpected EOF while parsing\n"
     ]
    }
   ],
   "source": [
    "print('Hello World!'"
   ]
  },
  {
   "cell_type": "code",
   "execution_count": 7,
   "id": "eaa5affa-253c-4a06-b603-3775115d137e",
   "metadata": {
    "ExecuteTime": {
     "end_time": "2023-08-20T21:57:41.830519Z",
     "start_time": "2023-08-20T21:57:41.320590Z"
    },
    "slideshow": {
     "slide_type": "subslide"
    },
    "tags": []
   },
   "outputs": [
    {
     "ename": "NameError",
     "evalue": "name 'prin' is not defined",
     "output_type": "error",
     "traceback": [
      "\u001b[1;31m---------------------------------------------------------------------------\u001b[0m",
      "\u001b[1;31mNameError\u001b[0m                                 Traceback (most recent call last)",
      "Input \u001b[1;32mIn [7]\u001b[0m, in \u001b[0;36m<cell line: 1>\u001b[1;34m()\u001b[0m\n\u001b[1;32m----> 1\u001b[0m \u001b[43mprin\u001b[49m(\u001b[38;5;124m\"\u001b[39m\u001b[38;5;124mHello World!\u001b[39m\u001b[38;5;124m\"\u001b[39m)\n",
      "\u001b[1;31mNameError\u001b[0m: name 'prin' is not defined"
     ]
    }
   ],
   "source": [
    "prin(\"Hello World!\")"
   ]
  },
  {
   "cell_type": "code",
   "execution_count": 8,
   "id": "4f1d0ca7-f144-4a51-97ad-4a560cfd9f46",
   "metadata": {
    "ExecuteTime": {
     "end_time": "2023-08-20T21:57:43.265326Z",
     "start_time": "2023-08-20T21:57:43.242403Z"
    },
    "slideshow": {
     "slide_type": "subslide"
    },
    "tags": []
   },
   "outputs": [
    {
     "ename": "NameError",
     "evalue": "name 'meonk' is not defined",
     "output_type": "error",
     "traceback": [
      "\u001b[1;31m---------------------------------------------------------------------------\u001b[0m",
      "\u001b[1;31mNameError\u001b[0m                                 Traceback (most recent call last)",
      "Input \u001b[1;32mIn [8]\u001b[0m, in \u001b[0;36m<cell line: 1>\u001b[1;34m()\u001b[0m\n\u001b[1;32m----> 1\u001b[0m \u001b[43mmeonk\u001b[49m(\u001b[38;5;124m\"\u001b[39m\u001b[38;5;124mkucing\u001b[39m\u001b[38;5;124m\"\u001b[39m)\n",
      "\u001b[1;31mNameError\u001b[0m: name 'meonk' is not defined"
     ]
    }
   ],
   "source": [
    "meonk(\"kucing\")"
   ]
  },
  {
   "cell_type": "code",
   "execution_count": 9,
   "id": "27dbe400-5a25-4380-96f2-5ae45d871bca",
   "metadata": {
    "ExecuteTime": {
     "end_time": "2023-08-20T21:57:57.486414Z",
     "start_time": "2023-08-20T21:57:57.471607Z"
    },
    "slideshow": {
     "slide_type": "subslide"
    },
    "tags": []
   },
   "outputs": [
    {
     "name": "stdout",
     "output_type": "stream",
     "text": [
      "\n"
     ]
    }
   ],
   "source": [
    "print()"
   ]
  },
  {
   "cell_type": "code",
   "execution_count": 1,
   "id": "885a952d-ba13-45f2-a0d7-202ba92f8c36",
   "metadata": {
    "ExecuteTime": {
     "end_time": "2023-08-20T21:57:58.066236Z",
     "start_time": "2023-08-20T21:57:58.051285Z"
    },
    "slideshow": {
     "slide_type": "subslide"
    },
    "tags": []
   },
   "outputs": [
    {
     "name": "stdout",
     "output_type": "stream",
     "text": [
      "\n"
     ]
    }
   ],
   "source": [
    "# tampilkan ke layar nama Anda.\n",
    "print()"
   ]
  },
  {
   "cell_type": "markdown",
   "id": "436deccd-cc7b-4ba3-be9b-507f46179554",
   "metadata": {
    "slideshow": {
     "slide_type": "subslide"
    }
   },
   "source": [
    "Pesan error dalam warna **merah** terdiri dari:\n",
    "- Traceback, lokasi file yang error\n",
    "- Lokasi error di program kita ditunjukkan dengan tanda ```---->```\n",
    "- Konten errornya\n",
    "- Nama pesan errornya dan penjelasannya"
   ]
  },
  {
   "cell_type": "markdown",
   "id": "a56a2f5b-df9b-40d2-8545-0850834a556f",
   "metadata": {
    "id": "a56a2f5b-df9b-40d2-8545-0850834a556f",
    "slideshow": {
     "slide_type": "slide"
    },
    "tags": []
   },
   "source": [
    "## 1. Sintaksis dasar dan Variabel\n",
    "\n",
    "> Sintaksis dalam python bertujuan untuk memastikan kode yang dibuat mudah untuk dibaca dan dipahami. Artinya ada standar penulisan yang digunakan, dalam hal ini [PEP 8 - Style Guide for Python Code](https://peps.python.org/pep-0008/#code-lay-out).\n",
    "\n",
    "Beberapa hal dasar yang perlu dipahami:\n",
    "1. Penulisan komentar.\n",
    "2. Indentasi.\n",
    "3. Penggabungan code.\n",
    "3. Penamaan variable."
   ]
  },
  {
   "cell_type": "code",
   "execution_count": 19,
   "id": "d2f0b17a-6ed5-4771-b4dd-4b08b5e38efa",
   "metadata": {
    "ExecuteTime": {
     "end_time": "2023-08-20T22:15:05.017410Z",
     "start_time": "2023-08-20T22:15:04.999818Z"
    },
    "colab": {
     "base_uri": "https://localhost:8080/"
    },
    "execution": {
     "iopub.execute_input": "2023-05-29T06:39:13.397531Z",
     "iopub.status.busy": "2023-05-29T06:39:13.396534Z",
     "iopub.status.idle": "2023-05-29T06:39:13.420470Z",
     "shell.execute_reply": "2023-05-29T06:39:13.418473Z",
     "shell.execute_reply.started": "2023-05-29T06:39:13.397531Z"
    },
    "id": "d2f0b17a-6ed5-4771-b4dd-4b08b5e38efa",
    "outputId": "ccb5009f-b2c8-42d9-82f7-66c740444e48",
    "slideshow": {
     "slide_type": "subslide"
    },
    "tags": []
   },
   "outputs": [
    {
     "name": "stdout",
     "output_type": "stream",
     "text": [
      "Sama\n"
     ]
    }
   ],
   "source": [
    "#1. Penulisan komentar -> block code yang tidak di eksekusi\n",
    "#2. Indentasi\n",
    "# komentar\n",
    "# membuat variable bernama x        # > ini merupakan contoh dari komentar\n",
    "x = 2\n",
    "\n",
    "\"\"\"indentasi\n",
    "membuat if else statement\n",
    "jika value dalam x tidak sama dengan dua\n",
    "maka print 'Tidak Sama'\n",
    "jika sama\n",
    "#maka print 'Sama'\n",
    "\"\"\"\n",
    "if x == 2:\n",
    "    print(\"Sama\")             # > ini merupakan contoh dari indentansi, gunakan 4 spasi (bukan tabs) untuk indentasi (rekomendasi)\n",
    "else:\n",
    "    print(\" Tidak Sama\")"
   ]
  },
  {
   "cell_type": "code",
   "execution_count": 17,
   "id": "ef94c8ca-bf53-4fff-83ec-3191632796f8",
   "metadata": {
    "ExecuteTime": {
     "end_time": "2023-08-20T22:13:47.583900Z",
     "start_time": "2023-08-20T22:13:47.565457Z"
    },
    "id": "ef94c8ca-bf53-4fff-83ec-3191632796f8",
    "outputId": "933604ec-23eb-4b6f-d1c6-1cb37a7bb878",
    "slideshow": {
     "slide_type": "subslide"
    },
    "tags": []
   },
   "outputs": [
    {
     "name": "stdout",
     "output_type": "stream",
     "text": [
      "3\n"
     ]
    }
   ],
   "source": [
    "# 3. Penggabungan code\n",
    "\n",
    "'''pertama variable bernama y\n",
    "kemudian print variable y\n",
    "digabungkan menggunakan semicolon (;)'''\n",
    "\n",
    "y = 3; print(y)"
   ]
  },
  {
   "cell_type": "code",
   "execution_count": null,
   "id": "d5ba2adf-31a2-468f-996f-e8f2661b60ec",
   "metadata": {
    "id": "d5ba2adf-31a2-468f-996f-e8f2661b60ec",
    "slideshow": {
     "slide_type": "subslide"
    },
    "tags": []
   },
   "outputs": [],
   "source": [
    "# 4. Penamaan variable\n",
    "# bisa menggunakan kombinasi uppercase dan lowercase\n",
    "# tidak bisa dimulai dengan angka\n",
    "# antar kata bisa dihubungkan dengan underscore (_)\n",
    "nama_lengkap = 'ini Budi'  # kombinasi lowercase dengan underscore (snake case)\n",
    "NamaLengkap  = 'Ini Budi'  # kombinasi uppercase dan lowercase (camel case)\n",
    "1_nama = 'ini Budi'"
   ]
  },
  {
   "cell_type": "markdown",
   "id": "a8f7837a",
   "metadata": {},
   "source": [
    "### Variable\n",
    "\n",
    "> [Lokasi memori yang dicadangkan untuk menyimpan values](https://www.w3schools.com/python/python_variables.asp).\n",
    "\n",
    "Variabel adalah nama yang dilampirkan ke objek tertentu. Untuk membuat variabel dalam python cukup menetapkan nilai dan kemudian mulai menggunakannya. Penugasan dilakukan dengan satu tanda sama dengan (=):\n",
    "\n",
    "Beberapa hal dasar yang perlu dipahami:\n",
    "1. Cara membuat variable.\n",
    "2. Overwrite variable dan interaksinya.\n",
    "3. Multiple assignment."
   ]
  },
  {
   "cell_type": "code",
   "execution_count": null,
   "id": "80a9aabe",
   "metadata": {},
   "outputs": [],
   "source": [
    "# membuat variable A\n",
    "A = 2\n",
    "# dibaca A diberi nilai 2"
   ]
  },
  {
   "cell_type": "code",
   "execution_count": null,
   "id": "9702df49",
   "metadata": {},
   "outputs": [
    {
     "data": {
      "text/plain": [
       "2"
      ]
     },
     "metadata": {},
     "output_type": "display_data"
    }
   ],
   "source": [
    "# untuk melakukan fungsi print, value apa saja yang tersimpan di dalamnya\n",
    "# bisa menggunakan print(A)\n",
    "# atau langsung ketik A\n",
    "A"
   ]
  },
  {
   "cell_type": "code",
   "execution_count": null,
   "id": "d21f1c06",
   "metadata": {},
   "outputs": [
    {
     "name": "stdout",
     "output_type": "stream",
     "text": [
      "2\n"
     ]
    }
   ],
   "source": [
    "print(A)"
   ]
  },
  {
   "cell_type": "code",
   "execution_count": null,
   "id": "c27c0882",
   "metadata": {},
   "outputs": [
    {
     "data": {
      "text/plain": [
       "'tugas baru'"
      ]
     },
     "metadata": {},
     "output_type": "display_data"
    }
   ],
   "source": [
    "# print tanpa command print hanya dapat dilakukan jika dipanggil pada baris terakhir di cell Jupyter Notebook\n",
    "A\n",
    "B = 'tugas baru'\n",
    "B"
   ]
  },
  {
   "cell_type": "code",
   "execution_count": null,
   "id": "b287b7f9",
   "metadata": {},
   "outputs": [
    {
     "name": "stdout",
     "output_type": "stream",
     "text": [
      "Python for Data Analytics\n"
     ]
    }
   ],
   "source": [
    "# cek apakah jika kita melakukan overwrite atas A\n",
    "# value apa yang tersimpan di dalamnya\n",
    "# perhatikan interaksinya\n",
    "A = 'Python for Data Analytics'\n",
    "print(A)"
   ]
  },
  {
   "cell_type": "code",
   "execution_count": null,
   "id": "a786f17f",
   "metadata": {},
   "outputs": [
    {
     "name": "stdout",
     "output_type": "stream",
     "text": [
      "1\n",
      "2\n"
     ]
    }
   ],
   "source": [
    "# multiple assignment\n",
    "# biasanya akan ditulis beruntun\n",
    "A = 1\n",
    "B = 2\n",
    "print(A)\n",
    "print(B)\n",
    "\n",
    "# kita akan melakukan overwrite kembali\n",
    "# perhatikan cara penulisan multiple assignment yang lain\n",
    "# A, B = 3, 5\n",
    "# print(A)\n",
    "# print(B)"
   ]
  },
  {
   "cell_type": "code",
   "execution_count": null,
   "id": "613da9dd",
   "metadata": {},
   "outputs": [
    {
     "ename": "NameError",
     "evalue": "name 'XX' is not defined",
     "output_type": "error",
     "traceback": [
      "\u001b[1;31m---------------------------------------------------------------------------\u001b[0m\n",
      "\u001b[1;31mNameError\u001b[0m                                 Traceback (most recent call last)\n",
      "Input \u001b[1;32mIn [31]\u001b[0m, in \u001b[0;36m<cell line: 2>\u001b[1;34m()\u001b[0m\n",
      "\u001b[0;32m      1\u001b[0m \u001b[38;5;66;03m# Catatan: Assignment tanpa value akan menyebabkan error\u001b[39;00m\n",
      "\u001b[1;32m----> 2\u001b[0m \u001b[43mXX\u001b[49m\n",
      "\n",
      "\u001b[1;31mNameError\u001b[0m: name 'XX' is not defined"
     ]
    }
   ],
   "source": [
    "# Catatan: Assignment tanpa value akan menyebabkan error\n",
    "XX"
   ]
  },
  {
   "cell_type": "markdown",
   "id": "a43b5bcf",
   "metadata": {},
   "source": [
    "> Secara resmi, nama variabel dalam Python dapat memiliki panjang berapa pun dan dapat terdiri dari huruf besar dan huruf kecil (A-Z, a-z), angka (0-9), dan karakter garis bawah (_). \n",
    "\n",
    "> Batasan tambahan adalah bahwa nama variabel hanya dapat **dimulai** dengan huruf atau garis bawah dan disarankan untuk tidak menggunakan **nama-nama** dari fungsi atau variable bawaan python basic (print, str, type, etc)"
   ]
  },
  {
   "cell_type": "code",
   "execution_count": null,
   "id": "fcdb3a47",
   "metadata": {},
   "outputs": [
    {
     "name": "stdout",
     "output_type": "stream",
     "text": [
      "Python for Data Analytics\n"
     ]
    }
   ],
   "source": [
    "_judul = 'Python for Data Analytics'\n",
    "print(_judul)"
   ]
  },
  {
   "cell_type": "code",
   "execution_count": null,
   "id": "1ae33b17",
   "metadata": {},
   "outputs": [
    {
     "ename": "SyntaxError",
     "evalue": "invalid syntax (3484074762.py, line 1)",
     "output_type": "error",
     "traceback": [
      "\u001b[1;36m  Input \u001b[1;32mIn [33]\u001b[1;36m\u001b[0m\n",
      "\u001b[1;33m    2judul = 'Python for Data Analytics'\u001b[0m\n",
      "\u001b[1;37m      ^\u001b[0m\n",
      "\u001b[1;31mSyntaxError\u001b[0m\u001b[1;31m:\u001b[0m invalid syntax\n"
     ]
    }
   ],
   "source": [
    "2judul = 'Python for Data Analytics'\n",
    "print(2judul)"
   ]
  },
  {
   "cell_type": "code",
   "execution_count": null,
   "id": "309b38fe",
   "metadata": {},
   "outputs": [
    {
     "name": "stdout",
     "output_type": "stream",
     "text": [
      "Python for Data Analytics\n"
     ]
    }
   ],
   "source": [
    "judul2 = 'Python for Data Analytics'\n",
    "print(judul2)"
   ]
  },
  {
   "cell_type": "markdown",
   "id": "94cd2509-64b6-4c88-8cb9-e7e61ff4250c",
   "metadata": {
    "id": "94cd2509-64b6-4c88-8cb9-e7e61ff4250c",
    "slideshow": {
     "slide_type": "slide"
    }
   },
   "source": [
    "## 2. Tipe data"
   ]
  },
  {
   "cell_type": "markdown",
   "id": "c91d103b-76b1-47bf-8a37-358fe70c7e6f",
   "metadata": {
    "id": "c91d103b-76b1-47bf-8a37-358fe70c7e6f",
    "slideshow": {
     "slide_type": "subslide"
    }
   },
   "source": [
    "<img src=\"https://raw.githubusercontent.com/mihoku/repository-random/master/python_data_types.png\" width=\"500\">\n"
   ]
  },
  {
   "cell_type": "markdown",
   "id": "78faa193",
   "metadata": {},
   "source": [
    "## 2.1. Tipe Data Tunggal (Atomic)"
   ]
  },
  {
   "cell_type": "markdown",
   "id": "81f36548",
   "metadata": {},
   "source": [
    "### 2.1.1 Number\n",
    "\n",
    "Ada 2 jenis data number yang perlu diketahui, yaitu:\n",
    "* Integer, yakni bilangan bulat (tidak ada angka di belakang koma)\n",
    "* float, atau bilangan riil (memungkinkan punya angka di belakang koma)"
   ]
  },
  {
   "cell_type": "markdown",
   "id": "e3bc26bc",
   "metadata": {},
   "source": [
    "#### Integer"
   ]
  },
  {
   "cell_type": "code",
   "execution_count": 2,
   "id": "f24cfad4-4478-4125-8593-bce6095a200d",
   "metadata": {
    "slideshow": {
     "slide_type": "subslide"
    },
    "tags": []
   },
   "outputs": [
    {
     "name": "stdout",
     "output_type": "stream",
     "text": [
      "11111111 11111111\n"
     ]
    }
   ],
   "source": [
    "# Integers\n",
    "#  sebelas juta seratus sebelas ribu seratus sebelas rupiah\n",
    "angka1 = 11_111_111\n",
    "angka2 = 11111111\n",
    "print(angka1, angka2)"
   ]
  },
  {
   "cell_type": "markdown",
   "id": "61420559",
   "metadata": {},
   "source": [
    "#### Float"
   ]
  },
  {
   "cell_type": "code",
   "execution_count": 6,
   "id": "HZD_fQHtXyQK",
   "metadata": {
    "colab": {
     "base_uri": "https://localhost:8080/"
    },
    "id": "HZD_fQHtXyQK",
    "outputId": "bbd855b6-af99-4cf1-fc0a-bdaa41bcb687",
    "slideshow": {
     "slide_type": "subslide"
    },
    "tags": []
   },
   "outputs": [
    {
     "name": "stdout",
     "output_type": "stream",
     "text": [
      "0.7\n",
      "7.0\n",
      "3.1416\n",
      "0.002718\n"
     ]
    }
   ],
   "source": [
    "# Float\n",
    "f1 = 0.7\n",
    "print(f1)\n",
    "\n",
    "f2 = 7.\n",
    "print(f2)\n",
    "\n",
    "pi = 3.1416\n",
    "print(pi)\n",
    "\n",
    "euler_number = 2.718e-3\n",
    "print(euler_number)"
   ]
  },
  {
   "cell_type": "markdown",
   "id": "7b1455d3",
   "metadata": {},
   "source": [
    "### 2.1.2 String\n",
    "\n",
    "String adalah tipe data berupa teks. String bisa terdiri atas satu atau lebih karakter. \n",
    "\n",
    "Karakternya dapat berupa apapun, termasuk huruf alfabet (abc), angka (123), spasi ( ), jarak/tab (\\t), bahkan baris baru/enter/newline (\\n) dan lain sebagainya.\n",
    "\n",
    "String pada python ditandai oleh adanya 2 tanda petik/quote, baik single-quote ('') maupun double-quote (\"\")."
   ]
  },
  {
   "cell_type": "code",
   "execution_count": 12,
   "id": "90234ed0-02c4-4fd9-bb7e-4ef41d3511dd",
   "metadata": {
    "slideshow": {
     "slide_type": "subslide"
    },
    "tags": []
   },
   "outputs": [
    {
     "name": "stdout",
     "output_type": "stream",
     "text": [
      "Budi\n"
     ]
    }
   ],
   "source": [
    "# String\n",
    "a = 'Budi'\n",
    "print(a)"
   ]
  },
  {
   "cell_type": "code",
   "execution_count": 11,
   "id": "8a24e4c6",
   "metadata": {},
   "outputs": [
    {
     "name": "stdout",
     "output_type": "stream",
     "text": [
      "Ini adalah musim kemarau. \t Hari yang sangat panas\n"
     ]
    }
   ],
   "source": [
    "# String yang memiliki jarak \n",
    "b = 'Ini adalah musim kemarau. \\t Hari yang sangat panas'\n",
    "print(b)"
   ]
  },
  {
   "cell_type": "code",
   "execution_count": 13,
   "id": "3aec3088",
   "metadata": {},
   "outputs": [
    {
     "name": "stdout",
     "output_type": "stream",
     "text": [
      "Bagaimana kabarmu? \n",
      "Baik. \n",
      "Aku tidak tahu lagi. \n",
      "Ada apa? \n",
      "Ibu terus-terusan menanyakan kabarmu, walaupun kita sudah tidak bersama.\n"
     ]
    }
   ],
   "source": [
    "# String yang memiliki beberapa baris\n",
    "c = 'Bagaimana kabarmu? \\nBaik. \\nAku tidak tahu lagi. \\nAda apa? \\nIbu terus-terusan menanyakan kabarmu, walaupun kita sudah tidak bersama.'\n",
    "print(c)"
   ]
  },
  {
   "cell_type": "code",
   "execution_count": 55,
   "id": "3521cefd",
   "metadata": {},
   "outputs": [
    {
     "name": "stdout",
     "output_type": "stream",
     "text": [
      "\n"
     ]
    }
   ],
   "source": [
    "# String kosong\n",
    "d = ''\n",
    "print(d)"
   ]
  },
  {
   "cell_type": "markdown",
   "id": "805edff4",
   "metadata": {},
   "source": [
    "bagaimana kalo strings kita terdapat tanda kutip didalamnya?"
   ]
  },
  {
   "cell_type": "code",
   "execution_count": null,
   "id": "836ed4db",
   "metadata": {},
   "outputs": [
    {
     "ename": "SyntaxError",
     "evalue": "invalid syntax (3139409134.py, line 2)",
     "output_type": "error",
     "traceback": [
      "\u001b[1;36m  Input \u001b[1;32mIn [20]\u001b[1;36m\u001b[0m\n",
      "\u001b[1;33m    \"kata Budi\"hai\"\"\u001b[0m\n",
      "\u001b[1;37m               ^\u001b[0m\n",
      "\u001b[1;31mSyntaxError\u001b[0m\u001b[1;31m:\u001b[0m invalid syntax\n"
     ]
    }
   ],
   "source": [
    "#cara yang salah\n",
    "\"kata Budi\"hai\"\""
   ]
  },
  {
   "cell_type": "code",
   "execution_count": null,
   "id": "2860c50e",
   "metadata": {},
   "outputs": [
    {
     "data": {
      "text/plain": [
       "'kata budi\"hai\"'"
      ]
     },
     "metadata": {},
     "output_type": "display_data"
    }
   ],
   "source": [
    "#cara yang benar\n",
    "'kata budi\"hai\"'"
   ]
  },
  {
   "cell_type": "code",
   "execution_count": null,
   "id": "31f59e27",
   "metadata": {},
   "outputs": [
    {
     "data": {
      "text/plain": [
       "'kata budi:\"hai\"'"
      ]
     },
     "metadata": {},
     "output_type": "display_data"
    }
   ],
   "source": [
    "#cara yang benar\n",
    "\"kata budi:\\\"hai\\\"\""
   ]
  },
  {
   "cell_type": "markdown",
   "id": "c07893ae",
   "metadata": {},
   "source": [
    "### 2.1.3 Boolean\n",
    "\n",
    "Adalah tipe data yang merepresentasikan benar (True) dan salah (False)."
   ]
  },
  {
   "cell_type": "code",
   "execution_count": null,
   "id": "2d9d8713",
   "metadata": {},
   "outputs": [
    {
     "name": "stdout",
     "output_type": "stream",
     "text": [
      "True\n",
      "False\n",
      "True\n",
      "False\n"
     ]
    }
   ],
   "source": [
    "# Data boolean bernilai benar\n",
    "a = True\n",
    "print(a)\n",
    "\n",
    "# Data boolean bernilai salah\n",
    "b = False\n",
    "print(b)\n",
    "\n",
    "# Kalimat perbandingan yang bernilai benar\n",
    "c = 25<100\n",
    "print(c)\n",
    "\n",
    "# Kalimat perbandingan yang bernilai salah\n",
    "d = 1000<10\n",
    "print(d)"
   ]
  },
  {
   "cell_type": "markdown",
   "id": "0aa6dd89-97f0-43e4-91c3-a8ee89866593",
   "metadata": {
    "id": "0aa6dd89-97f0-43e4-91c3-a8ee89866593",
    "slideshow": {
     "slide_type": "subslide"
    }
   },
   "source": [
    "### 2.1.4 Bagaimana cara untuk mengecek tipe data?"
   ]
  },
  {
   "cell_type": "code",
   "execution_count": null,
   "id": "3dd487ad-69a4-4dbc-a0c1-d8743c8d99af",
   "metadata": {
    "id": "3dd487ad-69a4-4dbc-a0c1-d8743c8d99af",
    "outputId": "bd91411a-259e-41a0-c93f-c9f23390932e",
    "slideshow": {
     "slide_type": "subslide"
    },
    "tags": []
   },
   "outputs": [],
   "source": [
    "type(\"Budi\")"
   ]
  },
  {
   "cell_type": "code",
   "execution_count": null,
   "id": "4f786a3f-405a-4bce-b477-5d06d023c194",
   "metadata": {
    "id": "4f786a3f-405a-4bce-b477-5d06d023c194",
    "outputId": "5a58b84c-ce81-468e-bcf1-a28879821dd9",
    "slideshow": {
     "slide_type": "subslide"
    },
    "tags": []
   },
   "outputs": [],
   "source": [
    "type(10.01)"
   ]
  },
  {
   "cell_type": "markdown",
   "id": "cd84caee",
   "metadata": {},
   "source": [
    "<img src=\"https://raw.githubusercontent.com/mihoku/repository-random/master/latihan.png\" width=\"300\"/>"
   ]
  },
  {
   "cell_type": "code",
   "execution_count": 25,
   "id": "65929745-17a7-453f-993b-dbe490841eb2",
   "metadata": {
    "id": "65929745-17a7-453f-993b-dbe490841eb2",
    "slideshow": {
     "slide_type": "subslide"
    }
   },
   "outputs": [],
   "source": [
    "# Coba cek tipe dari variabel berikut\n",
    "\n",
    "a = 123456\n",
    "b = True\n",
    "c = \"123456\"\n",
    "d = \"True\""
   ]
  },
  {
   "cell_type": "markdown",
   "id": "52440bff",
   "metadata": {},
   "source": [
    "### 2.1.5 Bagaimana cara mengubah tipe data atomic?\n",
    "\n",
    "Python memungkinkan untuk mengubah tipe data atomik, yang dikenal sebagai operasi typecasting.\n",
    "\n",
    "* Untuk mengubah data menjadi bilangan bulat (integer), gunakan fungsi int()\n",
    "* Untuk mengubah data menjadi bilangan riil (float), gunakan fungsi float()\n",
    "* Untuk mengubah data menjadi teks (string), gunakan fungsi str()\n",
    "* Untuk mengubah data menjadi boolean, gunakan fungsi bool()"
   ]
  },
  {
   "cell_type": "code",
   "execution_count": 29,
   "id": "f883a33a",
   "metadata": {},
   "outputs": [
    {
     "data": {
      "text/plain": [
       "int"
      ]
     },
     "execution_count": 29,
     "metadata": {},
     "output_type": "execute_result"
    }
   ],
   "source": [
    "# mengubah string menjadi integer\n",
    "a = \"12345\"\n",
    "b = int(a)\n",
    "print(b)\n",
    "type(b)"
   ]
  },
  {
   "cell_type": "code",
   "execution_count": 31,
   "id": "81e035c1",
   "metadata": {},
   "outputs": [
    {
     "name": "stdout",
     "output_type": "stream",
     "text": [
      "100.0\n"
     ]
    },
    {
     "data": {
      "text/plain": [
       "float"
      ]
     },
     "execution_count": 31,
     "metadata": {},
     "output_type": "execute_result"
    }
   ],
   "source": [
    "# mengubah integer menjadi float\n",
    "a = 100\n",
    "b = float(a)\n",
    "print(b)\n",
    "type(b)"
   ]
  },
  {
   "cell_type": "code",
   "execution_count": 36,
   "id": "d8849f64",
   "metadata": {},
   "outputs": [
    {
     "name": "stdout",
     "output_type": "stream",
     "text": [
      "789.22\n"
     ]
    },
    {
     "data": {
      "text/plain": [
       "float"
      ]
     },
     "execution_count": 36,
     "metadata": {},
     "output_type": "execute_result"
    }
   ],
   "source": [
    "# mengubah string menjadi float\n",
    "a = \"789.22\"\n",
    "b = float(a)\n",
    "print(b)\n",
    "type(b)"
   ]
  },
  {
   "cell_type": "code",
   "execution_count": 37,
   "id": "bc086995",
   "metadata": {},
   "outputs": [
    {
     "ename": "ValueError",
     "evalue": "could not convert string to float: '789,22'",
     "output_type": "error",
     "traceback": [
      "\u001b[1;31m---------------------------------------------------------------------------\u001b[0m",
      "\u001b[1;31mValueError\u001b[0m                                Traceback (most recent call last)",
      "Cell \u001b[1;32mIn[37], line 3\u001b[0m\n\u001b[0;32m      1\u001b[0m \u001b[38;5;66;03m# sayangnya, untuk mengubah string menjadi float, pembatas desimalnya harus titik \".\", tidak bisa koma \",\"\u001b[39;00m\n\u001b[0;32m      2\u001b[0m a \u001b[38;5;241m=\u001b[39m \u001b[38;5;124m\"\u001b[39m\u001b[38;5;124m789,22\u001b[39m\u001b[38;5;124m\"\u001b[39m\n\u001b[1;32m----> 3\u001b[0m b \u001b[38;5;241m=\u001b[39m \u001b[38;5;28;43mfloat\u001b[39;49m\u001b[43m(\u001b[49m\u001b[43ma\u001b[49m\u001b[43m)\u001b[49m\n\u001b[0;32m      4\u001b[0m \u001b[38;5;28mprint\u001b[39m(b)\n\u001b[0;32m      5\u001b[0m \u001b[38;5;28mtype\u001b[39m(b)\n",
      "\u001b[1;31mValueError\u001b[0m: could not convert string to float: '789,22'"
     ]
    }
   ],
   "source": [
    "# sayangnya, untuk mengubah string menjadi float, pembatas desimalnya harus titik \".\", tidak bisa koma \",\"\n",
    "a = \"789,22\"\n",
    "b = float(a)\n",
    "print(b)\n",
    "type(b)"
   ]
  },
  {
   "cell_type": "code",
   "execution_count": 40,
   "id": "e4644250",
   "metadata": {},
   "outputs": [
    {
     "name": "stdout",
     "output_type": "stream",
     "text": [
      "False\n"
     ]
    },
    {
     "data": {
      "text/plain": [
       "bool"
      ]
     },
     "execution_count": 40,
     "metadata": {},
     "output_type": "execute_result"
    }
   ],
   "source": [
    "# mengubah integer menjadi boolean\n",
    "a = 0\n",
    "b = bool(a)\n",
    "print(b)\n",
    "type(b)"
   ]
  },
  {
   "cell_type": "code",
   "execution_count": 43,
   "id": "beaae5f3",
   "metadata": {},
   "outputs": [
    {
     "name": "stdout",
     "output_type": "stream",
     "text": [
      "True\n"
     ]
    },
    {
     "data": {
      "text/plain": [
       "bool"
      ]
     },
     "execution_count": 43,
     "metadata": {},
     "output_type": "execute_result"
    }
   ],
   "source": [
    "# mengubah integer menjadi boolean\n",
    "a = 1\n",
    "b = bool(a)\n",
    "print(b)\n",
    "type(b)"
   ]
  },
  {
   "cell_type": "code",
   "execution_count": 54,
   "id": "788a26f2",
   "metadata": {},
   "outputs": [
    {
     "name": "stdout",
     "output_type": "stream",
     "text": [
      "True\n"
     ]
    },
    {
     "data": {
      "text/plain": [
       "bool"
      ]
     },
     "execution_count": 54,
     "metadata": {},
     "output_type": "execute_result"
    }
   ],
   "source": [
    "# mengubah integer menjadi boolean\n",
    "a = 2\n",
    "b = bool(a)\n",
    "print(b)\n",
    "type(b)"
   ]
  },
  {
   "cell_type": "markdown",
   "id": "be84989e-7bf0-41ee-86eb-8cbb49fec7c9",
   "metadata": {
    "id": "be84989e-7bf0-41ee-86eb-8cbb49fec7c9",
    "slideshow": {
     "slide_type": "slide"
    }
   },
   "source": [
    "### 2.1.6 Operators and Expressions untuk Data Atomic\n",
    "> Dalam python operator adalah **simbol khusus** yang menunjukkan bahwa beberapa jenis perhitungan harus dilakukan. Nilai yang dijalankan oleh operator disebut **operand**.\n",
    "\n",
    "> Urutan operan dan operator, seperti a + b - 5, disebut **ekspresi**."
   ]
  },
  {
   "cell_type": "markdown",
   "id": "62d7acc3-c441-4e36-9f69-ddb354402d19",
   "metadata": {
    "id": "62d7acc3-c441-4e36-9f69-ddb354402d19",
    "slideshow": {
     "slide_type": "subslide"
    }
   },
   "source": [
    "#### 2.1.6.1 Arithmetic operator (Operator Aritmatika)\n",
    "\n",
    "> Gunakan kurung untuk memastikan arithmetic operator dijalankan terlebih dahulu.\n",
    "\n",
    "| Operator | Deskripsi | Contoh | \n",
    "| :-: | :-- | :-:|\n",
    "| `**`| Pangkat | `x ** 2`|\n",
    "| `*`| Perkalian | `x * 4` | \n",
    "| `/`| Pembagian, hasilnya float | `x / 5` | \n",
    "| `//`| Pembagian, hasilnya rounded | `x // 3` |\n",
    "| `%`| Sisa Bagi (modulo) | `x % 2`| \n",
    "| `+`| Penjumlahan | `x + y` | \n",
    "| `-`| Pengurangan | `x - y` | "
   ]
  },
  {
   "cell_type": "code",
   "execution_count": 1,
   "id": "283bd378-589c-48a3-9d7b-a5d162d93559",
   "metadata": {
    "ExecuteTime": {
     "end_time": "2023-08-20T22:20:59.913041Z",
     "start_time": "2023-08-20T22:20:59.900343Z"
    },
    "id": "283bd378-589c-48a3-9d7b-a5d162d93559",
    "outputId": "7dfe0b31-d3f3-4531-9178-977ad178afcf",
    "slideshow": {
     "slide_type": "subslide"
    }
   },
   "outputs": [
    {
     "data": {
      "text/plain": [
       "25"
      ]
     },
     "execution_count": 1,
     "metadata": {},
     "output_type": "execute_result"
    }
   ],
   "source": [
    "5**2"
   ]
  },
  {
   "cell_type": "code",
   "execution_count": 2,
   "id": "87005935-d3b7-48d9-8a55-bd91fc94c87b",
   "metadata": {
    "ExecuteTime": {
     "end_time": "2023-08-20T22:21:00.975975Z",
     "start_time": "2023-08-20T22:21:00.962913Z"
    },
    "id": "87005935-d3b7-48d9-8a55-bd91fc94c87b",
    "outputId": "be15cc68-742e-4123-adc5-b741c66aabfc",
    "slideshow": {
     "slide_type": "subslide"
    }
   },
   "outputs": [
    {
     "data": {
      "text/plain": [
       "10"
      ]
     },
     "execution_count": 2,
     "metadata": {},
     "output_type": "execute_result"
    }
   ],
   "source": [
    "5*2"
   ]
  },
  {
   "cell_type": "code",
   "execution_count": 3,
   "id": "2a7b869d-d6d0-404b-ae01-730550887dbf",
   "metadata": {
    "ExecuteTime": {
     "end_time": "2023-08-20T22:21:02.703738Z",
     "start_time": "2023-08-20T22:21:02.693041Z"
    },
    "id": "2a7b869d-d6d0-404b-ae01-730550887dbf",
    "outputId": "9149147d-de61-4b98-fc53-13ec25f35aff",
    "slideshow": {
     "slide_type": "subslide"
    }
   },
   "outputs": [
    {
     "data": {
      "text/plain": [
       "5.0"
      ]
     },
     "execution_count": 3,
     "metadata": {},
     "output_type": "execute_result"
    }
   ],
   "source": [
    "10/2"
   ]
  },
  {
   "cell_type": "code",
   "execution_count": 4,
   "id": "34afd50a-dd60-4cca-b5d2-d239a67db319",
   "metadata": {
    "ExecuteTime": {
     "end_time": "2023-08-20T22:21:03.804463Z",
     "start_time": "2023-08-20T22:21:03.790032Z"
    },
    "id": "34afd50a-dd60-4cca-b5d2-d239a67db319",
    "outputId": "80dc7971-88e3-4cc6-93a4-f5c431357828",
    "slideshow": {
     "slide_type": "subslide"
    }
   },
   "outputs": [
    {
     "data": {
      "text/plain": [
       "6"
      ]
     },
     "execution_count": 4,
     "metadata": {},
     "output_type": "execute_result"
    }
   ],
   "source": [
    "13//2"
   ]
  },
  {
   "cell_type": "code",
   "execution_count": 5,
   "id": "e5d4246c-19eb-40ae-ad20-665d39e41e29",
   "metadata": {
    "ExecuteTime": {
     "end_time": "2023-08-20T22:21:05.142313Z",
     "start_time": "2023-08-20T22:21:05.127260Z"
    },
    "id": "e5d4246c-19eb-40ae-ad20-665d39e41e29",
    "outputId": "0321a79b-01b8-4895-fdc1-3d56e6942374",
    "slideshow": {
     "slide_type": "subslide"
    }
   },
   "outputs": [
    {
     "data": {
      "text/plain": [
       "1"
      ]
     },
     "execution_count": 5,
     "metadata": {},
     "output_type": "execute_result"
    }
   ],
   "source": [
    "13%2"
   ]
  },
  {
   "cell_type": "code",
   "execution_count": 6,
   "id": "b5fe6e01-2eaa-4a47-8d03-ff0fbfe99c46",
   "metadata": {
    "ExecuteTime": {
     "end_time": "2023-08-20T22:21:05.519531Z",
     "start_time": "2023-08-20T22:21:05.514832Z"
    },
    "id": "b5fe6e01-2eaa-4a47-8d03-ff0fbfe99c46",
    "outputId": "00272a58-df56-42f6-9109-26c00b2602c8",
    "slideshow": {
     "slide_type": "subslide"
    }
   },
   "outputs": [
    {
     "data": {
      "text/plain": [
       "9"
      ]
     },
     "execution_count": 6,
     "metadata": {},
     "output_type": "execute_result"
    }
   ],
   "source": [
    "4+5"
   ]
  },
  {
   "cell_type": "code",
   "execution_count": 7,
   "id": "c436cf5d-f3b9-4209-b3f2-bddc17bc7e2d",
   "metadata": {
    "ExecuteTime": {
     "end_time": "2023-08-20T22:21:07.057743Z",
     "start_time": "2023-08-20T22:21:07.040543Z"
    },
    "id": "c436cf5d-f3b9-4209-b3f2-bddc17bc7e2d",
    "outputId": "ad1e80b8-53ed-46f3-e246-a35a12bd3e3d",
    "slideshow": {
     "slide_type": "subslide"
    }
   },
   "outputs": [
    {
     "data": {
      "text/plain": [
       "4"
      ]
     },
     "execution_count": 7,
     "metadata": {},
     "output_type": "execute_result"
    }
   ],
   "source": [
    "9-5"
   ]
  },
  {
   "cell_type": "code",
   "execution_count": 8,
   "id": "da89f75f",
   "metadata": {
    "ExecuteTime": {
     "end_time": "2023-08-20T22:21:07.684462Z",
     "start_time": "2023-08-20T22:21:07.670829Z"
    },
    "id": "da89f75f",
    "outputId": "e78339e7-2cba-4ba7-9ca2-34eb623684ae",
    "slideshow": {
     "slide_type": "subslide"
    }
   },
   "outputs": [
    {
     "data": {
      "text/plain": [
       "16.799999999999997"
      ]
     },
     "execution_count": 8,
     "metadata": {},
     "output_type": "execute_result"
    }
   ],
   "source": [
    "12*1.4"
   ]
  },
  {
   "cell_type": "code",
   "execution_count": 9,
   "id": "38667775-7952-4791-9b9a-0c6605ff8a42",
   "metadata": {
    "ExecuteTime": {
     "end_time": "2023-08-20T22:21:10.340042Z",
     "start_time": "2023-08-20T22:21:10.325911Z"
    },
    "id": "38667775-7952-4791-9b9a-0c6605ff8a42",
    "outputId": "4099b03c-b6ac-42f0-cc00-0173d0aa8f7b",
    "slideshow": {
     "slide_type": "subslide"
    }
   },
   "outputs": [
    {
     "name": "stdout",
     "output_type": "stream",
     "text": [
      "3\n",
      "<class 'int'>\n"
     ]
    }
   ],
   "source": [
    "# menjumlahkan nilai pada variable A dan B\n",
    "A = 1\n",
    "B = 2\n",
    "C = A + B\n",
    "print(C)\n",
    "print(type(C))"
   ]
  },
  {
   "cell_type": "markdown",
   "id": "e253c69c-250d-49bb-8618-0fe44618f16a",
   "metadata": {
    "id": "e253c69c-250d-49bb-8618-0fe44618f16a",
    "slideshow": {
     "slide_type": "slide"
    }
   },
   "source": [
    "---\n",
    "<img src=\"https://raw.githubusercontent.com/mihoku/repository-random/master/latihan.png\" width=\"300\"/>"
   ]
  },
  {
   "cell_type": "code",
   "execution_count": null,
   "id": "b31fe596-9293-4509-8fcb-231e3e5434bd",
   "metadata": {
    "id": "b31fe596-9293-4509-8fcb-231e3e5434bd",
    "slideshow": {
     "slide_type": "subslide"
    }
   },
   "outputs": [],
   "source": [
    "# Hitunglah 25 pangkat 5"
   ]
  },
  {
   "cell_type": "code",
   "execution_count": 61,
   "id": "f1d51d9f-a006-4bbb-abce-659f79eaa028",
   "metadata": {
    "id": "f1d51d9f-a006-4bbb-abce-659f79eaa028",
    "slideshow": {
     "slide_type": "subslide"
    }
   },
   "outputs": [],
   "source": [
    "# Hitunglah akar kuadrat dari 169"
   ]
  },
  {
   "cell_type": "code",
   "execution_count": null,
   "id": "032d07a5-f40b-4b77-8488-c5a5b7a5246b",
   "metadata": {
    "id": "032d07a5-f40b-4b77-8488-c5a5b7a5246b",
    "slideshow": {
     "slide_type": "subslide"
    }
   },
   "outputs": [],
   "source": [
    "# Hitunglah pembagian bulat dari 17 dengan 5"
   ]
  },
  {
   "cell_type": "code",
   "execution_count": null,
   "id": "87d2e19c-4db7-4e51-932e-e3dac58c4731",
   "metadata": {
    "id": "87d2e19c-4db7-4e51-932e-e3dac58c4731",
    "slideshow": {
     "slide_type": "subslide"
    }
   },
   "outputs": [],
   "source": [
    "# Hitunglah pembagian bulat dan sisa bagi dari 97 dengan 3"
   ]
  },
  {
   "cell_type": "markdown",
   "id": "100048b6-3cbf-458c-a475-aeb57f24df82",
   "metadata": {
    "id": "100048b6-3cbf-458c-a475-aeb57f24df82",
    "slideshow": {
     "slide_type": "slide"
    }
   },
   "source": [
    "##### 2.1.6.2 Urutan Operasi Aritmatik"
   ]
  },
  {
   "cell_type": "markdown",
   "id": "a24cbbe4-0969-4d0a-b3cb-3888c0383753",
   "metadata": {
    "id": "a24cbbe4-0969-4d0a-b3cb-3888c0383753",
    "slideshow": {
     "slide_type": "subslide"
    }
   },
   "source": [
    "Setiap operasi Aritmatik di dalam python memiliki urutan dalam pengoperasiannya. Jika dalam satu ekpression terdapat lebih dari satu operasi, maka kode akan di eksekusi berdasarkan operasi yang lebih tinggi prioritasnya.\n",
    "\n",
    "<br>\n",
    "<br>\n",
    "\n",
    "| Operator|Simbol |\n",
    "| :-: | :-- |\n",
    "| Tanda Kurung|( )|\n",
    "| Pangkat|**|\n",
    "| kali, bagi, pembagian (dengan output pembulatan kebawah), hasil sisa pembagian| * , / , //, %|\n",
    "| Tambah, Kurang| + , - |\n",
    "\n",
    "<br>\n",
    "<br>"
   ]
  },
  {
   "cell_type": "code",
   "execution_count": null,
   "id": "535516dd-a1e3-4184-af8a-cc6bc731a65b",
   "metadata": {
    "colab": {
     "base_uri": "https://localhost:8080/"
    },
    "id": "535516dd-a1e3-4184-af8a-cc6bc731a65b",
    "outputId": "a6dcece9-bcfa-449a-c446-0ccfc2ec914b",
    "slideshow": {
     "slide_type": "subslide"
    }
   },
   "outputs": [],
   "source": [
    "5/5 + 5**5*5"
   ]
  },
  {
   "cell_type": "markdown",
   "id": "f8f00a30-b4af-4f6b-a778-e2edb1a03546",
   "metadata": {
    "id": "f8f00a30-b4af-4f6b-a778-e2edb1a03546",
    "slideshow": {
     "slide_type": "slide"
    }
   },
   "source": [
    "#### 2.1.6.3 Comparison operator\n",
    "\n",
    "> Digunakan untuk membandingkan antara dua nilai. Menghasilkan nilai boolean (`True` atau `False`).\n",
    "\n",
    "| Operator | Deskripsi | Contoh | \n",
    "|:-:|:--|:-:|\n",
    "|`==`|`sama dengan`|`x == y`|\t\n",
    "|`!=`|`tidak sama dengan`|`x != y`|\n",
    "|`>`|`lebih dari`|`x > y`|\n",
    "|`<`|`kurang dari`|`x < y`|\t\n",
    "|`>=`|`lebih dari atau sama dengan`|`x >= y`|\t\n",
    "|`<=`|`kurang dari atau sama dengan`|`x <= y`|"
   ]
  },
  {
   "cell_type": "code",
   "execution_count": null,
   "id": "e87ab120-a2ae-4b79-817b-aff185f953a3",
   "metadata": {
    "id": "e87ab120-a2ae-4b79-817b-aff185f953a3",
    "outputId": "5a071010-d571-4a4f-f985-1da97956961d",
    "slideshow": {
     "slide_type": "subslide"
    }
   },
   "outputs": [],
   "source": [
    "A = 10\n",
    "B = 10\n",
    "print(A==B)\n",
    "print(A>B)"
   ]
  },
  {
   "cell_type": "code",
   "execution_count": null,
   "id": "8ce12db5-c004-49a8-b0fe-0b2babb44b7c",
   "metadata": {
    "id": "8ce12db5-c004-49a8-b0fe-0b2babb44b7c",
    "outputId": "dee982c3-4c13-465b-8ef7-058cb102c22f",
    "slideshow": {
     "slide_type": "subslide"
    }
   },
   "outputs": [],
   "source": [
    "A = \"PYTHON\"\n",
    "B = \"PYTHON\"\n",
    "A==B"
   ]
  },
  {
   "cell_type": "code",
   "execution_count": null,
   "id": "7f7b192f-c0cd-4c92-835e-5995ce310111",
   "metadata": {
    "id": "7f7b192f-c0cd-4c92-835e-5995ce310111",
    "outputId": "e7517fb4-1e3b-4b8a-ec24-c7e81f6316ab",
    "slideshow": {
     "slide_type": "subslide"
    }
   },
   "outputs": [],
   "source": [
    "A = \"python\"\n",
    "B = \"PYTHON\"\n",
    "print(A==B)\n",
    "print(A!=B)"
   ]
  },
  {
   "cell_type": "code",
   "execution_count": 11,
   "id": "c9735304-eea0-45ae-b76b-18f15e6c790e",
   "metadata": {
    "ExecuteTime": {
     "end_time": "2023-08-20T22:22:16.379652Z",
     "start_time": "2023-08-20T22:22:16.377080Z"
    },
    "id": "c9735304-eea0-45ae-b76b-18f15e6c790e",
    "slideshow": {
     "slide_type": "subslide"
    }
   },
   "outputs": [],
   "source": [
    "x = 5"
   ]
  },
  {
   "cell_type": "code",
   "execution_count": 12,
   "id": "ad6db750-20fd-411b-ad9d-00f2014bd2bc",
   "metadata": {
    "ExecuteTime": {
     "end_time": "2023-08-20T22:22:16.677321Z",
     "start_time": "2023-08-20T22:22:16.672314Z"
    },
    "id": "ad6db750-20fd-411b-ad9d-00f2014bd2bc",
    "outputId": "005ea8be-9e0d-42d7-8ddc-64d455fd803c",
    "slideshow": {
     "slide_type": "subslide"
    }
   },
   "outputs": [
    {
     "data": {
      "text/plain": [
       "True"
      ]
     },
     "execution_count": 12,
     "metadata": {},
     "output_type": "execute_result"
    }
   ],
   "source": [
    "x < 10"
   ]
  },
  {
   "cell_type": "code",
   "execution_count": 13,
   "id": "7a089a7d-0f06-4386-b290-9b8bd9bd8d7c",
   "metadata": {
    "ExecuteTime": {
     "end_time": "2023-08-20T22:22:17.096465Z",
     "start_time": "2023-08-20T22:22:17.080025Z"
    },
    "id": "7a089a7d-0f06-4386-b290-9b8bd9bd8d7c",
    "outputId": "a020a83e-54cc-4ea7-9c9f-cf467dfe6a8f",
    "slideshow": {
     "slide_type": "subslide"
    }
   },
   "outputs": [
    {
     "data": {
      "text/plain": [
       "False"
      ]
     },
     "execution_count": 13,
     "metadata": {},
     "output_type": "execute_result"
    }
   ],
   "source": [
    "not x < 10"
   ]
  },
  {
   "cell_type": "markdown",
   "id": "6ddff162",
   "metadata": {},
   "source": [
    "#### 2.1.6.4 Logical operator\n",
    "\n",
    "> Digunakan untuk mengkombinasikan nilai boolean.\n",
    "\n",
    "| Operator | Deskripsi | Contoh | \n",
    "|:-:|:--|:-:|\n",
    "|`not`|\tMembalik nilai boolean, menghasilkan nilai `False` jika peryataan bernilai `True` dan sebaliknya\t|`not(x < y)`|\n",
    "|`and`| Menghasilkan `True` hanya jika kedua pernyataan bernilai `True`\t|`x < 5 and  x < 10`|\n",
    "|`or`|\tMenghasilkan `True` jika salah satu pernyataan bernilai `True`\t|`x < 5 or x > 4`|\t"
   ]
  },
  {
   "cell_type": "code",
   "execution_count": null,
   "id": "a7439fe1",
   "metadata": {},
   "outputs": [
    {
     "name": "stdout",
     "output_type": "stream",
     "text": [
      "True\n"
     ]
    }
   ],
   "source": [
    "umur_andi = 19\n",
    "tinggi_andi = 169\n",
    "\n",
    "andi_boleh_daftar_tni = umur_andi>16 and tinggi_andi>165\n",
    "print(andi_boleh_daftar_tni)"
   ]
  },
  {
   "cell_type": "code",
   "execution_count": null,
   "id": "51337bb1",
   "metadata": {},
   "outputs": [
    {
     "name": "stdout",
     "output_type": "stream",
     "text": [
      "False\n"
     ]
    }
   ],
   "source": [
    "umur_andi = 11\n",
    "tinggi_andi = 169\n",
    "\n",
    "andi_boleh_daftar_tni = umur_andi>16 and tinggi_andi>165\n",
    "print(andi_boleh_daftar_tni)"
   ]
  },
  {
   "cell_type": "markdown",
   "id": "93d2f6bc-bdec-42fb-b7ca-f469bce803cb",
   "metadata": {
    "id": "93d2f6bc-bdec-42fb-b7ca-f469bce803cb",
    "slideshow": {
     "slide_type": "slide"
    }
   },
   "source": [
    "Boolean Logic\n",
    "\n",
    "| Condition 1 | Condition 2 | AND  | OR   |\n",
    "|-------------|-------------|------|------|\n",
    "| TRUE        | TRUE        | TRUE | TRUE |\n",
    "| TRUE        | FALSE       | FALSE| TRUE |\n",
    "| FALSE       | TRUE        | FALSE| TRUE |\n",
    "| FALSE       | FALSE       | FALSE| FALSE|"
   ]
  },
  {
   "cell_type": "code",
   "execution_count": 16,
   "id": "e3d0e0a3-a707-4882-8b53-a2ab2f4d70e9",
   "metadata": {
    "ExecuteTime": {
     "end_time": "2023-08-20T22:22:48.231014Z",
     "start_time": "2023-08-20T22:22:48.213508Z"
    },
    "id": "e3d0e0a3-a707-4882-8b53-a2ab2f4d70e9",
    "outputId": "8399c357-c03a-45d2-b2f1-f9bbf93aeb26",
    "slideshow": {
     "slide_type": "subslide"
    }
   },
   "outputs": [
    {
     "data": {
      "text/plain": [
       "False"
      ]
     },
     "execution_count": 16,
     "metadata": {},
     "output_type": "execute_result"
    }
   ],
   "source": [
    "x > 2 and x < 4"
   ]
  },
  {
   "cell_type": "code",
   "execution_count": 17,
   "id": "7beaf62a-3f15-482f-b038-d719e189d30b",
   "metadata": {
    "ExecuteTime": {
     "end_time": "2023-08-20T22:22:48.882344Z",
     "start_time": "2023-08-20T22:22:48.865449Z"
    },
    "id": "7beaf62a-3f15-482f-b038-d719e189d30b",
    "outputId": "05f87bda-a862-4056-c56e-653b2f4b520b",
    "slideshow": {
     "slide_type": "subslide"
    }
   },
   "outputs": [
    {
     "data": {
      "text/plain": [
       "True"
      ]
     },
     "execution_count": 17,
     "metadata": {},
     "output_type": "execute_result"
    }
   ],
   "source": [
    "x > 2 or x < 4"
   ]
  },
  {
   "cell_type": "markdown",
   "id": "dc77a295-da1f-40a3-b61b-911857b875ef",
   "metadata": {
    "id": "dc77a295-da1f-40a3-b61b-911857b875ef",
    "slideshow": {
     "slide_type": "slide"
    }
   },
   "source": [
    "#### 2.1.6.5 Strings Operations"
   ]
  },
  {
   "cell_type": "markdown",
   "id": "e96be2bd-c2f4-4209-9609-32f6d24acb6c",
   "metadata": {
    "id": "e96be2bd-c2f4-4209-9609-32f6d24acb6c",
    "slideshow": {
     "slide_type": "subslide"
    }
   },
   "source": [
    "##### Penggabungan String"
   ]
  },
  {
   "cell_type": "code",
   "execution_count": 24,
   "id": "c857f26f-558a-4875-8143-2761e66f549f",
   "metadata": {
    "ExecuteTime": {
     "end_time": "2023-08-20T22:23:39.704980Z",
     "start_time": "2023-08-20T22:23:39.687996Z"
    },
    "id": "c857f26f-558a-4875-8143-2761e66f549f",
    "outputId": "f500d00d-716f-4320-867a-e753c534c49d",
    "slideshow": {
     "slide_type": "subslide"
    }
   },
   "outputs": [
    {
     "name": "stdout",
     "output_type": "stream",
     "text": [
      "halosemua\n"
     ]
    }
   ],
   "source": [
    "print(\"halo\" + \"semua\")"
   ]
  },
  {
   "cell_type": "code",
   "execution_count": 25,
   "id": "cac76c2f-7dc3-49fe-99e0-b8e0da490d21",
   "metadata": {
    "ExecuteTime": {
     "end_time": "2023-08-20T22:23:40.287626Z",
     "start_time": "2023-08-20T22:23:40.279327Z"
    },
    "id": "cac76c2f-7dc3-49fe-99e0-b8e0da490d21",
    "outputId": "69cf6238-8698-4238-d765-4882c5e02c63",
    "slideshow": {
     "slide_type": "subslide"
    }
   },
   "outputs": [
    {
     "name": "stdout",
     "output_type": "stream",
     "text": [
      "halo semua\n"
     ]
    }
   ],
   "source": [
    "print(\"halo\" + \" \" + \"semua\")"
   ]
  },
  {
   "cell_type": "code",
   "execution_count": 26,
   "id": "7adcf040",
   "metadata": {
    "ExecuteTime": {
     "end_time": "2023-08-20T22:23:40.679361Z",
     "start_time": "2023-08-20T22:23:40.664402Z"
    },
    "id": "7adcf040",
    "outputId": "d504d320-361a-4302-ade7-bb05bc25cd26",
    "slideshow": {
     "slide_type": "subslide"
    }
   },
   "outputs": [
    {
     "name": "stdout",
     "output_type": "stream",
     "text": [
      "halo semua\n"
     ]
    }
   ],
   "source": [
    "print(\"halo\",\"semua\")"
   ]
  },
  {
   "cell_type": "markdown",
   "id": "16cc110f-ca3b-40fd-9870-21145bf4bb9c",
   "metadata": {
    "id": "16cc110f-ca3b-40fd-9870-21145bf4bb9c",
    "slideshow": {
     "slide_type": "subslide"
    }
   },
   "source": [
    "bagaimana kalo kita ingin menambah angka kedalam teks kita?"
   ]
  },
  {
   "cell_type": "code",
   "execution_count": 27,
   "id": "c83516d0-2505-449e-8c2c-78bc183459d6",
   "metadata": {
    "ExecuteTime": {
     "end_time": "2023-08-20T22:24:20.981520Z",
     "start_time": "2023-08-20T22:24:20.950860Z"
    },
    "id": "c83516d0-2505-449e-8c2c-78bc183459d6",
    "outputId": "6d7f5124-a991-4062-98e8-e825d34fb8cf",
    "slideshow": {
     "slide_type": "subslide"
    },
    "tags": []
   },
   "outputs": [
    {
     "ename": "TypeError",
     "evalue": "can only concatenate str (not \"int\") to str",
     "output_type": "error",
     "traceback": [
      "\u001b[1;31m---------------------------------------------------------------------------\u001b[0m",
      "\u001b[1;31mTypeError\u001b[0m                                 Traceback (most recent call last)",
      "Input \u001b[1;32mIn [27]\u001b[0m, in \u001b[0;36m<cell line: 1>\u001b[1;34m()\u001b[0m\n\u001b[1;32m----> 1\u001b[0m \u001b[38;5;28mprint\u001b[39m(\u001b[38;5;124;43m\"\u001b[39;49m\u001b[38;5;124;43mUmur Saya\u001b[39;49m\u001b[38;5;124;43m\"\u001b[39;49m\u001b[43m \u001b[49m\u001b[38;5;241;43m+\u001b[39;49m\u001b[43m \u001b[49m\u001b[38;5;241;43m25\u001b[39;49m)\n",
      "\u001b[1;31mTypeError\u001b[0m: can only concatenate str (not \"int\") to str"
     ]
    }
   ],
   "source": [
    "print(\"Umur Saya\" + 25)"
   ]
  },
  {
   "cell_type": "code",
   "execution_count": 5,
   "id": "bd97d0c8-f5df-4c54-aed1-847a55926949",
   "metadata": {
    "ExecuteTime": {
     "end_time": "2023-08-20T22:24:24.976992Z",
     "start_time": "2023-08-20T22:24:24.959058Z"
    },
    "id": "bd97d0c8-f5df-4c54-aed1-847a55926949",
    "slideshow": {
     "slide_type": "subslide"
    }
   },
   "outputs": [
    {
     "name": "stdout",
     "output_type": "stream",
     "text": [
      "Umur Saya 25\n",
      "Umur Saya 25\n",
      "Umur Saya 25 \n"
     ]
    }
   ],
   "source": [
    "print (\"Umur Saya\",25)\n",
    "print (\"Umur Saya \" + str(25))\n",
    "print (\"Umur Saya %s \" % 25)"
   ]
  },
  {
   "cell_type": "code",
   "execution_count": 29,
   "id": "c7342f2b-f829-44cf-b6e6-e201212043d0",
   "metadata": {
    "ExecuteTime": {
     "end_time": "2023-08-20T22:24:27.707187Z",
     "start_time": "2023-08-20T22:24:27.690243Z"
    },
    "id": "c7342f2b-f829-44cf-b6e6-e201212043d0",
    "slideshow": {
     "slide_type": "subslide"
    }
   },
   "outputs": [
    {
     "name": "stdout",
     "output_type": "stream",
     "text": [
      "halo halo halo halo halo \n"
     ]
    }
   ],
   "source": [
    "#kita juga bisa mengalikan string dengan angka yang akan menampilkan string sebanyak angka\n",
    "print(\"halo \"*5)"
   ]
  },
  {
   "cell_type": "markdown",
   "id": "e580d686",
   "metadata": {},
   "source": [
    "Jika kita ingin print beberapa variabel sekaligus, kita cukup memisahkan antar variabel dan string yang ingin di-print dengan koma."
   ]
  },
  {
   "cell_type": "code",
   "execution_count": 12,
   "id": "a6507d2e",
   "metadata": {},
   "outputs": [
    {
     "name": "stdout",
     "output_type": "stream",
     "text": [
      "Hai, nama saya Tono umur saya 12 tahun dan saya tinggal di negara Indonesia\n"
     ]
    }
   ],
   "source": [
    "nama_saya = \"Tono\"\n",
    "\n",
    "umur_saya = 12\n",
    "\n",
    "asal_negara = \"Indonesia\"\n",
    "\n",
    "print('Hai, nama saya',nama_saya,'umur saya',umur_saya,'tahun dan saya tinggal di negara',asal_negara)"
   ]
  },
  {
   "cell_type": "markdown",
   "id": "c28b702d",
   "metadata": {},
   "source": [
    "Kita juga bisa menggunakan ```f-string``` untuk print teks dengan variabel.\n",
    "\n",
    "```F-string``` dibuat dengan menambahkan huruf ```f``` di depan string, lalu variabel yang akan di-print diletakkan di dalam tanda kurung ```{}``` "
   ]
  },
  {
   "cell_type": "code",
   "execution_count": 3,
   "id": "ce4fc4bb",
   "metadata": {},
   "outputs": [
    {
     "name": "stdout",
     "output_type": "stream",
     "text": [
      "Hai, nama saya Tono. Umur saya 12 tahun dan saya tinggal di negara Indonesia\n"
     ]
    }
   ],
   "source": [
    "nama_saya = \"Tono\"\n",
    "\n",
    "umur_saya = 12\n",
    "\n",
    "asal_negara = \"Indonesia\"\n",
    "\n",
    "print(f'Hai, nama saya {nama_saya}. Umur saya {umur_saya} tahun dan saya tinggal di negara {asal_negara}')"
   ]
  },
  {
   "cell_type": "markdown",
   "id": "3201e288-c0e4-438d-9e4e-bf23eaad005e",
   "metadata": {
    "id": "3201e288-c0e4-438d-9e4e-bf23eaad005e",
    "slideshow": {
     "slide_type": "slide"
    }
   },
   "source": [
    "#### 2.1.6.6 String Methods\n",
    "\n",
    "> Semua metode string mengembalikan nilai baru. Mereka tidak mengubah string asli.\n",
    "\n",
    "|Metode|Deskripsi|\n",
    "| :-: | :-: | \n",
    "|capitalize()| Mengubah karakter pertama menjadi huruf besar|\n",
    "|title()|Mengubah huruf pertama pada setiap kata menjadi huruf besar|\n",
    "|lower()|Mengubah semua karakter  menjadi huruf kecil|\n",
    "|upper()|Mengubah semua karakter menjadi huruf besar|\n",
    "|strip()|Menghilangkan spasi berlebih|\n",
    "|lstrip()|Menghilangkan spasi berlebih pada bagian kiri string|\n",
    "|rstrip()|Menghilangkan spasi berlebih pada bagian kanan string|\n",
    "|split()|Memotong string pada karakter yang ditentukan, dan dioutput sebagai list|\n",
    "|startswith()|Akan mengembalikan nilai True bila string diawali kata tertentu yang kita tentukan|\n",
    "|endswith()|Akan mengembalikan nilai True bila string diakhiri kata tertentu yang kita tentukan|\n",
    "|join()|Menggabungkan semua anggota menjadi string|\n",
    "\n",
    "sumber: https://www.w3schools.com/python/python_ref_string.asp"
   ]
  },
  {
   "cell_type": "code",
   "execution_count": 30,
   "id": "c611d2aa-f001-4dad-8ac4-bf8a847b9e5f",
   "metadata": {
    "ExecuteTime": {
     "end_time": "2023-08-20T22:24:36.335573Z",
     "start_time": "2023-08-20T22:24:36.317633Z"
    },
    "id": "c611d2aa-f001-4dad-8ac4-bf8a847b9e5f",
    "slideshow": {
     "slide_type": "subslide"
    }
   },
   "outputs": [
    {
     "data": {
      "text/plain": [
       "'Python for data analytics'"
      ]
     },
     "execution_count": 30,
     "metadata": {},
     "output_type": "execute_result"
    }
   ],
   "source": [
    "A = 'python for data analytics'\n",
    "A.capitalize()"
   ]
  },
  {
   "cell_type": "code",
   "execution_count": 31,
   "id": "b5fb235b-0834-4212-896c-696ca9da3924",
   "metadata": {
    "ExecuteTime": {
     "end_time": "2023-08-20T22:24:36.919142Z",
     "start_time": "2023-08-20T22:24:36.900740Z"
    },
    "id": "b5fb235b-0834-4212-896c-696ca9da3924",
    "slideshow": {
     "slide_type": "subslide"
    },
    "tags": []
   },
   "outputs": [
    {
     "data": {
      "text/plain": [
       "'Python For Data Analytics'"
      ]
     },
     "execution_count": 31,
     "metadata": {},
     "output_type": "execute_result"
    }
   ],
   "source": [
    "A.title()"
   ]
  },
  {
   "cell_type": "code",
   "execution_count": 32,
   "id": "caf47871-a0db-4264-aca9-80edc0ed2507",
   "metadata": {
    "ExecuteTime": {
     "end_time": "2023-08-20T22:24:41.129720Z",
     "start_time": "2023-08-20T22:24:41.124528Z"
    },
    "id": "caf47871-a0db-4264-aca9-80edc0ed2507",
    "slideshow": {
     "slide_type": "subslide"
    }
   },
   "outputs": [],
   "source": [
    "A.upper()\n",
    "A = A.upper() "
   ]
  },
  {
   "cell_type": "code",
   "execution_count": 33,
   "id": "74990ceb-84ef-42a2-a85b-545387933de1",
   "metadata": {
    "ExecuteTime": {
     "end_time": "2023-08-20T22:24:42.719288Z",
     "start_time": "2023-08-20T22:24:42.715305Z"
    },
    "id": "74990ceb-84ef-42a2-a85b-545387933de1",
    "outputId": "48f8e143-be1c-4c8a-dd84-17414702d679",
    "slideshow": {
     "slide_type": "subslide"
    }
   },
   "outputs": [
    {
     "data": {
      "text/plain": [
       "'PYTHON FOR DATA ANALYTICS'"
      ]
     },
     "execution_count": 33,
     "metadata": {},
     "output_type": "execute_result"
    }
   ],
   "source": [
    "A"
   ]
  },
  {
   "cell_type": "code",
   "execution_count": 34,
   "id": "1ffe76b6-250a-429a-93c3-4366d422ec39",
   "metadata": {
    "ExecuteTime": {
     "end_time": "2023-08-20T22:24:44.104220Z",
     "start_time": "2023-08-20T22:24:44.089314Z"
    },
    "id": "1ffe76b6-250a-429a-93c3-4366d422ec39",
    "outputId": "4a3abf32-33ed-4d20-cfaa-9dee3020f7ea",
    "slideshow": {
     "slide_type": "subslide"
    }
   },
   "outputs": [
    {
     "data": {
      "text/plain": [
       "'python for data analytics'"
      ]
     },
     "execution_count": 34,
     "metadata": {},
     "output_type": "execute_result"
    }
   ],
   "source": [
    "A.lower()"
   ]
  },
  {
   "cell_type": "code",
   "execution_count": 35,
   "id": "24c88f7b-90fb-4271-9980-93dd6e2281c0",
   "metadata": {
    "ExecuteTime": {
     "end_time": "2023-08-20T22:24:44.460042Z",
     "start_time": "2023-08-20T22:24:44.453584Z"
    },
    "id": "24c88f7b-90fb-4271-9980-93dd6e2281c0",
    "outputId": "1f16ce50-6950-4c4b-9cd6-c4b59e45eb2f",
    "slideshow": {
     "slide_type": "subslide"
    },
    "tags": []
   },
   "outputs": [
    {
     "data": {
      "text/plain": [
       "'python for data analytics'"
      ]
     },
     "execution_count": 35,
     "metadata": {},
     "output_type": "execute_result"
    }
   ],
   "source": [
    "A = '    python for data analytics   '\n",
    "A.strip()"
   ]
  },
  {
   "cell_type": "code",
   "execution_count": 36,
   "id": "8881520f-d3ce-4180-90c1-992cc2c7aef1",
   "metadata": {
    "ExecuteTime": {
     "end_time": "2023-08-20T22:24:45.904005Z",
     "start_time": "2023-08-20T22:24:45.898232Z"
    },
    "id": "8881520f-d3ce-4180-90c1-992cc2c7aef1",
    "outputId": "e285d3a7-d5e3-4cd3-ddc3-a81077e7b33c",
    "slideshow": {
     "slide_type": "subslide"
    }
   },
   "outputs": [
    {
     "data": {
      "text/plain": [
       "'python for data analytics   '"
      ]
     },
     "execution_count": 36,
     "metadata": {},
     "output_type": "execute_result"
    }
   ],
   "source": [
    "A.lstrip()"
   ]
  },
  {
   "cell_type": "code",
   "execution_count": 37,
   "id": "c91b50b2-33d2-45ee-9822-3da51d146c95",
   "metadata": {
    "ExecuteTime": {
     "end_time": "2023-08-20T22:24:46.203111Z",
     "start_time": "2023-08-20T22:24:46.192103Z"
    },
    "id": "c91b50b2-33d2-45ee-9822-3da51d146c95",
    "outputId": "69f3708a-6363-4cb2-c140-cde2e9fd5fa8",
    "slideshow": {
     "slide_type": "subslide"
    }
   },
   "outputs": [
    {
     "data": {
      "text/plain": [
       "'    python for data analytics'"
      ]
     },
     "execution_count": 37,
     "metadata": {},
     "output_type": "execute_result"
    }
   ],
   "source": [
    "A.rstrip()"
   ]
  },
  {
   "cell_type": "code",
   "execution_count": 38,
   "id": "ed3740f3-2b59-4b39-a729-fa133f32ee93",
   "metadata": {
    "ExecuteTime": {
     "end_time": "2023-08-20T22:24:46.659277Z",
     "start_time": "2023-08-20T22:24:46.652253Z"
    },
    "id": "ed3740f3-2b59-4b39-a729-fa133f32ee93",
    "outputId": "19c6cfbe-7e4a-49a0-8121-e1fc39c6d099",
    "slideshow": {
     "slide_type": "subslide"
    }
   },
   "outputs": [
    {
     "data": {
      "text/plain": [
       "['python for', ' data analytics']"
      ]
     },
     "execution_count": 38,
     "metadata": {},
     "output_type": "execute_result"
    }
   ],
   "source": [
    "A = 'python for, data analytics'\n",
    "A.split(',')"
   ]
  },
  {
   "cell_type": "code",
   "execution_count": 7,
   "id": "245e2b78",
   "metadata": {},
   "outputs": [
    {
     "data": {
      "text/plain": [
       "['python', 'for', 'data', 'analytics']"
      ]
     },
     "execution_count": 7,
     "metadata": {},
     "output_type": "execute_result"
    }
   ],
   "source": [
    "# Jika tidak ditentukan split berdasarkan apa, \n",
    "# maka secara otomatis split akan dilakukan berdasarkan karakter spasi\n",
    "A = 'python for data analytics'\n",
    "A.split()"
   ]
  },
  {
   "cell_type": "code",
   "execution_count": 39,
   "id": "pgoSMwKYrpcI",
   "metadata": {
    "ExecuteTime": {
     "end_time": "2023-08-20T22:24:51.305679Z",
     "start_time": "2023-08-20T22:24:51.288258Z"
    },
    "colab": {
     "base_uri": "https://localhost:8080/"
    },
    "id": "pgoSMwKYrpcI",
    "outputId": "f0fc1e28-93d8-4065-bb14-47fa6aa79ff8",
    "slideshow": {
     "slide_type": "subslide"
    }
   },
   "outputs": [
    {
     "data": {
      "text/plain": [
       "True"
      ]
     },
     "execution_count": 39,
     "metadata": {},
     "output_type": "execute_result"
    }
   ],
   "source": [
    "A = 'python for, data analytics'\n",
    "A.startswith('python')"
   ]
  },
  {
   "cell_type": "code",
   "execution_count": 40,
   "id": "ikxAVzEcr161",
   "metadata": {
    "ExecuteTime": {
     "end_time": "2023-08-20T22:24:53.635682Z",
     "start_time": "2023-08-20T22:24:53.626176Z"
    },
    "colab": {
     "base_uri": "https://localhost:8080/"
    },
    "id": "ikxAVzEcr161",
    "outputId": "548dd5b9-4830-4c68-ff47-bbdd48c07863",
    "slideshow": {
     "slide_type": "subslide"
    }
   },
   "outputs": [
    {
     "data": {
      "text/plain": [
       "True"
      ]
     },
     "execution_count": 40,
     "metadata": {},
     "output_type": "execute_result"
    }
   ],
   "source": [
    "A = 'python for, data analytics'\n",
    "A.endswith('ics')"
   ]
  },
  {
   "cell_type": "code",
   "execution_count": 44,
   "id": "e55c421a",
   "metadata": {
    "ExecuteTime": {
     "end_time": "2023-08-20T22:25:34.912413Z",
     "start_time": "2023-08-20T22:25:34.905567Z"
    }
   },
   "outputs": [
    {
     "name": "stdout",
     "output_type": "stream",
     "text": [
      "True\n",
      "False\n"
     ]
    }
   ],
   "source": [
    "print('analytics' in A)\n",
    "print('machine' in A)"
   ]
  },
  {
   "cell_type": "markdown",
   "id": "6098e72e-adfb-410e-867c-6056eb5518ea",
   "metadata": {
    "id": "6098e72e-adfb-410e-867c-6056eb5518ea",
    "slideshow": {
     "slide_type": "slide"
    }
   },
   "source": [
    "---\n",
    "<img src=\"https://raw.githubusercontent.com/mihoku/repository-random/master/latihan.png\" width=\"300\"/>"
   ]
  },
  {
   "cell_type": "code",
   "execution_count": null,
   "id": "b7f42486-8ee2-4a21-9cc6-08fcff84327f",
   "metadata": {
    "colab": {
     "base_uri": "https://localhost:8080/"
    },
    "id": "b7f42486-8ee2-4a21-9cc6-08fcff84327f",
    "outputId": "e5034274-21bf-4d2a-fe9d-a666cbafb4f6",
    "slideshow": {
     "slide_type": "subslide"
    }
   },
   "outputs": [],
   "source": [
    "#gabungkan ketiga variabel tersebut menjadi 'Python For Data Analytics' (perhatikan huruf kapital)\n",
    "A = 'PYTHON'\n",
    "B = 'for'\n",
    "C = 'Data Analytics'\n",
    "\n",
    "print(...)"
   ]
  },
  {
   "cell_type": "markdown",
   "id": "0b624327",
   "metadata": {
    "id": "0b624327",
    "slideshow": {
     "slide_type": "slide"
    }
   },
   "source": [
    "## 2.2 Tipe Data Kolektif\n",
    "\n",
    "Terdapat empat built-in tipe data kolektif/jamak yang digunakan untuk menyimpan data di Python..\n",
    "1. List,\n",
    "2. Tuple, \n",
    "3. Set, dan\n",
    "4. Dictionary\n",
    "\n",
    "Perbedaan dari keempat tipe data di atas adalah :\n",
    "\n",
    "| **Pembeda**           | **List**          | **Tuple**              | **Set**                 | **Dictonary**                                |\n",
    "|:------------------|:--------------|:-------------------|:--------------------|:-----------------------------------------|\n",
    "| Bentuk            | [a,b,c]       | (a,b,c)            | {a,b,c}             | {a:x, b:y, c:z}                          |\n",
    "| Duplikasi Item    | Diperbolehkan | Diperbolehkan      | Tidak diperbolehkan | Tidak diperbolehkan (kunci maupun nilai) |\n",
    "| Order/Unordered   | Ordered       | Ordered            | Unordered           | Unordered                                |\n",
    "| Keterubahan Nilai | Dapat Diubah  | Tidak Dapat Diubah | Dapat Diubah        | Dapat Diubah                             |"
   ]
  },
  {
   "cell_type": "markdown",
   "id": "3181ee3e-2d4d-4ec2-82fd-b3cdd88b3177",
   "metadata": {
    "id": "3181ee3e-2d4d-4ec2-82fd-b3cdd88b3177",
    "slideshow": {
     "slide_type": "slide"
    }
   },
   "source": [
    "### 2.2.1 List\n",
    "\n",
    "> Untuk menyimpan lebih dari satu value dalam satu variabel. Value dapat diakses menggunakan indeks urutan serta nilai dalam list dapat ditamba, dihapus, dan diubah. List ditandai dengan penggunaan ```[]```."
   ]
  },
  {
   "cell_type": "code",
   "execution_count": 45,
   "id": "fe2e2071-e8bf-45d8-97ac-267dd6774a8f",
   "metadata": {
    "ExecuteTime": {
     "end_time": "2023-08-20T22:26:02.668821Z",
     "start_time": "2023-08-20T22:26:02.656862Z"
    },
    "colab": {
     "base_uri": "https://localhost:8080/"
    },
    "id": "fe2e2071-e8bf-45d8-97ac-267dd6774a8f",
    "outputId": "dcaffe2d-6f16-4423-f8dc-85daab3fce4c",
    "slideshow": {
     "slide_type": "subslide"
    }
   },
   "outputs": [
    {
     "name": "stdout",
     "output_type": "stream",
     "text": [
      "[1, 2, 3, 4, 5]\n",
      "<class 'list'>\n"
     ]
    }
   ],
   "source": [
    "# membuat list dengan value tipe data int\n",
    "int_list = [1, 2, 3, 4, 5]\n",
    "print(int_list)\n",
    "print(type(int_list))"
   ]
  },
  {
   "cell_type": "code",
   "execution_count": 46,
   "id": "b6878b1f-0872-4435-9ba8-4505ef1d5988",
   "metadata": {
    "ExecuteTime": {
     "end_time": "2023-08-20T22:26:10.819869Z",
     "start_time": "2023-08-20T22:26:10.805483Z"
    },
    "colab": {
     "base_uri": "https://localhost:8080/"
    },
    "id": "b6878b1f-0872-4435-9ba8-4505ef1d5988",
    "outputId": "1fa3053c-af53-4895-de16-621a975efec9",
    "slideshow": {
     "slide_type": "subslide"
    }
   },
   "outputs": [
    {
     "name": "stdout",
     "output_type": "stream",
     "text": [
      "['a', 'b', 'c', 'd']\n",
      "<class 'list'>\n"
     ]
    }
   ],
   "source": [
    "# membuat list dengan value tipe data str\n",
    "str_list = list(('a', 'b', 'c', 'd'))\n",
    "print(str_list)\n",
    "print(type(str_list))"
   ]
  },
  {
   "cell_type": "code",
   "execution_count": 47,
   "id": "d41c295e-80e7-41e7-b7ea-b43b9eafa8b3",
   "metadata": {
    "ExecuteTime": {
     "end_time": "2023-08-20T22:26:26.905731Z",
     "start_time": "2023-08-20T22:26:26.887789Z"
    },
    "colab": {
     "base_uri": "https://localhost:8080/"
    },
    "id": "d41c295e-80e7-41e7-b7ea-b43b9eafa8b3",
    "outputId": "a21214fc-43b0-4ad5-8860-11cff9341831",
    "slideshow": {
     "slide_type": "subslide"
    }
   },
   "outputs": [
    {
     "name": "stdout",
     "output_type": "stream",
     "text": [
      "[1, 2, 'a', 'b']\n",
      "<class 'list'>\n"
     ]
    }
   ],
   "source": [
    "# list juga mampu menampung value dengan tipe data berbeda\n",
    "mix_list = [1, 2, 'a', 'b']\n",
    "print(mix_list)\n",
    "print(type(mix_list))"
   ]
  },
  {
   "cell_type": "code",
   "execution_count": 48,
   "id": "264b72e0-c493-4d9d-9783-68a9d6583c9c",
   "metadata": {
    "ExecuteTime": {
     "end_time": "2023-08-20T22:26:31.207545Z",
     "start_time": "2023-08-20T22:26:31.195463Z"
    },
    "colab": {
     "base_uri": "https://localhost:8080/"
    },
    "id": "264b72e0-c493-4d9d-9783-68a9d6583c9c",
    "outputId": "64243bdf-574b-4aab-f57d-227316341b83",
    "slideshow": {
     "slide_type": "subslide"
    }
   },
   "outputs": [
    {
     "name": "stdout",
     "output_type": "stream",
     "text": [
      "[1, 2, [2.6, 8], 'a']\n",
      "<class 'list'>\n"
     ]
    }
   ],
   "source": [
    "# list kemudian mampu menampung list dalam list\n",
    "list_inlist =  [1, 2, [2.6, 8], 'a']\n",
    "print(list_inlist)\n",
    "print(type(list_inlist))"
   ]
  },
  {
   "cell_type": "markdown",
   "id": "7ece1539-e194-418e-a440-60d1374d7c20",
   "metadata": {
    "id": "7ece1539-e194-418e-a440-60d1374d7c20",
    "slideshow": {
     "slide_type": "subslide"
    }
   },
   "source": [
    "List dapat dimodifikasi menggunakan ```method```. Berikut method umum yang disediakan oleh Python:\n",
    "\n",
    "|Method| Deskripsi|Contoh |Hasil |\n",
    "|:--|:--|:--|:--|\n",
    "|append()|\tMenambahkan elemen ke dalam list pada urutan paling belakang | `lst.append('N')` | `lst = ['Y', 'O', 'S', 'A', 'N']`|\n",
    "|clear()|\tMenghapus seluruh elemen dalam list | `lst.clear()` | `lst = []`\n",
    "|copy()|\tMenghasilkan kopi dari list | `lst2 = lst.copy()` | `lst2 = ['Y', 'O', 'S', 'A']`|\n",
    "|count()|\tMenghasilkan jumlah elemen dalam satu list | `lst.count('Y')` | `1` |\n",
    "|extend()|\tMenggabungkan elemen iterabel ke dalam list | `lst.extend(['N', 'G'])` | `lst = ['Y', 'O', 'S', 'A', 'N', 'G']`|\n",
    "|index()|\tMenemukan lokasi pertama suatu elemen dalam list | `lst.index('S')` | `2` |\n",
    "|insert()|\tMenambahkan elemen ke dalam posisi tertentu dalam list | `lst.insert(3, 'I')` | `lst = ['Y', 'O', 'S', 'I', 'A']`|\n",
    "|pop()|\tMenghapus elemen list yang berada dalam posisi terkait | `lst.pop(2)` | `lst = ['Y', 'O', 'A']`|\n",
    "|remove()|\tMenghapus item pertama dengan nilai tertentu dalam suatu list | `lst.remove('O')` | `lst = ['Y', 'S', 'A']`|\n",
    "|reverse()|\tmembalik urutan list | `lst.reverse()` | `lst = ['A', 'S', 'O', 'Y']` |\n",
    "|sort()|\tMengurutkan elemen list | `lst.sort()` |`lst = ['A', 'O', 'S', 'Y']`|"
   ]
  },
  {
   "cell_type": "code",
   "execution_count": 49,
   "id": "d9a112aa-ad4d-486c-9aa2-559d59086e35",
   "metadata": {
    "ExecuteTime": {
     "end_time": "2023-08-20T22:26:41.523419Z",
     "start_time": "2023-08-20T22:26:41.511336Z"
    },
    "id": "d9a112aa-ad4d-486c-9aa2-559d59086e35",
    "slideshow": {
     "slide_type": "subslide"
    }
   },
   "outputs": [],
   "source": [
    "# kita akan mencoba menambah value ke dalam list menggunakan .append()\n",
    "int_list = [1, 2, 3, 4, 5]\n",
    "int_list.append(0)"
   ]
  },
  {
   "cell_type": "code",
   "execution_count": 50,
   "id": "87223691-def9-4ff0-8700-06d96ebcc468",
   "metadata": {
    "ExecuteTime": {
     "end_time": "2023-08-20T22:26:43.577677Z",
     "start_time": "2023-08-20T22:26:43.571052Z"
    },
    "colab": {
     "base_uri": "https://localhost:8080/"
    },
    "id": "87223691-def9-4ff0-8700-06d96ebcc468",
    "outputId": "a5df86b9-b11f-4e88-e475-8cdb6c761d1c",
    "slideshow": {
     "slide_type": "subslide"
    }
   },
   "outputs": [
    {
     "name": "stdout",
     "output_type": "stream",
     "text": [
      "[1, 2, 3, 4, 5, 0]\n"
     ]
    }
   ],
   "source": [
    "print(int_list)"
   ]
  },
  {
   "cell_type": "code",
   "execution_count": 51,
   "id": "ab58ebe8-8eb8-4a29-98cd-e4d2b8eb2f02",
   "metadata": {
    "ExecuteTime": {
     "end_time": "2023-08-20T22:26:45.254162Z",
     "start_time": "2023-08-20T22:26:45.248126Z"
    },
    "id": "ab58ebe8-8eb8-4a29-98cd-e4d2b8eb2f02",
    "slideshow": {
     "slide_type": "subslide"
    }
   },
   "outputs": [],
   "source": [
    "# kita akan mencoba mengurutkan value di dalam list menggunakan .sort()\n",
    "int_list.sort()"
   ]
  },
  {
   "cell_type": "code",
   "execution_count": 52,
   "id": "2c568c2a-4cd6-4775-bab6-81bbf2a206fa",
   "metadata": {
    "ExecuteTime": {
     "end_time": "2023-08-20T22:26:47.491762Z",
     "start_time": "2023-08-20T22:26:47.489191Z"
    },
    "colab": {
     "base_uri": "https://localhost:8080/"
    },
    "id": "2c568c2a-4cd6-4775-bab6-81bbf2a206fa",
    "outputId": "0134715c-550c-403c-eb32-da459b1c3e1c",
    "slideshow": {
     "slide_type": "subslide"
    }
   },
   "outputs": [
    {
     "name": "stdout",
     "output_type": "stream",
     "text": [
      "[0, 1, 2, 3, 4, 5]\n"
     ]
    }
   ],
   "source": [
    "print(int_list)"
   ]
  },
  {
   "cell_type": "code",
   "execution_count": 53,
   "id": "df30c291-88dd-467c-a09b-782e5092dd39",
   "metadata": {
    "ExecuteTime": {
     "end_time": "2023-08-20T22:26:50.937799Z",
     "start_time": "2023-08-20T22:26:50.933774Z"
    },
    "colab": {
     "base_uri": "https://localhost:8080/"
    },
    "id": "df30c291-88dd-467c-a09b-782e5092dd39",
    "outputId": "de44d8fb-44d3-41bd-e281-2a22e3c500b8",
    "slideshow": {
     "slide_type": "subslide"
    }
   },
   "outputs": [
    {
     "name": "stdout",
     "output_type": "stream",
     "text": [
      "[0, 1, 2, 3, 4, 5, 0, 1, 2, 3, 4, 5, 0, 1, 2, 3, 4, 5]\n"
     ]
    }
   ],
   "source": [
    "# kita akan mencoba mengalikan variable int_list\n",
    "int_list *= 3\n",
    "print(int_list)\n",
    "# list yang dihasilkan, bukan mengalikan masing-masing value di dalam int_list sebanyak 3 kali\n",
    "# tapi melakukan pengulangan print valuenya sebanyak 3 kali"
   ]
  },
  {
   "cell_type": "markdown",
   "id": "faba4034",
   "metadata": {},
   "source": [
    "Kita juga bisa membuat list berisi angka yang urut dengan bantuan fungsi ```range```"
   ]
  },
  {
   "cell_type": "code",
   "execution_count": 5,
   "id": "c01985a7",
   "metadata": {},
   "outputs": [
    {
     "name": "stdout",
     "output_type": "stream",
     "text": [
      "[0, 1, 2, 3, 4]\n",
      "[4, 5, 6, 7, 8, 9, 10]\n"
     ]
    }
   ],
   "source": [
    "# fungsi range digunakan untuk membuat urutan angka dengan rentang tertentu\n",
    "# urutan angka tersebut kemudian dapat diubah menjadi tipe data kolektif, misalnya list\n",
    "\n",
    "# Akan membuat urutan angka 0-4\n",
    "range_a = range(5)\n",
    "# range diubah menjadi list\n",
    "number_list = list(range_a)\n",
    "print(number_list)\n",
    "\n",
    "# Akan membuat urutan angka 4-10\n",
    "range_b = range(4,11)\n",
    "# range diubah menjadi list\n",
    "number_list_b = list(range_b)\n",
    "print(number_list_b)"
   ]
  },
  {
   "cell_type": "markdown",
   "id": "08e7da49-82c6-4d49-a1b0-b5337457bb70",
   "metadata": {
    "id": "08e7da49-82c6-4d49-a1b0-b5337457bb70",
    "slideshow": {
     "slide_type": "slide"
    }
   },
   "source": [
    "### 2.2.2 Tuple"
   ]
  },
  {
   "cell_type": "markdown",
   "id": "cd97302b-863a-4c3a-97a5-222f36022e84",
   "metadata": {
    "id": "cd97302b-863a-4c3a-97a5-222f36022e84",
    "slideshow": {
     "slide_type": "subslide"
    }
   },
   "source": [
    "> Kumpulan objek Python seperti ```list```, namun tidak dapat diubah nilainya setelah didefinisikan (immutable). Tuple ditandai dengan penggunaan ```()```."
   ]
  },
  {
   "cell_type": "code",
   "execution_count": null,
   "id": "28f61351-e8ff-445d-94f7-fa5ce00e75c4",
   "metadata": {
    "id": "28f61351-e8ff-445d-94f7-fa5ce00e75c4",
    "outputId": "075aca0d-beab-49f8-f4ce-ba0dc49f4792",
    "slideshow": {
     "slide_type": "subslide"
    }
   },
   "outputs": [],
   "source": [
    "int_tuple = (1, 2, 3, 4, 5)\n",
    "print(int_tuple)\n",
    "print(type(int_tuple))"
   ]
  },
  {
   "cell_type": "code",
   "execution_count": null,
   "id": "4363976a-327e-4af2-9a1d-61ae0cb6f478",
   "metadata": {
    "id": "4363976a-327e-4af2-9a1d-61ae0cb6f478",
    "outputId": "c4bfa8ca-38d4-456b-cc51-5d573ee5664d",
    "slideshow": {
     "slide_type": "subslide"
    }
   },
   "outputs": [],
   "source": [
    "# walaupun tuple itu immutable\n",
    "# kita bisa merubah tipenya menjadi list, dictionary, dsb\n",
    "# kita akan mencoba merubah int_tuple menjadi list\n",
    "list_int_tuple = list(int_tuple)\n",
    "print(list_int_tuple)\n",
    "print(type(list_int_tuple))"
   ]
  },
  {
   "cell_type": "markdown",
   "id": "b024b6be-338f-40e5-a104-6cb23d29d7df",
   "metadata": {
    "id": "b024b6be-338f-40e5-a104-6cb23d29d7df",
    "slideshow": {
     "slide_type": "slide"
    }
   },
   "source": [
    "### 2.2.3 Set\n",
    "\n",
    "> Kumpulan object Python yang memiliki nilai unik ```(tidak menerima duplikasi)``` dan elemennya tidak dapat diakses dengan indeks."
   ]
  },
  {
   "cell_type": "code",
   "execution_count": 54,
   "id": "d8d1174c",
   "metadata": {
    "ExecuteTime": {
     "end_time": "2023-08-20T22:27:45.529540Z",
     "start_time": "2023-08-20T22:27:45.525504Z"
    }
   },
   "outputs": [
    {
     "name": "stdout",
     "output_type": "stream",
     "text": [
      "{1, 2, 3}\n"
     ]
    }
   ],
   "source": [
    "int_set = {1,1,2,2,3,3}\n",
    "print(int_set)"
   ]
  },
  {
   "cell_type": "code",
   "execution_count": 55,
   "id": "265824ab-d166-4d6f-87ac-308be5432b59",
   "metadata": {
    "ExecuteTime": {
     "end_time": "2023-08-20T22:27:52.120180Z",
     "start_time": "2023-08-20T22:27:52.111209Z"
    },
    "id": "265824ab-d166-4d6f-87ac-308be5432b59",
    "outputId": "cddc2a34-8bd6-431f-9bee-4dcd336f305c",
    "slideshow": {
     "slide_type": "subslide"
    }
   },
   "outputs": [
    {
     "name": "stdout",
     "output_type": "stream",
     "text": [
      "{1, 2, 3}\n",
      "<class 'set'>\n"
     ]
    }
   ],
   "source": [
    "# perhatikan interaksi yang terjadi\n",
    "# kita akan membuat variable set dengan value yang duplicate di dalamnya\n",
    "int_set = set((1, 1, 2, 2, 3, 3))\n",
    "print(int_set)\n",
    "print(type(int_set))"
   ]
  },
  {
   "cell_type": "markdown",
   "id": "2ab746ce-8b5a-45ae-bda1-708bec497580",
   "metadata": {
    "id": "2ab746ce-8b5a-45ae-bda1-708bec497580",
    "slideshow": {
     "slide_type": "subslide"
    }
   },
   "source": [
    "Set dapat dimodifikasi menggunakan ```method```. Berikut method umum yang disediakan oleh Python:\n",
    "\n",
    "|Method| Deskripsi|Contoh |\n",
    "|:--|:--|:--|\n",
    "|add()|\tMenambahkan elemen ke dalam set pada urutan paling belakang | `a.update(6)` |\n",
    "|clear()|\tMenghapus seluruh elemen dalam set | `a.clear()` |\n",
    "|remove()|\tMenghapus elemen  tertentu dalam suatu set | `lst.remove('O')` | `lst = ['Y', 'O', 'S', 'A']`|\n",
    "|update()|\tMenambahkan iterable ke dalam set | `a.update([5, 6, 7])` |"
   ]
  },
  {
   "cell_type": "code",
   "execution_count": 56,
   "id": "51329b24-7c6f-4636-b6d0-67e3a61d6a00",
   "metadata": {
    "ExecuteTime": {
     "end_time": "2023-08-20T22:27:57.692701Z",
     "start_time": "2023-08-20T22:27:57.688036Z"
    },
    "id": "51329b24-7c6f-4636-b6d0-67e3a61d6a00",
    "outputId": "b1c79735-446e-4018-b475-86c5920ef6c2",
    "slideshow": {
     "slide_type": "subslide"
    }
   },
   "outputs": [
    {
     "name": "stdout",
     "output_type": "stream",
     "text": [
      "{2, 3}\n"
     ]
    }
   ],
   "source": [
    "# kita akan mencoba menghapus value menggunakan .remove()\n",
    "int_set.remove(1)\n",
    "print(int_set)"
   ]
  },
  {
   "cell_type": "markdown",
   "id": "77849af1-b9f7-4a00-bcc7-5f43e55acb72",
   "metadata": {
    "id": "77849af1-b9f7-4a00-bcc7-5f43e55acb72",
    "slideshow": {
     "slide_type": "slide"
    }
   },
   "source": [
    "### 2.2.4 Dictionary\n",
    "\n",
    "> Kumpulan object yang terdiri dari pasangan key (unik) dan value (nilai). Nilai dapat berupa text, number, boolean, maupun list. Dictionary ditandai dengan penggunaan ```{}```."
   ]
  },
  {
   "cell_type": "code",
   "execution_count": 13,
   "id": "0394250e-d3cd-4103-93fe-777fdcf548a3",
   "metadata": {
    "ExecuteTime": {
     "end_time": "2023-08-20T22:28:03.089657Z",
     "start_time": "2023-08-20T22:28:03.085703Z"
    },
    "id": "0394250e-d3cd-4103-93fe-777fdcf548a3",
    "slideshow": {
     "slide_type": "subslide"
    }
   },
   "outputs": [],
   "source": [
    "num_of_employee = {'SETJEN' : 2665, 'DJP' : 45960, 'ITJEN': 715, 'DJPK': 547}"
   ]
  },
  {
   "cell_type": "code",
   "execution_count": 58,
   "id": "5805f3ac-c190-49a3-8c57-d2a21e7b6b27",
   "metadata": {
    "ExecuteTime": {
     "end_time": "2023-08-20T22:28:03.702932Z",
     "start_time": "2023-08-20T22:28:03.690647Z"
    },
    "id": "5805f3ac-c190-49a3-8c57-d2a21e7b6b27",
    "outputId": "6bcc2468-4a42-4ea8-ae69-32730943e547",
    "slideshow": {
     "slide_type": "subslide"
    }
   },
   "outputs": [
    {
     "name": "stdout",
     "output_type": "stream",
     "text": [
      "<class 'dict'>\n"
     ]
    }
   ],
   "source": [
    "# kita akan mencoba\n",
    "print(type(num_of_employee))"
   ]
  },
  {
   "cell_type": "code",
   "execution_count": 59,
   "id": "93828ee4-0e62-4fd1-8657-17e628eaff1a",
   "metadata": {
    "ExecuteTime": {
     "end_time": "2023-08-20T22:28:06.816177Z",
     "start_time": "2023-08-20T22:28:06.803485Z"
    },
    "id": "93828ee4-0e62-4fd1-8657-17e628eaff1a",
    "outputId": "630ba6c2-1629-4981-e258-a5d2f487411b",
    "slideshow": {
     "slide_type": "subslide"
    }
   },
   "outputs": [
    {
     "name": "stdout",
     "output_type": "stream",
     "text": [
      "2665\n"
     ]
    }
   ],
   "source": [
    "# kita dapat mengakses nilai(value) dari key tertentu dengan cara berikut\n",
    "print(num_of_employee['SETJEN'])"
   ]
  },
  {
   "cell_type": "code",
   "execution_count": 60,
   "id": "70e67162-666f-4fec-8c83-ba5e7248e8a9",
   "metadata": {
    "ExecuteTime": {
     "end_time": "2023-08-20T22:28:07.253278Z",
     "start_time": "2023-08-20T22:28:07.241319Z"
    },
    "id": "70e67162-666f-4fec-8c83-ba5e7248e8a9",
    "outputId": "d21dc455-87f2-409e-ab13-3fbf255159e6",
    "slideshow": {
     "slide_type": "subslide"
    }
   },
   "outputs": [
    {
     "name": "stdout",
     "output_type": "stream",
     "text": [
      "SETJEN\n",
      "DJP\n",
      "ITJEN\n",
      "DJPK\n"
     ]
    }
   ],
   "source": [
    "# kemudian kita bisa melakuan mengakses key dan value di dalam dictionary menggunakan looping\n",
    "for key, value in num_of_employee.items():\n",
    "    print(key)"
   ]
  },
  {
   "cell_type": "code",
   "execution_count": 14,
   "id": "63263080-ed0d-4176-a252-5847109be124",
   "metadata": {
    "ExecuteTime": {
     "end_time": "2023-08-20T22:28:12.018940Z",
     "start_time": "2023-08-20T22:28:12.010865Z"
    },
    "colab": {
     "base_uri": "https://localhost:8080/"
    },
    "id": "63263080-ed0d-4176-a252-5847109be124",
    "outputId": "a31f9385-379d-4875-c28d-45fe7e64a948",
    "slideshow": {
     "slide_type": "subslide"
    }
   },
   "outputs": [
    {
     "name": "stdout",
     "output_type": "stream",
     "text": [
      "2665\n",
      "45960\n",
      "715\n",
      "547\n"
     ]
    }
   ],
   "source": [
    "# kemudian kita bisa melakuan mengakses key dan value di dalam dictionary menggunakan looping\n",
    "# looping akan dibahas lebih dalam kemudian\n",
    "for value in num_of_employee.values():\n",
    "    print(value)"
   ]
  },
  {
   "cell_type": "code",
   "execution_count": null,
   "id": "dadb9a83-4776-458d-97a7-281e07b21545",
   "metadata": {
    "id": "dadb9a83-4776-458d-97a7-281e07b21545",
    "outputId": "c35f2332-3fcd-4eb5-f2e0-28d67f8fd61e",
    "slideshow": {
     "slide_type": "subslide"
    }
   },
   "outputs": [],
   "source": [
    "# jika kita ingin menambahkan key dan value baru ke dalam dictionary\n",
    "num_of_employee['BPPK'] = 1200\n",
    "\n",
    "num_of_employee"
   ]
  },
  {
   "cell_type": "markdown",
   "id": "83azihrYn3pQ",
   "metadata": {
    "id": "83azihrYn3pQ",
    "slideshow": {
     "slide_type": "subslide"
    }
   },
   "source": [
    "Dictionary dapat dimodifikasi menggunakan ```method```. Berikut method umum yang disediakan oleh Python:\n",
    "\n",
    "|Method| Deskripsi|Contoh |Hasil |\n",
    "|:--|:--|:--|:--|\n",
    "|clear()|\tMenghapus seluruh elemen dalam dictionary | `thisdict.clear()` | `thisdict = {}`|\n",
    "|copy()|\tMenghasilkan kopi dari dictionary | `thisdict2 = thisdict.copy()` | `thisdict2 = {'SETJEN' : 2665, 'DJP' : 45960, 'ITJEN': 715, 'DJPK': 547}`|\n",
    "|fromkeys()|\tMembuat dictionary dari keys dan value yang telah ditetapkan | `thisdict = dict.fromkeys(keys, value)` | `thisdict = {'key1': value, 'key2': value, 'key3': value}` |\n",
    "|get()|\tMendapatkan value dari sebuah key | `thisdict.get('SETJEN')` | `2665`|\n",
    "|items()|\tMenampilkan  pasangan key dan value dalam dictionary | `thisdict.items()` | `dict_items([('SETJEN', 2665), ('DJP', 45960), ('ITJEN', 715), ('DJPK', 547)])` |\n",
    "|keys()|\tMenampilkan  keys dalam dictionary | `thisdict.keys()` | `dict_keys(['SETJEN', 'DJP', 'ITJEN', 'DJPK'])`|\n",
    "|pop()|\tMenghapus elemen dictionary yang mempunyai key terkait | `thisdict.pop('DJPK)` | `thisdict = {'SETJEN': 2665, 'DJP': 45960, 'ITJEN': 715}`|\n",
    "|popitem()|\tMenghapus pasangan key-value terakhir | `thisdict.popitem()` | `thisdict = {'SETJEN': 2665, 'DJP': 45960}`|\n",
    "|setdefault()|\tMendapatkan value dari sebuah key jika sudah ada, jika belum ada, menambah key tersebut ke dictionary dengan  value yang ditentukan | `thisdict.setdefault('MENTERI', 1)` | `thisdict = {'SETJEN': 2665, 'DJP': 45960, 'MENTERI': 1} ` |\n",
    "|update()|\tMemasukkan items (key-value) ke dictionary | `thisdict.update({'DJA' : 1000})` |`thisdict = {'SETJEN': 2665, 'DJP': 45960, 'MENTERI': 1, 'DJA': 1000}`|\n",
    "|values()|\tMenampilkan values dalam dictionary | `thisdict.values()` |`dict_values([2665, 45960, 1, 1000])`|"
   ]
  },
  {
   "cell_type": "markdown",
   "id": "lXxK2HD7eq8K",
   "metadata": {
    "id": "lXxK2HD7eq8K",
    "slideshow": {
     "slide_type": "slide"
    }
   },
   "source": [
    "### 2.2.5 Konversi antar tipe data kolektif\n",
    "\n",
    "* Untuk mengubah data menjadi list, gunakan function ```list()```\n",
    "* Untuk mengubah data menjadi set, gunakan function ```set()```\n",
    "* Untuk mengubah data menjadi tuple, gunakan function ```tuple()```\n",
    "* Untuk mengubah data menjadi dictionary, gunakan function ```dict()``` (syarat dan ketentuan berlaku)"
   ]
  },
  {
   "cell_type": "code",
   "execution_count": 22,
   "id": "XT8Vzi6kflYT",
   "metadata": {
    "ExecuteTime": {
     "end_time": "2023-08-20T22:30:03.495418Z",
     "start_time": "2023-08-20T22:30:03.480707Z"
    },
    "colab": {
     "base_uri": "https://localhost:8080/"
    },
    "id": "XT8Vzi6kflYT",
    "outputId": "635278b1-bc71-4a96-9577-88af1fbd1248",
    "slideshow": {
     "slide_type": "subslide"
    }
   },
   "outputs": [
    {
     "name": "stdout",
     "output_type": "stream",
     "text": [
      "['Y', 'o', 's', 'a', 'n']\n",
      "('Y', 'o', 's', 'a', 'n')\n"
     ]
    }
   ],
   "source": [
    "print(list('Yosan'))\n",
    "print(tuple('Yosan'))"
   ]
  },
  {
   "cell_type": "code",
   "execution_count": 21,
   "id": "05784fd0",
   "metadata": {},
   "outputs": [
    {
     "name": "stdout",
     "output_type": "stream",
     "text": [
      "{1, 2, 3, 4, 5}\n",
      "(1, 2, 3, 4, 4, 5)\n"
     ]
    }
   ],
   "source": [
    "# mengubah list menjadi set, akan menghilangkan elemen yang duplikat dari list awal\n",
    "initial_list = [1,2,3,4,4,5]\n",
    "print(set(initial_list))\n",
    "\n",
    "# mengubah list menjadi tuple\n",
    "print(tuple(initial_list))"
   ]
  },
  {
   "cell_type": "code",
   "execution_count": 17,
   "id": "4ea5fabf",
   "metadata": {},
   "outputs": [
    {
     "name": "stdout",
     "output_type": "stream",
     "text": [
      "{'Apel': 'Buah', 'Bayam': 'Sayur'}\n"
     ]
    }
   ],
   "source": [
    "# List yang berisi list dengan sepasang elemen dapat diubah menjadi dictionary\n",
    "list_of_pair_in_list = [[\"Apel\",\"Buah\"],[\"Bayam\",\"Sayur\"]]\n",
    "print(dict(list_of_pair_in_list))"
   ]
  },
  {
   "cell_type": "code",
   "execution_count": 19,
   "id": "849a8c28",
   "metadata": {},
   "outputs": [
    {
     "name": "stdout",
     "output_type": "stream",
     "text": [
      "{'Apel': 'Buah', 'Bayam': 'Sayur'}\n"
     ]
    }
   ],
   "source": [
    "# List yang berisi tuple dengan sepasang elemen dapat diubah menjadi dictionary\n",
    "list_of_pair_in_tuple = [(\"Apel\",\"Buah\"),(\"Bayam\",\"Sayur\")]\n",
    "print(dict(list_of_pair_in_tuple))"
   ]
  },
  {
   "cell_type": "markdown",
   "id": "f7ec1d0b-c4a8-4987-86cb-00625a77355d",
   "metadata": {
    "id": "f7ec1d0b-c4a8-4987-86cb-00625a77355d",
    "slideshow": {
     "slide_type": "slide"
    }
   },
   "source": [
    "# 3. Indexing dan slicing"
   ]
  },
  {
   "cell_type": "markdown",
   "id": "9e135085-d8bd-423e-a4f6-300d9236a6b8",
   "metadata": {
    "id": "9e135085-d8bd-423e-a4f6-300d9236a6b8",
    "slideshow": {
     "slide_type": "subslide"
    }
   },
   "source": [
    "## 3.1 Indexing\n",
    "\n",
    "> Posisi atas value, Python mengenal bahwa indeks pertama adalah ```0``` bukan ```1```."
   ]
  },
  {
   "cell_type": "markdown",
   "id": "e3e79552",
   "metadata": {},
   "source": [
    "<img src=\"https://raw.githubusercontent.com/mihoku/repository-random/master/Indexing.png\" width=\"700\"/>"
   ]
  },
  {
   "cell_type": "code",
   "execution_count": 78,
   "id": "9759e667-763c-4b56-83d7-6d45f039abfe",
   "metadata": {
    "ExecuteTime": {
     "end_time": "2023-08-21T00:52:47.460345Z",
     "start_time": "2023-08-21T00:52:47.444032Z"
    },
    "id": "9759e667-763c-4b56-83d7-6d45f039abfe",
    "outputId": "166797c2-d2fd-441d-d2b4-7aaaf9faea7d",
    "slideshow": {
     "slide_type": "subslide"
    }
   },
   "outputs": [
    {
     "name": "stdout",
     "output_type": "stream",
     "text": [
      "[1, 2, 3, 4, 5, 0]\n"
     ]
    }
   ],
   "source": [
    "#contoh kita akan membuat sebuah list\n",
    "int_list = [1, 2, 3, 4, 5, 0]\n",
    "print(int_list)"
   ]
  },
  {
   "cell_type": "code",
   "execution_count": 79,
   "id": "a08d39bf-c8e8-49a5-abc7-07f59cf15065",
   "metadata": {
    "ExecuteTime": {
     "end_time": "2023-08-21T00:52:47.850983Z",
     "start_time": "2023-08-21T00:52:47.837852Z"
    },
    "id": "a08d39bf-c8e8-49a5-abc7-07f59cf15065",
    "outputId": "ff813554-cc5d-49bd-b106-3ecb2e976115",
    "slideshow": {
     "slide_type": "subslide"
    }
   },
   "outputs": [
    {
     "name": "stdout",
     "output_type": "stream",
     "text": [
      "1\n"
     ]
    }
   ],
   "source": [
    "# kita akan mencoba print indexing pertama dari int_list\n",
    "print(int_list[0])"
   ]
  },
  {
   "cell_type": "code",
   "execution_count": 80,
   "id": "3bcb0bd1-d487-4aab-85aa-f3e031c81e68",
   "metadata": {
    "ExecuteTime": {
     "end_time": "2023-08-21T00:52:48.242598Z",
     "start_time": "2023-08-21T00:52:48.235739Z"
    },
    "id": "3bcb0bd1-d487-4aab-85aa-f3e031c81e68",
    "outputId": "652d30cf-5713-4705-ae9c-df5229075acd",
    "slideshow": {
     "slide_type": "subslide"
    }
   },
   "outputs": [
    {
     "name": "stdout",
     "output_type": "stream",
     "text": [
      "0\n"
     ]
    }
   ],
   "source": [
    "# kita akan mencoba mencari indexing terakhir dari int_list\n",
    "print(int_list[-1])"
   ]
  },
  {
   "cell_type": "code",
   "execution_count": 81,
   "id": "e8b253e5",
   "metadata": {
    "ExecuteTime": {
     "end_time": "2023-08-21T00:52:48.820040Z",
     "start_time": "2023-08-21T00:52:48.815061Z"
    }
   },
   "outputs": [
    {
     "name": "stdout",
     "output_type": "stream",
     "text": [
      "10\n"
     ]
    }
   ],
   "source": [
    "int_list[-1] = 10\n",
    "print(int_list[-1])"
   ]
  },
  {
   "cell_type": "code",
   "execution_count": 82,
   "id": "bca33e42-777e-4143-98a7-7110bdce3cfe",
   "metadata": {
    "ExecuteTime": {
     "end_time": "2023-08-21T00:52:53.432305Z",
     "start_time": "2023-08-21T00:52:53.416622Z"
    },
    "id": "bca33e42-777e-4143-98a7-7110bdce3cfe",
    "outputId": "92c055ce-b934-43a2-ffd6-cd6b062a9b5e",
    "slideshow": {
     "slide_type": "subslide"
    }
   },
   "outputs": [
    {
     "name": "stdout",
     "output_type": "stream",
     "text": [
      "PYTHON\n"
     ]
    }
   ],
   "source": [
    "#hal yang sama juga bisa dilakukan pada type data string\n",
    "text = \"PYTHON\"\n",
    "print(text)"
   ]
  },
  {
   "cell_type": "code",
   "execution_count": 83,
   "id": "1cb019c8-a9aa-4a6a-bb44-da9e81b847f6",
   "metadata": {
    "ExecuteTime": {
     "end_time": "2023-08-21T00:52:54.746530Z",
     "start_time": "2023-08-21T00:52:54.733115Z"
    },
    "id": "1cb019c8-a9aa-4a6a-bb44-da9e81b847f6",
    "outputId": "e79fc589-35c1-484c-e4cd-8660fd1a24be",
    "slideshow": {
     "slide_type": "subslide"
    }
   },
   "outputs": [
    {
     "name": "stdout",
     "output_type": "stream",
     "text": [
      "Y\n"
     ]
    }
   ],
   "source": [
    "print(text[1])"
   ]
  },
  {
   "cell_type": "code",
   "execution_count": 84,
   "id": "d16544f3-a746-4679-8d80-04ef7af066e6",
   "metadata": {
    "ExecuteTime": {
     "end_time": "2023-08-21T00:52:55.121545Z",
     "start_time": "2023-08-21T00:52:55.105156Z"
    },
    "id": "d16544f3-a746-4679-8d80-04ef7af066e6",
    "outputId": "4266a363-f818-41b9-d40f-639ac582e2bd",
    "slideshow": {
     "slide_type": "subslide"
    }
   },
   "outputs": [
    {
     "name": "stdout",
     "output_type": "stream",
     "text": [
      "O\n"
     ]
    }
   ],
   "source": [
    "print(text[-2])"
   ]
  },
  {
   "cell_type": "code",
   "execution_count": 85,
   "id": "5edc168e",
   "metadata": {
    "ExecuteTime": {
     "end_time": "2023-08-21T00:53:05.184003Z",
     "start_time": "2023-08-21T00:53:05.173957Z"
    }
   },
   "outputs": [
    {
     "data": {
      "text/plain": [
       "(1, 2, 3, 4, 5, 10)"
      ]
     },
     "execution_count": 85,
     "metadata": {},
     "output_type": "execute_result"
    }
   ],
   "source": [
    "tuple_list = tuple(int_list)\n",
    "tuple_list"
   ]
  },
  {
   "cell_type": "code",
   "execution_count": 86,
   "id": "d42a2f68",
   "metadata": {
    "ExecuteTime": {
     "end_time": "2023-08-21T00:53:10.323328Z",
     "start_time": "2023-08-21T00:53:10.308171Z"
    }
   },
   "outputs": [
    {
     "data": {
      "text/plain": [
       "10"
      ]
     },
     "execution_count": 86,
     "metadata": {},
     "output_type": "execute_result"
    }
   ],
   "source": [
    "tuple_list[-1]"
   ]
  },
  {
   "cell_type": "code",
   "execution_count": 88,
   "id": "ff2f2eaa",
   "metadata": {
    "ExecuteTime": {
     "end_time": "2023-08-21T00:53:33.139390Z",
     "start_time": "2023-08-21T00:53:33.129485Z"
    }
   },
   "outputs": [
    {
     "data": {
      "text/plain": [
       "{1, 2, 3, 4, 5, 10}"
      ]
     },
     "execution_count": 88,
     "metadata": {},
     "output_type": "execute_result"
    }
   ],
   "source": [
    "set_list = set(int_list)\n",
    "set_list"
   ]
  },
  {
   "cell_type": "code",
   "execution_count": 89,
   "id": "4b5f299f",
   "metadata": {
    "ExecuteTime": {
     "end_time": "2023-08-21T00:53:40.796416Z",
     "start_time": "2023-08-21T00:53:40.771316Z"
    }
   },
   "outputs": [
    {
     "ename": "TypeError",
     "evalue": "'set' object is not subscriptable",
     "output_type": "error",
     "traceback": [
      "\u001b[1;31m---------------------------------------------------------------------------\u001b[0m",
      "\u001b[1;31mTypeError\u001b[0m                                 Traceback (most recent call last)",
      "Input \u001b[1;32mIn [89]\u001b[0m, in \u001b[0;36m<cell line: 1>\u001b[1;34m()\u001b[0m\n\u001b[1;32m----> 1\u001b[0m \u001b[43mset_list\u001b[49m\u001b[43m[\u001b[49m\u001b[38;5;241;43m0\u001b[39;49m\u001b[43m]\u001b[49m\n",
      "\u001b[1;31mTypeError\u001b[0m: 'set' object is not subscriptable"
     ]
    }
   ],
   "source": [
    "set_list[0]"
   ]
  },
  {
   "cell_type": "markdown",
   "id": "04e82061-a671-4516-8f32-9c93653d2774",
   "metadata": {
    "id": "04e82061-a671-4516-8f32-9c93653d2774",
    "slideshow": {
     "slide_type": "slide"
    }
   },
   "source": [
    "## 3.2 Slicing"
   ]
  },
  {
   "cell_type": "markdown",
   "id": "e8cae04a",
   "metadata": {},
   "source": [
    "> Slicing digunakan untuk memotong dan mengambil sejumlah elemen tertentu dari sebuah data kolektif\n",
    "\n",
    "Python membaca slicing ```int_list[start:stop:step]```.\n",
    "\n",
    "* ```start``` : index ke berapa slicing dimulai\n",
    "* ```stop``` : index ke berapa slicing berhenti. Index yang menjadi batas stop ini tidak ikut diambil\n",
    "* ```step``` : Berapa jeda antar elemen yang diambil"
   ]
  },
  {
   "cell_type": "code",
   "execution_count": 102,
   "id": "43c3ebfa-e93a-48d2-b565-4147b2c1f38e",
   "metadata": {
    "ExecuteTime": {
     "end_time": "2023-08-21T00:56:37.264732Z",
     "start_time": "2023-08-21T00:56:37.257987Z"
    },
    "colab": {
     "base_uri": "https://localhost:8080/"
    },
    "id": "43c3ebfa-e93a-48d2-b565-4147b2c1f38e",
    "outputId": "bd4e4675-2e7b-4e3a-9834-968b16cb41a1",
    "slideshow": {
     "slide_type": "subslide"
    }
   },
   "outputs": [
    {
     "name": "stdout",
     "output_type": "stream",
     "text": [
      "[0, 1, 2, 3, 4, 5, 6, 7, 8, 9]\n"
     ]
    }
   ],
   "source": [
    "#contoh kita akan membuat sebuah list\n",
    "int_list = [0, 1, 2, 3, 4, 5, 6, 7, 8, 9]\n",
    "print(int_list)"
   ]
  },
  {
   "cell_type": "code",
   "execution_count": 91,
   "id": "03b3be78-0e10-4ea1-a6df-1383b07262e1",
   "metadata": {
    "ExecuteTime": {
     "end_time": "2023-08-21T00:54:43.195354Z",
     "start_time": "2023-08-21T00:54:43.185346Z"
    },
    "colab": {
     "base_uri": "https://localhost:8080/"
    },
    "id": "03b3be78-0e10-4ea1-a6df-1383b07262e1",
    "outputId": "f06dc32d-0a1c-4c90-da38-60dec2311a29",
    "slideshow": {
     "slide_type": "subslide"
    }
   },
   "outputs": [
    {
     "name": "stdout",
     "output_type": "stream",
     "text": [
      "[0, 1]\n"
     ]
    }
   ],
   "source": [
    "# kita akan mencoba print slicing dari index pertama ke kedua\n",
    "# ingat bahwa python memulai indexnya dari 0\n",
    "# maka untuk indexing start = 0, sedangkan indexing end = 2 (excluded)\n",
    "print(int_list[0:2])"
   ]
  },
  {
   "cell_type": "code",
   "execution_count": 92,
   "id": "a847f194-3811-4f75-a2ab-c90cb024912a",
   "metadata": {
    "ExecuteTime": {
     "end_time": "2023-08-21T00:54:43.943895Z",
     "start_time": "2023-08-21T00:54:43.936775Z"
    },
    "id": "a847f194-3811-4f75-a2ab-c90cb024912a",
    "outputId": "70b110dc-0770-402f-c2ef-1289a43dbc25",
    "slideshow": {
     "slide_type": "subslide"
    }
   },
   "outputs": [
    {
     "name": "stdout",
     "output_type": "stream",
     "text": [
      "[1, 2, 3, 4, 5, 6, 7, 8, 9]\n"
     ]
    }
   ],
   "source": [
    "# kita akan mencoba melakukan print slicing dari index kedua, sampai akhir\n",
    "print(int_list[1:])"
   ]
  },
  {
   "cell_type": "code",
   "execution_count": 93,
   "id": "427ec3d0-9e86-4799-869d-c756238e1057",
   "metadata": {
    "ExecuteTime": {
     "end_time": "2023-08-21T00:54:45.565038Z",
     "start_time": "2023-08-21T00:54:45.558065Z"
    },
    "id": "427ec3d0-9e86-4799-869d-c756238e1057",
    "outputId": "8e398454-1607-4418-bae3-6b7c57e6e686",
    "slideshow": {
     "slide_type": "subslide"
    }
   },
   "outputs": [
    {
     "name": "stdout",
     "output_type": "stream",
     "text": [
      "[0, 1, 2, 3, 4]\n"
     ]
    }
   ],
   "source": [
    "# kita akan mencoba melakukan print slicing keseluruhan value, sebelum index kelima\n",
    "# perhatikan interaksi yang terjadi\n",
    "# bandingkan dengan slicing sebelumnya\n",
    "print(int_list[:5])"
   ]
  },
  {
   "cell_type": "code",
   "execution_count": 94,
   "id": "Dtm_LCGuZnSt",
   "metadata": {
    "ExecuteTime": {
     "end_time": "2023-08-21T00:54:45.909976Z",
     "start_time": "2023-08-21T00:54:45.905099Z"
    },
    "colab": {
     "base_uri": "https://localhost:8080/"
    },
    "id": "Dtm_LCGuZnSt",
    "outputId": "9bd2e2b2-4eb5-4825-f330-7b228c07455b",
    "slideshow": {
     "slide_type": "subslide"
    }
   },
   "outputs": [
    {
     "name": "stdout",
     "output_type": "stream",
     "text": [
      "7\n"
     ]
    }
   ],
   "source": [
    "# kita akan mencoba melakukan print slicing dengan index paling belakang, ke-1 dari list\n",
    "# perhatikan interaksi yang terjadi\n",
    "# bandingkan dengan slicing sebelumnya\n",
    "print(int_list[-3])"
   ]
  },
  {
   "cell_type": "code",
   "execution_count": 95,
   "id": "pcewkShfaRZ4",
   "metadata": {
    "ExecuteTime": {
     "end_time": "2023-08-21T00:54:47.365193Z",
     "start_time": "2023-08-21T00:54:47.357494Z"
    },
    "colab": {
     "base_uri": "https://localhost:8080/"
    },
    "id": "pcewkShfaRZ4",
    "outputId": "2d3826ff-a699-41a3-da8d-e41d6f055f6c",
    "slideshow": {
     "slide_type": "subslide"
    }
   },
   "outputs": [
    {
     "name": "stdout",
     "output_type": "stream",
     "text": [
      "[1, 3, 5]\n"
     ]
    }
   ],
   "source": [
    "# kita akan mencoba melakukan print slicing dengan index paling belakang, ke-1 dari list\n",
    "# perhatikan interaksi yang terjadi\n",
    "# bandingkan dengan slicing sebelumnya\n",
    "print(int_list[1:7:2])"
   ]
  },
  {
   "cell_type": "code",
   "execution_count": 106,
   "id": "fd4dbe28",
   "metadata": {
    "ExecuteTime": {
     "end_time": "2023-08-21T00:57:09.084185Z",
     "start_time": "2023-08-21T00:57:09.072303Z"
    }
   },
   "outputs": [
    {
     "name": "stdout",
     "output_type": "stream",
     "text": [
      "[0, 1, 2, 3, 4, 5, 6, 7, 8, 9]\n",
      "[0, 1, 2, 3, 4, 5, 6, 7, 80, 90]\n"
     ]
    }
   ],
   "source": [
    "print(int_list)\n",
    "int_list[-2:] = [80,90]\n",
    "print(int_list)"
   ]
  },
  {
   "cell_type": "code",
   "execution_count": 96,
   "id": "A8DhsR4obbxM",
   "metadata": {
    "ExecuteTime": {
     "end_time": "2023-08-21T00:54:47.770455Z",
     "start_time": "2023-08-21T00:54:47.753510Z"
    },
    "colab": {
     "base_uri": "https://localhost:8080/"
    },
    "id": "A8DhsR4obbxM",
    "outputId": "b3a9c5b5-9878-4bf2-8379-beb8e2b28568",
    "slideshow": {
     "slide_type": "subslide"
    }
   },
   "outputs": [
    {
     "name": "stdout",
     "output_type": "stream",
     "text": [
      "n\n",
      "['Y', 'a', 'n', 'o', 's']\n",
      "nasoY\n"
     ]
    }
   ],
   "source": [
    "# slicing pada string\n",
    "s = \"Yosan\"\n",
    "print(s[4])\n",
    "print(sorted(s))\n",
    "print(s[::-1])"
   ]
  },
  {
   "cell_type": "code",
   "execution_count": 97,
   "id": "bfcdbf3f",
   "metadata": {
    "ExecuteTime": {
     "end_time": "2023-08-21T00:55:31.376492Z",
     "start_time": "2023-08-21T00:55:31.364457Z"
    }
   },
   "outputs": [],
   "source": [
    "tuple_list = tuple(int_list)"
   ]
  },
  {
   "cell_type": "code",
   "execution_count": 99,
   "id": "9dfa27ef",
   "metadata": {
    "ExecuteTime": {
     "end_time": "2023-08-21T00:55:42.764276Z",
     "start_time": "2023-08-21T00:55:42.758904Z"
    }
   },
   "outputs": [
    {
     "data": {
      "text/plain": [
       "(2, 3, 4, 5, 6, 7, 8)"
      ]
     },
     "execution_count": 99,
     "metadata": {},
     "output_type": "execute_result"
    }
   ],
   "source": [
    "tuple_list[2:-1]"
   ]
  },
  {
   "cell_type": "markdown",
   "id": "9loNcWYBFoTW",
   "metadata": {
    "id": "9loNcWYBFoTW",
    "slideshow": {
     "slide_type": "slide"
    }
   },
   "source": [
    "# 4. Input dan Output"
   ]
  },
  {
   "cell_type": "code",
   "execution_count": 107,
   "id": "Ox5QtBznFvOX",
   "metadata": {
    "ExecuteTime": {
     "end_time": "2023-08-21T00:57:25.091822Z",
     "start_time": "2023-08-21T00:57:21.266179Z"
    },
    "colab": {
     "base_uri": "https://localhost:8080/"
    },
    "id": "Ox5QtBznFvOX",
    "outputId": "f4729749-9705-4295-8698-3906232eeca5",
    "slideshow": {
     "slide_type": "subslide"
    }
   },
   "outputs": [
    {
     "name": "stdout",
     "output_type": "stream",
     "text": [
      "Ketik namamu (lalu tekan Enter): string\n",
      "Hai,  string !\n",
      "Hai, string!\n"
     ]
    }
   ],
   "source": [
    "# input\n",
    "nama = input(\"Ketik namamu (lalu tekan Enter): \")\n",
    "\n",
    "# output\n",
    "print(\"Hai, \", nama, \"!\")\n",
    "print(\"Hai, %s!\" %nama)"
   ]
  },
  {
   "cell_type": "code",
   "execution_count": 109,
   "id": "wbvoz-QCHBbk",
   "metadata": {
    "ExecuteTime": {
     "end_time": "2023-08-21T00:57:38.436947Z",
     "start_time": "2023-08-21T00:57:36.170979Z"
    },
    "colab": {
     "base_uri": "https://localhost:8080/"
    },
    "id": "wbvoz-QCHBbk",
    "outputId": "84a93bcd-5f57-442b-d9fa-ec7a51e2015e",
    "slideshow": {
     "slide_type": "subslide"
    }
   },
   "outputs": [
    {
     "name": "stdout",
     "output_type": "stream",
     "text": [
      "Siapa namamu: a\n",
      "Umurmu berapa? 10\n",
      "\n",
      "Umur a adalah 10.\n"
     ]
    }
   ],
   "source": [
    "# input\n",
    "nama = input(\"Siapa namamu: \")\n",
    "umur = int(input(\"Umurmu berapa? \"))\n",
    "\n",
    "# output\n",
    "print(\"\\nUmur %s adalah %d.\" % (nama, umur))"
   ]
  },
  {
   "cell_type": "markdown",
   "id": "649efab1",
   "metadata": {},
   "source": [
    " # 5. Control Structure\n"
   ]
  },
  {
   "cell_type": "markdown",
   "id": "d923a714",
   "metadata": {},
   "source": [
    " Beberapa hal dasar yang perlu dipahami:\n",
    " 1. ```if else``` statement.\n",
    " 2. ```for``` loops.\n",
    " 3. ```while``` loops.\n",
    " 4. ```break```, ```continue```, dan ```pass```."
   ]
  },
  {
   "cell_type": "markdown",
   "id": "cec03d06",
   "metadata": {},
   "source": [
    "## 5.1 If else statement / conditional\n",
    "\n",
    "> Digunakan untuk mengendalikan kode yang akan dieksekusi dengan memperhatikan pemenuhan terhadap kondisi tertentu.\n",
    "\n",
    "```python\n",
    "\n",
    "if condition1:\n",
    "    # baris dieksekusi jika condition1 terpenuhi\n",
    "elif condition2:\n",
    "    # baris dieksekusi jika condition2 terpenuhi\n",
    "else:\n",
    "    # baris dieksekusi jika condition1 & condition2 tidak terpenuhi\n",
    "\n",
    "\n",
    "```"
   ]
  },
  {
   "cell_type": "code",
   "execution_count": null,
   "id": "7bf6003a",
   "metadata": {},
   "outputs": [],
   "source": [
    "# kita akan membuat variable A\n",
    "# kita akan membuat variable B\n",
    "A = 200\n",
    "B = 33\n",
    "\n",
    "# kita akan mencoba membuat kondisi atas value pada variable A dan B\n",
    "# kondisi 1\n",
    "# jika nilai B > dari A, maka print B is greater than A\n",
    "if B > A:\n",
    "  print(\"B is greater than A\")\n",
    "# kondisi 2\n",
    "# jika B == A, maka print B and A are equal\n",
    "elif B == A:\n",
    "  print(\"B and A are equal\")\n",
    "# kondisi else, diluar kondisi 1 dan 2\n",
    "# jika dua kondisi sebelumnya tidak terpenuhi, maka print A is greater than B\n",
    "else:\n",
    "  print(\"A is greater than B\")"
   ]
  },
  {
   "cell_type": "markdown",
   "id": "dd0eef68",
   "metadata": {},
   "source": [
    "<img src=\"https://raw.githubusercontent.com/mihoku/repository-random/master/if-else.png\" width=\"800\">"
   ]
  },
  {
   "cell_type": "markdown",
   "id": "71976f1a",
   "metadata": {},
   "source": [
    "## 5.2 For loops\n",
    "\n",
    "> Digunakan untuk mengeksekusi sebuah blok kode secara berulang berdasarkan sebuah iterable.\n",
    "\n",
    "```python\n",
    "for i in iterable:\n",
    "    # baris dieksekusi pada setiap loop\n",
    "```\n",
    "\n",
    "Iterable dapat berupa list, tuple, set, dictionary, string, maupun range. Kita bisa gunakan range untuk menghasilkan urutan angka secara otomatis dengan format berikut:\n",
    "\n",
    "```range(start, finish, steps)``` seperti pada saat list slicing."
   ]
  },
  {
   "cell_type": "code",
   "execution_count": null,
   "id": "332fbfe5",
   "metadata": {},
   "outputs": [],
   "source": [
    "# kita akan mencoba membuat for loops menggunakan range:\n",
    "for i in range(1,11,2):   # > kita akan melihat i (ini merupakan element dalam range), start = 1, finish = 11, steps = 2\n",
    "    print(i)              # > print seluruh i yang memenuhi kriteria dalam range diatas"
   ]
  },
  {
   "cell_type": "code",
   "execution_count": null,
   "id": "c33d9057",
   "metadata": {},
   "outputs": [],
   "source": [
    "# kita akan mencoba membuat for loops dengan melakukan iterasi dalam list\n",
    "# membuat variable list berisi nama\n",
    "names = [\"Alice\", \"Bob\", \"Charlie\"]\n",
    "\n",
    "for name in names:                   # > setiap nama di list names\n",
    "    print(\"Hello, \" + name + \"!\")    # > print nama-nama tersebut dengan format Hello, nama!, perhatikan spasi yang digunakan"
   ]
  },
  {
   "cell_type": "code",
   "execution_count": null,
   "id": "28e56db2",
   "metadata": {},
   "outputs": [],
   "source": [
    "# contoh lainnya, membuat list dengan for loops\n",
    "squares = []\n",
    "for i in range(10):\n",
    "    squares.append(i * i)\n",
    "squares"
   ]
  },
  {
   "cell_type": "markdown",
   "id": "629e83cc",
   "metadata": {},
   "source": [
    "<img src=\"https://raw.githubusercontent.com/mihoku/repository-random/master/for-loop.png\" width=\"800\">\n"
   ]
  },
  {
   "cell_type": "markdown",
   "id": "d4504b3e",
   "metadata": {},
   "source": [
    "---\n",
    "<img src=\"https://raw.githubusercontent.com/mihoku/repository-random/master/latihan.png\" width=\"300\"/>"
   ]
  },
  {
   "cell_type": "markdown",
   "id": "30f670f0",
   "metadata": {},
   "source": [
    "#### Buat list berisi huruf non-vokal (konsonan) dari kalimat berikut ini"
   ]
  },
  {
   "cell_type": "code",
   "execution_count": null,
   "id": "30d4f38e",
   "metadata": {},
   "outputs": [
    {
     "name": "stdout",
     "output_type": "stream",
     "text": [
      "['k', 'd', 'l', 'h', 'n', 'k', 'g', 'm', 'b', 'l', 's', 'l', 'l', 'r', 'n', 'g', 's', 'n', 'n', 'g', 'b', 'k', 'r', 'j']\n"
     ]
    }
   ],
   "source": [
    "kalimat = \"aku adalah anak gembala selalu riang senang bekerja\"\n",
    "huruf_vokal = ['a','i','u','e','o']\n",
    "\n",
    "# Jawaban Anda di sini\n",
    "\n",
    "\n",
    "\n"
   ]
  },
  {
   "cell_type": "markdown",
   "id": "b279d973",
   "metadata": {},
   "source": [
    "## 5.3 List Comprehension"
   ]
  },
  {
   "cell_type": "markdown",
   "id": "102488bd",
   "metadata": {},
   "source": [
    "List comprehension digunakan untuk membuat ayntax for-loop menjadi lebih pendek.\n",
    "\n",
    "**Contoh:** Kita memiliki sebuah list bernama ```a_list``` yang berisi bilangan bulat (integer). \n",
    "<pre>\n",
    "a_list = [1,2,3,4,5,6,7,10,11,15,17]\n",
    "</pre>\n",
    "\n",
    "Kita ingin membuat sebuah list baru, yang isinya adalah seluruh elemen dalam ```a_list``` dikalikan dua.\n",
    "\n",
    "yang biasa kita lakukan dengan menggunakan ```for loop``` adalah seperti ini:\n",
    "\n",
    "<pre>\n",
    "new_list = []\n",
    "<font color='red'>for item in a_list:</font> # iterate through a_list\n",
    "    <font color='green'>new_list.append(item * 2)</font> # multiply the value by 2 and append to new_list\n",
    "</pre>"
   ]
  },
  {
   "cell_type": "code",
   "execution_count": 4,
   "id": "e528df76",
   "metadata": {},
   "outputs": [
    {
     "data": {
      "text/plain": [
       "[2, 4, 6, 8, 10, 12, 14, 20, 22, 30, 34]"
      ]
     },
     "execution_count": 4,
     "metadata": {},
     "output_type": "execute_result"
    }
   ],
   "source": [
    "a_list = [1,2,3,4,5,6,7,10,11,15,17]\n",
    "\n",
    "new_list = []\n",
    "for item in a_list: # iterate through a_list\n",
    "    new_list.append(item * 2) # multiply the value by 2 and append to new_list\n",
    "\n",
    "new_list"
   ]
  },
  {
   "cell_type": "markdown",
   "id": "cfb278b5",
   "metadata": {},
   "source": [
    "Dengan list comprehension, kita bisa mengubahnya menjadi seperti ini:"
   ]
  },
  {
   "cell_type": "code",
   "execution_count": 5,
   "id": "6497ee04",
   "metadata": {},
   "outputs": [
    {
     "data": {
      "text/plain": [
       "[2, 4, 6, 8, 10, 12, 14, 20, 22, 30, 34]"
      ]
     },
     "execution_count": 5,
     "metadata": {},
     "output_type": "execute_result"
    }
   ],
   "source": [
    "new_list = [item*2 for item in a_list]\n",
    "new_list"
   ]
  },
  {
   "cell_type": "markdown",
   "id": "eb3b5516",
   "metadata": {},
   "source": [
    "Apabila kita ingin menambahkan kondisional, misalnya kita ingin mengambil hanya seluruh angka ganjil dari ```a_list```, maka dalam bentuk for yang konvensional perintahnya akan tertulis sebagaimana berikut:\n",
    "\n",
    "<pre>\n",
    "a_list = [1,2,3,4,5,6,7,10,11,15,17]\n",
    "new_list = <font color='blue'>[]</font>\n",
    "\n",
    "<font color='red'>for item in a_list:</font> # iterate through a_list\n",
    "    <font color='green'>if item % 2 != 0:</font> # if the item is odd\n",
    "        <font color='green'>new_list.append(item)</font> # append item to new_list\n",
    "</pre>"
   ]
  },
  {
   "cell_type": "code",
   "execution_count": 15,
   "id": "dc22f4c5",
   "metadata": {},
   "outputs": [
    {
     "name": "stdout",
     "output_type": "stream",
     "text": [
      "[1, 3, 5, 7, 11, 15, 17]\n"
     ]
    }
   ],
   "source": [
    "a_list = [1,2,3,4,5,6,7,10,11,15,17]\n",
    "\n",
    "new_list = []\n",
    "for item in a_list: # iterate through a_list\n",
    "    if item % 2 != 0: # if the item is odd\n",
    "        new_list.append(item) # append item to new_list\n",
    "\n",
    "print(new_list)"
   ]
  },
  {
   "cell_type": "markdown",
   "id": "f0933b90",
   "metadata": {},
   "source": [
    "Dengan list comprehension, maka perintahnya akan menjadi seperti ini:"
   ]
  },
  {
   "cell_type": "code",
   "execution_count": 16,
   "id": "af5c23ac",
   "metadata": {},
   "outputs": [
    {
     "name": "stdout",
     "output_type": "stream",
     "text": [
      "[1, 3, 5, 7, 11, 15, 17]\n"
     ]
    }
   ],
   "source": [
    "new_list = [item for item in a_list if item%2!=0]\n",
    "\n",
    "print(new_list)"
   ]
  },
  {
   "cell_type": "markdown",
   "id": "0820f1bf",
   "metadata": {},
   "source": [
    "<img src = \"https://scaler.com/topics/images/list-comprehenstion.webp\" width=\"600\"/>"
   ]
  },
  {
   "cell_type": "markdown",
   "id": "bca1fa8d",
   "metadata": {},
   "source": [
    "Apabila kita ingin menambahkan kondisi lebih dari satu (if-else), misalnya kita ingin membuat list baru dari ```a_list``` yang isinya adalah ```ganjil``` dan ```genap``` sesuai elemen dalam a_list. \n",
    "\n",
    "Jika kita menggunakan for if-else konvensional maka bentuknya seperti ini:\n",
    "<pre>\n",
    "a_list = [1,2,3,4,5,6,7,10,11,15,17]\n",
    "new_list = <font color='blue'>[]</font>\n",
    "\n",
    "<font color='red'>for item in a_list:</font> # iterate through a_list\n",
    "    <font color='green'>if item % 2 != 0:</font> # if the item is odd\n",
    "        <font color='green'>new_list.append('ganjil')</font> # append 'ganjil' to new_list\n",
    "    <font color='purple'>else:\n",
    "        new_list.append('genap')</font> # for even numbers, append 'genap' to new_list\n",
    "</pre>"
   ]
  },
  {
   "cell_type": "code",
   "execution_count": 7,
   "id": "f3909888",
   "metadata": {},
   "outputs": [
    {
     "name": "stdout",
     "output_type": "stream",
     "text": [
      "['ganjil', 'genap', 'ganjil', 'genap', 'ganjil', 'genap', 'ganjil', 'genap', 'ganjil', 'ganjil', 'ganjil']\n"
     ]
    }
   ],
   "source": [
    "a_list = [1,2,3,4,5,6,7,10,11,15,17]\n",
    "\n",
    "new_list = []\n",
    "for item in a_list: # iterate through a_list\n",
    "    if item % 2 != 0: # if the item is odd\n",
    "        new_list.append('ganjil') # append 'ganjil' to new_list\n",
    "    else:\n",
    "        new_list.append('genap') # append 'genap' to new_list\n",
    "\n",
    "print(new_list)"
   ]
  },
  {
   "cell_type": "markdown",
   "id": "e54ea205",
   "metadata": {},
   "source": [
    "Dengan list comprehension, bentuknya menjadi seperti ini:"
   ]
  },
  {
   "cell_type": "code",
   "execution_count": 13,
   "id": "f675ac7c",
   "metadata": {},
   "outputs": [
    {
     "name": "stdout",
     "output_type": "stream",
     "text": [
      "['ganjil', 'genap', 'ganjil', 'genap', 'ganjil', 'genap', 'ganjil', 'genap', 'ganjil', 'ganjil', 'ganjil']\n"
     ]
    }
   ],
   "source": [
    "new_list = ['ganjil' if item%2!=0 else 'genap' for item in a_list]\n",
    "\n",
    "print(new_list)"
   ]
  },
  {
   "cell_type": "markdown",
   "id": "14b5da89",
   "metadata": {},
   "source": [
    "Dapat dilihat bahwa jika kondisinya (if-else) lebih dari satu, syntax conditionalnya digeser ke sebelah kiri for"
   ]
  },
  {
   "cell_type": "markdown",
   "id": "27c8fdd9",
   "metadata": {},
   "source": [
    "---\n",
    "<img src=\"https://raw.githubusercontent.com/mihoku/repository-random/master/latihan.png\" width=\"300\"/>"
   ]
  },
  {
   "cell_type": "markdown",
   "id": "81fd145d",
   "metadata": {},
   "source": [
    "#### Buat list berisi huruf non-vokal (konsonan) dari kalimat berikut ini"
   ]
  },
  {
   "cell_type": "code",
   "execution_count": 20,
   "id": "86b0c455",
   "metadata": {},
   "outputs": [
    {
     "name": "stdout",
     "output_type": "stream",
     "text": [
      "['k', 'd', 'l', 'h', 'n', 'k', 'g', 'm', 'b', 'l', 's', 'l', 'l', 'r', 'n', 'g', 's', 'n', 'n', 'g', 'b', 'k', 'r', 'j']\n"
     ]
    }
   ],
   "source": [
    "kalimat = \"aku adalah anak gembala selalu riang senang bekerja\"\n",
    "huruf_vokal = ['a','i','u','e','o']\n",
    "\n",
    "# Jawaban Anda di sini\n",
    "\n",
    "\n",
    "\n"
   ]
  },
  {
   "cell_type": "code",
   "execution_count": null,
   "id": "d7fe42c9",
   "metadata": {},
   "outputs": [],
   "source": []
  },
  {
   "cell_type": "markdown",
   "id": "a0610a9c",
   "metadata": {},
   "source": [
    "## 5.4 While loops\n",
    "\n",
    "> Digunakan untuk mengeksekusi sebuah blok kode secara berulang berdasarkan sebuah kondisi tertentu yang ditetapkan selama kondisi terpenuhi.\n",
    "\n",
    "```python\n",
    "while condition:\n",
    "    # baris dieksekusi jika condition == True    \n",
    "```\n",
    "Kesalahan dalam membuat kode while dapat membuat loop berjalan terus-menerus."
   ]
  },
  {
   "cell_type": "code",
   "execution_count": null,
   "id": "d4091463",
   "metadata": {},
   "outputs": [],
   "source": [
    "# kita akan mencoba membuat while loops dengan kondisi, i < 5\n",
    "# i kita tetapkan valuenya = 0\n",
    "# setiap kali dia terpenuhi maka print(i)\n",
    "# perhatikan maksud dari i += 1\n",
    "i = 0 \n",
    "while i < 5 : \n",
    "    print(i)\n",
    "    i += 1         # >  jika kode semacam ini tidak diberikan, maka kondisi akan selalu True!"
   ]
  },
  {
   "cell_type": "markdown",
   "id": "e090ea16",
   "metadata": {},
   "source": [
    "<img src=\"https://raw.githubusercontent.com/mihoku/repository-random/master/while-loop.png\" width=\"800\">"
   ]
  },
  {
   "cell_type": "markdown",
   "id": "a6a2b116",
   "metadata": {},
   "source": [
    "---\n",
    "<img src=\"https://raw.githubusercontent.com/mihoku/repository-random/master/latihan.png\" width=\"300\"/>"
   ]
  },
  {
   "cell_type": "markdown",
   "id": "552035e8",
   "metadata": {},
   "source": [
    "#### Print lirik lagu ```Five little monkeys``` dengan menggunakan while-loop\n",
    "\n",
    "<img src = \"https://images.unsplash.com/photo-1574256707097-bbf7d49777f5?q=80&w=2070&auto=format&fit=crop&ixlib=rb-4.0.3&ixid=M3wxMjA3fDB8MHxwaG90by1wYWdlfHx8fGVufDB8fHx8fA%3D%3D\" width=\"400\"/>\n",
    "\n",
    "Lirik lagu five little monkeys\n",
    "<pre>\n",
    "5 little monkeys jumping on the bed.\n",
    "One fell off and bumped his head.\n",
    "Mama called the doctor and the doctor said,\n",
    "“No more monkeys jumping on the bed!”\n",
    "\n",
    "4 little monkeys jumping on the bed.\n",
    "One fell off and bumped his head.\n",
    "Mama called the doctor and the doctor said,\n",
    "“No more monkeys jumping on the bed!”\n",
    "\n",
    "3 little monkeys jumping on the bed.\n",
    "One fell off and bumped her head.\n",
    "Mama called the doctor and the doctor said,\n",
    "“No more monkeys jumping on the bed!”\n",
    "\n",
    "2 little monkeys jumping on the bed.\n",
    "One fell off and bumped his head.\n",
    "Mama called the doctor and the doctor said,\n",
    "“No more monkeys jumping on the bed!”\n",
    "\n",
    "1 little monkey jumping on the bed.\n",
    "She fell off and bumped her head.\n",
    "Mama called the doctor and the doctor said,\n",
    "“No more monkeys jumping on the bed!”\n",
    "</pre>\n",
    "\n",
    "#### Hanya saja, di lirik yang Anda print, monyetnya ada 28!"
   ]
  },
  {
   "cell_type": "code",
   "execution_count": 23,
   "id": "a8372f0e",
   "metadata": {},
   "outputs": [
    {
     "name": "stdout",
     "output_type": "stream",
     "text": [
      "28 little monkeys jumping on the bed.\n",
      "One fell off and bumped his head.\n",
      "Mama called the doctor and the doctor said,\n",
      "“No more monkeys jumping on the bed!”\n",
      "\n",
      "27 little monkeys jumping on the bed.\n",
      "One fell off and bumped his head.\n",
      "Mama called the doctor and the doctor said,\n",
      "“No more monkeys jumping on the bed!”\n",
      "\n",
      "26 little monkeys jumping on the bed.\n",
      "One fell off and bumped his head.\n",
      "Mama called the doctor and the doctor said,\n",
      "“No more monkeys jumping on the bed!”\n",
      "\n",
      "25 little monkeys jumping on the bed.\n",
      "One fell off and bumped his head.\n",
      "Mama called the doctor and the doctor said,\n",
      "“No more monkeys jumping on the bed!”\n",
      "\n",
      "24 little monkeys jumping on the bed.\n",
      "One fell off and bumped his head.\n",
      "Mama called the doctor and the doctor said,\n",
      "“No more monkeys jumping on the bed!”\n",
      "\n",
      "23 little monkeys jumping on the bed.\n",
      "One fell off and bumped his head.\n",
      "Mama called the doctor and the doctor said,\n",
      "“No more monkeys jumping on the bed!”\n",
      "\n",
      "22 little monkeys jumping on the bed.\n",
      "One fell off and bumped his head.\n",
      "Mama called the doctor and the doctor said,\n",
      "“No more monkeys jumping on the bed!”\n",
      "\n",
      "21 little monkeys jumping on the bed.\n",
      "One fell off and bumped his head.\n",
      "Mama called the doctor and the doctor said,\n",
      "“No more monkeys jumping on the bed!”\n",
      "\n",
      "20 little monkeys jumping on the bed.\n",
      "One fell off and bumped his head.\n",
      "Mama called the doctor and the doctor said,\n",
      "“No more monkeys jumping on the bed!”\n",
      "\n",
      "19 little monkeys jumping on the bed.\n",
      "One fell off and bumped his head.\n",
      "Mama called the doctor and the doctor said,\n",
      "“No more monkeys jumping on the bed!”\n",
      "\n",
      "18 little monkeys jumping on the bed.\n",
      "One fell off and bumped his head.\n",
      "Mama called the doctor and the doctor said,\n",
      "“No more monkeys jumping on the bed!”\n",
      "\n",
      "17 little monkeys jumping on the bed.\n",
      "One fell off and bumped his head.\n",
      "Mama called the doctor and the doctor said,\n",
      "“No more monkeys jumping on the bed!”\n",
      "\n",
      "16 little monkeys jumping on the bed.\n",
      "One fell off and bumped his head.\n",
      "Mama called the doctor and the doctor said,\n",
      "“No more monkeys jumping on the bed!”\n",
      "\n",
      "15 little monkeys jumping on the bed.\n",
      "One fell off and bumped his head.\n",
      "Mama called the doctor and the doctor said,\n",
      "“No more monkeys jumping on the bed!”\n",
      "\n",
      "14 little monkeys jumping on the bed.\n",
      "One fell off and bumped his head.\n",
      "Mama called the doctor and the doctor said,\n",
      "“No more monkeys jumping on the bed!”\n",
      "\n",
      "13 little monkeys jumping on the bed.\n",
      "One fell off and bumped his head.\n",
      "Mama called the doctor and the doctor said,\n",
      "“No more monkeys jumping on the bed!”\n",
      "\n",
      "12 little monkeys jumping on the bed.\n",
      "One fell off and bumped his head.\n",
      "Mama called the doctor and the doctor said,\n",
      "“No more monkeys jumping on the bed!”\n",
      "\n",
      "11 little monkeys jumping on the bed.\n",
      "One fell off and bumped his head.\n",
      "Mama called the doctor and the doctor said,\n",
      "“No more monkeys jumping on the bed!”\n",
      "\n",
      "10 little monkeys jumping on the bed.\n",
      "One fell off and bumped his head.\n",
      "Mama called the doctor and the doctor said,\n",
      "“No more monkeys jumping on the bed!”\n",
      "\n",
      "9 little monkeys jumping on the bed.\n",
      "One fell off and bumped his head.\n",
      "Mama called the doctor and the doctor said,\n",
      "“No more monkeys jumping on the bed!”\n",
      "\n",
      "8 little monkeys jumping on the bed.\n",
      "One fell off and bumped his head.\n",
      "Mama called the doctor and the doctor said,\n",
      "“No more monkeys jumping on the bed!”\n",
      "\n",
      "7 little monkeys jumping on the bed.\n",
      "One fell off and bumped his head.\n",
      "Mama called the doctor and the doctor said,\n",
      "“No more monkeys jumping on the bed!”\n",
      "\n",
      "6 little monkeys jumping on the bed.\n",
      "One fell off and bumped his head.\n",
      "Mama called the doctor and the doctor said,\n",
      "“No more monkeys jumping on the bed!”\n",
      "\n",
      "5 little monkeys jumping on the bed.\n",
      "One fell off and bumped his head.\n",
      "Mama called the doctor and the doctor said,\n",
      "“No more monkeys jumping on the bed!”\n",
      "\n",
      "4 little monkeys jumping on the bed.\n",
      "One fell off and bumped his head.\n",
      "Mama called the doctor and the doctor said,\n",
      "“No more monkeys jumping on the bed!”\n",
      "\n",
      "3 little monkeys jumping on the bed.\n",
      "One fell off and bumped his head.\n",
      "Mama called the doctor and the doctor said,\n",
      "“No more monkeys jumping on the bed!”\n",
      "\n",
      "2 little monkeys jumping on the bed.\n",
      "One fell off and bumped his head.\n",
      "Mama called the doctor and the doctor said,\n",
      "“No more monkeys jumping on the bed!”\n",
      "\n",
      "1 little monkey jumping on the bed.\n",
      "One fell off and bumped his head.\n",
      "Mama called the doctor and the doctor said,\n",
      "“No more monkey jumping on the bed!”\n",
      "\n"
     ]
    }
   ],
   "source": [
    "template = '''little monkeys jumping on the bed.\n",
    "One fell off and bumped his head.\n",
    "Mama called the doctor and the doctor said,\n",
    "“No more monkeys jumping on the bed!”\n",
    "'''\n",
    "\n",
    "# Tulis jawaban Anda di sini!"
   ]
  },
  {
   "cell_type": "markdown",
   "id": "2b1d7fa5",
   "metadata": {},
   "source": [
    "## 5.5 Materi Pengayaan: Break, continue dan pass\n",
    "\n",
    "**Break statement:**\n",
    "> menghentikan loop saat ini. Gunakan pernyataan break untuk keluar dari loop secara instan.\n",
    "<details>\n",
    "    \n",
    "<img src=\"https://pynative.com/wp-content/uploads/2021/06/break-loop-in-python.png\">\n",
    "\n",
    "</details>\n",
    "\n",
    "**Continue statement:**\n",
    "> Lewati iterasi loop saat ini dan pindah ke iterasi berikutnya\n",
    "<details>\n",
    "    \n",
    "<img src=\"https://pynative.com/wp-content/uploads/2021/06/python-continue-statement-in-loop.png\">\n",
    "    \n",
    "</details>\n",
    "\n",
    "**Pass statement:**\n",
    "> Tidak melakukan apapun. Abaikan kondisi di mana itu terjadi dan lanjutkan untuk menjalankan program seperti biasa\n",
    "\n",
    "sumber : https://pynative.com/python-break-continue-pass/"
   ]
  },
  {
   "cell_type": "code",
   "execution_count": null,
   "id": "d30a9879",
   "metadata": {},
   "outputs": [],
   "source": [
    "# kita akan mencoba break statement\n",
    "# membuat variable kota\n",
    "kota = 'jakarta'\n",
    "\n",
    "# implementasi menggunakan for loops\n",
    "# atas setiap huruf di variable kota\n",
    "for huruf in kota: \n",
    "    print(huruf) \n",
    "    # break saat menemukan huruf 'r'  \n",
    "    if huruf == 'r':\n",
    "        break\n",
    "    print(\"belum ketemu 'r'\")\n",
    "# menunjukkan kapan terjadinya break\n",
    "print(\"Sudah ketemu!\") \n",
    "\n",
    "# dapat dilihat dari interaksi yang terjadi, saat menemukan huruf 'r'\n",
    "# seketika itu for loops yang dibangun berhenti"
   ]
  },
  {
   "cell_type": "code",
   "execution_count": null,
   "id": "46dff74f",
   "metadata": {},
   "outputs": [],
   "source": [
    "# kita akan mencoba continue statement\n",
    "# menggunakan for loops\n",
    "# atas setiap value dalam range start = 1, finish = 11\n",
    "for i in range(1, 11): \n",
    "    # jika value sama dengan 6,   \n",
    "    # continue iterasinya   \n",
    "    # tanpa melakukan print \n",
    "    if i == 6: \n",
    "        continue\n",
    "    else: \n",
    "        # diluar if statement, print i ditambahkan spasi\n",
    "        print(i, end = \"\\n\")"
   ]
  },
  {
   "cell_type": "code",
   "execution_count": null,
   "id": "fa59de35",
   "metadata": {},
   "outputs": [],
   "source": [
    "# kita akan mencoba membuat pass statement\n",
    "# menggunakan variable s sebelumnya\n",
    "# menggunakan for loops\n",
    "# atas setiap value pada variable s\n",
    "for huruf in kota:\n",
    "    # jika value sama dengan 'a', print 'Pass executed'\n",
    "    if huruf == 'a':\n",
    "        print('Pass executed')\n",
    "        # kemudian pass\n",
    "        pass\n",
    "    print(huruf)\n",
    "# dapat dilihat bahwa print seluruh value pada variable kota tetap berlangsung"
   ]
  },
  {
   "cell_type": "markdown",
   "id": "d0a4bc87-d26d-4922-98c2-417ab0ea19a0",
   "metadata": {
    "id": "d0a4bc87-d26d-4922-98c2-417ab0ea19a0",
    "slideshow": {
     "slide_type": "slide"
    }
   },
   "source": [
    "# 6. Functions"
   ]
  },
  {
   "cell_type": "markdown",
   "id": "b4c0dc46-d428-4591-8b29-cc1e95e4eac3",
   "metadata": {
    "id": "b4c0dc46-d428-4591-8b29-cc1e95e4eac3",
    "slideshow": {
     "slide_type": "subslide"
    }
   },
   "source": [
    "<img src=https://files.realpython.com/media/t.74ec5430f457.png width=200 class=\"center\">"
   ]
  },
  {
   "cell_type": "markdown",
   "id": "9e92cca5-cb23-4e77-b8b8-8c331d000e3c",
   "metadata": {
    "id": "9e92cca5-cb23-4e77-b8b8-8c331d000e3c",
    "slideshow": {
     "slide_type": "subslide"
    }
   },
   "source": [
    "> Blok kode terorganisir dan dapat digunakan kembali yang digunakan untuk melakukan sebuah tindakan/action. "
   ]
  },
  {
   "cell_type": "markdown",
   "id": "d1cf474b",
   "metadata": {},
   "source": [
    "## 6.1 Build in functions di Python"
   ]
  },
  {
   "cell_type": "markdown",
   "id": "63db1d32",
   "metadata": {},
   "source": [
    "Beberapa function telah disediakan oleh python di antaranya:\n",
    "\n",
    "|||Fungsi Bawaan|||\n",
    "|--|--|--|--|--|\n",
    "|abs()|delattr()|hash()|memoryview()|set()||\n",
    "all()|dict()|help()|min()|setattr()|\n",
    "|any()|dir()|hex()|next()|slice()|\n",
    "|ascii()|divmod()|id()|object()|sorted()|\n",
    "|bin()|enumerate()|input()|oct()|staticmethod()|\n",
    "|bool()|eval()|int()|open()|str()|\n",
    "|breakpoint()|exec()|isinstance()|ord()|sum()|\n",
    "|bytearray()|filter()|issubclass()|pow()|super()|\n",
    "|bytes()|float()|iter()|print()|tuple()|\n",
    "|callable()|format()|len()|property()|type()|\n",
    "|chr()|frozenset()|list()|range()|vars()|\n",
    "|classmethod()|getattr()|locals()|repr()|zip()|\n",
    "|compile()|globals()|map()|reversed()|\\_\\_import\\_\\_()|\n",
    "|complex()|hasattr()|max()|round()||"
   ]
  },
  {
   "cell_type": "code",
   "execution_count": 4,
   "id": "15288713",
   "metadata": {},
   "outputs": [
    {
     "name": "stdout",
     "output_type": "stream",
     "text": [
      "[0, 1, 2, 3, 4]\n",
      "[4, 5, 6, 7, 8, 9, 10]\n"
     ]
    }
   ],
   "source": [
    "# fungsi range digunakan untuk membuat urutan angka dengan rentang tertentu\n",
    "# urutan angka tersebut kemudian dapat diubah menjadi tipe data kolektif, misalnya list\n",
    "\n",
    "# Akan membuat urutan angka 0-4\n",
    "range_a = range(5)\n",
    "# range diubah menjadi list\n",
    "number_list = list(range_a)\n",
    "print(number_list)\n",
    "\n",
    "# Akan membuat urutan angka 4-10\n",
    "range_b = range(4,11)\n",
    "# range diubah menjadi list\n",
    "number_list_b = list(range_b)\n",
    "print(number_list_b)"
   ]
  },
  {
   "cell_type": "code",
   "execution_count": 124,
   "id": "6cefd86e",
   "metadata": {
    "ExecuteTime": {
     "end_time": "2023-08-21T01:02:50.970498Z",
     "start_time": "2023-08-21T01:02:49.589323Z"
    },
    "colab": {
     "base_uri": "https://localhost:8080/"
    },
    "id": "6cefd86e",
    "outputId": "bae35a07-a261-492b-8795-39543af2708c",
    "slideshow": {
     "slide_type": "subslide"
    },
    "tags": []
   },
   "outputs": [
    {
     "name": "stdout",
     "output_type": "stream",
     "text": [
      "masukan suatu nilai:100\n",
      "<class 'str'>\n",
      "100\n"
     ]
    }
   ],
   "source": [
    "# fungsi input memungkinkan program menerima masukan nilai dari user, hasilnya otomatis berupa nilai string\n",
    "hey=input('masukan suatu nilai:')\n",
    "print(type(hey))\n",
    "print(hey)"
   ]
  },
  {
   "cell_type": "code",
   "execution_count": 131,
   "id": "942408ba",
   "metadata": {
    "ExecuteTime": {
     "end_time": "2023-08-21T01:04:11.182902Z",
     "start_time": "2023-08-21T01:04:11.178903Z"
    },
    "id": "942408ba",
    "outputId": "dd2b327e-b606-4f47-caab-61c7a4781962",
    "slideshow": {
     "slide_type": "subslide"
    }
   },
   "outputs": [
    {
     "name": "stdout",
     "output_type": "stream",
     "text": [
      "True\n",
      "<class 'str'>\n",
      "True\n",
      "<class 'bool'>\n"
     ]
    }
   ],
   "source": [
    "# fungsi eval digunakan untuk mengevaluasi sebuah string dan secara otomatis merubah typenya sesuai dengan isi string tersebut\n",
    "\n",
    "# test_str = '{\"ini_dict\":(100.9,14)}'\n",
    "# test_str = \"100\"\n",
    "# test_str = \"100.7\"\n",
    "test_str = \"True\"\n",
    "\n",
    "print(test_str)\n",
    "print(type(test_str))\n",
    "print(eval(test_str))\n",
    "print(type(eval(test_str)))"
   ]
  },
  {
   "cell_type": "code",
   "execution_count": 132,
   "id": "682598ae",
   "metadata": {
    "ExecuteTime": {
     "end_time": "2023-08-21T01:04:20.502235Z",
     "start_time": "2023-08-21T01:04:20.490097Z"
    },
    "id": "682598ae",
    "outputId": "06dc18d5-d46a-4233-def0-09fe1931b66a",
    "slideshow": {
     "slide_type": "subslide"
    }
   },
   "outputs": [
    {
     "name": "stdout",
     "output_type": "stream",
     "text": [
      "[1, 3, 5, 7, 9]\n"
     ]
    },
    {
     "data": {
      "text/plain": [
       "range(1, 10, 2)"
      ]
     },
     "execution_count": 132,
     "metadata": {},
     "output_type": "execute_result"
    }
   ],
   "source": [
    "#fungsi range digunakan untuk membuat list berisi nilai angka dalam rentang tertentu\n",
    "int_list = range(1,10, 2)\n",
    "print(list(int_list))\n",
    "int_list"
   ]
  },
  {
   "cell_type": "code",
   "execution_count": 133,
   "id": "cc50636c-e7d7-4e04-8297-f3c5198e443b",
   "metadata": {
    "ExecuteTime": {
     "end_time": "2023-08-21T01:04:32.998168Z",
     "start_time": "2023-08-21T01:04:32.985023Z"
    },
    "id": "cc50636c-e7d7-4e04-8297-f3c5198e443b",
    "outputId": "d6054495-65d2-4357-b8d1-8bdc07549d2d",
    "slideshow": {
     "slide_type": "subslide"
    }
   },
   "outputs": [
    {
     "name": "stdout",
     "output_type": "stream",
     "text": [
      "25\n"
     ]
    }
   ],
   "source": [
    "# kita akan mencoba menjumlah keseluruhan value pada int_list\n",
    "print(sum(int_list))"
   ]
  },
  {
   "cell_type": "code",
   "execution_count": 134,
   "id": "ae6e4e7c-584a-43e2-bd9d-9a1ae5035814",
   "metadata": {
    "ExecuteTime": {
     "end_time": "2023-08-21T01:04:33.483096Z",
     "start_time": "2023-08-21T01:04:33.466081Z"
    },
    "id": "ae6e4e7c-584a-43e2-bd9d-9a1ae5035814",
    "outputId": "ecec3ef9-30d6-41a9-c50c-0858f1d478d4",
    "slideshow": {
     "slide_type": "subslide"
    }
   },
   "outputs": [
    {
     "name": "stdout",
     "output_type": "stream",
     "text": [
      "9\n"
     ]
    }
   ],
   "source": [
    "# kita akan mencoba mengukur nilai tertinggi dari value di int_list\n",
    "print(max(int_list))"
   ]
  },
  {
   "cell_type": "code",
   "execution_count": 135,
   "id": "25593d99-21ff-4f88-95e2-1dd64f5a39e0",
   "metadata": {
    "ExecuteTime": {
     "end_time": "2023-08-21T01:04:33.962868Z",
     "start_time": "2023-08-21T01:04:33.946915Z"
    },
    "id": "25593d99-21ff-4f88-95e2-1dd64f5a39e0",
    "outputId": "2f6f7412-949b-4c07-b500-472a1a5820aa",
    "slideshow": {
     "slide_type": "subslide"
    }
   },
   "outputs": [
    {
     "name": "stdout",
     "output_type": "stream",
     "text": [
      "5\n"
     ]
    }
   ],
   "source": [
    "# kita akan mencoba mengukur panjang dari int_list\n",
    "print(len(int_list))\n",
    "# artinya di dalam int_list terdapat 5 value"
   ]
  },
  {
   "cell_type": "markdown",
   "id": "a225f1ba-df49-419e-bf63-e4cfb1a76ab9",
   "metadata": {
    "id": "a225f1ba-df49-419e-bf63-e4cfb1a76ab9",
    "slideshow": {
     "slide_type": "slide"
    }
   },
   "source": [
    "## 6.2 Membuat fungsi secara manual\n",
    "\n",
    "Beberapa hal dasar yang perlu dipahami:\n",
    "1. Fungsi blok dimulai dengan  kata kunci ```def``` diikuti oleh nama fungsi dan tanda kurung (())sebagai input.\n",
    "2. ```Argumen``` merupakan input dari luar fungsi untuk dapat diproses oleh fungsi.\n",
    "3. ```Return``` digunakan mengembalikan nilai dari proses yang dilakukan sebagai output."
   ]
  },
  {
   "cell_type": "markdown",
   "id": "340cfd72-d817-4e72-baa5-dc5f36d0ff18",
   "metadata": {
    "id": "340cfd72-d817-4e72-baa5-dc5f36d0ff18",
    "slideshow": {
     "slide_type": "subslide"
    }
   },
   "source": [
    "def function_name(parameters):\n",
    "<br>    <statement(s)></br>\n",
    "    \n",
    "|Komponen|Arti|\n",
    "|---|---|\n",
    "|def|Kata kunci yang menginformasikan Python bahwa suatu fungsi sedang didefinisikan|\n",
    "|function_name|Pengidentifikasi Python yang valid yang menamai fungsi|\n",
    "|parameters|Daftar parameter opsional yang dipisahkan koma yang dapat diteruskan ke fungsi|\n",
    "|: |Tanda baca yang menunjukkan akhir dari header fungsi Python (nama dan daftar parameter)|\n",
    "|statement(s)|Blok pernyataan Python yang valid|"
   ]
  },
  {
   "cell_type": "code",
   "execution_count": 136,
   "id": "70ce6d0f-f954-4bbe-a29f-4d0f3b4b8413",
   "metadata": {
    "ExecuteTime": {
     "end_time": "2023-08-21T01:04:38.715743Z",
     "start_time": "2023-08-21T01:04:38.701710Z"
    },
    "id": "70ce6d0f-f954-4bbe-a29f-4d0f3b4b8413",
    "slideshow": {
     "slide_type": "subslide"
    }
   },
   "outputs": [],
   "source": [
    "#contoh fungsi sederhana\n",
    "def tambah_tiga(x):           # > mendefinisikan fungsi bernama tambah_tiga, argumennya x\n",
    "    angka = x+3               # > angka merupakan statement yang isinya perhitungan dari variabel x +3\n",
    "    return angka              # > keluar dari fungsi dan meneruskan isi dari variabel angka"
   ]
  },
  {
   "cell_type": "code",
   "execution_count": 137,
   "id": "e74b2074-dd61-45c1-b317-e6eabb79a657",
   "metadata": {
    "ExecuteTime": {
     "end_time": "2023-08-21T01:04:39.072012Z",
     "start_time": "2023-08-21T01:04:39.063725Z"
    },
    "id": "e74b2074-dd61-45c1-b317-e6eabb79a657",
    "outputId": "18a93e3a-e28b-48bf-d65b-1513bdd86345",
    "slideshow": {
     "slide_type": "subslide"
    }
   },
   "outputs": [
    {
     "data": {
      "text/plain": [
       "7"
      ]
     },
     "execution_count": 137,
     "metadata": {},
     "output_type": "execute_result"
    }
   ],
   "source": [
    "tambah_tiga(4)"
   ]
  },
  {
   "cell_type": "markdown",
   "id": "5bef628c-ce3b-40fa-b7b5-333b179bac73",
   "metadata": {
    "id": "5bef628c-ce3b-40fa-b7b5-333b179bac73",
    "slideshow": {
     "slide_type": "slide"
    }
   },
   "source": [
    "---\n",
    "<img src=\"https://raw.githubusercontent.com/mihoku/repository-random/master/latihan.png\" width=\"300\"/>\n"
   ]
  },
  {
   "cell_type": "code",
   "execution_count": null,
   "id": "16626d2d-d4ce-45d0-b747-a6f47905259b",
   "metadata": {
    "id": "16626d2d-d4ce-45d0-b747-a6f47905259b",
    "outputId": "6fdaa2e8-c55c-41cc-96d9-4b62c41dfba8",
    "slideshow": {
     "slide_type": "subslide"
    }
   },
   "outputs": [],
   "source": [
    "# Buatlah fungsi untuk akar pangkat 3\n",
    "def akar_tiga(x):\n",
    "    ....."
   ]
  },
  {
   "cell_type": "code",
   "execution_count": null,
   "id": "82ffc73b-3a23-476e-b741-88cfda269270",
   "metadata": {
    "id": "82ffc73b-3a23-476e-b741-88cfda269270",
    "slideshow": {
     "slide_type": "subslide"
    }
   },
   "outputs": [],
   "source": [
    "# kita akan mencoba menghitung manual value rata-rata dari int_list\n",
    "def list_mean(some_list):                       # > list_mean judul dari fungsi kita, argumennya some_list\n",
    "    output = ...                                # > output itu berisikan rumus dari perhitngan value rata-rata\n",
    "    return output                               # > print output menggunakan return"
   ]
  },
  {
   "cell_type": "code",
   "execution_count": null,
   "id": "0f9bf963-aef4-4ca3-a3fb-f4bd180fdc29",
   "metadata": {
    "colab": {
     "base_uri": "https://localhost:8080/"
    },
    "id": "0f9bf963-aef4-4ca3-a3fb-f4bd180fdc29",
    "outputId": "ad60986a-7342-4ed1-c80b-17358cefbf8a",
    "scrolled": true,
    "slideshow": {
     "slide_type": "subslide"
    }
   },
   "outputs": [],
   "source": [
    "# print hasil\n",
    "print(list_mean(int_list))"
   ]
  },
  {
   "cell_type": "code",
   "execution_count": null,
   "id": "96b9bec4-fb61-4c36-ab37-cc0b409766ba",
   "metadata": {
    "id": "96b9bec4-fb61-4c36-ab37-cc0b409766ba",
    "slideshow": {
     "slide_type": "subslide"
    }
   },
   "outputs": [],
   "source": [
    "# kita akan mencoba menhitung selisih antara nilai tertinggi dan terendah dari int_list\n",
    "def min_max(some_list):\n",
    "    output = ...\n",
    "    return output"
   ]
  },
  {
   "cell_type": "code",
   "execution_count": null,
   "id": "64b564be-5ebf-4fb3-8725-e1e8769a55fd",
   "metadata": {
    "id": "64b564be-5ebf-4fb3-8725-e1e8769a55fd",
    "outputId": "f5b50e19-98a3-42cf-d91d-41be8fa39188",
    "scrolled": true,
    "slideshow": {
     "slide_type": "subslide"
    }
   },
   "outputs": [],
   "source": [
    "# print hasi;\n",
    "print(min_max(int_list))"
   ]
  },
  {
   "cell_type": "code",
   "execution_count": 12,
   "id": "24f2fed0",
   "metadata": {
    "ExecuteTime": {
     "end_time": "2023-08-20T22:04:33.744960Z",
     "start_time": "2023-08-20T22:04:33.731996Z"
    }
   },
   "outputs": [
    {
     "name": "stdout",
     "output_type": "stream",
     "text": [
      "Panjang Persegi: 3\n",
      "Lebar Persegi: 2\n",
      "Luas Persegi adalah 6\n"
     ]
    }
   ],
   "source": [
    "# Contoh Persegi ABCD\n",
    "panjang_AB = 3\n",
    "lebar_CD = 2\n",
    "\n",
    "print(\"Panjang Persegi:\", panjang_AB)\n",
    "print(\"Lebar Persegi:\", lebar_CD)\n",
    "\n",
    "def hitung_luas_persegi(panjang, lebar):\n",
    "    luas = ...\n",
    "    return luas\n",
    "\n",
    "luas_ABCD = hitung_luas_persegi(panjang_AB, lebar_CD)\n",
    "print(\"Luas Persegi adalah\", luas_ABCD)"
   ]
  },
  {
   "cell_type": "markdown",
   "id": "d83e1133-dc10-470a-821f-f08f87af996a",
   "metadata": {
    "id": "d83e1133-dc10-470a-821f-f08f87af996a",
    "slideshow": {
     "slide_type": "slide"
    }
   },
   "source": [
    "## 6.3 Nilai Default"
   ]
  },
  {
   "cell_type": "markdown",
   "id": "eb72ef2e-e4f3-4341-a236-c372aeae4a51",
   "metadata": {
    "id": "eb72ef2e-e4f3-4341-a236-c372aeae4a51",
    "slideshow": {
     "slide_type": "subslide"
    }
   },
   "source": [
    "> Python memungkinkan argumen fungsi memiliki nilai default. Jika fungsi dipanggil tanpa argumen, argumen mendapatkan nilai defaultnya."
   ]
  },
  {
   "cell_type": "code",
   "execution_count": null,
   "id": "cf793649-539f-4ae1-896e-967722894b9c",
   "metadata": {
    "id": "cf793649-539f-4ae1-896e-967722894b9c",
    "slideshow": {
     "slide_type": "subslide"
    }
   },
   "outputs": [],
   "source": [
    "#kita deklarasi sebuah fungsi untuk menghitung bea masuk dengan tarif default 10%\n",
    "def bea_masuk(nilai_cif,tarif=10):\n",
    "    bm = nilai_cif*tarif/100\n",
    "    return bm"
   ]
  },
  {
   "cell_type": "code",
   "execution_count": null,
   "id": "acb0a286-45bb-4d98-8091-1c9b219ef5cb",
   "metadata": {
    "id": "acb0a286-45bb-4d98-8091-1c9b219ef5cb",
    "outputId": "1b035219-0d65-4da2-9882-6e039df80af3",
    "slideshow": {
     "slide_type": "subslide"
    }
   },
   "outputs": [],
   "source": [
    "#jika kita masukan nilai cifnya saja kita akan menggunakan tarif default yaitu 10%\n",
    "bea_masuk(10000000)"
   ]
  },
  {
   "cell_type": "code",
   "execution_count": null,
   "id": "30b9649b-2242-4601-8f48-9d682adc6f96",
   "metadata": {
    "id": "30b9649b-2242-4601-8f48-9d682adc6f96",
    "outputId": "7b9bf22c-6793-441d-d5e1-b722e7edb3fb",
    "slideshow": {
     "slide_type": "subslide"
    }
   },
   "outputs": [],
   "source": [
    "#jika kita masukan juga nilai tarifnya maka akan dihitung berdasarkan tarif yang diberikan\n",
    "bea_masuk(1000000,5)"
   ]
  },
  {
   "cell_type": "markdown",
   "id": "8147714b-32f5-46d9-a62d-f62da80cc3a0",
   "metadata": {
    "id": "8147714b-32f5-46d9-a62d-f62da80cc3a0",
    "slideshow": {
     "slide_type": "slide"
    }
   },
   "source": [
    "## 6.4 Materi Pengayaan: Docstring"
   ]
  },
  {
   "cell_type": "markdown",
   "id": "730a6133-a678-40b2-90da-938fa36c1b60",
   "metadata": {
    "id": "730a6133-a678-40b2-90da-938fa36c1b60",
    "slideshow": {
     "slide_type": "subslide"
    }
   },
   "source": [
    "> Docstring berguna untuk mendokumentasikan program agar mudah untuk dipahami dan digunakan."
   ]
  },
  {
   "cell_type": "code",
   "execution_count": 146,
   "id": "62d17aff-1a93-41cc-b128-e113bb36f3b8",
   "metadata": {
    "ExecuteTime": {
     "end_time": "2023-08-21T01:12:55.933329Z",
     "start_time": "2023-08-21T01:12:55.926562Z"
    },
    "id": "62d17aff-1a93-41cc-b128-e113bb36f3b8",
    "slideshow": {
     "slide_type": "subslide"
    }
   },
   "outputs": [],
   "source": [
    "def function_with_pep484_type_annotations(param1: int, param2: str) -> bool:\n",
    "    \"\"\"Example function with PEP 484 type annotations.\n",
    "\n",
    "    Args:\n",
    "        param1: The first parameter.\n",
    "        param2: The second parameter.\n",
    "\n",
    "    Returns:\n",
    "        The return value. True for success, False otherwise.\n",
    "\n",
    "    \"\"\"\n",
    "#sumber : https://sphinxcontrib-napoleon.readthedocs.io/en/latest/example_google.html"
   ]
  },
  {
   "cell_type": "code",
   "execution_count": 2,
   "id": "28306773-b554-4c28-b3ee-01d9c7fc5909",
   "metadata": {
    "ExecuteTime": {
     "end_time": "2023-08-21T01:12:56.325828Z",
     "start_time": "2023-08-21T01:12:56.311792Z"
    },
    "id": "28306773-b554-4c28-b3ee-01d9c7fc5909",
    "slideshow": {
     "slide_type": "subslide"
    }
   },
   "outputs": [],
   "source": [
    "#mari kita coba dengan fungsi bea masuk yang tadi\n",
    "def bea_masuk(nilai_cif,tarif=10):\n",
    "    \"\"\" ini adalah fungsi untuk menghitung nilai bea masuk\n",
    "    Args:\n",
    "        nilai_cif (int): nilai pabean yang terdiri dari nilai barang, asuransi dan biaya kirim\n",
    "        tarif (int)    : adalah tarif bea masuk sesuai peraturan berlaku default di 10%\n",
    "    \n",
    "    Returns:\n",
    "        bm: nilai bea masuk yang ditagihkan\n",
    "    \"\"\"\n",
    "    bm = nilai_cif*tarif/100\n",
    "    return bm"
   ]
  },
  {
   "cell_type": "code",
   "execution_count": 3,
   "id": "8776d813-fae9-43df-809c-d2d23031ea61",
   "metadata": {
    "ExecuteTime": {
     "end_time": "2023-08-21T01:12:57.409636Z",
     "start_time": "2023-08-21T01:12:57.397669Z"
    },
    "colab": {
     "base_uri": "https://localhost:8080/"
    },
    "id": "8776d813-fae9-43df-809c-d2d23031ea61",
    "outputId": "3ba732e0-b50a-46cf-d7d9-5152a490e1bb",
    "slideshow": {
     "slide_type": "subslide"
    }
   },
   "outputs": [
    {
     "name": "stdout",
     "output_type": "stream",
     "text": [
      "Help on function bea_masuk in module __main__:\n",
      "\n",
      "bea_masuk(nilai_cif, tarif=10)\n",
      "    ini adalah fungsi untuk menghitung nilai bea masuk\n",
      "    Args:\n",
      "        nilai_cif (int): nilai pabean yang terdiri dari nilai barang, asuransi dan biaya kirim\n",
      "        tarif (int)    : adalah tarif bea masuk sesuai peraturan berlaku default di 10%\n",
      "    \n",
      "    Returns:\n",
      "        bm: nilai bea masuk yang ditagihkan\n",
      "\n"
     ]
    }
   ],
   "source": [
    "#kita bisa memanggil docstring dengan help\n",
    "help(bea_masuk)"
   ]
  },
  {
   "cell_type": "code",
   "execution_count": 4,
   "id": "ba9e0d63-51ca-4d15-99d4-1c15e380acea",
   "metadata": {
    "ExecuteTime": {
     "end_time": "2023-08-21T01:13:02.923652Z",
     "start_time": "2023-08-21T01:13:02.904717Z"
    },
    "id": "ba9e0d63-51ca-4d15-99d4-1c15e380acea",
    "slideshow": {
     "slide_type": "subslide"
    }
   },
   "outputs": [
    {
     "name": "stdout",
     "output_type": "stream",
     "text": [
      "\u001b[1;31mSignature:\u001b[0m \u001b[0mbea_masuk\u001b[0m\u001b[1;33m(\u001b[0m\u001b[0mnilai_cif\u001b[0m\u001b[1;33m,\u001b[0m \u001b[0mtarif\u001b[0m\u001b[1;33m=\u001b[0m\u001b[1;36m10\u001b[0m\u001b[1;33m)\u001b[0m\u001b[1;33m\u001b[0m\u001b[1;33m\u001b[0m\u001b[0m\n",
      "\u001b[1;31mDocstring:\u001b[0m\n",
      "ini adalah fungsi untuk menghitung nilai bea masuk\n",
      "Args:\n",
      "    nilai_cif (int): nilai pabean yang terdiri dari nilai barang, asuransi dan biaya kirim\n",
      "    tarif (int)    : adalah tarif bea masuk sesuai peraturan berlaku default di 10%\n",
      "\n",
      "Returns:\n",
      "    bm: nilai bea masuk yang ditagihkan\n",
      "\u001b[1;31mFile:\u001b[0m      c:\\users\\reza\\appdata\\local\\temp\\ipykernel_356\\624034340.py\n",
      "\u001b[1;31mType:\u001b[0m      function"
     ]
    }
   ],
   "source": [
    "?bea_masuk"
   ]
  },
  {
   "cell_type": "markdown",
   "id": "9f9f15d1-1a3a-45c3-87dd-e205af0d3778",
   "metadata": {
    "id": "9f9f15d1-1a3a-45c3-87dd-e205af0d3778",
    "slideshow": {
     "slide_type": "slide"
    }
   },
   "source": [
    "# 6.5 Materi Pengayaan: Fungsi Lambda"
   ]
  },
  {
   "cell_type": "code",
   "execution_count": 150,
   "id": "004c50ec-804c-4160-84e9-3d6d2d34d1ba",
   "metadata": {
    "ExecuteTime": {
     "end_time": "2023-08-21T01:13:36.835244Z",
     "start_time": "2023-08-21T01:13:36.819202Z"
    },
    "id": "004c50ec-804c-4160-84e9-3d6d2d34d1ba",
    "slideshow": {
     "slide_type": "subslide"
    }
   },
   "outputs": [],
   "source": [
    "#contoh kita membuat fungsi multiple yaitu x*2 kita definisikan sebagai berikut\n",
    "def multiple(x):\n",
    "    return x*2\n",
    "\n",
    "#jika kita buat dalam bentuk fungsi lambda maka menjadi\n",
    "multiple_2 = lambda x: x*2"
   ]
  },
  {
   "cell_type": "code",
   "execution_count": 151,
   "id": "27d6a024-6c5c-4429-9cc4-1ebac11b1813",
   "metadata": {
    "ExecuteTime": {
     "end_time": "2023-08-21T01:13:41.864176Z",
     "start_time": "2023-08-21T01:13:41.857347Z"
    },
    "id": "27d6a024-6c5c-4429-9cc4-1ebac11b1813",
    "outputId": "7c416e68-ffba-47cb-e23d-5f8873dbdcd0",
    "slideshow": {
     "slide_type": "subslide"
    }
   },
   "outputs": [
    {
     "data": {
      "text/plain": [
       "8"
      ]
     },
     "execution_count": 151,
     "metadata": {},
     "output_type": "execute_result"
    }
   ],
   "source": [
    "multiple(4)"
   ]
  },
  {
   "cell_type": "code",
   "execution_count": 152,
   "id": "4a458ded-4025-4fca-a8f0-d1106b3a0648",
   "metadata": {
    "ExecuteTime": {
     "end_time": "2023-08-21T01:13:42.423683Z",
     "start_time": "2023-08-21T01:13:42.405745Z"
    },
    "id": "4a458ded-4025-4fca-a8f0-d1106b3a0648",
    "outputId": "1652cf33-4c96-4b80-eef3-06b7a98dbadd",
    "slideshow": {
     "slide_type": "subslide"
    }
   },
   "outputs": [
    {
     "data": {
      "text/plain": [
       "8"
      ]
     },
     "execution_count": 152,
     "metadata": {},
     "output_type": "execute_result"
    }
   ],
   "source": [
    "multiple_2(4)"
   ]
  },
  {
   "cell_type": "code",
   "execution_count": 153,
   "id": "e516e537-4f62-49e4-a5df-dbc21c57e248",
   "metadata": {
    "ExecuteTime": {
     "end_time": "2023-08-21T01:13:59.311991Z",
     "start_time": "2023-08-21T01:13:59.306691Z"
    },
    "id": "e516e537-4f62-49e4-a5df-dbc21c57e248",
    "outputId": "f18985d5-2692-4941-cc9c-08c837c09654",
    "slideshow": {
     "slide_type": "subslide"
    }
   },
   "outputs": [
    {
     "data": {
      "text/plain": [
       "3"
      ]
     },
     "execution_count": 153,
     "metadata": {},
     "output_type": "execute_result"
    }
   ],
   "source": [
    "#contoh lainnya\n",
    "add = lambda x, y: x + y\n",
    "add(1,2)"
   ]
  }
 ],
 "metadata": {
  "celltoolbar": "Slideshow",
  "colab": {
   "collapsed_sections": [
    "be84989e-7bf0-41ee-86eb-8cbb49fec7c9",
    "62d7acc3-c441-4e36-9f69-ddb354402d19",
    "0d8ea216-5cbe-4e99-a4a3-708e7f4278c6",
    "89ab5faa-42b7-4c6c-8d91-2de0cdc540b6",
    "dc77a295-da1f-40a3-b61b-911857b875ef",
    "3201e288-c0e4-438d-9e4e-bf23eaad005e",
    "0b624327",
    "3181ee3e-2d4d-4ec2-82fd-b3cdd88b3177",
    "08e7da49-82c6-4d49-a1b0-b5337457bb70",
    "b024b6be-338f-40e5-a104-6cb23d29d7df",
    "77849af1-b9f7-4a00-bcc7-5f43e55acb72",
    "63b67f4d-42c9-4d7b-9c59-9608ca0c8fb7",
    "9f9f15d1-1a3a-45c3-87dd-e205af0d3778",
    "byVgLqCxFKgy"
   ],
   "provenance": []
  },
  "hide_input": false,
  "kernelspec": {
   "display_name": "Python 3 (ipykernel)",
   "language": "python",
   "name": "python3"
  },
  "language_info": {
   "codemirror_mode": {
    "name": "ipython",
    "version": 3
   },
   "file_extension": ".py",
   "mimetype": "text/x-python",
   "name": "python",
   "nbconvert_exporter": "python",
   "pygments_lexer": "ipython3",
   "version": "3.9.18"
  },
  "toc": {
   "base_numbering": 1,
   "nav_menu": {},
   "number_sections": true,
   "sideBar": true,
   "skip_h1_title": false,
   "title_cell": "Table of Contents",
   "title_sidebar": "Contents",
   "toc_cell": false,
   "toc_position": {},
   "toc_section_display": true,
   "toc_window_display": true
  },
  "toc-autonumbering": true,
  "toc-showcode": false
 },
 "nbformat": 4,
 "nbformat_minor": 5
}
