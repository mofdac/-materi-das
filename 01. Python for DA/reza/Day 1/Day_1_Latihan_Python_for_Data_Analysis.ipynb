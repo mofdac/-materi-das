{
 "cells": [
  {
   "cell_type": "markdown",
   "metadata": {},
   "source": [
    "### 1. Buatlah list berisi seluruh email pegawai yang ada di string data berikut."
   ]
  },
  {
   "cell_type": "code",
   "execution_count": 7,
   "metadata": {},
   "outputs": [],
   "source": [
    "data = '''booker12;rachel@example.com;9012;Rachel;Booker\n",
    "grey07;grey@anatomy.com;2070;Laura;Grey\n",
    "johnson81;johnson@johnson.and;4081;Craig;Johnson\n",
    "jenkins46;mary@example.com;9346;Mary;Jenkins\n",
    "smith79;jamie@example.com;5079;Jamie;Smith\n",
    "looke13;looke@example.com;9012;Rachel;Looke\n",
    "york07;york@anatomy.com;2070;Laura;York\n",
    "sholeh05;sholeh@johnson.and;4081;Craig;Sholeh\n",
    "vale46;vale@example.com;9346;Mary;Vale\n",
    "tugtug79;tugtug@example.com;5079;Jamie;Tugtug'''"
   ]
  },
  {
   "cell_type": "markdown",
   "metadata": {},
   "source": [
    "Contoh jawaban:\n",
    ">['rachel@example.com', 'grey@anatomy.com', 'johnson@johnson.and', 'mary@example.com', 'jamie@example.com', 'looke@example.com', 'york@anatomy.com', 'sholeh@johnson.and', 'vale@example.com', 'tugtug@example.com']"
   ]
  },
  {
   "cell_type": "code",
   "execution_count": 13,
   "metadata": {},
   "outputs": [
    {
     "name": "stdout",
     "output_type": "stream",
     "text": [
      "['rachel@example.com', 'grey@anatomy.com', 'johnson@johnson.and', 'mary@example.com', 'jamie@example.com', 'looke@example.com', 'york@anatomy.com', 'sholeh@johnson.and', 'vale@example.com', 'tugtug@example.com']\n"
     ]
    }
   ],
   "source": []
  },
  {
   "cell_type": "markdown",
   "metadata": {},
   "source": [
    "Challenge Zone: apakah task di atas bisa diselesaikan dengan satu baris kode?"
   ]
  },
  {
   "cell_type": "code",
   "execution_count": 9,
   "metadata": {},
   "outputs": [
    {
     "data": {
      "text/plain": [
       "['rachel@example.com',\n",
       " 'grey@anatomy.com',\n",
       " 'johnson@johnson.and',\n",
       " 'mary@example.com',\n",
       " 'jamie@example.com',\n",
       " 'looke@example.com',\n",
       " 'york@anatomy.com',\n",
       " 'sholeh@johnson.and',\n",
       " 'vale@example.com',\n",
       " 'tugtug@example.com']"
      ]
     },
     "execution_count": 9,
     "metadata": {},
     "output_type": "execute_result"
    }
   ],
   "source": []
  },
  {
   "cell_type": "markdown",
   "metadata": {},
   "source": [
    "### 2. Buatlah list deck kartu yang berisi pasangan antara ```card_sleeve``` dan ```card_value```\n",
    "\n",
    "contoh output: \n",
    ">['2 of ♣', '2 of ♦', '2 of ♥', '2 of ♠', '3 of ♣', '3 of ♦', '3 of ♥', '3 of ♠', '4 of ♣', '4 of ♦', '4 of ♥', '4 of ♠', '5 of ♣', '5 of ♦', '5 of ♥', '5 of ♠', '6 of ♣', '6 of ♦', '6 of ♥', '6 of ♠', '7 of ♣', '7 of ♦', '7 of ♥', '7 of ♠', '8 of ♣', '8 of ♦', '8 of ♥', '8 of ♠', '9 of ♣', '9 of ♦', '9 of ♥', '9 of ♠', '10 of ♣', '10 of ♦', '10 of ♥', '10 of ♠', 'J of ♣', 'J of ♦', 'J of ♥', 'J of ♠', 'Q of ♣', 'Q of ♦', 'Q of ♥', 'Q of ♠', 'K of ♣', 'K of ♦', 'K of ♥', 'K of ♠', 'A of ♣', 'A of ♦', 'A of ♥', 'A of ♠']"
   ]
  },
  {
   "cell_type": "code",
   "execution_count": 10,
   "metadata": {},
   "outputs": [],
   "source": [
    "card_sleeve = ['♣','♦','♥','♠']\n",
    "card_value = ['2','3','4','5','6','7','8','9','10','J','Q','K','A']"
   ]
  },
  {
   "cell_type": "code",
   "execution_count": 12,
   "metadata": {},
   "outputs": [
    {
     "name": "stdout",
     "output_type": "stream",
     "text": [
      "['2 of ♣', '2 of ♦', '2 of ♥', '2 of ♠', '3 of ♣', '3 of ♦', '3 of ♥', '3 of ♠', '4 of ♣', '4 of ♦', '4 of ♥', '4 of ♠', '5 of ♣', '5 of ♦', '5 of ♥', '5 of ♠', '6 of ♣', '6 of ♦', '6 of ♥', '6 of ♠', '7 of ♣', '7 of ♦', '7 of ♥', '7 of ♠', '8 of ♣', '8 of ♦', '8 of ♥', '8 of ♠', '9 of ♣', '9 of ♦', '9 of ♥', '9 of ♠', '10 of ♣', '10 of ♦', '10 of ♥', '10 of ♠', 'J of ♣', 'J of ♦', 'J of ♥', 'J of ♠', 'Q of ♣', 'Q of ♦', 'Q of ♥', 'Q of ♠', 'K of ♣', 'K of ♦', 'K of ♥', 'K of ♠', 'A of ♣', 'A of ♦', 'A of ♥', 'A of ♠']\n"
     ]
    }
   ],
   "source": []
  },
  {
   "cell_type": "markdown",
   "metadata": {},
   "source": [
    "Challenge Zone: apakah task di atas bisa diselesaikan dengan satu baris kode?"
   ]
  },
  {
   "cell_type": "code",
   "execution_count": null,
   "metadata": {},
   "outputs": [],
   "source": []
  },
  {
   "cell_type": "markdown",
   "metadata": {},
   "source": [
    "### 3. Buatlah function untuk mengecek apakah pegawai dengan nama tertentu ada di ```employee_data```, \n",
    "\n",
    "jika ada print dengan format:\n",
    "\n",
    ">Nama: abc def<br>\n",
    "Email: abc@abc.cba"
   ]
  },
  {
   "cell_type": "code",
   "execution_count": 18,
   "metadata": {},
   "outputs": [
    {
     "name": "stdout",
     "output_type": "stream",
     "text": [
      "Nama: Rachel Looke\n",
      "Email: looke@example.com\n"
     ]
    }
   ],
   "source": [
    "employee_data = '''booker12;rachel@example.com;9012;rachel booker\n",
    "grey07;grey@anatomy.com;2070;laura grey\n",
    "johnson81;johnson@johnson.and;4081;craig johnson\n",
    "jenkins46;mary@example.com;9346;mary jenkins\n",
    "smith79;jamie@example.com;5079;jamie smith\n",
    "looke13;looke@example.com;9012;rachel looke\n",
    "york07;york@anatomy.com;2070;laura york\n",
    "sholeh05;sholeh@johnson.and;4081;craig sholeh\n",
    "vale46;vale@example.com;9346;mary vale\n",
    "tugtug79;tugtug@example.com;5079;jamie tugtug'''\n",
    "\n",
    "def employee_is_exist(searched_name):\n",
    "    ...\n",
    "\n",
    "employee_is_exist('looke')"
   ]
  },
  {
   "cell_type": "code",
   "execution_count": 19,
   "metadata": {},
   "outputs": [
    {
     "name": "stdout",
     "output_type": "stream",
     "text": [
      "Nama: Jamie Smith\n",
      "Email: jamie@example.com\n"
     ]
    }
   ],
   "source": [
    "employee_is_exist('smith')"
   ]
  },
  {
   "cell_type": "code",
   "execution_count": 20,
   "metadata": {},
   "outputs": [
    {
     "name": "stdout",
     "output_type": "stream",
     "text": [
      "Nama: Jamie Tugtug\n",
      "Email: tugtug@example.com\n"
     ]
    }
   ],
   "source": [
    "employee_is_exist('tugtug')"
   ]
  },
  {
   "cell_type": "code",
   "execution_count": 24,
   "metadata": {},
   "outputs": [
    {
     "name": "stdout",
     "output_type": "stream",
     "text": [
      "Nama: Jamie Smith\n",
      "Email: jamie@example.com\n",
      "Nama: Jamie Tugtug\n",
      "Email: tugtug@example.com\n"
     ]
    }
   ],
   "source": [
    "employee_is_exist('jamie')"
   ]
  },
  {
   "cell_type": "markdown",
   "metadata": {},
   "source": [
    "### 4. Di dalam variabel ```student_score_data``` terdapat daftar nilai setiap mata pelajaran dari setiap siswa di kelas A. Siapa saja siswa yang ada di kelas A? Dan apa saja mata pelajaran yang mereka pelajari?\n",
    "\n",
    "hint: gunakan tipe data kolektif yang elemennya tidak bisa duplikat"
   ]
  },
  {
   "cell_type": "code",
   "execution_count": 1,
   "metadata": {},
   "outputs": [],
   "source": [
    "student_score_data = '''Tono,Matematika,100\n",
    "Tuti,Matematika,34\n",
    "Rosi,Matematika,78\n",
    "Aldo,Matematika,86\n",
    "Tono,English,73\n",
    "Tuti,English,99\n",
    "Rosi,English,63\n",
    "Aldo,English,82\n",
    "Tono,Biologi,67\n",
    "Tuti,Biologi,97\n",
    "Rosi,Biologi,72\n",
    "Aldo,Biologi,81\n",
    "Tono,Fisika,91\n",
    "Tuti,Fisika,76\n",
    "Rosi,Fisika,77\n",
    "Aldo,Fisika,83\n",
    "Tono,Olahraga,72\n",
    "Tuti,Olahraga,74\n",
    "Rosi,Olahraga,97\n",
    "Aldo,Olahraga,91'''"
   ]
  },
  {
   "cell_type": "code",
   "execution_count": 23,
   "metadata": {},
   "outputs": [
    {
     "name": "stdout",
     "output_type": "stream",
     "text": [
      "{'Tuti', 'Tono', 'Rosi'}\n",
      "{'English', 'Fisika', 'Biologi', 'Matematika'}\n"
     ]
    }
   ],
   "source": []
  },
  {
   "cell_type": "markdown",
   "metadata": {},
   "source": [
    "## 5. Buat dictionary dengan key nama siswa, dan value berisi rata-rata nilai siswa tersebut"
   ]
  },
  {
   "cell_type": "code",
   "execution_count": 6,
   "metadata": {},
   "outputs": [
    {
     "data": {
      "text/plain": [
       "{'Rosi': 77.4, 'Aldo': 84.6, 'Tono': 80.6, 'Tuti': 76.0}"
      ]
     },
     "execution_count": 6,
     "metadata": {},
     "output_type": "execute_result"
    }
   ],
   "source": [
    "# Nama siswa\n",
    "student = set([student_score.split(',')[0] for student_score in student_score_data.split('\\n')])\n",
    "\n",
    "score_dict = {}\n",
    "\n",
    "# Tuliskan kode untuk mengisi dictionary score_dict sesuai soal\n",
    "\n",
    "score_dict"
   ]
  },
  {
   "cell_type": "markdown",
   "metadata": {},
   "source": [
    "### 6. Buat function untuk melakukan enkripsi password dengan langkah-langkah sebagai berikut:\n",
    "\n",
    "1. Dapatkan nomor ASCII code dari setiap huruf dengan menggunakan fungsi ```ord()```.\n",
    "2. Hitung sisa pembagian (modulo) dari nomor ASCII code dari langkah a dengan panjang variabel str_1.\n",
    "3. Gunakan sisa pembagian (modulo) dari langkah b sebagai index untuk mengambil karakter hasil enkripsi dari  str_1.\n",
    "\n",
    "Untuk mengetes fungsi yang Anda buat: \n",
    "* apabila passwordnya adalah ```password```, hasil enkripsinya menjadi ```YJ226X1M```\n",
    "* apabila passwordnya adalah ```abcd1234```, hasil enkripsinya menjadi ```JKLMXYZ1```"
   ]
  },
  {
   "cell_type": "code",
   "execution_count": null,
   "metadata": {},
   "outputs": [],
   "source": [
    "def password_encryptor(password):\n",
    "    str_1 = \"abcdefghijklmnopqrstuvwxyzABCDEFGHIJKLMNOPQRSTUVWXYZ1234567890\"\n",
    "\n",
    "    encrypted_password = '' # String kosong untuk menampung password hasil enkripsi\n",
    "\n",
    "    # Tuliskan kode Anda di sini\n",
    "    return encrypted_password"
   ]
  },
  {
   "cell_type": "code",
   "execution_count": null,
   "metadata": {},
   "outputs": [
    {
     "data": {
      "text/plain": [
       "'YJ226X1M'"
      ]
     },
     "metadata": {},
     "output_type": "display_data"
    }
   ],
   "source": [
    "password_encryptor('password')"
   ]
  },
  {
   "cell_type": "code",
   "execution_count": null,
   "metadata": {},
   "outputs": [
    {
     "data": {
      "text/plain": [
       "'JKLMXYZ1'"
      ]
     },
     "metadata": {},
     "output_type": "display_data"
    }
   ],
   "source": [
    "password_encryptor('abcd1234')"
   ]
  },
  {
   "cell_type": "markdown",
   "metadata": {},
   "source": [
    "### 7. Berikut ini adalah pesan yang dituliskan dalam kode di variabel ```myst_nums```. Untungnya pemilik pesan telah menyediakan 3 dictionary ```dict1```, ```dict2```, dan ```dict3``` untuk menerjemahkannya. Bisakah Anda menerjemahkan pesan tersebut?"
   ]
  },
  {
   "cell_type": "code",
   "execution_count": 18,
   "metadata": {},
   "outputs": [],
   "source": [
    "# Run this code cell to create the variables\n",
    "# mysterious numbers\n",
    "myst_nums = \"2658 8503 2582 3035 9951 5535 1763 5552 2276 2079 4906 2658 293 2582 3407 786 6164 3279 3825 595 4975 6152 1974 7262 7262 2070 1861 6055 9735 1398 183 7262 7708 3284 4175 2908 8000 9364 4979 2070 1861 6055 9735 8590 4691 4979 8618 4161 9302 4979 7840 7262 3589 3589 9817 5372 7278 3522 2890 7206 8258 2037 8445 1076 7853 5400 8159 4505 8364 8258 1258 2738 4527 8258 2635 6049 5576 6798 9432 9290 4362 8258 6142 978 9198\"\n",
    "\n",
    "# first look up dictionary\n",
    "dict1 = {6152: 'then', 9302: 'till', 9735: 'much', 1398: 'a', 8618: 'was', 3284: 'out', 7262: 'you', 1974: \"there's\", 4979: 'i', 4161: 'lost', 9364: 'crowds', 1861: 'feel', 7840: 'found', 183: 'stranger', 8590: 'in', 8000: 'the', 6055: 'that', 2070: \"don't\", 4691: 'danger', 4175: 'from', 7708: 'stand', 2908: 'all'}\n",
    "# second look up dictionary\n",
    "dict2 = {3279: 'when', 595: 'none', 2276: 'no', 1763: 'streets', 3407: 'tryna', 3825: \"there's\", 3035: 'fighting', 4906: 'ground', 293: 'just', 5552: 'with', 2582: 'strangers', 2658: \"we're\", 9951: 'in', 5535: 'the', 6164: 'release', 2079: 'common', 4975: 'around', 8503: 'all', 786: 'find'}\n",
    "# third look up dictionary\n",
    "dict3 = {9432: 'me', 3589: 'baby,', 5576: 'baby', 4505: 'not', 6142: 'can', 2738: 'is', 5372: 'you', 9817: \"won't\", 8258: 'i', 8445: 'really', 7853: 'stay', 6798: 'hold', 9198: 'breathe', 7278: 'please', 5400: 'if', 7206: 'me?', 6049: 'you,', 4362: 'so', 3522: 'come', 1258: 'know', 2635: 'need', 8159: \"you're\", 978: 'finally', 1076: 'wanna', 4527: 'that', 2890: 'rescue', 2037: \"don't\", 9290: 'close', 8364: 'all'}"
   ]
  },
  {
   "cell_type": "code",
   "execution_count": null,
   "metadata": {},
   "outputs": [],
   "source": []
  }
 ],
 "metadata": {
  "kernelspec": {
   "display_name": "Python 3",
   "language": "python",
   "name": "python3"
  },
  "language_info": {
   "codemirror_mode": {
    "name": "ipython",
    "version": 3
   },
   "file_extension": ".py",
   "mimetype": "text/x-python",
   "name": "python",
   "nbconvert_exporter": "python",
   "pygments_lexer": "ipython3",
   "version": "3.9.18"
  }
 },
 "nbformat": 4,
 "nbformat_minor": 2
}
