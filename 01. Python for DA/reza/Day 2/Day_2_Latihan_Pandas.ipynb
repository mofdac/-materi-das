{
 "cells": [
  {
   "cell_type": "code",
   "execution_count": 83,
   "id": "3e458c01",
   "metadata": {
    "ExecuteTime": {
     "end_time": "2023-08-16T02:40:09.037770Z",
     "start_time": "2023-08-16T02:40:09.006192Z"
    }
   },
   "outputs": [],
   "source": [
    "import pandas as pd"
   ]
  },
  {
   "cell_type": "markdown",
   "id": "decreased-cattle",
   "metadata": {},
   "source": [
    "# Latihan 1 \n",
    "\n",
    "Sumber data : Boston Housing"
   ]
  },
  {
   "cell_type": "code",
   "execution_count": null,
   "id": "2675e5ef",
   "metadata": {},
   "outputs": [
    {
     "data": {
      "text/html": [
       "<div>\n",
       "<style scoped>\n",
       "    .dataframe tbody tr th:only-of-type {\n",
       "        vertical-align: middle;\n",
       "    }\n",
       "\n",
       "    .dataframe tbody tr th {\n",
       "        vertical-align: top;\n",
       "    }\n",
       "\n",
       "    .dataframe thead th {\n",
       "        text-align: right;\n",
       "    }\n",
       "</style>\n",
       "<table border=\"1\" class=\"dataframe\">\n",
       "  <thead>\n",
       "    <tr style=\"text-align: right;\">\n",
       "      <th></th>\n",
       "      <th>CRIM</th>\n",
       "      <th>ZN</th>\n",
       "      <th>INDUS</th>\n",
       "      <th>CHAS</th>\n",
       "      <th>NOX</th>\n",
       "      <th>RM</th>\n",
       "      <th>AGE</th>\n",
       "      <th>DIS</th>\n",
       "      <th>RAD</th>\n",
       "      <th>TAX</th>\n",
       "      <th>PTRATIO</th>\n",
       "      <th>B</th>\n",
       "      <th>LSTAT</th>\n",
       "      <th>MEDV</th>\n",
       "    </tr>\n",
       "  </thead>\n",
       "  <tbody>\n",
       "    <tr>\n",
       "      <th>0</th>\n",
       "      <td>0.00632</td>\n",
       "      <td>18.0</td>\n",
       "      <td>2.31</td>\n",
       "      <td>0</td>\n",
       "      <td>0.538</td>\n",
       "      <td>6.575</td>\n",
       "      <td>65.2</td>\n",
       "      <td>4.0900</td>\n",
       "      <td>1</td>\n",
       "      <td>296</td>\n",
       "      <td>15.3</td>\n",
       "      <td>396.90</td>\n",
       "      <td>4.98</td>\n",
       "      <td>24.0</td>\n",
       "    </tr>\n",
       "    <tr>\n",
       "      <th>1</th>\n",
       "      <td>0.02731</td>\n",
       "      <td>0.0</td>\n",
       "      <td>7.07</td>\n",
       "      <td>0</td>\n",
       "      <td>0.469</td>\n",
       "      <td>6.421</td>\n",
       "      <td>78.9</td>\n",
       "      <td>4.9671</td>\n",
       "      <td>2</td>\n",
       "      <td>242</td>\n",
       "      <td>17.8</td>\n",
       "      <td>396.90</td>\n",
       "      <td>9.14</td>\n",
       "      <td>21.6</td>\n",
       "    </tr>\n",
       "    <tr>\n",
       "      <th>2</th>\n",
       "      <td>0.02729</td>\n",
       "      <td>0.0</td>\n",
       "      <td>7.07</td>\n",
       "      <td>0</td>\n",
       "      <td>0.469</td>\n",
       "      <td>7.185</td>\n",
       "      <td>61.1</td>\n",
       "      <td>4.9671</td>\n",
       "      <td>2</td>\n",
       "      <td>242</td>\n",
       "      <td>17.8</td>\n",
       "      <td>392.83</td>\n",
       "      <td>4.03</td>\n",
       "      <td>34.7</td>\n",
       "    </tr>\n",
       "    <tr>\n",
       "      <th>3</th>\n",
       "      <td>0.03237</td>\n",
       "      <td>0.0</td>\n",
       "      <td>2.18</td>\n",
       "      <td>0</td>\n",
       "      <td>0.458</td>\n",
       "      <td>6.998</td>\n",
       "      <td>45.8</td>\n",
       "      <td>6.0622</td>\n",
       "      <td>3</td>\n",
       "      <td>222</td>\n",
       "      <td>18.7</td>\n",
       "      <td>394.63</td>\n",
       "      <td>2.94</td>\n",
       "      <td>33.4</td>\n",
       "    </tr>\n",
       "    <tr>\n",
       "      <th>4</th>\n",
       "      <td>0.06905</td>\n",
       "      <td>0.0</td>\n",
       "      <td>2.18</td>\n",
       "      <td>0</td>\n",
       "      <td>0.458</td>\n",
       "      <td>7.147</td>\n",
       "      <td>54.2</td>\n",
       "      <td>6.0622</td>\n",
       "      <td>3</td>\n",
       "      <td>222</td>\n",
       "      <td>18.7</td>\n",
       "      <td>396.90</td>\n",
       "      <td>5.33</td>\n",
       "      <td>36.2</td>\n",
       "    </tr>\n",
       "  </tbody>\n",
       "</table>\n",
       "</div>"
      ],
      "text/plain": [
       "      CRIM    ZN  INDUS  CHAS    NOX     RM   AGE     DIS  RAD  TAX  PTRATIO  \\\n",
       "0  0.00632  18.0   2.31     0  0.538  6.575  65.2  4.0900    1  296     15.3   \n",
       "1  0.02731   0.0   7.07     0  0.469  6.421  78.9  4.9671    2  242     17.8   \n",
       "2  0.02729   0.0   7.07     0  0.469  7.185  61.1  4.9671    2  242     17.8   \n",
       "3  0.03237   0.0   2.18     0  0.458  6.998  45.8  6.0622    3  222     18.7   \n",
       "4  0.06905   0.0   2.18     0  0.458  7.147  54.2  6.0622    3  222     18.7   \n",
       "\n",
       "        B  LSTAT  MEDV  \n",
       "0  396.90   4.98  24.0  \n",
       "1  396.90   9.14  21.6  \n",
       "2  392.83   4.03  34.7  \n",
       "3  394.63   2.94  33.4  \n",
       "4  396.90   5.33  36.2  "
      ]
     },
     "metadata": {},
     "output_type": "display_data"
    }
   ],
   "source": [
    "boston = pd.read_excel(\"https://github.com/mofdac/-materi-das/raw/main/01.%20Python%20for%20DA/latihan/Boston_Housing.xlsx\")\n",
    "boston.head()"
   ]
  },
  {
   "cell_type": "markdown",
   "id": "joint-turkey",
   "metadata": {
    "tags": []
   },
   "source": [
    "## 1. Tampilkan Informasi Statistik Seperti Mean, Median,Std, dll dari dataset diatas "
   ]
  },
  {
   "cell_type": "code",
   "execution_count": null,
   "id": "attended-stress",
   "metadata": {
    "ExecuteTime": {
     "end_time": "2023-08-16T02:31:55.385513Z",
     "start_time": "2023-08-16T02:31:55.338680Z"
    }
   },
   "outputs": [],
   "source": []
  },
  {
   "cell_type": "markdown",
   "id": "documented-level",
   "metadata": {},
   "source": [
    "## 2. Apa saja tipe data yang ada dari dataframe diatas "
   ]
  },
  {
   "cell_type": "code",
   "execution_count": null,
   "id": "visible-survivor",
   "metadata": {
    "ExecuteTime": {
     "end_time": "2023-08-16T02:31:55.401144Z",
     "start_time": "2023-08-16T02:31:55.385513Z"
    }
   },
   "outputs": [],
   "source": []
  },
  {
   "cell_type": "markdown",
   "id": "exterior-socket",
   "metadata": {},
   "source": [
    "## 3.  Terdapat Berapa Kolom dan baris data diatas ? "
   ]
  },
  {
   "cell_type": "code",
   "execution_count": null,
   "id": "covered-fault",
   "metadata": {
    "ExecuteTime": {
     "end_time": "2023-08-16T02:31:55.416765Z",
     "start_time": "2023-08-16T02:31:55.401144Z"
    }
   },
   "outputs": [],
   "source": []
  },
  {
   "cell_type": "code",
   "execution_count": null,
   "id": "1c42d261",
   "metadata": {
    "ExecuteTime": {
     "end_time": "2023-08-16T02:31:55.448429Z",
     "start_time": "2023-08-16T02:31:55.416765Z"
    }
   },
   "outputs": [],
   "source": []
  },
  {
   "cell_type": "markdown",
   "id": "fourth-margin",
   "metadata": {},
   "source": [
    "## 4. Kolom manakah yang memiliki standar deviasi paling tinggi dan berapa nilai standar deviasinya? "
   ]
  },
  {
   "cell_type": "code",
   "execution_count": null,
   "id": "accessible-reservation",
   "metadata": {
    "ExecuteTime": {
     "end_time": "2023-08-16T02:31:55.464052Z",
     "start_time": "2023-08-16T02:31:55.448429Z"
    }
   },
   "outputs": [],
   "source": []
  },
  {
   "cell_type": "markdown",
   "id": "continued-explosion",
   "metadata": {},
   "source": [
    "## 5. Buat copy dataframe boston menjadi dataframe baru yang diberi nama top_boston. Ketentuannya ambil baris dengan nilai kolom \"CRIM\" 10 Terbesar. Tampilkan hanya Kolom \"CRIM, DIS, MEDV, dan LSTAT\" saja dan urutkan index barisnya"
   ]
  },
  {
   "cell_type": "code",
   "execution_count": null,
   "id": "c478a2c9",
   "metadata": {
    "ExecuteTime": {
     "end_time": "2023-08-16T02:31:55.495302Z",
     "start_time": "2023-08-16T02:31:55.464052Z"
    }
   },
   "outputs": [],
   "source": []
  },
  {
   "cell_type": "markdown",
   "id": "pleasant-labor",
   "metadata": {},
   "source": [
    "# Latihan 2 \n",
    "Sumber data : Sales_June_2019.csv dan Sales_July_2019.csv "
   ]
  },
  {
   "cell_type": "code",
   "execution_count": null,
   "id": "14dcbde3",
   "metadata": {},
   "outputs": [
    {
     "name": "stdout",
     "output_type": "stream",
     "text": [
      "(13599, 6)\n"
     ]
    },
    {
     "data": {
      "text/html": [
       "<div>\n",
       "<style scoped>\n",
       "    .dataframe tbody tr th:only-of-type {\n",
       "        vertical-align: middle;\n",
       "    }\n",
       "\n",
       "    .dataframe tbody tr th {\n",
       "        vertical-align: top;\n",
       "    }\n",
       "\n",
       "    .dataframe thead th {\n",
       "        text-align: right;\n",
       "    }\n",
       "</style>\n",
       "<table border=\"1\" class=\"dataframe\">\n",
       "  <thead>\n",
       "    <tr style=\"text-align: right;\">\n",
       "      <th></th>\n",
       "      <th>Order ID</th>\n",
       "      <th>Product</th>\n",
       "      <th>Quantity Ordered</th>\n",
       "      <th>Price Each</th>\n",
       "      <th>Order Date</th>\n",
       "      <th>Purchase Address</th>\n",
       "    </tr>\n",
       "  </thead>\n",
       "  <tbody>\n",
       "    <tr>\n",
       "      <th>0</th>\n",
       "      <td>209921.0</td>\n",
       "      <td>USB-C Charging Cable</td>\n",
       "      <td>1.0</td>\n",
       "      <td>11.95</td>\n",
       "      <td>06/23/19 19:34</td>\n",
       "      <td>950 Walnut St, Portland, ME 04101</td>\n",
       "    </tr>\n",
       "    <tr>\n",
       "      <th>1</th>\n",
       "      <td>209922.0</td>\n",
       "      <td>Macbook Pro Laptop</td>\n",
       "      <td>1.0</td>\n",
       "      <td>1700.00</td>\n",
       "      <td>06/30/19 10:05</td>\n",
       "      <td>80 4th St, San Francisco, CA 94016</td>\n",
       "    </tr>\n",
       "    <tr>\n",
       "      <th>2</th>\n",
       "      <td>209923.0</td>\n",
       "      <td>ThinkPad Laptop</td>\n",
       "      <td>1.0</td>\n",
       "      <td>999.99</td>\n",
       "      <td>06/24/19 20:18</td>\n",
       "      <td>402 Jackson St, Los Angeles, CA 90001</td>\n",
       "    </tr>\n",
       "    <tr>\n",
       "      <th>3</th>\n",
       "      <td>209924.0</td>\n",
       "      <td>27in FHD Monitor</td>\n",
       "      <td>1.0</td>\n",
       "      <td>149.99</td>\n",
       "      <td>06/05/19 10:21</td>\n",
       "      <td>560 10th St, Seattle, WA 98101</td>\n",
       "    </tr>\n",
       "    <tr>\n",
       "      <th>4</th>\n",
       "      <td>209925.0</td>\n",
       "      <td>Bose SoundSport Headphones</td>\n",
       "      <td>1.0</td>\n",
       "      <td>99.99</td>\n",
       "      <td>06/25/19 18:58</td>\n",
       "      <td>545 2nd St, San Francisco, CA 94016</td>\n",
       "    </tr>\n",
       "  </tbody>\n",
       "</table>\n",
       "</div>"
      ],
      "text/plain": [
       "   Order ID                     Product  Quantity Ordered  Price Each  \\\n",
       "0  209921.0        USB-C Charging Cable               1.0       11.95   \n",
       "1  209922.0          Macbook Pro Laptop               1.0     1700.00   \n",
       "2  209923.0             ThinkPad Laptop               1.0      999.99   \n",
       "3  209924.0            27in FHD Monitor               1.0      149.99   \n",
       "4  209925.0  Bose SoundSport Headphones               1.0       99.99   \n",
       "\n",
       "       Order Date                       Purchase Address  \n",
       "0  06/23/19 19:34      950 Walnut St, Portland, ME 04101  \n",
       "1  06/30/19 10:05     80 4th St, San Francisco, CA 94016  \n",
       "2  06/24/19 20:18  402 Jackson St, Los Angeles, CA 90001  \n",
       "3  06/05/19 10:21         560 10th St, Seattle, WA 98101  \n",
       "4  06/25/19 18:58    545 2nd St, San Francisco, CA 94016  "
      ]
     },
     "metadata": {},
     "output_type": "display_data"
    },
    {
     "name": "stdout",
     "output_type": "stream",
     "text": [
      "(14336, 6)\n"
     ]
    },
    {
     "data": {
      "text/html": [
       "<div>\n",
       "<style scoped>\n",
       "    .dataframe tbody tr th:only-of-type {\n",
       "        vertical-align: middle;\n",
       "    }\n",
       "\n",
       "    .dataframe tbody tr th {\n",
       "        vertical-align: top;\n",
       "    }\n",
       "\n",
       "    .dataframe thead th {\n",
       "        text-align: right;\n",
       "    }\n",
       "</style>\n",
       "<table border=\"1\" class=\"dataframe\">\n",
       "  <thead>\n",
       "    <tr style=\"text-align: right;\">\n",
       "      <th></th>\n",
       "      <th>Order ID</th>\n",
       "      <th>Product</th>\n",
       "      <th>Quantity Ordered</th>\n",
       "      <th>Price Each</th>\n",
       "      <th>Order Date</th>\n",
       "      <th>Purchase Address</th>\n",
       "    </tr>\n",
       "  </thead>\n",
       "  <tbody>\n",
       "    <tr>\n",
       "      <th>0</th>\n",
       "      <td>222910.0</td>\n",
       "      <td>Apple Airpods Headphones</td>\n",
       "      <td>1.0</td>\n",
       "      <td>150.00</td>\n",
       "      <td>07/26/19 16:51</td>\n",
       "      <td>389 South St, Atlanta, GA 30301</td>\n",
       "    </tr>\n",
       "    <tr>\n",
       "      <th>1</th>\n",
       "      <td>222911.0</td>\n",
       "      <td>Flatscreen TV</td>\n",
       "      <td>1.0</td>\n",
       "      <td>300.00</td>\n",
       "      <td>07/05/19 08:55</td>\n",
       "      <td>590 4th St, Seattle, WA 98101</td>\n",
       "    </tr>\n",
       "    <tr>\n",
       "      <th>2</th>\n",
       "      <td>222912.0</td>\n",
       "      <td>AA Batteries (4-pack)</td>\n",
       "      <td>1.0</td>\n",
       "      <td>3.84</td>\n",
       "      <td>07/29/19 12:41</td>\n",
       "      <td>861 Hill St, Atlanta, GA 30301</td>\n",
       "    </tr>\n",
       "    <tr>\n",
       "      <th>3</th>\n",
       "      <td>222913.0</td>\n",
       "      <td>AA Batteries (4-pack)</td>\n",
       "      <td>1.0</td>\n",
       "      <td>3.84</td>\n",
       "      <td>07/28/19 10:15</td>\n",
       "      <td>190 Ridge St, Atlanta, GA 30301</td>\n",
       "    </tr>\n",
       "    <tr>\n",
       "      <th>4</th>\n",
       "      <td>222914.0</td>\n",
       "      <td>AAA Batteries (4-pack)</td>\n",
       "      <td>5.0</td>\n",
       "      <td>2.99</td>\n",
       "      <td>07/31/19 02:13</td>\n",
       "      <td>824 Forest St, Seattle, WA 98101</td>\n",
       "    </tr>\n",
       "  </tbody>\n",
       "</table>\n",
       "</div>"
      ],
      "text/plain": [
       "   Order ID                   Product  Quantity Ordered  Price Each  \\\n",
       "0  222910.0  Apple Airpods Headphones               1.0      150.00   \n",
       "1  222911.0             Flatscreen TV               1.0      300.00   \n",
       "2  222912.0     AA Batteries (4-pack)               1.0        3.84   \n",
       "3  222913.0     AA Batteries (4-pack)               1.0        3.84   \n",
       "4  222914.0    AAA Batteries (4-pack)               5.0        2.99   \n",
       "\n",
       "       Order Date                  Purchase Address  \n",
       "0  07/26/19 16:51   389 South St, Atlanta, GA 30301  \n",
       "1  07/05/19 08:55     590 4th St, Seattle, WA 98101  \n",
       "2  07/29/19 12:41    861 Hill St, Atlanta, GA 30301  \n",
       "3  07/28/19 10:15   190 Ridge St, Atlanta, GA 30301  \n",
       "4  07/31/19 02:13  824 Forest St, Seattle, WA 98101  "
      ]
     },
     "metadata": {},
     "output_type": "display_data"
    }
   ],
   "source": [
    "sales_june = pd.read_csv(\"https://github.com/mofdac/-materi-das/raw/main/01.%20Python%20for%20DA/latihan/Sales_June_2019.csv\")\n",
    "sales_july = pd.read_csv(\"https://github.com/mofdac/-materi-das/raw/main/01.%20Python%20for%20DA/latihan/Sales_July_2019.csv\")\n",
    "print(sales_june.shape)\n",
    "display(sales_june.head())\n",
    "print(sales_july.shape)\n",
    "display(sales_july.head())"
   ]
  },
  {
   "cell_type": "markdown",
   "id": "fecd98f7",
   "metadata": {},
   "source": [
    "## 6. tampilkan berapa data null untuk masing-masing kolom"
   ]
  },
  {
   "cell_type": "code",
   "execution_count": null,
   "id": "b35c2fd3",
   "metadata": {
    "ExecuteTime": {
     "end_time": "2023-08-16T02:31:55.605085Z",
     "start_time": "2023-08-16T02:31:55.573849Z"
    }
   },
   "outputs": [],
   "source": []
  },
  {
   "cell_type": "markdown",
   "id": "forty-election",
   "metadata": {},
   "source": [
    "## 7. Gabungkan kedua data diatas dan beri nama \"df_sales\" dataframe barunya"
   ]
  },
  {
   "cell_type": "code",
   "execution_count": null,
   "id": "23519744",
   "metadata": {
    "ExecuteTime": {
     "end_time": "2023-08-16T02:31:55.636753Z",
     "start_time": "2023-08-16T02:31:55.605085Z"
    }
   },
   "outputs": [],
   "source": []
  },
  {
   "cell_type": "markdown",
   "id": "ab9525a5",
   "metadata": {},
   "source": [
    "## 8. cek dan hapus data dengan nilai null"
   ]
  },
  {
   "cell_type": "code",
   "execution_count": null,
   "id": "a19adc5a",
   "metadata": {
    "ExecuteTime": {
     "end_time": "2023-08-16T02:31:55.668012Z",
     "start_time": "2023-08-16T02:31:55.636753Z"
    }
   },
   "outputs": [],
   "source": []
  },
  {
   "cell_type": "code",
   "execution_count": null,
   "id": "6e3879e2",
   "metadata": {
    "ExecuteTime": {
     "end_time": "2023-08-16T02:31:55.699274Z",
     "start_time": "2023-08-16T02:31:55.668012Z"
    }
   },
   "outputs": [],
   "source": []
  },
  {
   "cell_type": "markdown",
   "id": "absent-milan",
   "metadata": {},
   "source": [
    "## 9. Tampilkan 10 produk dengan Nilai Penjualan Tertinggi Juni s.d. Juli (jangan lupa bikin kolom sales dan reset_index)"
   ]
  },
  {
   "cell_type": "code",
   "execution_count": null,
   "id": "c76191e1",
   "metadata": {
    "ExecuteTime": {
     "end_time": "2023-08-16T02:31:55.714888Z",
     "start_time": "2023-08-16T02:31:55.699274Z"
    }
   },
   "outputs": [],
   "source": []
  },
  {
   "cell_type": "code",
   "execution_count": null,
   "id": "e107cf45",
   "metadata": {
    "ExecuteTime": {
     "end_time": "2023-08-16T02:39:52.629506Z",
     "start_time": "2023-08-16T02:39:52.598227Z"
    },
    "scrolled": true
   },
   "outputs": [],
   "source": []
  },
  {
   "cell_type": "markdown",
   "id": "7c083f44",
   "metadata": {},
   "source": [
    "## 10. Export soal 9 ke dalam format csv, csv.nya diberi nama \"top_10_product_sales.csv\""
   ]
  },
  {
   "cell_type": "code",
   "execution_count": null,
   "id": "4f8a6aad",
   "metadata": {
    "ExecuteTime": {
     "end_time": "2023-08-16T02:31:55.762182Z",
     "start_time": "2023-08-16T02:31:55.746558Z"
    }
   },
   "outputs": [],
   "source": []
  },
  {
   "cell_type": "markdown",
   "id": "4ebac434",
   "metadata": {},
   "source": [
    "# Latihan 3"
   ]
  },
  {
   "cell_type": "code",
   "execution_count": 1,
   "id": "1416f9b8",
   "metadata": {},
   "outputs": [],
   "source": [
    "# Sumber data\n",
    "url_diabetes_prevalence_data = 'https://raw.githubusercontent.com/mihoku/MoF-Training-Python-for-Data-Analytics/main/Day%202/DM_Province_Data.csv'\n",
    "\n",
    "url_konsumsi_minuman_kemasan_data = 'https://raw.githubusercontent.com/mihoku/MoF-Training-Python-for-Data-Analytics/main/Day%202/DM_Province_Data.csv'\n",
    "\n",
    "url_kepadatan_penduduk_data = 'https://raw.githubusercontent.com/mihoku/MoF-Training-Python-for-Data-Analytics/main/Day%202/Data_Kepadatan_Penduduk_Provinsi.csv'"
   ]
  },
  {
   "cell_type": "markdown",
   "id": "9429061c",
   "metadata": {},
   "source": [
    "## 11. Data konsumsi minuman kemasan adalah data di tingkat kabupaten/kota. Buat dataframe baru yang merupakan data konsumsi minuman kemasan per provinsi."
   ]
  },
  {
   "cell_type": "code",
   "execution_count": null,
   "id": "7110b1a5",
   "metadata": {},
   "outputs": [],
   "source": []
  },
  {
   "cell_type": "markdown",
   "id": "36dae989",
   "metadata": {},
   "source": [
    "## 12. Gabungkan data prevalensi diabetes, data konsumsi minuman kemasan, dan kepadatan penduduk (semuanya dalam provinsi), menjadi satu dataset"
   ]
  },
  {
   "cell_type": "code",
   "execution_count": null,
   "id": "9066061f",
   "metadata": {},
   "outputs": [],
   "source": []
  },
  {
   "cell_type": "markdown",
   "id": "96a3424c",
   "metadata": {},
   "source": []
  }
 ],
 "metadata": {
  "hide_input": false,
  "kernelspec": {
   "display_name": "Python 3 (ipykernel)",
   "language": "python",
   "name": "python3"
  },
  "language_info": {
   "codemirror_mode": {
    "name": "ipython",
    "version": 3
   },
   "file_extension": ".py",
   "mimetype": "text/x-python",
   "name": "python",
   "nbconvert_exporter": "python",
   "pygments_lexer": "ipython3",
   "version": "3.9.18"
  },
  "latex_envs": {
   "LaTeX_envs_menu_present": true,
   "autoclose": false,
   "autocomplete": true,
   "bibliofile": "biblio.bib",
   "cite_by": "apalike",
   "current_citInitial": 1,
   "eqLabelWithNumbers": true,
   "eqNumInitial": 1,
   "hotkeys": {
    "equation": "Ctrl-E",
    "itemize": "Ctrl-I"
   },
   "labels_anchors": false,
   "latex_user_defs": false,
   "report_style_numbering": false,
   "user_envs_cfg": false
  },
  "toc": {
   "base_numbering": 1,
   "nav_menu": {},
   "number_sections": true,
   "sideBar": true,
   "skip_h1_title": false,
   "title_cell": "Table of Contents",
   "title_sidebar": "Contents",
   "toc_cell": false,
   "toc_position": {},
   "toc_section_display": true,
   "toc_window_display": true
  },
  "widgets": {
   "application/vnd.jupyter.widget-state+json": {
    "state": {},
    "version_major": 2,
    "version_minor": 0
   }
  }
 },
 "nbformat": 4,
 "nbformat_minor": 5
}
