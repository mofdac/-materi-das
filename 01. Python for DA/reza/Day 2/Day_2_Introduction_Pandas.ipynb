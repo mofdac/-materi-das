{
 "cells": [
  {
   "cell_type": "markdown",
   "id": "1521b40d-c18e-4a69-96cf-5aa24340f47a",
   "metadata": {
    "id": "1521b40d-c18e-4a69-96cf-5aa24340f47a",
    "slideshow": {
     "slide_type": "slide"
    }
   },
   "source": [
    "# Pengantar"
   ]
  },
  {
   "cell_type": "markdown",
   "id": "49c1fd42",
   "metadata": {
    "slideshow": {
     "slide_type": "slide"
    }
   },
   "source": [
    "## progress check"
   ]
  },
  {
   "cell_type": "markdown",
   "id": "f23edd98",
   "metadata": {
    "slideshow": {
     "slide_type": "slide"
    }
   },
   "source": [
    "Cross-Industry Standard Process for Data Mining (CRISP-DM)\n",
    "<img src=\"https://www.datascience-pm.com/wp-content/uploads/2021/02/CRISP-DM.png\" width=\"400\"/>\n",
    "source : <a href=\"www.datascience-pm.com\">www.datascience-pm.com</a>"
   ]
  },
  {
   "cell_type": "markdown",
   "id": "5d2b6a7a",
   "metadata": {
    "slideshow": {
     "slide_type": "slide"
    }
   },
   "source": [
    "Data Science Venn Diagram\n",
    "<img src=\"http://international.binus.ac.id/computer-science/files/2020/10/Screen-Shot-2020-10-28-at-9.19.43-AM.png\" width=\"600\"/>\n",
    "source : <a href=\"https://international.binus.ac.id/computer-science/2020/10/28/data-science-ingredients-explain-with-drew-conway-diagram/\">https://international.binus.ac.id</a>"
   ]
  },
  {
   "cell_type": "markdown",
   "id": "e39a29f4",
   "metadata": {
    "slideshow": {
     "slide_type": "slide"
    }
   },
   "source": [
    "## nbextension"
   ]
  },
  {
   "cell_type": "markdown",
   "id": "fbf48dfe",
   "metadata": {
    "slideshow": {
     "slide_type": "slide"
    }
   },
   "source": [
    "install nbextensions jupyter notebook :\n",
    "\n",
    "1. install python package jupyter_contrib_nbextensions <br/>\n",
    "\tbuka anaconda prompt <br/>\n",
    "\tcek versi pip : pip --version <br/>\n",
    "\tjalankan : pip install jupyter_contrib_nbextensions <br/> <br/>\n",
    "\n",
    "2. install js dan css file <br/>\n",
    "\tbuka anaconda prompt <br/>\n",
    "\tcek versi jupyter --version <br/>\n",
    "\tjalankan : jupyter contrib nbextensions install --user <br/> <br/>"
   ]
  },
  {
   "cell_type": "markdown",
   "id": "634cd0e3",
   "metadata": {
    "slideshow": {
     "slide_type": "slide"
    }
   },
   "source": [
    "3. enable nbextension <br/>\n",
    "\tjalankan : jupyter nbextension enable codefolding/main --user <br/> <br/>\n",
    "\n",
    "4. hasilnya : nbextensions di folder root jupyter notebook <br/> <br/>\n",
    "\n",
    "5. uncheck disable configurations > pilih yang mana extensions yang mau dipakai <br/>\n",
    "\tcontoh : skip traceback, execute time, table of content 2, hinterland"
   ]
  },
  {
   "cell_type": "markdown",
   "id": "fe5d883d",
   "metadata": {
    "slideshow": {
     "slide_type": "slide"
    }
   },
   "source": [
    "## fstring"
   ]
  },
  {
   "cell_type": "code",
   "execution_count": 2,
   "id": "a28e4447",
   "metadata": {
    "ExecuteTime": {
     "end_time": "2023-08-22T02:03:56.345188Z",
     "start_time": "2023-08-22T02:03:56.336377Z"
    }
   },
   "outputs": [],
   "source": [
    "error ga?\n",
    "A = 17\n",
    "print(\"Usia saya\" + str(A))"
   ]
  },
  {
   "cell_type": "code",
   "execution_count": null,
   "id": "07a6f897",
   "metadata": {
    "ExecuteTime": {
     "end_time": "2023-08-21T14:25:04.944296Z",
     "start_time": "2023-08-21T14:25:04.928640Z"
    },
    "slideshow": {
     "slide_type": "slide"
    }
   },
   "outputs": [],
   "source": [
    "A = 17\n",
    "B = 20\n",
    "\n",
    "C = \"usia anak-anak budi %s dan %s, sedangkan usia anak-anak anton juga %s dan %s \" % (A,B,A,B)\n",
    "print(C)"
   ]
  },
  {
   "cell_type": "code",
   "execution_count": null,
   "id": "86669c0d",
   "metadata": {
    "ExecuteTime": {
     "end_time": "2023-08-21T14:25:56.715684Z",
     "start_time": "2023-08-21T14:25:56.699692Z"
    },
    "slideshow": {
     "slide_type": "slide"
    }
   },
   "outputs": [],
   "source": [
    "A = 17\n",
    "B = 20\n",
    "\n",
    "C = f\"usia anak-anak budi {A} dan {B}, sedangkan usia anak-anak anton {A} dan {B}\"\n",
    "print(C)"
   ]
  },
  {
   "cell_type": "markdown",
   "id": "7b188bdc",
   "metadata": {
    "slideshow": {
     "slide_type": "slide"
    }
   },
   "source": [
    "f-string:\n",
    "- since python 3.6\n",
    "- easier to read than old style <code>\"Hello, %s %s. You are %s. You are a %s. You were a member of %s.\" % (first_name, last_name, age, profession, affiliation)</code>\n",
    "- easier to read than old style <code>\"Hello, {}. You are {}.\".format(name, age)</code>\n",
    "- sintaks : <code>f\"{37}\" or f\"{to_lowercase(name)} is funny.\"</code>\n",
    "- source: <a href=\"https://realpython.com/python-f-strings/\">realpython.com</a>"
   ]
  },
  {
   "cell_type": "markdown",
   "id": "5a320cd2",
   "metadata": {
    "slideshow": {
     "slide_type": "slide"
    }
   },
   "source": [
    "## Python best practice\n",
    "\n",
    "- Write Object-Oriented Code\n",
    "- Use Virtual Environments\n",
    "- Write Readable Code\n",
    "- Use the (Python Package Index) PyPI Instead of Doing it Yourself\n",
    "- Create version control\n",
    "- Create Readable Documentation. ex : Docstrings\n",
    "- Follow Python Enhancement Proposals [PEP](https://peps.python.org/pep-0008/#code-lay-out) - these are guidelines and standards for development "
   ]
  },
  {
   "cell_type": "markdown",
   "id": "1b7c19a0-534b-4d25-b95b-f1b17b6f2f4a",
   "metadata": {
    "id": "1b7c19a0-534b-4d25-b95b-f1b17b6f2f4a",
    "slideshow": {
     "slide_type": "slide"
    }
   },
   "source": [
    "## Libraries\n",
    "\n",
    "> Merupakan sekumpulan modul, function, object yang didistribusikan untuk dapat digunakan secara luas."
   ]
  },
  {
   "cell_type": "markdown",
   "id": "a7c7061c-0099-44f4-946a-9d7543205dae",
   "metadata": {
    "id": "a7c7061c-0099-44f4-946a-9d7543205dae",
    "slideshow": {
     "slide_type": "slide"
    }
   },
   "source": [
    "### Install libraries\n",
    "\n",
    "Cara umum untuk menginstall library pihak ketiga bisa menggunakan perintah:\n",
    "\n",
    "```pip``` install ```nama_library```\n",
    "\n",
    "```!pip``` install ```nama_library``` (dalam jupyter notebook)"
   ]
  },
  {
   "cell_type": "markdown",
   "id": "6f05ec94-6b93-4642-9cd8-9e9b8af93b49",
   "metadata": {
    "id": "6f05ec94-6b93-4642-9cd8-9e9b8af93b49",
    "slideshow": {
     "slide_type": "slide"
    }
   },
   "source": [
    "### Cara memanggil library\n",
    "\n",
    "> Untuk menggunakan sebuah library kita perlu melakukan import\n",
    "\n",
    "```python\n",
    "import math\n",
    "\n",
    "math.pi\n",
    "```"
   ]
  },
  {
   "cell_type": "markdown",
   "id": "613ced5b",
   "metadata": {
    "slideshow": {
     "slide_type": "slide"
    }
   },
   "source": [
    "# Pandas for Data Analysis"
   ]
  },
  {
   "cell_type": "markdown",
   "id": "c1aabb4c-1cda-4757-9f78-bdf7680e98f2",
   "metadata": {
    "id": "c1aabb4c-1cda-4757-9f78-bdf7680e98f2",
    "slideshow": {
     "slide_type": "slide"
    }
   },
   "source": [
    "## About Pandas\n",
    "\n",
    "- Wes McKinney started building what would become pandas at AQR Capital while he was a researcher there from 2007 to 2010\n",
    "- The name is derived from the term \"panel data\" \n",
    "- It is free software released under the three-clause BSD license\n",
    "- Library di Python yang menyediakan struktur data dan analisis data yang mudah digunakan\n",
    "- merubah data (list, dictionary, numpy array) menjadi table\n",
    "- mengubah dimensi data, mengecek data, dan lain sebagainya. \n",
    "- Dokumentasi [Pandas API Referencee](https://pandas.pydata.org/docs/reference/)"
   ]
  },
  {
   "cell_type": "markdown",
   "id": "3a09ff9c",
   "metadata": {
    "slideshow": {
     "slide_type": "slide"
    }
   },
   "source": [
    "# Pandas General Usage\n",
    "\n",
    "- Loading and saving data\n",
    "- Data cleansing\n",
    "- Data fill\n",
    "- Data Selection\n",
    "- Merges and concat\n",
    "- Data visualization\n",
    "- Statistical analysis\n",
    "- Data manipulation"
   ]
  },
  {
   "cell_type": "markdown",
   "id": "1eacdee1",
   "metadata": {
    "id": "025c888a-c24f-4b1e-949c-f68b534c747d",
    "slideshow": {
     "slide_type": "slide"
    }
   },
   "source": [
    "## Rekomendasi bacaan\n",
    "\n",
    "1. Video Youtube MOFDAC\n",
    "2. https://pandas.pydata.org/Pandas_Cheat_Sheet.pdf\n",
    "3. https://www.enthought.com/wp-content/uploads/Enthought-Python-Pandas-Cheat-Sheets-1-8-v1.0.2.pdf"
   ]
  },
  {
   "cell_type": "markdown",
   "id": "2d83a025-ffa0-443a-af3d-d01b60ee9c21",
   "metadata": {
    "id": "2d83a025-ffa0-443a-af3d-d01b60ee9c21",
    "slideshow": {
     "slide_type": "slide"
    }
   },
   "source": [
    "## Import Pandas"
   ]
  },
  {
   "cell_type": "markdown",
   "id": "fdb240aa-a724-4e1b-8c63-2c7c458bb965",
   "metadata": {
    "id": "fdb240aa-a724-4e1b-8c63-2c7c458bb965",
    "slideshow": {
     "slide_type": "slide"
    }
   },
   "source": [
    "Notes:\n",
    "- sebelum menggunakan pandas kita harus memastikan apakah pandas sudah terinstall di sistem kita\n",
    "- jika belum terinstall kita bisa menggunakan pip install pandas pada command prompt kita\n",
    "- sebelum menggunakan pandas kita harus memanggil/mengimport library pandas"
   ]
  },
  {
   "cell_type": "code",
   "execution_count": 3,
   "id": "6df6a937",
   "metadata": {},
   "outputs": [
    {
     "name": "stdout",
     "output_type": "stream",
     "text": [
      "Requirement already satisfied: pandas in d:\\work\\2024\\diklat data analytics\\.conda\\lib\\site-packages (2.1.4)\n",
      "Requirement already satisfied: numpy<2,>=1.22.4 in d:\\work\\2024\\diklat data analytics\\.conda\\lib\\site-packages (from pandas) (1.26.3)\n",
      "Requirement already satisfied: python-dateutil>=2.8.2 in d:\\work\\2024\\diklat data analytics\\.conda\\lib\\site-packages (from pandas) (2.8.2)\n",
      "Requirement already satisfied: pytz>=2020.1 in d:\\work\\2024\\diklat data analytics\\.conda\\lib\\site-packages (from pandas) (2023.3.post1)\n",
      "Requirement already satisfied: tzdata>=2022.1 in d:\\work\\2024\\diklat data analytics\\.conda\\lib\\site-packages (from pandas) (2023.4)\n",
      "Requirement already satisfied: six>=1.5 in d:\\work\\2024\\diklat data analytics\\.conda\\lib\\site-packages (from python-dateutil>=2.8.2->pandas) (1.16.0)\n"
     ]
    }
   ],
   "source": [
    "!pip install pandas"
   ]
  },
  {
   "cell_type": "code",
   "execution_count": 35,
   "id": "12d199a2",
   "metadata": {},
   "outputs": [
    {
     "name": "stdout",
     "output_type": "stream",
     "text": [
      "Collecting openpyxl\n",
      "  Downloading openpyxl-3.1.2-py2.py3-none-any.whl (249 kB)\n",
      "     ---------------------------------------- 0.0/250.0 kB ? eta -:--:--\n",
      "     - -------------------------------------- 10.2/250.0 kB ? eta -:--:--\n",
      "     ---- -------------------------------- 30.7/250.0 kB 330.3 kB/s eta 0:00:01\n",
      "     --------- --------------------------- 61.4/250.0 kB 469.7 kB/s eta 0:00:01\n",
      "     ----------------- ------------------ 122.9/250.0 kB 804.6 kB/s eta 0:00:01\n",
      "     -------------------------------------- 250.0/250.0 kB 1.3 MB/s eta 0:00:00\n",
      "Collecting et-xmlfile (from openpyxl)\n",
      "  Downloading et_xmlfile-1.1.0-py3-none-any.whl (4.7 kB)\n",
      "Installing collected packages: et-xmlfile, openpyxl\n",
      "Successfully installed et-xmlfile-1.1.0 openpyxl-3.1.2\n"
     ]
    }
   ],
   "source": [
    "!pip install openpyxl"
   ]
  },
  {
   "cell_type": "code",
   "execution_count": 5,
   "id": "202620d8-0809-426b-bada-22aa084538f1",
   "metadata": {
    "ExecuteTime": {
     "end_time": "2023-08-21T14:33:41.546954Z",
     "start_time": "2023-08-21T14:33:41.531320Z"
    },
    "id": "202620d8-0809-426b-bada-22aa084538f1",
    "slideshow": {
     "slide_type": "slide"
    }
   },
   "outputs": [],
   "source": [
    "#kita akan mengimport library pandas\n",
    "#kita akan memberikan nama lain yaitu pd yang artinya kita bisa memanggil pandas dengan pd\n",
    "import pandas as pd\n",
    "\n",
    "pd.options.display.max_colwidth = 1000\n",
    "pd.options.display.max_columns = 1000\n",
    "pd.options.display.float_format = \"{:,.2f}\".format"
   ]
  },
  {
   "cell_type": "markdown",
   "id": "9698f2fa-3a90-4b1d-8516-6668a76c682f",
   "metadata": {
    "id": "9698f2fa-3a90-4b1d-8516-6668a76c682f",
    "slideshow": {
     "slide_type": "slide"
    }
   },
   "source": [
    "##  Series dan DataFrame"
   ]
  },
  {
   "cell_type": "markdown",
   "id": "40fd8600-1ce4-4963-911c-bfdf0c5c01df",
   "metadata": {
    "id": "40fd8600-1ce4-4963-911c-bfdf0c5c01df",
    "slideshow": {
     "slide_type": "-"
    }
   },
   "source": [
    "sebelum kita berekplorasi lebih jauh dengan pandas kita perlu mengenal tipe struktur data pada pandas. pada pandas ada 2 struktur data yaitu\n",
    "- **series**\n",
    "- **dataframe**"
   ]
  },
  {
   "cell_type": "markdown",
   "id": "4b121072-9e99-4edb-bcbd-1b2686b68953",
   "metadata": {
    "id": "4b121072-9e99-4edb-bcbd-1b2686b68953",
    "slideshow": {
     "slide_type": "slide"
    }
   },
   "source": [
    "### Series"
   ]
  },
  {
   "cell_type": "markdown",
   "id": "2a9f2a61-5064-4ad0-99d1-dfa427b00c5a",
   "metadata": {
    "id": "2a9f2a61-5064-4ad0-99d1-dfa427b00c5a"
   },
   "source": [
    "<img src=\"data:image/png;base64,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\">"
   ]
  },
  {
   "cell_type": "code",
   "execution_count": 6,
   "id": "8021f4eb-8d91-47bd-a79a-290ad1279663",
   "metadata": {
    "ExecuteTime": {
     "end_time": "2023-08-21T14:33:51.644900Z",
     "start_time": "2023-08-21T14:33:51.629233Z"
    },
    "id": "8021f4eb-8d91-47bd-a79a-290ad1279663",
    "slideshow": {
     "slide_type": "slide"
    }
   },
   "outputs": [
    {
     "data": {
      "text/plain": [
       "['Budi', 'Zainudin', 'Leonardo', 'Gwenn', 'Peter', 'Peter']"
      ]
     },
     "execution_count": 6,
     "metadata": {},
     "output_type": "execute_result"
    }
   ],
   "source": [
    "list_nama = ['Budi','Zainudin','Leonardo','Gwenn','Peter','Peter']\n",
    "list_nama"
   ]
  },
  {
   "cell_type": "code",
   "execution_count": 7,
   "id": "46bdae52-69f1-48e0-822d-864f5cbc0523",
   "metadata": {
    "ExecuteTime": {
     "end_time": "2023-08-21T14:33:52.351334Z",
     "start_time": "2023-08-21T14:33:52.272308Z"
    },
    "colab": {
     "base_uri": "https://localhost:8080/"
    },
    "executionInfo": {
     "elapsed": 4,
     "status": "ok",
     "timestamp": 1648708311502,
     "user": {
      "displayName": "Pratama Suprayogi",
      "userId": "14884808246882934220"
     },
     "user_tz": -420
    },
    "id": "46bdae52-69f1-48e0-822d-864f5cbc0523",
    "outputId": "8f6a2226-b1a9-403e-bff7-d949cfb7450a"
   },
   "outputs": [
    {
     "name": "stdout",
     "output_type": "stream",
     "text": [
      "0        Budi\n",
      "1    Zainudin\n",
      "2    Leonardo\n",
      "3       Gwenn\n",
      "4       Peter\n",
      "5       Peter\n",
      "Name: nama_mahasiswa, dtype: object\n"
     ]
    }
   ],
   "source": [
    "series_nama = pd.Series(list_nama, name='nama_mahasiswa')\n",
    "print(series_nama)"
   ]
  },
  {
   "cell_type": "markdown",
   "id": "71b5466a-1498-4001-8679-0f8cff3398b5",
   "metadata": {
    "slideshow": {
     "slide_type": "slide"
    }
   },
   "source": [
    "* Budi, Zainudin, dll adalah value dari series_nama\n",
    "* Angka 0, 1, 2, 3, 4 di sebelah kiri adalah index dari series_nama\n",
    "* untuk dapat melihat nama pada series kita dapat memanggil atribut .name\n",
    "* untuk dapat melihat index pada series kita dapat memanggil atribut .index"
   ]
  },
  {
   "cell_type": "markdown",
   "id": "a36d44bc",
   "metadata": {
    "ExecuteTime": {
     "end_time": "2022-09-24T14:50:27.791850Z",
     "start_time": "2022-09-24T14:50:27.783975Z"
    },
    "slideshow": {
     "slide_type": "slide"
    }
   },
   "source": [
    "#### name"
   ]
  },
  {
   "cell_type": "code",
   "execution_count": 8,
   "id": "6f4ab956",
   "metadata": {
    "ExecuteTime": {
     "end_time": "2023-08-21T14:34:00.516611Z",
     "start_time": "2023-08-21T14:34:00.504053Z"
    }
   },
   "outputs": [
    {
     "data": {
      "text/plain": [
       "'nama_mahasiswa'"
      ]
     },
     "execution_count": 8,
     "metadata": {},
     "output_type": "execute_result"
    }
   ],
   "source": [
    "series_nama.name"
   ]
  },
  {
   "cell_type": "markdown",
   "id": "58e4bd58-55ca-46fa-af1c-7ae5876b1268",
   "metadata": {
    "slideshow": {
     "slide_type": "slide"
    }
   },
   "source": [
    "#### index"
   ]
  },
  {
   "cell_type": "code",
   "execution_count": 9,
   "id": "3dfca287-b4f7-4455-89c6-11f5ef4d8776",
   "metadata": {
    "ExecuteTime": {
     "end_time": "2023-08-21T14:34:07.384457Z",
     "start_time": "2023-08-21T14:34:07.352785Z"
    }
   },
   "outputs": [
    {
     "data": {
      "text/plain": [
       "RangeIndex(start=0, stop=6, step=1)"
      ]
     },
     "execution_count": 9,
     "metadata": {},
     "output_type": "execute_result"
    }
   ],
   "source": [
    "series_nama.index"
   ]
  },
  {
   "cell_type": "markdown",
   "id": "49823156-b85c-482a-9fc5-2d32d2fec6a4",
   "metadata": {
    "slideshow": {
     "slide_type": "slide"
    }
   },
   "source": [
    "* kita juga dapat menentukan atau mengubah index sesuai yang kita inginkan\n",
    "* perhatikan bahwa panjang data index harus sama dengan data seriesnya"
   ]
  },
  {
   "cell_type": "code",
   "execution_count": 10,
   "id": "bbbe6bec-516e-4c80-85a5-87100388f6b5",
   "metadata": {
    "ExecuteTime": {
     "end_time": "2023-08-21T10:50:07.302898Z",
     "start_time": "2023-08-21T10:50:07.289399Z"
    }
   },
   "outputs": [
    {
     "data": {
      "text/plain": [
       "a        Budi\n",
       "b    Zainudin\n",
       "c    Leonardo\n",
       "d       Gwenn\n",
       "e       Peter\n",
       "f       Peter\n",
       "dtype: object"
      ]
     },
     "execution_count": 10,
     "metadata": {},
     "output_type": "execute_result"
    }
   ],
   "source": [
    "nama_index = ['a', 'b', 'c', 'd', 'e','f']\n",
    "series_nama = pd.Series(data=list_nama, index=nama_index)\n",
    "series_nama"
   ]
  },
  {
   "cell_type": "code",
   "execution_count": 11,
   "id": "c9ac1182-7059-410d-9ef5-08448a0cddaa",
   "metadata": {
    "ExecuteTime": {
     "end_time": "2023-08-21T10:50:07.316765Z",
     "start_time": "2023-08-21T10:50:07.306651Z"
    },
    "slideshow": {
     "slide_type": "slide"
    }
   },
   "outputs": [
    {
     "data": {
      "text/plain": [
       "a1        Budi\n",
       "a2    Zainudin\n",
       "a3    Leonardo\n",
       "a4       Gwenn\n",
       "a5       Peter\n",
       "a6       Peter\n",
       "dtype: object"
      ]
     },
     "execution_count": 11,
     "metadata": {},
     "output_type": "execute_result"
    }
   ],
   "source": [
    "#misal kita sudah membuat sebuat series namun kita ingin mengubah index yang ada\n",
    "index_baru = ['a1','a2','a3','a4','a5','a6']\n",
    "series_nama.index = index_baru\n",
    "series_nama"
   ]
  },
  {
   "cell_type": "markdown",
   "id": "ca093f1b-870f-4048-bf7b-bc63cc0633ee",
   "metadata": {
    "slideshow": {
     "slide_type": "slide"
    }
   },
   "source": [
    "#### Value"
   ]
  },
  {
   "cell_type": "code",
   "execution_count": null,
   "id": "4d52cb97-cc4f-46bd-91d5-8c1903eccf85",
   "metadata": {
    "ExecuteTime": {
     "end_time": "2023-08-21T10:50:07.330700Z",
     "start_time": "2023-08-21T10:50:07.317137Z"
    }
   },
   "outputs": [],
   "source": [
    "#kita bisa memanggil seluruh values dari series_nama dengan atribut .values\n",
    "series_nama.values"
   ]
  },
  {
   "cell_type": "markdown",
   "id": "31371037-6124-4792-82fc-688263995cff",
   "metadata": {
    "slideshow": {
     "slide_type": "slide"
    }
   },
   "source": [
    "#### Method dan Atribut lainnya"
   ]
  },
  {
   "cell_type": "code",
   "execution_count": null,
   "id": "7201989f-7fdf-4bb3-9484-f33fc5fc1ab5",
   "metadata": {
    "ExecuteTime": {
     "end_time": "2023-08-21T10:50:07.344587Z",
     "start_time": "2023-08-21T10:50:07.333373Z"
    }
   },
   "outputs": [],
   "source": [
    "#beberapa atribut pada pandas Series\n",
    "# 1. melihat values dari series\n",
    "print(series_nama.values)\n",
    "# 2. melihat index dari series\n",
    "print(series_nama.index)\n",
    "# 3. melihat tipe data dari series\n",
    "print(series_nama.dtypes)\n",
    "# 4. melihat ukuran dari series\n",
    "print(series_nama.size)"
   ]
  },
  {
   "cell_type": "code",
   "execution_count": null,
   "id": "4f837747",
   "metadata": {
    "ExecuteTime": {
     "end_time": "2023-08-21T10:50:07.358351Z",
     "start_time": "2023-08-21T10:50:07.345403Z"
    },
    "slideshow": {
     "slide_type": "slide"
    }
   },
   "outputs": [],
   "source": [
    "#jika data kategorikal maka dia akan menunjukan data sebagai berikut\n",
    "series_nama.describe()"
   ]
  },
  {
   "cell_type": "code",
   "execution_count": null,
   "id": "4f55025b",
   "metadata": {
    "ExecuteTime": {
     "end_time": "2023-08-21T10:50:07.372281Z",
     "start_time": "2023-08-21T10:50:07.359609Z"
    },
    "slideshow": {
     "slide_type": "slide"
    }
   },
   "outputs": [],
   "source": [
    "# Nilai unik dari series_nama\n",
    "print(f\"Nilai unik = {series_nama.unique()}\")\n",
    "\n",
    "# Banyak nilai unik dari series_nama\n",
    "print(f\"Nilai unik = \\n{series_nama.value_counts()}\")"
   ]
  },
  {
   "cell_type": "code",
   "execution_count": 15,
   "id": "1730f087-8aa3-46e5-8c9c-420c67976254",
   "metadata": {
    "ExecuteTime": {
     "end_time": "2023-08-21T14:56:30.424244Z",
     "start_time": "2023-08-21T14:56:30.392415Z"
    },
    "slideshow": {
     "slide_type": "slide"
    }
   },
   "outputs": [
    {
     "name": "stdout",
     "output_type": "stream",
     "text": [
      "0    37\n",
      "1    36\n",
      "2    63\n",
      "3    15\n",
      "4     0\n",
      "5    87\n",
      "dtype: int32\n"
     ]
    }
   ],
   "source": [
    "# kita akan membuat contoh lain untuk data numerical\n",
    "# numpy (numerical Python) library used for working with arrays, linear algebra, matrices, etc\n",
    "\n",
    "#alternatif\n",
    "#import random\n",
    "#angka = random.choices(range(0,100),k=6)\n",
    "\n",
    "import numpy as np\n",
    "angka = np.random.randint(100, size=6) \n",
    "series_angka = pd.Series(angka)\n",
    "print(series_angka)"
   ]
  },
  {
   "cell_type": "code",
   "execution_count": null,
   "id": "97dac36a-4b4f-4578-82fd-950ad0a7cc5c",
   "metadata": {
    "ExecuteTime": {
     "end_time": "2023-08-21T14:56:31.039334Z",
     "start_time": "2023-08-21T14:56:30.960476Z"
    },
    "slideshow": {
     "slide_type": "slide"
    }
   },
   "outputs": [],
   "source": [
    "#jika data numerikal maka dia akan menunjukan data sebagai berikut\n",
    "series_angka.describe()"
   ]
  },
  {
   "cell_type": "code",
   "execution_count": null,
   "id": "2d6b20df-1e31-4081-ae40-8e2999614204",
   "metadata": {
    "ExecuteTime": {
     "end_time": "2023-08-21T14:56:32.275428Z",
     "start_time": "2023-08-21T14:56:32.259247Z"
    },
    "slideshow": {
     "slide_type": "slide"
    }
   },
   "outputs": [],
   "source": [
    "#selain itu kita bisa menggunkan beberapa method lain \n",
    "print(f'Nilai Total : {series_angka.sum()}')\n",
    "print (f'Angka tertinggi : {series_angka.max()}')\n",
    "print (f'Angka terendah : {series_angka.min()}')\n",
    "print (f'Mean : {series_angka.mean()}')\n",
    "print (f'Median : {series_angka.median()}')\n",
    "print (f'Standar Deviasi : {series_angka.std()}')"
   ]
  },
  {
   "cell_type": "markdown",
   "id": "122417d1-0712-4e4e-8517-67af3a8dc4dc",
   "metadata": {
    "slideshow": {
     "slide_type": "slide"
    }
   },
   "source": [
    "#### Operasi Dasar"
   ]
  },
  {
   "cell_type": "code",
   "execution_count": null,
   "id": "3db2fbcb-3117-44d9-84ba-1c1b6fa40e99",
   "metadata": {
    "ExecuteTime": {
     "end_time": "2023-08-21T10:50:07.441569Z",
     "start_time": "2023-08-21T10:50:07.428026Z"
    }
   },
   "outputs": [],
   "source": [
    "#kita akan gunakan series yang sudah ada yaitu series_nama\n",
    "series_nama"
   ]
  },
  {
   "cell_type": "code",
   "execution_count": null,
   "id": "65541b34-7fb2-4ab5-a56b-38a902b7d925",
   "metadata": {
    "ExecuteTime": {
     "end_time": "2023-08-21T10:50:07.455453Z",
     "start_time": "2023-08-21T10:50:07.441858Z"
    },
    "slideshow": {
     "slide_type": "slide"
    }
   },
   "outputs": [],
   "source": [
    "#ketika kita ingin memanggil suatu values kita dapat gunakan indexnya\n",
    "series_nama['a1']"
   ]
  },
  {
   "cell_type": "code",
   "execution_count": null,
   "id": "5da0a8c2-ba20-4008-9ab3-a246bc1441e5",
   "metadata": {
    "ExecuteTime": {
     "end_time": "2023-08-21T10:50:07.469330Z",
     "start_time": "2023-08-21T10:50:07.455774Z"
    },
    "slideshow": {
     "slide_type": "slide"
    }
   },
   "outputs": [],
   "source": [
    "#jika kita ingin menambahkan data pada series maka kita dapat lakukan\n",
    "series_nama['a7'] = 'Suci'\n",
    "series_nama"
   ]
  },
  {
   "cell_type": "code",
   "execution_count": null,
   "id": "c442de4b-577e-42e0-974a-478e3948340d",
   "metadata": {
    "ExecuteTime": {
     "end_time": "2023-08-21T10:50:07.483131Z",
     "start_time": "2023-08-21T10:50:07.469691Z"
    },
    "slideshow": {
     "slide_type": "slide"
    }
   },
   "outputs": [],
   "source": [
    "#untuk merubah value dari suatu index kita dapat lakukan\n",
    "series_nama['a5'] = 'Susanto'\n",
    "series_nama"
   ]
  },
  {
   "cell_type": "code",
   "execution_count": null,
   "id": "6999fc3d-772b-4d6b-a0cf-de89b10f57d3",
   "metadata": {
    "ExecuteTime": {
     "end_time": "2023-08-21T10:50:07.497113Z",
     "start_time": "2023-08-21T10:50:07.483650Z"
    },
    "slideshow": {
     "slide_type": "slide"
    }
   },
   "outputs": [],
   "source": [
    "#untuk menghapus salah satu value maka kita dapat lakukan\n",
    "del series_nama['a3']\n",
    "series_nama"
   ]
  },
  {
   "cell_type": "markdown",
   "id": "541f24c4",
   "metadata": {
    "slideshow": {
     "slide_type": "slide"
    }
   },
   "source": [
    "#### Latihan 1"
   ]
  },
  {
   "cell_type": "markdown",
   "id": "1083cb2f-549f-4597-9d7d-458a6d1bbcb1",
   "metadata": {
    "slideshow": {
     "slide_type": "slide"
    }
   },
   "source": [
    "1. Buat sebuah series dengan nama Populasi yang berisi data berikut\n",
    "\n",
    "| index | Values |\n",
    "| :-: | :-- |\n",
    "|Jakarta| 10.6|\n",
    "|Bandung|1.4|\n",
    "|Medan|2.1|\n",
    "\n",
    "2. tambahkan data Surabaya dengan populasi 2.8\n",
    "3. ternyata data Bandung salah seharusnya 2.4\n",
    "4. cari rata2 penduduk pada wilayah di series"
   ]
  },
  {
   "cell_type": "code",
   "execution_count": null,
   "id": "c417918d-5cda-410b-861b-eb2547d240f7",
   "metadata": {
    "ExecuteTime": {
     "end_time": "2023-08-21T15:08:08.146559Z",
     "start_time": "2023-08-21T15:08:08.130895Z"
    },
    "slideshow": {
     "slide_type": "slide"
    }
   },
   "outputs": [],
   "source": [
    "# membuat series\n"
   ]
  },
  {
   "cell_type": "code",
   "execution_count": null,
   "id": "69a1d4b7",
   "metadata": {
    "ExecuteTime": {
     "end_time": "2023-08-21T15:08:08.397653Z",
     "start_time": "2023-08-21T15:08:08.372624Z"
    },
    "slideshow": {
     "slide_type": "slide"
    }
   },
   "outputs": [],
   "source": [
    "# update data series, menambah baris dan hitung rata2\n"
   ]
  },
  {
   "cell_type": "markdown",
   "id": "f99158bd-6662-4d91-95f8-dc78e36487f6",
   "metadata": {
    "id": "f99158bd-6662-4d91-95f8-dc78e36487f6",
    "slideshow": {
     "slide_type": "slide"
    }
   },
   "source": [
    "### Dataframe"
   ]
  },
  {
   "cell_type": "markdown",
   "id": "e2a40283-fe57-4abf-8816-43fa11020f9c",
   "metadata": {},
   "source": [
    "* DataFrame dari Pandas adalah struktur data 2-dimensi yang berbentuk tabular (memiliki baris dan kolom)\n",
    "* DataFrame adalah kumpulan Series\n",
    "* Axis 0 == Index, Axis 1 == Column"
   ]
  },
  {
   "cell_type": "markdown",
   "id": "832fd225-54ad-4fef-ab59-755d212570ca",
   "metadata": {
    "id": "832fd225-54ad-4fef-ab59-755d212570ca",
    "slideshow": {
     "slide_type": "slide"
    }
   },
   "source": [
    "<img src=\"https://petruknisme.com/wp-content/uploads/2019/04/series-and-dataframe.width-1200.png\">"
   ]
  },
  {
   "cell_type": "code",
   "execution_count": 16,
   "id": "b87f1ec4-5267-4825-9d30-be9e0b56ed85",
   "metadata": {
    "ExecuteTime": {
     "end_time": "2023-08-21T15:09:38.259475Z",
     "start_time": "2023-08-21T15:09:38.243361Z"
    },
    "id": "b87f1ec4-5267-4825-9d30-be9e0b56ed85",
    "slideshow": {
     "slide_type": "slide"
    }
   },
   "outputs": [],
   "source": [
    "data = {\n",
    "    'COUNTRY':['China','India','US','Indonesia','Brazil'],\n",
    "    'GDP':[12_234.78,2_575.67,19_485.39,1_015.54,2_055.51],\n",
    "    'POP':[1_398.72,1_351.16,329.74,268.07,210.32]\n",
    "}"
   ]
  },
  {
   "cell_type": "code",
   "execution_count": 17,
   "id": "06439b9a-d734-448f-838a-6ae0961d8675",
   "metadata": {
    "ExecuteTime": {
     "end_time": "2023-08-21T15:09:57.476378Z",
     "start_time": "2023-08-21T15:09:57.444559Z"
    },
    "colab": {
     "base_uri": "https://localhost:8080/",
     "height": 238
    },
    "executionInfo": {
     "elapsed": 532,
     "status": "ok",
     "timestamp": 1648708323317,
     "user": {
      "displayName": "Pratama Suprayogi",
      "userId": "14884808246882934220"
     },
     "user_tz": -420
    },
    "id": "06439b9a-d734-448f-838a-6ae0961d8675",
    "outputId": "3c17f9b5-8910-4e32-b993-915617e34903",
    "slideshow": {
     "slide_type": "slide"
    }
   },
   "outputs": [
    {
     "data": {
      "text/html": [
       "<div>\n",
       "<style scoped>\n",
       "    .dataframe tbody tr th:only-of-type {\n",
       "        vertical-align: middle;\n",
       "    }\n",
       "\n",
       "    .dataframe tbody tr th {\n",
       "        vertical-align: top;\n",
       "    }\n",
       "\n",
       "    .dataframe thead th {\n",
       "        text-align: right;\n",
       "    }\n",
       "</style>\n",
       "<table border=\"1\" class=\"dataframe\">\n",
       "  <thead>\n",
       "    <tr style=\"text-align: right;\">\n",
       "      <th></th>\n",
       "      <th>COUNTRY</th>\n",
       "      <th>GDP</th>\n",
       "      <th>POP</th>\n",
       "    </tr>\n",
       "  </thead>\n",
       "  <tbody>\n",
       "    <tr>\n",
       "      <th>0</th>\n",
       "      <td>China</td>\n",
       "      <td>12,234.78</td>\n",
       "      <td>1,398.72</td>\n",
       "    </tr>\n",
       "    <tr>\n",
       "      <th>1</th>\n",
       "      <td>India</td>\n",
       "      <td>2,575.67</td>\n",
       "      <td>1,351.16</td>\n",
       "    </tr>\n",
       "    <tr>\n",
       "      <th>2</th>\n",
       "      <td>US</td>\n",
       "      <td>19,485.39</td>\n",
       "      <td>329.74</td>\n",
       "    </tr>\n",
       "    <tr>\n",
       "      <th>3</th>\n",
       "      <td>Indonesia</td>\n",
       "      <td>1,015.54</td>\n",
       "      <td>268.07</td>\n",
       "    </tr>\n",
       "    <tr>\n",
       "      <th>4</th>\n",
       "      <td>Brazil</td>\n",
       "      <td>2,055.51</td>\n",
       "      <td>210.32</td>\n",
       "    </tr>\n",
       "  </tbody>\n",
       "</table>\n",
       "</div>"
      ],
      "text/plain": [
       "     COUNTRY       GDP      POP\n",
       "0      China 12,234.78 1,398.72\n",
       "1      India  2,575.67 1,351.16\n",
       "2         US 19,485.39   329.74\n",
       "3  Indonesia  1,015.54   268.07\n",
       "4     Brazil  2,055.51   210.32"
      ]
     },
     "execution_count": 17,
     "metadata": {},
     "output_type": "execute_result"
    }
   ],
   "source": [
    "df = pd.DataFrame(data)\n",
    "df"
   ]
  },
  {
   "cell_type": "markdown",
   "id": "1047aa71-4ae0-43d2-b220-30bffa8642a8",
   "metadata": {
    "id": "1047aa71-4ae0-43d2-b220-30bffa8642a8",
    "slideshow": {
     "slide_type": "slide"
    }
   },
   "source": [
    "##  Read Data"
   ]
  },
  {
   "cell_type": "code",
   "execution_count": 32,
   "id": "41961d0e",
   "metadata": {
    "ExecuteTime": {
     "end_time": "2023-08-21T15:11:22.080162Z",
     "start_time": "2023-08-21T15:11:22.048437Z"
    },
    "slideshow": {
     "slide_type": "slide"
    }
   },
   "outputs": [],
   "source": [
    "# flight csv\n",
    "link_airtravel = \"https://raw.githubusercontent.com/mofdac/-materi-das/main/01.%20Python%20for%20DA/airtravel.csv\"\n",
    "\n",
    "# semicolon separated value\n",
    "link_airtravel2 = \"https://raw.githubusercontent.com/mofdac/-materi-das/main/01.%20Python%20for%20DA/airtravel_2.csv\"\n",
    "\n",
    "# excel\n",
    "link_airtravel3 = \"https://raw.githubusercontent.com/mofdac/-materi-das/main/01.%20Python%20for%20DA/airtravel_3.xlsx\"\n",
    "\n",
    "# US population csv\n",
    "link_population = \"https://raw.githubusercontent.com/mofdac/-materi-das/main/01.%20Python%20for%20DA/america_population.csv\"\n",
    "\n",
    "# fruit json\n",
    "link_json = \"https://raw.githubusercontent.com/mofdac/-materi-das/main/01.%20Python%20for%20DA/example_1.json\"\n",
    "\n",
    "# exchange rate json\n",
    "link_json2 = \"https://www.floatrates.com/daily/usd.json\"\n",
    "\n",
    "# titanic csv\n",
    "link_titanic = \"https://raw.githubusercontent.com/mofdac/-materi-das/main/01.%20Python%20for%20DA/titanic.csv\""
   ]
  },
  {
   "cell_type": "markdown",
   "id": "31cbbbb5-0084-412b-9810-c670c181ed79",
   "metadata": {
    "id": "31cbbbb5-0084-412b-9810-c670c181ed79",
    "slideshow": {
     "slide_type": "slide"
    }
   },
   "source": [
    "### CSV"
   ]
  },
  {
   "cell_type": "markdown",
   "id": "56e80a30-b5d5-4f2a-bc4a-5e7f1dda9c76",
   "metadata": {
    "id": "56e80a30-b5d5-4f2a-bc4a-5e7f1dda9c76"
   },
   "source": [
    "> Untuk membaca file csv gunakan perintah **pd.read_csv(\"lokasi file\")**"
   ]
  },
  {
   "cell_type": "code",
   "execution_count": 19,
   "id": "3bb2c2ca-b455-4723-a2b4-be3d05d1fbbc",
   "metadata": {
    "ExecuteTime": {
     "end_time": "2023-08-21T15:12:36.798109Z",
     "start_time": "2023-08-21T15:12:36.766942Z"
    },
    "id": "3bb2c2ca-b455-4723-a2b4-be3d05d1fbbc",
    "slideshow": {
     "slide_type": "slide"
    }
   },
   "outputs": [],
   "source": [
    "# df_airtravel = pd.read_csv(\"data/airtravel.csv\")\n",
    "df_airtravel = pd.read_csv(link_airtravel)"
   ]
  },
  {
   "cell_type": "code",
   "execution_count": 20,
   "id": "dd643d56-c194-4be2-a1cb-040d685fdd2b",
   "metadata": {
    "ExecuteTime": {
     "end_time": "2023-08-21T15:12:37.145132Z",
     "start_time": "2023-08-21T15:12:37.121971Z"
    },
    "id": "dd643d56-c194-4be2-a1cb-040d685fdd2b",
    "outputId": "c1b37840-b03d-499a-e025-b7ee999eef0c"
   },
   "outputs": [
    {
     "data": {
      "text/html": [
       "<div>\n",
       "<style scoped>\n",
       "    .dataframe tbody tr th:only-of-type {\n",
       "        vertical-align: middle;\n",
       "    }\n",
       "\n",
       "    .dataframe tbody tr th {\n",
       "        vertical-align: top;\n",
       "    }\n",
       "\n",
       "    .dataframe thead th {\n",
       "        text-align: right;\n",
       "    }\n",
       "</style>\n",
       "<table border=\"1\" class=\"dataframe\">\n",
       "  <thead>\n",
       "    <tr style=\"text-align: right;\">\n",
       "      <th></th>\n",
       "      <th>Month</th>\n",
       "      <th>1958</th>\n",
       "      <th>1959</th>\n",
       "      <th>1960</th>\n",
       "    </tr>\n",
       "  </thead>\n",
       "  <tbody>\n",
       "    <tr>\n",
       "      <th>0</th>\n",
       "      <td>JAN</td>\n",
       "      <td>340</td>\n",
       "      <td>360</td>\n",
       "      <td>417</td>\n",
       "    </tr>\n",
       "    <tr>\n",
       "      <th>1</th>\n",
       "      <td>FEB</td>\n",
       "      <td>318</td>\n",
       "      <td>342</td>\n",
       "      <td>391</td>\n",
       "    </tr>\n",
       "    <tr>\n",
       "      <th>2</th>\n",
       "      <td>MAR</td>\n",
       "      <td>362</td>\n",
       "      <td>406</td>\n",
       "      <td>419</td>\n",
       "    </tr>\n",
       "    <tr>\n",
       "      <th>3</th>\n",
       "      <td>APR</td>\n",
       "      <td>348</td>\n",
       "      <td>396</td>\n",
       "      <td>461</td>\n",
       "    </tr>\n",
       "    <tr>\n",
       "      <th>4</th>\n",
       "      <td>MAY</td>\n",
       "      <td>363</td>\n",
       "      <td>420</td>\n",
       "      <td>472</td>\n",
       "    </tr>\n",
       "  </tbody>\n",
       "</table>\n",
       "</div>"
      ],
      "text/plain": [
       "  Month   1958  1959  1960\n",
       "0   JAN    340   360   417\n",
       "1   FEB    318   342   391\n",
       "2   MAR    362   406   419\n",
       "3   APR    348   396   461\n",
       "4   MAY    363   420   472"
      ]
     },
     "execution_count": 20,
     "metadata": {},
     "output_type": "execute_result"
    }
   ],
   "source": [
    "df_airtravel.head()"
   ]
  },
  {
   "cell_type": "markdown",
   "id": "4a13a318",
   "metadata": {},
   "source": []
  },
  {
   "cell_type": "markdown",
   "id": "710ee1fb-b055-4405-a5bf-10f481b1e2ad",
   "metadata": {
    "id": "710ee1fb-b055-4405-a5bf-10f481b1e2ad",
    "slideshow": {
     "slide_type": "slide"
    }
   },
   "source": [
    "#### Import dengan memilih kolom tertentu"
   ]
  },
  {
   "cell_type": "code",
   "execution_count": 21,
   "id": "97e87687-59d4-4d31-a0b5-1c8620bb67c2",
   "metadata": {
    "ExecuteTime": {
     "end_time": "2023-08-21T15:12:47.284822Z",
     "start_time": "2023-08-21T15:12:47.220495Z"
    },
    "colab": {
     "base_uri": "https://localhost:8080/",
     "height": 426
    },
    "executionInfo": {
     "elapsed": 462,
     "status": "ok",
     "timestamp": 1648708830650,
     "user": {
      "displayName": "Pratama Suprayogi",
      "userId": "14884808246882934220"
     },
     "user_tz": -420
    },
    "id": "97e87687-59d4-4d31-a0b5-1c8620bb67c2",
    "outputId": "ce8c7fe6-9dc4-4948-dcfb-93f73e3649c6"
   },
   "outputs": [
    {
     "data": {
      "text/html": [
       "<div>\n",
       "<style scoped>\n",
       "    .dataframe tbody tr th:only-of-type {\n",
       "        vertical-align: middle;\n",
       "    }\n",
       "\n",
       "    .dataframe tbody tr th {\n",
       "        vertical-align: top;\n",
       "    }\n",
       "\n",
       "    .dataframe thead th {\n",
       "        text-align: right;\n",
       "    }\n",
       "</style>\n",
       "<table border=\"1\" class=\"dataframe\">\n",
       "  <thead>\n",
       "    <tr style=\"text-align: right;\">\n",
       "      <th></th>\n",
       "      <th>Month</th>\n",
       "      <th>1960</th>\n",
       "    </tr>\n",
       "  </thead>\n",
       "  <tbody>\n",
       "    <tr>\n",
       "      <th>0</th>\n",
       "      <td>JAN</td>\n",
       "      <td>417</td>\n",
       "    </tr>\n",
       "    <tr>\n",
       "      <th>1</th>\n",
       "      <td>FEB</td>\n",
       "      <td>391</td>\n",
       "    </tr>\n",
       "    <tr>\n",
       "      <th>2</th>\n",
       "      <td>MAR</td>\n",
       "      <td>419</td>\n",
       "    </tr>\n",
       "    <tr>\n",
       "      <th>3</th>\n",
       "      <td>APR</td>\n",
       "      <td>461</td>\n",
       "    </tr>\n",
       "    <tr>\n",
       "      <th>4</th>\n",
       "      <td>MAY</td>\n",
       "      <td>472</td>\n",
       "    </tr>\n",
       "  </tbody>\n",
       "</table>\n",
       "</div>"
      ],
      "text/plain": [
       "  Month  1960\n",
       "0   JAN   417\n",
       "1   FEB   391\n",
       "2   MAR   419\n",
       "3   APR   461\n",
       "4   MAY   472"
      ]
     },
     "execution_count": 21,
     "metadata": {},
     "output_type": "execute_result"
    }
   ],
   "source": [
    "# certain columns\n",
    "# df_airtravel_ = pd.read_csv(link_airtravel, usecols = [\"Month\",\"1960\"])\n",
    "df_airtravel_ = df_airtravel[[\"Month\",\"1960\"]]\n",
    "df_airtravel_.head()"
   ]
  },
  {
   "cell_type": "markdown",
   "id": "fd446fee",
   "metadata": {
    "slideshow": {
     "slide_type": "slide"
    }
   },
   "source": [
    "#### import dengan separator"
   ]
  },
  {
   "cell_type": "code",
   "execution_count": 22,
   "id": "514ae73b-1e9d-46de-b624-febf4e454474",
   "metadata": {
    "ExecuteTime": {
     "end_time": "2023-08-21T10:50:07.622093Z",
     "start_time": "2023-08-21T10:50:07.609697Z"
    },
    "colab": {
     "base_uri": "https://localhost:8080/",
     "height": 426
    },
    "executionInfo": {
     "elapsed": 419,
     "status": "ok",
     "timestamp": 1648708864807,
     "user": {
      "displayName": "Pratama Suprayogi",
      "userId": "14884808246882934220"
     },
     "user_tz": -420
    },
    "id": "514ae73b-1e9d-46de-b624-febf4e454474",
    "outputId": "62a50634-bab0-4541-8637-d5775064e386"
   },
   "outputs": [
    {
     "data": {
      "text/html": [
       "<div>\n",
       "<style scoped>\n",
       "    .dataframe tbody tr th:only-of-type {\n",
       "        vertical-align: middle;\n",
       "    }\n",
       "\n",
       "    .dataframe tbody tr th {\n",
       "        vertical-align: top;\n",
       "    }\n",
       "\n",
       "    .dataframe thead th {\n",
       "        text-align: right;\n",
       "    }\n",
       "</style>\n",
       "<table border=\"1\" class=\"dataframe\">\n",
       "  <thead>\n",
       "    <tr style=\"text-align: right;\">\n",
       "      <th></th>\n",
       "      <th>Month;1958;1959;1960</th>\n",
       "    </tr>\n",
       "  </thead>\n",
       "  <tbody>\n",
       "    <tr>\n",
       "      <th>0</th>\n",
       "      <td>JAN;340;360;417</td>\n",
       "    </tr>\n",
       "    <tr>\n",
       "      <th>1</th>\n",
       "      <td>FEB;318;342;391</td>\n",
       "    </tr>\n",
       "    <tr>\n",
       "      <th>2</th>\n",
       "      <td>MAR;362;406;419</td>\n",
       "    </tr>\n",
       "    <tr>\n",
       "      <th>3</th>\n",
       "      <td>APR;348;396;461</td>\n",
       "    </tr>\n",
       "    <tr>\n",
       "      <th>4</th>\n",
       "      <td>MAY;363;420;472</td>\n",
       "    </tr>\n",
       "  </tbody>\n",
       "</table>\n",
       "</div>"
      ],
      "text/plain": [
       "  Month;1958;1959;1960\n",
       "0      JAN;340;360;417\n",
       "1      FEB;318;342;391\n",
       "2      MAR;362;406;419\n",
       "3      APR;348;396;461\n",
       "4      MAY;363;420;472"
      ]
     },
     "execution_count": 22,
     "metadata": {},
     "output_type": "execute_result"
    }
   ],
   "source": [
    "# pada file airtravel_2.csv digunakan tanda pemisah ;\n",
    "# jika kita langsung membuakanya maka hasilnya akan seperti\n",
    "df_airtravel2 = pd.read_csv(link_airtravel2)\n",
    "df_airtravel2.head()"
   ]
  },
  {
   "cell_type": "code",
   "execution_count": 23,
   "id": "96727e97-bb46-4368-bd3e-644cece203ef",
   "metadata": {
    "ExecuteTime": {
     "end_time": "2023-08-21T10:50:07.635959Z",
     "start_time": "2023-08-21T10:50:07.624551Z"
    },
    "colab": {
     "base_uri": "https://localhost:8080/",
     "height": 426
    },
    "executionInfo": {
     "elapsed": 528,
     "status": "ok",
     "timestamp": 1648708879670,
     "user": {
      "displayName": "Pratama Suprayogi",
      "userId": "14884808246882934220"
     },
     "user_tz": -420
    },
    "id": "96727e97-bb46-4368-bd3e-644cece203ef",
    "outputId": "370d3ad4-2851-47c3-bd5b-f36310d65290",
    "slideshow": {
     "slide_type": "slide"
    }
   },
   "outputs": [
    {
     "data": {
      "text/html": [
       "<div>\n",
       "<style scoped>\n",
       "    .dataframe tbody tr th:only-of-type {\n",
       "        vertical-align: middle;\n",
       "    }\n",
       "\n",
       "    .dataframe tbody tr th {\n",
       "        vertical-align: top;\n",
       "    }\n",
       "\n",
       "    .dataframe thead th {\n",
       "        text-align: right;\n",
       "    }\n",
       "</style>\n",
       "<table border=\"1\" class=\"dataframe\">\n",
       "  <thead>\n",
       "    <tr style=\"text-align: right;\">\n",
       "      <th></th>\n",
       "      <th>Month</th>\n",
       "      <th>1958</th>\n",
       "      <th>1959</th>\n",
       "      <th>1960</th>\n",
       "    </tr>\n",
       "  </thead>\n",
       "  <tbody>\n",
       "    <tr>\n",
       "      <th>0</th>\n",
       "      <td>JAN</td>\n",
       "      <td>340</td>\n",
       "      <td>360</td>\n",
       "      <td>417</td>\n",
       "    </tr>\n",
       "    <tr>\n",
       "      <th>1</th>\n",
       "      <td>FEB</td>\n",
       "      <td>318</td>\n",
       "      <td>342</td>\n",
       "      <td>391</td>\n",
       "    </tr>\n",
       "    <tr>\n",
       "      <th>2</th>\n",
       "      <td>MAR</td>\n",
       "      <td>362</td>\n",
       "      <td>406</td>\n",
       "      <td>419</td>\n",
       "    </tr>\n",
       "    <tr>\n",
       "      <th>3</th>\n",
       "      <td>APR</td>\n",
       "      <td>348</td>\n",
       "      <td>396</td>\n",
       "      <td>461</td>\n",
       "    </tr>\n",
       "    <tr>\n",
       "      <th>4</th>\n",
       "      <td>MAY</td>\n",
       "      <td>363</td>\n",
       "      <td>420</td>\n",
       "      <td>472</td>\n",
       "    </tr>\n",
       "  </tbody>\n",
       "</table>\n",
       "</div>"
      ],
      "text/plain": [
       "  Month  1958  1959  1960\n",
       "0   JAN   340   360   417\n",
       "1   FEB   318   342   391\n",
       "2   MAR   362   406   419\n",
       "3   APR   348   396   461\n",
       "4   MAY   363   420   472"
      ]
     },
     "execution_count": 23,
     "metadata": {},
     "output_type": "execute_result"
    }
   ],
   "source": [
    "df_airtravel2 = pd.read_csv(link_airtravel2, sep=';')\n",
    "df_airtravel2.head()"
   ]
  },
  {
   "cell_type": "markdown",
   "id": "fd2b77de-81ce-4ab6-87bf-696b3e54e3d8",
   "metadata": {
    "id": "fd2b77de-81ce-4ab6-87bf-696b3e54e3d8",
    "slideshow": {
     "slide_type": "slide"
    }
   },
   "source": [
    "> list parameter lebih lanjut dapat dilihat di https://pandas.pydata.org/pandas-docs/stable/reference/api/pandas.read_csv.html#pandas.read_csv"
   ]
  },
  {
   "cell_type": "markdown",
   "id": "679f393c-75f4-4903-84ac-8288f56cdfa2",
   "metadata": {
    "id": "679f393c-75f4-4903-84ac-8288f56cdfa2",
    "slideshow": {
     "slide_type": "slide"
    }
   },
   "source": [
    "### Excel"
   ]
  },
  {
   "cell_type": "markdown",
   "id": "f87932a9-2a63-48d8-a277-21e124fdbf4f",
   "metadata": {},
   "source": [
    "> terkadang kita juga menemukan data yang berextensi .xls atau .xlsx maka kita bisa membukanya dengan **pd.read_excel**"
   ]
  },
  {
   "cell_type": "code",
   "execution_count": 36,
   "id": "784beecf-b86c-40cc-8cd8-fe7b2b908203",
   "metadata": {
    "ExecuteTime": {
     "end_time": "2023-08-21T10:50:07.860442Z",
     "start_time": "2023-08-21T10:50:07.636464Z"
    },
    "colab": {
     "base_uri": "https://localhost:8080/",
     "height": 206
    },
    "executionInfo": {
     "elapsed": 754,
     "status": "ok",
     "timestamp": 1648708885942,
     "user": {
      "displayName": "Pratama Suprayogi",
      "userId": "14884808246882934220"
     },
     "user_tz": -420
    },
    "id": "784beecf-b86c-40cc-8cd8-fe7b2b908203",
    "outputId": "cbef3dc0-8672-461d-fb4d-e74a2f1c7dae",
    "slideshow": {
     "slide_type": "slide"
    }
   },
   "outputs": [
    {
     "data": {
      "text/html": [
       "<div>\n",
       "<style scoped>\n",
       "    .dataframe tbody tr th:only-of-type {\n",
       "        vertical-align: middle;\n",
       "    }\n",
       "\n",
       "    .dataframe tbody tr th {\n",
       "        vertical-align: top;\n",
       "    }\n",
       "\n",
       "    .dataframe thead th {\n",
       "        text-align: right;\n",
       "    }\n",
       "</style>\n",
       "<table border=\"1\" class=\"dataframe\">\n",
       "  <thead>\n",
       "    <tr style=\"text-align: right;\">\n",
       "      <th></th>\n",
       "      <th>Month</th>\n",
       "      <th>1958</th>\n",
       "      <th>1959</th>\n",
       "      <th>1960</th>\n",
       "    </tr>\n",
       "  </thead>\n",
       "  <tbody>\n",
       "    <tr>\n",
       "      <th>0</th>\n",
       "      <td>JAN</td>\n",
       "      <td>340</td>\n",
       "      <td>360</td>\n",
       "      <td>417</td>\n",
       "    </tr>\n",
       "    <tr>\n",
       "      <th>1</th>\n",
       "      <td>FEB</td>\n",
       "      <td>318</td>\n",
       "      <td>342</td>\n",
       "      <td>391</td>\n",
       "    </tr>\n",
       "    <tr>\n",
       "      <th>2</th>\n",
       "      <td>MAR</td>\n",
       "      <td>362</td>\n",
       "      <td>406</td>\n",
       "      <td>419</td>\n",
       "    </tr>\n",
       "    <tr>\n",
       "      <th>3</th>\n",
       "      <td>APR</td>\n",
       "      <td>348</td>\n",
       "      <td>396</td>\n",
       "      <td>461</td>\n",
       "    </tr>\n",
       "    <tr>\n",
       "      <th>4</th>\n",
       "      <td>MAY</td>\n",
       "      <td>363</td>\n",
       "      <td>420</td>\n",
       "      <td>472</td>\n",
       "    </tr>\n",
       "  </tbody>\n",
       "</table>\n",
       "</div>"
      ],
      "text/plain": [
       "  Month  1958  1959  1960\n",
       "0   JAN   340   360   417\n",
       "1   FEB   318   342   391\n",
       "2   MAR   362   406   419\n",
       "3   APR   348   396   461\n",
       "4   MAY   363   420   472"
      ]
     },
     "execution_count": 36,
     "metadata": {},
     "output_type": "execute_result"
    }
   ],
   "source": [
    "df_airtravel_3 = pd.read_excel(link_airtravel3)\n",
    "df_airtravel_3.head()"
   ]
  },
  {
   "cell_type": "markdown",
   "id": "1918e15f-713f-4ef5-acca-dcd334795d4a",
   "metadata": {
    "slideshow": {
     "slide_type": "slide"
    }
   },
   "source": [
    "### JSON"
   ]
  },
  {
   "cell_type": "markdown",
   "id": "b7ddb151-16a0-463d-99ef-7e57a9d6990a",
   "metadata": {},
   "source": [
    "* JSON adalah singkatan dari JavaScript Object Notation.\n",
    "* JSON adalah turunan JavaScript yang digunakan dalam transfer dan penyimpanan data."
   ]
  },
  {
   "cell_type": "markdown",
   "id": "276badb0-0ea7-4e5a-b076-3dea4417e909",
   "metadata": {
    "slideshow": {
     "slide_type": "slide"
    }
   },
   "source": [
    "<img src=\"https://idcloudhost.com/wp-content/uploads/2021/03/Screenshot-2021-03-30-151455.jpg\" width=500>"
   ]
  },
  {
   "cell_type": "code",
   "execution_count": 34,
   "id": "64ad2566-1f16-418a-83be-8b98ce7589ae",
   "metadata": {
    "ExecuteTime": {
     "end_time": "2023-08-21T15:15:40.420753Z",
     "start_time": "2023-08-21T15:15:40.374212Z"
    },
    "slideshow": {
     "slide_type": "slide"
    }
   },
   "outputs": [
    {
     "data": {
      "text/html": [
       "<div>\n",
       "<style scoped>\n",
       "    .dataframe tbody tr th:only-of-type {\n",
       "        vertical-align: middle;\n",
       "    }\n",
       "\n",
       "    .dataframe tbody tr th {\n",
       "        vertical-align: top;\n",
       "    }\n",
       "\n",
       "    .dataframe thead th {\n",
       "        text-align: right;\n",
       "    }\n",
       "</style>\n",
       "<table border=\"1\" class=\"dataframe\">\n",
       "  <thead>\n",
       "    <tr style=\"text-align: right;\">\n",
       "      <th></th>\n",
       "      <th>eur</th>\n",
       "      <th>gbp</th>\n",
       "      <th>jpy</th>\n",
       "      <th>aud</th>\n",
       "      <th>chf</th>\n",
       "      <th>cad</th>\n",
       "      <th>nzd</th>\n",
       "      <th>try</th>\n",
       "      <th>ngn</th>\n",
       "      <th>rsd</th>\n",
       "      <th>nok</th>\n",
       "      <th>qar</th>\n",
       "      <th>czk</th>\n",
       "      <th>byn</th>\n",
       "      <th>ars</th>\n",
       "      <th>ves</th>\n",
       "      <th>bdt</th>\n",
       "      <th>ron</th>\n",
       "      <th>mdl</th>\n",
       "      <th>crc</th>\n",
       "      <th>aed</th>\n",
       "      <th>idr</th>\n",
       "      <th>mxn</th>\n",
       "      <th>amd</th>\n",
       "      <th>pyg</th>\n",
       "      <th>brl</th>\n",
       "      <th>inr</th>\n",
       "      <th>npr</th>\n",
       "      <th>xaf</th>\n",
       "      <th>kgs</th>\n",
       "      <th>dkk</th>\n",
       "      <th>lkr</th>\n",
       "      <th>tnd</th>\n",
       "      <th>vnd</th>\n",
       "      <th>tmt</th>\n",
       "      <th>pkr</th>\n",
       "      <th>bgn</th>\n",
       "      <th>rub</th>\n",
       "      <th>gel</th>\n",
       "      <th>sar</th>\n",
       "      <th>pln</th>\n",
       "      <th>kzt</th>\n",
       "      <th>cop</th>\n",
       "      <th>bhd</th>\n",
       "      <th>egp</th>\n",
       "      <th>krw</th>\n",
       "      <th>dzd</th>\n",
       "      <th>pab</th>\n",
       "      <th>hkd</th>\n",
       "      <th>mad</th>\n",
       "      <th>zar</th>\n",
       "      <th>iqd</th>\n",
       "      <th>bob</th>\n",
       "      <th>kwd</th>\n",
       "      <th>thb</th>\n",
       "      <th>twd</th>\n",
       "      <th>uzs</th>\n",
       "      <th>omr</th>\n",
       "      <th>ils</th>\n",
       "      <th>pen</th>\n",
       "      <th>tjs</th>\n",
       "      <th>sek</th>\n",
       "      <th>sgd</th>\n",
       "      <th>huf</th>\n",
       "      <th>uah</th>\n",
       "      <th>clp</th>\n",
       "      <th>dop</th>\n",
       "      <th>cny</th>\n",
       "      <th>isk</th>\n",
       "      <th>azn</th>\n",
       "      <th>htg</th>\n",
       "      <th>ang</th>\n",
       "      <th>lbp</th>\n",
       "      <th>myr</th>\n",
       "      <th>irr</th>\n",
       "      <th>uyu</th>\n",
       "      <th>jod</th>\n",
       "      <th>php</th>\n",
       "      <th>xof</th>\n",
       "      <th>lyd</th>\n",
       "    </tr>\n",
       "  </thead>\n",
       "  <tbody>\n",
       "    <tr>\n",
       "      <th>code</th>\n",
       "      <td>EUR</td>\n",
       "      <td>GBP</td>\n",
       "      <td>JPY</td>\n",
       "      <td>AUD</td>\n",
       "      <td>CHF</td>\n",
       "      <td>CAD</td>\n",
       "      <td>NZD</td>\n",
       "      <td>TRY</td>\n",
       "      <td>NGN</td>\n",
       "      <td>RSD</td>\n",
       "      <td>NOK</td>\n",
       "      <td>QAR</td>\n",
       "      <td>CZK</td>\n",
       "      <td>BYN</td>\n",
       "      <td>ARS</td>\n",
       "      <td>VES</td>\n",
       "      <td>BDT</td>\n",
       "      <td>RON</td>\n",
       "      <td>MDL</td>\n",
       "      <td>CRC</td>\n",
       "      <td>AED</td>\n",
       "      <td>IDR</td>\n",
       "      <td>MXN</td>\n",
       "      <td>AMD</td>\n",
       "      <td>PYG</td>\n",
       "      <td>BRL</td>\n",
       "      <td>INR</td>\n",
       "      <td>NPR</td>\n",
       "      <td>XAF</td>\n",
       "      <td>KGS</td>\n",
       "      <td>DKK</td>\n",
       "      <td>LKR</td>\n",
       "      <td>TND</td>\n",
       "      <td>VND</td>\n",
       "      <td>TMT</td>\n",
       "      <td>PKR</td>\n",
       "      <td>BGN</td>\n",
       "      <td>RUB</td>\n",
       "      <td>GEL</td>\n",
       "      <td>SAR</td>\n",
       "      <td>PLN</td>\n",
       "      <td>KZT</td>\n",
       "      <td>COP</td>\n",
       "      <td>BHD</td>\n",
       "      <td>EGP</td>\n",
       "      <td>KRW</td>\n",
       "      <td>DZD</td>\n",
       "      <td>PAB</td>\n",
       "      <td>HKD</td>\n",
       "      <td>MAD</td>\n",
       "      <td>ZAR</td>\n",
       "      <td>IQD</td>\n",
       "      <td>BOB</td>\n",
       "      <td>KWD</td>\n",
       "      <td>THB</td>\n",
       "      <td>TWD</td>\n",
       "      <td>UZS</td>\n",
       "      <td>OMR</td>\n",
       "      <td>ILS</td>\n",
       "      <td>PEN</td>\n",
       "      <td>TJS</td>\n",
       "      <td>SEK</td>\n",
       "      <td>SGD</td>\n",
       "      <td>HUF</td>\n",
       "      <td>UAH</td>\n",
       "      <td>CLP</td>\n",
       "      <td>DOP</td>\n",
       "      <td>CNY</td>\n",
       "      <td>ISK</td>\n",
       "      <td>AZN</td>\n",
       "      <td>HTG</td>\n",
       "      <td>ANG</td>\n",
       "      <td>LBP</td>\n",
       "      <td>MYR</td>\n",
       "      <td>IRR</td>\n",
       "      <td>UYU</td>\n",
       "      <td>JOD</td>\n",
       "      <td>PHP</td>\n",
       "      <td>XOF</td>\n",
       "      <td>LYD</td>\n",
       "    </tr>\n",
       "    <tr>\n",
       "      <th>alphaCode</th>\n",
       "      <td>EUR</td>\n",
       "      <td>GBP</td>\n",
       "      <td>JPY</td>\n",
       "      <td>AUD</td>\n",
       "      <td>CHF</td>\n",
       "      <td>CAD</td>\n",
       "      <td>NZD</td>\n",
       "      <td>TRY</td>\n",
       "      <td>NGN</td>\n",
       "      <td>RSD</td>\n",
       "      <td>NOK</td>\n",
       "      <td>QAR</td>\n",
       "      <td>CZK</td>\n",
       "      <td>BYN</td>\n",
       "      <td>ARS</td>\n",
       "      <td>VES</td>\n",
       "      <td>BDT</td>\n",
       "      <td>RON</td>\n",
       "      <td>MDL</td>\n",
       "      <td>CRC</td>\n",
       "      <td>AED</td>\n",
       "      <td>IDR</td>\n",
       "      <td>MXN</td>\n",
       "      <td>AMD</td>\n",
       "      <td>PYG</td>\n",
       "      <td>BRL</td>\n",
       "      <td>INR</td>\n",
       "      <td>NPR</td>\n",
       "      <td>XAF</td>\n",
       "      <td>KGS</td>\n",
       "      <td>DKK</td>\n",
       "      <td>LKR</td>\n",
       "      <td>TND</td>\n",
       "      <td>VND</td>\n",
       "      <td>TMT</td>\n",
       "      <td>PKR</td>\n",
       "      <td>BGN</td>\n",
       "      <td>RUB</td>\n",
       "      <td>GEL</td>\n",
       "      <td>SAR</td>\n",
       "      <td>PLN</td>\n",
       "      <td>KZT</td>\n",
       "      <td>COP</td>\n",
       "      <td>BHD</td>\n",
       "      <td>EGP</td>\n",
       "      <td>KRW</td>\n",
       "      <td>DZD</td>\n",
       "      <td>PAB</td>\n",
       "      <td>HKD</td>\n",
       "      <td>MAD</td>\n",
       "      <td>ZAR</td>\n",
       "      <td>IQD</td>\n",
       "      <td>BOB</td>\n",
       "      <td>KWD</td>\n",
       "      <td>THB</td>\n",
       "      <td>TWD</td>\n",
       "      <td>UZS</td>\n",
       "      <td>OMR</td>\n",
       "      <td>ILS</td>\n",
       "      <td>PEN</td>\n",
       "      <td>TJS</td>\n",
       "      <td>SEK</td>\n",
       "      <td>SGD</td>\n",
       "      <td>HUF</td>\n",
       "      <td>UAH</td>\n",
       "      <td>CLP</td>\n",
       "      <td>DOP</td>\n",
       "      <td>CNY</td>\n",
       "      <td>ISK</td>\n",
       "      <td>AZN</td>\n",
       "      <td>HTG</td>\n",
       "      <td>ANG</td>\n",
       "      <td>LBP</td>\n",
       "      <td>MYR</td>\n",
       "      <td>IRR</td>\n",
       "      <td>UYU</td>\n",
       "      <td>JOD</td>\n",
       "      <td>PHP</td>\n",
       "      <td>XOF</td>\n",
       "      <td>LYD</td>\n",
       "    </tr>\n",
       "    <tr>\n",
       "      <th>numericCode</th>\n",
       "      <td>978</td>\n",
       "      <td>826</td>\n",
       "      <td>392</td>\n",
       "      <td>036</td>\n",
       "      <td>756</td>\n",
       "      <td>124</td>\n",
       "      <td>554</td>\n",
       "      <td>949</td>\n",
       "      <td>566</td>\n",
       "      <td>941</td>\n",
       "      <td>578</td>\n",
       "      <td>634</td>\n",
       "      <td>203</td>\n",
       "      <td>933</td>\n",
       "      <td>032</td>\n",
       "      <td>928</td>\n",
       "      <td>050</td>\n",
       "      <td>946</td>\n",
       "      <td>498</td>\n",
       "      <td>188</td>\n",
       "      <td>784</td>\n",
       "      <td>360</td>\n",
       "      <td>484</td>\n",
       "      <td>051</td>\n",
       "      <td>600</td>\n",
       "      <td>986</td>\n",
       "      <td>356</td>\n",
       "      <td>524</td>\n",
       "      <td>950</td>\n",
       "      <td>417</td>\n",
       "      <td>208</td>\n",
       "      <td>144</td>\n",
       "      <td>788</td>\n",
       "      <td>704</td>\n",
       "      <td>934</td>\n",
       "      <td>586</td>\n",
       "      <td>975</td>\n",
       "      <td>643</td>\n",
       "      <td>981</td>\n",
       "      <td>682</td>\n",
       "      <td>985</td>\n",
       "      <td>398</td>\n",
       "      <td>170</td>\n",
       "      <td>048</td>\n",
       "      <td>818</td>\n",
       "      <td>410</td>\n",
       "      <td>012</td>\n",
       "      <td>590</td>\n",
       "      <td>344</td>\n",
       "      <td>504</td>\n",
       "      <td>710</td>\n",
       "      <td>368</td>\n",
       "      <td>068</td>\n",
       "      <td>414</td>\n",
       "      <td>764</td>\n",
       "      <td>901</td>\n",
       "      <td>860</td>\n",
       "      <td>512</td>\n",
       "      <td>376</td>\n",
       "      <td>604</td>\n",
       "      <td>972</td>\n",
       "      <td>752</td>\n",
       "      <td>702</td>\n",
       "      <td>348</td>\n",
       "      <td>980</td>\n",
       "      <td>152</td>\n",
       "      <td>214</td>\n",
       "      <td>156</td>\n",
       "      <td>352</td>\n",
       "      <td>944</td>\n",
       "      <td>332</td>\n",
       "      <td>532</td>\n",
       "      <td>422</td>\n",
       "      <td>458</td>\n",
       "      <td>364</td>\n",
       "      <td>858</td>\n",
       "      <td>400</td>\n",
       "      <td>608</td>\n",
       "      <td>952</td>\n",
       "      <td>434</td>\n",
       "    </tr>\n",
       "    <tr>\n",
       "      <th>name</th>\n",
       "      <td>Euro</td>\n",
       "      <td>U.K. Pound Sterling</td>\n",
       "      <td>Japanese Yen</td>\n",
       "      <td>Australian Dollar</td>\n",
       "      <td>Swiss Franc</td>\n",
       "      <td>Canadian Dollar</td>\n",
       "      <td>New Zealand Dollar</td>\n",
       "      <td>Turkish Lira</td>\n",
       "      <td>Nigerian Naira</td>\n",
       "      <td>Serbian Dinar</td>\n",
       "      <td>Norwegian Krone</td>\n",
       "      <td>Qatari Rial</td>\n",
       "      <td>Czech Koruna</td>\n",
       "      <td>Belarussian Ruble</td>\n",
       "      <td>Argentine Peso</td>\n",
       "      <td>Venezuelan Bolivar</td>\n",
       "      <td>Bangladeshi taka</td>\n",
       "      <td>Romanian New Leu</td>\n",
       "      <td>Moldova Lei</td>\n",
       "      <td>Costa Rican Colón</td>\n",
       "      <td>U.A.E Dirham</td>\n",
       "      <td>Indonesian Rupiah</td>\n",
       "      <td>Mexican Peso</td>\n",
       "      <td>Armenia Dram</td>\n",
       "      <td>Paraguayan Guaraní</td>\n",
       "      <td>Brazilian Real</td>\n",
       "      <td>Indian Rupee</td>\n",
       "      <td>Nepalese Rupee</td>\n",
       "      <td>Central African CFA Franc</td>\n",
       "      <td>Kyrgyzstan Som</td>\n",
       "      <td>Danish Krone</td>\n",
       "      <td>Sri Lanka Rupee</td>\n",
       "      <td>Tunisian Dinar</td>\n",
       "      <td>Vietnamese Dong</td>\n",
       "      <td>New Turkmenistan Manat</td>\n",
       "      <td>Pakistani Rupee</td>\n",
       "      <td>Bulgarian Lev</td>\n",
       "      <td>Russian Rouble</td>\n",
       "      <td>Georgian lari</td>\n",
       "      <td>Saudi Riyal</td>\n",
       "      <td>Polish Zloty</td>\n",
       "      <td>Kazakhstani Tenge</td>\n",
       "      <td>Colombian Peso</td>\n",
       "      <td>Bahrain Dinar</td>\n",
       "      <td>Egyptian Pound</td>\n",
       "      <td>South Korean Won</td>\n",
       "      <td>Algerian Dinar</td>\n",
       "      <td>Panamanian Balboa</td>\n",
       "      <td>Hong Kong Dollar</td>\n",
       "      <td>Moroccan Dirham</td>\n",
       "      <td>South African Rand</td>\n",
       "      <td>Iraqi dinar</td>\n",
       "      <td>Bolivian Boliviano</td>\n",
       "      <td>Kuwaiti Dinar</td>\n",
       "      <td>Thai Baht</td>\n",
       "      <td>New Taiwan Dollar</td>\n",
       "      <td>Uzbekistan Sum</td>\n",
       "      <td>Omani Rial</td>\n",
       "      <td>Israeli New Sheqel</td>\n",
       "      <td>Peruvian Nuevo Sol</td>\n",
       "      <td>Tajikistan Ruble</td>\n",
       "      <td>Swedish Krona</td>\n",
       "      <td>Singapore Dollar</td>\n",
       "      <td>Hungarian Forint</td>\n",
       "      <td>Ukrainian Hryvnia</td>\n",
       "      <td>Chilean Peso</td>\n",
       "      <td>Dominican Peso</td>\n",
       "      <td>Chinese Yuan</td>\n",
       "      <td>Icelandic Krona</td>\n",
       "      <td>Azerbaijan Manat</td>\n",
       "      <td>Haitian gourde</td>\n",
       "      <td>Neth. Antillean Guilder</td>\n",
       "      <td>Lebanese Pound</td>\n",
       "      <td>Malaysian Ringgit</td>\n",
       "      <td>Iranian rial</td>\n",
       "      <td>Uruguayan Peso</td>\n",
       "      <td>Jordanian Dinar</td>\n",
       "      <td>Philippine Peso</td>\n",
       "      <td>West African CFA Franc</td>\n",
       "      <td>Libyan Dinar</td>\n",
       "    </tr>\n",
       "    <tr>\n",
       "      <th>rate</th>\n",
       "      <td>0.92</td>\n",
       "      <td>0.79</td>\n",
       "      <td>147.83</td>\n",
       "      <td>1.52</td>\n",
       "      <td>0.87</td>\n",
       "      <td>1.35</td>\n",
       "      <td>1.63</td>\n",
       "      <td>30.13</td>\n",
       "      <td>890.54</td>\n",
       "      <td>105.66</td>\n",
       "      <td>10.51</td>\n",
       "      <td>3.65</td>\n",
       "      <td>22.75</td>\n",
       "      <td>3.27</td>\n",
       "      <td>819.59</td>\n",
       "      <td>35.99</td>\n",
       "      <td>109.32</td>\n",
       "      <td>4.58</td>\n",
       "      <td>17.71</td>\n",
       "      <td>516.33</td>\n",
       "      <td>3.66</td>\n",
       "      <td>15,643.63</td>\n",
       "      <td>17.19</td>\n",
       "      <td>401.67</td>\n",
       "      <td>7,297.87</td>\n",
       "      <td>4.91</td>\n",
       "      <td>83.15</td>\n",
       "      <td>133.27</td>\n",
       "      <td>603.27</td>\n",
       "      <td>88.40</td>\n",
       "      <td>6.86</td>\n",
       "      <td>323.93</td>\n",
       "      <td>3.06</td>\n",
       "      <td>24,417.43</td>\n",
       "      <td>3.47</td>\n",
       "      <td>279.60</td>\n",
       "      <td>1.80</td>\n",
       "      <td>89.20</td>\n",
       "      <td>2.67</td>\n",
       "      <td>3.74</td>\n",
       "      <td>4.04</td>\n",
       "      <td>451.41</td>\n",
       "      <td>3,920.00</td>\n",
       "      <td>0.38</td>\n",
       "      <td>30.89</td>\n",
       "      <td>1,340.27</td>\n",
       "      <td>133.33</td>\n",
       "      <td>1</td>\n",
       "      <td>7.82</td>\n",
       "      <td>9.80</td>\n",
       "      <td>18.94</td>\n",
       "      <td>1,299.92</td>\n",
       "      <td>6.86</td>\n",
       "      <td>0.31</td>\n",
       "      <td>35.32</td>\n",
       "      <td>31.32</td>\n",
       "      <td>12,293.20</td>\n",
       "      <td>0.38</td>\n",
       "      <td>3.76</td>\n",
       "      <td>3.74</td>\n",
       "      <td>10.87</td>\n",
       "      <td>10.46</td>\n",
       "      <td>1.34</td>\n",
       "      <td>351.11</td>\n",
       "      <td>37.70</td>\n",
       "      <td>922.62</td>\n",
       "      <td>57.83</td>\n",
       "      <td>7.19</td>\n",
       "      <td>137.46</td>\n",
       "      <td>1.70</td>\n",
       "      <td>131.34</td>\n",
       "      <td>1.79</td>\n",
       "      <td>14,934.78</td>\n",
       "      <td>4.69</td>\n",
       "      <td>41,676.60</td>\n",
       "      <td>39.28</td>\n",
       "      <td>0.71</td>\n",
       "      <td>55.83</td>\n",
       "      <td>603.27</td>\n",
       "      <td>4.73</td>\n",
       "    </tr>\n",
       "  </tbody>\n",
       "</table>\n",
       "</div>"
      ],
      "text/plain": [
       "              eur                  gbp           jpy                aud  \\\n",
       "code          EUR                  GBP           JPY                AUD   \n",
       "alphaCode     EUR                  GBP           JPY                AUD   \n",
       "numericCode   978                  826           392                036   \n",
       "name         Euro  U.K. Pound Sterling  Japanese Yen  Australian Dollar   \n",
       "rate         0.92                 0.79        147.83               1.52   \n",
       "\n",
       "                     chf              cad                 nzd           try  \\\n",
       "code                 CHF              CAD                 NZD           TRY   \n",
       "alphaCode            CHF              CAD                 NZD           TRY   \n",
       "numericCode          756              124                 554           949   \n",
       "name         Swiss Franc  Canadian Dollar  New Zealand Dollar  Turkish Lira   \n",
       "rate                0.87             1.35                1.63         30.13   \n",
       "\n",
       "                        ngn            rsd              nok          qar  \\\n",
       "code                    NGN            RSD              NOK          QAR   \n",
       "alphaCode               NGN            RSD              NOK          QAR   \n",
       "numericCode             566            941              578          634   \n",
       "name         Nigerian Naira  Serbian Dinar  Norwegian Krone  Qatari Rial   \n",
       "rate                 890.54         105.66            10.51         3.65   \n",
       "\n",
       "                      czk                byn             ars  \\\n",
       "code                  CZK                BYN             ARS   \n",
       "alphaCode             CZK                BYN             ARS   \n",
       "numericCode           203                933             032   \n",
       "name         Czech Koruna  Belarussian Ruble  Argentine Peso   \n",
       "rate                22.75               3.27          819.59   \n",
       "\n",
       "                            ves               bdt               ron  \\\n",
       "code                        VES               BDT               RON   \n",
       "alphaCode                   VES               BDT               RON   \n",
       "numericCode                 928               050               946   \n",
       "name         Venezuelan Bolivar  Bangladeshi taka  Romanian New Leu   \n",
       "rate                      35.99            109.32              4.58   \n",
       "\n",
       "                     mdl                crc           aed                idr  \\\n",
       "code                 MDL                CRC           AED                IDR   \n",
       "alphaCode            MDL                CRC           AED                IDR   \n",
       "numericCode          498                188           784                360   \n",
       "name         Moldova Lei  Costa Rican Colón  U.A.E Dirham  Indonesian Rupiah   \n",
       "rate               17.71             516.33          3.66          15,643.63   \n",
       "\n",
       "                      mxn           amd                 pyg             brl  \\\n",
       "code                  MXN           AMD                 PYG             BRL   \n",
       "alphaCode             MXN           AMD                 PYG             BRL   \n",
       "numericCode           484           051                 600             986   \n",
       "name         Mexican Peso  Armenia Dram  Paraguayan Guaraní  Brazilian Real   \n",
       "rate                17.19        401.67            7,297.87            4.91   \n",
       "\n",
       "                      inr             npr                        xaf  \\\n",
       "code                  INR             NPR                        XAF   \n",
       "alphaCode             INR             NPR                        XAF   \n",
       "numericCode           356             524                        950   \n",
       "name         Indian Rupee  Nepalese Rupee  Central African CFA Franc   \n",
       "rate                83.15          133.27                     603.27   \n",
       "\n",
       "                        kgs           dkk              lkr             tnd  \\\n",
       "code                    KGS           DKK              LKR             TND   \n",
       "alphaCode               KGS           DKK              LKR             TND   \n",
       "numericCode             417           208              144             788   \n",
       "name         Kyrgyzstan Som  Danish Krone  Sri Lanka Rupee  Tunisian Dinar   \n",
       "rate                  88.40          6.86           323.93            3.06   \n",
       "\n",
       "                         vnd                     tmt              pkr  \\\n",
       "code                     VND                     TMT              PKR   \n",
       "alphaCode                VND                     TMT              PKR   \n",
       "numericCode              704                     934              586   \n",
       "name         Vietnamese Dong  New Turkmenistan Manat  Pakistani Rupee   \n",
       "rate               24,417.43                    3.47           279.60   \n",
       "\n",
       "                       bgn             rub            gel          sar  \\\n",
       "code                   BGN             RUB            GEL          SAR   \n",
       "alphaCode              BGN             RUB            GEL          SAR   \n",
       "numericCode            975             643            981          682   \n",
       "name         Bulgarian Lev  Russian Rouble  Georgian lari  Saudi Riyal   \n",
       "rate                  1.80           89.20           2.67         3.74   \n",
       "\n",
       "                      pln                kzt             cop            bhd  \\\n",
       "code                  PLN                KZT             COP            BHD   \n",
       "alphaCode             PLN                KZT             COP            BHD   \n",
       "numericCode           985                398             170            048   \n",
       "name         Polish Zloty  Kazakhstani Tenge  Colombian Peso  Bahrain Dinar   \n",
       "rate                 4.04             451.41        3,920.00           0.38   \n",
       "\n",
       "                        egp               krw             dzd  \\\n",
       "code                    EGP               KRW             DZD   \n",
       "alphaCode               EGP               KRW             DZD   \n",
       "numericCode             818               410             012   \n",
       "name         Egyptian Pound  South Korean Won  Algerian Dinar   \n",
       "rate                  30.89          1,340.27          133.33   \n",
       "\n",
       "                           pab               hkd              mad  \\\n",
       "code                       PAB               HKD              MAD   \n",
       "alphaCode                  PAB               HKD              MAD   \n",
       "numericCode                590               344              504   \n",
       "name         Panamanian Balboa  Hong Kong Dollar  Moroccan Dirham   \n",
       "rate                         1              7.82             9.80   \n",
       "\n",
       "                            zar          iqd                 bob  \\\n",
       "code                        ZAR          IQD                 BOB   \n",
       "alphaCode                   ZAR          IQD                 BOB   \n",
       "numericCode                 710          368                 068   \n",
       "name         South African Rand  Iraqi dinar  Bolivian Boliviano   \n",
       "rate                      18.94     1,299.92                6.86   \n",
       "\n",
       "                       kwd        thb                 twd             uzs  \\\n",
       "code                   KWD        THB                 TWD             UZS   \n",
       "alphaCode              KWD        THB                 TWD             UZS   \n",
       "numericCode            414        764                 901             860   \n",
       "name         Kuwaiti Dinar  Thai Baht  New Taiwan Dollar   Uzbekistan Sum   \n",
       "rate                  0.31      35.32               31.32       12,293.20   \n",
       "\n",
       "                    omr                 ils                 pen  \\\n",
       "code                OMR                 ILS                 PEN   \n",
       "alphaCode           OMR                 ILS                 PEN   \n",
       "numericCode         512                 376                 604   \n",
       "name         Omani Rial  Israeli New Sheqel  Peruvian Nuevo Sol   \n",
       "rate               0.38                3.76                3.74   \n",
       "\n",
       "                          tjs            sek               sgd  \\\n",
       "code                      TJS            SEK               SGD   \n",
       "alphaCode                 TJS            SEK               SGD   \n",
       "numericCode               972            752               702   \n",
       "name         Tajikistan Ruble  Swedish Krona  Singapore Dollar   \n",
       "rate                    10.87          10.46              1.34   \n",
       "\n",
       "                          huf                uah           clp  \\\n",
       "code                      HUF                UAH           CLP   \n",
       "alphaCode                 HUF                UAH           CLP   \n",
       "numericCode               348                980           152   \n",
       "name         Hungarian Forint  Ukrainian Hryvnia  Chilean Peso   \n",
       "rate                   351.11              37.70        922.62   \n",
       "\n",
       "                        dop           cny              isk               azn  \\\n",
       "code                    DOP           CNY              ISK               AZN   \n",
       "alphaCode               DOP           CNY              ISK               AZN   \n",
       "numericCode             214           156              352               944   \n",
       "name         Dominican Peso  Chinese Yuan  Icelandic Krona  Azerbaijan Manat   \n",
       "rate                  57.83          7.19           137.46              1.70   \n",
       "\n",
       "                        htg                      ang             lbp  \\\n",
       "code                    HTG                      ANG             LBP   \n",
       "alphaCode               HTG                      ANG             LBP   \n",
       "numericCode             332                      532             422   \n",
       "name         Haitian gourde  Neth. Antillean Guilder  Lebanese Pound   \n",
       "rate                 131.34                     1.79       14,934.78   \n",
       "\n",
       "                           myr           irr             uyu              jod  \\\n",
       "code                       MYR           IRR             UYU              JOD   \n",
       "alphaCode                  MYR           IRR             UYU              JOD   \n",
       "numericCode                458           364             858              400   \n",
       "name         Malaysian Ringgit  Iranian rial  Uruguayan Peso  Jordanian Dinar   \n",
       "rate                      4.69     41,676.60           39.28             0.71   \n",
       "\n",
       "                         php                     xof           lyd  \n",
       "code                     PHP                     XOF           LYD  \n",
       "alphaCode                PHP                     XOF           LYD  \n",
       "numericCode              608                     952           434  \n",
       "name         Philippine Peso  West African CFA Franc  Libyan Dinar  \n",
       "rate                   55.83                  603.27          4.73  "
      ]
     },
     "execution_count": 34,
     "metadata": {},
     "output_type": "execute_result"
    }
   ],
   "source": [
    "# read json\n",
    "df = pd.read_json(link_json2)\n",
    "df.head()"
   ]
  },
  {
   "cell_type": "markdown",
   "id": "3c48e008-9b51-401d-bf2f-e3b1da553d91",
   "metadata": {
    "id": "3c48e008-9b51-401d-bf2f-e3b1da553d91",
    "slideshow": {
     "slide_type": "slide"
    }
   },
   "source": [
    "### Summarizing Data"
   ]
  },
  {
   "cell_type": "markdown",
   "id": "3c8e58b1-90b8-4e34-aa92-a8e360e7e8b6",
   "metadata": {
    "id": "3c8e58b1-90b8-4e34-aa92-a8e360e7e8b6"
   },
   "source": [
    "Untuk melihat secara sekilas DataFrame yang kita buat, dapat menggunakan function berikut:\n",
    "\n",
    "| Function | Penjelas |\n",
    "| :-: | :-- |\n",
    "| head() dan tail()| Mengakses baris awal dan akhir DataFrame |\n",
    "| sample()| Memilih data secara acak |\n",
    "| nlargest(n, column)| Memilih beberapa data teratas yang sudah diurutkan dari suatu column | \n",
    "| nsmallest(n, column)| Memilih beberapa data terbawah yang sudah diurutkan  dari suatu column |"
   ]
  },
  {
   "cell_type": "markdown",
   "id": "d213589e",
   "metadata": {
    "slideshow": {
     "slide_type": "slide"
    }
   },
   "source": [
    "Selain melihat secara sekilas, kita juga bisa mengetahui informasi terkait DataFrame dengan function berikut:\n",
    "\n",
    "| Function | Penjelas |\n",
    "| :-: | :-- |\n",
    "| dataframe.columns| Daftar kolom pada DataFrame |\n",
    "| dataframe.info()| Informasi DataFrame, kolom tipe data dsb |\n",
    "| dataframe.shape| Dimensi DataFrame | \n",
    "| dataframe.size()| Jumlah data pada DataFrame |\n",
    "| dataframe.describe()| menampilkan statistik deskriptif |"
   ]
  },
  {
   "cell_type": "markdown",
   "id": "5573c2ce",
   "metadata": {
    "slideshow": {
     "slide_type": "slide"
    }
   },
   "source": [
    "#### load titanic"
   ]
  },
  {
   "cell_type": "code",
   "execution_count": null,
   "id": "32082efa-0a19-4f50-8cb8-16f786cc6269",
   "metadata": {
    "ExecuteTime": {
     "end_time": "2023-08-21T15:16:22.210392Z",
     "start_time": "2023-08-21T15:16:22.178724Z"
    },
    "id": "32082efa-0a19-4f50-8cb8-16f786cc6269",
    "slideshow": {
     "slide_type": "-"
    }
   },
   "outputs": [],
   "source": [
    "#contoh kali ini kita akan membaca file titanic.csv\n",
    "df_titanic = pd.read_csv(link_titanic)"
   ]
  },
  {
   "cell_type": "code",
   "execution_count": null,
   "id": "8ae2166a-a3d4-473f-b0b3-57216136a222",
   "metadata": {
    "ExecuteTime": {
     "end_time": "2023-08-21T15:16:22.792855Z",
     "start_time": "2023-08-21T15:16:22.761850Z"
    },
    "colab": {
     "base_uri": "https://localhost:8080/",
     "height": 240
    },
    "executionInfo": {
     "elapsed": 528,
     "status": "ok",
     "timestamp": 1648708904341,
     "user": {
      "displayName": "Pratama Suprayogi",
      "userId": "14884808246882934220"
     },
     "user_tz": -420
    },
    "id": "8ae2166a-a3d4-473f-b0b3-57216136a222",
    "outputId": "8aaf79db-98a3-47ca-9524-b1f1ade9feb3"
   },
   "outputs": [],
   "source": [
    "#kita akan melihat isi 3 file pertama\n",
    "df_titanic.head(3)"
   ]
  },
  {
   "cell_type": "code",
   "execution_count": null,
   "id": "91ae5883-9fbb-4360-b126-e89ae1db0807",
   "metadata": {
    "ExecuteTime": {
     "end_time": "2023-08-21T15:16:41.925799Z",
     "start_time": "2023-08-21T15:16:41.888122Z"
    },
    "colab": {
     "base_uri": "https://localhost:8080/",
     "height": 205
    },
    "executionInfo": {
     "elapsed": 4,
     "status": "ok",
     "timestamp": 1648708908199,
     "user": {
      "displayName": "Pratama Suprayogi",
      "userId": "14884808246882934220"
     },
     "user_tz": -420
    },
    "id": "91ae5883-9fbb-4360-b126-e89ae1db0807",
    "outputId": "abb39df6-59d9-4cb8-a2d7-c60d160c4278",
    "slideshow": {
     "slide_type": "slide"
    }
   },
   "outputs": [],
   "source": [
    "#kita akan melihat isi 3 file terakhir\n",
    "df_titanic.tail(3)"
   ]
  },
  {
   "cell_type": "code",
   "execution_count": null,
   "id": "1e0b7a7a-0e8b-448d-ba29-f9be4cb8de48",
   "metadata": {
    "ExecuteTime": {
     "end_time": "2023-08-21T15:16:57.974124Z",
     "start_time": "2023-08-21T15:16:57.942532Z"
    },
    "colab": {
     "base_uri": "https://localhost:8080/",
     "height": 426
    },
    "executionInfo": {
     "elapsed": 424,
     "status": "ok",
     "timestamp": 1648708912710,
     "user": {
      "displayName": "Pratama Suprayogi",
      "userId": "14884808246882934220"
     },
     "user_tz": -420
    },
    "id": "1e0b7a7a-0e8b-448d-ba29-f9be4cb8de48",
    "outputId": "67f0694a-f140-4e95-8005-e70fa1d5ad48",
    "slideshow": {
     "slide_type": "slide"
    }
   },
   "outputs": [],
   "source": [
    "#kita juga bisa menampilkan dataframe dalam format horizontal dengan menggunakan method transpose atau T\n",
    "df_titanic.head(1).T"
   ]
  },
  {
   "cell_type": "code",
   "execution_count": null,
   "id": "aeef62e5-d5a8-407c-9474-fa3ac4060e72",
   "metadata": {
    "ExecuteTime": {
     "end_time": "2023-08-21T10:50:07.987714Z",
     "start_time": "2023-08-21T10:50:07.971982Z"
    },
    "colab": {
     "base_uri": "https://localhost:8080/",
     "height": 205
    },
    "executionInfo": {
     "elapsed": 432,
     "status": "ok",
     "timestamp": 1648708930659,
     "user": {
      "displayName": "Pratama Suprayogi",
      "userId": "14884808246882934220"
     },
     "user_tz": -420
    },
    "id": "aeef62e5-d5a8-407c-9474-fa3ac4060e72",
    "outputId": "6d01c327-4bd2-453a-938a-c5fafabeeca8",
    "slideshow": {
     "slide_type": "slide"
    }
   },
   "outputs": [],
   "source": [
    "# kita akan mencoba baris secara acak dari dataset\n",
    "df_titanic.sample(3)"
   ]
  },
  {
   "cell_type": "code",
   "execution_count": null,
   "id": "db392ecc-eb09-4891-8bbb-1086490acdb8",
   "metadata": {
    "ExecuteTime": {
     "end_time": "2023-08-21T10:50:08.003471Z",
     "start_time": "2023-08-21T10:50:07.988350Z"
    },
    "colab": {
     "base_uri": "https://localhost:8080/",
     "height": 222
    },
    "executionInfo": {
     "elapsed": 535,
     "status": "ok",
     "timestamp": 1648708936269,
     "user": {
      "displayName": "Pratama Suprayogi",
      "userId": "14884808246882934220"
     },
     "user_tz": -420
    },
    "id": "db392ecc-eb09-4891-8bbb-1086490acdb8",
    "outputId": "8273d898-6c25-4925-d0e8-d80b3a540dfb",
    "slideshow": {
     "slide_type": "slide"
    }
   },
   "outputs": [],
   "source": [
    "#kita ingin menampilkan 3 umur tertua\n",
    "df_titanic.nlargest(3,\"Age\")"
   ]
  },
  {
   "cell_type": "code",
   "execution_count": null,
   "id": "1f20f168-5530-4727-911b-75de84c3dcec",
   "metadata": {
    "ExecuteTime": {
     "end_time": "2023-08-21T10:50:08.019694Z",
     "start_time": "2023-08-21T10:50:08.004080Z"
    },
    "colab": {
     "base_uri": "https://localhost:8080/"
    },
    "executionInfo": {
     "elapsed": 423,
     "status": "ok",
     "timestamp": 1648708944988,
     "user": {
      "displayName": "Pratama Suprayogi",
      "userId": "14884808246882934220"
     },
     "user_tz": -420
    },
    "id": "1f20f168-5530-4727-911b-75de84c3dcec",
    "outputId": "72c79418-93c9-491d-e50f-cb44cbcdc844",
    "slideshow": {
     "slide_type": "slide"
    }
   },
   "outputs": [],
   "source": [
    "#kita ingin mengetahui kolom apa saja yang ada pada data titanic\n",
    "df_titanic.columns"
   ]
  },
  {
   "cell_type": "code",
   "execution_count": null,
   "id": "66bd476a-e5eb-4819-95f7-d7410fc2dea0",
   "metadata": {
    "ExecuteTime": {
     "end_time": "2023-08-21T10:50:08.035652Z",
     "start_time": "2023-08-21T10:50:08.019694Z"
    },
    "colab": {
     "base_uri": "https://localhost:8080/"
    },
    "executionInfo": {
     "elapsed": 3,
     "status": "ok",
     "timestamp": 1648708950579,
     "user": {
      "displayName": "Pratama Suprayogi",
      "userId": "14884808246882934220"
     },
     "user_tz": -420
    },
    "id": "66bd476a-e5eb-4819-95f7-d7410fc2dea0",
    "outputId": "c6054eef-4ab9-4390-fab1-ab9aa562f8f2",
    "slideshow": {
     "slide_type": "slide"
    }
   },
   "outputs": [],
   "source": [
    "# kita ingin menampilkan info umum (count dan Dtype) dataset\n",
    "df_titanic.info()"
   ]
  },
  {
   "cell_type": "code",
   "execution_count": null,
   "id": "7a48c7ed-5272-4b98-ab14-2cba8e9a3a4b",
   "metadata": {
    "ExecuteTime": {
     "end_time": "2023-08-21T10:50:08.051701Z",
     "start_time": "2023-08-21T10:50:08.035652Z"
    },
    "colab": {
     "base_uri": "https://localhost:8080/"
    },
    "executionInfo": {
     "elapsed": 419,
     "status": "ok",
     "timestamp": 1648708963712,
     "user": {
      "displayName": "Pratama Suprayogi",
      "userId": "14884808246882934220"
     },
     "user_tz": -420
    },
    "id": "7a48c7ed-5272-4b98-ab14-2cba8e9a3a4b",
    "outputId": "0617436b-5269-4866-d65b-3c8992067690",
    "slideshow": {
     "slide_type": "slide"
    }
   },
   "outputs": [],
   "source": [
    "# kita akan mencoba melakukan print ukuran dari dataset (baris dan kolom)\n",
    "df_titanic.shape\n",
    "#terdapat 891 baris dengan 12 kolom"
   ]
  },
  {
   "cell_type": "code",
   "execution_count": null,
   "id": "cdb304ad-7e3f-4083-b1a5-2c99f009cfa5",
   "metadata": {
    "ExecuteTime": {
     "end_time": "2023-08-21T10:50:08.067384Z",
     "start_time": "2023-08-21T10:50:08.051701Z"
    },
    "colab": {
     "base_uri": "https://localhost:8080/"
    },
    "executionInfo": {
     "elapsed": 405,
     "status": "ok",
     "timestamp": 1648708968896,
     "user": {
      "displayName": "Pratama Suprayogi",
      "userId": "14884808246882934220"
     },
     "user_tz": -420
    },
    "id": "cdb304ad-7e3f-4083-b1a5-2c99f009cfa5",
    "outputId": "10100c8b-7c56-4f43-b7cd-89e395eee3d0",
    "slideshow": {
     "slide_type": "slide"
    }
   },
   "outputs": [],
   "source": [
    "# kita akan mencoba melakukan print atas jumlah cell (baris x kolom)\n",
    "df_titanic.size"
   ]
  },
  {
   "cell_type": "code",
   "execution_count": null,
   "id": "8f20b9d3-2fb3-465a-80f4-e80f6c71156f",
   "metadata": {
    "ExecuteTime": {
     "end_time": "2023-08-21T15:20:50.839052Z",
     "start_time": "2023-08-21T15:20:50.808199Z"
    },
    "colab": {
     "base_uri": "https://localhost:8080/"
    },
    "executionInfo": {
     "elapsed": 424,
     "status": "ok",
     "timestamp": 1648708975667,
     "user": {
      "displayName": "Pratama Suprayogi",
      "userId": "14884808246882934220"
     },
     "user_tz": -420
    },
    "id": "8f20b9d3-2fb3-465a-80f4-e80f6c71156f",
    "outputId": "67eb3ad1-dd97-4baa-e1de-d35a17344173",
    "slideshow": {
     "slide_type": "slide"
    }
   },
   "outputs": [],
   "source": [
    "# menghitung count data not null atas satu kolom\n",
    "df_titanic.count()"
   ]
  },
  {
   "cell_type": "code",
   "execution_count": null,
   "id": "12324af9",
   "metadata": {
    "ExecuteTime": {
     "end_time": "2023-08-21T10:50:08.098711Z",
     "start_time": "2023-08-21T10:50:08.082995Z"
    },
    "slideshow": {
     "slide_type": "slide"
    }
   },
   "outputs": [],
   "source": [
    "# NaN: Not a Number, a missing floating-point value, a special value that is part of the IEEE floating-point specification\n",
    "# None: A Python Object, None is a Python Object called NoneType\n",
    "import numpy as np\n",
    "print(None == None) # comparable\n",
    "print(np.nan == np.nan) # uncomparable"
   ]
  },
  {
   "cell_type": "code",
   "execution_count": null,
   "id": "59f6f632-6a40-4c4c-8a61-c42b29c4d5d0",
   "metadata": {
    "ExecuteTime": {
     "end_time": "2023-08-21T10:50:08.114348Z",
     "start_time": "2023-08-21T10:50:08.098711Z"
    },
    "colab": {
     "base_uri": "https://localhost:8080/"
    },
    "executionInfo": {
     "elapsed": 391,
     "status": "ok",
     "timestamp": 1648708990981,
     "user": {
      "displayName": "Pratama Suprayogi",
      "userId": "14884808246882934220"
     },
     "user_tz": -420
    },
    "id": "59f6f632-6a40-4c4c-8a61-c42b29c4d5d0",
    "outputId": "a09935b3-aaf3-4b1a-8876-c46664b5a050",
    "slideshow": {
     "slide_type": "slide"
    }
   },
   "outputs": [],
   "source": [
    "# menghitung jumlah baris dataset\n",
    "len(df_titanic)"
   ]
  },
  {
   "cell_type": "code",
   "execution_count": null,
   "id": "d0e8e058-1554-4472-98c1-1f01ae900bb1",
   "metadata": {
    "ExecuteTime": {
     "end_time": "2023-08-21T10:50:08.146291Z",
     "start_time": "2023-08-21T10:50:08.115025Z"
    },
    "colab": {
     "base_uri": "https://localhost:8080/",
     "height": 300
    },
    "executionInfo": {
     "elapsed": 418,
     "status": "ok",
     "timestamp": 1648709000377,
     "user": {
      "displayName": "Pratama Suprayogi",
      "userId": "14884808246882934220"
     },
     "user_tz": -420
    },
    "id": "d0e8e058-1554-4472-98c1-1f01ae900bb1",
    "outputId": "7e8148be-76ea-4ccd-f461-23a80a3eeac2",
    "slideshow": {
     "slide_type": "slide"
    }
   },
   "outputs": [],
   "source": [
    "# deskripsi untuk data kuantitatif\n",
    "df_titanic.describe()"
   ]
  },
  {
   "cell_type": "markdown",
   "id": "a1a97893",
   "metadata": {
    "slideshow": {
     "slide_type": "slide"
    }
   },
   "source": [
    "<img src=\"https://id.nesrakonk.ru/wp-content/uploads/sites/5/2021/03/2021-04-11_17-07-33.png\">"
   ]
  },
  {
   "cell_type": "code",
   "execution_count": null,
   "id": "aa89fbe9-09f0-464a-8ee2-1af38022efcf",
   "metadata": {
    "ExecuteTime": {
     "end_time": "2023-08-21T10:50:08.162279Z",
     "start_time": "2023-08-21T10:50:08.146291Z"
    },
    "colab": {
     "base_uri": "https://localhost:8080/",
     "height": 175
    },
    "executionInfo": {
     "elapsed": 424,
     "status": "ok",
     "timestamp": 1648709018984,
     "user": {
      "displayName": "Pratama Suprayogi",
      "userId": "14884808246882934220"
     },
     "user_tz": -420
    },
    "id": "aa89fbe9-09f0-464a-8ee2-1af38022efcf",
    "outputId": "f006e1a9-5739-4219-866b-c95e9a67eea4",
    "slideshow": {
     "slide_type": "slide"
    }
   },
   "outputs": [],
   "source": [
    "# deskripsi untuk data kualitatif\n",
    "df_titanic.describe(include=['O']) "
   ]
  },
  {
   "cell_type": "code",
   "execution_count": null,
   "id": "fca25b2f-e410-43f9-a241-a536ac09f050",
   "metadata": {
    "ExecuteTime": {
     "end_time": "2023-08-21T10:50:08.178252Z",
     "start_time": "2023-08-21T10:50:08.162279Z"
    },
    "colab": {
     "base_uri": "https://localhost:8080/"
    },
    "executionInfo": {
     "elapsed": 1574,
     "status": "ok",
     "timestamp": 1648709878619,
     "user": {
      "displayName": "Pratama Suprayogi",
      "userId": "14884808246882934220"
     },
     "user_tz": -420
    },
    "id": "fca25b2f-e410-43f9-a241-a536ac09f050",
    "outputId": "00803ed9-8a9b-4ded-a102-68d05ed883f7",
    "slideshow": {
     "slide_type": "slide"
    }
   },
   "outputs": [],
   "source": [
    "# kita ingin melihat bearapa banyak data yang kosong\n",
    "df_titanic.isna().sum()"
   ]
  },
  {
   "cell_type": "code",
   "execution_count": null,
   "id": "3e388ea9-96f8-4953-9ea9-abc5dd1f575d",
   "metadata": {
    "ExecuteTime": {
     "end_time": "2023-08-21T10:50:08.194398Z",
     "start_time": "2023-08-21T10:50:08.178252Z"
    },
    "colab": {
     "base_uri": "https://localhost:8080/"
    },
    "executionInfo": {
     "elapsed": 552,
     "status": "ok",
     "timestamp": 1648709887345,
     "user": {
      "displayName": "Pratama Suprayogi",
      "userId": "14884808246882934220"
     },
     "user_tz": -420
    },
    "id": "3e388ea9-96f8-4953-9ea9-abc5dd1f575d",
    "outputId": "ca1071e0-86f1-4335-df4c-9da3f6105139",
    "slideshow": {
     "slide_type": "slide"
    }
   },
   "outputs": [],
   "source": [
    "# kita juga bisa melihat sebaran atas unique value dari suatu kolom\n",
    "df_titanic['Survived'].value_counts()"
   ]
  },
  {
   "cell_type": "code",
   "execution_count": null,
   "id": "cd0f787f-16c8-4ab1-806c-e3437f18334f",
   "metadata": {
    "ExecuteTime": {
     "end_time": "2023-08-21T15:23:25.810372Z",
     "start_time": "2023-08-21T15:23:25.779360Z"
    },
    "colab": {
     "base_uri": "https://localhost:8080/"
    },
    "executionInfo": {
     "elapsed": 433,
     "status": "ok",
     "timestamp": 1648709897929,
     "user": {
      "displayName": "Pratama Suprayogi",
      "userId": "14884808246882934220"
     },
     "user_tz": -420
    },
    "id": "cd0f787f-16c8-4ab1-806c-e3437f18334f",
    "outputId": "6a727a1c-2c99-43b8-a227-67f4e49c7127",
    "slideshow": {
     "slide_type": "slide"
    }
   },
   "outputs": [],
   "source": [
    "# mengetahui jumlah data unique dari suatu fitur dengan .nunique()\n",
    "print(df_titanic['Pclass'].unique())\n",
    "print(df_titanic['Pclass'].nunique())"
   ]
  },
  {
   "cell_type": "markdown",
   "id": "76ac4527-5075-4168-8700-d93d96b7f23f",
   "metadata": {
    "id": "76ac4527-5075-4168-8700-d93d96b7f23f",
    "slideshow": {
     "slide_type": "slide"
    }
   },
   "source": [
    "## Data Selection"
   ]
  },
  {
   "cell_type": "markdown",
   "id": "dc601b1e-5c19-4820-a452-06b792ad4ab4",
   "metadata": {
    "id": "dc601b1e-5c19-4820-a452-06b792ad4ab4",
    "slideshow": {
     "slide_type": "slide"
    }
   },
   "source": [
    "### Mengambil sebagian kolom"
   ]
  },
  {
   "cell_type": "code",
   "execution_count": null,
   "id": "0857342a-1449-481a-ba1b-505136bc1a23",
   "metadata": {
    "ExecuteTime": {
     "end_time": "2023-08-21T15:23:49.981936Z",
     "start_time": "2023-08-21T15:23:49.951019Z"
    },
    "colab": {
     "base_uri": "https://localhost:8080/"
    },
    "executionInfo": {
     "elapsed": 1430,
     "status": "ok",
     "timestamp": 1648709923041,
     "user": {
      "displayName": "Pratama Suprayogi",
      "userId": "14884808246882934220"
     },
     "user_tz": -420
    },
    "id": "0857342a-1449-481a-ba1b-505136bc1a23",
    "outputId": "f2695d5e-50df-4f94-cd5f-20a3b567c635"
   },
   "outputs": [],
   "source": [
    "#kita bisa menuliskan nama kolom menggunakan df['nama_kolom']\n",
    "print(type(df_titanic['Name']))\n",
    "df_titanic['Name'].head()"
   ]
  },
  {
   "cell_type": "code",
   "execution_count": null,
   "id": "cb3bf594-39b6-4560-8371-ce16d3f702eb",
   "metadata": {
    "ExecuteTime": {
     "end_time": "2023-08-21T10:50:08.242123Z",
     "start_time": "2023-08-21T10:50:08.226771Z"
    },
    "colab": {
     "base_uri": "https://localhost:8080/"
    },
    "executionInfo": {
     "elapsed": 754,
     "status": "ok",
     "timestamp": 1648709927705,
     "user": {
      "displayName": "Pratama Suprayogi",
      "userId": "14884808246882934220"
     },
     "user_tz": -420
    },
    "id": "cb3bf594-39b6-4560-8371-ce16d3f702eb",
    "outputId": "9ec7c34f-f966-4ee9-e730-d9f0a7ba0f3e",
    "slideshow": {
     "slide_type": "slide"
    }
   },
   "outputs": [],
   "source": [
    "#cara lainnya\n",
    "df_titanic.Name.head()"
   ]
  },
  {
   "cell_type": "code",
   "execution_count": null,
   "id": "459f72cc-40e3-4794-9cbc-8e4b406aa1a5",
   "metadata": {
    "ExecuteTime": {
     "end_time": "2023-08-21T10:50:08.257801Z",
     "start_time": "2023-08-21T10:50:08.242123Z"
    },
    "colab": {
     "base_uri": "https://localhost:8080/",
     "height": 424
    },
    "executionInfo": {
     "elapsed": 416,
     "status": "ok",
     "timestamp": 1648709939251,
     "user": {
      "displayName": "Pratama Suprayogi",
      "userId": "14884808246882934220"
     },
     "user_tz": -420
    },
    "id": "459f72cc-40e3-4794-9cbc-8e4b406aa1a5",
    "outputId": "855055f4-7fb6-4106-9b83-924c71b8448c",
    "slideshow": {
     "slide_type": "slide"
    }
   },
   "outputs": [],
   "source": [
    "#mengambil lebih dari 1 kolom\n",
    "df_titanic[['Name','Sex','Survived']].head()"
   ]
  },
  {
   "cell_type": "markdown",
   "id": "d51f167b-1ddf-49f0-a326-b4104426a8c9",
   "metadata": {
    "id": "d51f167b-1ddf-49f0-a326-b4104426a8c9",
    "slideshow": {
     "slide_type": "slide"
    }
   },
   "source": [
    "### Mengambil sebagian baris"
   ]
  },
  {
   "cell_type": "code",
   "execution_count": null,
   "id": "1e487d0e-fb25-4fc6-83a5-17470c1bf791",
   "metadata": {
    "ExecuteTime": {
     "end_time": "2023-08-21T10:50:08.273424Z",
     "start_time": "2023-08-21T10:50:08.257801Z"
    },
    "colab": {
     "base_uri": "https://localhost:8080/",
     "height": 288
    },
    "executionInfo": {
     "elapsed": 419,
     "status": "ok",
     "timestamp": 1648709967667,
     "user": {
      "displayName": "Pratama Suprayogi",
      "userId": "14884808246882934220"
     },
     "user_tz": -420
    },
    "id": "1e487d0e-fb25-4fc6-83a5-17470c1bf791",
    "outputId": "c45b4557-c6d5-432c-ae90-a302a616b5b1"
   },
   "outputs": [],
   "source": [
    "# top 4\n",
    "df_titanic[:4]"
   ]
  },
  {
   "cell_type": "code",
   "execution_count": null,
   "id": "397581f9-4a9c-4e45-863c-1c23fd712673",
   "metadata": {
    "ExecuteTime": {
     "end_time": "2023-08-21T10:50:08.289100Z",
     "start_time": "2023-08-21T10:50:08.273424Z"
    },
    "colab": {
     "base_uri": "https://localhost:8080/",
     "height": 236
    },
    "executionInfo": {
     "elapsed": 424,
     "status": "ok",
     "timestamp": 1648709981738,
     "user": {
      "displayName": "Pratama Suprayogi",
      "userId": "14884808246882934220"
     },
     "user_tz": -420
    },
    "id": "397581f9-4a9c-4e45-863c-1c23fd712673",
    "outputId": "65edf69d-2a50-436c-bf54-07b3620cca2c",
    "scrolled": true,
    "slideshow": {
     "slide_type": "slide"
    }
   },
   "outputs": [],
   "source": [
    "# last 4\n",
    "df_titanic[-4:]"
   ]
  },
  {
   "cell_type": "markdown",
   "id": "3db45008-59af-4976-a47f-31fd85cb692b",
   "metadata": {
    "id": "3db45008-59af-4976-a47f-31fd85cb692b",
    "slideshow": {
     "slide_type": "slide"
    }
   },
   "source": [
    "### Mengambil sebagian baris dan sebagian kolom"
   ]
  },
  {
   "cell_type": "code",
   "execution_count": null,
   "id": "958bce0e-780e-47d6-b1de-c6ea21b5e2d8",
   "metadata": {
    "ExecuteTime": {
     "end_time": "2023-08-21T10:50:08.305164Z",
     "start_time": "2023-08-21T10:50:08.289100Z"
    },
    "colab": {
     "base_uri": "https://localhost:8080/",
     "height": 206
    },
    "executionInfo": {
     "elapsed": 429,
     "status": "ok",
     "timestamp": 1648709995416,
     "user": {
      "displayName": "Pratama Suprayogi",
      "userId": "14884808246882934220"
     },
     "user_tz": -420
    },
    "id": "958bce0e-780e-47d6-b1de-c6ea21b5e2d8",
    "outputId": "691f064f-2415-4eb6-baae-d0ff2a37d4f7"
   },
   "outputs": [],
   "source": [
    "df_titanic[['Name','Sex','Survived']][:5]"
   ]
  },
  {
   "cell_type": "markdown",
   "id": "2fbbbac6",
   "metadata": {
    "id": "7f541b88-7520-443d-910f-ad75057f342c",
    "slideshow": {
     "slide_type": "slide"
    }
   },
   "source": [
    "### Subset data dengan .Loc() dan .Iloc()"
   ]
  },
  {
   "cell_type": "markdown",
   "id": "4b75fdff",
   "metadata": {
    "id": "8d4ec717-f43f-4315-8431-6ee46b987c08",
    "slideshow": {
     "slide_type": "slide"
    }
   },
   "source": [
    "#### .loc"
   ]
  },
  {
   "cell_type": "markdown",
   "id": "54eedc11",
   "metadata": {
    "id": "be11d6c4-243a-43c4-a648-b3af26608e95"
   },
   "source": [
    "> Memilih baris atau kolom menggunakan **label index**\n",
    "\n",
    "```python\n",
    "dataframe1.loc[\"index_awal\":\"index_akhir\" (baris), \"nama_awal\":\"nama_akhir\" (kolom)]\n",
    "```"
   ]
  },
  {
   "cell_type": "code",
   "execution_count": null,
   "id": "c5d6cdbb",
   "metadata": {
    "ExecuteTime": {
     "end_time": "2023-08-21T10:50:08.321128Z",
     "start_time": "2023-08-21T10:50:08.306031Z"
    },
    "slideshow": {
     "slide_type": "slide"
    }
   },
   "outputs": [],
   "source": [
    "# index 4\n",
    "df_titanic.loc[4]"
   ]
  },
  {
   "cell_type": "code",
   "execution_count": null,
   "id": "62cfe53e",
   "metadata": {
    "ExecuteTime": {
     "end_time": "2023-08-21T10:50:08.337108Z",
     "start_time": "2023-08-21T10:50:08.321128Z"
    },
    "slideshow": {
     "slide_type": "slide"
    }
   },
   "outputs": [],
   "source": [
    "# index 4, kolom Name\n",
    "df_titanic.loc[4,\"Name\"]"
   ]
  },
  {
   "cell_type": "code",
   "execution_count": null,
   "id": "6e62f41c",
   "metadata": {
    "ExecuteTime": {
     "end_time": "2023-08-21T10:50:08.352887Z",
     "start_time": "2023-08-21T10:50:08.337108Z"
    },
    "colab": {
     "base_uri": "https://localhost:8080/",
     "height": 320
    },
    "executionInfo": {
     "elapsed": 419,
     "status": "ok",
     "timestamp": 1648711196983,
     "user": {
      "displayName": "Pratama Suprayogi",
      "userId": "14884808246882934220"
     },
     "user_tz": -420
    },
    "id": "804f41ac-495d-41ea-b344-f59905ca3bca",
    "outputId": "3e1db02e-c7fc-4f37-c3a9-8c85c8227d5a",
    "slideshow": {
     "slide_type": "slide"
    }
   },
   "outputs": [],
   "source": [
    "# kita akan coba mengakses sampai dengan index ke 4 (baris ke-5)\n",
    "df_titanic.loc[:4] \n",
    "# df_titanic[:5] # sama dengan "
   ]
  },
  {
   "cell_type": "code",
   "execution_count": null,
   "id": "a567e0b1",
   "metadata": {
    "ExecuteTime": {
     "end_time": "2023-08-21T10:50:08.368677Z",
     "start_time": "2023-08-21T10:50:08.353715Z"
    },
    "colab": {
     "base_uri": "https://localhost:8080/",
     "height": 206
    },
    "executionInfo": {
     "elapsed": 417,
     "status": "ok",
     "timestamp": 1648711178032,
     "user": {
      "displayName": "Pratama Suprayogi",
      "userId": "14884808246882934220"
     },
     "user_tz": -420
    },
    "id": "7c21a512-478a-4a68-900f-b991a28b4a2e",
    "outputId": "4715d74f-c998-40a1-9898-9695601c508e",
    "slideshow": {
     "slide_type": "slide"
    }
   },
   "outputs": [],
   "source": [
    "# kita akan coba mengakses index 1 sampai index ke 4 (baris ke-5) \n",
    "# mulai dari Kolom 'Pclass' sampai kolom 'Age'\n",
    "df_titanic.loc[1:4, 'Pclass':'Age']"
   ]
  },
  {
   "cell_type": "markdown",
   "id": "45040641",
   "metadata": {
    "id": "72ede3f0-43e3-4089-993b-04554484fca9",
    "slideshow": {
     "slide_type": "slide"
    }
   },
   "source": [
    "#### .iloc"
   ]
  },
  {
   "cell_type": "markdown",
   "id": "07d5cbea",
   "metadata": {
    "id": "6a27dd09-1bc1-4d2f-8762-8cb640ec6072"
   },
   "source": [
    "> Memilih baris atau kolom menggunakan index (integers).\n",
    "\n",
    "```python\n",
    "dataframe1.iloc[start:end (baris), start:end(kolom)]\n",
    "```"
   ]
  },
  {
   "cell_type": "code",
   "execution_count": null,
   "id": "c919c0ce",
   "metadata": {
    "ExecuteTime": {
     "end_time": "2023-08-21T15:28:39.260534Z",
     "start_time": "2023-08-21T15:28:39.229681Z"
    },
    "colab": {
     "base_uri": "https://localhost:8080/",
     "height": 206
    },
    "executionInfo": {
     "elapsed": 423,
     "status": "ok",
     "timestamp": 1648711223389,
     "user": {
      "displayName": "Pratama Suprayogi",
      "userId": "14884808246882934220"
     },
     "user_tz": -420
    },
    "id": "2c129960-e8a8-41c7-be6e-459f408f9ca7",
    "outputId": "b4b3b762-f677-409b-983f-9a831c329d62",
    "slideshow": {
     "slide_type": "slide"
    }
   },
   "outputs": [],
   "source": [
    "# mengakses baris index ke 0 sampai 4 dan kolom index 0 sampai 4\n",
    "df_titanic.iloc[0:5, 0:5]"
   ]
  },
  {
   "cell_type": "code",
   "execution_count": null,
   "id": "6eaca2bb",
   "metadata": {
    "ExecuteTime": {
     "end_time": "2023-08-21T10:50:08.400749Z",
     "start_time": "2023-08-21T10:50:08.385434Z"
    },
    "colab": {
     "base_uri": "https://localhost:8080/",
     "height": 175
    },
    "executionInfo": {
     "elapsed": 1130,
     "status": "ok",
     "timestamp": 1648711228662,
     "user": {
      "displayName": "Pratama Suprayogi",
      "userId": "14884808246882934220"
     },
     "user_tz": -420
    },
    "id": "101d666d-0296-4630-b0cb-ae503aee4851",
    "outputId": "e2c944e9-acb7-47c8-dc44-649ec0675b8b",
    "slideshow": {
     "slide_type": "slide"
    }
   },
   "outputs": [],
   "source": [
    "# mengakses baris index ke 3 sampai 6 dan kolom 1,4,3,2\n",
    "df_titanic.iloc[3:7, [0,3,2,1]]"
   ]
  },
  {
   "cell_type": "code",
   "execution_count": null,
   "id": "92bad4f4",
   "metadata": {
    "ExecuteTime": {
     "end_time": "2023-08-21T10:50:08.416843Z",
     "start_time": "2023-08-21T10:50:08.400749Z"
    },
    "slideshow": {
     "slide_type": "slide"
    }
   },
   "outputs": [],
   "source": [
    "# sampai index ke 9 tapi lompat 1 baris\n",
    "df_titanic.iloc[:10:2,:5]"
   ]
  },
  {
   "cell_type": "markdown",
   "id": "651585f4-4c33-44e5-8cf8-dca13a829b68",
   "metadata": {
    "id": "651585f4-4c33-44e5-8cf8-dca13a829b68",
    "slideshow": {
     "slide_type": "slide"
    }
   },
   "source": [
    "### Filtering data\n",
    "\n",
    "Cara pertama untuk melakukan filter adalah menggunakan ```conditional```.\n",
    "\n",
    "```python\n",
    "dataframe1[conditional]\n",
    "\n",
    "```\n",
    "\n",
    "Yang kedua menggunakan ```query```.\n",
    "\n",
    "```python\n",
    "df.query('20 < Age < 40')[:5]\n",
    "\n",
    "```"
   ]
  },
  {
   "cell_type": "markdown",
   "id": "4a7eab06-2dca-42e8-aba3-6d3db4b9ec8d",
   "metadata": {
    "id": "4a7eab06-2dca-42e8-aba3-6d3db4b9ec8d",
    "slideshow": {
     "slide_type": "slide"
    }
   },
   "source": [
    "#### Conditional"
   ]
  },
  {
   "cell_type": "code",
   "execution_count": null,
   "id": "cea26f0d-dcaa-4e3d-9502-04606e61cc1d",
   "metadata": {
    "ExecuteTime": {
     "end_time": "2023-08-21T10:50:08.432778Z",
     "start_time": "2023-08-21T10:50:08.417637Z"
    },
    "colab": {
     "base_uri": "https://localhost:8080/",
     "height": 572
    },
    "executionInfo": {
     "elapsed": 557,
     "status": "ok",
     "timestamp": 1648711257827,
     "user": {
      "displayName": "Pratama Suprayogi",
      "userId": "14884808246882934220"
     },
     "user_tz": -420
    },
    "id": "cea26f0d-dcaa-4e3d-9502-04606e61cc1d",
    "outputId": "4986b2b5-3984-474f-dc7e-6f971f8507ca"
   },
   "outputs": [],
   "source": [
    "# filter untuk penumpang berumur lebih dari sama dengan 22\n",
    "df_titanic[df_titanic[\"Age\"] >= 22].head(3)"
   ]
  },
  {
   "cell_type": "code",
   "execution_count": null,
   "id": "677fed80-cd3c-4971-b756-cd7b59c44f4f",
   "metadata": {
    "ExecuteTime": {
     "end_time": "2023-08-21T10:50:08.448513Z",
     "start_time": "2023-08-21T10:50:08.432778Z"
    },
    "colab": {
     "base_uri": "https://localhost:8080/",
     "height": 572
    },
    "executionInfo": {
     "elapsed": 421,
     "status": "ok",
     "timestamp": 1648711308516,
     "user": {
      "displayName": "Pratama Suprayogi",
      "userId": "14884808246882934220"
     },
     "user_tz": -420
    },
    "id": "677fed80-cd3c-4971-b756-cd7b59c44f4f",
    "outputId": "6c14fa83-fd06-43e4-af10-980f4296e3d6",
    "slideshow": {
     "slide_type": "slide"
    }
   },
   "outputs": [],
   "source": [
    "# filter untuk penumpang berjenis kelamin Male dan berumur lebih dari sama dengan 22\n",
    "df_titanic[(df_titanic[\"Age\"] >= 22) & (df_titanic[\"Sex\"] == \"male\")].head(3)"
   ]
  },
  {
   "cell_type": "code",
   "execution_count": null,
   "id": "013c0d70-3160-48ae-ab40-5c43571a5a61",
   "metadata": {
    "ExecuteTime": {
     "end_time": "2023-08-21T15:31:23.873843Z",
     "start_time": "2023-08-21T15:31:23.826916Z"
    },
    "colab": {
     "base_uri": "https://localhost:8080/",
     "height": 1000
    },
    "executionInfo": {
     "elapsed": 430,
     "status": "ok",
     "timestamp": 1648711823774,
     "user": {
      "displayName": "Pratama Suprayogi",
      "userId": "14884808246882934220"
     },
     "user_tz": -420
    },
    "id": "013c0d70-3160-48ae-ab40-5c43571a5a61",
    "outputId": "c62c8992-ac50-455a-cb9a-5d63db1bd4fc",
    "slideshow": {
     "slide_type": "slide"
    }
   },
   "outputs": [],
   "source": [
    "# filter penumpang dengan Embarked Q atau penumpang dengan Embarked S\n",
    "df_titanic[(df_titanic.Embarked == \"Q\") | (df_titanic.Embarked == \"S\")].head(5)"
   ]
  },
  {
   "cell_type": "markdown",
   "id": "18f814d1-1448-4f4a-95a3-e1bd02256c50",
   "metadata": {
    "id": "18f814d1-1448-4f4a-95a3-e1bd02256c50",
    "slideshow": {
     "slide_type": "slide"
    }
   },
   "source": [
    "#### Query"
   ]
  },
  {
   "cell_type": "code",
   "execution_count": null,
   "id": "233be737-4950-48d4-806f-fec55959a80d",
   "metadata": {
    "ExecuteTime": {
     "end_time": "2023-08-21T10:50:08.480432Z",
     "start_time": "2023-08-21T10:50:08.464429Z"
    },
    "colab": {
     "base_uri": "https://localhost:8080/",
     "height": 320
    },
    "executionInfo": {
     "elapsed": 2095,
     "status": "ok",
     "timestamp": 1648711471610,
     "user": {
      "displayName": "Pratama Suprayogi",
      "userId": "14884808246882934220"
     },
     "user_tz": -420
    },
    "id": "233be737-4950-48d4-806f-fec55959a80d",
    "outputId": "914cb388-23be-49be-d924-bbfc0a108bd1"
   },
   "outputs": [],
   "source": [
    "# kita akan mencoba mengambil Kolom Age \n",
    "# dimana nilai \"Age\" berada di antara 20 dan 40 tahun dan Embarked S\n",
    "df_titanic.query('20 < Age < 40 and Embarked == \"S\"')[:3]"
   ]
  },
  {
   "cell_type": "markdown",
   "id": "dbe01bc1-bb24-4c1c-8f4e-dabc50427cac",
   "metadata": {
    "id": "dbe01bc1-bb24-4c1c-8f4e-dabc50427cac",
    "slideshow": {
     "slide_type": "slide"
    }
   },
   "source": [
    "#### Latihan 2"
   ]
  },
  {
   "cell_type": "markdown",
   "id": "48a62b28-8862-4107-b993-550efe14ce87",
   "metadata": {
    "id": "48a62b28-8862-4107-b993-550efe14ce87",
    "slideshow": {
     "slide_type": "slide"
    }
   },
   "source": [
    "1. Ambil data dari titanic.csv dengan kriteria penumpang ```diatas 40 tahun``` dan berjenis kelamin ```Perempuan```"
   ]
  },
  {
   "cell_type": "code",
   "execution_count": null,
   "id": "733a1b24",
   "metadata": {
    "ExecuteTime": {
     "end_time": "2023-08-21T15:34:39.656586Z",
     "start_time": "2023-08-21T15:34:39.641951Z"
    },
    "scrolled": true,
    "slideshow": {
     "slide_type": "-"
    }
   },
   "outputs": [],
   "source": [
    "# jawab disini\n"
   ]
  },
  {
   "cell_type": "markdown",
   "id": "debf4b6f",
   "metadata": {
    "slideshow": {
     "slide_type": "slide"
    }
   },
   "source": [
    "2. Hitung penumpang dengan ```kelas = 1``` yang berhasil selamat ```Survived = 1```."
   ]
  },
  {
   "cell_type": "code",
   "execution_count": null,
   "id": "847c4772",
   "metadata": {
    "ExecuteTime": {
     "end_time": "2023-08-21T15:36:46.062576Z",
     "start_time": "2023-08-21T15:36:46.015016Z"
    }
   },
   "outputs": [],
   "source": [
    "# jawab disini\n"
   ]
  },
  {
   "cell_type": "markdown",
   "id": "d52711db",
   "metadata": {
    "slideshow": {
     "slide_type": "slide"
    }
   },
   "source": [
    "## Modifying Dataframe"
   ]
  },
  {
   "cell_type": "markdown",
   "id": "f371b583",
   "metadata": {
    "slideshow": {
     "slide_type": "slide"
    }
   },
   "source": [
    "### Menambahkan Kolom"
   ]
  },
  {
   "cell_type": "code",
   "execution_count": null,
   "id": "c12f7de3",
   "metadata": {
    "ExecuteTime": {
     "end_time": "2023-08-21T10:50:08.528310Z",
     "start_time": "2023-08-21T10:50:08.513203Z"
    }
   },
   "outputs": [],
   "source": [
    "df_titanic['Total'] = df_titanic['Fare'] * (df_titanic['SibSp'] + 1)\n",
    "df_titanic.head(3)"
   ]
  },
  {
   "cell_type": "markdown",
   "id": "041cce0a",
   "metadata": {
    "ExecuteTime": {
     "end_time": "2022-09-26T09:46:33.004865Z",
     "start_time": "2022-09-26T09:46:32.997315Z"
    },
    "slideshow": {
     "slide_type": "slide"
    }
   },
   "source": [
    "### Menambahkan Baris"
   ]
  },
  {
   "cell_type": "code",
   "execution_count": null,
   "id": "49bc9f27",
   "metadata": {
    "ExecuteTime": {
     "end_time": "2023-08-21T10:50:08.544421Z",
     "start_time": "2023-08-21T10:50:08.528310Z"
    }
   },
   "outputs": [],
   "source": [
    "# cek shape before\n",
    "print(\"Before\", df_titanic.shape)\n",
    "\n",
    "# add row duplicate last row\n",
    "df_titanic.loc[len(df_titanic)] = df_titanic.loc[len(df_titanic)-1]\n",
    "\n",
    "# show result\n",
    "print(\"After\", df_titanic.shape)\n",
    "df_titanic.tail(3)"
   ]
  },
  {
   "cell_type": "markdown",
   "id": "18d87c03",
   "metadata": {},
   "source": [
    "### Merubah Record"
   ]
  },
  {
   "cell_type": "code",
   "execution_count": null,
   "id": "69dfa0d5",
   "metadata": {
    "ExecuteTime": {
     "end_time": "2023-08-21T10:50:08.560304Z",
     "start_time": "2023-08-21T10:50:08.545484Z"
    }
   },
   "outputs": [],
   "source": [
    "df_titanic.loc[0,'Embarked'] = 'J'\n",
    "df_titanic.head()"
   ]
  },
  {
   "cell_type": "markdown",
   "id": "ab321c6b-245c-49b3-b362-67e5789c78a6",
   "metadata": {
    "id": "ab321c6b-245c-49b3-b362-67e5789c78a6",
    "slideshow": {
     "slide_type": "slide"
    }
   },
   "source": [
    "## Sorting Data\n",
    "\n",
    "> Mengurutkan data berdasarkan valuenya.\n",
    "\n",
    "Untuk melakukan sorting data pada DataFrame:\n",
    "1. Hanya satu kolom:\n",
    "```python\n",
    "DataFrame.sort_values(by='b', ascending=False)\n",
    "```\n",
    "2. Beberapa kolom:\n",
    "```python\n",
    "DataFrame.sort_values([\"b\", \"c\"], ascending = (False, True))\n",
    "```"
   ]
  },
  {
   "cell_type": "code",
   "execution_count": null,
   "id": "af83464c-9a7f-4aa2-b0a6-e31a1d63db31",
   "metadata": {
    "ExecuteTime": {
     "end_time": "2023-08-21T10:50:08.575935Z",
     "start_time": "2023-08-21T10:50:08.560304Z"
    },
    "colab": {
     "base_uri": "https://localhost:8080/",
     "height": 271
    },
    "executionInfo": {
     "elapsed": 401,
     "status": "ok",
     "timestamp": 1648711943988,
     "user": {
      "displayName": "Pratama Suprayogi",
      "userId": "14884808246882934220"
     },
     "user_tz": -420
    },
    "id": "af83464c-9a7f-4aa2-b0a6-e31a1d63db31",
    "outputId": "3ef082fd-de38-4b0f-df18-432c2273cf85",
    "slideshow": {
     "slide_type": "slide"
    }
   },
   "outputs": [],
   "source": [
    "# kita akan mencoba melakukan sorting pada kolom 'Age' secara Descending\n",
    "df_titanic.sort_values(by='Age', ascending = False).head()"
   ]
  },
  {
   "cell_type": "code",
   "execution_count": null,
   "id": "5ac628f2-0a28-49f9-824b-2506ab367a5f",
   "metadata": {
    "ExecuteTime": {
     "end_time": "2023-08-21T10:50:08.591672Z",
     "start_time": "2023-08-21T10:50:08.577775Z"
    },
    "colab": {
     "base_uri": "https://localhost:8080/",
     "height": 236
    },
    "executionInfo": {
     "elapsed": 424,
     "status": "ok",
     "timestamp": 1648711956368,
     "user": {
      "displayName": "Pratama Suprayogi",
      "userId": "14884808246882934220"
     },
     "user_tz": -420
    },
    "id": "5ac628f2-0a28-49f9-824b-2506ab367a5f",
    "outputId": "3e16de6e-1ee4-4641-bc34-be4eaf173a20",
    "slideshow": {
     "slide_type": "slide"
    }
   },
   "outputs": [],
   "source": [
    "# untuk dua atau lebih kolom\n",
    "df_titanic.sort_values(['Age','Pclass'], ascending = [False,True]).head()"
   ]
  },
  {
   "cell_type": "markdown",
   "id": "1ef9a851-0a88-41e5-b55a-aa3d85e6bef0",
   "metadata": {
    "id": "1ef9a851-0a88-41e5-b55a-aa3d85e6bef0",
    "slideshow": {
     "slide_type": "slide"
    }
   },
   "source": [
    "## Data Manipulation"
   ]
  },
  {
   "cell_type": "markdown",
   "id": "1591e074-bbb5-40c3-adae-8de96edc8e1c",
   "metadata": {
    "id": "1591e074-bbb5-40c3-adae-8de96edc8e1c",
    "slideshow": {
     "slide_type": "slide"
    }
   },
   "source": [
    "### Drop Row or Columns"
   ]
  },
  {
   "cell_type": "code",
   "execution_count": null,
   "id": "6183efd8-6207-47c6-aabc-c1ceea111897",
   "metadata": {
    "ExecuteTime": {
     "end_time": "2023-08-21T15:47:32.295172Z",
     "start_time": "2023-08-21T15:47:32.279449Z"
    },
    "id": "6183efd8-6207-47c6-aabc-c1ceea111897",
    "slideshow": {
     "slide_type": "slide"
    }
   },
   "outputs": [],
   "source": [
    "#agar data awal kita tidak rusak maka kita lakukan dengan mencopy df_titanic\n",
    "df_titanic_copy = df_titanic.copy()\n",
    "df_titanic_copy.head(3)"
   ]
  },
  {
   "cell_type": "code",
   "execution_count": null,
   "id": "c918b917",
   "metadata": {
    "ExecuteTime": {
     "end_time": "2023-08-21T15:47:37.889255Z",
     "start_time": "2023-08-21T15:47:37.857891Z"
    },
    "slideshow": {
     "slide_type": "slide"
    }
   },
   "outputs": [],
   "source": [
    "print(id(df_titanic))\n",
    "print(id(df_titanic_copy))"
   ]
  },
  {
   "cell_type": "markdown",
   "id": "ac965f2a-eec6-4a2f-96db-588c0fa93512",
   "metadata": {
    "id": "ac965f2a-eec6-4a2f-96db-588c0fa93512",
    "slideshow": {
     "slide_type": "slide"
    }
   },
   "source": [
    "#### Menghapus Kolom"
   ]
  },
  {
   "cell_type": "code",
   "execution_count": null,
   "id": "49eb7680-de1a-4e53-b83e-7ccf5b7e1830",
   "metadata": {
    "ExecuteTime": {
     "end_time": "2023-08-21T10:50:08.639133Z",
     "start_time": "2023-08-21T10:50:08.624533Z"
    },
    "colab": {
     "base_uri": "https://localhost:8080/",
     "height": 143
    },
    "executionInfo": {
     "elapsed": 533,
     "status": "ok",
     "timestamp": 1648712064429,
     "user": {
      "displayName": "Pratama Suprayogi",
      "userId": "14884808246882934220"
     },
     "user_tz": -420
    },
    "id": "49eb7680-de1a-4e53-b83e-7ccf5b7e1830",
    "outputId": "57216404-2a4b-4369-8c2c-7b7fd65d3c02",
    "slideshow": {
     "slide_type": "slide"
    }
   },
   "outputs": [],
   "source": [
    "# bagaimana jika kita ingin menghapus 2 kolom\n",
    "df_titanic_copy.drop(['Fare','Cabin'], axis = 1, inplace=True)\n",
    "df_titanic_copy.head(3)"
   ]
  },
  {
   "cell_type": "markdown",
   "id": "a7f7492a-0f8e-488c-9469-287bc28e1b5e",
   "metadata": {
    "id": "a7f7492a-0f8e-488c-9469-287bc28e1b5e",
    "slideshow": {
     "slide_type": "slide"
    }
   },
   "source": [
    "#### Menghapus Baris"
   ]
  },
  {
   "cell_type": "code",
   "execution_count": null,
   "id": "3c46ed8c-04e3-43c6-8100-ffcbac17c11f",
   "metadata": {
    "ExecuteTime": {
     "end_time": "2023-08-21T10:50:08.654862Z",
     "start_time": "2023-08-21T10:50:08.639133Z"
    },
    "colab": {
     "base_uri": "https://localhost:8080/",
     "height": 206
    },
    "executionInfo": {
     "elapsed": 423,
     "status": "ok",
     "timestamp": 1648712071559,
     "user": {
      "displayName": "Pratama Suprayogi",
      "userId": "14884808246882934220"
     },
     "user_tz": -420
    },
    "id": "3c46ed8c-04e3-43c6-8100-ffcbac17c11f",
    "outputId": "c6344da0-f2ca-4f36-e129-a8a759464b8c"
   },
   "outputs": [],
   "source": [
    "#menghapus row dengan index 2\n",
    "df_titanic_copy.drop(index = 2, inplace=True)\n",
    "# df_titanic_copy.drop(2, inplace=True)\n",
    "df_titanic_copy.head(3)"
   ]
  },
  {
   "cell_type": "code",
   "execution_count": null,
   "id": "dbda6b95-91e7-4e9a-8cc1-6d9f2b064ae9",
   "metadata": {
    "ExecuteTime": {
     "end_time": "2023-08-21T10:50:08.686108Z",
     "start_time": "2023-08-21T10:50:08.654862Z"
    },
    "colab": {
     "base_uri": "https://localhost:8080/",
     "height": 206
    },
    "executionInfo": {
     "elapsed": 880,
     "status": "ok",
     "timestamp": 1648712079909,
     "user": {
      "displayName": "Pratama Suprayogi",
      "userId": "14884808246882934220"
     },
     "user_tz": -420
    },
    "id": "dbda6b95-91e7-4e9a-8cc1-6d9f2b064ae9",
    "outputId": "923ef86c-d083-4cb7-d52c-c8f088386ae7",
    "slideshow": {
     "slide_type": "slide"
    }
   },
   "outputs": [],
   "source": [
    "#menghapus row dengan index 1 dan 4\n",
    "df_titanic_copy.drop(index=[1,4] , inplace=True)\n",
    "df_titanic_copy.head(3)"
   ]
  },
  {
   "cell_type": "code",
   "execution_count": null,
   "id": "7b366250-f9f7-4f9e-b1f3-6df6e5a8e55a",
   "metadata": {
    "ExecuteTime": {
     "end_time": "2023-08-21T10:50:08.701750Z",
     "start_time": "2023-08-21T10:50:08.686108Z"
    },
    "colab": {
     "base_uri": "https://localhost:8080/",
     "height": 206
    },
    "executionInfo": {
     "elapsed": 3,
     "status": "ok",
     "timestamp": 1648712084034,
     "user": {
      "displayName": "Pratama Suprayogi",
      "userId": "14884808246882934220"
     },
     "user_tz": -420
    },
    "id": "7b366250-f9f7-4f9e-b1f3-6df6e5a8e55a",
    "outputId": "e9814dc6-aa6d-40db-dd4f-03932629405e",
    "slideshow": {
     "slide_type": "slide"
    }
   },
   "outputs": [],
   "source": [
    "#jika kita ingin melakukan reset index maka kita bisa gunakan reset_index \n",
    "df_titanic_copy.reset_index(drop=True, inplace=True)\n",
    "df_titanic_copy.head()"
   ]
  },
  {
   "cell_type": "code",
   "execution_count": null,
   "id": "c4eeb60d-9b65-4498-a8a3-cee77e12a07e",
   "metadata": {
    "ExecuteTime": {
     "end_time": "2023-08-21T15:47:52.147165Z",
     "start_time": "2023-08-21T15:47:52.115473Z"
    },
    "id": "c4eeb60d-9b65-4498-a8a3-cee77e12a07e",
    "slideshow": {
     "slide_type": "slide"
    }
   },
   "outputs": [],
   "source": [
    "#jika kita ingin menghapus baris berdasarkan isinya\n",
    "#misal kita ingin menghapus yang berumur kurang dari 22 tahun\n",
    "#1. kita bisa menggunakna Filtering\n",
    "df_titanic_copy = df_titanic_copy[df_titanic_copy[\"Age\"] > 22]\n",
    "df_titanic_copy.head()"
   ]
  },
  {
   "cell_type": "code",
   "execution_count": null,
   "id": "53c6e302",
   "metadata": {
    "ExecuteTime": {
     "end_time": "2023-08-21T15:48:00.887012Z",
     "start_time": "2023-08-21T15:48:00.868403Z"
    },
    "slideshow": {
     "slide_type": "slide"
    }
   },
   "outputs": [],
   "source": [
    "df_titanic_copy[df_titanic_copy[\"Age\"] < 40]"
   ]
  },
  {
   "cell_type": "markdown",
   "id": "16211120-aaaf-4542-a2d2-435e73708095",
   "metadata": {
    "id": "16211120-aaaf-4542-a2d2-435e73708095",
    "slideshow": {
     "slide_type": "slide"
    }
   },
   "source": [
    "### Missing Values"
   ]
  },
  {
   "cell_type": "code",
   "execution_count": null,
   "id": "7de34424-3471-4e5c-b207-bdb5df32d288",
   "metadata": {
    "ExecuteTime": {
     "end_time": "2023-08-21T10:50:08.749030Z",
     "start_time": "2023-08-21T10:50:08.733298Z"
    },
    "id": "7de34424-3471-4e5c-b207-bdb5df32d288"
   },
   "outputs": [],
   "source": [
    "#kita copy dlu data df_titanic agar aman\n",
    "df_titanic_missing = df_titanic.copy()"
   ]
  },
  {
   "cell_type": "code",
   "execution_count": null,
   "id": "af6ad52e-3db3-4ad1-821e-35ec6de75959",
   "metadata": {
    "ExecuteTime": {
     "end_time": "2023-08-21T10:50:08.764953Z",
     "start_time": "2023-08-21T10:50:08.750345Z"
    },
    "id": "af6ad52e-3db3-4ad1-821e-35ec6de75959",
    "outputId": "665e66eb-1e91-4ee5-b318-1513b0e6fcb1",
    "slideshow": {
     "slide_type": "slide"
    }
   },
   "outputs": [],
   "source": [
    "#untuk melakukan pengecekan apakah ada missing Value dalam dataset kita maka kita dapat menggunakan (isna/isnull)\n",
    "df_titanic_missing.isnull().sum()"
   ]
  },
  {
   "cell_type": "code",
   "execution_count": null,
   "id": "6c7c0849",
   "metadata": {
    "ExecuteTime": {
     "end_time": "2023-08-21T10:50:08.780710Z",
     "start_time": "2023-08-21T10:50:08.765665Z"
    },
    "slideshow": {
     "slide_type": "slide"
    }
   },
   "outputs": [],
   "source": [
    "df_titanic_missing.shape"
   ]
  },
  {
   "cell_type": "markdown",
   "id": "21237008-7178-4591-ba23-9b8b7106d27d",
   "metadata": {
    "id": "21237008-7178-4591-ba23-9b8b7106d27d",
    "slideshow": {
     "slide_type": "slide"
    }
   },
   "source": [
    "#### Clean Missing Values"
   ]
  },
  {
   "cell_type": "code",
   "execution_count": null,
   "id": "0c818b47",
   "metadata": {
    "ExecuteTime": {
     "end_time": "2023-08-21T15:48:44.481086Z",
     "start_time": "2023-08-21T15:48:44.450451Z"
    }
   },
   "outputs": [],
   "source": [
    "#menghapus baris\n",
    "# how=\"any\" artinya kalau ada 1 saja nilai NA, maka baris itu akan dihapus\n",
    "# how=\"all\" artinya dalam 1 baris seluruhnya NA, maka baris itu akan dihapus\n",
    "df_titanic_missing.dropna(how=\"all\", inplace=True)\n",
    "df_titanic_missing.shape"
   ]
  },
  {
   "cell_type": "code",
   "execution_count": null,
   "id": "82809ccb",
   "metadata": {
    "ExecuteTime": {
     "end_time": "2023-08-21T10:50:08.820678Z",
     "start_time": "2023-08-21T10:50:08.800111Z"
    },
    "slideshow": {
     "slide_type": "slide"
    }
   },
   "outputs": [],
   "source": [
    "df_titanic_missing.isna().sum()"
   ]
  },
  {
   "cell_type": "code",
   "execution_count": null,
   "id": "257580e9-5f92-4cf2-ac5d-25c0a9e06c03",
   "metadata": {
    "ExecuteTime": {
     "end_time": "2023-08-21T10:50:08.836117Z",
     "start_time": "2023-08-21T10:50:08.823156Z"
    },
    "id": "257580e9-5f92-4cf2-ac5d-25c0a9e06c03",
    "outputId": "a9d936ae-7561-4893-9cbc-f5782a2bc915",
    "slideshow": {
     "slide_type": "slide"
    }
   },
   "outputs": [],
   "source": [
    "#kita dapat menghapus seluruh baris nilai NA dengan dropna\n",
    "df_titanic_missing.dropna(inplace=True)\n",
    "# df_titanic_missing.dropna(how=\"any\", inplace=True)\n",
    "df_titanic_missing.shape"
   ]
  },
  {
   "cell_type": "code",
   "execution_count": null,
   "id": "27835a0c",
   "metadata": {
    "ExecuteTime": {
     "end_time": "2023-08-21T10:50:08.852086Z",
     "start_time": "2023-08-21T10:50:08.836670Z"
    },
    "slideshow": {
     "slide_type": "slide"
    }
   },
   "outputs": [],
   "source": [
    "df_titanic_missing.isnull().sum()"
   ]
  },
  {
   "cell_type": "markdown",
   "id": "0dec895c-8fca-4249-8500-459983306f0f",
   "metadata": {
    "id": "0dec895c-8fca-4249-8500-459983306f0f",
    "slideshow": {
     "slide_type": "slide"
    }
   },
   "source": [
    "#### Imputed Missing Values"
   ]
  },
  {
   "cell_type": "code",
   "execution_count": null,
   "id": "4fba154b",
   "metadata": {
    "ExecuteTime": {
     "end_time": "2023-08-21T10:50:08.867811Z",
     "start_time": "2023-08-21T10:50:08.852086Z"
    },
    "id": "7de34424-3471-4e5c-b207-bdb5df32d288",
    "slideshow": {
     "slide_type": "slide"
    }
   },
   "outputs": [],
   "source": [
    "#kita copy dlu data df_titanic agar aman\n",
    "df_titanic_missing = df_titanic.copy()\n",
    "df_titanic_missing.isna().sum()"
   ]
  },
  {
   "cell_type": "code",
   "execution_count": null,
   "id": "a5fb89cc-5cb3-4a32-8287-9f9ceb03cc99",
   "metadata": {
    "ExecuteTime": {
     "end_time": "2023-08-21T10:50:08.883883Z",
     "start_time": "2023-08-21T10:50:08.868430Z"
    },
    "id": "a5fb89cc-5cb3-4a32-8287-9f9ceb03cc99",
    "outputId": "f2669d7e-9008-4d59-e38b-fcbcd5a581ff",
    "slideshow": {
     "slide_type": "slide"
    }
   },
   "outputs": [],
   "source": [
    "#terdapat 3 kolom yang memiliki missing value yaitu age, Cabin dan Embarked\n",
    "df_titanic_missing['Age'] = df_titanic_missing['Age'].fillna(df_titanic_missing['Age'].median())\n",
    "# bisa diisi nilai lain misal mean atau modus\n",
    "df_titanic_missing.isna().sum()"
   ]
  },
  {
   "cell_type": "code",
   "execution_count": null,
   "id": "b5cc2b5c-2958-4a22-9099-c9aad27b50ad",
   "metadata": {
    "ExecuteTime": {
     "end_time": "2023-08-21T10:50:08.899735Z",
     "start_time": "2023-08-21T10:50:08.884477Z"
    },
    "id": "b5cc2b5c-2958-4a22-9099-c9aad27b50ad",
    "outputId": "3852f164-153e-43cf-e0be-031ba364c951",
    "slideshow": {
     "slide_type": "slide"
    }
   },
   "outputs": [],
   "source": [
    "#untuk data Cabin karena categorical maka mari kita isikan data null dengan kosong\n",
    "df_titanic_missing['Cabin'] = df_titanic_missing['Cabin'].fillna(\"kosong\")\n",
    "df_titanic_missing.isna().sum()"
   ]
  },
  {
   "cell_type": "code",
   "execution_count": null,
   "id": "95115ab7",
   "metadata": {
    "ExecuteTime": {
     "end_time": "2023-08-21T10:50:08.915775Z",
     "start_time": "2023-08-21T10:50:08.900662Z"
    },
    "slideshow": {
     "slide_type": "slide"
    }
   },
   "outputs": [],
   "source": [
    "df_titanic_missing['Cabin'].value_counts()"
   ]
  },
  {
   "cell_type": "code",
   "execution_count": null,
   "id": "1dcc6c05-718a-452f-95be-086e6432b360",
   "metadata": {
    "ExecuteTime": {
     "end_time": "2023-08-21T10:50:08.932000Z",
     "start_time": "2023-08-21T10:50:08.915775Z"
    },
    "id": "1dcc6c05-718a-452f-95be-086e6432b360",
    "outputId": "bd406ba8-630d-4ae2-ac20-11dfde18f66b",
    "slideshow": {
     "slide_type": "slide"
    }
   },
   "outputs": [],
   "source": [
    "#data embarked adalah data kategorikal, mari kita coba untuk isikan dengan nilai terbanyak\n",
    "#kita cari tau dulu data apa terbanyak\n",
    "df_titanic_missing['Embarked'].value_counts()"
   ]
  },
  {
   "cell_type": "code",
   "execution_count": null,
   "id": "0a84d21b-dc04-4b63-8826-e5c4ef76598c",
   "metadata": {
    "ExecuteTime": {
     "end_time": "2023-08-21T10:50:08.947730Z",
     "start_time": "2023-08-21T10:50:08.932000Z"
    },
    "id": "0a84d21b-dc04-4b63-8826-e5c4ef76598c",
    "outputId": "211d6eed-42ce-4ac9-c291-255dac396ebe",
    "slideshow": {
     "slide_type": "slide"
    }
   },
   "outputs": [],
   "source": [
    "#karena S adalah yang terbanyak maka kita bisa isikan data kosong dengan S\n",
    "df_titanic_missing['Embarked'] = df_titanic_missing['Embarked'].fillna(\"S\")\n",
    "df_titanic_missing.isna().sum()"
   ]
  },
  {
   "cell_type": "markdown",
   "id": "75c6b3ee-f4ce-4793-8e34-4f418f23a7af",
   "metadata": {
    "id": "75c6b3ee-f4ce-4793-8e34-4f418f23a7af",
    "slideshow": {
     "slide_type": "slide"
    }
   },
   "source": [
    "### Duplicated Data"
   ]
  },
  {
   "cell_type": "code",
   "execution_count": null,
   "id": "bac1310b",
   "metadata": {
    "ExecuteTime": {
     "end_time": "2023-08-21T10:50:08.963359Z",
     "start_time": "2023-08-21T10:50:08.947730Z"
    },
    "id": "4ef7c8a0-1786-4d25-ae91-20f6a2bfcfde",
    "outputId": "8624425b-b998-47f1-d31a-0500efc7d71c"
   },
   "outputs": [],
   "source": [
    "# mengecek duplikasi row data\n",
    "df_titanic.duplicated().sum()\n",
    "#jika ada data duplicated kita bisa hapus dengan drop_duplicates"
   ]
  },
  {
   "cell_type": "code",
   "execution_count": null,
   "id": "c16d2e0d",
   "metadata": {
    "ExecuteTime": {
     "end_time": "2023-08-21T10:50:08.978974Z",
     "start_time": "2023-08-21T10:50:08.963359Z"
    },
    "slideshow": {
     "slide_type": "slide"
    }
   },
   "outputs": [],
   "source": [
    "df_titanic.tail()"
   ]
  },
  {
   "cell_type": "code",
   "execution_count": null,
   "id": "39b54c9e",
   "metadata": {
    "ExecuteTime": {
     "end_time": "2023-08-21T10:50:08.994609Z",
     "start_time": "2023-08-21T10:50:08.978974Z"
    },
    "slideshow": {
     "slide_type": "slide"
    }
   },
   "outputs": [],
   "source": [
    "df_titanic.drop_duplicates(keep='last', inplace=True, ignore_index=True)\n",
    "# ignore_index : if True, the resulting axis will be labeled 0, 1, …, n - 1\n",
    "# kalau duplicate di kolom nama maka subset=['Name']\n",
    "df_titanic.tail()"
   ]
  },
  {
   "cell_type": "code",
   "execution_count": null,
   "id": "455a5562-fd21-4dae-9526-9710c6d644d1",
   "metadata": {
    "ExecuteTime": {
     "end_time": "2023-08-21T10:50:09.010466Z",
     "start_time": "2023-08-21T10:50:08.994609Z"
    },
    "id": "455a5562-fd21-4dae-9526-9710c6d644d1",
    "outputId": "6027b712-9cdb-42a4-9162-37968f3cea24",
    "slideshow": {
     "slide_type": "slide"
    }
   },
   "outputs": [],
   "source": [
    "# mengecek duplikasi tiap kolom\n",
    "print(df_titanic[\"Ticket\"].duplicated().sum())\n",
    "\n",
    "df_titanic[df_titanic[\"Ticket\"].duplicated()].sort_values(\"Ticket\").head()"
   ]
  },
  {
   "cell_type": "markdown",
   "id": "93bbe242-f063-42d8-a62c-bdfbef5aec7c",
   "metadata": {
    "id": "93bbe242-f063-42d8-a62c-bdfbef5aec7c",
    "slideshow": {
     "slide_type": "slide"
    }
   },
   "source": [
    "##  Write Data\n",
    "\n",
    "Untuk menyimpan dataframe dapat menggunakan beberapa fungsi berikut:\n",
    "\n",
    "```python\n",
    "dataframe.to_csv()\n",
    "dataframe.to_excel()\n",
    "```"
   ]
  },
  {
   "cell_type": "code",
   "execution_count": null,
   "id": "4e7d64b9-fe92-4bd0-8431-6a33d7544c22",
   "metadata": {
    "ExecuteTime": {
     "end_time": "2023-08-21T10:50:09.216201Z",
     "start_time": "2023-08-21T10:50:09.010466Z"
    },
    "id": "4e7d64b9-fe92-4bd0-8431-6a33d7544c22",
    "slideshow": {
     "slide_type": "slide"
    }
   },
   "outputs": [],
   "source": [
    "# skenario : df_titanic_missing yang datanya sudah bersih dari missing akan kita simpan untuk dimodelkan\n",
    "\n",
    "#CSV\n",
    "df_titanic_missing.to_csv('titanic_imputed.csv', sep=\"|\", index=False)\n",
    "\n",
    "#Excel\n",
    "df_titanic_missing.to_excel('titanic_imputed.xlsx',sheet_name='Sheet1',index=False)"
   ]
  },
  {
   "cell_type": "markdown",
   "id": "U8cYeq2Q-HFx",
   "metadata": {
    "id": "U8cYeq2Q-HFx",
    "slideshow": {
     "slide_type": "slide"
    }
   },
   "source": [
    "##  Menggabungkan Data"
   ]
  },
  {
   "cell_type": "markdown",
   "id": "sklGFKIF-KJ8",
   "metadata": {
    "id": "sklGFKIF-KJ8"
   },
   "source": [
    "> dalam mengolah data terkadang kita butuh menggabungkan data baik secara horizontal (merge) maupun vertikal (Concatenation)"
   ]
  },
  {
   "cell_type": "markdown",
   "id": "k9L8NFUb-PXz",
   "metadata": {
    "id": "k9L8NFUb-PXz",
    "slideshow": {
     "slide_type": "slide"
    }
   },
   "source": [
    "### Concatenate\n",
    "<img src=\"https://static.javatpoint.com/tutorial/numpy/images/numpy-concatenate.png\">"
   ]
  },
  {
   "cell_type": "code",
   "execution_count": null,
   "id": "Urf8UxBo-WAB",
   "metadata": {
    "ExecuteTime": {
     "end_time": "2023-08-21T10:50:09.232071Z",
     "start_time": "2023-08-21T10:50:09.216201Z"
    },
    "colab": {
     "base_uri": "https://localhost:8080/"
    },
    "executionInfo": {
     "elapsed": 400,
     "status": "ok",
     "timestamp": 1648713376436,
     "user": {
      "displayName": "Fransiskus Indra Pratama",
      "userId": "02733887561050835608"
     },
     "user_tz": -420
    },
    "id": "Urf8UxBo-WAB",
    "outputId": "25e1624c-c2af-4b48-9573-99698dd4959b",
    "slideshow": {
     "slide_type": "slide"
    }
   },
   "outputs": [],
   "source": [
    "#kita coba membuat 2 buah series\n",
    "ser1 = pd.Series(['A', 'B', 'C'], index=[1, 2, 3])\n",
    "print(ser1)"
   ]
  },
  {
   "cell_type": "code",
   "execution_count": null,
   "id": "36d6dd5b",
   "metadata": {
    "ExecuteTime": {
     "end_time": "2023-08-21T10:50:09.248112Z",
     "start_time": "2023-08-21T10:50:09.233118Z"
    },
    "slideshow": {
     "slide_type": "slide"
    }
   },
   "outputs": [],
   "source": [
    "ser2 = pd.Series(['D', 'E', 'F'], index=[4, 5, 6])\n",
    "print(ser2)"
   ]
  },
  {
   "cell_type": "code",
   "execution_count": null,
   "id": "b52d5584",
   "metadata": {
    "ExecuteTime": {
     "end_time": "2023-08-21T10:50:09.263854Z",
     "start_time": "2023-08-21T10:50:09.248112Z"
    },
    "slideshow": {
     "slide_type": "slide"
    }
   },
   "outputs": [],
   "source": [
    "pd.concat([ser1, ser2])"
   ]
  },
  {
   "cell_type": "markdown",
   "id": "4qySpcxx-cPZ",
   "metadata": {
    "id": "4qySpcxx-cPZ",
    "slideshow": {
     "slide_type": "slide"
    }
   },
   "source": [
    "> diatas tadi sengaja dibuat seriesnya berurut kalo sama bagaimana?"
   ]
  },
  {
   "cell_type": "code",
   "execution_count": 26,
   "id": "NoFIN98w-d2F",
   "metadata": {
    "ExecuteTime": {
     "end_time": "2023-08-21T10:50:09.279462Z",
     "start_time": "2023-08-21T10:50:09.263854Z"
    },
    "colab": {
     "base_uri": "https://localhost:8080/"
    },
    "executionInfo": {
     "elapsed": 348,
     "status": "ok",
     "timestamp": 1648713404452,
     "user": {
      "displayName": "Fransiskus Indra Pratama",
      "userId": "02733887561050835608"
     },
     "user_tz": -420
    },
    "id": "NoFIN98w-d2F",
    "outputId": "6eb477a2-e790-469f-f860-5ff78f736189",
    "slideshow": {
     "slide_type": "slide"
    }
   },
   "outputs": [
    {
     "data": {
      "text/plain": [
       "0    A\n",
       "1    B\n",
       "2    C\n",
       "0    D\n",
       "1    E\n",
       "2    F\n",
       "dtype: object"
      ]
     },
     "execution_count": 26,
     "metadata": {},
     "output_type": "execute_result"
    }
   ],
   "source": [
    "#kita coba membuat 2 buah series\n",
    "ser1 = pd.Series(['A', 'B', 'C'])\n",
    "ser2 = pd.Series(['D', 'E', 'F'])\n",
    "pd.concat([ser1, ser2])"
   ]
  },
  {
   "cell_type": "code",
   "execution_count": 27,
   "id": "lqkCM-eH-gqp",
   "metadata": {
    "ExecuteTime": {
     "end_time": "2023-08-21T10:50:09.295087Z",
     "start_time": "2023-08-21T10:50:09.279462Z"
    },
    "colab": {
     "base_uri": "https://localhost:8080/"
    },
    "executionInfo": {
     "elapsed": 445,
     "status": "ok",
     "timestamp": 1648713410184,
     "user": {
      "displayName": "Fransiskus Indra Pratama",
      "userId": "02733887561050835608"
     },
     "user_tz": -420
    },
    "id": "lqkCM-eH-gqp",
    "outputId": "9d2dc66b-f044-4621-fdb0-8da4e2814e3c",
    "slideshow": {
     "slide_type": "slide"
    }
   },
   "outputs": [
    {
     "data": {
      "text/plain": [
       "0    A\n",
       "1    B\n",
       "2    C\n",
       "3    D\n",
       "4    E\n",
       "5    F\n",
       "dtype: object"
      ]
     },
     "execution_count": 27,
     "metadata": {},
     "output_type": "execute_result"
    }
   ],
   "source": [
    "#ketika indexnya sama maka indexnya akan berulang\n",
    "#untuk mengatasinya kita bisa menambahkan ignore_index=True atau setelah jadi df dilakukan reset_index()\n",
    "df = pd.concat([ser1, ser2], ignore_index=True)\n",
    "df"
   ]
  },
  {
   "cell_type": "code",
   "execution_count": 28,
   "id": "HJKxtyZk-iKO",
   "metadata": {
    "ExecuteTime": {
     "end_time": "2023-08-21T10:50:09.310670Z",
     "start_time": "2023-08-21T10:50:09.295087Z"
    },
    "colab": {
     "base_uri": "https://localhost:8080/"
    },
    "executionInfo": {
     "elapsed": 402,
     "status": "ok",
     "timestamp": 1648713416174,
     "user": {
      "displayName": "Fransiskus Indra Pratama",
      "userId": "02733887561050835608"
     },
     "user_tz": -420
    },
    "id": "HJKxtyZk-iKO",
    "outputId": "643a5c7a-6e5f-476b-f05c-51659783b5a4",
    "slideshow": {
     "slide_type": "slide"
    }
   },
   "outputs": [
    {
     "data": {
      "text/html": [
       "<div>\n",
       "<style scoped>\n",
       "    .dataframe tbody tr th:only-of-type {\n",
       "        vertical-align: middle;\n",
       "    }\n",
       "\n",
       "    .dataframe tbody tr th {\n",
       "        vertical-align: top;\n",
       "    }\n",
       "\n",
       "    .dataframe thead th {\n",
       "        text-align: right;\n",
       "    }\n",
       "</style>\n",
       "<table border=\"1\" class=\"dataframe\">\n",
       "  <thead>\n",
       "    <tr style=\"text-align: right;\">\n",
       "      <th></th>\n",
       "      <th>Nama</th>\n",
       "      <th>Jurusan</th>\n",
       "    </tr>\n",
       "  </thead>\n",
       "  <tbody>\n",
       "    <tr>\n",
       "      <th>0</th>\n",
       "      <td>Anton</td>\n",
       "      <td>Akuntansi</td>\n",
       "    </tr>\n",
       "    <tr>\n",
       "      <th>1</th>\n",
       "      <td>Budi</td>\n",
       "      <td>Tambang</td>\n",
       "    </tr>\n",
       "    <tr>\n",
       "      <th>2</th>\n",
       "      <td>Bambang</td>\n",
       "      <td>Bisnis</td>\n",
       "    </tr>\n",
       "  </tbody>\n",
       "</table>\n",
       "</div>"
      ],
      "text/plain": [
       "      Nama    Jurusan\n",
       "0    Anton  Akuntansi\n",
       "1     Budi    Tambang\n",
       "2  Bambang     Bisnis"
      ]
     },
     "metadata": {},
     "output_type": "display_data"
    },
    {
     "data": {
      "text/html": [
       "<div>\n",
       "<style scoped>\n",
       "    .dataframe tbody tr th:only-of-type {\n",
       "        vertical-align: middle;\n",
       "    }\n",
       "\n",
       "    .dataframe tbody tr th {\n",
       "        vertical-align: top;\n",
       "    }\n",
       "\n",
       "    .dataframe thead th {\n",
       "        text-align: right;\n",
       "    }\n",
       "</style>\n",
       "<table border=\"1\" class=\"dataframe\">\n",
       "  <thead>\n",
       "    <tr style=\"text-align: right;\">\n",
       "      <th></th>\n",
       "      <th>Nama</th>\n",
       "      <th>Jurusan</th>\n",
       "    </tr>\n",
       "  </thead>\n",
       "  <tbody>\n",
       "    <tr>\n",
       "      <th>0</th>\n",
       "      <td>Susilo</td>\n",
       "      <td>Pertanian</td>\n",
       "    </tr>\n",
       "    <tr>\n",
       "      <th>1</th>\n",
       "      <td>Sulastri</td>\n",
       "      <td>Akuntansi</td>\n",
       "    </tr>\n",
       "    <tr>\n",
       "      <th>2</th>\n",
       "      <td>Jane</td>\n",
       "      <td>Managemen</td>\n",
       "    </tr>\n",
       "    <tr>\n",
       "      <th>3</th>\n",
       "      <td>Samsul</td>\n",
       "      <td>Seni Rupa</td>\n",
       "    </tr>\n",
       "  </tbody>\n",
       "</table>\n",
       "</div>"
      ],
      "text/plain": [
       "       Nama    Jurusan\n",
       "0    Susilo  Pertanian\n",
       "1  Sulastri  Akuntansi\n",
       "2      Jane  Managemen\n",
       "3    Samsul  Seni Rupa"
      ]
     },
     "metadata": {},
     "output_type": "display_data"
    }
   ],
   "source": [
    "#kita buat 2 dataframe yang berisi nama mahasiswa dan jurusannya\n",
    "df1 = pd.DataFrame({'Nama': ['Anton', 'Budi', 'Bambang'],\n",
    "                    'Jurusan': ['Akuntansi', 'Tambang', 'Bisnis']})\n",
    "df2 = pd.DataFrame({'Nama': ['Susilo', 'Sulastri', 'Jane', 'Samsul'],\n",
    "                    'Jurusan': ['Pertanian', 'Akuntansi', 'Managemen', 'Seni Rupa']})\n",
    "display(df1)\n",
    "\n",
    "display(df2)"
   ]
  },
  {
   "cell_type": "code",
   "execution_count": 29,
   "id": "exVcwkYA-ji2",
   "metadata": {
    "ExecuteTime": {
     "end_time": "2023-08-21T10:50:09.326901Z",
     "start_time": "2023-08-21T10:50:09.310670Z"
    },
    "colab": {
     "base_uri": "https://localhost:8080/",
     "height": 269
    },
    "executionInfo": {
     "elapsed": 386,
     "status": "ok",
     "timestamp": 1648713435966,
     "user": {
      "displayName": "Fransiskus Indra Pratama",
      "userId": "02733887561050835608"
     },
     "user_tz": -420
    },
    "id": "exVcwkYA-ji2",
    "outputId": "551fd88d-f89e-4f65-de61-d72a8b4b21d6",
    "slideshow": {
     "slide_type": "slide"
    }
   },
   "outputs": [
    {
     "data": {
      "text/html": [
       "<div>\n",
       "<style scoped>\n",
       "    .dataframe tbody tr th:only-of-type {\n",
       "        vertical-align: middle;\n",
       "    }\n",
       "\n",
       "    .dataframe tbody tr th {\n",
       "        vertical-align: top;\n",
       "    }\n",
       "\n",
       "    .dataframe thead th {\n",
       "        text-align: right;\n",
       "    }\n",
       "</style>\n",
       "<table border=\"1\" class=\"dataframe\">\n",
       "  <thead>\n",
       "    <tr style=\"text-align: right;\">\n",
       "      <th></th>\n",
       "      <th>Nama</th>\n",
       "      <th>Jurusan</th>\n",
       "    </tr>\n",
       "  </thead>\n",
       "  <tbody>\n",
       "    <tr>\n",
       "      <th>0</th>\n",
       "      <td>Anton</td>\n",
       "      <td>Akuntansi</td>\n",
       "    </tr>\n",
       "    <tr>\n",
       "      <th>1</th>\n",
       "      <td>Budi</td>\n",
       "      <td>Tambang</td>\n",
       "    </tr>\n",
       "    <tr>\n",
       "      <th>2</th>\n",
       "      <td>Bambang</td>\n",
       "      <td>Bisnis</td>\n",
       "    </tr>\n",
       "    <tr>\n",
       "      <th>3</th>\n",
       "      <td>Susilo</td>\n",
       "      <td>Pertanian</td>\n",
       "    </tr>\n",
       "    <tr>\n",
       "      <th>4</th>\n",
       "      <td>Sulastri</td>\n",
       "      <td>Akuntansi</td>\n",
       "    </tr>\n",
       "    <tr>\n",
       "      <th>5</th>\n",
       "      <td>Jane</td>\n",
       "      <td>Managemen</td>\n",
       "    </tr>\n",
       "    <tr>\n",
       "      <th>6</th>\n",
       "      <td>Samsul</td>\n",
       "      <td>Seni Rupa</td>\n",
       "    </tr>\n",
       "  </tbody>\n",
       "</table>\n",
       "</div>"
      ],
      "text/plain": [
       "       Nama    Jurusan\n",
       "0     Anton  Akuntansi\n",
       "1      Budi    Tambang\n",
       "2   Bambang     Bisnis\n",
       "3    Susilo  Pertanian\n",
       "4  Sulastri  Akuntansi\n",
       "5      Jane  Managemen\n",
       "6    Samsul  Seni Rupa"
      ]
     },
     "execution_count": 29,
     "metadata": {},
     "output_type": "execute_result"
    }
   ],
   "source": [
    "pd.concat([df1, df2], ignore_index=True)"
   ]
  },
  {
   "cell_type": "markdown",
   "id": "gJaqztuGEB3Z",
   "metadata": {
    "id": "gJaqztuGEB3Z",
    "slideshow": {
     "slide_type": "slide"
    }
   },
   "source": [
    "> bagaimana kalo ada kolom yang di tabel berikutnya tidak ada. apakah masih bisa kita gabung?"
   ]
  },
  {
   "cell_type": "code",
   "execution_count": 30,
   "id": "eBVQJKMJABAL",
   "metadata": {
    "ExecuteTime": {
     "end_time": "2023-08-21T10:50:09.342571Z",
     "start_time": "2023-08-21T10:50:09.326901Z"
    },
    "colab": {
     "base_uri": "https://localhost:8080/"
    },
    "executionInfo": {
     "elapsed": 397,
     "status": "ok",
     "timestamp": 1648715426857,
     "user": {
      "displayName": "Fransiskus Indra Pratama",
      "userId": "02733887561050835608"
     },
     "user_tz": -420
    },
    "id": "eBVQJKMJABAL",
    "outputId": "3d9a2afe-b22d-47a7-d54b-3622a8a9f17b",
    "slideshow": {
     "slide_type": "slide"
    }
   },
   "outputs": [
    {
     "data": {
      "text/html": [
       "<div>\n",
       "<style scoped>\n",
       "    .dataframe tbody tr th:only-of-type {\n",
       "        vertical-align: middle;\n",
       "    }\n",
       "\n",
       "    .dataframe tbody tr th {\n",
       "        vertical-align: top;\n",
       "    }\n",
       "\n",
       "    .dataframe thead th {\n",
       "        text-align: right;\n",
       "    }\n",
       "</style>\n",
       "<table border=\"1\" class=\"dataframe\">\n",
       "  <thead>\n",
       "    <tr style=\"text-align: right;\">\n",
       "      <th></th>\n",
       "      <th>Nama</th>\n",
       "      <th>Jurusan</th>\n",
       "      <th>Tahun</th>\n",
       "    </tr>\n",
       "  </thead>\n",
       "  <tbody>\n",
       "    <tr>\n",
       "      <th>0</th>\n",
       "      <td>Anton</td>\n",
       "      <td>Akuntansi</td>\n",
       "      <td>2020</td>\n",
       "    </tr>\n",
       "    <tr>\n",
       "      <th>1</th>\n",
       "      <td>Budi</td>\n",
       "      <td>Tambang</td>\n",
       "      <td>2019</td>\n",
       "    </tr>\n",
       "    <tr>\n",
       "      <th>2</th>\n",
       "      <td>Bambang</td>\n",
       "      <td>Bisnis</td>\n",
       "      <td>2021</td>\n",
       "    </tr>\n",
       "  </tbody>\n",
       "</table>\n",
       "</div>"
      ],
      "text/plain": [
       "      Nama    Jurusan  Tahun\n",
       "0    Anton  Akuntansi   2020\n",
       "1     Budi    Tambang   2019\n",
       "2  Bambang     Bisnis   2021"
      ]
     },
     "metadata": {},
     "output_type": "display_data"
    },
    {
     "data": {
      "text/html": [
       "<div>\n",
       "<style scoped>\n",
       "    .dataframe tbody tr th:only-of-type {\n",
       "        vertical-align: middle;\n",
       "    }\n",
       "\n",
       "    .dataframe tbody tr th {\n",
       "        vertical-align: top;\n",
       "    }\n",
       "\n",
       "    .dataframe thead th {\n",
       "        text-align: right;\n",
       "    }\n",
       "</style>\n",
       "<table border=\"1\" class=\"dataframe\">\n",
       "  <thead>\n",
       "    <tr style=\"text-align: right;\">\n",
       "      <th></th>\n",
       "      <th>Nama</th>\n",
       "      <th>Jurusan</th>\n",
       "      <th>Tahun_lahir</th>\n",
       "    </tr>\n",
       "  </thead>\n",
       "  <tbody>\n",
       "    <tr>\n",
       "      <th>0</th>\n",
       "      <td>Susilo</td>\n",
       "      <td>Pertanian</td>\n",
       "      <td>2002</td>\n",
       "    </tr>\n",
       "    <tr>\n",
       "      <th>1</th>\n",
       "      <td>Sulastri</td>\n",
       "      <td>Akuntansi</td>\n",
       "      <td>2001</td>\n",
       "    </tr>\n",
       "    <tr>\n",
       "      <th>2</th>\n",
       "      <td>Jane</td>\n",
       "      <td>Managemen</td>\n",
       "      <td>2000</td>\n",
       "    </tr>\n",
       "    <tr>\n",
       "      <th>3</th>\n",
       "      <td>Samsul</td>\n",
       "      <td>Seni Rupa</td>\n",
       "      <td>2001</td>\n",
       "    </tr>\n",
       "  </tbody>\n",
       "</table>\n",
       "</div>"
      ],
      "text/plain": [
       "       Nama    Jurusan  Tahun_lahir\n",
       "0    Susilo  Pertanian         2002\n",
       "1  Sulastri  Akuntansi         2001\n",
       "2      Jane  Managemen         2000\n",
       "3    Samsul  Seni Rupa         2001"
      ]
     },
     "metadata": {},
     "output_type": "display_data"
    }
   ],
   "source": [
    "#kita buat 2 dataframe\n",
    "df3 = pd.DataFrame({'Nama': ['Anton', 'Budi', 'Bambang'],\n",
    "                    'Jurusan': ['Akuntansi', 'Tambang', 'Bisnis'],\n",
    "                    'Tahun': [2020,2019,2021]})\n",
    "df4 = pd.DataFrame({'Nama': ['Susilo', 'Sulastri', 'Jane', 'Samsul'],\n",
    "                    'Jurusan': ['Pertanian', 'Akuntansi', 'Managemen', 'Seni Rupa'],\n",
    "                    'Tahun_lahir': [2002,2001,2000,2001]})\n",
    "display(df3)\n",
    "display(df4)"
   ]
  },
  {
   "cell_type": "code",
   "execution_count": 31,
   "id": "E87UMvZvD_lR",
   "metadata": {
    "ExecuteTime": {
     "end_time": "2023-08-21T10:50:09.358261Z",
     "start_time": "2023-08-21T10:50:09.342571Z"
    },
    "colab": {
     "base_uri": "https://localhost:8080/",
     "height": 269
    },
    "executionInfo": {
     "elapsed": 456,
     "status": "ok",
     "timestamp": 1648715443931,
     "user": {
      "displayName": "Fransiskus Indra Pratama",
      "userId": "02733887561050835608"
     },
     "user_tz": -420
    },
    "id": "E87UMvZvD_lR",
    "outputId": "0cd0eb8e-222b-47aa-a782-ccb49e6aa644",
    "slideshow": {
     "slide_type": "slide"
    }
   },
   "outputs": [
    {
     "data": {
      "text/html": [
       "<div>\n",
       "<style scoped>\n",
       "    .dataframe tbody tr th:only-of-type {\n",
       "        vertical-align: middle;\n",
       "    }\n",
       "\n",
       "    .dataframe tbody tr th {\n",
       "        vertical-align: top;\n",
       "    }\n",
       "\n",
       "    .dataframe thead th {\n",
       "        text-align: right;\n",
       "    }\n",
       "</style>\n",
       "<table border=\"1\" class=\"dataframe\">\n",
       "  <thead>\n",
       "    <tr style=\"text-align: right;\">\n",
       "      <th></th>\n",
       "      <th>Nama</th>\n",
       "      <th>Jurusan</th>\n",
       "      <th>Tahun</th>\n",
       "      <th>Tahun_lahir</th>\n",
       "    </tr>\n",
       "  </thead>\n",
       "  <tbody>\n",
       "    <tr>\n",
       "      <th>0</th>\n",
       "      <td>Anton</td>\n",
       "      <td>Akuntansi</td>\n",
       "      <td>2,020.00</td>\n",
       "      <td>NaN</td>\n",
       "    </tr>\n",
       "    <tr>\n",
       "      <th>1</th>\n",
       "      <td>Budi</td>\n",
       "      <td>Tambang</td>\n",
       "      <td>2,019.00</td>\n",
       "      <td>NaN</td>\n",
       "    </tr>\n",
       "    <tr>\n",
       "      <th>2</th>\n",
       "      <td>Bambang</td>\n",
       "      <td>Bisnis</td>\n",
       "      <td>2,021.00</td>\n",
       "      <td>NaN</td>\n",
       "    </tr>\n",
       "    <tr>\n",
       "      <th>3</th>\n",
       "      <td>Susilo</td>\n",
       "      <td>Pertanian</td>\n",
       "      <td>NaN</td>\n",
       "      <td>2,002.00</td>\n",
       "    </tr>\n",
       "    <tr>\n",
       "      <th>4</th>\n",
       "      <td>Sulastri</td>\n",
       "      <td>Akuntansi</td>\n",
       "      <td>NaN</td>\n",
       "      <td>2,001.00</td>\n",
       "    </tr>\n",
       "    <tr>\n",
       "      <th>5</th>\n",
       "      <td>Jane</td>\n",
       "      <td>Managemen</td>\n",
       "      <td>NaN</td>\n",
       "      <td>2,000.00</td>\n",
       "    </tr>\n",
       "    <tr>\n",
       "      <th>6</th>\n",
       "      <td>Samsul</td>\n",
       "      <td>Seni Rupa</td>\n",
       "      <td>NaN</td>\n",
       "      <td>2,001.00</td>\n",
       "    </tr>\n",
       "  </tbody>\n",
       "</table>\n",
       "</div>"
      ],
      "text/plain": [
       "       Nama    Jurusan    Tahun  Tahun_lahir\n",
       "0     Anton  Akuntansi 2,020.00          NaN\n",
       "1      Budi    Tambang 2,019.00          NaN\n",
       "2   Bambang     Bisnis 2,021.00          NaN\n",
       "3    Susilo  Pertanian      NaN     2,002.00\n",
       "4  Sulastri  Akuntansi      NaN     2,001.00\n",
       "5      Jane  Managemen      NaN     2,000.00\n",
       "6    Samsul  Seni Rupa      NaN     2,001.00"
      ]
     },
     "execution_count": 31,
     "metadata": {},
     "output_type": "execute_result"
    }
   ],
   "source": [
    "#mari kita gabungkan\n",
    "concatenated = pd.concat([df3,df4], ignore_index=True)\n",
    "concatenated"
   ]
  },
  {
   "cell_type": "markdown",
   "id": "DAJOsU1cGrLh",
   "metadata": {
    "id": "DAJOsU1cGrLh",
    "slideshow": {
     "slide_type": "slide"
    }
   },
   "source": [
    "### Merge\n",
    "<img src=\"https://www.absentdata.com/wp-content/uploads/2019/07/pd.merge-1.png\">"
   ]
  },
  {
   "cell_type": "code",
   "execution_count": null,
   "id": "_mfBw9kkDrGA",
   "metadata": {
    "ExecuteTime": {
     "end_time": "2023-08-21T10:50:09.373888Z",
     "start_time": "2023-08-21T10:50:09.358261Z"
    },
    "colab": {
     "base_uri": "https://localhost:8080/"
    },
    "executionInfo": {
     "elapsed": 452,
     "status": "ok",
     "timestamp": 1648715777056,
     "user": {
      "displayName": "Fransiskus Indra Pratama",
      "userId": "02733887561050835608"
     },
     "user_tz": -420
    },
    "id": "_mfBw9kkDrGA",
    "outputId": "56aa38d0-f0b3-473b-eea5-222accb0ef48",
    "slideshow": {
     "slide_type": "slide"
    }
   },
   "outputs": [],
   "source": [
    "#kita buat 2 dataframe \n",
    "df1 = pd.DataFrame({\"id\": ['001','002','003'],\n",
    "                    'Nama': ['Anton', 'Budi', 'Bambang'],\n",
    "                    'Tahun_masuk': [2020,2019,2021]})\n",
    "df2 = pd.DataFrame({\"id\": ['001','002','003'],\n",
    "                    'Jurusan': ['Akuntansi', 'Tambang', 'Bisnis']})\n",
    "display(df1)\n",
    "display(df2)"
   ]
  },
  {
   "cell_type": "code",
   "execution_count": null,
   "id": "3jHXCj1oHkAV",
   "metadata": {
    "ExecuteTime": {
     "end_time": "2023-08-21T10:50:09.389409Z",
     "start_time": "2023-08-21T10:50:09.373888Z"
    },
    "colab": {
     "base_uri": "https://localhost:8080/",
     "height": 143
    },
    "executionInfo": {
     "elapsed": 441,
     "status": "ok",
     "timestamp": 1648715820019,
     "user": {
      "displayName": "Fransiskus Indra Pratama",
      "userId": "02733887561050835608"
     },
     "user_tz": -420
    },
    "id": "3jHXCj1oHkAV",
    "outputId": "7604e468-d17a-4e68-ce2d-24196260e4b6",
    "slideshow": {
     "slide_type": "slide"
    }
   },
   "outputs": [],
   "source": [
    "#kita akan menggabungkan kedua dataframe tersebut dengan menggunakan method .merge\n",
    "df3 = pd.merge(df1, df2, how=\"inner\", on=\"id\")\n",
    "df3"
   ]
  },
  {
   "cell_type": "markdown",
   "id": "wXn_NsFmHzGJ",
   "metadata": {
    "id": "wXn_NsFmHzGJ",
    "slideshow": {
     "slide_type": "slide"
    }
   },
   "source": [
    "* Fungsi `pd.merge()` mengenali bahwa terdapat kolom id yang sama di kedua dataframe sehingga langsung tergabung\n",
    "* sekarang bagaimana kalo nama kolomnya beda"
   ]
  },
  {
   "cell_type": "code",
   "execution_count": null,
   "id": "ABAh6HAUHuYx",
   "metadata": {
    "ExecuteTime": {
     "end_time": "2023-08-21T10:50:09.405088Z",
     "start_time": "2023-08-21T10:50:09.389409Z"
    },
    "colab": {
     "base_uri": "https://localhost:8080/"
    },
    "executionInfo": {
     "elapsed": 414,
     "status": "ok",
     "timestamp": 1648716861724,
     "user": {
      "displayName": "Fransiskus Indra Pratama",
      "userId": "02733887561050835608"
     },
     "user_tz": -420
    },
    "id": "ABAh6HAUHuYx",
    "outputId": "5ec85824-58a1-47ea-ab4c-b86ea5fc4aa6",
    "slideshow": {
     "slide_type": "slide"
    }
   },
   "outputs": [],
   "source": [
    "#kita buat 2 dataframe \n",
    "df1 = pd.DataFrame({\"id\": ['001','002','003'],\n",
    "                    'Nama': ['Anton', 'Budi', 'Bambang'],\n",
    "                    'Tahun_masuk': [2020,2019,2021]})\n",
    "df2 = pd.DataFrame({\"no_mahasiswa\": ['001','002','003'],\n",
    "                    'Jurusan': ['Akuntansi', 'Tambang', 'Bisnis']})\n",
    "display(df1)\n",
    "display(df2)"
   ]
  },
  {
   "cell_type": "code",
   "execution_count": null,
   "id": "KImmN2f5KDLI",
   "metadata": {
    "ExecuteTime": {
     "end_time": "2023-08-21T10:50:09.420760Z",
     "start_time": "2023-08-21T10:50:09.405088Z"
    },
    "colab": {
     "base_uri": "https://localhost:8080/",
     "height": 143
    },
    "executionInfo": {
     "elapsed": 3,
     "status": "ok",
     "timestamp": 1648716863398,
     "user": {
      "displayName": "Fransiskus Indra Pratama",
      "userId": "02733887561050835608"
     },
     "user_tz": -420
    },
    "id": "KImmN2f5KDLI",
    "outputId": "397a3958-3905-46c5-b269-959089a8f98c",
    "slideshow": {
     "slide_type": "slide"
    }
   },
   "outputs": [],
   "source": [
    "#kita akan menggabungkan kedua dataframe yang mempunyai nama kolom key yang bebeda\n",
    "df3 = pd.merge(df1, df2, how=\"inner\", left_on=\"id\", right_on=\"no_mahasiswa\")\n",
    "df3"
   ]
  },
  {
   "cell_type": "code",
   "execution_count": null,
   "id": "c7264126",
   "metadata": {
    "ExecuteTime": {
     "end_time": "2023-08-21T10:50:09.436974Z",
     "start_time": "2023-08-21T10:50:09.420760Z"
    },
    "slideshow": {
     "slide_type": "slide"
    }
   },
   "outputs": [],
   "source": [
    "df3.drop(\"no_mahasiswa\", axis=1, inplace=True)\n",
    "df3"
   ]
  },
  {
   "cell_type": "markdown",
   "id": "GyC0Pe9vLDXy",
   "metadata": {
    "id": "GyC0Pe9vLDXy",
    "slideshow": {
     "slide_type": "slide"
    }
   },
   "source": [
    "> nb: kalo dia ada 2 key maka bisa ditambahkan ,on=[key1,key2]"
   ]
  },
  {
   "cell_type": "markdown",
   "id": "7fzQeLcDLLLc",
   "metadata": {
    "id": "7fzQeLcDLLLc",
    "slideshow": {
     "slide_type": "slide"
    }
   },
   "source": [
    "#### Merge Method\n",
    "ada 4 method\n",
    "- inner\n",
    "- left\n",
    "- right\n",
    "- outer"
   ]
  },
  {
   "cell_type": "markdown",
   "id": "Cb_2FPTuKpqO",
   "metadata": {
    "id": "Cb_2FPTuKpqO",
    "slideshow": {
     "slide_type": "slide"
    }
   },
   "source": [
    "<img src=\"https://storage.googleapis.com/kotakode-prod-public/images/b41cac0f-e745-4696-a890-d5f709cc6d7f-join.jpg\">"
   ]
  },
  {
   "cell_type": "code",
   "execution_count": null,
   "id": "zhLkA61QKFR8",
   "metadata": {
    "ExecuteTime": {
     "end_time": "2023-08-21T10:50:09.452708Z",
     "start_time": "2023-08-21T10:50:09.436974Z"
    },
    "colab": {
     "base_uri": "https://localhost:8080/"
    },
    "executionInfo": {
     "elapsed": 401,
     "status": "ok",
     "timestamp": 1648717229839,
     "user": {
      "displayName": "Fransiskus Indra Pratama",
      "userId": "02733887561050835608"
     },
     "user_tz": -420
    },
    "id": "zhLkA61QKFR8",
    "outputId": "07d9e172-3e02-4f42-c216-4def97b9ce1d",
    "slideshow": {
     "slide_type": "slide"
    }
   },
   "outputs": [],
   "source": [
    "#kita buat 2 dataframe \n",
    "df1 = pd.DataFrame({\"id\": ['001','002','003','004'],\n",
    "                    'Nama': ['Anton', 'Budi', 'Bambang','leon'],\n",
    "                    'Tahun_masuk': [2020,2019,2021,2018]})\n",
    "df2 = pd.DataFrame({\"id\": ['001','002','003','005'],\n",
    "                    'Jurusan': ['Akuntansi', 'Tambang', 'Bisnis','Managemen']})\n",
    "display(df1)\n",
    "display(df2)"
   ]
  },
  {
   "cell_type": "code",
   "execution_count": null,
   "id": "L1JqLbAWLWeO",
   "metadata": {
    "ExecuteTime": {
     "end_time": "2023-08-21T10:50:09.468325Z",
     "start_time": "2023-08-21T10:50:09.452708Z"
    },
    "colab": {
     "base_uri": "https://localhost:8080/",
     "height": 143
    },
    "executionInfo": {
     "elapsed": 389,
     "status": "ok",
     "timestamp": 1648717053910,
     "user": {
      "displayName": "Fransiskus Indra Pratama",
      "userId": "02733887561050835608"
     },
     "user_tz": -420
    },
    "id": "L1JqLbAWLWeO",
    "outputId": "adaad6e5-46c4-46b3-94d1-603176c4767b",
    "slideshow": {
     "slide_type": "slide"
    }
   },
   "outputs": [],
   "source": [
    "#terlihat pada dataframe bahwa ada masing-masing 1 yang tidak memiliki pasangan\n",
    "#secara default dia pakai inner, data yang tersambung yang akan ditampilkan\n",
    "hoo = pd.merge(df1,df2)\n",
    "hoo"
   ]
  },
  {
   "cell_type": "code",
   "execution_count": null,
   "id": "_iX1ZecsMPz3",
   "metadata": {
    "ExecuteTime": {
     "end_time": "2023-08-21T10:50:09.483979Z",
     "start_time": "2023-08-21T10:50:09.468325Z"
    },
    "colab": {
     "base_uri": "https://localhost:8080/",
     "height": 206
    },
    "executionInfo": {
     "elapsed": 466,
     "status": "ok",
     "timestamp": 1648717115342,
     "user": {
      "displayName": "Fransiskus Indra Pratama",
      "userId": "02733887561050835608"
     },
     "user_tz": -420
    },
    "id": "_iX1ZecsMPz3",
    "outputId": "8f28dae6-a4cf-4377-adbd-c3def1555240",
    "slideshow": {
     "slide_type": "slide"
    }
   },
   "outputs": [],
   "source": [
    "#jika kita ingin menampilkan semuanya maka gunakan outer\n",
    "hoo = pd.merge(df1,df2, how='outer')\n",
    "hoo"
   ]
  },
  {
   "cell_type": "code",
   "execution_count": null,
   "id": "aybTtVJkMqsz",
   "metadata": {
    "ExecuteTime": {
     "end_time": "2023-08-21T10:50:09.499483Z",
     "start_time": "2023-08-21T10:50:09.483979Z"
    },
    "colab": {
     "base_uri": "https://localhost:8080/",
     "height": 175
    },
    "executionInfo": {
     "elapsed": 425,
     "status": "ok",
     "timestamp": 1648717164156,
     "user": {
      "displayName": "Fransiskus Indra Pratama",
      "userId": "02733887561050835608"
     },
     "user_tz": -420
    },
    "id": "aybTtVJkMqsz",
    "outputId": "9af8cfbb-76b4-4955-8e53-df68cae6ac62",
    "slideshow": {
     "slide_type": "slide"
    }
   },
   "outputs": [],
   "source": [
    "#jika kita ingin menampilkan data sebelah kiri full\n",
    "hoo = pd.merge(df1,df2, how='left')\n",
    "hoo"
   ]
  },
  {
   "cell_type": "code",
   "execution_count": null,
   "id": "Qv57uRc6M2mZ",
   "metadata": {
    "ExecuteTime": {
     "end_time": "2023-08-21T10:50:09.515213Z",
     "start_time": "2023-08-21T10:50:09.499483Z"
    },
    "colab": {
     "base_uri": "https://localhost:8080/",
     "height": 175
    },
    "executionInfo": {
     "elapsed": 412,
     "status": "ok",
     "timestamp": 1648717174278,
     "user": {
      "displayName": "Fransiskus Indra Pratama",
      "userId": "02733887561050835608"
     },
     "user_tz": -420
    },
    "id": "Qv57uRc6M2mZ",
    "outputId": "1b12a408-eef3-489e-dff3-1c69e490cab0"
   },
   "outputs": [],
   "source": [
    "#jika kita ingin menampilkan data sebelah kanan full\n",
    "hoo = pd.merge(df1,df2, how='right')\n",
    "hoo"
   ]
  },
  {
   "cell_type": "markdown",
   "id": "aV69O78eN8Ti",
   "metadata": {
    "id": "aV69O78eN8Ti",
    "slideshow": {
     "slide_type": "slide"
    }
   },
   "source": [
    "### Group By"
   ]
  },
  {
   "cell_type": "markdown",
   "id": "dx_B-ds2UTwq",
   "metadata": {
    "id": "dx_B-ds2UTwq"
   },
   "source": [
    "> terkadang kita membutuhkan data yang sudah di grouping. cara yang ditawarkan pandas adalah dengan method .groupby"
   ]
  },
  {
   "cell_type": "code",
   "execution_count": null,
   "id": "DZuEZSmgM5IA",
   "metadata": {
    "ExecuteTime": {
     "end_time": "2023-08-21T16:13:44.982246Z",
     "start_time": "2023-08-21T16:13:44.950867Z"
    },
    "colab": {
     "base_uri": "https://localhost:8080/",
     "height": 345
    },
    "executionInfo": {
     "elapsed": 554,
     "status": "error",
     "timestamp": 1648719054789,
     "user": {
      "displayName": "Fransiskus Indra Pratama",
      "userId": "02733887561050835608"
     },
     "user_tz": -420
    },
    "id": "DZuEZSmgM5IA",
    "outputId": "407e8c8a-3d66-4556-8bc7-656c56807a29",
    "slideshow": {
     "slide_type": "slide"
    }
   },
   "outputs": [],
   "source": [
    "# mari kita buka data populasi amerika\n",
    "# df_amerika = pd.read_csv('america_population.csv')\n",
    "\n",
    "df_amerika = pd.read_csv(link_population)\n",
    "print(df_amerika.shape)\n",
    "df_amerika.head()"
   ]
  },
  {
   "cell_type": "code",
   "execution_count": null,
   "id": "xOXE1fXxUEGf",
   "metadata": {
    "ExecuteTime": {
     "end_time": "2023-08-21T16:13:47.201289Z",
     "start_time": "2023-08-21T16:13:47.169601Z"
    },
    "id": "xOXE1fXxUEGf",
    "slideshow": {
     "slide_type": "slide"
    }
   },
   "outputs": [],
   "source": [
    "#kita akan melakukan grouping terhadap jumlah populasi berdasarkan state\n",
    "#kita cek terlebih dahulu ada berapa state\n",
    "df_amerika[\"usps\"].nunique()"
   ]
  },
  {
   "cell_type": "code",
   "execution_count": null,
   "id": "fdb25226",
   "metadata": {
    "ExecuteTime": {
     "end_time": "2023-08-21T16:13:49.793682Z",
     "start_time": "2023-08-21T16:13:49.762435Z"
    },
    "slideshow": {
     "slide_type": "slide"
    }
   },
   "outputs": [],
   "source": [
    "df_amerika[df_amerika[\"usps\"] == \"NY\"].head()"
   ]
  },
  {
   "cell_type": "code",
   "execution_count": null,
   "id": "4ddce5a9",
   "metadata": {
    "ExecuteTime": {
     "end_time": "2023-08-21T16:13:51.323173Z",
     "start_time": "2023-08-21T16:13:51.291709Z"
    },
    "slideshow": {
     "slide_type": "slide"
    }
   },
   "outputs": [],
   "source": [
    "df_amerika = df_amerika[[\"usps\",\"pop2022\",\"pop2010\"]].groupby('usps').mean().reset_index()\n",
    "df_amerika"
   ]
  },
  {
   "cell_type": "code",
   "execution_count": null,
   "id": "D-5GMLeDUdRg",
   "metadata": {
    "ExecuteTime": {
     "end_time": "2023-08-21T16:13:55.186038Z",
     "start_time": "2023-08-21T16:13:55.154739Z"
    },
    "id": "D-5GMLeDUdRg",
    "slideshow": {
     "slide_type": "slide"
    }
   },
   "outputs": [],
   "source": [
    "#kita akan grouping dengan method .groupby\n",
    "df_new = df_amerika.groupby('usps').agg({\"pop2022\":[\"sum\",\"min\"],\"pop2010\":\"max\"})\n",
    "df_new.head()"
   ]
  },
  {
   "cell_type": "markdown",
   "id": "47fe566d",
   "metadata": {
    "slideshow": {
     "slide_type": "slide"
    }
   },
   "source": [
    "# Basic Visualization with Pandas"
   ]
  },
  {
   "cell_type": "code",
   "execution_count": null,
   "id": "5cf2b9b4",
   "metadata": {
    "ExecuteTime": {
     "end_time": "2023-08-21T10:50:09.609876Z",
     "start_time": "2023-08-21T10:50:09.594140Z"
    },
    "slideshow": {
     "slide_type": "slide"
    }
   },
   "outputs": [],
   "source": [
    "df_titanic.head()"
   ]
  },
  {
   "cell_type": "code",
   "execution_count": null,
   "id": "70d45cdd",
   "metadata": {
    "ExecuteTime": {
     "end_time": "2023-08-21T10:50:10.036986Z",
     "start_time": "2023-08-21T10:50:09.609876Z"
    },
    "slideshow": {
     "slide_type": "slide"
    }
   },
   "outputs": [],
   "source": [
    "df_titanic.plot(kind='scatter', x='Age', y='Fare')"
   ]
  },
  {
   "cell_type": "code",
   "execution_count": null,
   "id": "08b324e6",
   "metadata": {
    "ExecuteTime": {
     "end_time": "2023-08-21T10:50:10.163355Z",
     "start_time": "2023-08-21T10:50:10.037665Z"
    },
    "slideshow": {
     "slide_type": "slide"
    }
   },
   "outputs": [],
   "source": [
    "df_titanic[\"Age\"].plot(kind='hist', bins=8)"
   ]
  },
  {
   "cell_type": "code",
   "execution_count": null,
   "id": "580249a1",
   "metadata": {},
   "outputs": [],
   "source": []
  }
 ],
 "metadata": {
  "celltoolbar": "Slideshow",
  "colab": {
   "collapsed_sections": [
    "f99158bd-6662-4d91-95f8-dc78e36487f6",
    "31cbbbb5-0084-412b-9810-c670c181ed79",
    "f44fe82d-6950-4807-8a11-cd249594e2ba",
    "710ee1fb-b055-4405-a5bf-10f481b1e2ad",
    "679f393c-75f4-4903-84ac-8288f56cdfa2",
    "3c48e008-9b51-401d-bf2f-e3b1da553d91",
    "dc601b1e-5c19-4820-a452-06b792ad4ab4",
    "d51f167b-1ddf-49f0-a326-b4104426a8c9",
    "3db45008-59af-4976-a47f-31fd85cb692b",
    "7f541b88-7520-443d-910f-ad75057f342c",
    "8d4ec717-f43f-4315-8431-6ee46b987c08",
    "72ede3f0-43e3-4089-993b-04554484fca9",
    "651585f4-4c33-44e5-8cf8-dca13a829b68",
    "4a7eab06-2dca-42e8-aba3-6d3db4b9ec8d",
    "18f814d1-1448-4f4a-95a3-e1bd02256c50",
    "1591e074-bbb5-40c3-adae-8de96edc8e1c",
    "ac965f2a-eec6-4a2f-96db-588c0fa93512",
    "a7f7492a-0f8e-488c-9469-287bc28e1b5e",
    "16211120-aaaf-4542-a2d2-435e73708095",
    "21237008-7178-4591-ba23-9b8b7106d27d",
    "0dec895c-8fca-4249-8500-459983306f0f",
    "75c6b3ee-f4ce-4793-8e34-4f418f23a7af"
   ],
   "name": "Pandas.ipynb",
   "provenance": [],
   "toc_visible": true
  },
  "hide_input": false,
  "kernelspec": {
   "display_name": "Python 3 (ipykernel)",
   "language": "python",
   "name": "python3"
  },
  "language_info": {
   "codemirror_mode": {
    "name": "ipython",
    "version": 3
   },
   "file_extension": ".py",
   "mimetype": "text/x-python",
   "name": "python",
   "nbconvert_exporter": "python",
   "pygments_lexer": "ipython3",
   "version": "3.9.18"
  },
  "latex_envs": {
   "LaTeX_envs_menu_present": true,
   "autoclose": false,
   "autocomplete": true,
   "bibliofile": "biblio.bib",
   "cite_by": "apalike",
   "current_citInitial": 1,
   "eqLabelWithNumbers": true,
   "eqNumInitial": 1,
   "hotkeys": {
    "equation": "Ctrl-E",
    "itemize": "Ctrl-I"
   },
   "labels_anchors": false,
   "latex_user_defs": false,
   "report_style_numbering": false,
   "user_envs_cfg": false
  },
  "toc": {
   "base_numbering": 1,
   "nav_menu": {},
   "number_sections": true,
   "sideBar": true,
   "skip_h1_title": false,
   "title_cell": "Table of Contents",
   "title_sidebar": "Contents",
   "toc_cell": false,
   "toc_position": {
    "height": "calc(100% - 180px)",
    "left": "10px",
    "top": "150px",
    "width": "165px"
   },
   "toc_section_display": true,
   "toc_window_display": false
  },
  "toc-autonumbering": true,
  "toc-showmarkdowntxt": false
 },
 "nbformat": 4,
 "nbformat_minor": 5
}
