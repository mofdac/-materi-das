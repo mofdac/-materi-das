{
 "cells": [
  {
   "cell_type": "markdown",
   "id": "3d3d3d9c",
   "metadata": {},
   "source": [
    "=====================================================\n",
    "# TUGAS UNTUK ASYNCHRONOUS\n",
    "=====================================================\n",
    "\n",
    "## Latihan 1:\n",
    "Buatlah program yang meminta user untuk memasukkan 4 buah string: \"namadepan\", \"namabelakang\", \"hobi\", \"asal\"\n",
    "\n",
    "Susunlah input tersebut menjadi sebuah outpur kalimat menjadi seperti ini :\n",
    "\"Halo nama saya (namadepan) (namabelakang), saya berasal dari (asal) dan hobby saya adalah (hobi)\"\n",
    "\n",
    "Hint: Gunakan metode-metode yang sudah dipelajari dan amati perbedaannya."
   ]
  },
  {
   "cell_type": "code",
   "execution_count": 1,
   "id": "24bb9309",
   "metadata": {},
   "outputs": [
    {
     "name": "stdout",
     "output_type": "stream",
     "text": [
      "Masukan Nama Depan Anda:Ade\n",
      "Masukan Nama Belakang Anda:Satya\n",
      "Masukan Hobi Anda:coding\n",
      "Masukan Asal Anda:Serang\n",
      "Halo nama saya Ade Satya, saya berasal dari Serang dan hobby saya adalah coding\n"
     ]
    }
   ],
   "source": [
    "depan = input(\"Masukan Nama Depan Anda:\")\n",
    "belakang = input(\"Masukan Nama Belakang Anda:\")\n",
    "hobi = input(\"Masukan Hobi Anda:\")\n",
    "asal = input(\"Masukan Asal Anda:\")\n",
    "\n",
    "print(f\"Halo nama saya {depan} {belakang}, saya berasal dari {asal} dan hobby saya adalah {hobi}\")"
   ]
  },
  {
   "cell_type": "markdown",
   "id": "263ef170",
   "metadata": {},
   "source": [
    "## Latihan 2:\n",
    "\n",
    "Skala Richter \n",
    "Magnitude Descriptor\n",
    "Less than 2.0 Micro\n",
    "2.0 to less than 3.0 Very Minor\n",
    "3.0 to less than 4.0 Minor\n",
    "4.0 to less than 5.0 Light\n",
    "5.0 to less than 6.0 Moderate\n",
    "6.0 to less than 7.0 Strong\n",
    "7.0 to less than 8.0 Major\n",
    "8.0 to less than 10.0 Great\n",
    "10.0 or more Meteoric\n",
    "\n",
    "* Buatlah program yang membaca besarnya magnitude dari user dan memberikan keluaran terkait grade dari kekuatan gempa.\n",
    "* Contoh keluaran :\n",
    "  **'Gempa berskala 5,5 berkategori Moderat'**  "
   ]
  },
  {
   "cell_type": "code",
   "execution_count": 2,
   "id": "ed7ae978",
   "metadata": {},
   "outputs": [
    {
     "name": "stdout",
     "output_type": "stream",
     "text": [
      "Besar gempa:7.8\n",
      "Gempa berskala 7.8 berkategori Major\n"
     ]
    }
   ],
   "source": [
    "angka = input(\"Besar gempa:\")\n",
    "try:\n",
    "    angka = float(angka)    \n",
    "    if angka < 2.0:\n",
    "        gempa = 'Micro'\n",
    "    elif angka < 3.0:\n",
    "        gempa = 'Very Minor'\n",
    "    elif angka < 4.0:\n",
    "        gempa = 'Minor'\n",
    "    elif angka < 5.0:\n",
    "        gempa = 'Light'\n",
    "    elif angka < 6.0:\n",
    "        gempa = 'Moderate'\n",
    "    elif angka < 7.0:\n",
    "        gempa = 'Strong'\n",
    "    elif angka < 8.0:\n",
    "        gempa = 'Major'\n",
    "    elif angka < 10.0:\n",
    "        gempa = 'Great'\n",
    "    else:\n",
    "        gempa = 'Meteoric'\n",
    "    print(f\"Gempa berskala {angka} berkategori {gempa}\")\n",
    "except:\n",
    "    print(\"Hanya menerima angka\")"
   ]
  },
  {
   "cell_type": "markdown",
   "id": "7ffff849",
   "metadata": {},
   "source": [
    "## Latihan 3:\n",
    "* Buatlah script yang menerima input berupa lima digit angka dari user.</br>\n",
    "* Pisahkan angka menjadi digit individual. Print secara terpisah dengan separator berupa tiga spasi\n",
    "* Contoh: Jika user memasukkan 42339, maka hasil print</br> \n",
    "4   2   3   3   9</br>\n",
    "* Asumsikan bahwa user selalu menginput angka dalam panjang yang tepat. \n",
    "* Use both the floor division and remainder operations to “pick off ” each digit."
   ]
  },
  {
   "cell_type": "code",
   "execution_count": 3,
   "id": "64806f4b",
   "metadata": {},
   "outputs": [
    {
     "name": "stdout",
     "output_type": "stream",
     "text": [
      "Masukan angka 5 digit:42338\n",
      "4   2   3   3   8\n",
      "4   2   3   3   8\n"
     ]
    }
   ],
   "source": [
    "angka = input(\"Masukan angka 5 digit:\")\n",
    "if angka.isnumeric():\n",
    "    ## pendekatan teks\n",
    "    if len(angka) == 5:\n",
    "        print(angka[0],angka[1],angka[2],angka[3],angka[4], sep=\"   \")\n",
    "\n",
    "    ## pendekatan number:\n",
    "    angka = int(angka)\n",
    "    list_satuan = []\n",
    "    list_satuan.append(str(angka // 10**4))\n",
    "    for pangkat in range(3,-1,-1):\n",
    "        list_satuan.append(str(angka // 10**pangkat % 10))\n",
    "    print(\"   \".join(list_satuan))\n",
    "else:\n",
    "    print(\"woy masukin angka\")"
   ]
  },
  {
   "cell_type": "markdown",
   "id": "4515eaa8",
   "metadata": {},
   "source": [
    "## Latihan 4 :\n",
    "Konversi derajat celcius ke fahrenheit diatur oleh persamaan berikut :\n",
    "$F = (\\frac{9}{5}) * C + 32$\n",
    "\n",
    "Gunakan fungsi ini untuk memprint suatu daftar konversi temperatur dari celcius untuk range 0–100.\n",
    "Gunakan presisi 1 digit."
   ]
  },
  {
   "cell_type": "code",
   "execution_count": 4,
   "id": "e48ec4ff",
   "metadata": {},
   "outputs": [],
   "source": [
    "suhu = [\n",
    "    9, 15, 82, 38, 89, 47, 51, 36, 83, 38,\n",
    "    74, 47, 61, 22, 26, 81, 24, 13, 79, 36,\n",
    "    63, 58, 29, 93, 75, 94, 14, 66, 3, 15,\n",
    "    20, 62, 27, 59, 29, 65, 94, 68, 21, 100\n",
    "]"
   ]
  },
  {
   "cell_type": "code",
   "execution_count": 5,
   "id": "2fde06bd",
   "metadata": {},
   "outputs": [
    {
     "name": "stdout",
     "output_type": "stream",
     "text": [
      "[48.2, 59.0, 179.6, 100.4, 192.2, 116.6, 123.8, 96.8, 181.4, 100.4, 165.2, 116.6, 141.8, 71.6, 78.8, 177.8, 75.2, 55.4, 174.2, 96.8, 145.4, 136.4, 84.2, 199.4, 167.0, 201.2, 57.2, 150.8, 37.4, 59.0, 68.0, 143.6, 80.6, 138.2, 84.2, 149.0, 201.2, 154.4, 69.8, 212.0]\n"
     ]
    }
   ],
   "source": [
    "def to_fahren(C):\n",
    "    return round((9/5) * C + 32, 1)\n",
    "\n",
    "hasil = []\n",
    "for c in suhu:\n",
    "    hasil.append(to_fahren(c))\n",
    "    \n",
    "print(hasil)"
   ]
  },
  {
   "cell_type": "markdown",
   "id": "9bf96ef0",
   "metadata": {},
   "source": [
    "## Latihan 5 :\n",
    "Pak Joni memiliki rencana untuk membeli sebuah rumah, tetapi sayangnya dia tidak punya banyak uang. Dia berencana untuk membeli tetapi dengan cicilan ke bank saja. Namun, sayangnya lagi-lagi untuk membayar DP pinjaman bankpun ia tidak punya. Oleh karena itu, dia berencana untuk menabung setiap bulan agar bisa membayar DP. Tugas anda : tentukan berapa lama dia harus menabung agar dia bisa membayar cicilan rumah tersebut.\n",
    "1.\tMintalah pak joni untuk membuat harga perkiraan rumah yang dia inginkan simpan pada variable, total_cost.\n",
    "2.\tBiasanya untuk DP rumah, bank akan mensyaratkan pembayaran DP sebesar 25%, simpan pada variabel portion_down_payment = 0.25.\n",
    "3.\tTanyakan pak joni berapa uang yang sudah dia punya selama ini yang dicadangkan untuk membayar DP, simpan pada variable current_savings nilai defaultnya boleh anda set 0. \n",
    "4.\tAsumsikan bahwa pak joni menginvestasikan tabungan dengan bijak, sehingga memperoleh bunga 5 % per tahun. \n",
    "5.\tSimpan gaji tahunan pak joni dalam variabel annual_salary.\n",
    "6.\tTanyakan pak Joni persen dari gaji pak joni yang dia sisishkan untuk menabung simpan pada variable portion_saved. Variabel ini berbentuk decimal (contoh 0.1 untuk persentase 10%). \n",
    "7.\tPada akhir tiap bulan bulan, tabungan anda akan meningkat sesuai dengan besarnya investasi  ditambah dengan porsi gaji yang ditabungkan (gaji tahunan/ 12)."
   ]
  },
  {
   "cell_type": "code",
   "execution_count": 6,
   "id": "4f0208b7",
   "metadata": {},
   "outputs": [
    {
     "name": "stdout",
     "output_type": "stream",
     "text": [
      "Harga Perkiraan Rumah:400\n",
      "Harga Saldo Tabungan DP Sekarang:50\n",
      "Jumlah Gaji Tahunan:120\n",
      "Berapa persen gaji bulanan yang dapat ditabung:30\n",
      "tabungan untuk membayar DP rumah akan terkumpul pada bulan ke-16 setelah mulai menabung\n"
     ]
    }
   ],
   "source": [
    "flag = True\n",
    "\n",
    "#input harga rumah\n",
    "while flag :\n",
    "    total_cost = input(\"Harga Perkiraan Rumah:\")\n",
    "    if total_cost.isnumeric():\n",
    "        total_cost = int(total_cost)\n",
    "        break\n",
    "    else:\n",
    "        print('Input hanya number, silahkan masukan kembali.')\n",
    "        \n",
    "# perhitungan DP\n",
    "portion_down_payment = 0.25\n",
    "down_payment = total_cost * portion_down_payment\n",
    "\n",
    "# input tabungan\n",
    "current_savings = input(\"Harga Saldo Tabungan DP Sekarang:\")\n",
    "if current_savings.isnumeric():\n",
    "    current_savings = int(current_savings)\n",
    "else:\n",
    "    print('Input hanya number, sistem secara otomatis menyimpan nilai 0')\n",
    "    current_savings = 0\n",
    "\n",
    "# variable bunga per tahun\n",
    "annual_interest = 0.05\n",
    "monthly_interest = annual_interest / 12\n",
    "\n",
    "#input gaji tahunan\n",
    "while flag :\n",
    "    annual_salary = input(\"Jumlah Gaji Tahunan:\")\n",
    "    if annual_salary.isnumeric():\n",
    "        annual_salary = int(annual_salary)\n",
    "        break\n",
    "    else:\n",
    "        print('Input hanya number, silahkan masukan kembali.')\n",
    "\n",
    "monthly_salary = annual_salary / 12\n",
    "        \n",
    "        \n",
    "#input persentase bulanan\n",
    "while flag :\n",
    "    portion_saved = input(\"Berapa persen gaji bulanan yang dapat ditabung:\")\n",
    "    if portion_saved.isnumeric():\n",
    "        if int(portion_saved) < 100:\n",
    "            portion_saved = float(portion_saved) / 100\n",
    "            break\n",
    "        else:\n",
    "            print('Input angka 1-100, silahkan masukan kembali.')\n",
    "    else:\n",
    "        print('Input hanya number, silahkan masukan kembali.')\n",
    "        \n",
    "monthly_saved = monthly_salary * portion_saved\n",
    "\n",
    "# perhitungan tabungan\n",
    "bulan = 0\n",
    "\n",
    "while down_payment > current_savings:\n",
    "    current_savings *= (1+monthly_interest)\n",
    "    current_savings += monthly_saved\n",
    "    bulan += 1\n",
    "#     print(down_payment, current_savings, bulan)\n",
    "    \n",
    "print(f\"tabungan untuk membayar DP rumah akan terkumpul pada bulan ke-{bulan} setelah mulai menabung\")\n",
    "\n"
   ]
  },
  {
   "cell_type": "markdown",
   "id": "42d1ceff",
   "metadata": {},
   "source": [
    "## Latihan 6:\n",
    "\n",
    "Berikut adalah potongan opini dari kompas 14 Juni 2022 :</br>\n",
    "\"Big data yang menjadi polemik dua bulan lalu menunjukkan bahwa big data lebih banyak dibahas aspek politiknya, seperti dalam wacana penundaan jadwal pemilu, bukan aspek ekonominya. Padahal kedua aspek ini sama berguna bagi masyarakat yang menjadi konsumen atau juga merangkap produsen potensial, bukan hanya target untuk kepentingan politik.\"\n",
    "\n",
    "Pada potongan di atas terdapat beberapa kata stopwords, seperti yang ada di list stopwords.</br>\n",
    "Tugas anda adalah untuk membuat suatu list baru, yang berisi seluruh kata tanpa ada stopword."
   ]
  },
  {
   "cell_type": "code",
   "execution_count": 7,
   "id": "4486ca6b",
   "metadata": {},
   "outputs": [],
   "source": [
    "stopwords = ['yang', 'lalu', 'bahwa', 'by', 'lebih', 'seperti', 'bukan', 'ini', 'bagi', 'atau', \n",
    "             \"hanya\", \"untuk\", \"juga\"]"
   ]
  },
  {
   "cell_type": "code",
   "execution_count": 8,
   "id": "2f8aad64",
   "metadata": {},
   "outputs": [
    {
     "name": "stdout",
     "output_type": "stream",
     "text": [
      "['big', 'data', 'menjadi', 'polemik', 'dua', 'bulan', 'menunjukkan', 'big', 'data', 'banyak', 'dibahas', 'aspek', 'politiknya', 'dalam', 'wacana', 'penundaan', 'jadwal', 'pemilu', 'aspek', 'ekonominya', 'padahal', 'kedua', 'aspek', 'sama', 'berguna', 'masyarakat', 'menjadi', 'konsumen', 'merangkap', 'produsen', 'potensial', 'target', 'kepentingan', 'politik']\n"
     ]
    }
   ],
   "source": [
    "opini = \"\"\"Big data yang menjadi polemik dua bulan lalu menunjukkan bahwa big data \n",
    "lebih banyak dibahas aspek politiknya, seperti dalam wacana penundaan jadwal pemilu, \n",
    "bukan aspek ekonominya. Padahal kedua aspek ini sama berguna bagi masyarakat yang menjadi konsumen\n",
    "atau juga merangkap produsen potensial, bukan hanya target untuk kepentingan politik.\"\"\"\n",
    "\n",
    "hasil = []\n",
    "\n",
    "for word in opini.split():\n",
    "    \n",
    "    # menghilangkan tanda baca dll\n",
    "    chars = []\n",
    "    for char in word:\n",
    "        if char.isalnum():\n",
    "            chars.append(char)\n",
    "    word = ''.join(chars).lower()\n",
    "    \n",
    "    # check bukan stopword\n",
    "    if word not in stopwords:\n",
    "        hasil.append(word)\n",
    "\n",
    "print(hasil)"
   ]
  },
  {
   "cell_type": "markdown",
   "id": "9ccb7357",
   "metadata": {},
   "source": [
    "## Latihan 7\n",
    "\n",
    "Buatlah suatu dictionary bernama **letter_counts** yang menghitung frekuensi kemunculan dari suatu huruf di dalam string dan berapa kali huruf itu muncul. </br>\n",
    "\n",
    "**Perhatian:**\n",
    "Setiap huruf besar atau huruf kecil dalam alphabet yang sama harus dihitung sebagai huruf yang sama"
   ]
  },
  {
   "cell_type": "code",
   "execution_count": 9,
   "id": "ac7ddcf7",
   "metadata": {},
   "outputs": [],
   "source": [
    "string1 = \"\"\"There is a tide in the affairs of men, Which taken at the flood, \n",
    "leads on to fortune. Omitted, all the voyage of their life is bound in shallows\n",
    "and in miseries. On such a full sea are we now afloat. \n",
    "And we must take the current when it serves, or lose our ventures.\"\"\""
   ]
  },
  {
   "cell_type": "code",
   "execution_count": 10,
   "id": "3acc2d51",
   "metadata": {},
   "outputs": [
    {
     "data": {
      "text/plain": [
       "{'t': 19,\n",
       " 'h': 11,\n",
       " 'e': 29,\n",
       " 'r': 12,\n",
       " 'i': 14,\n",
       " 's': 15,\n",
       " 'a': 17,\n",
       " 'd': 7,\n",
       " 'n': 15,\n",
       " 'f': 9,\n",
       " 'o': 17,\n",
       " 'm': 4,\n",
       " 'w': 6,\n",
       " 'c': 3,\n",
       " 'k': 2,\n",
       " 'l': 11,\n",
       " 'u': 8,\n",
       " 'v': 3,\n",
       " 'y': 1,\n",
       " 'g': 1,\n",
       " 'b': 1}"
      ]
     },
     "execution_count": 10,
     "metadata": {},
     "output_type": "execute_result"
    }
   ],
   "source": [
    "hasil = {}\n",
    "for char in string1.lower():\n",
    "    if char.isalnum():\n",
    "        if char in hasil.keys():\n",
    "            hasil[char] += 1\n",
    "        else:\n",
    "            hasil[char] = 1\n",
    "\n",
    "hasil"
   ]
  },
  {
   "cell_type": "markdown",
   "id": "711281f9",
   "metadata": {},
   "source": [
    "## Latihan 8\n",
    "Berikut adalah JSON dari sebuah timestamp cuaca :\n",
    "Dari data tersebut, buatlah suatu list di dalam list yang berisi jam cuaca, dan cuaca saja di tanggal-tanggal yang cuacanya hujan ringan saja."
   ]
  },
  {
   "cell_type": "code",
   "execution_count": 11,
   "id": "af198fe0",
   "metadata": {},
   "outputs": [],
   "source": [
    "weather=[{\"jamCuaca\":\"2022-06-14 00:00:00\",\"kodeCuaca\":\"60\",\"cuaca\":\"Hujan Ringan\",\"humidity\":\"85\",\"tempC\":\"23\",\"tempF\":\"73\"},\n",
    " {\"jamCuaca\":\"2022-06-14 06:00:00\",\"kodeCuaca\":\"60\",\"cuaca\":\"Hujan Ringan\",\"humidity\":\"55\",\"tempC\":\"33\",\"tempF\":\"91\"},\n",
    " {\"jamCuaca\":\"2022-06-14 12:00:00\",\"kodeCuaca\":\"60\",\"cuaca\":\"Hujan Ringan\",\"humidity\":\"85\",\"tempC\":\"23\",\"tempF\":\"73\"},\n",
    " {\"jamCuaca\":\"2022-06-14 18:00:00\",\"kodeCuaca\":\"3\",\"cuaca\":\"Berawan\",\"humidity\":\"90\",\"tempC\":\"23\",\"tempF\":\"73\"},\n",
    " {\"jamCuaca\":\"2022-06-15 00:00:00\",\"kodeCuaca\":\"1\",\"cuaca\":\"Cerah Berawan\",\"humidity\":\"80\",\"tempC\":\"25\",\"tempF\":\"77\"},\n",
    " {\"jamCuaca\":\"2022-06-15 06:00:00\",\"kodeCuaca\":\"60\",\"cuaca\":\"Hujan Ringan\",\"humidity\":\"65\",\"tempC\":\"32\",\"tempF\":\"90\"},\n",
    " {\"jamCuaca\":\"2022-06-15 12:00:00\",\"kodeCuaca\":\"60\",\"cuaca\":\"Hujan Ringan\",\"humidity\":\"80\",\"tempC\":\"25\",\"tempF\":\"77\"},\n",
    " {\"jamCuaca\":\"2022-06-15 18:00:00\",\"kodeCuaca\":\"3\",\"cuaca\":\"Berawan\",\"humidity\":\"90\",\"tempC\":\"23\",\"tempF\":\"73\"},\n",
    " {\"jamCuaca\":\"2022-06-16 00:00:00\",\"kodeCuaca\":\"60\",\"cuaca\":\"Hujan Ringan\",\"humidity\":\"80\",\"tempC\":\"25\",\"tempF\":\"77\"},\n",
    " {\"jamCuaca\":\"2022-06-16 06:00:00\",\"kodeCuaca\":\"60\",\"cuaca\":\"Hujan Ringan\",\"humidity\":\"55\",\"tempC\":\"32\",\"tempF\":\"90\"},\n",
    " {\"jamCuaca\":\"2022-06-16 12:00:00\",\"kodeCuaca\":\"60\",\"cuaca\":\"Hujan Ringan\",\"humidity\":\"80\",\"tempC\":\"25\",\"tempF\":\"77\"},\n",
    " {\"jamCuaca\":\"2022-06-16 18:00:00\",\"kodeCuaca\":\"3\",\"cuaca\":\"Berawan\",\"humidity\":\"90\",\"tempC\":\"23\",\"tempF\":\"73\"}]"
   ]
  },
  {
   "cell_type": "code",
   "execution_count": 12,
   "id": "336af202",
   "metadata": {},
   "outputs": [
    {
     "name": "stdout",
     "output_type": "stream",
     "text": [
      "[{'jamCuaca': '2022-06-14 00:00:00', 'cuaca': 'Hujan Ringan'}, {'jamCuaca': '2022-06-14 06:00:00', 'cuaca': 'Hujan Ringan'}, {'jamCuaca': '2022-06-14 12:00:00', 'cuaca': 'Hujan Ringan'}, {'jamCuaca': '2022-06-15 06:00:00', 'cuaca': 'Hujan Ringan'}, {'jamCuaca': '2022-06-15 12:00:00', 'cuaca': 'Hujan Ringan'}, {'jamCuaca': '2022-06-16 00:00:00', 'cuaca': 'Hujan Ringan'}, {'jamCuaca': '2022-06-16 06:00:00', 'cuaca': 'Hujan Ringan'}, {'jamCuaca': '2022-06-16 12:00:00', 'cuaca': 'Hujan Ringan'}]\n"
     ]
    }
   ],
   "source": [
    "hasil = []\n",
    "for d in weather:\n",
    "    if d['cuaca'] == \"Hujan Ringan\":\n",
    "        h = {'jamCuaca':d['jamCuaca'], 'cuaca':d['cuaca']}\n",
    "        hasil.append(h)\n",
    "\n",
    "print(hasil)"
   ]
  },
  {
   "cell_type": "code",
   "execution_count": null,
   "id": "48fec867",
   "metadata": {},
   "outputs": [],
   "source": []
  }
 ],
 "metadata": {
  "kernelspec": {
   "display_name": "Python 3 (ipykernel)",
   "language": "python",
   "name": "python3"
  },
  "language_info": {
   "codemirror_mode": {
    "name": "ipython",
    "version": 3
   },
   "file_extension": ".py",
   "mimetype": "text/x-python",
   "name": "python",
   "nbconvert_exporter": "python",
   "pygments_lexer": "ipython3",
   "version": "3.9.7"
  }
 },
 "nbformat": 4,
 "nbformat_minor": 5
}
