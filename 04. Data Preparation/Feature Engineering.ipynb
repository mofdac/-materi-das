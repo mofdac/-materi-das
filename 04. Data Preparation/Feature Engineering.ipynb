{
 "cells": [
  {
   "cell_type": "markdown",
   "id": "681d6654",
   "metadata": {},
   "source": [
    "<h4><center><font color=\"1F4690\">PJJ PENGOLAHAN DATA DENGAN PYTHON <br> <br> Selasa, 21 Mei 2023</font></center></h4>\n",
    "<div class=\"alert alert-info\"><h1 align=\"center\"><font color=\"1F4690\">Feature Engineering</font></h4></div> "
   ]
  },
  {
   "cell_type": "code",
   "execution_count": 1,
   "id": "21a9197a",
   "metadata": {},
   "outputs": [],
   "source": [
    "# jika menemukan error \"no module named\", silahkan uncomment line instalasi di bawah ini\n",
    "\n",
    "# !pip install fancyimpute\n",
    "# !pip install pingouin"
   ]
  },
  {
   "cell_type": "markdown",
   "id": "e9976947",
   "metadata": {},
   "source": [
    "## Daftar Isi:\n",
    "\n",
    "* [1. Data Pencilan (Outlier)](#ABC)\n",
    "* [2. Data Hilang (Missing Value)](#DEF)\n",
    "* [3. Data Normal](#GEH)\n",
    "* [3. Penanganan Data yang Hilang](#DEF)\n",
    "* [4. Penanganan Data Pencilan](#DEF)\n",
    "* [5. Transforming Variable (Encoding & Binning)](#DEF)\n",
    "* [6. Deriving Feature from Mathematical Computation](#DEF)\n",
    "* [7. Deriving Feature from Data and Time](#DEF)"
   ]
  },
  {
   "cell_type": "markdown",
   "id": "16e0499e",
   "metadata": {},
   "source": [
    "Feature engineering adalah proses menggunakan domain knowledge sehingga meningkatkan kemampuan preediksi dari algoritma machine learning.\n",
    "* Feature Extraction - membuat feature dari feature-feature yang sudah ada dan menanggalkan feature yang lama untuk mengurangi feature pada dataset.\n",
    "* Feature Scaling & Selection - proses memilih variabel input untuk model."
   ]
  },
  {
   "cell_type": "markdown",
   "id": "43d0308a",
   "metadata": {},
   "source": [
    "![Feature Engineering](https://cdn-coepj.nitrocdn.com/wfkiesSEwVfWQNLPjWDvKANpXMZpUZbv/assets/static/optimized/rev-0aeadd8/wp-content/uploads/2019/07/Screen-Shot-2021-10-18-at-8.48.58-AM-1536x552.png)"
   ]
  },
  {
   "cell_type": "markdown",
   "id": "4b3739f9",
   "metadata": {},
   "source": [
    "# 1. Data Pencilan (Outlier)"
   ]
  },
  {
   "cell_type": "markdown",
   "id": "05990b89",
   "metadata": {},
   "source": [
    "## 1.1 Three Sigma Rule\n",
    "\n",
    "![Sigma](https://miro.medium.com/max/1400/1*IZ2II2HYKeoMrdLU5jW6Dw.png)\n",
    "$P(a−3σ<X<a+3σ)=0.99730$\n",
    "\n",
    "Kriteria Outlier untuk **Three Sigma Rule** :\n",
    "> $|x_K-\\bar x|>3\\sigma$\n",
    "\n",
    "Keterangan :\n",
    "* $x_K$ adalah data ke-$k$, \n",
    "* $\\bar x$ adalah rata-rata data, \n",
    "* $\\sigma$ adalah standar deviasi"
   ]
  },
  {
   "cell_type": "code",
   "execution_count": 2,
   "id": "cb770dde",
   "metadata": {},
   "outputs": [],
   "source": [
    "# PEMBUATAN FUNGSI UNTUK KRITERIA OUTLIER\n",
    "def three_sigma_outlier (df):\n",
    "    if (abs(potassium-df['potassium'].mean())>(3*df['potassium'].std())):\n",
    "        return \"Outlier\"\n",
    "    else:\n",
    "        return \"Not Outlier\""
   ]
  },
  {
   "cell_type": "code",
   "execution_count": 3,
   "id": "1b0bee10",
   "metadata": {},
   "outputs": [
    {
     "data": {
      "text/html": [
       "<div>\n",
       "<style scoped>\n",
       "    .dataframe tbody tr th:only-of-type {\n",
       "        vertical-align: middle;\n",
       "    }\n",
       "\n",
       "    .dataframe tbody tr th {\n",
       "        vertical-align: top;\n",
       "    }\n",
       "\n",
       "    .dataframe thead th {\n",
       "        text-align: right;\n",
       "    }\n",
       "</style>\n",
       "<table border=\"1\" class=\"dataframe\">\n",
       "  <thead>\n",
       "    <tr style=\"text-align: right;\">\n",
       "      <th></th>\n",
       "      <th>Unnamed: 0</th>\n",
       "      <th>mfr</th>\n",
       "      <th>calories</th>\n",
       "      <th>protein</th>\n",
       "      <th>fat</th>\n",
       "      <th>sodium</th>\n",
       "      <th>fibre</th>\n",
       "      <th>carbo</th>\n",
       "      <th>sugars</th>\n",
       "      <th>shelf</th>\n",
       "      <th>potassium</th>\n",
       "      <th>vitamins</th>\n",
       "    </tr>\n",
       "  </thead>\n",
       "  <tbody>\n",
       "    <tr>\n",
       "      <th>0</th>\n",
       "      <td>100% Bran</td>\n",
       "      <td>N</td>\n",
       "      <td>212.12121</td>\n",
       "      <td>12.121212</td>\n",
       "      <td>3.030303</td>\n",
       "      <td>393.93939</td>\n",
       "      <td>30.303030</td>\n",
       "      <td>15.15152</td>\n",
       "      <td>18.181818</td>\n",
       "      <td>3</td>\n",
       "      <td>848.48485</td>\n",
       "      <td>enriched</td>\n",
       "    </tr>\n",
       "    <tr>\n",
       "      <th>1</th>\n",
       "      <td>All-Bran</td>\n",
       "      <td>K</td>\n",
       "      <td>212.12121</td>\n",
       "      <td>12.121212</td>\n",
       "      <td>3.030303</td>\n",
       "      <td>787.87879</td>\n",
       "      <td>27.272727</td>\n",
       "      <td>21.21212</td>\n",
       "      <td>15.151515</td>\n",
       "      <td>3</td>\n",
       "      <td>969.69697</td>\n",
       "      <td>enriched</td>\n",
       "    </tr>\n",
       "    <tr>\n",
       "      <th>2</th>\n",
       "      <td>All-Bran with Extra Fiber</td>\n",
       "      <td>K</td>\n",
       "      <td>100.00000</td>\n",
       "      <td>8.000000</td>\n",
       "      <td>0.000000</td>\n",
       "      <td>280.00000</td>\n",
       "      <td>28.000000</td>\n",
       "      <td>16.00000</td>\n",
       "      <td>0.000000</td>\n",
       "      <td>3</td>\n",
       "      <td>660.00000</td>\n",
       "      <td>enriched</td>\n",
       "    </tr>\n",
       "    <tr>\n",
       "      <th>3</th>\n",
       "      <td>Apple Cinnamon Cheerios</td>\n",
       "      <td>G</td>\n",
       "      <td>146.66667</td>\n",
       "      <td>2.666667</td>\n",
       "      <td>2.666667</td>\n",
       "      <td>240.00000</td>\n",
       "      <td>2.000000</td>\n",
       "      <td>14.00000</td>\n",
       "      <td>13.333333</td>\n",
       "      <td>1</td>\n",
       "      <td>93.33333</td>\n",
       "      <td>enriched</td>\n",
       "    </tr>\n",
       "    <tr>\n",
       "      <th>4</th>\n",
       "      <td>Apple Jacks</td>\n",
       "      <td>K</td>\n",
       "      <td>110.00000</td>\n",
       "      <td>2.000000</td>\n",
       "      <td>0.000000</td>\n",
       "      <td>125.00000</td>\n",
       "      <td>1.000000</td>\n",
       "      <td>11.00000</td>\n",
       "      <td>14.000000</td>\n",
       "      <td>2</td>\n",
       "      <td>30.00000</td>\n",
       "      <td>enriched</td>\n",
       "    </tr>\n",
       "    <tr>\n",
       "      <th>5</th>\n",
       "      <td>Basic 4</td>\n",
       "      <td>G</td>\n",
       "      <td>173.33333</td>\n",
       "      <td>4.000000</td>\n",
       "      <td>2.666667</td>\n",
       "      <td>280.00000</td>\n",
       "      <td>2.666667</td>\n",
       "      <td>24.00000</td>\n",
       "      <td>10.666667</td>\n",
       "      <td>3</td>\n",
       "      <td>133.33333</td>\n",
       "      <td>enriched</td>\n",
       "    </tr>\n",
       "    <tr>\n",
       "      <th>6</th>\n",
       "      <td>Bran Chex</td>\n",
       "      <td>R</td>\n",
       "      <td>134.32836</td>\n",
       "      <td>2.985075</td>\n",
       "      <td>1.492537</td>\n",
       "      <td>298.50746</td>\n",
       "      <td>5.970149</td>\n",
       "      <td>22.38806</td>\n",
       "      <td>8.955224</td>\n",
       "      <td>1</td>\n",
       "      <td>186.56716</td>\n",
       "      <td>enriched</td>\n",
       "    </tr>\n",
       "    <tr>\n",
       "      <th>7</th>\n",
       "      <td>Bran Flakes</td>\n",
       "      <td>P</td>\n",
       "      <td>134.32836</td>\n",
       "      <td>4.477612</td>\n",
       "      <td>0.000000</td>\n",
       "      <td>313.43284</td>\n",
       "      <td>7.462687</td>\n",
       "      <td>19.40299</td>\n",
       "      <td>7.462687</td>\n",
       "      <td>3</td>\n",
       "      <td>283.58209</td>\n",
       "      <td>enriched</td>\n",
       "    </tr>\n",
       "  </tbody>\n",
       "</table>\n",
       "</div>"
      ],
      "text/plain": [
       "                  Unnamed: 0 mfr   calories    protein       fat     sodium   \n",
       "0                  100% Bran   N  212.12121  12.121212  3.030303  393.93939  \\\n",
       "1                   All-Bran   K  212.12121  12.121212  3.030303  787.87879   \n",
       "2  All-Bran with Extra Fiber   K  100.00000   8.000000  0.000000  280.00000   \n",
       "3    Apple Cinnamon Cheerios   G  146.66667   2.666667  2.666667  240.00000   \n",
       "4                Apple Jacks   K  110.00000   2.000000  0.000000  125.00000   \n",
       "5                    Basic 4   G  173.33333   4.000000  2.666667  280.00000   \n",
       "6                  Bran Chex   R  134.32836   2.985075  1.492537  298.50746   \n",
       "7                Bran Flakes   P  134.32836   4.477612  0.000000  313.43284   \n",
       "\n",
       "       fibre     carbo     sugars  shelf  potassium  vitamins  \n",
       "0  30.303030  15.15152  18.181818      3  848.48485  enriched  \n",
       "1  27.272727  21.21212  15.151515      3  969.69697  enriched  \n",
       "2  28.000000  16.00000   0.000000      3  660.00000  enriched  \n",
       "3   2.000000  14.00000  13.333333      1   93.33333  enriched  \n",
       "4   1.000000  11.00000  14.000000      2   30.00000  enriched  \n",
       "5   2.666667  24.00000  10.666667      3  133.33333  enriched  \n",
       "6   5.970149  22.38806   8.955224      1  186.56716  enriched  \n",
       "7   7.462687  19.40299   7.462687      3  283.58209  enriched  "
      ]
     },
     "execution_count": 3,
     "metadata": {},
     "output_type": "execute_result"
    }
   ],
   "source": [
    "import pandas as pd\n",
    "import numpy as np\n",
    "df=pd.read_csv('https://raw.githubusercontent.com/mofdac/-materi-das/main/04.%20Data%20Preparation/dataset/UScereal.csv')\n",
    "df.head(8)"
   ]
  },
  {
   "cell_type": "code",
   "execution_count": 4,
   "id": "fc9bd75d",
   "metadata": {},
   "outputs": [
    {
     "data": {
      "text/html": [
       "<div>\n",
       "<style scoped>\n",
       "    .dataframe tbody tr th:only-of-type {\n",
       "        vertical-align: middle;\n",
       "    }\n",
       "\n",
       "    .dataframe tbody tr th {\n",
       "        vertical-align: top;\n",
       "    }\n",
       "\n",
       "    .dataframe thead th {\n",
       "        text-align: right;\n",
       "    }\n",
       "</style>\n",
       "<table border=\"1\" class=\"dataframe\">\n",
       "  <thead>\n",
       "    <tr style=\"text-align: right;\">\n",
       "      <th></th>\n",
       "      <th>Unnamed: 0</th>\n",
       "      <th>mfr</th>\n",
       "      <th>calories</th>\n",
       "      <th>protein</th>\n",
       "      <th>fat</th>\n",
       "      <th>sodium</th>\n",
       "      <th>fibre</th>\n",
       "      <th>carbo</th>\n",
       "      <th>sugars</th>\n",
       "      <th>shelf</th>\n",
       "      <th>potassium</th>\n",
       "      <th>vitamins</th>\n",
       "      <th>result_3sigma</th>\n",
       "    </tr>\n",
       "  </thead>\n",
       "  <tbody>\n",
       "    <tr>\n",
       "      <th>0</th>\n",
       "      <td>100% Bran</td>\n",
       "      <td>N</td>\n",
       "      <td>212.12121</td>\n",
       "      <td>12.121212</td>\n",
       "      <td>3.030303</td>\n",
       "      <td>393.93939</td>\n",
       "      <td>30.303030</td>\n",
       "      <td>15.15152</td>\n",
       "      <td>18.181818</td>\n",
       "      <td>3</td>\n",
       "      <td>848.48485</td>\n",
       "      <td>enriched</td>\n",
       "      <td>Outlier</td>\n",
       "    </tr>\n",
       "    <tr>\n",
       "      <th>1</th>\n",
       "      <td>All-Bran</td>\n",
       "      <td>K</td>\n",
       "      <td>212.12121</td>\n",
       "      <td>12.121212</td>\n",
       "      <td>3.030303</td>\n",
       "      <td>787.87879</td>\n",
       "      <td>27.272727</td>\n",
       "      <td>21.21212</td>\n",
       "      <td>15.151515</td>\n",
       "      <td>3</td>\n",
       "      <td>969.69697</td>\n",
       "      <td>enriched</td>\n",
       "      <td>Outlier</td>\n",
       "    </tr>\n",
       "    <tr>\n",
       "      <th>2</th>\n",
       "      <td>All-Bran with Extra Fiber</td>\n",
       "      <td>K</td>\n",
       "      <td>100.00000</td>\n",
       "      <td>8.000000</td>\n",
       "      <td>0.000000</td>\n",
       "      <td>280.00000</td>\n",
       "      <td>28.000000</td>\n",
       "      <td>16.00000</td>\n",
       "      <td>0.000000</td>\n",
       "      <td>3</td>\n",
       "      <td>660.00000</td>\n",
       "      <td>enriched</td>\n",
       "      <td>Not Outlier</td>\n",
       "    </tr>\n",
       "    <tr>\n",
       "      <th>3</th>\n",
       "      <td>Apple Cinnamon Cheerios</td>\n",
       "      <td>G</td>\n",
       "      <td>146.66667</td>\n",
       "      <td>2.666667</td>\n",
       "      <td>2.666667</td>\n",
       "      <td>240.00000</td>\n",
       "      <td>2.000000</td>\n",
       "      <td>14.00000</td>\n",
       "      <td>13.333333</td>\n",
       "      <td>1</td>\n",
       "      <td>93.33333</td>\n",
       "      <td>enriched</td>\n",
       "      <td>Not Outlier</td>\n",
       "    </tr>\n",
       "    <tr>\n",
       "      <th>4</th>\n",
       "      <td>Apple Jacks</td>\n",
       "      <td>K</td>\n",
       "      <td>110.00000</td>\n",
       "      <td>2.000000</td>\n",
       "      <td>0.000000</td>\n",
       "      <td>125.00000</td>\n",
       "      <td>1.000000</td>\n",
       "      <td>11.00000</td>\n",
       "      <td>14.000000</td>\n",
       "      <td>2</td>\n",
       "      <td>30.00000</td>\n",
       "      <td>enriched</td>\n",
       "      <td>Not Outlier</td>\n",
       "    </tr>\n",
       "  </tbody>\n",
       "</table>\n",
       "</div>"
      ],
      "text/plain": [
       "                  Unnamed: 0 mfr   calories    protein       fat     sodium   \n",
       "0                  100% Bran   N  212.12121  12.121212  3.030303  393.93939  \\\n",
       "1                   All-Bran   K  212.12121  12.121212  3.030303  787.87879   \n",
       "2  All-Bran with Extra Fiber   K  100.00000   8.000000  0.000000  280.00000   \n",
       "3    Apple Cinnamon Cheerios   G  146.66667   2.666667  2.666667  240.00000   \n",
       "4                Apple Jacks   K  110.00000   2.000000  0.000000  125.00000   \n",
       "\n",
       "       fibre     carbo     sugars  shelf  potassium  vitamins result_3sigma  \n",
       "0  30.303030  15.15152  18.181818      3  848.48485  enriched       Outlier  \n",
       "1  27.272727  21.21212  15.151515      3  969.69697  enriched       Outlier  \n",
       "2  28.000000  16.00000   0.000000      3  660.00000  enriched   Not Outlier  \n",
       "3   2.000000  14.00000  13.333333      1   93.33333  enriched   Not Outlier  \n",
       "4   1.000000  11.00000  14.000000      2   30.00000  enriched   Not Outlier  "
      ]
     },
     "execution_count": 4,
     "metadata": {},
     "output_type": "execute_result"
    }
   ],
   "source": [
    "# LOAD FUNGSI UNTUK KRITERIA OUTLIER\n",
    "def three_sigma_outlier (potassium):\n",
    "    if (abs(potassium-df['potassium'].mean())>(3*df['potassium'].std())):\n",
    "        return \"Outlier\"\n",
    "    else:\n",
    "        return \"Not Outlier\"\n",
    "\n",
    "    # APLIKASI KE TABEL    \n",
    "df['result_3sigma']=df['potassium'].apply(three_sigma_outlier)\n",
    "df.head()"
   ]
  },
  {
   "cell_type": "code",
   "execution_count": 5,
   "id": "01dfd42c",
   "metadata": {},
   "outputs": [
    {
     "data": {
      "image/png": "[encoded data removed]",
      "text/plain": [
       "<Figure size 1440x432 with 1 Axes>"
      ]
     },
     "metadata": {
      "needs_background": "light"
     },
     "output_type": "display_data"
    }
   ],
   "source": [
    "# VISUALISASI OUTLIER\n",
    "import matplotlib.pyplot as plt\n",
    "from matplotlib.pyplot import figure\n",
    "plt.rcParams[\"figure.figsize\"] = (20,6)\n",
    "\n",
    "df.plot(x ='Unnamed: 0', y='potassium', kind = 'scatter')\n",
    "plt.show()"
   ]
  },
  {
   "cell_type": "code",
   "execution_count": 6,
   "id": "e2fed891",
   "metadata": {},
   "outputs": [
    {
     "data": {
      "text/html": [
       "<div>\n",
       "<style scoped>\n",
       "    .dataframe tbody tr th:only-of-type {\n",
       "        vertical-align: middle;\n",
       "    }\n",
       "\n",
       "    .dataframe tbody tr th {\n",
       "        vertical-align: top;\n",
       "    }\n",
       "\n",
       "    .dataframe thead th {\n",
       "        text-align: right;\n",
       "    }\n",
       "</style>\n",
       "<table border=\"1\" class=\"dataframe\">\n",
       "  <thead>\n",
       "    <tr style=\"text-align: right;\">\n",
       "      <th></th>\n",
       "      <th>Unnamed: 0</th>\n",
       "      <th>mfr</th>\n",
       "      <th>calories</th>\n",
       "      <th>protein</th>\n",
       "      <th>fat</th>\n",
       "      <th>sodium</th>\n",
       "      <th>fibre</th>\n",
       "      <th>carbo</th>\n",
       "      <th>sugars</th>\n",
       "      <th>shelf</th>\n",
       "      <th>potassium</th>\n",
       "      <th>vitamins</th>\n",
       "      <th>result_3sigma</th>\n",
       "    </tr>\n",
       "  </thead>\n",
       "  <tbody>\n",
       "    <tr>\n",
       "      <th>0</th>\n",
       "      <td>100% Bran</td>\n",
       "      <td>N</td>\n",
       "      <td>212.12121</td>\n",
       "      <td>12.121212</td>\n",
       "      <td>3.030303</td>\n",
       "      <td>393.93939</td>\n",
       "      <td>30.303030</td>\n",
       "      <td>15.15152</td>\n",
       "      <td>18.181818</td>\n",
       "      <td>3</td>\n",
       "      <td>848.48485</td>\n",
       "      <td>enriched</td>\n",
       "      <td>Outlier</td>\n",
       "    </tr>\n",
       "    <tr>\n",
       "      <th>1</th>\n",
       "      <td>All-Bran</td>\n",
       "      <td>K</td>\n",
       "      <td>212.12121</td>\n",
       "      <td>12.121212</td>\n",
       "      <td>3.030303</td>\n",
       "      <td>787.87879</td>\n",
       "      <td>27.272727</td>\n",
       "      <td>21.21212</td>\n",
       "      <td>15.151515</td>\n",
       "      <td>3</td>\n",
       "      <td>969.69697</td>\n",
       "      <td>enriched</td>\n",
       "      <td>Outlier</td>\n",
       "    </tr>\n",
       "  </tbody>\n",
       "</table>\n",
       "</div>"
      ],
      "text/plain": [
       "  Unnamed: 0 mfr   calories    protein       fat     sodium      fibre   \n",
       "0  100% Bran   N  212.12121  12.121212  3.030303  393.93939  30.303030  \\\n",
       "1   All-Bran   K  212.12121  12.121212  3.030303  787.87879  27.272727   \n",
       "\n",
       "      carbo     sugars  shelf  potassium  vitamins result_3sigma  \n",
       "0  15.15152  18.181818      3  848.48485  enriched       Outlier  \n",
       "1  21.21212  15.151515      3  969.69697  enriched       Outlier  "
      ]
     },
     "execution_count": 6,
     "metadata": {},
     "output_type": "execute_result"
    }
   ],
   "source": [
    "# MELIHAT OUTLIER\n",
    "df.loc[df['result_3sigma']=='Outlier']"
   ]
  },
  {
   "cell_type": "code",
   "execution_count": 7,
   "id": "055f66c1",
   "metadata": {},
   "outputs": [
    {
     "data": {
      "text/html": [
       "<div>\n",
       "<style scoped>\n",
       "    .dataframe tbody tr th:only-of-type {\n",
       "        vertical-align: middle;\n",
       "    }\n",
       "\n",
       "    .dataframe tbody tr th {\n",
       "        vertical-align: top;\n",
       "    }\n",
       "\n",
       "    .dataframe thead th {\n",
       "        text-align: right;\n",
       "    }\n",
       "</style>\n",
       "<table border=\"1\" class=\"dataframe\">\n",
       "  <thead>\n",
       "    <tr style=\"text-align: right;\">\n",
       "      <th></th>\n",
       "      <th>Unnamed: 0</th>\n",
       "      <th>mfr</th>\n",
       "      <th>calories</th>\n",
       "      <th>protein</th>\n",
       "      <th>fat</th>\n",
       "      <th>sodium</th>\n",
       "      <th>fibre</th>\n",
       "      <th>carbo</th>\n",
       "      <th>sugars</th>\n",
       "      <th>shelf</th>\n",
       "      <th>potassium</th>\n",
       "      <th>vitamins</th>\n",
       "      <th>result_3sigma</th>\n",
       "    </tr>\n",
       "  </thead>\n",
       "  <tbody>\n",
       "    <tr>\n",
       "      <th>2</th>\n",
       "      <td>All-Bran with Extra Fiber</td>\n",
       "      <td>K</td>\n",
       "      <td>100.00000</td>\n",
       "      <td>8.000000</td>\n",
       "      <td>0.000000</td>\n",
       "      <td>280.00000</td>\n",
       "      <td>28.000000</td>\n",
       "      <td>16.00000</td>\n",
       "      <td>0.000000</td>\n",
       "      <td>3</td>\n",
       "      <td>660.00000</td>\n",
       "      <td>enriched</td>\n",
       "      <td>Not Outlier</td>\n",
       "    </tr>\n",
       "    <tr>\n",
       "      <th>3</th>\n",
       "      <td>Apple Cinnamon Cheerios</td>\n",
       "      <td>G</td>\n",
       "      <td>146.66667</td>\n",
       "      <td>2.666667</td>\n",
       "      <td>2.666667</td>\n",
       "      <td>240.00000</td>\n",
       "      <td>2.000000</td>\n",
       "      <td>14.00000</td>\n",
       "      <td>13.333333</td>\n",
       "      <td>1</td>\n",
       "      <td>93.33333</td>\n",
       "      <td>enriched</td>\n",
       "      <td>Not Outlier</td>\n",
       "    </tr>\n",
       "    <tr>\n",
       "      <th>4</th>\n",
       "      <td>Apple Jacks</td>\n",
       "      <td>K</td>\n",
       "      <td>110.00000</td>\n",
       "      <td>2.000000</td>\n",
       "      <td>0.000000</td>\n",
       "      <td>125.00000</td>\n",
       "      <td>1.000000</td>\n",
       "      <td>11.00000</td>\n",
       "      <td>14.000000</td>\n",
       "      <td>2</td>\n",
       "      <td>30.00000</td>\n",
       "      <td>enriched</td>\n",
       "      <td>Not Outlier</td>\n",
       "    </tr>\n",
       "    <tr>\n",
       "      <th>5</th>\n",
       "      <td>Basic 4</td>\n",
       "      <td>G</td>\n",
       "      <td>173.33333</td>\n",
       "      <td>4.000000</td>\n",
       "      <td>2.666667</td>\n",
       "      <td>280.00000</td>\n",
       "      <td>2.666667</td>\n",
       "      <td>24.00000</td>\n",
       "      <td>10.666667</td>\n",
       "      <td>3</td>\n",
       "      <td>133.33333</td>\n",
       "      <td>enriched</td>\n",
       "      <td>Not Outlier</td>\n",
       "    </tr>\n",
       "    <tr>\n",
       "      <th>6</th>\n",
       "      <td>Bran Chex</td>\n",
       "      <td>R</td>\n",
       "      <td>134.32836</td>\n",
       "      <td>2.985075</td>\n",
       "      <td>1.492537</td>\n",
       "      <td>298.50746</td>\n",
       "      <td>5.970149</td>\n",
       "      <td>22.38806</td>\n",
       "      <td>8.955224</td>\n",
       "      <td>1</td>\n",
       "      <td>186.56716</td>\n",
       "      <td>enriched</td>\n",
       "      <td>Not Outlier</td>\n",
       "    </tr>\n",
       "  </tbody>\n",
       "</table>\n",
       "</div>"
      ],
      "text/plain": [
       "                  Unnamed: 0 mfr   calories   protein       fat     sodium   \n",
       "2  All-Bran with Extra Fiber   K  100.00000  8.000000  0.000000  280.00000  \\\n",
       "3    Apple Cinnamon Cheerios   G  146.66667  2.666667  2.666667  240.00000   \n",
       "4                Apple Jacks   K  110.00000  2.000000  0.000000  125.00000   \n",
       "5                    Basic 4   G  173.33333  4.000000  2.666667  280.00000   \n",
       "6                  Bran Chex   R  134.32836  2.985075  1.492537  298.50746   \n",
       "\n",
       "       fibre     carbo     sugars  shelf  potassium  vitamins result_3sigma  \n",
       "2  28.000000  16.00000   0.000000      3  660.00000  enriched   Not Outlier  \n",
       "3   2.000000  14.00000  13.333333      1   93.33333  enriched   Not Outlier  \n",
       "4   1.000000  11.00000  14.000000      2   30.00000  enriched   Not Outlier  \n",
       "5   2.666667  24.00000  10.666667      3  133.33333  enriched   Not Outlier  \n",
       "6   5.970149  22.38806   8.955224      1  186.56716  enriched   Not Outlier  "
      ]
     },
     "execution_count": 7,
     "metadata": {},
     "output_type": "execute_result"
    }
   ],
   "source": [
    "# JIKA HENDAK MEMBUAT DATASET BARU MENGELUARKAN OUTLIER\n",
    "df_net=df.loc[df['result_3sigma']=='Not Outlier']\n",
    "df_net.head()"
   ]
  },
  {
   "cell_type": "markdown",
   "id": "857ce9f7",
   "metadata": {},
   "source": [
    "## 1.2 Hampel Identifier\n",
    "Kriteria Outlier untuk Hampel Identifier :\n",
    "\n",
    "> Median Absolute Value from The Median (MADM)\n",
    "\n",
    "$MADM(x)=1.4826 \\times median \\{|x_K-x^+|\\}$\n",
    "\n",
    "Keterangan :\n",
    "* $x_K$ adalah data ke $K$\n",
    "* $x^+$ adalah median dari data"
   ]
  },
  {
   "cell_type": "code",
   "execution_count": 8,
   "id": "30e9dda9",
   "metadata": {},
   "outputs": [
    {
     "data": {
      "text/html": [
       "<div>\n",
       "<style scoped>\n",
       "    .dataframe tbody tr th:only-of-type {\n",
       "        vertical-align: middle;\n",
       "    }\n",
       "\n",
       "    .dataframe tbody tr th {\n",
       "        vertical-align: top;\n",
       "    }\n",
       "\n",
       "    .dataframe thead th {\n",
       "        text-align: right;\n",
       "    }\n",
       "</style>\n",
       "<table border=\"1\" class=\"dataframe\">\n",
       "  <thead>\n",
       "    <tr style=\"text-align: right;\">\n",
       "      <th></th>\n",
       "      <th>Unnamed: 0</th>\n",
       "      <th>mfr</th>\n",
       "      <th>calories</th>\n",
       "      <th>protein</th>\n",
       "      <th>fat</th>\n",
       "      <th>sodium</th>\n",
       "      <th>fibre</th>\n",
       "      <th>carbo</th>\n",
       "      <th>sugars</th>\n",
       "      <th>shelf</th>\n",
       "      <th>potassium</th>\n",
       "      <th>vitamins</th>\n",
       "      <th>result_3sigma</th>\n",
       "      <th>amd</th>\n",
       "    </tr>\n",
       "  </thead>\n",
       "  <tbody>\n",
       "    <tr>\n",
       "      <th>0</th>\n",
       "      <td>100% Bran</td>\n",
       "      <td>N</td>\n",
       "      <td>212.12121</td>\n",
       "      <td>12.121212</td>\n",
       "      <td>3.030303</td>\n",
       "      <td>393.93939</td>\n",
       "      <td>30.303030</td>\n",
       "      <td>15.15152</td>\n",
       "      <td>18.181818</td>\n",
       "      <td>3</td>\n",
       "      <td>848.48485</td>\n",
       "      <td>enriched</td>\n",
       "      <td>Outlier</td>\n",
       "      <td>736.48485</td>\n",
       "    </tr>\n",
       "    <tr>\n",
       "      <th>1</th>\n",
       "      <td>All-Bran</td>\n",
       "      <td>K</td>\n",
       "      <td>212.12121</td>\n",
       "      <td>12.121212</td>\n",
       "      <td>3.030303</td>\n",
       "      <td>787.87879</td>\n",
       "      <td>27.272727</td>\n",
       "      <td>21.21212</td>\n",
       "      <td>15.151515</td>\n",
       "      <td>3</td>\n",
       "      <td>969.69697</td>\n",
       "      <td>enriched</td>\n",
       "      <td>Outlier</td>\n",
       "      <td>857.69697</td>\n",
       "    </tr>\n",
       "    <tr>\n",
       "      <th>2</th>\n",
       "      <td>All-Bran with Extra Fiber</td>\n",
       "      <td>K</td>\n",
       "      <td>100.00000</td>\n",
       "      <td>8.000000</td>\n",
       "      <td>0.000000</td>\n",
       "      <td>280.00000</td>\n",
       "      <td>28.000000</td>\n",
       "      <td>16.00000</td>\n",
       "      <td>0.000000</td>\n",
       "      <td>3</td>\n",
       "      <td>660.00000</td>\n",
       "      <td>enriched</td>\n",
       "      <td>Not Outlier</td>\n",
       "      <td>548.00000</td>\n",
       "    </tr>\n",
       "    <tr>\n",
       "      <th>3</th>\n",
       "      <td>Apple Cinnamon Cheerios</td>\n",
       "      <td>G</td>\n",
       "      <td>146.66667</td>\n",
       "      <td>2.666667</td>\n",
       "      <td>2.666667</td>\n",
       "      <td>240.00000</td>\n",
       "      <td>2.000000</td>\n",
       "      <td>14.00000</td>\n",
       "      <td>13.333333</td>\n",
       "      <td>1</td>\n",
       "      <td>93.33333</td>\n",
       "      <td>enriched</td>\n",
       "      <td>Not Outlier</td>\n",
       "      <td>18.66667</td>\n",
       "    </tr>\n",
       "    <tr>\n",
       "      <th>4</th>\n",
       "      <td>Apple Jacks</td>\n",
       "      <td>K</td>\n",
       "      <td>110.00000</td>\n",
       "      <td>2.000000</td>\n",
       "      <td>0.000000</td>\n",
       "      <td>125.00000</td>\n",
       "      <td>1.000000</td>\n",
       "      <td>11.00000</td>\n",
       "      <td>14.000000</td>\n",
       "      <td>2</td>\n",
       "      <td>30.00000</td>\n",
       "      <td>enriched</td>\n",
       "      <td>Not Outlier</td>\n",
       "      <td>82.00000</td>\n",
       "    </tr>\n",
       "  </tbody>\n",
       "</table>\n",
       "</div>"
      ],
      "text/plain": [
       "                  Unnamed: 0 mfr   calories    protein       fat     sodium   \n",
       "0                  100% Bran   N  212.12121  12.121212  3.030303  393.93939  \\\n",
       "1                   All-Bran   K  212.12121  12.121212  3.030303  787.87879   \n",
       "2  All-Bran with Extra Fiber   K  100.00000   8.000000  0.000000  280.00000   \n",
       "3    Apple Cinnamon Cheerios   G  146.66667   2.666667  2.666667  240.00000   \n",
       "4                Apple Jacks   K  110.00000   2.000000  0.000000  125.00000   \n",
       "\n",
       "       fibre     carbo     sugars  shelf  potassium  vitamins result_3sigma   \n",
       "0  30.303030  15.15152  18.181818      3  848.48485  enriched       Outlier  \\\n",
       "1  27.272727  21.21212  15.151515      3  969.69697  enriched       Outlier   \n",
       "2  28.000000  16.00000   0.000000      3  660.00000  enriched   Not Outlier   \n",
       "3   2.000000  14.00000  13.333333      1   93.33333  enriched   Not Outlier   \n",
       "4   1.000000  11.00000  14.000000      2   30.00000  enriched   Not Outlier   \n",
       "\n",
       "         amd  \n",
       "0  736.48485  \n",
       "1  857.69697  \n",
       "2  548.00000  \n",
       "3   18.66667  \n",
       "4   82.00000  "
      ]
     },
     "execution_count": 8,
     "metadata": {},
     "output_type": "execute_result"
    }
   ],
   "source": [
    "# BUAT KOLOM UNTUK $x_k-x+$\n",
    "med=df['potassium'].quantile(0.55)\n",
    "def abs_med_dev (potassium):\n",
    "    return abs(potassium-med)\n",
    "\n",
    "# amd absolut median deviation\n",
    "df['amd']=df['potassium'].apply(abs_med_dev)\n",
    "df.head()"
   ]
  },
  {
   "cell_type": "code",
   "execution_count": 9,
   "id": "da0721d0",
   "metadata": {},
   "outputs": [
    {
     "data": {
      "text/html": [
       "<div>\n",
       "<style scoped>\n",
       "    .dataframe tbody tr th:only-of-type {\n",
       "        vertical-align: middle;\n",
       "    }\n",
       "\n",
       "    .dataframe tbody tr th {\n",
       "        vertical-align: top;\n",
       "    }\n",
       "\n",
       "    .dataframe thead th {\n",
       "        text-align: right;\n",
       "    }\n",
       "</style>\n",
       "<table border=\"1\" class=\"dataframe\">\n",
       "  <thead>\n",
       "    <tr style=\"text-align: right;\">\n",
       "      <th></th>\n",
       "      <th>Unnamed: 0</th>\n",
       "      <th>mfr</th>\n",
       "      <th>calories</th>\n",
       "      <th>protein</th>\n",
       "      <th>fat</th>\n",
       "      <th>sodium</th>\n",
       "      <th>fibre</th>\n",
       "      <th>carbo</th>\n",
       "      <th>sugars</th>\n",
       "      <th>shelf</th>\n",
       "      <th>potassium</th>\n",
       "      <th>vitamins</th>\n",
       "      <th>result_3sigma</th>\n",
       "      <th>amd</th>\n",
       "      <th>result_hampel</th>\n",
       "    </tr>\n",
       "  </thead>\n",
       "  <tbody>\n",
       "    <tr>\n",
       "      <th>0</th>\n",
       "      <td>100% Bran</td>\n",
       "      <td>N</td>\n",
       "      <td>212.12121</td>\n",
       "      <td>12.121212</td>\n",
       "      <td>3.030303</td>\n",
       "      <td>393.93939</td>\n",
       "      <td>30.303030</td>\n",
       "      <td>15.15152</td>\n",
       "      <td>18.181818</td>\n",
       "      <td>3</td>\n",
       "      <td>848.48485</td>\n",
       "      <td>enriched</td>\n",
       "      <td>Outlier</td>\n",
       "      <td>736.48485</td>\n",
       "      <td>Outlier</td>\n",
       "    </tr>\n",
       "    <tr>\n",
       "      <th>1</th>\n",
       "      <td>All-Bran</td>\n",
       "      <td>K</td>\n",
       "      <td>212.12121</td>\n",
       "      <td>12.121212</td>\n",
       "      <td>3.030303</td>\n",
       "      <td>787.87879</td>\n",
       "      <td>27.272727</td>\n",
       "      <td>21.21212</td>\n",
       "      <td>15.151515</td>\n",
       "      <td>3</td>\n",
       "      <td>969.69697</td>\n",
       "      <td>enriched</td>\n",
       "      <td>Outlier</td>\n",
       "      <td>857.69697</td>\n",
       "      <td>Outlier</td>\n",
       "    </tr>\n",
       "    <tr>\n",
       "      <th>2</th>\n",
       "      <td>All-Bran with Extra Fiber</td>\n",
       "      <td>K</td>\n",
       "      <td>100.00000</td>\n",
       "      <td>8.000000</td>\n",
       "      <td>0.000000</td>\n",
       "      <td>280.00000</td>\n",
       "      <td>28.000000</td>\n",
       "      <td>16.00000</td>\n",
       "      <td>0.000000</td>\n",
       "      <td>3</td>\n",
       "      <td>660.00000</td>\n",
       "      <td>enriched</td>\n",
       "      <td>Not Outlier</td>\n",
       "      <td>548.00000</td>\n",
       "      <td>Outlier</td>\n",
       "    </tr>\n",
       "    <tr>\n",
       "      <th>3</th>\n",
       "      <td>Apple Cinnamon Cheerios</td>\n",
       "      <td>G</td>\n",
       "      <td>146.66667</td>\n",
       "      <td>2.666667</td>\n",
       "      <td>2.666667</td>\n",
       "      <td>240.00000</td>\n",
       "      <td>2.000000</td>\n",
       "      <td>14.00000</td>\n",
       "      <td>13.333333</td>\n",
       "      <td>1</td>\n",
       "      <td>93.33333</td>\n",
       "      <td>enriched</td>\n",
       "      <td>Not Outlier</td>\n",
       "      <td>18.66667</td>\n",
       "      <td>Not Outlier</td>\n",
       "    </tr>\n",
       "    <tr>\n",
       "      <th>4</th>\n",
       "      <td>Apple Jacks</td>\n",
       "      <td>K</td>\n",
       "      <td>110.00000</td>\n",
       "      <td>2.000000</td>\n",
       "      <td>0.000000</td>\n",
       "      <td>125.00000</td>\n",
       "      <td>1.000000</td>\n",
       "      <td>11.00000</td>\n",
       "      <td>14.000000</td>\n",
       "      <td>2</td>\n",
       "      <td>30.00000</td>\n",
       "      <td>enriched</td>\n",
       "      <td>Not Outlier</td>\n",
       "      <td>82.00000</td>\n",
       "      <td>Not Outlier</td>\n",
       "    </tr>\n",
       "  </tbody>\n",
       "</table>\n",
       "</div>"
      ],
      "text/plain": [
       "                  Unnamed: 0 mfr   calories    protein       fat     sodium   \n",
       "0                  100% Bran   N  212.12121  12.121212  3.030303  393.93939  \\\n",
       "1                   All-Bran   K  212.12121  12.121212  3.030303  787.87879   \n",
       "2  All-Bran with Extra Fiber   K  100.00000   8.000000  0.000000  280.00000   \n",
       "3    Apple Cinnamon Cheerios   G  146.66667   2.666667  2.666667  240.00000   \n",
       "4                Apple Jacks   K  110.00000   2.000000  0.000000  125.00000   \n",
       "\n",
       "       fibre     carbo     sugars  shelf  potassium  vitamins result_3sigma   \n",
       "0  30.303030  15.15152  18.181818      3  848.48485  enriched       Outlier  \\\n",
       "1  27.272727  21.21212  15.151515      3  969.69697  enriched       Outlier   \n",
       "2  28.000000  16.00000   0.000000      3  660.00000  enriched   Not Outlier   \n",
       "3   2.000000  14.00000  13.333333      1   93.33333  enriched   Not Outlier   \n",
       "4   1.000000  11.00000  14.000000      2   30.00000  enriched   Not Outlier   \n",
       "\n",
       "         amd result_hampel  \n",
       "0  736.48485       Outlier  \n",
       "1  857.69697       Outlier  \n",
       "2  548.00000       Outlier  \n",
       "3   18.66667   Not Outlier  \n",
       "4   82.00000   Not Outlier  "
      ]
     },
     "execution_count": 9,
     "metadata": {},
     "output_type": "execute_result"
    }
   ],
   "source": [
    "med_abs = df['amd'].quantile(0.50)\n",
    "def hampel_outlier (potassium):\n",
    "    madm=1.4826*med_abs\n",
    "    if (potassium>3*madm):\n",
    "        return \"Outlier\"\n",
    "    else:\n",
    "        return \"Not Outlier\"\n",
    "df['result_hampel']=df['potassium'].apply(hampel_outlier)\n",
    "df.head()"
   ]
  },
  {
   "cell_type": "code",
   "execution_count": 10,
   "id": "e3eff17a",
   "metadata": {},
   "outputs": [
    {
     "data": {
      "text/html": [
       "<div>\n",
       "<style scoped>\n",
       "    .dataframe tbody tr th:only-of-type {\n",
       "        vertical-align: middle;\n",
       "    }\n",
       "\n",
       "    .dataframe tbody tr th {\n",
       "        vertical-align: top;\n",
       "    }\n",
       "\n",
       "    .dataframe thead th {\n",
       "        text-align: right;\n",
       "    }\n",
       "</style>\n",
       "<table border=\"1\" class=\"dataframe\">\n",
       "  <thead>\n",
       "    <tr style=\"text-align: right;\">\n",
       "      <th></th>\n",
       "      <th>Unnamed: 0</th>\n",
       "      <th>mfr</th>\n",
       "      <th>calories</th>\n",
       "      <th>protein</th>\n",
       "      <th>fat</th>\n",
       "      <th>sodium</th>\n",
       "      <th>fibre</th>\n",
       "      <th>carbo</th>\n",
       "      <th>sugars</th>\n",
       "      <th>shelf</th>\n",
       "      <th>potassium</th>\n",
       "      <th>vitamins</th>\n",
       "      <th>result_3sigma</th>\n",
       "      <th>amd</th>\n",
       "      <th>result_hampel</th>\n",
       "    </tr>\n",
       "  </thead>\n",
       "  <tbody>\n",
       "    <tr>\n",
       "      <th>0</th>\n",
       "      <td>100% Bran</td>\n",
       "      <td>N</td>\n",
       "      <td>212.12121</td>\n",
       "      <td>12.121212</td>\n",
       "      <td>3.030303</td>\n",
       "      <td>393.93939</td>\n",
       "      <td>30.303030</td>\n",
       "      <td>15.15152</td>\n",
       "      <td>18.181818</td>\n",
       "      <td>3</td>\n",
       "      <td>848.48485</td>\n",
       "      <td>enriched</td>\n",
       "      <td>Outlier</td>\n",
       "      <td>736.48485</td>\n",
       "      <td>Outlier</td>\n",
       "    </tr>\n",
       "    <tr>\n",
       "      <th>1</th>\n",
       "      <td>All-Bran</td>\n",
       "      <td>K</td>\n",
       "      <td>212.12121</td>\n",
       "      <td>12.121212</td>\n",
       "      <td>3.030303</td>\n",
       "      <td>787.87879</td>\n",
       "      <td>27.272727</td>\n",
       "      <td>21.21212</td>\n",
       "      <td>15.151515</td>\n",
       "      <td>3</td>\n",
       "      <td>969.69697</td>\n",
       "      <td>enriched</td>\n",
       "      <td>Outlier</td>\n",
       "      <td>857.69697</td>\n",
       "      <td>Outlier</td>\n",
       "    </tr>\n",
       "    <tr>\n",
       "      <th>2</th>\n",
       "      <td>All-Bran with Extra Fiber</td>\n",
       "      <td>K</td>\n",
       "      <td>100.00000</td>\n",
       "      <td>8.000000</td>\n",
       "      <td>0.000000</td>\n",
       "      <td>280.00000</td>\n",
       "      <td>28.000000</td>\n",
       "      <td>16.00000</td>\n",
       "      <td>0.000000</td>\n",
       "      <td>3</td>\n",
       "      <td>660.00000</td>\n",
       "      <td>enriched</td>\n",
       "      <td>Not Outlier</td>\n",
       "      <td>548.00000</td>\n",
       "      <td>Outlier</td>\n",
       "    </tr>\n",
       "    <tr>\n",
       "      <th>30</th>\n",
       "      <td>Grape-Nuts</td>\n",
       "      <td>P</td>\n",
       "      <td>440.00000</td>\n",
       "      <td>12.000000</td>\n",
       "      <td>0.000000</td>\n",
       "      <td>680.00000</td>\n",
       "      <td>12.000000</td>\n",
       "      <td>68.00000</td>\n",
       "      <td>12.000000</td>\n",
       "      <td>3</td>\n",
       "      <td>360.00000</td>\n",
       "      <td>enriched</td>\n",
       "      <td>Not Outlier</td>\n",
       "      <td>248.00000</td>\n",
       "      <td>Outlier</td>\n",
       "    </tr>\n",
       "    <tr>\n",
       "      <th>44</th>\n",
       "      <td>Post Nat. Raisin Bran</td>\n",
       "      <td>P</td>\n",
       "      <td>179.10448</td>\n",
       "      <td>4.477612</td>\n",
       "      <td>1.492537</td>\n",
       "      <td>298.50746</td>\n",
       "      <td>8.955224</td>\n",
       "      <td>16.41791</td>\n",
       "      <td>20.895522</td>\n",
       "      <td>3</td>\n",
       "      <td>388.05970</td>\n",
       "      <td>enriched</td>\n",
       "      <td>Not Outlier</td>\n",
       "      <td>276.05970</td>\n",
       "      <td>Outlier</td>\n",
       "    </tr>\n",
       "  </tbody>\n",
       "</table>\n",
       "</div>"
      ],
      "text/plain": [
       "                   Unnamed: 0 mfr   calories    protein       fat     sodium   \n",
       "0                   100% Bran   N  212.12121  12.121212  3.030303  393.93939  \\\n",
       "1                    All-Bran   K  212.12121  12.121212  3.030303  787.87879   \n",
       "2   All-Bran with Extra Fiber   K  100.00000   8.000000  0.000000  280.00000   \n",
       "30                 Grape-Nuts   P  440.00000  12.000000  0.000000  680.00000   \n",
       "44      Post Nat. Raisin Bran   P  179.10448   4.477612  1.492537  298.50746   \n",
       "\n",
       "        fibre     carbo     sugars  shelf  potassium  vitamins result_3sigma   \n",
       "0   30.303030  15.15152  18.181818      3  848.48485  enriched       Outlier  \\\n",
       "1   27.272727  21.21212  15.151515      3  969.69697  enriched       Outlier   \n",
       "2   28.000000  16.00000   0.000000      3  660.00000  enriched   Not Outlier   \n",
       "30  12.000000  68.00000  12.000000      3  360.00000  enriched   Not Outlier   \n",
       "44   8.955224  16.41791  20.895522      3  388.05970  enriched   Not Outlier   \n",
       "\n",
       "          amd result_hampel  \n",
       "0   736.48485       Outlier  \n",
       "1   857.69697       Outlier  \n",
       "2   548.00000       Outlier  \n",
       "30  248.00000       Outlier  \n",
       "44  276.05970       Outlier  "
      ]
     },
     "execution_count": 10,
     "metadata": {},
     "output_type": "execute_result"
    }
   ],
   "source": [
    "# MELIHAT OUTLIER\n",
    "df.loc[df['result_hampel']=='Outlier']"
   ]
  },
  {
   "cell_type": "markdown",
   "id": "d6b2e3cd",
   "metadata": {},
   "source": [
    "## 1.3 Boxplot Outlier Rule\n",
    "\n",
    "Kriteria Outlier untuk **Boxplot Outlier Rule** :\n",
    "* $x_K>x_U+1.5Q$\n",
    "* $x_K>x_L-1.5Q$\n",
    "\n",
    "Keterangan :\n",
    "* $x_K$ adalah data ke-$k$, \n",
    "* $x_U$ adalah kuartil ke-$1$ atau disebut kuartil bawah (*lower quartile*), \n",
    "* $x_L$ adalah kuartil ke-$3$ atau disebut kuartil bawah (*upper quartile*), \n",
    "* $Q$ adalah jangkuan interkuartil (selisih kuartil bawah - kuartil atas) "
   ]
  },
  {
   "cell_type": "code",
   "execution_count": 11,
   "id": "f501ea22",
   "metadata": {},
   "outputs": [],
   "source": [
    "# FUNGSI OUTLIER RULE\n",
    "# kuartil bawah\n",
    "low_q=df['potassium'].quantile(0.25)\n",
    "# kuartil atas\n",
    "upr_q=df['potassium'].quantile(0.75)\n",
    "# jarak antar kuartil\n",
    "iq_d=df['potassium'].quantile(0.75)-df['potassium'].quantile(0.25)\n",
    "\n",
    "def boxplot_outlier (potassium):\n",
    "    if (potassium>upr_q+1.5*iq_d) or (potassium<low_q-1.5*iq_d):\n",
    "        return \"Outlier\"\n",
    "    else:\n",
    "        return \"Not Outlier\""
   ]
  },
  {
   "cell_type": "code",
   "execution_count": 12,
   "id": "31627776",
   "metadata": {},
   "outputs": [
    {
     "data": {
      "text/html": [
       "<div>\n",
       "<style scoped>\n",
       "    .dataframe tbody tr th:only-of-type {\n",
       "        vertical-align: middle;\n",
       "    }\n",
       "\n",
       "    .dataframe tbody tr th {\n",
       "        vertical-align: top;\n",
       "    }\n",
       "\n",
       "    .dataframe thead th {\n",
       "        text-align: right;\n",
       "    }\n",
       "</style>\n",
       "<table border=\"1\" class=\"dataframe\">\n",
       "  <thead>\n",
       "    <tr style=\"text-align: right;\">\n",
       "      <th></th>\n",
       "      <th>Unnamed: 0</th>\n",
       "      <th>mfr</th>\n",
       "      <th>calories</th>\n",
       "      <th>protein</th>\n",
       "      <th>fat</th>\n",
       "      <th>sodium</th>\n",
       "      <th>fibre</th>\n",
       "      <th>carbo</th>\n",
       "      <th>sugars</th>\n",
       "      <th>shelf</th>\n",
       "      <th>potassium</th>\n",
       "      <th>vitamins</th>\n",
       "      <th>result_3sigma</th>\n",
       "      <th>amd</th>\n",
       "      <th>result_hampel</th>\n",
       "      <th>result_boxplot</th>\n",
       "    </tr>\n",
       "  </thead>\n",
       "  <tbody>\n",
       "    <tr>\n",
       "      <th>0</th>\n",
       "      <td>100% Bran</td>\n",
       "      <td>N</td>\n",
       "      <td>212.12121</td>\n",
       "      <td>12.121212</td>\n",
       "      <td>3.030303</td>\n",
       "      <td>393.93939</td>\n",
       "      <td>30.303030</td>\n",
       "      <td>15.15152</td>\n",
       "      <td>18.181818</td>\n",
       "      <td>3</td>\n",
       "      <td>848.48485</td>\n",
       "      <td>enriched</td>\n",
       "      <td>Outlier</td>\n",
       "      <td>736.48485</td>\n",
       "      <td>Outlier</td>\n",
       "      <td>Outlier</td>\n",
       "    </tr>\n",
       "    <tr>\n",
       "      <th>1</th>\n",
       "      <td>All-Bran</td>\n",
       "      <td>K</td>\n",
       "      <td>212.12121</td>\n",
       "      <td>12.121212</td>\n",
       "      <td>3.030303</td>\n",
       "      <td>787.87879</td>\n",
       "      <td>27.272727</td>\n",
       "      <td>21.21212</td>\n",
       "      <td>15.151515</td>\n",
       "      <td>3</td>\n",
       "      <td>969.69697</td>\n",
       "      <td>enriched</td>\n",
       "      <td>Outlier</td>\n",
       "      <td>857.69697</td>\n",
       "      <td>Outlier</td>\n",
       "      <td>Outlier</td>\n",
       "    </tr>\n",
       "    <tr>\n",
       "      <th>2</th>\n",
       "      <td>All-Bran with Extra Fiber</td>\n",
       "      <td>K</td>\n",
       "      <td>100.00000</td>\n",
       "      <td>8.000000</td>\n",
       "      <td>0.000000</td>\n",
       "      <td>280.00000</td>\n",
       "      <td>28.000000</td>\n",
       "      <td>16.00000</td>\n",
       "      <td>0.000000</td>\n",
       "      <td>3</td>\n",
       "      <td>660.00000</td>\n",
       "      <td>enriched</td>\n",
       "      <td>Not Outlier</td>\n",
       "      <td>548.00000</td>\n",
       "      <td>Outlier</td>\n",
       "      <td>Outlier</td>\n",
       "    </tr>\n",
       "    <tr>\n",
       "      <th>3</th>\n",
       "      <td>Apple Cinnamon Cheerios</td>\n",
       "      <td>G</td>\n",
       "      <td>146.66667</td>\n",
       "      <td>2.666667</td>\n",
       "      <td>2.666667</td>\n",
       "      <td>240.00000</td>\n",
       "      <td>2.000000</td>\n",
       "      <td>14.00000</td>\n",
       "      <td>13.333333</td>\n",
       "      <td>1</td>\n",
       "      <td>93.33333</td>\n",
       "      <td>enriched</td>\n",
       "      <td>Not Outlier</td>\n",
       "      <td>18.66667</td>\n",
       "      <td>Not Outlier</td>\n",
       "      <td>Not Outlier</td>\n",
       "    </tr>\n",
       "    <tr>\n",
       "      <th>4</th>\n",
       "      <td>Apple Jacks</td>\n",
       "      <td>K</td>\n",
       "      <td>110.00000</td>\n",
       "      <td>2.000000</td>\n",
       "      <td>0.000000</td>\n",
       "      <td>125.00000</td>\n",
       "      <td>1.000000</td>\n",
       "      <td>11.00000</td>\n",
       "      <td>14.000000</td>\n",
       "      <td>2</td>\n",
       "      <td>30.00000</td>\n",
       "      <td>enriched</td>\n",
       "      <td>Not Outlier</td>\n",
       "      <td>82.00000</td>\n",
       "      <td>Not Outlier</td>\n",
       "      <td>Not Outlier</td>\n",
       "    </tr>\n",
       "  </tbody>\n",
       "</table>\n",
       "</div>"
      ],
      "text/plain": [
       "                  Unnamed: 0 mfr   calories    protein       fat     sodium   \n",
       "0                  100% Bran   N  212.12121  12.121212  3.030303  393.93939  \\\n",
       "1                   All-Bran   K  212.12121  12.121212  3.030303  787.87879   \n",
       "2  All-Bran with Extra Fiber   K  100.00000   8.000000  0.000000  280.00000   \n",
       "3    Apple Cinnamon Cheerios   G  146.66667   2.666667  2.666667  240.00000   \n",
       "4                Apple Jacks   K  110.00000   2.000000  0.000000  125.00000   \n",
       "\n",
       "       fibre     carbo     sugars  shelf  potassium  vitamins result_3sigma   \n",
       "0  30.303030  15.15152  18.181818      3  848.48485  enriched       Outlier  \\\n",
       "1  27.272727  21.21212  15.151515      3  969.69697  enriched       Outlier   \n",
       "2  28.000000  16.00000   0.000000      3  660.00000  enriched   Not Outlier   \n",
       "3   2.000000  14.00000  13.333333      1   93.33333  enriched   Not Outlier   \n",
       "4   1.000000  11.00000  14.000000      2   30.00000  enriched   Not Outlier   \n",
       "\n",
       "         amd result_hampel result_boxplot  \n",
       "0  736.48485       Outlier        Outlier  \n",
       "1  857.69697       Outlier        Outlier  \n",
       "2  548.00000       Outlier        Outlier  \n",
       "3   18.66667   Not Outlier    Not Outlier  \n",
       "4   82.00000   Not Outlier    Not Outlier  "
      ]
     },
     "execution_count": 12,
     "metadata": {},
     "output_type": "execute_result"
    }
   ],
   "source": [
    "df['result_boxplot']=df['potassium'].apply(boxplot_outlier)\n",
    "df.head()"
   ]
  },
  {
   "cell_type": "code",
   "execution_count": 13,
   "id": "49beb5bb",
   "metadata": {},
   "outputs": [
    {
     "data": {
      "text/html": [
       "<div>\n",
       "<style scoped>\n",
       "    .dataframe tbody tr th:only-of-type {\n",
       "        vertical-align: middle;\n",
       "    }\n",
       "\n",
       "    .dataframe tbody tr th {\n",
       "        vertical-align: top;\n",
       "    }\n",
       "\n",
       "    .dataframe thead th {\n",
       "        text-align: right;\n",
       "    }\n",
       "</style>\n",
       "<table border=\"1\" class=\"dataframe\">\n",
       "  <thead>\n",
       "    <tr style=\"text-align: right;\">\n",
       "      <th></th>\n",
       "      <th>Unnamed: 0</th>\n",
       "      <th>mfr</th>\n",
       "      <th>calories</th>\n",
       "      <th>protein</th>\n",
       "      <th>fat</th>\n",
       "      <th>sodium</th>\n",
       "      <th>fibre</th>\n",
       "      <th>carbo</th>\n",
       "      <th>sugars</th>\n",
       "      <th>shelf</th>\n",
       "      <th>potassium</th>\n",
       "      <th>vitamins</th>\n",
       "      <th>result_3sigma</th>\n",
       "      <th>amd</th>\n",
       "      <th>result_hampel</th>\n",
       "      <th>result_boxplot</th>\n",
       "    </tr>\n",
       "  </thead>\n",
       "  <tbody>\n",
       "    <tr>\n",
       "      <th>0</th>\n",
       "      <td>100% Bran</td>\n",
       "      <td>N</td>\n",
       "      <td>212.12121</td>\n",
       "      <td>12.121212</td>\n",
       "      <td>3.030303</td>\n",
       "      <td>393.93939</td>\n",
       "      <td>30.303030</td>\n",
       "      <td>15.15152</td>\n",
       "      <td>18.181818</td>\n",
       "      <td>3</td>\n",
       "      <td>848.48485</td>\n",
       "      <td>enriched</td>\n",
       "      <td>Outlier</td>\n",
       "      <td>736.48485</td>\n",
       "      <td>Outlier</td>\n",
       "      <td>Outlier</td>\n",
       "    </tr>\n",
       "    <tr>\n",
       "      <th>1</th>\n",
       "      <td>All-Bran</td>\n",
       "      <td>K</td>\n",
       "      <td>212.12121</td>\n",
       "      <td>12.121212</td>\n",
       "      <td>3.030303</td>\n",
       "      <td>787.87879</td>\n",
       "      <td>27.272727</td>\n",
       "      <td>21.21212</td>\n",
       "      <td>15.151515</td>\n",
       "      <td>3</td>\n",
       "      <td>969.69697</td>\n",
       "      <td>enriched</td>\n",
       "      <td>Outlier</td>\n",
       "      <td>857.69697</td>\n",
       "      <td>Outlier</td>\n",
       "      <td>Outlier</td>\n",
       "    </tr>\n",
       "    <tr>\n",
       "      <th>2</th>\n",
       "      <td>All-Bran with Extra Fiber</td>\n",
       "      <td>K</td>\n",
       "      <td>100.00000</td>\n",
       "      <td>8.000000</td>\n",
       "      <td>0.000000</td>\n",
       "      <td>280.00000</td>\n",
       "      <td>28.000000</td>\n",
       "      <td>16.00000</td>\n",
       "      <td>0.000000</td>\n",
       "      <td>3</td>\n",
       "      <td>660.00000</td>\n",
       "      <td>enriched</td>\n",
       "      <td>Not Outlier</td>\n",
       "      <td>548.00000</td>\n",
       "      <td>Outlier</td>\n",
       "      <td>Outlier</td>\n",
       "    </tr>\n",
       "  </tbody>\n",
       "</table>\n",
       "</div>"
      ],
      "text/plain": [
       "                  Unnamed: 0 mfr   calories    protein       fat     sodium   \n",
       "0                  100% Bran   N  212.12121  12.121212  3.030303  393.93939  \\\n",
       "1                   All-Bran   K  212.12121  12.121212  3.030303  787.87879   \n",
       "2  All-Bran with Extra Fiber   K  100.00000   8.000000  0.000000  280.00000   \n",
       "\n",
       "       fibre     carbo     sugars  shelf  potassium  vitamins result_3sigma   \n",
       "0  30.303030  15.15152  18.181818      3  848.48485  enriched       Outlier  \\\n",
       "1  27.272727  21.21212  15.151515      3  969.69697  enriched       Outlier   \n",
       "2  28.000000  16.00000   0.000000      3  660.00000  enriched   Not Outlier   \n",
       "\n",
       "         amd result_hampel result_boxplot  \n",
       "0  736.48485       Outlier        Outlier  \n",
       "1  857.69697       Outlier        Outlier  \n",
       "2  548.00000       Outlier        Outlier  "
      ]
     },
     "execution_count": 13,
     "metadata": {},
     "output_type": "execute_result"
    }
   ],
   "source": [
    "# MELIHAT OUTLIER\n",
    "df.loc[df['result_boxplot']=='Outlier']"
   ]
  },
  {
   "cell_type": "markdown",
   "id": "a2dba5bb",
   "metadata": {},
   "source": [
    "> **PERTANYAAN ISENG-ISENG**\n",
    "\n",
    "> Apakah data yang terdistribusi normal memiliki outlier ?\n",
    "> Bila ya mengapa, bila tidak mengapa ?"
   ]
  },
  {
   "cell_type": "markdown",
   "id": "0e713b0c",
   "metadata": {},
   "source": [
    "# 2. Normalitas Data\n",
    "\n",
    "**Apakah semua algoritma machine learning mengharapkan normalitas data ? --> TIDAK**\n",
    "* Algoritma yang membutuhkan normalisasi : \n",
    "    * Algoritma yang bersifat ' curve fitting algorithms' seperti regresi linear/non-linear/logistik, KNN, SVM, Neural Networks, clustering algorithms like k-means clustering etc. \n",
    "    * Algoritma yang menggunakan faktorisasi matriks, dekomposisi, dan reduksi dimensi seperti PCA, SVD, Factorization Machines \n",
    "* Algoritma yang tidak membutuhkan normalisasi : \n",
    "    * tree based algorithms - \n",
    "        * CART, \n",
    "        * Random Forests, \n",
    "        * Gradient Boosted Decision Trees etc\n",
    "\n",
    "* Hati-hati, perhatikan apanya yang butuh normalisasi ? Apakah regresi linear perlu normalisasi data ? TIDAK! Regresi linear memerlukan normalitas pada sisa residu hasil regresi. \n",
    "\n",
    ">> Perlu pemahaman yang tepat terhadap algoritma yang anda gunakan.\n",
    "\n",
    "## 2.1 QQ Plot\n",
    "\n",
    "QQ Plot **(quantile-quantile plot)** merupakan instrumen grafis yang membantu untuk menilai apakah suatu dataset memenuhi distribusi teoritikal (distribusi normal atau eksponensial).\n",
    "Misalkan, bila kita melakukan analisis statistik yang mengasumsikan variabel dependen distribusi normal kita bisa menyandingkan.\n",
    "\n",
    ">> **Berhenti dan berfikir** </br>\n",
    ">> Data seperti apakah yang bisa diuji normalitasnya menggunakan qqplot?"
   ]
  },
  {
   "cell_type": "markdown",
   "id": "7251994a",
   "metadata": {},
   "source": [
    "Untuk memvisualisasikan QQ Plot kita bisa menggunakan library [pingouin](https://pingouin-stats.org/).  Jangan lupa install dulu librarynya :</br>\n",
    "`\n",
    "pip install pingouin\n",
    "`"
   ]
  },
  {
   "cell_type": "code",
   "execution_count": 14,
   "id": "62b30431",
   "metadata": {},
   "outputs": [
    {
     "data": {
      "image/png": "[encoded data removed]",
      "text/plain": [
       "<Figure size 648x576 with 4 Axes>"
      ]
     },
     "metadata": {
      "needs_background": "light"
     },
     "output_type": "display_data"
    }
   ],
   "source": [
    "import pingouin as pg\n",
    "import pandas as pd\n",
    "import matplotlib.pyplot as plt\n",
    "\n",
    "fig, ((qplot_sugars, qplot_sodium), (qplot_fibre, qplot_protein)) = plt.subplots(2, 2, figsize=(9, 8))\n",
    "fig.subplots_adjust(hspace=0.5)\n",
    "qp_sugars = pg.qqplot(df['sugars'], ax=qplot_sugars, dist='norm')\n",
    "qp_sodium = pg.qqplot(df['sodium'],ax=qplot_sodium, dist='norm')\n",
    "qp_fibre = pg.qqplot(df['fibre'], ax=qplot_fibre, dist='norm')\n",
    "qp_protein = pg.qqplot(df['protein'], ax=qplot_protein,dist='norm')"
   ]
  },
  {
   "cell_type": "code",
   "execution_count": 15,
   "id": "2c203be2",
   "metadata": {},
   "outputs": [
    {
     "data": {
      "image/png": "[encoded data removed]",
      "text/plain": [
       "<Figure size 1440x432 with 1 Axes>"
      ]
     },
     "metadata": {
      "needs_background": "light"
     },
     "output_type": "display_data"
    }
   ],
   "source": [
    "import pingouin as pg\n",
    "import pandas as pd\n",
    "import matplotlib.pyplot as plt\n",
    "\n",
    "qp_sugars = pg.qqplot(df['potassium'], dist='norm')"
   ]
  },
  {
   "cell_type": "markdown",
   "id": "b1570561",
   "metadata": {},
   "source": [
    "### Penanganan"
   ]
  },
  {
   "cell_type": "markdown",
   "id": "203a15a8",
   "metadata": {},
   "source": [
    "Untuk mengatasi ketaknormalan data bisa menggunakan transformasi variabel, menggunakan \n",
    "* log transformation,\n",
    "* square root transformation,\n",
    "* reciprocal transformation,\n",
    "* dll"
   ]
  },
  {
   "cell_type": "code",
   "execution_count": 31,
   "id": "a9008b57",
   "metadata": {},
   "outputs": [
    {
     "data": {
      "image/png": "[encoded data removed]",
      "text/plain": [
       "<Figure size 648x576 with 3 Axes>"
      ]
     },
     "metadata": {
      "needs_background": "light"
     },
     "output_type": "display_data"
    }
   ],
   "source": [
    "log_norm = df['potassium'].apply(np.log1p)\n",
    "sqrt_norm = df['potassium'].apply(np.sqrt)\n",
    "pow_norm = df['potassium'] ** 2\n",
    "fig, (a,b,c) = plt.subplots(1, 3, figsize=(9, 8))\n",
    "fig.subplots_adjust(hspace=0.5)\n",
    "a_plot = pg.qqplot(log_norm, ax = a, dist='norm')\n",
    "b_plot = pg.qqplot(sqrt_norm,ax = b, dist='norm')\n",
    "c_plot = pg.qqplot(pow_norm, ax = c, dist='norm')"
   ]
  },
  {
   "cell_type": "code",
   "execution_count": 43,
   "id": "21d1de5c",
   "metadata": {},
   "outputs": [
    {
     "data": {
      "image/png": "[encoded data removed]",
      "text/plain": [
       "<Figure size 1440x432 with 4 Axes>"
      ]
     },
     "metadata": {
      "needs_background": "light"
     },
     "output_type": "display_data"
    }
   ],
   "source": [
    "merged_df = pd.DataFrame([df.potassium,log_norm,sqrt_norm,pow_norm]).transpose()\n",
    "merged_df.columns = ['default','log','sqrt','pow']\n",
    "merged_df.hist()\n",
    "plt.show()"
   ]
  },
  {
   "cell_type": "markdown",
   "id": "76e4c0bc",
   "metadata": {},
   "source": [
    "> **Berhenti dan berfikir** </br>\n",
    "> Mengapa transformasi data umumnya menggunakan log/square root transformation ?"
   ]
  },
  {
   "cell_type": "code",
   "execution_count": null,
   "id": "4c8231fa",
   "metadata": {},
   "outputs": [],
   "source": [
    "# nilai data 3, -7, 12\n",
    "# ditransformasi dengan f(x)=(2x+1)\n",
    "# nilai data setelah transformasi 8, -13, 25"
   ]
  },
  {
   "cell_type": "markdown",
   "id": "01b014f5",
   "metadata": {},
   "source": [
    "# 3. Data Hilang (Missing Value)"
   ]
  },
  {
   "cell_type": "markdown",
   "id": "b28706a1",
   "metadata": {},
   "source": [
    "Misalkan anda melakukan analisis data terhadap data peminjaman BMN di suatu kantor. Dari daftar peminjaman BMN tersebut anda melihat ada suatu list peminjaman sbb :\n",
    "\n",
    "| No  | BMN                   | Nama Peminjam | Jumlah Dipinjam |\n",
    "| --- | --------------------- | ------------- | --------------- |\n",
    "| 1   | Mobil Avanza          | Budi          | 4               |\n",
    "| 2   | Laptop Dell           | Ali           | 3               |\n",
    "| 3   | Proyektor Panasonic   | Iqbal         | 8               |\n",
    "| 4   | Laptop Asus           | Susi          |                 |\n",
    "| 5   | Mesin Fotokopi Konica | Ani           | 6               |\n",
    "| …   | …                     | …             | …               |\n",
    "| 21  | Laptop Acer           | Rudi          |                 |\n",
    "| 22  | Mesin Fotokopi        | Ali           | 6               |\n",
    "| 23  | Proyektor Panasonic   | Mina          | 4               |\n",
    "| …   | …                     | …             | …               |\n",
    "| 87  | Mobil Alphard         | Susi          | 3               |\n",
    "| 88  | Laptop Lenovo         | Mikail        | 9               |\n",
    "| 100 | Mobil Nissan          | Joni          |                 |"
   ]
  },
  {
   "cell_type": "markdown",
   "id": "59249077",
   "metadata": {},
   "source": [
    "Dari data di atas terlihat ada peminjaman yang hari peminjamannya tidak tercatat. Anda mencari tahu mengapa data tersebut hilang. Operator BMN mengatakan bahwa memang sekitar 5% pencatatan lupa dicatat jumlah barang yang dipinjam.\n",
    "Anda menanyakan apakah 5% tersebut spesifik pada jenis barang tertentu yang dipinjam atau user tertentu. Petugas mengatakan tidak, itu terjadi merata di seluruh pencatatan.\n",
    "\n",
    "* **Missing Completely at Random (MCAR)** </br> \n",
    "Dengan mengasumsikan pernyataan petugas benar, maka kasus di atas dapat dianggap sebagai MCAR, yakni data yang hilang tidak memiliki relasi dengan variabel yang sedang diobservasi.\n",
    "* **Missing at Random (MAR)** </br>\n",
    "Data tidak hilang secara acak tetapi bisa diprediksi dari variabel-variabel lain yang sedang diobservasi maka kasus tersebut disebut sebagai MAR. Misalkan, data yang hilang bisa diprediksi dari jenis BMN yang diprediksi atau dari orang yang meminjam.\n",
    "* **Missing Not At Random (MNAR)** </br>\n",
    "Bila memiliki pola yang dapat dijelaskan namun diluar variabel yang diobservasi disebut MNAR . Misalkan, data yang hilang dapat diprediksi dari apakah pada tanggal peminjaman hari cerah atau hujan, tetapi kita tidak mengobservasi hal tersebut."
   ]
  },
  {
   "cell_type": "markdown",
   "id": "bd453a4b",
   "metadata": {},
   "source": [
    "Lebih jauh tentang ini :\n",
    "* [Youtube - Missing Data Analysis, Mplus Short Course](https://www.youtube.com/watch?v=gdKTJdrqtOI)"
   ]
  },
  {
   "cell_type": "markdown",
   "id": "0032e010",
   "metadata": {},
   "source": [
    "Cara untuk melihat data kosong :\n",
    "* Menggunakan library missingno (jangan lupa install terlebih dahulu)\n",
    "* menggunakan df.isnull()"
   ]
  },
  {
   "cell_type": "code",
   "execution_count": null,
   "id": "0db0ef94",
   "metadata": {},
   "outputs": [],
   "source": [
    "df_titanic = pd.read_csv('https://raw.githubusercontent.com/mofdac/-materi-das/main/04.%20Data%20Preparation/dataset/titanic.csv')\n",
    "df_titanic.isnull().sum()"
   ]
  },
  {
   "cell_type": "code",
   "execution_count": null,
   "id": "2c4f8289",
   "metadata": {},
   "outputs": [],
   "source": [
    "# visualiasi missing value dengan bantuan library\n",
    "import pandas as pd\n",
    "import missingno as msno\n",
    "df_titanic.head()\n",
    "msno.matrix(df_titanic, figsize=(10, 6))"
   ]
  },
  {
   "cell_type": "markdown",
   "id": "883ba989",
   "metadata": {},
   "source": [
    "# 3. Penanganan atas Data yang Hilang"
   ]
  },
  {
   "cell_type": "markdown",
   "id": "cfa25a96",
   "metadata": {},
   "source": [
    "Ada banyak cara untuk menangani data yang hilang. Sebelum melakukan penanganan perhatikan baik-baik mengapa data hilang?\n",
    "1. Melakukan penghapusan pada observasi yang datanya hilang\n",
    "2. Melakukan imputasi (Imputation berarti menggunakan variabel-variabel data yang ada untuk memprediksi data yang hilang.)"
   ]
  },
  {
   "cell_type": "markdown",
   "id": "c892c7e8",
   "metadata": {},
   "source": [
    "![Treatment](https://editor.analyticsvidhya.com/uploads/123801_qE8g5nqa2GNT_2tRFag8aw.jpeg)"
   ]
  },
  {
   "cell_type": "markdown",
   "id": "1c37ebac",
   "metadata": {},
   "source": [
    "## 3.1 Menghapus Observasi yang Datanya Hilang\n",
    "\n",
    "Ini bisa dilakukan dengan list-wise deletion ataupun pair-wise deletion."
   ]
  },
  {
   "cell_type": "code",
   "execution_count": null,
   "id": "53b05ff7",
   "metadata": {},
   "outputs": [],
   "source": [
    "# Kondisi sebelum penghapusan\n",
    "df_titanic.describe()"
   ]
  },
  {
   "cell_type": "markdown",
   "id": "84589b5f",
   "metadata": {},
   "source": [
    "## 3.1.1 Listwise Deletion\n",
    "\n",
    "Pada listwise deletion suatu row akan dihapus bila salah satu variabel memiliki nilai yang hilang. "
   ]
  },
  {
   "cell_type": "code",
   "execution_count": null,
   "id": "85a2d72f",
   "metadata": {},
   "outputs": [],
   "source": [
    "df_titanic.dropna(subset=['Age'],how='any',inplace=True)\n",
    "df_titanic.describe()"
   ]
  },
  {
   "cell_type": "markdown",
   "id": "fa729d1c",
   "metadata": {},
   "source": [
    "## 3.1.2 Pairwise Deletion\n",
    "\n",
    "Parwise Deletion digunakan saat prosedur statistik yang anda butuhkan tidak memperbolehkan adanya nilai yang hilang. Misalkan anda memiliki 6 variabel, VAR1, VAR2, ..., VAR6. Secara MCAR, pada VAR3 dan VAR5 terdapat data yang hilang. Untuk itu, pada prosedur statistik sum untuk variabel 3 dan variabel 5, data yang hilang tidak diikutkan. </br>\n",
    "`This is a problematic way to solve a problem.`</br>\n",
    "Namun, metode ini logis ketika misalkan anda memerlukan regresi yang tidak membutuhkan VAR 3 dan VAR 5."
   ]
  },
  {
   "cell_type": "markdown",
   "id": "6f112b97",
   "metadata": {},
   "source": [
    "## 3.2 Single Imputation\n",
    "Single imputation merupakan prosedur dimana suatu nilai dari elemen data yang hilang digantikan tanpa mendefinisikan model eksplisit untuk memperkirakan data yang hilang tersebut.\n",
    "\n",
    "## 3.2.1 Mean/Median/Mode Imputation\n",
    "\n",
    "mengganti data yang hilang dengan menggunakan rata-rata dari data variabel (exclude data yang hilang)."
   ]
  },
  {
   "cell_type": "code",
   "execution_count": null,
   "id": "e687a298",
   "metadata": {},
   "outputs": [],
   "source": [
    "# fungsi fillna di pandas dapat digunakan untuk imputasi missing values\n",
    "# taruh hasilnya di variable baru untuk mempermudah pengamatan\n",
    "df_titanic['Age_mean_uni'] = df_titanic.Age.fillna(df_titanic.Age.mean())\n",
    "df_titanic['Age_median_uni'] = df_titanic.Age.fillna(df_titanic.Age.median())\n",
    "df_titanic['Age_mode_uni'] = df_titanic.Age.fillna(df_titanic.Age.mode())"
   ]
  },
  {
   "cell_type": "code",
   "execution_count": null,
   "id": "8420cddb",
   "metadata": {},
   "outputs": [],
   "source": [
    "# mengetahui mean per kelompok sex, kita menggunakan groupby\n",
    "df_grouped = df_titanic[['Sex', 'Age']].groupby(['Sex']).mean()\n",
    "df_grouped\n",
    "# imputasi untuk male group\n",
    "# filter kondisi \n",
    "condition = df_titanic['Sex'] == 'male'\n",
    "# tangkap nilai mean untuk laki2\n",
    "mean_male = df_grouped.loc['male','Age']\n",
    "# imputasi\n",
    "df_titanic.loc[condition, 'Age_mean_multi'] = df_titanic.loc[condition,'Age'].fillna(mean_male)"
   ]
  },
  {
   "cell_type": "markdown",
   "id": "1d66e6ff",
   "metadata": {},
   "source": [
    "## 3.3 Multiple Imputation\n",
    "\n",
    "Multiple imputation merupakan cara untuk memperkirakan data yang hilang dengan memperhatikan faktor ketidakpastian.\n",
    "\n",
    "Adanya beberapa metode untuk melakukan multiple imputation antara lain :\n",
    "* KNN or K-Nearest Neighbor imputation\n",
    "* Multiple Imputation by Chained Equations (MICE) with random forests\n",
    "\n",
    "## 3.3.1 Multivariate Imputation via Chained Equations (MICE)"
   ]
  },
  {
   "cell_type": "markdown",
   "id": "1523ecde",
   "metadata": {},
   "source": [
    "Misalkan kita memiliki variabel $x_1, x_2, x_3, ...x_n$. Pada dataset anda, variabel $x_2$ dan $x_3$, dan $x_5$ mengalami beberapa data yang hilang.\n",
    "* Pada saat anda ingin memunculkan nilai yang hilang dari $x_2$ maka variabel yang hilang akan diregres terhadap variabel $x_1$, $x_3$,  $x_4 - x_5$ \n",
    "* Pada saat anda ingin memunculkan nilai yang hilang dari $x_3$ maka variabel yang hilang akan diregres terhadap variabel $x_1$, $x_2$,  $x_4 - x_5$ \n",
    "* dst\n",
    "\n",
    "Secara default, regresi linear digunakan untuk memprediksi nilai yang hilang bila variabel yang diprediksi adalah variabel kontinu dan regresi logistik bila variabel yang hilang adalah variabel kategorikal."
   ]
  },
  {
   "cell_type": "code",
   "execution_count": null,
   "id": "15fc3188",
   "metadata": {
    "scrolled": false
   },
   "outputs": [],
   "source": [
    "import pandas as pd\n",
    "import numpy as np\n",
    "# importing the MICE from fancyimpute library\n",
    "from fancyimpute import IterativeImputer\n",
    "  \n",
    "df = pd.DataFrame([[np.nan, 2, np.nan, 0],\n",
    "                   [3, 4, np.nan, 1],\n",
    "                   [np.nan, np.nan, np.nan, 5],\n",
    "                   [np.nan, 3, np.nan, 4],\n",
    "                   [5,      7,  8,     2],\n",
    "                   [2,      5,  7,     9]],\n",
    "                  columns = ['var1', 'var2', 'var3', 'var4'])\n",
    "df"
   ]
  },
  {
   "cell_type": "code",
   "execution_count": null,
   "id": "482a322d",
   "metadata": {},
   "outputs": [],
   "source": [
    "# calling the  MICE class\n",
    "mice_imputer = IterativeImputer()\n",
    "\n",
    "# imputing the missing value with mice imputer\n",
    "df = mice_imputer.fit_transform(df)\n",
    "df_mice = pd.DataFrame(df, columns=['var1', 'var2', 'var3', 'var4'])\n",
    "df_mice"
   ]
  },
  {
   "cell_type": "markdown",
   "id": "dd003ca9",
   "metadata": {},
   "source": [
    "Referensi Lain :\n",
    "* https://campus.datacamp.com/courses/dealing-with-missing-data-in-python/advanced-imputation-techniques?ex=1\n",
    "* https://towardsdatascience.com/handling-missing-data-like-a-pro-part-3-model-based-multiple-imputation-methods-bdfe85f93087\n",
    "* Flexible Imputation of Missing Data Second Edition, Steven van Buuren, CRC Press"
   ]
  },
  {
   "cell_type": "markdown",
   "id": "39709cc7",
   "metadata": {},
   "source": [
    "# 4. Penanganan Outlier\n",
    "\n",
    "Ada tiga metode dasar untuk menangani data pencilan :\n",
    "1. **Menghapus Pencilan** \n",
    "2. **Mengganti Nilai Pencilan** \n",
    "3. **Mengestimasi Nilai Pencilan**\n",
    "\n",
    "Untuk 1 dan 3 bisa dilakukan dengan metode penanganan yang sama dengan penanganan data yang hilang. Untuk metode ke-2 ada beberapa cara yang dapat dilakukan, salah satunya adalah Winsorization.\n",
    "\n",
    "## 4.1 Winsorization\n",
    "\n",
    "merupakan salah satu metode transformasi statistik dengan membatasi nilai-nilai ekstrim data.\n",
    "Disebut Winsorization karena metode ini ditemukan oleh biostatistisi Charles P. Winsor (1895–1951).\n",
    "Strategi umum dari Winsorization adalah dengan menspesifikasi persentil data.\n",
    "Winsorization 90% berarti \n",
    "* mengganti semua data di bawah 5% persentil menjadi 5%\n",
    "* mengganti semua data di atas 95% persentil menjadi 95%"
   ]
  },
  {
   "cell_type": "code",
   "execution_count": null,
   "id": "89798ca3",
   "metadata": {},
   "outputs": [],
   "source": [
    "# Misalkan kita memiliki list data :\n",
    "dataA=[3, 14, 16, 16, 17, 29, 34, 36, 39, 47, 59, 64, 65, 66, 68, 79, 91, 98]\n",
    "import numpy as np\n",
    "q05=np.quantile(dataA, .05)\n",
    "q95=np.quantile(dataA, .95)\n",
    "print(q05)\n",
    "print(q95)"
   ]
  },
  {
   "cell_type": "markdown",
   "id": "f9323805",
   "metadata": {},
   "source": [
    "Maka :\n",
    "* semua data di bawah 12 akan diganti dengan 12 \n",
    "* semua data di atas 92 akan diganti dengan 92"
   ]
  },
  {
   "cell_type": "markdown",
   "id": "909dbbba",
   "metadata": {},
   "source": [
    "## 4.2 Estimasi/Penggantian Outlier Multivariate\n",
    "\n",
    "Deteksi outlier bedasarkan pengamatan terhadap lebih dari 1 features biasa dikenal dengan multivariate outlier detections.\n",
    "* k-nearest neighbours\n",
    "* DBSCAN (Density-Based Spatial Clustering of Applications with Noise-DBSCAN) \n",
    "* isolation forests"
   ]
  },
  {
   "cell_type": "markdown",
   "id": "d3e06a3c",
   "metadata": {},
   "source": [
    "# 5. Transformasi Variabel"
   ]
  },
  {
   "cell_type": "markdown",
   "id": "6142bac6",
   "metadata": {},
   "source": [
    "## 5.1 Encoding\n",
    "\n",
    "Encoding merupakan metode untuk mengubah data kategorikal ke dalam format bilangan bulat. Ada beberapa macam encoding, antara lain label encoding, binary encoding, hash encoding, target encoding, dll. Untuk melakukan encoding kita bisa menggunakan :\n",
    "* library LabelEncoder.\n",
    "* dictionary {}.\n",
    "* df.Series.map().\n",
    "* dst."
   ]
  },
  {
   "cell_type": "markdown",
   "id": "65f9d157",
   "metadata": {},
   "source": [
    "### 5.1.1 Label Encoding\n",
    "\n",
    "Digunakan untuk mengubah sekumpulan label ke dalam format integer sehingga bisa dilakukan komputasi."
   ]
  },
  {
   "cell_type": "code",
   "execution_count": null,
   "id": "188df002",
   "metadata": {},
   "outputs": [],
   "source": [
    "import pandas as pd\n",
    "\n",
    "city_name = ['Jakarta', 'Bandung', 'Surabaya', 'Jakarta', 'Bandung', 'Surabaya', 'Pontianak', 'Medan', 'Makassar', 'Jayapura']\n",
    "df = pd.DataFrame(city_name, columns=['Kota'])\n",
    "df"
   ]
  },
  {
   "cell_type": "code",
   "execution_count": null,
   "id": "2f09122e",
   "metadata": {},
   "outputs": [],
   "source": [
    "# Import label encoder\n",
    "from sklearn import preprocessing\n",
    "  \n",
    "# label_encoder object knows how to understand word labels.\n",
    "label_encoder = preprocessing.LabelEncoder()\n",
    "  \n",
    "# Encode labels in column 'species'.\n",
    "df['Kota']= label_encoder.fit_transform(df['Kota'])  \n",
    "df"
   ]
  },
  {
   "cell_type": "markdown",
   "id": "9b0c4a58",
   "metadata": {},
   "source": [
    "# 5.2.2 One Hot Encoding\n",
    "\n",
    "* Pada one hot encoding, kita mengkonversi satu feature menjadi beberapa fitur yang nilainya 0 atau 1.\n",
    "* Salah satu penggunaaan hot encoding adalah pada saat menggunakan regresi dengan variabel dummy."
   ]
  },
  {
   "cell_type": "code",
   "execution_count": null,
   "id": "2e268841",
   "metadata": {},
   "outputs": [],
   "source": [
    "import pandas as pd\n",
    "\n",
    "nama_pegawai = ['Ninuk', 'Marwoto', 'Saefudin', 'Hanafi', 'Sawiyah', 'Cecek', 'Lintang']\n",
    "kota_asal = ['Jakarta', 'Bandung', 'Surabaya', 'Jakarta', 'Medan', 'Makassar', 'Medan']\n",
    "df = pd.DataFrame(list(zip(nama_pegawai, kota_asal)), columns=['nama_pegawai', 'kota_asal'])\n",
    "df"
   ]
  },
  {
   "cell_type": "code",
   "execution_count": null,
   "id": "e92b5b02",
   "metadata": {},
   "outputs": [],
   "source": [
    "df_ohe = pd.get_dummies(df['kota_asal'])\n",
    "df_ohe\n",
    "# Join the encoded df\n",
    "df_ohe2 = df.join(df_ohe)\n",
    "df_ohe2"
   ]
  },
  {
   "cell_type": "code",
   "execution_count": null,
   "id": "35c3a085",
   "metadata": {},
   "outputs": [],
   "source": [
    "from sklearn.preprocessing import OneHotEncoder\n",
    "\n",
    "y = OneHotEncoder(sparse=False)\n",
    "y = y.fit_transform(df[['kota_asal']])\n",
    "df_y = pd.DataFrame(y)\n",
    "df_y"
   ]
  },
  {
   "cell_type": "markdown",
   "id": "c4ff37de",
   "metadata": {},
   "source": [
    "## 5.2. Binning\n",
    "\n",
    "Metode transformasi variabel lainnya adalah binning yakni mengkonversi data numeris menjadi kategoris, dengan menggunakan range."
   ]
  },
  {
   "cell_type": "markdown",
   "id": "c27a4104",
   "metadata": {},
   "source": [
    "### 5.2.1 Menggunakan qcut\n"
   ]
  },
  {
   "cell_type": "markdown",
   "id": "6916387b",
   "metadata": {},
   "source": [
    "* Melalui qcut kita bisa membuat kategorisasi berdasarkan persen data (percentiles, quartiles, dan median). \n",
    "* Kita membagi-bagi keranjangan kategori dengan atribut `q`, bila `q=4` maka sebenarnya kita sedang membagi data menjadi 4-kuartil. \n",
    "* Bila spesifikasi `q=5` maka kita membagi data menjadi kuintil.\n",
    "\n",
    ">> Do remember ! \n",
    ">> Saat menggunakan qcut, ingatlah bahwa pandas, saat membuat layer kategori sudah mengurutkan data terlebih dahulu."
   ]
  },
  {
   "cell_type": "code",
   "execution_count": null,
   "id": "90d6fb8f",
   "metadata": {
    "scrolled": false
   },
   "outputs": [],
   "source": [
    "# right = True, by default\n",
    "import pandas as pd\n",
    "df_titanic = pd.read_csv('https://raw.githubusercontent.com/mofdac/-materi-das/main/04.%20Data%20Preparation/dataset/titanic.csv')\n",
    "df_titanic.head()"
   ]
  },
  {
   "cell_type": "code",
   "execution_count": null,
   "id": "bdc70c0c",
   "metadata": {},
   "outputs": [],
   "source": [
    "pd.qcut(df_titanic['Age'], q=4).unique()"
   ]
  },
  {
   "cell_type": "code",
   "execution_count": null,
   "id": "fc267731",
   "metadata": {},
   "outputs": [],
   "source": [
    "df_titanic['Klas_Umur']=pd.qcut(df_titanic['Age'], q=4)\n",
    "df_titanic.head()"
   ]
  },
  {
   "cell_type": "code",
   "execution_count": null,
   "id": "513f59b7",
   "metadata": {},
   "outputs": [],
   "source": [
    "# Memberi Label pada setiap kategori\n",
    "df_titanic['Klas_Umur']=pd.qcut(df_titanic['Age'], \n",
    "                                q=[0, 0.2, 0.4, 0.6, 0.8, 1.0], \n",
    "                                labels=['muda banget',\n",
    "                                        'muda_aja',\n",
    "                                        'agak_muda',\n",
    "                                        'mulai_gak_muda',\n",
    "                                        'enggak_muda']).head()\n",
    "df_titanic.head()"
   ]
  },
  {
   "cell_type": "markdown",
   "id": "c067aa2c",
   "metadata": {},
   "source": [
    "### 5.2.2 Menggunakan cut\n",
    "\n",
    "Cut mirip dengan `qcut` perbedaan mendasarnya adalah cut tidak menjamin adanya kesamaan distribusi data dalam range kategori yang dibuatnya."
   ]
  },
  {
   "cell_type": "code",
   "execution_count": null,
   "id": "693814d2",
   "metadata": {},
   "outputs": [],
   "source": [
    "df_titanic['Age']=pd.cut(df_titanic['Age'], bins=3, \n",
    "                         labels=['muda', 'paruh baya', 'lansia']).head()\n",
    "df_titanic.head()"
   ]
  },
  {
   "cell_type": "markdown",
   "id": "06175126",
   "metadata": {},
   "source": [
    "# 6. Menciptakan Feature dari Data Waktu"
   ]
  },
  {
   "cell_type": "markdown",
   "id": "9d1bc462",
   "metadata": {},
   "source": [
    "* Terdapat masa dimana pada suatu masalah prediktif, variabel waktu memiliki kontribusi tertentu.\n",
    "* Misalkan, pada data time series kita menemukan adanya siklus pada hari/bulan/jam tertentu. Untuk itu, kita perlu memunculkan potongan informasi waktu tersebut."
   ]
  },
  {
   "cell_type": "markdown",
   "id": "8385ddb5",
   "metadata": {},
   "source": [
    "## 6.1 Mengekstrak Potongan Tanggal atau Waktu dari Timestamp"
   ]
  },
  {
   "cell_type": "code",
   "execution_count": null,
   "id": "dec02bc4",
   "metadata": {
    "scrolled": true
   },
   "outputs": [],
   "source": [
    "import pandas as pd\n",
    "data_waktu=pd.read_csv('https://raw.githubusercontent.com/mofdac/-materi-das/main/04.%20Data%20Preparation/dataset/TPIA.csv')\n",
    "data_wkt=data_waktu[['date', 'previous', 'open_price', 'close']].copy()\n",
    "data_wkt['date'] = pd.to_datetime(data_wkt['date'])\n",
    "data_wkt.head()"
   ]
  },
  {
   "cell_type": "markdown",
   "id": "4d9e5ed9",
   "metadata": {},
   "source": [
    "# 6.2 Mengekstrak tanggal saja"
   ]
  },
  {
   "cell_type": "code",
   "execution_count": null,
   "id": "b71eb213",
   "metadata": {
    "scrolled": true
   },
   "outputs": [],
   "source": [
    "data_wkt['tanggal'] = data_wkt['date'].dt.date\n",
    "data_wkt.head()"
   ]
  },
  {
   "cell_type": "markdown",
   "id": "ce231334",
   "metadata": {},
   "source": [
    "## 6.3 Mengekstrak jam saja"
   ]
  },
  {
   "cell_type": "code",
   "execution_count": null,
   "id": "61ee1d06",
   "metadata": {
    "scrolled": true
   },
   "outputs": [],
   "source": [
    "data_wkt['jam'] = data_wkt['date'].dt.time\n",
    "data_wkt.head()"
   ]
  },
  {
   "cell_type": "markdown",
   "id": "48aeca98",
   "metadata": {},
   "source": [
    "## 6.4 Mengekstrak tahun"
   ]
  },
  {
   "cell_type": "code",
   "execution_count": null,
   "id": "d6bdb20b",
   "metadata": {
    "scrolled": true
   },
   "outputs": [],
   "source": [
    "data_wkt['tahun'] = data_wkt['date'].dt.year\n",
    "data_wkt.head()"
   ]
  },
  {
   "cell_type": "markdown",
   "id": "3b25ac5b",
   "metadata": {},
   "source": [
    "## 6.5 Mengekstrak kuartal"
   ]
  },
  {
   "cell_type": "code",
   "execution_count": null,
   "id": "6bf86a7e",
   "metadata": {
    "scrolled": true
   },
   "outputs": [],
   "source": [
    "data_wkt['kuartal'] = data_wkt['date'].dt.quarter\n",
    "data_wkt.head()"
   ]
  },
  {
   "cell_type": "markdown",
   "id": "30fe9459",
   "metadata": {},
   "source": [
    "## 6.7 Mengekstrak bulan"
   ]
  },
  {
   "cell_type": "code",
   "execution_count": null,
   "id": "c15ea4ad",
   "metadata": {
    "scrolled": true
   },
   "outputs": [],
   "source": [
    "data_wkt['bulan'] = data_wkt['date'].dt.month\n",
    "data_wkt.head()"
   ]
  },
  {
   "cell_type": "markdown",
   "id": "e27b830f",
   "metadata": {},
   "source": [
    "## 6.8 Mengekstrak Hari (Langsung di enkoding)"
   ]
  },
  {
   "cell_type": "code",
   "execution_count": null,
   "id": "05db7d23",
   "metadata": {
    "scrolled": true
   },
   "outputs": [],
   "source": [
    "data_wkt['hari'] = data_wkt['date'].dt.dayofweek\n",
    "data_wkt.head()"
   ]
  },
  {
   "cell_type": "markdown",
   "id": "c6a45bb0",
   "metadata": {},
   "source": [
    "## 6.9 Mengoperasikan tanggal"
   ]
  },
  {
   "cell_type": "code",
   "execution_count": null,
   "id": "e039af65",
   "metadata": {
    "scrolled": true
   },
   "outputs": [],
   "source": [
    "from datetime import timedelta\n",
    "data_wkt['tgl_migdep'] = data_wkt['date'] + timedelta(days=7)\n",
    "data_wkt.head()"
   ]
  },
  {
   "cell_type": "markdown",
   "id": "c109713e",
   "metadata": {},
   "source": [
    "## 6.10 Menghitung selisih waktu"
   ]
  },
  {
   "cell_type": "code",
   "execution_count": null,
   "id": "2fda539c",
   "metadata": {},
   "outputs": [],
   "source": [
    "data_wkt['delta_hari'] = (data_wkt['tgl_migdep'] - data_wkt['date']).dt.days\n",
    "data_wkt.head()"
   ]
  },
  {
   "cell_type": "markdown",
   "id": "08eb9ccf",
   "metadata": {},
   "source": [
    "# 7. Menciptakan Feature dari Komputasi Matematis"
   ]
  },
  {
   "cell_type": "code",
   "execution_count": null,
   "id": "eff1cb1c",
   "metadata": {},
   "outputs": [],
   "source": [
    "data_cmp=data_waktu[['date', 'previous', 'open_price', 'close']].copy()\n",
    "data_cmp.head()"
   ]
  },
  {
   "cell_type": "markdown",
   "id": "a188bb03",
   "metadata": {},
   "source": [
    "## 7.1 Operasi antar kolom"
   ]
  },
  {
   "cell_type": "code",
   "execution_count": null,
   "id": "e855e8dd",
   "metadata": {},
   "outputs": [],
   "source": [
    "data_cmp['Selisih']=data_cmp['close']-data_cmp['open_price']\n",
    "data_cmp.head()"
   ]
  },
  {
   "cell_type": "markdown",
   "id": "ef5940bf",
   "metadata": {},
   "source": [
    "## 7.2 Operasi dengan skalar"
   ]
  },
  {
   "cell_type": "code",
   "execution_count": null,
   "id": "bac11d3a",
   "metadata": {},
   "outputs": [],
   "source": [
    "data_cmp['add_close']=data_cmp['close']+20000\n",
    "data_cmp.head()"
   ]
  },
  {
   "cell_type": "markdown",
   "id": "26eec0ba",
   "metadata": {},
   "source": [
    "## 7.3 Memberikan kategori"
   ]
  },
  {
   "cell_type": "code",
   "execution_count": null,
   "id": "e357818f",
   "metadata": {},
   "outputs": [],
   "source": [
    "def ur (selisih):\n",
    "    if selisih>0 :\n",
    "        return 'Untung'\n",
    "    elif selisih==0:\n",
    "        return 'Sama'\n",
    "    else:\n",
    "        return 'Rugi'\n",
    "data_cmp['kategori']=data_cmp['Selisih'].apply(ur)\n",
    "data_cmp.head()"
   ]
  }
 ],
 "metadata": {
  "kernelspec": {
   "display_name": "Python 3 (ipykernel)",
   "language": "python",
   "name": "python3"
  },
  "language_info": {
   "codemirror_mode": {
    "name": "ipython",
    "version": 3
   },
   "file_extension": ".py",
   "mimetype": "text/x-python",
   "name": "python",
   "nbconvert_exporter": "python",
   "pygments_lexer": "ipython3",
   "version": "3.9.7"
  }
 },
 "nbformat": 4,
 "nbformat_minor": 5
}
