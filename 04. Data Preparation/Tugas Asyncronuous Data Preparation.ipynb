{
 "cells": [
  {
   "cell_type": "markdown",
   "id": "14cdfa69",
   "metadata": {},
   "source": [
    "# Menyiapkan Data Prediksi Rental Kamar\n",
    "\n",
    "Sebuah startup penyewaan rental membutuhkan sebuah model yang dapat memberikan informasi kemungkinan sebuah properti masih tersedia untuk di sewa oleh pelanggan mereka. Startup ini sudah berjalan bertahun-tahun dan mereka telah memiliki sistem penyewaan dan juga reviu pelanggan. Namun pada awal 2019, sistem reviu pelanggan atas kamar tersebut mengalami perubahan sehingga proses penyimpanan data reviu juga berubah namun tetap kompatible dengan sistem yang baru.\n",
    "\n",
    "Beberapa perbedaan teknis penyimpanan data reviu atas dua sistem tersebut antara lain:\n",
    "1. Sistem baru menggunakan data model (tabel) yang sudah diperbaiki (pivoted),\n",
    "2. Sistem baru memiliki format tanggal yang berbeda,\n",
    "3. Sistem baru menyimpan harga kamar dalam format angka bukan free text,\n",
    "4. Sistem baru menyimpan informasi lokasi properti dengan memisahkan antara neighbourhood dengan neighbourhood group,\n",
    "5. pada awal 2019 yang merupakan periode transisi, kedua sistem berjalan secara paralel sehingga masing-masing sistem merekam data secara bersamaan.\n",
    "\n",
    "Terkait dengan kebutuhan penyusunan model, tim pengembangan model telah melakukan EDA dan mendiskusikan hasil EDA tersebut tgl 31 Januari 2021. Beberapa poin hasil EDA yang disepakati antara lain:\n",
    "1. Model memiliki target berupa persentase kemungkinan property dapat disewa, angka kemungkinan itu dapat juga berarti berapa persen tingkat ketersediaan sebuah property dalam setahun,\n",
    "2. Beberapa kolom kategorikal bertipe nominal sehingga perlu dilakukan encoding atas kolom-kolom tersebut,\n",
    "3. Data reviu pelanggan memiliki outlier dan missing value yang perlu ditangani, namun cara penanganan perlu ditentukan oleh anda sebagai data analyst,\n",
    "4. beberapa kolom numerical dianggap terlalu menceng (skewed), perlu ada langkah normalisasi atas kolom-kolom tersebut,\n",
    "5. Tim berpendapat bahwa hari dimana review terakhir direkam atas sebuah property dapat membantu memperkirakan kemungkinan property dapat disewa,\n",
    "6. Selain itu, reviu yang terlalu lama atau paling terkini juga dapat membantu model prediksi, jadi selisih hari/bulan terakhir reviu dengan tanggal analisis perlu dihitung,\n",
    "7. Masih terdapat kemungkinan langkah-langkah preprocessing lainnya yang dapat dilakukan. \n",
    "\n",
    "Sebelum membuat model prediksi, anda sebagai data analyst perlu menyiapkan data yang diperlukan sehingga sesuai dengan keperluan pembuatan model. Di bawah ini, data dari kedua sistem telah di load pada notebook pengerjaan model. Silahkan lanjutkan langkap preprocessing yang diperlukan tanpa perlu melangkah pada proses training model."
   ]
  },
  {
   "cell_type": "code",
   "execution_count": 3,
   "id": "157e8afe",
   "metadata": {},
   "outputs": [
    {
     "name": "stdout",
     "output_type": "stream",
     "text": [
      "(210812, 3) (25201, 16)\n"
     ]
    }
   ],
   "source": [
    "# silahkan import library lain yang diperlukan \n",
    "import pandas as pd\n",
    "import numpy as np\n",
    "\n",
    "### Load Data dari dua sistem reviu pelanggan\n",
    "df_old = pd.read_csv('https://raw.githubusercontent.com/mofdac/-materi-das/main/04.%20Data%20Preparation/dataset/old_system.csv')\n",
    "df_new = pd.read_csv('https://raw.githubusercontent.com/mofdac/-materi-das/main/04.%20Data%20Preparation/dataset/new_system.csv')\n",
    "print(df_old.shape,df_new.shape)"
   ]
  }
 ],
 "metadata": {
  "kernelspec": {
   "display_name": "Python 3 (ipykernel)",
   "language": "python",
   "name": "python3"
  },
  "language_info": {
   "codemirror_mode": {
    "name": "ipython",
    "version": 3
   },
   "file_extension": ".py",
   "mimetype": "text/x-python",
   "name": "python",
   "nbconvert_exporter": "python",
   "pygments_lexer": "ipython3",
   "version": "3.9.7"
  }
 },
 "nbformat": 4,
 "nbformat_minor": 5
}
