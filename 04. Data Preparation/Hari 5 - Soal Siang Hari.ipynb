{
 "cells": [
  {
   "cell_type": "markdown",
   "id": "10512971",
   "metadata": {},
   "source": [
    "# Problem Sore Hari :\n",
    "\n",
    "1. Lakukan winsorization pada data outlier dari UScereal variabel potassium. Analisis pergeseran yang terjadi pada ukuran-ukuran distribusi :\n",
    "    - Mean\n",
    "    - Mode\n",
    "    - Median\n",
    " \n",
    "2. Jumlah hari yang delta_harga nya Nol/Positif/Negatif dalam satu tahun di kategorisasi per hari.\n",
    "\n",
    "| Hari   | Delta\\_Harga\\_Nol | Delta\\_Harga\\_Positif | Delta\\_Harga\\_Negatif |\n",
    "| ------ | ----------------- | --------------------- | --------------------- |\n",
    "| Senin  | …                 | …                     | …                     |\n",
    "| Selasa | …                 | …                     | …                     |\n",
    "| Rabu   | …                 | …                     | …                     |\n",
    "| Kamis  | …                 | …                     | …                     |\n",
    "| Jumat  | …                 | …                     | …                     |\n",
    "\n",
    "3. Lakukan :\n",
    "    * encoding (binary dan label encoding) pada data UScereal terhadap variabel mfr (mfr merupakan nama pembuat cerealnya: G=General Mills, K=Kelloggs, N=Nabisco, P=Post,Q=Quaker Oats, R=Ralston Purina).\n",
    "    * binning pada data UScereal untuk mengklusterisasi (menggunakan qcut dan cut)."
   ]
  }
 ],
 "metadata": {
  "kernelspec": {
   "display_name": "Python 3 (ipykernel)",
   "language": "python",
   "name": "python3"
  },
  "language_info": {
   "codemirror_mode": {
    "name": "ipython",
    "version": 3
   },
   "file_extension": ".py",
   "mimetype": "text/x-python",
   "name": "python",
   "nbconvert_exporter": "python",
   "pygments_lexer": "ipython3",
   "version": "3.9.7"
  }
 },
 "nbformat": 4,
 "nbformat_minor": 5
}
