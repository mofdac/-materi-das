{
 "cells": [
  {
   "cell_type": "markdown",
   "id": "96470fed",
   "metadata": {
    "id": "96470fed"
   },
   "source": [
    "**Materi Selanjutnya Menggunakan Dataset: Titanic**"
   ]
  },
  {
   "cell_type": "markdown",
   "id": "019ea4da",
   "metadata": {
    "id": "019ea4da"
   },
   "source": [
    "# Missing Value and Outlier"
   ]
  },
  {
   "cell_type": "markdown",
   "id": "bcb4fbce",
   "metadata": {
    "id": "bcb4fbce"
   },
   "source": [
    "Hasil EDA menunjukkan fakta berikut:\n",
    "1. Terdapat missing value pada kolom ```Age```, ```Cabin```, ```Embarked```.\n",
    "2. Outlier pada kolom ```Fare```."
   ]
  },
  {
   "cell_type": "markdown",
   "id": "b277a0bc",
   "metadata": {
    "id": "b277a0bc"
   },
   "source": [
    "## Penanganan Missing Value\n",
    "\n",
    "Kenapa masalah Missing Value harus kita atasi?\n",
    "\n",
    "> Missing values are common occurrences in data. Unfortunately, most predictive modeling techniques cannot handle any missing values. Therefore, this problem must be addressed prior to modeling.\n",
    "\n",
    "Feature Engineering and Selection, 2019.\n",
    "\n",
    "3 Tipe [Missing Value](https://blog.usejournal.com/missing-data-its-types-and-statistical-methods-to-deal-with-it-5cf8b71a443f):\n",
    "1. Missing completely at random (MCAR). \n",
    "2. Missing at random (MAR). \n",
    "3. Missing not random (MNAR). \n",
    "\n",
    "<details>\n",
    "<br>\n",
    "Misal kita diminta untuk membuat model dari Age (Y) yang dipengaruhi oleh jenis kelamin (X) beberapa responden tidak memberikan jawaban atas pertanyaan berapa berat mereka. <br>\n",
    "1. MCAR terjadi jika tidak ada alasan yang jelas kenapa responden tidak memberikan jawaban.<br>\n",
    "2. MAR terjadi jika orang yang berjenis kelamin perempuan akan cenderung tidak memberikan jawaban jika ditanya berat, jadi missing value Y dipengaruhi oleh X.<br>\n",
    "3. MNAR terjadi jika orang dengan kelas penghasilan tertentu, memiliki kecenderungan tidak memberikan jawaban. Sehingga missing value Y dipengaruhi oleh nilai lain yang tidak teramati.\n",
    "</details>\n",
    "\n",
    "Beberapa fungsi utama yang digunakan:\n",
    "1. [library ```missingno```](https://github.com/ResidentMario/missingno)\n",
    "2. [```df.isnull()```](https://pandas.pydata.org/pandas-docs/stable/reference/api/pandas.isnull.html)\n",
    "3. [```df.fillna()```](https://pandas.pydata.org/pandas-docs/stable/reference/api/pandas.DataFrame.fillna.html)\n",
    "4. [```df.groupby()```](https://pandas.pydata.org/pandas-docs/stable/reference/api/pandas.DataFrame.groupby.html)\n",
    "5. [```df.loc()```](https://pandas.pydata.org/pandas-docs/stable/reference/api/pandas.DataFrame.loc.html)\n",
    "6. [```df.column.plot()```](https://pandas.pydata.org/docs/reference/api/pandas.Series.plot.html)\n",
    "7. [```df.column.skew()```](https://pandas.pydata.org/docs/reference/api/pandas.Series.skew.html)\n",
    "8. [```df.column.value_counts()```](https://pandas.pydata.org/docs/reference/api/pandas.Series.value_counts.html)"
   ]
  },
  {
   "cell_type": "code",
   "execution_count": 1,
   "id": "7c55ee5f",
   "metadata": {},
   "outputs": [
    {
     "data": {
      "text/html": [
       "<div>\n",
       "<style scoped>\n",
       "    .dataframe tbody tr th:only-of-type {\n",
       "        vertical-align: middle;\n",
       "    }\n",
       "\n",
       "    .dataframe tbody tr th {\n",
       "        vertical-align: top;\n",
       "    }\n",
       "\n",
       "    .dataframe thead th {\n",
       "        text-align: right;\n",
       "    }\n",
       "</style>\n",
       "<table border=\"1\" class=\"dataframe\">\n",
       "  <thead>\n",
       "    <tr style=\"text-align: right;\">\n",
       "      <th></th>\n",
       "      <th>PassengerId</th>\n",
       "      <th>Survived</th>\n",
       "      <th>Pclass</th>\n",
       "      <th>Name</th>\n",
       "      <th>Sex</th>\n",
       "      <th>Age</th>\n",
       "      <th>SibSp</th>\n",
       "      <th>Parch</th>\n",
       "      <th>Ticket</th>\n",
       "      <th>Fare</th>\n",
       "      <th>Cabin</th>\n",
       "      <th>Embarked</th>\n",
       "    </tr>\n",
       "  </thead>\n",
       "  <tbody>\n",
       "    <tr>\n",
       "      <th>0</th>\n",
       "      <td>1</td>\n",
       "      <td>0</td>\n",
       "      <td>3</td>\n",
       "      <td>Braund, Mr. Owen Harris</td>\n",
       "      <td>male</td>\n",
       "      <td>22.0</td>\n",
       "      <td>1</td>\n",
       "      <td>0</td>\n",
       "      <td>A/5 21171</td>\n",
       "      <td>7.2500</td>\n",
       "      <td>NaN</td>\n",
       "      <td>S</td>\n",
       "    </tr>\n",
       "    <tr>\n",
       "      <th>1</th>\n",
       "      <td>2</td>\n",
       "      <td>1</td>\n",
       "      <td>1</td>\n",
       "      <td>Cumings, Mrs. John Bradley (Florence Briggs Th...</td>\n",
       "      <td>female</td>\n",
       "      <td>38.0</td>\n",
       "      <td>1</td>\n",
       "      <td>0</td>\n",
       "      <td>PC 17599</td>\n",
       "      <td>71.2833</td>\n",
       "      <td>C85</td>\n",
       "      <td>C</td>\n",
       "    </tr>\n",
       "    <tr>\n",
       "      <th>2</th>\n",
       "      <td>3</td>\n",
       "      <td>1</td>\n",
       "      <td>3</td>\n",
       "      <td>Heikkinen, Miss. Laina</td>\n",
       "      <td>female</td>\n",
       "      <td>26.0</td>\n",
       "      <td>0</td>\n",
       "      <td>0</td>\n",
       "      <td>STON/O2. 3101282</td>\n",
       "      <td>7.9250</td>\n",
       "      <td>NaN</td>\n",
       "      <td>S</td>\n",
       "    </tr>\n",
       "    <tr>\n",
       "      <th>3</th>\n",
       "      <td>4</td>\n",
       "      <td>1</td>\n",
       "      <td>1</td>\n",
       "      <td>Futrelle, Mrs. Jacques Heath (Lily May Peel)</td>\n",
       "      <td>female</td>\n",
       "      <td>35.0</td>\n",
       "      <td>1</td>\n",
       "      <td>0</td>\n",
       "      <td>113803</td>\n",
       "      <td>53.1000</td>\n",
       "      <td>C123</td>\n",
       "      <td>S</td>\n",
       "    </tr>\n",
       "    <tr>\n",
       "      <th>4</th>\n",
       "      <td>5</td>\n",
       "      <td>0</td>\n",
       "      <td>3</td>\n",
       "      <td>Allen, Mr. William Henry</td>\n",
       "      <td>male</td>\n",
       "      <td>35.0</td>\n",
       "      <td>0</td>\n",
       "      <td>0</td>\n",
       "      <td>373450</td>\n",
       "      <td>8.0500</td>\n",
       "      <td>NaN</td>\n",
       "      <td>S</td>\n",
       "    </tr>\n",
       "  </tbody>\n",
       "</table>\n",
       "</div>"
      ],
      "text/plain": [
       "   PassengerId  Survived  Pclass   \n",
       "0            1         0       3  \\\n",
       "1            2         1       1   \n",
       "2            3         1       3   \n",
       "3            4         1       1   \n",
       "4            5         0       3   \n",
       "\n",
       "                                                Name     Sex   Age  SibSp   \n",
       "0                            Braund, Mr. Owen Harris    male  22.0      1  \\\n",
       "1  Cumings, Mrs. John Bradley (Florence Briggs Th...  female  38.0      1   \n",
       "2                             Heikkinen, Miss. Laina  female  26.0      0   \n",
       "3       Futrelle, Mrs. Jacques Heath (Lily May Peel)  female  35.0      1   \n",
       "4                           Allen, Mr. William Henry    male  35.0      0   \n",
       "\n",
       "   Parch            Ticket     Fare Cabin Embarked  \n",
       "0      0         A/5 21171   7.2500   NaN        S  \n",
       "1      0          PC 17599  71.2833   C85        C  \n",
       "2      0  STON/O2. 3101282   7.9250   NaN        S  \n",
       "3      0            113803  53.1000  C123        S  \n",
       "4      0            373450   8.0500   NaN        S  "
      ]
     },
     "execution_count": 1,
     "metadata": {},
     "output_type": "execute_result"
    }
   ],
   "source": [
    "import pandas as pd\n",
    "df_titanic = pd.read_csv('https://raw.githubusercontent.com/mofdac/-materi-das/main/04.%20Data%20Preparation/dataset/titanic.csv')\n",
    "df_titanic.head()"
   ]
  },
  {
   "cell_type": "code",
   "execution_count": 2,
   "id": "627b211f",
   "metadata": {
    "ExecuteTime": {
     "end_time": "2021-08-18T09:05:40.426541Z",
     "start_time": "2021-08-18T09:05:40.411627Z"
    },
    "id": "627b211f",
    "outputId": "86a4b548-bacc-4bb8-d097-0d993f4ac270"
   },
   "outputs": [
    {
     "data": {
      "text/plain": [
       "PassengerId      0\n",
       "Survived         0\n",
       "Pclass           0\n",
       "Name             0\n",
       "Sex              0\n",
       "Age            177\n",
       "SibSp            0\n",
       "Parch            0\n",
       "Ticket           0\n",
       "Fare             0\n",
       "Cabin          687\n",
       "Embarked         2\n",
       "dtype: int64"
      ]
     },
     "execution_count": 2,
     "metadata": {},
     "output_type": "execute_result"
    }
   ],
   "source": [
    "# lihat missing value dengan fungsi .isnul()\n",
    "df_titanic.isnull().sum()"
   ]
  },
  {
   "cell_type": "code",
   "execution_count": 3,
   "id": "56322a69",
   "metadata": {
    "ExecuteTime": {
     "end_time": "2021-08-18T09:05:40.656954Z",
     "start_time": "2021-08-18T09:05:40.427536Z"
    },
    "id": "56322a69",
    "outputId": "33a76615-b19f-4f9b-e8b9-0a8d19ef5fcf"
   },
   "outputs": [
    {
     "data": {
      "text/plain": [
       "<AxesSubplot:>"
      ]
     },
     "execution_count": 3,
     "metadata": {},
     "output_type": "execute_result"
    },
    {
     "data": {
      "image/png": "[encoded data removed]",
      "text/plain": [
       "<Figure size 720x432 with 2 Axes>"
      ]
     },
     "metadata": {
      "needs_background": "light"
     },
     "output_type": "display_data"
    }
   ],
   "source": [
    "# visualiasi missing value dengan bantuan library\n",
    "import missingno as msno\n",
    "msno.matrix(df_titanic, figsize=(10, 6))"
   ]
  },
  {
   "cell_type": "markdown",
   "id": "3ca81e50",
   "metadata": {
    "id": "3ca81e50"
   },
   "source": [
    "> Pertanyaan: missing value itu __dihapus__ atau bagaimana?"
   ]
  },
  {
   "cell_type": "markdown",
   "id": "53e1acfd",
   "metadata": {
    "id": "53e1acfd"
   },
   "source": [
    "### Kolom Age\n",
    "\n",
    "__Imputasi dengan mean atau median (Univariate)__ <br>\n",
    "\n",
    "Metode pertama yang kita implementasikan adalah mengisi missing value dengan mean atau median berdasarkan perhitungan keseluruhan kolom ```Age``` saja.<br>\n",
    "\n",
    "Hasilnya kita dapat memperhasikan efek yang berbeda dari pengisian tersebut dengan metode tersebut."
   ]
  },
  {
   "cell_type": "markdown",
   "id": "714b5e1e",
   "metadata": {
    "id": "714b5e1e"
   },
   "source": [
    "__Sebelum imputasi__"
   ]
  },
  {
   "cell_type": "code",
   "execution_count": 4,
   "id": "3a146a12",
   "metadata": {
    "ExecuteTime": {
     "end_time": "2021-08-18T09:05:40.813550Z",
     "start_time": "2021-08-18T09:05:40.657951Z"
    },
    "id": "3a146a12",
    "outputId": "d67272b5-adda-4716-8ae7-5669f6eb606b"
   },
   "outputs": [
    {
     "data": {
      "text/plain": [
       "<AxesSubplot:title={'center':'Age Sebelum Imputasi'}, ylabel='Frequency'>"
      ]
     },
     "execution_count": 4,
     "metadata": {},
     "output_type": "execute_result"
    },
    {
     "data": {
      "image/png": "[encoded data removed]",
      "text/plain": [
       "<Figure size 432x288 with 1 Axes>"
      ]
     },
     "metadata": {
      "needs_background": "light"
     },
     "output_type": "display_data"
    }
   ],
   "source": [
    "# melihat distribusi awal dari kolom Age\n",
    "df_titanic.Age.plot.hist(title=\"Age Sebelum Imputasi\", bins=20)"
   ]
  },
  {
   "cell_type": "code",
   "execution_count": 5,
   "id": "48ecc6d6",
   "metadata": {
    "ExecuteTime": {
     "end_time": "2021-08-18T09:05:40.828503Z",
     "start_time": "2021-08-18T09:05:40.814533Z"
    },
    "id": "48ecc6d6",
    "outputId": "761f249c-6a45-41e9-b81a-53f23558ad30"
   },
   "outputs": [
    {
     "data": {
      "text/plain": [
       "0.38910778230082704"
      ]
     },
     "execution_count": 5,
     "metadata": {},
     "output_type": "execute_result"
    }
   ],
   "source": [
    "# melihat kecondongan distribusi kolom Age. Kecondongan yang baik itu dari -1 sampai dengan 1\n",
    "df_titanic.Age.skew()"
   ]
  },
  {
   "cell_type": "code",
   "execution_count": 6,
   "id": "4cec2045",
   "metadata": {
    "ExecuteTime": {
     "end_time": "2021-08-18T09:05:40.844454Z",
     "start_time": "2021-08-18T09:05:40.829463Z"
    },
    "id": "4cec2045",
    "outputId": "f596e7f8-ccba-4d4d-d4b1-1978f3b8f18b"
   },
   "outputs": [
    {
     "data": {
      "text/plain": [
       "29.69911764705882"
      ]
     },
     "execution_count": 6,
     "metadata": {},
     "output_type": "execute_result"
    }
   ],
   "source": [
    "df_titanic.Age.mean()"
   ]
  },
  {
   "cell_type": "code",
   "execution_count": 7,
   "id": "631e846e",
   "metadata": {
    "ExecuteTime": {
     "end_time": "2021-08-18T09:05:40.860412Z",
     "start_time": "2021-08-18T09:05:40.846438Z"
    },
    "id": "631e846e",
    "outputId": "11a863ad-9714-4c37-b9b3-fe413bc9bfdd"
   },
   "outputs": [
    {
     "data": {
      "text/plain": [
       "28.0"
      ]
     },
     "execution_count": 7,
     "metadata": {},
     "output_type": "execute_result"
    }
   ],
   "source": [
    "df_titanic.Age.median()"
   ]
  },
  {
   "cell_type": "markdown",
   "id": "7816d1b2",
   "metadata": {
    "id": "7816d1b2"
   },
   "source": [
    "__Imputasi__"
   ]
  },
  {
   "cell_type": "code",
   "execution_count": 8,
   "id": "716ab3bc",
   "metadata": {
    "ExecuteTime": {
     "end_time": "2021-08-18T09:05:40.876381Z",
     "start_time": "2021-08-18T09:05:40.861400Z"
    },
    "id": "716ab3bc"
   },
   "outputs": [],
   "source": [
    "# fungsi fillna di pandas dapat digunakan untuk imputasi missing values\n",
    "# taruh hasilnya di variable baru untuk mempermudah pengamatan\n",
    "df_titanic['Age_mean_uni'] = df_titanic.Age.fillna(df_titanic.Age.mean())\n",
    "df_titanic['Age_median_uni'] = df_titanic.Age.fillna(df_titanic.Age.median())"
   ]
  },
  {
   "cell_type": "markdown",
   "id": "22d82c42",
   "metadata": {
    "id": "22d82c42"
   },
   "source": [
    "__Setelah imputasi__"
   ]
  },
  {
   "cell_type": "code",
   "execution_count": 9,
   "id": "06804faa",
   "metadata": {
    "ExecuteTime": {
     "end_time": "2021-08-18T09:05:41.218490Z",
     "start_time": "2021-08-18T09:05:40.877364Z"
    },
    "id": "06804faa",
    "outputId": "55597ae5-9f31-4501-a606-0bdc61f62961"
   },
   "outputs": [
    {
     "data": {
      "text/plain": [
       "array([[<AxesSubplot:title={'center':'Age'}>,\n",
       "        <AxesSubplot:title={'center':'Age_mean_uni'}>],\n",
       "       [<AxesSubplot:title={'center':'Age_median_uni'}>, <AxesSubplot:>]],\n",
       "      dtype=object)"
      ]
     },
     "execution_count": 9,
     "metadata": {},
     "output_type": "execute_result"
    },
    {
     "data": {
      "image/png": "[encoded data removed]",
      "text/plain": [
       "<Figure size 720x360 with 4 Axes>"
      ]
     },
     "metadata": {
      "needs_background": "light"
     },
     "output_type": "display_data"
    }
   ],
   "source": [
    "# melihat histogram sebelum dan sesudah imputasi \n",
    "df_titanic[['Age', 'Age_mean_uni','Age_median_uni']].hist(bins=20, figsize=(10,5))"
   ]
  },
  {
   "cell_type": "code",
   "execution_count": 10,
   "id": "b76557c8",
   "metadata": {
    "ExecuteTime": {
     "end_time": "2021-08-18T09:05:41.233472Z",
     "start_time": "2021-08-18T09:05:41.219482Z"
    },
    "id": "b76557c8",
    "outputId": "c9891871-b8df-493a-ac74-3929956cf3d3"
   },
   "outputs": [
    {
     "data": {
      "text/plain": [
       "Age               0.389108\n",
       "Age_mean_uni      0.434488\n",
       "Age_median_uni    0.510245\n",
       "dtype: float64"
      ]
     },
     "execution_count": 10,
     "metadata": {},
     "output_type": "execute_result"
    }
   ],
   "source": [
    "# skewness sebelum dan sesudah imputasi\n",
    "df_titanic[['Age', 'Age_mean_uni','Age_median_uni']].skew()"
   ]
  },
  {
   "cell_type": "markdown",
   "id": "26d0a340",
   "metadata": {
    "id": "26d0a340"
   },
   "source": [
    "__Imputasi dengan Mean berdasarkan kelompok/parameter lain (Multivariate)__ <br>\n",
    "\n",
    "Solusi alternatif jika kita ingin melakukan imputasi missing value, dibandingkan kita memukul rata isian missing value pada kolom ```Age``` dengan mean atau median dari seluruh data. <br>\n",
    "\n",
    "Kita bisa mengelompokan terlebih dahulu berdasarkan kolom lain (dalam hal ini adalah ```Sex``` sehingga imputasi dilakukan terhadap kelompok yang sama sehingga diharapkan hasilnya lebih <i>smooth</i>."
   ]
  },
  {
   "cell_type": "markdown",
   "id": "fe930c80",
   "metadata": {
    "id": "fe930c80"
   },
   "source": [
    "__Sebelum imputasi__"
   ]
  },
  {
   "cell_type": "code",
   "execution_count": 11,
   "id": "678a247d",
   "metadata": {
    "ExecuteTime": {
     "end_time": "2021-08-18T09:05:41.249417Z",
     "start_time": "2021-08-18T09:05:41.234472Z"
    },
    "id": "678a247d",
    "outputId": "6a90c766-8e95-4383-dbcf-4f539b801dc8"
   },
   "outputs": [
    {
     "data": {
      "text/html": [
       "<div>\n",
       "<style scoped>\n",
       "    .dataframe tbody tr th:only-of-type {\n",
       "        vertical-align: middle;\n",
       "    }\n",
       "\n",
       "    .dataframe tbody tr th {\n",
       "        vertical-align: top;\n",
       "    }\n",
       "\n",
       "    .dataframe thead th {\n",
       "        text-align: right;\n",
       "    }\n",
       "</style>\n",
       "<table border=\"1\" class=\"dataframe\">\n",
       "  <thead>\n",
       "    <tr style=\"text-align: right;\">\n",
       "      <th></th>\n",
       "      <th>Age</th>\n",
       "    </tr>\n",
       "    <tr>\n",
       "      <th>Sex</th>\n",
       "      <th></th>\n",
       "    </tr>\n",
       "  </thead>\n",
       "  <tbody>\n",
       "    <tr>\n",
       "      <th>female</th>\n",
       "      <td>27.915709</td>\n",
       "    </tr>\n",
       "    <tr>\n",
       "      <th>male</th>\n",
       "      <td>30.726645</td>\n",
       "    </tr>\n",
       "  </tbody>\n",
       "</table>\n",
       "</div>"
      ],
      "text/plain": [
       "              Age\n",
       "Sex              \n",
       "female  27.915709\n",
       "male    30.726645"
      ]
     },
     "execution_count": 11,
     "metadata": {},
     "output_type": "execute_result"
    }
   ],
   "source": [
    "# mengetahui mean per kelompok sex, kita menggunakan groupby\n",
    "df_grouped = df_titanic[['Sex', 'Age']].groupby(['Sex']).mean()\n",
    "df_grouped"
   ]
  },
  {
   "cell_type": "markdown",
   "id": "fc9f4f23",
   "metadata": {
    "id": "fc9f4f23"
   },
   "source": [
    "__Imputasi__\n",
    "\n",
    "Setelah mengetahui mean dari masing-masing group, kita bisa melakukan imputasi."
   ]
  },
  {
   "cell_type": "code",
   "execution_count": 12,
   "id": "b5a10dd4",
   "metadata": {
    "ExecuteTime": {
     "end_time": "2021-08-18T09:05:41.310285Z",
     "start_time": "2021-08-18T09:05:41.250413Z"
    },
    "id": "b5a10dd4"
   },
   "outputs": [],
   "source": [
    "# imputasi untuk male group\n",
    "\n",
    "# filter kondisi \n",
    "condition = df_titanic['Sex'] == 'male'\n",
    "\n",
    "# tangkap nilai mean untuk laki2\n",
    "mean_male = df_grouped.loc['male','Age']\n",
    "\n",
    "# imputasi\n",
    "df_titanic.loc[condition, 'Age_mean_multi'] = df_titanic.loc[condition,'Age'].fillna(mean_male)"
   ]
  },
  {
   "cell_type": "code",
   "execution_count": 13,
   "id": "a21b12ea",
   "metadata": {
    "ExecuteTime": {
     "end_time": "2021-08-18T09:05:41.341268Z",
     "start_time": "2021-08-18T09:05:41.311282Z"
    },
    "id": "a21b12ea"
   },
   "outputs": [],
   "source": [
    "# proses untuk female sama seperti diatas\n",
    "condition = df_titanic['Sex'] == 'female'\n",
    "mean_female = df_grouped.loc['female','Age']\n",
    "df_titanic.loc[condition, 'Age_mean_multi'] = df_titanic.loc[condition,'Age'].fillna(mean_female)"
   ]
  },
  {
   "cell_type": "markdown",
   "id": "c2f89347",
   "metadata": {
    "id": "c2f89347"
   },
   "source": [
    "__Setelah imputasi__"
   ]
  },
  {
   "cell_type": "code",
   "execution_count": 14,
   "id": "f8f3c419",
   "metadata": {
    "ExecuteTime": {
     "end_time": "2021-08-18T09:05:41.747169Z",
     "start_time": "2021-08-18T09:05:41.342252Z"
    },
    "id": "f8f3c419",
    "outputId": "43772c71-baee-4b94-95a8-1d1c7a9a4d25"
   },
   "outputs": [
    {
     "data": {
      "text/plain": [
       "array([[<AxesSubplot:title={'center':'Age'}>,\n",
       "        <AxesSubplot:title={'center':'Age_mean_uni'}>],\n",
       "       [<AxesSubplot:title={'center':'Age_mean_multi'}>, <AxesSubplot:>]],\n",
       "      dtype=object)"
      ]
     },
     "execution_count": 14,
     "metadata": {},
     "output_type": "execute_result"
    },
    {
     "data": {
      "image/png": "[encoded data removed]",
      "text/plain": [
       "<Figure size 720x360 with 4 Axes>"
      ]
     },
     "metadata": {
      "needs_background": "light"
     },
     "output_type": "display_data"
    }
   ],
   "source": [
    "# melihat histogram sebelum dan sesudah imputasi \n",
    "df_titanic[['Age', 'Age_mean_uni','Age_mean_multi']].hist(bins=20, figsize=(10,5))"
   ]
  },
  {
   "cell_type": "code",
   "execution_count": 15,
   "id": "6e33f08b",
   "metadata": {
    "ExecuteTime": {
     "end_time": "2021-08-18T09:05:41.763125Z",
     "start_time": "2021-08-18T09:05:41.748165Z"
    },
    "id": "6e33f08b",
    "outputId": "fd3481c7-6e8c-4859-d49f-4cc690fa1c50"
   },
   "outputs": [
    {
     "data": {
      "text/plain": [
       "Age               0.389108\n",
       "Age_mean_uni      0.434488\n",
       "Age_mean_multi    0.424586\n",
       "dtype: float64"
      ]
     },
     "execution_count": 15,
     "metadata": {},
     "output_type": "execute_result"
    }
   ],
   "source": [
    "# skewness sebelum dan sesudah imputasi\n",
    "df_titanic[['Age', 'Age_mean_uni','Age_mean_multi']].skew()"
   ]
  },
  {
   "cell_type": "markdown",
   "id": "f1a6e10c",
   "metadata": {
    "ExecuteTime": {
     "end_time": "2021-08-12T05:54:16.329004Z",
     "start_time": "2021-08-12T05:54:16.319031Z"
    },
    "id": "f1a6e10c"
   },
   "source": [
    "__Simpulan__: Melihat hasil skewness dari ```Age_mean_multi``` yang cukup bagus (mendekati 0), kita memilih hasil ini untuk digunakan sebagai parameter bantu pada analisis selanjutnya. \n",
    "\n",
    "Namun dibuka kemungkinan apabila saat implementasi model, peforma dari model masih tidak sesuai harapan, ```Age_mean_multi``` dapat diganti dengan ```Age_mean_uni```."
   ]
  },
  {
   "cell_type": "markdown",
   "id": "81024bf2",
   "metadata": {
    "id": "81024bf2"
   },
   "source": [
    "### Kolom Cabin\n",
    "\n",
    "Pada kolom ```Cabin``` dikarenakan mayoritas data adalah missing value dan kita punya tidak cukup ide untuk mengisinya. \n",
    "\n",
    "Apabila kita paksa imputasi akan sangat bias dan tidak bisa menggambarkan situasi sebenarnya.  \n",
    "\n",
    "Maka, solusinya kolom ```cabin``` lebih baik dihilangkan menggunakan fungsi ```.drop()```."
   ]
  },
  {
   "cell_type": "code",
   "execution_count": 16,
   "id": "8ee9be50",
   "metadata": {
    "ExecuteTime": {
     "end_time": "2021-08-18T09:05:41.779084Z",
     "start_time": "2021-08-18T09:05:41.764124Z"
    },
    "id": "8ee9be50",
    "outputId": "f1e8af80-ec97-4a0f-9f4b-d2c50459e9bb"
   },
   "outputs": [
    {
     "data": {
      "text/plain": [
       "0       NaN\n",
       "1       C85\n",
       "2       NaN\n",
       "3      C123\n",
       "4       NaN\n",
       "       ... \n",
       "886     NaN\n",
       "887     B42\n",
       "888     NaN\n",
       "889    C148\n",
       "890     NaN\n",
       "Name: Cabin, Length: 891, dtype: object"
      ]
     },
     "execution_count": 16,
     "metadata": {},
     "output_type": "execute_result"
    }
   ],
   "source": [
    "df_titanic.Cabin"
   ]
  },
  {
   "cell_type": "code",
   "execution_count": 17,
   "id": "663701d6",
   "metadata": {
    "ExecuteTime": {
     "end_time": "2021-08-18T09:05:41.794042Z",
     "start_time": "2021-08-18T09:05:41.780081Z"
    },
    "id": "663701d6"
   },
   "outputs": [],
   "source": [
    "# drop kolom menggunakan fungsi .drop()\n",
    "df_titanic.drop(columns='Cabin', inplace = True)"
   ]
  },
  {
   "cell_type": "code",
   "execution_count": 18,
   "id": "889cfb99",
   "metadata": {
    "ExecuteTime": {
     "end_time": "2021-08-18T09:05:41.809035Z",
     "start_time": "2021-08-18T09:05:41.795041Z"
    },
    "id": "889cfb99",
    "outputId": "f24dedcd-16ee-4ac7-ec27-e1a5518119ce"
   },
   "outputs": [
    {
     "data": {
      "text/plain": [
       "Index(['PassengerId', 'Survived', 'Pclass', 'Name', 'Sex', 'Age', 'SibSp',\n",
       "       'Parch', 'Ticket', 'Fare', 'Embarked', 'Age_mean_uni', 'Age_median_uni',\n",
       "       'Age_mean_multi'],\n",
       "      dtype='object')"
      ]
     },
     "execution_count": 18,
     "metadata": {},
     "output_type": "execute_result"
    }
   ],
   "source": [
    "# cek sisa kolom\n",
    "df_titanic.columns"
   ]
  },
  {
   "cell_type": "markdown",
   "id": "d1d4f0f3",
   "metadata": {
    "id": "d1d4f0f3"
   },
   "source": [
    "__Simpulan__: Kolom ```Cabin``` sudah tidak lagi menjadi fitur dalam pengembangan model."
   ]
  },
  {
   "cell_type": "markdown",
   "id": "e9aa983a",
   "metadata": {
    "id": "e9aa983a"
   },
   "source": [
    "### Kolom Embarked"
   ]
  },
  {
   "cell_type": "code",
   "execution_count": 19,
   "id": "64549266",
   "metadata": {
    "ExecuteTime": {
     "end_time": "2021-08-18T09:05:41.824960Z",
     "start_time": "2021-08-18T09:05:41.810000Z"
    },
    "id": "64549266",
    "outputId": "ef8e92a9-e1e0-40dc-9e7e-7bc45a8eafa6"
   },
   "outputs": [
    {
     "data": {
      "text/plain": [
       "Embarked\n",
       "S    644\n",
       "C    168\n",
       "Q     77\n",
       "Name: count, dtype: int64"
      ]
     },
     "execution_count": 19,
     "metadata": {},
     "output_type": "execute_result"
    }
   ],
   "source": [
    "# cek value counts (size masing-masing kelas)\n",
    "df_titanic.Embarked.value_counts()"
   ]
  },
  {
   "cell_type": "code",
   "execution_count": 20,
   "id": "f6d9157f",
   "metadata": {
    "ExecuteTime": {
     "end_time": "2021-08-18T09:05:41.840428Z",
     "start_time": "2021-08-18T09:05:41.825958Z"
    },
    "id": "f6d9157f",
    "outputId": "723ad54d-71bb-4892-8a53-1e6a87571e0d"
   },
   "outputs": [
    {
     "data": {
      "text/html": [
       "<div>\n",
       "<style scoped>\n",
       "    .dataframe tbody tr th:only-of-type {\n",
       "        vertical-align: middle;\n",
       "    }\n",
       "\n",
       "    .dataframe tbody tr th {\n",
       "        vertical-align: top;\n",
       "    }\n",
       "\n",
       "    .dataframe thead th {\n",
       "        text-align: right;\n",
       "    }\n",
       "</style>\n",
       "<table border=\"1\" class=\"dataframe\">\n",
       "  <thead>\n",
       "    <tr style=\"text-align: right;\">\n",
       "      <th></th>\n",
       "      <th>PassengerId</th>\n",
       "      <th>Survived</th>\n",
       "      <th>Pclass</th>\n",
       "      <th>Name</th>\n",
       "      <th>Sex</th>\n",
       "      <th>Age</th>\n",
       "      <th>SibSp</th>\n",
       "      <th>Parch</th>\n",
       "      <th>Ticket</th>\n",
       "      <th>Fare</th>\n",
       "      <th>Embarked</th>\n",
       "      <th>Age_mean_uni</th>\n",
       "      <th>Age_median_uni</th>\n",
       "      <th>Age_mean_multi</th>\n",
       "    </tr>\n",
       "  </thead>\n",
       "  <tbody>\n",
       "    <tr>\n",
       "      <th>61</th>\n",
       "      <td>62</td>\n",
       "      <td>1</td>\n",
       "      <td>1</td>\n",
       "      <td>Icard, Miss. Amelie</td>\n",
       "      <td>female</td>\n",
       "      <td>38.0</td>\n",
       "      <td>0</td>\n",
       "      <td>0</td>\n",
       "      <td>113572</td>\n",
       "      <td>80.0</td>\n",
       "      <td>NaN</td>\n",
       "      <td>38.0</td>\n",
       "      <td>38.0</td>\n",
       "      <td>38.0</td>\n",
       "    </tr>\n",
       "    <tr>\n",
       "      <th>829</th>\n",
       "      <td>830</td>\n",
       "      <td>1</td>\n",
       "      <td>1</td>\n",
       "      <td>Stone, Mrs. George Nelson (Martha Evelyn)</td>\n",
       "      <td>female</td>\n",
       "      <td>62.0</td>\n",
       "      <td>0</td>\n",
       "      <td>0</td>\n",
       "      <td>113572</td>\n",
       "      <td>80.0</td>\n",
       "      <td>NaN</td>\n",
       "      <td>62.0</td>\n",
       "      <td>62.0</td>\n",
       "      <td>62.0</td>\n",
       "    </tr>\n",
       "  </tbody>\n",
       "</table>\n",
       "</div>"
      ],
      "text/plain": [
       "     PassengerId  Survived  Pclass                                       Name   \n",
       "61            62         1       1                        Icard, Miss. Amelie  \\\n",
       "829          830         1       1  Stone, Mrs. George Nelson (Martha Evelyn)   \n",
       "\n",
       "        Sex   Age  SibSp  Parch  Ticket  Fare Embarked  Age_mean_uni   \n",
       "61   female  38.0      0      0  113572  80.0      NaN          38.0  \\\n",
       "829  female  62.0      0      0  113572  80.0      NaN          62.0   \n",
       "\n",
       "     Age_median_uni  Age_mean_multi  \n",
       "61             38.0            38.0  \n",
       "829            62.0            62.0  "
      ]
     },
     "execution_count": 20,
     "metadata": {},
     "output_type": "execute_result"
    }
   ],
   "source": [
    "# cek detail data yang kosong\n",
    "df_titanic[df_titanic.Embarked.isnull()]"
   ]
  },
  {
   "cell_type": "code",
   "execution_count": 21,
   "id": "e4bc2312",
   "metadata": {
    "ExecuteTime": {
     "end_time": "2021-08-18T09:05:41.855420Z",
     "start_time": "2021-08-18T09:05:41.841426Z"
    },
    "id": "e4bc2312",
    "outputId": "53d4b665-62d1-4a53-c9c9-e9d3c54a10a5"
   },
   "outputs": [
    {
     "data": {
      "text/plain": [
       "0             A/5 21171\n",
       "1              PC 17599\n",
       "2      STON/O2. 3101282\n",
       "3                113803\n",
       "4                373450\n",
       "             ...       \n",
       "886              211536\n",
       "887              112053\n",
       "888          W./C. 6607\n",
       "889              111369\n",
       "890              370376\n",
       "Name: Ticket, Length: 891, dtype: object"
      ]
     },
     "execution_count": 21,
     "metadata": {},
     "output_type": "execute_result"
    }
   ],
   "source": [
    "df_titanic.Ticket"
   ]
  },
  {
   "cell_type": "markdown",
   "id": "413e5444",
   "metadata": {
    "id": "413e5444"
   },
   "source": [
    "Kita bisa membuat dugaan awal bahwa kolom ```Embarked``` ini mungkin ada kaitannya dengan kolom lain yakni ```Ticket```. \n",
    "\n",
    "Untuk itu lakukan penelusuran, apakah ada nomor tiket dengan pola sejenis dengan data hilang."
   ]
  },
  {
   "cell_type": "code",
   "execution_count": 22,
   "id": "35bc11d6",
   "metadata": {
    "ExecuteTime": {
     "end_time": "2021-08-18T09:05:41.886307Z",
     "start_time": "2021-08-18T09:05:41.860375Z"
    },
    "id": "35bc11d6",
    "outputId": "1bcfa4d0-332a-49e1-d36b-5f5a3f875966"
   },
   "outputs": [
    {
     "data": {
      "text/html": [
       "<div>\n",
       "<style scoped>\n",
       "    .dataframe tbody tr th:only-of-type {\n",
       "        vertical-align: middle;\n",
       "    }\n",
       "\n",
       "    .dataframe tbody tr th {\n",
       "        vertical-align: top;\n",
       "    }\n",
       "\n",
       "    .dataframe thead th {\n",
       "        text-align: right;\n",
       "    }\n",
       "</style>\n",
       "<table border=\"1\" class=\"dataframe\">\n",
       "  <thead>\n",
       "    <tr style=\"text-align: right;\">\n",
       "      <th></th>\n",
       "      <th>PassengerId</th>\n",
       "      <th>Survived</th>\n",
       "      <th>Pclass</th>\n",
       "      <th>Name</th>\n",
       "      <th>Sex</th>\n",
       "      <th>Age</th>\n",
       "      <th>SibSp</th>\n",
       "      <th>Parch</th>\n",
       "      <th>Ticket</th>\n",
       "      <th>Fare</th>\n",
       "      <th>Embarked</th>\n",
       "      <th>Age_mean_uni</th>\n",
       "      <th>Age_median_uni</th>\n",
       "      <th>Age_mean_multi</th>\n",
       "    </tr>\n",
       "  </thead>\n",
       "  <tbody>\n",
       "    <tr>\n",
       "      <th>61</th>\n",
       "      <td>62</td>\n",
       "      <td>1</td>\n",
       "      <td>1</td>\n",
       "      <td>Icard, Miss. Amelie</td>\n",
       "      <td>female</td>\n",
       "      <td>38.0</td>\n",
       "      <td>0</td>\n",
       "      <td>0</td>\n",
       "      <td>113572</td>\n",
       "      <td>80.0</td>\n",
       "      <td>NaN</td>\n",
       "      <td>38.0</td>\n",
       "      <td>38.0</td>\n",
       "      <td>38.0</td>\n",
       "    </tr>\n",
       "    <tr>\n",
       "      <th>782</th>\n",
       "      <td>783</td>\n",
       "      <td>0</td>\n",
       "      <td>1</td>\n",
       "      <td>Long, Mr. Milton Clyde</td>\n",
       "      <td>male</td>\n",
       "      <td>29.0</td>\n",
       "      <td>0</td>\n",
       "      <td>0</td>\n",
       "      <td>113501</td>\n",
       "      <td>30.0</td>\n",
       "      <td>S</td>\n",
       "      <td>29.0</td>\n",
       "      <td>29.0</td>\n",
       "      <td>29.0</td>\n",
       "    </tr>\n",
       "    <tr>\n",
       "      <th>339</th>\n",
       "      <td>340</td>\n",
       "      <td>0</td>\n",
       "      <td>1</td>\n",
       "      <td>Blackwell, Mr. Stephen Weart</td>\n",
       "      <td>male</td>\n",
       "      <td>45.0</td>\n",
       "      <td>0</td>\n",
       "      <td>0</td>\n",
       "      <td>113784</td>\n",
       "      <td>35.5</td>\n",
       "      <td>S</td>\n",
       "      <td>45.0</td>\n",
       "      <td>45.0</td>\n",
       "      <td>45.0</td>\n",
       "    </tr>\n",
       "  </tbody>\n",
       "</table>\n",
       "</div>"
      ],
      "text/plain": [
       "     PassengerId  Survived  Pclass                          Name     Sex   \n",
       "61            62         1       1           Icard, Miss. Amelie  female  \\\n",
       "782          783         0       1        Long, Mr. Milton Clyde    male   \n",
       "339          340         0       1  Blackwell, Mr. Stephen Weart    male   \n",
       "\n",
       "      Age  SibSp  Parch  Ticket  Fare Embarked  Age_mean_uni  Age_median_uni   \n",
       "61   38.0      0      0  113572  80.0      NaN          38.0            38.0  \\\n",
       "782  29.0      0      0  113501  30.0        S          29.0            29.0   \n",
       "339  45.0      0      0  113784  35.5        S          45.0            45.0   \n",
       "\n",
       "     Age_mean_multi  \n",
       "61             38.0  \n",
       "782            29.0  \n",
       "339            45.0  "
      ]
     },
     "execution_count": 22,
     "metadata": {},
     "output_type": "execute_result"
    }
   ],
   "source": [
    "# polanya di cek dengan fungsi .match\n",
    "# pola yang digunakan adalah cari tiket yang diawali dengan '113'\n",
    "\n",
    "df_titanic[(df_titanic.Ticket.str.match('^113'))].sample(3)"
   ]
  },
  {
   "cell_type": "code",
   "execution_count": 23,
   "id": "427cc26d",
   "metadata": {
    "ExecuteTime": {
     "end_time": "2021-08-18T09:05:41.901269Z",
     "start_time": "2021-08-18T09:05:41.888302Z"
    },
    "id": "427cc26d"
   },
   "outputs": [],
   "source": [
    "# Cek tiket dengan nomor yang sama df_titanic[(df_titanic.Ticket== '113776)]"
   ]
  },
  {
   "cell_type": "code",
   "execution_count": 24,
   "id": "c93cfdf0",
   "metadata": {
    "ExecuteTime": {
     "end_time": "2021-08-18T09:05:41.917223Z",
     "start_time": "2021-08-18T09:05:41.902264Z"
    },
    "id": "c93cfdf0",
    "outputId": "9a826cf0-3f5d-40bc-8701-2adf8d0b98f0"
   },
   "outputs": [
    {
     "data": {
      "text/plain": [
       "Embarked\n",
       "S    41\n",
       "C     4\n",
       "Name: count, dtype: int64"
      ]
     },
     "execution_count": 24,
     "metadata": {},
     "output_type": "execute_result"
    }
   ],
   "source": [
    "# cek distribusi count tiket dengan pola str '113'\n",
    "df_titanic[df_titanic.Ticket.str.match('^113')].Embarked.value_counts()"
   ]
  },
  {
   "cell_type": "markdown",
   "id": "7ce4a344",
   "metadata": {
    "id": "7ce4a344"
   },
   "source": [
    "Dari distribusinya tiket dengan nomor seri 113, memiliki probabilitas lebih tinggi bahwa penumpang naik dari pelabuhan ```S```."
   ]
  },
  {
   "cell_type": "code",
   "execution_count": 25,
   "id": "c2f2cc6b",
   "metadata": {
    "ExecuteTime": {
     "end_time": "2021-08-18T09:05:41.932182Z",
     "start_time": "2021-08-18T09:05:41.918220Z"
    },
    "id": "c2f2cc6b"
   },
   "outputs": [],
   "source": [
    "# kita bisa menggunakan modus dari distribusinya, yaitu 'S'\n",
    "# implementasi menggunakan fungsi .fillna()\n",
    "df_titanic.Embarked.fillna('S', inplace = True)"
   ]
  },
  {
   "cell_type": "code",
   "execution_count": 26,
   "id": "1c508f04",
   "metadata": {
    "ExecuteTime": {
     "end_time": "2021-08-18T09:05:41.947650Z",
     "start_time": "2021-08-18T09:05:41.933181Z"
    },
    "id": "1c508f04",
    "outputId": "f26cd41c-8d99-46c1-9eea-abb9bb7488c4"
   },
   "outputs": [
    {
     "data": {
      "text/plain": [
       "Embarked\n",
       "S    646\n",
       "C    168\n",
       "Q     77\n",
       "Name: count, dtype: int64"
      ]
     },
     "execution_count": 26,
     "metadata": {},
     "output_type": "execute_result"
    }
   ],
   "source": [
    "# cek setelah implementasi\n",
    "df_titanic.Embarked.value_counts()"
   ]
  },
  {
   "cell_type": "markdown",
   "id": "f484d2d9",
   "metadata": {
    "id": "f484d2d9"
   },
   "source": [
    "__Simpulan__: Hasil imputasi missing values pada kolom ```Embarked```, menambah jumlah kategori ```S``` dari 644 ke 646."
   ]
  },
  {
   "cell_type": "markdown",
   "id": "ca61143b",
   "metadata": {
    "id": "ca61143b"
   },
   "source": [
    "## Penanganan Outlier\n",
    "\n",
    "Sumber:\n",
    "\n",
    "1. https://www.mikulskibartosz.name/outlier-detection-with-scikit-learn/\n",
    "2. https://www.kaggle.com/kevinarvai/outlier-detection-practice-uni-multivariate\n",
    "3. https://nitin9809.medium.com/outlier-detection-and-treatment-part-1-aa0b09f60e50\n",
    "\n",
    "Beberapa fungsi dan library yang digunakan:\n",
    "1. library [```DBSCAN```](https://scikit-learn.org/stable/modules/generated/sklearn.cluster.DBSCAN.html).\n",
    "2. library [```MinMaxScaler```](https://scikit-learn.org/stable/modules/classes.html#module-sklearn.preprocessing).\n",
    "3. [```df.quantile()```](https://pandas.pydata.org/pandas-docs/stable/reference/api/pandas.DataFrame.quantile.html).\n",
    "4. [```df.mean()```](https://pandas.pydata.org/pandas-docs/stable/reference/api/pandas.DataFrame.mean.html).\n",
    "5. [```df.fillna()```](https://pandas.pydata.org/pandas-docs/stable/reference/api/pandas.DataFrame.fillna.html?highlight=fillna#pandas.DataFrame.fillna).\n",
    "5. dst."
   ]
  },
  {
   "cell_type": "markdown",
   "id": "e686caa5",
   "metadata": {
    "id": "e686caa5"
   },
   "source": [
    "### Deteksi outlier secara univariate\n",
    "\n",
    "__Box plot__\n",
    "\n",
    "Jarak antar bagian di box menunjukkan derajat dispersi (penyebaran) dan skewness (kecondongan) dalam data. \n",
    "\n",
    "Bagian dari box adalah bidang yang menyajikan __interquartile range (IQR)__.\n",
    "\n",
    "Panjang box ditentukan oleh IQR ini.\n",
    "\n",
    "Semakin tinggi (jika boxplot vertikal) atau semakin lebar (jika boxplot horizontal) bidang IQR ini, menunjukkan data semakin menyebar."
   ]
  },
  {
   "cell_type": "code",
   "execution_count": 27,
   "id": "dc6f4382",
   "metadata": {
    "ExecuteTime": {
     "end_time": "2021-08-18T09:05:42.040402Z",
     "start_time": "2021-08-18T09:05:41.948651Z"
    },
    "id": "dc6f4382",
    "outputId": "a556a11b-c830-495f-b49d-3fda27fdf2c2"
   },
   "outputs": [
    {
     "data": {
      "text/plain": [
       "<AxesSubplot:>"
      ]
     },
     "execution_count": 27,
     "metadata": {},
     "output_type": "execute_result"
    },
    {
     "data": {
      "image/png": "[encoded data removed]",
      "text/plain": [
       "<Figure size 432x288 with 1 Axes>"
      ]
     },
     "metadata": {
      "needs_background": "light"
     },
     "output_type": "display_data"
    }
   ],
   "source": [
    "df_titanic.Fare.plot.box()"
   ]
  },
  {
   "cell_type": "markdown",
   "id": "f4802d55",
   "metadata": {
    "id": "f4802d55"
   },
   "source": [
    "**Interquartile range**\n",
    "\n",
    "IQR mendeskripsi bagian tengah atau 50% dari nilai jika diurutkan dari terendah ke tertinggi.\n",
    "\n",
    "Untuk mendapatkan nilai IQR, langkah pertama adalah menemukan ```median``` dari ```batas bawah (Q1)``` dan ```batas atas (Q3)``` dari distribusi data.\n",
    "\n",
    "IQR adalah beda antara Q3 dan Q1.\n",
    "\n",
    "Kemudian setelah mendapatkan IQR, kita akan menghitung whisker minimal (iqr_lower) dan maksimal (iqr_upper).\n",
    "\n",
    "Nilai diluar iqr_lower dan iqr_upper adalah outlier.\n"
   ]
  },
  {
   "cell_type": "markdown",
   "id": "d0ce2481",
   "metadata": {
    "id": "d0ce2481"
   },
   "source": [
    "<details>\n",
    "\n",
    "Penjelasan IQR\n",
    "![0_3FE0spyQlEEWhYV5%281%29.png](attachment:0_3FE0spyQlEEWhYV5%281%29.png)\n",
    "    \n",
    "Hubungan IQR pada Box plot\n",
    "![1_2c21SkzJMf3frPXPAR_gZA.png](attachment:1_2c21SkzJMf3frPXPAR_gZA.png)\n",
    "</details>"
   ]
  },
  {
   "cell_type": "code",
   "execution_count": 28,
   "id": "0b32fb2b",
   "metadata": {
    "ExecuteTime": {
     "end_time": "2021-08-18T09:05:42.056361Z",
     "start_time": "2021-08-18T09:05:42.041401Z"
    },
    "id": "0b32fb2b"
   },
   "outputs": [],
   "source": [
    "# menghitung Q1 dan Q3\n",
    "q1 = df_titanic['Fare'].quantile(0.25)\n",
    "q3 = df_titanic['Fare'].quantile(0.75)\n",
    "\n",
    "# menghitung IQR\n",
    "iqr = q3 - q1\n",
    "\n",
    "# menghitung batas bawah dan batas atas\n",
    "iqr_lower = q1 - 1.5 * iqr\n",
    "iqr_upper = q3 + 1.5 * iqr"
   ]
  },
  {
   "cell_type": "code",
   "execution_count": 29,
   "id": "05a7576d",
   "metadata": {
    "ExecuteTime": {
     "end_time": "2021-08-18T09:05:42.072318Z",
     "start_time": "2021-08-18T09:05:42.057358Z"
    },
    "id": "05a7576d",
    "outputId": "b523d24c-8ee1-4377-d4cc-27331143af50"
   },
   "outputs": [
    {
     "data": {
      "text/plain": [
       "(-26.724, 65.6344)"
      ]
     },
     "execution_count": 29,
     "metadata": {},
     "output_type": "execute_result"
    }
   ],
   "source": [
    "# print hasil\n",
    "(iqr_lower, iqr_upper)"
   ]
  },
  {
   "cell_type": "code",
   "execution_count": 30,
   "id": "953942e9",
   "metadata": {
    "ExecuteTime": {
     "end_time": "2021-08-18T09:05:42.088275Z",
     "start_time": "2021-08-18T09:05:42.073315Z"
    },
    "id": "953942e9",
    "outputId": "54fd6a61-a73d-4d64-8f41-fe9bd6dfc54b"
   },
   "outputs": [
    {
     "data": {
      "text/html": [
       "<div>\n",
       "<style scoped>\n",
       "    .dataframe tbody tr th:only-of-type {\n",
       "        vertical-align: middle;\n",
       "    }\n",
       "\n",
       "    .dataframe tbody tr th {\n",
       "        vertical-align: top;\n",
       "    }\n",
       "\n",
       "    .dataframe thead th {\n",
       "        text-align: right;\n",
       "    }\n",
       "</style>\n",
       "<table border=\"1\" class=\"dataframe\">\n",
       "  <thead>\n",
       "    <tr style=\"text-align: right;\">\n",
       "      <th></th>\n",
       "      <th>PassengerId</th>\n",
       "      <th>Survived</th>\n",
       "      <th>Pclass</th>\n",
       "      <th>Name</th>\n",
       "      <th>Sex</th>\n",
       "      <th>Age</th>\n",
       "      <th>SibSp</th>\n",
       "      <th>Parch</th>\n",
       "      <th>Ticket</th>\n",
       "      <th>Fare</th>\n",
       "      <th>Embarked</th>\n",
       "      <th>Age_mean_uni</th>\n",
       "      <th>Age_median_uni</th>\n",
       "      <th>Age_mean_multi</th>\n",
       "    </tr>\n",
       "  </thead>\n",
       "  <tbody>\n",
       "  </tbody>\n",
       "</table>\n",
       "</div>"
      ],
      "text/plain": [
       "Empty DataFrame\n",
       "Columns: [PassengerId, Survived, Pclass, Name, Sex, Age, SibSp, Parch, Ticket, Fare, Embarked, Age_mean_uni, Age_median_uni, Age_mean_multi]\n",
       "Index: []"
      ]
     },
     "execution_count": 30,
     "metadata": {},
     "output_type": "execute_result"
    }
   ],
   "source": [
    "# contoh outlier dengan nilai kurang dari iqr_lower\n",
    "df_titanic[df_titanic.Fare < iqr_lower]"
   ]
  },
  {
   "cell_type": "code",
   "execution_count": 31,
   "id": "a1877445",
   "metadata": {
    "ExecuteTime": {
     "end_time": "2021-08-18T09:05:42.104232Z",
     "start_time": "2021-08-18T09:05:42.089272Z"
    },
    "id": "a1877445",
    "outputId": "d08401f0-86f7-41aa-cf08-307e6c606c85"
   },
   "outputs": [
    {
     "data": {
      "text/html": [
       "<div>\n",
       "<style scoped>\n",
       "    .dataframe tbody tr th:only-of-type {\n",
       "        vertical-align: middle;\n",
       "    }\n",
       "\n",
       "    .dataframe tbody tr th {\n",
       "        vertical-align: top;\n",
       "    }\n",
       "\n",
       "    .dataframe thead th {\n",
       "        text-align: right;\n",
       "    }\n",
       "</style>\n",
       "<table border=\"1\" class=\"dataframe\">\n",
       "  <thead>\n",
       "    <tr style=\"text-align: right;\">\n",
       "      <th></th>\n",
       "      <th>PassengerId</th>\n",
       "      <th>Survived</th>\n",
       "      <th>Pclass</th>\n",
       "      <th>Name</th>\n",
       "      <th>Sex</th>\n",
       "      <th>Age</th>\n",
       "      <th>SibSp</th>\n",
       "      <th>Parch</th>\n",
       "      <th>Ticket</th>\n",
       "      <th>Fare</th>\n",
       "      <th>Embarked</th>\n",
       "      <th>Age_mean_uni</th>\n",
       "      <th>Age_median_uni</th>\n",
       "      <th>Age_mean_multi</th>\n",
       "    </tr>\n",
       "  </thead>\n",
       "  <tbody>\n",
       "    <tr>\n",
       "      <th>291</th>\n",
       "      <td>292</td>\n",
       "      <td>1</td>\n",
       "      <td>1</td>\n",
       "      <td>Bishop, Mrs. Dickinson H (Helen Walton)</td>\n",
       "      <td>female</td>\n",
       "      <td>19.0</td>\n",
       "      <td>1</td>\n",
       "      <td>0</td>\n",
       "      <td>11967</td>\n",
       "      <td>91.0792</td>\n",
       "      <td>C</td>\n",
       "      <td>19.000000</td>\n",
       "      <td>19.0</td>\n",
       "      <td>19.000000</td>\n",
       "    </tr>\n",
       "    <tr>\n",
       "      <th>846</th>\n",
       "      <td>847</td>\n",
       "      <td>0</td>\n",
       "      <td>3</td>\n",
       "      <td>Sage, Mr. Douglas Bullen</td>\n",
       "      <td>male</td>\n",
       "      <td>NaN</td>\n",
       "      <td>8</td>\n",
       "      <td>2</td>\n",
       "      <td>CA. 2343</td>\n",
       "      <td>69.5500</td>\n",
       "      <td>S</td>\n",
       "      <td>29.699118</td>\n",
       "      <td>28.0</td>\n",
       "      <td>30.726645</td>\n",
       "    </tr>\n",
       "    <tr>\n",
       "      <th>275</th>\n",
       "      <td>276</td>\n",
       "      <td>1</td>\n",
       "      <td>1</td>\n",
       "      <td>Andrews, Miss. Kornelia Theodosia</td>\n",
       "      <td>female</td>\n",
       "      <td>63.0</td>\n",
       "      <td>1</td>\n",
       "      <td>0</td>\n",
       "      <td>13502</td>\n",
       "      <td>77.9583</td>\n",
       "      <td>S</td>\n",
       "      <td>63.000000</td>\n",
       "      <td>63.0</td>\n",
       "      <td>63.000000</td>\n",
       "    </tr>\n",
       "  </tbody>\n",
       "</table>\n",
       "</div>"
      ],
      "text/plain": [
       "     PassengerId  Survived  Pclass                                     Name   \n",
       "291          292         1       1  Bishop, Mrs. Dickinson H (Helen Walton)  \\\n",
       "846          847         0       3                 Sage, Mr. Douglas Bullen   \n",
       "275          276         1       1        Andrews, Miss. Kornelia Theodosia   \n",
       "\n",
       "        Sex   Age  SibSp  Parch    Ticket     Fare Embarked  Age_mean_uni   \n",
       "291  female  19.0      1      0     11967  91.0792        C     19.000000  \\\n",
       "846    male   NaN      8      2  CA. 2343  69.5500        S     29.699118   \n",
       "275  female  63.0      1      0     13502  77.9583        S     63.000000   \n",
       "\n",
       "     Age_median_uni  Age_mean_multi  \n",
       "291            19.0       19.000000  \n",
       "846            28.0       30.726645  \n",
       "275            63.0       63.000000  "
      ]
     },
     "execution_count": 31,
     "metadata": {},
     "output_type": "execute_result"
    }
   ],
   "source": [
    "# contoh outlier dengan nilai lebih dari iqr_upper\n",
    "df_titanic[df_titanic.Fare > iqr_upper].sample(3)"
   ]
  },
  {
   "cell_type": "code",
   "execution_count": 32,
   "id": "2f65ddd4",
   "metadata": {
    "ExecuteTime": {
     "end_time": "2021-08-18T09:05:42.120222Z",
     "start_time": "2021-08-18T09:05:42.106228Z"
    },
    "id": "2f65ddd4",
    "outputId": "14930106-bd27-4ba9-8474-a1517d7e65dd"
   },
   "outputs": [
    {
     "data": {
      "text/plain": [
       "116"
      ]
     },
     "execution_count": 32,
     "metadata": {},
     "output_type": "execute_result"
    }
   ],
   "source": [
    "(df_titanic.Fare > iqr_upper).sum()"
   ]
  },
  {
   "cell_type": "markdown",
   "id": "109b55dc",
   "metadata": {
    "id": "109b55dc"
   },
   "source": [
    "Apa yang harus kita lakukan, pilihan opsinya:\n",
    "1. Membuang outlier tersebut.\n",
    "2. Melakukan imputasi nilai. \n",
    "\n",
    "Disini kami contohkan untuk melakukan imputasi menggunakan mean."
   ]
  },
  {
   "cell_type": "code",
   "execution_count": 33,
   "id": "43a3d57d",
   "metadata": {
    "ExecuteTime": {
     "end_time": "2021-08-18T09:05:42.135174Z",
     "start_time": "2021-08-18T09:05:42.121221Z"
    },
    "id": "43a3d57d"
   },
   "outputs": [],
   "source": [
    "# ganti nilai outliner dengan na sehingga menjadi missing value\n",
    "df_titanic['Fare_iqr'] = df_titanic['Fare']\n",
    "df_titanic.loc[df_titanic['Fare_iqr'] < iqr_lower, 'Fare_iqr'] = pd.NA\n",
    "df_titanic.loc[df_titanic['Fare_iqr'] > iqr_upper, 'Fare_iqr'] = pd.NA"
   ]
  },
  {
   "cell_type": "code",
   "execution_count": 34,
   "id": "7dfb5e3a",
   "metadata": {
    "ExecuteTime": {
     "end_time": "2021-08-18T09:05:42.151145Z",
     "start_time": "2021-08-18T09:05:42.136170Z"
    },
    "id": "7dfb5e3a",
    "outputId": "4ccc6dfe-2a0b-42dd-cc47-4ee4ce8163e6"
   },
   "outputs": [
    {
     "data": {
      "text/plain": [
       "116"
      ]
     },
     "execution_count": 34,
     "metadata": {},
     "output_type": "execute_result"
    }
   ],
   "source": [
    "# cek implementasi missing value\n",
    "df_titanic.Fare_iqr.isna().sum()"
   ]
  },
  {
   "cell_type": "code",
   "execution_count": 35,
   "id": "be6146e3",
   "metadata": {
    "ExecuteTime": {
     "end_time": "2021-08-18T09:05:42.259817Z",
     "start_time": "2021-08-18T09:05:42.152128Z"
    },
    "id": "be6146e3",
    "outputId": "29c6268c-1951-4359-8c4b-2e964b97769d"
   },
   "outputs": [
    {
     "data": {
      "image/png": "[encoded data removed]",
      "text/plain": [
       "<Figure size 432x288 with 1 Axes>"
      ]
     },
     "metadata": {
      "needs_background": "light"
     },
     "output_type": "display_data"
    }
   ],
   "source": [
    "# imputasi NaN dengan mean\n",
    "\n",
    "df_titanic['Fare_iqr'].fillna(df_titanic.Fare.mean(),inplace=True)\n",
    "\n",
    "# tampilkan box plot\n",
    "boxplot = df_titanic.boxplot(column=['Fare','Fare_iqr'])"
   ]
  },
  {
   "cell_type": "markdown",
   "id": "5008ed93",
   "metadata": {
    "ExecuteTime": {
     "end_time": "2021-08-12T06:07:58.848842Z",
     "start_time": "2021-08-12T06:07:58.834879Z"
    },
    "id": "5008ed93"
   },
   "source": [
    "__Simpulan__: Perlu kehati-hatian dalam mengimplementasikan metode IQR. IQR dapat digunakan apabila sebaran data kita sempit."
   ]
  },
  {
   "cell_type": "markdown",
   "id": "18fe646d",
   "metadata": {
    "id": "18fe646d"
   },
   "source": [
    "### Deteksi outlier secara multivariate\n",
    "\n",
    "Deteksi outlier bedasarkan pengamatan terhadap lebih dari 1 features biasa dikenal dengan multivariate outlier detections. \n",
    "\n",
    "Dalam kasus ini kita coba mengkoreksi data outlier ```Fare``` dengan bantuan dari variable lain yakni ```Age```.\n",
    "\n",
    "Kemudian kita melihat apakah ada outlier dengan melihat kerapatan data menggunakan metode [__Density-Based Spatial Clustering of Applications with Noise (DBSCAN)__](https://towardsdatascience.com/dbscan-with-python-743162371dca).\n",
    "> Metode clustering menggunakan machine learning untuk memisahkan cluster dengan density tinggi dari cluster dengan density rendah."
   ]
  },
  {
   "cell_type": "markdown",
   "id": "b39c3062",
   "metadata": {
    "id": "b39c3062"
   },
   "source": [
    "__Sebelum imputasi__"
   ]
  },
  {
   "cell_type": "code",
   "execution_count": 36,
   "id": "d8ebaf61",
   "metadata": {
    "ExecuteTime": {
     "end_time": "2021-08-18T09:05:42.550989Z",
     "start_time": "2021-08-18T09:05:42.260814Z"
    },
    "id": "d8ebaf61",
    "outputId": "ccb11940-5309-4c9c-ef30-d751d22bd5b5"
   },
   "outputs": [
    {
     "data": {
      "text/plain": [
       "<AxesSubplot:xlabel='Age_scaled', ylabel='Fare_scaled'>"
      ]
     },
     "execution_count": 36,
     "metadata": {},
     "output_type": "execute_result"
    },
    {
     "data": {
      "image/png": "[encoded data removed]",
      "text/plain": [
       "<Figure size 432x288 with 1 Axes>"
      ]
     },
     "metadata": {
      "needs_background": "light"
     },
     "output_type": "display_data"
    }
   ],
   "source": [
    "# load dictionary\n",
    "from sklearn.preprocessing import MinMaxScaler\n",
    "from sklearn.cluster import DBSCAN\n",
    "\n",
    "# lakukan standarisasi data agar skalanya sama\n",
    "scaler = MinMaxScaler()\n",
    "df_titanic['Fare_scaled'] = scaler.fit_transform(df_titanic[['Fare']])\n",
    "df_titanic['Age_scaled'] = scaler.fit_transform(df_titanic[['Age_mean_uni']])\n",
    "\n",
    "# visualisasikan dua features ini dalam bentuk scatter\n",
    "df_titanic.plot.scatter(y = 'Fare_scaled', x = 'Age_scaled')"
   ]
  },
  {
   "cell_type": "markdown",
   "id": "2c6d1979",
   "metadata": {
    "id": "2c6d1979"
   },
   "source": [
    "<details>\n",
    "\n",
    "Penjelasan parameter:\n",
    "![1_PenJiBtSaeDZD9P9XhLBmA.png](attachment:1_PenJiBtSaeDZD9P9XhLBmA.png)\n",
    "</details>"
   ]
  },
  {
   "cell_type": "code",
   "execution_count": 37,
   "id": "fda8382e",
   "metadata": {
    "ExecuteTime": {
     "end_time": "2021-08-18T09:05:42.691566Z",
     "start_time": "2021-08-18T09:05:42.551941Z"
    },
    "id": "fda8382e"
   },
   "outputs": [],
   "source": [
    "DBSCAN_model = DBSCAN(eps = 0.5, metric = 'euclidean', min_samples = 3, n_jobs = -1)\n",
    "\n",
    "# fit model\n",
    "clusters = DBSCAN_model.fit_predict(df_titanic[['Fare_scaled', 'Age_scaled']])\n",
    "\n",
    "# simpan hasil clustering ke kolom baru\n",
    "df_titanic['Is_outlier'] = clusters\n",
    "\n",
    "# hasil cluster akan ada dua 0 tidak outlier, 1 merupakan outlier\n",
    "# pd.Series(clusters).value_counts() ==> cek"
   ]
  },
  {
   "cell_type": "code",
   "execution_count": 38,
   "id": "1cb6844c",
   "metadata": {
    "ExecuteTime": {
     "end_time": "2021-08-18T09:05:42.707525Z",
     "start_time": "2021-08-18T09:05:42.692564Z"
    },
    "id": "1cb6844c",
    "outputId": "68c5831d-0be9-442f-b635-795848c765c8"
   },
   "outputs": [
    {
     "data": {
      "text/plain": [
       "Is_outlier\n",
       "0    888\n",
       "1      3\n",
       "Name: count, dtype: int64"
      ]
     },
     "execution_count": 38,
     "metadata": {},
     "output_type": "execute_result"
    }
   ],
   "source": [
    "df_titanic.Is_outlier.value_counts()"
   ]
  },
  {
   "cell_type": "code",
   "execution_count": 39,
   "id": "af5f3f69",
   "metadata": {
    "ExecuteTime": {
     "end_time": "2021-08-18T09:05:42.738450Z",
     "start_time": "2021-08-18T09:05:42.708523Z"
    },
    "id": "af5f3f69",
    "outputId": "b85048e9-6159-4345-9571-8753ead9de5e"
   },
   "outputs": [
    {
     "data": {
      "text/html": [
       "<div>\n",
       "<style scoped>\n",
       "    .dataframe tbody tr th:only-of-type {\n",
       "        vertical-align: middle;\n",
       "    }\n",
       "\n",
       "    .dataframe tbody tr th {\n",
       "        vertical-align: top;\n",
       "    }\n",
       "\n",
       "    .dataframe thead th {\n",
       "        text-align: right;\n",
       "    }\n",
       "</style>\n",
       "<table border=\"1\" class=\"dataframe\">\n",
       "  <thead>\n",
       "    <tr style=\"text-align: right;\">\n",
       "      <th></th>\n",
       "      <th>PassengerId</th>\n",
       "      <th>Survived</th>\n",
       "      <th>Pclass</th>\n",
       "      <th>Name</th>\n",
       "      <th>Sex</th>\n",
       "      <th>Age</th>\n",
       "      <th>SibSp</th>\n",
       "      <th>Parch</th>\n",
       "      <th>Ticket</th>\n",
       "      <th>Fare</th>\n",
       "      <th>Embarked</th>\n",
       "      <th>Age_mean_uni</th>\n",
       "      <th>Age_median_uni</th>\n",
       "      <th>Age_mean_multi</th>\n",
       "      <th>Fare_iqr</th>\n",
       "      <th>Fare_scaled</th>\n",
       "      <th>Age_scaled</th>\n",
       "      <th>Is_outlier</th>\n",
       "    </tr>\n",
       "  </thead>\n",
       "  <tbody>\n",
       "    <tr>\n",
       "      <th>258</th>\n",
       "      <td>259</td>\n",
       "      <td>1</td>\n",
       "      <td>1</td>\n",
       "      <td>Ward, Miss. Anna</td>\n",
       "      <td>female</td>\n",
       "      <td>35.0</td>\n",
       "      <td>0</td>\n",
       "      <td>0</td>\n",
       "      <td>PC 17755</td>\n",
       "      <td>512.3292</td>\n",
       "      <td>C</td>\n",
       "      <td>35.0</td>\n",
       "      <td>35.0</td>\n",
       "      <td>35.0</td>\n",
       "      <td>32.204208</td>\n",
       "      <td>1.0</td>\n",
       "      <td>0.434531</td>\n",
       "      <td>1</td>\n",
       "    </tr>\n",
       "    <tr>\n",
       "      <th>679</th>\n",
       "      <td>680</td>\n",
       "      <td>1</td>\n",
       "      <td>1</td>\n",
       "      <td>Cardeza, Mr. Thomas Drake Martinez</td>\n",
       "      <td>male</td>\n",
       "      <td>36.0</td>\n",
       "      <td>0</td>\n",
       "      <td>1</td>\n",
       "      <td>PC 17755</td>\n",
       "      <td>512.3292</td>\n",
       "      <td>C</td>\n",
       "      <td>36.0</td>\n",
       "      <td>36.0</td>\n",
       "      <td>36.0</td>\n",
       "      <td>32.204208</td>\n",
       "      <td>1.0</td>\n",
       "      <td>0.447097</td>\n",
       "      <td>1</td>\n",
       "    </tr>\n",
       "    <tr>\n",
       "      <th>737</th>\n",
       "      <td>738</td>\n",
       "      <td>1</td>\n",
       "      <td>1</td>\n",
       "      <td>Lesurer, Mr. Gustave J</td>\n",
       "      <td>male</td>\n",
       "      <td>35.0</td>\n",
       "      <td>0</td>\n",
       "      <td>0</td>\n",
       "      <td>PC 17755</td>\n",
       "      <td>512.3292</td>\n",
       "      <td>C</td>\n",
       "      <td>35.0</td>\n",
       "      <td>35.0</td>\n",
       "      <td>35.0</td>\n",
       "      <td>32.204208</td>\n",
       "      <td>1.0</td>\n",
       "      <td>0.434531</td>\n",
       "      <td>1</td>\n",
       "    </tr>\n",
       "  </tbody>\n",
       "</table>\n",
       "</div>"
      ],
      "text/plain": [
       "     PassengerId  Survived  Pclass                                Name   \n",
       "258          259         1       1                    Ward, Miss. Anna  \\\n",
       "679          680         1       1  Cardeza, Mr. Thomas Drake Martinez   \n",
       "737          738         1       1              Lesurer, Mr. Gustave J   \n",
       "\n",
       "        Sex   Age  SibSp  Parch    Ticket      Fare Embarked  Age_mean_uni   \n",
       "258  female  35.0      0      0  PC 17755  512.3292        C          35.0  \\\n",
       "679    male  36.0      0      1  PC 17755  512.3292        C          36.0   \n",
       "737    male  35.0      0      0  PC 17755  512.3292        C          35.0   \n",
       "\n",
       "     Age_median_uni  Age_mean_multi   Fare_iqr  Fare_scaled  Age_scaled   \n",
       "258            35.0            35.0  32.204208          1.0    0.434531  \\\n",
       "679            36.0            36.0  32.204208          1.0    0.447097   \n",
       "737            35.0            35.0  32.204208          1.0    0.434531   \n",
       "\n",
       "     Is_outlier  \n",
       "258           1  \n",
       "679           1  \n",
       "737           1  "
      ]
     },
     "execution_count": 39,
     "metadata": {},
     "output_type": "execute_result"
    }
   ],
   "source": [
    "# lookup data yang outlier\n",
    "df_titanic[df_titanic['Is_outlier']==1]"
   ]
  },
  {
   "cell_type": "markdown",
   "id": "34b73826",
   "metadata": {
    "id": "34b73826"
   },
   "source": [
    "__Imputasi dengan Mean dari kolom Fare saja__"
   ]
  },
  {
   "cell_type": "code",
   "execution_count": 40,
   "id": "7240b9fb",
   "metadata": {
    "ExecuteTime": {
     "end_time": "2021-08-18T09:05:42.753400Z",
     "start_time": "2021-08-18T09:05:42.739437Z"
    },
    "id": "7240b9fb"
   },
   "outputs": [],
   "source": [
    "# membuat satu kolom baru yang isinya sama dengan Fare\n",
    "df_titanic['Fare_dbscan'] = df_titanic['Fare']"
   ]
  },
  {
   "cell_type": "code",
   "execution_count": 41,
   "id": "1dcd6600",
   "metadata": {
    "ExecuteTime": {
     "end_time": "2021-08-18T09:05:42.768359Z",
     "start_time": "2021-08-18T09:05:42.754397Z"
    },
    "id": "1dcd6600"
   },
   "outputs": [],
   "source": [
    "# dapatkan mean dari Fare\n",
    "fare_mean = df_titanic[df_titanic['Is_outlier']==0].Fare.mean()\n",
    "\n",
    "# isikan nilai mean ke nilai outlier\n",
    "df_titanic.loc[df_titanic['Is_outlier']==1, 'Fare_dbscan'] = fare_mean"
   ]
  },
  {
   "cell_type": "markdown",
   "id": "e90b4c13",
   "metadata": {
    "id": "e90b4c13"
   },
   "source": [
    "__Setelah imputasi__"
   ]
  },
  {
   "cell_type": "code",
   "execution_count": 42,
   "id": "879bcdcb",
   "metadata": {
    "ExecuteTime": {
     "end_time": "2021-08-18T09:05:42.799277Z",
     "start_time": "2021-08-18T09:05:42.769358Z"
    },
    "id": "879bcdcb",
    "outputId": "6c036f66-17bf-4e1c-dbb9-484b49e20382"
   },
   "outputs": [
    {
     "data": {
      "text/html": [
       "<div>\n",
       "<style scoped>\n",
       "    .dataframe tbody tr th:only-of-type {\n",
       "        vertical-align: middle;\n",
       "    }\n",
       "\n",
       "    .dataframe tbody tr th {\n",
       "        vertical-align: top;\n",
       "    }\n",
       "\n",
       "    .dataframe thead th {\n",
       "        text-align: right;\n",
       "    }\n",
       "</style>\n",
       "<table border=\"1\" class=\"dataframe\">\n",
       "  <thead>\n",
       "    <tr style=\"text-align: right;\">\n",
       "      <th></th>\n",
       "      <th>PassengerId</th>\n",
       "      <th>Survived</th>\n",
       "      <th>Pclass</th>\n",
       "      <th>Name</th>\n",
       "      <th>Sex</th>\n",
       "      <th>Age</th>\n",
       "      <th>SibSp</th>\n",
       "      <th>Parch</th>\n",
       "      <th>Ticket</th>\n",
       "      <th>Fare</th>\n",
       "      <th>Embarked</th>\n",
       "      <th>Age_mean_uni</th>\n",
       "      <th>Age_median_uni</th>\n",
       "      <th>Age_mean_multi</th>\n",
       "      <th>Fare_iqr</th>\n",
       "      <th>Fare_scaled</th>\n",
       "      <th>Age_scaled</th>\n",
       "      <th>Is_outlier</th>\n",
       "      <th>Fare_dbscan</th>\n",
       "    </tr>\n",
       "  </thead>\n",
       "  <tbody>\n",
       "    <tr>\n",
       "      <th>258</th>\n",
       "      <td>259</td>\n",
       "      <td>1</td>\n",
       "      <td>1</td>\n",
       "      <td>Ward, Miss. Anna</td>\n",
       "      <td>female</td>\n",
       "      <td>35.0</td>\n",
       "      <td>0</td>\n",
       "      <td>0</td>\n",
       "      <td>PC 17755</td>\n",
       "      <td>512.3292</td>\n",
       "      <td>C</td>\n",
       "      <td>35.0</td>\n",
       "      <td>35.0</td>\n",
       "      <td>35.0</td>\n",
       "      <td>32.204208</td>\n",
       "      <td>1.0</td>\n",
       "      <td>0.434531</td>\n",
       "      <td>1</td>\n",
       "      <td>30.582164</td>\n",
       "    </tr>\n",
       "    <tr>\n",
       "      <th>679</th>\n",
       "      <td>680</td>\n",
       "      <td>1</td>\n",
       "      <td>1</td>\n",
       "      <td>Cardeza, Mr. Thomas Drake Martinez</td>\n",
       "      <td>male</td>\n",
       "      <td>36.0</td>\n",
       "      <td>0</td>\n",
       "      <td>1</td>\n",
       "      <td>PC 17755</td>\n",
       "      <td>512.3292</td>\n",
       "      <td>C</td>\n",
       "      <td>36.0</td>\n",
       "      <td>36.0</td>\n",
       "      <td>36.0</td>\n",
       "      <td>32.204208</td>\n",
       "      <td>1.0</td>\n",
       "      <td>0.447097</td>\n",
       "      <td>1</td>\n",
       "      <td>30.582164</td>\n",
       "    </tr>\n",
       "    <tr>\n",
       "      <th>737</th>\n",
       "      <td>738</td>\n",
       "      <td>1</td>\n",
       "      <td>1</td>\n",
       "      <td>Lesurer, Mr. Gustave J</td>\n",
       "      <td>male</td>\n",
       "      <td>35.0</td>\n",
       "      <td>0</td>\n",
       "      <td>0</td>\n",
       "      <td>PC 17755</td>\n",
       "      <td>512.3292</td>\n",
       "      <td>C</td>\n",
       "      <td>35.0</td>\n",
       "      <td>35.0</td>\n",
       "      <td>35.0</td>\n",
       "      <td>32.204208</td>\n",
       "      <td>1.0</td>\n",
       "      <td>0.434531</td>\n",
       "      <td>1</td>\n",
       "      <td>30.582164</td>\n",
       "    </tr>\n",
       "  </tbody>\n",
       "</table>\n",
       "</div>"
      ],
      "text/plain": [
       "     PassengerId  Survived  Pclass                                Name   \n",
       "258          259         1       1                    Ward, Miss. Anna  \\\n",
       "679          680         1       1  Cardeza, Mr. Thomas Drake Martinez   \n",
       "737          738         1       1              Lesurer, Mr. Gustave J   \n",
       "\n",
       "        Sex   Age  SibSp  Parch    Ticket      Fare Embarked  Age_mean_uni   \n",
       "258  female  35.0      0      0  PC 17755  512.3292        C          35.0  \\\n",
       "679    male  36.0      0      1  PC 17755  512.3292        C          36.0   \n",
       "737    male  35.0      0      0  PC 17755  512.3292        C          35.0   \n",
       "\n",
       "     Age_median_uni  Age_mean_multi   Fare_iqr  Fare_scaled  Age_scaled   \n",
       "258            35.0            35.0  32.204208          1.0    0.434531  \\\n",
       "679            36.0            36.0  32.204208          1.0    0.447097   \n",
       "737            35.0            35.0  32.204208          1.0    0.434531   \n",
       "\n",
       "     Is_outlier  Fare_dbscan  \n",
       "258           1    30.582164  \n",
       "679           1    30.582164  \n",
       "737           1    30.582164  "
      ]
     },
     "execution_count": 42,
     "metadata": {},
     "output_type": "execute_result"
    }
   ],
   "source": [
    "#pengecekan nilai Fare_dbscan\n",
    "df_titanic.loc[df_titanic['Is_outlier']==1]"
   ]
  },
  {
   "cell_type": "markdown",
   "id": "727c2600",
   "metadata": {
    "id": "727c2600"
   },
   "source": [
    "__Imputasi dengan Mean hasil analisis dari kolom Embarked__\n",
    "\n",
    "Sebagaimana kita ketahui bahwa hasil deteksi outlier di atas, kesemuanya berangkat dari pelabuhan C dengan seri ```Ticket``` yang sama. \n",
    "\n",
    "Dibandingkan menggunakan mean dari seluruh penumpang, kita bisa coba gunakan mean dari penumpang lain dari kelompok pemberangkatan ```Embarked``` yang sama."
   ]
  },
  {
   "cell_type": "code",
   "execution_count": 43,
   "id": "071186c1",
   "metadata": {
    "ExecuteTime": {
     "end_time": "2021-08-18T09:05:42.830194Z",
     "start_time": "2021-08-18T09:05:42.800276Z"
    },
    "id": "071186c1",
    "outputId": "73d524a9-165e-4b22-e382-f6e0d159aa97"
   },
   "outputs": [
    {
     "data": {
      "text/html": [
       "<div>\n",
       "<style scoped>\n",
       "    .dataframe tbody tr th:only-of-type {\n",
       "        vertical-align: middle;\n",
       "    }\n",
       "\n",
       "    .dataframe tbody tr th {\n",
       "        vertical-align: top;\n",
       "    }\n",
       "\n",
       "    .dataframe thead tr th {\n",
       "        text-align: left;\n",
       "    }\n",
       "\n",
       "    .dataframe thead tr:last-of-type th {\n",
       "        text-align: right;\n",
       "    }\n",
       "</style>\n",
       "<table border=\"1\" class=\"dataframe\">\n",
       "  <thead>\n",
       "    <tr>\n",
       "      <th></th>\n",
       "      <th colspan=\"8\" halign=\"left\">Fare</th>\n",
       "    </tr>\n",
       "    <tr>\n",
       "      <th></th>\n",
       "      <th colspan=\"8\" halign=\"left\">describe</th>\n",
       "    </tr>\n",
       "    <tr>\n",
       "      <th></th>\n",
       "      <th>count</th>\n",
       "      <th>mean</th>\n",
       "      <th>std</th>\n",
       "      <th>min</th>\n",
       "      <th>25%</th>\n",
       "      <th>50%</th>\n",
       "      <th>75%</th>\n",
       "      <th>max</th>\n",
       "    </tr>\n",
       "    <tr>\n",
       "      <th>Embarked</th>\n",
       "      <th></th>\n",
       "      <th></th>\n",
       "      <th></th>\n",
       "      <th></th>\n",
       "      <th></th>\n",
       "      <th></th>\n",
       "      <th></th>\n",
       "      <th></th>\n",
       "    </tr>\n",
       "  </thead>\n",
       "  <tbody>\n",
       "    <tr>\n",
       "      <th>C</th>\n",
       "      <td>165.0</td>\n",
       "      <td>51.729143</td>\n",
       "      <td>57.953950</td>\n",
       "      <td>4.0125</td>\n",
       "      <td>13.4167</td>\n",
       "      <td>28.7125</td>\n",
       "      <td>76.7292</td>\n",
       "      <td>262.375</td>\n",
       "    </tr>\n",
       "    <tr>\n",
       "      <th>Q</th>\n",
       "      <td>77.0</td>\n",
       "      <td>13.276030</td>\n",
       "      <td>14.188047</td>\n",
       "      <td>6.7500</td>\n",
       "      <td>7.7500</td>\n",
       "      <td>7.7500</td>\n",
       "      <td>15.5000</td>\n",
       "      <td>90.000</td>\n",
       "    </tr>\n",
       "    <tr>\n",
       "      <th>S</th>\n",
       "      <td>646.0</td>\n",
       "      <td>27.243651</td>\n",
       "      <td>35.952905</td>\n",
       "      <td>0.0000</td>\n",
       "      <td>8.0500</td>\n",
       "      <td>13.0000</td>\n",
       "      <td>27.9000</td>\n",
       "      <td>263.000</td>\n",
       "    </tr>\n",
       "  </tbody>\n",
       "</table>\n",
       "</div>"
      ],
      "text/plain": [
       "             Fare                                                            \n",
       "         describe                                                            \n",
       "            count       mean        std     min      25%      50%      75%   \n",
       "Embarked                                                                     \n",
       "C           165.0  51.729143  57.953950  4.0125  13.4167  28.7125  76.7292  \\\n",
       "Q            77.0  13.276030  14.188047  6.7500   7.7500   7.7500  15.5000   \n",
       "S           646.0  27.243651  35.952905  0.0000   8.0500  13.0000  27.9000   \n",
       "\n",
       "                   \n",
       "                   \n",
       "              max  \n",
       "Embarked           \n",
       "C         262.375  \n",
       "Q          90.000  \n",
       "S         263.000  "
      ]
     },
     "execution_count": 43,
     "metadata": {},
     "output_type": "execute_result"
    }
   ],
   "source": [
    "df_titanic.loc[df_titanic['Is_outlier']==0, ['Fare','Embarked']].groupby(by='Embarked').agg(['describe'])"
   ]
  },
  {
   "cell_type": "code",
   "execution_count": 44,
   "id": "07f82739",
   "metadata": {
    "ExecuteTime": {
     "end_time": "2021-08-18T09:05:42.845155Z",
     "start_time": "2021-08-18T09:05:42.831228Z"
    },
    "id": "07f82739"
   },
   "outputs": [],
   "source": [
    "# isikan ke nilai outlier yang sudah jadi NA\n",
    "fare_mean_C = df_titanic[(df_titanic['Is_outlier'] == 0) & (df_titanic['Embarked'] == 'C')].Fare.mean()\n",
    "df_titanic.loc[df_titanic['Is_outlier']==1, 'Fare_dbscan'] = fare_mean_C"
   ]
  },
  {
   "cell_type": "code",
   "execution_count": 45,
   "id": "1850fc22",
   "metadata": {
    "ExecuteTime": {
     "end_time": "2021-08-18T09:05:42.875098Z",
     "start_time": "2021-08-18T09:05:42.847151Z"
    },
    "id": "1850fc22",
    "outputId": "d3bf184a-aa9a-4fa6-ac62-06ee0716aff6"
   },
   "outputs": [
    {
     "data": {
      "text/html": [
       "<div>\n",
       "<style scoped>\n",
       "    .dataframe tbody tr th:only-of-type {\n",
       "        vertical-align: middle;\n",
       "    }\n",
       "\n",
       "    .dataframe tbody tr th {\n",
       "        vertical-align: top;\n",
       "    }\n",
       "\n",
       "    .dataframe thead th {\n",
       "        text-align: right;\n",
       "    }\n",
       "</style>\n",
       "<table border=\"1\" class=\"dataframe\">\n",
       "  <thead>\n",
       "    <tr style=\"text-align: right;\">\n",
       "      <th></th>\n",
       "      <th>PassengerId</th>\n",
       "      <th>Survived</th>\n",
       "      <th>Pclass</th>\n",
       "      <th>Name</th>\n",
       "      <th>Sex</th>\n",
       "      <th>Age</th>\n",
       "      <th>SibSp</th>\n",
       "      <th>Parch</th>\n",
       "      <th>Ticket</th>\n",
       "      <th>Fare</th>\n",
       "      <th>Embarked</th>\n",
       "      <th>Age_mean_uni</th>\n",
       "      <th>Age_median_uni</th>\n",
       "      <th>Age_mean_multi</th>\n",
       "      <th>Fare_iqr</th>\n",
       "      <th>Fare_scaled</th>\n",
       "      <th>Age_scaled</th>\n",
       "      <th>Is_outlier</th>\n",
       "      <th>Fare_dbscan</th>\n",
       "    </tr>\n",
       "  </thead>\n",
       "  <tbody>\n",
       "    <tr>\n",
       "      <th>258</th>\n",
       "      <td>259</td>\n",
       "      <td>1</td>\n",
       "      <td>1</td>\n",
       "      <td>Ward, Miss. Anna</td>\n",
       "      <td>female</td>\n",
       "      <td>35.0</td>\n",
       "      <td>0</td>\n",
       "      <td>0</td>\n",
       "      <td>PC 17755</td>\n",
       "      <td>512.3292</td>\n",
       "      <td>C</td>\n",
       "      <td>35.0</td>\n",
       "      <td>35.0</td>\n",
       "      <td>35.0</td>\n",
       "      <td>32.204208</td>\n",
       "      <td>1.0</td>\n",
       "      <td>0.434531</td>\n",
       "      <td>1</td>\n",
       "      <td>51.729143</td>\n",
       "    </tr>\n",
       "    <tr>\n",
       "      <th>679</th>\n",
       "      <td>680</td>\n",
       "      <td>1</td>\n",
       "      <td>1</td>\n",
       "      <td>Cardeza, Mr. Thomas Drake Martinez</td>\n",
       "      <td>male</td>\n",
       "      <td>36.0</td>\n",
       "      <td>0</td>\n",
       "      <td>1</td>\n",
       "      <td>PC 17755</td>\n",
       "      <td>512.3292</td>\n",
       "      <td>C</td>\n",
       "      <td>36.0</td>\n",
       "      <td>36.0</td>\n",
       "      <td>36.0</td>\n",
       "      <td>32.204208</td>\n",
       "      <td>1.0</td>\n",
       "      <td>0.447097</td>\n",
       "      <td>1</td>\n",
       "      <td>51.729143</td>\n",
       "    </tr>\n",
       "    <tr>\n",
       "      <th>737</th>\n",
       "      <td>738</td>\n",
       "      <td>1</td>\n",
       "      <td>1</td>\n",
       "      <td>Lesurer, Mr. Gustave J</td>\n",
       "      <td>male</td>\n",
       "      <td>35.0</td>\n",
       "      <td>0</td>\n",
       "      <td>0</td>\n",
       "      <td>PC 17755</td>\n",
       "      <td>512.3292</td>\n",
       "      <td>C</td>\n",
       "      <td>35.0</td>\n",
       "      <td>35.0</td>\n",
       "      <td>35.0</td>\n",
       "      <td>32.204208</td>\n",
       "      <td>1.0</td>\n",
       "      <td>0.434531</td>\n",
       "      <td>1</td>\n",
       "      <td>51.729143</td>\n",
       "    </tr>\n",
       "  </tbody>\n",
       "</table>\n",
       "</div>"
      ],
      "text/plain": [
       "     PassengerId  Survived  Pclass                                Name   \n",
       "258          259         1       1                    Ward, Miss. Anna  \\\n",
       "679          680         1       1  Cardeza, Mr. Thomas Drake Martinez   \n",
       "737          738         1       1              Lesurer, Mr. Gustave J   \n",
       "\n",
       "        Sex   Age  SibSp  Parch    Ticket      Fare Embarked  Age_mean_uni   \n",
       "258  female  35.0      0      0  PC 17755  512.3292        C          35.0  \\\n",
       "679    male  36.0      0      1  PC 17755  512.3292        C          36.0   \n",
       "737    male  35.0      0      0  PC 17755  512.3292        C          35.0   \n",
       "\n",
       "     Age_median_uni  Age_mean_multi   Fare_iqr  Fare_scaled  Age_scaled   \n",
       "258            35.0            35.0  32.204208          1.0    0.434531  \\\n",
       "679            36.0            36.0  32.204208          1.0    0.447097   \n",
       "737            35.0            35.0  32.204208          1.0    0.434531   \n",
       "\n",
       "     Is_outlier  Fare_dbscan  \n",
       "258           1    51.729143  \n",
       "679           1    51.729143  \n",
       "737           1    51.729143  "
      ]
     },
     "execution_count": 45,
     "metadata": {},
     "output_type": "execute_result"
    }
   ],
   "source": [
    "#pengecekan nilai Fare_dbscan\n",
    "df_titanic.loc[df_titanic['Is_outlier']==1]"
   ]
  },
  {
   "cell_type": "markdown",
   "id": "6434f2d7",
   "metadata": {
    "id": "6434f2d7"
   },
   "source": [
    "__Jika kita mengasumsikan terjadi salah ketik di nama tiket__\n",
    "\n",
    "Dari deskripsi statistik masing-masing group ```Embarked``` mean untuk data ```Fare``` penumpang yang berangkat dari pelabuhan C memiliki mean di nilai ```51.73```. \n",
    "\n",
    "Kita dapat juga berasumsi bahwa outlier ```512.3292``` itu bisa jadi typo dan mungkin maksudnya ```51.2329```"
   ]
  },
  {
   "cell_type": "code",
   "execution_count": 46,
   "id": "cdb948bb",
   "metadata": {
    "ExecuteTime": {
     "end_time": "2021-08-18T09:05:42.891202Z",
     "start_time": "2021-08-18T09:05:42.876097Z"
    },
    "id": "cdb948bb"
   },
   "outputs": [],
   "source": [
    "# langsung koreksi \n",
    "# df_titanic.loc[df_titanic['Is_outlier']==1, 'Fare_dbscan'] = 51.2329"
   ]
  },
  {
   "cell_type": "markdown",
   "id": "6b28069b",
   "metadata": {
    "ExecuteTime": {
     "end_time": "2021-08-12T06:14:54.862398Z",
     "start_time": "2021-08-12T06:14:54.852426Z"
    },
    "id": "6b28069b"
   },
   "source": [
    "__Simpulan__: Untuk mempertajam analisis kita saat mendeteksi outlier, kita bisa menggunakan kolom lain sebagai fitur tambahan dan mengimplementasikannya menggunakan DBSCAN.\n",
    "\n",
    "Kita menggunakan kolom Ticket sebagai fitur yang dapat membantu kita mendeteksi outlier pada kolom Fare."
   ]
  },
  {
   "cell_type": "markdown",
   "id": "de9ec177",
   "metadata": {
    "id": "de9ec177"
   },
   "source": [
    "# Feature Enginering "
   ]
  },
  {
   "cell_type": "markdown",
   "id": "e05d81fd",
   "metadata": {
    "id": "e05d81fd"
   },
   "source": [
    "Dari hasil sementara EDA, tanamkan hal berikut di pikiran kita:\n",
    "1. Apakah ada kemungkinan untuk mendapatkan tambahan informasi atau mengurangi noise dari datanya.\n",
    "2. Bisakah kita mengkombinasikan data dalam bentuk berbeda, sehingga menjadi lebih informatif.\n",
    "3. Adakah kemungkinan kita untuk menggunakan data tambahan dari eksternal.\n",
    "\n",
    "Sumber: https://towardsdatascience.com/what-is-feature-engineering-bfd25b2b26b2\n",
    "\n",
    "Kunci: __KREATIF !__"
   ]
  },
  {
   "cell_type": "markdown",
   "id": "0a996071",
   "metadata": {
    "id": "0a996071"
   },
   "source": [
    "## Ekstraksi inisial dari kolom Name sebagai fitur\n",
    "\n",
    "Jika kita telusuri di kolom name akan terlihat bahwa kolom ini adalah kolom yang sangat unit dengan tingkat cardinality yang tinggi. \n",
    "\n",
    "Beberapa dari kita mungkin akan melakukan drop terhadap kolom ini.\n",
    "\n",
    "Namun jika bisa lebih teliti, ada satu pola yang kita bisa ekstrak dan memberikan nilai tambah pada dataset kita.\n",
    "\n",
    "Dalam hal ini, kita akan melakukan ekstraksi gelar sosial pada nama seperti Mr. Miss. Mrs. sebagai menggunakan regex.\n",
    "\n",
    "Beberapa fungsi dan library yang digunakan:\n",
    "1. [```RegEx```](https://docs.python.org/3/howto/regex.html).\n",
    "2. ```df.column.replace()```.\n",
    "3. ```df.column.value_counts()```\n",
    "4. Library [```One Hot Encoder```](https://scikit-learn.org/stable/modules/generated/sklearn.preprocessing.OneHotEncoder.html).\n",
    "5. dst."
   ]
  },
  {
   "cell_type": "code",
   "execution_count": 47,
   "id": "d554b43d",
   "metadata": {
    "ExecuteTime": {
     "end_time": "2021-08-18T09:05:42.907048Z",
     "start_time": "2021-08-18T09:05:42.892095Z"
    },
    "id": "d554b43d",
    "outputId": "2d2bfc1e-ed72-4de0-8feb-c1bf56e4ad02"
   },
   "outputs": [
    {
     "data": {
      "text/html": [
       "<div>\n",
       "<style scoped>\n",
       "    .dataframe tbody tr th:only-of-type {\n",
       "        vertical-align: middle;\n",
       "    }\n",
       "\n",
       "    .dataframe tbody tr th {\n",
       "        vertical-align: top;\n",
       "    }\n",
       "\n",
       "    .dataframe thead th {\n",
       "        text-align: right;\n",
       "    }\n",
       "</style>\n",
       "<table border=\"1\" class=\"dataframe\">\n",
       "  <thead>\n",
       "    <tr style=\"text-align: right;\">\n",
       "      <th></th>\n",
       "      <th>Name</th>\n",
       "    </tr>\n",
       "  </thead>\n",
       "  <tbody>\n",
       "    <tr>\n",
       "      <th>723</th>\n",
       "      <td>Hodges, Mr. Henry Price</td>\n",
       "    </tr>\n",
       "    <tr>\n",
       "      <th>118</th>\n",
       "      <td>Baxter, Mr. Quigg Edmond</td>\n",
       "    </tr>\n",
       "    <tr>\n",
       "      <th>533</th>\n",
       "      <td>Peter, Mrs. Catherine (Catherine Rizk)</td>\n",
       "    </tr>\n",
       "    <tr>\n",
       "      <th>171</th>\n",
       "      <td>Rice, Master. Arthur</td>\n",
       "    </tr>\n",
       "    <tr>\n",
       "      <th>169</th>\n",
       "      <td>Ling, Mr. Lee</td>\n",
       "    </tr>\n",
       "  </tbody>\n",
       "</table>\n",
       "</div>"
      ],
      "text/plain": [
       "                                       Name\n",
       "723                 Hodges, Mr. Henry Price\n",
       "118                Baxter, Mr. Quigg Edmond\n",
       "533  Peter, Mrs. Catherine (Catherine Rizk)\n",
       "171                    Rice, Master. Arthur\n",
       "169                           Ling, Mr. Lee"
      ]
     },
     "execution_count": 47,
     "metadata": {},
     "output_type": "execute_result"
    }
   ],
   "source": [
    "df_titanic[['Name']].sample(5)"
   ]
  },
  {
   "cell_type": "code",
   "execution_count": 48,
   "id": "49c560f5",
   "metadata": {
    "ExecuteTime": {
     "end_time": "2021-08-18T09:05:42.923110Z",
     "start_time": "2021-08-18T09:05:42.908046Z"
    },
    "id": "49c560f5"
   },
   "outputs": [],
   "source": [
    "# extract gelar pada nama menggunakan regex dan simpan ke kolom baru\n",
    "df_titanic['Initial'] = df_titanic.Name.str.extract('(\\w+)\\.')"
   ]
  },
  {
   "cell_type": "code",
   "execution_count": 49,
   "id": "1b79a1a0",
   "metadata": {
    "ExecuteTime": {
     "end_time": "2021-08-18T09:05:42.938451Z",
     "start_time": "2021-08-18T09:05:42.924007Z"
    },
    "id": "1b79a1a0",
    "outputId": "027198af-31fd-4895-d475-cf724b9b7308"
   },
   "outputs": [
    {
     "data": {
      "text/plain": [
       "Initial\n",
       "Mr          517\n",
       "Miss        182\n",
       "Mrs         125\n",
       "Master       40\n",
       "Dr            7\n",
       "Rev           6\n",
       "Mlle          2\n",
       "Major         2\n",
       "Col           2\n",
       "Countess      1\n",
       "Capt          1\n",
       "Ms            1\n",
       "Sir           1\n",
       "Lady          1\n",
       "Mme           1\n",
       "Don           1\n",
       "Jonkheer      1\n",
       "Name: count, dtype: int64"
      ]
     },
     "execution_count": 49,
     "metadata": {},
     "output_type": "execute_result"
    }
   ],
   "source": [
    "# cek distribusi count\n",
    "df_titanic.Initial.value_counts()"
   ]
  },
  {
   "cell_type": "code",
   "execution_count": 50,
   "id": "e5c27857",
   "metadata": {
    "ExecuteTime": {
     "end_time": "2021-08-18T09:05:42.953399Z",
     "start_time": "2021-08-18T09:05:42.939333Z"
    },
    "id": "e5c27857"
   },
   "outputs": [],
   "source": [
    "# melakukan perbaikan atas inisial yang munkin salah tulis, atau tidak sesuai kriteria\n",
    "# menggunakan fungsi .replace()\n",
    "\n",
    "replace_dict =  {'Mlle': 'Miss',\n",
    "                 'Mme': 'Miss',\n",
    "                 'Ms': 'Miss',\n",
    "                 'Dr': 'Mr',\n",
    "                 'Major': 'Mr',\n",
    "                 'Lady': 'Mrs',\n",
    "                 'Countess': 'Mrs',\n",
    "                 'Jonkheer': 'Other',\n",
    "                 'Col': 'Other',\n",
    "                 'Rev': 'Other',\n",
    "                 'Capt': 'Mr',\n",
    "                 'Sir': 'Mr',\n",
    "                 'Don': 'Mr'}\n",
    "\n",
    "df_titanic['Initial'].replace(replace_dict,inplace=True)"
   ]
  },
  {
   "cell_type": "code",
   "execution_count": 51,
   "id": "e79c710a",
   "metadata": {
    "ExecuteTime": {
     "end_time": "2021-08-18T09:05:42.969204Z",
     "start_time": "2021-08-18T09:05:42.954202Z"
    },
    "id": "e79c710a",
    "outputId": "143f08f9-491b-4232-8f64-0d1b15e06f4e"
   },
   "outputs": [
    {
     "data": {
      "text/plain": [
       "Initial\n",
       "Mr        529\n",
       "Miss      186\n",
       "Mrs       127\n",
       "Master     40\n",
       "Other       9\n",
       "Name: count, dtype: int64"
      ]
     },
     "execution_count": 51,
     "metadata": {},
     "output_type": "execute_result"
    }
   ],
   "source": [
    "# cek distribusi count setelah perbaikan\n",
    "\n",
    "df_titanic.Initial.value_counts()"
   ]
  },
  {
   "cell_type": "markdown",
   "id": "2c273527",
   "metadata": {
    "ExecuteTime": {
     "end_time": "2021-08-12T14:55:49.684708Z",
     "start_time": "2021-08-12T14:55:49.675742Z"
    },
    "id": "2c273527"
   },
   "source": [
    "__Simpulan__: Telah diekstraksi data dari kolom Name menjadi informasi yang bernilai tambah, dan disimpan pada kolom Initial."
   ]
  },
  {
   "cell_type": "markdown",
   "id": "84d76999",
   "metadata": {
    "id": "84d76999"
   },
   "source": [
    "## Pengelompokan penumpang berdasarkan kolom Age (Binning)\n",
    "\n",
    "[Binning](https://towardsdatascience.com/data-preprocessing-with-python-pandas-part-5-binning-c5bd5fd1b950) adalah teknik mengkonversi data numerical menjadi categorical, dengan menggunakan range.\n",
    "\n",
    "Fungsi yang digunakan, [```pd.cut()```](https://pandas.pydata.org/pandas-docs/stable/reference/api/pandas.cut.html).\n",
    "\n",
    "Misalkan:\n",
    "\n",
    "|Age|Category|\n",
    "|--- |--- |\n",
    "|0-15|child|\n",
    "|16-30|young_adult|\n",
    "|31-50|adult|\n",
    "|>50|elderly|"
   ]
  },
  {
   "cell_type": "code",
   "execution_count": 52,
   "id": "f145f281",
   "metadata": {
    "ExecuteTime": {
     "end_time": "2021-08-18T09:05:42.985268Z",
     "start_time": "2021-08-18T09:05:42.970173Z"
    },
    "id": "f145f281"
   },
   "outputs": [],
   "source": [
    "# membuat varible baru bernama cut_points\n",
    "# merupakan batas dari setiap kategori\n",
    "cut_points = [0, 15, 30, 50, 100]\n",
    "\n",
    "# membuat label atas kategorinya\n",
    "age_label = ['child', 'young_adult', 'adult', 'elderly']\n",
    "\n",
    "# implementasi label tersebut dengan membuat kolom baru bernama age_label\n",
    "df_titanic['Age_group'] = pd.cut(df_titanic['Age_mean_uni'], bins=cut_points, labels=age_label, include_lowest=True)"
   ]
  },
  {
   "cell_type": "code",
   "execution_count": 53,
   "id": "d21046b7",
   "metadata": {
    "ExecuteTime": {
     "end_time": "2021-08-18T09:05:43.000398Z",
     "start_time": "2021-08-18T09:05:42.985912Z"
    },
    "id": "d21046b7",
    "outputId": "d40b349b-2b1c-48d6-f405-33b5e3cae6fb"
   },
   "outputs": [
    {
     "data": {
      "text/html": [
       "<div>\n",
       "<style scoped>\n",
       "    .dataframe tbody tr th:only-of-type {\n",
       "        vertical-align: middle;\n",
       "    }\n",
       "\n",
       "    .dataframe tbody tr th {\n",
       "        vertical-align: top;\n",
       "    }\n",
       "\n",
       "    .dataframe thead th {\n",
       "        text-align: right;\n",
       "    }\n",
       "</style>\n",
       "<table border=\"1\" class=\"dataframe\">\n",
       "  <thead>\n",
       "    <tr style=\"text-align: right;\">\n",
       "      <th></th>\n",
       "      <th>Age_group</th>\n",
       "      <th>Age_mean_uni</th>\n",
       "    </tr>\n",
       "  </thead>\n",
       "  <tbody>\n",
       "    <tr>\n",
       "      <th>602</th>\n",
       "      <td>young_adult</td>\n",
       "      <td>29.699118</td>\n",
       "    </tr>\n",
       "    <tr>\n",
       "      <th>140</th>\n",
       "      <td>young_adult</td>\n",
       "      <td>29.699118</td>\n",
       "    </tr>\n",
       "    <tr>\n",
       "      <th>55</th>\n",
       "      <td>young_adult</td>\n",
       "      <td>29.699118</td>\n",
       "    </tr>\n",
       "  </tbody>\n",
       "</table>\n",
       "</div>"
      ],
      "text/plain": [
       "       Age_group  Age_mean_uni\n",
       "602  young_adult     29.699118\n",
       "140  young_adult     29.699118\n",
       "55   young_adult     29.699118"
      ]
     },
     "execution_count": 53,
     "metadata": {},
     "output_type": "execute_result"
    }
   ],
   "source": [
    "# print hasil implementasi\n",
    "df_titanic.sample(3)[['Age_group','Age_mean_uni']]"
   ]
  },
  {
   "cell_type": "markdown",
   "id": "e3bd3772",
   "metadata": {
    "ExecuteTime": {
     "end_time": "2021-08-12T14:57:21.223633Z",
     "start_time": "2021-08-12T14:57:21.212662Z"
    },
    "id": "e3bd3772"
   },
   "source": [
    "__Simpulan__: Telah dikategorikan range ```Age``` pada kolom ```Age_group```."
   ]
  },
  {
   "cell_type": "markdown",
   "id": "a247a693",
   "metadata": {
    "id": "a247a693"
   },
   "source": [
    "## Encoding"
   ]
  },
  {
   "cell_type": "markdown",
   "id": "6405a695",
   "metadata": {
    "id": "6405a695"
   },
   "source": [
    "Beberapa fungsi dan library yang digunakan:\n",
    "1. library [```LabelEncoder```](https://scikit-learn.org/stable/modules/generated/sklearn.preprocessing.LabelEncoder.html).\n",
    "2. dictionary ```{}```.\n",
    "3. [```df.Series.map()```](https://pandas.pydata.org/pandas-docs/stable/reference/api/pandas.Series.map.html).\n",
    "4. dst.\n",
    "\n",
    "### Kolom Sex\n",
    "\n",
    "Label encoding digunakan untuk mengubah data categorical menjadi nominal. "
   ]
  },
  {
   "cell_type": "code",
   "execution_count": 54,
   "id": "f80af5db",
   "metadata": {
    "ExecuteTime": {
     "end_time": "2021-08-18T09:05:43.015340Z",
     "start_time": "2021-08-18T09:05:43.001362Z"
    },
    "id": "f80af5db",
    "outputId": "3bb3051e-586e-4906-8aec-dfb477612209"
   },
   "outputs": [
    {
     "data": {
      "text/plain": [
       "array(['male', 'female'], dtype=object)"
      ]
     },
     "execution_count": 54,
     "metadata": {},
     "output_type": "execute_result"
    }
   ],
   "source": [
    "# cek ada berapa label pada kolom sex\n",
    "df_titanic['Sex'].unique()"
   ]
  },
  {
   "cell_type": "markdown",
   "id": "7903b795",
   "metadata": {
    "ExecuteTime": {
     "end_time": "2021-08-12T15:00:09.428552Z",
     "start_time": "2021-08-12T15:00:09.416585Z"
    },
    "id": "7903b795"
   },
   "source": [
    "Karena hanya ada 2 distinct values (low cardinality), kita cukup pakai dictionary untuk labeling."
   ]
  },
  {
   "cell_type": "code",
   "execution_count": 55,
   "id": "a425c5d4",
   "metadata": {
    "ExecuteTime": {
     "end_time": "2021-08-18T09:05:43.031457Z",
     "start_time": "2021-08-18T09:05:43.016321Z"
    },
    "id": "a425c5d4",
    "outputId": "4b5ade31-bb7e-445e-c1a2-d70753f69406"
   },
   "outputs": [
    {
     "data": {
      "text/html": [
       "<div>\n",
       "<style scoped>\n",
       "    .dataframe tbody tr th:only-of-type {\n",
       "        vertical-align: middle;\n",
       "    }\n",
       "\n",
       "    .dataframe tbody tr th {\n",
       "        vertical-align: top;\n",
       "    }\n",
       "\n",
       "    .dataframe thead th {\n",
       "        text-align: right;\n",
       "    }\n",
       "</style>\n",
       "<table border=\"1\" class=\"dataframe\">\n",
       "  <thead>\n",
       "    <tr style=\"text-align: right;\">\n",
       "      <th></th>\n",
       "      <th>Name</th>\n",
       "      <th>Sex</th>\n",
       "      <th>Sex_enc</th>\n",
       "    </tr>\n",
       "  </thead>\n",
       "  <tbody>\n",
       "    <tr>\n",
       "      <th>18</th>\n",
       "      <td>Vander Planke, Mrs. Julius (Emelia Maria Vande...</td>\n",
       "      <td>female</td>\n",
       "      <td>1</td>\n",
       "    </tr>\n",
       "    <tr>\n",
       "      <th>224</th>\n",
       "      <td>Hoyt, Mr. Frederick Maxfield</td>\n",
       "      <td>male</td>\n",
       "      <td>0</td>\n",
       "    </tr>\n",
       "    <tr>\n",
       "      <th>531</th>\n",
       "      <td>Toufik, Mr. Nakli</td>\n",
       "      <td>male</td>\n",
       "      <td>0</td>\n",
       "    </tr>\n",
       "  </tbody>\n",
       "</table>\n",
       "</div>"
      ],
      "text/plain": [
       "                                                  Name     Sex  Sex_enc\n",
       "18   Vander Planke, Mrs. Julius (Emelia Maria Vande...  female        1\n",
       "224                       Hoyt, Mr. Frederick Maxfield    male        0\n",
       "531                                  Toufik, Mr. Nakli    male        0"
      ]
     },
     "execution_count": 55,
     "metadata": {},
     "output_type": "execute_result"
    }
   ],
   "source": [
    "# membuat dictionary, 0 untuk male dan 1 untuk female\n",
    "label_sex = {'male':0,'female':1}\n",
    "\n",
    "# gunakan fungsi map pada pandas untuk mengaplikasikan labeling\n",
    "df_titanic['Sex_enc'] = df_titanic['Sex'].map(label_sex)\n",
    "\n",
    "# print hasil implementasi\n",
    "df_titanic[['Name','Sex','Sex_enc']].sample(3)"
   ]
  },
  {
   "cell_type": "markdown",
   "id": "755f4a6f",
   "metadata": {
    "ExecuteTime": {
     "end_time": "2021-08-12T15:00:42.191615Z",
     "start_time": "2021-08-12T15:00:42.181644Z"
    },
    "id": "755f4a6f"
   },
   "source": [
    "__Simpulan__: kategori male dan female sudah berubah menjadi 0 dan 1."
   ]
  },
  {
   "cell_type": "markdown",
   "id": "029e979f",
   "metadata": {
    "id": "029e979f"
   },
   "source": [
    "### Kolom Embarked\n",
    "\n",
    "Jika jumlah kelas pada variabel kategori sangat banyak (high cardinality).\n",
    "\n",
    "Kita __tidak mungkin melakukannya secara manual__ menggunakan dictionary. \n",
    "\n",
    "Oleh karenanya kita perlu menggunakan bantuan library salah satunya adalah [Label Encoder](https://scikit-learn.org/stable/modules/generated/sklearn.preprocessing.LabelEncoder.html) di scikit learn."
   ]
  },
  {
   "cell_type": "code",
   "execution_count": 56,
   "id": "9920388d",
   "metadata": {
    "ExecuteTime": {
     "end_time": "2021-08-18T09:05:43.046417Z",
     "start_time": "2021-08-18T09:05:43.032455Z"
    },
    "id": "9920388d"
   },
   "outputs": [],
   "source": [
    "# load library\n",
    "from sklearn.preprocessing import LabelEncoder\n",
    "\n",
    "# inisiasi encoder\n",
    "le = LabelEncoder()\n",
    "\n",
    "# fiting dan transform ke model\n",
    "df_titanic['Embarked_enc'] = le.fit_transform(df_titanic['Embarked'])"
   ]
  },
  {
   "cell_type": "code",
   "execution_count": 57,
   "id": "c17549f4",
   "metadata": {
    "ExecuteTime": {
     "end_time": "2021-08-18T09:05:43.061377Z",
     "start_time": "2021-08-18T09:05:43.048447Z"
    },
    "id": "c17549f4",
    "outputId": "dcc0f8f6-3cdd-485b-d031-498476cbc33a"
   },
   "outputs": [
    {
     "data": {
      "text/html": [
       "<div>\n",
       "<style scoped>\n",
       "    .dataframe tbody tr th:only-of-type {\n",
       "        vertical-align: middle;\n",
       "    }\n",
       "\n",
       "    .dataframe tbody tr th {\n",
       "        vertical-align: top;\n",
       "    }\n",
       "\n",
       "    .dataframe thead th {\n",
       "        text-align: right;\n",
       "    }\n",
       "</style>\n",
       "<table border=\"1\" class=\"dataframe\">\n",
       "  <thead>\n",
       "    <tr style=\"text-align: right;\">\n",
       "      <th></th>\n",
       "      <th>Name</th>\n",
       "      <th>Embarked</th>\n",
       "      <th>Embarked_enc</th>\n",
       "    </tr>\n",
       "  </thead>\n",
       "  <tbody>\n",
       "    <tr>\n",
       "      <th>139</th>\n",
       "      <td>Giglio, Mr. Victor</td>\n",
       "      <td>C</td>\n",
       "      <td>0</td>\n",
       "    </tr>\n",
       "    <tr>\n",
       "      <th>356</th>\n",
       "      <td>Bowerman, Miss. Elsie Edith</td>\n",
       "      <td>S</td>\n",
       "      <td>2</td>\n",
       "    </tr>\n",
       "    <tr>\n",
       "      <th>48</th>\n",
       "      <td>Samaan, Mr. Youssef</td>\n",
       "      <td>C</td>\n",
       "      <td>0</td>\n",
       "    </tr>\n",
       "  </tbody>\n",
       "</table>\n",
       "</div>"
      ],
      "text/plain": [
       "                            Name Embarked  Embarked_enc\n",
       "139           Giglio, Mr. Victor        C             0\n",
       "356  Bowerman, Miss. Elsie Edith        S             2\n",
       "48           Samaan, Mr. Youssef        C             0"
      ]
     },
     "execution_count": 57,
     "metadata": {},
     "output_type": "execute_result"
    }
   ],
   "source": [
    "# print hasil implementasi\n",
    "df_titanic[['Name','Embarked','Embarked_enc']].sample(3)"
   ]
  },
  {
   "cell_type": "markdown",
   "id": "02d0e359",
   "metadata": {
    "id": "02d0e359"
   },
   "source": [
    "__Simpulan__: kategori C, Q, dan S sudah berubah menjadi 0, 1 dan 2."
   ]
  },
  {
   "cell_type": "markdown",
   "id": "979750e0",
   "metadata": {
    "id": "979750e0"
   },
   "source": [
    "### Kolom Initial"
   ]
  },
  {
   "cell_type": "markdown",
   "id": "05559250",
   "metadata": {
    "id": "05559250"
   },
   "source": [
    "Dari hasil ekstraksi fitur, kita memperoleh lima jenis kategorikal.\n",
    "\n",
    "Sebelumnya kita sudah kenal cara melakukan encoding dengan menggunakan dictionary dan LabelEncoder.\n",
    "\n",
    "Untuk kali ini akan kita implementasikan satu teknik lainnya, yaitu One Hot Encoding.\n",
    "\n",
    "__Kenapa kita menggunakannya?__\n",
    "\n",
    "Label Encoding adalah kategori sekarang memiliki [urutan (natural order)](https://machinelearningmastery.com/one-hot-encoding-for-categorical-data/). \n",
    "\n",
    "Komputer secara alami akan memberikan angka yang lebih tinggi, bobot yang lebih tinggi. \n",
    "\n",
    "Untuk mengatasinya kita menggunakan One Hot Encoding.\n",
    "\n",
    "![image.png](data:image/png;base64,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)\n",
    "\n",
    "Sumber: https://medium.com/@michaeldelsole/what-is-one-hot-encoding-and-how-to-do-it-f0ae272f1179"
   ]
  },
  {
   "cell_type": "code",
   "execution_count": 58,
   "id": "eb90ffcd",
   "metadata": {
    "ExecuteTime": {
     "end_time": "2021-08-18T09:05:43.076337Z",
     "start_time": "2021-08-18T09:05:43.062374Z"
    },
    "id": "eb90ffcd",
    "outputId": "371c612c-95a6-41d7-d5c0-e58505f51abc"
   },
   "outputs": [
    {
     "data": {
      "text/html": [
       "<div>\n",
       "<style scoped>\n",
       "    .dataframe tbody tr th:only-of-type {\n",
       "        vertical-align: middle;\n",
       "    }\n",
       "\n",
       "    .dataframe tbody tr th {\n",
       "        vertical-align: top;\n",
       "    }\n",
       "\n",
       "    .dataframe thead th {\n",
       "        text-align: right;\n",
       "    }\n",
       "</style>\n",
       "<table border=\"1\" class=\"dataframe\">\n",
       "  <thead>\n",
       "    <tr style=\"text-align: right;\">\n",
       "      <th></th>\n",
       "      <th>Mr</th>\n",
       "      <th>Mrs</th>\n",
       "      <th>Miss</th>\n",
       "      <th>Master</th>\n",
       "      <th>Other</th>\n",
       "    </tr>\n",
       "  </thead>\n",
       "  <tbody>\n",
       "    <tr>\n",
       "      <th>632</th>\n",
       "      <td>0.0</td>\n",
       "      <td>0.0</td>\n",
       "      <td>1.0</td>\n",
       "      <td>0.0</td>\n",
       "      <td>0.0</td>\n",
       "    </tr>\n",
       "    <tr>\n",
       "      <th>719</th>\n",
       "      <td>0.0</td>\n",
       "      <td>0.0</td>\n",
       "      <td>1.0</td>\n",
       "      <td>0.0</td>\n",
       "      <td>0.0</td>\n",
       "    </tr>\n",
       "    <tr>\n",
       "      <th>594</th>\n",
       "      <td>0.0</td>\n",
       "      <td>0.0</td>\n",
       "      <td>1.0</td>\n",
       "      <td>0.0</td>\n",
       "      <td>0.0</td>\n",
       "    </tr>\n",
       "  </tbody>\n",
       "</table>\n",
       "</div>"
      ],
      "text/plain": [
       "      Mr  Mrs  Miss  Master  Other\n",
       "632  0.0  0.0   1.0     0.0    0.0\n",
       "719  0.0  0.0   1.0     0.0    0.0\n",
       "594  0.0  0.0   1.0     0.0    0.0"
      ]
     },
     "execution_count": 58,
     "metadata": {},
     "output_type": "execute_result"
    }
   ],
   "source": [
    "# load library \n",
    "from sklearn.preprocessing import OneHotEncoder \n",
    "\n",
    "# inisiasi encoder \n",
    "ohc = OneHotEncoder(handle_unknown='ignore')\n",
    "\n",
    "# fit dan transform\n",
    "new_features = ohc.fit_transform(df_titanic[['Initial']])\n",
    "\n",
    "# masukan ke dataframe hasilnya\n",
    "cols_name= [x for x in df_titanic['Initial'].unique()]\n",
    "df_initial_ohc = pd.DataFrame(new_features.toarray(), columns=cols_name)\n",
    "\n",
    "df_initial_ohc.sample(3)"
   ]
  },
  {
   "cell_type": "code",
   "execution_count": 59,
   "id": "218cc026",
   "metadata": {
    "ExecuteTime": {
     "end_time": "2021-08-18T09:05:43.092343Z",
     "start_time": "2021-08-18T09:05:43.077334Z"
    },
    "id": "218cc026"
   },
   "outputs": [],
   "source": [
    "# gabung hasilnya ke df_titanic\n",
    "df_titanic = pd.concat([df_titanic, df_initial_ohc], axis=1)"
   ]
  },
  {
   "cell_type": "code",
   "execution_count": 60,
   "id": "7cef2eb0",
   "metadata": {
    "ExecuteTime": {
     "end_time": "2021-08-18T09:05:43.122214Z",
     "start_time": "2021-08-18T09:05:43.093326Z"
    },
    "id": "7cef2eb0",
    "outputId": "7088e255-4806-4bfb-860e-b78723e023f6"
   },
   "outputs": [
    {
     "data": {
      "text/html": [
       "<div>\n",
       "<style scoped>\n",
       "    .dataframe tbody tr th:only-of-type {\n",
       "        vertical-align: middle;\n",
       "    }\n",
       "\n",
       "    .dataframe tbody tr th {\n",
       "        vertical-align: top;\n",
       "    }\n",
       "\n",
       "    .dataframe thead th {\n",
       "        text-align: right;\n",
       "    }\n",
       "</style>\n",
       "<table border=\"1\" class=\"dataframe\">\n",
       "  <thead>\n",
       "    <tr style=\"text-align: right;\">\n",
       "      <th></th>\n",
       "      <th>PassengerId</th>\n",
       "      <th>Survived</th>\n",
       "      <th>Pclass</th>\n",
       "      <th>Name</th>\n",
       "      <th>Sex</th>\n",
       "      <th>Age</th>\n",
       "      <th>SibSp</th>\n",
       "      <th>Parch</th>\n",
       "      <th>Ticket</th>\n",
       "      <th>Fare</th>\n",
       "      <th>...</th>\n",
       "      <th>Fare_dbscan</th>\n",
       "      <th>Initial</th>\n",
       "      <th>Age_group</th>\n",
       "      <th>Sex_enc</th>\n",
       "      <th>Embarked_enc</th>\n",
       "      <th>Mr</th>\n",
       "      <th>Mrs</th>\n",
       "      <th>Miss</th>\n",
       "      <th>Master</th>\n",
       "      <th>Other</th>\n",
       "    </tr>\n",
       "  </thead>\n",
       "  <tbody>\n",
       "    <tr>\n",
       "      <th>402</th>\n",
       "      <td>403</td>\n",
       "      <td>0</td>\n",
       "      <td>3</td>\n",
       "      <td>Jussila, Miss. Mari Aina</td>\n",
       "      <td>female</td>\n",
       "      <td>21.0</td>\n",
       "      <td>1</td>\n",
       "      <td>0</td>\n",
       "      <td>4137</td>\n",
       "      <td>9.8250</td>\n",
       "      <td>...</td>\n",
       "      <td>9.8250</td>\n",
       "      <td>Miss</td>\n",
       "      <td>young_adult</td>\n",
       "      <td>1</td>\n",
       "      <td>2</td>\n",
       "      <td>0.0</td>\n",
       "      <td>1.0</td>\n",
       "      <td>0.0</td>\n",
       "      <td>0.0</td>\n",
       "      <td>0.0</td>\n",
       "    </tr>\n",
       "    <tr>\n",
       "      <th>890</th>\n",
       "      <td>891</td>\n",
       "      <td>0</td>\n",
       "      <td>3</td>\n",
       "      <td>Dooley, Mr. Patrick</td>\n",
       "      <td>male</td>\n",
       "      <td>32.0</td>\n",
       "      <td>0</td>\n",
       "      <td>0</td>\n",
       "      <td>370376</td>\n",
       "      <td>7.7500</td>\n",
       "      <td>...</td>\n",
       "      <td>7.7500</td>\n",
       "      <td>Mr</td>\n",
       "      <td>adult</td>\n",
       "      <td>0</td>\n",
       "      <td>1</td>\n",
       "      <td>0.0</td>\n",
       "      <td>0.0</td>\n",
       "      <td>1.0</td>\n",
       "      <td>0.0</td>\n",
       "      <td>0.0</td>\n",
       "    </tr>\n",
       "    <tr>\n",
       "      <th>391</th>\n",
       "      <td>392</td>\n",
       "      <td>1</td>\n",
       "      <td>3</td>\n",
       "      <td>Jansson, Mr. Carl Olof</td>\n",
       "      <td>male</td>\n",
       "      <td>21.0</td>\n",
       "      <td>0</td>\n",
       "      <td>0</td>\n",
       "      <td>350034</td>\n",
       "      <td>7.7958</td>\n",
       "      <td>...</td>\n",
       "      <td>7.7958</td>\n",
       "      <td>Mr</td>\n",
       "      <td>young_adult</td>\n",
       "      <td>0</td>\n",
       "      <td>2</td>\n",
       "      <td>0.0</td>\n",
       "      <td>0.0</td>\n",
       "      <td>1.0</td>\n",
       "      <td>0.0</td>\n",
       "      <td>0.0</td>\n",
       "    </tr>\n",
       "  </tbody>\n",
       "</table>\n",
       "<p>3 rows × 28 columns</p>\n",
       "</div>"
      ],
      "text/plain": [
       "     PassengerId  Survived  Pclass                      Name     Sex   Age   \n",
       "402          403         0       3  Jussila, Miss. Mari Aina  female  21.0  \\\n",
       "890          891         0       3       Dooley, Mr. Patrick    male  32.0   \n",
       "391          392         1       3    Jansson, Mr. Carl Olof    male  21.0   \n",
       "\n",
       "     SibSp  Parch  Ticket    Fare  ... Fare_dbscan  Initial    Age_group   \n",
       "402      1      0    4137  9.8250  ...      9.8250     Miss  young_adult  \\\n",
       "890      0      0  370376  7.7500  ...      7.7500       Mr        adult   \n",
       "391      0      0  350034  7.7958  ...      7.7958       Mr  young_adult   \n",
       "\n",
       "     Sex_enc  Embarked_enc   Mr  Mrs  Miss  Master Other  \n",
       "402        1             2  0.0  1.0   0.0     0.0   0.0  \n",
       "890        0             1  0.0  0.0   1.0     0.0   0.0  \n",
       "391        0             2  0.0  0.0   1.0     0.0   0.0  \n",
       "\n",
       "[3 rows x 28 columns]"
      ]
     },
     "execution_count": 60,
     "metadata": {},
     "output_type": "execute_result"
    }
   ],
   "source": [
    "# print hasil implementasi\n",
    "df_titanic.sample(3)"
   ]
  },
  {
   "cell_type": "markdown",
   "id": "4020ac30",
   "metadata": {
    "ExecuteTime": {
     "end_time": "2021-08-12T15:04:34.727914Z",
     "start_time": "2021-08-12T15:04:34.713951Z"
    },
    "id": "4020ac30"
   },
   "source": [
    "__Simpulan__: Sudah diimplementasikan OHE pada kolom ```Initial```."
   ]
  },
  {
   "cell_type": "markdown",
   "id": "6ad0d9ec",
   "metadata": {
    "id": "6ad0d9ec"
   },
   "source": [
    "### Kolom Age_group\n",
    "\n",
    "Sama seperti sebelumnya, kita akan implementasikan OHE untuk kolom ```Age_group```."
   ]
  },
  {
   "cell_type": "code",
   "execution_count": 61,
   "id": "74b10495",
   "metadata": {
    "ExecuteTime": {
     "end_time": "2021-08-18T09:05:43.138172Z",
     "start_time": "2021-08-18T09:05:43.123211Z"
    },
    "id": "74b10495",
    "outputId": "f69978c9-09f6-45ec-eff8-ad2f44813dbb"
   },
   "outputs": [
    {
     "data": {
      "text/html": [
       "<div>\n",
       "<style scoped>\n",
       "    .dataframe tbody tr th:only-of-type {\n",
       "        vertical-align: middle;\n",
       "    }\n",
       "\n",
       "    .dataframe tbody tr th {\n",
       "        vertical-align: top;\n",
       "    }\n",
       "\n",
       "    .dataframe thead th {\n",
       "        text-align: right;\n",
       "    }\n",
       "</style>\n",
       "<table border=\"1\" class=\"dataframe\">\n",
       "  <thead>\n",
       "    <tr style=\"text-align: right;\">\n",
       "      <th></th>\n",
       "      <th>young_adult</th>\n",
       "      <th>adult</th>\n",
       "      <th>elderly</th>\n",
       "      <th>child</th>\n",
       "    </tr>\n",
       "  </thead>\n",
       "  <tbody>\n",
       "    <tr>\n",
       "      <th>840</th>\n",
       "      <td>0.0</td>\n",
       "      <td>0.0</td>\n",
       "      <td>0.0</td>\n",
       "      <td>1.0</td>\n",
       "    </tr>\n",
       "    <tr>\n",
       "      <th>156</th>\n",
       "      <td>0.0</td>\n",
       "      <td>0.0</td>\n",
       "      <td>0.0</td>\n",
       "      <td>1.0</td>\n",
       "    </tr>\n",
       "    <tr>\n",
       "      <th>19</th>\n",
       "      <td>0.0</td>\n",
       "      <td>0.0</td>\n",
       "      <td>0.0</td>\n",
       "      <td>1.0</td>\n",
       "    </tr>\n",
       "  </tbody>\n",
       "</table>\n",
       "</div>"
      ],
      "text/plain": [
       "     young_adult  adult  elderly  child\n",
       "840          0.0    0.0      0.0    1.0\n",
       "156          0.0    0.0      0.0    1.0\n",
       "19           0.0    0.0      0.0    1.0"
      ]
     },
     "execution_count": 61,
     "metadata": {},
     "output_type": "execute_result"
    }
   ],
   "source": [
    "# fit dan transform\n",
    "new_features = ohc.fit_transform(df_titanic[['Age_group']])\n",
    "\n",
    "# masukan ke dataframe hasilnya\n",
    "cols_name= [x for x in df_titanic['Age_group'].unique()]\n",
    "df_age_group_ohc = pd.DataFrame(new_features.toarray(), columns=cols_name)\n",
    "\n",
    "df_age_group_ohc.sample(3)"
   ]
  },
  {
   "cell_type": "code",
   "execution_count": 62,
   "id": "4970fcc8",
   "metadata": {
    "ExecuteTime": {
     "end_time": "2021-08-18T09:05:43.153131Z",
     "start_time": "2021-08-18T09:05:43.139169Z"
    },
    "id": "4970fcc8"
   },
   "outputs": [],
   "source": [
    "# gabung hasilnya ke df_titanic\n",
    "df_titanic = pd.concat([df_titanic, df_age_group_ohc], axis=1)"
   ]
  },
  {
   "cell_type": "code",
   "execution_count": 63,
   "id": "900e058a",
   "metadata": {
    "ExecuteTime": {
     "end_time": "2021-08-18T09:05:43.183913Z",
     "start_time": "2021-08-18T09:05:43.154129Z"
    },
    "id": "900e058a",
    "outputId": "a9fd4df7-7ec1-463a-a095-7fce9f322e3b"
   },
   "outputs": [
    {
     "data": {
      "text/html": [
       "<div>\n",
       "<style scoped>\n",
       "    .dataframe tbody tr th:only-of-type {\n",
       "        vertical-align: middle;\n",
       "    }\n",
       "\n",
       "    .dataframe tbody tr th {\n",
       "        vertical-align: top;\n",
       "    }\n",
       "\n",
       "    .dataframe thead th {\n",
       "        text-align: right;\n",
       "    }\n",
       "</style>\n",
       "<table border=\"1\" class=\"dataframe\">\n",
       "  <thead>\n",
       "    <tr style=\"text-align: right;\">\n",
       "      <th></th>\n",
       "      <th>PassengerId</th>\n",
       "      <th>Survived</th>\n",
       "      <th>Pclass</th>\n",
       "      <th>Name</th>\n",
       "      <th>Sex</th>\n",
       "      <th>Age</th>\n",
       "      <th>SibSp</th>\n",
       "      <th>Parch</th>\n",
       "      <th>Ticket</th>\n",
       "      <th>Fare</th>\n",
       "      <th>...</th>\n",
       "      <th>Embarked_enc</th>\n",
       "      <th>Mr</th>\n",
       "      <th>Mrs</th>\n",
       "      <th>Miss</th>\n",
       "      <th>Master</th>\n",
       "      <th>Other</th>\n",
       "      <th>young_adult</th>\n",
       "      <th>adult</th>\n",
       "      <th>elderly</th>\n",
       "      <th>child</th>\n",
       "    </tr>\n",
       "  </thead>\n",
       "  <tbody>\n",
       "    <tr>\n",
       "      <th>270</th>\n",
       "      <td>271</td>\n",
       "      <td>0</td>\n",
       "      <td>1</td>\n",
       "      <td>Cairns, Mr. Alexander</td>\n",
       "      <td>male</td>\n",
       "      <td>NaN</td>\n",
       "      <td>0</td>\n",
       "      <td>0</td>\n",
       "      <td>113798</td>\n",
       "      <td>31.000</td>\n",
       "      <td>...</td>\n",
       "      <td>2</td>\n",
       "      <td>0.0</td>\n",
       "      <td>0.0</td>\n",
       "      <td>1.0</td>\n",
       "      <td>0.0</td>\n",
       "      <td>0.0</td>\n",
       "      <td>0.0</td>\n",
       "      <td>0.0</td>\n",
       "      <td>0.0</td>\n",
       "      <td>1.0</td>\n",
       "    </tr>\n",
       "    <tr>\n",
       "      <th>667</th>\n",
       "      <td>668</td>\n",
       "      <td>0</td>\n",
       "      <td>3</td>\n",
       "      <td>Rommetvedt, Mr. Knud Paust</td>\n",
       "      <td>male</td>\n",
       "      <td>NaN</td>\n",
       "      <td>0</td>\n",
       "      <td>0</td>\n",
       "      <td>312993</td>\n",
       "      <td>7.775</td>\n",
       "      <td>...</td>\n",
       "      <td>2</td>\n",
       "      <td>0.0</td>\n",
       "      <td>0.0</td>\n",
       "      <td>1.0</td>\n",
       "      <td>0.0</td>\n",
       "      <td>0.0</td>\n",
       "      <td>0.0</td>\n",
       "      <td>0.0</td>\n",
       "      <td>0.0</td>\n",
       "      <td>1.0</td>\n",
       "    </tr>\n",
       "    <tr>\n",
       "      <th>682</th>\n",
       "      <td>683</td>\n",
       "      <td>0</td>\n",
       "      <td>3</td>\n",
       "      <td>Olsvigen, Mr. Thor Anderson</td>\n",
       "      <td>male</td>\n",
       "      <td>20.0</td>\n",
       "      <td>0</td>\n",
       "      <td>0</td>\n",
       "      <td>6563</td>\n",
       "      <td>9.225</td>\n",
       "      <td>...</td>\n",
       "      <td>2</td>\n",
       "      <td>0.0</td>\n",
       "      <td>0.0</td>\n",
       "      <td>1.0</td>\n",
       "      <td>0.0</td>\n",
       "      <td>0.0</td>\n",
       "      <td>0.0</td>\n",
       "      <td>0.0</td>\n",
       "      <td>0.0</td>\n",
       "      <td>1.0</td>\n",
       "    </tr>\n",
       "  </tbody>\n",
       "</table>\n",
       "<p>3 rows × 32 columns</p>\n",
       "</div>"
      ],
      "text/plain": [
       "     PassengerId  Survived  Pclass                         Name   Sex   Age   \n",
       "270          271         0       1        Cairns, Mr. Alexander  male   NaN  \\\n",
       "667          668         0       3   Rommetvedt, Mr. Knud Paust  male   NaN   \n",
       "682          683         0       3  Olsvigen, Mr. Thor Anderson  male  20.0   \n",
       "\n",
       "     SibSp  Parch  Ticket    Fare  ... Embarked_enc   Mr  Mrs  Miss  Master   \n",
       "270      0      0  113798  31.000  ...            2  0.0  0.0   1.0     0.0  \\\n",
       "667      0      0  312993   7.775  ...            2  0.0  0.0   1.0     0.0   \n",
       "682      0      0    6563   9.225  ...            2  0.0  0.0   1.0     0.0   \n",
       "\n",
       "     Other  young_adult  adult  elderly child  \n",
       "270    0.0          0.0    0.0      0.0   1.0  \n",
       "667    0.0          0.0    0.0      0.0   1.0  \n",
       "682    0.0          0.0    0.0      0.0   1.0  \n",
       "\n",
       "[3 rows x 32 columns]"
      ]
     },
     "execution_count": 63,
     "metadata": {},
     "output_type": "execute_result"
    }
   ],
   "source": [
    "# print hasil implementasi\n",
    "df_titanic.sample(3)"
   ]
  },
  {
   "cell_type": "markdown",
   "id": "28a49156",
   "metadata": {
    "id": "28a49156"
   },
   "source": [
    "__Simpulan__: Sudah diimplementasikan OHE pada kolom ```Age_group```."
   ]
  },
  {
   "cell_type": "code",
   "execution_count": 64,
   "id": "55d50b35",
   "metadata": {
    "ExecuteTime": {
     "end_time": "2021-08-18T09:05:43.199846Z",
     "start_time": "2021-08-18T09:05:43.184885Z"
    },
    "id": "55d50b35",
    "outputId": "341871af-22aa-4f6b-aedf-0fdf3717a322"
   },
   "outputs": [
    {
     "data": {
      "text/plain": [
       "Index(['PassengerId', 'Survived', 'Pclass', 'Name', 'Sex', 'Age', 'SibSp',\n",
       "       'Parch', 'Ticket', 'Fare', 'Embarked', 'Age_mean_uni', 'Age_median_uni',\n",
       "       'Age_mean_multi', 'Fare_iqr', 'Fare_scaled', 'Age_scaled', 'Is_outlier',\n",
       "       'Fare_dbscan', 'Initial', 'Age_group', 'Sex_enc', 'Embarked_enc', 'Mr',\n",
       "       'Mrs', 'Miss', 'Master', 'Other', 'young_adult', 'adult', 'elderly',\n",
       "       'child'],\n",
       "      dtype='object')"
      ]
     },
     "execution_count": 64,
     "metadata": {},
     "output_type": "execute_result"
    }
   ],
   "source": [
    "df_titanic.columns"
   ]
  },
  {
   "cell_type": "code",
   "execution_count": 65,
   "id": "a7373078",
   "metadata": {
    "ExecuteTime": {
     "end_time": "2021-08-18T09:05:43.214840Z",
     "start_time": "2021-08-18T09:05:43.200844Z"
    },
    "id": "a7373078"
   },
   "outputs": [],
   "source": [
    "columns_to_keep = ['Survived', 'Pclass', 'Fare_dbscan', 'Sex_enc', 'Embarked_enc', 'Mr',\n",
    "                   'Mrs', 'Miss', 'Master', 'Other', 'young_adult', 'adult', 'elderly',\n",
    "                   'child']"
   ]
  },
  {
   "cell_type": "code",
   "execution_count": 66,
   "id": "be9d16ec",
   "metadata": {
    "ExecuteTime": {
     "end_time": "2021-08-18T09:05:43.231097Z",
     "start_time": "2021-08-18T09:05:43.215803Z"
    },
    "id": "be9d16ec"
   },
   "outputs": [],
   "source": [
    "df_titanic = df_titanic[columns_to_keep]"
   ]
  },
  {
   "cell_type": "code",
   "execution_count": 67,
   "id": "7a28eb52",
   "metadata": {
    "ExecuteTime": {
     "end_time": "2021-08-18T09:05:43.246928Z",
     "start_time": "2021-08-18T09:05:43.231944Z"
    },
    "id": "7a28eb52",
    "outputId": "945b4574-5863-494d-f28a-83150519df6c",
    "scrolled": false
   },
   "outputs": [
    {
     "data": {
      "text/html": [
       "<div>\n",
       "<style scoped>\n",
       "    .dataframe tbody tr th:only-of-type {\n",
       "        vertical-align: middle;\n",
       "    }\n",
       "\n",
       "    .dataframe tbody tr th {\n",
       "        vertical-align: top;\n",
       "    }\n",
       "\n",
       "    .dataframe thead th {\n",
       "        text-align: right;\n",
       "    }\n",
       "</style>\n",
       "<table border=\"1\" class=\"dataframe\">\n",
       "  <thead>\n",
       "    <tr style=\"text-align: right;\">\n",
       "      <th></th>\n",
       "      <th>Survived</th>\n",
       "      <th>Pclass</th>\n",
       "      <th>Fare_dbscan</th>\n",
       "      <th>Sex_enc</th>\n",
       "      <th>Embarked_enc</th>\n",
       "      <th>Mr</th>\n",
       "      <th>Mrs</th>\n",
       "      <th>Miss</th>\n",
       "      <th>Master</th>\n",
       "      <th>Other</th>\n",
       "      <th>young_adult</th>\n",
       "      <th>adult</th>\n",
       "      <th>elderly</th>\n",
       "      <th>child</th>\n",
       "    </tr>\n",
       "  </thead>\n",
       "  <tbody>\n",
       "    <tr>\n",
       "      <th>0</th>\n",
       "      <td>0</td>\n",
       "      <td>3</td>\n",
       "      <td>7.2500</td>\n",
       "      <td>0</td>\n",
       "      <td>2</td>\n",
       "      <td>0.0</td>\n",
       "      <td>0.0</td>\n",
       "      <td>1.0</td>\n",
       "      <td>0.0</td>\n",
       "      <td>0.0</td>\n",
       "      <td>0.0</td>\n",
       "      <td>0.0</td>\n",
       "      <td>0.0</td>\n",
       "      <td>1.0</td>\n",
       "    </tr>\n",
       "    <tr>\n",
       "      <th>1</th>\n",
       "      <td>1</td>\n",
       "      <td>1</td>\n",
       "      <td>71.2833</td>\n",
       "      <td>1</td>\n",
       "      <td>0</td>\n",
       "      <td>0.0</td>\n",
       "      <td>0.0</td>\n",
       "      <td>0.0</td>\n",
       "      <td>1.0</td>\n",
       "      <td>0.0</td>\n",
       "      <td>1.0</td>\n",
       "      <td>0.0</td>\n",
       "      <td>0.0</td>\n",
       "      <td>0.0</td>\n",
       "    </tr>\n",
       "    <tr>\n",
       "      <th>2</th>\n",
       "      <td>1</td>\n",
       "      <td>3</td>\n",
       "      <td>7.9250</td>\n",
       "      <td>1</td>\n",
       "      <td>2</td>\n",
       "      <td>0.0</td>\n",
       "      <td>1.0</td>\n",
       "      <td>0.0</td>\n",
       "      <td>0.0</td>\n",
       "      <td>0.0</td>\n",
       "      <td>0.0</td>\n",
       "      <td>0.0</td>\n",
       "      <td>0.0</td>\n",
       "      <td>1.0</td>\n",
       "    </tr>\n",
       "  </tbody>\n",
       "</table>\n",
       "</div>"
      ],
      "text/plain": [
       "   Survived  Pclass  Fare_dbscan  Sex_enc  Embarked_enc   Mr  Mrs  Miss   \n",
       "0         0       3       7.2500        0             2  0.0  0.0   1.0  \\\n",
       "1         1       1      71.2833        1             0  0.0  0.0   0.0   \n",
       "2         1       3       7.9250        1             2  0.0  1.0   0.0   \n",
       "\n",
       "   Master  Other  young_adult  adult  elderly  child  \n",
       "0     0.0    0.0          0.0    0.0      0.0    1.0  \n",
       "1     1.0    0.0          1.0    0.0      0.0    0.0  \n",
       "2     0.0    0.0          0.0    0.0      0.0    1.0  "
      ]
     },
     "execution_count": 67,
     "metadata": {},
     "output_type": "execute_result"
    }
   ],
   "source": [
    "df_titanic.head(3)"
   ]
  },
  {
   "cell_type": "markdown",
   "id": "eff1ebd0",
   "metadata": {
    "id": "c8b4dc32"
   },
   "source": [
    "# Regular Expression\n",
    "\n",
    "Regex merupakan sebuah teks (string) yang mendefinisikan sebuah pola pencarian sehingga dapat membantu kita untuk melakukan matching (pencocokan), locate (pencarian), dan manipulasi teks.\n"
   ]
  },
  {
   "cell_type": "markdown",
   "id": "6b8657eb",
   "metadata": {
    "id": "6b8657eb"
   },
   "source": [
    "## RegEx Token\n",
    "\n",
    "\n",
    "__Special characters__\n",
    "\n",
    "<table>\n",
    "  <tbody><tr>\n",
    "    <td class=\"key_td\"><code>\\</code></td>\n",
    "    <td>escape special characters</td>\n",
    "  </tr>\n",
    "  <tr>\n",
    "    <td class=\"key_td\"><code>.</code></td>\n",
    "    <td>matches any character</td>\n",
    "  </tr>\n",
    "  <tr>\n",
    "    <td class=\"key_td\"><code>^</code></td>\n",
    "    <td>matches beginning of string</td>\n",
    "  </tr>\n",
    "  <tr>\n",
    "    <td class=\"key_td\"><code>$</code></td>\n",
    "    <td>matches end of string</td>\n",
    "  </tr>\n",
    "  <tr>\n",
    "    <td class=\"key_td\"><code>[5b-d]</code></td>\n",
    "    <td>matches any chars '5', 'b', 'c' or 'd'</td>\n",
    "  </tr>\n",
    "  <tr>\n",
    "    <td class=\"key_td\"><code>[^a-c6]</code></td>\n",
    "    <td>matches any char except 'a', 'b', 'c' or '6'</td>\n",
    "  </tr>\n",
    "  <tr>\n",
    "    <td class=\"key_td\"><code>R|S</code></td>\n",
    "    <td>matches either regex <code>R</code> or regex <code>S</code></td>\n",
    "  </tr>\n",
    "  <tr>\n",
    "    <td class=\"key_td\"><code>()</code></td>\n",
    "    <td>creates a capture group and indicates precedence</td>\n",
    "  </tr>\n",
    "</tbody></table>\n",
    "\n",
    "__Special sequences__\n",
    "\n",
    "<table>\n",
    "<tbody><tr>\n",
    "<td class=\"key_td\"><code>\\A</code></td>\n",
    "<td>start of string</td>\n",
    "</tr>\n",
    "<tr>\n",
    "<td class=\"key_td\"><code>\\b</code></td>\n",
    "<td>matches empty string at word boundary (between <code>\\w</code> and <code>\\W</code>)</td>\n",
    "</tr>\n",
    "<tr>\n",
    "<td class=\"key_td\"><code>\\d</code></td>\n",
    "<td>digit</td>\n",
    "</tr>\n",
    "<tr>\n",
    "<td class=\"key_td\"><code>\\s</code></td>\n",
    "<td>whitespace: <code>[ \\t\\n\\r\\f\\v]</code></td>\n",
    "</tr>\n",
    "<tr>\n",
    "<td class=\"key_td\"><code>\\w</code></td>\n",
    "<td>alphanumeric: <code>[0-9a-zA-Z_]</code></td>\n",
    "</tr>\n",
    "</tbody></table>\n",
    "\n",
    "                    \n",
    "__Quantifiers__\n",
    "\n",
    "<table>\n",
    "  <tbody><tr>\n",
    "    <td class=\"key_td\"><code>*</code></td>\n",
    "    <td>0 or more (append <code>?</code> for non-greedy)</td>\n",
    "  </tr>\n",
    "  <tr>\n",
    "    <td class=\"key_td\"><code>+</code></td>\n",
    "    <td>1 or more (append <code>?</code> for non-greedy)</td>\n",
    "  </tr>\n",
    "  <tr>\n",
    "    <td class=\"key_td\"><code>?</code></td>\n",
    "    <td>0 or 1 (append <code>?</code> for non-greedy)</td>\n",
    "  </tr>\n",
    "  <tr>\n",
    "    <td class=\"key_td\"><code>{m}</code></td>\n",
    "    <td>exactly <code>m</code>m occurrences</td>\n",
    "  </tr>\n",
    "  <tr>\n",
    "    <td class=\"key_td\"><code>{m, n}</code></td>\n",
    "    <td>from <code>m</code> to <code>n</code>. <code>m</code> defaults to 0, <code>n</code> to infinity</td>\n",
    "  </tr>\n",
    "  <tr>\n",
    "    <td class=\"key_td\"><code>{m, n}?</code></td>\n",
    "    <td>from <code>m</code> to <code>n</code>, as few as possible</td>\n",
    "  </tr>\n",
    "</tbody></table>"
   ]
  },
  {
   "cell_type": "markdown",
   "id": "eaf9bb3f",
   "metadata": {
    "id": "eaf9bb3f"
   },
   "source": [
    "## Menggunakan Library RegEx "
   ]
  },
  {
   "cell_type": "code",
   "execution_count": 68,
   "id": "c6072908",
   "metadata": {
    "ExecuteTime": {
     "end_time": "2021-10-25T02:45:53.925118Z",
     "start_time": "2021-10-25T02:45:53.910125Z"
    },
    "id": "c6072908"
   },
   "outputs": [],
   "source": [
    "# library untuk regex di python\n",
    "import re"
   ]
  },
  {
   "cell_type": "markdown",
   "id": "8faaaebf",
   "metadata": {
    "ExecuteTime": {
     "end_time": "2021-08-14T01:14:58.636643Z",
     "start_time": "2021-08-14T01:14:58.633325Z"
    },
    "id": "8faaaebf"
   },
   "source": [
    "#### Pencarian"
   ]
  },
  {
   "cell_type": "markdown",
   "id": "3b1ffcb3",
   "metadata": {
    "ExecuteTime": {
     "end_time": "2021-08-14T01:12:44.167047Z",
     "start_time": "2021-08-14T01:12:44.158316Z"
    },
    "id": "3b1ffcb3"
   },
   "source": [
    "Teks:\n",
    "\n",
    "> Bisnis.com, JAKARTA - Sejumlah saham berhasil meningkat signifikan pada pekan kedua Agustus 2021, perdagangan 9-13 Agustus 2021, di tengah pelemahan Indeks Harga Saham Gabungan (IHSG). Mengutip data Bursa Efek Indonesia (BEI), ada 10 saham yang paling melonjak sepekan. Saham PT FKS Multi Agro Tbk. (FISH) memimpin dengan peningkatan 106,62 persen menjadi Rp14.050 dari sebelumnya Rp6.800. Selanjutnya, saham PT Panca Global Kapital Tbk. (PEGE) naik 93,33 persen menuju Rp1.015 dari sebelumnya Rp525. Saham PT Capitol Nusantara Tbk. (CANI) naik 88,79 persen menuju Rp202 dari sebelumnya Rp107. (WEHA) meningkat 80,36 persen menjadi Rp202 dari sebelumnya Rp112. Saham PT Indo Komoditi Corpora Tbk. (INCF) melaju 71,05 persen menuju Rp195 pekan lalu Rp114. Saham PT Indosterling Technomedia Tbk. (TECH) juga melonjak 64,06 persen menjadi Rp5.775 dari sebelumnya Rp3.520. Perusahaan media digital, PT Arkadia Digital Media Tbk. (DIGI) sahamnya melompat 55,3 persen menuju Rp615. Sementara itu, mengutip keterangan resmi Bursa Efek Indonesia (BEI), pada pekan kedua bulan Agustus 2021, data perdagangan BEI menunjukkan bahwa rata-rata nilai transaksi harian (RNTH) mencatatkan peningkatan sebesar 3,64 persen menjadi Rp15,6 triliun dari Rp15,05 triliun pada pekan lalu. Baca Juga : BEI: Sepekan IHSG Turun 1 Persen, Transaksi Harian Naik Jadi Rp15,6 Triliun \"IHSG selama sepekan mengalami penurunan 1,03 persen atau berada pada level 6.139,49 dari posisi 6.203,43 pada pekan sebelumnya,\" papar keterangan BEI. Penurunan sebesar 1,08 persen terjadi pada nilai kapitalisasi pasar Bursa selama sepekan, menjadi sebesar Rp7.400,66 triliun dari Rp7.481,27 triliun dari sepekan yang lalu.\n",
    "\n",
    "Link : [Sumber Teks](https://market.bisnis.com/read/20210814/7/1429669/saham-saham-paling-melesat-sepekan-ada-yang-naik-106-persen.)"
   ]
  },
  {
   "cell_type": "code",
   "execution_count": 69,
   "id": "2149ae4a",
   "metadata": {
    "ExecuteTime": {
     "end_time": "2021-10-25T02:45:53.941090Z",
     "start_time": "2021-10-25T02:45:53.926082Z"
    },
    "id": "2149ae4a",
    "outputId": "bc9c26ad-52d4-4f3a-a314-ed0a1a399e41"
   },
   "outputs": [
    {
     "data": {
      "text/plain": [
       "['JAKA',\n",
       " 'IHSG',\n",
       " 'FISH',\n",
       " 'PEGE',\n",
       " 'CANI',\n",
       " 'WEHA',\n",
       " 'INCF',\n",
       " 'TECH',\n",
       " 'DIGI',\n",
       " 'RNTH',\n",
       " 'IHSG',\n",
       " 'IHSG']"
      ]
     },
     "execution_count": 69,
     "metadata": {},
     "output_type": "execute_result"
    }
   ],
   "source": [
    "import requests\n",
    "url = 'https://raw.githubusercontent.com/...'\n",
    "teks = requests.get('https://raw.githubusercontent.com/mofdac/-materi-das/main/04.%20Data%20Preparation/dataset/berita.txt').text\n",
    "\n",
    "# Mencari semua kode perusahaan\n",
    "re.findall(r\"[A-Z]{4}\",teks) "
   ]
  },
  {
   "cell_type": "code",
   "execution_count": 70,
   "id": "7439896b",
   "metadata": {
    "ExecuteTime": {
     "end_time": "2021-10-25T02:45:53.957032Z",
     "start_time": "2021-10-25T02:45:53.942040Z"
    },
    "id": "7439896b",
    "outputId": "653c7847-2731-42c8-c4dc-94bb14dfb6ac"
   },
   "outputs": [
    {
     "data": {
      "text/plain": [
       "['PT FKS Multi Agro Tbk.',\n",
       " 'PT Panca Global Kapital Tbk.',\n",
       " 'PT Capitol Nusantara Tbk.',\n",
       " 'PT Indo Komoditi Corpora Tbk.',\n",
       " 'PT Indosterling Technomedia Tbk.',\n",
       " 'PT Arkadia Digital Media Tbk.']"
      ]
     },
     "execution_count": 70,
     "metadata": {},
     "output_type": "execute_result"
    }
   ],
   "source": [
    "# Mencari semua nama Perusahaan \n",
    "re.findall(r\"PT.*?Tbk\\.\",teks)"
   ]
  },
  {
   "cell_type": "code",
   "execution_count": 71,
   "id": "7212276c",
   "metadata": {
    "ExecuteTime": {
     "end_time": "2021-10-25T02:45:53.972991Z",
     "start_time": "2021-10-25T02:45:53.957996Z"
    },
    "id": "7212276c",
    "outputId": "bf353b48-c4c9-40c2-8f5b-b52fd757af89"
   },
   "outputs": [
    {
     "data": {
      "text/plain": [
       "['Rp14.050',\n",
       " 'Rp6.800.',\n",
       " 'Rp1.015',\n",
       " 'Rp525.',\n",
       " 'Rp202',\n",
       " 'Rp107.',\n",
       " 'Rp202',\n",
       " 'Rp112.',\n",
       " 'Rp195',\n",
       " 'Rp114.',\n",
       " 'Rp5.775',\n",
       " 'Rp3.520.',\n",
       " 'Rp615.',\n",
       " 'Rp15,6',\n",
       " 'Rp15,05',\n",
       " 'Rp15,6',\n",
       " 'Rp7.400,66',\n",
       " 'Rp7.481,27']"
      ]
     },
     "execution_count": 71,
     "metadata": {},
     "output_type": "execute_result"
    }
   ],
   "source": [
    "# Mencari semua rupiah\n",
    "re.findall(r\"(Rp.*?)[\\s]\",teks)"
   ]
  },
  {
   "cell_type": "markdown",
   "id": "efe7076e",
   "metadata": {
    "ExecuteTime": {
     "end_time": "2021-08-14T01:18:13.698455Z",
     "start_time": "2021-08-14T01:18:13.692136Z"
    },
    "id": "efe7076e"
   },
   "source": [
    "#### Pencocokan"
   ]
  },
  {
   "cell_type": "code",
   "execution_count": 72,
   "id": "ec8969f3",
   "metadata": {
    "ExecuteTime": {
     "end_time": "2021-10-25T02:45:53.988948Z",
     "start_time": "2021-10-25T02:45:53.973986Z"
    },
    "id": "ec8969f3",
    "outputId": "606f272a-e4b2-40ea-ce36-f6642fbcbd89"
   },
   "outputs": [
    {
     "name": "stdout",
     "output_type": "stream",
     "text": [
      "Oke\n"
     ]
    }
   ],
   "source": [
    "# Melakukan pencocokan pola\n",
    "# Pola satu di tes padd email\n",
    "# JIka sesuai akan di print 'Oke'\n",
    "test = re.match(r'[a-zA-Z].*@gmail\\.go\\.id','gede86yudi@gmail.go.id')\n",
    "\n",
    "if test:\n",
    "    print('Oke')\n",
    "else:\n",
    "    print('Salah')"
   ]
  },
  {
   "cell_type": "markdown",
   "id": "e545659c",
   "metadata": {
    "ExecuteTime": {
     "end_time": "2021-08-14T01:44:15.344847Z",
     "start_time": "2021-08-14T01:44:15.342194Z"
    },
    "id": "e545659c"
   },
   "source": [
    "#### Replace/Substitusi"
   ]
  },
  {
   "cell_type": "code",
   "execution_count": 73,
   "id": "a84c9eb0",
   "metadata": {
    "ExecuteTime": {
     "end_time": "2021-10-25T02:45:54.004904Z",
     "start_time": "2021-10-25T02:45:53.989912Z"
    },
    "id": "a84c9eb0",
    "outputId": "1a4faa8e-01cd-4e12-9b8b-e1f28b006bfb"
   },
   "outputs": [
    {
     "data": {
      "text/plain": [
       "'Bisnis.com, JAKARTA - Sejumlah saham berhasil meningkat signifikan pada pekan kedua Agustus 2021, perdagangan 9-13 Agustus 2021, di tengah pelemahan Indeks Harga Saham Gabungan (IHSG). Mengutip data Bursa Efek Indonesia (BEI), ada 10 saham yang paling melonjak sepekan. Saham PT FKS Multi Agro Tbk. (FISH) memimpin dengan peningkatan 106,62 % menjadi Rp14.050 dari sebelumnya Rp6.800. Selanjutnya, saham PT Panca Global Kapital Tbk. (PEGE) naik 93,33 % menuju Rp1.015 dari sebelumnya Rp525. Saham PT Capitol Nusantara Tbk. (CANI) naik 88,79 % menuju Rp202 dari sebelumnya Rp107. (WEHA) meningkat 80,36 % menjadi Rp202 dari sebelumnya Rp112. Saham PT Indo Komoditi Corpora Tbk. (INCF) melaju 71,05 % menuju Rp195 pekan lalu Rp114. Saham PT Indosterling Technomedia Tbk. (TECH) juga melonjak 64,06 % menjadi Rp5.775 dari sebelumnya Rp3.520. Perusahaan media digital, PT Arkadia Digital Media Tbk. (DIGI) sahamnya melompat 55,3 % menuju Rp615. Sementara itu, mengutip keterangan resmi Bursa Efek Indonesia (BEI), pada pekan kedua bulan Agustus 2021, data perdagangan BEI menunjukkan bahwa rata-rata nilai transaksi harian (RNTH) mencatatkan peningkatan sebesar 3,64 % menjadi Rp15,6 triliun dari Rp15,05 triliun pada pekan lalu. Baca Juga : BEI: Sepekan IHSG Turun 1 Persen, Transaksi Harian Naik Jadi Rp15,6 Triliun \"IHSG selama sepekan mengalami penurunan 1,03 % atau berada pada level 6.139,49 dari posisi 6.203,43 pada pekan sebelumnya,\" papar keterangan BEI. Penurunan sebesar 1,08 % terjadi pada nilai kapitalisasi pasar Bursa selama sepekan, menjadi sebesar Rp7.400,66 triliun dari Rp7.481,27 triliun dari sepekan yang lalu.\\n\\nhttps://market.bisnis.com/read/20210814/7/1429669/saham-saham-paling-melesat-sepekan-ada-yang-naik-106-persen.\\n'"
      ]
     },
     "execution_count": 73,
     "metadata": {},
     "output_type": "execute_result"
    }
   ],
   "source": [
    "# Melakukan substitusi\n",
    "# penulisan persen diganti %\n",
    "re.sub(r'(\\d)\\spersen','\\\\1 %',teks)"
   ]
  },
  {
   "cell_type": "code",
   "execution_count": 74,
   "id": "aa914685",
   "metadata": {
    "ExecuteTime": {
     "end_time": "2021-10-25T02:45:54.020868Z",
     "start_time": "2021-10-25T02:45:54.005869Z"
    },
    "id": "aa914685",
    "outputId": "a04e0606-7f7c-44ee-80bf-ee70420b9594",
    "scrolled": false
   },
   "outputs": [
    {
     "data": {
      "text/plain": [
       "'Bisnis.com, JAKARTA - Sejumlah saham berhasil meningkat signifikan pada pekan kedua Agustus 2021, perdagangan 9-13 Agustus 2021, di tengah pelemahan Indeks Harga Saham Gabungan (IHSG). Mengutip data Bursa Efek Indonesia (BEI), ada 10 saham yang paling melonjak sepekan. Saham PT FKS Multi Agro Tbk. (FISH) memimpin dengan peningkatan 106,62 persen menjadi IDR14.050 dari sebelumnya IDR6.800. Selanjutnya, saham PT Panca Global Kapital Tbk. (PEGE) naik 93,33 persen menuju IDR1.015 dari sebelumnya IDR525. Saham PT Capitol Nusantara Tbk. (CANI) naik 88,79 persen menuju IDR202 dari sebelumnya IDR107. (WEHA) meningkat 80,36 persen menjadi IDR202 dari sebelumnya IDR112. Saham PT Indo Komoditi Corpora Tbk. (INCF) melaju 71,05 persen menuju IDR195 pekan lalu IDR114. Saham PT Indosterling Technomedia Tbk. (TECH) juga melonjak 64,06 persen menjadi IDR5.775 dari sebelumnya IDR3.520. Perusahaan media digital, PT Arkadia Digital Media Tbk. (DIGI) sahamnya melompat 55,3 persen menuju IDR615. Sementara itu, mengutip keterangan resmi Bursa Efek Indonesia (BEI), pada pekan kedua bulan Agustus 2021, data perdagangan BEI menunjukkan bahwa rata-rata nilai transaksi harian (RNTH) mencatatkan peningkatan sebesar 3,64 persen menjadi IDR15,6 triliun dari IDR15,05 triliun pada pekan lalu. Baca Juga : BEI: Sepekan IHSG Turun 1 Persen, Transaksi Harian Naik Jadi IDR15,6 Triliun \"IHSG selama sepekan mengalami penurunan 1,03 persen atau berada pada level 6.139,49 dari posisi 6.203,43 pada pekan sebelumnya,\" papar keterangan BEI. Penurunan sebesar 1,08 persen terjadi pada nilai kapitalisasi pasar Bursa selama sepekan, menjadi sebesar IDR7.400,66 triliun dari IDR7.481,27 triliun dari sepekan yang lalu.\\n\\nhttps://market.bisnis.com/read/20210814/7/1429669/saham-saham-paling-melesat-sepekan-ada-yang-naik-106-persen.\\n'"
      ]
     },
     "execution_count": 74,
     "metadata": {},
     "output_type": "execute_result"
    }
   ],
   "source": [
    "# Melakukan substitusi\n",
    "# penulisan Rp diganti IDR\n",
    "re.sub(r'Rp(\\d)','IDR\\\\1',teks)"
   ]
  },
  {
   "cell_type": "markdown",
   "id": "391718b1",
   "metadata": {
    "id": "391718b1"
   },
   "source": [
    "## Mengaplikasikan RegEx di Pandas"
   ]
  },
  {
   "cell_type": "markdown",
   "id": "add76bdc",
   "metadata": {
    "id": "add76bdc"
   },
   "source": [
    "#### Pencocokan"
   ]
  },
  {
   "cell_type": "code",
   "execution_count": 75,
   "id": "0c6e4a55",
   "metadata": {},
   "outputs": [],
   "source": [
    "# Load file satu menjadi dataset\n",
    "# Diberi nama df_case_bumd2017\n",
    "\n",
    "df_case_bumd2017 = pd.read_csv('https://raw.githubusercontent.com/mofdac/-materi-das/main/04.%20Data%20Preparation/dataset/bumd2017.csv')"
   ]
  },
  {
   "cell_type": "code",
   "execution_count": 76,
   "id": "a180f197",
   "metadata": {
    "ExecuteTime": {
     "end_time": "2021-10-25T02:45:54.036834Z",
     "start_time": "2021-10-25T02:45:54.021826Z"
    },
    "id": "a180f197",
    "outputId": "2412ef7c-45aa-4c3b-e223-e9e507e43b6b"
   },
   "outputs": [
    {
     "data": {
      "text/html": [
       "<div>\n",
       "<style scoped>\n",
       "    .dataframe tbody tr th:only-of-type {\n",
       "        vertical-align: middle;\n",
       "    }\n",
       "\n",
       "    .dataframe tbody tr th {\n",
       "        vertical-align: top;\n",
       "    }\n",
       "\n",
       "    .dataframe thead th {\n",
       "        text-align: right;\n",
       "    }\n",
       "</style>\n",
       "<table border=\"1\" class=\"dataframe\">\n",
       "  <thead>\n",
       "    <tr style=\"text-align: right;\">\n",
       "      <th></th>\n",
       "      <th>tahun</th>\n",
       "      <th>nama_bumd</th>\n",
       "      <th>nama_akun</th>\n",
       "      <th>nilai</th>\n",
       "      <th>keterangan</th>\n",
       "    </tr>\n",
       "  </thead>\n",
       "  <tbody>\n",
       "    <tr>\n",
       "      <th>0</th>\n",
       "      <td>2017</td>\n",
       "      <td>PD AM Jaya</td>\n",
       "      <td>Aset</td>\n",
       "      <td>1360142767</td>\n",
       "      <td>NaN</td>\n",
       "    </tr>\n",
       "    <tr>\n",
       "      <th>1</th>\n",
       "      <td>2017</td>\n",
       "      <td>PD AM Jaya</td>\n",
       "      <td>Ekuitas</td>\n",
       "      <td>-509895627</td>\n",
       "      <td>NaN</td>\n",
       "    </tr>\n",
       "    <tr>\n",
       "      <th>2</th>\n",
       "      <td>2017</td>\n",
       "      <td>PD AM Jaya</td>\n",
       "      <td>Pendapatan Usaha</td>\n",
       "      <td>2796561019</td>\n",
       "      <td>NaN</td>\n",
       "    </tr>\n",
       "    <tr>\n",
       "      <th>3</th>\n",
       "      <td>2017</td>\n",
       "      <td>PD AM Jaya</td>\n",
       "      <td>Laba Usaha</td>\n",
       "      <td>122739741</td>\n",
       "      <td>NaN</td>\n",
       "    </tr>\n",
       "    <tr>\n",
       "      <th>4</th>\n",
       "      <td>2017</td>\n",
       "      <td>PD AM Jaya</td>\n",
       "      <td>Laba Bersih</td>\n",
       "      <td>131375112</td>\n",
       "      <td>NaN</td>\n",
       "    </tr>\n",
       "    <tr>\n",
       "      <th>5</th>\n",
       "      <td>2017</td>\n",
       "      <td>PD Dharma Jaya</td>\n",
       "      <td>Aset</td>\n",
       "      <td>-</td>\n",
       "      <td>Data belum tersedia</td>\n",
       "    </tr>\n",
       "    <tr>\n",
       "      <th>6</th>\n",
       "      <td>2017</td>\n",
       "      <td>PD Dharma Jaya</td>\n",
       "      <td>Ekuitas</td>\n",
       "      <td>-</td>\n",
       "      <td>Data belum tersedia</td>\n",
       "    </tr>\n",
       "    <tr>\n",
       "      <th>7</th>\n",
       "      <td>2017</td>\n",
       "      <td>PD Dharma Jaya</td>\n",
       "      <td>Pendapatan Usaha</td>\n",
       "      <td>-</td>\n",
       "      <td>Data belum tersedia</td>\n",
       "    </tr>\n",
       "    <tr>\n",
       "      <th>8</th>\n",
       "      <td>2017</td>\n",
       "      <td>PD Dharma Jaya</td>\n",
       "      <td>Laba Usaha</td>\n",
       "      <td>-</td>\n",
       "      <td>Data belum tersedia</td>\n",
       "    </tr>\n",
       "    <tr>\n",
       "      <th>9</th>\n",
       "      <td>2017</td>\n",
       "      <td>PD Dharma Jaya</td>\n",
       "      <td>Laba Bersih</td>\n",
       "      <td>-</td>\n",
       "      <td>Data belum tersedia</td>\n",
       "    </tr>\n",
       "    <tr>\n",
       "      <th>10</th>\n",
       "      <td>2017</td>\n",
       "      <td>PD Pasar Jaya</td>\n",
       "      <td>Aset</td>\n",
       "      <td>4383249995</td>\n",
       "      <td>NaN</td>\n",
       "    </tr>\n",
       "    <tr>\n",
       "      <th>11</th>\n",
       "      <td>2017</td>\n",
       "      <td>PD Pasar Jaya</td>\n",
       "      <td>Ekuitas</td>\n",
       "      <td>1165209031</td>\n",
       "      <td>NaN</td>\n",
       "    </tr>\n",
       "    <tr>\n",
       "      <th>12</th>\n",
       "      <td>2017</td>\n",
       "      <td>PD Pasar Jaya</td>\n",
       "      <td>Pendapatan Usaha</td>\n",
       "      <td>739793275</td>\n",
       "      <td>NaN</td>\n",
       "    </tr>\n",
       "    <tr>\n",
       "      <th>13</th>\n",
       "      <td>2017</td>\n",
       "      <td>PD Pasar Jaya</td>\n",
       "      <td>Laba Usaha</td>\n",
       "      <td>73290367</td>\n",
       "      <td>NaN</td>\n",
       "    </tr>\n",
       "    <tr>\n",
       "      <th>14</th>\n",
       "      <td>2017</td>\n",
       "      <td>PD Pasar Jaya</td>\n",
       "      <td>Laba Bersih</td>\n",
       "      <td>93518089</td>\n",
       "      <td>NaN</td>\n",
       "    </tr>\n",
       "    <tr>\n",
       "      <th>15</th>\n",
       "      <td>2017</td>\n",
       "      <td>PD Pembangunan Sarana Jaya</td>\n",
       "      <td>Aset</td>\n",
       "      <td>1455160903</td>\n",
       "      <td>NaN</td>\n",
       "    </tr>\n",
       "    <tr>\n",
       "      <th>16</th>\n",
       "      <td>2017</td>\n",
       "      <td>PD Pembangunan Sarana Jaya</td>\n",
       "      <td>Ekuitas</td>\n",
       "      <td>1111628669</td>\n",
       "      <td>NaN</td>\n",
       "    </tr>\n",
       "    <tr>\n",
       "      <th>17</th>\n",
       "      <td>2017</td>\n",
       "      <td>PD Pembangunan Sarana Jaya</td>\n",
       "      <td>Pendapatan Usaha</td>\n",
       "      <td>306044506</td>\n",
       "      <td>NaN</td>\n",
       "    </tr>\n",
       "    <tr>\n",
       "      <th>18</th>\n",
       "      <td>2017</td>\n",
       "      <td>PD Pembangunan Sarana Jaya</td>\n",
       "      <td>Laba Usaha</td>\n",
       "      <td>123217240</td>\n",
       "      <td>NaN</td>\n",
       "    </tr>\n",
       "    <tr>\n",
       "      <th>19</th>\n",
       "      <td>2017</td>\n",
       "      <td>PD Pembangunan Sarana Jaya</td>\n",
       "      <td>Laba Bersih</td>\n",
       "      <td>119436680</td>\n",
       "      <td>NaN</td>\n",
       "    </tr>\n",
       "    <tr>\n",
       "      <th>20</th>\n",
       "      <td>2017</td>\n",
       "      <td>PD PAL Jaya</td>\n",
       "      <td>Aset</td>\n",
       "      <td>716222145</td>\n",
       "      <td>NaN</td>\n",
       "    </tr>\n",
       "    <tr>\n",
       "      <th>21</th>\n",
       "      <td>2017</td>\n",
       "      <td>PD PAL Jaya</td>\n",
       "      <td>Ekuitas</td>\n",
       "      <td>683424757</td>\n",
       "      <td>NaN</td>\n",
       "    </tr>\n",
       "    <tr>\n",
       "      <th>22</th>\n",
       "      <td>2017</td>\n",
       "      <td>PD PAL Jaya</td>\n",
       "      <td>Pendapatan Usaha</td>\n",
       "      <td>81382373</td>\n",
       "      <td>NaN</td>\n",
       "    </tr>\n",
       "    <tr>\n",
       "      <th>23</th>\n",
       "      <td>2017</td>\n",
       "      <td>PD PAL Jaya</td>\n",
       "      <td>Laba Usaha</td>\n",
       "      <td>27002465</td>\n",
       "      <td>NaN</td>\n",
       "    </tr>\n",
       "    <tr>\n",
       "      <th>24</th>\n",
       "      <td>2017</td>\n",
       "      <td>PD PAL Jaya</td>\n",
       "      <td>Laba Bersih</td>\n",
       "      <td>39174547</td>\n",
       "      <td>NaN</td>\n",
       "    </tr>\n",
       "  </tbody>\n",
       "</table>\n",
       "</div>"
      ],
      "text/plain": [
       "    tahun                   nama_bumd         nama_akun       nilai   \n",
       "0    2017                  PD AM Jaya              Aset  1360142767  \\\n",
       "1    2017                  PD AM Jaya           Ekuitas  -509895627   \n",
       "2    2017                  PD AM Jaya  Pendapatan Usaha  2796561019   \n",
       "3    2017                  PD AM Jaya        Laba Usaha   122739741   \n",
       "4    2017                  PD AM Jaya       Laba Bersih   131375112   \n",
       "5    2017              PD Dharma Jaya              Aset           -   \n",
       "6    2017              PD Dharma Jaya           Ekuitas           -   \n",
       "7    2017              PD Dharma Jaya  Pendapatan Usaha           -   \n",
       "8    2017              PD Dharma Jaya        Laba Usaha           -   \n",
       "9    2017              PD Dharma Jaya       Laba Bersih           -   \n",
       "10   2017               PD Pasar Jaya              Aset  4383249995   \n",
       "11   2017               PD Pasar Jaya           Ekuitas  1165209031   \n",
       "12   2017               PD Pasar Jaya  Pendapatan Usaha   739793275   \n",
       "13   2017               PD Pasar Jaya        Laba Usaha    73290367   \n",
       "14   2017               PD Pasar Jaya       Laba Bersih    93518089   \n",
       "15   2017  PD Pembangunan Sarana Jaya              Aset  1455160903   \n",
       "16   2017  PD Pembangunan Sarana Jaya           Ekuitas  1111628669   \n",
       "17   2017  PD Pembangunan Sarana Jaya  Pendapatan Usaha   306044506   \n",
       "18   2017  PD Pembangunan Sarana Jaya        Laba Usaha   123217240   \n",
       "19   2017  PD Pembangunan Sarana Jaya       Laba Bersih   119436680   \n",
       "20   2017                 PD PAL Jaya              Aset   716222145   \n",
       "21   2017                 PD PAL Jaya           Ekuitas   683424757   \n",
       "22   2017                 PD PAL Jaya  Pendapatan Usaha    81382373   \n",
       "23   2017                 PD PAL Jaya        Laba Usaha    27002465   \n",
       "24   2017                 PD PAL Jaya       Laba Bersih    39174547   \n",
       "\n",
       "             keterangan  \n",
       "0                   NaN  \n",
       "1                   NaN  \n",
       "2                   NaN  \n",
       "3                   NaN  \n",
       "4                   NaN  \n",
       "5   Data belum tersedia  \n",
       "6   Data belum tersedia  \n",
       "7   Data belum tersedia  \n",
       "8   Data belum tersedia  \n",
       "9   Data belum tersedia  \n",
       "10                  NaN  \n",
       "11                  NaN  \n",
       "12                  NaN  \n",
       "13                  NaN  \n",
       "14                  NaN  \n",
       "15                  NaN  \n",
       "16                  NaN  \n",
       "17                  NaN  \n",
       "18                  NaN  \n",
       "19                  NaN  \n",
       "20                  NaN  \n",
       "21                  NaN  \n",
       "22                  NaN  \n",
       "23                  NaN  \n",
       "24                  NaN  "
      ]
     },
     "execution_count": 76,
     "metadata": {},
     "output_type": "execute_result"
    }
   ],
   "source": [
    "#  matching\n",
    "df_case_bumd2017[df_case_bumd2017['nama_bumd'].str.match(r\"^PD.*?Jaya\")]"
   ]
  },
  {
   "cell_type": "markdown",
   "id": "44a50b98",
   "metadata": {
    "id": "44a50b98"
   },
   "source": [
    "#### Ekstraksi"
   ]
  },
  {
   "cell_type": "code",
   "execution_count": 77,
   "id": "c9706711",
   "metadata": {
    "ExecuteTime": {
     "end_time": "2021-10-25T02:45:54.052744Z",
     "start_time": "2021-10-25T02:45:54.037783Z"
    },
    "id": "c9706711",
    "outputId": "8390ccf4-ffba-4938-9182-da475ce45219"
   },
   "outputs": [
    {
     "data": {
      "text/html": [
       "<div>\n",
       "<style scoped>\n",
       "    .dataframe tbody tr th:only-of-type {\n",
       "        vertical-align: middle;\n",
       "    }\n",
       "\n",
       "    .dataframe tbody tr th {\n",
       "        vertical-align: top;\n",
       "    }\n",
       "\n",
       "    .dataframe thead th {\n",
       "        text-align: right;\n",
       "    }\n",
       "</style>\n",
       "<table border=\"1\" class=\"dataframe\">\n",
       "  <thead>\n",
       "    <tr style=\"text-align: right;\">\n",
       "      <th></th>\n",
       "      <th>0</th>\n",
       "    </tr>\n",
       "  </thead>\n",
       "  <tbody>\n",
       "    <tr>\n",
       "      <th>0</th>\n",
       "      <td>PD AM Jaya</td>\n",
       "    </tr>\n",
       "    <tr>\n",
       "      <th>1</th>\n",
       "      <td>PD AM Jaya</td>\n",
       "    </tr>\n",
       "    <tr>\n",
       "      <th>2</th>\n",
       "      <td>PD AM Jaya</td>\n",
       "    </tr>\n",
       "    <tr>\n",
       "      <th>3</th>\n",
       "      <td>PD AM Jaya</td>\n",
       "    </tr>\n",
       "    <tr>\n",
       "      <th>4</th>\n",
       "      <td>PD AM Jaya</td>\n",
       "    </tr>\n",
       "  </tbody>\n",
       "</table>\n",
       "</div>"
      ],
      "text/plain": [
       "            0\n",
       "0  PD AM Jaya\n",
       "1  PD AM Jaya\n",
       "2  PD AM Jaya\n",
       "3  PD AM Jaya\n",
       "4  PD AM Jaya"
      ]
     },
     "execution_count": 77,
     "metadata": {},
     "output_type": "execute_result"
    }
   ],
   "source": [
    "#  extract\n",
    "df_case_bumd2017.nama_bumd.str.extract(r\"^(PD.*?Jaya)\").head()"
   ]
  },
  {
   "cell_type": "markdown",
   "id": "f3485a1f",
   "metadata": {
    "id": "f3485a1f"
   },
   "source": [
    "#### Replace"
   ]
  },
  {
   "cell_type": "code",
   "execution_count": 78,
   "id": "3d3915c9",
   "metadata": {
    "ExecuteTime": {
     "end_time": "2021-10-25T02:45:54.068727Z",
     "start_time": "2021-10-25T02:45:54.053741Z"
    },
    "id": "3d3915c9",
    "outputId": "75c3f672-dd2b-450e-b222-9887ddf69816"
   },
   "outputs": [
    {
     "data": {
      "text/plain": [
       "11                              Pasar Jaya\n",
       "73     Kawasan Berikat Nusantara (Persero)\n",
       "44                      Jakarta Tourisindo\n",
       "Name: nama_bumd, dtype: object"
      ]
     },
     "execution_count": 78,
     "metadata": {},
     "output_type": "execute_result"
    }
   ],
   "source": [
    "# Mengganti PT atau PD dengan spasi kosong\n",
    "df_case_bumd2017['nama_bumd'].str.replace(r\"^(PT|PD)\",r\"\",regex=True).sample(3)"
   ]
  },
  {
   "cell_type": "code",
   "execution_count": 79,
   "id": "6bd7cb53",
   "metadata": {
    "ExecuteTime": {
     "end_time": "2021-10-25T02:45:54.084705Z",
     "start_time": "2021-10-25T02:45:54.069698Z"
    },
    "id": "6bd7cb53",
    "outputId": "0b270075-41ed-466e-c815-cf16a4893fa0"
   },
   "outputs": [
    {
     "data": {
      "text/plain": [
       "29     Food Station Tjipinang Jaya\n",
       "33             Jakarta Propertindo\n",
       "67                Pembangunan Jaya\n",
       "Name: nama_bumd, dtype: object"
      ]
     },
     "execution_count": 79,
     "metadata": {},
     "output_type": "execute_result"
    }
   ],
   "source": [
    "df_case_bumd2017.nama_bumd.apply(lambda x: re.sub(\"^(PT|PD)\", \"\", x)).sample(3)"
   ]
  },
  {
   "cell_type": "code",
   "execution_count": null,
   "id": "9129d14d",
   "metadata": {},
   "outputs": [],
   "source": []
  }
 ],
 "metadata": {
  "kernelspec": {
   "display_name": "Python 3 (ipykernel)",
   "language": "python",
   "name": "python3"
  },
  "language_info": {
   "codemirror_mode": {
    "name": "ipython",
    "version": 3
   },
   "file_extension": ".py",
   "mimetype": "text/x-python",
   "name": "python",
   "nbconvert_exporter": "python",
   "pygments_lexer": "ipython3",
   "version": "3.9.7"
  }
 },
 "nbformat": 4,
 "nbformat_minor": 5
}
