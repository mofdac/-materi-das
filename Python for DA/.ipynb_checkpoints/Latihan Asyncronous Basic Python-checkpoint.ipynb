{
 "cells": [
  {
   "cell_type": "markdown",
   "id": "3d3d3d9c",
   "metadata": {},
   "source": [
    "=====================================================\n",
    "# TUGAS UNTUK ASYNCHRONOUS\n",
    "=====================================================\n",
    "\n",
    "## Latihan 1:\n",
    "Buatlah program yang meminta user untuk memasukkan 4 buah string: \"namadepan\", \"namabelakang\", \"hobi\", \"asal\"\n",
    "\n",
    "Susunlah input tersebut menjadi sebuah outpur kalimat menjadi seperti ini :\n",
    "\"Halo nama saya (namadepan) (namabelakang), saya berasal dari (asal) dan hobby saya adalah (hobi)\"\n",
    "\n",
    "Hint: Gunakan metode-metode yang sudah dipelajari dan amati perbedaannya."
   ]
  },
  {
   "cell_type": "code",
   "execution_count": null,
   "id": "24bb9309",
   "metadata": {},
   "outputs": [],
   "source": []
  },
  {
   "cell_type": "markdown",
   "id": "263ef170",
   "metadata": {},
   "source": [
    "## Latihan 2:\n",
    "\n",
    "Skala Richter \n",
    "Magnitude Descriptor\n",
    "Less than 2.0 Micro\n",
    "2.0 to less than 3.0 Very Minor\n",
    "3.0 to less than 4.0 Minor\n",
    "4.0 to less than 5.0 Light\n",
    "5.0 to less than 6.0 Moderate\n",
    "6.0 to less than 7.0 Strong\n",
    "7.0 to less than 8.0 Major\n",
    "8.0 to less than 10.0 Great\n",
    "10.0 or more Meteoric\n",
    "\n",
    "* Buatlah program yang membaca besarnya magnitude dari user dan memberikan keluaran terkait grade dari kekuatan gempa.\n",
    "* Contoh keluaran :\n",
    "  **'Gempa berskala 5,5 berkategori Moderat'**  "
   ]
  },
  {
   "cell_type": "code",
   "execution_count": null,
   "id": "ed7ae978",
   "metadata": {},
   "outputs": [],
   "source": []
  },
  {
   "cell_type": "markdown",
   "id": "7ffff849",
   "metadata": {},
   "source": [
    "## Latihan 3:\n",
    "* Buatlah script yang menerima input berupa lima digit angka dari user.</br>\n",
    "* Pisahkan angka menjadi digit individual. Print secara terpisah dengan separator berupa tiga spasi\n",
    "* Contoh: Jika user memasukkan 42339, maka hasil print</br> \n",
    "4   2   3   3   9</br>\n",
    "* Asumsikan bahwa user selalu menginput angka dalam panjang yang tepat. \n",
    "* Use both the floor division and remainder operations to “pick off ” each digit."
   ]
  },
  {
   "cell_type": "code",
   "execution_count": null,
   "id": "64806f4b",
   "metadata": {},
   "outputs": [],
   "source": []
  },
  {
   "cell_type": "markdown",
   "id": "4515eaa8",
   "metadata": {},
   "source": [
    "## Latihan 4 :\n",
    "Konversi derajat celcius ke fahrenheit diatur oleh persamaan berikut :\n",
    "$F = (\\frac{9}{5}) * C + 32$\n",
    "\n",
    "Gunakan fungsi ini untuk memprint suatu daftar konversi temperatur dari celcius untuk range 0–100.\n",
    "Gunakan presisi 1 digit."
   ]
  },
  {
   "cell_type": "code",
   "execution_count": 26,
   "id": "e48ec4ff",
   "metadata": {},
   "outputs": [],
   "source": [
    "suhu = [\n",
    "    9, 15, 82, 38, 89, 47, 51, 36, 83, 38,\n",
    "    74, 47, 61, 22, 26, 81, 24, 13, 79, 36,\n",
    "    63, 58, 29, 93, 75, 94, 14, 66, 3, 15,\n",
    "    20, 62, 27, 59, 29, 65, 94, 68, 21, 100\n",
    "]"
   ]
  },
  {
   "cell_type": "markdown",
   "id": "9bf96ef0",
   "metadata": {},
   "source": [
    "## Latihan 5 :\n",
    "Pak Joni memiliki rencana untuk membeli sebuah rumah, tetapi sayangnya dia tidak punya banyak uang. Dia berencana untuk membeli tetapi dengan cicilan ke bank saja. Namun, sayangnya lagi-lagi untuk membayar DP pinjaman bankpun ia tidak punya. Oleh karena itu, dia berencana untuk menabung setiap bulan agar bisa membayar DP. Tugas anda : tentukan berapa lama dia harus menabung agar dia bisa membayar cicilan rumah tersebut.\n",
    "1.\tMintalah pak joni untuk membuat harga perkiraan rumah yang dia inginkan simpan pada variable, total_cost.\n",
    "2.\tBiasanya untuk DP rumah, bank akan mensyaratkan pembayaran DP sebesar 25%, simpan pada variabel portion_down_payment = 0.25.\n",
    "3.\tTanyakan pak joni berapa uang yang sudah dia punya selama ini yang dicadangkan untuk membayar DP, simpan pada variable current_savings nilai defaultnya boleh anda set 0. \n",
    "4.\tAsumsikan bahwa pak joni menginvestasikan tabungan dengan bijak, sehingga memperoleh bunga 5 % per tahun. \n",
    "5.\tSimpan gaji tahunan pak joni dalam variabel annual_salary.\n",
    "6.\tTanyakan pak Joni persen dari gaji pak joni yang dia sisishkan untuk menabung simpan pada variable portion_saved. Variabel ini berbentuk decimal (contoh 0.1 untuk persentase 10%). \n",
    "7.\tPada akhir tiap bulan bulan, tabungan anda akan meningkat sesuai dengan besarnya investasi  ditambah dengan porsi gaji yang ditabungkan (gaji tahunan/ 12)."
   ]
  },
  {
   "cell_type": "code",
   "execution_count": null,
   "id": "4f0208b7",
   "metadata": {},
   "outputs": [],
   "source": []
  },
  {
   "cell_type": "markdown",
   "id": "42d1ceff",
   "metadata": {},
   "source": [
    "## Latihan 6:\n",
    "\n",
    "Berikut adalah potongan opini dari kompas 14 Juni 2022 :</br>\n",
    "\"Big data yang menjadi polemik dua bulan lalu menunjukkan bahwa big data lebih banyak dibahas aspek politiknya, seperti dalam wacana penundaan jadwal pemilu, bukan aspek ekonominya. Padahal kedua aspek ini sama berguna bagi masyarakat yang menjadi konsumen atau juga merangkap produsen potensial, bukan hanya target untuk kepentingan politik.\"\n",
    "\n",
    "Pada potongan di atas terdapat beberapa kata stopwords, seperti yang ada di list stopwords.</br>\n",
    "Tugas anda adalah untuk membuat suatu list baru, yang berisi seluruh kata tanpa ada stopword."
   ]
  },
  {
   "cell_type": "code",
   "execution_count": 2,
   "id": "4486ca6b",
   "metadata": {},
   "outputs": [],
   "source": [
    "stopwords = ['yang', 'lalu', 'bahwa', 'by', 'lebih', 'seperti', 'bukan', 'ini', 'bagi', 'atau', \n",
    "             \"hanya\", \"untuk\", \"juga\"]"
   ]
  },
  {
   "cell_type": "markdown",
   "id": "9ccb7357",
   "metadata": {},
   "source": [
    "## Latihan 7\n",
    "\n",
    "Buatlah suatu dictionary bernama **letter_counts** yang menghitung frekuensi kemunculan dari suatu huruf di dalam string dan berapa kali huruf itu muncul. </br>\n",
    "\n",
    "**Perhatian:**\n",
    "Setiap huruf besar atau huruf kecil dalam alphabet yang sama harus dihitung sebagai huruf yang sama"
   ]
  },
  {
   "cell_type": "code",
   "execution_count": 3,
   "id": "ac7ddcf7",
   "metadata": {},
   "outputs": [],
   "source": [
    "string1 = \"\"\"There is a tide in the affairs of men, Which taken at the flood, \n",
    "leads on to fortune. Omitted, all the voyage of their life is bound in shallows\n",
    "and in miseries. On such a full sea are we now afloat. \n",
    "And we must take the current when it serves, or lose our ventures.\"\"\""
   ]
  },
  {
   "cell_type": "markdown",
   "id": "711281f9",
   "metadata": {},
   "source": [
    "## Latihan 8\n",
    "Berikut adalah JSON dari sebuah timestamp cuaca :\n",
    "Dari data tersebut, buatlah suatu list di dalam list yang berisi jam cuaca, dan cuaca saja di tanggal-tanggal yang cuacanya hujan ringan saja."
   ]
  },
  {
   "cell_type": "code",
   "execution_count": 4,
   "id": "af198fe0",
   "metadata": {},
   "outputs": [],
   "source": [
    "weather=[{\"jamCuaca\":\"2022-06-14 00:00:00\",\"kodeCuaca\":\"60\",\"cuaca\":\"Hujan Ringan\",\"humidity\":\"85\",\"tempC\":\"23\",\"tempF\":\"73\"},\n",
    " {\"jamCuaca\":\"2022-06-14 06:00:00\",\"kodeCuaca\":\"60\",\"cuaca\":\"Hujan Ringan\",\"humidity\":\"55\",\"tempC\":\"33\",\"tempF\":\"91\"},\n",
    " {\"jamCuaca\":\"2022-06-14 12:00:00\",\"kodeCuaca\":\"60\",\"cuaca\":\"Hujan Ringan\",\"humidity\":\"85\",\"tempC\":\"23\",\"tempF\":\"73\"},\n",
    " {\"jamCuaca\":\"2022-06-14 18:00:00\",\"kodeCuaca\":\"3\",\"cuaca\":\"Berawan\",\"humidity\":\"90\",\"tempC\":\"23\",\"tempF\":\"73\"},\n",
    " {\"jamCuaca\":\"2022-06-15 00:00:00\",\"kodeCuaca\":\"1\",\"cuaca\":\"Cerah Berawan\",\"humidity\":\"80\",\"tempC\":\"25\",\"tempF\":\"77\"},\n",
    " {\"jamCuaca\":\"2022-06-15 06:00:00\",\"kodeCuaca\":\"60\",\"cuaca\":\"Hujan Ringan\",\"humidity\":\"65\",\"tempC\":\"32\",\"tempF\":\"90\"},\n",
    " {\"jamCuaca\":\"2022-06-15 12:00:00\",\"kodeCuaca\":\"60\",\"cuaca\":\"Hujan Ringan\",\"humidity\":\"80\",\"tempC\":\"25\",\"tempF\":\"77\"},\n",
    " {\"jamCuaca\":\"2022-06-15 18:00:00\",\"kodeCuaca\":\"3\",\"cuaca\":\"Berawan\",\"humidity\":\"90\",\"tempC\":\"23\",\"tempF\":\"73\"},\n",
    " {\"jamCuaca\":\"2022-06-16 00:00:00\",\"kodeCuaca\":\"60\",\"cuaca\":\"Hujan Ringan\",\"humidity\":\"80\",\"tempC\":\"25\",\"tempF\":\"77\"},\n",
    " {\"jamCuaca\":\"2022-06-16 06:00:00\",\"kodeCuaca\":\"60\",\"cuaca\":\"Hujan Ringan\",\"humidity\":\"55\",\"tempC\":\"32\",\"tempF\":\"90\"},\n",
    " {\"jamCuaca\":\"2022-06-16 12:00:00\",\"kodeCuaca\":\"60\",\"cuaca\":\"Hujan Ringan\",\"humidity\":\"80\",\"tempC\":\"25\",\"tempF\":\"77\"},\n",
    " {\"jamCuaca\":\"2022-06-16 18:00:00\",\"kodeCuaca\":\"3\",\"cuaca\":\"Berawan\",\"humidity\":\"90\",\"tempC\":\"23\",\"tempF\":\"73\"}]"
   ]
  }
 ],
 "metadata": {
  "kernelspec": {
   "display_name": "Python 3 (ipykernel)",
   "language": "python",
   "name": "python3"
  },
  "language_info": {
   "codemirror_mode": {
    "name": "ipython",
    "version": 3
   },
   "file_extension": ".py",
   "mimetype": "text/x-python",
   "name": "python",
   "nbconvert_exporter": "python",
   "pygments_lexer": "ipython3",
   "version": "3.9.7"
  }
 },
 "nbformat": 4,
 "nbformat_minor": 5
}
