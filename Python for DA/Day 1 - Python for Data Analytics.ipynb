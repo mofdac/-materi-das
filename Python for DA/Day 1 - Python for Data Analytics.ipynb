{
 "cells": [
  {
   "cell_type": "markdown",
   "id": "b1ee8836-9b46-4d9f-bc7b-1242ec79443a",
   "metadata": {
    "id": "b1ee8836-9b46-4d9f-bc7b-1242ec79443a"
   },
   "source": [
    "# Pengantar Python for Data Analytic"
   ]
  },
  {
   "cell_type": "markdown",
   "id": "73757e3b-fb9b-4bcb-9454-5cbc2a4eed83",
   "metadata": {
    "id": "73757e3b-fb9b-4bcb-9454-5cbc2a4eed83"
   },
   "source": [
    "## Data science\n",
    "### Apa itu Data Science ?\n",
    "\n",
    "\n",
    "<img src=\"https://haikawanku.files.wordpress.com/2018/07/data-scientist-the-sexiest-job-of-the-21st-century-2-638.jpg?w=634\" width=\"400\"/>\n",
    "\n",
    "\n",
    "**Data science dalam diagram Vern**\n",
    "> Diagram Venn merupakan diagram yang umum digunakan untuk menunjukkan keterhubungan antar kelompok.\n",
    "\n",
    "<details>\n",
    "<img src=\"https://miro.medium.com/max/1400/1*lws-OQOODF-wP9XLH1NDHQ.png\" width=\"500\" height=\"500\"/>\n",
    "</details>\n",
    "\n",
    "### Apa perbedaan dengan pekerjaan lain di bidang data?\n",
    "<details>\n",
    "<img src=\"https://andrewkusumo.science/assets/images/differences_data.png\">\n",
    "</details>\n",
    "\n",
    "\n",
    "### Tools yang digunakan\n",
    "<details>\n",
    "<img src=\"https://miro.medium.com/max/1400/1*y7Vw9-vTnbWSNaXfyurBSg.png\" width=\"800\">\n",
    "</details>\n",
    "\n",
    "\n",
    "> Sumber: \n",
    "1. https://towardsdatascience.com/the-data-science-internship-hunt-a-fortune-500-story-534e21bae055\n",
    "2. https://en.wikipedia.org/wiki/Venn_diagram\n",
    "3. https://medium.com/@datadrivenscience/data-science-terms-explained-part-i-9eaf2cae6b16\n",
    "4. https://towardsdatascience.com/top-20-most-popular-tools-for-data-science-93c5618893a4\n",
    "5. https://realpython.com/"
   ]
  },
  {
   "cell_type": "markdown",
   "id": "95aea5e5-a861-4ade-8785-bf954d3d65b1",
   "metadata": {
    "id": "95aea5e5-a861-4ade-8785-bf954d3d65b1"
   },
   "source": [
    "# Python\n",
    "## Apa itu Python\n",
    "Python adalah bahasa pemrograman tujuan umum yang ditafsirkan, tingkat tinggi. Dibuat oleh Guido van Rossum dan pertama kali dirilis pada tahun 1991, filosofi desain Python menekankan keterbacaan kode dengan penggunaan spasi putih yang signifikan. Konstruksi bahasanya dan pendekatan berorientasi objek bertujuan untuk membantu pemrogram menulis kode yang jelas dan logis untuk proyek skala kecil dan besar.\n",
    "\n",
    "## Kenapa harus Python?\n",
    "1. 📊 banyak digunakan dalam berbagai projek khususnya dalam analisis data.\n",
    "2. 📖 memiliki dokumentasi yang lengkap dan komunitas yang aktif.\n",
    "3. 🎓 dikenal dengan bahasa pemrograman yang mudah dipelajari, memiliki sintaks yang rapi, dan mudah dipahami.\n",
    "\n",
    "<details>\n",
    "<img src=\"https://i1.faceprep.in/Companies-1/hello-world-in-python.png\" width=\"800\">\n",
    "</details>\n",
    "\n",
    "> Python environment (libraries):\n",
    "<details>\n",
    "<img src=\"https://pydsc.files.wordpress.com/2017/11/pythonenvironment.png?w=640\" width=\"800\">\n",
    "    \n",
    "</details>\n",
    "\n",
    "## Rekomendasi bacaan\n",
    "1. [Automate Boring Stuff with Python](https://automatetheboringstuff.com/) oleh Al Sweigart.\n",
    "2. [A Whirlwind Tour of Python, Python Data Science Handbook](https://jakevdp.github.io/pages/about.html) oleh Jake VanderPlas.\n",
    "3. [W3School](https://www.w3schools.com).\n",
    "4. [Youtube_video](https://www.youtube.com/watch?v=GPVsHOlRBBI).\n",
    "5. [realpython](https://realpython.com/)"
   ]
  },
  {
   "cell_type": "markdown",
   "id": "5cda5755-0499-4e25-9070-27338409d97c",
   "metadata": {
    "id": "5cda5755-0499-4e25-9070-27338409d97c"
   },
   "source": [
    "# Instalasi Python\n",
    "\n",
    "Offline path:\n",
    "1. Install [Anaconda](https://www.anaconda.com).\n",
    "2. Buka ```Anaconda Navigator```.\n",
    "3. Pilih ```Jupyter Notebook```.\n",
    "\n",
    "Online path:\n",
    "1. [Google Colab](https://colab.research.google.com/). Tidak membutuhkan kemampuan hardware yang bagus.\n",
    "2. [Kaggle](https://www.kaggle.com). Terdapat banyak data, contoh coding, dan komunitas."
   ]
  },
  {
   "cell_type": "markdown",
   "id": "abb28ab4-a5e6-47ac-a687-cd5b0af7b5f7",
   "metadata": {
    "id": "abb28ab4-a5e6-47ac-a687-cd5b0af7b5f7"
   },
   "source": [
    "# Basic Python\n",
    "Agenda (Hari Pertama) :\n",
    "1. ```Sintax``` dasar.\n",
    "2. ```Tipe data``` (variable, math, list, tuple, dictionary).\n",
    "3. ```Indexing dan slicing```.\n",
    "4. ```Functions```."
   ]
  },
  {
   "cell_type": "code",
   "execution_count": 1,
   "id": "4bbf1feb-441e-4107-8999-5918cdb76fac",
   "metadata": {
    "id": "4bbf1feb-441e-4107-8999-5918cdb76fac",
    "outputId": "3beef85b-b363-4074-d049-2f0e041690b1"
   },
   "outputs": [
    {
     "name": "stdout",
     "output_type": "stream",
     "text": [
      "Hello World!\n"
     ]
    }
   ],
   "source": [
    "#mari kita mulai\n",
    "print('Hello World!')"
   ]
  },
  {
   "cell_type": "markdown",
   "id": "a56a2f5b-df9b-40d2-8545-0850834a556f",
   "metadata": {
    "id": "a56a2f5b-df9b-40d2-8545-0850834a556f",
    "tags": []
   },
   "source": [
    "## Sintax dasar\n",
    "\n",
    "> Sintaks dalam python bertujuan untuk memastikan kode yang dibuat mudah untuk dibaca dan dipahami. Artinya ada standar penulisan yang digunakan, dalam hal ini [PEP 8 - Style Guide for Python Code](https://pep8.org/).\n",
    "\n",
    "Beberapa hal dasar yang perlu dipahami:\n",
    "1. Penulisan komentar.\n",
    "2. Indentasi.\n",
    "3. Penggabungan code.\n",
    "3. Penamaan variable."
   ]
  },
  {
   "cell_type": "code",
   "execution_count": 2,
   "id": "d2f0b17a-6ed5-4771-b4dd-4b08b5e38efa",
   "metadata": {
    "id": "d2f0b17a-6ed5-4771-b4dd-4b08b5e38efa",
    "outputId": "75b6c684-82c5-4644-d682-3968c0678b4f"
   },
   "outputs": [
    {
     "name": "stdout",
     "output_type": "stream",
     "text": [
      "Sama\n"
     ]
    }
   ],
   "source": [
    "# komentar\n",
    "# membuat variable bernama x        # > ini merupakan contoh dari komentar\n",
    "x = 2\n",
    "\n",
    "# indentasi\n",
    "# membuat if else statement\n",
    "# jika value dalam x tidak sama dengan dua\n",
    "# maka print 'Tidak Sama'\n",
    "# jika sama\n",
    "# maka print 'Sama'\n",
    "if x != 2:\n",
    "    print(\"Tidak Sama\")             # > ini merupakan contoh dari indentansi\n",
    "else:\n",
    "    print(\"Sama\")"
   ]
  },
  {
   "cell_type": "code",
   "execution_count": 3,
   "id": "ef94c8ca-bf53-4fff-83ec-3191632796f8",
   "metadata": {
    "id": "ef94c8ca-bf53-4fff-83ec-3191632796f8",
    "outputId": "933604ec-23eb-4b6f-d1c6-1cb37a7bb878"
   },
   "outputs": [
    {
     "name": "stdout",
     "output_type": "stream",
     "text": [
      "3\n"
     ]
    }
   ],
   "source": [
    "# penggabungan code\n",
    "# pertama variable bernama y\n",
    "# kemudian print variable y\n",
    "# digabungkan menggunakan semicolon (;)\n",
    "y = 3; print(y)"
   ]
  },
  {
   "cell_type": "code",
   "execution_count": 4,
   "id": "d5ba2adf-31a2-468f-996f-e8f2661b60ec",
   "metadata": {
    "id": "d5ba2adf-31a2-468f-996f-e8f2661b60ec"
   },
   "outputs": [],
   "source": [
    "# penamaan variable\n",
    "# bisa menggunakan kombinasi uppercase dan lowercase\n",
    "# tidak bisa dimulai dengan angka\n",
    "# antar kata bisa dihubungkan dengan underscore (_)\n",
    "nama_lengkap = 'Gede James'  # kombinasi lowercase dengan underscore\n",
    "namalengkap  = 'James Gede'  # hanya lowercase\n",
    "NamaLengkap  = 'james gede'  # kombinasi uppercase dan lowercase"
   ]
  },
  {
   "cell_type": "markdown",
   "id": "94cd2509-64b6-4c88-8cb9-e7e61ff4250c",
   "metadata": {
    "id": "94cd2509-64b6-4c88-8cb9-e7e61ff4250c"
   },
   "source": [
    "## Tipe data"
   ]
  },
  {
   "cell_type": "markdown",
   "id": "c91d103b-76b1-47bf-8a37-358fe70c7e6f",
   "metadata": {
    "id": "c91d103b-76b1-47bf-8a37-358fe70c7e6f"
   },
   "source": [
    "<details>\n",
    "<img src=\"https://miro.medium.com/max/631/1*8J9yViDiXqNYeEWctWkdfQ.jpeg\" width=\"800\">\n",
    "</details>"
   ]
  },
  {
   "cell_type": "markdown",
   "id": "0aa6dd89-97f0-43e4-91c3-a8ee89866593",
   "metadata": {
    "id": "0aa6dd89-97f0-43e4-91c3-a8ee89866593"
   },
   "source": [
    "bagaimana cara untuk mengecek tipe data?"
   ]
  },
  {
   "cell_type": "code",
   "execution_count": 5,
   "id": "3dd487ad-69a4-4dbc-a0c1-d8743c8d99af",
   "metadata": {
    "id": "3dd487ad-69a4-4dbc-a0c1-d8743c8d99af",
    "outputId": "bd91411a-259e-41a0-c93f-c9f23390932e"
   },
   "outputs": [
    {
     "data": {
      "text/plain": [
       "str"
      ]
     },
     "execution_count": 5,
     "metadata": {},
     "output_type": "execute_result"
    }
   ],
   "source": [
    "type(\"budi\")"
   ]
  },
  {
   "cell_type": "code",
   "execution_count": 6,
   "id": "4f786a3f-405a-4bce-b477-5d06d023c194",
   "metadata": {
    "id": "4f786a3f-405a-4bce-b477-5d06d023c194",
    "outputId": "5a58b84c-ce81-468e-bcf1-a28879821dd9"
   },
   "outputs": [
    {
     "data": {
      "text/plain": [
       "float"
      ]
     },
     "execution_count": 6,
     "metadata": {},
     "output_type": "execute_result"
    }
   ],
   "source": [
    "type(10.01)"
   ]
  },
  {
   "cell_type": "markdown",
   "id": "01af2487-5774-41e7-822d-877d5660328b",
   "metadata": {
    "id": "01af2487-5774-41e7-822d-877d5660328b"
   },
   "source": [
    "---\n",
    "**Latihan**"
   ]
  },
  {
   "cell_type": "code",
   "execution_count": 7,
   "id": "65929745-17a7-453f-993b-dbe490841eb2",
   "metadata": {
    "id": "65929745-17a7-453f-993b-dbe490841eb2"
   },
   "outputs": [],
   "source": [
    "# Coba cek tipe dari angka 1001"
   ]
  },
  {
   "cell_type": "markdown",
   "id": "93195254-e1b1-4618-818c-87eea37deec3",
   "metadata": {
    "id": "93195254-e1b1-4618-818c-87eea37deec3"
   },
   "source": [
    "### Variable\n",
    "\n",
    "> [Lokasi memori yang dicadangkan untuk menyimpan values](https://www.w3schools.com/python/python_variables.asp).\n",
    "\n",
    "Variabel adalah nama yang dilampirkan ke objek tertentu. Untuk membuat variabel dalam python cukup menetapkan nilai dan kemudian mulai menggunakannya. Penugasan dilakukan dengan satu tanda sama dengan (=):\n",
    "\n",
    "Beberapa hal dasar yang perlu dipahami:\n",
    "1. Cara membuat variable.\n",
    "2. Overwrite variable dan interaksinya.\n",
    "3. Multiple assignment."
   ]
  },
  {
   "cell_type": "code",
   "execution_count": 8,
   "id": "617d48e1-a533-48cc-a42f-cb339ac5c4ad",
   "metadata": {
    "executionInfo": {
     "elapsed": 16,
     "status": "ok",
     "timestamp": 1648689083582,
     "user": {
      "displayName": "Pratama Suprayogi",
      "userId": "14884808246882934220"
     },
     "user_tz": -420
    },
    "id": "617d48e1-a533-48cc-a42f-cb339ac5c4ad"
   },
   "outputs": [],
   "source": [
    "# membuat variable A\n",
    "A = 2\n",
    "# dibaca A diberi nilai 2"
   ]
  },
  {
   "cell_type": "code",
   "execution_count": 9,
   "id": "d2366691-9fda-4e52-8e03-4d5901ed8f1b",
   "metadata": {
    "colab": {
     "base_uri": "https://localhost:8080/"
    },
    "executionInfo": {
     "elapsed": 16,
     "status": "ok",
     "timestamp": 1648689083583,
     "user": {
      "displayName": "Pratama Suprayogi",
      "userId": "14884808246882934220"
     },
     "user_tz": -420
    },
    "id": "d2366691-9fda-4e52-8e03-4d5901ed8f1b",
    "outputId": "affb5707-a427-44a8-d86c-4945f4768ec1"
   },
   "outputs": [
    {
     "data": {
      "text/plain": [
       "2"
      ]
     },
     "execution_count": 9,
     "metadata": {},
     "output_type": "execute_result"
    }
   ],
   "source": [
    "# untuk melakukan fungsi print, value apa saja yang tersimpan di dalamnya\n",
    "# bisa menggunakan print(A)\n",
    "# atau langsung ketik A\n",
    "A"
   ]
  },
  {
   "cell_type": "code",
   "execution_count": 10,
   "id": "76977f7a-1acb-432d-b07e-da9d6a924ac9",
   "metadata": {
    "colab": {
     "base_uri": "https://localhost:8080/"
    },
    "executionInfo": {
     "elapsed": 16,
     "status": "ok",
     "timestamp": 1648689083584,
     "user": {
      "displayName": "Pratama Suprayogi",
      "userId": "14884808246882934220"
     },
     "user_tz": -420
    },
    "id": "76977f7a-1acb-432d-b07e-da9d6a924ac9",
    "outputId": "64975d5b-13a0-44a9-9855-b42c7457e764"
   },
   "outputs": [
    {
     "name": "stdout",
     "output_type": "stream",
     "text": [
      "2\n"
     ]
    }
   ],
   "source": [
    "print(A)"
   ]
  },
  {
   "cell_type": "code",
   "execution_count": 11,
   "id": "feaeb8ea",
   "metadata": {},
   "outputs": [
    {
     "data": {
      "text/plain": [
       "'tugas baru'"
      ]
     },
     "execution_count": 11,
     "metadata": {},
     "output_type": "execute_result"
    }
   ],
   "source": [
    "# print tanpa command print hanya dapat dilakukan jika dipanggil pada baris terakhir di cell Jupyter Notebook\n",
    "A\n",
    "B = 'tugas baru'\n",
    "B"
   ]
  },
  {
   "cell_type": "code",
   "execution_count": 12,
   "id": "dba05cef-ede8-44ff-99bb-b972a2926640",
   "metadata": {
    "colab": {
     "base_uri": "https://localhost:8080/"
    },
    "executionInfo": {
     "elapsed": 14,
     "status": "ok",
     "timestamp": 1648689083584,
     "user": {
      "displayName": "Pratama Suprayogi",
      "userId": "14884808246882934220"
     },
     "user_tz": -420
    },
    "id": "dba05cef-ede8-44ff-99bb-b972a2926640",
    "outputId": "7c679549-6d32-4735-e530-f29c5d13cda9"
   },
   "outputs": [
    {
     "name": "stdout",
     "output_type": "stream",
     "text": [
      "Python for Data Analytics\n"
     ]
    }
   ],
   "source": [
    "# cek apakah jika kita melakukan overwrite atas A\n",
    "# value apa yang tersimpan di dalamnya\n",
    "# perhatikan interaksinya\n",
    "A = 'Python for Data Analytics'\n",
    "print(A)"
   ]
  },
  {
   "cell_type": "code",
   "execution_count": 13,
   "id": "3f6a2acf-12eb-44c3-846c-f119b185006b",
   "metadata": {
    "colab": {
     "base_uri": "https://localhost:8080/"
    },
    "executionInfo": {
     "elapsed": 13,
     "status": "ok",
     "timestamp": 1648689083584,
     "user": {
      "displayName": "Pratama Suprayogi",
      "userId": "14884808246882934220"
     },
     "user_tz": -420
    },
    "id": "3f6a2acf-12eb-44c3-846c-f119b185006b",
    "outputId": "7d8da8f1-9302-493e-86af-770063f19623"
   },
   "outputs": [
    {
     "name": "stdout",
     "output_type": "stream",
     "text": [
      "1\n",
      "2\n"
     ]
    }
   ],
   "source": [
    "# multiple assignment\n",
    "# biasanya akan ditulis beruntun\n",
    "A = 1\n",
    "B = 2\n",
    "print(A)\n",
    "print(B)\n",
    "\n",
    "# kita akan melakukan overwrite kembali\n",
    "# perhatikan cara penulisan multiple assignment yang lain\n",
    "# A, B = 3, 5\n",
    "# print(A)\n",
    "# print(B)"
   ]
  },
  {
   "cell_type": "markdown",
   "id": "5535c74f-9369-4202-af07-f8d2f50c93b9",
   "metadata": {
    "id": "5535c74f-9369-4202-af07-f8d2f50c93b9"
   },
   "source": [
    "> Secara resmi, nama variabel dalam Python dapat memiliki panjang berapa pun dan dapat terdiri dari huruf besar dan huruf kecil (A-Z, a-z), angka (0-9), dan karakter garis bawah (_). \n",
    "\n",
    "> Batasan tambahan adalah bahwa nama variabel hanya dapat **dimulai** dengan huruf atau garis bawah dan disarankan untuk tidak menggunakan **nama-nama** dari fungsi atau variable bawaan python basic (print, str, type, etc)"
   ]
  },
  {
   "cell_type": "code",
   "execution_count": 14,
   "id": "0d809ca2-b6cc-47bf-973b-59452e8e3419",
   "metadata": {
    "colab": {
     "base_uri": "https://localhost:8080/"
    },
    "executionInfo": {
     "elapsed": 13,
     "status": "ok",
     "timestamp": 1648689083585,
     "user": {
      "displayName": "Pratama Suprayogi",
      "userId": "14884808246882934220"
     },
     "user_tz": -420
    },
    "id": "0d809ca2-b6cc-47bf-973b-59452e8e3419",
    "outputId": "fce5f8f9-5525-46f0-fac8-6f1455577afa"
   },
   "outputs": [
    {
     "name": "stdout",
     "output_type": "stream",
     "text": [
      "Python for Data Analytics\n"
     ]
    }
   ],
   "source": [
    "_judul = 'Python for Data Analytics'\n",
    "print(_judul)"
   ]
  },
  {
   "cell_type": "code",
   "execution_count": 15,
   "id": "4d6ccca1-87ca-4131-b125-1f8d3a792093",
   "metadata": {
    "colab": {
     "base_uri": "https://localhost:8080/",
     "height": 130
    },
    "executionInfo": {
     "elapsed": 12,
     "status": "error",
     "timestamp": 1648689083586,
     "user": {
      "displayName": "Pratama Suprayogi",
      "userId": "14884808246882934220"
     },
     "user_tz": -420
    },
    "id": "4d6ccca1-87ca-4131-b125-1f8d3a792093",
    "outputId": "528dfc81-0d9f-44a4-dec5-b7cf14569783"
   },
   "outputs": [
    {
     "ename": "SyntaxError",
     "evalue": "invalid syntax (Temp/ipykernel_6204/3484074762.py, line 1)",
     "output_type": "error",
     "traceback": [
      "\u001b[1;36m  File \u001b[1;32m\"C:\\Users\\ADESAT~1\\AppData\\Local\\Temp/ipykernel_6204/3484074762.py\"\u001b[1;36m, line \u001b[1;32m1\u001b[0m\n\u001b[1;33m    2judul = 'Python for Data Analytics'\u001b[0m\n\u001b[1;37m      ^\u001b[0m\n\u001b[1;31mSyntaxError\u001b[0m\u001b[1;31m:\u001b[0m invalid syntax\n"
     ]
    }
   ],
   "source": [
    "2judul = 'Python for Data Analytics'\n",
    "print(2judul)"
   ]
  },
  {
   "cell_type": "code",
   "execution_count": 16,
   "id": "992e9f79-3b93-4a8e-8a9b-cced5f43c8b6",
   "metadata": {
    "colab": {
     "base_uri": "https://localhost:8080/"
    },
    "executionInfo": {
     "elapsed": 423,
     "status": "ok",
     "timestamp": 1648689644762,
     "user": {
      "displayName": "Pratama Suprayogi",
      "userId": "14884808246882934220"
     },
     "user_tz": -420
    },
    "id": "992e9f79-3b93-4a8e-8a9b-cced5f43c8b6",
    "outputId": "30895cdd-58b6-4f49-d54d-ded68e4cec7b"
   },
   "outputs": [
    {
     "name": "stdout",
     "output_type": "stream",
     "text": [
      "Python for Data Analytics\n"
     ]
    }
   ],
   "source": [
    "judul2 = 'Python for Data Analytics'\n",
    "print(judul2)"
   ]
  },
  {
   "cell_type": "markdown",
   "id": "a7d4be72-f1d2-4b42-aefe-656a2098c208",
   "metadata": {
    "id": "a7d4be72-f1d2-4b42-aefe-656a2098c208"
   },
   "source": [
    "> terkait penamaan variabel bisa dibaca lebih lanjut pada https://peps.python.org/pep-0008/"
   ]
  },
  {
   "cell_type": "markdown",
   "id": "be84989e-7bf0-41ee-86eb-8cbb49fec7c9",
   "metadata": {
    "id": "be84989e-7bf0-41ee-86eb-8cbb49fec7c9"
   },
   "source": [
    "### Operators and Expressions\n",
    "> dalam python operator adalah **simbol khusus** yang menunjukkan bahwa beberapa jenis perhitungan harus dilakukan. Nilai yang dijalankan oleh operator disebut **operand**.\n",
    "\n",
    "> Urutan operan dan operator, seperti a + b - 5, disebut **ekspresi**."
   ]
  },
  {
   "cell_type": "markdown",
   "id": "62d7acc3-c441-4e36-9f69-ddb354402d19",
   "metadata": {
    "id": "62d7acc3-c441-4e36-9f69-ddb354402d19"
   },
   "source": [
    "#### Arithmetic operator (Operator Aritmatika)\n",
    "\n",
    "> Gunakan kurung untuk memastikan arithmetic operator dijalankan terlebih dahulu.\n",
    "\n",
    "| Operator | Deskripsi | Contoh | \n",
    "| :-: | :-- | :-:|\n",
    "| `**`| Pangkat | `x ** 2`|\n",
    "| `*`| Perkalian | `x * 4` | \n",
    "| `/`| Pembagian | `x / 5` | \n",
    "| `//`| Pembagian Bulat (floor Division) | `x // 3` |\n",
    "| `%`| Sisa Bagi (modulo) | `x % 2`| \n",
    "| `+`| Penjumlahan | `x + y` | \n",
    "| `-`| Pengurangan | `x - y` | "
   ]
  },
  {
   "cell_type": "code",
   "execution_count": 17,
   "id": "283bd378-589c-48a3-9d7b-a5d162d93559",
   "metadata": {
    "id": "283bd378-589c-48a3-9d7b-a5d162d93559",
    "outputId": "7dfe0b31-d3f3-4531-9178-977ad178afcf"
   },
   "outputs": [
    {
     "data": {
      "text/plain": [
       "25"
      ]
     },
     "execution_count": 17,
     "metadata": {},
     "output_type": "execute_result"
    }
   ],
   "source": [
    "5**2"
   ]
  },
  {
   "cell_type": "code",
   "execution_count": 18,
   "id": "87005935-d3b7-48d9-8a55-bd91fc94c87b",
   "metadata": {
    "id": "87005935-d3b7-48d9-8a55-bd91fc94c87b",
    "outputId": "be15cc68-742e-4123-adc5-b741c66aabfc"
   },
   "outputs": [
    {
     "data": {
      "text/plain": [
       "10"
      ]
     },
     "execution_count": 18,
     "metadata": {},
     "output_type": "execute_result"
    }
   ],
   "source": [
    "5*2"
   ]
  },
  {
   "cell_type": "code",
   "execution_count": 19,
   "id": "2a7b869d-d6d0-404b-ae01-730550887dbf",
   "metadata": {
    "id": "2a7b869d-d6d0-404b-ae01-730550887dbf",
    "outputId": "9149147d-de61-4b98-fc53-13ec25f35aff"
   },
   "outputs": [
    {
     "data": {
      "text/plain": [
       "5.0"
      ]
     },
     "execution_count": 19,
     "metadata": {},
     "output_type": "execute_result"
    }
   ],
   "source": [
    "10/2"
   ]
  },
  {
   "cell_type": "code",
   "execution_count": 20,
   "id": "34afd50a-dd60-4cca-b5d2-d239a67db319",
   "metadata": {
    "id": "34afd50a-dd60-4cca-b5d2-d239a67db319",
    "outputId": "80dc7971-88e3-4cc6-93a4-f5c431357828"
   },
   "outputs": [
    {
     "data": {
      "text/plain": [
       "6"
      ]
     },
     "execution_count": 20,
     "metadata": {},
     "output_type": "execute_result"
    }
   ],
   "source": [
    "13//2"
   ]
  },
  {
   "cell_type": "code",
   "execution_count": 21,
   "id": "e5d4246c-19eb-40ae-ad20-665d39e41e29",
   "metadata": {
    "id": "e5d4246c-19eb-40ae-ad20-665d39e41e29",
    "outputId": "0321a79b-01b8-4895-fdc1-3d56e6942374"
   },
   "outputs": [
    {
     "data": {
      "text/plain": [
       "1"
      ]
     },
     "execution_count": 21,
     "metadata": {},
     "output_type": "execute_result"
    }
   ],
   "source": [
    "13%2"
   ]
  },
  {
   "cell_type": "code",
   "execution_count": 22,
   "id": "b5fe6e01-2eaa-4a47-8d03-ff0fbfe99c46",
   "metadata": {
    "id": "b5fe6e01-2eaa-4a47-8d03-ff0fbfe99c46",
    "outputId": "00272a58-df56-42f6-9109-26c00b2602c8"
   },
   "outputs": [
    {
     "data": {
      "text/plain": [
       "9"
      ]
     },
     "execution_count": 22,
     "metadata": {},
     "output_type": "execute_result"
    }
   ],
   "source": [
    "4+5"
   ]
  },
  {
   "cell_type": "code",
   "execution_count": 23,
   "id": "c436cf5d-f3b9-4209-b3f2-bddc17bc7e2d",
   "metadata": {
    "id": "c436cf5d-f3b9-4209-b3f2-bddc17bc7e2d",
    "outputId": "ad1e80b8-53ed-46f3-e246-a35a12bd3e3d"
   },
   "outputs": [
    {
     "data": {
      "text/plain": [
       "4"
      ]
     },
     "execution_count": 23,
     "metadata": {},
     "output_type": "execute_result"
    }
   ],
   "source": [
    "9-5"
   ]
  },
  {
   "cell_type": "code",
   "execution_count": 24,
   "id": "da89f75f",
   "metadata": {},
   "outputs": [
    {
     "data": {
      "text/plain": [
       "16.799999999999997"
      ]
     },
     "execution_count": 24,
     "metadata": {},
     "output_type": "execute_result"
    }
   ],
   "source": [
    "12*1.4"
   ]
  },
  {
   "cell_type": "code",
   "execution_count": 25,
   "id": "38667775-7952-4791-9b9a-0c6605ff8a42",
   "metadata": {
    "id": "38667775-7952-4791-9b9a-0c6605ff8a42",
    "outputId": "4099b03c-b6ac-42f0-cc00-0173d0aa8f7b"
   },
   "outputs": [
    {
     "name": "stdout",
     "output_type": "stream",
     "text": [
      "3\n",
      "<class 'int'>\n"
     ]
    }
   ],
   "source": [
    "# menjumlahkan nilai pada variable A dan B\n",
    "A = 1\n",
    "B = 2\n",
    "C = A + B\n",
    "print(C)\n",
    "print(type(C))"
   ]
  },
  {
   "cell_type": "markdown",
   "id": "e253c69c-250d-49bb-8618-0fe44618f16a",
   "metadata": {
    "id": "e253c69c-250d-49bb-8618-0fe44618f16a"
   },
   "source": [
    "---\n",
    "**Latihan**"
   ]
  },
  {
   "cell_type": "code",
   "execution_count": 26,
   "id": "b31fe596-9293-4509-8fcb-231e3e5434bd",
   "metadata": {
    "id": "b31fe596-9293-4509-8fcb-231e3e5434bd"
   },
   "outputs": [],
   "source": [
    "# Hitunglah 25 pangkat 5"
   ]
  },
  {
   "cell_type": "code",
   "execution_count": 27,
   "id": "f1d51d9f-a006-4bbb-abce-659f79eaa028",
   "metadata": {
    "id": "f1d51d9f-a006-4bbb-abce-659f79eaa028"
   },
   "outputs": [],
   "source": [
    "# Hitunglah akar kuadrat dari 169"
   ]
  },
  {
   "cell_type": "code",
   "execution_count": 28,
   "id": "032d07a5-f40b-4b77-8488-c5a5b7a5246b",
   "metadata": {
    "id": "032d07a5-f40b-4b77-8488-c5a5b7a5246b"
   },
   "outputs": [],
   "source": [
    "# Hitunglah pembagian bulat dari 17 dengan 5"
   ]
  },
  {
   "cell_type": "code",
   "execution_count": 29,
   "id": "87d2e19c-4db7-4e51-932e-e3dac58c4731",
   "metadata": {
    "id": "87d2e19c-4db7-4e51-932e-e3dac58c4731"
   },
   "outputs": [],
   "source": [
    "# Hitunglah pembagian bulat dan sisa bagi dari 97 dengan 3"
   ]
  },
  {
   "cell_type": "markdown",
   "id": "100048b6-3cbf-458c-a475-aeb57f24df82",
   "metadata": {
    "id": "100048b6-3cbf-458c-a475-aeb57f24df82"
   },
   "source": [
    "##### Urutan Operasi Aritmatik"
   ]
  },
  {
   "cell_type": "markdown",
   "id": "a24cbbe4-0969-4d0a-b3cb-3888c0383753",
   "metadata": {
    "id": "a24cbbe4-0969-4d0a-b3cb-3888c0383753"
   },
   "source": [
    "Setiap operasi Aritmatik di dalam python memiliki urutan dalam pengoperasiannya. Jika dalam satu ekpression terdapat lebih dari satu operasi, maka kode akan di eksekusi berdasarkan operasi yang lebih tinggi prioritasnya.\n",
    "\n",
    "<br>\n",
    "<br>\n",
    "\n",
    "| Operator|Simbol |\n",
    "| :-: | :-- |\n",
    "| Tanda Kurung|( )|\n",
    "| Pangkat|**|\n",
    "| kali, bagi, pembagian (dengan output pembulatan kebawah), hasil sisa pembagian| * , / , //, %|\n",
    "| Tambah, Kurang| + , - |\n",
    "\n",
    "<br>\n",
    "<br>"
   ]
  },
  {
   "cell_type": "code",
   "execution_count": 30,
   "id": "535516dd-a1e3-4184-af8a-cc6bc731a65b",
   "metadata": {
    "id": "535516dd-a1e3-4184-af8a-cc6bc731a65b",
    "outputId": "06c7f655-cff7-4b63-9332-417cdf28e228"
   },
   "outputs": [
    {
     "data": {
      "text/plain": [
       "15626.0"
      ]
     },
     "execution_count": 30,
     "metadata": {},
     "output_type": "execute_result"
    }
   ],
   "source": [
    "5/5+5**5*5"
   ]
  },
  {
   "cell_type": "markdown",
   "id": "f8f00a30-b4af-4f6b-a778-e2edb1a03546",
   "metadata": {
    "id": "f8f00a30-b4af-4f6b-a778-e2edb1a03546"
   },
   "source": [
    "#### Comparison operator\n",
    "\n",
    "> Digunakan untuk membandingkan antara dua nilai. Menghasilkan nilai boolean (`True` atau `False`).\n",
    "\n",
    "| Operator | Deskripsi | Contoh | \n",
    "|:-:|:--|:-:|\n",
    "|`==`|`sama dengan`|`x == y`|\t\n",
    "|`!=`|`tidak sama dengan`|`x != y`|\n",
    "|`>`|`lebih dari`|`x > y`|\n",
    "|`<`|`kurang dari`|`x < y`|\t\n",
    "|`>=`|`lebih dari atau sama dengan`|`x >= y`|\t\n",
    "|`<=`|`kurang dari atau sama dengan`|`x <= y`|"
   ]
  },
  {
   "cell_type": "code",
   "execution_count": 31,
   "id": "e87ab120-a2ae-4b79-817b-aff185f953a3",
   "metadata": {
    "id": "e87ab120-a2ae-4b79-817b-aff185f953a3",
    "outputId": "5a071010-d571-4a4f-f985-1da97956961d"
   },
   "outputs": [
    {
     "name": "stdout",
     "output_type": "stream",
     "text": [
      "True\n",
      "False\n"
     ]
    }
   ],
   "source": [
    "A = 10\n",
    "B = 10\n",
    "print(A==B)\n",
    "print(A>B)"
   ]
  },
  {
   "cell_type": "code",
   "execution_count": 32,
   "id": "8ce12db5-c004-49a8-b0fe-0b2babb44b7c",
   "metadata": {
    "id": "8ce12db5-c004-49a8-b0fe-0b2babb44b7c",
    "outputId": "dee982c3-4c13-465b-8ef7-058cb102c22f"
   },
   "outputs": [
    {
     "data": {
      "text/plain": [
       "True"
      ]
     },
     "execution_count": 32,
     "metadata": {},
     "output_type": "execute_result"
    }
   ],
   "source": [
    "A = \"PYTHON\"\n",
    "B = \"PYTHON\"\n",
    "A==B"
   ]
  },
  {
   "cell_type": "code",
   "execution_count": 33,
   "id": "7f7b192f-c0cd-4c92-835e-5995ce310111",
   "metadata": {
    "id": "7f7b192f-c0cd-4c92-835e-5995ce310111",
    "outputId": "e7517fb4-1e3b-4b8a-ec24-c7e81f6316ab"
   },
   "outputs": [
    {
     "name": "stdout",
     "output_type": "stream",
     "text": [
      "False\n",
      "True\n"
     ]
    }
   ],
   "source": [
    "A = \"python\"\n",
    "B = \"PYTHON\"\n",
    "print(A==B)\n",
    "print(A!=B)"
   ]
  },
  {
   "cell_type": "markdown",
   "id": "0d8ea216-5cbe-4e99-a4a3-708e7f4278c6",
   "metadata": {
    "id": "0d8ea216-5cbe-4e99-a4a3-708e7f4278c6"
   },
   "source": [
    "#### Logical operator\n",
    "\n",
    "> Digunakan untuk mengkombinasikan nilai boolean.\n",
    "\n",
    "| Operator | Deskripsi | Contoh | \n",
    "|:-:|:--|:-:|\n",
    "|`not`|\tMembalik nilai boolean, menghasilkan nilai `False` jika peryataan bernilai `True` dan sebaliknya\t|`not(x < y)`|\n",
    "|`and`| Menghasilkan `True` hanya jika kedua pernyataan bernilai `True`\t|`x < 5 and  x < 10`|\n",
    "|`or`|\tMenghasilkan `True` jika salah satu pernyataan bernilai `True`\t|`x < 5 or x > 4`|\t"
   ]
  },
  {
   "cell_type": "code",
   "execution_count": 34,
   "id": "c9735304-eea0-45ae-b76b-18f15e6c790e",
   "metadata": {
    "id": "c9735304-eea0-45ae-b76b-18f15e6c790e"
   },
   "outputs": [],
   "source": [
    "x = 5"
   ]
  },
  {
   "cell_type": "code",
   "execution_count": 35,
   "id": "ad6db750-20fd-411b-ad9d-00f2014bd2bc",
   "metadata": {
    "id": "ad6db750-20fd-411b-ad9d-00f2014bd2bc",
    "outputId": "005ea8be-9e0d-42d7-8ddc-64d455fd803c"
   },
   "outputs": [
    {
     "data": {
      "text/plain": [
       "True"
      ]
     },
     "execution_count": 35,
     "metadata": {},
     "output_type": "execute_result"
    }
   ],
   "source": [
    "x < 10"
   ]
  },
  {
   "cell_type": "code",
   "execution_count": 36,
   "id": "7a089a7d-0f06-4386-b290-9b8bd9bd8d7c",
   "metadata": {
    "id": "7a089a7d-0f06-4386-b290-9b8bd9bd8d7c",
    "outputId": "a020a83e-54cc-4ea7-9c9f-cf467dfe6a8f"
   },
   "outputs": [
    {
     "data": {
      "text/plain": [
       "False"
      ]
     },
     "execution_count": 36,
     "metadata": {},
     "output_type": "execute_result"
    }
   ],
   "source": [
    "not x < 10"
   ]
  },
  {
   "cell_type": "markdown",
   "id": "93d2f6bc-bdec-42fb-b7ca-f469bce803cb",
   "metadata": {
    "id": "93d2f6bc-bdec-42fb-b7ca-f469bce803cb"
   },
   "source": [
    "Boolean Logic\n",
    "\n",
    "| Condition 1 | Condition 2 | AND  | OR   |\n",
    "|-------------|-------------|------|------|\n",
    "| TRUE        | TRUE        | TRUE | TRUE |\n",
    "| TRUE        | FALSE       | FALSE| TRUE |\n",
    "| FALSE       | TRUE        | FALSE| TRUE |\n",
    "| FALSE       | FALSE       | FALSE| FALSE|"
   ]
  },
  {
   "cell_type": "code",
   "execution_count": 37,
   "id": "e3d0e0a3-a707-4882-8b53-a2ab2f4d70e9",
   "metadata": {
    "id": "e3d0e0a3-a707-4882-8b53-a2ab2f4d70e9",
    "outputId": "8399c357-c03a-45d2-b2f1-f9bbf93aeb26"
   },
   "outputs": [
    {
     "data": {
      "text/plain": [
       "False"
      ]
     },
     "execution_count": 37,
     "metadata": {},
     "output_type": "execute_result"
    }
   ],
   "source": [
    "x > 2 and x < 4"
   ]
  },
  {
   "cell_type": "code",
   "execution_count": 38,
   "id": "7beaf62a-3f15-482f-b038-d719e189d30b",
   "metadata": {
    "id": "7beaf62a-3f15-482f-b038-d719e189d30b",
    "outputId": "05f87bda-a862-4056-c56e-653b2f4b520b"
   },
   "outputs": [
    {
     "data": {
      "text/plain": [
       "True"
      ]
     },
     "execution_count": 38,
     "metadata": {},
     "output_type": "execute_result"
    }
   ],
   "source": [
    "x > 2 or x < 4"
   ]
  },
  {
   "cell_type": "markdown",
   "id": "89ab5faa-42b7-4c6c-8d91-2de0cdc540b6",
   "metadata": {
    "id": "89ab5faa-42b7-4c6c-8d91-2de0cdc540b6"
   },
   "source": [
    "### Strings"
   ]
  },
  {
   "cell_type": "markdown",
   "id": "b1e37e01-b42b-489f-9a8b-1ae83c864929",
   "metadata": {
    "id": "b1e37e01-b42b-489f-9a8b-1ae83c864929"
   },
   "source": [
    "untuk deklarasi strings dalam python digunakan tanda kutip (' atau \")"
   ]
  },
  {
   "cell_type": "code",
   "execution_count": 39,
   "id": "4faf1050-17f8-4b9a-a36b-31b138a9e5ab",
   "metadata": {
    "id": "4faf1050-17f8-4b9a-a36b-31b138a9e5ab",
    "outputId": "62f44d60-90eb-4c05-e357-e33fecf16e08"
   },
   "outputs": [
    {
     "name": "stdout",
     "output_type": "stream",
     "text": [
      "Hello World\n"
     ]
    }
   ],
   "source": [
    "print(\"Hello World\")"
   ]
  },
  {
   "cell_type": "code",
   "execution_count": 40,
   "id": "edf9c997-c58f-42c8-ae79-3a09d963e426",
   "metadata": {
    "id": "edf9c997-c58f-42c8-ae79-3a09d963e426",
    "outputId": "58c7f1bc-e153-4219-8e5d-ebdbd52a2999"
   },
   "outputs": [
    {
     "name": "stdout",
     "output_type": "stream",
     "text": [
      "Hello World\n"
     ]
    }
   ],
   "source": [
    "print('Hello World')"
   ]
  },
  {
   "cell_type": "markdown",
   "id": "b096152a-190e-40cd-aab9-084191301557",
   "metadata": {
    "id": "b096152a-190e-40cd-aab9-084191301557"
   },
   "source": [
    "bagaimana kalo strings kita terdapat tanda kutip didalamnya?"
   ]
  },
  {
   "cell_type": "code",
   "execution_count": 41,
   "id": "4c423553-2963-45ae-b2f7-cc2daf2f2e14",
   "metadata": {
    "id": "4c423553-2963-45ae-b2f7-cc2daf2f2e14",
    "outputId": "cfb7a603-732a-40d6-ab59-3076444b412f"
   },
   "outputs": [
    {
     "ename": "SyntaxError",
     "evalue": "invalid syntax (Temp/ipykernel_6204/3139409134.py, line 2)",
     "output_type": "error",
     "traceback": [
      "\u001b[1;36m  File \u001b[1;32m\"C:\\Users\\ADESAT~1\\AppData\\Local\\Temp/ipykernel_6204/3139409134.py\"\u001b[1;36m, line \u001b[1;32m2\u001b[0m\n\u001b[1;33m    \"kata Budi\"hai\"\"\u001b[0m\n\u001b[1;37m               ^\u001b[0m\n\u001b[1;31mSyntaxError\u001b[0m\u001b[1;31m:\u001b[0m invalid syntax\n"
     ]
    }
   ],
   "source": [
    "#cara yang salah\n",
    "\"kata Budi\"hai\"\""
   ]
  },
  {
   "cell_type": "code",
   "execution_count": 42,
   "id": "52e1f671-48ae-432f-8618-9b2f0902b72b",
   "metadata": {
    "id": "52e1f671-48ae-432f-8618-9b2f0902b72b",
    "outputId": "05073770-9eae-4b99-fd2f-cf638702a63a"
   },
   "outputs": [
    {
     "data": {
      "text/plain": [
       "'kata budi:\"hai\"'"
      ]
     },
     "execution_count": 42,
     "metadata": {},
     "output_type": "execute_result"
    }
   ],
   "source": [
    "#cara yang benar\n",
    "'kata budi:\"hai\"'"
   ]
  },
  {
   "cell_type": "markdown",
   "id": "dc77a295-da1f-40a3-b61b-911857b875ef",
   "metadata": {
    "id": "dc77a295-da1f-40a3-b61b-911857b875ef"
   },
   "source": [
    "#### Strings Operations"
   ]
  },
  {
   "cell_type": "markdown",
   "id": "e96be2bd-c2f4-4209-9609-32f6d24acb6c",
   "metadata": {
    "id": "e96be2bd-c2f4-4209-9609-32f6d24acb6c"
   },
   "source": [
    "##### Penggabungan String"
   ]
  },
  {
   "cell_type": "code",
   "execution_count": 43,
   "id": "c857f26f-558a-4875-8143-2761e66f549f",
   "metadata": {
    "id": "c857f26f-558a-4875-8143-2761e66f549f",
    "outputId": "f500d00d-716f-4320-867a-e753c534c49d"
   },
   "outputs": [
    {
     "name": "stdout",
     "output_type": "stream",
     "text": [
      "halosemua\n"
     ]
    }
   ],
   "source": [
    "print(\"halo\" + \"semua\")"
   ]
  },
  {
   "cell_type": "code",
   "execution_count": 44,
   "id": "cac76c2f-7dc3-49fe-99e0-b8e0da490d21",
   "metadata": {
    "id": "cac76c2f-7dc3-49fe-99e0-b8e0da490d21",
    "outputId": "69cf6238-8698-4238-d765-4882c5e02c63"
   },
   "outputs": [
    {
     "name": "stdout",
     "output_type": "stream",
     "text": [
      "halo semua\n"
     ]
    }
   ],
   "source": [
    "print(\"halo\" + \" \" + \"semua\")"
   ]
  },
  {
   "cell_type": "code",
   "execution_count": 45,
   "id": "7adcf040",
   "metadata": {},
   "outputs": [
    {
     "name": "stdout",
     "output_type": "stream",
     "text": [
      "halo semua\n"
     ]
    }
   ],
   "source": [
    "print(\"halo\",\"semua\")"
   ]
  },
  {
   "cell_type": "markdown",
   "id": "16cc110f-ca3b-40fd-9870-21145bf4bb9c",
   "metadata": {
    "id": "16cc110f-ca3b-40fd-9870-21145bf4bb9c"
   },
   "source": [
    "bagaimana kalo kita ingin menambah angka kedalam teks kita?"
   ]
  },
  {
   "cell_type": "code",
   "execution_count": 46,
   "id": "c83516d0-2505-449e-8c2c-78bc183459d6",
   "metadata": {
    "id": "c83516d0-2505-449e-8c2c-78bc183459d6",
    "outputId": "6d7f5124-a991-4062-98e8-e825d34fb8cf",
    "tags": []
   },
   "outputs": [
    {
     "ename": "TypeError",
     "evalue": "can only concatenate str (not \"int\") to str",
     "output_type": "error",
     "traceback": [
      "\u001b[1;31m---------------------------------------------------------------------------\u001b[0m",
      "\u001b[1;31mTypeError\u001b[0m                                 Traceback (most recent call last)",
      "\u001b[1;32mC:\\Users\\ADESAT~1\\AppData\\Local\\Temp/ipykernel_6204/1066123115.py\u001b[0m in \u001b[0;36m<module>\u001b[1;34m\u001b[0m\n\u001b[1;32m----> 1\u001b[1;33m \u001b[0mprint\u001b[0m\u001b[1;33m(\u001b[0m\u001b[1;34m\"Umur Saya\"\u001b[0m \u001b[1;33m+\u001b[0m \u001b[1;36m25\u001b[0m\u001b[1;33m)\u001b[0m\u001b[1;33m\u001b[0m\u001b[1;33m\u001b[0m\u001b[0m\n\u001b[0m",
      "\u001b[1;31mTypeError\u001b[0m: can only concatenate str (not \"int\") to str"
     ]
    }
   ],
   "source": [
    "print(\"Umur Saya\" + 25)"
   ]
  },
  {
   "cell_type": "code",
   "execution_count": null,
   "id": "bd97d0c8-f5df-4c54-aed1-847a55926949",
   "metadata": {
    "id": "bd97d0c8-f5df-4c54-aed1-847a55926949",
    "outputId": "8802e0ff-396c-4a67-f63a-a37ee6e221d9"
   },
   "outputs": [],
   "source": [
    "print (\"Umur Saya\",25)\n",
    "print (\"Umur Saya \" + str(25))\n",
    "print (\"Umur Saya %s \" % 25)"
   ]
  },
  {
   "cell_type": "code",
   "execution_count": null,
   "id": "c7342f2b-f829-44cf-b6e6-e201212043d0",
   "metadata": {
    "id": "c7342f2b-f829-44cf-b6e6-e201212043d0",
    "outputId": "7fbf2115-87dd-421c-e27e-9f161a7cf741"
   },
   "outputs": [],
   "source": [
    "#kita juga bisa mengalikan string dengan angka yang akan menampilkan string sebanyak angka\n",
    "print(\"halo \"*5)"
   ]
  },
  {
   "cell_type": "markdown",
   "id": "3201e288-c0e4-438d-9e4e-bf23eaad005e",
   "metadata": {
    "id": "3201e288-c0e4-438d-9e4e-bf23eaad005e"
   },
   "source": [
    "#### String Methods\n",
    "\n",
    "> Semua metode string mengembalikan nilai baru. Mereka tidak mengubah string asli.\n",
    "\n",
    "|Metode|Deskripsi|\n",
    "| :-: | :-: | \n",
    "|capitalize()| Mengubah karakter pertama menjadi huruf besar|\n",
    "|title()|Mengubah huruf pertama pada setiap kata menjadi huruf besar|\n",
    "|lower()|Mengubah semua karakter  menjadi huruf kecil|\n",
    "|upper()|Mengubah semua karakter menjadi huruf besar|\n",
    "|strip()|Menghilangkan spasi berlebih|\n",
    "|lstrip()|Menghilangkan spasi berlebih pada bagian kiri string|\n",
    "|rstrip()|Menghilangkan spasi berlebih pada bagian kanan string|\n",
    "|split()|Memotong string pada karakter yang ditentukan, dan dioutput sebagai list|\n",
    "\n",
    "sumber: https://www.w3schools.com/python/python_ref_string.asp"
   ]
  },
  {
   "cell_type": "code",
   "execution_count": null,
   "id": "c611d2aa-f001-4dad-8ac4-bf8a847b9e5f",
   "metadata": {
    "id": "c611d2aa-f001-4dad-8ac4-bf8a847b9e5f",
    "outputId": "8fd1215b-5286-4b0b-e272-ffda6b3d564f"
   },
   "outputs": [],
   "source": [
    "A = 'python for data analytics'\n",
    "A.capitalize()"
   ]
  },
  {
   "cell_type": "code",
   "execution_count": null,
   "id": "b5fb235b-0834-4212-896c-696ca9da3924",
   "metadata": {
    "id": "b5fb235b-0834-4212-896c-696ca9da3924",
    "outputId": "480f47c6-1ebd-4d72-f721-176057fe22a1",
    "tags": []
   },
   "outputs": [],
   "source": [
    "A.title()"
   ]
  },
  {
   "cell_type": "code",
   "execution_count": 47,
   "id": "caf47871-a0db-4264-aca9-80edc0ed2507",
   "metadata": {
    "id": "caf47871-a0db-4264-aca9-80edc0ed2507"
   },
   "outputs": [],
   "source": [
    "A.upper()\n",
    "A = A.upper() "
   ]
  },
  {
   "cell_type": "code",
   "execution_count": 48,
   "id": "74990ceb-84ef-42a2-a85b-545387933de1",
   "metadata": {
    "id": "74990ceb-84ef-42a2-a85b-545387933de1",
    "outputId": "48f8e143-be1c-4c8a-dd84-17414702d679"
   },
   "outputs": [
    {
     "data": {
      "text/plain": [
       "'PYTHON'"
      ]
     },
     "execution_count": 48,
     "metadata": {},
     "output_type": "execute_result"
    }
   ],
   "source": [
    "A"
   ]
  },
  {
   "cell_type": "code",
   "execution_count": 49,
   "id": "1ffe76b6-250a-429a-93c3-4366d422ec39",
   "metadata": {
    "id": "1ffe76b6-250a-429a-93c3-4366d422ec39",
    "outputId": "4a3abf32-33ed-4d20-cfaa-9dee3020f7ea"
   },
   "outputs": [
    {
     "data": {
      "text/plain": [
       "'python'"
      ]
     },
     "execution_count": 49,
     "metadata": {},
     "output_type": "execute_result"
    }
   ],
   "source": [
    "A.lower()"
   ]
  },
  {
   "cell_type": "code",
   "execution_count": 50,
   "id": "24c88f7b-90fb-4271-9980-93dd6e2281c0",
   "metadata": {
    "id": "24c88f7b-90fb-4271-9980-93dd6e2281c0",
    "outputId": "1f16ce50-6950-4c4b-9cd6-c4b59e45eb2f",
    "tags": []
   },
   "outputs": [
    {
     "data": {
      "text/plain": [
       "'python for data analytics'"
      ]
     },
     "execution_count": 50,
     "metadata": {},
     "output_type": "execute_result"
    }
   ],
   "source": [
    "A = '    python for data analytics   '\n",
    "A.strip()"
   ]
  },
  {
   "cell_type": "code",
   "execution_count": 51,
   "id": "8881520f-d3ce-4180-90c1-992cc2c7aef1",
   "metadata": {
    "id": "8881520f-d3ce-4180-90c1-992cc2c7aef1",
    "outputId": "e285d3a7-d5e3-4cd3-ddc3-a81077e7b33c"
   },
   "outputs": [
    {
     "data": {
      "text/plain": [
       "'python for data analytics   '"
      ]
     },
     "execution_count": 51,
     "metadata": {},
     "output_type": "execute_result"
    }
   ],
   "source": [
    "A.lstrip()"
   ]
  },
  {
   "cell_type": "code",
   "execution_count": 52,
   "id": "c91b50b2-33d2-45ee-9822-3da51d146c95",
   "metadata": {
    "id": "c91b50b2-33d2-45ee-9822-3da51d146c95",
    "outputId": "69f3708a-6363-4cb2-c140-cde2e9fd5fa8"
   },
   "outputs": [
    {
     "data": {
      "text/plain": [
       "'    python for data analytics'"
      ]
     },
     "execution_count": 52,
     "metadata": {},
     "output_type": "execute_result"
    }
   ],
   "source": [
    "A.rstrip()"
   ]
  },
  {
   "cell_type": "code",
   "execution_count": 53,
   "id": "ed3740f3-2b59-4b39-a729-fa133f32ee93",
   "metadata": {
    "id": "ed3740f3-2b59-4b39-a729-fa133f32ee93",
    "outputId": "19c6cfbe-7e4a-49a0-8121-e1fc39c6d099"
   },
   "outputs": [
    {
     "data": {
      "text/plain": [
       "['python for', ' data analytics']"
      ]
     },
     "execution_count": 53,
     "metadata": {},
     "output_type": "execute_result"
    }
   ],
   "source": [
    "A = 'python for, data analytics'\n",
    "A.split(',')"
   ]
  },
  {
   "cell_type": "markdown",
   "id": "6098e72e-adfb-410e-867c-6056eb5518ea",
   "metadata": {
    "id": "6098e72e-adfb-410e-867c-6056eb5518ea"
   },
   "source": [
    "---\n",
    "**Latihan**"
   ]
  },
  {
   "cell_type": "code",
   "execution_count": 54,
   "id": "b7f42486-8ee2-4a21-9cc6-08fcff84327f",
   "metadata": {
    "id": "b7f42486-8ee2-4a21-9cc6-08fcff84327f",
    "outputId": "7d6e4682-f855-426f-df4c-ab4f000fd5fc"
   },
   "outputs": [
    {
     "ename": "SyntaxError",
     "evalue": "invalid syntax (Temp/ipykernel_6204/2761512633.py, line 6)",
     "output_type": "error",
     "traceback": [
      "\u001b[1;36m  File \u001b[1;32m\"C:\\Users\\ADESAT~1\\AppData\\Local\\Temp/ipykernel_6204/2761512633.py\"\u001b[1;36m, line \u001b[1;32m6\u001b[0m\n\u001b[1;33m    print(.......)\u001b[0m\n\u001b[1;37m             ^\u001b[0m\n\u001b[1;31mSyntaxError\u001b[0m\u001b[1;31m:\u001b[0m invalid syntax\n"
     ]
    }
   ],
   "source": [
    "#gabungkan ketiga variabel tersebut menjadi 'Python For Data Analytics' (perhatikan huruf kapital)\n",
    "A = 'PYTHON'\n",
    "B = 'for'\n",
    "C = 'Data Analytics'\n",
    "\n",
    "print(.......)"
   ]
  },
  {
   "cell_type": "markdown",
   "id": "0b624327",
   "metadata": {},
   "source": [
    "### DataTypes\n",
    "\n",
    "Terdapat empat built-in data types yang digunakan untuk menyimpan data di Python \n",
    "1. List,\n",
    "2. Tuple, \n",
    "3. Set,\n",
    "4. Dictionary\n",
    "\n",
    "Perbedaan dari keempat tipe data di atas adalah :\n",
    "\n",
    "| **Pembeda**           | **List**          | **Tuple**              | **Set**                 | **Dictonary**                                |\n",
    "|:------------------|:--------------|:-------------------|:--------------------|:-----------------------------------------|\n",
    "| Bentuk            | [a,b,c]       | (a,b,c)            | {a,b,c}             | {a:x, b:y, c:z}                          |\n",
    "| Duplikasi Item    | Diperbolehkan | Diperbolehkan      | Tidak diperbolehkan | Tidak diperbolehkan (kunci maupun nilai) |\n",
    "| Order/Unordered   | Ordered       | Ordered            | Unordered           | Unordered                                |\n",
    "| Keterubahan Nilai | Dapat Diubah  | Tidak Dapat Diubah | Dapat Diubah        | Dapat Diubah                             |"
   ]
  },
  {
   "cell_type": "markdown",
   "id": "3181ee3e-2d4d-4ec2-82fd-b3cdd88b3177",
   "metadata": {
    "id": "3181ee3e-2d4d-4ec2-82fd-b3cdd88b3177"
   },
   "source": [
    "### List\n",
    "\n",
    "> Untuk menyimpan lebih dari satu value dalam satu variabel. Value dapat diakses menggunakan indeks urutan serta nilai dalam list dapat ditamba, dihapus, dan diubah. List ditandai dengan penggunaan ```[]```."
   ]
  },
  {
   "cell_type": "code",
   "execution_count": 55,
   "id": "fe2e2071-e8bf-45d8-97ac-267dd6774a8f",
   "metadata": {
    "id": "fe2e2071-e8bf-45d8-97ac-267dd6774a8f",
    "outputId": "12fbcc00-6f81-4f1c-ba7f-f4844a7f7812"
   },
   "outputs": [
    {
     "name": "stdout",
     "output_type": "stream",
     "text": [
      "[1, 2, 3, 4, 5]\n",
      "<class 'list'>\n"
     ]
    }
   ],
   "source": [
    "# membuat list dengan value tipe data int\n",
    "int_list = [1, 2, 3, 4, 5]\n",
    "print(int_list)\n",
    "print(type(int_list))"
   ]
  },
  {
   "cell_type": "code",
   "execution_count": 56,
   "id": "b6878b1f-0872-4435-9ba8-4505ef1d5988",
   "metadata": {
    "id": "b6878b1f-0872-4435-9ba8-4505ef1d5988",
    "outputId": "be8b61ef-c03e-43fa-f8fa-ca8274253cb4"
   },
   "outputs": [
    {
     "name": "stdout",
     "output_type": "stream",
     "text": [
      "['a', 'b', 'c', 'd']\n",
      "<class 'list'>\n"
     ]
    }
   ],
   "source": [
    "# membuat list dengan value tipe data str\n",
    "str_list = list(('a', 'b', 'c', 'd'))\n",
    "print(str_list)\n",
    "print(type(str_list))"
   ]
  },
  {
   "cell_type": "code",
   "execution_count": 57,
   "id": "d41c295e-80e7-41e7-b7ea-b43b9eafa8b3",
   "metadata": {
    "id": "d41c295e-80e7-41e7-b7ea-b43b9eafa8b3",
    "outputId": "19b17f79-3577-4e6d-dd6e-b6183a4f6221"
   },
   "outputs": [
    {
     "name": "stdout",
     "output_type": "stream",
     "text": [
      "[1, 2, 'a', 'b']\n",
      "<class 'list'>\n"
     ]
    }
   ],
   "source": [
    "# list juga mampu menampung value dengan tipe data berbeda\n",
    "mix_list = [1, 2, 'a', 'b']\n",
    "print(mix_list)\n",
    "print(type(mix_list))"
   ]
  },
  {
   "cell_type": "code",
   "execution_count": 58,
   "id": "264b72e0-c493-4d9d-9783-68a9d6583c9c",
   "metadata": {
    "id": "264b72e0-c493-4d9d-9783-68a9d6583c9c",
    "outputId": "27fec24c-f605-4bed-8776-d84a1b86569f"
   },
   "outputs": [
    {
     "name": "stdout",
     "output_type": "stream",
     "text": [
      "[1, 2, [2.6, 8], 'a']\n",
      "<class 'list'>\n"
     ]
    }
   ],
   "source": [
    "# list kemudian mampu menampung list dalam list\n",
    "list_inlist =  [1, 2, [2.6, 8], 'a']\n",
    "print(list_inlist)\n",
    "print(type(list_inlist))"
   ]
  },
  {
   "cell_type": "markdown",
   "id": "7ece1539-e194-418e-a440-60d1374d7c20",
   "metadata": {
    "id": "7ece1539-e194-418e-a440-60d1374d7c20"
   },
   "source": [
    "List dapat dimodifikasi menggunakan ```method```. Berikut method umum yang disediakan oleh Python:\n",
    "\n",
    "|Method| Deskripsi|Contoh |Hasil |\n",
    "|:--|:--|:--|:--|\n",
    "|append()|\tMenambahkan elemen ke dalam list pada urutan paling belakang | `lst.append('N')` | `lst = ['Y', 'O', 'S', 'A', 'N']`|\n",
    "|clear()|\tMenghapus seluruh elemen dalam list | `lst.clear()` | `lst = []`\n",
    "|copy()|\tMenghasilkan kopi dari list | `lst2 = lst.copy()` | `lst2 = ['Y', 'O', 'S', 'A']`|\n",
    "|count()|\tMenghasilkan jumlah elemen dalam satu list | `lst.count('Y')` | `1` |\n",
    "|extend()|\tMenggabungkan elemen iterabel ke dalam list | `lst.extend(['N', 'G'])` | `lst = ['Y', 'O', 'S', 'A', 'N', 'G']`|\n",
    "|index()|\tMenemukan lokasi pertama suatu elemen dalam list | `lst.index('S')` | `2` |\n",
    "|insert()|\tMenambahkan elemen ke dalam posisi tertentu dalam list | `lst.insert(3, 'I')` | `lst = ['Y', 'O', 'S', 'I', 'A']`|\n",
    "|pop()|\tMenghapus elemen list yang berada dalam posisi terkait | `lst.pop(2)` | `lst = ['Y', 'O', 'A']`|\n",
    "|remove()|\tMenghapus item pertama dengan nilai tertentu dalam suatu list | `lst.remove('O')` | `lst = ['Y', 'S', 'A']`|\n",
    "|reverse()|\tmembalik urutan list | `lst.reverse()` | `lst = ['A', 'S', 'O', 'Y']` |\n",
    "|sort()|\tMengurutkan elemen list | `lst.sort()` |`lst = ['A', 'O', 'S', 'Y']`|"
   ]
  },
  {
   "cell_type": "code",
   "execution_count": 59,
   "id": "d9a112aa-ad4d-486c-9aa2-559d59086e35",
   "metadata": {
    "id": "d9a112aa-ad4d-486c-9aa2-559d59086e35"
   },
   "outputs": [],
   "source": [
    "# kita akan mencoba menambah value ke dalam list menggunakan .append()\n",
    "int_list = [1, 2, 3, 4, 5]\n",
    "int_list.append(0)"
   ]
  },
  {
   "cell_type": "code",
   "execution_count": 60,
   "id": "87223691-def9-4ff0-8700-06d96ebcc468",
   "metadata": {
    "id": "87223691-def9-4ff0-8700-06d96ebcc468",
    "outputId": "ff3e985a-863c-4ef1-d402-883c4e1efbfc"
   },
   "outputs": [
    {
     "name": "stdout",
     "output_type": "stream",
     "text": [
      "[1, 2, 3, 4, 5, 0]\n"
     ]
    }
   ],
   "source": [
    "print(int_list)"
   ]
  },
  {
   "cell_type": "code",
   "execution_count": 61,
   "id": "ab58ebe8-8eb8-4a29-98cd-e4d2b8eb2f02",
   "metadata": {
    "id": "ab58ebe8-8eb8-4a29-98cd-e4d2b8eb2f02"
   },
   "outputs": [],
   "source": [
    "# kita akan mencoba mengurutkan value di dalam list menggunakan .sort()\n",
    "int_list.sort()"
   ]
  },
  {
   "cell_type": "code",
   "execution_count": 62,
   "id": "2c568c2a-4cd6-4775-bab6-81bbf2a206fa",
   "metadata": {
    "id": "2c568c2a-4cd6-4775-bab6-81bbf2a206fa",
    "outputId": "c42b6cbb-8b6c-4024-b3d8-8be3aa76b7ad"
   },
   "outputs": [
    {
     "name": "stdout",
     "output_type": "stream",
     "text": [
      "[0, 1, 2, 3, 4, 5]\n"
     ]
    }
   ],
   "source": [
    "print(int_list)"
   ]
  },
  {
   "cell_type": "code",
   "execution_count": 63,
   "id": "df30c291-88dd-467c-a09b-782e5092dd39",
   "metadata": {
    "id": "df30c291-88dd-467c-a09b-782e5092dd39",
    "outputId": "771df78c-f352-4623-ff42-47996c767bcd"
   },
   "outputs": [
    {
     "name": "stdout",
     "output_type": "stream",
     "text": [
      "[0, 1, 2, 3, 4, 5, 0, 1, 2, 3, 4, 5, 0, 1, 2, 3, 4, 5]\n"
     ]
    }
   ],
   "source": [
    "# kita akan mencoba mengalikan variable int_list\n",
    "int_list *= 3\n",
    "print(int_list)\n",
    "# list yang dihasilkan, bukan mengalikan masing-masing value di dalam int_list sebanyak 3 kali\n",
    "# tapi melakukan pengulangan print valuenya sebanyak 3 kali"
   ]
  },
  {
   "cell_type": "markdown",
   "id": "08e7da49-82c6-4d49-a1b0-b5337457bb70",
   "metadata": {
    "id": "08e7da49-82c6-4d49-a1b0-b5337457bb70"
   },
   "source": [
    "### Tuple"
   ]
  },
  {
   "cell_type": "markdown",
   "id": "cd97302b-863a-4c3a-97a5-222f36022e84",
   "metadata": {
    "id": "cd97302b-863a-4c3a-97a5-222f36022e84"
   },
   "source": [
    "> Kumpulan objek Python seperti ```list```, namun tidak dapat diubah nilainya setelah didefinisikan (immutable). Tuple ditandai dengan penggunaan ```()```."
   ]
  },
  {
   "cell_type": "code",
   "execution_count": 64,
   "id": "28f61351-e8ff-445d-94f7-fa5ce00e75c4",
   "metadata": {
    "id": "28f61351-e8ff-445d-94f7-fa5ce00e75c4",
    "outputId": "075aca0d-beab-49f8-f4ce-ba0dc49f4792"
   },
   "outputs": [
    {
     "name": "stdout",
     "output_type": "stream",
     "text": [
      "(1, 2, 3, 4, 5)\n",
      "<class 'tuple'>\n"
     ]
    }
   ],
   "source": [
    "int_tuple = (1, 2, 3, 4, 5)\n",
    "print(int_tuple)\n",
    "print(type(int_tuple))"
   ]
  },
  {
   "cell_type": "code",
   "execution_count": 65,
   "id": "4363976a-327e-4af2-9a1d-61ae0cb6f478",
   "metadata": {
    "id": "4363976a-327e-4af2-9a1d-61ae0cb6f478",
    "outputId": "c4bfa8ca-38d4-456b-cc51-5d573ee5664d"
   },
   "outputs": [
    {
     "name": "stdout",
     "output_type": "stream",
     "text": [
      "[1, 2, 3, 4, 5]\n",
      "<class 'list'>\n"
     ]
    }
   ],
   "source": [
    "# walaupun tuple itu immutable\n",
    "# kita bisa merubah tipenya menjadi list, dictionary, dsb\n",
    "# kita akan mencoba merubah int_tuple menjadi list\n",
    "list_int_tuple = list(int_tuple)\n",
    "print(list_int_tuple)\n",
    "print(type(list_int_tuple))"
   ]
  },
  {
   "cell_type": "markdown",
   "id": "b024b6be-338f-40e5-a104-6cb23d29d7df",
   "metadata": {
    "id": "b024b6be-338f-40e5-a104-6cb23d29d7df"
   },
   "source": [
    "### Set\n",
    "\n",
    "> Kumpulan object Python yang memiliki nilai unik ```(tidak menerima duplikasi)``` dan elemennya tidak dapat diakses dengan indeks."
   ]
  },
  {
   "cell_type": "code",
   "execution_count": 66,
   "id": "265824ab-d166-4d6f-87ac-308be5432b59",
   "metadata": {
    "id": "265824ab-d166-4d6f-87ac-308be5432b59",
    "outputId": "cddc2a34-8bd6-431f-9bee-4dcd336f305c"
   },
   "outputs": [
    {
     "name": "stdout",
     "output_type": "stream",
     "text": [
      "{1, 2, 3}\n",
      "<class 'set'>\n"
     ]
    }
   ],
   "source": [
    "# perhatikan interaksi yang terjadi\n",
    "# kita akan membuat variable set dengan value yang duplicate di dalamnya\n",
    "int_set = set((1, 1, 2, 2, 3, 3))\n",
    "print(int_set)\n",
    "print(type(int_set))"
   ]
  },
  {
   "cell_type": "markdown",
   "id": "2ab746ce-8b5a-45ae-bda1-708bec497580",
   "metadata": {
    "id": "2ab746ce-8b5a-45ae-bda1-708bec497580"
   },
   "source": [
    "Set dapat dimodifikasi menggunakan ```method```. Berikut method umum yang disediakan oleh Python:\n",
    "\n",
    "|Method| Deskripsi|Contoh |\n",
    "|:--|:--|:--|\n",
    "|add()|\tMenambahkan elemen ke dalam set pada urutan paling belakang | `a.update(6)` |\n",
    "|clear()|\tMenghapus seluruh elemen dalam set | `a.clear()` |\n",
    "|remove()|\tMenghapus elemen  tertentu dalam suatu set | `lst.remove('O')` | `lst = ['Y', 'O', 'S', 'A']`|\n",
    "|update()|\tMenambahkan iterable ke dalam set | `a.update([5, 6, 7])` |"
   ]
  },
  {
   "cell_type": "code",
   "execution_count": 67,
   "id": "51329b24-7c6f-4636-b6d0-67e3a61d6a00",
   "metadata": {
    "id": "51329b24-7c6f-4636-b6d0-67e3a61d6a00",
    "outputId": "b1c79735-446e-4018-b475-86c5920ef6c2"
   },
   "outputs": [
    {
     "name": "stdout",
     "output_type": "stream",
     "text": [
      "{2, 3}\n"
     ]
    }
   ],
   "source": [
    "# kita akan mencoba menghapus value menggunakan .remove()\n",
    "int_set.remove(1)\n",
    "print(int_set)"
   ]
  },
  {
   "cell_type": "markdown",
   "id": "77849af1-b9f7-4a00-bcc7-5f43e55acb72",
   "metadata": {
    "id": "77849af1-b9f7-4a00-bcc7-5f43e55acb72"
   },
   "source": [
    "### Dictionary\n",
    "\n",
    "> Kumpulan object yang terdiri dari pasangan key (unik) dan value (nilai). Nilai dapat berupa text, number, boolean, maupun list. Dictionary ditandai dengan penggunaan ```{}```."
   ]
  },
  {
   "cell_type": "code",
   "execution_count": 68,
   "id": "0394250e-d3cd-4103-93fe-777fdcf548a3",
   "metadata": {
    "id": "0394250e-d3cd-4103-93fe-777fdcf548a3"
   },
   "outputs": [],
   "source": [
    "num_of_employee = {'SETJEN' : 2665, 'DJP' : 45960, 'ITJEN': 715, 'DJPK': 547}"
   ]
  },
  {
   "cell_type": "code",
   "execution_count": 69,
   "id": "5805f3ac-c190-49a3-8c57-d2a21e7b6b27",
   "metadata": {
    "id": "5805f3ac-c190-49a3-8c57-d2a21e7b6b27",
    "outputId": "6bcc2468-4a42-4ea8-ae69-32730943e547"
   },
   "outputs": [
    {
     "name": "stdout",
     "output_type": "stream",
     "text": [
      "<class 'dict'>\n"
     ]
    }
   ],
   "source": [
    "# kita akan mencoba\n",
    "print(type(num_of_employee))"
   ]
  },
  {
   "cell_type": "code",
   "execution_count": 70,
   "id": "93828ee4-0e62-4fd1-8657-17e628eaff1a",
   "metadata": {
    "id": "93828ee4-0e62-4fd1-8657-17e628eaff1a",
    "outputId": "630ba6c2-1629-4981-e258-a5d2f487411b"
   },
   "outputs": [
    {
     "name": "stdout",
     "output_type": "stream",
     "text": [
      "2665\n"
     ]
    }
   ],
   "source": [
    "# kita dapat mengakses nilai(value) dari key tertentu dengan cara berikut\n",
    "print(num_of_employee['SETJEN'])"
   ]
  },
  {
   "cell_type": "code",
   "execution_count": 71,
   "id": "70e67162-666f-4fec-8c83-ba5e7248e8a9",
   "metadata": {
    "id": "70e67162-666f-4fec-8c83-ba5e7248e8a9",
    "outputId": "d21dc455-87f2-409e-ab13-3fbf255159e6"
   },
   "outputs": [
    {
     "name": "stdout",
     "output_type": "stream",
     "text": [
      "SETJEN\n",
      "DJP\n",
      "ITJEN\n",
      "DJPK\n"
     ]
    }
   ],
   "source": [
    "# kemudian kita bisa melakuan mengakses key dan value di dalam dictionary menggunakan looping\n",
    "for key, value in num_of_employee.items():\n",
    "    print(key)"
   ]
  },
  {
   "cell_type": "code",
   "execution_count": 72,
   "id": "63263080-ed0d-4176-a252-5847109be124",
   "metadata": {
    "id": "63263080-ed0d-4176-a252-5847109be124",
    "outputId": "44d6f3ba-dceb-49bb-8ac8-940ed64af991"
   },
   "outputs": [
    {
     "name": "stdout",
     "output_type": "stream",
     "text": [
      "2665\n",
      "45960\n",
      "715\n",
      "547\n"
     ]
    }
   ],
   "source": [
    "# kemudian kita bisa melakuan mengakses key dan value di dalam dictionary menggunakan looping\n",
    "# looping akan dibahas lebih dalam kemudian\n",
    "for key, value in num_of_employee.items():\n",
    "    print(value)"
   ]
  },
  {
   "cell_type": "code",
   "execution_count": 73,
   "id": "dadb9a83-4776-458d-97a7-281e07b21545",
   "metadata": {
    "id": "dadb9a83-4776-458d-97a7-281e07b21545",
    "outputId": "c35f2332-3fcd-4eb5-f2e0-28d67f8fd61e"
   },
   "outputs": [
    {
     "data": {
      "text/plain": [
       "{'SETJEN': 2665, 'DJP': 45960, 'ITJEN': 715, 'DJPK': 547, 'BPPK': 1200}"
      ]
     },
     "execution_count": 73,
     "metadata": {},
     "output_type": "execute_result"
    }
   ],
   "source": [
    "# jika kita ingin menambahkan key dan value baru ke dalam dictionary\n",
    "num_of_employee['BPPK'] = 1200\n",
    "\n",
    "num_of_employee"
   ]
  },
  {
   "cell_type": "markdown",
   "id": "83azihrYn3pQ",
   "metadata": {
    "id": "83azihrYn3pQ"
   },
   "source": [
    "Dictionary dapat dimodifikasi menggunakan ```method```. Berikut method umum yang disediakan oleh Python:\n",
    "\n",
    "|Method| Deskripsi|Contoh |Hasil |\n",
    "|:--|:--|:--|:--|\n",
    "|clear()|\tMenghapus seluruh elemen dalam dictionary | `thisdict.clear()` | `thisdict = {}`|\n",
    "|copy()|\tMenghasilkan kopi dari dictionary | `thisdict2 = thisdict.copy()` | `thisdict2 = {'SETJEN' : 2665, 'DJP' : 45960, 'ITJEN': 715, 'DJPK': 547}`|\n",
    "|fromkeys()|\tMembuat dictionary dari keys dan value yang telah ditetapkan | `thisdict = dict.fromkeys(keys, value)` | `thisdict = {'key1': value, 'key2': value, 'key3': value}` |\n",
    "|get()|\tMendapatkan value dari sebuah key | `thisdict.get('SETJEN')` | `2665`|\n",
    "|items()|\tMenampilkan  pasangan key dan value dalam dictionary | `thisdict.items()` | `dict_items([('SETJEN', 2665), ('DJP', 45960), ('ITJEN', 715), ('DJPK', 547)])` |\n",
    "|keys()|\tMenampilkan  keys dalam dictionary | `thisdict.keys()` | `dict_keys(['SETJEN', 'DJP', 'ITJEN', 'DJPK'])`|\n",
    "|pop()|\tMenghapus elemen dictionary yang mempunyai key terkait | `thisdict.pop('DJPK)` | `thisdict = {'SETJEN': 2665, 'DJP': 45960, 'ITJEN': 715}`|\n",
    "|popitem()|\tMenghapus pasangan key-value terakhir | `thisdict.popitem()` | `thisdict = {'SETJEN': 2665, 'DJP': 45960}`|\n",
    "|setdefault()|\tMendapatkan value dari sebuah key jika sudah ada, jika belum ada, menambah key tersebut ke dictionary dengan  value yang ditentukan | `thisdict.setdefault('MENTERI', 1)` | `thisdict = {'SETJEN': 2665, 'DJP': 45960, 'MENTERI': 1} ` |\n",
    "|update()|\tMemasukkan items (key-value) ke dictionary | `thisdict.update({'DJA' : 1000})` |`thisdict = {'SETJEN': 2665, 'DJP': 45960, 'MENTERI': 1, 'DJA': 1000}`|\n",
    "|values()|\tMenampilkan values dalam dictionary | `thisdict.values()` |`dict_values([2665, 45960, 1, 1000])`|"
   ]
  },
  {
   "cell_type": "markdown",
   "id": "f7ec1d0b-c4a8-4987-86cb-00625a77355d",
   "metadata": {
    "id": "f7ec1d0b-c4a8-4987-86cb-00625a77355d"
   },
   "source": [
    "## Indexing dan slicing"
   ]
  },
  {
   "cell_type": "markdown",
   "id": "9e135085-d8bd-423e-a4f6-300d9236a6b8",
   "metadata": {
    "id": "9e135085-d8bd-423e-a4f6-300d9236a6b8"
   },
   "source": [
    "### Indexing\n",
    "\n",
    "> Posisi atas value, Python mengenal bahwa indeks pertama adalah ```0``` bukan ```1```."
   ]
  },
  {
   "cell_type": "code",
   "execution_count": 74,
   "id": "9759e667-763c-4b56-83d7-6d45f039abfe",
   "metadata": {
    "id": "9759e667-763c-4b56-83d7-6d45f039abfe",
    "outputId": "166797c2-d2fd-441d-d2b4-7aaaf9faea7d"
   },
   "outputs": [
    {
     "name": "stdout",
     "output_type": "stream",
     "text": [
      "[1, 2, 3, 4, 5, 0]\n"
     ]
    }
   ],
   "source": [
    "#contoh kita akan membuat sebuah list\n",
    "int_list = [1, 2, 3, 4, 5, 0]\n",
    "print(int_list)"
   ]
  },
  {
   "cell_type": "code",
   "execution_count": 75,
   "id": "a08d39bf-c8e8-49a5-abc7-07f59cf15065",
   "metadata": {
    "id": "a08d39bf-c8e8-49a5-abc7-07f59cf15065",
    "outputId": "ff813554-cc5d-49bd-b106-3ecb2e976115"
   },
   "outputs": [
    {
     "name": "stdout",
     "output_type": "stream",
     "text": [
      "1\n"
     ]
    }
   ],
   "source": [
    "# kita akan mencoba print indexing pertama dari int_list\n",
    "print(int_list[0])"
   ]
  },
  {
   "cell_type": "code",
   "execution_count": 76,
   "id": "3bcb0bd1-d487-4aab-85aa-f3e031c81e68",
   "metadata": {
    "id": "3bcb0bd1-d487-4aab-85aa-f3e031c81e68",
    "outputId": "652d30cf-5713-4705-ae9c-df5229075acd"
   },
   "outputs": [
    {
     "name": "stdout",
     "output_type": "stream",
     "text": [
      "0\n"
     ]
    }
   ],
   "source": [
    "# kita akan mencoba mencari indexing terakhir dari int_list\n",
    "print(int_list[-1])"
   ]
  },
  {
   "cell_type": "code",
   "execution_count": 77,
   "id": "bca33e42-777e-4143-98a7-7110bdce3cfe",
   "metadata": {
    "id": "bca33e42-777e-4143-98a7-7110bdce3cfe",
    "outputId": "92c055ce-b934-43a2-ffd6-cd6b062a9b5e"
   },
   "outputs": [
    {
     "name": "stdout",
     "output_type": "stream",
     "text": [
      "PYTHON\n"
     ]
    }
   ],
   "source": [
    "#hal yang sama juga bisa dilakukan pada type data string\n",
    "text = \"PYTHON\"\n",
    "print(text)"
   ]
  },
  {
   "cell_type": "code",
   "execution_count": 78,
   "id": "1cb019c8-a9aa-4a6a-bb44-da9e81b847f6",
   "metadata": {
    "id": "1cb019c8-a9aa-4a6a-bb44-da9e81b847f6",
    "outputId": "e79fc589-35c1-484c-e4cd-8660fd1a24be"
   },
   "outputs": [
    {
     "name": "stdout",
     "output_type": "stream",
     "text": [
      "Y\n"
     ]
    }
   ],
   "source": [
    "print(text[1])"
   ]
  },
  {
   "cell_type": "code",
   "execution_count": 79,
   "id": "d16544f3-a746-4679-8d80-04ef7af066e6",
   "metadata": {
    "id": "d16544f3-a746-4679-8d80-04ef7af066e6",
    "outputId": "4266a363-f818-41b9-d40f-639ac582e2bd"
   },
   "outputs": [
    {
     "name": "stdout",
     "output_type": "stream",
     "text": [
      "O\n"
     ]
    }
   ],
   "source": [
    "print(text[-2])"
   ]
  },
  {
   "cell_type": "markdown",
   "id": "04e82061-a671-4516-8f32-9c93653d2774",
   "metadata": {
    "id": "04e82061-a671-4516-8f32-9c93653d2774"
   },
   "source": [
    "### Slicing\n",
    "\n",
    "> Penampilkan jarak antar value, konsepnya mirip dengan ```Indexing```. Indexing start dimulai sesuai indexnya, sedangkan indexing end diakhiri index -1."
   ]
  },
  {
   "cell_type": "code",
   "execution_count": 80,
   "id": "43c3ebfa-e93a-48d2-b565-4147b2c1f38e",
   "metadata": {
    "id": "43c3ebfa-e93a-48d2-b565-4147b2c1f38e",
    "outputId": "8c49d3b4-d180-4796-b70b-86b763a88458"
   },
   "outputs": [
    {
     "name": "stdout",
     "output_type": "stream",
     "text": [
      "[1, 2, 3, 4, 5, 0]\n"
     ]
    }
   ],
   "source": [
    "#contoh kita akan membuat sebuah list\n",
    "int_list = [1, 2, 3, 4, 5, 0]\n",
    "print(int_list)"
   ]
  },
  {
   "cell_type": "code",
   "execution_count": 81,
   "id": "03b3be78-0e10-4ea1-a6df-1383b07262e1",
   "metadata": {
    "id": "03b3be78-0e10-4ea1-a6df-1383b07262e1",
    "outputId": "c8480246-858f-48be-89d1-1c8ed7f7e121"
   },
   "outputs": [
    {
     "name": "stdout",
     "output_type": "stream",
     "text": [
      "[1, 2]\n"
     ]
    }
   ],
   "source": [
    "# kita akan mencoba print slicing dari index pertama ke kedua\n",
    "# ingat bahwa python memulai indexnya dari 0\n",
    "# maka untuk indexing start = 0, sedangkan indexing end = 2\n",
    "print(int_list[0:2])"
   ]
  },
  {
   "cell_type": "code",
   "execution_count": 82,
   "id": "a847f194-3811-4f75-a2ab-c90cb024912a",
   "metadata": {
    "id": "a847f194-3811-4f75-a2ab-c90cb024912a",
    "outputId": "70b110dc-0770-402f-c2ef-1289a43dbc25"
   },
   "outputs": [
    {
     "name": "stdout",
     "output_type": "stream",
     "text": [
      "[2, 3, 4, 5, 0]\n"
     ]
    }
   ],
   "source": [
    "# kita akan mencoba melakukan print slicing dari index kedua, sampai akhir\n",
    "print(int_list[1:])"
   ]
  },
  {
   "cell_type": "code",
   "execution_count": 83,
   "id": "427ec3d0-9e86-4799-869d-c756238e1057",
   "metadata": {
    "id": "427ec3d0-9e86-4799-869d-c756238e1057",
    "outputId": "8e398454-1607-4418-bae3-6b7c57e6e686"
   },
   "outputs": [
    {
     "name": "stdout",
     "output_type": "stream",
     "text": [
      "[1, 2, 3, 4, 5]\n"
     ]
    }
   ],
   "source": [
    "# kita akan mencoba melakukan print slicing keseluruhan value, sebelum index kelima\n",
    "# perhatikan interaksi yang terjadi\n",
    "# bandingkan dengan slicing sebelumnya\n",
    "print(int_list[:5])"
   ]
  },
  {
   "cell_type": "markdown",
   "id": "9e7f16d2-cf46-4f97-af44-4b1d53134b04",
   "metadata": {
    "id": "9e7f16d2-cf46-4f97-af44-4b1d53134b04"
   },
   "source": [
    "Python membaca slicing ```int_list[start:stop:skip]```."
   ]
  },
  {
   "cell_type": "markdown",
   "id": "e7d49060-37dc-4be4-a553-97e271208e96",
   "metadata": {
    "id": "e7d49060-37dc-4be4-a553-97e271208e96"
   },
   "source": [
    "## Mutability, Aliasing, Cloning"
   ]
  },
  {
   "cell_type": "markdown",
   "id": "575fee72-ecc9-4db5-a2f8-53536c97316a",
   "metadata": {
    "id": "575fee72-ecc9-4db5-a2f8-53536c97316a"
   },
   "source": [
    "### Mutability"
   ]
  },
  {
   "cell_type": "markdown",
   "id": "d986cab5-3c96-4e3f-9465-69a3f48d7f18",
   "metadata": {
    "id": "d986cab5-3c96-4e3f-9465-69a3f48d7f18"
   },
   "source": [
    "Seperti dijelaskan sebelumnya bahwa :\n",
    "* Tuple memiliki sifat **immutable**. \n",
    "* List memiliki sifat **mutable**. "
   ]
  },
  {
   "cell_type": "code",
   "execution_count": 84,
   "id": "1457a4a6-fb6a-458f-baac-f8e6c56e6952",
   "metadata": {
    "id": "1457a4a6-fb6a-458f-baac-f8e6c56e6952"
   },
   "outputs": [],
   "source": [
    "#mari kita membuat list dan tuple yang berisikan data yang sama\n",
    "int_list = [1, 2, 3, 4, 5, 0]\n",
    "int_tuple = (1, 2, 3, 4, 5, 0)"
   ]
  },
  {
   "cell_type": "code",
   "execution_count": 85,
   "id": "14d187e5-9277-467a-a8b0-033beaf5d5f2",
   "metadata": {
    "id": "14d187e5-9277-467a-a8b0-033beaf5d5f2"
   },
   "outputs": [],
   "source": [
    "#kita coba ubah index ke 2 dari list\n",
    "int_list[2] = 8"
   ]
  },
  {
   "cell_type": "code",
   "execution_count": 86,
   "id": "4f628254-fff2-4990-a86a-5965d10500b4",
   "metadata": {
    "id": "4f628254-fff2-4990-a86a-5965d10500b4",
    "outputId": "9f33edfc-4d31-4da0-df18-d8f3b0174bdd"
   },
   "outputs": [
    {
     "data": {
      "text/plain": [
       "[1, 2, 8, 4, 5, 0]"
      ]
     },
     "execution_count": 86,
     "metadata": {},
     "output_type": "execute_result"
    }
   ],
   "source": [
    "#disini index ke 2 dari list berubah\n",
    "int_list"
   ]
  },
  {
   "cell_type": "code",
   "execution_count": 87,
   "id": "4c1fd7c5-87a1-4872-94f3-89298d658ede",
   "metadata": {
    "id": "4c1fd7c5-87a1-4872-94f3-89298d658ede",
    "outputId": "09f2f7a7-3f7e-4f1d-f5a8-81181c948b31"
   },
   "outputs": [
    {
     "ename": "TypeError",
     "evalue": "'tuple' object does not support item assignment",
     "output_type": "error",
     "traceback": [
      "\u001b[1;31m---------------------------------------------------------------------------\u001b[0m",
      "\u001b[1;31mTypeError\u001b[0m                                 Traceback (most recent call last)",
      "\u001b[1;32mC:\\Users\\ADESAT~1\\AppData\\Local\\Temp/ipykernel_6204/4098666481.py\u001b[0m in \u001b[0;36m<module>\u001b[1;34m\u001b[0m\n\u001b[0;32m      1\u001b[0m \u001b[1;31m#jika kita mencoba mengubah index ke 2 dari tuple maka yang kita dapatkan adalah error\u001b[0m\u001b[1;33m\u001b[0m\u001b[1;33m\u001b[0m\u001b[0m\n\u001b[1;32m----> 2\u001b[1;33m \u001b[0mint_tuple\u001b[0m\u001b[1;33m[\u001b[0m\u001b[1;36m2\u001b[0m\u001b[1;33m]\u001b[0m \u001b[1;33m=\u001b[0m \u001b[1;36m8\u001b[0m\u001b[1;33m\u001b[0m\u001b[1;33m\u001b[0m\u001b[0m\n\u001b[0m",
      "\u001b[1;31mTypeError\u001b[0m: 'tuple' object does not support item assignment"
     ]
    }
   ],
   "source": [
    "#jika kita mencoba mengubah index ke 2 dari tuple maka yang kita dapatkan adalah error\n",
    "int_tuple[2] = 8"
   ]
  },
  {
   "cell_type": "markdown",
   "id": "63b67f4d-42c9-4d7b-9c59-9608ca0c8fb7",
   "metadata": {
    "id": "63b67f4d-42c9-4d7b-9c59-9608ca0c8fb7"
   },
   "source": [
    "### Aliasing\n",
    "kita dapat melakuan aliansing pada python. Aliasing terjadi ketika nilai satu variabel ditetapkan ke variabel lain."
   ]
  },
  {
   "cell_type": "code",
   "execution_count": 88,
   "id": "40240862-f7c3-4f45-bcf3-5cae5a37d23c",
   "metadata": {
    "id": "40240862-f7c3-4f45-bcf3-5cae5a37d23c",
    "outputId": "f94e1d67-9ab4-46df-a101-70b642fed885"
   },
   "outputs": [
    {
     "name": "stdout",
     "output_type": "stream",
     "text": [
      "Value of first: PYTHON\n",
      "Reference of first: 2981590329136\n",
      "--------------\n",
      "Value of second: PYTHON\n",
      "Reference of second: 2981590329136\n"
     ]
    }
   ],
   "source": [
    "#python menyimpan data dalam bentuk id\n",
    "#ketika kita melakukan aliasing maka id yang digunakan adalah sama\n",
    "first_variable = \"PYTHON\"\n",
    "print(\"Value of first:\", first_variable)\n",
    "print(\"Reference of first:\", id(first_variable))\n",
    "\n",
    "print(\"--------------\")\n",
    "\n",
    "second_variable = first_variable # making an alias\n",
    "print(\"Value of second:\", second_variable)\n",
    "print(\"Reference of second:\", id(second_variable))\n",
    "\n",
    "#sumber: https://www.codesansar.com/python-programming/aliasing.htm"
   ]
  },
  {
   "cell_type": "code",
   "execution_count": 89,
   "id": "a9079f1b-2b51-4b5e-9679-9eb989616fc4",
   "metadata": {
    "id": "a9079f1b-2b51-4b5e-9679-9eb989616fc4",
    "outputId": "12477936-ef3a-4093-e5ee-f9545f411180"
   },
   "outputs": [
    {
     "name": "stdout",
     "output_type": "stream",
     "text": [
      "[1, 2, 3, 4, 5]\n",
      "[1, 2, 3, 4, 5]\n",
      "[1, 2, 3, 4, 5]\n"
     ]
    }
   ],
   "source": [
    "#aliasing dapat menyebabkan masalah ketika kita ingin mengubah variabel pertama tanpa mengubah variabel kedua atau mengubah variabel kedua tanpa merubah variabel pertama\n",
    "int_data = [1,2,3,4,5]\n",
    "angka_1 = int_data\n",
    "angka_2 = angka_1\n",
    "print(int_data)\n",
    "print(angka_1)\n",
    "print(angka_2)"
   ]
  },
  {
   "cell_type": "code",
   "execution_count": 90,
   "id": "c769a61f-269a-4bc9-8a8b-c0af2ffe4848",
   "metadata": {
    "id": "c769a61f-269a-4bc9-8a8b-c0af2ffe4848",
    "outputId": "c0b3cd4f-ea0f-4bdf-f2ab-e0e27eccfcee"
   },
   "outputs": [
    {
     "name": "stdout",
     "output_type": "stream",
     "text": [
      "2981598423360\n",
      "2981598423360\n",
      "2981598423360\n"
     ]
    }
   ],
   "source": [
    "print(id(int_data))\n",
    "print(id(angka_1))\n",
    "print(id(angka_2))"
   ]
  },
  {
   "cell_type": "code",
   "execution_count": 91,
   "id": "cfd45b74-44fb-4041-a945-4891e8042f56",
   "metadata": {
    "id": "cfd45b74-44fb-4041-a945-4891e8042f56",
    "outputId": "88137c3f-d56d-4fdc-a74a-39893b76336d"
   },
   "outputs": [
    {
     "name": "stdout",
     "output_type": "stream",
     "text": [
      "[1, 2, 3, 4, 5, 6, 7]\n",
      "[1, 2, 3, 4, 5, 6, 7]\n",
      "[1, 2, 3, 4, 5, 6, 7]\n"
     ]
    }
   ],
   "source": [
    "angka_1.append(6)\n",
    "angka_2.append(7)\n",
    "print(int_data)\n",
    "print(angka_1)\n",
    "print(angka_2)"
   ]
  },
  {
   "cell_type": "markdown",
   "id": "bfa0ca55-547e-44ed-a189-dab680314697",
   "metadata": {
    "id": "bfa0ca55-547e-44ed-a189-dab680314697"
   },
   "source": [
    "### Cloning\n",
    "cloning adalah kegiatan menyalin suatu data."
   ]
  },
  {
   "cell_type": "code",
   "execution_count": 92,
   "id": "63400b73-930e-4e52-98f1-585f41ded835",
   "metadata": {
    "id": "63400b73-930e-4e52-98f1-585f41ded835"
   },
   "outputs": [],
   "source": [
    "#mari kita membuat list\n",
    "int_data = [1, 2, 3, 4, 5]\n",
    "#cloning dapat dilakukan dengan beberapa cara\n",
    "#1. menggunakan teknik slicing\n",
    "angka_1 = int_data[:]\n",
    "#2. menggunakan copy method\n",
    "angka_2 = int_data.copy()\n",
    "# beberapa cara lainnya bisa dibaca di https://www.geeksforgeeks.org/python-cloning-copying-list/"
   ]
  },
  {
   "cell_type": "code",
   "execution_count": 93,
   "id": "8b3c27bb-f513-48cd-b83e-e573f51b4909",
   "metadata": {
    "id": "8b3c27bb-f513-48cd-b83e-e573f51b4909",
    "outputId": "21f52376-779a-4ffa-f8f7-2b0a5abdcadc"
   },
   "outputs": [
    {
     "name": "stdout",
     "output_type": "stream",
     "text": [
      "2981599276608\n",
      "2981598440896\n",
      "2981598389056\n"
     ]
    }
   ],
   "source": [
    "print(id(int_data))\n",
    "print(id(angka_1))\n",
    "print(id(angka_2))"
   ]
  },
  {
   "cell_type": "code",
   "execution_count": 94,
   "id": "c026b9a3-e07a-46d4-8908-79ab180f078d",
   "metadata": {
    "id": "c026b9a3-e07a-46d4-8908-79ab180f078d",
    "outputId": "5fade2ec-233b-4f65-ce73-71c69aeba116"
   },
   "outputs": [
    {
     "name": "stdout",
     "output_type": "stream",
     "text": [
      "[1, 2, 3, 4, 5]\n",
      "[1, 2, 3, 4, 5, 6]\n",
      "[1, 2, 3, 4, 5, 7]\n"
     ]
    }
   ],
   "source": [
    "#mari kita coba menambahkan data\n",
    "angka_1.append(6)\n",
    "angka_2.append(7)\n",
    "print(int_data)\n",
    "print(angka_1)\n",
    "print(angka_2)"
   ]
  },
  {
   "cell_type": "markdown",
   "id": "587fbb25-4115-4978-9331-f4b8caffead0",
   "metadata": {
    "id": "587fbb25-4115-4978-9331-f4b8caffead0"
   },
   "source": [
    "---\n",
    "**Latihan**"
   ]
  },
  {
   "cell_type": "code",
   "execution_count": 95,
   "id": "2c416e46-5eaf-4fbf-8d67-4ad34f6d52bb",
   "metadata": {
    "id": "2c416e46-5eaf-4fbf-8d67-4ad34f6d52bb"
   },
   "outputs": [],
   "source": [
    "#hapus nilai 17 dan urutkan angka tersebut\n",
    "list1 = [1,4,5,6,17,3,2,7,8,10,9]\n"
   ]
  },
  {
   "cell_type": "code",
   "execution_count": 96,
   "id": "411dab83-2dd3-4e25-871e-ac6630021cf0",
   "metadata": {
    "id": "411dab83-2dd3-4e25-871e-ac6630021cf0"
   },
   "outputs": [],
   "source": [
    "#buat variabel tuple_ambil dengan isi (5,6,7) yang diambil dari tuple1\n",
    "tuple1 = (1,2,3,4,5,6,7,8,9,10)"
   ]
  },
  {
   "cell_type": "markdown",
   "id": "d0a4bc87-d26d-4922-98c2-417ab0ea19a0",
   "metadata": {
    "id": "d0a4bc87-d26d-4922-98c2-417ab0ea19a0"
   },
   "source": [
    "## Functions"
   ]
  },
  {
   "cell_type": "markdown",
   "id": "b4c0dc46-d428-4591-8b29-cc1e95e4eac3",
   "metadata": {
    "id": "b4c0dc46-d428-4591-8b29-cc1e95e4eac3"
   },
   "source": [
    "<img src=https://files.realpython.com/media/t.74ec5430f457.png width=200 class=\"center\">"
   ]
  },
  {
   "cell_type": "markdown",
   "id": "9e92cca5-cb23-4e77-b8b8-8c331d000e3c",
   "metadata": {
    "id": "9e92cca5-cb23-4e77-b8b8-8c331d000e3c"
   },
   "source": [
    "> Blok kode terorganisir dan dapat digunakan kembali yang digunakan untuk melakukan sebuah tindakan/action. \n",
    "\n",
    "### Build in functions di Python\n",
    "\n",
    "Beberapa function telah disediakan oleh python di antaranya:\n",
    "\n",
    "|||Fungsi Bawaan|||\n",
    "|--|--|--|--|--|\n",
    "|abs()|delattr()|hash()|memoryview()|set()||\n",
    "all()|dict()|help()|min()|setattr()|\n",
    "|any()|dir()|hex()|next()|slice()|\n",
    "|ascii()|divmod()|id()|object()|sorted()|\n",
    "|bin()|enumerate()|input()|oct()|staticmethod()|\n",
    "|bool()|eval()|int()|open()|str()|\n",
    "|breakpoint()|exec()|isinstance()|ord()|sum()|\n",
    "|bytearray()|filter()|issubclass()|pow()|super()|\n",
    "|bytes()|float()|iter()|print()|tuple()|\n",
    "|callable()|format()|len()|property()|type()|\n",
    "|chr()|frozenset()|list()|range()|vars()|\n",
    "|classmethod()|getattr()|locals()|repr()|zip()|\n",
    "|compile()|globals()|map()|reversed()|\\_\\_import\\_\\_()|\n",
    "|complex()|hasattr()|max()|round()||"
   ]
  },
  {
   "cell_type": "code",
   "execution_count": 97,
   "id": "6cefd86e",
   "metadata": {},
   "outputs": [
    {
     "name": "stdout",
     "output_type": "stream",
     "text": [
      "masukan suatu nilai:da\n"
     ]
    },
    {
     "data": {
      "text/plain": [
       "str"
      ]
     },
     "execution_count": 97,
     "metadata": {},
     "output_type": "execute_result"
    }
   ],
   "source": [
    "# fungsi input memungkinkan program menerima masukan nilai dari user, hasilnya otomatis berupa nilai string\n",
    "hey=input('masukan suatu nilai:')\n",
    "type(hey)"
   ]
  },
  {
   "cell_type": "code",
   "execution_count": 98,
   "id": "a6342ff6",
   "metadata": {},
   "outputs": [
    {
     "data": {
      "text/plain": [
       "int"
      ]
     },
     "execution_count": 98,
     "metadata": {},
     "output_type": "execute_result"
    }
   ],
   "source": [
    "# fungsi str, int, float merupakan fungsi type cast untuk mengkonversi type sebuah variable\n",
    "string_nih = int('100')\n",
    "type(string_nih)"
   ]
  },
  {
   "cell_type": "code",
   "execution_count": 99,
   "id": "942408ba",
   "metadata": {},
   "outputs": [
    {
     "name": "stdout",
     "output_type": "stream",
     "text": [
      "True\n"
     ]
    },
    {
     "data": {
      "text/plain": [
       "bool"
      ]
     },
     "execution_count": 99,
     "metadata": {},
     "output_type": "execute_result"
    }
   ],
   "source": [
    "# fungsi eval digunakan untuk mengevaluasi sebuah string dan secara otomatis merubah typenya sesuai dengan isi string tersebut\n",
    "\n",
    "# test_str = '{\"ini_dict\":(100.9,14)}'\n",
    "# test_str = \"100\"\n",
    "# test_str = \"100.7\"\n",
    "test_str = \"True\"\n",
    "\n",
    "print(eval(test_str))\n",
    "type(eval(test_str))"
   ]
  },
  {
   "cell_type": "code",
   "execution_count": 100,
   "id": "682598ae",
   "metadata": {},
   "outputs": [
    {
     "name": "stdout",
     "output_type": "stream",
     "text": [
      "[1, 3, 5, 7, 9]\n"
     ]
    },
    {
     "data": {
      "text/plain": [
       "range(1, 10, 2)"
      ]
     },
     "execution_count": 100,
     "metadata": {},
     "output_type": "execute_result"
    }
   ],
   "source": [
    "#fungsi range digunakan untuk membuat list berisi nilai angka dalam rentang tertentu\n",
    "int_list = range(1,10, 2)\n",
    "print(list(int_list))\n",
    "int_list"
   ]
  },
  {
   "cell_type": "code",
   "execution_count": 101,
   "id": "cc50636c-e7d7-4e04-8297-f3c5198e443b",
   "metadata": {
    "id": "cc50636c-e7d7-4e04-8297-f3c5198e443b",
    "outputId": "d6054495-65d2-4357-b8d1-8bdc07549d2d"
   },
   "outputs": [
    {
     "name": "stdout",
     "output_type": "stream",
     "text": [
      "25\n"
     ]
    }
   ],
   "source": [
    "# kita akan mencoba menjumlah keseluruhan value pada int_list\n",
    "print(sum(int_list))"
   ]
  },
  {
   "cell_type": "code",
   "execution_count": 102,
   "id": "ae6e4e7c-584a-43e2-bd9d-9a1ae5035814",
   "metadata": {
    "id": "ae6e4e7c-584a-43e2-bd9d-9a1ae5035814",
    "outputId": "ecec3ef9-30d6-41a9-c50c-0858f1d478d4"
   },
   "outputs": [
    {
     "name": "stdout",
     "output_type": "stream",
     "text": [
      "9\n"
     ]
    }
   ],
   "source": [
    "# kita akan mencoba mengukur nilai tertinggi dari value di int_list\n",
    "print(max(int_list))"
   ]
  },
  {
   "cell_type": "code",
   "execution_count": 103,
   "id": "25593d99-21ff-4f88-95e2-1dd64f5a39e0",
   "metadata": {
    "id": "25593d99-21ff-4f88-95e2-1dd64f5a39e0",
    "outputId": "2f6f7412-949b-4c07-b500-472a1a5820aa"
   },
   "outputs": [
    {
     "name": "stdout",
     "output_type": "stream",
     "text": [
      "5\n"
     ]
    }
   ],
   "source": [
    "# kita akan mencoba mengukur panjang dari int_list\n",
    "print(len(int_list))\n",
    "# artinya di dalam int_list terdapat 5 value"
   ]
  },
  {
   "cell_type": "markdown",
   "id": "a225f1ba-df49-419e-bf63-e4cfb1a76ab9",
   "metadata": {
    "id": "a225f1ba-df49-419e-bf63-e4cfb1a76ab9"
   },
   "source": [
    "### Membuat fungsi secara manual\n",
    "\n",
    "Beberapa hal dasar yang perlu dipahami:\n",
    "1. Fungsi blok dimulai dengan  kata kunci ```def``` diikuti oleh nama fungsi dan tanda kurung (())sebagai input.\n",
    "2. ```Argumen``` merupakan input dari luar fungsi untuk dapat diproses oleh fungsi.\n",
    "3. ```Return``` digunakan mengembalikan nilai dari proses yang dilakukan sebagai output."
   ]
  },
  {
   "cell_type": "markdown",
   "id": "340cfd72-d817-4e72-baa5-dc5f36d0ff18",
   "metadata": {
    "id": "340cfd72-d817-4e72-baa5-dc5f36d0ff18"
   },
   "source": [
    "def function_name(parameters):\n",
    "<br>    <statement(s)></br>\n",
    "    \n",
    "|Komponen|Arti|\n",
    "|---|---|\n",
    "|def|Kata kunci yang menginformasikan Python bahwa suatu fungsi sedang didefinisikan|\n",
    "|function_name|Pengidentifikasi Python yang valid yang menamai fungsi|\n",
    "|parameters|Daftar parameter opsional yang dipisahkan koma yang dapat diteruskan ke fungsi|\n",
    "|: |Tanda baca yang menunjukkan akhir dari header fungsi Python (nama dan daftar parameter)|\n",
    "|statement(s)|Blok pernyataan Python yang valid|"
   ]
  },
  {
   "cell_type": "code",
   "execution_count": 104,
   "id": "70ce6d0f-f954-4bbe-a29f-4d0f3b4b8413",
   "metadata": {
    "id": "70ce6d0f-f954-4bbe-a29f-4d0f3b4b8413"
   },
   "outputs": [],
   "source": [
    "#contoh fungsi sederhana\n",
    "def tambah_tiga(x):           # > mendefinisikan fungsi bernama tambah_tiga, argumennya x\n",
    "    angka = x+3               # > angka merupakan statement yang isinya perhitungan dari variabel x +3\n",
    "    return angka              # > keluar dari fungsi dan meneruskan isi dari variabel angka"
   ]
  },
  {
   "cell_type": "code",
   "execution_count": 105,
   "id": "e74b2074-dd61-45c1-b317-e6eabb79a657",
   "metadata": {
    "id": "e74b2074-dd61-45c1-b317-e6eabb79a657",
    "outputId": "18a93e3a-e28b-48bf-d65b-1513bdd86345"
   },
   "outputs": [
    {
     "data": {
      "text/plain": [
       "7"
      ]
     },
     "execution_count": 105,
     "metadata": {},
     "output_type": "execute_result"
    }
   ],
   "source": [
    "tambah_tiga(4)"
   ]
  },
  {
   "cell_type": "markdown",
   "id": "5bef628c-ce3b-40fa-b7b5-333b179bac73",
   "metadata": {
    "id": "5bef628c-ce3b-40fa-b7b5-333b179bac73"
   },
   "source": [
    "---\n",
    "**Latihan!**\n"
   ]
  },
  {
   "cell_type": "code",
   "execution_count": 106,
   "id": "16626d2d-d4ce-45d0-b747-a6f47905259b",
   "metadata": {
    "id": "16626d2d-d4ce-45d0-b747-a6f47905259b",
    "outputId": "6fdaa2e8-c55c-41cc-96d9-4b62c41dfba8"
   },
   "outputs": [
    {
     "ename": "SyntaxError",
     "evalue": "invalid syntax (Temp/ipykernel_6204/3109396109.py, line 3)",
     "output_type": "error",
     "traceback": [
      "\u001b[1;36m  File \u001b[1;32m\"C:\\Users\\ADESAT~1\\AppData\\Local\\Temp/ipykernel_6204/3109396109.py\"\u001b[1;36m, line \u001b[1;32m3\u001b[0m\n\u001b[1;33m    .....\u001b[0m\n\u001b[1;37m        ^\u001b[0m\n\u001b[1;31mSyntaxError\u001b[0m\u001b[1;31m:\u001b[0m invalid syntax\n"
     ]
    }
   ],
   "source": [
    "# Buatlah fungsi untuk akar pangkat 3\n",
    "def akar_tiga(x):\n",
    "    ....."
   ]
  },
  {
   "cell_type": "code",
   "execution_count": 107,
   "id": "82ffc73b-3a23-476e-b741-88cfda269270",
   "metadata": {
    "id": "82ffc73b-3a23-476e-b741-88cfda269270"
   },
   "outputs": [],
   "source": [
    "# kita akan mencoba menghitung manual value rata-rata dari int_list\n",
    "def list_mean(some_list):                       # > list_mean judul dari fungsi kita, argumennya some_list\n",
    "    output = sum(some_list) / len(some_list)    # > output itu berisikan rumus dari perhitngan value rata-rata\n",
    "    return output                               # > print output menggunakan return"
   ]
  },
  {
   "cell_type": "code",
   "execution_count": 108,
   "id": "0f9bf963-aef4-4ca3-a3fb-f4bd180fdc29",
   "metadata": {
    "id": "0f9bf963-aef4-4ca3-a3fb-f4bd180fdc29",
    "outputId": "4014fbb6-1ad8-4ff2-de6e-8c013925b4e2",
    "scrolled": true
   },
   "outputs": [
    {
     "name": "stdout",
     "output_type": "stream",
     "text": [
      "5.0\n"
     ]
    }
   ],
   "source": [
    "# print hasil\n",
    "print(list_mean(int_list))"
   ]
  },
  {
   "cell_type": "code",
   "execution_count": 109,
   "id": "96b9bec4-fb61-4c36-ab37-cc0b409766ba",
   "metadata": {
    "id": "96b9bec4-fb61-4c36-ab37-cc0b409766ba"
   },
   "outputs": [],
   "source": [
    "# kita akan mencoba menjumlahkan nilai tertinggi dan terendah dari int_list\n",
    "def min_max(some_list):\n",
    "    output = max(some_list) - min(some_list)\n",
    "    return output"
   ]
  },
  {
   "cell_type": "code",
   "execution_count": 110,
   "id": "64b564be-5ebf-4fb3-8725-e1e8769a55fd",
   "metadata": {
    "id": "64b564be-5ebf-4fb3-8725-e1e8769a55fd",
    "outputId": "f5b50e19-98a3-42cf-d91d-41be8fa39188",
    "scrolled": true
   },
   "outputs": [
    {
     "name": "stdout",
     "output_type": "stream",
     "text": [
      "8\n"
     ]
    }
   ],
   "source": [
    "# print hasi;\n",
    "print(min_max(int_list))"
   ]
  },
  {
   "cell_type": "markdown",
   "id": "3adb09bb-1004-420c-8a42-0c66c7cf2a18",
   "metadata": {
    "id": "3adb09bb-1004-420c-8a42-0c66c7cf2a18"
   },
   "source": [
    "Dalam membuat function perlu diperhatikan bahwa:\n",
    "1. Variable yang ditetapkan dalam tubuh utama dapat diakses dalam function.\n",
    "2. Variable yang ditetapkan dalam function dapat digunakan di dalam function tersebut, tidak dapat digunakan di luar function.\n",
    "3. Untuk membuat variable dalam function berlaku secara global, gunakan perintah global."
   ]
  },
  {
   "cell_type": "code",
   "execution_count": 111,
   "id": "90122ca5-c2f1-4abb-b6bf-9151fa738e1a",
   "metadata": {
    "id": "90122ca5-c2f1-4abb-b6bf-9151fa738e1a"
   },
   "outputs": [],
   "source": [
    "# kita membuat function constant\n",
    "# tidak ada argumen\n",
    "# terdapat variable di dalamnya yaitu pi dan phi\n",
    "# saat kita melakukan perintah `global`, maka variable di dalam function tersebut bisa berlaku secara global\n",
    "def constant():\n",
    "    global pi, phi\n",
    "    pi = 3.14\n",
    "    phi = 1.518"
   ]
  },
  {
   "cell_type": "code",
   "execution_count": 112,
   "id": "4f66ec8a-7f47-47a5-9fc2-8d4f8cecb3bd",
   "metadata": {
    "id": "4f66ec8a-7f47-47a5-9fc2-8d4f8cecb3bd",
    "outputId": "f4da71ed-ce3e-4448-87af-8d0799f9ce97",
    "scrolled": true
   },
   "outputs": [
    {
     "name": "stdout",
     "output_type": "stream",
     "text": [
      "None\n"
     ]
    }
   ],
   "source": [
    "# print hasil\n",
    "print(constant())"
   ]
  },
  {
   "cell_type": "code",
   "execution_count": 113,
   "id": "442376b4-7d6a-4499-aecc-0168f3585082",
   "metadata": {
    "id": "442376b4-7d6a-4499-aecc-0168f3585082",
    "outputId": "b3fbc124-594d-45fb-97f7-3d340c0e3c1c"
   },
   "outputs": [
    {
     "name": "stdout",
     "output_type": "stream",
     "text": [
      "3.14\n"
     ]
    }
   ],
   "source": [
    "# memanggil variable pi\n",
    "print(pi)"
   ]
  },
  {
   "cell_type": "markdown",
   "id": "d83e1133-dc10-470a-821f-f08f87af996a",
   "metadata": {
    "id": "d83e1133-dc10-470a-821f-f08f87af996a"
   },
   "source": [
    "### Nilai Default"
   ]
  },
  {
   "cell_type": "markdown",
   "id": "eb72ef2e-e4f3-4341-a236-c372aeae4a51",
   "metadata": {
    "id": "eb72ef2e-e4f3-4341-a236-c372aeae4a51"
   },
   "source": [
    "> Python memungkinkan argumen fungsi memiliki nilai default. Jika fungsi dipanggil tanpa argumen, argumen mendapatkan nilai defaultnya."
   ]
  },
  {
   "cell_type": "code",
   "execution_count": 114,
   "id": "cf793649-539f-4ae1-896e-967722894b9c",
   "metadata": {
    "id": "cf793649-539f-4ae1-896e-967722894b9c"
   },
   "outputs": [],
   "source": [
    "#kita deklarasi sebuah fungsi untuk menghitung bea masuk dengan tarif default 10%\n",
    "def bea_masuk(nilai_cif,tarif=10):\n",
    "    bm = nilai_cif*tarif/100\n",
    "    return bm"
   ]
  },
  {
   "cell_type": "code",
   "execution_count": 115,
   "id": "acb0a286-45bb-4d98-8091-1c9b219ef5cb",
   "metadata": {
    "id": "acb0a286-45bb-4d98-8091-1c9b219ef5cb",
    "outputId": "1b035219-0d65-4da2-9882-6e039df80af3"
   },
   "outputs": [
    {
     "data": {
      "text/plain": [
       "1000000.0"
      ]
     },
     "execution_count": 115,
     "metadata": {},
     "output_type": "execute_result"
    }
   ],
   "source": [
    "#jika kita masukan nilai cifnya saja kita akan menggunakan tarif default yaitu 10%\n",
    "bea_masuk(10000000)"
   ]
  },
  {
   "cell_type": "code",
   "execution_count": 116,
   "id": "30b9649b-2242-4601-8f48-9d682adc6f96",
   "metadata": {
    "id": "30b9649b-2242-4601-8f48-9d682adc6f96",
    "outputId": "7b9bf22c-6793-441d-d5e1-b722e7edb3fb"
   },
   "outputs": [
    {
     "data": {
      "text/plain": [
       "50000.0"
      ]
     },
     "execution_count": 116,
     "metadata": {},
     "output_type": "execute_result"
    }
   ],
   "source": [
    "#jika kita masukan juga nilai tarifnya maka akan dihitung berdasarkan tarif yang diberikan\n",
    "bea_masuk(1000000,5)"
   ]
  },
  {
   "cell_type": "markdown",
   "id": "8147714b-32f5-46d9-a62d-f62da80cc3a0",
   "metadata": {
    "id": "8147714b-32f5-46d9-a62d-f62da80cc3a0"
   },
   "source": [
    "### Docstring"
   ]
  },
  {
   "cell_type": "markdown",
   "id": "730a6133-a678-40b2-90da-938fa36c1b60",
   "metadata": {
    "id": "730a6133-a678-40b2-90da-938fa36c1b60"
   },
   "source": [
    "> Docstring berguna untuk mendokumentasikan program agar mudah untuk dipahami dan digunakan."
   ]
  },
  {
   "cell_type": "code",
   "execution_count": 117,
   "id": "62d17aff-1a93-41cc-b128-e113bb36f3b8",
   "metadata": {
    "id": "62d17aff-1a93-41cc-b128-e113bb36f3b8"
   },
   "outputs": [],
   "source": [
    "def function_with_pep484_type_annotations(param1: int, param2: str) -> bool:\n",
    "    \"\"\"Example function with PEP 484 type annotations.\n",
    "\n",
    "    Args:\n",
    "        param1: The first parameter.\n",
    "        param2: The second parameter.\n",
    "\n",
    "    Returns:\n",
    "        The return value. True for success, False otherwise.\n",
    "\n",
    "    \"\"\"\n",
    "#sumber : https://sphinxcontrib-napoleon.readthedocs.io/en/latest/example_google.html"
   ]
  },
  {
   "cell_type": "code",
   "execution_count": 118,
   "id": "28306773-b554-4c28-b3ee-01d9c7fc5909",
   "metadata": {
    "id": "28306773-b554-4c28-b3ee-01d9c7fc5909"
   },
   "outputs": [],
   "source": [
    "#mari kita coba dengan fungsi bea masuk yang tadi\n",
    "def bea_masuk(nilai_cif,tarif=10):\n",
    "    \"\"\" ini adalah fungsi untuk menghitung nilai bea masuk\n",
    "    Args:\n",
    "        nilai_cif (int): nilai pabean yang terdiri dari nilai barang, asuransi dan biaya kirim\n",
    "        tarif (int)    : adalah tarif bea masuk sesuai peraturan berlaku default di 10%\n",
    "    \n",
    "    Returns:\n",
    "        bm: nilai bea masuk yang ditagihkan\n",
    "    \"\"\"\n",
    "    bm = nilai_cif*tarif/100\n",
    "    return bm"
   ]
  },
  {
   "cell_type": "code",
   "execution_count": 119,
   "id": "8776d813-fae9-43df-809c-d2d23031ea61",
   "metadata": {
    "id": "8776d813-fae9-43df-809c-d2d23031ea61",
    "outputId": "5764bcb2-6bf0-4745-e0af-861c236ea11d"
   },
   "outputs": [
    {
     "name": "stdout",
     "output_type": "stream",
     "text": [
      "Help on function bea_masuk in module __main__:\n",
      "\n",
      "bea_masuk(nilai_cif, tarif=10)\n",
      "    ini adalah fungsi untuk menghitung nilai bea masuk\n",
      "    Args:\n",
      "        nilai_cif (int): nilai pabean yang terdiri dari nilai barang, asuransi dan biaya kirim\n",
      "        tarif (int)    : adalah tarif bea masuk sesuai peraturan berlaku default di 10%\n",
      "    \n",
      "    Returns:\n",
      "        bm: nilai bea masuk yang ditagihkan\n",
      "\n"
     ]
    }
   ],
   "source": [
    "#kita bisa memanggil docstring dengan help\n",
    "help(bea_masuk)"
   ]
  },
  {
   "cell_type": "code",
   "execution_count": 120,
   "id": "ba9e0d63-51ca-4d15-99d4-1c15e380acea",
   "metadata": {
    "id": "ba9e0d63-51ca-4d15-99d4-1c15e380acea",
    "outputId": "9e871ace-78f1-415d-b99a-36d278281325"
   },
   "outputs": [],
   "source": [
    "?bea_masuk"
   ]
  },
  {
   "cell_type": "markdown",
   "id": "7ec3688c-0967-4142-bbea-15d37a89bc98",
   "metadata": {
    "id": "7ec3688c-0967-4142-bbea-15d37a89bc98"
   },
   "source": [
    "---\n",
    "**Latihan**"
   ]
  },
  {
   "cell_type": "code",
   "execution_count": 121,
   "id": "51710be9-d216-444c-ade7-c95140e2952c",
   "metadata": {
    "id": "51710be9-d216-444c-ade7-c95140e2952c"
   },
   "outputs": [],
   "source": [
    "#buatlah fungsi yang menghasilkan output \" Halo Nama Saya XXX\" dengan input nama"
   ]
  },
  {
   "cell_type": "markdown",
   "id": "9f9f15d1-1a3a-45c3-87dd-e205af0d3778",
   "metadata": {
    "id": "9f9f15d1-1a3a-45c3-87dd-e205af0d3778"
   },
   "source": [
    "## Fungsi Lambda"
   ]
  },
  {
   "cell_type": "code",
   "execution_count": 122,
   "id": "004c50ec-804c-4160-84e9-3d6d2d34d1ba",
   "metadata": {
    "id": "004c50ec-804c-4160-84e9-3d6d2d34d1ba"
   },
   "outputs": [],
   "source": [
    "#contoh kita membuat fungsi multiple yaitu x*2 kita definisikan sebagai berikut\n",
    "def multiple(x):\n",
    "    return x*2\n",
    "\n",
    "#jika kita buat dalam bentuk fungsi lambda maka menjadi\n",
    "multiple_2 = lambda x: x*2"
   ]
  },
  {
   "cell_type": "code",
   "execution_count": 123,
   "id": "27d6a024-6c5c-4429-9cc4-1ebac11b1813",
   "metadata": {
    "id": "27d6a024-6c5c-4429-9cc4-1ebac11b1813",
    "outputId": "7c416e68-ffba-47cb-e23d-5f8873dbdcd0"
   },
   "outputs": [
    {
     "data": {
      "text/plain": [
       "8"
      ]
     },
     "execution_count": 123,
     "metadata": {},
     "output_type": "execute_result"
    }
   ],
   "source": [
    "multiple(4)"
   ]
  },
  {
   "cell_type": "code",
   "execution_count": 124,
   "id": "4a458ded-4025-4fca-a8f0-d1106b3a0648",
   "metadata": {
    "id": "4a458ded-4025-4fca-a8f0-d1106b3a0648",
    "outputId": "1652cf33-4c96-4b80-eef3-06b7a98dbadd"
   },
   "outputs": [
    {
     "data": {
      "text/plain": [
       "8"
      ]
     },
     "execution_count": 124,
     "metadata": {},
     "output_type": "execute_result"
    }
   ],
   "source": [
    "multiple_2(4)"
   ]
  },
  {
   "cell_type": "code",
   "execution_count": 125,
   "id": "e516e537-4f62-49e4-a5df-dbc21c57e248",
   "metadata": {
    "id": "e516e537-4f62-49e4-a5df-dbc21c57e248",
    "outputId": "f18985d5-2692-4941-cc9c-08c837c09654"
   },
   "outputs": [
    {
     "data": {
      "text/plain": [
       "3"
      ]
     },
     "execution_count": 125,
     "metadata": {},
     "output_type": "execute_result"
    }
   ],
   "source": [
    "#contoh lainnya\n",
    "add = lambda x, y: x + y\n",
    "add(1,2)"
   ]
  },
  {
   "cell_type": "code",
   "execution_count": 126,
   "id": "5e003012-b591-4fec-b262-133aeaa5323f",
   "metadata": {
    "id": "5e003012-b591-4fec-b262-133aeaa5323f"
   },
   "outputs": [],
   "source": [
    "#buatlah fungsi lambda yang menghasilkan output \" Halo Nama Saya XXX\" dengan input nama"
   ]
  },
  {
   "cell_type": "markdown",
   "id": "13d74908-9f2c-46f4-9c6b-0aadd155e3a1",
   "metadata": {
    "id": "13d74908-9f2c-46f4-9c6b-0aadd155e3a1"
   },
   "source": [
    " ## Control flow\n",
    " \n",
    " Beberapa hal dasar yang perlu dipahami:\n",
    " 1. ```if else``` statement.\n",
    " 2. ```for``` loops.\n",
    " 3. ```while``` loops.\n",
    " 4. ```break```, ```continue```, dan ```pass```."
   ]
  },
  {
   "cell_type": "markdown",
   "id": "eb9083c6-e478-4b84-a088-1a12b07c1352",
   "metadata": {
    "id": "eb9083c6-e478-4b84-a088-1a12b07c1352"
   },
   "source": [
    "### If else statement / conditional\n",
    "\n",
    "> Digunakan untuk mengendalikan kode yang akan dieksekusi dengan memperhatikan pemenuhan terhadap kondisi tertentu.\n",
    "\n",
    "```python\n",
    "\n",
    "if condition1:\n",
    "    # baris dieksekusi jika condition1 terpenuhi\n",
    "elif condition2:\n",
    "    # baris dieksekusi jika condition2 terpenuhi\n",
    "else:\n",
    "    # baris dieksekusi jika condition1 & condition2 tidak terpenuhi\n",
    "\n",
    "\n",
    "```"
   ]
  },
  {
   "cell_type": "code",
   "execution_count": 127,
   "id": "74367d64-af3c-41ba-ac6a-79a2f64a5c88",
   "metadata": {
    "id": "74367d64-af3c-41ba-ac6a-79a2f64a5c88",
    "outputId": "51555dd0-879f-4e5b-8456-7bc1d80195b7"
   },
   "outputs": [
    {
     "name": "stdout",
     "output_type": "stream",
     "text": [
      "A is greater than B\n"
     ]
    }
   ],
   "source": [
    "# kita akan membuat variable A\n",
    "# kita akan membuat variable B\n",
    "A = 200\n",
    "B = 33\n",
    "\n",
    "# kita akan mencoba membuat kondisi atas value pada variable A dan B\n",
    "# kondisi 1\n",
    "# jika nilai B > dari A, maka print B is greater than A\n",
    "if B > A:\n",
    "  print(\"B is greater than A\")\n",
    "# kondisi 2\n",
    "# jika B == A, maka print B and A are equal\n",
    "elif B == A:\n",
    "  print(\"B and A are equal\")\n",
    "# kondisi else, diluar kondisi 1 dan 2\n",
    "# jika dua kondisi sebelumnya tidak terpenuhi, maka print A is greater than B\n",
    "else:\n",
    "  print(\"A is greater than B\")"
   ]
  },
  {
   "cell_type": "markdown",
   "id": "e3d6b8ff",
   "metadata": {},
   "source": [
    "<details>\n",
    "<img src=\"https://i.postimg.cc/J0j4HHdb/if-else.png\" width=\"800\">\n",
    "</details>"
   ]
  },
  {
   "cell_type": "markdown",
   "id": "fc4f1417-b887-478b-bdba-a0130fcbef03",
   "metadata": {
    "id": "fc4f1417-b887-478b-bdba-a0130fcbef03"
   },
   "source": [
    "### For loops\n",
    "\n",
    "> Digunakan untuk mengeksekusi sebuah blok kode secara berulang berdasarkan sebuah iterable.\n",
    "\n",
    "```python\n",
    "for i in iterable:\n",
    "    # baris dieksekusi pada setiap loop\n",
    "```\n",
    "\n",
    "Iterable dapat berupa list, tuple, set, dictionary, string, maupun range. Kita bisa gunakan range untuk menghasilkan urutan angka secara otomatis dengan format berikut:\n",
    "\n",
    "```range(start, finish, steps)``` seperti pada saat list slicing."
   ]
  },
  {
   "cell_type": "code",
   "execution_count": 128,
   "id": "0b75eadf-0424-4e31-b023-70ff39d2a4a9",
   "metadata": {
    "id": "0b75eadf-0424-4e31-b023-70ff39d2a4a9",
    "outputId": "b1ab7659-bf1b-4cd7-b934-dbfcf09af8a2"
   },
   "outputs": [
    {
     "name": "stdout",
     "output_type": "stream",
     "text": [
      "1\n",
      "3\n",
      "5\n",
      "7\n",
      "9\n"
     ]
    }
   ],
   "source": [
    "# kita akan mencoba membuat for loops menggunakan range:\n",
    "for i in range(1,11,2):   # > kita akan melihat i (ini merupakan element dalam range), start = 1, finish = 11, steps = 2\n",
    "    print(i)              # > print seluruh i yang memenuhi kriteria dalam range diatas"
   ]
  },
  {
   "cell_type": "code",
   "execution_count": 129,
   "id": "89499c94-6c5e-4d8e-850c-5987573f3cc1",
   "metadata": {
    "id": "89499c94-6c5e-4d8e-850c-5987573f3cc1",
    "outputId": "cf86b36f-2b08-47f8-8b7a-06ea996e815d"
   },
   "outputs": [
    {
     "name": "stdout",
     "output_type": "stream",
     "text": [
      "Hello, Alice!\n",
      "Hello, Bob!\n",
      "Hello, Charlie!\n"
     ]
    }
   ],
   "source": [
    "# kita akan mencoba membuat for loops dengan melakukan iterasi dalam list\n",
    "# membuat variable list berisi nama\n",
    "names = [\"Alice\", \"Bob\", \"Charlie\"]\n",
    "\n",
    "for name in names:                   # > setiap nama di list names\n",
    "    print(\"Hello, \" + name + \"!\")    # > print nama-nama tersebut dengan format Hello, nama!, perhatikan spasi yang digunakan"
   ]
  },
  {
   "cell_type": "markdown",
   "id": "e9633b4d",
   "metadata": {},
   "source": [
    "<details>\n",
    "<img src=\"https://i.postimg.cc/k56gxH2N/for.png\" width=\"800\">\n",
    "</details>"
   ]
  },
  {
   "cell_type": "markdown",
   "id": "dcde102e-34f2-4bed-9400-641549309b5e",
   "metadata": {
    "id": "dcde102e-34f2-4bed-9400-641549309b5e"
   },
   "source": [
    "### While loops\n",
    "\n",
    "> Digunakan untuk mengeksekusi sebuah blok kode secara berulang berdasarkan sebuah kondisi tertentu yang ditetapkan selama kondisi terpenuhi.\n",
    "\n",
    "```python\n",
    "while condition:\n",
    "    # baris dieksekusi jika condtion == True    \n",
    "```\n",
    "Kesalahan dalam membuat kode while dapat membuat loop berjalan terus-menerus."
   ]
  },
  {
   "cell_type": "code",
   "execution_count": 130,
   "id": "b679d0a6-a0c3-452a-8714-68367e9625f8",
   "metadata": {
    "id": "b679d0a6-a0c3-452a-8714-68367e9625f8",
    "outputId": "291b7e7c-9ede-4939-9db2-a5cda561037a"
   },
   "outputs": [
    {
     "name": "stdout",
     "output_type": "stream",
     "text": [
      "0\n",
      "1\n",
      "2\n",
      "3\n",
      "4\n"
     ]
    }
   ],
   "source": [
    "# kita akan mencoba membuat while loops dengan kondisi, i < 5\n",
    "# i kita tetapkan valuenya = 0\n",
    "# setiap kali dia terpenuhi maka print(i)\n",
    "# perhatikan maksud dari i += 1\n",
    "i = 0 \n",
    "while i < 5 : \n",
    "    print(i)\n",
    "    i += 1         # >  jika kode semacam ini tidak diberikan, maka kondisi akan selalu True!"
   ]
  },
  {
   "cell_type": "markdown",
   "id": "9e5c04b3",
   "metadata": {},
   "source": [
    "<details>\n",
    "<img src=\"https://i.postimg.cc/sD4kN4kk/while.png\" width=\"800\">\n",
    "</details>"
   ]
  },
  {
   "cell_type": "markdown",
   "id": "f9689c8a-20af-4b01-a29e-fb27bb7a2a7a",
   "metadata": {
    "id": "f9689c8a-20af-4b01-a29e-fb27bb7a2a7a"
   },
   "source": [
    "### Break, continue dan pass\n",
    "\n",
    "**Break statement:**\n",
    "> menghentikan loop saat ini. Gunakan pernyataan break untuk keluar dari loop secara instan.\n",
    "<details>\n",
    "    \n",
    "<img src=\"https://pynative.com/wp-content/uploads/2021/06/break-loop-in-python.png\">\n",
    "\n",
    "</details>\n",
    "\n",
    "**Continue statement:**\n",
    "> Lewati iterasi loop saat ini dan pindah ke iterasi berikutnya\n",
    "<details>\n",
    "    \n",
    "<img src=\"https://pynative.com/wp-content/uploads/2021/06/python-continue-statement-in-loop.png\">\n",
    "    \n",
    "</details>\n",
    "\n",
    "**Pass statement:**\n",
    "> Tidak melakukan apapun. Abaikan kondisi di mana itu terjadi dan lanjutkan untuk menjalankan program seperti biasa\n",
    "\n",
    "sumber : https://pynative.com/python-break-continue-pass/"
   ]
  },
  {
   "cell_type": "code",
   "execution_count": 131,
   "id": "8ba052bd-eb9b-4135-9647-5664f5412566",
   "metadata": {
    "id": "8ba052bd-eb9b-4135-9647-5664f5412566",
    "outputId": "1f4b2760-468c-4d68-a094-005bff6f0d1e"
   },
   "outputs": [
    {
     "name": "stdout",
     "output_type": "stream",
     "text": [
      "j\n",
      "belum ketemu 'r'\n",
      "a\n",
      "belum ketemu 'r'\n",
      "k\n",
      "belum ketemu 'r'\n",
      "a\n",
      "belum ketemu 'r'\n",
      "r\n",
      "Sudah ketemu!\n"
     ]
    }
   ],
   "source": [
    "# kita akan mencoba break statement\n",
    "# membuat variable kota\n",
    "kota = 'jakarta'\n",
    "\n",
    "# implementasi menggunakan for loops\n",
    "# atas setiap huruf di variable kota\n",
    "for huruf in kota: \n",
    "    print(huruf) \n",
    "    # break saat menemukan huruf 'r'  \n",
    "    if huruf == 'r':\n",
    "        break\n",
    "    print(\"belum ketemu 'r'\")\n",
    "# menunjukkan kapan terjadinya break\n",
    "print(\"Sudah ketemu!\") \n",
    "\n",
    "# dapat dilihat dari interaksi yang terjadi, saat menemukan huruf 'r'\n",
    "# seketika itu for loops yang dibangun berhenti"
   ]
  },
  {
   "cell_type": "code",
   "execution_count": 132,
   "id": "527cb429-22b9-4ba5-98e2-774ec628f67e",
   "metadata": {
    "id": "527cb429-22b9-4ba5-98e2-774ec628f67e",
    "outputId": "60ce8827-0941-4a60-9b86-faf255948941",
    "scrolled": true
   },
   "outputs": [
    {
     "name": "stdout",
     "output_type": "stream",
     "text": [
      "1\n",
      "2\n",
      "3\n",
      "4\n",
      "5\n",
      "7\n",
      "8\n",
      "9\n",
      "10\n"
     ]
    }
   ],
   "source": [
    "# kita akan mencoba continue statement\n",
    "# menggunakan for loops\n",
    "# atas setiap value dalam range start = 1, finish = 11\n",
    "for i in range(1, 11): \n",
    "    # jika value sama dengan 6,   \n",
    "    # continue iterasinya   \n",
    "    # tanpa melakukan print \n",
    "    if i == 6: \n",
    "        continue\n",
    "    else: \n",
    "        # diluar if statement, print i ditambahkan spasi\n",
    "        print(i, end = \"\\n\")"
   ]
  },
  {
   "cell_type": "code",
   "execution_count": 133,
   "id": "19bbe06e-325f-4b4b-98bc-bb7ee4f3809b",
   "metadata": {
    "id": "19bbe06e-325f-4b4b-98bc-bb7ee4f3809b",
    "outputId": "9d163cc3-27fc-4fe6-e4fb-51ff0ec0ffd4"
   },
   "outputs": [
    {
     "name": "stdout",
     "output_type": "stream",
     "text": [
      "j\n",
      "Pass executed\n",
      "a\n",
      "k\n",
      "Pass executed\n",
      "a\n",
      "r\n",
      "t\n",
      "Pass executed\n",
      "a\n"
     ]
    }
   ],
   "source": [
    "# kita akan mencoba membuat pass statement\n",
    "# menggunakan variable s sebelumnya\n",
    "# menggunakan for loops\n",
    "# atas setiap value pada variable s\n",
    "for huruf in kota:\n",
    "    # jika value sama dengan 'a', print 'Pass executed'\n",
    "    if huruf == 'a':\n",
    "        print('Pass executed')\n",
    "        # kemudian pass\n",
    "        pass\n",
    "    print(huruf)\n",
    "# dapat dilihat bahwa print seluruh value pada variable kota tetap berlangsung"
   ]
  },
  {
   "cell_type": "code",
   "execution_count": null,
   "id": "a8e84917",
   "metadata": {},
   "outputs": [],
   "source": []
  }
 ],
 "metadata": {
  "colab": {
   "name": "Python for Data Analytics.ipynb",
   "provenance": []
  },
  "kernelspec": {
   "display_name": "Python 3 (ipykernel)",
   "language": "python",
   "name": "python3"
  },
  "language_info": {
   "codemirror_mode": {
    "name": "ipython",
    "version": 3
   },
   "file_extension": ".py",
   "mimetype": "text/x-python",
   "name": "python",
   "nbconvert_exporter": "python",
   "pygments_lexer": "ipython3",
   "version": "3.9.7"
  },
  "toc": {
   "base_numbering": 1,
   "nav_menu": {},
   "number_sections": true,
   "sideBar": true,
   "skip_h1_title": false,
   "title_cell": "Table of Contents",
   "title_sidebar": "Contents",
   "toc_cell": false,
   "toc_position": {},
   "toc_section_display": true,
   "toc_window_display": true
  }
 },
 "nbformat": 4,
 "nbformat_minor": 5
}
