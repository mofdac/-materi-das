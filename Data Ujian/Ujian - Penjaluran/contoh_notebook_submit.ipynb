{
 "cells": [
  {
   "cell_type": "code",
   "execution_count": 146,
   "id": "e3f2706e",
   "metadata": {},
   "outputs": [],
   "source": [
    "import numpy as np\n",
    "\n",
    "#import pandas sebagai library pengolahan data\n",
    "import pandas as pd\n",
    "\n",
    "# load algoritma untuk kasus classification\n",
    "from sklearn.tree import DecisionTreeClassifier\n",
    "from sklearn.naive_bayes import GaussianNB\n",
    "from sklearn.dummy import DummyClassifier\n",
    "\n",
    "# load fungsi split dataset\n",
    "from sklearn.model_selection import train_test_split\n",
    "\n",
    "#load fungsi preprocessor\n",
    "from sklearn.preprocessing import OneHotEncoder\n",
    "from sklearn.preprocessing import LabelEncoder\n",
    "\n",
    "#import metric yang digunakan pada kaggle\n",
    "from sklearn.metrics import accuracy_score, classification_report, confusion_matrix, precision_score, recall_score, roc_auc_score"
   ]
  },
  {
   "cell_type": "markdown",
   "id": "f24b2313",
   "metadata": {},
   "source": [
    "## Exploratory Data"
   ]
  },
  {
   "cell_type": "code",
   "execution_count": 121,
   "id": "ccea83b4",
   "metadata": {},
   "outputs": [
    {
     "data": {
      "text/html": [
       "<div>\n",
       "<style scoped>\n",
       "    .dataframe tbody tr th:only-of-type {\n",
       "        vertical-align: middle;\n",
       "    }\n",
       "\n",
       "    .dataframe tbody tr th {\n",
       "        vertical-align: top;\n",
       "    }\n",
       "\n",
       "    .dataframe thead th {\n",
       "        text-align: right;\n",
       "    }\n",
       "</style>\n",
       "<table border=\"1\" class=\"dataframe\">\n",
       "  <thead>\n",
       "    <tr style=\"text-align: right;\">\n",
       "      <th></th>\n",
       "      <th>DocsDate</th>\n",
       "      <th>ImportDuty_IDR</th>\n",
       "      <th>CIF</th>\n",
       "      <th>Valuta_CIF</th>\n",
       "      <th>Using_Intermediaries</th>\n",
       "      <th>Using_TradeAgreement</th>\n",
       "      <th>COuntryOfOrigin</th>\n",
       "      <th>HSCODE</th>\n",
       "      <th>CustChannel</th>\n",
       "    </tr>\n",
       "  </thead>\n",
       "  <tbody>\n",
       "    <tr>\n",
       "      <th>0</th>\n",
       "      <td>09/10/2022</td>\n",
       "      <td>254458953</td>\n",
       "      <td>170458</td>\n",
       "      <td>USD</td>\n",
       "      <td>0</td>\n",
       "      <td>0</td>\n",
       "      <td>TH</td>\n",
       "      <td>8708</td>\n",
       "      <td>Green</td>\n",
       "    </tr>\n",
       "    <tr>\n",
       "      <th>1</th>\n",
       "      <td>02/05/2022</td>\n",
       "      <td>1719402722</td>\n",
       "      <td>1237513</td>\n",
       "      <td>USD</td>\n",
       "      <td>0</td>\n",
       "      <td>0</td>\n",
       "      <td>MY</td>\n",
       "      <td>4016</td>\n",
       "      <td>Green</td>\n",
       "    </tr>\n",
       "    <tr>\n",
       "      <th>2</th>\n",
       "      <td>02/04/2022</td>\n",
       "      <td>662630024</td>\n",
       "      <td>40640204</td>\n",
       "      <td>JPY</td>\n",
       "      <td>0</td>\n",
       "      <td>0</td>\n",
       "      <td>JP</td>\n",
       "      <td>7318</td>\n",
       "      <td>Green</td>\n",
       "    </tr>\n",
       "    <tr>\n",
       "      <th>3</th>\n",
       "      <td>08/05/2022</td>\n",
       "      <td>7443742</td>\n",
       "      <td>1159783</td>\n",
       "      <td>JPY</td>\n",
       "      <td>1</td>\n",
       "      <td>0</td>\n",
       "      <td>CN</td>\n",
       "      <td>8443</td>\n",
       "      <td>Green</td>\n",
       "    </tr>\n",
       "    <tr>\n",
       "      <th>4</th>\n",
       "      <td>02/08/2022</td>\n",
       "      <td>20795848</td>\n",
       "      <td>207958981</td>\n",
       "      <td>IDR</td>\n",
       "      <td>0</td>\n",
       "      <td>0</td>\n",
       "      <td>MX</td>\n",
       "      <td>8708</td>\n",
       "      <td>Green</td>\n",
       "    </tr>\n",
       "  </tbody>\n",
       "</table>\n",
       "</div>"
      ],
      "text/plain": [
       "     DocsDate  ImportDuty_IDR        CIF Valuta_CIF  Using_Intermediaries  \\\n",
       "0  09/10/2022       254458953     170458        USD                     0   \n",
       "1  02/05/2022      1719402722    1237513        USD                     0   \n",
       "2  02/04/2022       662630024   40640204        JPY                     0   \n",
       "3  08/05/2022         7443742    1159783        JPY                     1   \n",
       "4  02/08/2022        20795848  207958981        IDR                     0   \n",
       "\n",
       "   Using_TradeAgreement COuntryOfOrigin  HSCODE CustChannel  \n",
       "0                     0              TH    8708       Green  \n",
       "1                     0              MY    4016       Green  \n",
       "2                     0              JP    7318       Green  \n",
       "3                     0              CN    8443       Green  \n",
       "4                     0              MX    8708       Green  "
      ]
     },
     "execution_count": 121,
     "metadata": {},
     "output_type": "execute_result"
    }
   ],
   "source": [
    "# load data set yang disediakan\n",
    "\n",
    "train_df = pd.read_csv(r\"C:\\Users\\Teuku Raja\\OneDrive - Kemenkeu\\IRVII\\PusKU\\dataset\\File-File Pendukung Kompetisi Kaggle Pelatihan Python\\Ujian Praktikum - Penjaluran\\data_training.csv\",\n",
    "                       sep=\";\")\n",
    "test_df = pd.read_csv(r\"C:\\Users\\Teuku Raja\\OneDrive - Kemenkeu\\IRVII\\PusKU\\dataset\\File-File Pendukung Kompetisi Kaggle Pelatihan Python\\Ujian Praktikum - Penjaluran\\data_testing.csv\",\n",
    "                      sep=\";\")\n",
    "\n",
    "# cek dataset training\n",
    "train_df.head()"
   ]
  },
  {
   "cell_type": "code",
   "execution_count": 122,
   "id": "c07027b2",
   "metadata": {},
   "outputs": [
    {
     "data": {
      "text/html": [
       "<div>\n",
       "<style scoped>\n",
       "    .dataframe tbody tr th:only-of-type {\n",
       "        vertical-align: middle;\n",
       "    }\n",
       "\n",
       "    .dataframe tbody tr th {\n",
       "        vertical-align: top;\n",
       "    }\n",
       "\n",
       "    .dataframe thead th {\n",
       "        text-align: right;\n",
       "    }\n",
       "</style>\n",
       "<table border=\"1\" class=\"dataframe\">\n",
       "  <thead>\n",
       "    <tr style=\"text-align: right;\">\n",
       "      <th></th>\n",
       "      <th>ID</th>\n",
       "      <th>DocsDate</th>\n",
       "      <th>ImportDuty_IDR</th>\n",
       "      <th>CIF</th>\n",
       "      <th>Valuta_CIF</th>\n",
       "      <th>Using_Intermediaries</th>\n",
       "      <th>Using_TradeAgreement</th>\n",
       "      <th>COuntryOfOrigin</th>\n",
       "      <th>HSCODE</th>\n",
       "    </tr>\n",
       "  </thead>\n",
       "  <tbody>\n",
       "    <tr>\n",
       "      <th>0</th>\n",
       "      <td>C1</td>\n",
       "      <td>02/01/2022</td>\n",
       "      <td>28212800050</td>\n",
       "      <td>41584240</td>\n",
       "      <td>USD</td>\n",
       "      <td>0</td>\n",
       "      <td>0</td>\n",
       "      <td>NZ</td>\n",
       "      <td>206</td>\n",
       "    </tr>\n",
       "    <tr>\n",
       "      <th>1</th>\n",
       "      <td>C2</td>\n",
       "      <td>12/11/2022</td>\n",
       "      <td>259418090</td>\n",
       "      <td>13014510</td>\n",
       "      <td>JPY</td>\n",
       "      <td>0</td>\n",
       "      <td>0</td>\n",
       "      <td>JP</td>\n",
       "      <td>4016</td>\n",
       "    </tr>\n",
       "    <tr>\n",
       "      <th>2</th>\n",
       "      <td>C3</td>\n",
       "      <td>16/11/2022</td>\n",
       "      <td>2597872060</td>\n",
       "      <td>1413620</td>\n",
       "      <td>USD</td>\n",
       "      <td>0</td>\n",
       "      <td>0</td>\n",
       "      <td>TH</td>\n",
       "      <td>7318</td>\n",
       "    </tr>\n",
       "    <tr>\n",
       "      <th>3</th>\n",
       "      <td>C4</td>\n",
       "      <td>03/09/2022</td>\n",
       "      <td>11550943500</td>\n",
       "      <td>15789680</td>\n",
       "      <td>USD</td>\n",
       "      <td>1</td>\n",
       "      <td>1</td>\n",
       "      <td>CN</td>\n",
       "      <td>8708</td>\n",
       "    </tr>\n",
       "    <tr>\n",
       "      <th>4</th>\n",
       "      <td>C5</td>\n",
       "      <td>04/04/2022</td>\n",
       "      <td>1871500400</td>\n",
       "      <td>95652240</td>\n",
       "      <td>JPY</td>\n",
       "      <td>1</td>\n",
       "      <td>0</td>\n",
       "      <td>JP</td>\n",
       "      <td>3926</td>\n",
       "    </tr>\n",
       "  </tbody>\n",
       "</table>\n",
       "</div>"
      ],
      "text/plain": [
       "   ID    DocsDate  ImportDuty_IDR       CIF Valuta_CIF  Using_Intermediaries  \\\n",
       "0  C1  02/01/2022     28212800050  41584240        USD                     0   \n",
       "1  C2  12/11/2022       259418090  13014510        JPY                     0   \n",
       "2  C3  16/11/2022      2597872060   1413620        USD                     0   \n",
       "3  C4  03/09/2022     11550943500  15789680        USD                     1   \n",
       "4  C5  04/04/2022      1871500400  95652240        JPY                     1   \n",
       "\n",
       "   Using_TradeAgreement COuntryOfOrigin  HSCODE  \n",
       "0                     0              NZ     206  \n",
       "1                     0              JP    4016  \n",
       "2                     0              TH    7318  \n",
       "3                     1              CN    8708  \n",
       "4                     0              JP    3926  "
      ]
     },
     "execution_count": 122,
     "metadata": {},
     "output_type": "execute_result"
    }
   ],
   "source": [
    "# cek dataset testing\n",
    "\n",
    "test_df.head()"
   ]
  },
  {
   "cell_type": "markdown",
   "id": "1f8a7ef0",
   "metadata": {},
   "source": [
    "## Data Preprocessing"
   ]
  },
  {
   "cell_type": "code",
   "execution_count": 123,
   "id": "39afd111",
   "metadata": {},
   "outputs": [],
   "source": [
    "\n",
    "# Replace commas in numeric columns\n",
    "train_df['CIF'] = train_df['CIF'].replace({',': ''}, regex=True)\n",
    "\n",
    "# Convert numeric columns to numeric type\n",
    "train_df['CIF'] = train_df['CIF'].apply(pd.to_numeric, errors='coerce')\n",
    "\n",
    "# imput semua missing value dengan angka 0\n",
    "train_df = train_df.dropna()\n",
    "test_df = test_df.dropna()"
   ]
  },
  {
   "cell_type": "code",
   "execution_count": 124,
   "id": "5ecd1f16",
   "metadata": {},
   "outputs": [],
   "source": [
    "# penentuan prediktor dan target\n",
    "\n",
    "# prediktor data training \n",
    "x_train = train_df[['ImportDuty_IDR', 'CIF']]\n",
    "\n",
    "# label data training\n",
    "y_train = train_df.iloc[:,-1]\n",
    "\n",
    "# prediktor untuk prediksi dataset testing\n",
    "x_test = test_df[['ImportDuty_IDR', 'CIF']]"
   ]
  },
  {
   "cell_type": "code",
   "execution_count": 125,
   "id": "89ffda57",
   "metadata": {},
   "outputs": [],
   "source": [
    "# ## Anda mungkin perlu melakukan encoding kolom categorical menjadi numeric\n",
    "# label_encoder1 = LabelEncoder()\n",
    "# x_train['Valuta_CIF'] = label_encoder1.fit_transform(x_train['Valuta_CIF'])\n",
    "\n",
    "# label_encoder2 = LabelEncoder()\n",
    "# x_train['COuntryOfOrigin'] = label_encoder2.fit_transform(x_train['COuntryOfOrigin'])\n"
   ]
  },
  {
   "cell_type": "markdown",
   "id": "0f7cb94f",
   "metadata": {},
   "source": [
    "### Splitting Dataset\n",
    "pendekatan hold out, jika CV tidak perlu karena didalamnya sudah ada split evaluation dataset"
   ]
  },
  {
   "cell_type": "code",
   "execution_count": 126,
   "id": "30377666",
   "metadata": {},
   "outputs": [],
   "source": [
    "# split data training dan evaluation\n",
    "x_train, x_eval, y_train, y_eval = train_test_split(x_train, y_train, test_size=0.15, random_state=42)"
   ]
  },
  {
   "cell_type": "code",
   "execution_count": 127,
   "id": "4abc6eca",
   "metadata": {},
   "outputs": [
    {
     "name": "stdout",
     "output_type": "stream",
     "text": [
      "(390967, 2) (68995, 2) (39996, 2)\n"
     ]
    }
   ],
   "source": [
    "# cek dimensi seluruh dataset\n",
    "print(x_train.shape, x_eval.shape, x_test.shape)"
   ]
  },
  {
   "cell_type": "code",
   "execution_count": 128,
   "id": "590da667",
   "metadata": {},
   "outputs": [
    {
     "name": "stdout",
     "output_type": "stream",
     "text": [
      "(390967,) (68995,)\n"
     ]
    }
   ],
   "source": [
    "print(y_train.shape, y_eval.shape)"
   ]
  },
  {
   "cell_type": "markdown",
   "id": "869bf99f",
   "metadata": {},
   "source": [
    "## Model Building\n",
    "### Fitting / Training Model"
   ]
  },
  {
   "cell_type": "code",
   "execution_count": 147,
   "id": "f127caa9",
   "metadata": {},
   "outputs": [
    {
     "data": {
      "text/html": [
       "<style>#sk-container-id-3 {color: black;}#sk-container-id-3 pre{padding: 0;}#sk-container-id-3 div.sk-toggleable {background-color: white;}#sk-container-id-3 label.sk-toggleable__label {cursor: pointer;display: block;width: 100%;margin-bottom: 0;padding: 0.3em;box-sizing: border-box;text-align: center;}#sk-container-id-3 label.sk-toggleable__label-arrow:before {content: \"▸\";float: left;margin-right: 0.25em;color: #696969;}#sk-container-id-3 label.sk-toggleable__label-arrow:hover:before {color: black;}#sk-container-id-3 div.sk-estimator:hover label.sk-toggleable__label-arrow:before {color: black;}#sk-container-id-3 div.sk-toggleable__content {max-height: 0;max-width: 0;overflow: hidden;text-align: left;background-color: #f0f8ff;}#sk-container-id-3 div.sk-toggleable__content pre {margin: 0.2em;color: black;border-radius: 0.25em;background-color: #f0f8ff;}#sk-container-id-3 input.sk-toggleable__control:checked~div.sk-toggleable__content {max-height: 200px;max-width: 100%;overflow: auto;}#sk-container-id-3 input.sk-toggleable__control:checked~label.sk-toggleable__label-arrow:before {content: \"▾\";}#sk-container-id-3 div.sk-estimator input.sk-toggleable__control:checked~label.sk-toggleable__label {background-color: #d4ebff;}#sk-container-id-3 div.sk-label input.sk-toggleable__control:checked~label.sk-toggleable__label {background-color: #d4ebff;}#sk-container-id-3 input.sk-hidden--visually {border: 0;clip: rect(1px 1px 1px 1px);clip: rect(1px, 1px, 1px, 1px);height: 1px;margin: -1px;overflow: hidden;padding: 0;position: absolute;width: 1px;}#sk-container-id-3 div.sk-estimator {font-family: monospace;background-color: #f0f8ff;border: 1px dotted black;border-radius: 0.25em;box-sizing: border-box;margin-bottom: 0.5em;}#sk-container-id-3 div.sk-estimator:hover {background-color: #d4ebff;}#sk-container-id-3 div.sk-parallel-item::after {content: \"\";width: 100%;border-bottom: 1px solid gray;flex-grow: 1;}#sk-container-id-3 div.sk-label:hover label.sk-toggleable__label {background-color: #d4ebff;}#sk-container-id-3 div.sk-serial::before {content: \"\";position: absolute;border-left: 1px solid gray;box-sizing: border-box;top: 0;bottom: 0;left: 50%;z-index: 0;}#sk-container-id-3 div.sk-serial {display: flex;flex-direction: column;align-items: center;background-color: white;padding-right: 0.2em;padding-left: 0.2em;position: relative;}#sk-container-id-3 div.sk-item {position: relative;z-index: 1;}#sk-container-id-3 div.sk-parallel {display: flex;align-items: stretch;justify-content: center;background-color: white;position: relative;}#sk-container-id-3 div.sk-item::before, #sk-container-id-3 div.sk-parallel-item::before {content: \"\";position: absolute;border-left: 1px solid gray;box-sizing: border-box;top: 0;bottom: 0;left: 50%;z-index: -1;}#sk-container-id-3 div.sk-parallel-item {display: flex;flex-direction: column;z-index: 1;position: relative;background-color: white;}#sk-container-id-3 div.sk-parallel-item:first-child::after {align-self: flex-end;width: 50%;}#sk-container-id-3 div.sk-parallel-item:last-child::after {align-self: flex-start;width: 50%;}#sk-container-id-3 div.sk-parallel-item:only-child::after {width: 0;}#sk-container-id-3 div.sk-dashed-wrapped {border: 1px dashed gray;margin: 0 0.4em 0.5em 0.4em;box-sizing: border-box;padding-bottom: 0.4em;background-color: white;}#sk-container-id-3 div.sk-label label {font-family: monospace;font-weight: bold;display: inline-block;line-height: 1.2em;}#sk-container-id-3 div.sk-label-container {text-align: center;}#sk-container-id-3 div.sk-container {/* jupyter's `normalize.less` sets `[hidden] { display: none; }` but bootstrap.min.css set `[hidden] { display: none !important; }` so we also need the `!important` here to be able to override the default hidden behavior on the sphinx rendered scikit-learn.org. See: https://github.com/scikit-learn/scikit-learn/issues/21755 */display: inline-block !important;position: relative;}#sk-container-id-3 div.sk-text-repr-fallback {display: none;}</style><div id=\"sk-container-id-3\" class=\"sk-top-container\"><div class=\"sk-text-repr-fallback\"><pre>DummyClassifier(strategy=&#x27;most_frequent&#x27;)</pre><b>In a Jupyter environment, please rerun this cell to show the HTML representation or trust the notebook. <br />On GitHub, the HTML representation is unable to render, please try loading this page with nbviewer.org.</b></div><div class=\"sk-container\" hidden><div class=\"sk-item\"><div class=\"sk-estimator sk-toggleable\"><input class=\"sk-toggleable__control sk-hidden--visually\" id=\"sk-estimator-id-3\" type=\"checkbox\" checked><label for=\"sk-estimator-id-3\" class=\"sk-toggleable__label sk-toggleable__label-arrow\">DummyClassifier</label><div class=\"sk-toggleable__content\"><pre>DummyClassifier(strategy=&#x27;most_frequent&#x27;)</pre></div></div></div></div></div>"
      ],
      "text/plain": [
       "DummyClassifier(strategy='most_frequent')"
      ]
     },
     "execution_count": 147,
     "metadata": {},
     "output_type": "execute_result"
    }
   ],
   "source": [
    "#untuk contoh, digunakan algoritma paling simple yaitu linear regression\n",
    "model = DummyClassifier(strategy=\"most_frequent\")\n",
    "model.fit(x_train, y_train)"
   ]
  },
  {
   "cell_type": "markdown",
   "id": "13c67c53",
   "metadata": {},
   "source": [
    "### Evaluating Model"
   ]
  },
  {
   "cell_type": "code",
   "execution_count": 149,
   "id": "8d349850",
   "metadata": {},
   "outputs": [
    {
     "data": {
      "text/plain": [
       "0.9141821871150083"
      ]
     },
     "execution_count": 149,
     "metadata": {},
     "output_type": "execute_result"
    }
   ],
   "source": [
    "# mengevaluasi model dengan data training (tidak disarankan karena akan misleading)\n",
    "y_pred = model.predict(x_eval)\n",
    "accuracy = accuracy_score(y_eval, y_pred)\n",
    "accuracy"
   ]
  },
  {
   "cell_type": "markdown",
   "id": "abe86697",
   "metadata": {},
   "source": [
    "## Finishing\n",
    "### Make Prediction"
   ]
  },
  {
   "cell_type": "code",
   "execution_count": 150,
   "id": "1725bdff",
   "metadata": {},
   "outputs": [],
   "source": [
    "submit_predict = model.predict(x_test)"
   ]
  },
  {
   "cell_type": "markdown",
   "id": "369f6d18",
   "metadata": {},
   "source": [
    "### Export File for Submission"
   ]
  },
  {
   "cell_type": "code",
   "execution_count": 152,
   "id": "4bfaacb6",
   "metadata": {},
   "outputs": [],
   "source": [
    "test_df['CustChannel'] = submit_predict\n",
    "submit_df = test_df[['ID','CustChannel']].copy()\n",
    "submit_df.to_csv('submit.csv', sep=\",\", index=False)"
   ]
  }
 ],
 "metadata": {
  "kernelspec": {
   "display_name": "Python 3 (ipykernel)",
   "language": "python",
   "name": "python3"
  },
  "language_info": {
   "codemirror_mode": {
    "name": "ipython",
    "version": 3
   },
   "file_extension": ".py",
   "mimetype": "text/x-python",
   "name": "python",
   "nbconvert_exporter": "python",
   "pygments_lexer": "ipython3",
   "version": "3.8.15"
  }
 },
 "nbformat": 4,
 "nbformat_minor": 5
}
