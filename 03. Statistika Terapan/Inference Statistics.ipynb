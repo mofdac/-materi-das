{
 "cells": [
  {
   "cell_type": "code",
   "execution_count": 1,
   "id": "6fdd9af5",
   "metadata": {},
   "outputs": [],
   "source": [
    "import pandas as pd\n",
    "import matplotlib.pyplot as plt\n",
    "import seaborn as sns\n",
    "import numpy as np\n",
    "\n",
    "from scipy.stats import chi2_contingency, f_oneway, ttest_ind, chi2, kstest \n",
    "\n",
    "\n",
    "plt.rcParams['figure.figsize'] = [16, 5]\n",
    "# plt.rcParams['figure.dpi'] = 140\n",
    "plt.style.use('seaborn')"
   ]
  },
  {
   "cell_type": "code",
   "execution_count": 2,
   "id": "72259018",
   "metadata": {},
   "outputs": [
    {
     "data": {
      "text/html": [
       "<div>\n",
       "<style scoped>\n",
       "    .dataframe tbody tr th:only-of-type {\n",
       "        vertical-align: middle;\n",
       "    }\n",
       "\n",
       "    .dataframe tbody tr th {\n",
       "        vertical-align: top;\n",
       "    }\n",
       "\n",
       "    .dataframe thead th {\n",
       "        text-align: right;\n",
       "    }\n",
       "</style>\n",
       "<table border=\"1\" class=\"dataframe\">\n",
       "  <thead>\n",
       "    <tr style=\"text-align: right;\">\n",
       "      <th></th>\n",
       "      <th>No.Invoice</th>\n",
       "      <th>Tanggal Invoice</th>\n",
       "      <th>No.Urut</th>\n",
       "      <th>Nama Pelanggan</th>\n",
       "      <th>Kode Produk</th>\n",
       "      <th>Quantity</th>\n",
       "      <th>Gross sales</th>\n",
       "      <th>Discount</th>\n",
       "      <th>Net sales</th>\n",
       "      <th>Jenis Kirim</th>\n",
       "      <th>Ongkir/Unit</th>\n",
       "      <th>Total Sales</th>\n",
       "      <th>ID Salesman</th>\n",
       "    </tr>\n",
       "  </thead>\n",
       "  <tbody>\n",
       "    <tr>\n",
       "      <th>0</th>\n",
       "      <td>ORD-BS-00140940342-1</td>\n",
       "      <td>2020-01-02</td>\n",
       "      <td>1</td>\n",
       "      <td>Pittsburgh Mountain Machines</td>\n",
       "      <td>BM-CC-057</td>\n",
       "      <td>1</td>\n",
       "      <td>7460</td>\n",
       "      <td>0</td>\n",
       "      <td>7460</td>\n",
       "      <td>1</td>\n",
       "      <td>50</td>\n",
       "      <td>7510</td>\n",
       "      <td>669618</td>\n",
       "    </tr>\n",
       "    <tr>\n",
       "      <th>1</th>\n",
       "      <td>ORD-BS-00140940342-1</td>\n",
       "      <td>2020-01-02</td>\n",
       "      <td>2</td>\n",
       "      <td>Pittsburgh Mountain Machines</td>\n",
       "      <td>BR-EC-009</td>\n",
       "      <td>1</td>\n",
       "      <td>2240</td>\n",
       "      <td>0</td>\n",
       "      <td>2240</td>\n",
       "      <td>1</td>\n",
       "      <td>50</td>\n",
       "      <td>2290</td>\n",
       "      <td>669618</td>\n",
       "    </tr>\n",
       "    <tr>\n",
       "      <th>2</th>\n",
       "      <td>ORD-BS-00140940342-1</td>\n",
       "      <td>2020-01-02</td>\n",
       "      <td>3</td>\n",
       "      <td>Pittsburgh Mountain Machines</td>\n",
       "      <td>BM-OC-049</td>\n",
       "      <td>2</td>\n",
       "      <td>7680</td>\n",
       "      <td>0</td>\n",
       "      <td>15360</td>\n",
       "      <td>1</td>\n",
       "      <td>50</td>\n",
       "      <td>15410</td>\n",
       "      <td>669618</td>\n",
       "    </tr>\n",
       "    <tr>\n",
       "      <th>3</th>\n",
       "      <td>ORD-BS-00141011421-2</td>\n",
       "      <td>2020-01-04</td>\n",
       "      <td>1</td>\n",
       "      <td>Pittsburgh Mountain Machines</td>\n",
       "      <td>BR-TC-040</td>\n",
       "      <td>1</td>\n",
       "      <td>3200</td>\n",
       "      <td>0</td>\n",
       "      <td>3200</td>\n",
       "      <td>2</td>\n",
       "      <td>30</td>\n",
       "      <td>3260</td>\n",
       "      <td>848311</td>\n",
       "    </tr>\n",
       "    <tr>\n",
       "      <th>4</th>\n",
       "      <td>ORD-BS-00141011421-2</td>\n",
       "      <td>2020-01-04</td>\n",
       "      <td>2</td>\n",
       "      <td>Pittsburgh Mountain Machines</td>\n",
       "      <td>BM-CC-059</td>\n",
       "      <td>1</td>\n",
       "      <td>5330</td>\n",
       "      <td>0</td>\n",
       "      <td>5330</td>\n",
       "      <td>1</td>\n",
       "      <td>50</td>\n",
       "      <td>5380</td>\n",
       "      <td>848311</td>\n",
       "    </tr>\n",
       "  </tbody>\n",
       "</table>\n",
       "</div>"
      ],
      "text/plain": [
       "             No.Invoice Tanggal Invoice  No.Urut  \\\n",
       "0  ORD-BS-00140940342-1      2020-01-02        1   \n",
       "1  ORD-BS-00140940342-1      2020-01-02        2   \n",
       "2  ORD-BS-00140940342-1      2020-01-02        3   \n",
       "3  ORD-BS-00141011421-2      2020-01-04        1   \n",
       "4  ORD-BS-00141011421-2      2020-01-04        2   \n",
       "\n",
       "                 Nama Pelanggan Kode Produk  Quantity  Gross sales  Discount  \\\n",
       "0  Pittsburgh Mountain Machines   BM-CC-057         1         7460         0   \n",
       "1  Pittsburgh Mountain Machines   BR-EC-009         1         2240         0   \n",
       "2  Pittsburgh Mountain Machines   BM-OC-049         2         7680         0   \n",
       "3  Pittsburgh Mountain Machines   BR-TC-040         1         3200         0   \n",
       "4  Pittsburgh Mountain Machines   BM-CC-059         1         5330         0   \n",
       "\n",
       "   Net sales Jenis Kirim  Ongkir/Unit  Total Sales ID Salesman  \n",
       "0       7460           1           50         7510      669618  \n",
       "1       2240           1           50         2290      669618  \n",
       "2      15360           1           50        15410      669618  \n",
       "3       3200           2           30         3260      848311  \n",
       "4       5330           1           50         5380      848311  "
      ]
     },
     "execution_count": 2,
     "metadata": {},
     "output_type": "execute_result"
    }
   ],
   "source": [
    "# load data dan perbaikan tipe data sesuai dengan notebook deskriptif analisis\n",
    "file = 'https://raw.githubusercontent.com/audit-ti/pjj-pengolahan-data-python/main/03.%20Statistika%20Terapan/Data%20Stater.csv'\n",
    "raw_df = pd.read_csv(file, parse_dates=[\"Tanggal Invoice\"], thousands=\",\")\n",
    "raw_df.columns = [col_name.strip() for col_name in raw_df.columns]\n",
    "replaceDash = raw_df.Discount.str.replace('-','0')\n",
    "raw_df.Discount = replaceDash.astype('int64')\n",
    "raw_df['ID Salesman'] = raw_df['ID Salesman'].astype('object')\n",
    "raw_df['Jenis Kirim'] = raw_df['Jenis Kirim'].astype('object') \n",
    "raw_df.head()"
   ]
  },
  {
   "cell_type": "markdown",
   "id": "16bd1935",
   "metadata": {},
   "source": [
    "## Correlation and Relationship between Variables"
   ]
  },
  {
   "cell_type": "code",
   "execution_count": 3,
   "id": "fbb606f3",
   "metadata": {},
   "outputs": [],
   "source": [
    "# fungsi chi2 test yang akan digunakan, didalamnya juga terdapat uji cramer test\n",
    "def chi2_test(v1, v2, conv_interval = 0.99):\n",
    "    alpha = 1 - conv_interval\n",
    "    cont_table = pd.crosstab(v1, v2, margins = False)\n",
    "    \n",
    "    # chi test\n",
    "    chi_square, p_value, dof, expected = chi2_contingency(cont_table)\n",
    "        \n",
    "    # The p-value approach\n",
    "    print(\"Chi Squared Significancy Test\")\n",
    "    conclusion = \"Failed to reject the null hypothesis (no correlation between variables)\"\n",
    "    if p_value <= alpha:\n",
    "        conclusion = \"Null Hypothesis (no correlation between variables) is rejected.\"\n",
    "\n",
    "    print(\"chisquare-score is:\", chi_square, \" and p value is:\", p_value)\n",
    "    print(conclusion)\n",
    "    \n",
    "    # cramer V test\n",
    "    print(\"\\nCramer V Association Test\")\n",
    "    N = np.sum(cont_table.values)\n",
    "    minimum_dimension = min(cont_table.shape)-1\n",
    "    # Calculate Cramer's V\n",
    "    cramer_value = np.sqrt((chi_square/N) / minimum_dimension)\n",
    "    \n",
    "    if cramer_value < 0.25:\n",
    "        conclusion = 'Weak'\n",
    "    elif cramer_value < 0.75:\n",
    "        conclusion = 'Moderate'\n",
    "    else:\n",
    "        conclusion = 'Strong'\n",
    "    \n",
    "    if cramer_value == 0:\n",
    "        conclusion = 'No'\n",
    "    elif cramer_value == 1:\n",
    "        conclusion = 'Perfect'\n",
    "        \n",
    "    \n",
    "#     print(dof)\n",
    "    # Print the result\n",
    "    print(\"V =\", cramer_value,\"\\nConclusion:\",conclusion,'Association')"
   ]
  },
  {
   "cell_type": "markdown",
   "id": "ecd1a789",
   "metadata": {},
   "source": [
    "### Cek Korelasi"
   ]
  },
  {
   "cell_type": "code",
   "execution_count": 4,
   "id": "dfe31910",
   "metadata": {},
   "outputs": [
    {
     "data": {
      "text/html": [
       "<div>\n",
       "<style scoped>\n",
       "    .dataframe tbody tr th:only-of-type {\n",
       "        vertical-align: middle;\n",
       "    }\n",
       "\n",
       "    .dataframe tbody tr th {\n",
       "        vertical-align: top;\n",
       "    }\n",
       "\n",
       "    .dataframe thead th {\n",
       "        text-align: right;\n",
       "    }\n",
       "</style>\n",
       "<table border=\"1\" class=\"dataframe\">\n",
       "  <thead>\n",
       "    <tr style=\"text-align: right;\">\n",
       "      <th></th>\n",
       "      <th>No.Urut</th>\n",
       "      <th>Quantity</th>\n",
       "      <th>Gross sales</th>\n",
       "      <th>Discount</th>\n",
       "      <th>Net sales</th>\n",
       "      <th>Ongkir/Unit</th>\n",
       "      <th>Total Sales</th>\n",
       "    </tr>\n",
       "  </thead>\n",
       "  <tbody>\n",
       "    <tr>\n",
       "      <th>No.Urut</th>\n",
       "      <td>1.000000</td>\n",
       "      <td>-0.011824</td>\n",
       "      <td>0.004715</td>\n",
       "      <td>0.012278</td>\n",
       "      <td>-0.016632</td>\n",
       "      <td>-0.003716</td>\n",
       "      <td>-0.016628</td>\n",
       "    </tr>\n",
       "    <tr>\n",
       "      <th>Quantity</th>\n",
       "      <td>-0.011824</td>\n",
       "      <td>1.000000</td>\n",
       "      <td>0.567569</td>\n",
       "      <td>0.004768</td>\n",
       "      <td>0.661938</td>\n",
       "      <td>0.011376</td>\n",
       "      <td>0.661940</td>\n",
       "    </tr>\n",
       "    <tr>\n",
       "      <th>Gross sales</th>\n",
       "      <td>0.004715</td>\n",
       "      <td>0.567569</td>\n",
       "      <td>1.000000</td>\n",
       "      <td>0.207292</td>\n",
       "      <td>0.826150</td>\n",
       "      <td>-0.000422</td>\n",
       "      <td>0.826151</td>\n",
       "    </tr>\n",
       "    <tr>\n",
       "      <th>Discount</th>\n",
       "      <td>0.012278</td>\n",
       "      <td>0.004768</td>\n",
       "      <td>0.207292</td>\n",
       "      <td>1.000000</td>\n",
       "      <td>0.060267</td>\n",
       "      <td>-0.004543</td>\n",
       "      <td>0.060255</td>\n",
       "    </tr>\n",
       "    <tr>\n",
       "      <th>Net sales</th>\n",
       "      <td>-0.016632</td>\n",
       "      <td>0.661938</td>\n",
       "      <td>0.826150</td>\n",
       "      <td>0.060267</td>\n",
       "      <td>1.000000</td>\n",
       "      <td>-0.002797</td>\n",
       "      <td>1.000000</td>\n",
       "    </tr>\n",
       "    <tr>\n",
       "      <th>Ongkir/Unit</th>\n",
       "      <td>-0.003716</td>\n",
       "      <td>0.011376</td>\n",
       "      <td>-0.000422</td>\n",
       "      <td>-0.004543</td>\n",
       "      <td>-0.002797</td>\n",
       "      <td>1.000000</td>\n",
       "      <td>-0.002593</td>\n",
       "    </tr>\n",
       "    <tr>\n",
       "      <th>Total Sales</th>\n",
       "      <td>-0.016628</td>\n",
       "      <td>0.661940</td>\n",
       "      <td>0.826151</td>\n",
       "      <td>0.060255</td>\n",
       "      <td>1.000000</td>\n",
       "      <td>-0.002593</td>\n",
       "      <td>1.000000</td>\n",
       "    </tr>\n",
       "  </tbody>\n",
       "</table>\n",
       "</div>"
      ],
      "text/plain": [
       "              No.Urut  Quantity  Gross sales  Discount  Net sales  \\\n",
       "No.Urut      1.000000 -0.011824     0.004715  0.012278  -0.016632   \n",
       "Quantity    -0.011824  1.000000     0.567569  0.004768   0.661938   \n",
       "Gross sales  0.004715  0.567569     1.000000  0.207292   0.826150   \n",
       "Discount     0.012278  0.004768     0.207292  1.000000   0.060267   \n",
       "Net sales   -0.016632  0.661938     0.826150  0.060267   1.000000   \n",
       "Ongkir/Unit -0.003716  0.011376    -0.000422 -0.004543  -0.002797   \n",
       "Total Sales -0.016628  0.661940     0.826151  0.060255   1.000000   \n",
       "\n",
       "             Ongkir/Unit  Total Sales  \n",
       "No.Urut        -0.003716    -0.016628  \n",
       "Quantity        0.011376     0.661940  \n",
       "Gross sales    -0.000422     0.826151  \n",
       "Discount       -0.004543     0.060255  \n",
       "Net sales      -0.002797     1.000000  \n",
       "Ongkir/Unit     1.000000    -0.002593  \n",
       "Total Sales    -0.002593     1.000000  "
      ]
     },
     "execution_count": 4,
     "metadata": {},
     "output_type": "execute_result"
    }
   ],
   "source": [
    "num_cols = raw_df.describe().columns\n",
    "\n",
    "raw_df[num_cols].corr()"
   ]
  },
  {
   "cell_type": "code",
   "execution_count": 5,
   "id": "3775dab0",
   "metadata": {},
   "outputs": [
    {
     "data": {
      "image/png": "[encoded data removed]",
      "text/plain": [
       "<Figure size 576x396 with 2 Axes>"
      ]
     },
     "metadata": {},
     "output_type": "display_data"
    }
   ],
   "source": [
    "sns.heatmap(raw_df[num_cols].corr(),annot=True)\n",
    "plt.show()"
   ]
  },
  {
   "cell_type": "code",
   "execution_count": 6,
   "id": "38a972b9",
   "metadata": {},
   "outputs": [
    {
     "data": {
      "text/html": [
       "<div>\n",
       "<style scoped>\n",
       "    .dataframe tbody tr th:only-of-type {\n",
       "        vertical-align: middle;\n",
       "    }\n",
       "\n",
       "    .dataframe tbody tr th {\n",
       "        vertical-align: top;\n",
       "    }\n",
       "\n",
       "    .dataframe thead th {\n",
       "        text-align: right;\n",
       "    }\n",
       "</style>\n",
       "<table border=\"1\" class=\"dataframe\">\n",
       "  <thead>\n",
       "    <tr style=\"text-align: right;\">\n",
       "      <th></th>\n",
       "      <th>No.Urut</th>\n",
       "      <th>Quantity</th>\n",
       "      <th>Gross sales</th>\n",
       "      <th>Discount</th>\n",
       "      <th>Net sales</th>\n",
       "      <th>Ongkir/Unit</th>\n",
       "      <th>Total Sales</th>\n",
       "    </tr>\n",
       "  </thead>\n",
       "  <tbody>\n",
       "    <tr>\n",
       "      <th>No.Urut</th>\n",
       "      <td>1.000000</td>\n",
       "      <td>0.005436</td>\n",
       "      <td>0.028961</td>\n",
       "      <td>0.028471</td>\n",
       "      <td>0.029779</td>\n",
       "      <td>-0.013961</td>\n",
       "      <td>0.029661</td>\n",
       "    </tr>\n",
       "    <tr>\n",
       "      <th>Quantity</th>\n",
       "      <td>0.005436</td>\n",
       "      <td>1.000000</td>\n",
       "      <td>0.387671</td>\n",
       "      <td>-0.011387</td>\n",
       "      <td>0.560321</td>\n",
       "      <td>0.013493</td>\n",
       "      <td>0.559562</td>\n",
       "    </tr>\n",
       "    <tr>\n",
       "      <th>Gross sales</th>\n",
       "      <td>0.028961</td>\n",
       "      <td>0.387671</td>\n",
       "      <td>1.000000</td>\n",
       "      <td>0.154574</td>\n",
       "      <td>0.969716</td>\n",
       "      <td>0.011632</td>\n",
       "      <td>0.969297</td>\n",
       "    </tr>\n",
       "    <tr>\n",
       "      <th>Discount</th>\n",
       "      <td>0.028471</td>\n",
       "      <td>-0.011387</td>\n",
       "      <td>0.154574</td>\n",
       "      <td>1.000000</td>\n",
       "      <td>0.117513</td>\n",
       "      <td>-0.012126</td>\n",
       "      <td>0.118791</td>\n",
       "    </tr>\n",
       "    <tr>\n",
       "      <th>Net sales</th>\n",
       "      <td>0.029779</td>\n",
       "      <td>0.560321</td>\n",
       "      <td>0.969716</td>\n",
       "      <td>0.117513</td>\n",
       "      <td>1.000000</td>\n",
       "      <td>0.016205</td>\n",
       "      <td>0.999413</td>\n",
       "    </tr>\n",
       "    <tr>\n",
       "      <th>Ongkir/Unit</th>\n",
       "      <td>-0.013961</td>\n",
       "      <td>0.013493</td>\n",
       "      <td>0.011632</td>\n",
       "      <td>-0.012126</td>\n",
       "      <td>0.016205</td>\n",
       "      <td>1.000000</td>\n",
       "      <td>0.027145</td>\n",
       "    </tr>\n",
       "    <tr>\n",
       "      <th>Total Sales</th>\n",
       "      <td>0.029661</td>\n",
       "      <td>0.559562</td>\n",
       "      <td>0.969297</td>\n",
       "      <td>0.118791</td>\n",
       "      <td>0.999413</td>\n",
       "      <td>0.027145</td>\n",
       "      <td>1.000000</td>\n",
       "    </tr>\n",
       "  </tbody>\n",
       "</table>\n",
       "</div>"
      ],
      "text/plain": [
       "              No.Urut  Quantity  Gross sales  Discount  Net sales  \\\n",
       "No.Urut      1.000000  0.005436     0.028961  0.028471   0.029779   \n",
       "Quantity     0.005436  1.000000     0.387671 -0.011387   0.560321   \n",
       "Gross sales  0.028961  0.387671     1.000000  0.154574   0.969716   \n",
       "Discount     0.028471 -0.011387     0.154574  1.000000   0.117513   \n",
       "Net sales    0.029779  0.560321     0.969716  0.117513   1.000000   \n",
       "Ongkir/Unit -0.013961  0.013493     0.011632 -0.012126   0.016205   \n",
       "Total Sales  0.029661  0.559562     0.969297  0.118791   0.999413   \n",
       "\n",
       "             Ongkir/Unit  Total Sales  \n",
       "No.Urut        -0.013961     0.029661  \n",
       "Quantity        0.013493     0.559562  \n",
       "Gross sales     0.011632     0.969297  \n",
       "Discount       -0.012126     0.118791  \n",
       "Net sales       0.016205     0.999413  \n",
       "Ongkir/Unit     1.000000     0.027145  \n",
       "Total Sales     0.027145     1.000000  "
      ]
     },
     "execution_count": 6,
     "metadata": {},
     "output_type": "execute_result"
    }
   ],
   "source": [
    "raw_df[num_cols].corr(method='spearman')"
   ]
  },
  {
   "cell_type": "code",
   "execution_count": 7,
   "id": "50c48d10",
   "metadata": {},
   "outputs": [
    {
     "data": {
      "image/png": "[encoded data removed]",
      "text/plain": [
       "<Figure size 576x396 with 2 Axes>"
      ]
     },
     "metadata": {},
     "output_type": "display_data"
    }
   ],
   "source": [
    "sns.heatmap(raw_df[num_cols].corr(method='spearman'),annot=True)\n",
    "plt.show()"
   ]
  },
  {
   "cell_type": "code",
   "execution_count": 8,
   "id": "6cb9b5ac",
   "metadata": {},
   "outputs": [
    {
     "data": {
      "text/html": [
       "<div>\n",
       "<style scoped>\n",
       "    .dataframe tbody tr th:only-of-type {\n",
       "        vertical-align: middle;\n",
       "    }\n",
       "\n",
       "    .dataframe tbody tr th {\n",
       "        vertical-align: top;\n",
       "    }\n",
       "\n",
       "    .dataframe thead th {\n",
       "        text-align: right;\n",
       "    }\n",
       "</style>\n",
       "<table border=\"1\" class=\"dataframe\">\n",
       "  <thead>\n",
       "    <tr style=\"text-align: right;\">\n",
       "      <th></th>\n",
       "      <th>No.Urut</th>\n",
       "      <th>Quantity</th>\n",
       "      <th>Gross sales</th>\n",
       "      <th>Discount</th>\n",
       "      <th>Net sales</th>\n",
       "      <th>Ongkir/Unit</th>\n",
       "      <th>Total Sales</th>\n",
       "    </tr>\n",
       "  </thead>\n",
       "  <tbody>\n",
       "    <tr>\n",
       "      <th>No.Urut</th>\n",
       "      <td>1.000000</td>\n",
       "      <td>0.004505</td>\n",
       "      <td>0.020325</td>\n",
       "      <td>0.023435</td>\n",
       "      <td>0.020806</td>\n",
       "      <td>-0.010370</td>\n",
       "      <td>0.020590</td>\n",
       "    </tr>\n",
       "    <tr>\n",
       "      <th>Quantity</th>\n",
       "      <td>0.004505</td>\n",
       "      <td>1.000000</td>\n",
       "      <td>0.317204</td>\n",
       "      <td>-0.010942</td>\n",
       "      <td>0.464985</td>\n",
       "      <td>0.011435</td>\n",
       "      <td>0.460575</td>\n",
       "    </tr>\n",
       "    <tr>\n",
       "      <th>Gross sales</th>\n",
       "      <td>0.020325</td>\n",
       "      <td>0.317204</td>\n",
       "      <td>1.000000</td>\n",
       "      <td>0.131308</td>\n",
       "      <td>0.917496</td>\n",
       "      <td>0.008357</td>\n",
       "      <td>0.909318</td>\n",
       "    </tr>\n",
       "    <tr>\n",
       "      <th>Discount</th>\n",
       "      <td>0.023435</td>\n",
       "      <td>-0.010942</td>\n",
       "      <td>0.131308</td>\n",
       "      <td>1.000000</td>\n",
       "      <td>0.100797</td>\n",
       "      <td>-0.010350</td>\n",
       "      <td>0.101061</td>\n",
       "    </tr>\n",
       "    <tr>\n",
       "      <th>Net sales</th>\n",
       "      <td>0.020806</td>\n",
       "      <td>0.464985</td>\n",
       "      <td>0.917496</td>\n",
       "      <td>0.100797</td>\n",
       "      <td>1.000000</td>\n",
       "      <td>0.011557</td>\n",
       "      <td>0.989931</td>\n",
       "    </tr>\n",
       "    <tr>\n",
       "      <th>Ongkir/Unit</th>\n",
       "      <td>-0.010370</td>\n",
       "      <td>0.011435</td>\n",
       "      <td>0.008357</td>\n",
       "      <td>-0.010350</td>\n",
       "      <td>0.011557</td>\n",
       "      <td>1.000000</td>\n",
       "      <td>0.020242</td>\n",
       "    </tr>\n",
       "    <tr>\n",
       "      <th>Total Sales</th>\n",
       "      <td>0.020590</td>\n",
       "      <td>0.460575</td>\n",
       "      <td>0.909318</td>\n",
       "      <td>0.101061</td>\n",
       "      <td>0.989931</td>\n",
       "      <td>0.020242</td>\n",
       "      <td>1.000000</td>\n",
       "    </tr>\n",
       "  </tbody>\n",
       "</table>\n",
       "</div>"
      ],
      "text/plain": [
       "              No.Urut  Quantity  Gross sales  Discount  Net sales  \\\n",
       "No.Urut      1.000000  0.004505     0.020325  0.023435   0.020806   \n",
       "Quantity     0.004505  1.000000     0.317204 -0.010942   0.464985   \n",
       "Gross sales  0.020325  0.317204     1.000000  0.131308   0.917496   \n",
       "Discount     0.023435 -0.010942     0.131308  1.000000   0.100797   \n",
       "Net sales    0.020806  0.464985     0.917496  0.100797   1.000000   \n",
       "Ongkir/Unit -0.010370  0.011435     0.008357 -0.010350   0.011557   \n",
       "Total Sales  0.020590  0.460575     0.909318  0.101061   0.989931   \n",
       "\n",
       "             Ongkir/Unit  Total Sales  \n",
       "No.Urut        -0.010370     0.020590  \n",
       "Quantity        0.011435     0.460575  \n",
       "Gross sales     0.008357     0.909318  \n",
       "Discount       -0.010350     0.101061  \n",
       "Net sales       0.011557     0.989931  \n",
       "Ongkir/Unit     1.000000     0.020242  \n",
       "Total Sales     0.020242     1.000000  "
      ]
     },
     "execution_count": 8,
     "metadata": {},
     "output_type": "execute_result"
    }
   ],
   "source": [
    "raw_df[num_cols].corr(method='kendall')"
   ]
  },
  {
   "cell_type": "code",
   "execution_count": 9,
   "id": "48b172fa",
   "metadata": {},
   "outputs": [
    {
     "data": {
      "image/png": "[encoded data removed]",
      "text/plain": [
       "<Figure size 576x396 with 2 Axes>"
      ]
     },
     "metadata": {},
     "output_type": "display_data"
    }
   ],
   "source": [
    "sns.heatmap(raw_df[num_cols].corr(method='kendall'),annot=True)\n",
    "plt.show()"
   ]
  },
  {
   "cell_type": "markdown",
   "id": "fe04bd82",
   "metadata": {},
   "source": [
    "### Cek Relationship Categorical"
   ]
  },
  {
   "cell_type": "code",
   "execution_count": 10,
   "id": "5001b33d",
   "metadata": {},
   "outputs": [
    {
     "name": "stdout",
     "output_type": "stream",
     "text": [
      "Chi Squared Significancy Test\n",
      "chisquare-score is: 9.560375098869827  and p value is: 0.3872320585448122\n",
      "Failed to reject the null hypothesis (no correlation between variables)\n",
      "\n",
      "Cramer V Association Test\n",
      "V = 0.05991725142207294 \n",
      "Conclusion: Weak Association\n"
     ]
    }
   ],
   "source": [
    "chi2_test(raw_df['ID Salesman'], raw_df['Jenis Kirim'])"
   ]
  },
  {
   "cell_type": "code",
   "execution_count": 11,
   "id": "73f236ba",
   "metadata": {},
   "outputs": [
    {
     "name": "stdout",
     "output_type": "stream",
     "text": [
      "Chi Squared Significancy Test\n",
      "chisquare-score is: 693.8206789238319  and p value is: 0.9999941259046277\n",
      "Failed to reject the null hypothesis (no correlation between variables)\n",
      "\n",
      "Cramer V Association Test\n",
      "V = 0.1701440561110667 \n",
      "Conclusion: Weak Association\n"
     ]
    }
   ],
   "source": [
    "chi2_test(raw_df['ID Salesman'], raw_df['Kode Produk'])"
   ]
  },
  {
   "cell_type": "code",
   "execution_count": 12,
   "id": "3a475831",
   "metadata": {},
   "outputs": [
    {
     "name": "stdout",
     "output_type": "stream",
     "text": [
      "Chi Squared Significancy Test\n",
      "chisquare-score is: 94.33023116951432  and p value is: 0.5290987951934457\n",
      "Failed to reject the null hypothesis (no correlation between variables)\n",
      "\n",
      "Cramer V Association Test\n",
      "V = 0.18820877419705867 \n",
      "Conclusion: Weak Association\n"
     ]
    }
   ],
   "source": [
    "chi2_test(raw_df['Jenis Kirim'], raw_df['Kode Produk'])"
   ]
  },
  {
   "cell_type": "code",
   "execution_count": 13,
   "id": "d6ce5647",
   "metadata": {},
   "outputs": [
    {
     "name": "stdout",
     "output_type": "stream",
     "text": [
      "Chi Squared Significancy Test\n",
      "chisquare-score is: 3517.2963499294538  and p value is: 0.0\n",
      "Null Hypothesis (no correlation between variables) is rejected.\n",
      "\n",
      "Cramer V Association Test\n",
      "V = 0.38308720131405266 \n",
      "Conclusion: Moderate Association\n"
     ]
    }
   ],
   "source": [
    "chi2_test(raw_df['Nama Pelanggan'], raw_df['ID Salesman'])"
   ]
  },
  {
   "cell_type": "code",
   "execution_count": 14,
   "id": "fb2c4530",
   "metadata": {},
   "outputs": [
    {
     "name": "stdout",
     "output_type": "stream",
     "text": [
      "Chi Squared Significancy Test\n",
      "chisquare-score is: 3101.5051158788883  and p value is: 1.96049330454749e-05\n",
      "Null Hypothesis (no correlation between variables) is rejected.\n",
      "\n",
      "Cramer V Association Test\n",
      "V = 0.2004018234117868 \n",
      "Conclusion: Weak Association\n"
     ]
    }
   ],
   "source": [
    "chi2_test(raw_df['Nama Pelanggan'], raw_df['Kode Produk'])"
   ]
  },
  {
   "cell_type": "code",
   "execution_count": 15,
   "id": "63368e10",
   "metadata": {},
   "outputs": [
    {
     "name": "stdout",
     "output_type": "stream",
     "text": [
      "Chi Squared Significancy Test\n",
      "chisquare-score is: 25.688502276981968  and p value is: 0.6420839821251962\n",
      "Failed to reject the null hypothesis (no correlation between variables)\n",
      "\n",
      "Cramer V Association Test\n",
      "V = 0.09821635416608858 \n",
      "Conclusion: Weak Association\n"
     ]
    }
   ],
   "source": [
    "chi2_test(raw_df['Nama Pelanggan'], raw_df['Jenis Kirim'])"
   ]
  },
  {
   "cell_type": "markdown",
   "id": "310dbb70",
   "metadata": {},
   "source": [
    "## Uji Normality"
   ]
  },
  {
   "cell_type": "code",
   "execution_count": 16,
   "id": "0cfc80c0",
   "metadata": {},
   "outputs": [],
   "source": [
    "def check_normality(data, alpha = 0.05):\n",
    "    test_stat_normality, p_value_normality = kstest(data, 'norm')\n",
    "    print(\"p value:%.4f\" % p_value_normality)\n",
    "    if p_value_normality < alpha:\n",
    "        print(\"Reject null hypothesis >> The data is not normally distributed\")\n",
    "    else:\n",
    "        print(\"Fail to reject null hypothesis >> The data is normally distributed\")"
   ]
  },
  {
   "cell_type": "code",
   "execution_count": 17,
   "id": "9669be84",
   "metadata": {},
   "outputs": [
    {
     "name": "stdout",
     "output_type": "stream",
     "text": [
      "p value:0.0000\n",
      "Reject null hypothesis >> The data is not normally distributed\n"
     ]
    }
   ],
   "source": [
    "check_normality(raw_df['Total Sales'])"
   ]
  },
  {
   "cell_type": "code",
   "execution_count": 18,
   "id": "001fb476",
   "metadata": {},
   "outputs": [
    {
     "name": "stdout",
     "output_type": "stream",
     "text": [
      "p value:0.0000\n",
      "Reject null hypothesis >> The data is not normally distributed\n"
     ]
    }
   ],
   "source": [
    "check_normality(raw_df['Quantity'])"
   ]
  },
  {
   "cell_type": "code",
   "execution_count": 19,
   "id": "b8c2e1d2",
   "metadata": {},
   "outputs": [
    {
     "data": {
      "text/plain": [
       "array([[<AxesSubplot:title={'center':'No.Urut'}>,\n",
       "        <AxesSubplot:title={'center':'Quantity'}>,\n",
       "        <AxesSubplot:title={'center':'Gross sales'}>],\n",
       "       [<AxesSubplot:title={'center':'Discount'}>,\n",
       "        <AxesSubplot:title={'center':'Net sales'}>,\n",
       "        <AxesSubplot:title={'center':'Ongkir/Unit'}>],\n",
       "       [<AxesSubplot:title={'center':'Total Sales'}>, <AxesSubplot:>,\n",
       "        <AxesSubplot:>]], dtype=object)"
      ]
     },
     "execution_count": 19,
     "metadata": {},
     "output_type": "execute_result"
    },
    {
     "data": {
      "image/png": "[encoded data removed]",
      "text/plain": [
       "<Figure size 576x396 with 9 Axes>"
      ]
     },
     "metadata": {},
     "output_type": "display_data"
    }
   ],
   "source": [
    "transformed = raw_df[raw_df.describe().columns].apply(lambda v: np.log1p(np.log1p(v)) , axis=0)\n",
    "transformed.hist()"
   ]
  },
  {
   "cell_type": "code",
   "execution_count": 20,
   "id": "ce3bdb19",
   "metadata": {},
   "outputs": [
    {
     "name": "stdout",
     "output_type": "stream",
     "text": [
      "p value:0.0000\n",
      "Reject null hypothesis >> The data is not normally distributed\n"
     ]
    }
   ],
   "source": [
    "check_normality(transformed['Gross sales'])"
   ]
  },
  {
   "cell_type": "markdown",
   "id": "41ad3646",
   "metadata": {},
   "source": [
    "## Uji Hipotesis"
   ]
  },
  {
   "cell_type": "markdown",
   "id": "492789bf",
   "metadata": {},
   "source": [
    "https://machinelearningmastery.com/statistical-hypothesis-tests-in-python-cheat-sheet/"
   ]
  },
  {
   "cell_type": "code",
   "execution_count": 21,
   "id": "2b63ef75",
   "metadata": {},
   "outputs": [],
   "source": [
    "#student t-test\n",
    "def t_test(data1, data2, alpha = 0.05):\n",
    "    stat, p = ttest_ind(data1, data2)\n",
    "    print('stat=%.3f, p=%.3f' % (stat, p))\n",
    "    if p > alpha:\n",
    "        print('Probably the same distribution')\n",
    "    else:\n",
    "        print('Probably different distributions')"
   ]
  },
  {
   "cell_type": "code",
   "execution_count": 22,
   "id": "b8c40eb4",
   "metadata": {},
   "outputs": [
    {
     "name": "stdout",
     "output_type": "stream",
     "text": [
      "stat=0.822, p=0.411\n",
      "Probably the same distribution\n"
     ]
    }
   ],
   "source": [
    "# cek apakah data gross sales dalam jenis kirim yang berbeda merupakan data yang sama distribusinya\n",
    "\n",
    "data1 = transformed[raw_df['Jenis Kirim'] == 1]['Gross sales']\n",
    "data2 = transformed[raw_df['Jenis Kirim'] == 2]['Gross sales']\n",
    "\n",
    "t_test(data1, data2)"
   ]
  },
  {
   "cell_type": "code",
   "execution_count": 23,
   "id": "e61d914d",
   "metadata": {},
   "outputs": [],
   "source": [
    "def anova_test(data,alpha=0.05):\n",
    "    print()\n",
    "    stat, p = f_oneway(*data)\n",
    "    print('stat=%.3f, p=%.3f' % (stat, p))\n",
    "    if p > alpha:\n",
    "        print('Probably the same distribution')\n",
    "    else:\n",
    "        print('Probably different distributions')"
   ]
  },
  {
   "cell_type": "code",
   "execution_count": 24,
   "id": "77eb5fb9",
   "metadata": {},
   "outputs": [
    {
     "name": "stdout",
     "output_type": "stream",
     "text": [
      "\n",
      "stat=17.950, p=0.000\n",
      "Probably different distributions\n"
     ]
    }
   ],
   "source": [
    "data1 = transformed[raw_df['Tanggal Invoice'].dt.month == 1]['Gross sales']\n",
    "data2 = transformed[raw_df['Tanggal Invoice'].dt.month == 4]['Gross sales']\n",
    "data3 = transformed[raw_df['Tanggal Invoice'].dt.month == 7]['Gross sales']\n",
    "\n",
    "anova_test([data1, data2,data3])"
   ]
  },
  {
   "cell_type": "code",
   "execution_count": 25,
   "id": "d1df3b05",
   "metadata": {},
   "outputs": [
    {
     "data": {
      "image/png": "[encoded data removed]",
      "text/plain": [
       "<Figure size 576x396 with 1 Axes>"
      ]
     },
     "metadata": {},
     "output_type": "display_data"
    }
   ],
   "source": [
    "sns.histplot(data=data1, color='blue')\n",
    "sns.histplot(data=data2, color='green')\n",
    "sns.histplot(data=data3, color='yellow')\n",
    "plt.show()"
   ]
  },
  {
   "cell_type": "code",
   "execution_count": 26,
   "id": "10dbd7b8",
   "metadata": {},
   "outputs": [
    {
     "name": "stdout",
     "output_type": "stream",
     "text": [
      "Requirement already satisfied: researchpy in c:\\programdata\\anaconda3\\lib\\site-packages (0.3.2)\n",
      "Requirement already satisfied: numpy in c:\\programdata\\anaconda3\\lib\\site-packages (from researchpy) (1.20.3)\n",
      "Requirement already satisfied: patsy in c:\\programdata\\anaconda3\\lib\\site-packages (from researchpy) (0.5.2)\n",
      "Requirement already satisfied: pandas in c:\\programdata\\anaconda3\\lib\\site-packages (from researchpy) (1.3.4)\n",
      "Requirement already satisfied: scipy in c:\\programdata\\anaconda3\\lib\\site-packages (from researchpy) (1.7.1)\n",
      "Requirement already satisfied: statsmodels in c:\\programdata\\anaconda3\\lib\\site-packages (from researchpy) (0.12.2)\n",
      "Requirement already satisfied: pytz>=2017.3 in c:\\programdata\\anaconda3\\lib\\site-packages (from pandas->researchpy) (2021.3)\n",
      "Requirement already satisfied: python-dateutil>=2.7.3 in c:\\programdata\\anaconda3\\lib\\site-packages (from pandas->researchpy) (2.8.2)\n",
      "Requirement already satisfied: six>=1.5 in c:\\programdata\\anaconda3\\lib\\site-packages (from python-dateutil>=2.7.3->pandas->researchpy) (1.16.0)\n"
     ]
    }
   ],
   "source": [
    "!pip install researchpy\n",
    "import researchpy as rp"
   ]
  },
  {
   "cell_type": "code",
   "execution_count": 27,
   "id": "43b02e5a",
   "metadata": {},
   "outputs": [
    {
     "data": {
      "text/plain": [
       "(   Variable      N      Mean        SD        SE  95% Conf.  Interval\n",
       " 0   Kirim 1  176.0  2.237834  0.089606  0.006754   2.224504  2.251164\n",
       " 1   Kirim 2  255.0  2.195494  0.097665  0.006116   2.183449  2.207538\n",
       " 2  combined  431.0  2.212783  0.096624  0.004654   2.203636  2.221931,\n",
       "                   Independent t-test   results\n",
       " 0  Difference (Kirim 1 - Kirim 2) =     0.0423\n",
       " 1              Degrees of freedom =   429.0000\n",
       " 2                               t =     4.5740\n",
       " 3           Two side test p value =     0.0000\n",
       " 4          Difference < 0 p value =     1.0000\n",
       " 5          Difference > 0 p value =     0.0000\n",
       " 6                       Cohen's d =     0.4482\n",
       " 7                       Hedge's g =     0.4474\n",
       " 8                   Glass's delta =     0.4725\n",
       " 9                     Pearson's r =     0.2156)"
      ]
     },
     "execution_count": 27,
     "metadata": {},
     "output_type": "execute_result"
    }
   ],
   "source": [
    "rp.ttest(group1= data1, group1_name= \"Kirim 1\",\n",
    "         group2= data2, group2_name= \"Kirim 2\")"
   ]
  },
  {
   "cell_type": "code",
   "execution_count": 1,
   "id": "a6935d20",
   "metadata": {},
   "outputs": [],
   "source": [
    "jajal = lambda x,y: x+y"
   ]
  },
  {
   "cell_type": "code",
   "execution_count": 2,
   "id": "cdf1d69c",
   "metadata": {},
   "outputs": [
    {
     "data": {
      "text/plain": [
       "3"
      ]
     },
     "execution_count": 2,
     "metadata": {},
     "output_type": "execute_result"
    }
   ],
   "source": [
    "jajal(1,2)"
   ]
  },
  {
   "cell_type": "code",
   "execution_count": null,
   "id": "3829396e",
   "metadata": {},
   "outputs": [],
   "source": []
  }
 ],
 "metadata": {
  "kernelspec": {
   "display_name": "Python 3 (ipykernel)",
   "language": "python",
   "name": "python3"
  },
  "language_info": {
   "codemirror_mode": {
    "name": "ipython",
    "version": 3
   },
   "file_extension": ".py",
   "mimetype": "text/x-python",
   "name": "python",
   "nbconvert_exporter": "python",
   "pygments_lexer": "ipython3",
   "version": "3.9.7"
  }
 },
 "nbformat": 4,
 "nbformat_minor": 5
}
