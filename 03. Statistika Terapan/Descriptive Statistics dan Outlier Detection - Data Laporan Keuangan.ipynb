{
 "cells": [
  {
   "cell_type": "code",
   "execution_count": null,
   "id": "1dadb89d",
   "metadata": {
    "id": "1dadb89d"
   },
   "outputs": [],
   "source": [
    "from statsmodels.graphics.mosaicplot import mosaic\n",
    "import pandas as pd\n",
    "import matplotlib.pyplot as plt\n",
    "import seaborn as sns\n",
    "import numpy as np\n",
    "\n",
    "plt.rcParams['figure.figsize'] = [16, 5]\n",
    "# plt.rcParams['figure.dpi'] = 140\n",
    "plt.style.use('seaborn')\n",
    "# file \"Data Laporan Keuangan.xlsx\"\n",
    "file = 'Data Zonasi.xlsx'"
   ]
  },
  {
   "cell_type": "code",
   "execution_count": null,
   "id": "28422c17",
   "metadata": {
    "id": "28422c17"
   },
   "outputs": [],
   "source": [
    "raw_df = pd.read_excel(file)\n",
    "raw_df"
   ]
  },
  {
   "cell_type": "markdown",
   "id": "d47324b5",
   "metadata": {
    "id": "d47324b5"
   },
   "source": [
    "## Tipe Data"
   ]
  },
  {
   "cell_type": "code",
   "execution_count": null,
   "id": "2ccaec49",
   "metadata": {
    "id": "2ccaec49"
   },
   "outputs": [],
   "source": [
    "raw_df.info()"
   ]
  },
  {
   "cell_type": "markdown",
   "id": "708ef4bc",
   "metadata": {
    "id": "708ef4bc"
   },
   "source": [
    "### Perbaikin Jenis Tidak Sesuai"
   ]
  },
  {
   "cell_type": "code",
   "execution_count": null,
   "id": "8d90cbd4",
   "metadata": {
    "id": "8d90cbd4"
   },
   "outputs": [],
   "source": [
    "raw_df = pd.read_csv(file, parse_dates=[\"Tanggal Invoice\"], thousands=\",\")\n",
    "raw_df.info()"
   ]
  },
  {
   "cell_type": "markdown",
   "id": "a229c466",
   "metadata": {
    "id": "a229c466"
   },
   "source": [
    "### Perbaiki nama kolom (hapus spasi / strip)"
   ]
  },
  {
   "cell_type": "code",
   "execution_count": null,
   "id": "ba874a30",
   "metadata": {
    "id": "ba874a30"
   },
   "outputs": [],
   "source": [
    "raw_df.columns = [col_name.strip() for col_name in raw_df.columns]"
   ]
  },
  {
   "cell_type": "code",
   "execution_count": null,
   "id": "80c366ea",
   "metadata": {
    "id": "80c366ea"
   },
   "outputs": [],
   "source": [
    "raw_df.info()"
   ]
  },
  {
   "cell_type": "markdown",
   "id": "d2faeb69",
   "metadata": {
    "id": "d2faeb69"
   },
   "source": [
    "### Perbaiki Tipe Column \n",
    "- Discount ubah jadi numerical\n",
    "- ID Salesman ubah jadi categorical"
   ]
  },
  {
   "cell_type": "code",
   "execution_count": null,
   "id": "ab084445",
   "metadata": {
    "id": "ab084445"
   },
   "outputs": [],
   "source": [
    "replaceDash = raw_df.Discount.str.replace('-','0')\n",
    "raw_df.Discount = replaceDash.astype('int64')\n",
    "raw_df['ID Salesman'] = raw_df['ID Salesman'].astype('object')\n",
    "raw_df['Jenis Kirim'] = raw_df['Jenis Kirim'].astype('object') \n",
    "raw_df.head()"
   ]
  },
  {
   "cell_type": "code",
   "execution_count": null,
   "id": "701df033",
   "metadata": {
    "id": "701df033"
   },
   "outputs": [],
   "source": [
    "raw_df.info()"
   ]
  },
  {
   "cell_type": "markdown",
   "id": "6a5f719b",
   "metadata": {
    "id": "6a5f719b"
   },
   "source": [
    "## Deskriptif Stats\n",
    "### Numerical Variables"
   ]
  },
  {
   "cell_type": "code",
   "execution_count": null,
   "id": "df2a5623",
   "metadata": {
    "id": "df2a5623"
   },
   "outputs": [],
   "source": [
    "raw_df.describe()"
   ]
  },
  {
   "cell_type": "code",
   "execution_count": null,
   "id": "fab4e8a4",
   "metadata": {
    "id": "fab4e8a4"
   },
   "outputs": [],
   "source": [
    "desc_numerical = raw_df.describe().transpose()\n",
    "desc_numerical"
   ]
  },
  {
   "cell_type": "markdown",
   "id": "c0b13c47",
   "metadata": {
    "id": "c0b13c47"
   },
   "source": [
    "#### Ada yang kurang"
   ]
  },
  {
   "cell_type": "code",
   "execution_count": null,
   "id": "e316d065",
   "metadata": {
    "id": "e316d065"
   },
   "outputs": [],
   "source": [
    "desc_numerical['range'] = desc_numerical['max'] - desc_numerical['min']\n",
    "desc_numerical['iqr'] = desc_numerical['75%'] - desc_numerical['25%']\n",
    "\n",
    "desc_numerical['skewness'] = [raw_df[col].skew() for col in desc_numerical.index]\n",
    "desc_numerical['kurtosis'] = [raw_df[col].kurtosis() for col in desc_numerical.index]\n",
    "\n",
    "# print\n",
    "desc_numerical"
   ]
  },
  {
   "cell_type": "markdown",
   "id": "3256d982",
   "metadata": {
    "id": "3256d982"
   },
   "source": [
    "### Categorical Variables"
   ]
  },
  {
   "cell_type": "code",
   "execution_count": null,
   "id": "a92eba4c",
   "metadata": {
    "id": "a92eba4c"
   },
   "outputs": [],
   "source": [
    "desc_categorical = raw_df.describe(include=\"O\").transpose()\n",
    "desc_categorical"
   ]
  },
  {
   "cell_type": "markdown",
   "id": "7064a7f8",
   "metadata": {
    "id": "7064a7f8"
   },
   "source": [
    "#### Apakah ada yang kurang?"
   ]
  },
  {
   "cell_type": "markdown",
   "id": "9e0d3c21",
   "metadata": {
    "id": "9e0d3c21"
   },
   "source": [
    "## Visualizing Data\n",
    "### Numerical"
   ]
  },
  {
   "cell_type": "code",
   "execution_count": null,
   "id": "4d47a16f",
   "metadata": {
    "id": "4d47a16f",
    "scrolled": false
   },
   "outputs": [],
   "source": [
    "raw_df[desc_numerical.index].hist()\n",
    "\n",
    "plt.show()"
   ]
  },
  {
   "cell_type": "code",
   "execution_count": null,
   "id": "a38e6a72",
   "metadata": {
    "id": "a38e6a72",
    "scrolled": false
   },
   "outputs": [],
   "source": [
    "sns.ecdfplot(raw_df[[\"Ongkir/Unit\", 'Discount', 'Quantity']])\n",
    "plt.show()"
   ]
  },
  {
   "cell_type": "markdown",
   "id": "d3c778ae",
   "metadata": {
    "id": "d3c778ae"
   },
   "source": [
    "#### terlalu skewed dan tinggi kurtosisnya untuk dianalisis, perlu transformasi nilai"
   ]
  },
  {
   "cell_type": "code",
   "execution_count": null,
   "id": "e44d78f7",
   "metadata": {
    "id": "e44d78f7"
   },
   "outputs": [],
   "source": [
    "numerical_transform = raw_df[['Gross sales','Net sales','Total Sales']].apply(np.log1p)"
   ]
  },
  {
   "cell_type": "code",
   "execution_count": null,
   "id": "c9d3200b",
   "metadata": {
    "id": "c9d3200b"
   },
   "outputs": [],
   "source": [
    "numerical_transform.plot(kind='kde')\n",
    "plt.show()"
   ]
  },
  {
   "cell_type": "code",
   "execution_count": null,
   "id": "7a2acec7",
   "metadata": {
    "id": "7a2acec7"
   },
   "outputs": [],
   "source": [
    "numerical_transform.plot(kind='box')\n",
    "plt.show()"
   ]
  },
  {
   "cell_type": "code",
   "execution_count": null,
   "id": "e581af6f",
   "metadata": {
    "id": "e581af6f"
   },
   "outputs": [],
   "source": [
    "sns.ecdfplot(numerical_transform)\n",
    "plt.show()"
   ]
  },
  {
   "cell_type": "code",
   "execution_count": null,
   "id": "9d6672ba",
   "metadata": {
    "id": "9d6672ba"
   },
   "outputs": [],
   "source": [
    "sns.scatterplot(x=raw_df['Total Sales'], y=raw_df['Gross sales'])"
   ]
  },
  {
   "cell_type": "code",
   "execution_count": null,
   "id": "a07cf59a",
   "metadata": {
    "id": "a07cf59a"
   },
   "outputs": [],
   "source": [
    "sns.scatterplot(x=numerical_transform['Total Sales'], y=numerical_transform['Gross sales'])\n",
    "plt.show()"
   ]
  },
  {
   "cell_type": "code",
   "execution_count": null,
   "id": "1cf1d4d0",
   "metadata": {
    "id": "1cf1d4d0"
   },
   "outputs": [],
   "source": [
    "sns.scatterplot(x=numerical_transform['Total Sales'], y=numerical_transform['Gross sales'],\n",
    "                hue=raw_df['Quantity'], palette='plasma')\n",
    "plt.show()"
   ]
  },
  {
   "cell_type": "markdown",
   "id": "cc554bda",
   "metadata": {
    "id": "cc554bda"
   },
   "source": [
    "### Outliers"
   ]
  },
  {
   "cell_type": "code",
   "execution_count": null,
   "id": "49ca34a0",
   "metadata": {
    "id": "49ca34a0"
   },
   "outputs": [],
   "source": [
    "cols = numerical_transform.columns\n",
    "for col in cols:\n",
    "    col_zscore = col + '_zscore'\n",
    "    numerical_transform[col_zscore] = (numerical_transform[col] - numerical_transform[col].mean())/numerical_transform[col].std(ddof=0)\n",
    "sns.stripplot(data = numerical_transform, x='Gross sales_zscore', dodge=True)"
   ]
  },
  {
   "cell_type": "code",
   "execution_count": null,
   "id": "b2068014",
   "metadata": {
    "id": "b2068014"
   },
   "outputs": [],
   "source": [
    "sns.boxplot(data=numerical_transform, x='Gross sales')"
   ]
  },
  {
   "cell_type": "markdown",
   "id": "922be950",
   "metadata": {
    "id": "922be950"
   },
   "source": [
    "## Categorical\n",
    "### Summary Table"
   ]
  },
  {
   "cell_type": "code",
   "execution_count": null,
   "id": "6ef8c2c6",
   "metadata": {
    "id": "6ef8c2c6"
   },
   "outputs": [],
   "source": [
    "counts = raw_df['ID Salesman'].value_counts()\n",
    "counts"
   ]
  },
  {
   "cell_type": "code",
   "execution_count": null,
   "id": "06662ab9",
   "metadata": {
    "id": "06662ab9"
   },
   "outputs": [],
   "source": [
    "raw_df['ID Salesman'].value_counts(normalize=True)"
   ]
  },
  {
   "cell_type": "code",
   "execution_count": null,
   "id": "3a8ee1b1",
   "metadata": {
    "id": "3a8ee1b1"
   },
   "outputs": [],
   "source": [
    "summarize = raw_df.groupby('ID Salesman')['Total Sales'].sum()\n",
    "summarize.sort_values(ascending=False)"
   ]
  },
  {
   "cell_type": "code",
   "execution_count": null,
   "id": "96d928e1",
   "metadata": {
    "id": "96d928e1"
   },
   "outputs": [],
   "source": [
    "# rata - rata per Salesman\n",
    "mean_sales = (summarize / counts).sort_values(ascending=False)\n",
    "mean_sales"
   ]
  },
  {
   "cell_type": "code",
   "execution_count": null,
   "id": "40fe9b18",
   "metadata": {
    "id": "40fe9b18"
   },
   "outputs": [],
   "source": [
    "counts.plot.bar()"
   ]
  },
  {
   "cell_type": "code",
   "execution_count": null,
   "id": "b392b3da",
   "metadata": {
    "id": "b392b3da"
   },
   "outputs": [],
   "source": [
    "summarize.plot.bar()"
   ]
  },
  {
   "cell_type": "code",
   "execution_count": null,
   "id": "fb1fb0af",
   "metadata": {
    "id": "fb1fb0af"
   },
   "outputs": [],
   "source": [
    "mean_sales.plot.bar()"
   ]
  },
  {
   "cell_type": "markdown",
   "id": "374a87fc",
   "metadata": {
    "id": "374a87fc"
   },
   "source": [
    "### Cross Tab"
   ]
  },
  {
   "cell_type": "code",
   "execution_count": null,
   "id": "5c8621f8",
   "metadata": {
    "id": "5c8621f8"
   },
   "outputs": [],
   "source": [
    "cont_tab1 = pd.crosstab(raw_df['ID Salesman'], raw_df['Nama Pelanggan'])\n",
    "cont_tab1"
   ]
  },
  {
   "cell_type": "code",
   "execution_count": null,
   "id": "c12f5ce8",
   "metadata": {
    "id": "c12f5ce8"
   },
   "outputs": [],
   "source": [
    "cont_tab2 = pd.crosstab(raw_df['ID Salesman'], raw_df['Jenis Kirim'],normalize='columns')\n",
    "cont_tab2"
   ]
  },
  {
   "cell_type": "code",
   "execution_count": null,
   "id": "95a8e06a",
   "metadata": {
    "id": "95a8e06a"
   },
   "outputs": [],
   "source": [
    "labels = lambda x: x[1][:5] if cont_tab1.stack()[int(x[0])][x[1]] > 10 else \"\" \n",
    "\n",
    "mosaic(cont_tab1.stack(), labelizer=labels)\n",
    "plt.show()"
   ]
  },
  {
   "cell_type": "code",
   "execution_count": null,
   "id": "d643ac1f",
   "metadata": {
    "id": "d643ac1f"
   },
   "outputs": [],
   "source": [
    "cont_tab2.plot.bar()"
   ]
  },
  {
   "cell_type": "markdown",
   "id": "15670e75",
   "metadata": {
    "id": "15670e75"
   },
   "source": [
    "### Categorical vs Numerical"
   ]
  },
  {
   "cell_type": "code",
   "execution_count": null,
   "id": "30c1ba04",
   "metadata": {
    "id": "30c1ba04"
   },
   "outputs": [],
   "source": [
    "num_var = 'Gross sales'\n",
    "cat_var = 'ID Salesman'\n",
    "concat_df = pd.DataFrame([numerical_transform[num_var], raw_df[cat_var]]).T\n",
    "\n",
    "#Filtering category yang akan di visualisasi\n",
    "# mask = concat_df[cat_var].isin([669618,848311])\n",
    "# concat_df = concat_df[mask]\n",
    "concat_df.head()"
   ]
  },
  {
   "cell_type": "code",
   "execution_count": null,
   "id": "bf98963b",
   "metadata": {
    "id": "bf98963b"
   },
   "outputs": [],
   "source": [
    "# separate histogram\n",
    "sns.histplot(hue=cat_var, x=num_var, data=concat_df)\n",
    "plt.show()"
   ]
  },
  {
   "cell_type": "code",
   "execution_count": null,
   "id": "f983f414",
   "metadata": {
    "id": "f983f414"
   },
   "outputs": [],
   "source": [
    "# separate boxplot\n",
    "sns.catplot(x=cat_var, y=num_var, data=concat_df,kind = 'box')\n",
    "plt.show()"
   ]
  },
  {
   "cell_type": "code",
   "execution_count": null,
   "id": "64c9b05d",
   "metadata": {
    "id": "64c9b05d"
   },
   "outputs": [],
   "source": [
    "sns.ecdfplot(data=concat_df, x=num_var, hue=cat_var, palette='plasma')\n",
    "plt.show()"
   ]
  }
 ],
 "metadata": {
  "colab": {
   "provenance": []
  },
  "kernelspec": {
   "display_name": "Python 3 (ipykernel)",
   "language": "python",
   "name": "python3"
  },
  "language_info": {
   "codemirror_mode": {
    "name": "ipython",
    "version": 3
   },
   "file_extension": ".py",
   "mimetype": "text/x-python",
   "name": "python",
   "nbconvert_exporter": "python",
   "pygments_lexer": "ipython3",
   "version": "3.9.7"
  }
 },
 "nbformat": 4,
 "nbformat_minor": 5
}
