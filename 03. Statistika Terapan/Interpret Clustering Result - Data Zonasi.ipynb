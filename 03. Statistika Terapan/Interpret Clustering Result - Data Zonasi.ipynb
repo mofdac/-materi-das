{
 "cells": [
  {
   "cell_type": "code",
   "execution_count": null,
   "id": "db6e7423",
   "metadata": {},
   "outputs": [],
   "source": [
    "import pandas as pd\n",
    "pd.set_option('display.max_rows', 100)\n",
    "pd.set_option('display.max_columns', 100)"
   ]
  },
  {
   "cell_type": "code",
   "execution_count": null,
   "id": "2c294ed3",
   "metadata": {},
   "outputs": [],
   "source": [
    "df = pd.read_excel('Data Zonasi.xlsx')\n",
    "print(df.shape)\n",
    "df.head()"
   ]
  },
  {
   "cell_type": "code",
   "execution_count": null,
   "id": "7f7c8a72",
   "metadata": {},
   "outputs": [],
   "source": [
    "num_cols = df.select_dtypes(include='number').columns\n",
    "grouped_data = df.groupby('soseko_cluster')[num_cols].mean()\n",
    "grouped_data['jumlah_record'] = df.groupby('soseko_cluster')['IDKec'].count()\n",
    "grouped_data"
   ]
  },
  {
   "cell_type": "code",
   "execution_count": null,
   "id": "91b53a3c",
   "metadata": {},
   "outputs": [],
   "source": [
    "from scipy.stats import chi2_contingency\n",
    "from scipy.stats import chi2\n",
    "import numpy as np\n",
    "def chi2_test(v1, v2, conv_interval = 0.99):\n",
    "    alpha = 1 - conv_interval\n",
    "    cont_table = pd.crosstab(v1, v2, margins = False)\n",
    "    \n",
    "    # chi test\n",
    "    chi_square, p_value, dof, expected = chi2_contingency(cont_table)\n",
    "        \n",
    "    # The p-value approach\n",
    "    print(\"Chi Squared Significancy Test\")\n",
    "    conclusion = \"Failed to reject the null hypothesis (no correlation between variables)\"\n",
    "    if p_value <= alpha:\n",
    "        conclusion = \"Null Hypothesis (no correlation between variables) is rejected.\"\n",
    "\n",
    "    print(\"chisquare-score is:\", chi_square, \" and p value is:\", p_value)\n",
    "    print(conclusion)\n",
    "    \n",
    "    # cramer V test\n",
    "    print(\"\\nCramer V Association Test\")\n",
    "    N = np.sum(cont_table.values)\n",
    "    minimum_dimension = min(cont_table.shape)-1\n",
    "    # Calculate Cramer's V\n",
    "    cramer_value = np.sqrt((chi_square/N) / minimum_dimension)\n",
    "    \n",
    "    if cramer_value < 0.25:\n",
    "        conclusion = 'Weak'\n",
    "    elif cramer_value < 0.75:\n",
    "        conclusion = 'Moderate'\n",
    "    else:\n",
    "        conclusion = 'Strong'\n",
    "    \n",
    "    if cramer_value == 0:\n",
    "        conclusion = 'No'\n",
    "    elif cramer_value == 1:\n",
    "        conclusion = 'Perfect'\n",
    "        \n",
    "    \n",
    "#     print(dof)\n",
    "    # Print the result\n",
    "    print(\"V =\", cramer_value,\"\\nConclusion:\",conclusion,'Association')\n",
    "    "
   ]
  },
  {
   "cell_type": "code",
   "execution_count": null,
   "id": "c0c097ce",
   "metadata": {},
   "outputs": [],
   "source": [
    "chi2_test(df.telco_cluster, df['Zonasi SIGCOV'])"
   ]
  },
  {
   "cell_type": "code",
   "execution_count": null,
   "id": "65c113e2",
   "metadata": {},
   "outputs": [],
   "source": [
    "chi2_test(df.telco_cluster, df['Zonasi Traffic'])"
   ]
  },
  {
   "cell_type": "code",
   "execution_count": null,
   "id": "5501e4e0",
   "metadata": {},
   "outputs": [],
   "source": [
    "chi2_test(df.telco_cluster, df['Zonasi ODP'])"
   ]
  },
  {
   "cell_type": "code",
   "execution_count": null,
   "id": "363266b7",
   "metadata": {},
   "outputs": [],
   "source": [
    "chi2_test(df.telco_cluster, df['Zonasi Site'])"
   ]
  },
  {
   "cell_type": "code",
   "execution_count": null,
   "id": "c86894c4",
   "metadata": {},
   "outputs": [],
   "source": [
    "pd.crosstab(df.telco_cluster, df['Zonasi Traffic'], normalize= 'columns')"
   ]
  },
  {
   "cell_type": "code",
   "execution_count": null,
   "id": "73140f4a",
   "metadata": {},
   "outputs": [],
   "source": [
    "import matplotlib.pyplot as plt\n",
    "\n",
    "df.plot(kind='scatter', x = 'Zonasi Traffic', y='Zonasi SIGCOV', c='telco_cluster', colormap='viridis')\n",
    "plt.show()"
   ]
  },
  {
   "cell_type": "code",
   "execution_count": null,
   "id": "68abd3f6",
   "metadata": {},
   "outputs": [],
   "source": []
  }
 ],
 "metadata": {
  "kernelspec": {
   "display_name": "Python 3 (ipykernel)",
   "language": "python",
   "name": "python3"
  },
  "language_info": {
   "codemirror_mode": {
    "name": "ipython",
    "version": 3
   },
   "file_extension": ".py",
   "mimetype": "text/x-python",
   "name": "python",
   "nbconvert_exporter": "python",
   "pygments_lexer": "ipython3",
   "version": "3.9.7"
  }
 },
 "nbformat": 4,
 "nbformat_minor": 5
}
