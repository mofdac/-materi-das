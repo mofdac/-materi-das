{
  "cells": [
    {
      "cell_type": "markdown",
      "metadata": {
        "id": "gk4hlmX2X4qE"
      },
      "source": [
        "#Tutorial Sentiment Analysis\n",
        "Pengajar :\n",
        "1. Aris Budi Santoso\n",
        "2. Prabu Kresna Putra\n",
        "\n",
        "Tutorial ini merupakan panduan dalam melakukan sentiment analysis.\n",
        "\n",
        "Data yang digunakan dalam sesi praktikum ini merupakan data yang telah berlabel dalam format csv yang telah digunakan dalam penelitian yang dilakukan oleh Simanungkalit, Tiarma dalam Tugas Mata Kuliah Analitika Media Sosial dan Digital dengan Tema Sentimen Analisis atas Kebijakan PPKM pada Program MTI Universitas Indonesia."
      ]
    },
    {
      "cell_type": "markdown",
      "metadata": {
        "id": "crRW-m1YfX-z"
      },
      "source": [
        "## 1. Persiapan\n",
        "\n",
        "Install dan import library yang dibutuhkan"
      ]
    },
    {
      "cell_type": "markdown",
      "metadata": {
        "id": "4GLz-oKuiJog"
      },
      "source": [
        "### Install Library"
      ]
    },
    {
      "cell_type": "code",
      "execution_count": 42,
      "metadata": {
        "colab": {
          "base_uri": "https://localhost:8080/"
        },
        "id": "oPNEoVNYgJ7v",
        "outputId": "8b2f62d3-7511-4ec6-d329-b6cf27d5f9b5"
      },
      "outputs": [
        {
          "output_type": "stream",
          "name": "stdout",
          "text": [
            "Looking in indexes: https://pypi.org/simple, https://us-python.pkg.dev/colab-wheels/public/simple/\n",
            "Requirement already satisfied: nlp-id in /usr/local/lib/python3.7/dist-packages (0.1.12.0)\n",
            "Requirement already satisfied: nltk==3.4.5 in /usr/local/lib/python3.7/dist-packages (from nlp-id) (3.4.5)\n",
            "Requirement already satisfied: wget==3.2 in /usr/local/lib/python3.7/dist-packages (from nlp-id) (3.2)\n",
            "Requirement already satisfied: scikit-learn==0.22 in /usr/local/lib/python3.7/dist-packages (from nlp-id) (0.22)\n",
            "Requirement already satisfied: six in /usr/local/lib/python3.7/dist-packages (from nltk==3.4.5->nlp-id) (1.15.0)\n",
            "Requirement already satisfied: numpy>=1.11.0 in /usr/local/lib/python3.7/dist-packages (from scikit-learn==0.22->nlp-id) (1.21.6)\n",
            "Requirement already satisfied: joblib>=0.11 in /usr/local/lib/python3.7/dist-packages (from scikit-learn==0.22->nlp-id) (1.1.0)\n",
            "Requirement already satisfied: scipy>=0.17.0 in /usr/local/lib/python3.7/dist-packages (from scikit-learn==0.22->nlp-id) (1.4.1)\n",
            "Looking in indexes: https://pypi.org/simple, https://us-python.pkg.dev/colab-wheels/public/simple/\n",
            "Requirement already satisfied: emoji in /usr/local/lib/python3.7/dist-packages (1.7.0)\n"
          ]
        }
      ],
      "source": [
        "!pip install nlp-id\n",
        "!pip install emoji"
      ]
    },
    {
      "cell_type": "markdown",
      "metadata": {
        "id": "cwjCU_9SicjQ"
      },
      "source": [
        "### Import Library"
      ]
    },
    {
      "cell_type": "code",
      "execution_count": 43,
      "metadata": {
        "id": "qMk9tfRNUSB3"
      },
      "outputs": [],
      "source": [
        "# # Library untuk akses Google Drive dari Colabs\n",
        "# from google.colab import drive\n",
        "# drive.mount(\"/content/gdrive\")"
      ]
    },
    {
      "cell_type": "code",
      "execution_count": 44,
      "metadata": {
        "colab": {
          "base_uri": "https://localhost:8080/"
        },
        "id": "8X5IyE8vlOpb",
        "outputId": "d41230e8-d96a-4e3f-d6aa-981b05bb2b94"
      },
      "outputs": [
        {
          "output_type": "stream",
          "name": "stderr",
          "text": [
            "[nltk_data] Downloading package punkt to /root/nltk_data...\n",
            "[nltk_data]   Package punkt is already up-to-date!\n"
          ]
        }
      ],
      "source": [
        "# Library NLP\n",
        "import nltk\n",
        "from nltk.tokenize import word_tokenize\n",
        "from nltk.corpus import stopwords\n",
        "nltk.download('punkt')\n",
        "#nltk.download('stopwords')\n",
        "from nlp_id.stopword import StopWord\n",
        "from nlp_id.postag import PosTag\n",
        "from nlp_id.lemmatizer import Lemmatizer \n",
        "\n",
        "# Library Preprocessing\n",
        "import pandas as pd\n",
        "import re\n",
        "import csv\n",
        "import random\n",
        "import string\n",
        "import emoji\n",
        "import operator\n",
        "from sklearn.feature_extraction.text import CountVectorizer, TfidfTransformer\n",
        "\n",
        "# Library untuk Melatih dan Evaluasi Model\n",
        "from sklearn.model_selection import train_test_split\n",
        "from nltk.classify.scikitlearn import SklearnClassifier\n",
        "from sklearn.naive_bayes import MultinomialNB, BernoulliNB\n",
        "from sklearn.linear_model import LogisticRegression, SGDClassifier\n",
        "from sklearn.svm import SVC, LinearSVC, NuSVC\n",
        "from sklearn.tree import DecisionTreeClassifier\n",
        "from sklearn.ensemble import RandomForestClassifier\n",
        "from sklearn.ensemble import AdaBoostClassifier\n",
        "from sklearn.ensemble import GradientBoostingClassifier\n",
        "from nltk.classify import ClassifierI\n",
        "from statistics import mode\n",
        "import pickle"
      ]
    },
    {
      "cell_type": "code",
      "execution_count": 45,
      "metadata": {
        "id": "zHVMh8lYuVdb"
      },
      "outputs": [],
      "source": [
        "#Visualization\n",
        "import matplotlib.pyplot as plt\n",
        "import seaborn as sns"
      ]
    },
    {
      "cell_type": "markdown",
      "metadata": {
        "id": "pbq_Wpjbm29V"
      },
      "source": [
        "## Data Preprocessing"
      ]
    },
    {
      "cell_type": "markdown",
      "metadata": {
        "id": "2_jc9M5nm_aZ"
      },
      "source": [
        "### Load Data"
      ]
    },
    {
      "cell_type": "code",
      "execution_count": 46,
      "metadata": {
        "id": "Gdu5pMnUAYZE"
      },
      "outputs": [],
      "source": [
        "import codecs\n",
        "from contextlib import closing\n",
        "import csv\n",
        "import requests"
      ]
    },
    {
      "cell_type": "code",
      "execution_count": 47,
      "metadata": {
        "id": "gTWbIuVbqAX_",
        "outputId": "51b8fa93-d40e-460b-c22e-5186e3a2c9c4",
        "colab": {
          "base_uri": "https://localhost:8080/"
        }
      },
      "outputs": [
        {
          "output_type": "stream",
          "name": "stdout",
          "text": [
            "[['1.47E+18', 'positive', 'Tue Nov 30 00:00:14 +0000 2021', '31', 'RT @HanifahAndini96: Jakarta blm bebas pandemi meski masuk kategori PPKM Level 1. Kondisi Natal n tahun baru 2022 serta penurunan level DKI…'], ['1.47E+18', 'positive', 'Tue Nov 30 00:01:39 +0000 2021', '0', 'Status PPKM DKI Jakarta Naik ke Level 2 https://t.co/VHC8wZewEr'], ['1.47E+18', 'negative', 'Tue Nov 30 00:01:40 +0000 2021', '0', 'Org² kaya lu nih yg bikin ppkm suka diperpanjang. Parno kebodohan pala Lo, liat berapa banyak org yg udah meninggal gara² nih virus. Kmrin² bukan perkara sepele njir. Vaksin gak ngejamin lo ga kena, bangga bgt Lo ngomong gini?? https://t.co/3ebS0mDThN https://t.co/YjWYcQhUXY'], ['1.47E+18', 'negative', 'Tue Nov 30 00:01:41 +0000 2021', '1549', 'RT @msaid_didu: Sangat lucu alasan mewajibkan PCR utk hambat mobilisasi. Wajibkan PCR jelas utk : 1) memaksa rakyat membeli produk pengusah…'], ['1.47E+18', 'positive', 'Tue Nov 30 00:02:34 +0000 2021', '7', 'RT @Bisniscom: Kasus Covid-19 Rendah, Ini Alasan Pemerintah Perpanjang PPKM Jawa-Bali sampai 13 Desember https://t.co/8gj27Z9KQe'], ['1.47E+18', 'positive', 'Tue Nov 30 00:03:25 +0000 2021', '15', 'RT @CNNIndonesia: Status PPKM DKI Jakarta Naik ke Level 2 https://t.co/WjEY1pp6rm'], ['1.47E+18', 'negative', 'Tue Nov 30 00:04:37 +0000 2021', '0', 'Kita??? Sorry gue mah pake ya. Pake masker udah jadi kebiasaan. Ya pantes aja kalau ppkm di indo ga habis² wong masyarakatnya aja gini. Gamau pake masker tapi gamau ppkm. Puncak komedi https://t.co/vxpdgSoJHb https://t.co/dRAzUNeF9m'], ['1.47E+18', 'negative', 'Tue Nov 30 00:05:28 +0000 2021', '0', '@cintarenjun Aduhh tapi bau bau ppkm'], ['1.47E+18', 'positive', 'Tue Nov 30 00:05:35 +0000 2021', '18', 'RT @kalla_jengking: Wagub DKI Jakarta Ahmad Riza Patria meminta PA 212 mempertimbangkan lagi rencana reuni 212 tersebut meski Jakarta sudah…'], ['1.47E+18', 'positive', 'Tue Nov 30 00:05:58 +0000 2021', '7', 'RT @Bisniscom: Kasus Covid-19 Rendah, Ini Alasan Pemerintah Perpanjang PPKM Jawa-Bali sampai 13 Desember https://t.co/8gj27Z9KQe'], ['1.47E+18', 'positive', 'Tue Nov 30 00:07:18 +0000 2021', '31', 'RT @HanifahAndini96: Jakarta blm bebas pandemi meski masuk kategori PPKM Level 1. Kondisi Natal n tahun baru 2022 serta penurunan level DKI…'], ['1.47E+18', 'positive', 'Tue Nov 30 00:07:39 +0000 2021', '31', 'RT @HanifahAndini96: Jakarta blm bebas pandemi meski masuk kategori PPKM Level 1. Kondisi Natal n tahun baru 2022 serta penurunan level DKI…'], ['1.47E+18', 'positive', 'Tue Nov 30 00:11:18 +0000 2021', '3', 'RT @KompasTV: PPKM Jawa-Bali Diperpanjang hingga 14 Desember, 23 Daerah Kembali Level 2 https://t.co/qBcT9Y9Mpk https://t.co/RwSmCcMQLK'], ['1.47E+18', 'negative', 'Tue Nov 30 00:11:21 +0000 2021', '0', '@darkneces @nandidntsleep @AREAJULID Kita? Daerah lo aja kali. Daerah gw mah tertib wkwk. Lagian ppkm juga tujuannya biar covid ga makin nyebar'], ['1.47E+18', 'positive', 'Tue Nov 30 00:11:30 +0000 2021', '7', 'RT @Bisniscom: Kasus Covid-19 Rendah, Ini Alasan Pemerintah Perpanjang PPKM Jawa-Bali sampai 13 Desember https://t.co/8gj27Z9KQe'], ['1.47E+18', 'positive', 'Tue Nov 30 00:15:37 +0000 2021', '38', 'RT @3CareIndonesia: Seneng banget deh tau kalo PPKM semakin turun levelnya, jadi merasa lebih tenang dan aman kalo beraktivitas di luar bua…'], ['1.47E+18', 'positive', 'Tue Nov 30 00:24:10 +0000 2021', '0', 'Awal tahun:  🙋🏻\\u200d♀️: konsep nikah kamu kek gmn win? 💁🏻\\u200d♀️: aku pengen yg sederhana aja, gausah gede-gedean, yg diundang orang-orang terdekat.  Akhir tahun:  Beneran emang dianjurinnya utk yg sederhana aja krn si ppkm comeback ditanggal yg ditentukan. Beneran didukung sama semesta nih😂 https://t.co/Oy7vXRmLiF'], ['1.47E+18', 'negative', 'Tue Nov 30 00:26:13 +0000 2021', '0', 'Hubungannya adalah ketika pemerintah terlalu keras mengumumkan bahwa kita dalam keadaan genting dan akan segera memberlakukan kebijakan PPKM super ketat. Para pengusaha dan pelaku bisnis akan semakin tercekik. Dampaknya? Kegiatan ekonomi bakal menemukan \"shock\" nya.'], ['1.47E+18', 'positive', 'Tue Nov 30 00:26:17 +0000 2021', '1', '@Dindin30_ @JJ_Zenal Kalo pemerintah bilang ada varian baru covid, ya ada varian baru. Pemerintah bilang ppkm, ya ppkm. Pemerintah bilang A sampe Z Rakyat harus terima..  Sungguh membagongkan....'], ['1.47E+18', 'positive', 'Tue Nov 30 00:44:28 +0000 2021', '38', 'RT @3CareIndonesia: Seneng banget deh tau kalo PPKM semakin turun levelnya, jadi merasa lebih tenang dan aman kalo beraktivitas di luar bua…'], ['1.47E+18', 'positive', 'Tue Nov 30 01:10:03 +0000 2021', '38', 'RT @3CareIndonesia: Seneng banget deh tau kalo PPKM semakin turun levelnya, jadi merasa lebih tenang dan aman kalo beraktivitas di luar bua…'], ['1.47E+18', 'positive', 'Tue Nov 30 01:46:47 +0000 2021', '38', 'RT @3CareIndonesia: Seneng banget deh tau kalo PPKM semakin turun levelnya, jadi merasa lebih tenang dan aman kalo beraktivitas di luar bua…'], ['1.47E+18', 'positive', 'Tue Nov 30 01:56:31 +0000 2021', '0', 'Muktamar Ke-34 NU diundur agar pelaksanaannya nanti bisa lebih optimal dan mendukung pemerintah dalam penerapan PPKM level 3 demi keselamatan bersama #kiaisaid #buyasaid #saidaqil #ketumPBNU #MuktamarNU34  #MuktamarNU2021 #PBNU #Nahdlatululama https://t.co/pkty1I9un2'], ['1.47E+18', 'positive', 'Tue Nov 30 02:01:09 +0000 2021', '0', 'Kampanye keselamatan prokes dengan pembagian masker kepada pengguna jalan di Jalan Otista dalam rangka PPKM lvl 2 di Kab.Subang https://t.co/IfXjV85FYs'], ['1.47E+18', 'positive', 'Tue Nov 30 02:13:25 +0000 2021', '0', 'Kampanye keselamatan prokes dengan pembagian masker kepada pengguna jalan di Jalan Otista dalam rangka PPKM lvl 2 di Kab.Subang https://t.co/LvpMfenVLL'], ['1.47E+18', 'positive', 'Tue Nov 30 02:14:29 +0000 2021', '3', 'Kampanye keselamatan prokes dengan pembagian masker kepada pengguna jalan di Jalan Otista dalam rangka PPKM lvl 2 di Kab.Subang https://t.co/O51LK4RJci'], ['1.47E+18', 'positive', 'Tue Nov 30 02:14:58 +0000 2021', '2', 'Kampanye keselamatan prokes dengan pembagian masker kepada pengguna jalan di Jalan Otista dalam rangka PPKM lvl 2 di Kab.Subang https://t.co/F77renZXqm'], ['1.47E+18', 'positive', 'Tue Nov 30 02:15:33 +0000 2021', '3', 'RT @dikyasapolress2: Kampanye keselamatan prokes dengan pembagian masker kepada pengguna jalan di Jalan Otista dalam rangka PPKM lvl 2 di K…'], ['1.47E+18', 'positive', 'Tue Nov 30 02:15:51 +0000 2021', '0', 'Kampanye keselamatan prokes dengan pembagian masker kepada pengguna jalan di Jalan Otista dalam rangka PPKM lvl 2 di Kab.Subang https://t.co/OrmbY7PvKP'], ['1.47E+18', 'positive', 'Tue Nov 30 02:16:01 +0000 2021', '2', 'RT @dikyasapolress2: Kampanye keselamatan prokes dengan pembagian masker kepada pengguna jalan di Jalan Otista dalam rangka PPKM lvl 2 di K…'], ['1.47E+18', 'positive', 'Tue Nov 30 02:17:07 +0000 2021', '3', 'RT @dikyasapolress2: Kampanye keselamatan prokes dengan pembagian masker kepada pengguna jalan di Jalan Otista dalam rangka PPKM lvl 2 di K…'], ['1.47E+18', 'positive', 'Tue Nov 30 02:17:34 +0000 2021', '0', 'Giat kampanye keselamatan tertib berlalu lintas dengan pembagian paket mainan kepada anak yang di bonceng sepeda motor dengan menggunakan helm di Jalan Otista dalam rangka PPKM lvl 2 di Kab.Subang https://t.co/LJjS7WspfD'], ['1.47E+18', 'positive', 'Tue Nov 30 02:18:15 +0000 2021', '0', 'Giat kampanye keselamatan tertib berlalu lintas dengan pembagian paket mainan kepada anak yang di bonceng sepeda motor dengan menggunakan helm di Jalan Otista dalam rangka PPKM lvl 2 di Kab.Subang https://t.co/E4jsh2vt2K'], ['1.47E+18', 'positive', 'Tue Nov 30 02:19:01 +0000 2021', '0', 'Giat kampanye keselamatan prokes dengan pembagian masker kepada pengguna jalan di Jalan Otista dalam rangka PPKM lvl 2 di Kab.Subang https://t.co/T0gFKpuVCt'], ['1.47E+18', 'positive', 'Tue Nov 30 02:19:23 +0000 2021', '0', 'Giat kampanye keselamatan prokes dengan pembagian masker kepada pengguna jalan di Jalan Otista dalam rangka PPKM lvl 2 di Kab.Subang https://t.co/9JrX226FgE'], ['1.47E+18', 'positive', 'Tue Nov 30 02:19:47 +0000 2021', '1', 'Giat kampanye keselamatan prokes dengan pembagian masker kepada pengguna jalan di Jalan Otista dalam rangka PPKM lvl 2 di Kab.Subang https://t.co/idAQqBnd5u'], ['1.47E+18', 'positive', 'Tue Nov 30 02:20:41 +0000 2021', '0', 'Giat kampanye keselamatan prokes dengan pembagian masker kepada masyarakat di alun-alun kota Subang dalam rangka PPKM lvl 2 di Kab.Subang https://t.co/x6M5S12Lka'], ['1.47E+18', 'positive', 'Tue Nov 30 02:20:49 +0000 2021', '1', 'RT @dikyasapolress2: Giat kampanye keselamatan prokes dengan pembagian masker kepada pengguna jalan di Jalan Otista dalam rangka PPKM lvl 2…'], ['1.47E+18', 'positive', 'Tue Nov 30 02:21:06 +0000 2021', '0', 'Giat kampanye keselamatan prokes dengan pembagian masker kepada masyarakat di alun-alun kota Subang dalam rangka PPKM lvl 2 di Kab.Subang https://t.co/3WJdPsrf0Q'], ['1.47E+18', 'positive', 'Tue Nov 30 02:21:28 +0000 2021', '0', 'Giat kampanye keselamatan prokes dengan pembagian masker kepada masyarakat di alun-alun kota Subang dalam rangka PPKM lvl 2 di Kab.Subang https://t.co/qEbkdD5Ud4'], ['1.47E+18', 'positive', 'Tue Nov 30 03:08:46 +0000 2021', '0', 'Reposted from @kamsel_polressubang Giat kampanye keselamatan tertib berlalu lintas dengan pembagian paket mainan kepada anak yang di bonceng sepeda motor dengan menggunakan helm di Jalan Otista dalam rangka PPKM lvl 2 di Kab.Subang https://t.co/Z4eiQ4rOzY'], ['1.47E+18', 'positive', 'Tue Nov 30 03:09:44 +0000 2021', '0', 'Reposted from @kamsel_polressubang Giat kampanye keselamatan tertib berlalu lintas dengan pembagian paket mainan kepada anak yang di bonceng sepeda motor dengan menggunakan helm di Jalan Otista dalam rangka PPKM lvl 2 di Kab.Subang https://t.co/y5Zr1U0NhW'], ['1.47E+18', 'negative', 'Tue Nov 30 03:42:53 +0000 2021', '0', \"@greyyyfox Ya kalo masnya sampe nginget-nginget ginian karena pekerjaan masnya bersangkutan banget sama ppkm kan ya. Kalo aku nggak, udah lupa ppkm itu apa, level berapa, kenapa bisa pada level tertentu:') kek yang... Bye ppkm kimchil\"], ['1.47E+18', 'positive', 'Tue Nov 30 03:52:26 +0000 2021', '1', 'Unit KAMSEL SatLantas PolresTro Depok melaksanakan Sosialisasi Keselamatan Berlalulintas &amp; rencana Uji Coba Pemberlakuan GAGE dalam rangka PPKM Covid-19 &amp; pengendalian kemacetan lalulintas di Jln.Margonda Raya Depok. @TMCPoldaMetro @NTMCLantasPolri @SosmedNtmc @DivHumas_Polri https://t.co/72kvvE1hWf'], ['1.47E+18', 'positive', 'Tue Nov 30 04:04:23 +0000 2021', '0', 'Himbauan kepada Masyarakat Kota Pematangsiantar dalam pemberlakuan PPKM Level 3 Saat Libur Natal &amp; Tahun Baru Mulai 20 Desember 2021 untuk Bersama-sama kita Dukung Dan Patuhi Patuhi Protokol Kesehatan guna menekan &amp; memutus penyebaran COVID-19.  #polricegahcorona #polripresisi https://t.co/bUJeh8Y4Pg'], ['1.47E+18', 'positive', 'Tue Nov 30 04:07:33 +0000 2021', '1', 'RT @restrodepok: Unit KAMSEL SatLantas PolresTro Depok melaksanakan Sosialisasi Keselamatan Berlalulintas &amp; rencana Uji Coba Pemberlakuan G…'], ['1.47E+18', 'negative', 'Tue Nov 30 04:14:35 +0000 2021', '0', 'PLS SOMEONE TELL ME, NO WAY HOME BAKAL BENERAN TAYANG DI BIOSKOP KAN YAA, ovt mulu dari kemaren sejak denger bkal ad ppkm lvl tiga. Gw di rumah doang diem, sampe nabung bwat nonton nwh tp klo kgk jadi ggra orang orang rese yg nggak ikutin prokes, pengen gw sentil ginjalnya anjr'], ['1.47E+18', 'negative', 'Tue Nov 30 05:11:05 +0000 2021', '0', '@20_20wid Apalagi wktu ppkm kemaren nggak kerja ya nggak pernah sisiran juga 😭'], ['1.47E+18', 'positive', 'Tue Nov 30 05:14:53 +0000 2021', '0', 'dukung program PPKM dan Vaksinasi https://t.co/Kqowl6i5Wp'], ['1.47E+18', 'negative', 'Tue Nov 30 05:37:09 +0000 2021', '0', '@PapppKim jngn kesel mas entar resekinya menjauh, mas yg sbar dan berdoa smoga ngk berlaku ppkm lagi aamiin'], ['1.47E+18', 'negative', 'Tue Nov 30 05:42:45 +0000 2021', '0', 'Etapi proses resign ini juga nggak mudah: kudu siap tabungan dan cari-cari pijakan baru sebelum tenggat waktu berakhir. Dan proses rekrutmen kerja bisa lama, apalagi pasca PPKM lagi pemulihan ekonomi.  Jadilah ngelamar di 32 posisi dan 22 tempat kerja.'], ['1.47E+18', 'positive', 'Tue Nov 30 05:42:59 +0000 2021', '0', 'Dukung dan sukses PPKM serta vaksinasi Covid-19 https://t.co/HuOHTDjSOw'], ['1.47E+18', 'positive', 'Tue Nov 30 05:56:54 +0000 2021', '0', 'Tapi ga apa bagus bisa ngerasain ibadah natal sebelum ppkm'], ['1.47E+18', 'positive', 'Tue Nov 30 06:49:07 +0000 2021', '0', 'Kapolres Pematangsiantar Ajak Masyarakat Dukung Implementasi PPKM Level III Saat Nataru https://t.co/RpqXKSON0D'], ['1.47E+18', 'positive', 'Tue Nov 30 06:59:27 +0000 2021', '0', 'Jelang Nataru, Kapolres Siantar Ajak Masyarakat Dukung PPKM Level III https://t.co/mhq5sTYpxi'], ['1.47E+18', 'positive', 'Tue Nov 30 07:41:44 +0000 2021', '1', 'RT @heydiko: Perlu dicatat guys: PPKM kali ini pemerintah nggak melakukan penyekatan atau larangan pergi. Kita sendirilah yang harus aware…'], ['1.47E+18', 'positive', 'Tue Nov 30 08:06:23 +0000 2021', '0', '@NuFlashNews Salah satu sikap ke 27 PWNU tsb adlh mendukung PPKM level tiga.   Yahya Cholil Staquf'], ['1.47E+18', 'positive', 'Tue Nov 30 08:25:47 +0000 2021', '0', 'Mendukung langkah Pemerintah dalam mencegah penyebaran COVID-19 dan setelah diberlakukannya PPKM level 3, Federasi Futsal Indonesia (FFI) secara resmi menunda kick off Liga Futsal Profesional (LFP) 2021 dari 11 Desember 2021 ke 8 Januari 2022. #ffi29112021 #futsal #indonesia https://t.co/fjRreeIkKn'], ['1.47E+18', 'negative', 'Tue Nov 30 08:50:24 +0000 2021', '0', 'baru seneng gaji normal sebulan, eh ppkm lagi emg ngehe'], ['1.47E+18', 'positive', 'Tue Nov 30 08:54:52 +0000 2021', '0', 'Anggota Komisi IX DPR RI Rahmad Handoyo mendukung pemerintah yang akan menerapkan pemberlakuan pembatasan kegiatan masyarakat atau PPKM Level III di seluruh daerah di Indonesia dalam menyambut libur Natal dan Tahun Baru (Nataru) https://t.co/zNcV2MUmFF'], ['1.47E+18', 'negative', 'Tue Nov 30 10:08:44 +0000 2021', '0', '@JNB_Juliana ppkm mbak, percuma ambil cuti tapi gak bisa jalan-jalan, tempat-tempat wisata pd tutup kalau enggak pasti ramai'], ['1.47E+18', 'positive', 'Tue Nov 30 10:45:52 +0000 2021', '0', '@Prambors Hampir tiap hari nongki sm tmn2 gw melepas lelah n penat setelah seharian kerja. Bukan ppkm yg menghalangi kami buat nongki,tp krn gw akhirnya pindah kerja jd nggak pernah nongki lg sm mereka. miss u guys😢 #janganditiruya'], ['1.47E+18', 'positive', 'Tue Nov 30 11:01:11 +0000 2021', '1', 'Aku setuju dgn ada PPKM desember nanti, tp klo libur semester ditiadakan or maybe dipangkas atau digeser segala macem, big NO sih. Bkn mau liburan, jalan2.. Tp anak2 sm guru jg butuh waktu buat ISTIRAHAT!! Gak mikirin daring, gak mikirin pelajaran. Mau rebahan aja dah beneran 😑'], ['1.47E+18', 'positive', 'Tue Nov 30 11:07:03 +0000 2021', '0', 'Bagaimana UKM dapat bertahan di tengah tantangan masa PPKM level 3? XL Axiata Business Solutions telah merangkumnya untuk Anda!  #XLAxiataBusinessSolutions #WeHelpYouGrow #BerinovasiBersama #BIZOnDapatGopay #UKMIndonesia #DukungUKM https://t.co/UXS7TWb5EH'], ['1.47E+18', 'negative', 'Tue Nov 30 11:38:13 +0000 2021', '1', 'Siapa yang mentungi rakyat DKI di masa PPKM..Siapa yang ngerjain itu? Satpol PP &amp; itu perintah gubernur.  Nah trus sekarang mau dukung-dukung Anies, untuk apa ? jangan karena dia Arab Islam lalu kamu buta.   Umat Islam bodoh asal-asal dukung Menurut Eggi..😂'], ['1.47E+18', 'positive', 'Tue Nov 30 14:08:55 +0000 2021', '0', '@_ekokuntadhi Kalo terbukti melanggar PPKM harus ditindak tegas, Kami Rakyat Asli Indonesia bukan keturunan Arab Yaman Mendukung #bubarkan212  Demi #NKRIHargaMati'], ['1.47E+18', 'negative', 'Tue Nov 30 15:20:14 +0000 2021', '1', '@schfess anak sekolah juga capek abis PAS butuh istirahat gua ga setuju banget kalau mau liburin tapi bersyarat adain semacam ppkm lagi, semua tempat wisata/mall di tutup ga adil juga buat umat kristiani aduh bikin emosi aja'], ['1.47E+18', 'positive', 'Tue Nov 30 15:35:54 +0000 2021', '0', 'Kalo urusan acara yang lagi di handle, juga seneng karena PPKM kembali level 2. Jam 9 tempat acara harus tutup. Pulang cepat, hahaha.'], ['1.47E+18', 'negative', 'Tue Nov 30 17:50:03 +0000 2021', '0', 'nggak ada halo December  yang ada halo ppkm lagi kayanya fuck lah'], ['1.47E+18', 'positive', 'Tue Nov 30 18:00:18 +0000 2021', '0', 'Wabup Gowa Dukung Kebijakan Perpanjang PPKM Mikro 14 Hari\\xa0Kedepan https://t.co/awiW1dH6QM'], ['1.47E+18', 'positive', 'Tue Nov 30 22:27:19 +0000 2021', '0', \"@__AnakKolong @muispebrianto Makanya baca beritanya yang bener. Bukan esensi 212 yang tidak disetujui, tapi karena Bogor masih PPKM level 3 dasar oon. Itu karena prokes.... gak boleh berkerumun. Kalau ente ente karena takut gerakan 212 nya. Dasar ngahok Pe'a\"], ['1.47E+18', 'negative', 'Wed Dec 01 00:18:15 +0000 2021', '0', 'Kesel sama ppkm nanti 😒'], ['1.47E+18', 'negative', 'Wed Dec 01 00:48:27 +0000 2021', '0', 'gila Jakarta dah ppkm lvl 2 lagi aja :)  wish Desember, banjir ga menyebar dan lekas surut aamiin'], ['1.47E+18', 'positive', 'Wed Dec 01 00:57:49 +0000 2021', '33', 'RT @KemenkeuRI: Pemulihan ekonomi nasional terlihat, beberapa daerah telah masuk PPKM level 1-2.  Tidak lain krn dukungan masyarakat &amp; APBN…'], ['1.47E+18', 'positive', 'Wed Dec 01 01:01:45 +0000 2021', '0', 'Semua pihak harus dukung target PPKM level 1, karena akan menguntungkan semuanya. Ayo kejar terget!   https://t.co/u2njb5QRA8'], ['1.47E+18', 'positive', 'Wed Dec 01 01:13:01 +0000 2021', '0', 'Wartawan Pemprov Sumut Ajak Masyarakat Dukung PPKM Level III  #wartawan #pemprov #sumut #ajak #masyarakat #dukung #ppkm #level #iii #ppkm https://t.co/Ce8F8AgMY0'], ['1.47E+18', 'positive', 'Wed Dec 01 01:19:00 +0000 2021', '0', 'setuju bgt sih ppkm buat bulan ini jdi semua hotelnya murah, jdi ga sia\" libur dr tgl 20 🤪'], ['1.47E+18', 'positive', 'Wed Dec 01 01:45:36 +0000 2021', '0', 'Giat kampanye keselamatan prokes dengan pembagian masker kepada pengguna jalan di Jalan Otista Simpang Sinta dalam rangka PPKM lvl 2 di Kab.Subang https://t.co/W6OoCVxCYf'], ['1.47E+18', 'positive', 'Wed Dec 01 01:49:05 +0000 2021', '0', 'Giat kampanye keselamatan prokes dengan pembagian masker kepada pengguna jalan di Jalan Otista Simpang Sinta dalam rangka PPKM lvl 2 di Kab.Subang https://t.co/fPLDGydOF4'], ['1.47E+18', 'positive', 'Wed Dec 01 01:50:25 +0000 2021', '0', 'Giat kampanye keselamatan prokes dengan pembagian masker kepada pengguna jalan di Jalan Otista Simpang Sinta dalam rangka PPKM lvl 2 di Kab.Subang https://t.co/99XXsacSXH'], ['1.47E+18', 'positive', 'Wed Dec 01 01:53:01 +0000 2021', '0', 'Giat kampanye keselamatan prokes dengan pembagian masker kepada pengguna jalan di Jalan Otista Simpang Sinta dalam rangka PPKM lvl 2 di Kab.Subang https://t.co/XslxoeowCJ'], ['1.47E+18', 'positive', 'Wed Dec 01 01:54:02 +0000 2021', '0', 'Giat kampanye keselamatan prokes dengan pembagian masker kepada pengguna jalan di Jalan Otista Simpang Sinta dalam rangka PPKM lvl 2 di Kab.Subang https://t.co/DZ4rR19Dqd'], ['1.47E+18', 'positive', 'Wed Dec 01 01:57:26 +0000 2021', '33', 'RT @KemenkeuRI: Pemulihan ekonomi nasional terlihat, beberapa daerah telah masuk PPKM level 1-2.  Tidak lain krn dukungan masyarakat &amp; APBN…'], ['1.47E+18', 'negative', 'Wed Dec 01 01:59:42 +0000 2021', '0', '@schfess krng setuju tntng peraturan ini. y serasa g mnghargai para umat kristiani aplgi ini hari raya. kita umat muslim kok minta dihargai melulu  cba dibalik situasiny, klo hari raya idul fitri diginiin, gmn :/  mnding pmberlakuan ppkm kek sblmnya, mereka juga butuh kumpul brng keluarga'], ['1.47E+18', 'positive', 'Wed Dec 01 02:04:59 +0000 2021', '0', 'Kampanye keselamatan berlalu lintas dengan giat pembagian Paket snack gratis kepada anak Yang menggunakan helm saat dibonceng sepeda motor di Jalan Otista dalam rangka PPKM level 2 di  Kab.Subang https://t.co/rP3rxD3l6E'], ['1.47E+18', 'positive', 'Wed Dec 01 02:05:27 +0000 2021', '0', 'Kampanye keselamatan berlalu lintas dengan giat pembagian Paket snack gratis kepada anak Yang menggunakan helm saat dibonceng sepeda motor di Jalan Otista dalam rangka PPKM level 2 di  Kab.Subang https://t.co/n3pI648p2I'], ['1.47E+18', 'positive', 'Wed Dec 01 02:05:58 +0000 2021', '0', 'Kampanye keselamatan berlalu lintas dengan giat pembagian Paket snack gratis kepada anak Yang menggunakan helm saat dibonceng sepeda motor di Jalan Otista dalam rangka PPKM level 2 di  Kab.Subang https://t.co/yJR1tSH9y2'], ['1.47E+18', 'positive', 'Wed Dec 01 02:06:34 +0000 2021', '0', 'Kampanye keselamatan berlalu lintas dengan giat pembagian Paket snack gratis kepada anak Yang menggunakan helm saat dibonceng sepeda motor di Jalan Otista dalam rangka PPKM level 2 di  Kab.Subang https://t.co/XHlvxUnsRP'], ['1.47E+18', 'positive', 'Wed Dec 01 02:07:16 +0000 2021', '0', 'Kampanye keselamatan berlalu lintas dengan giat pembagian Paket snack gratis kepada anak Yang menggunakan helm saat dibonceng sepeda motor di Jalan Otista dalam rangka PPKM level 2 di  Kab.Subang https://t.co/vugFjcicaJ'], ['1.47E+18', 'positive', 'Wed Dec 01 02:08:03 +0000 2021', '0', 'Kampanye keselamatan berlalu lintas dengan giat pembagian Paket snack gratis kepada anak Yang menggunakan helm saat dibonceng sepeda motor di Jalan Otista dalam rangka PPKM level 2 di  Kab.Subang https://t.co/ryjKV79TNK'], ['1.47E+18', 'positive', 'Wed Dec 01 02:08:38 +0000 2021', '0', 'Kampanye keselamatan berlalu lintas dengan giat pembagian Paket snack gratis kepada anak Yang menggunakan helm saat dibonceng sepeda motor di Jalan Otista dalam rangka PPKM level 2 di  Kab.Subang https://t.co/f5tqSK59Ca'], ['1.47E+18', 'positive', 'Wed Dec 01 02:27:19 +0000 2021', '1', '@hardrockfmbali @wulwulan @MIKAAFFANDY Setuju soalna PPKM penting untuk mencegah lebih banyak timbul KASUS BARU karena virus covid19 akan selalu ada di luar sana serta vaksinasi TIDAK MENJAMIN 100% orang tidak akan terkena virus 🙏🙏🙏'], ['1.47E+18', 'positive', 'Wed Dec 01 02:27:49 +0000 2021', '0', 'Mendukung langkah Pemerintah dalam mencegah penyebaran COVID-19 dan setelah diberlakukannya PPKM level 3, Federasi Futsal Indonesia (FFI) secara resmi menunda kick off Liga Futsal Profesional (LFP) 2021 dari 11 Desember 2021 ke 8 Januari 2022. #ffi29112021 #futsal #indonesia https://t.co/qTQDzz6Wez'], ['1.47E+18', 'negative', 'Wed Dec 01 02:32:10 +0000 2021', '0', 'Nekat dan nantang polisi /negara. Melanggar PPKM, membahayakan kesehatan dan keselamata  rakyat. @ListyoSigitP @mohmahfudmd @jokowi https://t.co/qUtx7Iy4PX'], ['1.47E+18', 'positive', 'Wed Dec 01 02:33:14 +0000 2021', '1', 'RT @maderiawan: @hardrockfmbali @wulwulan @MIKAAFFANDY Setuju soalna PPKM penting untuk mencegah lebih banyak timbul KASUS BARU karena viru…'], ['1.47E+18', 'negative', 'Wed Dec 01 02:39:38 +0000 2021', '0', 'micyeoseo???? gila aja gw ga dikasih libur penat anjr ptm butuh refreshing nih mana abis itu ad ppkm pemerintah lama2 gajelas 🤧 https://t.co/hN1geVTjRm'], ['1.47E+18', 'negative', 'Wed Dec 01 03:39:53 +0000 2021', '0', 'Welcome December, karena akhir tahun PPKM musisi kagak gajian jadinya ya nggak bisa manggung, yagitudeh. Teman2 bisa membeli album2 musik saya di @karyakarsa_id , beri dukungan berupa tip agar saya bisa terus berkarya.  Thanks ya, silahkan meluncur ke :  https://t.co/jj4bciqzMz'], ['1.47E+18', 'negative', 'Wed Dec 01 03:48:06 +0000 2021', '0', 'gila apa, gue h-1 lebaran kelas aja misuh misuh gimana ini  mana anak sekolah juga baru kelas uas, mending tetep libur tapi ppkm. libur ga melulu keluar rumah etdah  elus dada gue https://t.co/xnen3DJ1EN'], ['1.47E+18', 'negative', 'Wed Dec 01 03:59:53 +0000 2021', '49', 'Biaya rawat pasien melonjak sangat tinggi, dari Rp 63,61 T menjadi Rp 96,86 T, akselerasi vaksin Rp 47,6 T, dan pelaksanaan PPKM di Daerah. Selain itu, utk penguatan Bansos, subsidi upah, dan dukungan tunai utk pelaku UMKM yg terpukul karena PPKM Level 4.'], ['1.47E+18', 'negative', 'Wed Dec 01 04:47:26 +0000 2021', '0', '@jaya_pancasila @DivHumas_Polri Paling juga dibubarin aparat emang nggak ngerti PPKM tah'], ['1.47E+18', 'positive', 'Wed Dec 01 05:04:15 +0000 2021', '0', 'Mendukung langkah Pemerintah dalam mencegah penyebaran COVID-19 dan setelah diberlakukannya PPKM level 3, Federasi Futsal Indonesia (FFI) secara resmi menunda kick off Liga Futsal Profesional (LFP) 2021 dari 11 Desember 2021 ke 8 Januari 2022. #ffi29112021 #futsal #indonesia https://t.co/JhJoF3YAmo'], ['1.47E+18', 'negative', 'Wed Dec 01 05:57:09 +0000 2021', '4458', 'RT @TarizSolis: ~ Rekomendasi film pendek di YouTube ~   Siapa tahu ada yang butuh tontonan biar nggak jenuh &amp; stres selama PPKM darurat, i…'], ['1.47E+18', 'negative', 'Wed Dec 01 06:15:40 +0000 2021', '0', '@schfess apalg bagi kami yang baru saja menyelesaikan ujian PAS. kami juga butuh libur pak, meski hanya online dsb seenggaknya libur nataru itu setahun sekali dan momen yang paling ditunggu. sumpah ngga apa2 ppkm, ga mudik, dll tapi ijinkan kami tetap makan bareng, masak bareng, bakaran'], ['1.47E+18', 'negative', 'Wed Dec 01 06:58:01 +0000 2021', '0', '@panggilakuDWL Wkwkk ppkm berlaku nehh o mbaa'], ['1.47E+18', 'positive', 'Wed Dec 01 06:58:35 +0000 2021', '0', '@OrangM3rd3ka Woiii.. Muka bodoh, lu kan yg bilang kebijakan salah dari pemerintah. Makanya gue tanya sama lu, vaksinasi, PPKM, PSBB dan Prokes itu berhasil atau salah..?? Jawab aja itu. Paham.  😁😁😁'], ['1.47E+18', 'negative', 'Wed Dec 01 07:00:40 +0000 2021', '0', '@drpriono1 @DKIJakarta He..he.. kemarin rencana ppkm level 3 gak setuju, skg oke aja level 2.. Intinya manusia kalo gak dibatasin pasti semaunya pak.. Liatlag diluaran, ibu2 arisan sudab liburan kemana mana, anak sekolah studytour dll'], ['1.47E+18', 'negative', 'Wed Dec 01 07:05:17 +0000 2021', '0', '@schfess Gila sihh kalo sampe gaada liburr,itu kan emang waktunya rest ya.i mean kan ga semua libur itu keluar rumahh,ppkm ya ppkm aja libur kan bisa buat istirahat di rumah aja\\U0001f972'], ['1.47E+18', 'positive', 'Wed Dec 01 07:14:16 +0000 2021', '0', 'Inilah Pekerjaan Setan malah oknum senang ppkm sedangkan orang menjadi tambah susah..Oknum tdk dipikirin bencana  alami karena uangnya tdk ada tapi mereka akan kena karma  https://t.co/AhrxguYFPt'], ['1.47E+18', 'positive', 'Wed Dec 01 07:22:55 +0000 2021', '0', 'Giat kampanye keselamatan prokes dengan pembagian masker kepada masyarakat di terminal transit angkot Jalan cagak dalam rangka PPKM lvl 2 di Kab.Subang https://t.co/l0q6HuPSVF'], ['1.47E+18', 'positive', 'Wed Dec 01 07:23:14 +0000 2021', '0', 'Giat kampanye keselamatan prokes dengan pembagian masker kepada masyarakat di terminal transit angkot Jalan cagak dalam rangka PPKM lvl 2 di Kab.Subang https://t.co/AKpwBb2hlx'], ['1.47E+18', 'positive', 'Wed Dec 01 07:24:25 +0000 2021', '0', 'Giat kampanye keselamatan tertib berlalu lintas dengan dengan penempelan stiker di Terminal Transit angkot Jalan cagak dalam rangka PPKM lvl 2 di Kab.Subang https://t.co/GGTm1VOYGi'], ['1.47E+18', 'positive', 'Wed Dec 01 07:31:01 +0000 2021', '0', 'Giat kampanye keselamatan prokes dengan pembagian masker kepada opang di pangkalan ojek pangkalan lempar Cijambe dalam rangka PPKM lvl 2 di Kab.Subang https://t.co/bqTK8gAVPP'], ['1.47E+18', 'positive', 'Wed Dec 01 07:31:56 +0000 2021', '0', 'Giat kampanye keselamatan tertib berlalu lintas dengan penempelan stiker di pangkalan ojek pangkalan lempar Cijambe dalam rangka PPKM lvl 2 di Kab.Subang https://t.co/Qw4bdwWpHL'], ['1.47E+18', 'positive', 'Wed Dec 01 09:14:04 +0000 2021', '0', '@carolusbagus @ArisRiiss @bayiviv @___w23___ itu juga ditunda gara2 PPKM naik level tah?  culek mas @FahMohRiz'], ['1.47E+18', 'negative', 'Wed Dec 01 09:42:52 +0000 2021', '0', 'YANG PENTING JANGAN PPKM DONG, please banget gua udah mau gila :( https://t.co/gX0mBpOeCj'], ['1.47E+18', 'positive', 'Wed Dec 01 10:13:36 +0000 2021', '22', 'Menjaga pertahanan kgak hanya saat ada gangguan dr luar, tapi dr brbagai situasi dlm negeri jg Misalnya situasi pandemi, sistem pertahanan dlm pemulihan stabilitas ekonomi Indonesia bisa berhasil berkat kerjasama dan dukungan TNI-Polri trutama saat PPKM &amp; vaksinasi  Tim Hebat 👇 https://t.co/JJdCl0HcSG'], ['1.47E+18', 'negative', 'Wed Dec 01 10:15:09 +0000 2021', '3', 'Demo ini digelar hari Senin 13 September 2021 saat Jakarta berstatus PPKM Level 3.  Aman2 saja tuh‼️  Tolak Formula E 2022, Sejumlah Orang Demo Dukung Hak Interpelasi di Gedung DPRD DKI  https://t.co/O7BikvWacN  Kenapa AKSI212 Dipermasalahkan ⁉️ https://t.co/IReGvcE0FF'], ['1.47E+18', 'negative', 'Wed Dec 01 10:26:15 +0000 2021', '0', 'Klo dipikir² w kuat juga y gak hang out bareng temen selama ppkm jadi sejak Juli? Gila WKWKWK ya gmn giliran ngajakin mendadak woy niat ngajak apa kagak dah w jg punya kesibukan'], ['1.47E+18', 'positive', 'Wed Dec 01 10:34:49 +0000 2021', '0', 'Ngacung deh yg seneng ada ppkm lagi. Biar bisa WFH'], ['1.47E+18', 'negative', 'Wed Dec 01 10:49:32 +0000 2021', '0', \"Sy tau anda pro bgt ttg politik,vaksin,PL,PPKM,etc tp kl mau debat gak usah ngajak sy yg bodoh ini, percuma! Sy udah blg 'gak paham' lho, eehh anda masih ngotot maksain teori anda masuk ke otak sy yg kecil ini, sumpek tau!! Anda mau sy ajari cara tepok tangan in tempo? Gak kan?\"], ['1.47E+18', 'negative', 'Wed Dec 01 11:09:38 +0000 2021', '0', 'Semoga nggak kena ppkm lv 3 dah bjb'], ['1.47E+18', 'negative', 'Wed Dec 01 11:10:12 +0000 2021', '0', '@AdalardBanim @urakanproject @hallosinyo @idextratime Konteks utamanya adalah aturan membatasi pemanngilan pemain tiap klubl!! Kalo dari awal gak ada aturan itu mau itu nantinya ada ppkm atau kagak gak bakalan ngeganggu proses yang ada.'], ['1.47E+18', 'negative', 'Wed Dec 01 11:18:19 +0000 2021', '0', '@tolONGjgnGila Iya kan katanya ppkm yaa tapi kan mall tutup nanti 🤧'], ['1.47E+18', 'negative', 'Wed Dec 01 11:47:54 +0000 2021', '2', 'dan membantu UMKM akibat mereka tidak dapat bekerja dengan penerapan PPKM level 4.   3) anggaran untuk pimpinan MPR dan kegiatan tetap didukung sesuai mekanisme APBN.'], ['1.47E+18', 'negative', 'Wed Dec 01 12:01:01 +0000 2021', '0', '@bagussuperr Ppkm mulu🥴'], ['1.47E+18', 'negative', 'Wed Dec 01 12:20:24 +0000 2021', '0', '@IzMe1415 Huhuhu ya iyaaa sih kak. Btw untuk ke jakarta masih dalam plan. Aku kan nunggu debsi kak. Terus semoga ini korona gak menggila. PPKM bikin kzl sih'], ['1.47E+18', 'negative', 'Wed Dec 01 12:27:45 +0000 2021', '0', '@Marvfess Takut.. mana katanya abis ujian bakal ppkm.. takut mallnya nggak buka..'], ['1.47E+18', 'positive', 'Wed Dec 01 12:50:43 +0000 2021', '0', 'Desember ini tahun keduaku harus natal dan tahun baru jauh dari keluarga lagi. Kebijakan pemerintah berlakuin ppkm saat nataru bagus, tp kasihan anak rantau kek kami lagi lagi gabisa mudik\\U0001f972'], ['1.47E+18', 'negative', 'Wed Dec 01 12:54:50 +0000 2021', '0', '@OmDickyajah @SahabatSaber Biaya rawat pasien melonjak sangat tinggi, dari Rp 63,61 T menjadi Rp 96,86 T, akselerasi vaksin Rp 47,6 T, dan pelaksanaan PPKM di Daerah. Selain itu, utk penguatan Bansos, subsidi upah, dan dukungan tunai utk pelaku UMKM yg terpukul karena PPKM Level 4.'], ['1.47E+18', 'negative', 'Wed Dec 01 13:05:15 +0000 2021', '0', '@schfess HAHA DRPD KESEL SEKOLAH DEMO AJA BRG2  Mampus tu aturan ppkm ppkm kmpret, libur diapus seenak jidat'], ['1.47E+18', 'positive', 'Wed Dec 01 13:45:03 +0000 2021', '0', '[1 Desember 2021] BMI Provinsi Lampung bersinergi bersama POLRI dengan  mendukung kebijakan pemerintah dalam rangka penerapan PPKM Level 3.  @pdiperjuangan  #PDIPerjuangan #PDIPerjuanganLampung #SolidBergerak https://t.co/baCHmHR4I4'], ['1.47E+18', 'positive', 'Wed Dec 01 14:13:20 +0000 2021', '0', 'Aku mendukung kalo pemerintah mau buat pengetatan dari sekarang, ppkm lagi gak papa asal gak collapse lagi kayak gelombang 2..  terlalu banyak cerita menyedihkan :( Yuk jaga diri sama-sama dari sekarang 💜 https://t.co/UgcHJAZW6K'], ['1.47E+18', 'negative', 'Wed Dec 01 14:29:26 +0000 2021', '0', '@Ararara2916 Sedih campur kesel banget gk si liatnya😭 Gmn gk mau ppkm, itu aja takenya pisah 😭'], ['1.47E+18', 'negative', 'Wed Dec 01 14:40:13 +0000 2021', '0', '@_cocaine05 @handokotjung Covid tipe Omicron masuk Indonesia. PPKM naik lagi. Jalanan udah nggak macet lagi. Mall dibatasi lagi'], ['1.47E+18', 'negative', 'Wed Dec 01 16:21:48 +0000 2021', '0', 'Hah? Gila mau ada third wave kah? Ini omricon lebih cepat lho mutasinya?   Ya tapi kalo balik lagi PPKM level 4 sih oe bisalah skip Mabar setelah RKA https://t.co/mFdToMOQlp'], ['1.47E+18', 'negative', 'Wed Dec 01 16:36:51 +0000 2021', '3045', 'RT @andihiyat: PPKM level 4 PPKM level pedes gila PPKM level pedes mampus'], ['1.47E+18', 'negative', 'Wed Dec 01 22:44:36 +0000 2021', '0', 'Sumpah kesel banget padahal kalo gamau banyak yang keluar mah jadiin ppkm kek dulu aja napasih, kalo tetep disekolahin atau diundur gt kan banyak yang ngelanggar 😒😒😒😒 https://t.co/v361PZUEWE'], ['1.47E+18', 'negative', 'Wed Dec 01 22:58:38 +0000 2021', '0', '@gwgjbgt ppkm dendanya nggak semurah ituu'], ['1.47E+18', 'positive', 'Wed Dec 01 22:59:27 +0000 2021', '0', 'RT @KemenkeuRI: Pemulihan ekonomi nasional terlihat, beberapa daerah telah masuk PPKM level 1-2.  Tidak lain krn dukungan masyarakat &amp; APBN sebagai countercylical yg efektif.  Lalu, bagaimana kabar APBN saat ini?  Simak Konferensi Pers APBN KiTa Oktober 2021. SEKARANG! ▶️ ...'], ['1.47E+18', 'negative', 'Wed Dec 01 23:03:03 +0000 2021', '0', '@bagaz13 @sdenta Semoga nggak ada ppkm, pengen mudik sebelum puasa euy'], ['1.47E+18', 'positive', 'Wed Dec 01 23:58:08 +0000 2021', '0', '@sadbichis @partikelatom @schfess setuju banget, kalo libur pasti covid naik lagi, trus ujung ujungnya ppkm lagi, ngga kelar kelar deh'], ['1.47E+18', 'negative', 'Thu Dec 02 00:28:58 +0000 2021', '0', '@spifdol makanya anjir. orang liburan juga ada ppkm ih anjgggg masa disuruh belajar mulu dongo bgt mau dibuat gila kayanya'], ['1.47E+18', 'positive', 'Thu Dec 02 00:56:50 +0000 2021', '0', '@PRFMnews Ya bagus ppkm level 4 ajA tptpu jajan'], ['1.47E+18', 'positive', 'Thu Dec 02 01:16:17 +0000 2021', '0', '@lettachantik Jaman PPKM harus dukung program pemerintah....!! Reuni PA 212 secara online.   WEBINAR'], ['1.47E+18', 'negative', 'Thu Dec 02 01:38:36 +0000 2021', '0', '@rudysarwa @tijabar Satire atau mungkin jg pembodohan dan ungkapan kebencian dari media hops, emang PPKM kebijakan gubernur yah, baru tau'], ['1.47E+18', 'positive', 'Thu Dec 02 01:58:44 +0000 2021', '0', '@mamadarling2021 betul mam setuju,, dulu aku juga suka misuh2 kalau mereka ppkm,,kecewa tapi sekarang sudah ga karena ada alasan ga bisa spill disini,,nikmatin aja mereka masih kerja bareng 💚💜'], ['1.47E+18', 'negative', 'Thu Dec 02 02:51:42 +0000 2021', '0', '@jpnncom Kalaupun nggak membuat kerusuhan. Kerumunan kan juga melanggar PPKM to..'], ['1.47E+18', 'positive', 'Thu Dec 02 03:19:52 +0000 2021', '0', 'Giat kampanye keselamatan prokes COVID-19 dengan pembagian masker kepada pengguna jalan di Jalan Arief Rahman Hakim dalam rangka PPKM lvl 2 di Kab.Subang https://t.co/vx3oiV7bYL'], ['1.47E+18', 'positive', 'Thu Dec 02 03:20:21 +0000 2021', '0', 'Giat kampanye keselamatan prokes COVID-19 dengan pembagian masker kepada pengguna jalan di Jalan Arief Rahman Hakim dalam rangka PPKM lvl 2 di Kab.Subang https://t.co/LAWWzuUIYE'], ['1.47E+18', 'positive', 'Thu Dec 02 03:21:06 +0000 2021', '0', 'Giat kampanye keselamatan prokes COVID-19 dengan pembagian masker kepada pengguna jalan di Jalan Arief Rahman Hakim dalam rangka PPKM lvl 2 di Kab.Subang https://t.co/xCvBAXQAWo'], ['1.47E+18', 'positive', 'Thu Dec 02 03:21:47 +0000 2021', '0', 'Giat kampanye keselamatan prokes COVID-19 dengan pembagian masker kepada pengguna jalan di Jalan Arief Rahman Hakim dalam rangka PPKM lvl 2 di Kab.Subang https://t.co/vW0BdtAMMj'], ['1.47E+18', 'positive', 'Thu Dec 02 03:22:17 +0000 2021', '0', 'Giat kampanye keselamatan prokes COVID-19 dengan pembagian masker kepada pengguna jalan di Jalan Arief Rahman Hakim dalam rangka PPKM lvl 2 di Kab.Subang https://t.co/fVtXOH77IE'], ['1.47E+18', 'positive', 'Thu Dec 02 03:24:00 +0000 2021', '0', 'Giat kampanye keselamatan tertib berlalu lintas dengan penempelan stiker di Jalan Arief Rahman Hakim dalam rangka PPKM lvl 2 di Kab.Subang https://t.co/1mpifImwBG'], ['1.47E+18', 'positive', 'Thu Dec 02 03:26:08 +0000 2021', '0', 'Giat kampanye keselamatan tertib berlalu lintas dengan pembagian snack gratis kepada anak yang dibonceng sepeda motor dengan menggunakan helm di Jalan Arief Rahman Hakim dalam rangka PPKM lvl 2 di Kab.Subang https://t.co/EMbSDMxk3f'], ['1.47E+18', 'positive', 'Thu Dec 02 03:28:27 +0000 2021', '0', 'Giat kampanye keselamatan tertib berlalu lintas dengan pembagian snack gratis kepada anak yang dibonceng sepeda motor dengan menggunakan helm di Jalan Arief Rahman Hakim dalam rangka PPKM lvl 2 di Kab.Subang https://t.co/RZCKA3oFmZ'], ['1.47E+18', 'positive', 'Thu Dec 02 03:32:47 +0000 2021', '0', 'Giat kampanye keselamatan tertib berlalu lintas dengan pembagian snack gratis kepada anak yang dibonceng sepeda motor dengan menggunakan helm di Jalan Arief Rahman Hakim dalam rangka PPKM lvl 2 di Kab.Subang https://t.co/22kflxO8F5'], ['1.47E+18', 'positive', 'Thu Dec 02 03:33:20 +0000 2021', '0', 'Giat kampanye keselamatan tertib berlalu lintas dengan pembagian snack gratis kepada anak yang dibonceng sepeda motor dengan menggunakan helm di Jalan Arief Rahman Hakim dalam rangka PPKM lvl 2 di Kab.Subang https://t.co/ZLX2YJ1Q2q'], ['1.47E+18', 'negative', 'Thu Dec 02 03:40:45 +0000 2021', '0', '@manarat_n @_ekokuntadhi NGGAK DAPET KUAH LENGKUAS MAKSOD LO ?   JILAT TROS GUYS .. !  NTAR HARGA NAEK, PADA NGANGGUR, TKA BEJIBUN,  KELUARGA LO NGGAK MAKAN, NGGAK SEKOLAH ..PPKM &amp; PCR TROS NGGAK ABIS2 NAH .. NYESEL JUGA NGGAK GUNA   LANJUTKEN KEDUNGUAN !'], ['1.47E+18', 'negative', 'Thu Dec 02 04:11:57 +0000 2021', '0', 'Akhir tahun ppkm diperketat, semua dibatasi bahkan sampai ibadah pun ikut dibatasi, gak papa kita dukung selalu, semua demi keselamatan bersama, cuman pesen ajah besok bulan april mei juga sama ya, diperketat semua, ingat lonjakan terjadi bulan juni.......'], ['1.47E+18', 'negative', 'Thu Dec 02 04:18:39 +0000 2021', '0', 'Syg? ⁉️⁉️Tgl 24 Desember smpe 2 Januari kan ppkm ya, cowok ku dari Sumatera mau ke Bandung tgl 25 mau prewed.. kira kira penerbangan masih bisa apa enggak ya? Plis bingung bgt'], ['1.47E+18', 'negative', 'Thu Dec 02 05:13:33 +0000 2021', '0', '@jokowi bapak adalah orang nomor 1 yang sangat di jaga kesehatan dan keselamatnya, bapak sekarang sudah bisa bertugas kemana saja. saya hanya meminta kepada bapak agar tahun depan IdulFitri tidak lagi di berlakukan PPKM ,karena saya selama 3tahun ini belum bertemu mamak karo bapakku pak'], ['1.47E+18', 'positive', 'Thu Dec 02 06:37:40 +0000 2021', '0', 'Ane mendukung penuh kebijakan preventif pemerintah yg memberlakukan PPKM level 3 menjelang perayaan nataru. Kapan perlu, berlakukan PPKM level 4 utk menghindari lonjakan kasus dan munculnya varian baru corona di Indonesia. https://t.co/EBVFmN5Y87'], ['1.47E+18', 'positive', 'Thu Dec 02 07:07:46 +0000 2021', '0', 'Dukung dan sukseskan program pemerintah ppkm dan vaksinasi https://t.co/D5VPS9gDtb'], ['1.47E+18', 'positive', 'Thu Dec 02 07:12:31 +0000 2021', '0', 'Dukung pelaksanaan PPKM. https://t.co/uO3BSEAWrA'], ['1.47E+18', 'positive', 'Thu Dec 02 07:24:09 +0000 2021', '0', 'Dukung serta sukses PPKM dan Vaksinasi Covid-19 https://t.co/FImTuDVYyN'], ['1.47E+18', 'negative', 'Thu Dec 02 09:01:58 +0000 2021', '0', '@GunRomli @Uki23 Reuni menyambut datangnya Omnicron. Jika reuni 212 menyebabkan kasus Covid melonjak, menyebabkan PPKM naik level, artinya yg reuni berperan dlm membuat bangsa dan negara menderita. Ya Tuhan, mengapa bnyk orang bodoh di negeri ini?😰'], ['1.47E+18', 'positive', 'Thu Dec 02 09:21:25 +0000 2021', '0', '@ExxceL150 Dukung kebijakan PPKM'], ['1.47E+18', 'negative', 'Thu Dec 02 09:34:35 +0000 2021', '0', 'Kenapa naik? Dulu bisnisnya hanya 1, sekarang sudah ada beberapa pasif income. Kecil” tapi banyak. Gila nih! Makasih PSBB dan PPKM, krn fenomena ini membuat aq bisa metik buahnya sekarang.'], ['1.47E+18', 'negative', 'Thu Dec 02 10:58:46 +0000 2021', '0', '@Tetehcentil Nggak bisa kemana2 juga, ppkm jadi ribet.'], ['1.47E+18', 'positive', 'Thu Dec 02 11:46:02 +0000 2021', '0', '@_Banyoe @rudeski83 @5dhany5 @MKrenthil @rullytanggo @Merdekalah123 @StopPlandemit @c1nt4_2l2 @Painkiller819 @luis_vtj @andrebung86 @BuKasunNdeso @Peyek_T3RI @AntonStefanus_ @amirulyusra @TedHilbert @kucinglucu01 @ftrrii1 @AldoBabeh @seroja_merah @mindlipstick @BangPitung_AJW @hanajuda @1Imsick @Fatoni0Rachman @soetidjam @AminSiregar21 @depopulasi @ctavianiken2 @Tegawati_SP @Aznlova @eko_n9udiarto @almagentia369 @PBIDI @KemenkesRI @fahiraidris @patio9eneral @Kapteng3 @by_blackangel @cybsquad_ @N4T0_ @bd_baskoro @VFathun @irwank2k2 @SastroPedal6 @jokosurono23121 @julid_aja @Wahrun12 @garis_ralucu @Wan_Zambut Disinlah lu tunjukin kebodohan lu. Rakyat bayar pajak, jika ada wabah maka negara berusaha utk mencari vaksin dan upaya lain agar warganya ga jadi korban. Baksinasi, PPKM, PSBB dan Prokes. Kalau soal PCR, lu baca ini, siapa pemain besarnya..?? https://t.co/Co7iMkGoUd'], ['1.47E+18', 'negative', 'Thu Dec 02 11:49:29 +0000 2021', '0', '@jeonsomibogor Katanya diganti sama pembelajaran jarak jauh, cuma belajarnya nggak fullday kayak pjj waktu ppkm. Digituin biar anak-anaknya produktif dan liburannya nggak keluyuran, menghindari penumpukan manusia di waktu holidays'], ['1.47E+18', 'negative', 'Thu Dec 02 12:07:22 +0000 2021', '0', 'Udah Desember..mudah\"an makin banyak tamu walau mo ppkm lg...di tunggu bt wisatawan yg d #pantaipangandaran buat pijatnya ready  #pijatpanggilan #pangandaran #wa083861751337'], ['1.47E+18', 'negative', 'Thu Dec 02 13:38:16 +0000 2021', '0', 'Mau alasan apa? Ppkm? Menghindari kerumunan libur natal taun baru? Ya seenggaknya kalo nggak bisa liburan keluar kasih lah waktu libur dirumah cape tau kita tertekan sama beban tugas sekolah belum lagi yang awalnya sekolah daring taunya PASnya ofline sinting kali'], ['1.47E+18', 'negative', 'Thu Dec 02 14:21:10 +0000 2021', '0', 'ksll bgt ppkm level\"an adalagi. taun ini, bener\" sedih seneng cape mental cape fisik cape ati mikirin kamu(yahh bucin,engga deh), campur adukk bgtt pkonya. THIS YEAR MANY HAPPINESS POLL POKOEE. capee si, but worth it. trimakasi \\'21 give me lots of happy memories.'], ['1.47E+18', 'negative', 'Thu Dec 02 14:42:20 +0000 2021', '0', 'Sedih tiap orang ada yang sgin \" foto apapun asalkan di jogja \". Anyinkkk Aing belum pernah ke jogjaaaa\\U0001f972. Kek sedih banget sii, tiap udah punya planing yang udah mateng, tapi digagalkan ama si ppkm atau psbb. Ceritanya nihhh, akhir taun mau kesanaa, nggak jadi lagi anyinkk.'], ['1.47E+18', 'negative', 'Thu Dec 02 14:58:44 +0000 2021', '0', 'RT @prastow: Biaya rawat pasien melonjak sangat tinggi, dari Rp 63,61 T menjadi Rp 96,86 T, akselerasi vaksin Rp 47,6 T, dan pelaksanaan PPKM di Daerah. Selain itu, utk penguatan Bansos, subsidi upah, dan dukungan tunai utk pelaku UMKM yg terpukul karena PPKM Level 4.'], ['1.47E+18', 'negative', 'Thu Dec 02 15:14:03 +0000 2021', '0', 'Pesta Tahun Baru 2022 tak boleh diadakan di Kepri. Kenapa nggak boleh kan sudah PPKM Level I? Cek nih alasannya..  #kepri #nataru #BARAKATA  https://t.co/ZEUgXbZB3l @barakata_id'], ['1.47E+18', 'negative', 'Thu Dec 02 15:24:46 +0000 2021', '0', '@GilangJuragan99 Jd inget Babang saler mobil Suzuki, Toyota Alhamdulillah ni dah brapa bulan kemaren mulai ngopi nongkrong di lapak #kapekupihapix Taman Gaya jl Setiabudi sebelah pom bensin Bandung lagi stlh blas ilang slama.pandemi ppkm berseri seri itu.Beberapa wisuda=istilah keluar versi mrk https://t.co/58rLDOE74a'], ['1.47E+18', 'negative', 'Thu Dec 02 17:20:36 +0000 2021', '0', '@yaruyz @wizardfes Padahal you-know-who kan udah metong, harusnya udah nggak ppkm lagi ya'], ['1.47E+18', 'negative', 'Thu Dec 02 17:51:02 +0000 2021', '0', '@KatroJaya @ProfesorZubairi @CNNIndonesia Basi banget ga sih, kantor cabang yg masih satu provinsi ngadain acara internal sekantor. Ada 3 orang yg reaktif. Yg reaktif nggak ikut tapi acara tetep lanjut. Jadinya 30an orang kena habis acara. Kantornya sekarang tutup wkwkwk. Kasihan yg mau cuti akhir tahun jadi PPKM lagi'], ['1.47E+18', 'positive', 'Thu Dec 02 20:38:28 +0000 2021', '0', '@PRFMnews Ya bagus ppkm level 4 ajA tptpu jajan'], ['1.47E+18', 'negative', 'Thu Dec 02 23:11:21 +0000 2021', '0', 'Akhir tahun katanya ada ppkm ya? Itu beneran kah? Semoga aja enggak, aku mau ke Semarang woy masak harus batal lagi 😭'], ['1.47E+18', 'negative', 'Fri Dec 03 00:57:40 +0000 2021', '0', '@ipungcadud PPKM tgl. 24 Des, banci... Sblm itu, dong. Org msh awal Des ini... Gilak, deh..'], ['1.47E+18', 'negative', 'Fri Dec 03 01:38:57 +0000 2021', '0', '@satuserveraja Oh oklah sepakat kalo gitu mah emang saya juga setuju suami istri keseringan ppkm lanjutkan deh protesnya saya dukung'], ['1.47E+18', 'positive', 'Fri Dec 03 02:12:17 +0000 2021', '0', 'Giat kampanye keselamatan prokes COVID-19 dengan pembagian masker kepada pengguna jalan di Pertigaan Pablo dalam rangka PPKM lvl 2 di Kab.Subang https://t.co/HNQf31DW1p'], ['1.47E+18', 'positive', 'Fri Dec 03 02:12:45 +0000 2021', '0', 'Giat kampanye keselamatan prokes COVID-19 dengan pembagian masker kepada pengguna jalan di Pertigaan Pablo dalam rangka PPKM lvl 2 di Kab.Subang https://t.co/rnLvu8bc29'], ['1.47E+18', 'positive', 'Fri Dec 03 02:13:08 +0000 2021', '0', 'Giat kampanye keselamatan prokes COVID-19 dengan pembagian masker kepada pengguna jalan di Pertigaan Pablo dalam rangka PPKM lvl 2 di Kab.Subang https://t.co/XoWMCQgbQj'], ['1.47E+18', 'positive', 'Fri Dec 03 02:13:36 +0000 2021', '0', 'Giat kampanye keselamatan prokes COVID-19 dengan pembagian masker kepada pengguna jalan di Pertigaan Pablo dalam rangka PPKM lvl 2 di Kab.Subang https://t.co/v3clTgv8IG'], ['1.47E+18', 'positive', 'Fri Dec 03 02:14:11 +0000 2021', '0', 'Giat kampanye keselamatan prokes COVID-19 dengan pembagian masker kepada pengguna jalan di Pertigaan Pablo dalam rangka PPKM lvl 2 di Kab.Subang https://t.co/D7y8kyrbGS'], ['1.47E+18', 'positive', 'Fri Dec 03 02:14:49 +0000 2021', '0', 'Giat kampanye keselamatan prokes COVID-19 dengan pembagian masker kepada pengguna jalan di Pertigaan Pablo dalam rangka PPKM lvl 2 di Kab.Subang https://t.co/Uv7LGIHD9S'], ['1.47E+18', 'positive', 'Fri Dec 03 02:15:30 +0000 2021', '0', 'Giat kampanye keselamatan prokes COVID-19 dengan pembagian masker kepada pengguna jalan di Pertigaan Pablo dalam rangka PPKM lvl 2 di Kab.Subang https://t.co/ldGyFKdT6A'], ['1.47E+18', 'positive', 'Fri Dec 03 02:16:43 +0000 2021', '0', 'Giat kampanye keselamatan tertib berlalu lintas dengan penempelan stiker di Jalan Pertigaan Pablo dalam rangka PPKM lvl 2 di Kab.Subang https://t.co/K01mPoKx1I'], ['1.47E+18', 'positive', 'Fri Dec 03 02:17:52 +0000 2021', '0', 'Giat kampanye keselamatan tertib berlalu lintas dengan pembagian snack gratis kepada anak yang dibonceng sepeda motor dengan menggunakan helm di Jalan Pertigaan Pablo Hakim dalam rangka PPKM lvl 2 di Kab.Subang https://t.co/Ho3u5pqq2j'], ['1.47E+18', 'positive', 'Fri Dec 03 02:18:23 +0000 2021', '1', 'Giat kampanye keselamatan tertib berlalu lintas dengan pembagian snack gratis kepada anak yang dibonceng sepeda motor dengan menggunakan helm di Jalan Pertigaan Pablo Hakim dalam rangka PPKM lvl 2 di Kab.Subang https://t.co/fvxeoLHEt9'], ['1.47E+18', 'positive', 'Fri Dec 03 02:21:25 +0000 2021', '1', 'RT @dikyasapolress2: Giat kampanye keselamatan tertib berlalu lintas dengan pembagian snack gratis kepada anak yang dibonceng sepeda motor…'], ['1.47E+18', 'positive', 'Fri Dec 03 02:58:31 +0000 2021', '0', '@baseumum Bagus aja ga sih, soalnya Desember ppkm lv 3 jga'], ['1.47E+18', 'positive', 'Fri Dec 03 04:33:53 +0000 2021', '0', 'Kemenhub menyiapkan sejumlah konsep pada masa libur Natal dan tahun baru 2022 untuk mendukung penerapan PPKM level 3 sebagai antisipasi lonjakan kasus COVID-19, salah satunya penggunaan stiker sebagai bukti telah melakukan vaksin dan jalani tes antigen negatif. #MostUpdate1058 https://t.co/jbLQLXF1g1'], ['1.47E+18', 'positive', 'Fri Dec 03 05:16:57 +0000 2021', '0', 'Nahh..kita harus tau ini 10 aturan PPKM Level 3 saat Nataru.. dukung upaya pemerintah yaa dalam memutus mata rantai Covid-19 https://t.co/MFJGInoqiN'], ['1.47E+18', 'positive', 'Fri Dec 03 05:36:53 +0000 2021', '0', \"KARANGANYAR - Jum'at 03 Desember 2021 Koptu Alim Subandriyo Anggota Koramil 02/Tasikmadu melaksanakan Patroli PPKM level 2 disekitaran Kec. Tasikmadu Kab. Karanganyar menghimbau masyarakat untuk selalu menjaga kesehatan, keselamatan dan juga mematuhi protokol kesehatan Covid 19. https://t.co/OLNx277dxK\"], ['1.47E+18', 'positive', 'Fri Dec 03 05:37:34 +0000 2021', '0', \"KARANGANYAR - Jum'at 03 Desember 2021 Koptu Alim Subandriyo Anggota Koramil 02/Tasikmadu melaksanakan Patroli PPKM level 2 disekitaran Kec. Tasikmadu Kab. Karanganyar menghimbau masyarakat untuk selalu menjaga kesehatan, keselamatan dan juga mematuhi protokol kesehatan Covid 19. https://t.co/4RC5IDMBE9\"], ['1.47E+18', 'positive', 'Fri Dec 03 05:37:56 +0000 2021', '0', \"KARANGANYAR - Jum'at 03 Desember 2021 Koptu Alim Subandriyo Anggota Koramil 02/Tasikmadu melaksanakan Patroli PPKM level 2 disekitaran Kec. Tasikmadu Kab. Karanganyar menghimbau masyarakat untuk selalu menjaga kesehatan, keselamatan dan juga mematuhi protokol kesehatan Covid 19. https://t.co/cAHFnEPJ8r\"], ['1.47E+18', 'negative', 'Fri Dec 03 06:05:00 +0000 2021', '1', 'Masuknya booster nanti vax 3 dst.. Bakal jadi menyadarkan yg awam apasih yang terjadi sampe disuntik berkali kali  Mereka bakal cape dengerin ppkm diperpanjang terus dibhongin terus intinya ga ada seneng\"nya dibatasin &amp; di otoriterin  Wake up my country'], ['1.47E+18', 'negative', 'Fri Dec 03 06:16:16 +0000 2021', '0', '@MusuhMisuh @andrediras @AnakLeuweng @MCAOps Gampang ngomong doang, tuh liat org² kita kalau udh ppkm aja marah² dan protes. Suruh prokes malah ngumpul² gaje kayak gerombolan siberat 212. Jadi ga segampang itu ya tolol'], ['1.47E+18', 'negative', 'Fri Dec 03 06:28:10 +0000 2021', '0', '@jokowi Makanya Jangan Terapkan Tu PPKM Level 3 Biar Gak Ada Kelangkaan Ni Tu. Ana BARU PULANG DARI BALI Aman Aman Aja Kok What Walafiat (Walau Makin Gila Seh Hahaha) Udah SELESAIKAN DAH NI BARANG Jangan Rusak Mata Pencaharian Masyaraket. Ana Ini CONTOH HIDUP Bali Tu AMAN TENTREM DAH! https://t.co/nakr7yJI5a'], ['1.47E+18', 'negative', 'Fri Dec 03 07:37:27 +0000 2021', '0', '@kopidulce @anggy_ngikcityx Ppkm mboyakkkk wes kesel aku ngene trus'], ['1.47E+18', 'positive', 'Fri Dec 03 07:49:55 +0000 2021', '0', 'Menjelang PPKM yang akan diberlakukan sebentar lagi tidak akan membatasi angkutan logistik. Ini menunjukkan pemerintahan Jokowi mendukung agar roda ekonomi tetap berjalan. https://t.co/x29tDQiLup'], ['1.47E+18', 'positive', 'Fri Dec 03 08:10:21 +0000 2021', '0', 'Untuk mencegah meningkatnya angka kasus COVID-19 usai liburan Natal dan Tahun Baru (Nataru), pemerintah dengan sigap mengeluarkan berbagai peraturan demi mendukung penekanan angka COVID-19. Salah satunya diberlakukannya PPKM Level 3 di seluruh Indonesia.\\u2060.. https://t.co/9359ix5ViZ'], ['1.47E+18', 'negative', 'Fri Dec 03 09:11:27 +0000 2021', '0', '@almostdita Indo keknya enggak ya. mau natal tahun baru aja ppkm lvl 3 lagi 🥴'], ['1.47E+18', 'positive', 'Fri Dec 03 09:33:24 +0000 2021', '0', 'Dukungan serta bantuan dari Polri diharapkan dapat meringankan beban masyarakat dimasa PPKM Level 3'], ['1.47E+18', 'positive', 'Fri Dec 03 12:25:20 +0000 2021', '0', 'senang banget natal kali ini bareng kak juy + mem deobo, gabisa kumpul sama keluarga akibat ppkm level 3 tp gapapa ada kak juy sama deobo 💗🥺  https://t.co/Kms5iQl9Tc'], ['1.47E+18', 'negative', 'Fri Dec 03 14:11:28 +0000 2021', '0', 'ppkm dari tgl 24 sampe tgl 2.. gilak aje gue kaga main kemana mana su'], ['1.47E+18', 'negative', 'Fri Dec 03 14:36:12 +0000 2021', '0', 'ppkm ya ppkm aja ngab, ngapain segala ngundur liburan? seneng lu ngeliat murid sakit jiwa? demi Allah gua bener-bener mau muntah ngeliat layar hp, ngeliat layar laptop. gua maen ama temen aja nyuri waktu. kita-kita stress di rumah, lu mah enak enak aje pariwisata pake duit haram'], ['1.47E+18', 'negative', 'Fri Dec 03 15:31:51 +0000 2021', '0', '@Dennysiregar7 Kan tolol...satu sisi dilarang berkerumun alasannya masih PPKM...sisi lain boleh, apa karna cebong piaraan rezim gitu🤭  Rezim tolol ketakutan🤣🤣🤣'], ['1.47E+18', 'negative', 'Fri Dec 03 16:39:59 +0000 2021', '0', 'ya tuhan knp gue ultahnya juli alias pas awal ppkm yg kaga boleh ke mana2😢 ngiri bgt liat temen2 skrg pada bikin birthday party, meanwhile gue bisa ngerayain ultah tanpa denger kabar duka aja udh seneng bgt waktu itu💔'], ['1.47E+18', 'negative', 'Fri Dec 03 16:43:52 +0000 2021', '0', 'Gigs pertama setelah sekian lama enggak ngegigs karena PPKM darurat. https://t.co/ZgqMvLhNtr'], ['1.47E+18', 'negative', 'Fri Dec 03 17:23:58 +0000 2021', '0', '@Ronycawang @_Banyoe @_54fitri @StopPlandemit @5dhany5 @KatroJaya @__anomali__ @c1nt4_2l2 @Painkiller819 @Merdekalah123 @luis_vtj @andrebung86 @BuKasunNdeso @Peyek_T3RI @MKrenthil @AntonStefanus_ @amirulyusra @TedHilbert @kucinglucu01 @ftrrii1 @AldoBabeh @seroja_merah @mindlipstick @BangPitung_AJW @hanajuda @1Imsick @Fatoni0Rachman @soetidjam @AminSiregar21 @depopulasi @ctavianiken2 @Tegawati_SP @Aznlova @eko_n9udiarto @almagentia369 @PBIDI @KemenkesRI @fahiraidris @patio9eneral @Kapteng3 @by_blackangel @cybsquad_ @N4T0_ @bd_baskoro @VFathun @irwank2k2 @SastroPedal6 @jokosurono23121 @julid_aja @Wahrun12 Wooowww... Itulah kebodohan dan kebebalan lu, kawan lu dan keluarga lu. Emang lu mau negara ini alami pendemi berkepanjangan. Orang mau kerja terhalang dgn PPKM..?? Itu pemikiran BODOH dan BEBAL. PAHAM LU.   😂😂😂'], ['1.47E+18', 'negative', 'Fri Dec 03 17:32:33 +0000 2021', '0', 'Enak banget bapak bapak ngomongnya :))  Dari mengeluh mau ppkm diakhiri dengan kalimat “tetep aja yg di hotel mah ngewe, ngewe” bagus'], ['1.47E+18', 'negative', 'Fri Dec 03 17:42:17 +0000 2021', '0', '@Ronycawang @_Banyoe @_54fitri @StopPlandemit @5dhany5 @KatroJaya @__anomali__ @c1nt4_2l2 @Painkiller819 @Merdekalah123 @luis_vtj @andrebung86 @BuKasunNdeso @Peyek_T3RI @MKrenthil @AntonStefanus_ @amirulyusra @TedHilbert @kucinglucu01 @ftrrii1 @AldoBabeh @seroja_merah @mindlipstick @BangPitung_AJW @hanajuda @1Imsick @Fatoni0Rachman @soetidjam @AminSiregar21 @depopulasi @ctavianiken2 @Tegawati_SP @Aznlova @eko_n9udiarto @almagentia369 @PBIDI @KemenkesRI @fahiraidris @patio9eneral @Kapteng3 @by_blackangel @cybsquad_ @N4T0_ @bd_baskoro @VFathun @irwank2k2 @SastroPedal6 @jokosurono23121 @julid_aja @Wahrun12 Sekarang gue tanya sama lu, mau sampai kapan negara ini mau alami pendemi, pemberlakuan PPKM, ekonomi stagnan, investasi lambat...?? Kalau lu dan kelompok lu menolak vaksin. Jawab muka bodoh.  😂😂😂'], ['1.47E+18', 'positive', 'Fri Dec 03 22:00:01 +0000 2021', '0', 'Perhimpunan Hotel dan Restoran Indonesia Kota Cirebon mendukung kebijakan pemberlakuan pembatasan kegiatan masyarakat level 3 pada masa libur Natal dan Tahun Baru mendatang. Namun, PHRI berharap ada kelonggaran. #Nusantara #AdadiKompas @abdullah_fikri  https://t.co/EVLxGde9uG'], ['1.47E+18', 'positive', 'Fri Dec 03 23:00:02 +0000 2021', '0', 'Mari kita dukung pemerintah untuk mengatur perjalanan luar negeri, menerapkan karantina yang sesuai, dan patuh peraturan Pemberlakuan Pembatasan Kegiatan Masyarakat (PPKM) selama libur Natal dan Tahun Baru, #TaatProkesLindungiNegeri https://t.co/J0CZElezj0'], ['1.47E+18', 'positive', 'Fri Dec 03 23:30:00 +0000 2021', '0', 'Forum Komunikasi Pimpinan Daerah Surabaya sepakat mendukung penerapan level 3 PPKM serentak kurun 24 Desember 2021 - 2 Januari 2022 dengan melarang kegiatan kerumunan di ruang publik terkait Natal dan Tahun Baru. #Nusantara #AdadiKompas  https://t.co/5j375cnbr4'], ['1.47E+18', 'negative', 'Sat Dec 04 00:12:54 +0000 2021', '0', '@aMrazing enggak pakai tempat beras ko aku di kost biasa beli literan lansung masak makan bareng ma temen2 se kost. soalnya kita kedampak ppkm blm dpet kerja lagi'], ['1.47E+18', 'positive', 'Sat Dec 04 00:16:02 +0000 2021', '0', '@HanifahAndini96 @sadeesfaction @twuicei PPKM serentak bukti keseriusan pemerintah untuk melindungi keselamatan masyarakat'], ['1.47E+18', 'negative', 'Sat Dec 04 01:00:05 +0000 2021', '1', '@schfess Kemarin ada surat tentang PPKM dan ngga ada libur, kegiatan libur katanya sih diganti sama kegiatan pengembangan apa gitu sama siswa  Semoga aja ada perubahan, gila aja ga ada libur 😭'], ['1.47E+18', 'positive', 'Sat Dec 04 02:30:19 +0000 2021', '0', 'Dukung Muktamar yang menyesuaikan aturan PPKM #TolakProyahudi #GusYahyaAntekZionis  #BahayaLatenAsing #NUAntiYahudi #TolakOligarkiNU #TolakCalonHMI #TolakAntekAsing https://t.co/Srjzf5SVJ1'], ['1.47E+18', 'positive', 'Sat Dec 04 02:49:19 +0000 2021', '0', 'Giat kampanye keselamatan prokes COVID-19 dengan pembagian masker kepada pengguna jalan di Wisma Karya dalam rangka PPKM lvl 2 di Kab.Subang https://t.co/64CQppJJMx'], ['1.47E+18', 'positive', 'Sat Dec 04 02:49:53 +0000 2021', '0', 'Giat kampanye keselamatan prokes COVID-19 dengan pembagian masker kepada pengguna jalan di Wisma Karya dalam rangka PPKM lvl 2 di Kab.Subang https://t.co/TAArerIDE0'], ['1.47E+18', 'positive', 'Sat Dec 04 02:50:34 +0000 2021', '0', 'Giat kampanye keselamatan prokes COVID-19 dengan pembagian masker kepada pengguna jalan di Wisma Karya dalam rangka PPKM lvl 2 di Kab.Subang https://t.co/s1gqjR8kwI'], ['1.47E+18', 'positive', 'Sat Dec 04 02:51:05 +0000 2021', '0', 'Giat kampanye keselamatan prokes COVID-19 dengan pembagian masker kepada pengguna jalan di Wisma Karya dalam rangka PPKM lvl 2 di Kab.Subang https://t.co/9AFWsf0aEh'], ['1.47E+18', 'positive', 'Sat Dec 04 02:51:52 +0000 2021', '0', 'Giat kampanye keselamatan prokes COVID-19 dengan pembagian masker kepada pengguna jalan di Wisma Karya dalam rangka PPKM lvl 2 di Kab.Subang https://t.co/5kaZy1L0jb'], ['1.47E+18', 'positive', 'Sat Dec 04 02:52:40 +0000 2021', '0', 'Giat kampanye keselamatan prokes COVID-19 dengan pembagian masker kepada pengguna jalan di Wisma Karya dalam rangka PPKM lvl 2 di Kab.Subang https://t.co/atExKG0hsD'], ['1.47E+18', 'negative', 'Sat Dec 04 03:23:43 +0000 2021', '0', 'Baru mau seneng natal sma tahun baru ehhhh Udah mau PPKM level 3 lagi Wkwkkwkwk Kocak ahhh'], ['1.47E+18', 'negative', 'Sat Dec 04 03:36:03 +0000 2021', '0', 'dukung ali main tiap hari biar kalo ppkm ga nyesel ga main'], ['1.47E+18', 'positive', 'Sat Dec 04 03:41:11 +0000 2021', '0', 'Ummat peduli NU mendukung Muktamar ke-34 NU diundur menyesuaikan dengan PPKM level 3 dan mencegah penularan Covid-19 #TolakProyahudi #GusYahyaAntekZionis #BahayaLatenAsing #NUAntiYahudi #TolakOligarkiNU #TolakCalonHMI #TolakAntekAsing https://t.co/8CXTlYLbw7'], ['1.47E+18', 'positive', 'Sat Dec 04 03:45:36 +0000 2021', '0', 'Giat kampanye keselamatan tertib berlalu lintas dengan penempelan stiker di Jalan perempatan Wisma Karya dalam rangka PPKM lvl 2 di Kab.Subang https://t.co/YVUjY9GKuC'], ['1.47E+18', 'positive', 'Sat Dec 04 03:46:53 +0000 2021', '0', 'Giat kampanye keselamatan tertib berlalu lintas dengan penempelan stiker di Jalan perempatan Wisma Karya dalam rangka PPKM lvl 2 di Kab.Subang https://t.co/mhUyGJDPwx'], ['1.47E+18', 'positive', 'Sat Dec 04 04:17:51 +0000 2021', '0', 'Patroli dan penegakan serta edukasi Prokes terus digiatkan di wilayah Tawangsari, untuk mendukung PPKM Level 2 dlm rangka memutus mata rantai penyebaran Covid-19. Percepatan penanggulangan covid 19 merupakan tanggungjawab kita bersama. https://t.co/kxd4MuNSY6'], ['1.47E+18', 'negative', 'Sat Dec 04 04:54:27 +0000 2021', '0', '@detikcom Ngapain ada PPKM lg pas nataru ya  ? Ini aja org2 lg pda seneng kumpul2 wkwkwkwk'], ['1.47E+18', 'positive', 'Sat Dec 04 05:06:33 +0000 2021', '0', 'Dukung PPKM level 3 dan vaksinasi untuk mencapai herd immunity  #Nataru #PPKM https://t.co/88PmikNiZc'], ['1.47E+18', 'positive', 'Sat Dec 04 05:54:31 +0000 2021', '0', 'Giat kampanye keselamatan prokes COVID-19 dengan pembagian masker kepada ojek pangkalan di Pangkalan Ojek Pasar Ciasem dalam rangka PPKM lvl 2 di Kab.Subang https://t.co/oDCJ1a6Hxb'], ['1.47E+18', 'positive', 'Sat Dec 04 06:05:00 +0000 2021', '3', 'Penanganan dan pengendalian Covid-19 oleh Polri dengan mengoptimalkan posko-posko PPKM hingga di tingkat RT/desa. - Pendisiplinan protokol kesehatan  - Berperan serta mendukung percepatan vaksinasi Covid-19. #PeranAktifPolri Jaga Kondusifitas Negeri https://t.co/wWF9oEMGG6'], ['1.47E+18', 'positive', 'Sat Dec 04 06:26:59 +0000 2021', '0', '@babegalak1 Penanganan dan pengendalian Covid-19 oleh Polri dengan mengoptimalkan posko-posko PPKM hingga di tingkat RT/desa.. Berperan serta mendukung percepatan vaksinasi Covid-19.. #PeranAktifPolri Jaga Kondusifitas Negeri'], ['1.47E+18', 'negative', 'Sat Dec 04 06:28:15 +0000 2021', '0', 'Tiba2 mikir, daripada ngilangin cuti bersama, gimana kalo level ppkm ditingkatin di pekan2 liburan, dan cuti bersamanya tetap ada?'], ['1.47E+18', 'positive', 'Sat Dec 04 06:54:23 +0000 2021', '0', 'Anggota Pos PPKM melaksanakan kegiatan  Dikmas Lantas dan pengarahan pentingnya tetap menerapkan protokol kesehatan kepada warga masyarakat di wilayah pos PPKM Kanigoro Kabupaten Blitar.  ⛔ *Stop Pelanggaran* 🖐 *Stop Kecelakaan* 👨\\u200d👩\\u200d👦\\u200d👦 *Keselamatan Untuk Kemanusiaan* https://t.co/RhFUU8yw7R'], ['1.47E+18', 'positive', 'Sat Dec 04 07:15:53 +0000 2021', '0', 'Dukung PPKM Level 3 dan Vaksinasi Untuk Mempercepat Herd Immunity  #Nataru #PPKM #NKRIMajuBerjaya https://t.co/54YDHEN9F1'], ['1.47E+18', 'positive', 'Sat Dec 04 07:15:56 +0000 2021', '0', 'Dukung PPKM Level 3 dan Vaksinasi Untuk Mempercepat Herd Immunity  #Nataru #PPKM #NKRIMajuBerjaya https://t.co/gAQ3junRKY'], ['1.47E+18', 'positive', 'Sat Dec 04 07:21:43 +0000 2021', '0', 'Donefrid Lalang (Sekretaris PWI Kab. Sukamara) Mendukung kebijakan ppkm dalam rangka penanganan covid-19 di Kalimantan Tengah https://t.co/CMDklhWNwu'], ['1.47E+18', 'positive', 'Sat Dec 04 07:27:01 +0000 2021', '0', 'Donefrid Lalang (Sekretaris PWI Kab. Sukamara) Mendukung kebijakan ppkm dalam rangka penanganan covid-19 di Kalimantan Tengah https://t.co/nu9ew9NZap'], ['1.47E+18', 'positive', 'Sat Dec 04 08:00:15 +0000 2021', '0', '@B0cilSosmed Setuju, PPKM diperpanjang 👍'], ['1.47E+18', 'positive', 'Sat Dec 04 08:11:24 +0000 2021', '0', '@MrBugs_13 Dukung perpanjangan PPKM'], ['1.47E+18', 'positive', 'Sat Dec 04 08:14:50 +0000 2021', '0', '@rastragama Dukung perpanjangan PPKM'], ['1.47E+18', 'positive', 'Sat Dec 04 08:17:19 +0000 2021', '0', '@blackwidowsback Dukung perpanjangan PPKM'], ['1.47E+18', 'positive', 'Sat Dec 04 08:18:47 +0000 2021', '0', '@karisma_4rio Dukung PPKM utk keselamatan masyarakat'], ['1.47E+18', 'positive', 'Sat Dec 04 08:20:32 +0000 2021', '0', '@NikkeyAyu Kita sama mak kadang pas ppkm aja udh seneng haha'], ['1.47E+18', 'positive', 'Sat Dec 04 08:24:16 +0000 2021', '0', '@Vidi_A05 Dukung PPKM untuk cegah lonjakan kasus covid'], ['1.47E+18', 'negative', 'Sat Dec 04 08:29:24 +0000 2021', '4458', 'RT @TarizSolis: ~ Rekomendasi film pendek di YouTube ~   Siapa tahu ada yang butuh tontonan biar nggak jenuh &amp; stres selama PPKM darurat, i…'], ['1.47E+18', 'positive', 'Sat Dec 04 08:33:22 +0000 2021', '19', 'PPKM dan vaksinasi adalah cara terbaik mencegah gelombang ketiga pandemi covid-19  varian Omicron. PPKM adalah salah satu cara untuk melindungi keselamatan masyarakat dari covid-19 varian Omicron. @jokowi Lawan Pandemi https://t.co/TYpCUhFCzv'], ['1.47E+18', 'positive', 'Sat Dec 04 08:36:44 +0000 2021', '0', '@Bareti0 Dukung PPKM karena sudah tepat 👍👍'], ['1.47E+18', 'positive', 'Sat Dec 04 08:39:02 +0000 2021', '18', 'Menko PMK Muhadjir Effendy menyebutkan PPKM level 3 akan diberlakukan mulai tanggal 24 Desember 2021 - 2 Januari 2022 saat liburan Nataru, di seluruh wilayah Indonesia.  Kita dukung dan sukseskan yukss untuk mencegah gelombang tiga covid varian omicron. https://t.co/MtBCLKbgJM'], ['1.47E+18', 'positive', 'Sat Dec 04 08:42:19 +0000 2021', '0', '@SakiinaQhiCO_33 Yukk dukung PPKM serentak dan tetap PROKES'], ['1.47E+18', 'positive', 'Sat Dec 04 08:43:40 +0000 2021', '18', 'Upaya Pemerintah lewat PPKM dalam menekan lonjakan kasus covid gelombang dua kemarin terbukti berhasil. Lusa kita dukung kembali penerapan PPKM level 3 saat Nataru, dengan TAAT PROKES dan Mensukseskan Vaksinasi Nasional, biar gelombang tiga covid bisa dicegah . https://t.co/dnObQws46t'], ['1.47E+18', 'positive', 'Sat Dec 04 08:46:48 +0000 2021', '19', 'Kita harus mendukung penuh upaya pemerintah dalam penanganan Pandemi Covid-19 dengan menerapkan PPKM level 3.  Jangan kasih kendor agar seluruh masyarakat untuk segera melakukan vaksinasi demi terwujudnya herd imunity secara Nasional. https://t.co/T7Y8yqw4Xv'], ['1.47E+18', 'positive', 'Sat Dec 04 08:46:59 +0000 2021', '0', '@Penyair_Berdiri @ariestarico2 Yukk dukung PPKM'], ['1.47E+18', 'positive', 'Sat Dec 04 08:46:59 +0000 2021', '19', 'RT @forjakeu: Kita harus mendukung penuh upaya pemerintah dalam penanganan Pandemi Covid-19 dengan menerapkan PPKM level 3.  Jangan kasih k…'], ['1.47E+18', 'positive', 'Sat Dec 04 08:47:42 +0000 2021', '0', '@homwrxcker Dukung PPKM'], ['1.47E+18', 'positive', 'Sat Dec 04 08:48:37 +0000 2021', '19', 'RT @forjakeu: Kita harus mendukung penuh upaya pemerintah dalam penanganan Pandemi Covid-19 dengan menerapkan PPKM level 3.  Jangan kasih k…'], ['1.47E+18', 'positive', 'Sat Dec 04 08:48:52 +0000 2021', '19', 'RT @forjakeu: Kita harus mendukung penuh upaya pemerintah dalam penanganan Pandemi Covid-19 dengan menerapkan PPKM level 3.  Jangan kasih k…'], ['1.47E+18', 'positive', 'Sat Dec 04 08:50:00 +0000 2021', '0', '@SakiinaQhiCO_33 Mari kita dukung PPKM karena terbukti efektif'], ['1.47E+18', 'positive', 'Sat Dec 04 08:50:43 +0000 2021', '0', '@Bareti0 Harus dukung dong PPKM'], ['1.47E+18', 'positive', 'Sat Dec 04 08:51:15 +0000 2021', '0', '@SakiinaQhiCO_33 Dukung PPKM level 3'], ['1.47E+18', 'positive', 'Sat Dec 04 08:51:16 +0000 2021', '0', '@Rianti_Putri28 Terbukti dengan PPKM, Covid terkendali, Dukung PPKM'], ['1.47E+18', 'positive', 'Sat Dec 04 08:55:41 +0000 2021', '19', 'RT @forjakeu: Kita harus mendukung penuh upaya pemerintah dalam penanganan Pandemi Covid-19 dengan menerapkan PPKM level 3.  Jangan kasih k…'], ['1.47E+18', 'positive', 'Sat Dec 04 08:56:50 +0000 2021', '0', '@Bareti0 Dukung PPKM level 3'], ['1.47E+18', 'positive', 'Sat Dec 04 08:56:52 +0000 2021', '19', 'RT @forjakeu: Kita harus mendukung penuh upaya pemerintah dalam penanganan Pandemi Covid-19 dengan menerapkan PPKM level 3.  Jangan kasih k…'], ['1.47E+18', 'positive', 'Sat Dec 04 08:57:01 +0000 2021', '0', '@forjakeu Dukung PPKM'], ['1.47E+18', 'positive', 'Sat Dec 04 09:02:09 +0000 2021', '0', '@Anggita_lung @jokowi Dukung PPKM level 3'], ['1.47E+18', 'positive', 'Sat Dec 04 09:03:16 +0000 2021', '0', '@Anggita_lung @jokowi Dukung PPKM level 3'], ['1.47E+18', 'positive', 'Sat Dec 04 09:11:03 +0000 2021', '0', '@ariestarico2 Dukung PPKM level 3'], ['1.47E+18', 'positive', 'Sat Dec 04 09:15:06 +0000 2021', '19', 'RT @forjakeu: Kita harus mendukung penuh upaya pemerintah dalam penanganan Pandemi Covid-19 dengan menerapkan PPKM level 3.  Jangan kasih k…'], ['1.47E+18', 'positive', 'Sat Dec 04 09:15:11 +0000 2021', '0', '@forjakeu Dukung PPKM level 3'], ['1.47E+18', 'positive', 'Sat Dec 04 09:17:21 +0000 2021', '0', '@zafran_gema Dukung perpanjangan PPKM level 3'], ['1.47E+18', 'positive', 'Sat Dec 04 09:20:32 +0000 2021', '0', '@Anggita_lung @jokowi Dukung PPKM'], ['1.47E+18', 'positive', 'Sat Dec 04 09:23:11 +0000 2021', '0', '@Penyair_Berdiri Dukung PPKM'], ['1.47E+18', 'positive', 'Sat Dec 04 09:23:24 +0000 2021', '19', 'RT @forjakeu: Kita harus mendukung penuh upaya pemerintah dalam penanganan Pandemi Covid-19 dengan menerapkan PPKM level 3.  Jangan kasih k…'], ['1.47E+18', 'positive', 'Sat Dec 04 09:29:44 +0000 2021', '0', '@chinta_chintata Dukung PPKM level 3'], ['1.47E+18', 'positive', 'Sat Dec 04 09:35:46 +0000 2021', '0', '@p4rwaty_rizky Dukung PPKM level 3'], ['1.47E+18', 'positive', 'Sat Dec 04 09:40:17 +0000 2021', '0', '@Widyarenee_ Dukung PPKM level 3'], ['1.47E+18', 'positive', 'Sat Dec 04 09:44:30 +0000 2021', '19', 'RT @forjakeu: Kita harus mendukung penuh upaya pemerintah dalam penanganan Pandemi Covid-19 dengan menerapkan PPKM level 3.  Jangan kasih k…'], ['1.47E+18', 'positive', 'Sat Dec 04 09:45:15 +0000 2021', '0', '@p4rwaty_rizky Dukung PPKM level 3 💪💪'], ['1.47E+18', 'positive', 'Sat Dec 04 09:46:43 +0000 2021', '21', 'Bersatu Lawan Covid!!!  Penerapan aturan PPKM Level 3 menjadi kebijakan tepat untuk menghalau Lonjakan Cov19.  Dukung!!! https://t.co/77DAZf3MqG'], ['1.47E+18', 'positive', 'Sat Dec 04 09:48:20 +0000 2021', '19', 'RT @forjakeu: Kita harus mendukung penuh upaya pemerintah dalam penanganan Pandemi Covid-19 dengan menerapkan PPKM level 3.  Jangan kasih k…'], ['1.47E+18', 'positive', 'Sat Dec 04 09:49:26 +0000 2021', '21', 'RT @Separoh_Kumis: Bersatu Lawan Covid!!!  Penerapan aturan PPKM Level 3 menjadi kebijakan tepat untuk menghalau Lonjakan Cov19.  Dukung!!!…'], ['1.47E+18', 'positive', 'Sat Dec 04 09:50:40 +0000 2021', '21', 'RT @Separoh_Kumis: Bersatu Lawan Covid!!!  Penerapan aturan PPKM Level 3 menjadi kebijakan tepat untuk menghalau Lonjakan Cov19.  Dukung!!!…'], ['1.47E+18', 'positive', 'Sat Dec 04 09:52:21 +0000 2021', '21', 'RT @Separoh_Kumis: Bersatu Lawan Covid!!!  Penerapan aturan PPKM Level 3 menjadi kebijakan tepat untuk menghalau Lonjakan Cov19.  Dukung!!!…'], ['1.47E+18', 'negative', 'Sat Dec 04 09:52:25 +0000 2021', '0', 'jujur gue masih kesel masa orang natalan masuk sekolah sih?? gada hati jir, seengganya kalo emg mau mencegah penyebaran ya ppkm tapi liburlah jgn malah ga libur😫 ga adil dong....'], ['1.47E+18', 'positive', 'Sat Dec 04 09:53:00 +0000 2021', '21', 'RT @Separoh_Kumis: Bersatu Lawan Covid!!!  Penerapan aturan PPKM Level 3 menjadi kebijakan tepat untuk menghalau Lonjakan Cov19.  Dukung!!!…'], ['1.47E+18', 'positive', 'Sat Dec 04 09:54:33 +0000 2021', '0', '@Separoh_Kumis Dukung PPKM'], ['1.47E+18', 'positive', 'Sat Dec 04 09:54:56 +0000 2021', '21', 'RT @Separoh_Kumis: Bersatu Lawan Covid!!!  Penerapan aturan PPKM Level 3 menjadi kebijakan tepat untuk menghalau Lonjakan Cov19.  Dukung!!!…'], ['1.47E+18', 'positive', 'Sat Dec 04 09:56:14 +0000 2021', '21', 'RT @Separoh_Kumis: Bersatu Lawan Covid!!!  Penerapan aturan PPKM Level 3 menjadi kebijakan tepat untuk menghalau Lonjakan Cov19.  Dukung!!!…'], ['1.47E+18', 'positive', 'Sat Dec 04 09:57:42 +0000 2021', '21', 'RT @Separoh_Kumis: Bersatu Lawan Covid!!!  Penerapan aturan PPKM Level 3 menjadi kebijakan tepat untuk menghalau Lonjakan Cov19.  Dukung!!!…'], ['1.47E+18', 'positive', 'Sat Dec 04 10:00:52 +0000 2021', '0', '@Separoh_Kumis Dukung PPKM level 3'], ['1.47E+18', 'positive', 'Sat Dec 04 10:01:47 +0000 2021', '21', 'RT @Separoh_Kumis: Bersatu Lawan Covid!!!  Penerapan aturan PPKM Level 3 menjadi kebijakan tepat untuk menghalau Lonjakan Cov19.  Dukung!!!…'], ['1.47E+18', 'positive', 'Sat Dec 04 10:02:15 +0000 2021', '21', 'RT @Separoh_Kumis: Bersatu Lawan Covid!!!  Penerapan aturan PPKM Level 3 menjadi kebijakan tepat untuk menghalau Lonjakan Cov19.  Dukung!!!…'], ['1.47E+18', 'positive', 'Sat Dec 04 10:02:49 +0000 2021', '21', 'RT @Separoh_Kumis: Bersatu Lawan Covid!!!  Penerapan aturan PPKM Level 3 menjadi kebijakan tepat untuk menghalau Lonjakan Cov19.  Dukung!!!…'], ['1.47E+18', 'positive', 'Sat Dec 04 10:06:36 +0000 2021', '21', 'RT @Separoh_Kumis: Bersatu Lawan Covid!!!  Penerapan aturan PPKM Level 3 menjadi kebijakan tepat untuk menghalau Lonjakan Cov19.  Dukung!!!…'], ['1.47E+18', 'positive', 'Sat Dec 04 10:07:05 +0000 2021', '21', 'RT @Separoh_Kumis: Bersatu Lawan Covid!!!  Penerapan aturan PPKM Level 3 menjadi kebijakan tepat untuk menghalau Lonjakan Cov19.  Dukung!!!…'], ['1.47E+18', 'positive', 'Sat Dec 04 10:07:38 +0000 2021', '21', 'RT @Separoh_Kumis: Bersatu Lawan Covid!!!  Penerapan aturan PPKM Level 3 menjadi kebijakan tepat untuk menghalau Lonjakan Cov19.  Dukung!!!…'], ['1.47E+18', 'negative', 'Sat Dec 04 10:09:37 +0000 2021', '0', '@wonyoungjakbar @ankylosaurse ya ada bagusnya si gak deket\" , lagi ppkm kak'], ['1.47E+18', 'positive', 'Sat Dec 04 10:10:06 +0000 2021', '21', 'RT @Separoh_Kumis: Bersatu Lawan Covid!!!  Penerapan aturan PPKM Level 3 menjadi kebijakan tepat untuk menghalau Lonjakan Cov19.  Dukung!!!…'], ['1.47E+18', 'negative', 'Sat Dec 04 10:11:41 +0000 2021', '0', '@bagusnprmna @nuicemedia setahu saya pendakian masih tutup sejak ppkm kemarin'], ['1.47E+18', 'positive', 'Sat Dec 04 10:12:02 +0000 2021', '0', '@p4rwaty_rizky Dukung PPKM'], ['1.47E+18', 'positive', 'Sat Dec 04 10:13:01 +0000 2021', '19', 'RT @forjakeu: Kita harus mendukung penuh upaya pemerintah dalam penanganan Pandemi Covid-19 dengan menerapkan PPKM level 3.  Jangan kasih k…'], ['1.47E+18', 'positive', 'Sat Dec 04 10:21:56 +0000 2021', '19', 'RT @forjakeu: Kita harus mendukung penuh upaya pemerintah dalam penanganan Pandemi Covid-19 dengan menerapkan PPKM level 3.  Jangan kasih k…'], ['1.47E+18', 'positive', 'Sat Dec 04 10:49:05 +0000 2021', '19', 'RT @forjakeu: Kita harus mendukung penuh upaya pemerintah dalam penanganan Pandemi Covid-19 dengan menerapkan PPKM level 3.  Jangan kasih k…'], ['1.47E+18', 'positive', 'Sat Dec 04 11:00:44 +0000 2021', '21', 'RT @Separoh_Kumis: Bersatu Lawan Covid!!!  Penerapan aturan PPKM Level 3 menjadi kebijakan tepat untuk menghalau Lonjakan Cov19.  Dukung!!!…'], ['1.47E+18', 'positive', 'Sat Dec 04 11:22:08 +0000 2021', '21', 'RT @Separoh_Kumis: Bersatu Lawan Covid!!!  Penerapan aturan PPKM Level 3 menjadi kebijakan tepat untuk menghalau Lonjakan Cov19.  Dukung!!!…'], ['1.47E+18', 'positive', 'Sat Dec 04 11:54:37 +0000 2021', '21', 'RT @Separoh_Kumis: Bersatu Lawan Covid!!!  Penerapan aturan PPKM Level 3 menjadi kebijakan tepat untuk menghalau Lonjakan Cov19.  Dukung!!!…'], ['1.47E+18', 'positive', 'Sat Dec 04 11:59:04 +0000 2021', '19', 'RT @forjakeu: Kita harus mendukung penuh upaya pemerintah dalam penanganan Pandemi Covid-19 dengan menerapkan PPKM level 3.  Jangan kasih k…'], ['1.47E+18', 'negative', 'Sat Dec 04 12:15:26 +0000 2021', '0', 'Pemerintah mo kasih saran dong kalo mau ppkm nggausah di umumin jauh hari soalnya jadi sama aja pada meliburkan diri sebelum ppkm kan sama aja ya nggak ? Liburannya sebelum ppkm :((((('], ['1.47E+18', 'positive', 'Sat Dec 04 12:44:10 +0000 2021', '0', '@kamubiruu bagus patuhi ppkm ya'], ['1.47E+18', 'positive', 'Sat Dec 04 12:58:18 +0000 2021', '19', 'RT @forjakeu: Kita harus mendukung penuh upaya pemerintah dalam penanganan Pandemi Covid-19 dengan menerapkan PPKM level 3.  Jangan kasih k…'], ['1.47E+18', 'positive', 'Sat Dec 04 13:13:20 +0000 2021', '0', 'Mari dukung PPKM level 3 dan Vaksinasi untuk segera mencapai Herd Immunity https://t.co/tVAA2PQcKr'], ['1.47E+18', 'positive', 'Sat Dec 04 13:28:50 +0000 2021', '0', '@forjakeu Dukung PPKM demi keselamatan bersama.'], ['1.47E+18', 'negative', 'Sat Dec 04 13:35:31 +0000 2021', '0', '@IndoCringe_ Ppkm lvl 3 tolol'], ['1.47E+18', 'negative', 'Sat Dec 04 15:09:24 +0000 2021', '0', '@jsmaulida @alexjourneyID Bener2 grgr ppkm akhir tahun\\U0001f972 Mana cuaca lagi bagus2nya juga dsana Je'], ['1.47E+18', 'positive', 'Sat Dec 04 23:27:38 +0000 2021', '0', 'Hindari PPKM dan Maksimalkan Persiapan Panitia Muktamar 34 Dukung Pelaksanaan Mundur Ke Januari #GusYahyaAntekZionis #BahayaLatenAsing #NUAntiYahudi #TolakOligarkiNU #TolakCalonHMI #TolakAntekAsing https://t.co/W2ElKCFUGT'], ['1.47E+18', 'positive', 'Sun Dec 05 00:59:55 +0000 2021', '18', 'MARI KITA IKUT MENDUKUNG KEBIJAKAN PPKM LEVEL 3 DAN VAKSINASI UNTUK MENCEGAH LONJAKAN GELOMBANG KETIGA SAAT NATAL DAN TAHUN BARU....  KEBIJAKAN PPKM LEVEL TIGA UTK MEMINIMALISIR TERJADINYA LONJAKAN COPID-19... https://t.co/77NloKpbfp'], ['1.47E+18', 'positive', 'Sun Dec 05 00:59:57 +0000 2021', '18', 'MENDUKUNG PPKM LEVEL TIGA SERTA MENDORONG UNTUK SUKSESNYA VAKSINASI DEMI TERWUJUDNYA DENGAN SEGERA HERD IMMUNITY...  OPTIMIS INDONESIA TERHINDAR DARI GELOMBANG KETIGA DAN VARIAN BARU OMICRON...  INGAT TETAP DISIPLIN PROKES 📌📌 https://t.co/JUxxIPNlwt'], ['1.47E+18', 'positive', 'Sun Dec 05 01:00:39 +0000 2021', '18', 'Cara terbaik mencegah covid-19 gelombang ketiga dari penyebaran varian baru Omicron adalah dengan mempercepat vaksinasi dan mendukung PPKM level 3 untuk melindungi masyarakat. Dan membentuk HERD IMMUNITY. @jokowi Lawan Pandemi https://t.co/LaMj044B4H'], ['1.47E+18', 'positive', 'Sun Dec 05 01:02:54 +0000 2021', '18', 'Kita harus mendukung penuh upaya pemerintah dalam penanganan Pandemi Covid-19 dengan menerapkan PPKM level 3.  Jangan kasih kendor agar seluruh masyarakat untuk segera melakukan vaksinasi demi terwujudnya herd imunity secara Nasional. https://t.co/mG8O9YWAdg'], ['1.47E+18', 'positive', 'Sun Dec 05 01:02:54 +0000 2021', '18', 'RT @SakiinaQhiCO_33: MARI KITA IKUT MENDUKUNG KEBIJAKAN PPKM LEVEL 3 DAN VAKSINASI UNTUK MENCEGAH LONJAKAN GELOMBANG KETIGA SAAT NATAL DAN…'], ['1.47E+18', 'positive', 'Sun Dec 05 01:02:59 +0000 2021', '18', 'RT @SakiinaQhiCO_33: MENDUKUNG PPKM LEVEL TIGA SERTA MENDORONG UNTUK SUKSESNYA VAKSINASI DEMI TERWUJUDNYA DENGAN SEGERA HERD IMMUNITY...  O…'], ['1.47E+18', 'positive', 'Sun Dec 05 01:05:11 +0000 2021', '0', '@Bareti0 Dukung PPKM dan tetap prokes'], ['1.47E+18', 'positive', 'Sun Dec 05 01:06:03 +0000 2021', '20', 'Menjelang Hari Raya Natal 2021 dan Tahun Baru 2022, pemerintah akan melaksanakan pemberlakukan kegiatan masyarakat (PPKM) Tingkat 3 di seluruh wilayah Indonesia.kita dukung dan sukseskan PPKM level 3 https://t.co/gJifdeIK8r'], ['1.47E+18', 'positive', 'Sun Dec 05 01:06:52 +0000 2021', '0', '@Bareti0 PPKM adalah bukti nyata keseriusan pemerintah menjaga keselamatan masyarakat Indonesia'], ['1.47E+18', 'positive', 'Sun Dec 05 01:07:03 +0000 2021', '17', 'Dengan semangat tangkal gelombang 3 Covid19 dlm libur akhir tahun, kita dukung penetapan PPKM level 3.  Apapun, kebijakan PPKM sudah terbukti merupakan kebijakan yg tepat &amp; berkontribusi banyak dalam penanganan melawan pandemi Kovid19 ini. https://t.co/RX9Gonw8fj'], ['1.47E+18', 'positive', 'Sun Dec 05 01:11:06 +0000 2021', '18', 'RT @forjakeu: Kita harus mendukung penuh upaya pemerintah dalam penanganan Pandemi Covid-19 dengan menerapkan PPKM level 3.  Jangan kasih k…'], ['1.47E+18', 'positive', 'Sun Dec 05 01:11:42 +0000 2021', '0', '@Anggita_lung @jokowi Dukung PPKM'], ['1.47E+18', 'positive', 'Sun Dec 05 01:12:00 +0000 2021', '18', 'RT @forjakeu: Kita harus mendukung penuh upaya pemerintah dalam penanganan Pandemi Covid-19 dengan menerapkan PPKM level 3.  Jangan kasih k…'], ['1.47E+18', 'positive', 'Sun Dec 05 01:12:22 +0000 2021', '0', '@Bareti0 Dukung ppkm'], ['1.47E+18', 'positive', 'Sun Dec 05 01:14:39 +0000 2021', '18', 'RT @forjakeu: Kita harus mendukung penuh upaya pemerintah dalam penanganan Pandemi Covid-19 dengan menerapkan PPKM level 3.  Jangan kasih k…'], ['1.47E+18', 'positive', 'Sun Dec 05 01:14:47 +0000 2021', '0', '@forjakeu Dukung PPKM'], ['1.47E+18', 'positive', 'Sun Dec 05 01:15:10 +0000 2021', '17', 'RT @Widyarenee_: Dengan semangat tangkal gelombang 3 Covid19 dlm libur akhir tahun, kita dukung penetapan PPKM level 3.  Apapun, kebijakan…'], ['1.47E+18', 'positive', 'Sun Dec 05 01:15:48 +0000 2021', '17', 'RT @Widyarenee_: Dengan semangat tangkal gelombang 3 Covid19 dlm libur akhir tahun, kita dukung penetapan PPKM level 3.  Apapun, kebijakan…'], ['1.47E+18', 'positive', 'Sun Dec 05 01:15:56 +0000 2021', '17', 'RT @Widyarenee_: Dengan semangat tangkal gelombang 3 Covid19 dlm libur akhir tahun, kita dukung penetapan PPKM level 3.  Apapun, kebijakan…'], ['1.47E+18', 'negative', 'Sun Dec 05 02:47:54 +0000 2021', '12', 'Omicron.  Tutup border, perketat perbatasan. Tingkatkan vaksinasi,  PPKM.  Teruslah kita dengan kebodohan ini,  smntr yg meningkat terus kemiskinan, pengangguran,  kelaparan.  Ngayal akan ada peningkatan kesehatan dengan ini semua? https://t.co/i8Pi0kn0nL'], ['1.47E+18', 'negative', 'Sun Dec 05 04:57:30 +0000 2021', '12', 'RT @MommaBear0716: Omicron.  Tutup border, perketat perbatasan. Tingkatkan vaksinasi,  PPKM.  Teruslah kita dengan kebodohan ini,  smntr yg…'], ['1.47E+18', 'negative', 'Sun Dec 05 07:46:21 +0000 2021', '0', '@fatimahazahrra_ Kesel prend tahun baru ppkm, psbb'], ['1.47E+18', 'negative', 'Sun Dec 05 07:47:57 +0000 2021', '1', 'RT @raspi20772240: Saat mengkritik cuma kulit2nya aja, nggak sampai dalam, krn disetting nggak boleh nyenggol \"daleman\". Dalam bbrp hal mal…'], ['1.47E+18', 'negative', 'Sun Dec 05 07:57:22 +0000 2021', '0', 'PERPANJANGAN KEBIJAKAN PPKM  Mayoritas kurang/tidak setuju sama sekali apabila PPKM diperpanjang masa berlakunya. https://t.co/G8w8dJSNs1'], ['1.47E+18', 'negative', 'Sun Dec 05 08:12:55 +0000 2021', '12', 'RT @MommaBear0716: Omicron.  Tutup border, perketat perbatasan. Tingkatkan vaksinasi,  PPKM.  Teruslah kita dengan kebodohan ini,  smntr yg…'], ['1.47E+18', 'negative', 'Sun Dec 05 08:17:04 +0000 2021', '12', 'RT @MommaBear0716: Omicron.  Tutup border, perketat perbatasan. Tingkatkan vaksinasi,  PPKM.  Teruslah kita dengan kebodohan ini,  smntr yg…'], ['1.47E+18', 'negative', 'Sun Dec 05 08:46:16 +0000 2021', '0', 'Ortu gue klo gw dpt nilai yg gak sesuai ekspetasi mereka ya pasti nyalahin hp pdhl Sekolah skrg pake hp di tambah ppkm jdi kurangnya pembahasan materi makin lah gue bodoh'], ['1.47E+18', 'negative', 'Sun Dec 05 10:07:45 +0000 2021', '0', 'GILA. AKU TUH SETIAP MINGGU IS ALWAYS SIBUK.   Nanti natalan jadi ppkm ga yah? Semoga jadi deh, seriously aku ga Punya energi buat pergi ke Semarang 😃 ke Solo aja dah,'], ['1.47E+18', 'negative', 'Sun Dec 05 10:13:52 +0000 2021', '12', 'RT @MommaBear0716: Omicron.  Tutup border, perketat perbatasan. Tingkatkan vaksinasi,  PPKM.  Teruslah kita dengan kebodohan ini,  smntr yg…'], ['1.47E+18', 'negative', 'Sun Dec 05 10:35:03 +0000 2021', '12', 'RT @MommaBear0716: Omicron.  Tutup border, perketat perbatasan. Tingkatkan vaksinasi,  PPKM.  Teruslah kita dengan kebodohan ini,  smntr yg…'], ['1.47E+18', 'negative', 'Sun Dec 05 10:49:01 +0000 2021', '12', 'RT @MommaBear0716: Omicron.  Tutup border, perketat perbatasan. Tingkatkan vaksinasi,  PPKM.  Teruslah kita dengan kebodohan ini,  smntr yg…'], ['1.47E+18', 'negative', 'Sun Dec 05 10:59:03 +0000 2021', '1', 'Sebanyak 64,5% mengaku masyarakat tak setuju apabila PPKM terus diperpanjang. #kumparanNEWS https://t.co/vza3nIje3G'], ['1.47E+18', 'negative', 'Sun Dec 05 11:04:48 +0000 2021', '12', 'RT @MommaBear0716: Omicron.  Tutup border, perketat perbatasan. Tingkatkan vaksinasi,  PPKM.  Teruslah kita dengan kebodohan ini,  smntr yg…'], ['1.47E+18', 'negative', 'Sun Dec 05 11:08:59 +0000 2021', '1', 'RT @kumparan: Sebanyak 64,5% mengaku masyarakat tak setuju apabila PPKM terus diperpanjang. #kumparanNEWS https://t.co/vza3nIje3G'], ['1.47E+18', 'negative', 'Sun Dec 05 11:42:39 +0000 2021', '0', 'Gila, rest area penuh semua. Efek akan terjadinya ppkm.  Selalu berhati-hati ya bagi kalian yg mau bepergian. Selalu baca doa dan waspada. Kalau cape istirahat. Jangan maksain. Keluar juga kalau ada kebutuhan aja kalau bisa.  Sekedar saran'], ['1.47E+18', 'negative', 'Sun Dec 05 14:24:37 +0000 2021', '12', 'RT @MommaBear0716: Omicron.  Tutup border, perketat perbatasan. Tingkatkan vaksinasi,  PPKM.  Teruslah kita dengan kebodohan ini,  smntr yg…'], ['1.47E+18', 'negative', 'Sun Dec 05 14:43:35 +0000 2021', '0', '@eveyourbae Ppkm tolol huuft'], ['1.47E+18', 'negative', 'Sun Dec 05 14:53:42 +0000 2021', '12', 'RT @MommaBear0716: Omicron.  Tutup border, perketat perbatasan. Tingkatkan vaksinasi,  PPKM.  Teruslah kita dengan kebodohan ini,  smntr yg…'], ['1.47E+18', 'negative', 'Sun Dec 05 18:08:19 +0000 2021', '0', 'Koyok e corona wes gak ono, andang meh ppkm neh. Pemerintah ra seneng po ya ndelok wong bakul kelarisan 😩'], ['1.47E+18', 'negative', 'Sun Dec 05 23:22:54 +0000 2021', '0', 'Sebanyak 29,3 persen responden tidak setuju sama sekali dan 35,0 persen kurang setuju terhadap perpanjangan kebijakan tersebut.  #ppkm #covid19 #corona #radiopurwokerto #purwokerto #purwokertohitz #purwokertohits #purwokertokekinian #radio https://t.co/EyLYllHtDl'], ['1.47E+18', 'negative', 'Mon Dec 06 01:09:16 +0000 2021', '0', 'jog kalau akhir tahun mau ke jogja masih bisa nggak ya? sender mau kesana tapi takut ada ppkm'], ['1.47E+18', 'negative', 'Mon Dec 06 05:12:49 +0000 2021', '0', '@kyuzsn ppkm diketatin nggak enak nggak bisa kemana mana 😭😭'], ['1.47E+18', 'negative', 'Mon Dec 06 05:55:57 +0000 2021', '0', '@lilaclove0 @ShopeeID Insyaallah ya + nggak PPKM ya,, mogaa 🤔🤔🤔'], ['1.47E+18', 'negative', 'Mon Dec 06 08:48:03 +0000 2021', '0', 'Tanggapan Pemerintah Terkait Masyarakat yang Tak Setuju PPKM\\xa0Diperpanjang https://t.co/2Et1trdGCb'], ['1.47E+18', 'negative', 'Mon Dec 06 09:40:47 +0000 2021', '0', '@j_onelover SUMPAH KAK ASLI INIMAH JAHAT BGT, INIMAH NAMANYA PEMBUNUHAN BERENCANA 😭😭😭 SEENGGAKNYA KLO EMG PPKM YAUDA GTU YG SEKOLA TETEP LIBUR 😭😭😭 KNAPA TETEP SEKOLAH DI AKHIR TAHUN???!?? ANEH BGTT 😭😭😭😭😭'], ['1.47E+18', 'negative', 'Mon Dec 06 09:51:09 +0000 2021', '0', 'Enggak PPKM aja jualan masih susah 😥'], ['1.47E+18', 'negative', 'Mon Dec 06 11:53:32 +0000 2021', '1', 'Survei Indikator 5 Desember 2021 lalu mengungkap publik tidak setuju dengan perpanjangan PPKM. Ini respon Stafsus Menteri Sekretariat Negara Bidang Komunikasi dan Media, Faldo Maldini.  https://t.co/W2ZbiJy20a'], ['1.47E+18', 'negative', 'Mon Dec 06 11:55:59 +0000 2021', '1', \"@amandagempita Ya... mungkin bbrp tdk setuju dg ppkm lvl.3 Nas ...Tapi sepertinya ada pihak² yg sll coba provokasi dg kalimat² 'ngamban' bikin msyrkt jd bingung\"], ['1.47E+18', 'negative', 'Mon Dec 06 12:04:29 +0000 2021', '1', 'RT @LaRam_Jer: @amandagempita Ya... mungkin bbrp tdk setuju dg ppkm lvl.3 Nas ...Tapi sepertinya ada pihak² yg sll coba provokasi dg kalima…'], ['1.47E+18', 'negative', 'Mon Dec 06 12:07:05 +0000 2021', '12', 'RT @MommaBear0716: Omicron.  Tutup border, perketat perbatasan. Tingkatkan vaksinasi,  PPKM.  Teruslah kita dengan kebodohan ini,  smntr yg…'], ['1.47E+18', 'negative', 'Mon Dec 06 12:08:25 +0000 2021', '1', 'RT @detikcom: Survei Indikator 5 Desember 2021 lalu mengungkap publik tidak setuju dengan perpanjangan PPKM. Ini respon Stafsus Menteri Sek…'], ['1.47E+18', 'negative', 'Mon Dec 06 14:25:39 +0000 2021', '0', 'Jatah cutinya 4 tapi ga boleh cuti 4 hari berturut-turut harus diambil satu persatu. Katanya ada ppkm jadi liburnya dikurangi biar nggak bepergian. Jadi ini Ppkm apa eksploitasi pekerja?'], ['1.47E+18', 'negative', 'Mon Dec 06 15:41:32 +0000 2021', '0', 'Hasil Survei Indikator Politik soal Publik Tak Setuju PPKM, Ini Kata Stafsus Mensesneg https://t.co/nWyDpljjcW'], ['1.47E+18', 'negative', 'Mon Dec 06 17:22:02 +0000 2021', '2', 'Indikator Politik Indonesia merilis survei soal warga yang tidak setuju PPKM diperpanjang meskipun bisa menurunkan kasus harian COVID-19. Ini kata Istana. https://t.co/v7o7s6zmpk'], ['1.47E+18', 'negative', 'Mon Dec 06 17:22:42 +0000 2021', '2', 'RT @detikcom: Indikator Politik Indonesia merilis survei soal warga yang tidak setuju PPKM diperpanjang meskipun bisa menurunkan kasus hari…'], ['1.47E+18', 'negative', 'Mon Dec 06 17:33:06 +0000 2021', '2', 'RT @detikcom: Indikator Politik Indonesia merilis survei soal warga yang tidak setuju PPKM diperpanjang meskipun bisa menurunkan kasus hari…'], ['1.47E+18', 'negative', 'Mon Dec 06 23:58:18 +0000 2021', '0', 'Boleh wisata tapi nggak boleh cuti 😭 https://t.co/LTNAQNnuop'], ['1.47E+18', 'negative', 'Tue Dec 07 00:20:04 +0000 2021', '0', '@CNNIndonesia @TintinSetiadi04 Sangat setuju sudah jenuh dengar ppkm'], ['1.47E+18', 'negative', 'Tue Dec 07 01:16:04 +0000 2021', '0', '#PPKM nggak ya? Ragu ITU manusiawi tapi peragu problem krisis percaya diri.   #indonesian'], ['1.47E+18', 'negative', 'Tue Dec 07 01:23:42 +0000 2021', '0', '@RieGucciano Setuju Uni, mereka mau berlakukan PPKM level 3 kek level 4 kek di nataru nanti EGP aja!!'], ['1.47E+18', 'negative', 'Tue Dec 07 01:32:05 +0000 2021', '0', 'Batal PPKM lvl 3, banyak yg senang https://t.co/XFCMtaGdN6'], ['1.47E+18', 'negative', 'Tue Dec 07 01:48:23 +0000 2021', '0', '@giyuwiii bilangin ke doi nataru diberlakukan ppkm gitu biar nggak holideiiii'], ['1.47E+18', 'negative', 'Tue Dec 07 01:49:18 +0000 2021', '1', '@tvOneNews Nggak ada pemasukan gede dari Pajak kalau di berlakukan PPKM tersebut, Kas Jeng Bond kritis , Apalagi yang mau libur Natal ke kampung, LN, potensi duitnya gede....'], ['1.47E+18', 'negative', 'Tue Dec 07 02:09:29 +0000 2021', '0', '@tvOneNews iya lah..kl ppkm luhut kan nggak bs kemn2..ntar kl lebaran umat islam..dia tinggal terapkan ppkm..pres wapres wantimpres menteri2 yg islam..mingkem aj tuh..😁😁'], ['1.47E+18', 'negative', 'Tue Dec 07 02:16:26 +0000 2021', '0', 'PPKM Level 1 Non Jawa-Bali: Nongkrong Enggak Bebas-bebas Amat https://t.co/DfFQwoYD0W'], ['1.47E+18', 'negative', 'Tue Dec 07 02:18:08 +0000 2021', '0', 'Udah begini mah nggak ngaruh mau PPKM, mau nggak. Biarin gue istirahat aja sepulang kerja. https://t.co/zzFFhJ8wBO'], ['1.47E+18', 'negative', 'Tue Dec 07 02:46:10 +0000 2021', '0', '@kang_ukki Eh PPKM 3 deh… eh perlu nggak ya? Eh tapi ngeri… ih tapi kan sekarang udah nggak separah kemaren… iya nggak ya? Eh iya deh… eh jangan deh nggak usah… *decision making processs untuk seorang Gemini'], ['1.47E+18', 'negative', 'Tue Dec 07 02:50:52 +0000 2021', '1', 'RT @TerongU72356816: @tvOneNews Nggak ada pemasukan gede dari Pajak kalau di berlakukan PPKM tersebut, Kas Jeng Bond kritis , Apalagi yang…'], ['1.47E+18', 'negative', 'Tue Dec 07 02:55:56 +0000 2021', '0', '@Stevaniehuangg Lawong hari besar lord juga natal masa mau dibatasi dengan PPKM ya ga lah !'], ['1.47E+18', 'negative', 'Tue Dec 07 02:56:00 +0000 2021', '1', 'RT @888_Ops: Kenapa PPKM hanya berlaku ketika menjelang hari besar keagamaan Umat Islam ? Nataru gak berlaku ? https://t.co/jGCLZgwYGO'], ['1.47E+18', 'negative', 'Tue Dec 07 02:56:19 +0000 2021', '156', 'RT @arinafauzia: @schfess Kalo emang mau mencegah mobilitas anak-anak pas libur natal &amp; tahun baru, mending bukan liburnya yg ditunda/dihap…'], ['1.47E+18', 'negative', 'Tue Dec 07 02:56:25 +0000 2021', '156', 'RT @arinafauzia: @schfess Kalo emang mau mencegah mobilitas anak-anak pas libur natal &amp; tahun baru, mending bukan liburnya yg ditunda/dihap…'], ['1.47E+18', 'negative', 'Tue Dec 07 02:56:25 +0000 2021', '2', 'RT @MafiaWasit: Kalau PPKM batal, kenapa SSB Real Madrid, Barca dan Atletico Madrid batal main di JIS? https://t.co/n0G66BCLoy'], ['1.47E+18', 'negative', 'Tue Dec 07 02:56:29 +0000 2021', '0', 'yey ppkm di batalin']]\n"
          ]
        }
      ],
      "source": [
        "link_file = 'https://raw.githubusercontent.com/audit-ti/pjj-pengolahan-data-python/main/05.%20Basic%20Machine%20Learning/use%20case%20ML/dataset-sentimen.csv'\n",
        "with closing(requests.get(link_file, stream=True)) as r:\n",
        "    reader = csv.reader(codecs.iterdecode(r.iter_lines(), 'utf-8'))\n",
        "    datacsv = [n for n in reader][1:]\n",
        "\n",
        "print(datacsv)"
      ]
    },
    {
      "cell_type": "code",
      "execution_count": 48,
      "metadata": {
        "colab": {
          "base_uri": "https://localhost:8080/"
        },
        "id": "jd8YKNdpqc8l",
        "outputId": "ec4afbd1-438f-4bff-bb00-1ed2bf3b6a20"
      },
      "outputs": [
        {
          "output_type": "stream",
          "name": "stdout",
          "text": [
            "[['1.47E+18', 'positive', 'Tue Nov 30 00:00:14 +0000 2021', '31', 'RT @HanifahAndini96: Jakarta blm bebas pandemi meski masuk kategori PPKM Level 1. Kondisi Natal n tahun baru 2022 serta penurunan level DKI…'], ['1.47E+18', 'positive', 'Tue Nov 30 00:01:39 +0000 2021', '0', 'Status PPKM DKI Jakarta Naik ke Level 2 https://t.co/VHC8wZewEr'], ['1.47E+18', 'negative', 'Tue Nov 30 00:01:40 +0000 2021', '0', 'Org² kaya lu nih yg bikin ppkm suka diperpanjang. Parno kebodohan pala Lo, liat berapa banyak org yg udah meninggal gara² nih virus. Kmrin² bukan perkara sepele njir. Vaksin gak ngejamin lo ga kena, bangga bgt Lo ngomong gini?? https://t.co/3ebS0mDThN https://t.co/YjWYcQhUXY'], ['1.47E+18', 'negative', 'Tue Nov 30 00:01:41 +0000 2021', '1549', 'RT @msaid_didu: Sangat lucu alasan mewajibkan PCR utk hambat mobilisasi. Wajibkan PCR jelas utk : 1) memaksa rakyat membeli produk pengusah…'], ['1.47E+18', 'positive', 'Tue Nov 30 00:02:34 +0000 2021', '7', 'RT @Bisniscom: Kasus Covid-19 Rendah, Ini Alasan Pemerintah Perpanjang PPKM Jawa-Bali sampai 13 Desember https://t.co/8gj27Z9KQe'], ['1.47E+18', 'positive', 'Tue Nov 30 00:03:25 +0000 2021', '15', 'RT @CNNIndonesia: Status PPKM DKI Jakarta Naik ke Level 2 https://t.co/WjEY1pp6rm'], ['1.47E+18', 'negative', 'Tue Nov 30 00:04:37 +0000 2021', '0', 'Kita??? Sorry gue mah pake ya. Pake masker udah jadi kebiasaan. Ya pantes aja kalau ppkm di indo ga habis² wong masyarakatnya aja gini. Gamau pake masker tapi gamau ppkm. Puncak komedi https://t.co/vxpdgSoJHb https://t.co/dRAzUNeF9m'], ['1.47E+18', 'negative', 'Tue Nov 30 00:05:28 +0000 2021', '0', '@cintarenjun Aduhh tapi bau bau ppkm'], ['1.47E+18', 'positive', 'Tue Nov 30 00:05:35 +0000 2021', '18', 'RT @kalla_jengking: Wagub DKI Jakarta Ahmad Riza Patria meminta PA 212 mempertimbangkan lagi rencana reuni 212 tersebut meski Jakarta sudah…'], ['1.47E+18', 'positive', 'Tue Nov 30 00:05:58 +0000 2021', '7', 'RT @Bisniscom: Kasus Covid-19 Rendah, Ini Alasan Pemerintah Perpanjang PPKM Jawa-Bali sampai 13 Desember https://t.co/8gj27Z9KQe']]\n"
          ]
        }
      ],
      "source": [
        "print(datacsv[:10])"
      ]
    },
    {
      "cell_type": "markdown",
      "metadata": {
        "id": "2oY616QunJu_"
      },
      "source": [
        "### Tokenisasi"
      ]
    },
    {
      "cell_type": "markdown",
      "metadata": {
        "id": "wOOhnJ20nYAI"
      },
      "source": [
        "#### Regex untuk tokenisasi"
      ]
    },
    {
      "cell_type": "code",
      "execution_count": 49,
      "metadata": {
        "id": "R0-CNjFPBuvF"
      },
      "outputs": [],
      "source": [
        "import re"
      ]
    },
    {
      "cell_type": "code",
      "execution_count": 50,
      "metadata": {
        "id": "rUID60DQqstb"
      },
      "outputs": [],
      "source": [
        "emoticons_str = r\"\"\"\n",
        "    (?:\n",
        "        [:=;] # Eyes\n",
        "        [oO\\-]? # Nose (optional)\n",
        "        [D\\)\\]\\(\\]/\\\\OpP] # Mouth\n",
        "    )\"\"\"\n",
        "regex_str = []\n",
        "regex_str.append(emoticons_str)\n",
        "regex_str.append(r'<[^>]+>')# HTML tags\n",
        "regex_str.append(r'(?:@[\\w_]+)')# @-mentions\n",
        "regex_str.append(r'(?:&[\\w_]+)')\n",
        "regex_str.append(r\"(?:\\#+[\\w_]+[\\w\\'_\\-]*[\\w_]+)\") # hash-tags\n",
        "regex_str.append(r'http[s]?://(?:[a-z]|[0-9]|[$-_@.&amp;+]|[!*\\(\\),]|(?:%[0-9a-f][0-9a-f]))+') # URLs\n",
        "regex_str.append(r'(?:(?:\\d+,?)+(?:\\.?\\d+)?)') # numbers\n",
        "regex_str.append(r\"(?:[a-z][a-z'\\-_]+[a-z])\") # words with - and '\n",
        "regex_str.append(r'(?:[\\w_]+)') # other words\n",
        "regex_str.append(r'(?:\\S)') # anything else\n",
        "\n",
        "tokens_re = re.compile(r'('+'|'.join(regex_str)+')', re.VERBOSE | re.IGNORECASE)\n",
        "emoticon_re = re.compile(r'^'+emoticons_str+'$', re.VERBOSE | re.IGNORECASE)"
      ]
    },
    {
      "cell_type": "code",
      "execution_count": 51,
      "metadata": {
        "id": "fk2Z7i2KnsLY"
      },
      "outputs": [],
      "source": [
        "def tokenize(s):\n",
        "    tokens = tokens_re.findall(s)\n",
        "    return tokens"
      ]
    },
    {
      "cell_type": "code",
      "execution_count": 52,
      "metadata": {
        "colab": {
          "base_uri": "https://localhost:8080/"
        },
        "id": "BtnrqVqSoF_U",
        "outputId": "80b29c1b-5577-47af-b719-81dff35b5f92"
      },
      "outputs": [
        {
          "output_type": "stream",
          "name": "stdout",
          "text": [
            "[['RT', '@HanifahAndini96', ':', 'Jakarta', 'blm', 'bebas', 'pandemi', 'meski', 'masuk', 'kategori', 'PPKM', 'Level', '1', '.', 'Kondisi', 'Natal', 'n', 'tahun', 'baru', '2022', 'serta', 'penurunan', 'level', 'DKI', '…'], ['Status', 'PPKM', 'DKI', 'Jakarta', 'Naik', 'ke', 'Level', '2', 'https://t.co/VHC8wZewEr'], ['Org', '²', 'kaya', 'lu', 'nih', 'yg', 'bikin', 'ppkm', 'suka', 'diperpanjang', '.', 'Parno', 'kebodohan', 'pala', 'Lo', ',', 'liat', 'berapa', 'banyak', 'org', 'yg', 'udah', 'meninggal', 'gara', '²', 'nih', 'virus', '.', 'Kmrin', '²', 'bukan', 'perkara', 'sepele', 'njir', '.', 'Vaksin', 'gak', 'ngejamin', 'lo', 'ga', 'kena', ',', 'bangga', 'bgt', 'Lo', 'ngomong', 'gini', '?', '?', 'https://t.co/3ebS0mDThN', 'https://t.co/YjWYcQhUXY'], ['RT', '@msaid_didu', ':', 'Sangat', 'lucu', 'alasan', 'mewajibkan', 'PCR', 'utk', 'hambat', 'mobilisasi', '.', 'Wajibkan', 'PCR', 'jelas', 'utk', ':', '1', ')', 'memaksa', 'rakyat', 'membeli', 'produk', 'pengusah', '…'], ['RT', '@Bisniscom', ':', 'Kasus', 'Covid', '-', '19', 'Rendah', ',', 'Ini', 'Alasan', 'Pemerintah', 'Perpanjang', 'PPKM', 'Jawa-Bali', 'sampai', '13', 'Desember', 'https://t.co/8gj27Z9KQe']]\n"
          ]
        }
      ],
      "source": [
        "tokens = []\n",
        "for c in datacsv:\n",
        "    tokens.append(tokenize(c[4]))\n",
        "\n",
        "print(tokens[:5])"
      ]
    },
    {
      "cell_type": "markdown",
      "metadata": {
        "id": "b_s9uahoneyv"
      },
      "source": [
        "#### Stop Word Removal"
      ]
    },
    {
      "cell_type": "code",
      "execution_count": 53,
      "metadata": {
        "id": "QLPbP-o2xzHf"
      },
      "outputs": [],
      "source": [
        "stopword = StopWord() "
      ]
    },
    {
      "cell_type": "code",
      "execution_count": 54,
      "metadata": {
        "id": "iYQWhGLhxiXy"
      },
      "outputs": [],
      "source": [
        "punctuation = list(string.punctuation)\n",
        "stop = stopword.get_stopword() + punctuation + ['rt', 'via', '…','•','“']"
      ]
    },
    {
      "cell_type": "code",
      "execution_count": 55,
      "metadata": {
        "id": "2RVT_JKWn6er"
      },
      "outputs": [],
      "source": [
        "# Fungsi untuk melakukan stop word removal\n",
        "def cleanTweet(token,regex):\n",
        "    terms_all = [emoji.demojize(term) for term in token if term.lower() not in stop and not regex.match(term)]\n",
        "    return terms_all"
      ]
    },
    {
      "cell_type": "code",
      "execution_count": 56,
      "metadata": {
        "id": "8ScdIRJLaeg0"
      },
      "outputs": [],
      "source": [
        "exclude_str = []\n",
        "exclude_str.append(emoticons_str)\n",
        "exclude_str.append(r'<[^>]+>')# HTML tags\n",
        "exclude_str.append(r'(?:@[\\w_]+)')# @-mentions\n",
        "exclude_str.append(r'(?:&[\\w_]+)')\n",
        "exclude_str.append(r\"(?:\\#+[\\w_]+[\\w\\'_\\-]*[\\w_]+)\") # hash-tags\n",
        "exclude_str.append(r'http[s]?://(?:[a-z]|[0-9]|[$-_@.&amp;+]|[!*\\(\\),]|(?:%[0-9a-f][0-9a-f]))+') # URLs\n",
        "exclude_str.append(r'(?:(?:\\d+,?)+(?:\\.?\\d+)?)') # numbers\n",
        "exclude_str.append(r'(\\b[a-zA-Z0-9]{2,3}\\b)') # numbers\n",
        "\n",
        "exclude_re = re.compile(r'('+'|'.join(exclude_str)+')', re.VERBOSE | re.IGNORECASE)"
      ]
    },
    {
      "cell_type": "code",
      "execution_count": 57,
      "metadata": {
        "colab": {
          "base_uri": "https://localhost:8080/"
        },
        "id": "2ELLqXEIaitR",
        "outputId": "213bf928-9bef-4cbe-ab95-8c69bb451603"
      },
      "outputs": [
        {
          "output_type": "stream",
          "name": "stdout",
          "text": [
            "[('ppkm', 414), ('level', 139), ('covid', 101), ('dukung', 85), ('jalan', 82), ('keselamatan', 79), ('rangka', 70), ('kampanye', 66), ('subang', 64), ('pembagian', 60), ('giat', 58), ('prokes', 52), ('nggak', 51), ('pemerintah', 50), ('mendukung', 45), ('masker', 44), ('kebijakan', 39), ('pengguna', 35), ('vaksinasi', 33), ('masyarakat', 31), ('libur', 30), ('kalo', 29), ('pandemi', 28), ('otista', 28), ('setuju', 27), ('lonjakan', 26), ('penerapan', 24), ('lintas', 24), ('penanganan', 24), ('natal', 23), ('anak', 23), ('aturan', 23), ('desember', 22), ('menerapkan', 22), ('upaya', 22), ('penuh', 21), ('kasih', 21), ('k', 20), ('lawan', 20), (':loudly_crying_face:', 19), ('tertib', 18), ('sepeda', 18), ('motor', 18), ('bersatu', 18), ('menghalau', 18), ('helm', 17), ('indonesia', 17), ('tutup', 17), ('omicron', 17), ('seneng', 15), ('mencegah', 15), ('kebodohan', 14), ('nataru', 14), ('gila', 14), ('snack', 14), ('gratis', 14), ('dibonceng', 14), ('orang', 13), ('gelombang', 13), ('kesehatan', 12), ('hakim', 12), ('²', 11), ('diperpanjang', 11), ('daerah', 11), ('paket', 11), ('border', 11), ('perketat', 11), ('perbatasan', 11), ('tingkatkan', 11), ('teruslah', 11), ('smntr', 11), ('jakarta', 10), ('biar', 10), ('kegiatan', 10), ('sekolah', 10), ('arief', 10), ('rahman', 10), ('pertigaan', 10), ('pablo', 10), ('masuk', 9), ('kerja', 9), ('dukungan', 9), ('t', 9), ('herd', 9), ('vaksin', 8), ('aman', 8), (':face_with_tears_of_joy:', 8), ('ekonomi', 8), ('varian', 8), ('kesel', 8), ('bagus', 8), ('enggak', 8), ('liburan', 8), ('wisma', 8), ('karya', 8), ('perpanjangan', 8), ('', 7), ('melaksanakan', 7), ('pemberlakuan', 7), ('penyebaran', 7)]\n"
          ]
        }
      ],
      "source": [
        "# Menghitung frekwensi kata\n",
        "all_word=[]\n",
        "from collections import Counter\n",
        "count_all = Counter()\n",
        "for token in tokens:\n",
        "    cleanToken = cleanTweet(token,exclude_re)\n",
        "    terms_all = [term.lower() for term in cleanToken]\n",
        "    count_all.update(terms_all)\n",
        "    for w in terms_all:\n",
        "        all_word.append(w)\n",
        "print(count_all.most_common(100))"
      ]
    },
    {
      "cell_type": "code",
      "execution_count": 58,
      "metadata": {
        "colab": {
          "base_uri": "https://localhost:8080/"
        },
        "id": "BKNahtLAgC_Y",
        "outputId": "5023fe66-d691-4202-fecf-a17b734e32fb"
      },
      "outputs": [
        {
          "output_type": "execute_result",
          "data": {
            "text/plain": [
              "4802"
            ]
          },
          "metadata": {},
          "execution_count": 58
        }
      ],
      "source": [
        "len(all_word)"
      ]
    },
    {
      "cell_type": "markdown",
      "metadata": {
        "id": "zhvk4H55qPc3"
      },
      "source": [
        "#### Lemmatisasi (Mengambil kata dasar)"
      ]
    },
    {
      "cell_type": "code",
      "execution_count": 59,
      "metadata": {
        "id": "d3R1M8rSjAuA"
      },
      "outputs": [],
      "source": [
        "lemmatizer = Lemmatizer()"
      ]
    },
    {
      "cell_type": "code",
      "execution_count": 60,
      "metadata": {
        "id": "dferDa2yjQqM"
      },
      "outputs": [],
      "source": [
        "all_stmword = [lemmatizer.lemmatize(w) for w in all_word]"
      ]
    },
    {
      "cell_type": "code",
      "execution_count": 61,
      "metadata": {
        "colab": {
          "base_uri": "https://localhost:8080/"
        },
        "id": "MvwOEI9dkHgZ",
        "outputId": "0ae10fe8-66ab-4bb4-dac5-859a8cba1082"
      },
      "outputs": [
        {
          "output_type": "stream",
          "name": "stdout",
          "text": [
            "['jakarta', 'bebas', 'pandemi', 'masuk', 'kategori', 'ppkm', 'level', 'kondisi', 'natal', 'n', 'turun', 'level', 'status', 'ppkm', 'jakarta', 'level', '', 'kaya', 'bikin', 'ppkm', 'suka', 'panjang', 'parno', 'bodoh', 'pala', 'liat', 'tinggal', 'gara', '', 'virus', 'kmrin', '', 'perkara', 'sepele', 'njir', 'vaksin', 'ngejamin', 'kena', 'bangga', 'ngomong', 'gin', 'lucu', 'alas', 'wajib', 'hambat', 'mobilisasi', 'wajib', 'paksa', 'rakyat', 'beli', 'produk', 'usah', 'covid', 'rendah', 'alas', 'perintah', 'panjang', 'ppkm', 'jawa-bali', 'desember', 'status', 'ppkm', 'jakarta', 'level', 'sorry', 'pake', 'pake', 'masker', 'biasa', 'pantes', 'ppkm', 'indo', 'habis', '', 'wong', 'masyarakat', 'gin', 'gamau', 'pake', 'masker', 'gamau', 'ppkm', 'puncak', 'komedi', 'aduhh', 'ppkm', 'wagub', 'jakarta', 'ahmad', 'riza', 'patria', 'timbang', 'rencana', 'reuni', 'jakarta', 'covid', 'rendah', 'alas', 'perintah', 'panjang']\n"
          ]
        }
      ],
      "source": [
        "print(all_stmword[:100])"
      ]
    },
    {
      "cell_type": "code",
      "execution_count": 62,
      "metadata": {
        "colab": {
          "base_uri": "https://localhost:8080/"
        },
        "id": "6sAi3U5QhRIX",
        "outputId": "4fcd31cc-49a5-4b82-bd97-048be31062a3"
      },
      "outputs": [
        {
          "output_type": "stream",
          "name": "stdout",
          "text": [
            "sejuk\n"
          ]
        }
      ],
      "source": [
        "print(lemmatizer.lemmatize('menyejukan'))"
      ]
    },
    {
      "cell_type": "code",
      "execution_count": 63,
      "metadata": {
        "colab": {
          "base_uri": "https://localhost:8080/"
        },
        "id": "e0zrxAiSRiQl",
        "outputId": "c341c424-7e5c-43ce-af49-d9514f19a4f3"
      },
      "outputs": [
        {
          "output_type": "execute_result",
          "data": {
            "text/plain": [
              "4802"
            ]
          },
          "metadata": {},
          "execution_count": 63
        }
      ],
      "source": [
        "len(all_stmword)"
      ]
    },
    {
      "cell_type": "markdown",
      "metadata": {
        "id": "rtwKHLhkqw3e"
      },
      "source": [
        "#### POS Tagging"
      ]
    },
    {
      "cell_type": "code",
      "execution_count": 64,
      "metadata": {
        "id": "vm4Ozs47qf7z"
      },
      "outputs": [],
      "source": [
        "postagger = PosTag() "
      ]
    },
    {
      "cell_type": "code",
      "execution_count": 65,
      "metadata": {
        "id": "563___NHo0P0"
      },
      "outputs": [],
      "source": [
        "pos = [postagger.get_pos_tag(w)[0] for w in all_stmword if len(postagger.get_pos_tag(w))>0]"
      ]
    },
    {
      "cell_type": "code",
      "execution_count": 66,
      "metadata": {
        "colab": {
          "base_uri": "https://localhost:8080/"
        },
        "id": "9erizIZypKK_",
        "outputId": "cb693c46-e1d8-496f-e543-907d8be7ed24"
      },
      "outputs": [
        {
          "output_type": "stream",
          "name": "stdout",
          "text": [
            "[('jakarta', 'NNP'), ('bebas', 'JJ'), ('pandemi', 'VB'), ('masuk', 'VB'), ('kategori', 'NN'), ('ppkm', 'NN'), ('level', 'NN'), ('kondisi', 'NN'), ('natal', 'NN'), ('n', 'NN')]\n"
          ]
        }
      ],
      "source": [
        "print(pos[:10])"
      ]
    },
    {
      "cell_type": "code",
      "execution_count": 67,
      "metadata": {
        "id": "QBM8LJfNphaX"
      },
      "outputs": [],
      "source": [
        "allowed_word_types = [\"ADV\",\"JJ\",\"ADJP\",\"VB\"]\n",
        "allowed_words=[w[0] for w in pos if w[1] in allowed_word_types]"
      ]
    },
    {
      "cell_type": "code",
      "execution_count": 68,
      "metadata": {
        "colab": {
          "base_uri": "https://localhost:8080/"
        },
        "id": "1kqj8_x_p40o",
        "outputId": "0daff65b-39fa-4972-e5bd-d472bdbb4241"
      },
      "outputs": [
        {
          "output_type": "stream",
          "name": "stdout",
          "text": [
            "['bebas', 'pandemi', 'masuk', 'turun', 'kaya', 'bikin', 'suka', 'panjang', 'liat', 'tinggal', 'sepele', 'kena', 'bangga', 'ngomong', 'lucu', 'wajib', 'wajib', 'paksa', 'beli', 'usah', 'rendah', 'panjang', 'jawa-bali', 'biasa', 'habis', 'rendah', 'panjang', 'jawa-bali', 'bebas', 'pandemi', 'masuk', 'turun', 'bebas', 'pandemi', 'masuk', 'turun', 'jawa-bali', 'panjang', 'tertib', 'tuju', 'biar', 'rendah', 'panjang', 'jawa-bali', 'turun', 'tenang', 'aman', 'nikah', 'sederhana', 'dekat', 'dianjurinnya', 'sederhana', 'tentu', 'dukung', 'keras', 'umum', 'bijak', 'super', 'ketat', 'bilang', 'bilang', 'bilang', 'sampe', 'terima', 'turun', 'tenang', 'aman', 'turun', 'tenang', 'aman', 'turun', 'tenang', 'aman', 'muktamar', 'optimal', 'dukung', 'terap', 'selamat', 'selamat', 'selamat', 'selamat', 'selamat', 'selamat', 'selamat', 'selamat', 'selamat', 'selamat', 'tertib', 'main', 'selamat', 'tertib', 'main', 'selamat', 'selamat', 'selamat', 'selamat', 'selamat', 'selamat', 'selamat', 'selamat']\n"
          ]
        }
      ],
      "source": [
        "print(allowed_words[:100])"
      ]
    },
    {
      "cell_type": "code",
      "execution_count": 69,
      "metadata": {
        "colab": {
          "base_uri": "https://localhost:8080/"
        },
        "id": "l3gX1utsRxJl",
        "outputId": "b930aa55-acd5-4b8d-d550-812ee1d97ac2"
      },
      "outputs": [
        {
          "output_type": "execute_result",
          "data": {
            "text/plain": [
              "1168"
            ]
          },
          "metadata": {},
          "execution_count": 69
        }
      ],
      "source": [
        "len(allowed_words)"
      ]
    },
    {
      "cell_type": "markdown",
      "metadata": {
        "id": "2ottxSG0rBaH"
      },
      "source": [
        "### Bag of Words"
      ]
    },
    {
      "cell_type": "markdown",
      "metadata": {
        "id": "W1tFC494rOhQ"
      },
      "source": [
        "#### Frekwensi Kemunculan Kata"
      ]
    },
    {
      "cell_type": "code",
      "execution_count": 70,
      "metadata": {
        "colab": {
          "base_uri": "https://localhost:8080/"
        },
        "id": "OiXyl9lrsA4i",
        "outputId": "c0ca07a3-80fc-4b7e-eb65-3efd0d9da64c"
      },
      "outputs": [
        {
          "output_type": "stream",
          "name": "stdout",
          "text": [
            "['dukung', 'selamat', 'terap', 'bijak', 'tuju', 'pandemi', 'atur', 'panjang', 'penuh', 'lawan', 'tertib', 'tutup', 'ketat', 'gila', 'gratis', 'masuk', 'sehat', 'turun', 'tuslah', 'biar', 'main', 'bagus', 'jaga', 'aman', 'butuh', 'cepat', 'sukses', 'januari', 'cuti', 'sampe', 'salah', 'nasional', 'tetep', 'bikin', 'kena', 'jawa-bali', 'pulih', 'jelang', 'takut', 'beaming', 'enak', 'sedih', 'mari', 'bebas', 'liat', 'tenang', 'bilang', 'muktamar', 'coba', 'kendali', 'tekan', 'pergi', 'kuat', 'polri', 'patroli', 'tetap', 'kaya', 'beli', 'rendah', 'optimal', 'putus', 'mulu', 'ajak', 'resmi', 'nongki', 'tahan', 'trus', 'pulang', 'bener', 'misuh', 'mending', 'tunai', 'jenuh', 'darurat', 'sumpah', 'makan', 'masak', 'senang', 'alami', 'terminal', 'transit', 'sesuai', 'ungkap', 'besar', 'sekitar', 'menghimbau', 'rilis', 'suka', 'tinggal', 'ngomong', 'wajib', 'habis', 'sederhana', 'satlantas', 'berlalulintas', 'mudah', 'cari', 'sambut', 'ambil', 'asli']\n"
          ]
        }
      ],
      "source": [
        "#Menyusun distribusi kata berdasarkan kemunculannya\n",
        "allwords = nltk.FreqDist(allowed_words)\n",
        "\n",
        "#Mengambil 1000 pertama dari distribusi kata berdasarkan frekwensi kemunculannya \n",
        "tuple_features = list(allwords.most_common())[:1000]\n",
        "word_features = [k for (k,v) in tuple_features]\n",
        "#Memeriksa word_features\n",
        "print(word_features[:100])"
      ]
    },
    {
      "cell_type": "code",
      "execution_count": 71,
      "metadata": {
        "colab": {
          "base_uri": "https://localhost:8080/"
        },
        "id": "_Nyb2ejt9QMF",
        "outputId": "c69db256-9d8d-4eae-d7cb-e3b63366293a"
      },
      "outputs": [
        {
          "output_type": "execute_result",
          "data": {
            "text/plain": [
              "[('dukung', 142),\n",
              " ('selamat', 80),\n",
              " ('terap', 48),\n",
              " ('bijak', 39),\n",
              " ('tuju', 29),\n",
              " ('pandemi', 28),\n",
              " ('atur', 27),\n",
              " ('panjang', 24),\n",
              " ('penuh', 21),\n",
              " ('lawan', 21),\n",
              " ('tertib', 18),\n",
              " ('tutup', 17),\n",
              " ('ketat', 15),\n",
              " ('gila', 15),\n",
              " ('gratis', 14),\n",
              " ('masuk', 12),\n",
              " ('sehat', 12),\n",
              " ('turun', 11),\n",
              " ('tuslah', 11),\n",
              " ('biar', 10),\n",
              " ('main', 10),\n",
              " ('bagus', 9),\n",
              " ('jaga', 9),\n",
              " ('aman', 8),\n",
              " ('butuh', 8),\n",
              " ('cepat', 8),\n",
              " ('sukses', 7),\n",
              " ('januari', 7),\n",
              " ('cuti', 7),\n",
              " ('sampe', 6),\n",
              " ('salah', 6),\n",
              " ('nasional', 6),\n",
              " ('tetep', 6),\n",
              " ('bikin', 5),\n",
              " ('kena', 5),\n",
              " ('jawa-bali', 5),\n",
              " ('pulih', 5),\n",
              " ('jelang', 5),\n",
              " ('takut', 5),\n",
              " ('beaming', 5),\n",
              " ('enak', 5),\n",
              " ('sedih', 5),\n",
              " ('mari', 5),\n",
              " ('bebas', 4),\n",
              " ('liat', 4),\n",
              " ('tenang', 4),\n",
              " ('bilang', 4),\n",
              " ('muktamar', 4),\n",
              " ('coba', 4),\n",
              " ('kendali', 4),\n",
              " ('tekan', 4),\n",
              " ('pergi', 4),\n",
              " ('kuat', 4),\n",
              " ('polri', 4),\n",
              " ('patroli', 4),\n",
              " ('tetap', 4),\n",
              " ('kaya', 3),\n",
              " ('beli', 3),\n",
              " ('rendah', 3),\n",
              " ('optimal', 3),\n",
              " ('putus', 3),\n",
              " ('mulu', 3),\n",
              " ('ajak', 3),\n",
              " ('resmi', 3),\n",
              " ('nongki', 3),\n",
              " ('tahan', 3),\n",
              " ('trus', 3),\n",
              " ('pulang', 3),\n",
              " ('bener', 3),\n",
              " ('misuh', 3),\n",
              " ('mending', 3),\n",
              " ('tunai', 3),\n",
              " ('jenuh', 3),\n",
              " ('darurat', 3),\n",
              " ('sumpah', 3),\n",
              " ('makan', 3),\n",
              " ('masak', 3),\n",
              " ('senang', 3),\n",
              " ('alami', 3),\n",
              " ('terminal', 3),\n",
              " ('transit', 3),\n",
              " ('sesuai', 3),\n",
              " ('ungkap', 3),\n",
              " ('besar', 3),\n",
              " ('sekitar', 3),\n",
              " ('menghimbau', 3),\n",
              " ('rilis', 3),\n",
              " ('suka', 2),\n",
              " ('tinggal', 2),\n",
              " ('ngomong', 2),\n",
              " ('wajib', 2),\n",
              " ('habis', 2),\n",
              " ('sederhana', 2),\n",
              " ('satlantas', 2),\n",
              " ('berlalulintas', 2),\n",
              " ('mudah', 2),\n",
              " ('cari', 2),\n",
              " ('sambut', 2),\n",
              " ('ambil', 2),\n",
              " ('asli', 2),\n",
              " ('adil', 2),\n",
              " ('kristiani', 2),\n",
              " ('melulu', 2),\n",
              " ('timbul', 2),\n",
              " ('gimana', 2),\n",
              " ('pendek', 2),\n",
              " ('selesai', 2),\n",
              " ('uji', 2),\n",
              " ('online', 2),\n",
              " ('tunggu', 2),\n",
              " ('dibatasin', 2),\n",
              " ('susah', 2),\n",
              " ('lempar', 2),\n",
              " ('pikir', 2),\n",
              " ('juli', 2),\n",
              " ('sibuk', 2),\n",
              " ('papa', 2),\n",
              " ('efektif', 2),\n",
              " ('suruh', 2),\n",
              " ('tptpu', 2),\n",
              " ('bingung', 2),\n",
              " ('ganti', 2),\n",
              " ('seri', 2),\n",
              " ('reaktif', 2),\n",
              " ('sepakat', 2),\n",
              " ('rantai', 2),\n",
              " ('gampang', 2),\n",
              " ('harap', 2),\n",
              " ('serius', 2),\n",
              " ('suai', 2),\n",
              " ('capai', 2),\n",
              " ('baik', 2),\n",
              " ('dorong', 2),\n",
              " ('kurang', 2),\n",
              " ('ragu', 2),\n",
              " ('kritis', 2),\n",
              " ('sepele', 1),\n",
              " ('bangga', 1),\n",
              " ('lucu', 1),\n",
              " ('paksa', 1),\n",
              " ('usah', 1),\n",
              " ('biasa', 1),\n",
              " ('nikah', 1),\n",
              " ('dekat', 1),\n",
              " ('dianjurinnya', 1),\n",
              " ('tentu', 1),\n",
              " ('keras', 1),\n",
              " ('umum', 1),\n",
              " ('super', 1),\n",
              " ('terima', 1),\n",
              " ('sangkut', 1),\n",
              " ('lupa', 1),\n",
              " ('tayang', 1),\n",
              " ('diem', 1),\n",
              " ('nonton', 1),\n",
              " ('jauh', 1),\n",
              " ('smoga', 1),\n",
              " ('etapi', 1),\n",
              " ('tabung', 1),\n",
              " ('pasca', 1),\n",
              " ('sendiri', 1),\n",
              " ('normal', 1),\n",
              " ('mbak', 1),\n",
              " ('ramai', 1),\n",
              " ('lepas', 1),\n",
              " ('lelah', 1),\n",
              " ('pindah', 1),\n",
              " ('miss', 1),\n",
              " ('pangkas', 1),\n",
              " ('tantang', 1),\n",
              " ('rangkum', 1),\n",
              " ('mentungi', 1),\n",
              " ('tindak', 1),\n",
              " ('depan', 1),\n",
              " ('esensi', 1),\n",
              " ('gerak', 1),\n",
              " ('surut', 1),\n",
              " ('terget', 1),\n",
              " ('murah', 1),\n",
              " ('serasa', 1),\n",
              " ('mnghargai', 1),\n",
              " ('muslim', 1),\n",
              " ('balik', 1),\n",
              " ('fitri', 1),\n",
              " ('diginiin', 1),\n",
              " ('sblmnya', 1),\n",
              " ('musisi', 1),\n",
              " ('manggung', 1),\n",
              " ('silah', 1),\n",
              " ('etdah', 1),\n",
              " ('dada', 1),\n",
              " ('dibubarin', 1),\n",
              " ('ngerti', 1),\n",
              " ('woiii', 1),\n",
              " ('sudab', 1),\n",
              " ('gaada', 1),\n",
              " ('mean', 1),\n",
              " ('dipikirin', 1),\n",
              " ('brbagai', 1),\n",
              " ('kerjasama', 1),\n",
              " ('trutama', 1),\n",
              " ('hebat', 1),\n",
              " ('september', 1),\n",
              " ('ngajakin', 1),\n",
              " ('teori', 1),\n",
              " ('utama', 1),\n",
              " ('mallnya', 1),\n",
              " ('berlakuin', 1),\n",
              " ('diapus', 1),\n",
              " ('sinergi', 1),\n",
              " ('takenya', 1),\n",
              " ('mutasi', 1),\n",
              " ('bisa', 1),\n",
              " ('disekolahin', 1),\n",
              " ('surah', 1),\n",
              " ('simak', 1),\n",
              " ('benci', 1),\n",
              " ('kecewa', 1),\n",
              " ('dapet', 1),\n",
              " ('maksod', 1),\n",
              " ('bejibun', 1),\n",
              " ('juni', 1),\n",
              " ('terbang', 1),\n",
              " ('mamak', 1),\n",
              " ('preventif', 1),\n",
              " ('muncul', 1),\n",
              " ('datang', 1),\n",
              " ('pasif', 1),\n",
              " ('metik', 1),\n",
              " ('tunjukin', 1),\n",
              " ('bayar', 1),\n",
              " ('baksinasi', 1),\n",
              " ('jarak', 1),\n",
              " ('digituin', 1),\n",
              " ('produktif', 1),\n",
              " ('tumpuk', 1),\n",
              " ('pas', 1),\n",
              " ('this', 1),\n",
              " ('happiness', 1),\n",
              " ('memories', 1),\n",
              " ('mateng', 1),\n",
              " ('gagal', 1),\n",
              " ('adakan', 1),\n",
              " ('kepri', 1),\n",
              " ('inget', 1),\n",
              " ('suzuki', 1),\n",
              " ('ngopi', 1),\n",
              " ('setiabudi', 1),\n",
              " ('belah', 1),\n",
              " ('metong', 1),\n",
              " ('basi', 1),\n",
              " ('internal', 1),\n",
              " ('banci', 1),\n",
              " ('sering', 1),\n",
              " ('lanjut', 1),\n",
              " ('negatif', 1),\n",
              " ('sadar', 1),\n",
              " ('dibhongin', 1),\n",
              " ('marah', 1),\n",
              " ('langka', 1),\n",
              " ('walafiat', 1),\n",
              " ('rusak', 1),\n",
              " ('cahari', 1),\n",
              " ('hidup', 1),\n",
              " ('logistik', 1),\n",
              " ('jokowi', 1),\n",
              " ('keluar', 1),\n",
              " ('ringan', 1),\n",
              " ('bener-bener', 1),\n",
              " ('muntah', 1),\n",
              " ('nyuri', 1),\n",
              " ('haram', 1),\n",
              " ('ngiri', 1),\n",
              " ('duka', 1),\n",
              " ('lambat', 1),\n",
              " ('phri', 1),\n",
              " ('longgar', 1),\n",
              " ('pakai', 1),\n",
              " ('lansung', 1),\n",
              " ('ubah', 1),\n",
              " ('peduli', 1),\n",
              " ('tawangsari', 1),\n",
              " ('tanggulang', 1),\n",
              " ('ditingkatin', 1),\n",
              " ('sama', 1),\n",
              " ('dikmas', 1),\n",
              " ('menko', 1),\n",
              " ('muhadjir', 1),\n",
              " ('mensukseskan', 1),\n",
              " ('gada', 1),\n",
              " ('seengganya', 1),\n",
              " ('deket', 1),\n",
              " ('tahu', 1),\n",
              " ('daki', 1),\n",
              " ('maksimal', 1),\n",
              " ('siap', 1),\n",
              " ('mundur', 1),\n",
              " ('meminimalisir', 1),\n",
              " ('optimis', 1),\n",
              " ('nyata', 1),\n",
              " ('miskin', 1),\n",
              " ('lapar', 1),\n",
              " ('disetting', 1),\n",
              " ('seriously', 1),\n",
              " ('waspada', 1),\n",
              " ('diketatin', 1),\n",
              " ('jahat', 1),\n",
              " ('bunuh', 1),\n",
              " ('aneh', 1),\n",
              " ('jual', 1),\n",
              " ('maldini', 1),\n",
              " ('mensesneg', 1),\n",
              " ('dengar', 1),\n",
              " ('manusiawi', 1),\n",
              " ('percaya', 1),\n",
              " ('holideiiii', 1),\n",
              " ('biarin', 1),\n",
              " ('ngeri', 1),\n",
              " ('parah', 1),\n",
              " ('lawong', 1)]"
            ]
          },
          "metadata": {},
          "execution_count": 71
        }
      ],
      "source": [
        "tuple_features"
      ]
    },
    {
      "cell_type": "markdown",
      "metadata": {
        "id": "RKc0CTQdSkTN"
      },
      "source": [
        "#### Membentuk Featureset"
      ]
    },
    {
      "cell_type": "code",
      "execution_count": 72,
      "metadata": {
        "id": "55ccM5iSsPhs"
      },
      "outputs": [],
      "source": [
        "# Membentuk list dokumen dan labelnya\n",
        "document=[]\n",
        "for w in datacsv:\n",
        "  document.append((w[4],w[1]))"
      ]
    },
    {
      "cell_type": "code",
      "execution_count": 73,
      "metadata": {
        "id": "ehox-Si5svCq"
      },
      "outputs": [],
      "source": [
        "# Fungsi untuk membentuk bag of words\n",
        "def find_features(document):\n",
        "    words = tokenize(document)\n",
        "    words = cleanTweet(words,exclude_re)\n",
        "    words = [lemmatizer.lemmatize(w) for w in words]\n",
        "    features = {}\n",
        "    for w in word_features:\n",
        "        features[w] = (w in words)\n",
        "    return features"
      ]
    },
    {
      "cell_type": "code",
      "execution_count": 74,
      "metadata": {
        "colab": {
          "base_uri": "https://localhost:8080/"
        },
        "id": "sP57NoPOszke",
        "outputId": "4440d78f-f5d4-4f68-87c9-23d82d3eeaba"
      },
      "outputs": [
        {
          "output_type": "stream",
          "name": "stderr",
          "text": [
            "[nltk_data] Downloading package punkt to /root/nltk_data...\n",
            "[nltk_data]   Package punkt is already up-to-date!\n"
          ]
        }
      ],
      "source": [
        "nltk.download('punkt')\n",
        "featuresets = [(find_features(rev), category) for (rev, category) in document]"
      ]
    },
    {
      "cell_type": "code",
      "execution_count": 75,
      "metadata": {
        "colab": {
          "base_uri": "https://localhost:8080/"
        },
        "id": "9Qoi4JVetAur",
        "outputId": "865acf1a-d34e-4f62-f02b-1a190b52ece6"
      },
      "outputs": [
        {
          "output_type": "stream",
          "name": "stdout",
          "text": [
            "({'dukung': False, 'selamat': False, 'terap': False, 'bijak': False, 'tuju': False, 'pandemi': False, 'atur': False, 'panjang': False, 'penuh': False, 'lawan': False, 'tertib': False, 'tutup': False, 'ketat': False, 'gila': False, 'gratis': False, 'masuk': False, 'sehat': False, 'turun': False, 'tuslah': False, 'biar': False, 'main': False, 'bagus': False, 'jaga': False, 'aman': False, 'butuh': False, 'cepat': False, 'sukses': False, 'januari': False, 'cuti': False, 'sampe': False, 'salah': False, 'nasional': False, 'tetep': False, 'bikin': False, 'kena': False, 'jawa-bali': False, 'pulih': False, 'jelang': False, 'takut': False, 'beaming': False, 'enak': False, 'sedih': False, 'mari': False, 'bebas': False, 'liat': False, 'tenang': False, 'bilang': False, 'muktamar': False, 'coba': False, 'kendali': False, 'tekan': False, 'pergi': False, 'kuat': False, 'polri': False, 'patroli': False, 'tetap': False, 'kaya': False, 'beli': True, 'rendah': False, 'optimal': False, 'putus': False, 'mulu': False, 'ajak': False, 'resmi': False, 'nongki': False, 'tahan': False, 'trus': False, 'pulang': False, 'bener': False, 'misuh': False, 'mending': False, 'tunai': False, 'jenuh': False, 'darurat': False, 'sumpah': False, 'makan': False, 'masak': False, 'senang': False, 'alami': False, 'terminal': False, 'transit': False, 'sesuai': False, 'ungkap': False, 'besar': False, 'sekitar': False, 'menghimbau': False, 'rilis': False, 'suka': False, 'tinggal': False, 'ngomong': False, 'wajib': True, 'habis': False, 'sederhana': False, 'satlantas': False, 'berlalulintas': False, 'mudah': False, 'cari': False, 'sambut': False, 'ambil': False, 'asli': False, 'adil': False, 'kristiani': False, 'melulu': False, 'timbul': False, 'gimana': False, 'pendek': False, 'selesai': False, 'uji': False, 'online': False, 'tunggu': False, 'dibatasin': False, 'susah': False, 'lempar': False, 'pikir': False, 'juli': False, 'sibuk': False, 'papa': False, 'efektif': False, 'suruh': False, 'tptpu': False, 'bingung': False, 'ganti': False, 'seri': False, 'reaktif': False, 'sepakat': False, 'rantai': False, 'gampang': False, 'harap': False, 'serius': False, 'suai': False, 'capai': False, 'baik': False, 'dorong': False, 'kurang': False, 'ragu': False, 'kritis': False, 'sepele': False, 'bangga': False, 'lucu': True, 'paksa': True, 'usah': True, 'biasa': False, 'nikah': False, 'dekat': False, 'dianjurinnya': False, 'tentu': False, 'keras': False, 'umum': False, 'super': False, 'terima': False, 'sangkut': False, 'lupa': False, 'tayang': False, 'diem': False, 'nonton': False, 'jauh': False, 'smoga': False, 'etapi': False, 'tabung': False, 'pasca': False, 'sendiri': False, 'normal': False, 'mbak': False, 'ramai': False, 'lepas': False, 'lelah': False, 'pindah': False, 'miss': False, 'pangkas': False, 'tantang': False, 'rangkum': False, 'mentungi': False, 'tindak': False, 'depan': False, 'esensi': False, 'gerak': False, 'surut': False, 'terget': False, 'murah': False, 'serasa': False, 'mnghargai': False, 'muslim': False, 'balik': False, 'fitri': False, 'diginiin': False, 'sblmnya': False, 'musisi': False, 'manggung': False, 'silah': False, 'etdah': False, 'dada': False, 'dibubarin': False, 'ngerti': False, 'woiii': False, 'sudab': False, 'gaada': False, 'mean': False, 'dipikirin': False, 'brbagai': False, 'kerjasama': False, 'trutama': False, 'hebat': False, 'september': False, 'ngajakin': False, 'teori': False, 'utama': False, 'mallnya': False, 'berlakuin': False, 'diapus': False, 'sinergi': False, 'takenya': False, 'mutasi': False, 'bisa': False, 'disekolahin': False, 'surah': False, 'simak': False, 'benci': False, 'kecewa': False, 'dapet': False, 'maksod': False, 'bejibun': False, 'juni': False, 'terbang': False, 'mamak': False, 'preventif': False, 'muncul': False, 'datang': False, 'pasif': False, 'metik': False, 'tunjukin': False, 'bayar': False, 'baksinasi': False, 'jarak': False, 'digituin': False, 'produktif': False, 'tumpuk': False, 'pas': False, 'this': False, 'happiness': False, 'memories': False, 'mateng': False, 'gagal': False, 'adakan': False, 'kepri': False, 'inget': False, 'suzuki': False, 'ngopi': False, 'setiabudi': False, 'belah': False, 'metong': False, 'basi': False, 'internal': False, 'banci': False, 'sering': False, 'lanjut': False, 'negatif': False, 'sadar': False, 'dibhongin': False, 'marah': False, 'langka': False, 'walafiat': False, 'rusak': False, 'cahari': False, 'hidup': False, 'logistik': False, 'jokowi': False, 'keluar': False, 'ringan': False, 'bener-bener': False, 'muntah': False, 'nyuri': False, 'haram': False, 'ngiri': False, 'duka': False, 'lambat': False, 'phri': False, 'longgar': False, 'pakai': False, 'lansung': False, 'ubah': False, 'peduli': False, 'tawangsari': False, 'tanggulang': False, 'ditingkatin': False, 'sama': False, 'dikmas': False, 'menko': False, 'muhadjir': False, 'mensukseskan': False, 'gada': False, 'seengganya': False, 'deket': False, 'tahu': False, 'daki': False, 'maksimal': False, 'siap': False, 'mundur': False, 'meminimalisir': False, 'optimis': False, 'nyata': False, 'miskin': False, 'lapar': False, 'disetting': False, 'seriously': False, 'waspada': False, 'diketatin': False, 'jahat': False, 'bunuh': False, 'aneh': False, 'jual': False, 'maldini': False, 'mensesneg': False, 'dengar': False, 'manusiawi': False, 'percaya': False, 'holideiiii': False, 'biarin': False, 'ngeri': False, 'parah': False, 'lawong': False}, 'negative')\n"
          ]
        }
      ],
      "source": [
        "print(featuresets[3])"
      ]
    },
    {
      "cell_type": "markdown",
      "metadata": {
        "id": "-3lSaCxxu4bx"
      },
      "source": [
        "### Distribusi Dataset"
      ]
    },
    {
      "cell_type": "code",
      "execution_count": 76,
      "metadata": {
        "id": "a66a6CN-tYBf"
      },
      "outputs": [],
      "source": [
        "lsclass = [category for (rev, category) in document]\n",
        "df_alltrain = pd.DataFrame(lsclass, columns=['class'])"
      ]
    },
    {
      "cell_type": "code",
      "execution_count": 77,
      "metadata": {
        "colab": {
          "base_uri": "https://localhost:8080/",
          "height": 384
        },
        "id": "RZP3CxG0uDkF",
        "outputId": "e9c2e8c0-4d4b-45e3-f92f-8a3c26c99742"
      },
      "outputs": [
        {
          "output_type": "stream",
          "name": "stderr",
          "text": [
            "/usr/local/lib/python3.7/dist-packages/seaborn/_decorators.py:43: FutureWarning: Pass the following variables as keyword args: x, y. From version 0.12, the only valid positional argument will be `data`, and passing other arguments without an explicit keyword will result in an error or misinterpretation.\n",
            "  FutureWarning\n"
          ]
        },
        {
          "output_type": "display_data",
          "data": {
            "text/plain": [
              "<Figure size 432x288 with 1 Axes>"
            ],
            "image/png": "[encoded data removed]"
          },
          "metadata": {
            "needs_background": "light"
          }
        },
        {
          "output_type": "stream",
          "name": "stdout",
          "text": [
            "Jumlah baris kelas positif:  246\n",
            "Jumlah baris kelas negatif:  154\n"
          ]
        }
      ],
      "source": [
        "sns.barplot(df_alltrain['class'].unique(),df_alltrain['class'].value_counts())\n",
        "plt.title('Class Label Distribution')\n",
        "plt.xlabel('Class Label')\n",
        "plt.ylabel('Count')\n",
        "plt.show()\n",
        "\n",
        "print('Jumlah baris kelas positif: ',df_alltrain['class'].value_counts()['positive'])\n",
        "print('Jumlah baris kelas negatif: ',df_alltrain['class'].value_counts()['negative'])"
      ]
    },
    {
      "cell_type": "markdown",
      "metadata": {
        "id": "VGQEvfpByl89"
      },
      "source": [
        "### Membagi Data Training dan Testing"
      ]
    },
    {
      "cell_type": "code",
      "execution_count": 78,
      "metadata": {
        "id": "lwWP74-0tORc"
      },
      "outputs": [],
      "source": [
        "# menyusun data training dan testing \n",
        "trainsize = round(len(featuresets)*0.7)\n",
        "\n",
        "random.shuffle(featuresets)\n",
        "training_set = featuresets[:trainsize]\n",
        "testing_set = featuresets[trainsize:]\n"
      ]
    },
    {
      "cell_type": "code",
      "execution_count": 79,
      "metadata": {
        "colab": {
          "base_uri": "https://localhost:8080/"
        },
        "id": "EddeIBGIAH2p",
        "outputId": "08b0adfd-820a-46bc-8eb6-6fd641316d2e"
      },
      "outputs": [
        {
          "output_type": "execute_result",
          "data": {
            "text/plain": [
              "120"
            ]
          },
          "metadata": {},
          "execution_count": 79
        }
      ],
      "source": [
        "len(testing_set)"
      ]
    },
    {
      "cell_type": "markdown",
      "metadata": {
        "id": "HvV_h42C8q3H"
      },
      "source": [
        "### Melatih Model Klasifikasi dengan Library NLTK"
      ]
    },
    {
      "cell_type": "markdown",
      "metadata": {
        "id": "Wbt294-1TeqB"
      },
      "source": [
        "#### Naive Bayes"
      ]
    },
    {
      "cell_type": "markdown",
      "metadata": {
        "id": "GMb2HGFVUOQQ"
      },
      "source": [
        "##### Melatih Model"
      ]
    },
    {
      "cell_type": "code",
      "execution_count": 80,
      "metadata": {
        "colab": {
          "base_uri": "https://localhost:8080/"
        },
        "id": "eqrKZSkHtTQz",
        "outputId": "e84ae720-3648-4827-f21e-2ed2f46ef1bb"
      },
      "outputs": [
        {
          "output_type": "stream",
          "name": "stdout",
          "text": [
            "Classifier accuracy percent: 78.33333333333333\n",
            "Most Informative Features\n",
            "                 selamat = True           positi : negati =     13.7 : 1.0\n",
            "                   tutup = True           negati : positi =     11.1 : 1.0\n",
            "                   ketat = True           negati : positi =      7.9 : 1.0\n",
            "                   penuh = True           positi : negati =      7.8 : 1.0\n",
            "                  dukung = True           positi : negati =      7.1 : 1.0\n",
            "                    biar = True           negati : positi =      6.9 : 1.0\n",
            "                   butuh = True           negati : positi =      6.9 : 1.0\n",
            "                   terap = True           positi : negati =      6.2 : 1.0\n",
            "                    tuju = True           negati : positi =      4.4 : 1.0\n",
            "                   takut = True           negati : positi =      3.7 : 1.0\n",
            "                   pergi = True           negati : positi =      3.7 : 1.0\n",
            "                    atur = True           positi : negati =      3.2 : 1.0\n",
            "                 panjang = True           negati : positi =      3.0 : 1.0\n",
            "                   sedih = True           negati : positi =      2.6 : 1.0\n",
            "                    trus = True           negati : positi =      2.6 : 1.0\n",
            "                   cepat = True           positi : negati =      2.3 : 1.0\n",
            "                    jaga = True           positi : negati =      2.3 : 1.0\n",
            "                  dukung = False          negati : positi =      2.1 : 1.0\n",
            "                   turun = True           positi : negati =      1.6 : 1.0\n",
            "                   besar = True           negati : positi =      1.6 : 1.0\n",
            "                    papa = True           negati : positi =      1.6 : 1.0\n",
            "                  pulang = True           negati : positi =      1.6 : 1.0\n",
            "                 sepakat = True           negati : positi =      1.6 : 1.0\n",
            "                  senang = True           negati : positi =      1.6 : 1.0\n",
            "                  sesuai = True           negati : positi =      1.6 : 1.0\n"
          ]
        }
      ],
      "source": [
        "classifier = nltk.NaiveBayesClassifier.train(training_set)\n",
        "\n",
        "print(\"Classifier accuracy percent:\",(nltk.classify.accuracy(classifier, testing_set))*100)\n",
        "classifier.show_most_informative_features(25)"
      ]
    },
    {
      "cell_type": "markdown",
      "metadata": {
        "id": "fsatV3_-UYL9"
      },
      "source": [
        "##### Mengukur kinerja model"
      ]
    },
    {
      "cell_type": "code",
      "execution_count": 81,
      "metadata": {
        "colab": {
          "base_uri": "https://localhost:8080/"
        },
        "id": "Q3mfV9NXtstF",
        "outputId": "e0f991e3-8985-48aa-c669-e3871bf36a1d"
      },
      "outputs": [
        {
          "output_type": "stream",
          "name": "stdout",
          "text": [
            "Recall: 0.8783783783783784\n",
            "Precision: 0.7926829268292683\n"
          ]
        }
      ],
      "source": [
        "from nltk.metrics.scores import (precision, recall)\n",
        "import collections\n",
        "\n",
        "refsets = collections.defaultdict(set)\n",
        "testsets = collections.defaultdict(set)\n",
        "\n",
        "for i, (feats, label) in enumerate(testing_set):\n",
        "    refsets[label].add(i)\n",
        "    observed = classifier.classify(feats)\n",
        "    testsets[observed].add(i)\n",
        "\n",
        "print('Recall:', recall(refsets['positive'], testsets['positive']))\n",
        "print('Precision:', precision(refsets['positive'], testsets['positive']))"
      ]
    },
    {
      "cell_type": "code",
      "execution_count": 82,
      "metadata": {
        "id": "SG-bFAVdUtJO"
      },
      "outputs": [],
      "source": [
        "from sklearn.model_selection import KFold\n",
        "cv = KFold(n_splits=5, shuffle=False, random_state=None)"
      ]
    },
    {
      "cell_type": "code",
      "execution_count": 83,
      "metadata": {
        "colab": {
          "base_uri": "https://localhost:8080/"
        },
        "id": "Yaedb6mvUvtX",
        "outputId": "17914bb8-27e3-40c6-b142-6984f2cff9d1"
      },
      "outputs": [
        {
          "output_type": "stream",
          "name": "stdout",
          "text": [
            "Fold - 1\n",
            "Accuracy: 86.07594936708861\n",
            "Recall: 86.95652173913044\n",
            "Precision: 88.88888888888889\n",
            "Fold - 2\n",
            "Accuracy: 91.13924050632912\n",
            "Recall: 100.0\n",
            "Precision: 86.53846153846155\n",
            "Fold - 3\n",
            "Accuracy: 87.34177215189874\n",
            "Recall: 98.07692307692307\n",
            "Precision: 85.0\n",
            "Fold - 4\n",
            "Accuracy: 87.34177215189874\n",
            "Recall: 91.83673469387756\n",
            "Precision: 88.23529411764706\n",
            "Fold - 5\n",
            "Accuracy: 83.54430379746836\n",
            "Recall: 94.0\n",
            "Precision: 82.45614035087719\n"
          ]
        }
      ],
      "source": [
        "k=1\n",
        "for traincv, testcv in cv.split(featuresets):\n",
        "    training_sets = featuresets[traincv[0]:traincv[len(traincv)-1]]\n",
        "    testing_sets = featuresets[testcv[0]:testcv[len(testcv)-1]]\n",
        "    classifier = nltk.NaiveBayesClassifier.train(featuresets[traincv[0]:traincv[len(traincv)-1]])\n",
        "    refsets = collections.defaultdict(set)\n",
        "    testsets = collections.defaultdict(set)\n",
        " \n",
        "    for i, (feats, label) in enumerate(testing_sets):\n",
        "        refsets[label].add(i)\n",
        "        observed = classifier.classify(feats)\n",
        "        testsets[observed].add(i)\n",
        "    print (\"Fold - \"+str(k))\n",
        "    print(\"Accuracy:\",(nltk.classify.accuracy(classifier, testing_sets))*100)\n",
        "    print('Recall:', recall(refsets['positive'], testsets['positive'])*100)\n",
        "    print('Precision:', precision(refsets['positive'], testsets['positive'])*100)\n",
        "    k+=1"
      ]
    },
    {
      "cell_type": "markdown",
      "metadata": {
        "id": "oN2rPZ5VX7Z-"
      },
      "source": [
        "##### Menyimpan model ke dalam bentuk file"
      ]
    },
    {
      "cell_type": "code",
      "execution_count": 85,
      "metadata": {
        "id": "mVIxcwd_tXw6"
      },
      "outputs": [],
      "source": [
        "#menyimpan model yang telah ditrainning ke file sav\n",
        "filename = 'ppkm_nb_model.sav'\n",
        "pickle.dump(classifier, open(filename, 'wb'))"
      ]
    },
    {
      "cell_type": "code",
      "execution_count": 86,
      "metadata": {
        "id": "pDvI8orlYJG5"
      },
      "outputs": [],
      "source": [
        "#load model classifier nb dari file\n",
        "loaded_model = pickle.load(open(filename, 'rb'))"
      ]
    },
    {
      "cell_type": "code",
      "execution_count": 87,
      "metadata": {
        "id": "poqep_PdYQIt"
      },
      "outputs": [],
      "source": [
        "#melakukan prediksi data menggunakan model classifier nb yang telah diload\n",
        "lsPrediksi = []\n",
        "for (rev, category) in document[trainsize:]:\n",
        "    result=loaded_model.classify(find_features(rev))\n",
        "    lsPrediksi.append([rev, result, category])"
      ]
    },
    {
      "cell_type": "code",
      "execution_count": 88,
      "metadata": {
        "colab": {
          "base_uri": "https://localhost:8080/"
        },
        "id": "dNeTjwTWYWS2",
        "outputId": "06829cf5-06f6-426e-c14e-b9128936aaba"
      },
      "outputs": [
        {
          "output_type": "stream",
          "name": "stdout",
          "text": [
            "[['@zafran_gema Dukung perpanjangan PPKM level 3', 'positive', 'positive'], ['@Anggita_lung @jokowi Dukung PPKM', 'positive', 'positive'], ['@Penyair_Berdiri Dukung PPKM', 'positive', 'positive'], ['RT @forjakeu: Kita harus mendukung penuh upaya pemerintah dalam penanganan Pandemi Covid-19 dengan menerapkan PPKM level 3.  Jangan kasih k…', 'positive', 'positive'], ['@chinta_chintata Dukung PPKM level 3', 'positive', 'positive'], ['@p4rwaty_rizky Dukung PPKM level 3', 'positive', 'positive'], ['@Widyarenee_ Dukung PPKM level 3', 'positive', 'positive'], ['RT @forjakeu: Kita harus mendukung penuh upaya pemerintah dalam penanganan Pandemi Covid-19 dengan menerapkan PPKM level 3.  Jangan kasih k…', 'positive', 'positive'], ['@p4rwaty_rizky Dukung PPKM level 3 💪💪', 'positive', 'positive'], ['Bersatu Lawan Covid!!!  Penerapan aturan PPKM Level 3 menjadi kebijakan tepat untuk menghalau Lonjakan Cov19.  Dukung!!! https://t.co/77DAZf3MqG', 'positive', 'positive']]\n"
          ]
        }
      ],
      "source": [
        "print(lsPrediksi[:10])"
      ]
    },
    {
      "cell_type": "code",
      "execution_count": 89,
      "metadata": {
        "id": "XjaBKNMtnZIu"
      },
      "outputs": [],
      "source": [
        "act=[]\n",
        "pred=[]\n",
        "\n",
        "for i, (feats, label) in enumerate(testing_set):\n",
        "    observed = classifier.classify(feats)\n",
        "    act.append(label)\n",
        "    pred.append(observed)"
      ]
    },
    {
      "cell_type": "markdown",
      "metadata": {
        "id": "-YQqYMCwYJZG"
      },
      "source": [
        "##### Confusion Matrix"
      ]
    },
    {
      "cell_type": "code",
      "execution_count": 90,
      "metadata": {
        "id": "ivNl9T0GnZIu"
      },
      "outputs": [],
      "source": [
        "from nltk.metrics import ConfusionMatrix"
      ]
    },
    {
      "cell_type": "code",
      "execution_count": 91,
      "metadata": {
        "id": "MqDIXdKXnZIw"
      },
      "outputs": [],
      "source": [
        "matrix = ConfusionMatrix(act,pred)"
      ]
    },
    {
      "cell_type": "code",
      "execution_count": 92,
      "metadata": {
        "colab": {
          "base_uri": "https://localhost:8080/"
        },
        "id": "BtdCHQg4nZIw",
        "outputId": "53a2f334-6baa-4958-9e3a-b25ab9e3771e"
      },
      "outputs": [
        {
          "output_type": "stream",
          "name": "stdout",
          "text": [
            "         |  n  p |\n",
            "         |  e  o |\n",
            "         |  g  s |\n",
            "         |  a  i |\n",
            "         |  t  t |\n",
            "         |  i  i |\n",
            "         |  v  v |\n",
            "         |  e  e |\n",
            "---------+-------+\n",
            "negative |<32>14 |\n",
            "positive |  5<69>|\n",
            "---------+-------+\n",
            "(row = reference; col = test)\n",
            "\n"
          ]
        }
      ],
      "source": [
        "print(matrix)"
      ]
    },
    {
      "cell_type": "markdown",
      "metadata": {
        "id": "reqVQBFVTn7l"
      },
      "source": [
        "#### Support Vector Machine"
      ]
    },
    {
      "cell_type": "code",
      "execution_count": 93,
      "metadata": {
        "colab": {
          "base_uri": "https://localhost:8080/"
        },
        "id": "pvRRwK8cnZIx",
        "outputId": "1e4b886a-4890-420c-854d-f48a49405fc2"
      },
      "outputs": [
        {
          "output_type": "execute_result",
          "data": {
            "text/plain": [
              "<SklearnClassifier(LinearSVC(C=1.0, class_weight=None, dual=True, fit_intercept=True,\n",
              "          intercept_scaling=1, loss='squared_hinge', max_iter=1000,\n",
              "          multi_class='ovr', penalty='l2', random_state=None, tol=0.0001,\n",
              "          verbose=0))>"
            ]
          },
          "metadata": {},
          "execution_count": 93
        }
      ],
      "source": [
        "classifier2 = nltk.classify.SklearnClassifier(LinearSVC())\n",
        "classifier2.train(training_set)"
      ]
    },
    {
      "cell_type": "code",
      "execution_count": 94,
      "metadata": {
        "colab": {
          "base_uri": "https://localhost:8080/"
        },
        "id": "16YkuLxfnZIx",
        "outputId": "d8f881f0-d918-4e53-c672-6063190fa693"
      },
      "outputs": [
        {
          "output_type": "stream",
          "name": "stdout",
          "text": [
            "Classifier accuracy percent: 85.83333333333333\n"
          ]
        }
      ],
      "source": [
        "print(\"Classifier accuracy percent:\",(nltk.classify.accuracy(classifier2, testing_set))*100)"
      ]
    },
    {
      "cell_type": "markdown",
      "metadata": {
        "id": "eECPpfrQTv38"
      },
      "source": [
        "#### Decision Tree"
      ]
    },
    {
      "cell_type": "code",
      "execution_count": 95,
      "metadata": {
        "colab": {
          "base_uri": "https://localhost:8080/"
        },
        "id": "5DQ4c-TfCbhW",
        "outputId": "374241e4-faf1-461c-aa6b-339924a65ba1"
      },
      "outputs": [
        {
          "output_type": "execute_result",
          "data": {
            "text/plain": [
              "<SklearnClassifier(DecisionTreeClassifier(ccp_alpha=0.0, class_weight=None, criterion='gini',\n",
              "                       max_depth=None, max_features=None, max_leaf_nodes=None,\n",
              "                       min_impurity_decrease=0.0, min_impurity_split=None,\n",
              "                       min_samples_leaf=1, min_samples_split=2,\n",
              "                       min_weight_fraction_leaf=0.0, presort='deprecated',\n",
              "                       random_state=None, splitter='best'))>"
            ]
          },
          "metadata": {},
          "execution_count": 95
        }
      ],
      "source": [
        "classifier3 = nltk.classify.SklearnClassifier(DecisionTreeClassifier())\n",
        "classifier3.train(training_set)"
      ]
    },
    {
      "cell_type": "code",
      "execution_count": 96,
      "metadata": {
        "colab": {
          "base_uri": "https://localhost:8080/"
        },
        "id": "5OkPxyBkD-IA",
        "outputId": "00997147-3d22-4b8e-a378-ffcc3005a034"
      },
      "outputs": [
        {
          "output_type": "stream",
          "name": "stdout",
          "text": [
            "Classifier accuracy percent: 90.0\n"
          ]
        }
      ],
      "source": [
        "print(\"Classifier accuracy percent:\",(nltk.classify.accuracy(classifier3, testing_set))*100)"
      ]
    },
    {
      "cell_type": "markdown",
      "metadata": {
        "id": "QRm3BjgvT0Rk"
      },
      "source": [
        "#### AdaBoost\n"
      ]
    },
    {
      "cell_type": "code",
      "execution_count": 97,
      "metadata": {
        "colab": {
          "base_uri": "https://localhost:8080/"
        },
        "id": "P3QU_qvcDyje",
        "outputId": "71424a2d-8f93-4934-a504-1d28d9a6ebfa"
      },
      "outputs": [
        {
          "output_type": "execute_result",
          "data": {
            "text/plain": [
              "<SklearnClassifier(AdaBoostClassifier(algorithm='SAMME.R', base_estimator=None, learning_rate=1.0,\n",
              "                   n_estimators=50, random_state=None))>"
            ]
          },
          "metadata": {},
          "execution_count": 97
        }
      ],
      "source": [
        "classifier4 = nltk.classify.SklearnClassifier(AdaBoostClassifier())\n",
        "classifier4.train(training_set)"
      ]
    },
    {
      "cell_type": "code",
      "execution_count": 98,
      "metadata": {
        "colab": {
          "base_uri": "https://localhost:8080/"
        },
        "id": "xjETwsZcDYu1",
        "outputId": "6094edaf-8436-4896-f961-e0be9a55ddf7"
      },
      "outputs": [
        {
          "output_type": "stream",
          "name": "stdout",
          "text": [
            "Classifier accuracy percent: 87.5\n"
          ]
        }
      ],
      "source": [
        "print(\"Classifier accuracy percent:\",(nltk.classify.accuracy(classifier4, testing_set))*100)"
      ]
    },
    {
      "cell_type": "markdown",
      "metadata": {
        "id": "ZatWickcT65h"
      },
      "source": [
        "#### Random Forest\n"
      ]
    },
    {
      "cell_type": "code",
      "execution_count": 99,
      "metadata": {
        "colab": {
          "base_uri": "https://localhost:8080/"
        },
        "id": "Eg6wWXnHFhJF",
        "outputId": "79562fb5-e7d7-4816-fe34-a75734e3829e"
      },
      "outputs": [
        {
          "output_type": "execute_result",
          "data": {
            "text/plain": [
              "<SklearnClassifier(RandomForestClassifier(bootstrap=True, ccp_alpha=0.0, class_weight=None,\n",
              "                       criterion='gini', max_depth=None, max_features='auto',\n",
              "                       max_leaf_nodes=None, max_samples=None,\n",
              "                       min_impurity_decrease=0.0, min_impurity_split=None,\n",
              "                       min_samples_leaf=1, min_samples_split=2,\n",
              "                       min_weight_fraction_leaf=0.0, n_estimators=100,\n",
              "                       n_jobs=None, oob_score=False, random_state=None,\n",
              "                       verbose=0, warm_start=False))>"
            ]
          },
          "metadata": {},
          "execution_count": 99
        }
      ],
      "source": [
        "classifier5 = nltk.classify.SklearnClassifier(RandomForestClassifier())\n",
        "classifier5.train(training_set)"
      ]
    },
    {
      "cell_type": "code",
      "execution_count": 100,
      "metadata": {
        "colab": {
          "base_uri": "https://localhost:8080/"
        },
        "id": "dIKDXL73FsnY",
        "outputId": "af746228-30c1-4b5d-8e4e-24b494d83e68"
      },
      "outputs": [
        {
          "output_type": "stream",
          "name": "stdout",
          "text": [
            "Classifier accuracy percent: 89.16666666666667\n"
          ]
        }
      ],
      "source": [
        "print(\"Classifier accuracy percent:\",(nltk.classify.accuracy(classifier5, testing_set))*100)"
      ]
    },
    {
      "cell_type": "markdown",
      "metadata": {
        "id": "zQkS1JWaUArb"
      },
      "source": [
        "#### Gradient Boosting"
      ]
    },
    {
      "cell_type": "code",
      "execution_count": 101,
      "metadata": {
        "colab": {
          "base_uri": "https://localhost:8080/"
        },
        "id": "2BjlbcUYGoNv",
        "outputId": "1181cea0-8620-45d7-87e2-b6176644049a"
      },
      "outputs": [
        {
          "output_type": "execute_result",
          "data": {
            "text/plain": [
              "<SklearnClassifier(GradientBoostingClassifier(ccp_alpha=0.0, criterion='friedman_mse', init=None,\n",
              "                           learning_rate=0.1, loss='deviance', max_depth=3,\n",
              "                           max_features=None, max_leaf_nodes=None,\n",
              "                           min_impurity_decrease=0.0, min_impurity_split=None,\n",
              "                           min_samples_leaf=1, min_samples_split=2,\n",
              "                           min_weight_fraction_leaf=0.0, n_estimators=100,\n",
              "                           n_iter_no_change=None, presort='deprecated',\n",
              "                           random_state=None, subsample=1.0, tol=0.0001,\n",
              "                           validation_fraction=0.1, verbose=0,\n",
              "                           warm_start=False))>"
            ]
          },
          "metadata": {},
          "execution_count": 101
        }
      ],
      "source": [
        "classifier6 = nltk.classify.SklearnClassifier(GradientBoostingClassifier())\n",
        "classifier6.train(training_set)"
      ]
    },
    {
      "cell_type": "code",
      "execution_count": 102,
      "metadata": {
        "colab": {
          "base_uri": "https://localhost:8080/"
        },
        "id": "u6GiKbRkG6cn",
        "outputId": "4014bd09-92f2-40f4-f216-5573def4f484"
      },
      "outputs": [
        {
          "output_type": "stream",
          "name": "stdout",
          "text": [
            "Classifier accuracy percent: 89.16666666666667\n"
          ]
        }
      ],
      "source": [
        "print(\"Classifier accuracy percent:\",(nltk.classify.accuracy(classifier6, testing_set))*100)"
      ]
    },
    {
      "cell_type": "markdown",
      "metadata": {
        "id": "6aKmjjpkER4h"
      },
      "source": [
        "### Melatih Model dengan Sklearn dan Vektorisasi"
      ]
    },
    {
      "cell_type": "code",
      "execution_count": 103,
      "metadata": {
        "id": "AWp8AKWFZF78"
      },
      "outputs": [],
      "source": [
        "#Pengolahan data\n",
        "import pandas as pd\n",
        "import numpy as np\n",
        "\n",
        "from sklearn.ensemble import RandomForestClassifier\n",
        "from sklearn.linear_model import RidgeClassifier ,LogisticRegression, Ridge\n",
        "from sklearn.naive_bayes import GaussianNB\n",
        "from sklearn.tree import DecisionTreeClassifier\n",
        "from sklearn.neighbors import KNeighborsClassifier\n",
        "from sklearn.svm import SVC, LinearSVC\n",
        "from sklearn.ensemble import VotingClassifier, StackingClassifier, RandomForestClassifier, AdaBoostClassifier\n",
        "from xgboost import XGBClassifier\n",
        "from sklearn.preprocessing import MinMaxScaler\n",
        "from lightgbm import LGBMClassifier\n",
        "\n",
        "import joblib\n",
        "from sklearn.model_selection import RandomizedSearchCV\n",
        "from sklearn.model_selection import GridSearchCV, KFold, cross_validate, LeaveOneOut\n",
        "from sklearn.metrics import confusion_matrix,f1_score,log_loss,roc_curve,recall_score,precision_recall_curve,precision_score,fbeta_score,auc, roc_auc_score, accuracy_score, classification_report, ConfusionMatrixDisplay, RocCurveDisplay\n",
        "from sklearn.feature_selection import RFE, SelectKBest, SelectPercentile, chi2, SelectFromModel\n",
        "from sklearn.decomposition import PCA\n",
        "\n",
        "#Visualization\n",
        "import matplotlib.pyplot as plt\n",
        "import seaborn as sns"
      ]
    },
    {
      "cell_type": "code",
      "execution_count": 104,
      "metadata": {
        "id": "fneB1ERJ9Hq7"
      },
      "outputs": [],
      "source": [
        "def cleanText(text):\n",
        "  regex = re.compile('[' + re.escape(string.punctuation) + '0-9\\\\r\\\\t\\\\n]')\n",
        "  text = regex.sub(\" \", text.lower())\n",
        "  return text"
      ]
    },
    {
      "cell_type": "code",
      "execution_count": 105,
      "metadata": {
        "id": "zsPcKz4AK8_V"
      },
      "outputs": [],
      "source": [
        "def get_cltext2(document):\n",
        "    words = tokenize(document)\n",
        "    words = cleanTweet(words,exclude_re)\n",
        "    words = [lemmatizer.lemmatize(w) for w in words]\n",
        "    pos = [postagger.get_pos_tag(w)[0] for w in words if len(postagger.get_pos_tag(w))>0]\n",
        "    allowed_word_types = [\"ADV\",\"JJ\",\"ADJP\",\"VB\"]\n",
        "    allowed_words=[w[0] for w in pos if w[1] in allowed_word_types]\n",
        "    cltext = ' '.join(allowed_words)\n",
        "    return cltext"
      ]
    },
    {
      "cell_type": "code",
      "execution_count": 106,
      "metadata": {
        "id": "RPhxpUmDyydg"
      },
      "outputs": [],
      "source": [
        "def get_cltext(document):\n",
        "    words = tokenize(document)\n",
        "    words = cleanTweet(words,exclude_re)\n",
        "    words = [lemmatizer.lemmatize(w) for w in words]\n",
        "    cltext = ' '.join(words)\n",
        "    return cltext"
      ]
    },
    {
      "cell_type": "code",
      "execution_count": 107,
      "metadata": {
        "id": "jm27FaIoAJbj"
      },
      "outputs": [],
      "source": [
        "#Melatih Model k-NN\n",
        "x_train = [];\n",
        "y_train = [];\n",
        "for (rev, category) in document[:trainsize]:\n",
        "  #text = cleanText(rev)\n",
        "  text = get_cltext(rev)\n",
        "  #lmz_train = lemmatizer.lemmatize(text);\n",
        "  x_train.append(text);\n",
        "  y_train.append(category);"
      ]
    },
    {
      "cell_type": "code",
      "execution_count": 108,
      "metadata": {
        "id": "M-X7iTo0ssbb"
      },
      "outputs": [],
      "source": [
        "def set_numeric_label(y):\n",
        "  dfy = pd.DataFrame(y)\n",
        "  nmy = dfy.replace(['negative','positive'],[0,1])\n",
        "  return nmy[0].values.tolist()"
      ]
    },
    {
      "cell_type": "code",
      "execution_count": 109,
      "metadata": {
        "id": "ie8jqDRhtyV8"
      },
      "outputs": [],
      "source": [
        "y_train = set_numeric_label(y_train)"
      ]
    },
    {
      "cell_type": "code",
      "execution_count": 110,
      "metadata": {
        "colab": {
          "base_uri": "https://localhost:8080/"
        },
        "id": "YjqiTx2kBKjB",
        "outputId": "75fc3d56-bf97-465a-fc49-4b3a99f6ff45"
      },
      "outputs": [
        {
          "output_type": "stream",
          "name": "stdout",
          "text": [
            "[1, 1, 0, 0, 1, 1, 0, 0, 1, 1, 1, 1, 1, 0, 1, 1, 1, 0, 1, 1, 1, 1, 1, 1, 1, 1, 1, 1, 1, 1, 1, 1, 1, 1, 1, 1, 1, 1, 1, 1, 1, 1, 0, 1, 1, 1, 0, 0, 1, 0, 0, 1, 1, 1, 1, 1, 1, 1, 0, 1, 0, 1, 1, 1, 0, 1, 0, 1, 0, 1, 1, 0, 0, 1, 1, 1, 1, 1, 1, 1, 1, 1, 1, 0, 1, 1, 1, 1, 1, 1, 1, 1, 1, 0, 1, 0, 0, 0, 0, 0]\n"
          ]
        }
      ],
      "source": [
        "print(y_train[:100])"
      ]
    },
    {
      "cell_type": "code",
      "execution_count": 111,
      "metadata": {
        "id": "rwPjkwLUBSkS"
      },
      "outputs": [],
      "source": [
        "from sklearn.feature_extraction.text import CountVectorizer\n",
        "bow_vectorizer = CountVectorizer(max_features=50000, stop_words=set(stop))"
      ]
    },
    {
      "cell_type": "code",
      "execution_count": 112,
      "metadata": {
        "colab": {
          "base_uri": "https://localhost:8080/"
        },
        "id": "2xRuVyvRBsyG",
        "outputId": "2dfceea3-9ac2-4369-caba-77fced4174d6"
      },
      "outputs": [
        {
          "output_type": "stream",
          "name": "stderr",
          "text": [
            "/usr/local/lib/python3.7/dist-packages/sklearn/feature_extraction/text.py:385: UserWarning: Your stop_words may be inconsistent with your preprocessing. Tokenizing the stop words generated tokens ['baiknya', 'batas', 'benarnya', 'bener', 'berulang', 'dalamnya', 'dibagi', 'galanya', 'gamblangnya', 'gini', 'gininya', 'harinya', 'kesini', 'kurangnya', 'mata', 'menerus', 'mereta', 'merta', 'musabab', 'musababnya', 'napa', 'nyata', 'olah', 'ratanya', 'reka', 'rupa', 'sebenar', 'sedalam', 'segamblang', 'segini', 'segmen', 'sejelas', 'sekurang', 'sempet', 'tama', 'yakinnya'] not in stop_words.\n",
            "  'stop_words.' % sorted(inconsistent))\n"
          ]
        }
      ],
      "source": [
        "bowVect = bow_vectorizer.fit(x_train)"
      ]
    },
    {
      "cell_type": "code",
      "execution_count": 113,
      "metadata": {
        "id": "JJe_zEAzHcbS"
      },
      "outputs": [],
      "source": [
        "bowTrain = bowVect.transform(x_train)"
      ]
    },
    {
      "cell_type": "code",
      "execution_count": 114,
      "metadata": {
        "colab": {
          "base_uri": "https://localhost:8080/"
        },
        "id": "nZuy77t16wWb",
        "outputId": "8e16c30f-7d77-48bf-ca28-13c94f165d4f"
      },
      "outputs": [
        {
          "output_type": "execute_result",
          "data": {
            "text/plain": [
              "['aamiin',\n",
              " 'abis',\n",
              " 'acara',\n",
              " 'adain',\n",
              " 'adakan',\n",
              " 'adil',\n",
              " 'adlh',\n",
              " 'aduh',\n",
              " 'aduhh',\n",
              " 'adukk',\n",
              " 'ahhh',\n",
              " 'ahmad',\n",
              " 'aing',\n",
              " 'ajah',\n",
              " 'ajak',\n",
              " 'ajar',\n",
              " 'akibat',\n",
              " 'akselerasi',\n",
              " 'aksi',\n",
              " 'aktivitas',\n",
              " 'alami',\n",
              " 'alas',\n",
              " 'album',\n",
              " 'alias',\n",
              " 'alim',\n",
              " 'allah',\n",
              " 'alun',\n",
              " 'aman',\n",
              " 'ambil',\n",
              " 'anak',\n",
              " 'anggar',\n",
              " 'anggota',\n",
              " 'angka',\n",
              " 'angkot',\n",
              " 'angkut',\n",
              " 'anies',\n",
              " 'anjgggg',\n",
              " 'anjir',\n",
              " 'anjr',\n",
              " 'antigen',\n",
              " 'antisipasi',\n",
              " 'anxious',\n",
              " 'anyinkk',\n",
              " 'anyinkkk',\n",
              " 'apalg',\n",
              " 'aparat',\n",
              " 'apasih',\n",
              " 'apbn',\n",
              " 'aplgi',\n",
              " 'april',\n",
              " 'arab',\n",
              " 'arief',\n",
              " 'arisan',\n",
              " 'asli',\n",
              " 'atur',\n",
              " 'awam',\n",
              " 'aware',\n",
              " 'axiata',\n",
              " 'babang',\n",
              " 'baca',\n",
              " 'backhand',\n",
              " 'bagong',\n",
              " 'bagus',\n",
              " 'bahaya',\n",
              " 'bakar',\n",
              " 'baksinasi',\n",
              " 'bal',\n",
              " 'bali',\n",
              " 'banci',\n",
              " 'bandung',\n",
              " 'bangga',\n",
              " 'bangsa',\n",
              " 'banjir',\n",
              " 'bansos',\n",
              " 'bantu',\n",
              " 'bapak',\n",
              " 'barang',\n",
              " 'bareng',\n",
              " 'basi',\n",
              " 'batal',\n",
              " 'batas',\n",
              " 'bayar',\n",
              " 'beaming',\n",
              " 'bebal',\n",
              " 'beban',\n",
              " 'bebas',\n",
              " 'bejibun',\n",
              " 'belah',\n",
              " 'beli',\n",
              " 'bencana',\n",
              " 'benci',\n",
              " 'bener',\n",
              " 'beneran',\n",
              " 'bensin',\n",
              " 'beras',\n",
              " 'berita',\n",
              " 'berkat',\n",
              " 'berlakuin',\n",
              " 'berlalulintas',\n",
              " 'besar',\n",
              " 'besok',\n",
              " 'bgtt',\n",
              " 'biar',\n",
              " 'biaya',\n",
              " 'bijak',\n",
              " 'bikin',\n",
              " 'bilang',\n",
              " 'bingung',\n",
              " 'bioskop',\n",
              " 'birthday',\n",
              " 'bisnis',\n",
              " 'bkal',\n",
              " 'blas',\n",
              " 'blitar',\n",
              " 'bnyk',\n",
              " 'bodoh',\n",
              " 'bogor',\n",
              " 'bonceng',\n",
              " 'booster',\n",
              " 'boy',\n",
              " 'brapa',\n",
              " 'brbagai',\n",
              " 'brng',\n",
              " 'broken',\n",
              " 'buah',\n",
              " 'bucin',\n",
              " 'buka',\n",
              " 'bukti',\n",
              " 'business',\n",
              " 'buta',\n",
              " 'button',\n",
              " 'butuh',\n",
              " 'bwat',\n",
              " 'cabang',\n",
              " 'cagak',\n",
              " 'cahari',\n",
              " 'campur',\n",
              " 'capai',\n",
              " 'cape',\n",
              " 'capee',\n",
              " 'capek',\n",
              " 'cari',\n",
              " 'catat',\n",
              " 'cebong',\n",
              " 'cegah',\n",
              " 'cekik',\n",
              " 'celaka',\n",
              " 'cepat',\n",
              " 'cerita',\n",
              " 'cholil',\n",
              " 'ciasem',\n",
              " 'cijambe',\n",
              " 'cirebon',\n",
              " 'coba',\n",
              " 'collapse',\n",
              " 'comeback',\n",
              " 'corona',\n",
              " 'countercylical',\n",
              " 'country',\n",
              " 'covid',\n",
              " 'cowok',\n",
              " 'crying',\n",
              " 'culek',\n",
              " 'cuman',\n",
              " 'cuti',\n",
              " 'dada',\n",
              " 'dadak',\n",
              " 'daerah',\n",
              " 'dampak',\n",
              " 'dapet',\n",
              " 'daring',\n",
              " 'darurat',\n",
              " 'dasar',\n",
              " 'debat',\n",
              " 'debsi',\n",
              " 'december',\n",
              " 'demo',\n",
              " 'denda',\n",
              " 'denger',\n",
              " 'dengerin',\n",
              " 'deobo',\n",
              " 'depok',\n",
              " 'derita',\n",
              " 'desa',\n",
              " 'desember',\n",
              " 'dianjurinnya',\n",
              " 'diapus',\n",
              " 'dibatasin',\n",
              " 'dibhongin',\n",
              " 'dibubarin',\n",
              " 'diem',\n",
              " 'diginiin',\n",
              " 'digituin',\n",
              " 'dikmas',\n",
              " 'dipikirin',\n",
              " 'disekolahin',\n",
              " 'disiplin',\n",
              " 'ditingkatin',\n",
              " 'doa',\n",
              " 'donefrid',\n",
              " 'dongo',\n",
              " 'double',\n",
              " 'down',\n",
              " 'dpet',\n",
              " 'dprd',\n",
              " 'drpd',\n",
              " 'duit',\n",
              " 'duka',\n",
              " 'dukung',\n",
              " 'dungu',\n",
              " 'edukasi',\n",
              " 'eehh',\n",
              " 'efektif',\n",
              " 'effendy',\n",
              " 'eggi',\n",
              " 'ehhhh',\n",
              " 'ekonomi',\n",
              " 'elus',\n",
              " 'emosi',\n",
              " 'enak',\n",
              " 'engga',\n",
              " 'enggak',\n",
              " 'entar',\n",
              " 'ente',\n",
              " 'entry',\n",
              " 'esensi',\n",
              " 'etapi',\n",
              " 'etdah',\n",
              " 'exclamation',\n",
              " 'expressionless',\n",
              " 'eyes',\n",
              " 'face',\n",
              " 'federasi',\n",
              " 'female',\n",
              " 'fenomena',\n",
              " 'film',\n",
              " 'fingers',\n",
              " 'fisik',\n",
              " 'fitri',\n",
              " 'floor',\n",
              " 'folded',\n",
              " 'formula',\n",
              " 'forum',\n",
              " 'foto',\n",
              " 'from',\n",
              " 'fuck',\n",
              " 'fullday',\n",
              " 'futsal',\n",
              " 'gaada',\n",
              " 'gabisa',\n",
              " 'gagal',\n",
              " 'gage',\n",
              " 'gaje',\n",
              " 'gajelas',\n",
              " 'gaji',\n",
              " 'gamau',\n",
              " 'gampang',\n",
              " 'ganggu',\n",
              " 'ganti',\n",
              " 'gapapa',\n",
              " 'gara',\n",
              " 'gausah',\n",
              " 'gaya',\n",
              " 'gede',\n",
              " 'gedung',\n",
              " 'gelar',\n",
              " 'gelombang',\n",
              " 'genting',\n",
              " 'gerak',\n",
              " 'gerombol',\n",
              " 'geser',\n",
              " 'ggra',\n",
              " 'giat',\n",
              " 'gigs',\n",
              " 'gila',\n",
              " 'gilak',\n",
              " 'gilir',\n",
              " 'gimana',\n",
              " 'gin',\n",
              " 'ginjal',\n",
              " 'give',\n",
              " 'gowa',\n",
              " 'gratis',\n",
              " 'green',\n",
              " 'growing',\n",
              " 'gubernur',\n",
              " 'guru',\n",
              " 'guys',\n",
              " 'habis',\n",
              " 'haha',\n",
              " 'hahaha',\n",
              " 'hakim',\n",
              " 'halang',\n",
              " 'halo',\n",
              " 'hambat',\n",
              " 'hand',\n",
              " 'handle',\n",
              " 'handoyo',\n",
              " 'hands',\n",
              " 'hang',\n",
              " 'happiness',\n",
              " 'happy',\n",
              " 'haram',\n",
              " 'harap',\n",
              " 'harga',\n",
              " 'hasil',\n",
              " 'heart',\n",
              " 'hebat',\n",
              " 'helm',\n",
              " 'herd',\n",
              " 'hidup',\n",
              " 'himbauan',\n",
              " 'himpun',\n",
              " 'hindar',\n",
              " 'hingga',\n",
              " 'holidays',\n",
              " 'home',\n",
              " 'hops',\n",
              " 'hotel',\n",
              " 'hubung',\n",
              " 'huhuhu',\n",
              " 'ibadah',\n",
              " 'idul',\n",
              " 'idulfitri',\n",
              " 'ijinkan',\n",
              " 'ikutin',\n",
              " 'ilang',\n",
              " 'immunity',\n",
              " 'implementasi',\n",
              " 'imunity',\n",
              " 'income',\n",
              " 'index',\n",
              " 'indo',\n",
              " 'indonesia',\n",
              " 'inget',\n",
              " 'internal',\n",
              " 'interpelasi',\n",
              " 'inti',\n",
              " 'investasi',\n",
              " 'islam',\n",
              " 'istilah',\n",
              " 'istirahat',\n",
              " 'istri',\n",
              " 'ituu',\n",
              " 'iyaaa',\n",
              " 'jadiin',\n",
              " 'jaga',\n",
              " 'jajan',\n",
              " 'jakarta',\n",
              " 'jalan',\n",
              " 'jaman',\n",
              " 'jamin',\n",
              " 'januari',\n",
              " 'jarak',\n",
              " 'jawa',\n",
              " 'jelang',\n",
              " 'jenuh',\n",
              " 'jidat',\n",
              " 'jilat',\n",
              " 'jiwa',\n",
              " 'jngn',\n",
              " 'jogja',\n",
              " 'jogjaaaa',\n",
              " 'jokowi',\n",
              " 'joy',\n",
              " 'juli',\n",
              " 'juni',\n",
              " 'kabar',\n",
              " 'kabupaten',\n",
              " 'kaga',\n",
              " 'kagak',\n",
              " 'kait',\n",
              " 'kalimantan',\n",
              " 'kalimat',\n",
              " 'kalo',\n",
              " 'kampanye',\n",
              " 'kamsel',\n",
              " 'kanigoro',\n",
              " 'kantor',\n",
              " 'kapolres',\n",
              " 'karanganyar',\n",
              " 'karantina',\n",
              " 'karma',\n",
              " 'karna',\n",
              " 'karo',\n",
              " 'karya',\n",
              " 'kasih',\n",
              " 'kasihan',\n",
              " 'kategori',\n",
              " 'kawan',\n",
              " 'kaya',\n",
              " 'kayak',\n",
              " 'kecewa',\n",
              " 'kejar',\n",
              " 'kek',\n",
              " 'kelar',\n",
              " 'kelas',\n",
              " 'kelompok',\n",
              " 'keluarga',\n",
              " 'keluh',\n",
              " 'keluyur',\n",
              " 'kemaren',\n",
              " 'kemarin',\n",
              " 'kembang',\n",
              " 'kemenhub',\n",
              " 'kena',\n",
              " 'kendali',\n",
              " 'kendor',\n",
              " 'kepri',\n",
              " 'keras',\n",
              " 'kerja',\n",
              " 'kerjasama',\n",
              " 'kerumun',\n",
              " 'kesanaa',\n",
              " 'kesel',\n",
              " 'keselamata',\n",
              " 'ketat',\n",
              " 'kgak',\n",
              " 'kick',\n",
              " 'kimchil',\n",
              " 'klubl',\n",
              " 'kmpret',\n",
              " 'kmrin',\n",
              " 'kocak',\n",
              " 'komedi',\n",
              " 'komisi',\n",
              " 'komunikasi',\n",
              " 'kondisi',\n",
              " 'kondusifitas',\n",
              " 'konferensi',\n",
              " 'konsep',\n",
              " 'konteks',\n",
              " 'koptu',\n",
              " 'koramil',\n",
              " 'korban',\n",
              " 'korona',\n",
              " 'kost',\n",
              " 'kota',\n",
              " 'kristiani',\n",
              " 'krng',\n",
              " 'ksll',\n",
              " 'kuah',\n",
              " 'kuat',\n",
              " 'kudu',\n",
              " 'kumpul',\n",
              " 'kurun',\n",
              " 'laksana',\n",
              " 'laku',\n",
              " 'lalang',\n",
              " 'lalulintas',\n",
              " 'lambat',\n",
              " 'lampung',\n",
              " 'langgar',\n",
              " 'langka',\n",
              " 'langkah',\n",
              " 'lanjutken',\n",
              " 'lansung',\n",
              " 'lantas',\n",
              " 'lapak',\n",
              " 'laptop',\n",
              " 'larang',\n",
              " 'laughing',\n",
              " 'lawan',\n",
              " 'layar',\n",
              " 'lebaran',\n",
              " 'lekas',\n",
              " 'lelah',\n",
              " 'lempar',\n",
              " 'lengkuas',\n",
              " 'lepas',\n",
              " 'level',\n",
              " 'liat',\n",
              " 'liatlag',\n",
              " 'libur',\n",
              " 'liburin',\n",
              " 'liburr',\n",
              " 'liga',\n",
              " 'light',\n",
              " 'lindung',\n",
              " 'lintas',\n",
              " 'liter',\n",
              " 'logistik',\n",
              " 'longgar',\n",
              " 'lonjak',\n",
              " 'lots',\n",
              " 'loudly',\n",
              " 'lucu',\n",
              " 'luncur',\n",
              " 'lupa',\n",
              " 'lusa',\n",
              " 'mabar',\n",
              " 'macem',\n",
              " 'macet',\n",
              " 'maen',\n",
              " 'main',\n",
              " 'makan',\n",
              " 'maksain',\n",
              " 'maksod',\n",
              " 'mall',\n",
              " 'mallnya',\n",
              " 'mamak',\n",
              " 'mampus',\n",
              " 'man',\n",
              " 'manggung',\n",
              " 'manusia',\n",
              " 'many',\n",
              " 'marah',\n",
              " 'margonda',\n",
              " 'mari',\n",
              " 'mark',\n",
              " 'masak',\n",
              " 'masker',\n",
              " 'masuk',\n",
              " 'masyarakat',\n",
              " 'masyaraket',\n",
              " 'mata',\n",
              " 'mateng',\n",
              " 'maybe',\n",
              " 'mbaa',\n",
              " 'mbak',\n",
              " 'mboyakkkk',\n",
              " 'mean',\n",
              " 'meanwhile',\n",
              " 'media',\n",
              " 'mekanisme',\n",
              " 'melulu',\n",
              " 'memories',\n",
              " 'mending',\n",
              " 'menghimbau',\n",
              " 'menko',\n",
              " 'mensukseskan',\n",
              " 'mental',\n",
              " 'mentungi',\n",
              " 'metik',\n",
              " 'metong',\n",
              " 'micyeoseo',\n",
              " 'mikir',\n",
              " 'mikirin',\n",
              " 'mikro',\n",
              " 'miss',\n",
              " 'misuh',\n",
              " 'mnding',\n",
              " 'mnghargai',\n",
              " 'mobil',\n",
              " 'mobilisasi',\n",
              " 'moga',\n",
              " 'momen',\n",
              " 'motor',\n",
              " 'mouth',\n",
              " 'mudah',\n",
              " 'mudik',\n",
              " 'muhadjir',\n",
              " 'muka',\n",
              " 'muktamar',\n",
              " 'mulu',\n",
              " 'muncul',\n",
              " 'muntah',\n",
              " 'murah',\n",
              " 'murid',\n",
              " 'musik',\n",
              " 'musisi',\n",
              " 'muslim',\n",
              " 'mutasi',\n",
              " 'nabung',\n",
              " 'naek',\n",
              " 'nahh',\n",
              " 'nantang',\n",
              " 'napasih',\n",
              " 'nasional',\n",
              " 'natal',\n",
              " 'nataru',\n",
              " 'negara',\n",
              " 'negatif',\n",
              " 'negeri',\n",
              " 'nehh',\n",
              " 'nekat',\n",
              " 'neng',\n",
              " 'ngab',\n",
              " 'ngacung',\n",
              " 'ngadain',\n",
              " 'ngahok',\n",
              " 'ngajak',\n",
              " 'ngajakin',\n",
              " 'nganggur',\n",
              " 'ngapain',\n",
              " 'ngeganggu',\n",
              " 'ngegigs',\n",
              " 'ngehe',\n",
              " 'ngejamin',\n",
              " 'ngelamar',\n",
              " 'ngelanggar',\n",
              " 'ngeliat',\n",
              " 'ngene',\n",
              " 'ngerasain',\n",
              " 'ngerayain',\n",
              " 'ngerjain',\n",
              " 'ngerti',\n",
              " 'ngewe',\n",
              " 'ngga',\n",
              " 'nggak',\n",
              " 'ngilangin',\n",
              " 'nginget',\n",
              " 'ngiri',\n",
              " 'ngomong',\n",
              " 'ngomongnya',\n",
              " 'ngopi',\n",
              " 'ngotot',\n",
              " 'ngumpul',\n",
              " 'ngundur',\n",
              " 'niat',\n",
              " 'nihhh',\n",
              " 'nikah',\n",
              " 'nikmatin',\n",
              " 'njir',\n",
              " 'no',\n",
              " 'nomor',\n",
              " 'nongki',\n",
              " 'nongkrong',\n",
              " 'nonton',\n",
              " 'normal',\n",
              " 'ntar',\n",
              " 'nunggu',\n",
              " 'nyebar',\n",
              " 'nyesel',\n",
              " 'nyuri',\n",
              " 'of',\n",
              " 'ofline',\n",
              " 'ojek',\n",
              " 'oklah',\n",
              " 'oknum',\n",
              " 'oktober',\n",
              " 'omicron',\n",
              " 'omnicron',\n",
              " 'omricon',\n",
              " 'on',\n",
              " 'online',\n",
              " 'opang',\n",
              " 'optimal',\n",
              " 'orang',\n",
              " 'otak',\n",
              " 'otista',\n",
              " 'otoriterin',\n",
              " 'over',\n",
              " 'pablo',\n",
              " 'paham',\n",
              " 'pajak',\n",
              " 'pakai',\n",
              " 'pake',\n",
              " 'paket',\n",
              " 'paksa',\n",
              " 'pala',\n",
              " 'pandemi',\n",
              " 'pangkal',\n",
              " 'pangkas',\n",
              " 'pantes',\n",
              " 'papa',\n",
              " 'pariwisata',\n",
              " 'parno',\n",
              " 'party',\n",
              " 'pasar',\n",
              " 'pasca',\n",
              " 'pasien',\n",
              " 'pasif',\n",
              " 'patria',\n",
              " 'patroli',\n",
              " 'patuh',\n",
              " 'pedes',\n",
              " 'peduli',\n",
              " 'pekan',\n",
              " 'pemanngilan',\n",
              " 'pematangsiantar',\n",
              " 'pemprov',\n",
              " 'penat',\n",
              " 'pendek',\n",
              " 'penuh',\n",
              " 'peran',\n",
              " 'pergi',\n",
              " 'perintah',\n",
              " 'perkara',\n",
              " 'pers',\n",
              " 'person',\n",
              " 'pesta',\n",
              " 'phri',\n",
              " 'piara',\n",
              " 'pijak',\n",
              " 'pijat',\n",
              " 'pikir',\n",
              " 'pimpin',\n",
              " 'pindah',\n",
              " 'pisah',\n",
              " 'pkonya',\n",
              " 'plan',\n",
              " 'planing',\n",
              " 'play',\n",
              " 'pleading',\n",
              " 'please',\n",
              " 'plis',\n",
              " 'pmberlakuan',\n",
              " 'pointing',\n",
              " 'pokoee',\n",
              " 'polisi',\n",
              " 'politik',\n",
              " 'poll',\n",
              " 'polrestro',\n",
              " 'polri',\n",
              " 'posisi',\n",
              " 'posko',\n",
              " 'ppkm',\n",
              " 'preventif',\n",
              " 'prewed',\n",
              " 'produk',\n",
              " 'produktif',\n",
              " 'profesional',\n",
              " 'program',\n",
              " 'prokes',\n",
              " 'proses',\n",
              " 'protes',\n",
              " 'protokol',\n",
              " 'provinsi',\n",
              " 'psbb',\n",
              " 'puasa',\n",
              " 'publik',\n",
              " 'pulang',\n",
              " 'pulih',\n",
              " 'puncak',\n",
              " 'purple',\n",
              " 'putus',\n",
              " 'pwnu',\n",
              " 'question',\n",
              " 'rahmad',\n",
              " 'rahman',\n",
              " 'raising',\n",
              " 'rakyat',\n",
              " 'ramai',\n",
              " 'rangka',\n",
              " 'rangkum',\n",
              " 'rantai',\n",
              " 'rantau',\n",
              " 'rawat',\n",
              " 'raya',\n",
              " 'ready',\n",
              " 'reaktif',\n",
              " 'rebah',\n",
              " 'refreshing',\n",
              " 'rekomendasi',\n",
              " 'rekrutmen',\n",
              " 'rencana',\n",
              " 'rendah',\n",
              " 'reposted',\n",
              " 'rese',\n",
              " 'resek',\n",
              " 'resign',\n",
              " 'resmi',\n",
              " 'rest',\n",
              " 'restoran',\n",
              " 'reuni',\n",
              " 'rezim',\n",
              " 'ribet',\n",
              " 'ringan',\n",
              " 'riza',\n",
              " 'roda',\n",
              " 'rolling',\n",
              " 'ruang',\n",
              " 'rumah',\n",
              " 'rumahh',\n",
              " 'rusak',\n",
              " 'rusuh',\n",
              " 'sadar',\n",
              " 'sakit',\n",
              " 'salah',\n",
              " 'saler',\n",
              " 'sambut',\n",
              " 'sampe',\n",
              " 'sangkut',\n",
              " 'sarang',\n",
              " 'satire',\n",
              " 'satlantas',\n",
              " 'satpol',\n",
              " 'sbar',\n",
              " 'sblm',\n",
              " 'sblmnya',\n",
              " 'sebar',\n",
              " 'sebentar',\n",
              " 'sederhana',\n",
              " 'sedih',\n",
              " 'sehat',\n",
              " 'sekat',\n",
              " 'sekolah',\n",
              " 'sekretaris',\n",
              " 'selamat',\n",
              " 'selesai',\n",
              " 'semesta',\n",
              " 'semester',\n",
              " 'sen',\n",
              " 'senang',\n",
              " 'sentil',\n",
              " 'sepakat',\n",
              " 'sepeda',\n",
              " 'sepele',\n",
              " 'september',\n",
              " 'serasa',\n",
              " 'serentak',\n",
              " 'seri',\n",
              " 'sesuai',\n",
              " 'setan',\n",
              " 'setiabudi',\n",
              " 'sgin',\n",
              " 'shock',\n",
              " 'siantar',\n",
              " 'siberat',\n",
              " 'sibuk',\n",
              " 'sigap',\n",
              " 'sign',\n",
              " 'sihh',\n",
              " 'sikap',\n",
              " 'silah',\n",
              " 'simak',\n",
              " 'simpang',\n",
              " 'sin',\n",
              " 'sinergi',\n",
              " 'sinta',\n",
              " 'sinting',\n",
              " 'sisi',\n",
              " 'sisir',\n",
              " 'sistem',\n",
              " 'siswa',\n",
              " 'situasi',\n",
              " 'situasiny',\n",
              " 'skin',\n",
              " 'skip',\n",
              " 'skrg',\n",
              " 'slama',\n",
              " 'smiling',\n",
              " 'smoga',\n",
              " 'smpe',\n",
              " 'snack',\n",
              " 'sneezing',\n",
              " 'soalna',\n",
              " 'solutions',\n",
              " 'someone',\n",
              " 'sorry',\n",
              " 'sosialisasi',\n",
              " 'spill',\n",
              " 'splayed',\n",
              " 'stabilitas',\n",
              " 'stagnan',\n",
              " 'staquf',\n",
              " 'status',\n",
              " 'stiker',\n",
              " 'stlh',\n",
              " 'stop',\n",
              " 'stres',\n",
              " 'stress',\n",
              " 'studytour',\n",
              " 'suai',\n",
              " 'suami',\n",
              " 'subandriyo',\n",
              " 'subang',\n",
              " 'subsidi',\n",
              " 'sudab',\n",
              " 'suka',\n",
              " 'sukamara',\n",
              " 'sukses',\n",
              " 'sumatera',\n",
              " 'sumpah',\n",
              " 'sumpek',\n",
              " 'sumut',\n",
              " 'suntik',\n",
              " 'super',\n",
              " 'surabaya',\n",
              " 'surah',\n",
              " 'surat',\n",
              " 'suruh',\n",
              " 'surut',\n",
              " 'susah',\n",
              " 'suzuki',\n",
              " 'sweat',\n",
              " 'syarat',\n",
              " 'taat',\n",
              " 'tabung',\n",
              " 'tahan',\n",
              " 'takenya',\n",
              " 'takut',\n",
              " 'taman',\n",
              " 'tamu',\n",
              " 'tangan',\n",
              " 'tanggal',\n",
              " 'tanggulang',\n",
              " 'tanggungjawab',\n",
              " 'tantang',\n",
              " 'target',\n",
              " 'tasikmadu',\n",
              " 'tau',\n",
              " 'taun',\n",
              " 'tawangsari',\n",
              " 'tayang',\n",
              " 'tear',\n",
              " 'tears',\n",
              " 'tegak',\n",
              " 'tekan',\n",
              " 'tell',\n",
              " 'teman',\n",
              " 'temen',\n",
              " 'tempel',\n",
              " 'tempo',\n",
              " 'temu',\n",
              " 'tenang',\n",
              " 'tenggat',\n",
              " 'tentrem',\n",
              " 'teori',\n",
              " 'tepok',\n",
              " 'terap',\n",
              " 'terbang',\n",
              " 'terget',\n",
              " 'terima',\n",
              " 'terminal',\n",
              " 'tertib',\n",
              " 'tetep',\n",
              " 'thanks',\n",
              " 'the',\n",
              " 'third',\n",
              " 'this',\n",
              " 'thumbs',\n",
              " 'tiada',\n",
              " 'timbang',\n",
              " 'timbul',\n",
              " 'tindak',\n",
              " 'tinggal',\n",
              " 'tingkat',\n",
              " 'tipe',\n",
              " 'tipping',\n",
              " 'tntng',\n",
              " 'tolak',\n",
              " 'tolol',\n",
              " 'tone',\n",
              " 'tonton',\n",
              " 'toyota',\n",
              " 'tptpu',\n",
              " 'transit',\n",
              " 'trimakasi',\n",
              " 'tros',\n",
              " 'trus',\n",
              " 'trutama',\n",
              " 'tugas',\n",
              " 'tuhan',\n",
              " 'tuju',\n",
              " 'tular',\n",
              " 'tumpuk',\n",
              " 'tunai',\n",
              " 'tunda',\n",
              " 'tunggu',\n",
              " 'tunjukin',\n",
              " 'turun',\n",
              " 'tutup',\n",
              " 'uang',\n",
              " 'ubah',\n",
              " 'uji',\n",
              " 'ujung',\n",
              " 'ultah',\n",
              " 'ultahnya',\n",
              " 'umat',\n",
              " 'umkm',\n",
              " 'ummat',\n",
              " 'unamused',\n",
              " 'undang',\n",
              " 'undur',\n",
              " 'unit',\n",
              " 'untung',\n",
              " 'up',\n",
              " 'upah',\n",
              " 'upaya',\n",
              " 'urus',\n",
              " 'usaha',\n",
              " 'utama',\n",
              " 'vaksin',\n",
              " 'vaksinasi',\n",
              " 'varian',\n",
              " 'versi',\n",
              " 'viru',\n",
              " 'virus',\n",
              " 'wabah',\n",
              " 'wabup',\n",
              " 'wagub',\n",
              " 'wajib',\n",
              " 'wake',\n",
              " 'walafiat',\n",
              " 'warga',\n",
              " 'wartawan',\n",
              " 'wave',\n",
              " 'webinar',\n",
              " 'welcome',\n",
              " 'what',\n",
              " 'wilayah',\n",
              " 'wisata',\n",
              " 'wisatawan',\n",
              " 'wish',\n",
              " 'wisma',\n",
              " 'wisuda',\n",
              " 'with',\n",
              " 'wktu',\n",
              " ...]"
            ]
          },
          "metadata": {},
          "execution_count": 114
        }
      ],
      "source": [
        "feat = bow_vectorizer.get_feature_names()\n",
        "feat"
      ]
    },
    {
      "cell_type": "code",
      "execution_count": 115,
      "metadata": {
        "id": "5kdFH5AHa_XK"
      },
      "outputs": [],
      "source": [
        "x_test=[]\n",
        "for (rev, category) in document[trainsize:]:\n",
        "  text = get_cltext(rev)\n",
        "  lmz_test = lemmatizer.lemmatize(text);\n",
        "  x_test.append(lmz_test);"
      ]
    },
    {
      "cell_type": "code",
      "execution_count": 116,
      "metadata": {
        "id": "0bKWvHMfbBMv"
      },
      "outputs": [],
      "source": [
        "bowTest = bowVect.transform(x_test)"
      ]
    },
    {
      "cell_type": "code",
      "execution_count": 117,
      "metadata": {
        "id": "Pwg_TBgyfNau"
      },
      "outputs": [],
      "source": [
        "# Nilai label dari data test\n",
        "y_act=[]\n",
        "for (rev, category) in document[trainsize:]:\n",
        "  y_act.append(category)\n",
        "\n",
        "y_act = set_numeric_label(y_act)"
      ]
    },
    {
      "cell_type": "code",
      "execution_count": 118,
      "metadata": {
        "id": "14civyCed63G"
      },
      "outputs": [],
      "source": [
        "#Mendefinisikan fungsi untuk menghitung metrik evaluasi kinerja model\n",
        "def calculateMetric(lspred, y_test):\n",
        "  lsres = []\n",
        "  for prd in lspred:\n",
        "    acc = accuracy_score(y_test, prd[1], normalize = True)\n",
        "    prs = precision_score(y_test, prd[1], pos_label=1, average='binary')\n",
        "    rcl =recall_score(y_test, prd[1], pos_label=1, average='binary')\n",
        "    f1 = f1_score(y_test, prd[1], pos_label=1, average='binary')\n",
        "    auc = roc_auc_score(y_test, prd[1])\n",
        "    lsres.append([prd[0],acc,prs,rcl,f1,auc])\n",
        "  return lsres"
      ]
    },
    {
      "cell_type": "markdown",
      "metadata": {
        "id": "U2TKeOlNZzz_"
      },
      "source": [
        "##### K Nearest Neighbor"
      ]
    },
    {
      "cell_type": "code",
      "execution_count": 119,
      "metadata": {
        "colab": {
          "base_uri": "https://localhost:8080/"
        },
        "id": "VRAehuQTH7Wv",
        "outputId": "affe8783-d3a1-4bb7-cc4c-593062ca9f11"
      },
      "outputs": [
        {
          "output_type": "execute_result",
          "data": {
            "text/plain": [
              "KNeighborsClassifier(algorithm='auto', leaf_size=30, metric='minkowski',\n",
              "                     metric_params=None, n_jobs=None, n_neighbors=3, p=2,\n",
              "                     weights='uniform')"
            ]
          },
          "metadata": {},
          "execution_count": 119
        }
      ],
      "source": [
        "knn = KNeighborsClassifier(n_neighbors = 3)\n",
        "knn.fit(bowTrain, y_train )"
      ]
    },
    {
      "cell_type": "code",
      "execution_count": 120,
      "metadata": {
        "id": "oHT9B_oGM-oS"
      },
      "outputs": [],
      "source": [
        "knpred = knn.predict(bowTest)"
      ]
    },
    {
      "cell_type": "code",
      "execution_count": 121,
      "metadata": {
        "id": "3thJB5ubJevQ"
      },
      "outputs": [],
      "source": [
        "from sklearn.metrics import classification_report"
      ]
    },
    {
      "cell_type": "code",
      "execution_count": 122,
      "metadata": {
        "id": "CyBw4az-NNC1"
      },
      "outputs": [],
      "source": [
        "target_names = [1, 0]"
      ]
    },
    {
      "cell_type": "code",
      "execution_count": 123,
      "metadata": {
        "colab": {
          "base_uri": "https://localhost:8080/"
        },
        "id": "c3B7dLJANUP2",
        "outputId": "d4fd5f97-d738-489f-dc9a-315d56bb02af"
      },
      "outputs": [
        {
          "output_type": "stream",
          "name": "stdout",
          "text": [
            "              precision    recall  f1-score   support\n",
            "\n",
            "           0       1.00      0.36      0.53        61\n",
            "           1       0.60      1.00      0.75        59\n",
            "\n",
            "    accuracy                           0.68       120\n",
            "   macro avg       0.80      0.68      0.64       120\n",
            "weighted avg       0.80      0.68      0.64       120\n",
            "\n"
          ]
        }
      ],
      "source": [
        "print(classification_report(y_act, knpred))"
      ]
    },
    {
      "cell_type": "markdown",
      "metadata": {
        "id": "pr2qtmHjZvG2"
      },
      "source": [
        "##### Decision Tree"
      ]
    },
    {
      "cell_type": "code",
      "execution_count": 124,
      "metadata": {
        "id": "2zml3IFe4Dyx"
      },
      "outputs": [],
      "source": [
        "dtree = DecisionTreeClassifier()\n",
        "\n",
        "dtclf = dtree.fit(bowTrain, y_train) \n",
        "dtpred = dtclf.predict(bowTest)\n"
      ]
    },
    {
      "cell_type": "code",
      "execution_count": 125,
      "metadata": {
        "colab": {
          "base_uri": "https://localhost:8080/"
        },
        "id": "98xgkztS4NzQ",
        "outputId": "15198391-f7c0-4c1f-b349-6492358a393f"
      },
      "outputs": [
        {
          "output_type": "stream",
          "name": "stdout",
          "text": [
            "Decission Tree accuracy :  0.8416666666666667\n"
          ]
        }
      ],
      "source": [
        "print(\"Decission Tree accuracy : \",accuracy_score(y_act, dtpred, normalize = True))"
      ]
    },
    {
      "cell_type": "markdown",
      "metadata": {
        "id": "WgdUIDUzcK0o"
      },
      "source": [
        "##### Logistic Regression"
      ]
    },
    {
      "cell_type": "code",
      "execution_count": 126,
      "metadata": {
        "id": "9ncVcwFYcR1j"
      },
      "outputs": [],
      "source": [
        "lr = LogisticRegression()\n",
        "lrclf = lr.fit(bowTrain, y_train)\n",
        "lrpred = lrclf.predict(bowTest)"
      ]
    },
    {
      "cell_type": "code",
      "execution_count": 127,
      "metadata": {
        "colab": {
          "base_uri": "https://localhost:8080/"
        },
        "id": "A8R8buygdUrO",
        "outputId": "20c5ad13-30ae-480c-9121-4d4bc0d031f7"
      },
      "outputs": [
        {
          "output_type": "stream",
          "name": "stdout",
          "text": [
            "Logistic regression accuracy :  0.8416666666666667\n"
          ]
        }
      ],
      "source": [
        "print(\"Logistic regression accuracy : \",accuracy_score(y_act, lrpred, normalize = True))"
      ]
    },
    {
      "cell_type": "markdown",
      "metadata": {
        "id": "6UiuvVMlaFI1"
      },
      "source": [
        "##### Naive Bayes"
      ]
    },
    {
      "cell_type": "code",
      "execution_count": 128,
      "metadata": {
        "colab": {
          "base_uri": "https://localhost:8080/"
        },
        "id": "wezvKtjR5DR9",
        "outputId": "c6a73342-a0a8-413d-f316-46f048cbf53f"
      },
      "outputs": [
        {
          "output_type": "stream",
          "name": "stdout",
          "text": [
            "Naive-Bayes accuracy :  0.625\n"
          ]
        }
      ],
      "source": [
        "gnb = GaussianNB()\n",
        "# latih classifier dengan data train dan lakukan prediksi\n",
        "nbclf = gnb.fit(bowTrain.toarray(), y_train) \n",
        "nbpred = nbclf.predict(bowTest.toarray())\n",
        "print(\"Naive-Bayes accuracy : \",accuracy_score(y_act, nbpred, normalize = True))"
      ]
    },
    {
      "cell_type": "markdown",
      "metadata": {
        "id": "Dw6I7K5qaMuH"
      },
      "source": [
        "##### Random Forest"
      ]
    },
    {
      "cell_type": "code",
      "execution_count": 129,
      "metadata": {
        "colab": {
          "base_uri": "https://localhost:8080/"
        },
        "id": "WbEcVrCQSBfI",
        "outputId": "67755fb5-e7a2-4c3c-af30-a4e78b8f4b10"
      },
      "outputs": [
        {
          "output_type": "stream",
          "name": "stdout",
          "text": [
            "random forest accuracy :  0.825\n"
          ]
        }
      ],
      "source": [
        "# Random Forest\n",
        "rf = RandomForestClassifier(n_estimators=1000,max_depth=100,random_state=1, n_jobs=-1)\n",
        "rfclf = rf.fit(bowTrain.toarray(), y_train)\n",
        "rf_pred = rfclf.predict(bowTest.toarray())\n",
        "print(\"random forest accuracy : \",accuracy_score(y_act, rf_pred, normalize = True))"
      ]
    },
    {
      "cell_type": "code",
      "execution_count": 130,
      "metadata": {
        "colab": {
          "base_uri": "https://localhost:8080/"
        },
        "id": "d9tc-a5bZ7B6",
        "outputId": "645e174a-241a-4f6d-9ff4-38f07a1f9e35"
      },
      "outputs": [
        {
          "output_type": "stream",
          "name": "stdout",
          "text": [
            "              precision    recall  f1-score   support\n",
            "\n",
            "           0       1.00      0.66      0.79        61\n",
            "           1       0.74      1.00      0.85        59\n",
            "\n",
            "    accuracy                           0.82       120\n",
            "   macro avg       0.87      0.83      0.82       120\n",
            "weighted avg       0.87      0.82      0.82       120\n",
            "\n"
          ]
        }
      ],
      "source": [
        "print(classification_report(y_act, rf_pred))"
      ]
    },
    {
      "cell_type": "markdown",
      "metadata": {
        "id": "vOnQlt9laWtR"
      },
      "source": [
        "##### LGBM"
      ]
    },
    {
      "cell_type": "code",
      "execution_count": 131,
      "metadata": {
        "id": "NaKlAFwybCwd"
      },
      "outputs": [],
      "source": [
        "#LGBMBoost\n",
        "lgb = LGBMClassifier()\n",
        "\n",
        "lgbclf = lgb.fit(bowTrain.toarray(), y_train) \n",
        "lgb_pred = lgbclf.predict(bowTest.toarray())"
      ]
    },
    {
      "cell_type": "code",
      "execution_count": 132,
      "metadata": {
        "colab": {
          "base_uri": "https://localhost:8080/"
        },
        "id": "cyGrp77qberL",
        "outputId": "3f9633e4-b700-4bae-8720-bcb9298f4d2f"
      },
      "outputs": [
        {
          "output_type": "stream",
          "name": "stdout",
          "text": [
            "              precision    recall  f1-score   support\n",
            "\n",
            "           0       0.98      0.89      0.93        61\n",
            "           1       0.89      0.98      0.94        59\n",
            "\n",
            "    accuracy                           0.93       120\n",
            "   macro avg       0.94      0.93      0.93       120\n",
            "weighted avg       0.94      0.93      0.93       120\n",
            "\n"
          ]
        }
      ],
      "source": [
        "print(classification_report(y_act, lgb_pred))"
      ]
    },
    {
      "cell_type": "markdown",
      "metadata": {
        "id": "gftAqNXEaeZ-"
      },
      "source": [
        "##### XGBoost"
      ]
    },
    {
      "cell_type": "code",
      "execution_count": 133,
      "metadata": {
        "id": "qCYQy-VFbvZs"
      },
      "outputs": [],
      "source": [
        "#XGBoost\n",
        "xgb = XGBClassifier()\n",
        "\n",
        "xgbclf = xgb.fit(bowTrain, y_train) \n",
        "xgb_pred = xgbclf.predict(bowTest)"
      ]
    },
    {
      "cell_type": "code",
      "execution_count": 134,
      "metadata": {
        "colab": {
          "base_uri": "https://localhost:8080/"
        },
        "id": "PDaxqCsgcTxD",
        "outputId": "f4573008-3908-46a8-eca1-32dd1ce76caa"
      },
      "outputs": [
        {
          "output_type": "stream",
          "name": "stdout",
          "text": [
            "              precision    recall  f1-score   support\n",
            "\n",
            "           0       0.98      0.84      0.90        61\n",
            "           1       0.85      0.98      0.91        59\n",
            "\n",
            "    accuracy                           0.91       120\n",
            "   macro avg       0.92      0.91      0.91       120\n",
            "weighted avg       0.92      0.91      0.91       120\n",
            "\n"
          ]
        }
      ],
      "source": [
        "print(classification_report(y_act, xgb_pred))"
      ]
    },
    {
      "cell_type": "markdown",
      "metadata": {
        "id": "nqZfWeVTajwY"
      },
      "source": [
        "##### AdaBoost"
      ]
    },
    {
      "cell_type": "code",
      "execution_count": 135,
      "metadata": {
        "id": "J1vM2QsF2eNs"
      },
      "outputs": [],
      "source": [
        "#AdaBoost\n",
        "ada = AdaBoostClassifier(n_estimators=10, random_state=1)\n",
        "adaclf = ada.fit(bowTrain, y_train)\n",
        "ada_pred = adaclf.predict(bowTest)"
      ]
    },
    {
      "cell_type": "code",
      "execution_count": 136,
      "metadata": {
        "colab": {
          "base_uri": "https://localhost:8080/"
        },
        "id": "jef_gMpG2vlK",
        "outputId": "f435d585-4561-4c47-b112-0290f7db1044"
      },
      "outputs": [
        {
          "output_type": "stream",
          "name": "stdout",
          "text": [
            "              precision    recall  f1-score   support\n",
            "\n",
            "           0       0.97      0.95      0.96        61\n",
            "           1       0.95      0.97      0.96        59\n",
            "\n",
            "    accuracy                           0.96       120\n",
            "   macro avg       0.96      0.96      0.96       120\n",
            "weighted avg       0.96      0.96      0.96       120\n",
            "\n"
          ]
        }
      ],
      "source": [
        "print(classification_report(y_act, ada_pred))"
      ]
    },
    {
      "cell_type": "markdown",
      "metadata": {
        "id": "iuIqE5Msapu2"
      },
      "source": [
        "##### Stacking - Voting Classifier"
      ]
    },
    {
      "cell_type": "code",
      "execution_count": 137,
      "metadata": {
        "id": "apKli84y3rIE"
      },
      "outputs": [],
      "source": [
        "models = [\n",
        "    ('knn', knn),\n",
        "    ('lr', lr),\n",
        "    ('ada', ada),\n",
        "    ('rf', rf)]\n",
        "\n",
        "model_voting = VotingClassifier(estimators=models, n_jobs=-1)\n",
        "model_voting.fit(bowTrain.toarray(), y_train)\n",
        "vot_pred = model_voting.predict(bowTest.toarray())"
      ]
    },
    {
      "cell_type": "code",
      "execution_count": 138,
      "metadata": {
        "colab": {
          "base_uri": "https://localhost:8080/"
        },
        "id": "Gyr9KNqK4UqR",
        "outputId": "a08a64b7-4a7a-4d47-c463-fe21d5b8d007"
      },
      "outputs": [
        {
          "output_type": "stream",
          "name": "stdout",
          "text": [
            "              precision    recall  f1-score   support\n",
            "\n",
            "           0       1.00      0.70      0.83        61\n",
            "           1       0.77      1.00      0.87        59\n",
            "\n",
            "    accuracy                           0.85       120\n",
            "   macro avg       0.88      0.85      0.85       120\n",
            "weighted avg       0.89      0.85      0.85       120\n",
            "\n"
          ]
        }
      ],
      "source": [
        "print(classification_report(y_act, vot_pred))"
      ]
    },
    {
      "cell_type": "markdown",
      "metadata": {
        "id": "uJZp_Gijefpw"
      },
      "source": [
        "### Evaluasi Kinerja Model"
      ]
    },
    {
      "cell_type": "markdown",
      "metadata": {
        "id": "NTN1WPELei3G"
      },
      "source": [
        "#### Hold Out"
      ]
    },
    {
      "cell_type": "code",
      "execution_count": 139,
      "metadata": {
        "colab": {
          "base_uri": "https://localhost:8080/",
          "height": 300
        },
        "id": "2SzmgEsUemQJ",
        "outputId": "a481f66e-e64b-4aaa-b263-26daf9bedc69"
      },
      "outputs": [
        {
          "output_type": "execute_result",
          "data": {
            "text/plain": [
              "  Classifier  Accuracy  Precision    Recall  F1-Score  AUC Score\n",
              "6   adaboost  0.958333   0.950000  0.966102  0.957983   0.958461\n",
              "4       lgbm  0.933333   0.892308  0.983051  0.935484   0.934148\n",
              "5        xgb  0.908333   0.852941  0.983051  0.913386   0.909558\n",
              "7        vot  0.850000   0.766234  1.000000  0.867647   0.852459\n",
              "1         dt  0.841667   0.756410  1.000000  0.861314   0.844262\n",
              "2         lr  0.841667   0.756410  1.000000  0.861314   0.844262\n",
              "3         rf  0.825000   0.737500  1.000000  0.848921   0.827869\n",
              "0        knn  0.675000   0.602041  1.000000  0.751592   0.680328"
            ],
            "text/html": [
              "\n",
              "  <div id=\"df-96ea0c1b-5e8a-4960-925d-cf7f69338b96\">\n",
              "    <div class=\"colab-df-container\">\n",
              "      <div>\n",
              "<style scoped>\n",
              "    .dataframe tbody tr th:only-of-type {\n",
              "        vertical-align: middle;\n",
              "    }\n",
              "\n",
              "    .dataframe tbody tr th {\n",
              "        vertical-align: top;\n",
              "    }\n",
              "\n",
              "    .dataframe thead th {\n",
              "        text-align: right;\n",
              "    }\n",
              "</style>\n",
              "<table border=\"1\" class=\"dataframe\">\n",
              "  <thead>\n",
              "    <tr style=\"text-align: right;\">\n",
              "      <th></th>\n",
              "      <th>Classifier</th>\n",
              "      <th>Accuracy</th>\n",
              "      <th>Precision</th>\n",
              "      <th>Recall</th>\n",
              "      <th>F1-Score</th>\n",
              "      <th>AUC Score</th>\n",
              "    </tr>\n",
              "  </thead>\n",
              "  <tbody>\n",
              "    <tr>\n",
              "      <th>6</th>\n",
              "      <td>adaboost</td>\n",
              "      <td>0.958333</td>\n",
              "      <td>0.950000</td>\n",
              "      <td>0.966102</td>\n",
              "      <td>0.957983</td>\n",
              "      <td>0.958461</td>\n",
              "    </tr>\n",
              "    <tr>\n",
              "      <th>4</th>\n",
              "      <td>lgbm</td>\n",
              "      <td>0.933333</td>\n",
              "      <td>0.892308</td>\n",
              "      <td>0.983051</td>\n",
              "      <td>0.935484</td>\n",
              "      <td>0.934148</td>\n",
              "    </tr>\n",
              "    <tr>\n",
              "      <th>5</th>\n",
              "      <td>xgb</td>\n",
              "      <td>0.908333</td>\n",
              "      <td>0.852941</td>\n",
              "      <td>0.983051</td>\n",
              "      <td>0.913386</td>\n",
              "      <td>0.909558</td>\n",
              "    </tr>\n",
              "    <tr>\n",
              "      <th>7</th>\n",
              "      <td>vot</td>\n",
              "      <td>0.850000</td>\n",
              "      <td>0.766234</td>\n",
              "      <td>1.000000</td>\n",
              "      <td>0.867647</td>\n",
              "      <td>0.852459</td>\n",
              "    </tr>\n",
              "    <tr>\n",
              "      <th>1</th>\n",
              "      <td>dt</td>\n",
              "      <td>0.841667</td>\n",
              "      <td>0.756410</td>\n",
              "      <td>1.000000</td>\n",
              "      <td>0.861314</td>\n",
              "      <td>0.844262</td>\n",
              "    </tr>\n",
              "    <tr>\n",
              "      <th>2</th>\n",
              "      <td>lr</td>\n",
              "      <td>0.841667</td>\n",
              "      <td>0.756410</td>\n",
              "      <td>1.000000</td>\n",
              "      <td>0.861314</td>\n",
              "      <td>0.844262</td>\n",
              "    </tr>\n",
              "    <tr>\n",
              "      <th>3</th>\n",
              "      <td>rf</td>\n",
              "      <td>0.825000</td>\n",
              "      <td>0.737500</td>\n",
              "      <td>1.000000</td>\n",
              "      <td>0.848921</td>\n",
              "      <td>0.827869</td>\n",
              "    </tr>\n",
              "    <tr>\n",
              "      <th>0</th>\n",
              "      <td>knn</td>\n",
              "      <td>0.675000</td>\n",
              "      <td>0.602041</td>\n",
              "      <td>1.000000</td>\n",
              "      <td>0.751592</td>\n",
              "      <td>0.680328</td>\n",
              "    </tr>\n",
              "  </tbody>\n",
              "</table>\n",
              "</div>\n",
              "      <button class=\"colab-df-convert\" onclick=\"convertToInteractive('df-96ea0c1b-5e8a-4960-925d-cf7f69338b96')\"\n",
              "              title=\"Convert this dataframe to an interactive table.\"\n",
              "              style=\"display:none;\">\n",
              "        \n",
              "  <svg xmlns=\"http://www.w3.org/2000/svg\" height=\"24px\"viewBox=\"0 0 24 24\"\n",
              "       width=\"24px\">\n",
              "    <path d=\"M0 0h24v24H0V0z\" fill=\"none\"/>\n",
              "    <path d=\"M18.56 5.44l.94 2.06.94-2.06 2.06-.94-2.06-.94-.94-2.06-.94 2.06-2.06.94zm-11 1L8.5 8.5l.94-2.06 2.06-.94-2.06-.94L8.5 2.5l-.94 2.06-2.06.94zm10 10l.94 2.06.94-2.06 2.06-.94-2.06-.94-.94-2.06-.94 2.06-2.06.94z\"/><path d=\"M17.41 7.96l-1.37-1.37c-.4-.4-.92-.59-1.43-.59-.52 0-1.04.2-1.43.59L10.3 9.45l-7.72 7.72c-.78.78-.78 2.05 0 2.83L4 21.41c.39.39.9.59 1.41.59.51 0 1.02-.2 1.41-.59l7.78-7.78 2.81-2.81c.8-.78.8-2.07 0-2.86zM5.41 20L4 18.59l7.72-7.72 1.47 1.35L5.41 20z\"/>\n",
              "  </svg>\n",
              "      </button>\n",
              "      \n",
              "  <style>\n",
              "    .colab-df-container {\n",
              "      display:flex;\n",
              "      flex-wrap:wrap;\n",
              "      gap: 12px;\n",
              "    }\n",
              "\n",
              "    .colab-df-convert {\n",
              "      background-color: #E8F0FE;\n",
              "      border: none;\n",
              "      border-radius: 50%;\n",
              "      cursor: pointer;\n",
              "      display: none;\n",
              "      fill: #1967D2;\n",
              "      height: 32px;\n",
              "      padding: 0 0 0 0;\n",
              "      width: 32px;\n",
              "    }\n",
              "\n",
              "    .colab-df-convert:hover {\n",
              "      background-color: #E2EBFA;\n",
              "      box-shadow: 0px 1px 2px rgba(60, 64, 67, 0.3), 0px 1px 3px 1px rgba(60, 64, 67, 0.15);\n",
              "      fill: #174EA6;\n",
              "    }\n",
              "\n",
              "    [theme=dark] .colab-df-convert {\n",
              "      background-color: #3B4455;\n",
              "      fill: #D2E3FC;\n",
              "    }\n",
              "\n",
              "    [theme=dark] .colab-df-convert:hover {\n",
              "      background-color: #434B5C;\n",
              "      box-shadow: 0px 1px 3px 1px rgba(0, 0, 0, 0.15);\n",
              "      filter: drop-shadow(0px 1px 2px rgba(0, 0, 0, 0.3));\n",
              "      fill: #FFFFFF;\n",
              "    }\n",
              "  </style>\n",
              "\n",
              "      <script>\n",
              "        const buttonEl =\n",
              "          document.querySelector('#df-96ea0c1b-5e8a-4960-925d-cf7f69338b96 button.colab-df-convert');\n",
              "        buttonEl.style.display =\n",
              "          google.colab.kernel.accessAllowed ? 'block' : 'none';\n",
              "\n",
              "        async function convertToInteractive(key) {\n",
              "          const element = document.querySelector('#df-96ea0c1b-5e8a-4960-925d-cf7f69338b96');\n",
              "          const dataTable =\n",
              "            await google.colab.kernel.invokeFunction('convertToInteractive',\n",
              "                                                     [key], {});\n",
              "          if (!dataTable) return;\n",
              "\n",
              "          const docLinkHtml = 'Like what you see? Visit the ' +\n",
              "            '<a target=\"_blank\" href=https://colab.research.google.com/notebooks/data_table.ipynb>data table notebook</a>'\n",
              "            + ' to learn more about interactive tables.';\n",
              "          element.innerHTML = '';\n",
              "          dataTable['output_type'] = 'display_data';\n",
              "          await google.colab.output.renderOutput(dataTable, element);\n",
              "          const docLink = document.createElement('div');\n",
              "          docLink.innerHTML = docLinkHtml;\n",
              "          element.appendChild(docLink);\n",
              "        }\n",
              "      </script>\n",
              "    </div>\n",
              "  </div>\n",
              "  "
            ]
          },
          "metadata": {},
          "execution_count": 139
        }
      ],
      "source": [
        "#menjalankan evaluasi model\n",
        "lspred = []\n",
        "lspred.append(['knn',knpred])\n",
        "lspred.append(['dt',dtpred])\n",
        "lspred.append(['lr',lrpred])\n",
        "lspred.append(['rf',rf_pred])\n",
        "lspred.append(['lgbm',lgb_pred])\n",
        "lspred.append(['xgb',xgb_pred])\n",
        "lspred.append(['adaboost',ada_pred])\n",
        "lspred.append(['vot',vot_pred])\n",
        "\n",
        "dfeval = pd.DataFrame(calculateMetric(lspred, y_act), columns=['Classifier','Accuracy','Precision','Recall','F1-Score', 'AUC Score'])\n",
        "dfeval.sort_values(['F1-Score'], ascending=False)"
      ]
    },
    {
      "cell_type": "markdown",
      "metadata": {
        "id": "IX6IQ5Prh4cz"
      },
      "source": [
        "#### Cross Validation\n"
      ]
    },
    {
      "cell_type": "code",
      "execution_count": 140,
      "metadata": {
        "id": "EDofeitgh-j_"
      },
      "outputs": [],
      "source": [
        "x_cvtrain = [];\n",
        "y_cvtrain = [];\n",
        "for (rev, category) in document:\n",
        "  #text = cleanText(rev)\n",
        "  text = get_cltext(rev)\n",
        "  #lmz_train = lemmatizer.lemmatize(text);\n",
        "  x_cvtrain.append(text);\n",
        "  y_cvtrain.append(category);"
      ]
    },
    {
      "cell_type": "code",
      "execution_count": 141,
      "metadata": {
        "id": "hVd4YjGtiZSv"
      },
      "outputs": [],
      "source": [
        "bow_cvtrain = bowVect.transform(x_cvtrain)"
      ]
    },
    {
      "cell_type": "code",
      "execution_count": 142,
      "metadata": {
        "id": "eackWOWfm3Ij"
      },
      "outputs": [],
      "source": [
        "#Mendefinisikan fungsi untuk membandingkan hasil cross validation dari setiap classifier\n",
        "def recCrossval(lsclf, xtrain, ytrain, k):\n",
        "  lsCvResult = []\n",
        "  for clf in lsclf:\n",
        "    cvreport = cross_validate(clf[1], xtrain, ytrain, scoring=['accuracy','precision_macro','recall_macro','f1_macro'], cv=k,n_jobs= -1, return_train_score= True)\n",
        "    lsCvResult.append([clf[0],np.average(cvreport['fit_time']),np.average(cvreport['test_accuracy']),np.average(cvreport['test_precision_macro']),np.average(cvreport['test_recall_macro']),np.average(cvreport['test_f1_macro'])])\n",
        "  return lsCvResult"
      ]
    },
    {
      "cell_type": "code",
      "execution_count": 143,
      "metadata": {
        "colab": {
          "base_uri": "https://localhost:8080/",
          "height": 175
        },
        "id": "jd5gGDPjnDBb",
        "outputId": "09d37242-11ec-46e1-e31d-7699db6bd710"
      },
      "outputs": [
        {
          "output_type": "execute_result",
          "data": {
            "text/plain": [
              "  classifier  avg fit time  avg accuracy  avg precision macro  \\\n",
              "3         rf      3.474889        0.8750             0.876806   \n",
              "1         lr      0.028516        0.8750             0.880722   \n",
              "2        ada      0.042129        0.8750             0.869436   \n",
              "0        knn      0.001754        0.8775             0.880137   \n",
              "\n",
              "   avg recall macro  avg f1 macro  \n",
              "3          0.878252      0.871138  \n",
              "1          0.875882      0.870774  \n",
              "2          0.868068      0.868445  \n",
              "0          0.861276      0.867671  "
            ],
            "text/html": [
              "\n",
              "  <div id=\"df-106b69a7-8a37-46b2-8d9d-2e476a1d3a04\">\n",
              "    <div class=\"colab-df-container\">\n",
              "      <div>\n",
              "<style scoped>\n",
              "    .dataframe tbody tr th:only-of-type {\n",
              "        vertical-align: middle;\n",
              "    }\n",
              "\n",
              "    .dataframe tbody tr th {\n",
              "        vertical-align: top;\n",
              "    }\n",
              "\n",
              "    .dataframe thead th {\n",
              "        text-align: right;\n",
              "    }\n",
              "</style>\n",
              "<table border=\"1\" class=\"dataframe\">\n",
              "  <thead>\n",
              "    <tr style=\"text-align: right;\">\n",
              "      <th></th>\n",
              "      <th>classifier</th>\n",
              "      <th>avg fit time</th>\n",
              "      <th>avg accuracy</th>\n",
              "      <th>avg precision macro</th>\n",
              "      <th>avg recall macro</th>\n",
              "      <th>avg f1 macro</th>\n",
              "    </tr>\n",
              "  </thead>\n",
              "  <tbody>\n",
              "    <tr>\n",
              "      <th>3</th>\n",
              "      <td>rf</td>\n",
              "      <td>3.474889</td>\n",
              "      <td>0.8750</td>\n",
              "      <td>0.876806</td>\n",
              "      <td>0.878252</td>\n",
              "      <td>0.871138</td>\n",
              "    </tr>\n",
              "    <tr>\n",
              "      <th>1</th>\n",
              "      <td>lr</td>\n",
              "      <td>0.028516</td>\n",
              "      <td>0.8750</td>\n",
              "      <td>0.880722</td>\n",
              "      <td>0.875882</td>\n",
              "      <td>0.870774</td>\n",
              "    </tr>\n",
              "    <tr>\n",
              "      <th>2</th>\n",
              "      <td>ada</td>\n",
              "      <td>0.042129</td>\n",
              "      <td>0.8750</td>\n",
              "      <td>0.869436</td>\n",
              "      <td>0.868068</td>\n",
              "      <td>0.868445</td>\n",
              "    </tr>\n",
              "    <tr>\n",
              "      <th>0</th>\n",
              "      <td>knn</td>\n",
              "      <td>0.001754</td>\n",
              "      <td>0.8775</td>\n",
              "      <td>0.880137</td>\n",
              "      <td>0.861276</td>\n",
              "      <td>0.867671</td>\n",
              "    </tr>\n",
              "  </tbody>\n",
              "</table>\n",
              "</div>\n",
              "      <button class=\"colab-df-convert\" onclick=\"convertToInteractive('df-106b69a7-8a37-46b2-8d9d-2e476a1d3a04')\"\n",
              "              title=\"Convert this dataframe to an interactive table.\"\n",
              "              style=\"display:none;\">\n",
              "        \n",
              "  <svg xmlns=\"http://www.w3.org/2000/svg\" height=\"24px\"viewBox=\"0 0 24 24\"\n",
              "       width=\"24px\">\n",
              "    <path d=\"M0 0h24v24H0V0z\" fill=\"none\"/>\n",
              "    <path d=\"M18.56 5.44l.94 2.06.94-2.06 2.06-.94-2.06-.94-.94-2.06-.94 2.06-2.06.94zm-11 1L8.5 8.5l.94-2.06 2.06-.94-2.06-.94L8.5 2.5l-.94 2.06-2.06.94zm10 10l.94 2.06.94-2.06 2.06-.94-2.06-.94-.94-2.06-.94 2.06-2.06.94z\"/><path d=\"M17.41 7.96l-1.37-1.37c-.4-.4-.92-.59-1.43-.59-.52 0-1.04.2-1.43.59L10.3 9.45l-7.72 7.72c-.78.78-.78 2.05 0 2.83L4 21.41c.39.39.9.59 1.41.59.51 0 1.02-.2 1.41-.59l7.78-7.78 2.81-2.81c.8-.78.8-2.07 0-2.86zM5.41 20L4 18.59l7.72-7.72 1.47 1.35L5.41 20z\"/>\n",
              "  </svg>\n",
              "      </button>\n",
              "      \n",
              "  <style>\n",
              "    .colab-df-container {\n",
              "      display:flex;\n",
              "      flex-wrap:wrap;\n",
              "      gap: 12px;\n",
              "    }\n",
              "\n",
              "    .colab-df-convert {\n",
              "      background-color: #E8F0FE;\n",
              "      border: none;\n",
              "      border-radius: 50%;\n",
              "      cursor: pointer;\n",
              "      display: none;\n",
              "      fill: #1967D2;\n",
              "      height: 32px;\n",
              "      padding: 0 0 0 0;\n",
              "      width: 32px;\n",
              "    }\n",
              "\n",
              "    .colab-df-convert:hover {\n",
              "      background-color: #E2EBFA;\n",
              "      box-shadow: 0px 1px 2px rgba(60, 64, 67, 0.3), 0px 1px 3px 1px rgba(60, 64, 67, 0.15);\n",
              "      fill: #174EA6;\n",
              "    }\n",
              "\n",
              "    [theme=dark] .colab-df-convert {\n",
              "      background-color: #3B4455;\n",
              "      fill: #D2E3FC;\n",
              "    }\n",
              "\n",
              "    [theme=dark] .colab-df-convert:hover {\n",
              "      background-color: #434B5C;\n",
              "      box-shadow: 0px 1px 3px 1px rgba(0, 0, 0, 0.15);\n",
              "      filter: drop-shadow(0px 1px 2px rgba(0, 0, 0, 0.3));\n",
              "      fill: #FFFFFF;\n",
              "    }\n",
              "  </style>\n",
              "\n",
              "      <script>\n",
              "        const buttonEl =\n",
              "          document.querySelector('#df-106b69a7-8a37-46b2-8d9d-2e476a1d3a04 button.colab-df-convert');\n",
              "        buttonEl.style.display =\n",
              "          google.colab.kernel.accessAllowed ? 'block' : 'none';\n",
              "\n",
              "        async function convertToInteractive(key) {\n",
              "          const element = document.querySelector('#df-106b69a7-8a37-46b2-8d9d-2e476a1d3a04');\n",
              "          const dataTable =\n",
              "            await google.colab.kernel.invokeFunction('convertToInteractive',\n",
              "                                                     [key], {});\n",
              "          if (!dataTable) return;\n",
              "\n",
              "          const docLinkHtml = 'Like what you see? Visit the ' +\n",
              "            '<a target=\"_blank\" href=https://colab.research.google.com/notebooks/data_table.ipynb>data table notebook</a>'\n",
              "            + ' to learn more about interactive tables.';\n",
              "          element.innerHTML = '';\n",
              "          dataTable['output_type'] = 'display_data';\n",
              "          await google.colab.output.renderOutput(dataTable, element);\n",
              "          const docLink = document.createElement('div');\n",
              "          docLink.innerHTML = docLinkHtml;\n",
              "          element.appendChild(docLink);\n",
              "        }\n",
              "      </script>\n",
              "    </div>\n",
              "  </div>\n",
              "  "
            ]
          },
          "metadata": {},
          "execution_count": 143
        }
      ],
      "source": [
        "res = recCrossval(models,bow_cvtrain, y_cvtrain, 5)\n",
        "dfcvresult = pd.DataFrame(res, columns=['classifier','avg fit time','avg accuracy','avg precision macro','avg recall macro','avg f1 macro'])\n",
        "dfcvresult.sort_values(['avg f1 macro'], ascending=False)"
      ]
    },
    {
      "cell_type": "markdown",
      "metadata": {
        "id": "TbFtKkwBZbYe"
      },
      "source": [
        "### Model Goodfitness\n",
        "* Overfitting : Hal ini terjadi ketika model bekerja sangat baik dengan data-train namun memiliki performa kurang baik saat diberikan data-validation dan data-test, biasanya disebabkan karena model terlalu kompleks sehingga menangkap setiap data noise yang ada (Bias yang rendah dan Variance yang tinggi)\n",
        "\n",
        "* Underfitting : Hal ini terjadi ketika model tidak dapat menangkap pola yang kompleks pada data sehingga memiliki performa yang buruk saat train , test , dan validation. Biasanya terjadi pada model yang cenderung sederhana. (Bias yang tinggi dan Variance yang rendah)."
      ]
    },
    {
      "cell_type": "markdown",
      "metadata": {
        "id": "0wuVCkhKZrWm"
      },
      "source": [
        "#### Kompleksitas Model"
      ]
    },
    {
      "cell_type": "code",
      "execution_count": 144,
      "metadata": {
        "colab": {
          "base_uri": "https://localhost:8080/",
          "height": 312
        },
        "id": "bmY1elkKZxdU",
        "outputId": "6d9e8b5f-4a25-4023-f8bc-6442c5ae476d"
      },
      "outputs": [
        {
          "output_type": "execute_result",
          "data": {
            "text/plain": [
              "<matplotlib.legend.Legend at 0x7fcadfb0ff10>"
            ]
          },
          "metadata": {},
          "execution_count": 144
        },
        {
          "output_type": "display_data",
          "data": {
            "text/plain": [
              "<Figure size 432x288 with 1 Axes>"
            ],
            "image/png": "[encoded data removed]"
          },
          "metadata": {
            "needs_background": "light"
          }
        }
      ],
      "source": [
        "p = list(range(1, 10))\n",
        "lst_test =[]\n",
        "lst_train =[]\n",
        "for i in p:\n",
        "    knn = KNeighborsClassifier(n_neighbors = i)\n",
        "    knn.fit(bowTrain, y_train)\n",
        "    z = knn.score(bowTest, y_act)\n",
        "    t = knn.score(bowTrain, y_train)\n",
        "    lst_test.append(z)\n",
        "    lst_train.append(t)\n",
        "      \n",
        "plt.plot(p, lst_test, color ='red', label ='Test Accuracy')\n",
        "plt.plot(p, lst_train, color ='b', label ='Train Accuracy')\n",
        "plt.xlabel('K VALUES --->')\n",
        "plt.title('FINDING BEST VALUE FOR K')\n",
        "plt.legend()"
      ]
    },
    {
      "cell_type": "markdown",
      "metadata": {
        "id": "LUr5yKGgaIsj"
      },
      "source": [
        "#### Model Tunning"
      ]
    },
    {
      "cell_type": "markdown",
      "metadata": {
        "id": "jfOzswAMhVJd"
      },
      "source": [
        "##### Feature Reduction"
      ]
    },
    {
      "cell_type": "markdown",
      "metadata": {
        "id": "pXeYynAbpG_u"
      },
      "source": [
        "###### Select From Model"
      ]
    },
    {
      "cell_type": "code",
      "execution_count": 145,
      "metadata": {
        "colab": {
          "base_uri": "https://localhost:8080/"
        },
        "id": "gtJkLKEkSldq",
        "outputId": "1409a32b-3dd3-4cf9-abfc-1ff4df1a5eed"
      },
      "outputs": [
        {
          "output_type": "execute_result",
          "data": {
            "text/plain": [
              "(400, 347)"
            ]
          },
          "metadata": {},
          "execution_count": 145
        }
      ],
      "source": [
        "feature_select = SelectFromModel(lr, prefit=True)\n",
        "x_mdltrain = feature_select.transform(bow_cvtrain)\n",
        "x_mdltrain.shape"
      ]
    },
    {
      "cell_type": "code",
      "execution_count": 146,
      "metadata": {
        "id": "mVA7aA02lN-s"
      },
      "outputs": [],
      "source": [
        "mask = feature_select.get_support()\n",
        "mdlfeat = []\n",
        "for bool, feature in zip(mask, bowVect.get_feature_names()):\n",
        "    if bool :\n",
        "        mdlfeat.append(feature)"
      ]
    },
    {
      "cell_type": "code",
      "execution_count": 147,
      "metadata": {
        "colab": {
          "base_uri": "https://localhost:8080/",
          "height": 317
        },
        "id": "DvikEH1Yl55K",
        "outputId": "3097c77d-dd28-4e1b-ef50-52f7c81dcbef"
      },
      "outputs": [
        {
          "output_type": "execute_result",
          "data": {
            "text/plain": [
              "LR Train    0.986667\n",
              "LR Test     0.867500\n",
              "dtype: float64"
            ]
          },
          "metadata": {},
          "execution_count": 147
        },
        {
          "output_type": "display_data",
          "data": {
            "text/plain": [
              "<Figure size 432x288 with 1 Axes>"
            ],
            "image/png": "[encoded data removed]"
          },
          "metadata": {
            "needs_background": "light"
          }
        }
      ],
      "source": [
        "# Coba data baru\n",
        "score_dt = cross_validate(lr, x_mdltrain, y_cvtrain, scoring='accuracy', cv=10, return_train_score= True)\n",
        "column = {'LR Train': score_dt['train_score'], 'LR Test': score_dt['test_score']}\n",
        "df = pd.DataFrame(data=column)\n",
        "plot = sns.boxplot(data = df, linewidth=2.5)\n",
        "df.mean()"
      ]
    },
    {
      "cell_type": "markdown",
      "metadata": {
        "id": "COq-oI7Tqi7I"
      },
      "source": [
        "##### Hyper Parameter Tuning"
      ]
    },
    {
      "cell_type": "code",
      "execution_count": 148,
      "metadata": {
        "id": "Vhk2xWO0qyJx"
      },
      "outputs": [],
      "source": [
        "# Mendefinisikan fungsi untuk melakukan tunning dengan Grid Search Cross Validation\n",
        "def tuning( x , y , model , params , cv=10 ,verbose=10 ):\n",
        "    clf = GridSearchCV(estimator= model,\n",
        "                       param_grid= params,\n",
        "                       scoring= 'f1_macro',\n",
        "                       cv= cv,                         \n",
        "                       verbose= verbose, return_train_score=True,\n",
        "                       n_jobs= -1)\n",
        "    \n",
        "    clf.fit( x , y )\n",
        "    return clf.best_params_ , clf.best_score_, clf.cv_results_"
      ]
    },
    {
      "cell_type": "code",
      "execution_count": 149,
      "metadata": {
        "colab": {
          "base_uri": "https://localhost:8080/"
        },
        "id": "-dzpo6k6qELo",
        "outputId": "02ea3c33-2e3c-49c9-e522-df38f3e2765c"
      },
      "outputs": [
        {
          "output_type": "stream",
          "name": "stdout",
          "text": [
            "Fitting 10 folds for each of 50 candidates, totalling 500 fits\n"
          ]
        },
        {
          "output_type": "stream",
          "name": "stderr",
          "text": [
            "[Parallel(n_jobs=-1)]: Using backend LokyBackend with 2 concurrent workers.\n",
            "[Parallel(n_jobs=-1)]: Done 412 tasks      | elapsed:    3.4s\n"
          ]
        },
        {
          "output_type": "stream",
          "name": "stdout",
          "text": [
            " Best Parameters: {'max_depth': 3} with score of: 0.851437096583609\n"
          ]
        },
        {
          "output_type": "stream",
          "name": "stderr",
          "text": [
            "[Parallel(n_jobs=-1)]: Done 500 out of 500 | elapsed:    4.1s finished\n"
          ]
        }
      ],
      "source": [
        "# Tunning max depth\n",
        "# Mendefinisikan parameter untuk tunning\n",
        "params =  {\"max_depth\": range(1,100,2)}\n",
        "\n",
        "# Menemukan hyperparameters terbaik\n",
        "best_params , best_score, cv_result = tuning(bow_cvtrain,\n",
        "                                        y_cvtrain,\n",
        "                                        DecisionTreeClassifier(),\n",
        "                                        params,\n",
        "                                        cv=10,\n",
        "                                        verbose=2)\n",
        "\n",
        "\n",
        "print(\" Best Parameters:\",best_params,\"with score of:\",best_score)"
      ]
    },
    {
      "cell_type": "code",
      "execution_count": 150,
      "metadata": {
        "colab": {
          "base_uri": "https://localhost:8080/",
          "height": 405
        },
        "id": "AIfJ27f1q57j",
        "outputId": "61f00529-6d3c-47f2-b6db-b3cf32095dbb"
      },
      "outputs": [
        {
          "output_type": "execute_result",
          "data": {
            "text/plain": [
              "<matplotlib.axes._subplots.AxesSubplot at 0x7fcadfc5a510>"
            ]
          },
          "metadata": {},
          "execution_count": 150
        },
        {
          "output_type": "display_data",
          "data": {
            "text/plain": [
              "<Figure size 1152x432 with 1 Axes>"
            ],
            "image/png": "[encoded data removed]"
          },
          "metadata": {
            "needs_background": "light"
          }
        }
      ],
      "source": [
        "result = cv_result\n",
        "grid_result = {\"params\":[d['max_depth'] for d in result['params']]}\n",
        "for key, value in result.items():\n",
        "    if key.find('split') >= 0 :\n",
        "        grid_result[key] = value\n",
        "    \n",
        "plt.figure(figsize=(16, 6))\n",
        "grids = pd.DataFrame(grid_result).melt(id_vars='params')\n",
        "grids['variable'] = grids.variable.str[7:-6]\n",
        "sns.boxplot(data=grids, x='params', y='value', hue='variable')"
      ]
    }
  ],
  "metadata": {
    "colab": {
      "collapsed_sections": [],
      "name": "SentimenAnalysis-Bhs-Genap22V1.ipynb",
      "provenance": []
    },
    "kernelspec": {
      "display_name": "Python 3 (ipykernel)",
      "language": "python",
      "name": "python3"
    },
    "language_info": {
      "codemirror_mode": {
        "name": "ipython",
        "version": 3
      },
      "file_extension": ".py",
      "mimetype": "text/x-python",
      "name": "python",
      "nbconvert_exporter": "python",
      "pygments_lexer": "ipython3",
      "version": "3.9.7"
    }
  },
  "nbformat": 4,
  "nbformat_minor": 0
}