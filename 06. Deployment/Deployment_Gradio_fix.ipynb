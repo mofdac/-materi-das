{
  "cells": [
    {
      "cell_type": "markdown",
      "id": "384e06a2",
      "metadata": {
        "id": "384e06a2"
      },
      "source": [
        "Dashboard With Gradio\n",
        "<br>\n",
        "\n",
        "oleh:<br>\n",
        "__Sindhu Wardhana__<br>\n",
        "__Ibnu Pujiono__<br>\n",
        "\n",
        "_MoFDAC_"
      ]
    },
    {
      "cell_type": "markdown",
      "id": "209e00a5",
      "metadata": {
        "id": "209e00a5"
      },
      "source": [
        "# Berkenalan dengan Gradio"
      ]
    },
    {
      "cell_type": "markdown",
      "id": "edd48f7d",
      "metadata": {
        "id": "edd48f7d"
      },
      "source": [
        "#### 1. Gradio adalah sebuah open-source library Python yang dapat membuat aplikasi web interaktif dan dashboard dengan menggabungkan beberapa komponen seperti gambar, grafik, teks , angka dan lain sebagainya\n",
        "\n",
        "#### 2. Pola dalam membuat sebuah dashboard dengan Gradio adalah dengan membuat widget, plotting grafik dan membungkusnya dalam sebuah fungsi lalu mengkoneksikan semuanya ke dalam satu dashboard dengan metode launch().\n",
        "\n",
        "#### 3. Gradio mendukung deployment ke dalam server dedicated secara cepat dan mudah."
      ]
    },
    {
      "cell_type": "markdown",
      "id": "0f20b4c7",
      "metadata": {
        "id": "0f20b4c7"
      },
      "source": [
        "> Requirement"
      ]
    },
    {
      "cell_type": "code",
      "execution_count": null,
      "id": "c9b3eff3",
      "metadata": {
        "ExecuteTime": {
          "end_time": "2022-08-15T03:32:37.772428Z",
          "start_time": "2022-08-15T03:32:08.640057Z"
        },
        "colab": {
          "base_uri": "https://localhost:8080/"
        },
        "id": "c9b3eff3",
        "outputId": "e29f8533-2457-47ec-9660-82a72fb4f0b2"
      },
      "outputs": [
        {
          "output_type": "stream",
          "name": "stdout",
          "text": [
            "Looking in indexes: https://pypi.org/simple, https://us-python.pkg.dev/colab-wheels/public/simple/\n",
            "Requirement already satisfied: gradio in /usr/local/lib/python3.7/dist-packages (3.1.6)\n",
            "Requirement already satisfied: matplotlib in /usr/local/lib/python3.7/dist-packages (from gradio) (3.2.2)\n",
            "Requirement already satisfied: aiohttp in /usr/local/lib/python3.7/dist-packages (from gradio) (3.8.1)\n",
            "Requirement already satisfied: pycryptodome in /usr/local/lib/python3.7/dist-packages (from gradio) (3.15.0)\n",
            "Requirement already satisfied: pandas in /usr/local/lib/python3.7/dist-packages (from gradio) (1.3.5)\n",
            "Requirement already satisfied: httpx in /usr/local/lib/python3.7/dist-packages (from gradio) (0.23.0)\n",
            "Requirement already satisfied: ffmpy in /usr/local/lib/python3.7/dist-packages (from gradio) (0.3.0)\n",
            "Requirement already satisfied: numpy in /usr/local/lib/python3.7/dist-packages (from gradio) (1.21.6)\n",
            "Requirement already satisfied: markdown-it-py[linkify,plugins] in /usr/local/lib/python3.7/dist-packages (from gradio) (2.1.0)\n",
            "Requirement already satisfied: Jinja2 in /usr/local/lib/python3.7/dist-packages (from gradio) (2.11.3)\n",
            "Requirement already satisfied: fastapi in /usr/local/lib/python3.7/dist-packages (from gradio) (0.79.1)\n",
            "Requirement already satisfied: fsspec in /usr/local/lib/python3.7/dist-packages (from gradio) (2022.7.1)\n",
            "Requirement already satisfied: uvicorn in /usr/local/lib/python3.7/dist-packages (from gradio) (0.18.2)\n",
            "Requirement already satisfied: h11<0.13,>=0.11 in /usr/local/lib/python3.7/dist-packages (from gradio) (0.12.0)\n",
            "Requirement already satisfied: pydub in /usr/local/lib/python3.7/dist-packages (from gradio) (0.25.1)\n",
            "Requirement already satisfied: pydantic in /usr/local/lib/python3.7/dist-packages (from gradio) (1.9.2)\n",
            "Requirement already satisfied: orjson in /usr/local/lib/python3.7/dist-packages (from gradio) (3.7.12)\n",
            "Requirement already satisfied: python-multipart in /usr/local/lib/python3.7/dist-packages (from gradio) (0.0.5)\n",
            "Requirement already satisfied: requests in /usr/local/lib/python3.7/dist-packages (from gradio) (2.23.0)\n",
            "Requirement already satisfied: analytics-python in /usr/local/lib/python3.7/dist-packages (from gradio) (1.4.0)\n",
            "Requirement already satisfied: paramiko in /usr/local/lib/python3.7/dist-packages (from gradio) (2.11.0)\n",
            "Requirement already satisfied: websockets in /usr/local/lib/python3.7/dist-packages (from gradio) (10.3)\n",
            "Requirement already satisfied: pillow in /usr/local/lib/python3.7/dist-packages (from gradio) (7.1.2)\n",
            "Requirement already satisfied: aiosignal>=1.1.2 in /usr/local/lib/python3.7/dist-packages (from aiohttp->gradio) (1.2.0)\n",
            "Requirement already satisfied: multidict<7.0,>=4.5 in /usr/local/lib/python3.7/dist-packages (from aiohttp->gradio) (6.0.2)\n",
            "Requirement already satisfied: async-timeout<5.0,>=4.0.0a3 in /usr/local/lib/python3.7/dist-packages (from aiohttp->gradio) (4.0.2)\n",
            "Requirement already satisfied: attrs>=17.3.0 in /usr/local/lib/python3.7/dist-packages (from aiohttp->gradio) (22.1.0)\n",
            "Requirement already satisfied: charset-normalizer<3.0,>=2.0 in /usr/local/lib/python3.7/dist-packages (from aiohttp->gradio) (2.1.0)\n",
            "Requirement already satisfied: yarl<2.0,>=1.0 in /usr/local/lib/python3.7/dist-packages (from aiohttp->gradio) (1.8.1)\n",
            "Requirement already satisfied: typing-extensions>=3.7.4 in /usr/local/lib/python3.7/dist-packages (from aiohttp->gradio) (4.1.1)\n",
            "Requirement already satisfied: frozenlist>=1.1.1 in /usr/local/lib/python3.7/dist-packages (from aiohttp->gradio) (1.3.1)\n",
            "Requirement already satisfied: asynctest==0.13.0 in /usr/local/lib/python3.7/dist-packages (from aiohttp->gradio) (0.13.0)\n",
            "Requirement already satisfied: idna>=2.0 in /usr/local/lib/python3.7/dist-packages (from yarl<2.0,>=1.0->aiohttp->gradio) (2.10)\n",
            "Requirement already satisfied: monotonic>=1.5 in /usr/local/lib/python3.7/dist-packages (from analytics-python->gradio) (1.6)\n",
            "Requirement already satisfied: backoff==1.10.0 in /usr/local/lib/python3.7/dist-packages (from analytics-python->gradio) (1.10.0)\n",
            "Requirement already satisfied: python-dateutil>2.1 in /usr/local/lib/python3.7/dist-packages (from analytics-python->gradio) (2.8.2)\n",
            "Requirement already satisfied: six>=1.5 in /usr/local/lib/python3.7/dist-packages (from analytics-python->gradio) (1.15.0)\n",
            "Requirement already satisfied: urllib3!=1.25.0,!=1.25.1,<1.26,>=1.21.1 in /usr/local/lib/python3.7/dist-packages (from requests->gradio) (1.24.3)\n",
            "Requirement already satisfied: certifi>=2017.4.17 in /usr/local/lib/python3.7/dist-packages (from requests->gradio) (2022.6.15)\n",
            "Requirement already satisfied: chardet<4,>=3.0.2 in /usr/local/lib/python3.7/dist-packages (from requests->gradio) (3.0.4)\n",
            "Requirement already satisfied: starlette==0.19.1 in /usr/local/lib/python3.7/dist-packages (from fastapi->gradio) (0.19.1)\n",
            "Requirement already satisfied: anyio<5,>=3.4.0 in /usr/local/lib/python3.7/dist-packages (from starlette==0.19.1->fastapi->gradio) (3.6.1)\n",
            "Requirement already satisfied: sniffio>=1.1 in /usr/local/lib/python3.7/dist-packages (from anyio<5,>=3.4.0->starlette==0.19.1->fastapi->gradio) (1.2.0)\n",
            "Requirement already satisfied: rfc3986[idna2008]<2,>=1.3 in /usr/local/lib/python3.7/dist-packages (from httpx->gradio) (1.5.0)\n",
            "Requirement already satisfied: httpcore<0.16.0,>=0.15.0 in /usr/local/lib/python3.7/dist-packages (from httpx->gradio) (0.15.0)\n",
            "Requirement already satisfied: MarkupSafe>=0.23 in /usr/local/lib/python3.7/dist-packages (from Jinja2->gradio) (2.0.1)\n",
            "Requirement already satisfied: mdurl~=0.1 in /usr/local/lib/python3.7/dist-packages (from markdown-it-py[linkify,plugins]->gradio) (0.1.2)\n",
            "Requirement already satisfied: mdit-py-plugins in /usr/local/lib/python3.7/dist-packages (from markdown-it-py[linkify,plugins]->gradio) (0.3.0)\n",
            "Requirement already satisfied: linkify-it-py~=1.0 in /usr/local/lib/python3.7/dist-packages (from markdown-it-py[linkify,plugins]->gradio) (1.0.3)\n",
            "Requirement already satisfied: uc-micro-py in /usr/local/lib/python3.7/dist-packages (from linkify-it-py~=1.0->markdown-it-py[linkify,plugins]->gradio) (1.0.1)\n",
            "Requirement already satisfied: kiwisolver>=1.0.1 in /usr/local/lib/python3.7/dist-packages (from matplotlib->gradio) (1.4.4)\n",
            "Requirement already satisfied: cycler>=0.10 in /usr/local/lib/python3.7/dist-packages (from matplotlib->gradio) (0.11.0)\n",
            "Requirement already satisfied: pyparsing!=2.0.4,!=2.1.2,!=2.1.6,>=2.0.1 in /usr/local/lib/python3.7/dist-packages (from matplotlib->gradio) (3.0.9)\n",
            "Requirement already satisfied: pytz>=2017.3 in /usr/local/lib/python3.7/dist-packages (from pandas->gradio) (2022.2.1)\n",
            "Requirement already satisfied: pynacl>=1.0.1 in /usr/local/lib/python3.7/dist-packages (from paramiko->gradio) (1.5.0)\n",
            "Requirement already satisfied: bcrypt>=3.1.3 in /usr/local/lib/python3.7/dist-packages (from paramiko->gradio) (3.2.2)\n",
            "Requirement already satisfied: cryptography>=2.5 in /usr/local/lib/python3.7/dist-packages (from paramiko->gradio) (37.0.4)\n",
            "Requirement already satisfied: cffi>=1.1 in /usr/local/lib/python3.7/dist-packages (from bcrypt>=3.1.3->paramiko->gradio) (1.15.1)\n",
            "Requirement already satisfied: pycparser in /usr/local/lib/python3.7/dist-packages (from cffi>=1.1->bcrypt>=3.1.3->paramiko->gradio) (2.21)\n",
            "Requirement already satisfied: click>=7.0 in /usr/local/lib/python3.7/dist-packages (from uvicorn->gradio) (7.1.2)\n",
            "Looking in indexes: https://pypi.org/simple, https://us-python.pkg.dev/colab-wheels/public/simple/\n",
            "Requirement already satisfied: pandas in /usr/local/lib/python3.7/dist-packages (1.3.5)\n",
            "Requirement already satisfied: python-dateutil>=2.7.3 in /usr/local/lib/python3.7/dist-packages (from pandas) (2.8.2)\n",
            "Requirement already satisfied: numpy>=1.17.3 in /usr/local/lib/python3.7/dist-packages (from pandas) (1.21.6)\n",
            "Requirement already satisfied: pytz>=2017.3 in /usr/local/lib/python3.7/dist-packages (from pandas) (2022.2.1)\n",
            "Requirement already satisfied: six>=1.5 in /usr/local/lib/python3.7/dist-packages (from python-dateutil>=2.7.3->pandas) (1.15.0)\n",
            "Looking in indexes: https://pypi.org/simple, https://us-python.pkg.dev/colab-wheels/public/simple/\n",
            "Requirement already satisfied: pandas-datareader in /usr/local/lib/python3.7/dist-packages (0.10.0)\n",
            "Requirement already satisfied: lxml in /usr/local/lib/python3.7/dist-packages (from pandas-datareader) (4.9.1)\n",
            "Requirement already satisfied: requests>=2.19.0 in /usr/local/lib/python3.7/dist-packages (from pandas-datareader) (2.23.0)\n",
            "Requirement already satisfied: pandas>=0.23 in /usr/local/lib/python3.7/dist-packages (from pandas-datareader) (1.3.5)\n",
            "Requirement already satisfied: numpy>=1.17.3 in /usr/local/lib/python3.7/dist-packages (from pandas>=0.23->pandas-datareader) (1.21.6)\n",
            "Requirement already satisfied: pytz>=2017.3 in /usr/local/lib/python3.7/dist-packages (from pandas>=0.23->pandas-datareader) (2022.2.1)\n",
            "Requirement already satisfied: python-dateutil>=2.7.3 in /usr/local/lib/python3.7/dist-packages (from pandas>=0.23->pandas-datareader) (2.8.2)\n",
            "Requirement already satisfied: six>=1.5 in /usr/local/lib/python3.7/dist-packages (from python-dateutil>=2.7.3->pandas>=0.23->pandas-datareader) (1.15.0)\n",
            "Requirement already satisfied: chardet<4,>=3.0.2 in /usr/local/lib/python3.7/dist-packages (from requests>=2.19.0->pandas-datareader) (3.0.4)\n",
            "Requirement already satisfied: urllib3!=1.25.0,!=1.25.1,<1.26,>=1.21.1 in /usr/local/lib/python3.7/dist-packages (from requests>=2.19.0->pandas-datareader) (1.24.3)\n",
            "Requirement already satisfied: idna<3,>=2.5 in /usr/local/lib/python3.7/dist-packages (from requests>=2.19.0->pandas-datareader) (2.10)\n",
            "Requirement already satisfied: certifi>=2017.4.17 in /usr/local/lib/python3.7/dist-packages (from requests>=2.19.0->pandas-datareader) (2022.6.15)\n"
          ]
        }
      ],
      "source": [
        "!pip install gradio\n",
        "!pip install --upgrade pandas\n",
        "!pip install --upgrade pandas-datareader"
      ]
    },
    {
      "cell_type": "markdown",
      "id": "076aed93",
      "metadata": {
        "id": "076aed93"
      },
      "source": [
        "> Import Library"
      ]
    },
    {
      "cell_type": "code",
      "execution_count": null,
      "id": "44e0a777",
      "metadata": {
        "ExecuteTime": {
          "end_time": "2022-08-21T04:27:25.486805Z",
          "start_time": "2022-08-21T04:27:20.343274Z"
        },
        "id": "44e0a777"
      },
      "outputs": [],
      "source": [
        "import gradio as gr\n",
        "import pandas as pd\n",
        "import json\n",
        "import pickle\n",
        "import matplotlib.pyplot as plt\n",
        "import plotly.graph_objects as go\n",
        "import re\n",
        "import seaborn as sns\n",
        "import plotly.express as px\n",
        "import pandas_datareader as data\n"
      ]
    },
    {
      "cell_type": "markdown",
      "id": "a6873f95",
      "metadata": {
        "id": "a6873f95"
      },
      "source": [
        "> Dokumentasi"
      ]
    },
    {
      "cell_type": "code",
      "execution_count": null,
      "id": "0884baa8",
      "metadata": {
        "ExecuteTime": {
          "end_time": "2022-08-21T04:27:25.502264Z",
          "start_time": "2022-08-21T04:27:25.488837Z"
        },
        "colab": {
          "base_uri": "https://localhost:8080/",
          "height": 421
        },
        "id": "0884baa8",
        "outputId": "af1f6308-43d2-44fc-fd25-d14390fd1368"
      },
      "outputs": [
        {
          "output_type": "display_data",
          "data": {
            "text/plain": [
              "<IPython.lib.display.IFrame at 0x7f010c065f90>"
            ],
            "text/html": [
              "\n",
              "        <iframe\n",
              "            width=\"1200\"\n",
              "            height=\"400\"\n",
              "            src=\"https://gradio.app/docs\"\n",
              "            frameborder=\"0\"\n",
              "            allowfullscreen\n",
              "        ></iframe>\n",
              "        "
            ]
          },
          "metadata": {}
        }
      ],
      "source": [
        "from IPython.display import IFrame\n",
        "documentation = IFrame(src='https://gradio.app/docs', width=1200, height=400)\n",
        "display(documentation)"
      ]
    },
    {
      "cell_type": "markdown",
      "id": "ee76bdfe",
      "metadata": {
        "id": "ee76bdfe"
      },
      "source": [
        "## Contoh Penggunaan Gradio"
      ]
    },
    {
      "cell_type": "code",
      "execution_count": null,
      "id": "cffff43a",
      "metadata": {
        "ExecuteTime": {
          "end_time": "2022-08-21T04:27:42.625145Z",
          "start_time": "2022-08-21T04:27:37.784488Z"
        },
        "colab": {
          "base_uri": "https://localhost:8080/",
          "height": 640
        },
        "id": "cffff43a",
        "outputId": "39d9d0b4-e8e3-428a-92a5-f69df0a95c59"
      },
      "outputs": [
        {
          "output_type": "stream",
          "name": "stdout",
          "text": [
            "Colab notebook detected. To show errors in colab notebook, set `debug=True` in `launch()`\n",
            "Running on public URL: https://29709.gradio.app\n",
            "\n",
            "This share link expires in 72 hours. For free permanent hosting, check out Spaces: https://huggingface.co/spaces\n"
          ]
        },
        {
          "output_type": "display_data",
          "data": {
            "text/plain": [
              "<IPython.core.display.HTML object>"
            ],
            "text/html": [
              "<div><iframe src=\"https://29709.gradio.app\" width=\"900\" height=\"500\" allow=\"autoplay; camera; microphone;\" frameborder=\"0\" allowfullscreen></iframe></div>"
            ]
          },
          "metadata": {}
        },
        {
          "output_type": "execute_result",
          "data": {
            "text/plain": [
              "(<gradio.routes.App at 0x7f01261f7550>,\n",
              " 'http://127.0.0.1:7888/',\n",
              " 'https://29709.gradio.app')"
            ]
          },
          "metadata": {},
          "execution_count": 37
        }
      ],
      "source": [
        "#Contoh 1\n",
        "#import library\n",
        "import gradio as gr\n",
        "#Function\n",
        "def greet(name):\n",
        "    return \"Hello \" + name + \"!\"\n",
        "#plotting ke dalam interface\n",
        "demo = gr.Interface(fn=greet, inputs=\"text\", outputs=\"text\")\n",
        "demo.launch()"
      ]
    },
    {
      "cell_type": "markdown",
      "id": "dda6f39d",
      "metadata": {
        "id": "dda6f39d"
      },
      "source": [
        "# Layout"
      ]
    },
    {
      "cell_type": "markdown",
      "id": "e29c279d",
      "metadata": {
        "id": "e29c279d"
      },
      "source": [
        "## Blocks"
      ]
    },
    {
      "cell_type": "markdown",
      "id": "e226087b",
      "metadata": {
        "id": "e226087b"
      },
      "source": [
        "### Row"
      ]
    },
    {
      "cell_type": "markdown",
      "id": "720722fa",
      "metadata": {
        "id": "720722fa"
      },
      "source": [
        "> Row adalah elemen dalam Gradio yang digunakan untukn menyusun layout secara horizontal menggunakan fungsi\n",
        "```with gradio.Row():```"
      ]
    },
    {
      "cell_type": "code",
      "execution_count": null,
      "id": "7d9e5857",
      "metadata": {
        "ExecuteTime": {
          "end_time": "2022-08-19T06:43:46.225379Z",
          "start_time": "2022-08-19T06:43:43.822243Z"
        },
        "colab": {
          "base_uri": "https://localhost:8080/",
          "height": 674
        },
        "id": "7d9e5857",
        "outputId": "ec9aa3f7-68ce-42bd-cbf0-ed82e94e80a3"
      },
      "outputs": [
        {
          "output_type": "stream",
          "name": "stdout",
          "text": [
            "\n",
            "Thanks for being a Gradio user! If you have questions or feedback, please join our Discord server and chat with us: https://discord.gg/feTf9x3ZSB\n",
            "Colab notebook detected. To show errors in colab notebook, set `debug=True` in `launch()`\n",
            "Running on public URL: https://44442.gradio.app\n",
            "\n",
            "This share link expires in 72 hours. For free permanent hosting, check out Spaces: https://huggingface.co/spaces\n"
          ]
        },
        {
          "output_type": "display_data",
          "data": {
            "text/plain": [
              "<IPython.core.display.HTML object>"
            ],
            "text/html": [
              "<div><iframe src=\"https://44442.gradio.app\" width=\"900\" height=\"500\" allow=\"autoplay; camera; microphone;\" frameborder=\"0\" allowfullscreen></iframe></div>"
            ]
          },
          "metadata": {}
        },
        {
          "output_type": "execute_result",
          "data": {
            "text/plain": [
              "(<gradio.routes.App at 0x7f0107d41910>,\n",
              " 'http://127.0.0.1:7889/',\n",
              " 'https://44442.gradio.app')"
            ]
          },
          "metadata": {},
          "execution_count": 38
        }
      ],
      "source": [
        "with gr.Blocks() as demo:\n",
        "    with gr.Row():\n",
        "        gr.Textbox(label=\"Contoh 1\")\n",
        "        gr.Textbox(label=\"Contoh 2\")\n",
        "demo.launch()"
      ]
    },
    {
      "cell_type": "markdown",
      "id": "d1488372",
      "metadata": {
        "id": "d1488372"
      },
      "source": [
        "### Columns"
      ]
    },
    {
      "cell_type": "markdown",
      "id": "5af5f99d",
      "metadata": {
        "id": "5af5f99d"
      },
      "source": [
        "> Columns adalah elemen dalam Gradio yang digunakan untuk menyusun layout secara vertikal menggunakan fungsi ```with gradio.Column():```"
      ]
    },
    {
      "cell_type": "code",
      "execution_count": null,
      "id": "ce2a2ef2",
      "metadata": {
        "ExecuteTime": {
          "end_time": "2022-08-19T06:46:29.430830Z",
          "start_time": "2022-08-19T06:46:26.063653Z"
        },
        "colab": {
          "base_uri": "https://localhost:8080/",
          "height": 640
        },
        "id": "ce2a2ef2",
        "outputId": "cccaa2e9-8066-406d-d4ab-996127320977"
      },
      "outputs": [
        {
          "output_type": "stream",
          "name": "stdout",
          "text": [
            "Colab notebook detected. To show errors in colab notebook, set `debug=True` in `launch()`\n",
            "Running on public URL: https://40505.gradio.app\n",
            "\n",
            "This share link expires in 72 hours. For free permanent hosting, check out Spaces: https://huggingface.co/spaces\n"
          ]
        },
        {
          "output_type": "display_data",
          "data": {
            "text/plain": [
              "<IPython.core.display.HTML object>"
            ],
            "text/html": [
              "<div><iframe src=\"https://40505.gradio.app\" width=\"900\" height=\"500\" allow=\"autoplay; camera; microphone;\" frameborder=\"0\" allowfullscreen></iframe></div>"
            ]
          },
          "metadata": {}
        },
        {
          "output_type": "execute_result",
          "data": {
            "text/plain": [
              "(<gradio.routes.App at 0x7f0105c5a0d0>,\n",
              " 'http://127.0.0.1:7890/',\n",
              " 'https://40505.gradio.app')"
            ]
          },
          "metadata": {},
          "execution_count": 39
        }
      ],
      "source": [
        "with gr.Blocks() as demo:\n",
        "    with gr.Column():\n",
        "        gr.Textbox(label=\"Contoh 1\")\n",
        "        gr.Textbox(label=\"Contoh 2\")\n",
        "        \n",
        "demo.launch()"
      ]
    },
    {
      "cell_type": "markdown",
      "id": "9143209e",
      "metadata": {
        "id": "9143209e"
      },
      "source": [
        "> Menggabungkan row dan column"
      ]
    },
    {
      "cell_type": "code",
      "execution_count": null,
      "id": "56a1c6ef",
      "metadata": {
        "ExecuteTime": {
          "end_time": "2022-08-19T06:49:47.655920Z",
          "start_time": "2022-08-19T06:49:44.601292Z"
        },
        "colab": {
          "base_uri": "https://localhost:8080/",
          "height": 640
        },
        "id": "56a1c6ef",
        "outputId": "5e46e7d7-b74d-4cf0-ba08-f50dc45a225b"
      },
      "outputs": [
        {
          "output_type": "stream",
          "name": "stdout",
          "text": [
            "Colab notebook detected. To show errors in colab notebook, set `debug=True` in `launch()`\n",
            "Running on public URL: https://35334.gradio.app\n",
            "\n",
            "This share link expires in 72 hours. For free permanent hosting, check out Spaces: https://huggingface.co/spaces\n"
          ]
        },
        {
          "output_type": "display_data",
          "data": {
            "text/plain": [
              "<IPython.core.display.HTML object>"
            ],
            "text/html": [
              "<div><iframe src=\"https://35334.gradio.app\" width=\"900\" height=\"500\" allow=\"autoplay; camera; microphone;\" frameborder=\"0\" allowfullscreen></iframe></div>"
            ]
          },
          "metadata": {}
        },
        {
          "output_type": "execute_result",
          "data": {
            "text/plain": [
              "(<gradio.routes.App at 0x7f0101b929d0>,\n",
              " 'http://127.0.0.1:7891/',\n",
              " 'https://35334.gradio.app')"
            ]
          },
          "metadata": {},
          "execution_count": 40
        }
      ],
      "source": [
        "with gr.Blocks() as demo:\n",
        "    with gr.Row():\n",
        "        with gr.Column():\n",
        "            text1 = gr.Textbox(label = \"Contoh 1\")\n",
        "            btn1 = gr.Button(\"Tombol 1\")\n",
        "        with gr.Column():\n",
        "            text2 = gr.Textbox(label = \"Contoh 2\")\n",
        "            btn2 = gr.Button(\"Tombol 2\")\n",
        "            \n",
        "demo.launch()"
      ]
    },
    {
      "cell_type": "markdown",
      "id": "2bb49c23",
      "metadata": {
        "id": "2bb49c23"
      },
      "source": [
        "**Tabs and Function**"
      ]
    },
    {
      "cell_type": "code",
      "execution_count": null,
      "id": "46bfbe37",
      "metadata": {
        "ExecuteTime": {
          "end_time": "2022-08-19T06:50:50.113342Z",
          "start_time": "2022-08-19T06:50:47.627112Z"
        },
        "colab": {
          "base_uri": "https://localhost:8080/",
          "height": 640
        },
        "id": "46bfbe37",
        "outputId": "3ec242fd-92b4-4444-aca9-5f32fab38dd3"
      },
      "outputs": [
        {
          "output_type": "stream",
          "name": "stdout",
          "text": [
            "Colab notebook detected. To show errors in colab notebook, set `debug=True` in `launch()`\n",
            "Running on public URL: https://13589.gradio.app\n",
            "\n",
            "This share link expires in 72 hours. For free permanent hosting, check out Spaces: https://huggingface.co/spaces\n"
          ]
        },
        {
          "output_type": "display_data",
          "data": {
            "text/plain": [
              "<IPython.core.display.HTML object>"
            ],
            "text/html": [
              "<div><iframe src=\"https://13589.gradio.app\" width=\"900\" height=\"500\" allow=\"autoplay; camera; microphone;\" frameborder=\"0\" allowfullscreen></iframe></div>"
            ]
          },
          "metadata": {}
        },
        {
          "output_type": "execute_result",
          "data": {
            "text/plain": [
              "(<gradio.routes.App at 0x7f01085cf810>,\n",
              " 'http://127.0.0.1:7893/',\n",
              " 'https://13589.gradio.app')"
            ]
          },
          "metadata": {},
          "execution_count": 43
        }
      ],
      "source": [
        "def flip_text(x):\n",
        "    return x[::-1]\n",
        "\n",
        "\n",
        "def flip_image(x):\n",
        "    return np.fliplr(x)\n",
        "    \n",
        "with gr.Blocks() as demo:\n",
        "    gr.Markdown(\"Flip text or image files using this demo.\")\n",
        "    with gr.Tabs():\n",
        "        with gr.TabItem(\"Flip Text\"):\n",
        "            text_input = gr.Textbox()\n",
        "            text_output = gr.Textbox()\n",
        "            text_button = gr.Button(\"Flip\")\n",
        "        with gr.TabItem(\"Flip Image\"):\n",
        "            with gr.Row():\n",
        "                image_input = gr.Image()\n",
        "                image_output = gr.Image()\n",
        "            image_button = gr.Button(\"Flip\")\n",
        "    text_button.click(flip_text, inputs=text_input, outputs=text_output)\n",
        "    image_button.click(flip_image, inputs=image_input, outputs=image_output)\n",
        "demo.launch()"
      ]
    },
    {
      "cell_type": "markdown",
      "id": "63ea0acf",
      "metadata": {
        "id": "63ea0acf"
      },
      "source": [
        "### Box"
      ]
    },
    {
      "cell_type": "code",
      "execution_count": null,
      "id": "5fbd7224",
      "metadata": {
        "ExecuteTime": {
          "end_time": "2022-08-21T08:12:56.917533Z",
          "start_time": "2022-08-21T08:12:54.246038Z"
        },
        "colab": {
          "base_uri": "https://localhost:8080/",
          "height": 640
        },
        "id": "5fbd7224",
        "outputId": "a7530155-d4e2-4ff4-c8ce-c8a92e559155"
      },
      "outputs": [
        {
          "output_type": "stream",
          "name": "stdout",
          "text": [
            "Colab notebook detected. To show errors in colab notebook, set `debug=True` in `launch()`\n",
            "Running on public URL: https://30881.gradio.app\n",
            "\n",
            "This share link expires in 72 hours. For free permanent hosting, check out Spaces: https://huggingface.co/spaces\n"
          ]
        },
        {
          "output_type": "display_data",
          "data": {
            "text/plain": [
              "<IPython.core.display.HTML object>"
            ],
            "text/html": [
              "<div><iframe src=\"https://30881.gradio.app\" width=\"900\" height=\"500\" allow=\"autoplay; camera; microphone;\" frameborder=\"0\" allowfullscreen></iframe></div>"
            ]
          },
          "metadata": {}
        },
        {
          "output_type": "execute_result",
          "data": {
            "text/plain": [
              "(<gradio.routes.App at 0x7f00fd8c5310>,\n",
              " 'http://127.0.0.1:7895/',\n",
              " 'https://30881.gradio.app')"
            ]
          },
          "metadata": {},
          "execution_count": 45
        }
      ],
      "source": [
        "with gr.Blocks() as demo:\n",
        "    with gr.Box():\n",
        "        gr.Textbox(label=\"First\")\n",
        "        gr.Textbox(label=\"Last\")\n",
        "        \n",
        "demo.launch()"
      ]
    },
    {
      "cell_type": "markdown",
      "id": "7227a281",
      "metadata": {
        "id": "7227a281"
      },
      "source": [
        "# Component"
      ]
    },
    {
      "cell_type": "markdown",
      "id": "f39906be",
      "metadata": {
        "id": "f39906be"
      },
      "source": [
        "![download.png](data:image/png;base64,iVBORw0KGgoAAAANSUhEUgAABdIAAAFMCAYAAADP1U6HAAAgAElEQVR4Xuy9e7AuR13323utte9Xkp0EyU6ChEt2JLwJiXiB4FulEv54jxLCPwbRohTxwFEERERQSoUXeRUQLTgaVF5UYtUpAUGqJKCnSgIc0QRCoJKoBAmBhGQnO3sn+5K997qc/nbPb6ann56ZnsvzPDPzfAd21lrP093T/emenu5v//rXm06fPr2heJEACZAACZAACZAACZAACZAACZAACZAACZAACZAACZDAghDYtGmTWllZiS7tJgrp0awYkARIgARIgARIgARIgARIgARIgARIgARIgARIgARIYCQElpeX1dLSUlRpKKRHYWIgEiABEiABEiABEiABEiABEiABEiABEiABEiABEiCBMRGoY5VOIX1MNc+ykAAJkAAJkAAJkAAJkAAJkAAJkAAJkAAJkAAJkAAJRBPYvHlzVFgK6VGYGIgESIAESIAESIAESIAESIAESIAESIAESIAESIAESGBsBCikj61GWR4SIAESIAESIAESIAESIAESIAESIAESIAESIAESIIFOCVBI7xQnEyMBEiABEiABEiABEiABEiABEiABEiABEiABEiABEhgbAQrpY6tRlocESIAESIAESIAESIAESIAESIAESIAESIAESIAESKBTAhTSO8XJxEiABEiABEiABEiABEiABEiABEiABEiABEiABEiABMZGgEL62GqU5SEBEiABEiABEiABEiABEiABEiABEiABEiABEiABEuiUAIX0TnEyMRIgARIgARIgARIgARIgARIgARIgARIgARIgARIggbERoJA+thpleUiABEiABEiABEiABEiABEiABEiABEiABEiABEiABDolQCG9U5xMjARIgARIgARIgARIgARIgARIgARIgARIgARIgARIYGwEKKSPrUZZHhIgARIgARIgARIgARIgARIgARIgARIgARIgARIggU4JUEjvFCcTIwESIAESIAESIAESIAESIAESIAESIAESIAESIAESGBsBCuljq1GWhwRIgARIgARIgARIgARIgARIgARIgARIgARIgARIoFMCFNI7xcnESIAESIAESIAESIAESIAESIAESIAESIAESIAESIAExkaAQvrYapTlIQESIAESIAESIAESIAESIAESIAESIAESIAESIAES6JQAhfROcTIxEiABEiABEiABEiABEiABEiABEiABEiABEiABEiCBsRGgkD62GmV5SIAESIAESIAESIAESIAESIAESIAESIAESIAESIAEOiVAIb1TnEyMBEiABEiABEiABEiABEiABEiABEiABEiABEiABEhgbAQopI+tRlkeEiABEiABEiABEiABEiABEiABEiABEiABEiABEiCBTglQSO8UJxMjARIgARIgARIgARIgARIgARIgARIgARIgARIgARIYGwEK6WOrUZaHBEiABEiABEiABEiABEiABEiABEiABEiABEiABEigUwIU0jvFycRIgARIgARIgARIgARIgARIgARIgARIgARIgARIgATGRoBC+thqlOUhARIgARIgARIgARIgARIgARIgARIgARIgARIgARLolACF9E5xMjESIAESIAESIAESIAESIAESIAESIAESIAESIAESIIGxEaCQPrYaZXlIgARIgARIgARIgARIgARIgARIgARIgARIgARIgAQ6JUAhvVOcTIwESIAESIAESIAESIAESIAESIAESIAESIAESIAESGBsBCikj61GWR4SIAESIAESIAESIAESIAESIAESIAESIAESIAESIIFOCVBI7xQnEyMBEiABEiABEiABEiABEiABEiABEiABEiABEiABEhgbAQrpY6tRlocESIAESIAESIAESIAESIAESIAESIAESIAESIAESKBTAhTSO8XJxEiABEiABEiABEiABEiABEiABEiABEiABEiABEiABMZGgEL62GqU5SEBEiABEiABEiABEiABEiABEiABEiABEiABEiABEuiUAIX0TnEyMRIgARIgARIgARIgARIgARIgARIgARIgARIgARIggbERoJA+thpleUiABEiABEiABEiABEiABEiABEiABEiABEiABEiABDolQCG9U5xMjARIgARIgARIgARIgATGS+Bb3/qW+pu/+Rt1ySWXqJ/8yZ8cb0FZMhIYCYETJ04oPLe49u/fb/5N83rnO99Zq3/4+Mc/ru666y71xje+cZrZYtokQAIkQAIk0AkBCukaI17euM4++2z1vOc9rxOw80gEA6Qvf/nL6p577lEXXXSRGcA84xnPmEdWeE8SIAESmDkB6cvlxjt27FAXXHCBuvDCCxV+50UCJLA4BGRMhBL746F///d/N6INriuuuML0EfO6Pve5z6mHH344ePu+jkt/7/d+T4Ehrl//9V/nWHNejWcB7/vQQw+pz3/+8xMlx3xnTO/6L33pS+ree+815Xzuc587IXzLeAdjnGc/+9mVLQHPK55bXD/xEz+hrr322so4TQOgT/vzP/9zdfnll6vXvOY1UclIn/JzP/dzg56LRxWWgUhgygSgB2EMdOjQIXXOOecshCaExULRwYAXWhjGd5z/TbmxLXDyFNJ15b/85S83TQCDMEwI+nB9+MMfVv/4j/8YlSd0HH/2Z39mOg//wuDr+uuvZyfSsFI/9rGPqU984hNR9dDwFoxGAiTQEQHpy/3kMIj6qZ/6qVFOztzJ8Qc/+MGOSDIZEhg+AYyNfvVXf1WdPHnSLKj9zu/8TlooWEtCSN++fbv6gz/4g7mOkVxR2qc+73Hpb/3WbxkxzxfePvOZz6gbb7zRcMW4mRPV4T8vQymB+87r6l0v7Xnez5tbHskTPvPFZZcB5ng//uM/Xll9sxTS0e9icbDOIpvkz++rKwvGACRAAikBjHswppBFOBcNDAp+6Zd+qfH7WuZYdZ7rplWDcrz61a820WPuh4VHLN4hnnthbPLLv/zLXOxvWhE63izrvUU25xKVQrrTQPo0gJKJVUyeZEKIFoRJISwysAJ5+PBhY8Xw8z//83NpXGO4KRYoYPkSUw9jKC/LQAJDJiAv+7POOstYYOASq8nYwdjQyi+Lfcg3hfSh1R7zO20CYpSA+/z+7/++seqEResb3vAGc+tpW2bGlE/GezJ+c+NAVHrpS18ak8xUwkif2gdOUykgEx0cAVcQ7upd30ejGbef8udy7ntf+rWqipyVkC73Qd28613vqspW7vtXvepVZuHzt3/7t+e6S6hWphmYBHpEQBa/kSXpH0UTwmcQ05u4T6orbLdF4vZXVUK6v7iKcRMEdHyOcRXiz3PXYVsW84zvvoeq6mGe+ZzXvSmka/Ihi3TZaosOBw/k3/3d35nVPWyzfcELXpA+kO4WQ1gEwIJArJzgJsbdbidpult13e3FGCjhgnB78803m9V8hL366qvN5yE/lLJ9Dt/7lkH4Dvd3LYWQ309/+tPpSiW+x33dMLJdEJ+j40TZMbABC7F6cHm86EUvSrcc1uGBPCN9lBcriVIG8HV99wkjlA95kHujc8S9/c4RW5lQRvBDmKJ6QFrgi/SEtVu34FBWDyirxEXeQyzn9WDzviSwiARCog/6g7e+9a0Gx4/92I8ZUUq2/916662mbwv1E9LvSH8t/jvxnKMfxPeIL1Yf6J/QHxX1pcgH+mTpS9GfIx+w6pT+J7R7CPe56aab0ny6fZ7kSVxU4Dtc7jZwN77//kLYov5erFbQPyPfuOR9RJdhi/h0DbPM7iRAnn8R131rdLR16RNCbd0fr8k4JeQesOi5Ck1gYwwnQvcI5cfvtzAmxfgq1MeFxmAoN/oR9EnoVzDGwYXxkvzD8+/e2x+bVvUZdfM4zJbHXE+LQJEgXCYU+8+2O28pG+u7cxrXPVRoPufOG925BXbD4b2P5wmfYwzhzhVD8xhhJ6IY4mHnjFzSZ7jW2yjjnXfembqJkrGKxCniI31LqHyIW/V8++MWEflDhlxVfYMYL3HhblpPD9MdMwFXE4JbpVe84hVmTuJbqWN8j/6hqn+T5x99B/QQcamFZ9t1F+P2fYgjcxZ/XuTez52n+OMbpIf+0r9fyMUV7ic7YPC7lA2/436Ye/mur6r6IXeM4vfX11xzjTGuxLhK5nTQmUTDw32LeIiO5u/gE76iW1155ZW59HxtDWz8+aTfrmXsJ+M3zFvlvm566N9dHm5ZiurBfVe491nEOSKFdN3CQkK6DFLQKDAAcreKoCHCAkBWu8TnHML6fi7dBzo0WXKtCsStjKTnPxQha8P3vve96rbbbjNBq6wSira9+AK88MDn/tYgPDzHjx/Pfe4O8NyBWhUPMMUg0WcGrphsikAujKrqQjovbO3xL3frozsAxb3dunXLUuQmAvXginPuver4Axzzy5xlI4F5ECiynnT7eGzxgzWqv/0P+XUnb26/g35PBnQIg7hwveVf/mRX7gsffb7rLQy68JmbD99SRCaV/n3kvVLUR4nVQCi+v81R0oDI+IUvfMHkB6Lb+9//fuMyLOSL1n2vzaOeeU8SqENA2jHa/vve97500uUKPX/0R38UdI/nulTwx2uyoBQaQ8pnGHtgsQxXkYVmjJAeukcoP+5noTGca+mJcQzK7Y/B0BeAFdza+Zf0kUU7Ydwdkm7cIo5VeaxTzwy7GASKBGHXYtJ9lxe9B2WeUTbWL7pX6JmVz9x3KWoEfQ6EJTxPGCPg2fLnVkXzt9COGrecsjhY5B7KHVMUlSU0bnLTk7lnkcsId06M8kpc3+VM0XjCtXLso4udxXiqWMoxECjThNznX8Y+Vf0bmOD5d9/3LifpZ13NzB9PuIt9RVbm/vimqD8LWUS7ekyMF4YuxihiOFs0xonlgfiuCy83PbcsLrfQmMl93xX1067W56aHd4QYY8n9ZbxWVA9yv6Jx8yLtKKKQrltNmZAukx+s0ED0kMGPCAn+dhIManCJyOIKKzFCOsJj1U8mMJh4yQGooYNhXNHb9f/pvxDwYIl4BJEEnYArBrkCsDuoxEQR//CgY0EBF+LjAUfZhYd0bi4PCVfEw+3MwO3cc881nTXuIxNexHU7cMm7WxcyWHMtz1CeF77wheqWW25J6wKDWaTrdgzC101PyuLe168HGRAiPzhIB4sLsIKHGx3Xmn4ML2aWgQSGQiA0IQwNFPH8or/Aqj+eYQhdZf0Oyi99IeLIZBH94MGDB02fLQua7uTR70sxkHEFeOlXsOoPV1y4ZACChc8//uM/Np/hPtiZJBYh8l5BH+XGxeAGF8JiYCSLiuhfr7rqKtOXgoc7sHXzKH02+mK8I+Q76U/vuOMOI7rRXdhQngjmEwR8FwmyOCTilfuuR1u/9NJLzbMm4xt5JpsI6e6YSZ4rv1bcSZfsQJQwYg3aREiX5xnll/5JhDek71pxoY/BwVx4xmHFhrK7FmjS/4ENfg8J6T5HGEO4Y6sQ76o8sgWTgE8g9E6X3bOYq+CS97BroYn3I9ovxGm0b5n3uO9Rf6xfJTS5bh990UEsFPG+9Ocx+M59LosssF2RSMQNd2wgfRPKiXtgvojnWHbuumOKtkK6K+qDL55vYemKPiF/ur74j/EI+hp87rqukjz6Rgl8CkiABKoJyDtdjGH8GP44oqp/Q3wI6SGLdDyjMh5w+z7ML8R4SMZQ0nfFCunoz/AP4WUOJNbOvsbi9q1VRj5txigoi+QHeULf787pit4FMnZyx0IhHkgL4z/0i/580tca8e4Ch5DW6OpTslsI/TTmmPKe8dND/402I+lJWYrqAfWO+hAXiTLHDPXp1a122CEopOv6qxLSRYANdThFnZC78i7CbIyQXmbhFGpqobyHwrmDSdcyyO38pJwhcd4tj0yG3MFc6OEssgjBwA+CtjyArogfOlzH7fjK6sKNK+HAQnzu+fWA7yRcqCz4voivrPqiHOio3C09w+4SmHsSGC4BeV7xghcf6e5Ke8jqS7bIibgWWkgr22mCyTD+YWEQlytUhfrSUJ/r9l1yf+ljXNHbFQRlAh2yHEM+QvHdSbnf37sTbmkBbv4hBtDH4HCfjUXPuW8N6Qo/oclnyCVUEyE9xj9n2WGjYg3aREh3J5VlE+giK64yVxkhIV04upb3oTSKJr6x49lFb8uLXn5fBPB5oP397u/+rplniGsUV+Rw48vzVbQrpEpoKhJPfMvJUJt3xeUyS0qZw8g4xHVNhZ1j/oW+C/mWnTAh0cadn8VapOPgP+TZHePI3DK0m9dl4I5dYAGJPIWMjkJ1s+jtneUngVgCVe/QpkI67l8kguO70DzEfealn4wV0pFm0XjLZxEbDvGkD2syRimyfJd3jGsAWsVD+nJ3XOpacUufL/M/l5vb/4bu4+4ylkVK/wyQovRCZSni6/LAwgm0sEU0JKWQXiCWhhpnHSE91PCmKaRXnXJe9CCEPq+asMnAsw0P6Xjx0x3QVU26yu7tbmkKvXT8LUgIU5Yevi96KaEDQX2KlT46UPhXD/mxj30BMhwJkEA7AkVbtDFowoBC/ORhgIdJpu9uBXcPCemh7YSuX1U31+7EumqRNtT/yL3cA4NCVEILg677LxkwFhGV+GUDb9cCDenIwYf0kd6unTL27An44pu7qFb0DPifNxHSYw4ql7Fh6LBRcflXNS6r6rdiy+LWTF0hfRocZ99SeMe+EygT0vGOgvs2mdAXjQmkjNIPdC2k+6446/QdPn/fNZWMDVzxXc5b8d3FuXOsNhbpruhf1D78RT9/3OQvZkJQh/94d4GeQnrfnz7mr88E3HlDyB3wLIX0kIYybyG9qzGKq1uF9MIiAyf//kXh/M+rFnRFzypyO+y2WdlhgHu47wf8HspP2UJFTJ/e5+eli7xRSNcUm4gdVRbYZUK6K3q3GVyhAbidZpmP9EUT0kNCD4RuCGmxiyShl4D70Mlho64PYXelsIsHlGmQAAnEE3D7cvQBu3btMpM0tz/Ac4vDRzExlG3ccFdSZpHuTwhdgRmTWUwIxY1K10J6SFwDEdlaXTQQe/3rX2+28hXFFzdUVRYssDhzD6jGvXlye3ybZMj+EJDxkm940NXkqurZLyJRJOK54acppBdth6aQ3p+2y5xkBNx2KW7PbrjhBvO+g2U03FzKoWry3BS9B92zqZCuv/BVJWAUWaR3KaT7rlzk8HT3uZW+TVwluWccVM1XYyzSXSEd4ybZ8ee2S3/RLzROEBc04soO8d25K4V0Pukk0JzAtHykI0d1LdJDGso0hHTfDWaZ68muxnpDENJD/TQWmMGn6r2GupN3WJXFv9+n490D6/pFsU6nkK4byzSEdNf/t2/x4DZQV5BxBx1V4oZ0s65LAGytwAMiA0g0bohI+Of7CRR/66HVy6oJWxOLdJ8H8i+uXdzDcELbH0NbiEOdgMui7KCDOkJ60cQb+cfAMnQadmgVuPlrkTFJgARiCYQmhH5cty8M+eytsux0B4chNy5VYlpV/+O7dvEP8vLLU+XapSp+2btG+jh/EF3kzzW2nhiOBOZBoEiwlkUn91lxJ2fynIfGJ64FUNWzX1TmGCFdxiKuCwX3oKeqfst/zt3yYewIK17/qiukuxzhOgqXex/xW93WgGQebYf37A+BULssmuO45w+4AnvRe9Tdnl/03sN7Ec8jFuBnIaS7Yw7cD+XHJe7ZQn7U6+wYlr7BdWEXmhuKuwH/UHSfpe9OU76PGU9Ivqt2WfenNTInJNAfAm4/6L7X/QMoZREu5MLO7d9QspDm47oIRpiqeU3Z4abuIp3bn1YJuC516XPwmav/IG1oQ+ItoKsxShMh3V8Ahl4XcgPtnmkYcu1SdW9hUTSuK3qvFdWjO4bzjS7cPt1te/5B0/15QrrPCYV0zbQrIR0DMDlARlwGuJ2Cu1KIgQgsB1zXAq6Q7nZKOPQNYrgcOuo2A79zxCQLYWF1iYMRXOsMt6NBmggj968ShGLFbLejqOLhdiB44LF6JQcFuf6rYu+N8mDwJ4cGwgIdad55552GgyweVHX4bifl1hmY7dy503TIWAABu2uuuca4O4CbCPDm4K/7ToopkkAsgRgh3V1wQ38NyypYXKMvxVUlSLmTWjzvOHwUftbFF3uVmFbV/4QObkb/hb4GFwY1L3rRi1Ire7d/RD+Kg8bQR7mDHznEJhS/SEiXwTTeJzgAB3+jz8a1SIOk2LbHcP0nUCRYuxMAeabdPkEW3NzxDZ5JjONcVwpVz34RoRgh3R8/Ii33/Ieqfiv0nMukEmlJ34EDRvF8Y/eeO8EV93Uoc8xhowiHf8IR410ImRiTUUjv/7PS5xwWLfC4IolYxLnvQbRHce+Gz10/3UVjfdfPL54BPCd47iCi45qVkO67rnRFb5eHPMe33npreliyzGlc0cz1U+7ODTEmQjg5JBBlDFkmIj7mpOCDe6H/ESMu6c/cuZSIQ8gfxkziXg/pu6Kc9A1l59L0uW0ybyQwbwLuIpicF3Xo0KFgn+XOZ0L9m/v8u/2HjJNkPODOa/x3P9KQ8YmbRlV/6s9h0G+gfwpZOrtjONxPNDb0jeh7Qov4bcYoVWJ2LA///QLdyu27q863CM0nXQNdt791++k6Fumheke6qD/sjgr16VWHvs77Geny/hTSNc2uhHS/YtyJA74L+fVDp+C7FEBYtwORdIssnfEgwjLJHfhIHAzyYGmEBu/79Q6FcTvVopXBWIt0lF98iCNdn4e/CCD58Q/nihXShRvEHve++NwV5quErCKf7ZI/TKrf8Y53mG2k/rVInUeXHRHTIoEuCMQI6eh3cCie20dgUCj9Z5UghXz6fuHQZ+FCmlViWlX/4y6ouqK/y8edZLoLiBImVAY3vutbtUhID72DkAZYuZPmLuqNaZDALAiUCdb+My358S2vXPFZngf8RP9R9ewXlTFGSA89jxirfOITnzDJVvVboee8bEwobhr8cxKk7wmNy0J9Iz5D/4iJrBiDUEifRWsf7z2KRABXTHHfcX4bFjJumND8TBbQfBEb7RnP+m233TYzId0XivzFbP9MFcx5MB7BP3dO4/ZfIXHJZSNzU3fuWXQWVUgMd/kWjWV84yNJn4v1431+WbLpEijSVnBXVxOSXPj9o9u/IYz7/LvzF3wnRpj+524JfZe3ftii/hRp+P1aWb9Q1Mf444/QWK/uGCVWSPd1MJeZMPL79qr3U9W9Uf/QBGXnklsXTYR5xA/V+7nnnpseaO3eI+ZcoOk+AbNNnUK65o1BPS5YJspAHw0bK3i4xJIZggWsdXBdeumlpkNyB1/oLNCwsOqD72DF56+cYTKEf8ePHzffwzpC7u+HRzhYU8sEDRaJsuIfaiYIf88995g8YXBy1VVX5XwDIw4eMAyO7rjjDmNdLVYFbnohHkgTcerwwMMOH8XgISuJofyDNSw8wARcMfhyw8XeW8oglvaSXz/N2LqV9HD/W265JbU4Rz2gXt18i9XmoviEmm03xbuRQBwB6bukfy6KhT7ipptuMs80+ibsNvH7YbffCfXlGLShj8Ezjz4BFmr4232PNHm3+PeC2IU+FPnBvUJ9thtGrM/lAK+q+KE8un0p3nlyb1i7+/1zXM0wFAnMn4C8+91n1M2V+64vGsNhDIW+A2FlXIN+JObZLyJQlS+JJ+NH/I1+QizD5W/0D0X9VtFz7o4JZWzrP+Po6zC2lDEa+svQuMzNpzt29fu0unmcf8thDvpEIDQXk/xJO8ff7pyp6j2I8P57VMb67jMi73t8hvdy1bzRnUfInMR9Hsrevy5zt8zu8y5hQv0S+gvMY93xkDv2wdxWzo9xxzPIH+ZgMt+VOXDo+Q7NNcXK0neTI2WQOSrGE/5OazkkvezMrz61ReaFBPpKAOMKvLdFQyqbF/nzGZSp6PmXsAiDMRCeYVdoxSK8xIXGJbuAQn0V+h/0s6ExFMJLv4a+GZpVKD2/n8QuQXe8Epqz+Ppa3TGKyzKkKQkP9IEwZhUeMm7z24zfN/r6XdE7L3TvmH66bnr+OFHqPaZP7+vz0VW+KKS3JFnmQ7Jl0oOMTh6DrDZmmgRIgARIgARIgARIgARIgARaERAhyd/RU5aoWGYumkVjK9CMTAI9IFB0VlMPsjaXLJDHXLDP5aYU0ltip3CcB0geLRsUo5MACZAACZAACZAACZAACZDAAAnIXLDqYFK3aHC5h519rnu7ARadWSaBhSNA4Thf5eSxOI8AhfSWdY3tJjhoEhe2t4QOBG15i0FFJ49BVRczSwIkQAIkQAIkQAIkQAIkQAKdEYDv5YMHD064dii6gbhbeOlLX9pZHpgQCZDA9AngWXfPmZr+Hft9B/Lod/10mTsK6V3SZFokQAIkQAIkQAIkQAIkQAIkQAIkQAIkQAIkQAIkQAKjI0AhfXRVygKRAAmQAAmQAAmQAAmQAAmQAAmQAAmQAAmQAAmQAAl0SYBCepc0mRYJkAAJkAAJkAAJkAAJkAAJkAAJkAAJkAAJkAAJkMDoCFBIH12VskAkQAIkQAIkQAIkQAIkQAIkQAIkQAIkQAIkQAIkQAJdEqCQ3iXNgaX1yNFH1SF9Qrp7ra+tqa9/61719O998kRpLr7oQrW8vDywUjK7JEACJDAfAv/xX99UamMjd/P7vvuA2r5ju3rCnj25z5+wd6865+yz5pNR3pUESKA3BO574EF17PjxXH4eO3ZMHX3smDrwPU/Mfb5lyxb15APn9ybvzAgJkEA1gcNHjqqHDh/OBVxdXVXfvPc76qnfe9FEAk998kVqaWmpOmGGIAESIAESSAk8fuqU+tZ37psg8vV7vqUu1OMpjKHc6/wnnqd27thBgiQQRYBCehSmcQY6fuKkOvLoo7nCnTlzRt3y1a+pH3r2FROF/p5zz+FAbpxNgaUiARKYAgEIYhuekH7X1+9W+/bsVU88d3/ujrt37lR7du+aQi6YJAmQwJAIQGQ7+fjjuSwfeviwevDhR9T3Pf3i3OcrKyvqvP1nD6l4zCsJLKd+hm0AACAASURBVDyBY8dP6IWxx3IcTmnB5yt3/od6zuWXTfB50nnnqk2bNi08NwIgARIggToEoGs9qMdP/vWvX7ldPfPpT1M7tm/PfXXWvr1q+7ZtdW7BsAtMgEL6Ald+qOinT59WX7ztdnX1c64iGRIgARIggY4J3PGfX1ewPsfCJC8SIAESiCEAIf2Bhx5Wz3zG02KCMwwJkMDACMBy8ktfu0P98JWThkwDKwqzSwIkQAK9JvAvX7pNXXbJ02l93uta6n/mKKT3v45mmkMK6TPFzZuRAAksGAEK6QtW4SwuCXRAgEJ6BxCZBAn0mACF9B5XDrNGAiQwKgIU0kdVnXMrDIX0uaHv540ppPezXpgrEiCBcRCgkD6OemQpSGCWBCikz5I270UCsydAIX32zHlHEiCBxSRAIX0x673rUlNI75rowNOjkD7wCmT2SYAEek2AQnqvq4eZI4FeEqCQ3stqYaZIoDMCFNI7Q8mESIAESKCUAIV0NpAuCFBI74LiiNKgkD6iymRRSIAEekeAQnrvqoQZIoHeE6CQ3vsqYgZJoBUBCumt8DEyCZAACUQToJAejYoBSwhQSGfzyBGgkM4GQQIkQALTI0AhfXpsmTIJjJUAhfSx1izLRQKWAIV0tgQSIAESmA0BCumz4Tz2u1BIH3sN1ywfhfSawBicBEiABGoQoJBeAxaDkgAJGAIU0tkQSGDcBCikj7t+WToSIIH+EKCQ3p+6GHJOKKQPufamkHcK6VOAyiRJgARIICFAIZ1NgQRIoC4BCul1iTE8CQyLAIX0YdUXc0sCJDBcAhTSh1t3fco5hfQ+1UYP8kIhvQeVwCyQAAmMlgCF9NFWLQtGAlMjQCF9amiZMAn0ggCF9F5UAzNBAiSwAAQopC9AJc+giBTSZwB5SLegkD6k2mJeSYAEhkaAQvrQaoz5JYH5E6CQPv86YA5IYJoEKKRPky7TJgESIIGMAIV0toYuCFBI74LiiNKgkD6iymRRSIAEekeAQnrvqoQZIoHeE6CQ3vsqYgZJoBUBCumt8DEyCZAACUQToJAejYoBSwhQSGfzyBGgkM4GQQIkQALTI0AhfXpsmTIJjJUAhfSx1izLRQKWAIV0tgQSIAESmA0BCumz4Tz2u1BIH3sN1ywfhfSawBicBEiABGoQoJBeAxaDkgAJGAIU0tkQSGDcBCikj7t+WToSIIH+EKCQ3p+6GHJOKKQPufamkHcK6VOAyiRJgARIICFAIZ1NgQRIoC4BCul1iTE8CQyLAIX0YdUXc0sCJDBcAhTSh1t3fco5hfQ+1UYP8kIhvQeVwCyQAAmMlgCF9NFWLQtGAlMjQCF9amiZMAn0ggCF9F5UAzNBAiSwAAQopC9AJc+giBTSZwB5SLdYX99QRx49qs7at29I2WZeSYAESGAQBI4dP65WVlbUtq1bB5FfZpIESGD+BE6fOaMef/yU2rN71/wzwxyQAAl0TmBtbU0dfeyYnn/t7TxtJkgCJEACJJAReOToUbVn1y61vLxMLCTQmACF9MboGJEESIAESIAESIAESIAESIAESIAESIAESIAESIAESGARCFBIX4RaZhlJgARIgARIgARIgARIgARIgARIgARIgARIgARIgAQaE6CQ3hgdI5IACZAACZAACZAACZAACZAACZAACZAACZAACZAACSwCAQrpi1DLLCMJkAAJkAAJkAAJkAAJkAAJkAAJkAAJkAAJkAAJkEBjAhTSG6NjRBIgARIgARIgARIgARIgARIgARIgARIgARIgARIggUUgQCF9EWqZZSQBEiABEiABEiABEiABEiABEiABEiABEiABEiABEmhMgEJ6Y3SMSAIkQAIkQAIkQAIkQAIkQAIkQAIkQAIkQAIkQAIksAgEKKQvQi2zjCRAAiRAAiRAAiRAAiRAAiRAAiRAAiRAAiRAAiRAAo0JUEhvjI4RSYAESIAESIAESIAESIAESIAESIAESIAESIAESIAEFoEAhfRFqGWWkQRIgARIgARIgARIgARIgARIgARIgARIgARIgARIoDEBCumN0TEiCZAACZAACZAACZAACZAACZAACZAACZAACZAACZDAIhCgkL4ItcwykgAJkAAJkAAJkAAJkAAJkAAJkAAJkAAJkAAJkAAJNCZAIb0xOkYkARIgARIgARIgARIgARIgARIgARIgARIgARIgARJYBAIU0hehlllGEiABEiABEiABEiABEiABEiABEiABEiABEiABEiCBxgQopDdGx4gkQAIkQAIkQAIkQAIkQAIkQAIkQAIkQAIkQAIkQAKLQIBC+iLUMstIAiRAAiRAAiRAAiRAAiRAAiRAAiRAAiRAAiRAAiTQmACF9MboGJEESIAESIAESIAESIAESIAESIAESIAESIAESIAESGARCFBIX4RaZhlJgARIgARIgARIgARIgARIgARIgARIgARIgARIgAQaE6CQ3hgdI5IACZAACZAACZAACZAACZAACZAACZAACZAACZAACSwCAQrpi1DLLCMJkAAJkAAJkAAJkAAJkAAJkAAJkAAJkAAJkAAJkEBjAhTSG6NjRBIgARIgARIgARIgARIgARIgARIgARIgARIgARIggUUgQCF9EWqZZSQBEiABEiABEiABEiABEiABEiABEiABEiABEiABEmhMgEJ6Y3ThiBsbGx2nyOSaEti0aVPTqIxHAiTQkgD7wpYAGb1TAnwfdIqzMjEOhSoRMUAPCHCYOJ9K4PhgPtyHele+v4dac8z3GAmw/+5PrbJvnG9dUEjvgH9Vh0JpvQPIEUmUyebsaCIAMggJtCTAvrAlQEbvjEDVMirfCZ2hThMqE885DuqeN1OsT6B8nFg/PcaII8CxQRwnhrIE+P5mSyCBfhEo68M5vptdXVHrmh3rmDtRSI+hVBAm1KkUdibsZVqQLo+6oTZUSBQp6mwooEytKpjwghJgX7igFd/DYhe9D4om53wftKvEIvE8NOShlXo71ozdjkDI+rx4nNjuXoxtCdQZGyDspkoJlWTHTIDv7zHXLss2NAJF4nl4fMf+e5r1S61rmnSbp00hvQE7v2OZ6FCcD9KwBaN1TizrVUDhNlzNPCeIeLx9/BRP6nFnaBIIEWBfyHYxTwLR7wNPRQ+9jvlOqF+T/vjFHwu53+P3ovriOKg+e8YoJlDWztzv/HCT40RSbkOgdHzgdRYmLOdJbXAPLi7f34OrMmZ4gQjUnt+x/+6sdUT3jdS6OmPeNCEK6TXJuR1LbhzoiufaQhqXOy4s3BJDB431aiAw4xYBBNRTnK6w7nQ0bp9D4aQeeoYmAZcA+0K2h7kTKFBg0bfLK1neCTlLx+RFwAXW5jWYE8mdZORzVzgvCtv87oxJAvUI5Md+Nq7bRnMCu5M0h+j1OFuueZU8NFeCdZ3UAX5K/QTnSqyE+pUwhBh8fw+hlpjHBSRQNb9zFz4rtS723/VbELWu+szmFINCeg3wwY4lGSG6g0IMCG0noyfzNUyt6oStke1BB60jdpuw2BqaKSem7KmAEhBP6qQ/aJDMPAl0SIB9YYcwmVQ0gZj+2rx/kxTdd4IstPrvA1fEMb9z0F9ZHyFhfMI6PR0b2eRSgb0y9SxsRFAGIYHCnQ4uGhFqveHhRFz/e9snEHIsgUoBRvfOIrw0mSfZvoS+MmPro0/hYt6tfH/3qcaYl0UkEDO/k0F2kz6c/fdkq4rpGyUWta5+PZUU0iPro7Jj0eO65eUlMwnftKR/Jumyw4gE3EEwtyNaX19X9l+2XdQIKBTTOyDNJBaZAPvCRa79YZXdfSesra2rtbU1M/6HMMYF1mZ1WSWi4/vVJaX+7cyS+u7GJrUqgnpb7csT5tPVEqcYRbsETRD3y/T37MOy7E3odlVlmfBx47HO7WAM1ENEWW2RCjIScf/CIugvqjiWFr+CTcayft5NjIbs08W1ZBC4eWmTOrB9XT1vv1Kbkz4hm6ja30JW7M2emsWIVTU2EAF9ZWXZzJPE8IXzpMVoH3VL6b6/0UbOnFnl+7suRIYngRoEivrwdKyRaF1L0LmcFWb24TUgtwya17o2Eq1r3dG3qHW1RFwrOoX0CFwxHQsG6du2bqE1WwTPWQWRgRcEdZkVUUyfFX3eZ4wE2BeOsVYXp0yrq2vqzOqqFcjSRVUOOmNbQJmILt+taX3sL06uqEOOiB6bfjBclagc8X1YGM4iTmizvtBdIkw3jRvQ8m3xy8qTfucHSsg1ZpHFLxPRqxYUqr5H2Wz64fxXxS/9vqCOCjnrXGzWj/4Tt2+oX3nqhlpJEKQW6UGji1YtefSRZXzgMzciTFL3m7WIvrIitEePhAXskADmcqdOn+H7u0OmTIoEhEDp/C7p1CGgb968Qq2rR83Gal1nrOFoMreh1jW7CqKQHsE6NDhMB4a6AaPpbtm8WQ8OlyNSY5BZEsDA6/FTp+1OAXYws0TPe42QAPvCEVbqghXptJ6Ir+n3QpWYXmer5SIgrBLRMQ5CmH9dX1KfOr2skuXrdmimJgwncm6JQG7k3ioB3f3eC1srrrlZhsr8WigM909En8hvIYvJvJeVNcVQVySv0W6WdUfw4ietq/+uLdPtTpXMlQvdvMQ/voVjg6QSbT1vqG3btlKEicfKkB6BVb0QfkYviPP9zaZBAt0RqBLR7fhuQ23dsll7X6DW1R35blLCbluzyEitqxugNVKhkF4Bq1Q4SgaG6GBgjY6VOl79IoD6O/n4qWTQVS6mUzjpV90xN/0iwL6wX/XB3DQjgIn4ab1FHNeSKGcQzxLXXzyQOszV93Ge/p1Ymoog+uEzK+o/1zpwKp2km+YmIKbmPvJE7fB3mcJaGNfqfflrZiJ5ctsGInpZeTJLcBRusmzRcc2Y10MTzWp2Inrd8nzfng31qqfoWCKkoz8Qi3TPMp3+0if7hwkRJq1q+xCLCLOi3V9u2bKlWcfNWCSgCYhxFN/fbA4k0B2B2Pnddi6Edge9w5SodXUIs2ZSFNIrgOU6F39wmFij4+Md7FxqNr3ZBT924qQRTKwFw6SYnh1C1cHkf3bF4p1IYKYE2BfOFDdvNiUCENJPaSHdWp5ycTUWsyukF4no2Fn6Z6sr6r42QnqENXFOz40WhtuL6LJYkGPm3L/s+zRYoUiuU20goDdjkZQgETnT8jQWybP0JK08i3oiepBVl5xz0JS6YMeG+rWnbehxIjqFxCrdDhfN5ay38eDRQIdRJcLge1TfVu0SgG5dYntchgsRgJB+EruM+f5mAyGBzgj48zvXHRcsC9B/r+ufO7dv446izqh3lxDq7/jJx6l1dYc0OiUK6SWoYgeHG3r2uHMHO5foVjfjgBDSRTChcDJj+LzdKAiwLxxFNbIQmgCE9MdP6S2QWjUrmozTKj3fVCqt0RNBFkL6B7RF+nfXGy5KR4joda2NbUlsrFaW5gUit5AamiuXViwypC7etNFMHCgaKYKnyZYtNvj3dv4uW6woazfnb9tQb3yGFdLFtUuZixdapWf9Q8ga3Rdh4OYJ86RtW+ECk/7R+SJuTgBC+omTepcx39/NITImCTgEoud3FNJ7225ESKfWNfsqopBewrxqhU4Ghwi3a+d2rtLNvv1G3fGxYyeskK4HXsb5Dq3So7gxEAlkIlEiRCWiRdFEmX0h20zfCaRCeqKUpe8EI6Jlfhy4U8kVyzK9NGSNjs8gouMnLNIbCekV1tE59yQBITcslLa3Qje3KhHRp2ulPmnJbWqijNXUFiOSNhC9oNCBFXoHInmMW5sD+sDRX3v6hrE2N2I6rdKju/EiEcY8M7JrFz/13xTSo7EyYAGBVEjn+5tthAQ6IUCtqxOMc00EdXjseGI0Sq1rpnVBIb0Ed2Hn4g0OKR7NtM3WvlkqpJsJUmaFaLfw2hkTRZPaWBlhgQiwL1ygyh55USGkn3gcB1BbH+nmncDF1dJaL3LrYg4UFRFd/wox/c/rCukRwm9ONw8IudMS0TsXySMts+1Gass2d0WwKrO8LhXgre4ZvJ98GL+g0EBEb7hYUWaFHttuIKS/QQvpYpEuLl6wyEb3LuUvhDIRBt/BHYBx7aIrase2LbRIH/n7ddrFg5B+7MTjfH9PGzTTXxgCnN8Nv6pzQjq1rplWKIX0AtxVVhbGGt0ZIO6mRfpMG26dmx197Lg+CDYTTFyrdHPA6MRhUg23pdfJFMOSwEAIsC8cSEUxm1EEXCFdRPQJq3TnnbDoh1CH3LrgM2NwmoivYo2+pj/44FoNi/SpCcM24VrCsCfk1oqbU2wT/buxMNzACj25f5mI3qo80QJ7PQE9xdZgwSBWJLcNwesakvYrnx7Qrl1er4X05cQaPWSVngrqSSS6d7EgQiKMWKP78yQK6VGvKAYqIeAK6Xx/s6mQQDsCwfldYiyKAZTbh6/rgd6eXTvofaEd8qnERj0+qr0vUOuaCt7SRCmkF+CpsrIQCwuxuGDnMvvGG3tHI6SnloeJVTotEGPxMdyCE2BfuOANYGTFT4V0XS47Eec7oayKi6zRcyK6TgBiOv5FC+memFkqds7QCt2Kg5PCq3zSuZW6uWEiSpZYoheK5FNbjBChNJZFPRG9C0tyk7OythHZbg5sX9dCunXr4lqlpy5eeOhosIsoE2FcQyPzu06BQvrIXqZzKE4qpPP9PQf6vOXYCHB+N44aTYV0al0zr1AK6QXIy7a6+FYW2Lq4l6t0M2+8sTc8kgrpmWBit+yKWxe6d4llyXCLR4B94eLV+ZhLDCH92IlTieUG3wlVdV3m1sX1jS5C+v9er7BIjxB+c/popBjayYGiBcJsjIjeTmAvtkJvxiLJccViRSsr9VDGnLqa4FH2nce9jGX3AvyGgmuX1z3NEdIdX+l071LcQ8S4BLCuXazl+s7tW+naparD5felBCCkP3rsJN/fbCck0AEBzu86gNiDJFCPR2GR7hkHUeuafuVQSK8hpE9sV9QzRwzqsd1l7+7F2e5y5513qv3796tzzjln+i20gzsceTRx7ZKI57lDR+knvQPCTGLMBKK2bk+pLzx+/LjCP1w7d+40/3iRQBsCOSEd74TE7VfIvQvPzsiss8UCHeyNKxf9U4R017XLh8qE9AgRvdDyOhFbw9/bT0uF4ZmJyknrjCirLVKxiN6Mhb1/LZHcW6yIj1vPCj2pwka+39O4uV8y1s1Y2Vjna9cur9MW6a5rF9e9i/GZjr4id55Om15oHHHrjA3WtAC6e8e2ToX0Bx54IHUzcO65544DKktRSiAnpPP9zdZCAq0IVPbhmNslO4oWTetqBXbGkY2Q/lji2sWMVfRuW/fQUWpdU6sRCukFaCc6l6QjcbcryiE6+Llv987afqMOHTqkbr755qjKffGLXxwVrm2gz372s0YgP3jwYGFSP/3TP62uvfZadd1117W93UziP/LosdS1i79aZw9+z/tJX3SfuDOpFN5kMARm0RcWwfjqV7+qMFk+77zzFCbK+MmLBNoQgJD+mD6sTNx9TbwTOODM4RV/6PjQWpZ6vtH152t6m541KlDqQxsFFullQnaE6FwmoM/uEM0ETaR1dbX1dISI7oncE7p74PtmorItW7xbm3oiejWLSbY2Q57u7hauo3aTWqTr1TSMCZeTnzlf6Yn/dGTJjhvb9ELjiFskwvhuXTBHwr+uhfQbb7xRXXbZZQam/BwHWZaiiACE9MzyctOEBaadznGXMVsQCcQQEJE8fddOQeuKycc8w9xzzz3m9hdddNE8s9Hq3qjHzPtCoF80YxZqXa0gF0SmkF4Apqpzke2K5qdesdu3p76Qjof3r/7qr3I5KHqg3/KWt0yj/ifSfNvb3mZE9DKRfHBC+tFjdmUu2fKS+Us3wy0zKxLxPBXWZ0KbNyGB/hOYRV9YRAFCOifJ/W8jQ8qhEdKPP176TuCAM6vRKiFdXLrIz7/0hfTGYmeSh0IhNcIKXScRLwxn95PSmzuUCdkF36XRCuMWC+i5W85QJDf3jS5PhIgeudhQzWqyXswnZQJ76feT7QZC+msd1y7iK51CennPXmtsMCUh/frrrx/S64d5bUnACOna8rJsTsf3d0vIjL4wBNw+3CyMpoYS1hK9C62rDOZHP/pR8/WVV16ZE7LF0HQWRqTQvXDNSmebRuMyQrr2vkCtaxp0y9OkkF7AJ+1cTKeSdC6yvcX4/LN+/7DVBb83EdJDt573Az1GIf2wFtIhntvTjKt94tIiffYdEe/YXwLz6gtBhEJ6f9vFUHOWCuneO8EssOpCpWdnJCani7646lqgG30S4x75iaER/tb/1pKff+UK6bMU0WuKzvGicdLSI4XhasvrYhE9V4QOy1MlOi+aK5dceTXnAzs21K8kQjrcu4iAnv40/YJtB/4BpEPtB7vId5kIIzt2bf9gDY527+zWtQss0imkd1GTw0kjFdL5/h5OpTGnvSVQNL+bOAtQ99/ox5/QwGi0rPAwzMR19dVXq1e+8pVpULgQfvvb367++q//eurs5q27dVFA1OMjcGNMrasLnLXSoJBegKuyc3F8AnfZucQ+0LBcR0cDn8GXXHLJhL9yrOY99NBDZoVvx44duVIi7okTJ1L3LUhHrve85z1mZfD5z39+Lo7r6sW1SEdc/MP3Ze5gJBzyg3B+nurkt1YL14FzQjomQo5P3NCBoxTS6xJm+DETmFdfCKYU0sfcsuZTNgjpj2qL9HTAyXdCaUVUCemuf3T8ngrprsVwmVU37h4tGmcidJnoHC8MJ0WPFMnTrDYoj40bENEjFhtyiKJZ2bJ1x2Iy7+aTxiwm2dsMO0k2SDvcLsrbjS+kQywXq3TzO/oICukT/UTdscEeCunzeemN6K4Q0o/AF7AIRnx/j6h2WZRZE6jbh09DSD/77LPVww8/rG644YZUG6KQXq8lTAjp7BfrAWwRmkJ6AbyYzkX8/sHS4gl7d9X2kR66dZWQDgH8T//0T9Wtt96qLrzwQpPEt771LfXCF75QycoePkO4N73pTUZo/5//83+mt4Jg/eY3v9ms/r3sZS8zn7vxitqSuyqI8Ndcc40R0JHeyZMnTTQI5K997WtzIjlEe4jzEPWls4SIjjRcsR7hUParrroquCqJ8Chjk+vwkcfS7S7G6rBCSMc9KKY3Ic04YyQwr74QLCmkj7FFzbdMIqRbsSxx+cXF1WCliAgLGTL9HRamyd85ty76Q1il/3VikV5mmd3M8trG6k4YTopcJqJ3JrAXW6GbMgn9miJ5d5bmVSwCInqByJ2Wp4EIPh0W1e0GQvprnmoPG13Sqrnv2iUkpNtx4nz7snnfPXZsIFbpFNLnXWPDv78I6Xx/D78uWYL5EgidcWHGFHDpYsZadifRNLQuKbnoSTifDy6FRecJCelFro/9z6FLQQPDeX/4DpoTjDjFYHP//v0541NXd0N46FWIU2YcKmmhHH56+Az3l3xJWd30UL5QvKYtwgjpjhtjal1NSdaPRyE9wGyenUuVkA6f6uhw4MtJDkbA31jJ+4Vf+IUJcRqiuXsw6G/8xm+YErviuosg1rULRPHXve51aR4+9alPmS04fh7kfhDY0anhQhluuukmI+i7HYuU41d+5VeMoI6OCPGxYIB7Nb0mhHTnNOOQRbqdIC34DKkpbMYbFYF59oUASSF9VM2pF4UxQvqxk7UWVxf1fdBUSL9/PXl/diYMB8TQmmnTlUv2+MUvRtSzQscdpm6lnt7E6U5cK/bc99XtBizEIp1Cer0uOlZIF9cue3ZtVysrK/VuUhKarl06QzmYhIyQ7vgCjhGMFvX9PZhKZUbnQqByfpe4Lp62kA6NCuI1xOU//MM/NCxCQnqRPuZ//pGPfMTEh4Z0/PhxY+0ObQqf4zP0B3AbI5qUxMffN998c1oX0J6gtfkeFKB1QfOCDoYL6fvGrJJ/t2Kh00H/knu42lzbBhAU0ql1tcUaFZ9CegDTPDuXMiEdK2AQpH2xGkWAlbrbCUmx0HF87GMfM6L1HXfcYR5+iOjSgfjFjxXSQx3Au9/9bmMdLx3hLbfcYn5Hh+WfhgyBHKtxvkAu1vbiG+ub3/ymesc73jHRkUW1bh0IL4B77r3PmBil1oeIjL/1j1ghHXH37N5NgT0WPMONgsA8+0IApJA+imbUq0IEhfSKAeeiTsSbCOnGtcuatxDt67HRIni5Sw5pWPHCcBKjM0vzyfTMJ2m2fYXX/a44bjOLfZtedyzqiehlVvUOkrwrmIh2URg3+SLMql67oZDerIsuFdIDIgyF9GacGSsjEBTS+f5mEyGB2gTmPb9DhsVVMIwnoVOJgWVbIR26F7whQOt6zWteY9hAS8IFDc31cgDdC9oVDjYVi3joV9CjfC8J0NSgo0G7EkNQ0bqKPCeIDgdPDhDy4T4Z3iKmbpFOIb32M9EkAoX0ALWYzkUO0hFLi1m4dpGOBQ+rL0zDmhurXKGDGaSTwAMs1t5FjaWNkC6dheTB/9u9pwjmWKFzL+QRecBPrFCGRPg6Df2Mtj78wq1fyQ4Z1ZFFPIeQbvfmbuhD5nAKqfm/uXzhZHlpWa2uraorvu9Siul1KoBhB01gnn0hwFFIH3Tz6WXmfSEdfb1YtRUtrlJIzwRa4xMdb039H3PIqN4DjL+1oaBx7fJX61pIF4t0tIBCa+GkedSxJk7ScxtWK0vzhu5J0mwUui+ZFKFNniOE496I6DNbbMjaQa7DmGG78YV0jAOXExcvcrgo3L3IkDEbJ/ayi5tZpqqEdH+eRCF9ZlUz2hv5Qjrf36OtahZsygRC8zsznhLXLolbF+PqJXHz0pXWJUVzz9yDgSW0LRw62lZIh/tj8bzgG6i+4hWvMII5XMngKjJgFQ3L9d0OER6CuMSVchRpWvhe0mnjoriqKfgW6X6/CK3LjmXKta6q+/D7SQIU0gOtIrZzSQeJurM5awY+0uVhxHYTf6uJFAPbUPxLOiTEK3LpInFmJaSXiezi4uXZz35249CqqwAAIABJREFUK5cuUqaHtY/0VCjxRJM6ncsDWth/8KHD6rJLns6+hAQWgsA8+0IAppC+EM1spoWEkH5Uu3ZZSnYpxQw4KaSXC+mur/SckN5IDK1nTZw2Hk/UbiWwI9FCkTy5YwMRvTORPHDvsrTjrdTrWaGnmBqzKmZZn1XzdmOEdD2sc32jU0iv7pZ9Ib1KhKGQXs2UIcoJQEh/RLt24fubLYUEMgInTuiz6ko80t573/3qY5/5f9VFT3qSuvRpT1EX6p/79uw2CZg3pxmr6f8FhHQR0fGzK61Lcu4K6aL9yLl64pnA1afwu69zFbl2kXD+977OVSSki3bmW8mXGbOKFbzbNkXvCn3XVRvGu/iw9pHehdbVVZ4WJR0K6YGariUeJSt2XXUuZa5d/Ic6tpGKn3JsXalaEZuVkI7VO2yH+cAHPpArhljNQ/S/6667Ki3oYxh0JaSfPn1affmOu9QPXP6smNsyDAkMnsA8+0LAo5A++CbUuwKkQrpse4xYXKWQXlNIT1y7pGJotPDbXAx1G9o8RHRMQrNZqZObIVmhp7NqpyhdiuQRLHJZmFG7oZDerJuOEdJdEWYvfaQ3A81YKYFUSOf7m62CBMyBoF+87Xa1ZfNmdWb1TCGRw0eOqn/9ylfT78/bf7Z6/nO+Xx186lN6I6RD/4EbFliLX3rppcYjgetloa6P9GkJ6WXNzj/7D2HLDEe7asIU0rsiWT8dCukBZvMUj5r6SIf/dPhc8i3V5XDS9773veof/uEfjL/0MncpbYR0rLbBpznuhauJj3TkDYdDwHIePtchpsPPepEFfkyT71JIxwvr6udcFXNbhiGBwROYZ18IeBTSB9+EelcACunxVRLykR5y7ZKzSF9bUelho54wa+48S1cuM7NSH6CI7q9yLJArF2mH8iScry3SX0uL9PiOIQlJIb02MkZoSYBCekuAjD4qAv92+1fVJU+9WO3esaO0XN899JD6ly/fpp584IC66PwnqSfs3WNE+HSI1gOLdORFzvuDe5e+CukhsbwMPoX0UT1yE4WhkB6o39LOBX6idIfjnmLc5XaXMiFdOhn4fsKDLH7SYakOEfvqq69WL3vZy9ISiZDt+kWHdTpW/SBUh8TpWCEdFuPo6CQPOHwBK4f+QahiDY9DUuWAUznx2O+MJA0R+pHPN73pTercc8815W16BYV0vQUKW2DquHaBRTqF9Ka1wHhDJDDPvhC8KKQPsdX0O88U0uPrp0xIh090TMPgI90V0v9SC+mpj/QyITsg5HbjnkRUvqycsnU5V/JI4bjMqt5OQotF9PruSbK8N46LPBVYkUv5s+8n8z5dVpN1IzP56LqfQruBRfprnzHp2gU75Ze0r3Tzkz7SJzoOCunxfSlDdkOAQno3HJnK8Ak8rjWJr931H+qqZz2zUWHmPb9Dpl3XLvj7nnvuMXoP/JDfdNNNOYt0GFfi7DzfRfG0XLuIJiUuWaBJQePydS7ku8iYFd/NVUhvoHU1akwLHIlCeqDy59m5VAnpeJDFUhsn/uJCx3LJJZcYf+IijuOhRmeE04EheMuFzyFuY9sMxG3/Eh9V/ufu9hp0fOjkIODj3sgTLj8P0ikivw8//LA5oRjht2/fbgT/5z//+eltpPP0Xc+IO5trr7124nCH2OeWQnosKYYjgTyBefaFyAmFdLbIrgkUCuklA066dpl07VIqpCeuXdK6q7BCrzqQNF4YTu7YmUg+mV6mmw/QCh3FaWiJXr2g4Kad5xYVN5e3LH5YYM/YRwvwgfSlXVFIb9bLFgrpBQZHdO3SjDNjZQQKhXS+v9lMFozAqVOn1S1f/Zp67lXPblTyec/vkGlfSMdn0KhEW3K1JxG2XeNQ0YigP4krFwjX+LyOaxd4P3CNO6FJwahTdC0BDC8PN998c86YFboaxHY5KNWvDArpjZrnYCJRSA9U1Tw7Fzy8uMTSu6glIZwb1g+PBxsdET73Lc/LvsP9IIxL2nL/gwcPpllBBwVRHBbm+P2OO+4wwrwbxs+3hEN+ENbPE+6H+4bSKPsu5kmjkB5DiWFIYJLAPPtC5AZC+gMPPKDOO+88szMFP3mRQBsCFNLj6TWySF91LNJxK7pyyYAXskiCVHzfyvd7QwE9qcIWh69mZcu1vMYsku3o0Vb3k/f3re4PbNcW6ZfQIj2+Z7Ah+yCkX3bZZSYv8rNuGRh+WAQopA+rvpjb6REYq5DuGnS6QjpIQmTHeX9iSCo/8V0bIR3xRdPC72L0iTRdfQ061Z/8yZ+oL33pSwqeGeBSGfoWfkdY0bZE4C+qfVf476KFFPpIp0V6F3hL06CQHsDTB79RU6/5BboBfaQvUGWzqJ0SmLeQDhH9wQcfNGWikN5p1S5sYhTS46u+lZDeUyt0lL7MfUm19XQHrlwCIvDYXLk0Ls8c2o2xSKeQHt8xJCHnLaTLjjVkh0J67eobZAQK6YOsNmZ6CgSmKqRjnKR99k3LjbHgcA0z5TPXmDNkXAm3xTCwhPANzwa+ASqMRZGGCOD+9/gbgre4G3a/F6NPfHfVVVcVns+HOMgHrpAhacgg1W0CuH+VwWydJsPDRuvQ6jYshfQATwrp3TayeadGIX3eNcD7D5XAvIX0oXJjvvtLgEJ6fN00FtK1a5dZuORIS9KlK5cCS+cyX+ipOJ/7RdRGz5i7pojenVubyQWA2gsKXXKuxaq9K5eyslJIj+8T3JDzFtKb5ZqxhkyAQvqQa49575LAGIT0LnkscloU0udX+xTSKaTPr/XN6M4U0mcEmrcZHQEK6aOr0oUvEIX0+CbQVEi/3/WR7pl4txKGO3TnYShEC8PFVuhtRPRWLHwh2mMztANFp+oCqKLdnK8t0l9Hi/T4jkHWiOALPWmH+M20Of0fWDHid9+asWsf6bUzzAiDJ0AhffBVyAJ0RIBCekcgR5AMhfT5VSKF9BZCOhquGTDq7S9P2LtLLeqBZPNrvnF3PnzkMbVpaZNa2rTJ1JH5ib8R3Xymf+j/Jf83iYbq8rQ+IfuLt92urn7OVXE3ZigSGDgBCukDr0Bmf4IAhfT4RtFESP8QfKRDSA/45C5z99GpqOyJzLUtr534ZZbo0e5Lalqhd3f4agdW6DkWoqB6bajQHUsWvpDVHFy5SO6lXRzYSSE9vlfIQtIivQk1xmlDgEJ6G3qMOyYCsxLSqXX1v9Wgjh45eqwTrav/pe1XDimkB+ojJB6ZiQ2Ecx0ewrl0LBTS+9WgQ7lxhXQR00VIN4I5hfT+VyJzOBcCFNLngp03nSIBCunxcBsL6av6pWqu6brkSO9Q6I4lIPzO2Qq9O5F8smz5BYMGInqJ5Xa7xYhAPSSVFxbYZ9tuKKTH9wluSArpzbgxVnMCFNKbs2PMcRGYhpBOrWuYbcQX0ttoXcMkML9cU0inkD6/1jejO1NInxFo3mZ0BCikj65KF75AFNLjm0AjIf1MYpGeiOi1LM0L3ZOEhdiytMuE32oBvtiVS7QVurOOIMRrsfDix8etJ6BXsygWwXNZ7Mzq3iYUX14EzrfpWnF1VPhIf91BpXcrZv+W9ZZFLActyc9kbSixvTA3xO+LfFFIX+Tan0/ZKaTPhzvv2j8CFNL7VyfzyhGF9HmRV4pCeoB9pUV64s7F9f9H1y7za8RVd54Q0vVsybh4MRMhWqRX8eP3i0uAQvri1v1YS04hPb5mmwnpy6lrl4Vx5eJr152Jyrau4oXheiK6730nbRldlieaRXsr9CpWRYsrxiKdQnp8x5CEpJBeGxkjtCRAIb0lQEYfDYGpC+nUugbTVoJCekOtazCF7klGKaQXVIQ/QMxtd0k6FwzK17WbFwjqT9izkz7Se9Ko/Wwc1n6jsM1lCZ0KxPOKzqXI1z19pPe0gpmtqRGgkD41tEx4TgQopMeDbyqk35+6dhHFLX/P6VmSB+5HVy4efPtnO4v9cL06nnycmzi3r/CHHr9gMHn/NuWhkB7fJ7ghKaQ348ZYzQlQSG/Obtox0R8UbtJxv/AXV5P3Ec+Zq1dDbYV0Mw7wDoym1lWvDvoS2gjpjx7vROvqS5mGkg8K6QU1Vdm5yKn0FNJ739ZzQjoM0OXQUZ3zkEU6hfTeVykzOCMCFNJnBJq3mRkBCunxqJsI6f/7dGKRLrdxJ82FQmqiu5b46LaTPi/v0SL5pPBqPkmNoHvgyqWxe5J6VuhpsQtYzsRK3WEvlVAqok+53VwA1y6X0rVLfM8gz2tyFK+pH5wdZR9Sc3aU/t3dtYvf9+7arlZWVurehuFJICVAIX3+jWFCME9E8lIhvSLb6Dpyc2/ntUaBPQxvJkI6ta75P3AROZgQ0ltoXRG3YxCHAIX0guaQCulmXGhH8XaMmB00KgNFHD66d/cObfEMZyG8+kQA9XVEr9KZw0WNgI7JknXtYv4hs0mHk/xauLOAFunNazY4wKrrX9Sd+C+6c9LmVVErJoX0WrgYeAAEKKTHV1IrIb2xMJzkL1IkR+gya+RqYThCRG8gOueiBOKXfR+/YFBPRK9mMcnefFImZPtZiC5rFrEpC5O1grqpahfu9xfAtQuF9PiOQZqJZ81IIb02QkaoSYBCek1gXQWXjjY9R9zpeJ25XBMxfUJETztnzM/dxL2/uyrbQNPpVEg371JqXQNtCto7xro6+tiJTrSuoTKYV74ppBeQd4V02eriCumpiJ5YX+zavjXa4fy8KnsR7wvR5LETj6fiuYjprpAuVungY1y/FIi0FNJrtCB3dhsaeElSsWK6J6qELBcW/uSvGtUTG5RCeiwphhsKAQrp8TXVWEj3XLt0IXbmcu2Ktw2F1MSWduKgyubuSURd9JKc2oJChIg+g8WIZgsGNta8XLn4Cy8U0uP7BDckXbs048ZYzQlQSG/OrnZMVzz35nSuYG5+D8ybzfxBDmnOXo9pNkwc7wViRPUkUk5gl3ByH/tl7SKNKULXQnqM1rV7xzbuKuphIzpz5ow6dvJUJ1pXD4vX6yxRSC+onlIBCRMAbYUug0j4SUd/vlOL6cvLy/SV3oMmj7rBgOvY8cfNezr1jw4rdFinI4+Jhbp5adv/m4tCev0KzFkhAGRASA9ZKshzllRHemOZ6AbrwrdQwO3ceuMAq34FNukHC7Zvn7V3F/vAzmqACXVNgEJ6PNFGQvopx7VLmSWz95owuaohOvtiqBs/TaZAZC8T0ZsJw5ZpLWG4RlnzaUcI6B7LdqyS9hJg2YxVhIjeot2UlTXF4pXFuHb5Prp2ie8ZpL2PwLXLqWNK3fZRpb59W1b8g9codan+d+jrSn32/Xks8l1dWAzfCQEK6Z1gLE6kRDxPX3BW7U7eeVb/yM/vkgn1xAvRu62Zy2XvM5nHpfO5tDMXNb7AOn1B53xdCenuezHnogu142ldCLtrB7WuKT+F0cnjuVtbW1PHtYiOx60LrSv65gxoCFBIL2gIISF94hAGR0iy4W0nb92/JNtk5DVhtkAmPgSzV0fuN7bJKgKWbyZ4JyvX4qIF3xmhPFvRxksan/mW6BDSQ/7RTfq0SK+qiGwAlYRE206HOJ4FeshaIRc+4m6ulYIN7ozkbKVlH/t/L7jVQgTewiC0SG9Dj3H7SIBCenyttBHSa4nK0qWn75PA0MgRP9sJw5NCdIwVei6LNUXl7ljUE9GrFxRc4E67cIXswsWIiLghaC1EcpNcQX7SWzX43likU0iP7xik6sfg2uXT71Tq0e8qdeDyrPwH/pv9G5/fcVP2OX6HwP6DP1ubVScR/va1Nl/zun8nhWiXCIX0dvxKBvvmq4m5nNEzML+z4ridz0lHnAnh6edm/uV+X5Zf3Vk7c7ecgC5Jy/dWrU9mfsiLM+dbUCv1aQnpUVoXqsOI7NS6un8iI7Uu8xikgktnWlf35Rl3ihTSC+q3UEg374fEGj3pQORgndR/ehrGvkzwcvBdxcgLa9zNq/vSyZYvd7tY5uvc+kA3wjne5akvdNcvuvN58sKnRXrNegpZLDgWCa5wLoOrvMW6HRDlriS+qZKAxXkycrNRXOuDdGtgMiDzLRPcvxfUaqFm7eaCU0hvQ49x+0iAQnp8rTQV0u/3XLu4luZlIrh07znL9EgBPRg3/dAKBOn7w0Xgf1xTJC/1H26HgPnL+zteGA6I6A1EYwfJDN3a2Ix2xyJBWtY2arSbA1pIfz2F9PiOQfCPQUivI07XCVubZkSEed8/IovTDkIhvWPCSafsCujp72bOZDtu+5ljQe68pNP5nQjoMp8zRm72PLLcKzfRUMTQzXyXzOXklpnbliwusmoN4JI5pMz/kvTT7xdkrjdVId1UO7Wujp+26OTmqXVFZ5IBDQEK6QUNIScgJTOPzB+gdhsS6GRkZc64FUm+TydZMuB07ue6tWB7jCPgv5DNK1Ys0gtEdCuoZwJ66tbFRLWr7CaZJAu0SC98KMwXZQOuvHBeYK1Q8AyE9HM8P7Y+8pYLk77xpBIxwEoqs0hEX5BBVtwTVR5qoYR0WJ/d+WmlDr5AqT1P7AIf0+ghAQrp8ZXSSEh/fFndv+ZYi+X6e+/eNcTOMgE+TaZAWJ6LKxedl1x2agjo5j3rF2pmrJI66mxBISCi10w7frFhMu8x7QauXV7/TLp2ie8ZbMhsTmTHhaaeMP8xAowyP83v2nIRP/fu2t4//7p1xOk6YevCjAk/7/vH5HHKYSikdwTYF9BFME+mWpnluX2mzbxPXuv6b/urfK6N15ZW9GRtSYdJ/i0tR2V0Y31NJ49/eGGu6X7C/m4N3DaZfkTm+alQblLW35n/4mcWXt6dqf/1Ee9I7lxIt1Xq9OvUuqIa8RQCzVPrmkJxRp0khfSS6i1z72LHi9m2lsK/k15dBvPZ3MifSYy6nXVbuOTFaF+u2UsWf4t1ek48l89FTE/+tnFtAlUiOm61sIeNprPYpM2mAy7rNie01c/d5udbK8jmvKUlDLgwCLIWC+kKrJmQ2dGTHVytG3/36YslHVy5AnuJ1YIMuNIBlSPyjHiQ1cVDt1BCOnykfuT1Sl33rvw27y5AMo3eEKCQHl8VrYT0GsJxmdiZzO0aWU/LVN+U2M1P8nuZAF8mgs/VCt0vi/N39YJCUvdlQnbgu9wto0XwDHIZyzKRPBk+5xvsFBYU4NqFQnp8vyAhBymky4K5FOKOT9mFc9e1y/nPCo8BYoRspA+f6/Cvjuvi5+rFee0OZuuuScB3alcxd39eKfhpRx6wiO/mAzG++Jc2HsJ8+SP6+8TtjJvaD/xM/cobaAwK6e0qTuZjefeaVsuwht5GzXCszzEHkx1dRmXVevmSFs5xHpz+h5+RonlszkVcX19fTUV2Oz9MJ/z29+S1nonueUE9DWPKls0RY/PR93BdCOn2HWtfqplOldR5YgBKrWtOLWFOWtecSjvY21JIL6m6ws7F9jzG6tys1DoreGmHk8y0XJcutpPKZgGU0us/N7lXoViiJ69U1+d5aoGO7xKLdIwSXGt0CukV/AsFdDvgmtjul7x07SDMvpbFUmBJH8Kr7b3SQResFmpd5jnT1graegHprq+dSYdQVVYLsmUw3ZXoCep5K4dauRp9YArpo6/ihSsghfT4Km8spDuuXSpF8gLh1p3Y5XIcKaSOwpVLR4sRnQjsaYU4tWHn29nl3WiqInmH7YZCenyfkKtuGfMlQpvV4HpukQ6B+5/flxXj0N1W5N5zXvbZpS+0vtD9q0pIR9ofeZ1SW3R6iA/xG37V92qR/Lp358X0T/6WUvfqxXuEw/2xkP+d25X68V/L3xv3lCuUV3z3kvc0q8ABxqKQ3qLS/DldsotE5nOJYp5Yn8NISqscibCOuy4tr+h/m82/2V12vreh/61trOrbwvBqKRH+xSoduRGhPTHuSizardl6aio3u2zP4E5TF9LNO59a1wyqcuIW89S65lHeId+TQnpJ7QXdu4hAbvqXzP+5ux3Gt9LIWS95MwuK6fGPz8R68sRqXWZd7lqm2/dpsp7tuoFxTNFpke7UQ7o6nQjiiWieuUyxFgtipZC6XkkHXLBU11YKGHTp7X5dWytITjHIM5YL2mphbR3CerLDIPXVkwys7FggcQGUWDTI4GrEg6z4J6s45CiEdExQZSB9vrbmKrow4f3M/6JFehcNp8dpUEiPr5y2QnqZkFopsJtJnJfX5O9qYdgPmKRTKPzGfZ8rTyBvYVHZph0vKk/mfbqssrLnaDdileW9GxaTeZsGC+Pa5TK6donvGaRNJ8tVQxLS/UJWieNu+KqwH7xeqf0XK/V//G4WC2L6X+jPr7guOyQUn/3Lh6xgfs5Ts7B//5tKPaSF/ZffGK6KqvvXrcABhm8rpNvdsuOzTi6rSt8K3fWBnqgYalPyDNt9vpj7SV++oZZWtqrllS2OID2fhoM53/r6abW2ejox5jKTezsXTQ3rkl3OOet1+/4dm7uXqQjpybjLtItkDECta7btfd5a12xLO/y7UUivqMMqq/REUsws053Ox06esoGm7Z+82ReV9PinyOtd3MMYjGQaENbNRyKi404BIT1GREfUhXDtYkYb7qw/2/KXKgGmTVuRXQZc+KntzfWAa4sW0Dcbi4HZXtZqwfxzrBYcpz0mO/ZxS9zImIr33LzkhPXZlqCPdxu0kA5h/LPa8uzU8Qzt1p16QvsSpWQrNCazsnW6qAIQ9gd/1n6LiSysxuTCd+foifNn36/Uow/YT1/zT32sSuYpIUAhPb4ptBHS5yGij8IKPXtRZe+sxgsKSV278aMXIwJxk7yFRfJhiugYFOCw0V+lkB7fMUjTGKJFul/KOuJ0Wdgy13CwgIcbl1/8RDljGY8UjSHq5LV2bQ4jwne++4D60tfuSs+3wkxDhvL2p/WaLW5A3Lkhvt62bas6+NSL1d7du4dR4La5DFihCx4I04YWLM+Tt40I6OAGAR1zuv5dG2pt7bS2Utf/UgsvR1AX95+Yh1orqoBV+vAXU7oS0s1rPTWgwx+JViWL6WI0agNaLwzUuqb3WMxZ65pewcaZMoX0inqtskq37i0Sgc4bVOYs0Z2Bp3tL6ujxD5b/2gsfxpBYJSeGx1Uiuhl3JVmoslIYtZDuDbbkJWnZZJYJmYkgXqZ28AVf52bANdPtfsXtxriA0QMs/JPtfuKHPXXzkm77G+8gK/7JKmNp616sAM0Siunwirdvn7V31/wtfuCn9IMvtT5Hf+TV2ZZq+Bi9+3NKveCN1icpwuEfLmybhiD+/FdZcVwuhJPDR7F1G9ZkuOBPHenjs4ufZ+Ngi7bv47SLimAanRGgkB6PsomQ/kEcNnrGe1s7A53pCey+QpyUM0I4DgvDWfyy7+MtzfP5cfvV7B2b1Y30ubnacjmmCTghIsqaixYQ6JuxSN4TBYK/5LBV3Zek3Y7VhrpAr69SSI/vF7L6pEV6Sg1jC4wfXv7hycPKiwRyjB2+8YUMPMT4b3+leDGeQroWUNfU4aPH1BIE8yVtvAOXnYn7Tvw0cz4z/7OTQF9IP7O6qm6/8y518UUXqbP27a3f6IcUY8LoCWJzqlgkZtr4oQV1x4jKWKBv3jqIkq6tnrRzPWs1Z0y8Un/qpgRlIvqwxfSpCenJICEnllPrmtnzMG+ta2YFHcmNKKRXVKQI6f7kw1+NKxLUbbzwBI8iev2naOK1l3zgW6f7AnryOk0GVqKyZyK6+b5iu99ohfQCi4XQlj/TmhMBfVn7Pd+0DAFdn9bew8u6frHbAK35fHawac5SPal3f+tf+ncPyzarLA3WIr3JwaF147z3R5Xarf2qvvSG8EFis6ok3qcWAQrp8bgaCekntZAuPtIjhd90fFUglqYfF35fLKI3E4bNwC2/f7Cm6BwvsE/mvZ0wnNRvA5bRCwZ+hVSwimcxmffpsrAFoZAe3ye4IQd52Khf1DridFnYMmvy0Hfwpf6gFtKxAC+L7+InnRbphQ2yrWsXJPzgww+rhw8/og4+zXGr0+wR6GWsyQNFs53FVjSX3cSJiI7Xnf58aWWzFtC3zWFHcTuMcPG5tnZCz/e0cZfZkaB9qJskrYhu53KedToCpN8NU1CfhpCejsWSX6h1tWubTWPPU+tqmudFjUchPaLmq8T0bBKYWOXYOZi93O0y6WcRN2WQcgJOL5P+6rh2cT/Lfs+sFJJXbHqPKhEdAccmpIf85qHhulbo/pY/xDEWIHqw1RcL9KpHBRbqa2dOmsNKrdWCuJ1J9yIkVgzZwMumCesNO9ha1GuwQrpYpF/8XOubFIK3WJUXVWYTIf3yF1uLd16DIUAhPb6qWgnp0xTRU+25WEBPx2W5X2RcNiuRPLtfbvgXEKLD3+fjVy8oYMzp1a+PqMH3YYE9SzhagA/URSsr9YK6Laz7gnZzgd5IRIv0+H4hbat07ZJBw063T741fMaKL6QXhaVrl8pG2IWQfujhw+q7hx5Sl13y9Mr7DS5AiWGUmckkluf2IFG4drGvjJUt2wczpyuqk7W1U2pdW6hbgdweSiqW6va9aK3WU19AMr8b6DyvSyHdNo3sTe6ONURMT9+rjq5FrWvKPcQctK4pl2h0yVNIj6zS0g7GGbUXdSr+3CV424kZRWTmxhwsQsTM5NAEhOsrXd6d5vXZzBJd8I5JSBcR3XXVkvpFg6ycmIHZcIm6rlf7lzZv0YfObBukuGzdvUBQR6mTQZZpH7BUSBpK2t78VrUYYvojRx9V//qV29UznvK96skHzg/6zRuEaxdUJ4Rx+CZ96BtZD3lAHzYK8RuuWPyriZDu+k8fcz88orJRSI+vzEZC+gnHIt1Mzrz7dSaw909ET16b+QK75W0ooGcT2DDLKIHdGaemqZh3oXMF6qpMRO/U0ty79yzbDYX0+D4h11wopGc4QoeKyrc3/oJdzJdDSMUNzC9+PL+bDeOV2z5K1y4lzZFCegmcCRFdXsC2c7U+0bOfiam2WtFnB23SLjrHcG2sr6rVVTkXCcZQiVW6mfNlf9uyOvPCw3m6AAAgAElEQVS8AYrpXQvpto2UiOnOGIJaV8dPS4+0ro5LNvrkKKTXqOKiDsb2LZOTuvwEJEpKr5EbBk0JOB1QTu4MuH1xX53m94jOS+4zGiG9wGIh89Mqh4kmblyMmL5JLW/d0Vs3LrFPAwaSa2eO66cV/t0T64T0Zyaw22c9GXi5g63YG/U43H/d+2114qT2K4htkN51SG93vfnfbjWfbtbbPPeftU898+lPUz/47MsTVwcD8ZHuFwwiOQ4DhSUYfJJe965JX+YU0nvcarvLGoX0eJZthPRKUdmZlKU58odRBSJ82aGizYRhM4hrKCrb3MeLygVjxYYLDmUiemMWfnkCCwBlacezSGq+s8WVyfRs5SR1VOBm0bh2eZbeq6aHBPJvGcaMOhr0JfNTxpOZPcYib1ZL2vxAfaR/R/shlwvi9Tnaxcel12Sfna8X3HFBHH9In50SExZhxKIch5Nj0R4XRPN79fjjJe+298ElO+ZwT7kvfKM/+J92fIL4OH/F30X397+pT8vUh2S6eUV6kt8sp6P9jUJ6QdUWiOginhuVwlgRaTHdqunaMAq+0LVh1OgufRjp6gk9xzmjS2Z3IdsZnWOhPjGvmzDJ6z2VaQjpKDS1rp5W/Yy0rp6WvrfZopBes2qCHYzpebKE0kme97l/K0rrNeEnr8TCWLktMKH9MPV8ovv3GYWQHmmxgMGWsUY3i/lLRkQ32+RGcq2tPa6t0x9PxI+lpGwirCeCuilrYs2gH1a76DJsy/S77v6GWtG+7fft3Wv9CXrXdx54UH38M/+kdu/cqZ503rnGKv0SbZ2+Z4+evBmhaUBCOibBOPzTv+DbPGRJTiF9JE93eTEopMdXc1Mh/T74SC8UwZP7l33fQEDPDbcC8TsTlQPjunjr6XoielAkjxSdywT2ZqyyvM9DRI8qT8N2c0C/Jt5AIT2+Y5BHeKgW6RgDlF3io1zGBDFhJQyEc/x7TC/c4zpfNyy4fxMRXcJhUf+f9eGkEg475SCgQ9i/+/Paev13Jhf7cTgpxHqI7qfF6lYnWORTvXaN9j8ChfRAHXnzutRtZ2KBbmPYOR3mdng5G1cu+lDRMV/Ygby2+rguot5XreevRkhPnZc6u5ILRfV+05mWkG7GByHLdG/sQ61reu2jVGmYstY1vVKNM2UK6Q3q1e1gvH7FpuYN5nOdTYP7MUo1gfSwUQnq9UJ+p1THEl2SHLyQHjHYEr95VjXdMCe3L+sB1xgvswVwTYut2PqXWC2YcrquXmSAlTuUZphi+uEjR9W37rtfXX7pJaXVCd+RTzxnv+3KHF94gxLSMRmF1dn/0JNR16oLE9EbX6k//+1J9y4U0sf4mE+UiUJ6fDU3EdL/4njetUveyGByfBT7fZkVem7YVVNE79R62h/7BSy5hb75qkD4Tb9qsxhRkH6zBQUbqxWrkrJWpd2O1eTihTtOx7dw7UIhPb5fSNvwUIX0+kVljJ4QoJDuVYQzr5PxuvFgAkMoPJ/GIMrO5/APc7yVbTsH7w89tjnCYGpNC+r2bCxrnY75v32nwFBq8sysoZyNNU0h3Z3/5cYsLnhqXbHNsLNws9C6OsvsgiREIb1hRftiemFHU/lFwwwwWkagQNcskjubiOi42aCF9KLBlrZKzjglVuiJxcLyFu3KZWXLqFsaDiBdPaPFdKMSy6AKgyzPnx4GDAMX0x986GF16PBh9X3aVUvsNVghHVunP/1OLabfri3BLraW6bBQP6S3aWPL9AveGEbw4VfkfaojlGu9/revtWkWXSGXMbGwGW4mBCikx2NuLaR3Zj1dLIZGC8M1BfYqVy/xovJk3tsJw0n9dVkevP6CE+Qs72Wc41lM5n1aLHCnWBdAcO3yBu2Jg65d4vsGw5dCej1gDN2aAIV0B2HIOCpx22JXPTP3nNLDb4Y/9OWV1vUwpATW109ry3S49IQMCfcuyblY7k9TIMe9SzLn63M5py2kSx8fYuAPP9IwhV/0meRA8jYjrWsgNHqTTQrpHVRFkahuB/K8ZkWgzE64qXju5n2wQnqBiC4WCvbAmcW1WLB+0x9T68Z3IKwTPH96yWE1YqVgcA3QzctCCeny4MICHduk5br4uZNbrN2H3IjtOo57waJdrNrxHcIUXdi+HXInM6tOkPepJEAhvRJRNidyNGB5jawnois8Q+HrNf0Tn8m/1CLd148Dwm86Rir8rlhAz42vuhSVMW4ryI+AoSuXrA3Fs0jidLa4Ehhgp82lXrsxFukU0uM7BqlKCum1mTFCOwIU0tOHL9ehijsXEdAnRHRjib578OdcNW0962untGX6CR0d5vpaUF9atqjKxPSeu/KchZDu8qbW1bT1dRtv2lpXt7kdf2oU0juu47KOpuNbMbkKAl2I5+4tBimk17RYgD5sT3BfLIsFDDpXVx9TG2trZqAFf3rmsFE5nMYT03OWCwN5EhdSSB9I3TCbsyNAIT2edSOL9GOZa5d21sbFYmiZdXR3luQB4TdaYJ/MezsWk3kxn0QsVjRjZWPVWlDw2NSK65Ql/bWEdRnLWCt018qFQnp8n+ALK1IXMeen7N21Xa2sLNrYshlbxgoToJCeuG1xXwBJZ23FdGsUtaF9ouMn/rbuXHYtjDuXomfHnI2lDyG17lyw61jEdE0J4rrr5sWI7P0+F2vWQrrf97OP6geBrrWufpRqOLmgkD7juqLQ3h3wWXcep06fVrfc/jX13Kue3V0hpphSaqGQzBizA2iSwZaz7S8bbC2uxQIGm6tnHk3UCRAJiOmOz/ShiekPaN/nhx45op75dG01HXkN1rVLZPkYbPEIUEiPr/M2Qnq52JnkoYEleqEwPDVR2eY1XhiuJ6Kn5Smz2DcZ8OoNekluZlvyfXTcLO9lacezmKzn6S4oNFh80VGMkH45XbvE9wzyTCTLFqYtVh9ETiG9LmGG9wlQSLcvI/wvtUxNfJ+bvx0RPT1YVBtHjd1NZ+yTsqaFdPhNFzFd+7kxJlP2zZEdRmrnd46rl9gbzDDcPIX0qmJS66oiFP/9rLWu+JwxJAhQSGc7IIFIAut6gPL/3fpl9cNXXpG49oiMOK9giY+89PYFgy1aLGQVZMX0o8kHRWI6Jo2JD/WeD7Tcpnfv/d9VWAx66kUXRrdICunRqBhwIAQopMdXVBMh/c/FIt1VYp3fm1oTG41Ash4tDCcRKkTn7oThBiJ6Y8vrrGy5Gm28oGAjdsdiMn+1F1dm1G4gpP8ahfT4jkGqlq5dajNjhHYEFl5IN74lnY5a5nlmfocOM2+JvqzPuVrWQnrvLrhIfEifWbTfOcMIZxvBPeIULzBa03M8zPWsmJ78S63PEwEdKHMW6WUONaaY4ZKk+yykz4cI70oCsydAIX0KzLkSNwWoNZOc1greY8eOq7vuvls96bzzkkFLzYzNKnhqsWBGXPZfqoroAYSRgpPP9OfnnPc9aueuPbPKXfx9cLgjrpe8RykMsj7yOqUuv06pK/S/KV2rq2fU/Q/8l1rXTn+x3c+4ekmsE+Dqxc7t7TZA+6xjW6D4TZ9Splomu7q2qu7XFuk/dIVWC2pcFNJrwGLQQRCgkB5fTY2E9Mcy1y7mTh2IodGW1979zJ8lQnXV9/Fx6wnoaTYL8la2YJArYmcLCg1EdO/e8ayS9hfZLqpZTbKXdhfbbiikx/cJbkgeNtqMG2M1J7DQQnrayVrR3Eq70v9hPmfndkYk1oeYYB68smNvPw2/vn2bns+9Xqnr3qXUAT0v+fvfVOobX1Dq+j+dgZi+ps6cPmJduRgf6WJ9jr+tD3VzOa5e+jjHm7eQTq2reT/WVcxpaV1d5W8R0qGQ3kEtV3Um/lyng1syCY9A1Vpxl53N4SNH1CNHj+qDS3pas6nFggyykgFXMgizFuhrdhCmB1x79+5TTzpwUT/blC+k/60W0iGiT1FIB4jHjh1R37nvm6mAbg8gBTE57d0OtsxndoSFUVc/GepcoaP/3gvOr50/Cum1kTFCzwlQSI+voNZCeoR1tH1LRYihDUTnWCHVEKkhDJugvtodKQxPRSSP4BxmkUUsYzU/kTxpq4V13027MUL6FXTtEt8z2JAU0usSY/i2BCiky6Infsrcbt0a9Zh/sEi3/zZDRF/u6ZkEvpCOvw9pC/Upz+2k/a2v68NHV7VVPOZtRkzP5nhWL4ClOi7M8fCjf3O8WQvp1Lra9l7t41epDF1qXe1zuxgpUEhvUc+hTqVIWrWrx1WPQIvMLGhU4yfOvOAmr9CnY+9kXCuFrH06QrpnsQBqm3fu66fFAjLnCukzbuNr+vDRtfXT9sDR9J8ddFnt3BloDcjFSx2MFNLr0GLYIRCgkB5fS42F9DPZ2zcvOif3TvXPYiEUIctE52mJ5Oa+BcJtmqc6InqkwD6Zts8q/3dai9BO3CoN5L1MRJ+rSB7NebrthkJ6fJ+Qa2p07dIMHGM1JrCwQnrApYvrysU9WBQi+vKW7eZf6+vQ17Vl0QNKbdWrjXKd/9+06K0/xwVXLN/4vHXRsueJducwwuMSty1uJr7zFfsXyuNapEs8pC0X3L8gPO7tft66UDaBNX0mlpnjLS1bK3TtL90aRA1jjjcrIZ1aV0cNrkUy1LpawJtyVArpDQBXdioTlk1Q3cI3mpjENMjPokQp0MvNLHJCIHd4L5Sgnrp0SVqFaWDJVr/EYkF8om+sr6ktO/boscPm5k0IA53Pvl+pO26yaRxIBkEHr9EDLD2wwnc/8DP2J6wNXv5hpb74l0rd/TmlTh234Z//qmwrHwZnn/lfNiy+w+Bq93nWtQsuuHZB2pfqf7hw3y9+SIfTAzfc78d/rcNtgRvaX/qRxH1LcghNOtAS6wTXrYtrudAcaZ9iUkjvU20wL10QoJAeT7GNkF5teR1hTYysRgvDtly1hOGJsZrHpvD7ybyXLRikxSgQjqtZyft8Mn9TE9ErBPpanL16LF9cKS6rTab7dkMhPb5PcEPSIr0ZN8ZqTmAhhfScSxfrbNK8GMUKXftF34ArF/3p+vqqWlpa0i5dOjCQ+uf3KXXbR7WI/SwtaN+eVdpr/ikzcjqt53GYr2Eeh/kawsuFOdl177ZCOOaKmL8hLC74bcccUFy7/Iuex2FuiLRxwUL9k79lw0h4pNWhD3V7JtZhnbpYoC9pLcGK6eLO0wrsoiL0y43ntIV0al3N+6k2Mal1taE3+7gU0msy9zuW0ARIBvry7kMXXLglpvCJqZmxRQhesOoAEV3qQXDmrP+Td6AvqI/OOr3AYkF8oYs7Fwy4lHbtsrxlW/tDaGTwg8EQLlgYXP5iuz3P+DTXf2PA9JTnWj94F+ufn36n/vk8+/mntWh+rrZowAAJA60bf0Gpx/XPH3m1/RvpYzAmQvp7f9QK8z/4s1aM/+Rbddo/bIV1hIUlxPU3WMuIDq51ba2wtvqoTsmzSsffaHd6kGXbUX+3/7XBQCG9DT3G7SMBCunxtdJUSL9PLNILheMIMbSB6FwmKncn/NYT0acikvtZiF5syCLOhlXS1pybTV1Eb9BuDuxW6o107RLfMUi10iK9NjNGaEdgcYV027GJCxcz7UhcuRif6M4/+EVfamMghRth/vbBl2bzLRgtfVYL6y+/0Qrj2C0Mcf3gC+x8DZ9B/MZPiN0ID6MoCOyYD2Led+enrbGTzNcgnIeEdMz9Pnh9ZkSFv+HWc6+e12Gu2OG1vnZSu2mFWC+HjorP9MRfuuvipWc7j6cppFPr6rCR1U2KWlddYnMNTyG9Bn63YwlNQiCgZ1qmDmGENhvSvPMi7lXlgyoiidEEiRG6Xa4mPFzoJMI6/kwF9QIL9Zh7DAGo79LFFtdaLMj2v03mdzvgQrPcsusJ7V26+K5X8DcEcwjd4gMPA60XvHESI7bsQfz+tv4JKwQRxmWghRh++q6QjsNpEPf//IRN2x/4dVRxq3r738bGGTvQMs80rBaSQRce6hG7eKGQ3lEjYjK9IUAhPb4qmgjpf4bDRk97y9apflssoCdvLJu5aGE4KQtedW6xvPhTFdELhNu0GA2/LxPgy8pqXvtBFiLEePVfg1WZCB4sb6SAXsWqzAq9i3ZzAYX0+E7BCUmL9EbYGKkFgYUT0h1rdPtuzOZ0qUW6I6IvrWxVK9sdNyxNWWN38I2vzIRvmZ/94sfzQrr8LffBPAyCOeLfrV2+iOEThPEt2njqpR+wIX0f6a5FunznzgXFOh67mjsylJIswyrdGJglh4/m5nhGvQkZShW4GWjKu0G8aQnp1LoaVEaLKDE6FLWuFoCnHJVCeiTgYMfiTA5FQF9e1iKb3lYlXSyF8UjAHQRzOyMMttbWtGCMV2BAUHdfgTGdWAfZm24SFS5dIKLrTX9WRNcuXVa271FLK1va50msDl6grQxgifD3eiueDH5kMCQDKbmbcQXzKWttgG17sCKHkO5at0OMx1UmpIf8p0NoxzZEsWBvX0Kz+LB65mGdUnLCuzlwVFy9yJZAcfWCG7q/d5CBOSZBIX2O8HnrqRCgkB6PtZGQ/qgW0h0f6ZknjmIRvZkwbMtRKpJ3JrBP5r22qGwym+RZqqBAZJ+JiF5zsaKM83RZTL/dUEiP7xPckBTSm3FjrOYEuhDSDz9yRN3z3e+qKw5e0jwjs4qZuOfMXnZ4qVkxfZNx6YK/xSJ9TW3edZb1+d3FBSty+D+/4iVKfflvrc9zmVuJRbq4YsH9YIGOOSGMpzCHw98y//u/fyK/uzhGSBdrdaQdmh92UUa8lvXBo6urR/Vv4GbneZv07657F6slYO5nfsF/Orp782SOnzip7vz619VVz7qseSJezFita2VlOWeIR62rsyqoTCindel+YG11bXG0rko6sw9AIT2CeVHH4lrJoG/dsmWzWtYiOq9+EFhbW1Onz6za113q3sWo6uYai5ies0ZHudJBlgy44DsvsUbXIjpOccdp7p1csD6AOxYMsHCJNTp+DwnpX/6I9Zd+/Z/a7X+uFYJYPPyP37auX3BVCekQ4bHVEJdYpMO1DLYadnhh69/62onkMBqxRvfFdGlV0rLmP9Bqi4BCeluCjN83AhTS42uktZDuGBuYu7ribYSoPDWBHVkpELHTbPpqdqR1dZkInkNQJmR3JrBnkMtYdmexn7StzlgFRPQptBsjpD9bSyj6lS3/tE2M9ZwrP2XcmA0hM9e58Y/UqEJSSB9VdQ6iMF0I6SjoV+/6D7V710511r59gZdBT1D47jo9v+jmJQZLahhJ6Z/bduxUO/ft7y7zmNvhkE8YScEKXM6mkrkZXLuIkA73K3/yk9a1p8y/3B3EmMs9pP2j/2Kyg1jmeyHXLqG5nL8DubtSmpSOHr1XG9+t6d8SMd0cOJoI5mbXsW8sJfO9jjMSmRyeg/+85x71tCdfpPbt2RMZqzxYrNa1VWtd8MPPqx8E1nRbOH36zOi1rn7QnswFhfSImsmJSclMyBfRV/SoOxZmxC0ZpCMCEE3O6NW6KjF90FbpjjW67z/P+EU3fvQ2zCE0ENQ78Z8n9QMhHBYLcqCMW28hId3dnofBkhxCisGYDJ7gEx1+9SCSI7xrBeEOzMQaHm5k4Ccdh9zgM9eKoaN2BK5nTh9KXLrogZbv4iWw/c+MgQd+BgKF9I4aEJPpDQEK6fFV0VhIT1y7TNslR1oST3juThieFHLjBfgkdxHCbzKstBFqWorTlYvTnjHUcZt3JEsK6fF9Qg6vGXvaNiuuLc1Y0xhzaG1PftdWs/h9767tamVlpdnNGIsENIGuhHTA/I//+qY6cfKktkaGgNrHSzo0PGXWPtquANs5nT3/yhpKbdI/n3XF96utW7d1VxDMt3CuFYyecKYVfmI+5vpIdy3SYXUOP+YwhIJQjoNFxSJd5mtID6I8diWXHTYK4fwbX8jO23LdxHRXwjSlI0cfUl//rzs0SSug46c5dBSuPM1PexYbrNLtvGi+Vulbt25R5593rl0I6uiK0bo2a0t09uEdAe8wmTNnzqhV7YVh1FpXh7y6TCpW+910+vRpf0jaZT56m9bECl0yYDQZTgaK+HWb7tS4Qte/akT9nXz8lMnYkvXxYi7jO92xLDKfDVD0dK3RbZsM+8/DIAui+tLSilrZ2d2L1/jBgx8994IQDvcu5pR2fdio69oF4XFoDE56h7+8A9raAYMlGYzJYAvpwfUL0kI6ocNGEUaEefyO9GAJ4VpNdNgk17VVuj2UBkK6tUp3t/+5B49mIvqwrdIppHfYgJhULwhQSI+vhkZC+lHr2qVMRG8idkquc0J2pFAajGvel3kWWdoBAT0Q3o0vgmIuxXmK6BWicneLDUmJHZbtWEyyt2ObZiJ5TLu5QBtcvvFKWqTH9ww2JC3S6xJj+LYEuhTS2+ZlqvF9a/TEIMp2hJjPwZ2LfssmBlJLK5u1y86OdhpLwT6pXXU+qOdsmINhzoYLc7Lrb7BzL8znXDeaEM+x6xgXDhiF+I1dyjInw3cIgwsGUDDEwpxNDieFuO6mZ87Q0geY4rr0hVOb20lxz5x+0J5ztwluS+DaxTl41AgGYoUdsk6famuYeuKxWtf2bVsHqZVMHeCcb4B+8fFTp00uxqh1zRlv6e0ppFfUTuEKXTKol4HkDnYuvW3nx08+bteOtVAuq3UipCPTqSOOAQrpZiCVWCrYtmotFay1QuY/D37R8ffKjn3aN/rm7uoKgylYkmPQhAsDrk++NS+eh+6GwZH4QW/yvRsH98SAriy9DkoMvqtnDiUtxtn+h2UZDLrMAMz3oUchvQP0TIIEOiNAIT0eZVMh/T6czRwQuXHn9OOaIniVkNqdMFxPRC8rT2F5pyawZwmXLVZ0xyppS52I6Jl1c66FRrBquzBzIVy7UEiP7xik2mmRXpsZI7QjsFBCurwt0xdxIp47h4tqn5NGVN+8c6+e221tB9eN7R8uiu/EcMm1Qu/ujnNPaX3tMe1v2nHhaYRzPdeDixfoA9o6He+avvlK7wIcta4uKM4vDdTfCW00Olqta35oK+9MIb0EUeEKnSei47CPnTu2cZWusrnNJ8Cx4yf1QrIV0UNi+lB9pVdZo1tf6XrLojlgVG/50Qy27Dq720rAVr4LtMUBLNCx3e9O7Vrl0/qAGfe09W7vONfU1vRAa33tpM4DHKcmA6zUQt1u/7M7G8ZhsUCL9Lk2N958CgQopMdDbSKkf+Dokro/ce2S3mkGYmiuVIWW5qIAZqEz6+l6AjpSaGd5PZkX80ljy2ub/6mK5AWLI1Usqr6ftwsgCunxfYIbkhbpzbgxVnMCCyGkp524vJMSAynHGt3M77SIrvQcD0L6lj3ndqtBiGtOGEnBHQuMlWAh/hT9+wve2LwCexxzY2M1MZaCoZQcPGrnebBOtwZ4vlX6sI2l7Jghe7HLmMa8k6l19bi15rOGOjx+QhuNjlDr6nslUEgvqSFfRLKTAev7z/gBTGYt+JtCen+buhHSrYpuvJ7hp/Xykvp5GaZVum+N7likw/pcO6VMtv/pgZYW0jdv26mWtu7otqLgigWDK/gzxwV3LNjGh217I7w21rUfstWH7SDLCOn2hHcroGdW6dY63RfUhweEQvrw6ow5LidAIT2+hTQS0o9oIV27dkmvxsKwTSEnDNe0Yo8XlYchoofLM2QrdDumthXttcsZtpsL4drlKrp2ie8Z5Nmkj/S6zBi+HYFFEdLdncbWF7r9B9HcOE6DiG6E9HW1vGWbWt7ezYGTudqBVTrmeNj1C0Mp+D6fkuvMdq2iu9irZx6yBmipkG6t0qEeGK/0IzOWsmOsZBHeeQ9T6+quTc0ipVRIH6PWNQuALe5BIb0EXkhEyq3QQUw3LzatH+7c3u1qcItKZdQ8gUePnTDCOfxGGYv0gIuXQbp3SYRzs9XMtEMMtLC8g4NnMmt0c6q7Hhhs3nNOclgmW0gbAjh01E7/YaFgfaVnftPRksbjR49CepuWwrh9JEAhPb5WWgnpg7BCz80cUzCtLc0LLLfTjxt8n4viJ1QhOscvKCQInJuVsUjp1SlP2i6KBXSnVqYrsCc3MhbpFNLjOwZpJnTtUpsZI7QjsChCuiwxpnO7xBrdzOcSIX2TuHXZ9QTt1mVLO7CMbQisrR3T6xOP2TmdGEwlB5DCWCrbbZyqBslnwwVIrWu4dSc5Rx0+lhiNjk7r6nn1UEgvqaB022Iy2PZX6Mz3FNJ73sS1C+9ESBcRfcIqPTNMH85iiDF5xngqWUmG6xb5G1v9tDW6EdWxsq6/W1rBIaNP6H1dDSGD63qghcFWzirduHoRUT3k2mWY2/8opA+hRTKPdQhQSI+n1VhIT1y7lAnHYWFYFDpPP/WE2jJhuFL4DYjQ6WQkGevlCEWKyt2L5FUsknd/gYidTbC8+i4rT5ecS1jO25VLSiQpL4X0+D7BDUnXLs24MVZzAqMX0gvmdsY9p+w0hiW6+R1uO9fUln3nDWfu2rzqZxJzY0PvOtZnYW0YK/TsLKxNm1aS08gCxlLGmm2YczzzmpYFUWpdM2lj07iJK6SPSuuaBqyO06SQXgA0ZoXO7rSyUwJapHfcMjtMzgjp5j2XuHQZg1W6uHFByYwVOt6G1he6tUi3Ayx7uru2Rtfb/pa2bO+Q6iIntapO69PdN6kVDSHxlS5W6alv9LxVeubqZVjcKKQPq76Y22oCFNKrGUmIRkL6I0vqPs+1S+6OZdbTFZbVVf7D4y2vJ62hKwX4ZJLplyX3cR3L7HTS6qRYJmQP2QrdgTQVVy4t280F2mvBr38/XbvE9wzJkJMW6XWRMXxLAgshpNsjLYNzO3HnIoZSm5Y3q827zmpJldGzMc+GFtLvt3M7x4Wn2YGcM5ayc7xsbjdMIZ1a1zjafiqko+cYk9Y1gOqhkF5QSYWdC9y5mM4zs0Zf19a/e3fv4IpwTxv8kUePqyUcwGAO3rauXfAKND6sxVe6/dVc1rd1f6/QIaOJ4/5UPDe+9MM+I0MAACAASURBVBIhfROE9N37tUtvCL+8uiBw+tT9STvJtv9Z33muVfrwB1oU0rtoLUyjTwQopMfXRishPSAqT8sKXSa0uZIVWl7XE9GjLM0bCOgmz5LhaFZZ3stYxi8oJBmYptV9muVJ7ubu/sfRLLK8t2UBi3QK6fH9QtpsF01Ix4GL3/iCPnDxh5U656n1gbWNAX/Vd+p/7nVQn0nUJ7/VYPTZ90+W9Lp3ty29ib84Qjr6RmOtZxxJZsZR+rPEpQvmdsvbdpl/vLojsLqq/aTr87DyB45aYR1+0s0Ja+ZsrOGfhUWtq7t2M8+UUI9HHzsxKq1rnjzr3JtCegGtUgHJvN8gVFrbGgrpdZrc7MOmQjpef0ZQDxw6OiAhPR1YJe1QfKLLQTTWUkG2/a2a8m7Ze+7swY/4jqtnHta4T9sDR2G1oA8dtYeN2gNpZKDlLM+Yz4Z2UUgfWo0xv1UEKKRXEcq+byykJ65d0pQqLIY7FX4LrbrrCejIe5mVepTAnibiMG9sPW3v2IpVgeAvuWvlMqegrPbj6YjorVg4+aWQHt8nuCEH69pFxN7nv6qeIP63r1XqO7cr9QM/o9QP/mwzaH6sf36f/eRHXl2d3r98SCkcAOmG3fNEpfCvzfWR1ynVlSCPgynBV65Dd1th/TX/1CaHadxRC+lph5b09YnLTrPTOHfIKHYc67md/mxl99n0j95Jy8oSWVt71PpJ1+5cUjE93XVszPD0P/8srOHN7+x4Imlryfsw6MKYWlfHLaz75HJCOlroGLSu7jFNJUUK6QVYizqXnCV6YpWOA0f37d7ZqSXzPffco06cOKH279+vzjnnnDSX+AzfXXTRRWrHjh1TaRSS6Nve9jbz61ve8pap3mfaiT/y6LH0oFF7CENmmW6N0sUy3eak7xbpqfU5VsMxRU2sFsRnHn4af3qJRfrS5q3aP/q+aWNeqPStn/SjuszJQCu1RBefeuMYaFFIX6hmvRCFpZAeX82dCOmucDwHa2Nb2tmJ6GXW0aWuaQoF9ulaoe/Qr7ALdmaI7sJrzUEmv+7Qr7YLHcPHux7xghWI9J24cplyu0G5fv05dO0S3zMkdT9Ui/Rv36bUR16v1HXvUurA5fHFhkB89+eVuvi59QT4sjtAnMf1kvdU5wNCOvIeE7Y6tSzEe3+028UB997CmkJ6dY2I9Tm6Y/27kWYTl51mruf4RjdW6fCP/oTv6f+ctbrkWQi0l0cfmOsui431k2pt9bAmDsMo7Ssdgroxkgq7d8kbTNUp7PzDzlvrmj+BceQA9XjkMe19QbwujEHrGkjVUEgvqKiJwxeSAaMI6RDPMck0P/Vq3b493QrpELHvuusudfXVV6tXvvKVaS7vvPNO9fa3v129+c1vVgcPHpxqMxuNkH70mFmdExHdP9FYXLwApvhSnyrYtokbdUMm13brn7H5MsI5/oY1euIfXVstrGj/6MvbMFPm1RUBeyDNgzq5cQ+0RiGkw0Lqg9fbqn/5jUpt7WAbLNJ8SFta7b+4m/S6aphMp5IAhfRKRGmAVkJ6Y8tre/uurI3riui+pfkPafezP7TPnkNy70ml/p/7tCVaoWicoGvwfViAz4voP6xtKi7ZvaHO3urVoQ72hYc2qc/hlWTgZd+XWdVfqIcF/9fBdXXOtk3qxKpSv/fVTepbOEfbX3dI/r5aG77+/DPsH3ceUeqPvrZJHccOePdK407HCr07P/kZK2ORTiE9vmMQdIsmpNcmFBGBQnoEpCzI+C3S7dLjpsRQT868Ss/Acty6INzWfS13I9SiP4PA2KGBBauuF4vqZH1jVZ2Bn3QjoCfGUXrHMQ4fxa5jLSighpx/SFz+rnOj+Yedh9YFY1BoWbiuvPLKnLFoXSKiibnxrr32WnXddddNJFUnbN18zDu8EdK1G+NRaV3zhhp5fwrpBaDczsVa/CbuXHR4K6InQjq2vMAifQpCOjqbkydPqhtuuCG1PqeQHtmynWCPQEiHOxfHT7oR0/HqEz/piV/03gvpaIv/P3tvAnXJUd15xvfVplpUJZWqSoCkKqkEQiqzSJZssLGge2yzdAOelpjuOQJM22cQbntmWHratMGGxoDottss3WNswXT7tFmmT4+Fje1zLLY5AzK0cSPApl0Sm4Q2oKq0q0qlWr7vm/u/N25kZLzMfJH59vduSl+99zIzIiNvRGbe+OU/bqCQOhwrTC6KduiH/9Hn6gpAOv1BsUBD/5ZIlT7xBc6RQsw7SNWD4aj7Sdmji27HPogDed6zRfUDaIn98Yn9Bx3GOgRD4Jo/fereuXe05gak/0cP0n9xSCC9q6JtCG3PshjMAgbS8+3XGaSfgH4uWhKwPDxIjmdh+XyKvHtBbhNURi5V21+6Z9W91LOKb9Ej6He+o0O6/XFroHMoVecXCpKxns+/uGzNXbq9vu4+eY9zn7wXE9QV+zTZGUr0375qzeEzQHQaza5Lna0Ypl/qYTqp0t/z9WhI+4gh+qjajYH0/HtC6bJeBJAOv/TksbKBml6gw0+F/3rCp9l+rvit8Qv8+/5G8nv0h84BHMKnTUO7wP9Nl1xFOvJln9mXYTe98I99beQbl+HTvyUK4DjW+kZ6y6Zx4JHfY6QS1kW3qaAA6+tsYor0/IsrFUkJeED8WK9M9/06VqmvuGWa92rD9mLEev6BhrCnxutHeKQv/6H0zy6/hkZr/FSROa4d3YY2jn31Oki3IVzSvXRdfJlGXSAvtL1hhRtqebrSv6MHKsJ26qhjhHLRUJ4Bms9+eJdxsi5EVHjf+94XILpWy4tf/GL3qle9qmUtye4apUETQ2haB9Lb7NupMBNMFED6vLCuCdqy7aENpNdYLI39pyA9TDQaxYwCWD97BCAd4Vu+8IUvONxk9O3asED6kSNH3NatWwOg13AxsTlSRXqapq6x4WZ17Nixgd4ytm3ITfs/SCAd4JxBOu0Yx46qmnB0qkO79DhadEKloX/kYBFAR1gXOFqIobfxbHJg+A36hBcob6DixaIOPobIvvQ3ZR22w3nSTgiG3cLpQvxGll7Q95PkYGHSoklM9JSY79TJ+2SNxtGDUoGH/q0PcdJnPY7eXID0UTR7A+mjsOpY8jSQnm/mTiD9wWV3n8ZIr1BmNwH24amN20H0UKaK8r703AaQ3gaSZ9uiKLsmeR6xkl/cn2ZQrsdP3u1Bul/dBJ2R029evsahWtpAdGSNtIDpr/Uw/VPEGz72nQLgdwrlMrKXEWKMfgD+AlKk/5op0vNvDKGN+drm60DERfgnHrGro3bxuWPbZrd+/RRMet/m+a1x0WPr1IWEARyEv7qRLiwAdCyIEY6OB/xcDSODUCr9lqpQKDkgHYDzMwTGz6Tjx2XAhJQog/rO/cpw3rMKVTCOCyCqC7YB/ONc1Zevs4mB9H41ndyk9AWqTDBamvvKjzTWEcfLG85w67ednZf/sPfSNoGXKngBg7aP+QN+9leL3x+n0fRoh+jnoV3uoAcH+m/oy/3+y/02Au9oIwdeLHlgPyx4+YN1E5pI99Qp6t9xVfh5sPDJIJ36eDwSeX7Cd+pLc76b87sbuofzrbw8F+CgrAsQ/eDBgxxl4aqrruJqvvnmm91HP/pRd/3117vnP//5A7dSAPk6kJ5m3mbfgQs24gxQVw+RIn1uWNeI7TXM7A2k11gzB6TjpqIO4yhAOkK33H///fz27v3vfz+XtAqk14Vguemmm3h/jXGO33/8x3/sXvSiF7lPfepTDNFx8/rEJz7h7r77bv6Nt3kak13zBcjHjQ5lwYJyvfGNb+yJ0f6Vr3yltB/yw40qvTmmbx4RpgbgHWVCeS+99NKhxmUHSIfgnG8wUKJHkzDMKkjHgy8d+qcT0sRhXaBk2HTOecO8Z3TPCx0SdCpe4UG4OmLqgGuHBaqFK/ywLITkgCP2sneK8/Wx10pH4IVv7l6OIaU8feoQORqnJW4eVAtBrSBx9HgIYJhgVIb98YACP/phSMUYaTYG0mvMiwm//vzt7WOsjrS2LPMcCxhIz7GS7NMFpH+IQPr3AdKzwXH5WKF0Sfp+YLg4XgeIXlFWLcc/JJD+slSRngF+2X6aSbYtFKKU6+h/3rvmfvbJsi4oz+Ndovy1U1zKIdl+3UVr7oXeLfj3ty27W4/441aVtybvVz51zb3oAknwnq8tuYMP9dpdGpGv39a28Amkb18sLdpF3Iar2pXaai8p/Q2kl9tczq+ZnWy0DUiPDdEvXV2YFqjOAQSrBCDDDu0CnxnqcPjMukDhC3+7rgxtYqRreZE3/HScU9MoUQPpOZeSAHOPZ6vjowOqyyhjDuNJf+vo5cj6rTvy8h/2Xtp/e+k7ChX67xEcBwBHWJY/+w1RmOsoUG0H2r9Dm4uFVFq+NtfDsM8pyu/06R9y/44V6dyX8yA9hHapmnQUGczWpKPjYl0QYoIbVUHuG2+8kef9A2sadGkDx9vsO2i5Rp1eQfrcsK5RG2yI+RtIrzBmFTyqeksXQDqp08/esW2ogAwQG8AaEBo3nze84Q38Bm8YIB3wHHn92q/9GoeOAcjGgk/cWPRmhjIAnms5sA+U64DqdbHbAemRHmp3qOmxb5wn8tDYWJoX0gDCo0yA7wD5w3gzqVX74MOPhbhROSCdH4XTCjuzhv4VM7ovLa9zG3bsGeItY4CsUgdJHSsM6Xvua0SRDof/lR+Wg+D77/8cqXhoiKsqeZAGNphk/DxvgpWVB2jC0ccLiI5Yel6xIEp0cbTW1jDBbRw/b3YcrZkF6dq24uYaK6zi9bovOgRf/4Q4/1jg5ENdo0NRU1VW1aWgbXmAy8SSjtYCBtLz7dsZpFNol3jppwhuhOQNkBvHGHYolxT8IrTLyzzE5tAu35bRXe0hubdILRiuhug40K8eWHNP92FdSiC9A1RGPPTf/jGJ+f7V+9fcvzsYnU+DrVNAv5X4wjuvWnW7Ni+5I8fX3Jv+a/uXJ8MbgVDYVttdfpsjZT6DdAgtiglH12EkP57i+umbtI8GyIeZVjcx/wofbE8D6Yn9EEIO/moboUcbcJijSAegRIiNNFRMU1W3BelQHv/Cx/LCLBpIz7vIfN+OxTY8ugN3XFGlYx42hegyApkAL4H09ZvPdOu2TBikxyMR0JYRAghzEakIKu6roZ1d9kK5PtSf3kSK9iteIW0Wvnab6yHPsp32Wjl9mHRoJwuhVBTaBSIpiKVKcdJRXaV+XqfDjjXROFmXKs+hSlexZtPJKh9SXoR9r7nmGv5rWtrA8Zx9ITRF2RFpAQtiuiNdfA4qUtVyQQz6pje9idOBbUGoqvMavuUtb3G7du3i7enykY98hPf/wAc+0LodMEiP5gOcedbV2gKTS2AgvcL2fW8uPi76OEA6QroAaAMw48IbBkgH3MaCixY3K1WsK7zXMDL4jbeI6UWtN434hlh3c8CbxltvvZXjvKeLnsuwFejpcXpAulel82NQY6SjyyT/8zKNID2oFHwXXmL3r3plusTQUzU6nK41ipO+TMNoN2yfIZAO46vjhWF+GBoIAKogHduhfpnQcL+4ba2uPEwgHUFlAdC9agEgPagXZn9CmpkF6XgJg/ajCxRhcNKrXsBoR2/XfnHoMRwaIyfg6F9weRF6CHFC8YcF27/wQYn5CAWOLmibUxDDf3IuxfQf2UB6fh11AukPeEU6DtNHTdxv+0hV6L58JWtUqKcR2iWAdLrd/9s4RnqT0rylCr3JFpUgvQVEjyH4/3LJmvspH3XiX/y3ZYbgTSr2phcGV9MLhtdS7HYsHzro3C00P1tYmup+gir18rlKQRAj/deeYyA9/84gexpITywGPwMv4+Gfwg8AVOcQKw0TQrYBhzkgPS4DfBMoxvtNit4WpMeCl36NxkB6PwvpxSQPTLmw/BtihNbwfTvu3+GPRsFyiBdSpG/e7tZvaZg4I+/I3fZKRxQjl49fT2GNCIzDz8boYfSvr/N9fxVGxWIT+NNfu0muGQXsba6HbiXPSrVy+n4yNwmlEKqTJxyNhVKYdFTEUTL6WJnBbE04Ok7WpdxI+VNTJQBaQzwKNvSSl7yEdwWLAkeC8PLVr351bfIcOK6J++0LfgWwjeNB6AleBm6G8t1www0hKgPKphEbsB28DgwJkRYgRMVviEMB3yEwxXlUvVCAyBXnVzVRar9GWwnSZ5R19TvXadtuIL2iRnJuLjrhqMb/G5UiHRdUfOHhYkX4FX27heK3De2iN7I09EsVSEf+CtrVVCnM1yE7qpqPTdoU031Y8d77XVQxSOdJR2f15pIx9E/ioxeKheX1G0mRPqHJaNKKSR2kdGhglQOFoYIxzOxX2WPcvrr6qFs5/bB3sBD300P0GZ+Q5okTJ9wZm2Ry2pkF6f3aXrw9VqTHEyVph7QqVmm/Id5jbId2qHYWMJDea6+HHnmURtX1dsgHAul9IHq+YtiXNwLHVTA0jv/RA4Zr0xZ5X0Lv2c7ZuObup7A0D9Lf/SckUSVIr1Fux9D5gi3Er+g2unndmnuAFPp3k6AJ8cjlxqp1IF/62eJXCVY/3QsPWZF+T6H4b4Lg4VD+eJhY9IM/IT/+koSDH/5mtYq8VLrac5UNN1JYU+R7G008esNXi3NrAvClLLNfOHjT1ZQnlLlhe127YUW6gfRwY4APgEX9gLo7rIH0CssgxjNCv+Flu07QCaDOL90JaqdLG3CYA9KRP+CklkEnSkUZECM9nvRUy9IWpCNd7qhQA+l1l095fd1oYw/QBZ4XfTtWpG89i2A6vQWcxKL9N42JrrH5dTRECtrT35gMVyfAjQG8zqUFVXtVWx3Tua6uPORWVh8LEB1AXfp4UNzhu0Lz2ZhwtOqePk7WBb50++23c5SCnAV8CBA6XgCpIczUUMdV+fSD43Gapn0BzcHZYtaGtIDor3/960tzF8Z54jyhQK8Ka9yUvgmw59grBekzzbpyTniK9jGQXlEZjfCI9scwqxikr9LvnSMK7aJvpl772tfyhXvgwIGJg3SYLL4BKRBvatfpzQj7jgOko57uuvcHIbQL31xwcBrDy5+A6qxEn35Fup/JyXfC0SWU4X+IlS7KdJnJvVCmr7hNm7e67Xt8INNJ33g0Bjoceih04HhBBayhXKo6FOgQQPmr4V3glEPRECvUJ3ReJ08+4h47ei87V2s8szu1KK9c4LjprFRAy8JAzTDWwTtgEyp0n8Pe+8ND7qa/+LTbtXOnu+DJ57qLLjjfXXLRhY4fFAzG+k8oNux74VAs1dRZrYPiuv66G3s7wAbSh1Itk8jkkccec/xyVV+o6jPBz6NR9UyYxhFKw7TdB/7gI+GaP+9J57pnXPI0t2njxm4x0kmRfl8S2iWNl14Cxwn47AeVhx3K5ad3OYc46FsgOouWzx527v/5/nIvSPehXcKuyQuDlz/FuZ/eTflVzKn4xfuX3J9Rnvc/Ic9vLOn5/ofnpCQ4r6b/BJON3t0cUgdKdCjSsSCki8ZGj8+Fy6Qr+kB07Piqp1Gs9L1y3Dd9cckdJoV7ml+drRrbRakgksOo2s1Ttq261z8D6sMotMuSnMcihnaJ/YCL957vnnrhPvfUfXt7GqKB9IxrE0D78+TDQh0exy3XpKMA6WmxUIZP0wSkCFdXFXZmhkA6gOAPDj8wf8/vFKT7iUa5PxdCvJBQCv28FXojS5/bdu5xm7efk9EIR7BLPNmovqxBfw4vWADAoUBnKH5HcXBVnav/jNGf2BcvnRTI6/xDCPlyHvUVq66ZEZxOmuXx44fd48eP0Go4BqRK1/4dCaU0tIuG7RR1OpbpVaTrPX3veU9xF51/nrv04v3u3F3SdvQFc6l/h/VDZF0pSNfQLWr3vXv3NirNsV+Oqn1YIL3pWHXiVZSxLpJD3L6gdI/nPsQ2RHVAnHhMxNplwbMY8wEug20x1yqLRmeKdXUxwATTGEivMH4uSI9nox82PErV4fomDhfZpBXpeCOHISg6y7ICcdzAcCOoWrAew1viZRwg/dTp0+6LX/l6COESh3NRkM5OyiyA9DD222NZjaEHuEkqdMwjzk4XVOkA67Ru567d7sJLnjHBW0x0aO0wAILDkQJMRxxHVR3obO1p2BY4VtgGxwyKHkxwNAXhM449/pD79p23slOFoX8yuSigejTRKLZ5B6vsbE1HlaSleOChh92Xvkp145ft27a6H3/2s9xPXHnF4oL0OAakGsZA+nQ24IxSfeuOO933fUcct319JvDrLn6ris5Q+Zkw7yD9zz73/5Wu+Wde+nT3M8/7iU4g/cb7y6Fd4irJh+Q+VcpkU8Jbu72cvg4M/09PXiXoXd9ovvTAknvg5Fo5tIuCdJ+p5g0Q/0/3rborzm5uhFCl//btS+6eYxGwRhKf0X94bkeQflehVC8rrwtb/O8HVt2P7pJO/2s+n8zVkZxPCrlD1IHiC+dz2dlL7i0/Kok/+q0ld/PdyZuF6NyaAH3prDu/XOnWbnZvOOH+8ZPu8qIKfoILQIdQwcdIx/0ByyLESE/9gF07z3b/8O+/wF1IAKZ8PRdhgXJesu/Yttmtp3CDE1+6Pr/7pUM4uSrVOaAjfFhMvJguwwbpdWVoOs4MgfQjDzzo/u7bd/T06Wb/+a03YOq78T1TXrayUAqf1J9bchLeZcnJZKPn77vY7TnvwslcTvGI4hP0MAP4jkd0aqlwzQCUQwwVXxvoz32XVOlYVFyladCGsQ0vfqqupzGc8SEqww8Of29u+nfpPX0fAfUXPOfH+J7eD6QPg3UBHt9yyy1BkY5IBlBhY9E46HH0A2xHfHINmYL9NIRKk6p9WCBdy1vX1BDnvEoZ3wTZQ/P2E69qFIc69XubZh5AeiwQiqIvGEhvY812+xpIr7DXNIJ0DZ+C+Emf+tSnSsNNANlxg0rjkKcx0NM3bF1DuyBmFG4gscocN690UlGYFtA9Behq8nGAdBzrAVIfhnAus/yWrkexIA5WiKEXDf1T1cLyhjOmN7RLu3vV1O29tvaEO32KZnYneL4ERTrHR5c4esVkNGmcdEw+Op0x+GFghHj4/Jf/2j19/35So5/HqlQslY4WQg3RhniuCHwf9kvFoVT8IIp0A+lDqYJpycRCu/TWxJ98+rPUoTqfVEoXlcI5dAntEkD6mGFoCfxmAPZdm5bcuy4lIBEtnyMB2rePLXMIlgs2UySEJ61SqBf5juVbiJEOkJ6yYvr9Ty5YdT/jY48fp2z/893L7puPCazeu2XN/WPajlAvWKBIf8ffyXGKG6x8ffl5vSD9ebvX3C6aJBTL7Y/IX2mhJDjW7RRprA6iY/8P/uQaK+Wx33v+xoP0DFshrUemCf3nDe4jPyOlufXwmnuf5qsFrLBVWvaJQXR/YIR2ectzLUa61ssPj9zvvn7wNrfvvPPYD6gL8TLzivQX1IRbiWOKA+qp4hbfoS6P02kMdMR7/oNXCvzDqEkFgACJf/62enUtfBPkn04OCjVuuvQL7aKgH2IThNhQwYmW4XJa/9zX9OaLSVIRQjEWsSDWtZ4Dzk3D1CDkHZa4vE1x4C20S6+9K9asQfyE2yle3vENFyOMsU76eGnYTo6RfsaZbv22Pm9us47eYaeqGOkdspnWJCsrD9C7Cgrtgv7dEo3IZcmFjDzu7d+l4V2m76zie/plT6WRA76t8af/p06RPgyQ3qTwTlkUeBf4EmKkI7b41q10L6IF4D2G8VVWHhZI1/KiHHVLGnoG++WAdN1P5z4cZJJRLZuB9MldcwbSKx9o4l2P4+ZSV/WpIl0vPMReApyOIbbOhhyvwz46Aai+5esC0hHTCgp4VZojX0yScPjw4dIkpDqpKAB7DM6xHjfFNM46zsdAessLPwLp7GAhvKl3tKBSgKOFCUZDaBealGZp/Qa38ayGiY5aFmGg3dsobwY60HgSr60dZ5DuHDlZDM/hcPlJadjpwnc/1I/j6sXD/hI14HiK3PooCxUjPQXmTeqzfsq01pa2BOOygIH0fEt3BulxaJc+IDVfpZ5KppuhcezDlc7YZ/OaC9bcT+wsEO67vrns7jmujp/kDZX5e35kleKcSw4M0r+lo4x8rrQjoPx7nilQHhD9t26nvCgmOi/+EFvWr7m3UV7YF8snKSrYn97bqwqvgspv/pEiRjqHcNEY6ZkQHMfbtXnJ/dsfQ5gAAt73r7l/RyA/EZdXQnI5hV7b67lhy0c9SL+L7PPWv4qsPUjdD5IWZQ626d9uDKTn3xPiPWcepNedduwLaEjCun3jyRPhFyCEikJnTYOQFvHoyzgvpPkzAu0K63Vb1dws/UA60moombQMGru66jw0vnW87bxnFXHQFZrm2CDdx0B61sWlIL0YBoY+nZ9gFPdfEkohdCfPgbVGb2Cpr7eOQneu3zbh0C5VQpOsM57unVZOH+bJRhmea7/OC6UEqhf9Ow3xMs2hXaqsPU7RqAowq+bSS+GzsiqIQ2OeNM7QLsrV0jL0a7W5IF1joiN/2OSaa67h8M1dFwPpXS03eDoD6RU2nAZ4VAXS9cJDkVNorhMcXHnllXzjOXjwYJhleBCQjmPpDMT4BPzGUJv0ZgjAjjJgG8qAN4i4cWLWYoSjwYzHugDMY8E2vBhAbCx945gTJ6tts69UpDfEw0X+UzmUvwTS0TlEXHSogmVWd42RznHS/d/S8nq3ceeT25psNPtDzYNlQkP1hn1Sa6tH3enTiKHnJ6HRT4wFR4gXCuuCOOmFcxWr0Q2kD7s+GvMzRfpYzT3NBzOQnl87nUD6kSK0Sz4k92WqBcP9YSjnkO6Wiruj7e++tFCIQ4n+X+5LlOZ+339yPoV/2SPlA0j/bQLp8bHwPVajf5berf7newpIHRfqip1L7leeJjD7bhKhvuMbxXOgyVaVIL0FRMeul9Fkpf/y2ZLoj7/n3J98T46d8ubQOoKtKiB6suqtVyLEi6R81Wfy6qHqhYEee9ztZi/N1/eWnzBFev6dwV8CguZtTAAAIABJREFU8D99I5qp0C5tT7Tt/lBw4w8LVOHDCkWYA9K1rPC3ET4DC3zuSU3caCA9r/VwLHRWR7EqXYY9AaRDob5KXTqJiy59O/qOcJ6btrgN22mSD1uGboGV04cEpLMaXUcbU1+PRVEqmKoSSs1G345v2/5B2+YePsiIY8z1d+GFFzK/0gVhTcCOINZUVlUHsSHixGSj4wjtopOKvuAFL+BoC7qoSBXrYq6l23NBOvaHPXbv3s0crC2wTxt8LUifRdY19Kt5tBkaSK+w77hvLlVVDGiOCywdOoI3clgw3AXb44sbaQDQsR5vtgC1oQbHvlgAwbFdJzDF73h7ekyNX4X0uLEhLYA3flcNacExkAYAHQtujGk5sV7Poeq8UXYt77Ca/ryBdG2fAOdQLyhIh2OF4X6FcoG+U6DPjTvLcS2HZddFz2d19VEC6ff7YX+qSPeTjgbFQhraBVab3glpqh7OWDcuR2tobQqdSExSq0vVS5xr3ytb+002WqW4QQcVw6F3UCc57qBe9qLy8OihnZBlNCwLGEjPt+QgIH2kMLQGkMf3qtJZJuB3C92W3/dMAdpYfv/OZfc1DYsSMpFtL6PwLi+jCUSxfNMr0tP44W+j2OMX+Clg/i0p24vQK3JgtcVe2uftzywK/799ZYnDuzTZCnsDpF9KIBxLOqmo3pvDydQA9svOikD6nZTPXT7qd+3LhgqAHtkmBvBvJZ1EAOmfToTtFflPDKLXnCsr0g2k598Y/J4zq0hvfaZTkgAg/TaKtX4gUi5COY55h6ZlwQuE2+gmoAt+Q/FepbDvUOZV6uc89Oix3nCdDcBoKoVR6bkzQEfvAH06AeksjkKol2iCURVKrRFMX7d+o9tw9pQIpTrU5TQnOXXqHqoCxF7LF0rNUt9O/BLvn/jnes7L0EFAuopBEV8cnAcQHVxJvytIV4itvAnFA1fCfoDo4E86J186aSm4FvJXPhaLM9vsi2NqeZEHoDnKhXXIH2VVtbyGnEEaHANLPF/g1VdfXcm1VGGP7V0nGdVryED65O4mBtIrbD/O4S6Tq/rFOfK8xUhPY+hxtxUQHRPR0HA/OFjqeC3RDM4bz7lgcSp7jGe6svIQvbMg+sJD/GRmd/5ktYKq0jGNLRQMCtRRQAPpI68m7bw1HUhjheq+iA8aK8fq1mueOiFSfAxMmjRNndqRG3r2DmAgPb/OOoH0w8vuvpORKiuBl/mAvRfk9kBj3wEMnYnkN69Ps6HfTycF8psuLkD6e79D8Jsgeby/5tkD0gmUlxbK78M+ZArWI6RLiH1eHD4kuZSgrS6/dZDimsfxzmts9eZnRCCd+mkI7dLWFilI/2MC6ekLgcJW9RC9CoLHIP2VEUNL82+sewgwY8OOsd1cQHXyVgPp+TcGvVRMkd7aZgMlwEv/e/+mnMW0+Rx1vldVbPYOxlg0kM5iKR1lHBTp0s/Dsmn3vg5WtCT9LHDqJIlxeN4r7ddBjY7+HY009iOOi36d9On4RQj39WZjmQTrAugGeIaIE7AbIU1S0Sesh+0QcAJMA1i/5CUvYYCuaVWkGU9aWmX1WJzZZl/NKy4H1gGo49hxyBkVqdbV+oEDByrFp1XzDXZtORbapavlBk9nIL3ChpO4uQxelZZDnQXmBqTzUD9RK+RORrNGwwE37bloOkPVzHiTRQy9lZWj5EvBwSomG11aWg8tCZ1dFCOdJ6jRkEEG0me86q34M2wBA+n5ldcFpP8+gfTvK0hvAUPLYLgdRI/V0aWzq4Do2J6C9N8hkP7NRxO7+LQvffKqe3msSFeQHoHf/ysC6fnWpVjqMUhvsFUK0v8EMdJr1NU4fhVk7wHpPrRLKG+wVUq0NcP6MDAc2mWn5MQgvaJsw4HkvrRRZsNoNwjt8taftNAubdoutzMD6W1NZvsPaIHFBenFiGMZdYzwLitu454LZwreDlj9Y0p+2p06eSd12HzfjgVSqkw3kD4TIzzG1FIGOQzmEMSLghtuuGGQbDitgfSBTdg5AwPpFaYzkN65PU1lwnkB6Y2zuqtSAZ8Ez1nBgDAv9H3jOeeTD7BxKutmlgt1+tS99PA66R0sdbI0ll4y2aiB9Fmuaiv7HFnAQHp+ZQ4E0geB6LWgtB9ILW+vA+xP30aK9KcWivTf+TaBdFWkc6+kYMEvqwLpCWuOQfqX7ic11ROJjVOw7Dd/6f5l2recWRUE7wHpd1cr/qvSKtTejclGn+MnGz2y5j7w38ux3psmFPUmkVJXQPIb/75zWymU7JHja+4NX8ibQFUtlD9Coanu2714CafhkyG0i4H0/PtCUXcWI7291SzFIBZYXJCOPp3GSI9AOoXuXNqwaRCTWtr0cU2x0U+fvq8XpJsi3Q0S2sUaWmEBhIm5/vrr+W8Y4YwNpE+udRlIr7B9LkjHfqv4o8lA7OYyuUbc78gM0inEyfISBdmgP/7EbyTkdRiUxf+I0ptXT9+EIXWzuocJR+NZ3aFW4Hjpp2kymj1u+QwiB/O8IGb1Z37Luf3PG1uM6lMnv4uWkg3SGUBwuzJF+jw3RTu36baAgfT8+ukM0k8Uz898UDoYDA1nVaNCj7fv2rTk3n2Ano9+KYH0BJIjtMvL/TQjHCP9dhpdFJuQfvz7H111m/EulZbfJSj/1Qd7zwXb8m3hD+CzeTPFVQ8x0im0y58oSM984aC7/eHfk2+3U0SyG75WqNqbIHqTklxfOHzshVLerxxac+/7ek3dj0ylPni7MZCef08oNX1TpHcznKXqbIFFA+nMI6LQLiHMi1ekrz/zHLdui59Ao7NVpzzhp/+NxN2/7kaZOHfEy+rKAzTa+EE6Ch7qCxojHf4KsS0wLmNdw2twGhcdOSL2+jDU6OJbrrkHHzk6F6xreNYeT04G0ivsXAXSJaoG3VQqbi642Zy9Y9tUwtfxNKPpPsqDBNIZnFeAdAbmMwbSS6FdSKEQg3RWLPg46apIX7d1h1u/7ZzprqRBS4e4jB+73rmLCaS/8M2D5paRfoWG/gGkI6RL7GyZIt1eKmY0H9tlYhYwkJ5v+kFBer9JNAsi3Q6G1inNq+Khh7NNDvGhKwpF+n+5b9l9lh4h3CHRBP4LK9IVpFP4l9+OQrtoil8hdfsVOwUgf4by+c8V8cfVFrvPWOpRoUtHKKmX6HclSG8J0XFib7mCgDxNOorl5/9fntYuOWlfhoyXEXr4A3Teb71Kfn30m0vuL74nbyKaAHzXFwqhftJK6mCL2Noc2uV5Ftol/87gm42B9LYms/0HtMA8g3TujPoJRuUmCgU6AkWuEkuHOKpQpAtcP+2WN26e/wlHv/uXMmEt+nabRi8KO33qbhltTCFdlpY2UBUgnIvv660BGOi8WLEwarZEUuJzyIOT/+Vntn92G+sa8C5Vnxwx1xETHjHW4wlJBz0g6vIhAunzwLoGtcW40xtIr7B4zs0lvKHjiUAMpI+74bY5XgzSFaarIn2WQLo86epjpIsCHY5WEdoFMdLXbTyDHC0f5LWN4WzfWgusrh6lqDnfp+00nl0nGuWJaTSWnsVIt+ZjFphGCxhIz6+VriD9PijSG8BwAVLbAfRekOrPJQP8hrT+yy/vX3WXe6iMyUF/7e+Wi0lCo7K/55mrbpcfOY846gzSE5D7k7uc+8X9shJ5vYPCptyPkC1aPP91C/XFf/XAmrvnmHP/4TsC3rUTW+xcrh/Y6l8+K1Kkf69QpPekLZ1kb94vpnnHr3uqFAaK9NseSom3Fqj3hUJcvrhqr6Hzvvapci5v+ZJzd5GNukL0vufTEaD3azeYbPTXDaTn3xhCu7bQLq2NZgkGssC8gvR4xDEzCH5Ioj/H8j1WpUONvkS/19boIUOCKUef2PeMcy9ub9MjNJkmoPT2J1WnTbdDrPTYIefOe3b9/ifpwZZuRz5YUiU5RhHfT2KkM88tl6Fufd0Z1p2H5rOLbNMCvsOep05+kwC6CqT8/Ffcz9O/cujONYLrMop9dkYb8zMxA6Qb62p/aU0iRQrSZ5t1TcKC3Y9pIL3Cdn1vLh6ec1gXA+ndW9+YUvaAdFKnc4gXPPZmSJFeB9LFyYKzFanRw1BAcb42kaOVFa4GTskXPujc5dfIUDo4T+df7txzfl6cEd3+s78q+8FZufa98onf2B8L0l/8U0UNI92X/1C2w3FDfnCsdD3SI//n/3LhVGH/e79eOGFaBigTbqM/pEEeSIO0N72JZjx7kYR2qSqn7qulivPXdZq+T9tcWTlM7ytofDypFUS1QBOMAqLzpDT4FEcLDhYHDuKZ3EPgoOj7mC6CjodpDHPFL3UgmCnug/huivSOxrZkY7GAgfR8M3cB6b93iCYbjUK7pEB9GiA6LHDF2c79s4sKVfo9jzv3Zz+USUcBwy/Y4hzU6JcSZN2MWzotDNIptEtAxRGH/lcUfgVpsCD9/02q9K/R6HB8x/K83c793PkE5UmRjuUz9B7243f2xhOHYv2cTQWgxL7XEaze64V4f0ks4y8PQU1eFAPHuJseh42KfNqMvH/nJ+Scb/mBcx86mLSFlKtXvAxJIfn7r15zu7eQyp7io7/+89Wx2/koffLOV6kP/+ULQrsYSM+/L+ieNtloe5tZisEsMO8gvTTimPp1PG4IKnWF6D6kC4RTEEotYcLR3fvy5sH6ozc6B9iN/tK9fyMVgf4S+nNYsB3LjieLAhzrMcoXYTO/+0XZtmmr9PkUjKOvhe1HMEKXlu0Exn/h49I/Q59M1+8moI10ODby/sLv0j5UFizo2z33NXQMUp4jL11/GcUMgwr9r/6T9B9f/7minCgj+pN6HugHXnGtbEf+yCddNH3vlrBmbe24O32S4qf5vt2aV6WjTwdV+hr6dqRQJ+kvpdF+nZ9vZN5AurGuhpYyXZsqQfrMsq7psm2/0hhIr7FQ6iCWQrukNxfy68/evjUPVParEds+dAsgbhR4Od7QaXz0JpCeBZyHXsqMDLmnWVaki0Ids7l75QKr0gWeY6JRdbY27bqA/IIz+h8E4Pqmfy77AYZj+fonCFB7h0a3w5mC8gCQHY7YxymsyhPkOMGRgWN1B0nTXvoOgen4/fHXifJAITecJjhUSIf12A9OFJw8OGF6HJQBDtvBm4lqvFMcJ+SF8uDYuh55feCnC4dM03Pe5AiiDPf9bVEmdczgKOpLgP0/KeVHvn2W0zSj+5oj+0azuovDBRWDOloK1FOlwuyoFgyk92sJtn3WLGAgPb/GBgbpEXUtq43bwdBUiFz0euVbk5K5Ke3/ccmqu4TCetQtgOtfe8iVQ7vc7mFxAoYRd/3tz1h1UJ33W6BI/9f/falQwIeTINh+wZr7H/f1y6G8HTHP3+Njk1eebzA3TQZKwP/K3XIOb/qSAPB+AL4Ogj+fQt687hlSlhu/4dznaX62okKKMuZD8t7042g3eynEsIH0dm2Om6yFdmlvNEsxkAXmFaRXCaW0f7fEIB39vKJ/B4C+htHH1M9DnPT123b2tytAOfpBgM4A2yxKIsHUtb8j/R7drn0h9L3QV0IfEH0lpEG8cijT0U9Dv+sPrpO+3wux3Yuj0J8DRH+E+muvIHiO5Y/oN/p/6PshDfpmr3if9PWQD9Li+OiPvfLD0mfDomVIQXp8Hp8maH6S0v3Sn0of8Q9eWfQFta+n59jHSiKSoof+Mj3I14r46ADo0r+L+3UQS+mcarOnSK+6hxvr6n8ZTeMeDNIfPTYfrGsaDdxQJgPpNcbJAek88MpPxmAgfXpbPk/AAIiOt3NUTIR1mWWQrg8/OFdVIL2YjMYrFsj5Qoz0ddtIgtdvUQCtCgF2gLzzhbf5uh2OFsA2Fn37r+Ac637v5aRqIOX5dR8imd9vCFj/hY+Vh/B9nhQJcNB+6ZOF2h2QHBPKQGUAhTucNzhfugC2//nbxRlDGeOlCqRrmVLnSpUXcOSwfOy1AvORb58FLy5On/om7aVq9CiGHivSVY0Ox0sVC+JklZ2ufkea/HYD6ZOvAyvBcC1gID3fngOB9Biip3S3FrD7smVuzwLsyLJGWQ3o/U/3UnzzikcjIDrCuPzMniRGOoH0OjCM/P7XS9bc00nhXLd88bAo0VWpnpZtEJDe/EJBjLCPmMW7flxKx6r0v5PvTbYsmS/6UalGT2zdBNF7ylubtt2Ll3A+FfVeda4G0vPvCfGeBtK72c1SdbfA3IJ0L5Ti+xOHdonmv+LvokqP46SvrZyS3wR9N5Eqve8S9+Wwc1W/CIBa+2TYB/2q854l0BuL9sEUxkN4FfcXsQ9g+O//nPTdtP/2tZsIuNNs3cgH5UBYlxf8inP7SeikoVfQV7yP+n7oh2F0sK6vUqTjOFqmeLsKt7Tvp+XNUKMjy1MnqG+H7hogejr/VWnEcZ0aPRll1rdSJruDsa7J2n9YR1eQPhesa1hGGVM+BtJrDB1uLuGhVqgvdBZjDmtAIB377jhzC4FaHd4zptqzw/S1AOrmYX5L50E65glRZTqlDqFdOL6Zj3Dmv/fNfNw7xI4WhvzxvDQy9I8nqIFCgePm6YQ0iJWOoX+0z/r1buOuDEerCqTHTopuj9/u6/bY+YodthRaq910n9SOyBsqBHaqyKnDUEE4bRoqRsE81qvDpQ6fOnRV5YxBO6ssyLHDUEMsAPjx0MCGul1dfZjE/qR6SB2tECO9CO2iMfPKMfS0pY27AbU/noH09jazFNNtAQPp+fXTCaRTeJQ4tMskQrnUgV8+80KALYag3wDfl2xddU8ndToA+j3Hl90X75dtCMWya6OEQzlG3OJu2h6WGvC7lwZsXUoq53M2UEgW+n77I84dX11yX33ATzSqGVS8MED4lV1nZIJjnw/KdVcU2iUtXzqp6PUHnLuaRsZjueGrS+7gg73H67FVcq4cG/1p4je9j+Kt/7cfpsZI3l+0AOxcLWN8+WIgPf+eEO9pIL2b3SxVdwssAkiXmx8eVNK3Q+jONT8HFvfp0N/DiGOvSodSfdPui/qHd0lBOqoh7hfVbcfIYEBvLHEf8XwalQyQnqq94xHB6Kfpgn4d8gFoh5AKaniMbn4+rQNwr1vfBqTjWBBGoYOsI5030jEUujc0vbW1YxQf/S5RnqN/B1U6JhmN46NzPHSEeFEFehrWZUZBOj9zxTnS+3oV6zrLoi90v3mNMCXui4889vh8sK4R2mkUWRtIr7FqDNLjGwuv15jAAOk+zMuZW89w6wlW2jJdFlghsPzo0ePRTMYS4gUAnf+ouArTUfLwe7pOQ0oTgfTY0WKYHqsV/PA/drLi8C7n7qfw3VBRNyxVIF3BdaxIrwLpUJJr3DyEbMGwvn9GQ+3gnOlQwPjQmi/yihfkoUoEqAvgRMWhYrBvvF5V61WK9Lic8XZVYsDBwgInTh3FPnV/6hTFz1t7gvYCMPeTjbLjhbh58inDAH0MPZ7lPR72NzuOloH0abwRWJkGsYCB9HzrDQLSy2rjTDCc7hbD1wroXDqTprT8/PSPUU1UoVauBvBFwiZA30p5HZUnfK0oT2m3pu2126oB+VZ6TL3rx9fcrs1L/HLg17/sQ7xEtmk616v2LLk3XiF7fOXQmnsvwfh4mapQLhnthkH6TyH0H/xD+VuHxzmdFPQx/OlP0U+rw6c7rZqL/Ct8sD0nCdIPHToUwmnu2bNnsBOx1DNjgYUB6RrKk0O6FH8K0JdoTqwYpq/ferZbv50m4mhaUlAeq8sR1rIKpMeji5G3jkDWUC8QIcWgHfuoIj1dn5YN+2n/EGFZdMF6hJBBvw/9zrYgHfHRoX7XkDHo32VMOLpy+j56Z0HpuG+XQHQN2+nnv3J+/iuMQO4N7zIzl1MRnss7G3pPN9Y1O3WIkqJf89ixJ+aDdc2W6Z2B9JoKqwNIenNhNXoE1eFqbyeYvm6dn5VqxhrCPBaX39ARREcPWuG5fAo8lz+eCpJ7StoVnPYY6VxX/Oa4UC0UQ/6KOHpBreBVC4iht/7MXc1VrSAdccVf+ptFfHMd2lel9NahdDppje6TThSj4Vh0lnWEb4HDE4dpwTaNswdnCnH7FHpDMQ4FhK5XZ01V6G1AOsN5mjwHoWdaLGtrp2kiGgz9I4COyUV16J+q0aOhf5jOliem6Zlk1EB6C5PbrmaBoVrAQHq+ObuC9Pue0HtcO4Du+3KJlJkf4fLY06J3gM5NYLh+IkxJNRAYrilrOJWG7eWXET5FBhgWW1VDdF29l9T3b73ScUz3u4gd3HCrKO77TQqKdL/+Y85tpUcg0r3ryz6dFq/N+ST7jlOFHjcoA+n594R4z0mC9G984xvu6NGj7s4773TXXUcxl21ZCAvMO0jHLXHJswXcjFkkRb/xucrCKBVOiSKdAnrLJz1yN537tOY2oKAc0BzxzhFuBYKnV1I/aDuF4qwC6QqxNQ2U5BspPtgvUox0LFB/33+H9OOgPke/DpBdQ3diPfptWI8+IYD2n79NxEs4JvbDjR+K8XQ9Yq/jOG1BOvqCelyUEYIpFXnVWmiF1OjfgvXLo42pb7dGfb0l7uPhrSp+94btlGxVMDU7l2Jb1gVesn3bZovAMEVVDMEoIDp8vrlgXVNk25yiGEivsVKjEhN9Da9Ex0NPw7vg+5lbNvENZmphbE6rmIN94GzhxsKPtpr46KDoswjS+e23n3RUer0Y+oeBZj68i87uTtC37GgtkaNFau+mRSE4HA9M/KlOCCaMgSNSBdKxTzpL+q794hipCiAN46JhVKA6wPA+XZAOE82o44Rhf5jBXfPj2d4pdrqux4Q1cALrJhutU6SrEkOPC6cS54dyNSgXVleO0JvfI3729vUyBDBMQIOXaOJswemah6F/pkifg5uhnULJAgbS8xtEJ5D+g2V33wl0KNtB9PFDciliNWAvyt4E4AcC7KiGNtA52r+/reohenxIxEt/61UFTP/Qf3fuexDk1ZTtqnOX3PXPWBOI/ihB9L+OIHqtLX122S8Uxt9u9pkiPf+mEO05SZCOYkCV/rnPfc5Aeqfam81E8wzSAcJY2IU+Hd+DAdF9rHQo06mP5zh8JyYalYlHA0jHXFjb97h1pEyvXbQfBqCNfhf6T5gkFIIlLIDaEDOlYVDQHwN0R58Q82Nh9C4gOJY4HAv6jRBh6ehepEOfDenQh3vhmyUd8tL8INLS/LAO+2MEs+6PfhnWHby5KBfKiUWPk26vChsKmK+hPCsMtLpyiEJ2PkBbIoFUUKbXjDbmea9ElFcWTM3OtdWFdaGJnrnljCBInJ2zna+SqrD3sceJdYELzQvrmrFqMpBeU2FVNxcN8YLHWaxMj0O94H4qSnXs5J+F/ED0CiHf89I+RVANzVjDmURxJRBL8bhiEJ6oyfmnqsyxLw/TjdTn/jvrhP0Y3VlSpIujxQ3QNy6ZzZ3Beh9HC7H1Np5zvltuGuIWh3aBQwQnKQ61gt+qGk/zgXIcfzqcLm0kSIf06XZNh/3VocP3nPVx2VB2OGn4qypnvB2OGPKHKuIITXqD/THxaTppTnQOuM5FjQ7zQ6FQDP1bI4dLfvtwLgzUvXOFEC8sM1FnyxTpk7h/2DHNArCAgfT8dtAdpPtjZKunC38plK5NWu9jlc4s5bEVIHdUEJ3zHSYkz7ZFPUAvFSnKbx8pzK/cJZ7o8ZVl9xd3pURczmULwfMX7y0S3nyXhIWJ3ZGquuu3vWyrDhB9CHZmkH61hXbJvzNovfsejO/fSL9nLfSB0BfS8Jf43EFKxmGGwDSQ3rbGZn//eQbpMsmlhI/FAhW6/JbQLqxKZ3hezIPFUN2H8EQ4yY0klqoV8lUpzme/SZTPQEdIx3N2qWCrZsJRxJ8/ffJ2/xrD9+soPjr38xSsezU6+njzMNpYjdaZdVEGfG+PHAv9zmuNdXW+shaedXW23GQSGkivsXvtzYWfc/Kgk+gaciNRZ5GhetjHPxT973C/KXWK0l7AZBrCLBxVby7iYZRDsTCajMK2KChfosCWDNJ5cxLWJeQzQ6FdBnC0lshZWFq/0W2kSWlql6oY6bPQONqW8fdfLrPCq6JBna+GCUdXVx4kxcIP6EhQLEhs9DWKoyeOVqFGn6ehf6ZIb9uwbP9pt4CB9Pwa6gbSl1wR2sXz5CHAzlKpO0Nyn0vKikP55EsrpXlybq3SBqdQyjUYgK+H6NUvDPrZwpepoe762SrfFu0Aej9bJdVZNJ2admMgPf+eEO9pivRudrNU3S0wryCdw7cUTwH/EBIgySA9ipUOcC4hX7wqnUE6RiCvuvU7zq1XpS8CSNfR0S+g0cUQWkEkBWV8w4SjokY/QtaPRxgXk4wWQinUEPp6Koqa7YlG5fntfR7/UBUILr6Isa7u96lBUi486xrEeBNIayC9wejBSYxuMEFxUXWTUbDu4XqA7b630dMf6ellTKAFzNgh0zftAaDj0cZq9Biax+BcQTreJcvOcVgXXsWrp1wtXBrqwI+6sqMFtQI7XTL0L52QBus37tpLqnQ/yWZa/4sC0jGEECFiENMPCnmo0hsmxhE1+u2QiJB9vYMVFOl+2B9U6fS3ykP9VJmO9hQ7W9rSZuPCM5A+G/Vkpcy3gIH0fFt1AunfJ5DOoV2awXBb2BlKXQvB/R7x9goIXA2VC8LaBJ3zwXBRFi33YJC8N7/CwH60YzB4VL9NthrZywg5fpOtyrZoB9FH0W4MpOffE+I9DaR3s5ul6m6BeQXpxU1T74eqTC/HSdf5sAJM1xjpfi4szIq8ac/TaNJB7XdEtgZkxkhcxA+f5wXgHH3ZRylEDPp4GOmMGO8Vo7HX1k65UydulxjoKo6Kw3WG+a/mLz568E1UWe59CMB0Y12TvUAWnnVN1vytjm4gvcFcWW/quMMQqdMVput636PQjkO5k5b28lrV3WLuHIFugehemR4DdKwuqc8rAHtIOyNq9OKJh5YVeqrSRsXRkiES0YQ0cKxUseCdrCX6XN54htuw68LFbD/xWWv4F6yLQ8rH0/1mAAAgAElEQVRUWEbU6N9nRytMMKrx81SNzr8VoOsko7OtWDCQbpfJvFnAQHp+jQ4C0pvA8Wihsj+/lhB9qiB5VPZmO/ZCaD77CUJy7/KWG1nt+WRA9ExbhNOuqPfIJJUhdxikP99Cu+TfGdQFtdAubW1m+w9mgcUA6YgfWcRJj8O7iDJdBFMM1X1YFxFPybxY67edTcr0Jw9m6AVJvXLqTgo7f9SH5kQfjkK6UJ9uCep07tNFI465f6fiqCI+OnyHcpz02TKesa4prK9FZ11TWCV1RTKQ3lBZ6c1FnPHymzp5wBUhXlShwWlVDaQK9aSHYRi9/ZVS0osrPEc2/rvESI9U6bxJ1Of4p0eNzmnLYWLal2qMKYIivexo9UxI4xXpPBkNHLIVCmbqoTrHSt9JsdI3U+/Rlr4WwMuIUydu846SD+fi1eg0R3bhcHEsdFEtlOKj8xFmLz663K7kLlW8CIzuf/7el8ZB3blj2/SP7Ohb67bDvFrAQHp+zXYB6R+EIv2JZGRXJgwdhdpYb2BlEYPawN/fauBrc1rJY1QAvr8t6iF69bn6c1a/tGyC0ChanU9it/y0GQA9PHi8nZPfxYMpYuMdIDqSAKT/hoH0/BuDNiVVMnKb6u8bWIz01ia2BIkF5h6k+/Cd8mzB/Ffowsk8WIDoDM9xrWl4F8BzHoUsEF1h+sY9F5NoarO1nwYLrK48Ql3j73lxlEB0gecI8eIheoDp6Ouh/1cd1qWA6bNncmNd01dnC8+6pq9KaktkIL2hsvTmEvx37yzGgJzfGStMV0eSV3nAHnaOnf3C2zeYnn+1pDcWpAzrGIYXoVx4W7SuBNF9wp6JSjnN9Id20QlHQ/uM1Ogy6aifjKY0s7uPpUdx9NYw6zud5qYnXULD/+As2NJkgdOn7iGbPswOVhETvZholFXoOtFomJAmBufapnTd7NjbQPrs1JWVNM8CBtLz7ORdG94ZfopC0lUPYlkYR+tX0IdHH9//ffC+IrRLSOzziH+HUqRMtQKG1oLhzmmLhE3QOR8M+7PJfGGgNlXleBtbSNoMiN4RKqdliX93tRWnS98MZNqq/wuFXttrO8ttN/u2E0h/gSnS8+8MsqeFdmlrMdt/UAvMM0ivjJPOL6uqw7toCE8RTHmQDsBOM7UtraP5sGjiUVvqLLDqTj1xG/XdQHGqIDr6eJDekTqdoDpEU2vUv0PYToHmEE7RZlHp+b/ZtLaxrumqN2Nd01Uf/UpjIL2PhUogyXcGeiZjEI8yTM4QsfOSoynJK9C50fR+7TQi5sWuYUIGryhXCB5CvgSVelmhLgr0QoYeMGcmRD90/wPuoUceIXGAH3rXv/RD26NwtKQ1cdmDSt2HeOFyyQzvOtM7lAw82aijPx9D/ewnXeDOvfDA0Mo2jxk9ceJhd889XyRLkyNFM7jDkYJaYZU+sU7guijR9ROtCzWzxrHS5TNutZOw06YNG93+fRe0flFkIH0StWXHHKUFDKTnW7eTIl1BeiYo9W5VBFp9+TpD8iJ9NUiVtROF5DWQu78t6gF6SFv60s8WeduHZ6ve8pchO7s1YenZlpxb0/YmAJ+2C1akG0jPvzFoszFFemubWYLBLDDPIL14MDGhFaU53/MkdCdPOgqVOk80Sn9Ble6FUqxOl+8YSbt+2y4K8fKkwQw+p6mhRIciXcN1yoSiG7gvx8IoVaQHcVR1WBcxz2yDdPGHvF+k9U0/jXVNoPFXaDknxbomcPYzeUgD6X2qrfZNnXfoxZFfI2wpn+rYxzeg+BBxftH9aiYbzzgLXaUTr56MoYDkAtSjcC76vOPHnoD0EuLMAOkPP/qou/Oee91Tzj1XnJpJLKFXy086WvzwP3awsA5/PqSLh+bqXMEBA1DHbyjTd1/8bLdxC8mxbKm0wAP3/7U7dfoJ2gZgXqgWBKh7iK7bAMxZrYBWpU5X7GBNbrTDCtX1Xfd93z33isvdctUkRDX1byDdLox5s4CB9Pwa7QzSo9AuXWGnd7GksBXguVZt7PfvDNH1sVrjoDVB5VGBXzmleojezRbetA1QPxaFVNVDPmDPAOhJPY+z3RhIz78nxHuaIr2b3SxVdwssAkjXUcd8S4QICl0HBek8FAzDwADLtT8nv1cphCf6gGur+BTQziFeNm3tbvA5TLm68pA7ffJ7DMsZnofwLRQfnQRTokBHnHTER9d5r9D/0/5cOvcVjDS5/t0wqshY1zCsOHge08K6Bj+TxcnBQHpGXde+qYs7bKpI53WR7lzf6iWdhIqfGSWxXXpuMn5Fj8K8Jn66PO66qdERC/q/3vo197yrfnSyFaFD/bipaQdVFAscR08nocG2ECudlAoE3OFYyTBAqBboOzkMFuKlujoR0mV15QGJga6zuPtPdbbCRDRekc7D/Woh+mQdrft+eMgde/xxd8n+i7Lbr4H0bFPZjjNiAQPp+RU1CEhvUgSX/J8mSF4DeduojeVsC5DbBJ3zwbC3YZTZ2CF6yqaHZitvsSbALm5ueam1RTuIPol2YyA9/54Q72kgvZvdLFV3C8w7SK8K7yJ+uPTtRCzlFem+L7eksdN9iBcJ7+n7edQn2fSkp1sYT31kr56gOa8OSj+NVec+Ljr17QScFyFdBLD7Ph3vW4RxkfAusx/WJb2fp75Z/AJffBwffSH6ri5W3cv+1FXofvUvTspJsq7FsfJwztRAeoYde97U+TtNzw0mvcn436Ubkx7P7iwZlq/ZJbnDhJ9eUR40wNFvfVlcBdFxlJzY6CdPnnRf/vrfuqt//KruZR9GyliRrm1M4To7WOJo6USjcKpYneAno1F1OisYSLmwniYd3XDOvmGUbG7ykElo7qDziSeeKRyu8iSj4mA1TUQjhpksSD9MIYmOPPig+5FLnpZdTwbSs01lO86IBQyk51dUV5B+LxTpHcBuyVdqAuxVThWLFqIlIbJjheRDA+y9EJrPMAOiN70wGJ7S3Nu7DUTPBvDlvIcC2Gvazd6znHubhXbJvzFo1Vhol9Y2swSDWWDeQbrc3z045696sy/EUlCpS7gXTC5aqNIFoPtY6T7EC34vb9ziNuzeL3G9F3hZozjyp07cTnY7xcCcwXmYWJTU6D4eeqFQT/t2UXx0X00FTJ99wxrrmrI6nBDrmjIrTH1xDKRnVlHdDUb88qJXUzj78i3uM2Sx857eXmYB53G3jFArldGn6wA6bBQU7IXBciA69p4akB45WvxWPLS/chw9genibIlKnSahoc/VRJUO52vjzgvcuq0757EVtT6nNXKyTp+gSWjYrqpQKM/kLpPOaBw9USz0TETDR54exYKB9NZNwRLMoQUMpOdXaheQ/ruIkX486QFkgN+SvzRKiN4y73zltbdrJkTvD4brIfrIIHntywg5t/yXEb1l5zVTCNFRpH0G0vNvCtGepkjvZDZLNIAFFgak+3Au4cbrxVKqStd46QzPMf+Vh+sBpjNkF7COz+UztrqNuy7OEo0NUD1TmxQx408/cTs9gk6Efh1CuIgi3avQqU8nIin0++iPQ3jK/FelSUbjvh0eIBmsYmoNkxTMWNcEaiqj/YyTdU3AAjN9SAPpLaqv8gYTdQ7SYS3lzk4WRm9RGts1WCC6CRXqdNkaT9Kg+7eNi67ppg2k18XR04lpihAvsTo9Viv4MC/siK25jbsvImfrzIVuWKpYWCLlgjhPG8KnTj6jED04XDxEEM6XTjgKXiATjWornLQaHeUwkL7QTdtO3lvAQHp+U+gE0u8lkB7FSG+lnq4BrU3QuRoqV4gbIl9NLZAPhn2KTEgeDtXhfCRtBUTPeBkxMsCOMmVD8HYQvf8LhV7b57SpUnX3eXmC0C5v+3v0BKdHtv6tw2OdMsGUIvypIowiMuA88ZP8m0K05yRB+je+8Q137Ngxd8cdd7jrrruuU/kt0exZYCFAOt+8cNNiSivqc14nI44hngqqdB8rXUYaq3DKTzgaqdMB2pc3b6fRxxcuHEzHS4cVUqKvrT3hQbkXQXmQHuKhY74rxE1XkM62l/4dh3jhF83T17cb9lVsrGvYFh1SfmNiXUMq7cJkYyC9ZVWnk4VWdQKiCOn+4Vd/EMPr+RXQGBijZwhMtKJChY6j5irRtYTTBNLr4uiJOj1ysrwqHW/jRcmgKoWyo7WE+Om0bePupy3sxDSiWLiNrHdS1OZhglFRpUvoFpmIJsRG1/h5HCMdr23Qy57OiWgMpOffa2zP+bWAgfT8uh0IpGeAX2YDWpw+sLNKzdwE0UcKybOhsj+5TADfNKHoaGzlXdSG8+HjZp8vk4aw8NfstGVbdQLs/nhtXyiwIt1Aev6NQatqgqFdDh06FMp77rnnti67JZhNCywUSO+jSse8VyKYSsRS3O/zoqk4tCftv4xQnjsXB6ZLv+6b9Ax7nPt1EEBBgR7U6DqxqMZGj5TosRpd3mlMZ99uFFeysa5RWDUvz0mzrrxS2l5qAQPpHdpCeoPp6StU0PEeuN7huJak2gJBdR5v7uXopcRtIToSTxNI55PpiaMHlCvrOW4evz6Hk0XQHA4XT0gj4V3iIX+Ilb7kBLDjhefGPZe4pQ2bF6y5rVI4l2+SKR7nIX3scLESIXa46iahidTobH/A9OlSo6NYBtIXrEnb6VZawEB6fsPoDNJ9aJdxwlA5KwG5TSB1pIC9xxmUIpVW14DlJojeFgzHNVw635YvK/JtlZ6kP+0ZgOgoqYD0ZVOk598avAvqWy1fc/Qf6zjW3Cp8UPqOT/6+Kp87tm1269fDj7LFLNDNAosC0mOxVBrCM0w+6vt5Gt5F+n4E0P0cWUV/L+r3UV9v+Qwo0xEzfbLzNnVrAfmpANFZib56XEK1eGju1uT7UoiPruIogew8CoChuU4wujhq9LLv0AuzGn0RdncqAFh+ldmeDRYYF+uySmhnAQPp7exV2rsvUE/ztvvLANauSdrgB1RtGsRxmE6QHnXRufMiw/5UlS5DACV0S5hkNAHprFLXiWn8EMKNe0iZThPULMLCigWC6GurBNH9kL5YkV7E0YMiHeFevNOlanQO6TLdanTU40KB9CPfce4LH3TuOT/v3B1fcu67f+ncpm3OXfxTsi5eDn7Kudvo79r3Nq/XPC97kXNfv0n2/dlfde7Id+U38n/+Lzu3+6myTfN96W/S9k9IGbCcf7mUAftjefSHzn3mt2QdtqULtp1Jirvnvqbb5Yjj3vZp5+79upRt+5OknHp8zfWmN5Xz1300LcXXdC/4Fdmnzb7YH/aFPe79GzrHZ8t5Xn5NuQwoJ+wEe6VlO3HUuT9/m6RBHQ6wGEjPN14nkH6PhHaphOjZUNmXMRv8FhnPGkSfCxU6qisyPH+tfWFQX7elZHH6EbcbDu3y9w2k598ZZM9JhnZpW1bbfz4ssCgg3V9gDCZDX9b38eRtscyJJZ/Rn4Z68UA9Fk/piGT0eRDGc+Oup84tTEeYTh5hTOFcdPJQ7rt55bmMLvbx0RWas3gK+2DOK4RwEZDOLzIWSI2e3imMdU3BvXOMrGsKznamimAgfQjVVXWTibM1fj4EI/fJot979UEAuh566kC69GRCj1VVCqpKl3h6kbPFDlYUR48BuwwBxHrE0IPzIfH4EDP9krkP8yLOFmZxJ2eL1QoyiWiImaeTz8DhYhUDHCxywJbhYEGlAGfLx0bn+phONTqKtlAgHdD4pn/u3HnPEngMMAtgDSgMGKtAGIb5q//k3Jf/0LnXf658l0nXx3kCan/+d2mYyjHnAJgPEFz/NAHvi5/n3AvfLPlo+steKMePywCYHIP7j71WAPfL3lkuA+D9x19HcPkd3QByXAaUDdAfQPsMKg+OHwNr7ItF7YSXBF+gc9xI+24nkA87qt3a7As74ZiwEc4bMB2/91B+sQ0Ay/8jxbqFba+4tmwH7I8XCr/0yV7I3vLxYiA932BdQPr/6UF6F5DaTXktqfLV0/78M8Fvv7yboDGnDf9Edg9gOCXE5bJVvozw+XWzleQ/kK3SQrWxY6MteutFCuvLrObLfrlS5Fdtq6LdQJH+dgPp+TcGNe0EQ7u0LqwlmAsLLBJIL4fwBNCVWOky2lggetHHw6hijETWUC+RMh39Ox/ekxXrPpY6Rh7zBKTrN85F2wiPCBpZfOrEt+jnqRDvXMNyBoCOcJx+9DH35fjP9+sAzRmqozcNu0s/r1hk/aItxromX+P9Wt0wWNfkz3K2SmAgfQT11e9mM4JDWpaJBUZxM5lekB73NiNVukJ272xx6BYeb5so0CPlQimOOs2uBcXCcqoOnZfWRhD9FGZxX6Nhf+xASfzzchx0hHgRcC6TjEZDABma+6F/6JNPuWLhh0eOuIcffcxdevH+7BrUe5nCoJzh2zt3bJu8ykWhN2AwAK4un/43AtNjaN4WpF/7O6KoTtMBGAN8v+J9cjTdrvtrGb5G6nWo5eP1Cop/4WMC1OPyAjz/4sez66y0I8oDeB7bAMrvP397+fhxovSFQZVKXvfXfXdRm8ILBFXjx/npaIA4Hz3f624sp0H93Efn+wvJ+X78enlhoS8pulmDUxlIzzdeZ5DuQ7uEIw0IQ6vDkxSZNkHlgaBx9GhNzyVsqgC7pWS12+shemdIDrYSV29L6Jxvq96yD/ZCwRe6gy2z677iBYCuMpCef08oNa86kE47aTgXC+3SzbaWqtoCtSCd+iuMOgl+gn/KfEWCO0fRHxxb/Uhcl+LtZzzy2PfxGKYzHAdoL+Klo68n4T0FqoewLx6qY5Qy7oGA6evOoGE5c7CsnPqhWzl5D2qd/qjPxqIn6dfx7ygWOvp2EuJFwngyTGeI7kE59+liaJ5+nwODDXAKxroGMN6Qks70vW1INph0NgbSJ1ADdvMZ3OiTuHlMJUiHKSNVOls2OFeiWAA8pwiV7GiFUC8VDlaInc5OlqrVV936s57i1m9/8uCVNkU5rK48RuFcvi1OJwB5cLYiRXoI4RKFdOGJaMRBCxB9RmZzP/b4cXfw299xP/bsZ9bWxEOPPOr++m/+1j19/0XuwvPP46Hb3KT8PzMH0lOIreA3Xt8VpGteCuWRD9alID1VusOWH/hpCeUSh2v5vZeLElvXQaH9B6TQfs5rehXag15LVcfXPPW8ENolVYanx617YdGvfFX1gDSqwI/rR/dNoXu/Y9RsN5Ceb7hOIP1uCe1S3DgiuDs0UDpZiJ4y2WDRphcGYVs9QA/32tIXn/vYIHlxPD2vMiRvB9GzbNWhXXSzVXW7QWiXt/8PFtol/87gL28D6W1NZvsPaIGFA+l8o8N9K75J4mEgoikN8VKE8dRRyH7eKw7diXUYjez7djz62Pfx8En9oPXb9rj1O86PBEEDVtSYk6+tnaJ46HfSaT7MI4sFmgsoL5TmRWgXFU8V4ToFomtIF3l/obHScTLTN+/VmE3c+nDGulqbrCfBJFjX4KVerBwMpI+hvu1mMnojj+NmM90gXbqVcLVYdc4/ZRggnCiG6T6OHivTo8lHdWIaVSzwNjhfGvoF8fQ2nUmT09AQwHWzP1HUysl7SbHwfe8w9ioWWJm+LOoEUTFAqR6FdGEluioVZkux8OjRo+6b373Tbd2yxa2skEolWY48+JC75b/dyms3rN/gdu08y11x4DJ35bOewX68gXQKF6OQd1CQjpAvscIaivY7vliosYcVzgTlvO9vnQOYB6jGApV7CvK1LdRB7qrbeO6+WgaEjcEfl4WU8umLDhwjDXMDlTrK/coPD+VBYiA934wDgfQmqCyPq47qaf9yrwa+6tk1qavLYFjKEi+t0vpzCcdNfstDWLZOYzz0Hluk55OS8MhWfdM22sJbrANELyWpSF+9vb7dsCLdQHr+jUGrzkB6a5tZgsEssLggvXiChD5eEuKFYTr39yS8SzEJqarUC3guKnYP1n3MdfRz1u0g4RRB9ZkJXYIJRU99nyD6D2QEAofalD5bCtElZGehPi9B9GjOK8lIJhj1mfpGG8P0wdqxpTYLmAXmwwIG0odQj/1AeernD+GQlkVigXHEjZpakM7+FSPOnklpeiYe1SGAyfA/cap8TL142J/CdOxPb/Y3nHW+W7d110y2P0wmuvLEnW51jeJah0lDa5wthHjxoVyKIYESIx2KdFE8YAipV6eX4uVNd/y8Y8ePu8dJnV613HfosPvkZz7nzty61T3l3D3uKXv2uB99xmVuC4F3A+k+7vqoQDoA8x+8soiHPoxwJoDzmMAT0D4OGYOY8OMC6Yht/h0KJ4MY7VoGjcNeBdLjFwhopFDlP58mOY3D0wxwBzKQnm+8ziCdQrt0g51SNgvlEtVR/MIhGxr79H1eVkxjKJfO7ab2XIs3OnV5G0jPvyfEe9ZONopreJXGQXrVrIZ32b5ts1u/fvbFGN2sZamGYYEA0hHKhcO4+M95De2iRmvo44X5sYJgCoCceoSxaEpHGutoZMRNx1Pah/oMsdWpr4eY6et3XODWbd45jCobWR4rJ3/gVk/cKyOufV9MwnMW/TqJbR4p03k7tOa6TuOjR5OLhnAuVSr0frRhZKdrGZsFzAJTaAED6QNUSh1ArwLnMmmI3YAHMHdlUobH/ADtXarWDqJcn3aQ7hEEfeikNALW4+F/5RneoV6Q4X6iQicFA1TKOgyQY6v74YBMUUXNgAlqNpy9j1Xqs7CsrZ5wqyfvJtXCAwzCVbEg35Nhf2GyGVWk6z7e2SpNQlMoFngkgJ+YRmwyu9f6D4/c7560W16WLERoF41ZnjvZ6LBAehXI/qM3ymSamNQTUL0KNLe56BDCJZ1cFelzQrvkHLufIl1fDqSx6vulQ5gbhLiBLfAyADHihzRXg4H0/AbUCaTfteTuTUK7hCN2Vqn3h6Fyv0rObUhK81SUXXk+tcrq9KR96s62KNI3Qefh2aK3/E1K9EpbRQVtnZYrtvBu5MHUW8/VtshrN3sptMu/+mkL7ZJ/Z/D1kSjSRSDLWMtAeltj2v5ZFgBIf/jRY+S+V4N09sPnKUa63u6ZISQ3Pw35En3GI5DRf4M6Xft9QaHuRySHcC+sZFe1uo+zTumWN2yh0J7T19dbPXmE46CvrZ30fS0f25z7c9JnE5hO3xEfneOga4jOYlLRNd6uv6ORxtyh08lFLaRL1oVpO5kFFtQCBtI7VnwK0XvgedxxkGBblUtPZ6djeRYhWQ0v505VDyCP7D0soD7VIJ39K9/OAv2QRsiOFX/zs7n7YXwSysUP74sV6gzPNYZeWbUQJrPB4LnNZ5FqYS+pF86YzuZHk4munLyP/kjpywu9YPDwPDhaOgQwUiyUHLCgXFfluYJ4VZ0XThabvwTTp9MsbUq1ECC9Ls63qrkVsKfwNze0SxrbWxXXVaBaJwKFevswhTPpN8no12ni0hM0wiJVnGslVwFzjUM+DkW6HisF6f0mPNUwN4DnQ5pkVE1iID3/DtAFpP97AukcIz0bdvryAMLFRUuI7EBgeESAnZ+v4Z+o8IHfjgaiD2SLtLy1LxvaAfT+tijqudQCO0Py4bUbKNINpOffF3TPVJGegnSG6v4PCnVTpLe3saUoWyAF6apKZ7AOL39OQTpbIerjyXMH//YKpuKRyL0w/XQxVxbDczx4JU56COfJwirkLfNqLdNEpOu2nkufdKOc1EL91ZVTR0gU9QMqJ0bUKjxXRXny20N1Cc1ZzHPFMdD9nFicR4iDjvCd2oeLv+OELaTLpKrdjmsWmHYLGEhvWUONAF07BP5hp50dvQVXKthr6XDLgi3C7jVvHeA4aV9QzVlS//sKSIF6W3X61IP0yLEKzcEPrZXYeeJ0FZPTqONUDAGM46LLsEDvZHl1usRal/WsO6Lf67ae49afeT4B9U3T0QoRM+/E991pioPO5ffxzNmZ8iCdx4fQLO1wqjiOXkmxIKoGjpEeZnT3M7lrbPSgWIhbFUYCVLzUmQ6rdCrFQoB0WOY/UviQkxS3+4pXOLf7Yue+S7HK76FQLo8dcm5QkL7/J53b8zTJF7HJoYA/71nFpKRpzaAsOG6/yT4VUiN9HRSHwv1+ikUOhTvCqiANzgvxyXfQ78teVIRMQbgXLFCRA/YjlEocDgbH0KXNvoh5jhszJi5FfrDBIxTPEjZ+6k/JS4DzLy9bQZXsWDukSUb1AAbS828FnUE6hXYpLbWQ3D+S4p0TgC4hpaKlFvz6fVpsb4Lg/DgN//QePy1m2CMDojedT+l8K14AZKetKHs+gG8H0fvborpu+tVt4/badlGUPbfdGEjPvyeULsUmRTq2+fAuFtqlm30tVa8FKkE6QXQO8UK7zzVI53t6bxhPsRJuiDoXFno48l1jpseqdBmBLH07VaILcBd4ziIrVbIzqPf5rNvg1m/Z5Za37Kb+3uaxNM/V04+4NQLoKydpRDGHcCngt8xdJUrykgpdwTkEUsvou/lwLhrWhfp+CtHlNQSU6V6Rzg8NhQYqmIrWjeWs7SBmAbPArFjAQHqLmopBeJWDrhPxhXAaALwtJedt929R/JnbNQd0s639mfH+ZG8F6yJM6KXoJfTZ4kXG7ID0pAetjlcA6YWzJeFaPFxH7DyvShAnrDesS9XwP1ZEMFAXB2t50/aJtLW11Sfc6qnDFDPvEJWdQtRAdcBOlsBymcFd4puz0+VjoMuENBpTz8/a3qhY8GoFdrxSpULN0JOJWGTwg84sSAcwhqoZAHn3UwtD1K0HuMX+gLxQQStEPnhzAbzTtPr7Fe+T/AGfsQ7HxPJX/8k5AOdf+qTkDXCMBWpz7FMXqgT7Iq+ccCZ/9hsCxV/wy5QvQel0waSeel6A84D6mOAU5UT5YBstL6B706LniX3a7Avb4liwLcqj5w97wL4HXlwd/xwAHsuQJhnVUzOQnn9fGBikpzw2Gwy3h6F8VlH+o4Xk5WPFx57GCUXZNBW215ZQtlUHiJ6dtz9iRrsoVeeI280+hHb5GQvtkn9nkD0bFekRSK0dbzwAACAASURBVEfbA0zfvvUMi5He1si2f8kCDNIfe9zHRyfPHXHSFwikS5jY9GGnN8gIpvt+mcJ0DssZhXkpFOhIQ/2laKRyFUyXh6sPE4O8123i8J7LG7fz33BGJpM86/QxKg7B89OPUff0URocTQp67sN5gI6zJziuk4kqSC9Cumh/T8NxFsKouJ/HI5SZEESqdJxi3KcLv+erX2e3FLOAWWB4FjCQnmnLSogeOgOAjvIOE6vWr0c8rsLRzDyE7TagBWLwzsNJV+gtun8upkC9C0yfCZCuPWZ5m+MVdbBCMfxPVObVMJ0V6RjOlyjQQ9x0r2RYY+dG8+CImHIMOGo0Uc26zQTUaaKa5Q1bB6zV5uRrqycJnj9Ew/0IoK885l+ieCdLFQbsgPlhf1H8PImPrusjxQIP/eujWOCXNup0pTB9pKc81sxnFqSP1Uo1B1OQnsZe71c2TK553rMFeC/qUhdbfQj2MJCeb8SBQDoeM/GhWsLQfPW0f/xEx2qVlp+ZReLBAHwvhOacO9tCyjXQ+TRA7nLe7QB6MFtN/mF1h+3jbjesSDeQnn9j8Hv2BensZyJSoIR4MZDe2sSWILFADNKXAdDhhi8QSC8/EOIHl96/0R/DI0dU56Iyl1HHEuYTD6NiMtIQrhN9NwXlQY3ulehe3S77QqyGrCkv7gP6vh/6WTQqeXl5I49OXlreICN60ZfiT/S3IHbHPFwoC0LM0CfNYbW2Qn8U7xxiKFWDLxEsZ64CRXkQLSVq9Cgsi4D2aE4rqNVZaV70/WTSUcmjB6Jz6SqEUSW4bpejWcAsYBYoW8BAemaLKAGl0IPgx1PoJG0ggL5MN3382TJ5C5w+veJOncbDung+yvAtKVtbmD4zIJ3bZ+/wP56YlTehzWoMPHG0CqW5d7K84xVPPBoUC5FqnYcAchw9HQoIr6MA68vkRC1t3EZ/O0i1sJX8qTNYydBlWVs9xY7W2goUC6RUIMWC48lmUJk4MzhM7Fb7CUVFmRBCu/CkM6pq0PXe8VLYrhPP5DpbPTC9y5lNbxoD6QPUTReQrnHXhxzOZICzmExS2A4hcP7Znw79+AbS803aGaQ/XoRbK9N0PIDqAHsBcptA6kBQOfLdghUyIXp/MNwBoqdJsl82+NL3AfT5tmoH0fvboihfqbW1eaGQbYvB242B9Px7QrxnAOnBr/SSCvYpBZ6rGh1hXrZt2eRyO53dSmSp5t0CKysr7tGjx6PJRiWcS4iVzv2BIsQi9whajDyeGfsF9V4ZpotiXdZVwXQN2yJAXfuBOtEorldVpxd9QQXooW/HDxb0+QDV/bEYrBcP2NDf9OCdCxQ63SDk2hFHr9z3y/067qny/75Pp/077AnAHvp4hUiKw7z4kJwyyWhZQCVpAPObIHqJCvimYGr0mbkmrKBmgQlYINenWSKImLq1EyjuZA5ZBdHj4bswzDp6I75x48bJFNCOWmsBQJNTBNT7wfQcR2uWQHq/4X8pTNd4ebGTJfHS0bp97DwPzUn6LUoEVq+LKj2AdHZxpBPF+4RJa0S1IAu5O4invm4jRV+hT1Iw4PvSMqkYEHKFFAoA5KxSADgn1Tk+pQ4FlON/cYzYY6Z1BURnkE7qB419J/HzCqdKVQphUlGNm9cWoqtnOMeKBQPpA9xc24B0hF9BLHMosTG55sveOcCBZzjpTW+SwiP0zOUUU/25rxn6yRhIzzdpJ5D+vSV3r8ZIbwlD88FveJSEk+FDVRxPd2jaXgmGswF7PUAvFSnbFsW5lZIk6Ydnqw4QfZh2jozUBOirbaEQJ2nTLWyFXS80RXr+TSHas8c/8KMgGbCnIJ0FHM6dtZ0EFfMINjtZ0BK1tcCpU6fc0eMnInjuw7sgxAv+uJtQFkzNbXuLYTqrpPDn+18K0yPRFCvUg+gJc2R5hXq0TmOpB+EUQLmGAOU8vVCKr3VJH/p74OOsI0Qa/EgeyhGTDnOb+Zcekof046RL5QWJaf8uKM8FqBdK9HIfT9TpKpxSJXsM0jUtyuj7laExakENore9Pm1/s8CiWcBAep8a7wnpEvoc4hTKc2vNnbGJoKAp0afu+kHdHH+CwCwtUCzoG3F9A156/9zHuZ8lkM4nHHraMRHQ735IXuJkxUP7wmQzfjhgKT56GNZXxMxToC7HVScLXzFBjDpUso3/fEz7kkpBfRrvDIeSi3fsHR74Tl5VwCoEn4gdaXGUiglpJC461AmqVmDI7mdu58+SGt0P+/NpirwW09kykD7ALQ3qcsQFz4HBiIkOiH4+hXRJJ94coAgzlxQvHxA7HnaIY9sP8UQMpOcbswtI/3cE0u8DSM8Gxx1gaAtQWnoU6qnHj0R9NMVmSdlyDThuiodeDX79QbzvGA45yPl0TpuepK+ymnMNZqq1RXFupRaWYctutspoN5l2vvBsC+2Sf1co9qzzDxSkMztPgPqZpEpfv55GKhpM72LyhU4DNfpjx0hcA28+VqF7GMsgnbt5qmgWc811W6uB6XLmfAF6sRN+iwJd+nbYplA8DvviRxdzWgn3ohOXBrgeQLnkL/29KOSLHpvhvu/reeW6NuACpPvAq3Fscu4vUl8MsdD56FyL9L/050K/jOa5UqGUqtR1ElEF7JXrkaGCeoPoC31PsZM3CwxqAQPpfSxYq0b3DroObdxyBtS09vZy0AY5ivTHjouaWdUK4mOVFQs5ztbMgXT2o7SLGpODYp0q06XlRk4WKRWC0xScLYRxiSYnhUohOFuRU6b5sF4Ax5KYfQGg++/qeBXb5JtAcr/4uip+K/im3HibKtHLinSeaNQDdY2RF2LiMXzHGetM737CmQDUdeifKRYMpI/ijmR5TtICBtLzrd8JpN/pQboephZmFoS1CaQOT3kdPYbir53BcC+I1sdcyLJD3t2gsn+KZkPw3rLzmg7lLSWrSF97PmkRstMOv90YSM+/J8R7VvkHwth4LCJ/IqQLe4H+O7M1+ufMLRTmz/pM3Qy/YKnQjgDQg/aG+ggcysX3Fzi0C3ceFhCk8w0YsDr+9N/9A0nDvQSAriA8xEQXGK5gPYwy9v1AAek6Qjnu0wGyIyX6jrA/X/zFg8R3s8MLZ64j6YtrWFytMx1hzNl4gZQqyuU3J5QMvNq8CPEiIqoCmss+pQlKucMowivOV774/PSCUoZjLGfBbjF2umaBzhYwkN5guio1ehwTHQ8MdhbJUdxqTmHnRjjqhEePSTy9OpgePzKbHPuZBOnqZHmHKtg6Auy1TpYH5exUefWCTlajQ/o4FIwP8SL4W5wsuXa8Y8aeVgrTveMXeu5RL1oqyhfVf/JHHMoFP71TlMTRKzlTIawLMigcrTjGXoDx3tFi54udLJ3rYHGdLQPpo747Wf7jtoCB9HyLDwzS8QiIDxd+yJeJQvJs6OxPIPDblACn28u/i2dunS2K/Wuh81Bt1Vt+XhMfPPresy3Zt2l7Ut1FS6htF/1sMZp2w6FdfpbmN6JHvf6tA4eh4mCgKX+qK+LhEHskC85bmkA6e4CRGl1U6h6o+wtfPmS9tiPpY/l6Ds0hvVjz72G25/RawGuRi0GpDMflAgs9AJ5IVO5PqjgP8dD5eu0N6bJQinSt3r4wXaC3XG96jRVzZSFkZxA7qcrch+0s4LgXW4WQndKvK8K7FA+HQqEufb34Vsndq6JSOQfZIbrJyqsRucnGIVo8/FbIzvNe6chiDQMTVObUR/SjiwXeU17o55Vu3ik8X/Cb+vTeLqxkZoGptICB9IZqqVOjyzNG3rGqc2ggfSrbNxeKQbqHsz2qBf/sDo/Shp7RzIJ09m20IxL3kP1wPLaSOlb+Ux2pCJIjnl4I/aLQ3KvVQxgYVaD79KI7UGW6xtKT40nHSZys2NEqdaG8wsTLGCJHq+xkiePM3V3eh52neGIZdcQi1bnsGyvZfVr23UyxINUT1QZ3dqXTyy8Ro46xqs3wuXMHTS676IRhem+HC18yA+n5TWAgkF4LSzNgaB/QOioA3wR+o6dWQsT94zM2a8r9hnk+Sd75tvAJYxfAP/pLLSJze39b+Vxb2oJdkUpbjq7dsCLdQHr+jUGrNgHe4kZGfSPvQ5RU6d5vSMO/BA/Vp48bQUnR2rqUlmBaLaAgncvnWar6jtJl81A9hHGRdUGNrgr0CKZLPgmMXxR/NIbpWul8PckY3OIFFcRRuM9qiBdcfRFU11HIKobq6e/5ubBK2+Vh4rXmfvSAhHsJfQnupkWgGlwbXUBVhitMV1jOufm+nQfihTJd454X/b4itCel43z9xKQBrEsJQ7tLBVsl3D+tV42VyyxgFpgmCxhIb6iNWrWFdw4FJAlYOnPrZoNH09Syo7I8evRxfpgXKgaNydbO4ZppkK5OFCs7amB66BSJQ8UOURzixTtTMkGND/3iATwP+4thfOSUwfYM2sWd8n+qPRCQztda7F+pWoFLAUFC4RgVygWF5/JZhHkRx0odrhioy0HEAcPs77yfd7jCMD9TLISrx0D6lN7UrFidLWAgPd90nUD6HdFko3rLD/d+/5iIi9AZDEePlPhrBbjVw/Gmmu39wXAviNa8+qftLauapBoa+6dlw7noI71Um7UQvB1EH8r5dLBzE0CvB+yD22ofgfR3GEjPvzFEe/YL78Kiowiwx/2mANNxWbJr2IvM45HBnQpoiabaAqnoQliqhmhRFXo0otjDWGbsHqBXhXXhbDirBVMYV8B0HnXs+1nSBSyLm+QCpX6d9tXkYuR18sD0kJ0T+3AuGI0cRFLyYOURy77vVjpmUgXcp2OFuNc/+X4e+uiC/GWUQRzuRcK5aN/O1y5GHHNa3YZGEfXptP8YjS4OXU2D6FN9X7DCmQVmxQIG0htqSpUVvAueKfygEGcvxP8zkD71bV1B+qBO18yDdG7H2lUtuqwlhyfaLmFcNI04Vao895ojUjUkQN07XEs+Vp7kLU5ZCPfiXSUpgQD01NUNDlbs7KhagZ2veJLRQpkgShT9rTO2i2NWGh6oKgcN58JliWaLV/MsuLNlIH3qb29WwJYWMJCeb7CBQXpCZON3uHr7j0vTtL0JgvsnSRmS10Jlf8TM7QHtDQ0MF8efGERvAPRNdh4KYA+VFdU8+9fl3/LLewkN5S25NZpFZt3qERDa5R0vtNAu+XeGYs9+giPpMhWio5JiPepPBYju665oa2nldymlpZlaC3gfO/QBtD8A5Tm75UXc8wKeVwB2ceFFbRz1KRYOpJduiKGXVe7L6T4enHPoTlQAz2cQK9ORvhBBidpct/u7p0L3SCSl9+64b5kKpaSPJy9IpJQqjIq/+1YRgLnsg5YhaQSgl8RQSZ8u9C5V9R4/I3r6d1N7lVjBzAJmgSm1gIH0morp6xwmKgtTpE9pC6diMUjXh3akYlAum+t4zQVIr3GyWIEePBpRFog748OxxCBcZ3z3sdAlnU5OKtC8UCdID1liqnvHC1vV+YohepVqgQvhAXdwtnzQ0hIM9/HTEwdLzgDboFIo74N1IW4e8vL0vqRYCETfO3fT28xHUjID6SMxq2U6QQsYSM83/kAgvQmiV4DRrlC5CfyGJ04HCC5pU6rnbVcLfvO2N75Q6JN3/suI3rKP1lbFuZdaWGdbVUD0EbUbhHYxkJ5/X4j3rAuByX6fV5j3wHPKAMr0eB8F6SlAN4zerV5mJVXJ7fdgVfpm0chhXV8F1XXfCKLH3vpCgnR+eClE92FdtH/nOziiSo/6Yl5dXqwvlOdxDPTS6OKKkcY+U356CsT2V3CpoiXACm/pgelae4UqXXaL58SS0JvSPfPhOal/J/HQPZCPRxbrTSQF56X+3axcMVZOs4BZYJosYCC9pjaahisyJoQqPYLp27dtWbwhZNPUkhvK8vCjx2jCKK9qiIYChvh7mQqGuQHpfZwshQesUuBFwTg8l/IQP5ECcI/Ju0zYrgqGWMmAjtMqT9i1itAwBbVnWFF2pgs3WIYairMlpF8UJyGFVxmUnSwF7zJru6gVoFrwaoYwcU1xnBA3Lzha6gdqyRLKPyNtf9BiGkgf1IKWftosYCA9v0Y6gfTvamiXAuR2heTRo6oodJTZaMFwBURPV7UEu9r5DyeTpM+H5NGjOf5aUMji0V25vZw+TZaWr2n7UNKqmxH8DXn+jqvdGEjPvydU7dkkPNIRvAGUK0BHFXvQLnUtFV60p/LFkV5qg5XYUk/aAj0edaxMVyFyBNDZW/ewXNz+SLHuXflUFCVpFtN3l2dnDNHlCuLulP+m1y36erI+ntOKViC0J+8cjSguwfPoxl1Spvv1oQOXtjYItwqQriIm2UsBuq/UsE7nxfKf6M+hQ+kBOo0ngrTLi6bkbBSqizK+EEvpcSZ9DdjxzQJmgdm3gIH0mjpsBEj+AaUT6KzQw+asM7cu9AN7mi+FANLxaGWg3jtkMGco4FyB9BonKzhfkTpduzYS1sXH2mMYro6aj43H7paH5+lwP5V5R3Beh/2J7dXZLZw98Z/EGVI3r1AvsCftdynCvMjLEe9o+VnfVYmuE88UTlTw1ovemykWSpeygfRpvrNZ2bpYwEB6vtW6g3Q5xvDAsC9zE0QfGmCvAOh8Mv6c1HzTDNFbAPqmlxHDh+RFPVZDcv/8r7Bt3Gqb2lXT+dS1SQbpL7LQLvl3hvKejap0b3T2DGNwrt+9L9r7DihtxF1LZ+mm0gIJ3y4mgIw89ASuayiQJojO3QZ/wosM0RNHXp7HKkHy/bvQBwsPepVR4drDWy25Bj3y9iOV9bostgcxlQqf/MNS+4g+k1KRgiI9qqviivf9O63/SBBVlEb2kX6dAHSvupJRzJQZtwOfhwqqitY1lVeFFcosYBaYMQsYSK+psDqAlMb6gyodfwbSp7flP/To0TDRqEw4KioF+fMQlz/9I7ZGwTBvID3UWAq5FaJzR0cdKfgooiRXoM4G48lIYU9MTOqdL3ZqZH9ZIoeM8/b5+u91ID0oFlhc4NUFkWPENaZOkneoVNkgTpMfCtijQBcwL45X4WhpUTXPokVMb9sedckMpI/awpb/uC1gID3f4t1AunP3Pq5d7+IREB91rIDdP4Kij0TqLI8o2V4P0avBb/SIK51g2cal820J4PNt1Vv2vlC5ZJRyXY0Xohdlb7Jzvi16212TLQyk598TqvZUPyE0p/h6gvvHG3Rmnei7V6enzTDOT4+XXjaDldhST9oCVTrxGHyH7XEfTRXqKLz/Xuo/RP042aXqKJM+88kcv0qd7ocRC4DW/li4Vr2KO/Tf9KKOQHpQqktXTEN2xgBdRwkUZ11cyQq3eY2KpmRlJK4q+nlFny/01vXAyMB/90fSuo/6eGWYPpl6sKOaBcwC82UBA+k19RmGHHoPrxzjrwjrojPQjwOk33bbbe7d7353bQu89NJL3a//+q/PVwsdwtk89MhRVqIrRJdP/6fOloqTG5yvuQXp3nFiU8fOFP0sTRYTNhdAXXYXgF6gE4HqzKkZtOswvljBwAnlkDW+btxxClBd3StOpH8+E/HGMNKPPxmUF69HZJsfwFjE0ROnTRb/mcL1IbTBWc3CQPqs1pyVu84CBtLz20YnkP4d5+45Ht3UEwI2KhjKj7HwT3SOKV+uBNn1AL2UZUsIzgwiNvfIbNFb/q62qD3fDDt2s1WR8Xhs5SskOtg+UqT/pinS828MFXu2huncWPyrK75Oogqp/jpQ+SzxdFqgx/0PfTGh4gVQF826uPdF/HTx3IsdgzdvEL26wvUBHPX1RKnOJDz0AbkbxDmE8cDyhPX9PXm+aN/Pa5L83r4LVg4tk5RG8o9r3wucQk9S619Buta+lgyiLg/7mdxLSwhZxv0469NN58VvpTILzIEFDKTXVGIM0tlB9B2iIjY6wlnIhDmAhmdtH31ol8cff9zdddddocSA6ldffbV7/vOfz+u2bNni9u3bNwfNcrinwCCdHrRxnHSG6eyP+Ye1DiHTdRVFmGuQrudbo06vAuoFIogmJIX9YkfLO14aEz3Op6xaKBtc+1FxHD0dCqiOdFAX8LWpDpQ4W4VjLb/5GvYvT/QUA0AvOVk9bv1wG+OM5WYgfcYqzIrb1wIG0vuaKOzQBaR/gED6vQrSW4DjJvCLAjUB+L5pOYPkvAO/7YXQvGcGOG4Cv+OB6L1lH8wW3ka1tqrf3s0WkmqkL1dqziVUMW2HIv03X2yhXfLvDNV7VoV4ETv7DpReVgrQo9/BBY2zTutu0AJa+um0QOJ2p/AchVa/v/gegdgA3+X0TImeUc2+IxSU6mpYXKoMqPXTA3b/UFSMzVc19gvXt+9j8f28SB/XV+ka59214nwfLdSdznMlED2A/hi8e3geylOhQO8ZcZxhFtvFLGAWMAu0sYCB9BprBZDO/p8H6fRwYH2th+e4ga8SRAdMP3sMID0t6qte9Sr3j/7RP3LXXnttmzofyb5f+cpX3Pvf/37O+61vfau77LLLRnKcLpk+SCAd4JxBOh7UUZz0qglH65ywhQDpMHCFYsF7S9UOkjpU7MjEk9LoBC+4UsTJ0rAu6iiXVEhJ5ZbrIXamvGumsgc4Wsi+BNOD+xY06OZwtb96DKS3t5mlmG4LGEjPr5/OIJ1Cu8TLSEEpP7OSc8qA4JKsHqJ3A8NSls5po8dvOKPk3ApbzgZEL9V9OJei7E22Gle7MZCef09o2rNHlR5dm+m1Ji98/IuUKNMsdt7TMIZTfstlxBbIUImXNcq+PJHQSVlqVUx1Lb2B9Lx6LIV7ia5H7e9xLjFw9304yV2vXa9m5+6fvhiVz4zqDv2zOEFQmsvK0qOwNGmoF0iF4pQOaKKovFZge5kFzAKDWMBAeo31ckC6hHURVfq0gfSPfOQjbvfu3axgxx9U64Dbn/jEJ9yRI0fci1/84qBkhwmwDtuwL5TvULZjnzogfvPNN7tbb72V0+E4x44dc69+9avZmkgLdbwut9xyi/vCF74Q9kVZoKQf1wKQjucrw3Sokg2k55k+A6irQxVU3hVQXRULxacfkhf5SGlMzJIjHAC8KhgKtYIo1guNhKrP5QUJwL335uocLt2eZ5GF28tA+sJV+dyfsIH0/CoeBkgfFwwt9bbpR8psQ2ebt9UDdOxXmdZvGA8k92cTHUzAo55lO4jedD4h284vI3rLqrauttV0QXSU1UB6/j2h356pL9fbZGvabmjaWSi9XzFs+6xaIKGvhTpdTigF6LKuWAyid6z4ohNXFlPFz514H9/vqoy9Hj9jk/opPcawrVZJ7s8jhG3hnT3Yj2o87sNZf65j5Vsys4BZoKsFDKRXWK4KHrHKKFGk60SjCO1y9o5tYx9O1qRIf9e73sXgGmp1xFYHzAa8vvLKKxmYA5arghz7QUW+a9euANehML/99tsr1eWA9ADjAOeA6EiPdQDkCtPVrFj/qU99yr3oRS9yV111lTt48KADhMf3173udV3bbat0Dz78WIiRngPS2TGreJW+MIr01Lo1QD34VCXFQhAwsCslTpNXLPhfvC6iK3WqBe1OleLoedV74TqLQ5XGyhO0rpOKeqfLHK5W101cTwpxeJpY/MC9MHqRqCGu8LlzAvfC1idmCRbWAgbS86t+UJDeBNHLYDg8LkLhWqWVB02RNvkdPXqmEqL32CI9n44APWQzNkjuqwD+ctzMkvIP9eVKcm5d2s2FOy20S/5dof+etTC95zpNL9rqvA2t97f5LO7RqBmONpb7AMWZpukNog+hFUT9vZ6wL9H1q+Fbyrd5CfUifYf6eio26YSmft8YmvtHutQ9pYg7iikwN4A+hIq3LMwCZoEuFjCQXmG1viCdwLnGSleANI0gHWpygHRA8+uvv9694Q1vYICtk5Z+9KMf5bPH9r/4i7/oCRHzlre8hZXl6QSmAPgA4zE0V2CueSJfPY4eV01dt75LA85J0wPSvSqdp6Jk5XIRFkSdAAPplReGrGRRQOEwVQ0DFEdK4+RFipFo+B/v0zMmP3K+6hwnoeS8iP8kynOF5yWnS9dXqR5yGs+C7zNJRTpGueAPy9atW/nPFrPAoBYwkJ5vwa4g/Z5jCeIYAuzUUjdB55Q3hzP1GyyUi39oFh8J8ZYN1RDcW7PP9hLIrngB0JT3UAG7OghFsSvPFZv3EUh/p8VIz78xZO7ZCNST+unnD2Ye0nabAwuUJ6GEk18+KQPoo6/kaojeS8dlvyj8iu/3tSlh0XeTVCy+ShVWBs/bmNT2NQuYBcZkAQPpFYbOAemixvSqzClVpCtIxykCfmvscgXZmKy0aXJSwHGEeolBOtTnb3zjG3tis2uM9DhPpMf6D3zgAz1Wfv3rX+8OHDgwFlV6DNJ50tHOIP2U+zop6n/88meP6fKc0sPECnX2erxzpXAb4gEtemkooKrTi/Pq6ThHp9yjVI9hODtbOszTB3dJtscKBi5GTsC+KTX5pIo1SZB+6NAhd/jwYXfHHXe4/fv3u2c+85mTMoMdd44sYCA9vzK7gPT3f5smG41jpA8JoveH5P6hEJ9eBkCXjrtfUunrMKFy6UByvHz1dDiRcHatXyhE59Y6bVT29rYqyj4JiJ7TbhDa5Z0vsclG8+8M+XumML3uUis37Pz8bc85s0CNTL1OvW5+/ejrvxKqVz3AKiqp7vpvrDe9afeD6aM/dTuCWcAsYBZotICB9ArzNMIjdH78BKNBlU6/JxHOoF9ol34gPZ4UFKp0hGvBp8ZJBzRHuJdUkf7a1762JzTLjTfeyND8wx/+cLAowsvcfffdlbAex9i7d29P3qO4Xh+g0C6YaJQBegLSAVtFlK7KdClB1UP+3h/80D362FF34JKnjqKYs5lnHVRnI8opVSkWxMZ5p5yqFXqG+fFBInW6ZpsqGPIOZ3tFFpgkSNdifPazn3XnnnuugXRrmUOxgIH0fDMODNJjeFsBqeOS5ENlnyobDPdCaHkw+edT/LwoFahZmT1U9XTty4Z2AD2cVo2tc6By9PVJTQAAIABJREFUbJtgjs4vFOSIA9lqDO0GoV0MpOffF7ruWQfV6i7BrsexdLNvgX7dAwPok6vjElhHMdIBaPGI5T7FlG5aFYEvns9W15OrazuyWcAs0GwBA+kV9skF6ZOOCzwskA6oDSX55s2bSxOQQrmOJQXpAO4f+tCHeCJS/GE//CF8DOKk66Jx2uN1sbkRX71u27Au3FOnT7tb/vqr/KDW+ScBzX1EF09zi1nH60K7rFu3zuFiecYlTxtW0eYvnxSqcwc6CgFT4XDFRghxzvtZJmILJQerTsXQLz/bXmsBA+nWOObNAgbS82u0M0hPQruMDpL7c6kFx/UQvUkdXQpvMjGV+vggerYtYO5451rAPlkVeihm5gsFA+n594Rh7dkPqg/rOJbPfFjAYOp81KOdhVnALGAWmCcLGEivqM1FA+k6eShCsCAmui433XQTA/IUpAO8YxtAuO4PII7f8YJ8b7311jCp6SQuHNTl3d8/XIRz8erzJSjUGezmKdIB3rdZjOZ2Vdg02wz6431UCwUXr9GmVKnQ25XQ9u5jAQPp1kTmzQIG0vNrtBNI/1YR2oXv4Q2K4qbtWerpDgC9VKSJQXJfB7Wq+nYQvdJWtXmXj51l55p6rAbwg0P0cbcbDu3yDyy0S/6dYTx7Gmwfj50nfRSD5JOuATu+WcAsYBYwC3SxgIH0CqstGkhHWBYAb6jM46VuslEoz/GHiUubFo3FHoeQwf4IH4NjXnPNNY0x2rs06Ko0HNpF46IPENplWOWxfMwCs2IBA+mzUlNWzlwLGEjPtVQRkgNgU6E6RbJjNr66Kp8r9Il1+vd+D9IHCudRA2615M0Afggq9IrjD3Q+DS8T+FApzc6E4KGYmcrrUPOpiYb2QkEyamWr5Nit0ib11BXAsyLdQHr+jcH2NAuYBcwCZgGzgFnALLDgFjCQXtEApgEeVbVLxCy/5ZZbwqZPfOITIbwKViKeuYZKQViV3BjpOlHo1Vdfzek1XjqruSnGOdZhmyrOMVEoFASxAh3HxsSl2DdWtSukx/orr7yS46/ffPPN7tixYzwJabzvqK7FSpBOImfA9VxF+qjKZvmaBabZAtNwL7QY6dPcQmavbAbS8+usqyL9niS0S6xK7wo7S8y0gxK9Wj0N6iv2aFJm16b1CZu254PhIajQoxMZyvlkA/bBVehc9IYXDqNsN/t2rrl3/YN15BPCL5S/dTRkEWPhlvXTD4wLYQFpW+48L/lXnO1pFjALmAXMAmYBs4BZwCwwCxYwkF5RS9MAj6oaDyA0wqXULQDZr371q3kz9lOwjd8A69iGdZqP/sZ2wHQA7ttvv92dc8457tprr2XFOfIBwI/3/ehHP+oOHjzYA8GRL+A6QsHEgBz5Iq46oDzyPnDgAOc3DoiOczOQPgu3IivjNFpgGu6FBtKnsWXMbpkMpOfXXReQ/r5vFqFd+EiZ6upK8Judtl6FXipCNhj2NqL9hwPJi/zU+mUw3AGid4TOTYC9m606qNBbtIuwaxvVfct2g9Au7/qHBtLz7wy2p1nALGAWMAuYBcwCZoHFtoCB9Ir6nwZ4NK3NErHREQbmhhtu6CkiQDrCuKShXCZ9LgbSJ10DdvxZtcA03AsNpM9q65nOchtIz6+XgUB6i5Adg6mN6yH6eJTkFZC8AXIzGE5pdib47QSVI2g9FJV6BW3PV93j5Mvtr1XaoQL4ot0gtIuB9Pz7gu1pFjALmAXMAmYBs4BZYNEtYCC9LUhHP4CCga6S948//b5zxzYOdzLvC0K1IPb5+9///p5T1Zjo7373u8cS+zzX1hYjPddStp9ZIIUcXm3oAQbd8QQC6f2Pvo/6Xmgg3VrlMC1gID3fmp1BehTaZTBI7staq0bOgOhtlMzhPhfZqKWKPT88SQcVegKSuZRpNm3K2zltkXA8iv3edtDUrvqr7ssnbiA9/55ge5oFzAJmAbOAWcAsYBYwCzhnIL2iFczKZKOTaMBQnSNMzNatWzn0i4ZnwXoo1RFL/XWve90kilZ7TAPpU1UdVpgZsoAp0meosqyoWRYwkJ5lJmG0EW/MnWz0fbcXoV36ws4G5XZz2nqAXmLNbaByBkQfnno6A6KPQaXeTbHvX6421F3cdkJrG+b5DLndcGiXl1pol/w7g+1pFjALmAXMAmYBs4BZYLEtYCB9UJAOZSYp1BdFkQ5zIWY6oDkmDNUFYB2TicYTkE7LpWUgfVpqwsoxaxYwkD5rNWbl7WcBA+n9LFRsHwSk5yuz/fEy1NHCujNU6CWaXuQ/NPV0AnLzAXsGQE/K3vdlRM25llYP7YVCBkSnXYZm56Haor7d7KPQLu82kJ5/Y7A9zQJmAbOAWcAsYBYwCyy4BQykVzSAKniEngHWr6Ij50O78G8f3uXsBQntMovXy4MPP+aWlpfcMoXeQfgd/sRvnAyvow/6z//Pp7gIYXpmsS6tzOO1gIH08drbjjZ6CxhIz7dxF5D+XijSo9AufLRMNXLbkBzhTGJ4W6NWbsp7POC3HUTvbwt/9m0gecbLimpbFAnHY6vecxvshULzyxeEdjGQnn9fsD3NAmYBs4BZwCxgFjALLLoFDKR3BOkK0Q2kT/8lFIN0hekK0hmYG0if/kq0Ek7EAgbSJ2J2O+gILWAgPd+4A4P0TIAeWHstBK8HoSVO3wYq+4TjAcMVEL3mXPvZot/2ri8MWCwSN40ko3zVfTsIXnk+Y243CO3y7pdZaJf8O4PtaRYwC5gFzAJmAbOAWWCxLWAgvQtIjyYZNZA+/ReQgfTpryMr4XRaYJIg/dChQ+7w4cPujjvucPv373fPfOYzp9NIVqqZsoCB9PzqGgikZ8LQ/srrZjVxOJuWEL0RDNdCZTlaPlRup0IfBJKP5oWClL90vkO0c5PKfHBb5LcbVqQbSM+/MdieZgGzgFnALGAWMAuYBRbcAgbSaxoAAJI6+fwN/2toFwPpM3XZ9IB0CuvCIV7oLEyRPlNVaYUdswUmCdIxB8PRo0f5jLdt28YTHNtiFhjUAgbS8y3YGaQfpWFefhl6SI7O4UmKAk1MhR7ocFQHGedTStYEsmsV/XFllI/dpEKvV6lLHvkvFHqPP3aI3mBnA+n59wTb0yxgFjALmAXMAmYBs4BZwDkD6TWtIAekwy/HRKNQpZ+9favF1Z7SK+rBR45yXPRlAHQqI8K6NIF0i48+pRVpxRq7BSYJ0sd+snbAhbCAgfT8au4E0m+TGOmDgdJ6NXE2VK6B1hOD6B1DufRX7LeF5MX+ixrKpRzDxjkD6fn3BNvTLGAWMAuYBcwCZgGzgFnAQHptG6gD6QzPoUjnPwHp+H6WgfSpvZ5KIB3x0HXSUUD1ihjpBtKntiqtYGO2gIH0MRvcDjdyC9SC9IYJqBf1mdAVpN+DyUY7qKOFfeeH5Cg1ljbhWIYYnoTLnNLuKP/BXijUQ/LRvFDwoy9jwya2mikVujdS08sTNLcLz7HQLiO/8doBzAJmAbOAWcAsYBYwC8yRBUyRXlOZAaSrI+5DvQhAFxU6g3Qf5mX7ts1u3bp1c9Q05uNUVldX3SOPPc4qdJlo1PlPUaXzAHQP1/1XG1kwH1VvZzEECzSCdAAkPyJH74P43Lljm11DQ7C9ZTEaCxhIz7drE0gX/8e5lVX51L/3kiL9nii0Cx8tO3xJSsPz0vYDpRNToZdot7d7ti3K+7ezY0Va9WXj6q94ATAeW/WWr+mFQ7MqvwjDWGrZGXbWfC+qAenkNrLPCD8R39lH9L/1e/7VZHuaBcwCZgGzgFnALGAWMAvMiwUMpNfUZA9ASkB6gOgeqgPK7ti2xQDSlF0Zp06dckePnwjwXGG6qtI51EvUMwq/p+w8rDhmgUlYwED6JKxuxxylBQyk51u3E0g/SCAdinQsmcrsJhV6KZuWSvLxxPjuVdDPnAodVVUzgkBbS9P2vufbkHfftEk7itvVsNrNRZhs9OXrGJbr3zqaRMdAev69wvY0C5gFzAJmAbOAWcAssEgWMJCeC9Ix4BgefzLhKFZpeJdtWzaxKn1Rh4FP04XDowZIjX6MIDrqLcRHhwq9YQg/zsHqb5pq0soySQu0Aul8zZkifZL1Zcfub4EA0sMoJT9ayUK79BhvIJCeoQgWRtoLohWWDk1p3hLA50Pl2YDo1edTlH32VOjDbTesSDeQ3v/maXuYBcwCZgGzgFnALGAWMAuwBQyktwDprG6KQXoc3oV7KphgS4YmM3PHWGfuKMo/si1aF3cirUH2tYAPxCLhWLBwaBYZZ6vrZCJR2Qz1OeqLJxb1YV36xUeXbMMR+pbJdjALzLMFqkB66T7oQ7uEcFf0+2wL7TLPTWLmzw0g/dGjx6NwX2WQbvNmFFWcC9JFUEBhXujLe6FI96FdAqCNSW3gt/UAPfhNpS++XN6/CqUcGSQvjqfHKqun20H0SltE59ekzM5K28pWMwjRR9huFKSvgyKdlOjwAE2RPvO3ejsBs4BZwCxgFjALmAXMAiOzgIH0GtPWAiTaX+Oko5OpsdRVlV4G7byzQHX/yYdLOwQjq975y1hhupJzDcUisc4FojM4558+DnopLnq0ntPg/wTGG0ifv4ZjZ9TJAjkgXSG6xkk3kN7J1JZoTBZIQbq8ZC1GKhlILyqiCqRzWDtxbUqx0QNI/zsJ7dIMhqcPojeVl922lGZHAL9v2sjvC9ZNTVDxQqCUrOULg/qwNl7MUXM8LV+rUC5JXq3SJraZRLvh0C4/t84pSI9DvPC8OuJe8mIx0sd0o7bDmAXMAmYBs4BZwCzw/7d3LjvSI1kBrqq/xWhmWj0gIfEAbNkg3oIdGokHYgEb5nFYsOMFWPEGgFiyYHqA6aa7cZxbnAiHL5nputlfzfxdmXY4Ll/YLufnk8cQ+MAEEOkLk9MIJLvQL0p8lt7FotJVrlfJXj5oikT36Kks0q1Nb+MD7x8frmt9tHgIdPmEM5boKtSrQC8fijSafZ4fXVcRkf7hJp4OvQuBTZFezmvdA0cR6e8yVTS6k8BQpMs3meoN2P4G61X/Jtwj0n9jIj3nR5ep2RFR3PjYW8Txm0Wp3xaFHsO+Q5InZE2ueWe5xqoR2YMbALu3bTqhB9jrSXK/MO4O5DfYb0pE+t8i0neeQSkGAQhAAAIQgAAEIIBIX9kH1iRSRJmnqPRGpssHDsv+Gb+7z0OzTyTskLsImOhWiW5pXZIYjyh1l+elWJbp9p5o9F20KXRxAvU85umpuhRXiPSL7yGfa/gi0n/3v3JztUSjS0Q6In04iXeLdEvt4tJXfezHi0K/TQzfJtF7fx2AczVvJthro+8h0Xex0J2k/uwQ6M0mt9x4sQ19E0T65zqH01sIQAACEIAABCDw3gQQ6SszsJbexR86GlHnOYWLREdpiJR+TdXSu3Sf2vrr/vfeGT5D+02suMnz0u8cXS6Z0wcSvSzM0eiI9M8w4/TxvQnsEenlXFbSW5X0Ln/0zS/5Vsd7TxrtLxJwkS4SvQj08vcDkb7Iy79VF1J9Otj71C5lXcmPXh4L8/f/oqld5OcNZWhuzwdzU/R0d0FGKpe6S6xx7C5rm3mPXWDhhsHW+te6+dKPp6R2+bu/+jLdVJtyo8u1Y7nJpv+WUrvwxUX+yEAAAhCAAAQgAIHrEkCkr8z9UnqXeJhojjhPkemlyiKU6gNG02eL7goemb7/4JslXJlFptdc5xKBXgSJJbTM72sku4ezp4eV8ulo/4RQ8hIElkS6yHNJX6UprPw5EX+ISL/EfvFZB1lE+m8lIt1EuqcEG/zNKGOMvyOfdcAP9ntLpMuxPxLpOyT6WnR0k+P7gWjjWwV7K4Zz+Hi+juugpv5p8MR4/Vpk9m4Wff0esOFN9o0srrfxrEjuloU1sHOs0c07WOi2c/Y+l7tZ7dxvSkR6Fukh0BHpD5492BwCEIAABCAAAQickwAifWNe+6j0uMBP4lw/OHk+dBfo/iHF07v4h7CBOsem7zu6OpOeHzyaZUcW5eLFXZCUVjyKXRx6Fe+6itzo+yaCUlci0D8o2d/7Q5dVpptUn4zaN1///OnLly9XQsRYPxGB77///unb//69RKHrg0Y1xUs8nNr/FtifA0R69cIi1U3MukAvEj3/+4d/f376x38jlYtLXz807hXses1pPzvFcPoqQOv0u+1vithvOuLftuwO/N59r0n0xXXLAv0+FpXdkoD/9Z8/P/31X7xEFHr/sFG7jKwPHNVLSX4gAAEIQAACEIAABC5KAJG+MfFbUel92hb/sNSkdklt9A8YxaHvP/L6zy3jB492gnxDopfWvV5E+v65oOR1CMxSXDVprJJEn5YXqV6Oo199/QtuTF1nF/k0I/3hhx8kP3rRgC7PXaaHSOcmazOfLs5FYg5EermG+WHK9VJ+/zj9/r+J39/88/PTf/6+D4UW7PJzuxi27Y6Mnl6UynORuybBYzxr0rgZtOF9kEUTsT+A+lA6liM5d2Nfv6HwOhJ9jcWffPP89Jtfvzz9wXTv92XK/VeuB7/Yb49MR6R/mlM8HYUABCAAAQhAAAJvQgCRvgPzmkyvH6LaPOj5g+LSV1SR6Dvgd0Xm6V20QB+d3kehaxn9j0eixzJrA5F++3ywxfkJjJ4VIWKiiHP5NZ3hppBUFWma6uXrX/xMotI5ps6/f3yWEf44Wd7/+vZ/9O/FQn50+buBSG+mNHKj6yEvPyUC3U4BEY1e1kme9Omk8O1U4J/+4/npX3/709P3Pz6HOJft/Y94OXmUOuM/tdkQn8nFS3tetlsuUjk72O61X2vp76kD0YD1rQwoelPW13dx/Rbd8+2fNYWf9MkHZQOc+WCv38o1Zre2F62m8c2Or37dQHrrorzC20j9mG2nfVfGRkrCrn3S2m9XxlVX1JPWx/Nr8rinm6y5W/qFwHkaHBtwBDh4ka78MCA8jSnW56lJdX/15aenP/3jl6e//LOnp1/9XI/7UX70snkR6rLneB/s9WxuWAABCEAAAhCAAAQgcAkCiPQd05yjyNNnhiaHY/7wER/40geS/jPLLIfmjn5QJBFIn6LqByZ9JdFDXjQ9kBSJzh4EgdsJLD50OYv0nN7FbFn+Vk4R7XI6tP/oulb3zIXV7X1li2sR8Buo7flebVeIOHmQqO98/iBBT+WiUl3Eevm74c/UIO1X7EgjkS5pXQrS8tsO5UjvYtHpv/v+p6fvfnoR2Tx9EUD+Ksu1kW3zo10EiU+fRLSkiLL1+l7Tw3hEfI6Gd+/941ROypis1/LTMuufX4LJtsUlZ3k/rQx/brtHRN+7rPb9xlxyrPd+dutHab3LNp4GZBYZ7RcsRnu4fnBIz64nrUyTbmRQyI+D3KemC+k4kQMo9V2uq7JX9/VWga/PgjsEtPevRHpbnd5XPe7KvyLap/+V9S/6+qW8mX4kMjzKpddSRv+ouOQu3zAplciD5cu2sZ2dLaZ1JeK8bPezSab/8md67Jdo9OYBo9Knur0ME5E+2BtZBAEIQAACEIAABK5HAJG+c86XZLpewvunrvyV5V4S7Who76eoHVWdpsiORJQhTHzQtk2VK7qCSPTT7BUM5A0JLIr0cu4TgW6yy0SYR6WX5RGxboZMfyVlbrIHif6GE3qipuKbSHqCb9J0yfnfI8yTKI/c6LLaItA9R3rU08n4HX+HToS1GcqSSM9SvLxucqVPB368L8e8yXUvVzRpOeZL9HqV00WA+7lE1Ggj0lV6m2C3S64Q+XJe8Sj5UrPJdD+/mLzX67XcptaZhb1fznl9ZR+bX+MVK69GWM+PVkbatUZlF0rvbQet15JVOY/Pf1lJr+1dc2PeHBdm9+UmkRTV8uV9Hpd+e0gFtorpOkZdbj8+LlsWcjnLbrfwelg2AtrTpZTaauoUbS+X7dOquDBvpLoSNhFvN8JSvzRVi5aJ7Up/ijS39kWeJ4nu5fr2lVk+x5z1iGdcEIAABCAAAQhAAAJbBBDpW4TS+k2Z7mVDDjUb39ASRW8ikCRH89HT3uS0L/JhKFVO6ombSFP4ggSWUluJL2pkeRLqRWqZZNeI0xpZ6s+VyCj7Z0dcEDNDvpPA+FkZScqFoOuj0F2ka0Rqn9bF/1Zc/W9EFul2KFdprYd2E5VeTguSM70sn14XWV5SvsiPly1qc4oM9rpLeZHS/s0VkeIuzasYd+EtxabyHg2v0lvFvMt2XaJR8B557n31Xc3bd0mvXWyj4FUr+95ggRPlKkJEuv7S1UmqTwv1sqQT6Va/beDdqPI9lnQveqc+d+fNBu0+6733SqpIl9HI/YBOnutwdOCNYFdCeVWV37X+nArFOzYT6EpH/ttI8ri5ZSlVpg5Wqe2pl5SvPN/ARLrQLgWn8iXi3KZkCk6vIl3uZZTtppUiz214fU70RqJbGb/M9FFe+N7a0l7KcghAAAIQgAAEIHAZAoj0G6d6KNP1s0X8NNFFGx94Nlbf2LvzF1+N0Uor+0hFJ4NEP/8+wgiPJ7CW3kV9ehuVPnwv50k7O4r4Sj9ho47vOzWenEB/I9WjRrNAFxmWo8/tfSz3tA8awWr/F3BXF+l22AoLu3emr02UVzk+T/PiZeR3ikqXbVJ9EU1uZtrFdpxHprI1Il1PHpqlZZLp1hfvW5bj+u0XFe6zcdiAcuS7l2nEeTo3eRt6HdFHodf3YdezaI/DULduo9DnVzZ7by6O9896dq3XQu3VZohy3cmlR000enrvPn18/aRiPUSzHD4qr/046uWzRn1rFHqTfzwvN0p6k0uleemjpl9J4t+WyY2wFI3u0eO+vfRx+idR6ibTVcbXyPgcjS5tzsalk4hEj52ZFxCAAAQgAAEIQOCSBBDpd0x7/wFnJsMHdpzUBXeAvmGT9qvM9okpbd9/TEWO3ACXopcnsJbexaPSI+rcZHmVYCq+5LTo6+y1g+WG4uV3sbsBNOd2l+dmu2SdRKF6hHr6bfZvFo3u21iP+FtRo657kS7v9bCOKPU+Z7pLco061w1ClOfob1ll6V1SnR7VXdrJDznVejWFi15fqVQvP5JWRsPW7bxj/ez66qehflwRcu3ji72zfRinn7fEtSdpHqLdJbyZ1z6tS04Do03MhfptB4bfMbDawvjarQF/b/3ySHQfh8v1PvpaJbXQil5GT21OW5GexHoZlRyDOjoV7LW+l8leu0zXQHLLlR5SvW5b07roTTEp6/Vmke5t2kRK/dZPjz5fkuhtX/sbBM71tlmhNAQgAAEIQAACEIDAuQgg0h+Yz1HE0KIQwhQ9QHpj04XPnksfSREjrzcV1HxOAkvpXVyQR97zLjK90CgPEdRybtOrVM+0OEWec995zVH1Er20lQWfRMaaSJd1It1MwpVoWFsYwt1CaHO9/L1oRbroS/e1dki7LK8PAW0j0GW5CXQ/zrNMl1OD12U7jItzba8V7CLNzV7LQ0pt2yZFSyyrQr3e3DMhnsaSTk9xc0D9fG3bx172o2AQO7ilcTFJvPTtxdmXb3xnO+oEuFBfjqLu929peuqYi/V8HPlYs1yv+dOr5I5trPKmvAvvLNDj5pYDTHnMpzpqBLoa8EaYdw8h9bbt3phFwut2+YGnLtRzvnTPj17qaPOvtxK9Z/Ka5zXqhgAEIAABCEAAAhD42AQQ6QfMz9ZXcI/6fHRAV09dxVosFzLk1FPP4N6AQB+VLu7F7JOLdBcyESVa3bmmf9GN5Gf4LR1Olm8wkydpYnDCz8/DUKmmhUKUu8jrItTVn1toq5dP25+E2EPDyOJ4JtLtuBZf7gLbU7kkQS7pXSwyuDyA1KO4zbPHN1f8PNHI9Byt7q/jXDKJ9RSB7ildcn+aPlsD6uIHUeuJlEfbp1OXnsNsp5LzYhLrfn7LUe1e3fz01u7Es2vJtYuapkPawvw6p21xVp3NRT1ITB6XIXl4eoy13qTyqG0flxxr+TiTvtU88bl8FeI1Qt2/MSLie7LZNWrdH0Lq6WNs3VS9S28/bOvNMKvXxlYeLCplpnHow0fr+vI6lvnhb79DyusuEjfo8g2Jhw4oNoYABCAAAQhAAAIQ+LQEEOkHT92WVD+4OapbIYA8Z/eAwHEEtqLS+7QtVYapSesl0maKrOO6Tk0nJDByjOMHj1ZJrrJtHokui4lGX91L+gjsPTI9Ur5M4PVBoBbJbeJZzwmaWzyvj3OFS3kz7forR4iXdC7+0FKNUlflKgXt5t1clBfpXvaViIJ3IW/S2Je7MJexJqHcLPcxWZGA6INwwyvlurNgFvAHH6PuwXO19fhIJ+R0IPnLiCZ30e4rjEHU7dLZpbWVy7K8jFnleLqhZbMu/fFtJHpcKyq/XuxOhArtmv+8LM4SXfegGj2uYtzq8eVyY0BJyHp730v9LOUbBt731M7B00V1EIAABCAAAQhAAAKfiAAi/R0mC9l+DHRE+TEcqQUCewmsyfRSh8pzjTXPr6V+cTdurNoW55Gae3tEuasTmAn1EHNZ0qkBqzKvPly08CMafXsvyg7Yj9deptdzgB7//oBRX+7lxamnU4Gkbgkh3qV5Meer2/ZpVlSSRwR6TvciQ7J6JWRcm9TyOl49R+n2vVivy9S65m1E0ybpLtVk0e4407JZSpfUjzX6S+fG0Y2kvp5R9HQsW+hvL9HL+1xUXbfzsojxJNSdW/qCR8qPLlMis5Jld354qD+EVOW4jl7X62SFe/c2pZyu1XUldVPcTpH2NPd6F1le6rUI9aavXX2yXQJLRPra3so6CEAAAhCAAAQgcA0CiPRrzDOjhAAEIPAwgWHe306Qu0AvjYVQlzcqRWZiCIv+8LxcvoLOKsZbs15ZoIcYWxLuBpMbtfO9akumz495f7BoK8dDOjf31fbKdJfhVaKL6LYE7R6xrqecNhe6yHrrZAh1M8VVyOse4vK4lssCXkWwng/rDZsRn5DujrOI6bVz3pY531o/OBn00ekux+NYiH3eXhgkubkQ0tuEtd5XsJhvl8w59Yoi8dS1p/nKAAAO+UlEQVQucpiF9PaHhHoUuQ7GI87ldQk3N1HvMt2P5z0SXWR7Yl0mMiLPpS1dGQ8gte7mNrRPWg6JPtihWAQBCEAAAhCAAAQuTgCRfvEdgOFDAAIQuIXAkkwvdcweKCoLW4G+y5uvmqZbekvZUxHYEQ7aiC8ffBLqNZVEa8paYdaZ+VNBfGwwazI9He5xw8wfQOpm2t9nmV6juZfSvOh8+HMWSh2eLVtE97RAzisWOR7PbNCFMeBRypYq1i1FTIo+9zY9st0j4rX19qZgH6HujWYRXetL/VrZ1bZOg6uHQ5xoq6xe6pOhkwHlOusY64NII5I8FaxR6kbGxblXkN/X2egeIKp/K0Sep1QwhV99CKjDcnGvleV0LjEGa7sR5ym0Pj+ENMZvfUOiP3aOYGsIQAACEIAABCBwdgKI9LPPMOODAAQgcDCBTZlejY28auT5lh06uK9Ud0ECWfL58HMEupizygWJfts+siXT5ZhPB33I9Gm5pUrX80IK++5lek4bI5lZprJ9NLlubpHp0aYKcW/eX2t9alfres+frgZZBLxUqg366xx53p++4lxo20eMdhSMR+DKqsXT39YdxuqQ1ydrQcznqPR8azPnTZfX1sHZ8wbCqptUl6jxykqivn376bfd+lAxLm+0gogOT/exfH2OHPds97Mo9E6Q63pb6DcCujKldU/vIq/zsd/xQqLfdi6gNAQgAAEIQAACELgiAUT6FWedMUMAAhB4kMBQppc6kxCKnOjd8lHTWx7pwe6y+QkJrATztjkZROPNzXm/Pelc9u8kI5kuh/nCgewPE+1PBSK1Q9L66aNN8+L1Wmy1CXV7FoNJ8xDqRYBbI7W8P5C0rEgpYVKCEpXrquZ1e7P84pZtefltwjxSu5h5XUvzskS1fV5Ob3R3zsWMd12wZ3+Oe04GLbYRUW6pXUyQ6zoX6Qa5keaeuqXeIdG0LXXWs/h2v66y3XV4jTbX9SMpr2xmden0xsNEnWAmW6LXRz/p3hvpXHbuehSDAAQgAAEIQAACVyWASL/qzDNuCEAAAg8S6B+cvOJ0oqVGrj/YPptDYCjFGhVmJeYevdl0j3SEdktgFp3dAZpHb9cC+VyRI9NLiRDgIq5bOV/WeXS5C++6TOuvkeQp3ZTXIyJc5Xh9wGgS5dHFmgM9BLuJ9Hq3wBWxj8a3mSpJgl1LWVkbkzZTd8qjHkLf7sfWL/H/3paNxt83EehOvpbVbiq8EOkRXZ7ugEgxE+3ltpXdgBBBLostgj3uT+jyLNm9qZlAj3JGzZqdRY93y1vCbdoabyvvsvMbaxzxEIAABCAAAQhAAAIQmBNApLNXQAACEIDAQwRGEmgxwpzQ84dYs/EGgd6GpeKjVQj0x/aopQj00WGuAru2tyrTPahZIsRzRHkNFq9CXcLJ5celemyeI9BNoksnQtBr/RKJHnLd3qflpnA9OUyU1xDoGrUuffBBepR1DLrbA+3tukRf2qGXT6Q1qryfWxPlEmkuHZUC6+ld7MGqQbcV5h6h7uzkfUrjogizTG8j1LX9dEtBXpuQH4nxtL7J6b5DoueocyezRHdU9rEjha0hAAEIQAACEIAABM5CAJF+lplkHBCAAATemcBWVCUO/Z0n6ELNr/j0Th5eCMorD3VJqouztbbXotgb35zEuG46F+pSb3XoFjldRXaOVHexXqPVW1neyvXSXIpI92hqk+01jrrq+j5Ni3rdfMaz2OsGgO2laWfdOocuTWFzQyiare1nWe51eDqcnI+rkeoRMV+j0TUo30V33I2wqHPl1sp0LSMR6jKLNptJnkt9spmJfa8mDTancdG9wSuqO9dSehYpP0c9Q4k8f+UTBNVDAAIQgAAEIACBkxBApJ9kIhkGBCAAgY9E4F4h9JHGQF/OQ4DI87edyzWpXnrS++QmUj2sd+1zUsIhqEfbVBlvIrwT8r6+jVivEemzCPOUiqXtc0rjEoK9Rncv5T8fyfU8M/eeN8f7d6aWby3NBbu365Jc5XMV5VlGe5R5ny+9T/3Si3Opwwdb3Hmq3/x7CO/cXjxMNG/vlYnYrwS9nmhm444a8vxtzwu0BgEIQAACEIAABM5AAJF+hllkDBCAAAQ+IYF7pdEnHCpdfmUCiPJXBnxw9X2al1J9jt8eRae3ZUxkt65XeqlR51nW20Mzk/DOdc3lulpaOT+lXOetZNcycUfAhO34BkINvx6f89Ztb7/N9r4+/+5Pm+5ltN4m2FclI63CW4n1DyP1WVuV5oWUpJOpaV+E3iAdS7vcCijp+lMXtxK920clin1DpB+8W1MdBCAAAQhAAAIQgMAFCCDSLzDJDBECEIAABCAAAQh8NAIz8dyJ8T1CXRWvGuCRyB6Jdc9rLulN0kZDmS/1Z5mrdlZFe3mV3gdgW9bcHqhl/dXmzcQlETx34c3UqrjOP+07z1S+lNZF849748a2YdBFgqemQponAS/jXRDnsU7qb9vcJdCTWPduINA/2pFOfyAAAQhAAAIQgMB5CCDSzzOXjAQCEIAABCAAAQh8OgI3CfUyuuSFcwITWWWCeym9TJbzbRl/8KgK3V5y9+66rz+vb/13+64K+DxNR4VOd71shLi3V8ss93kezd330IW5iHB7QGgjsq3yJaldxfqGPE/zvZbGRfpxFMZPdwTRYQhAAAIQgAAEIACBtyKASH8r0rQDAQhAAAIQgAAEIDAkMBTfS6lb1N62+WBmb2v6F3GxK1Hcy3LdGpJ+aAU1arouywNaCxbfyh3/WrvGmmAeueecPsaj/XOKl9zPnJd8tZ3ky3Mudp/KZuwL6Vuk7GDeY/lrAaReCEAAAhCAAAQgAAEIGAFEOrsCBCAAAQhAAAIQgMCHIHCzUHcT2wdjt/lYRIGXnxwRviW2+4ei6vYjTGaJk3D3Ulm8+7LNlC4HzcQon3r7wFN/6Gf0bNZyl+FF1m9Ffudt+hQxOgmDOlbkebQ5YL/Vl4NQUg0EIAABCEAAAhCAAASEACKdHQECEIAABCAAAQhA4MMR2CvVxc3GgzJtGJtiXfSsFO7TrWwJ9gxqqY9Nn+4me2eS9I32RnLcN7lFTDdlB3nVoxtL4lwgaalRu0Sf373jsCEEIAABCEAAAhCAwCsRQKS/EliqhQAEIAABCEAAAhB4nMCi2B6kfhE3O0r+PYhm9geRtj2s8joixzuffYto3zP6o+q7RYLv6desvpDeGcgoL/ug9jYV+s3yfEm27xkHZSAAAQhAAAIQgAAEIHAUAUT6USSpBwIQgAAEIAABCEDgVQncKtW9M7OIdTHu464Oy0bRwcNDfd3Kwy6PkuX3wl2V7InDPB3M6A6E9mKxzoFn38yfvjAXR98cuJcf20EAAhCAAAQgAAEIQKAQQKSzH0AAAhCAAAQgAAEIfDoCq3J6IVo9D3IYue4F1p4aOpUZR7OPEK7Y9VT80bzpo3zo4wndGFjZaJSKpa+sH1Yj49d3paWULb4V8vzTHYp0GAIQgAAEIAABCFyGACL9MlPNQCEAAQhAAAIQgMB5CWxGfe+Q6+KRe9c8cuE7fHRPele9R0xP17e7xPSOMe+pd0ual+HuqecILNQBAQhAAAIQgAAEIACBRwkg0h8lyPYQgAAEIAABCEAAAh+OwKZYF4ur3d5V1ka4ll5mE8IdAn6zzrUCewLiD0irsvYA0757iPOHZpSNIQABCEAAAhCAAATekQAi/R3h0zQEIAABCEAAAhCAwNsRuEWY3yPZl0ZyU7uvgOMIeX2LLPchHNHuK+CgSghAAAIQgAAEIAABCNxFAJF+FzY2ggAEIAABCEAAAhA4C4GHRHeK+n6onneA2YjuB6LlEebvMHk0CQEIQAACEIAABCDw5gQQ6W+OnAYhAAEIQAACEIAABD4TgTcX5FspWR6Q3vdwR5TfQ41tIAABCEAAAhCAAATORgCRfrYZZTwQgAAEIAABCEAAAhCAAAQgAAEIQAACEIAABCBwKAFE+qE4qQwCEIAABCAAAQhAAAIQgAAEIAABCEAAAhCAAATORgCRfrYZZTwQgAAEIAABCEAAAhCAAAQgAAEIQAACEIAABCBwKAFE+qE4qQwCEIAABCAAAQhAAAIQgAAEIAABCEAAAhCAAATORgCRfrYZZTwQgAAEIAABCEAAAhCAAAQgAAEIQAACEIAABCBwKAFE+qE4qQwCEIAABCAAAQhAAAIQgAAEIAABCEAAAhCAAATORgCRfrYZZTwQgAAEIAABCEAAAhCAAAQgAAEIQAACEIAABCBwKAFE+qE4qQwCEIAABCAAAQhAAAIQgAAEIAABCEAAAhCAAATORgCRfrYZZTwQgAAEIAABCEAAAhCAAAQgAAEIQAACEIAABCBwKAFE+qE4qQwCEIAABCAAAQhAAAIQgAAEIAABCEAAAhCAAATORgCRfrYZZTwQgAAEIAABCEAAAhCAAAQgAAEIQAACEIAABCBwKAFE+qE4qQwCEIAABCAAAQhAAAIQgAAEIAABCEAAAhCAAATORgCRfrYZZTwQgAAEIAABCEAAAhCAAAQgAAEIQAACEIAABCBwKAFE+qE4qQwCEIAABCAAAQhAAAIQgAAEIAABCEAAAhCAAATORgCRfrYZZTwQgAAEIAABCEAAAhCAAAQgAAEIQAACEIAABCBwKAFE+qE4qQwCEIAABCAAAQhAAAIQgAAEIAABCEAAAhCAAATORgCRfrYZZTwQgAAEIAABCEAAAhCAAAQgAAEIQAACEIAABCBwKAFE+qE4qQwCEIAABCAAAQhAAAIQgAAEIAABCEAAAhCAAATORgCRfrYZZTwQgAAEIAABCEAAAhCAAAQgAAEIQAACEIAABCBwKAFE+qE4qQwCEIAABCAAAQhAAAIQgAAEIAABCEAAAhCAAATORgCRfrYZZTwQgAAEIAABCEAAAhCAAAQgAAEIQAACEIAABCBwKAFE+qE4qQwCEIAABCAAAQhAAAIQgAAEIAABCEAAAhCAAATOROD5+fnpq6++2jWk5+++++6nXSUpBAEIQAACEIAABCAAAQhAAAIQgAAEIAABCEAAAhA4CYEvX748vby87BoNIn0XJgpBAAIQgAAEIAABCEAAAhCAAAQgAAEIQAACEIDAWQjcEo1exvz/o7r0eNjfRncAAAAASUVORK5CYII=)"
      ]
    },
    {
      "cell_type": "markdown",
      "id": "f8717b13",
      "metadata": {
        "id": "f8717b13"
      },
      "source": [
        "## Textbox"
      ]
    },
    {
      "cell_type": "code",
      "execution_count": null,
      "id": "143b7a5d",
      "metadata": {
        "ExecuteTime": {
          "end_time": "2022-08-20T17:33:00.085062Z",
          "start_time": "2022-08-20T17:32:57.116540Z"
        },
        "colab": {
          "base_uri": "https://localhost:8080/",
          "height": 640
        },
        "id": "143b7a5d",
        "outputId": "c6751735-28ba-4345-e687-bb5d9f3e60e0"
      },
      "outputs": [
        {
          "output_type": "stream",
          "name": "stdout",
          "text": [
            "Colab notebook detected. To show errors in colab notebook, set `debug=True` in `launch()`\n",
            "Running on public URL: https://44440.gradio.app\n",
            "\n",
            "This share link expires in 72 hours. For free permanent hosting, check out Spaces: https://huggingface.co/spaces\n"
          ]
        },
        {
          "output_type": "display_data",
          "data": {
            "text/plain": [
              "<IPython.core.display.HTML object>"
            ],
            "text/html": [
              "<div><iframe src=\"https://44440.gradio.app\" width=\"900\" height=\"500\" allow=\"autoplay; camera; microphone;\" frameborder=\"0\" allowfullscreen></iframe></div>"
            ]
          },
          "metadata": {}
        },
        {
          "output_type": "execute_result",
          "data": {
            "text/plain": [
              "(<gradio.routes.App at 0x7f00f8644090>,\n",
              " 'http://127.0.0.1:7896/',\n",
              " 'https://44440.gradio.app')"
            ]
          },
          "metadata": {},
          "execution_count": 46
        }
      ],
      "source": [
        "with gr.Blocks() as demo:\n",
        "    gr.Textbox(placeholder='Masukkan namamu').style(container=True)\n",
        "\n",
        "demo.launch()"
      ]
    },
    {
      "cell_type": "code",
      "execution_count": null,
      "id": "e90da665",
      "metadata": {
        "ExecuteTime": {
          "end_time": "2022-08-20T17:38:29.322476Z",
          "start_time": "2022-08-20T17:38:26.329150Z"
        },
        "colab": {
          "base_uri": "https://localhost:8080/",
          "height": 640
        },
        "id": "e90da665",
        "outputId": "a90b5257-9e34-4673-8e3e-155ff736bfb6"
      },
      "outputs": [
        {
          "output_type": "stream",
          "name": "stdout",
          "text": [
            "Colab notebook detected. To show errors in colab notebook, set `debug=True` in `launch()`\n",
            "Running on public URL: https://22880.gradio.app\n",
            "\n",
            "This share link expires in 72 hours. For free permanent hosting, check out Spaces: https://huggingface.co/spaces\n"
          ]
        },
        {
          "output_type": "display_data",
          "data": {
            "text/plain": [
              "<IPython.core.display.HTML object>"
            ],
            "text/html": [
              "<div><iframe src=\"https://22880.gradio.app\" width=\"900\" height=\"500\" allow=\"autoplay; camera; microphone;\" frameborder=\"0\" allowfullscreen></iframe></div>"
            ]
          },
          "metadata": {}
        },
        {
          "output_type": "execute_result",
          "data": {
            "text/plain": [
              "(<gradio.routes.App at 0x7f00f75e5e90>,\n",
              " 'http://127.0.0.1:7897/',\n",
              " 'https://22880.gradio.app')"
            ]
          },
          "metadata": {},
          "execution_count": 47
        }
      ],
      "source": [
        "#Kombinasikan dengan fungsi sederhana\n",
        "def halo_dunia(nama):\n",
        "    return \"Halo dunia, saya \" + nama + \" siap mengikuti PJJ DAS 3!\"\n",
        "#Interface\n",
        "with gr.Blocks() as demo:\n",
        "    nama = gr.Textbox(placeholder='Masukkan namamu').style(container=True)\n",
        "    output = gr.Textbox().style(rounded=True)\n",
        "    tombol = gr.Button(\"Lets Go\")\n",
        "    tombol.click(fn=halo_dunia, inputs=nama, outputs=output)\n",
        "\n",
        "demo.launch()"
      ]
    },
    {
      "cell_type": "code",
      "execution_count": null,
      "id": "37a7e344",
      "metadata": {
        "colab": {
          "base_uri": "https://localhost:8080/",
          "height": 640
        },
        "id": "37a7e344",
        "outputId": "bedb918c-626d-415d-dbcf-88e05065ccc1"
      },
      "outputs": [
        {
          "output_type": "stream",
          "name": "stdout",
          "text": [
            "Colab notebook detected. To show errors in colab notebook, set `debug=True` in `launch()`\n",
            "Running on public URL: https://22363.gradio.app\n",
            "\n",
            "This share link expires in 72 hours. For free permanent hosting, check out Spaces: https://huggingface.co/spaces\n"
          ]
        },
        {
          "output_type": "display_data",
          "data": {
            "text/plain": [
              "<IPython.core.display.HTML object>"
            ],
            "text/html": [
              "<div><iframe src=\"https://22363.gradio.app\" width=\"900\" height=\"500\" allow=\"autoplay; camera; microphone;\" frameborder=\"0\" allowfullscreen></iframe></div>"
            ]
          },
          "metadata": {}
        },
        {
          "output_type": "execute_result",
          "data": {
            "text/plain": [
              "(<gradio.routes.App at 0x7f00f34ba1d0>,\n",
              " 'http://127.0.0.1:7898/',\n",
              " 'https://22363.gradio.app')"
            ]
          },
          "metadata": {},
          "execution_count": 48
        }
      ],
      "source": [
        "import gradio as gr\n",
        "def update(name):\n",
        "    return f\"Welcome to Gradio, {name}!\"\n",
        "\n",
        "with gr.Blocks() as demo:\n",
        "    gr.Markdown(\"Start typing below and then click **Run** to see the output.\")\n",
        "    with gr.Row():\n",
        "        inp = gr.Textbox(placeholder=\"What is your name?\")\n",
        "        out = gr.Textbox()\n",
        "    btn = gr.Button(\"Run\")\n",
        "    btn.click(fn=update, inputs=inp, outputs=out)\n",
        "\n",
        "demo.launch()"
      ]
    },
    {
      "cell_type": "markdown",
      "id": "c5be7327",
      "metadata": {
        "id": "c5be7327"
      },
      "source": [
        "## Number"
      ]
    },
    {
      "cell_type": "code",
      "execution_count": null,
      "id": "e73cd100",
      "metadata": {
        "ExecuteTime": {
          "end_time": "2022-08-21T05:34:17.213746Z",
          "start_time": "2022-08-21T05:34:14.653094Z"
        },
        "colab": {
          "base_uri": "https://localhost:8080/",
          "height": 640
        },
        "id": "e73cd100",
        "outputId": "782cab8e-1ead-4434-a861-fb3fa372162a"
      },
      "outputs": [
        {
          "output_type": "stream",
          "name": "stdout",
          "text": [
            "Colab notebook detected. To show errors in colab notebook, set `debug=True` in `launch()`\n",
            "Running on public URL: https://27128.gradio.app\n",
            "\n",
            "This share link expires in 72 hours. For free permanent hosting, check out Spaces: https://huggingface.co/spaces\n"
          ]
        },
        {
          "output_type": "display_data",
          "data": {
            "text/plain": [
              "<IPython.core.display.HTML object>"
            ],
            "text/html": [
              "<div><iframe src=\"https://27128.gradio.app\" width=\"900\" height=\"500\" allow=\"autoplay; camera; microphone;\" frameborder=\"0\" allowfullscreen></iframe></div>"
            ]
          },
          "metadata": {}
        },
        {
          "output_type": "execute_result",
          "data": {
            "text/plain": [
              "(<gradio.routes.App at 0x7f00f3474c10>,\n",
              " 'http://127.0.0.1:7899/',\n",
              " 'https://27128.gradio.app')"
            ]
          },
          "metadata": {},
          "execution_count": 49
        }
      ],
      "source": [
        "with gr.Blocks() as demo:\n",
        "    tes_angka = gr.Number(label=\"Contoh number\",interactive=True)\n",
        "demo.launch()"
      ]
    },
    {
      "cell_type": "markdown",
      "id": "f314e580",
      "metadata": {
        "id": "f314e580"
      },
      "source": [
        "## Slider"
      ]
    },
    {
      "cell_type": "code",
      "execution_count": null,
      "id": "027a4c33",
      "metadata": {
        "ExecuteTime": {
          "end_time": "2022-08-21T05:34:25.049129Z",
          "start_time": "2022-08-21T05:34:22.503970Z"
        },
        "colab": {
          "base_uri": "https://localhost:8080/",
          "height": 640
        },
        "id": "027a4c33",
        "outputId": "939d8cc6-3ddb-4242-94e2-79a2b4017f0f"
      },
      "outputs": [
        {
          "output_type": "stream",
          "name": "stdout",
          "text": [
            "Colab notebook detected. To show errors in colab notebook, set `debug=True` in `launch()`\n",
            "Running on public URL: https://24014.gradio.app\n",
            "\n",
            "This share link expires in 72 hours. For free permanent hosting, check out Spaces: https://huggingface.co/spaces\n"
          ]
        },
        {
          "output_type": "display_data",
          "data": {
            "text/plain": [
              "<IPython.core.display.HTML object>"
            ],
            "text/html": [
              "<div><iframe src=\"https://24014.gradio.app\" width=\"900\" height=\"500\" allow=\"autoplay; camera; microphone;\" frameborder=\"0\" allowfullscreen></iframe></div>"
            ]
          },
          "metadata": {}
        },
        {
          "output_type": "execute_result",
          "data": {
            "text/plain": [
              "(<gradio.routes.App at 0x7f00f13a0a90>,\n",
              " 'http://127.0.0.1:7900/',\n",
              " 'https://24014.gradio.app')"
            ]
          },
          "metadata": {},
          "execution_count": 50
        }
      ],
      "source": [
        "with gr.Blocks() as demo:\n",
        "    slider = gr.Slider(label=\"Contoh slider\",interactive=True)\n",
        "demo.launch()"
      ]
    },
    {
      "cell_type": "markdown",
      "id": "eee428d7",
      "metadata": {
        "id": "eee428d7"
      },
      "source": [
        "## Checkbox"
      ]
    },
    {
      "cell_type": "code",
      "execution_count": null,
      "id": "4dc39b7a",
      "metadata": {
        "ExecuteTime": {
          "end_time": "2022-08-21T05:35:58.677554Z",
          "start_time": "2022-08-21T05:35:56.055331Z"
        },
        "colab": {
          "base_uri": "https://localhost:8080/",
          "height": 640
        },
        "id": "4dc39b7a",
        "outputId": "94f94266-555a-49a3-b9a2-bd2925569b88"
      },
      "outputs": [
        {
          "output_type": "stream",
          "name": "stdout",
          "text": [
            "Colab notebook detected. To show errors in colab notebook, set `debug=True` in `launch()`\n",
            "Running on public URL: https://43568.gradio.app\n",
            "\n",
            "This share link expires in 72 hours. For free permanent hosting, check out Spaces: https://huggingface.co/spaces\n"
          ]
        },
        {
          "output_type": "display_data",
          "data": {
            "text/plain": [
              "<IPython.core.display.HTML object>"
            ],
            "text/html": [
              "<div><iframe src=\"https://43568.gradio.app\" width=\"900\" height=\"500\" allow=\"autoplay; camera; microphone;\" frameborder=\"0\" allowfullscreen></iframe></div>"
            ]
          },
          "metadata": {}
        },
        {
          "output_type": "execute_result",
          "data": {
            "text/plain": [
              "(<gradio.routes.App at 0x7f0134635f50>,\n",
              " 'http://127.0.0.1:7871/',\n",
              " 'https://43568.gradio.app')"
            ]
          },
          "metadata": {},
          "execution_count": 15
        }
      ],
      "source": [
        "with gr.Blocks() as demo:\n",
        "    check1 = gr.Checkbox(label=\"Contoh checkbox1\",interactive=True)\n",
        "    check2 = gr.Checkbox(label=\"Contoh checkbox2\",interactive=True)\n",
        "    check3 = gr.Checkbox(label=\"Contoh checkbox3\",interactive=True)\n",
        "demo.launch()"
      ]
    },
    {
      "cell_type": "markdown",
      "id": "ad50b60c",
      "metadata": {
        "id": "ad50b60c"
      },
      "source": [
        "## Checkbox Group"
      ]
    },
    {
      "cell_type": "code",
      "execution_count": null,
      "id": "31da586c",
      "metadata": {
        "ExecuteTime": {
          "end_time": "2022-08-21T05:37:22.686620Z",
          "start_time": "2022-08-21T05:37:20.158190Z"
        },
        "colab": {
          "base_uri": "https://localhost:8080/",
          "height": 640
        },
        "id": "31da586c",
        "outputId": "18addd48-6f04-4810-d0bb-c3ba1e213754"
      },
      "outputs": [
        {
          "output_type": "stream",
          "name": "stdout",
          "text": [
            "Colab notebook detected. To show errors in colab notebook, set `debug=True` in `launch()`\n",
            "Running on public URL: https://51580.gradio.app\n",
            "\n",
            "This share link expires in 72 hours. For free permanent hosting, check out Spaces: https://huggingface.co/spaces\n"
          ]
        },
        {
          "output_type": "display_data",
          "data": {
            "text/plain": [
              "<IPython.core.display.HTML object>"
            ],
            "text/html": [
              "<div><iframe src=\"https://51580.gradio.app\" width=\"900\" height=\"500\" allow=\"autoplay; camera; microphone;\" frameborder=\"0\" allowfullscreen></iframe></div>"
            ]
          },
          "metadata": {}
        },
        {
          "output_type": "execute_result",
          "data": {
            "text/plain": [
              "(<gradio.routes.App at 0x7f01304ff710>,\n",
              " 'http://127.0.0.1:7872/',\n",
              " 'https://51580.gradio.app')"
            ]
          },
          "metadata": {},
          "execution_count": 16
        }
      ],
      "source": [
        "with gr.Blocks() as demo:\n",
        "    checkgrup = gr.CheckboxGroup(label=\"Contoh checkbox1\",interactive=True,choices=['Ya','Tidak'])\n",
        "demo.launch()"
      ]
    },
    {
      "cell_type": "markdown",
      "id": "166e7344",
      "metadata": {
        "id": "166e7344"
      },
      "source": [
        "## Radio"
      ]
    },
    {
      "cell_type": "code",
      "execution_count": null,
      "id": "dfd32e0c",
      "metadata": {
        "ExecuteTime": {
          "end_time": "2022-08-21T05:38:30.265015Z",
          "start_time": "2022-08-21T05:38:27.522925Z"
        },
        "colab": {
          "base_uri": "https://localhost:8080/",
          "height": 640
        },
        "id": "dfd32e0c",
        "outputId": "4d6c9ba3-e3d7-44f4-f1cb-bda92780438c"
      },
      "outputs": [
        {
          "output_type": "stream",
          "name": "stdout",
          "text": [
            "Colab notebook detected. To show errors in colab notebook, set `debug=True` in `launch()`\n",
            "Running on public URL: https://34688.gradio.app\n",
            "\n",
            "This share link expires in 72 hours. For free permanent hosting, check out Spaces: https://huggingface.co/spaces\n"
          ]
        },
        {
          "output_type": "display_data",
          "data": {
            "text/plain": [
              "<IPython.core.display.HTML object>"
            ],
            "text/html": [
              "<div><iframe src=\"https://34688.gradio.app\" width=\"900\" height=\"500\" allow=\"autoplay; camera; microphone;\" frameborder=\"0\" allowfullscreen></iframe></div>"
            ]
          },
          "metadata": {}
        },
        {
          "output_type": "execute_result",
          "data": {
            "text/plain": [
              "(<gradio.routes.App at 0x7f012e4a5790>,\n",
              " 'http://127.0.0.1:7873/',\n",
              " 'https://34688.gradio.app')"
            ]
          },
          "metadata": {},
          "execution_count": 17
        }
      ],
      "source": [
        "with gr.Blocks() as demo:\n",
        "    radio = gr.Radio(label=\"Contoh radio\",interactive=True,choices=['Ya','Tidak'])\n",
        "demo.launch()"
      ]
    },
    {
      "cell_type": "markdown",
      "id": "abcde059",
      "metadata": {
        "id": "abcde059"
      },
      "source": [
        "## Dropdown"
      ]
    },
    {
      "cell_type": "code",
      "execution_count": null,
      "id": "dae0eabd",
      "metadata": {
        "ExecuteTime": {
          "end_time": "2022-08-21T05:39:18.052459Z",
          "start_time": "2022-08-21T05:39:15.465073Z"
        },
        "colab": {
          "base_uri": "https://localhost:8080/",
          "height": 640
        },
        "id": "dae0eabd",
        "outputId": "33915889-15c6-43e9-d447-d06eaf1542fa"
      },
      "outputs": [
        {
          "output_type": "stream",
          "name": "stdout",
          "text": [
            "Colab notebook detected. To show errors in colab notebook, set `debug=True` in `launch()`\n",
            "Running on public URL: https://40915.gradio.app\n",
            "\n",
            "This share link expires in 72 hours. For free permanent hosting, check out Spaces: https://huggingface.co/spaces\n"
          ]
        },
        {
          "output_type": "display_data",
          "data": {
            "text/plain": [
              "<IPython.core.display.HTML object>"
            ],
            "text/html": [
              "<div><iframe src=\"https://40915.gradio.app\" width=\"900\" height=\"500\" allow=\"autoplay; camera; microphone;\" frameborder=\"0\" allowfullscreen></iframe></div>"
            ]
          },
          "metadata": {}
        },
        {
          "output_type": "execute_result",
          "data": {
            "text/plain": [
              "(<gradio.routes.App at 0x7f012c3bd690>,\n",
              " 'http://127.0.0.1:7874/',\n",
              " 'https://40915.gradio.app')"
            ]
          },
          "metadata": {},
          "execution_count": 18
        }
      ],
      "source": [
        "with gr.Blocks() as demo:\n",
        "    dropdown = gr.Dropdown(label=\"Contoh dropdown\",interactive=True,choices=['Ya','Tidak'])\n",
        "demo.launch()"
      ]
    },
    {
      "cell_type": "markdown",
      "id": "a3c8ea9f",
      "metadata": {
        "id": "a3c8ea9f"
      },
      "source": [
        "## Image"
      ]
    },
    {
      "cell_type": "code",
      "execution_count": null,
      "id": "07522dbf",
      "metadata": {
        "ExecuteTime": {
          "end_time": "2022-08-21T05:40:58.827933Z",
          "start_time": "2022-08-21T05:40:56.185042Z"
        },
        "colab": {
          "base_uri": "https://localhost:8080/",
          "height": 640
        },
        "id": "07522dbf",
        "outputId": "8f91fc1e-5c6f-4c01-c01f-09d9e6a93352"
      },
      "outputs": [
        {
          "output_type": "stream",
          "name": "stdout",
          "text": [
            "Colab notebook detected. To show errors in colab notebook, set `debug=True` in `launch()`\n",
            "Running on public URL: https://39505.gradio.app\n",
            "\n",
            "This share link expires in 72 hours. For free permanent hosting, check out Spaces: https://huggingface.co/spaces\n"
          ]
        },
        {
          "output_type": "display_data",
          "data": {
            "text/plain": [
              "<IPython.core.display.HTML object>"
            ],
            "text/html": [
              "<div><iframe src=\"https://39505.gradio.app\" width=\"900\" height=\"500\" allow=\"autoplay; camera; microphone;\" frameborder=\"0\" allowfullscreen></iframe></div>"
            ]
          },
          "metadata": {}
        },
        {
          "output_type": "execute_result",
          "data": {
            "text/plain": [
              "(<gradio.routes.App at 0x7f012a357650>,\n",
              " 'http://127.0.0.1:7875/',\n",
              " 'https://39505.gradio.app')"
            ]
          },
          "metadata": {},
          "execution_count": 19
        }
      ],
      "source": [
        "with gr.Blocks() as demo:\n",
        "    image = gr.Image(label=\"Contoh image\",interactive=True)\n",
        "demo.launch()"
      ]
    },
    {
      "cell_type": "markdown",
      "id": "2211754d",
      "metadata": {
        "id": "2211754d"
      },
      "source": [
        "## Files"
      ]
    },
    {
      "cell_type": "code",
      "execution_count": null,
      "id": "3c19c774",
      "metadata": {
        "ExecuteTime": {
          "end_time": "2022-08-21T05:50:43.977569Z",
          "start_time": "2022-08-21T05:50:41.304198Z"
        },
        "colab": {
          "base_uri": "https://localhost:8080/",
          "height": 640
        },
        "id": "3c19c774",
        "outputId": "b4e1277d-84bc-4a22-c707-2bb17f2b4501"
      },
      "outputs": [
        {
          "output_type": "stream",
          "name": "stdout",
          "text": [
            "Colab notebook detected. To show errors in colab notebook, set `debug=True` in `launch()`\n",
            "Running on public URL: https://48144.gradio.app\n",
            "\n",
            "This share link expires in 72 hours. For free permanent hosting, check out Spaces: https://huggingface.co/spaces\n"
          ]
        },
        {
          "output_type": "display_data",
          "data": {
            "text/plain": [
              "<IPython.core.display.HTML object>"
            ],
            "text/html": [
              "<div><iframe src=\"https://48144.gradio.app\" width=\"900\" height=\"500\" allow=\"autoplay; camera; microphone;\" frameborder=\"0\" allowfullscreen></iframe></div>"
            ]
          },
          "metadata": {}
        },
        {
          "output_type": "execute_result",
          "data": {
            "text/plain": [
              "(<gradio.routes.App at 0x7f01282707d0>,\n",
              " 'http://127.0.0.1:7876/',\n",
              " 'https://48144.gradio.app')"
            ]
          },
          "metadata": {},
          "execution_count": 20
        }
      ],
      "source": [
        "with gr.Blocks() as demo:\n",
        "    files = gr.File(label=\"Contoh files\",interactive=True)\n",
        "demo.launch()"
      ]
    },
    {
      "cell_type": "markdown",
      "id": "0141a6e2",
      "metadata": {
        "id": "0141a6e2"
      },
      "source": [
        "## Dataframe"
      ]
    },
    {
      "cell_type": "code",
      "execution_count": null,
      "id": "a26a0d1e",
      "metadata": {
        "ExecuteTime": {
          "end_time": "2022-08-21T06:02:05.561038Z",
          "start_time": "2022-08-21T06:02:02.878530Z"
        },
        "colab": {
          "base_uri": "https://localhost:8080/",
          "height": 640
        },
        "id": "a26a0d1e",
        "outputId": "96c79dfd-6b76-4aa2-d628-93b05c4b19bb"
      },
      "outputs": [
        {
          "output_type": "stream",
          "name": "stdout",
          "text": [
            "Colab notebook detected. To show errors in colab notebook, set `debug=True` in `launch()`\n",
            "Running on public URL: https://42589.gradio.app\n",
            "\n",
            "This share link expires in 72 hours. For free permanent hosting, check out Spaces: https://huggingface.co/spaces\n"
          ]
        },
        {
          "output_type": "display_data",
          "data": {
            "text/plain": [
              "<IPython.core.display.HTML object>"
            ],
            "text/html": [
              "<div><iframe src=\"https://42589.gradio.app\" width=\"900\" height=\"500\" allow=\"autoplay; camera; microphone;\" frameborder=\"0\" allowfullscreen></iframe></div>"
            ]
          },
          "metadata": {}
        },
        {
          "output_type": "execute_result",
          "data": {
            "text/plain": [
              "(<gradio.routes.App at 0x7f01262097d0>,\n",
              " 'http://127.0.0.1:7877/',\n",
              " 'https://42589.gradio.app')"
            ]
          },
          "metadata": {},
          "execution_count": 21
        }
      ],
      "source": [
        "with gr.Blocks() as demo:\n",
        "    files = gr.DataFrame(label=\"Contoh Dataframe\",interactive=True)\n",
        "demo.launch()"
      ]
    },
    {
      "cell_type": "markdown",
      "id": "ff0b9ff8",
      "metadata": {
        "id": "ff0b9ff8"
      },
      "source": [
        "## Button"
      ]
    },
    {
      "cell_type": "code",
      "execution_count": null,
      "id": "41177efd",
      "metadata": {
        "ExecuteTime": {
          "end_time": "2022-08-21T07:30:13.278307Z",
          "start_time": "2022-08-21T07:30:10.656318Z"
        },
        "colab": {
          "base_uri": "https://localhost:8080/",
          "height": 640
        },
        "id": "41177efd",
        "outputId": "2df762ad-3d2b-4a9b-98d8-be60abe9c219"
      },
      "outputs": [
        {
          "output_type": "stream",
          "name": "stdout",
          "text": [
            "Colab notebook detected. To show errors in colab notebook, set `debug=True` in `launch()`\n",
            "Running on public URL: https://23377.gradio.app\n",
            "\n",
            "This share link expires in 72 hours. For free permanent hosting, check out Spaces: https://huggingface.co/spaces\n"
          ]
        },
        {
          "output_type": "display_data",
          "data": {
            "text/plain": [
              "<IPython.core.display.HTML object>"
            ],
            "text/html": [
              "<div><iframe src=\"https://23377.gradio.app\" width=\"900\" height=\"500\" allow=\"autoplay; camera; microphone;\" frameborder=\"0\" allowfullscreen></iframe></div>"
            ]
          },
          "metadata": {}
        },
        {
          "output_type": "execute_result",
          "data": {
            "text/plain": [
              "(<gradio.routes.App at 0x7f012411b4d0>,\n",
              " 'http://127.0.0.1:7878/',\n",
              " 'https://23377.gradio.app')"
            ]
          },
          "metadata": {},
          "execution_count": 22
        }
      ],
      "source": [
        "with gr.Blocks() as demo:\n",
        "    button = gr.Button(value=\"Contoh Button\")\n",
        "demo.launch()"
      ]
    },
    {
      "cell_type": "markdown",
      "id": "8061c6d4",
      "metadata": {
        "id": "8061c6d4"
      },
      "source": [
        "## ColorPicker"
      ]
    },
    {
      "cell_type": "code",
      "execution_count": null,
      "id": "4121ba26",
      "metadata": {
        "ExecuteTime": {
          "end_time": "2022-08-21T07:31:38.943069Z",
          "start_time": "2022-08-21T07:31:26.279358Z"
        },
        "colab": {
          "base_uri": "https://localhost:8080/",
          "height": 640
        },
        "id": "4121ba26",
        "outputId": "398ab04f-acaa-45c5-8449-a58cebcae196"
      },
      "outputs": [
        {
          "output_type": "stream",
          "name": "stdout",
          "text": [
            "Colab notebook detected. To show errors in colab notebook, set `debug=True` in `launch()`\n",
            "Running on public URL: https://53059.gradio.app\n",
            "\n",
            "This share link expires in 72 hours. For free permanent hosting, check out Spaces: https://huggingface.co/spaces\n"
          ]
        },
        {
          "output_type": "display_data",
          "data": {
            "text/plain": [
              "<IPython.core.display.HTML object>"
            ],
            "text/html": [
              "<div><iframe src=\"https://53059.gradio.app\" width=\"900\" height=\"500\" allow=\"autoplay; camera; microphone;\" frameborder=\"0\" allowfullscreen></iframe></div>"
            ]
          },
          "metadata": {}
        },
        {
          "output_type": "execute_result",
          "data": {
            "text/plain": [
              "(<gradio.routes.App at 0x7f01220a2c50>,\n",
              " 'http://127.0.0.1:7879/',\n",
              " 'https://53059.gradio.app')"
            ]
          },
          "metadata": {},
          "execution_count": 23
        }
      ],
      "source": [
        "with gr.Blocks() as demo:\n",
        "    color = gr.ColorPicker(value=\"Contoh Color\",interactive=True,show_label=True)\n",
        "demo.launch()"
      ]
    },
    {
      "cell_type": "markdown",
      "id": "5b9a4055",
      "metadata": {
        "id": "5b9a4055"
      },
      "source": [
        "## Plot"
      ]
    },
    {
      "cell_type": "code",
      "execution_count": null,
      "id": "620eba1a",
      "metadata": {
        "ExecuteTime": {
          "end_time": "2022-08-21T07:49:36.786196Z",
          "start_time": "2022-08-21T07:49:33.372245Z"
        },
        "colab": {
          "base_uri": "https://localhost:8080/",
          "height": 640
        },
        "id": "620eba1a",
        "outputId": "382708e8-c39a-4de7-9a58-1edfbf293a44"
      },
      "outputs": [
        {
          "output_type": "stream",
          "name": "stdout",
          "text": [
            "Colab notebook detected. To show errors in colab notebook, set `debug=True` in `launch()`\n",
            "Running on public URL: https://48816.gradio.app\n",
            "\n",
            "This share link expires in 72 hours. For free permanent hosting, check out Spaces: https://huggingface.co/spaces\n"
          ]
        },
        {
          "output_type": "display_data",
          "data": {
            "text/plain": [
              "<IPython.core.display.HTML object>"
            ],
            "text/html": [
              "<div><iframe src=\"https://48816.gradio.app\" width=\"900\" height=\"500\" allow=\"autoplay; camera; microphone;\" frameborder=\"0\" allowfullscreen></iframe></div>"
            ]
          },
          "metadata": {}
        },
        {
          "output_type": "execute_result",
          "data": {
            "text/plain": [
              "(<gradio.routes.App at 0x7f011b152d10>,\n",
              " 'http://127.0.0.1:7901/',\n",
              " 'https://48816.gradio.app')"
            ]
          },
          "metadata": {},
          "execution_count": 52
        }
      ],
      "source": [
        "#Proses scraping data sahama dari YahooFinance\n",
        "import pandas_datareader as data\n",
        "kode = ['BBCA','BBNI','BBRI','BMRI', 'BBTN']\n",
        "data_source = 'yahoo'\n",
        "start_date = '2020-01-01'\n",
        "end_date = '2022-07-21'\n",
        "bca = data.DataReader('BBCA', data_source, start_date, end_date)\n",
        "\n",
        "#Mendefinisikan plot yang ingin kita lakukan\n",
        "plot = px.line(bca['Close'])\n",
        "\n",
        "#Melakukan deployment\n",
        "with gr.Blocks() as demo:\n",
        "    plot = gr.Plot(value=plot)\n",
        "demo.launch()"
      ]
    },
    {
      "cell_type": "code",
      "execution_count": null,
      "id": "8616312c",
      "metadata": {
        "ExecuteTime": {
          "end_time": "2022-08-21T07:38:03.910497Z",
          "start_time": "2022-08-21T07:37:56.492223Z"
        },
        "colab": {
          "base_uri": "https://localhost:8080/",
          "height": 606
        },
        "id": "8616312c",
        "outputId": "f366bda3-6a5f-4bdf-9b49-c89fea3597f1"
      },
      "outputs": [
        {
          "output_type": "stream",
          "name": "stdout",
          "text": [
            "Caching examples at: '/content/gradio_cached_examples/274/log.csv'\n",
            "Colab notebook detected. To show errors in colab notebook, set `debug=True` in `launch()`\n",
            "Running on public URL: https://51512.gradio.app\n",
            "\n",
            "This share link expires in 72 hours. For free permanent hosting, check out Spaces: https://huggingface.co/spaces\n"
          ]
        },
        {
          "output_type": "display_data",
          "data": {
            "text/plain": [
              "<IPython.core.display.HTML object>"
            ],
            "text/html": [
              "<div><iframe src=\"https://51512.gradio.app\" width=\"900\" height=\"500\" allow=\"autoplay; camera; microphone;\" frameborder=\"0\" allowfullscreen></iframe></div>"
            ]
          },
          "metadata": {}
        }
      ],
      "source": [
        "#Contoh lain untuk penggunaan Plot\n",
        "\n",
        "from math import sqrt\n",
        "\n",
        "import matplotlib\n",
        "matplotlib.use('Agg')\n",
        "import matplotlib.pyplot as plt\n",
        "import numpy as np\n",
        "import plotly.express as px\n",
        "import pandas as pd\n",
        "import bokeh.plotting as bk\n",
        "from bokeh.models import ColumnDataSource\n",
        "from bokeh.embed import json_item\n",
        "\n",
        "import gradio as gr\n",
        "\n",
        "\n",
        "def outbreak(plot_type, r, month, countries, social_distancing):\n",
        "    months = [\"January\", \"February\", \"March\", \"April\", \"May\"]\n",
        "    m = months.index(month)\n",
        "    start_day = 30 * m\n",
        "    final_day = 30 * (m + 1)\n",
        "    x = np.arange(start_day, final_day + 1)\n",
        "    pop_count = {\"USA\": 350, \"Canada\": 40, \"Mexico\": 300, \"UK\": 120}\n",
        "    if social_distancing:\n",
        "        r = sqrt(r)\n",
        "    df = pd.DataFrame({'day': x})\n",
        "    for country in countries:\n",
        "        df[country] = ( x ** (r) * (pop_count[country] + 1))\n",
        "        \n",
        "\n",
        "    if plot_type == \"Matplotlib\":\n",
        "        fig = plt.figure()\n",
        "        plt.plot(df['day'], df[countries].to_numpy())\n",
        "        plt.title(\"Outbreak in \" + month)\n",
        "        plt.ylabel(\"Cases\")\n",
        "        plt.xlabel(\"Days since Day 0\")\n",
        "        plt.legend(countries)\n",
        "        return fig\n",
        "    elif plot_type == \"Plotly\":\n",
        "        fig = px.line(df, x='day', y=countries)\n",
        "        fig.update_layout(title=\"Outbreak in \" + month,\n",
        "                   xaxis_title=\"Cases\",\n",
        "                   yaxis_title=\"Days Since Day 0\")\n",
        "        return fig\n",
        "    else:\n",
        "        source = ColumnDataSource(df)\n",
        "        p = bk.figure(title=\"Outbreak in \" + month, x_axis_label=\"Cases\", y_axis_label=\"Days Since Day 0\")\n",
        "        for country in countries:\n",
        "            p.line(x='day', y=country, line_width=2, source=source)\n",
        "        item_text = json_item(p, \"plotDiv\")\n",
        "        return item_text\n",
        "\n",
        "inputs = [\n",
        "        gr.Dropdown([\"Matplotlib\", \"Plotly\", \"Bokeh\"], label=\"Plot Type\"),\n",
        "        gr.Slider(1, 4, 3.2, label=\"R\"),\n",
        "        gr.Dropdown([\"January\", \"February\", \"March\", \"April\", \"May\"], label=\"Month\"),\n",
        "        gr.CheckboxGroup([\"USA\", \"Canada\", \"Mexico\", \"UK\"], label=\"Countries\", \n",
        "                         value=[\"USA\", \"Canada\"]),\n",
        "        gr.Checkbox(label=\"Social Distancing?\"),\n",
        "    ]\n",
        "\n",
        "outputs = gr.Plot()\n",
        "\n",
        "demo = gr.Interface(fn=outbreak, inputs=inputs, outputs=outputs, examples=[\n",
        "        [\"Matplotlib\", 2, \"March\", [\"Mexico\", \"UK\"], True],\n",
        "        [\"Plotly\", 3.6, \"February\", [\"Canada\", \"Mexico\", \"UK\"], False],\n",
        "        [\"Bokeh\", 1.2, \"May\", [\"UK\"], True]\n",
        "    ], cache_examples=True)\n",
        "\n",
        "\n",
        "if __name__ == \"__main__\":\n",
        "    demo.launch()"
      ]
    },
    {
      "cell_type": "markdown",
      "id": "f811be69",
      "metadata": {
        "id": "f811be69"
      },
      "source": [
        "## Markdown"
      ]
    },
    {
      "cell_type": "code",
      "execution_count": null,
      "id": "3d8fb3c4",
      "metadata": {
        "ExecuteTime": {
          "end_time": "2022-08-21T08:10:15.593469Z",
          "start_time": "2022-08-21T08:10:13.020161Z"
        },
        "colab": {
          "base_uri": "https://localhost:8080/",
          "height": 640
        },
        "id": "3d8fb3c4",
        "outputId": "6d04a8ca-49ce-4c8e-bef6-42df4f6b2ed3"
      },
      "outputs": [
        {
          "output_type": "stream",
          "name": "stdout",
          "text": [
            "Colab notebook detected. To show errors in colab notebook, set `debug=True` in `launch()`\n",
            "Running on public URL: https://13356.gradio.app\n",
            "\n",
            "This share link expires in 72 hours. For free permanent hosting, check out Spaces: https://huggingface.co/spaces\n"
          ]
        },
        {
          "output_type": "display_data",
          "data": {
            "text/plain": [
              "<IPython.core.display.HTML object>"
            ],
            "text/html": [
              "<div><iframe src=\"https://13356.gradio.app\" width=\"900\" height=\"500\" allow=\"autoplay; camera; microphone;\" frameborder=\"0\" allowfullscreen></iframe></div>"
            ]
          },
          "metadata": {}
        },
        {
          "output_type": "execute_result",
          "data": {
            "text/plain": [
              "(<gradio.routes.App at 0x7f00e8d6ded0>,\n",
              " 'http://127.0.0.1:7903/',\n",
              " 'https://13356.gradio.app')"
            ]
          },
          "metadata": {},
          "execution_count": 54
        }
      ],
      "source": [
        "with gr.Blocks() as demo:\n",
        "    gr.Markdown(\n",
        "    \"\"\"\n",
        "    # Hello World!\n",
        "    Ini adalah contoh markdown menggunakan Gradio.\n",
        "    \"\"\")\n",
        "\n",
        "demo.launch()"
      ]
    },
    {
      "cell_type": "markdown",
      "id": "949b94f2",
      "metadata": {
        "id": "949b94f2"
      },
      "source": [
        "# Kombinasi antara Component dan Fungsi"
      ]
    },
    {
      "cell_type": "code",
      "execution_count": null,
      "id": "5ad8f3fd",
      "metadata": {
        "ExecuteTime": {
          "end_time": "2022-08-21T08:10:25.972880Z",
          "start_time": "2022-08-21T08:10:21.264016Z"
        },
        "colab": {
          "base_uri": "https://localhost:8080/",
          "height": 640
        },
        "id": "5ad8f3fd",
        "outputId": "abc8e1c4-79eb-4353-f44d-3399e9c48547"
      },
      "outputs": [
        {
          "output_type": "stream",
          "name": "stdout",
          "text": [
            "Colab notebook detected. To show errors in colab notebook, set `debug=True` in `launch()`\n",
            "Running on public URL: https://34864.gradio.app\n",
            "\n",
            "This share link expires in 72 hours. For free permanent hosting, check out Spaces: https://huggingface.co/spaces\n"
          ]
        },
        {
          "output_type": "display_data",
          "data": {
            "text/plain": [
              "<IPython.core.display.HTML object>"
            ],
            "text/html": [
              "<div><iframe src=\"https://34864.gradio.app\" width=\"900\" height=\"500\" allow=\"autoplay; camera; microphone;\" frameborder=\"0\" allowfullscreen></iframe></div>"
            ]
          },
          "metadata": {}
        },
        {
          "output_type": "execute_result",
          "data": {
            "text/plain": [
              "(<gradio.routes.App at 0x7f00e7caec50>,\n",
              " 'http://127.0.0.1:7904/',\n",
              " 'https://34864.gradio.app')"
            ]
          },
          "metadata": {},
          "execution_count": 55
        }
      ],
      "source": [
        "#definisikan fungsi\n",
        "def greet(name, is_morning, temperature):\n",
        "    salutation = \"Selamat Pagi\" if is_morning else \"Selamat Malam\"\n",
        "    greeting = f\"{salutation} {name}. Suhu hari ini adalah {temperature}\"\n",
        "    kelvin = (temperature + 273)\n",
        "    return greeting, kelvin\n",
        "#plotting menggunakan metode Interface\n",
        "demo = gr.Interface(\n",
        "    fn=greet,\n",
        "    inputs=[\"text\", \"checkbox\", gr.Slider(0, 100)],\n",
        "    outputs=[\"text\", \"number\"],\n",
        ")\n",
        "#melakukan proses deployment\n",
        "demo.launch()"
      ]
    },
    {
      "cell_type": "code",
      "execution_count": null,
      "id": "f8352bac",
      "metadata": {
        "colab": {
          "base_uri": "https://localhost:8080/",
          "height": 640
        },
        "id": "f8352bac",
        "outputId": "dfe9aeef-f05e-4fed-c937-ff97b44aad21"
      },
      "outputs": [
        {
          "output_type": "stream",
          "name": "stdout",
          "text": [
            "Colab notebook detected. To show errors in colab notebook, set `debug=True` in `launch()`\n",
            "Running on public URL: https://35156.gradio.app\n",
            "\n",
            "This share link expires in 72 hours. For free permanent hosting, check out Spaces: https://huggingface.co/spaces\n"
          ]
        },
        {
          "output_type": "display_data",
          "data": {
            "text/plain": [
              "<IPython.core.display.HTML object>"
            ],
            "text/html": [
              "<div><iframe src=\"https://35156.gradio.app\" width=\"900\" height=\"500\" allow=\"autoplay; camera; microphone;\" frameborder=\"0\" allowfullscreen></iframe></div>"
            ]
          },
          "metadata": {}
        },
        {
          "output_type": "execute_result",
          "data": {
            "text/plain": [
              "(<gradio.routes.App at 0x7f00e6c5bf10>,\n",
              " 'http://127.0.0.1:7905/',\n",
              " 'https://35156.gradio.app')"
            ]
          },
          "metadata": {},
          "execution_count": 56
        }
      ],
      "source": [
        "#Contoh Lainnya\n",
        "\n",
        "def sepia(input_img):\n",
        "    sepia_filter = np.array([\n",
        "        [0.393, 0.769, 0.189], \n",
        "        [0.349, 0.686, 0.168], \n",
        "        [0.272, 0.534, 0.131]\n",
        "    ])\n",
        "    sepia_img = input_img.dot(sepia_filter.T)\n",
        "    sepia_img /= sepia_img.max()\n",
        "    return sepia_img\n",
        "\n",
        "demo = gr.Interface(sepia, gr.Image(shape=(200, 200)), \"image\")\n",
        "demo.launch()"
      ]
    },
    {
      "cell_type": "code",
      "execution_count": null,
      "id": "21bb4124",
      "metadata": {
        "colab": {
          "base_uri": "https://localhost:8080/",
          "height": 640
        },
        "id": "21bb4124",
        "outputId": "3e16e29f-57a8-4b03-f469-af36a26d96a0"
      },
      "outputs": [
        {
          "output_type": "stream",
          "name": "stdout",
          "text": [
            "Colab notebook detected. To show errors in colab notebook, set `debug=True` in `launch()`\n",
            "Running on public URL: https://17117.gradio.app\n",
            "\n",
            "This share link expires in 72 hours. For free permanent hosting, check out Spaces: https://huggingface.co/spaces\n"
          ]
        },
        {
          "output_type": "display_data",
          "data": {
            "text/plain": [
              "<IPython.core.display.HTML object>"
            ],
            "text/html": [
              "<div><iframe src=\"https://17117.gradio.app\" width=\"900\" height=\"500\" allow=\"autoplay; camera; microphone;\" frameborder=\"0\" allowfullscreen></iframe></div>"
            ]
          },
          "metadata": {}
        },
        {
          "output_type": "execute_result",
          "data": {
            "text/plain": [
              "(<gradio.routes.App at 0x7f00e4b4b650>,\n",
              " 'http://127.0.0.1:7906/',\n",
              " 'https://17117.gradio.app')"
            ]
          },
          "metadata": {},
          "execution_count": 57
        }
      ],
      "source": [
        "#Kita juga dapat menggunakan Blocks untuk mengatur layout yang diinginkan\n",
        "\n",
        "def welcome(name):\n",
        "    return f\"Salam sehat selalu, {name}!\"\n",
        "\n",
        "with gr.Blocks() as demo:\n",
        "    gr.Markdown(\n",
        "    \"\"\"\n",
        "    # Hello World!\n",
        "    Ini adalah contoh markdown menggunakan Gradio.\n",
        "    \"\"\")\n",
        "    inp = gr.Textbox(placeholder=\"Input namamu disini\")\n",
        "    out = gr.Textbox()\n",
        "    inp.change(welcome, inp, out)\n",
        "\n",
        "demo.launch()"
      ]
    },
    {
      "cell_type": "markdown",
      "id": "436e8cb9",
      "metadata": {
        "id": "436e8cb9"
      },
      "source": [
        "# Deployment"
      ]
    },
    {
      "cell_type": "code",
      "execution_count": null,
      "id": "ba74873e",
      "metadata": {
        "ExecuteTime": {
          "end_time": "2022-08-21T08:02:27.038068Z",
          "start_time": "2022-08-21T08:02:20.696271Z"
        },
        "colab": {
          "base_uri": "https://localhost:8080/",
          "height": 640
        },
        "id": "ba74873e",
        "outputId": "816cb5e9-e86c-45c3-8bd8-069d8c35aa23"
      },
      "outputs": [
        {
          "output_type": "stream",
          "name": "stdout",
          "text": [
            "Colab notebook detected. To show errors in colab notebook, set `debug=True` in `launch()`\n",
            "Running on public URL: https://38426.gradio.app\n",
            "\n",
            "This share link expires in 72 hours. For free permanent hosting, check out Spaces: https://huggingface.co/spaces\n"
          ]
        },
        {
          "output_type": "display_data",
          "data": {
            "text/plain": [
              "<IPython.core.display.HTML object>"
            ],
            "text/html": [
              "<div><iframe src=\"https://38426.gradio.app\" width=\"900\" height=\"500\" allow=\"autoplay; camera; microphone;\" frameborder=\"0\" allowfullscreen></iframe></div>"
            ]
          },
          "metadata": {}
        },
        {
          "output_type": "execute_result",
          "data": {
            "text/plain": [
              "(<gradio.routes.App at 0x7f010c08d850>,\n",
              " 'http://127.0.0.1:7907/',\n",
              " 'https://38426.gradio.app')"
            ]
          },
          "metadata": {},
          "execution_count": 58
        }
      ],
      "source": [
        "# Kita akan coba melakukan proses deployment menggunakan dataset titanic yang sudah dipelajari sebelumnya\n",
        "\n",
        "import os\n",
        "\n",
        "import pandas as pd\n",
        "from sklearn.ensemble import RandomForestClassifier\n",
        "from sklearn.model_selection import train_test_split\n",
        "\n",
        "urlfile = 'https://raw.githubusercontent.com/mofdac/-materi-das/main/01.%20Python%20for%20DA/titanic.csv'\n",
        "data = pd.read_csv(urlfile)\n",
        "\n",
        "\n",
        "def encode_age(df):\n",
        "    df.Age = df.Age.fillna(-0.5)\n",
        "    bins = (-1, 0, 5, 12, 18, 25, 35, 60, 120)\n",
        "    categories = pd.cut(df.Age, bins, labels=False)\n",
        "    df.Age = categories\n",
        "    return df\n",
        "\n",
        "\n",
        "def encode_fare(df):\n",
        "    df.Fare = df.Fare.fillna(-0.5)\n",
        "    bins = (-1, 0, 8, 15, 31, 1000)\n",
        "    categories = pd.cut(df.Fare, bins, labels=False)\n",
        "    df.Fare = categories\n",
        "    return df\n",
        "\n",
        "\n",
        "def encode_df(df):\n",
        "    df = encode_age(df)\n",
        "    df = encode_fare(df)\n",
        "    sex_mapping = {\"male\": 0, \"female\": 1}\n",
        "    df = df.replace({\"Sex\": sex_mapping})\n",
        "    embark_mapping = {\"S\": 1, \"C\": 2, \"Q\": 3}\n",
        "    df = df.replace({\"Embarked\": embark_mapping})\n",
        "    df.Embarked = df.Embarked.fillna(0)\n",
        "    df[\"Company\"] = 0\n",
        "    df.loc[(df[\"SibSp\"] > 0), \"Company\"] = 1\n",
        "    df.loc[(df[\"Parch\"] > 0), \"Company\"] = 2\n",
        "    df.loc[(df[\"SibSp\"] > 0) & (df[\"Parch\"] > 0), \"Company\"] = 3\n",
        "    df = df[\n",
        "        [\n",
        "            \"PassengerId\",\n",
        "            \"Pclass\",\n",
        "            \"Sex\",\n",
        "            \"Age\",\n",
        "            \"Fare\",\n",
        "            \"Embarked\",\n",
        "            \"Company\",\n",
        "            \"Survived\",\n",
        "        ]\n",
        "    ]\n",
        "    return df\n",
        "\n",
        "\n",
        "train = encode_df(data)\n",
        "#Membagi dataset\n",
        "X_all = train.drop([\"Survived\", \"PassengerId\"], axis=1)\n",
        "y_all = train[\"Survived\"]\n",
        "\n",
        "num_test = 0.20\n",
        "X_train, X_test, y_train, y_test = train_test_split(\n",
        "    X_all, y_all, test_size=num_test, random_state=23\n",
        ")\n",
        "#Melakukan proses training\n",
        "clf = RandomForestClassifier()\n",
        "clf.fit(X_train, y_train)\n",
        "predictions = clf.predict(X_test)\n",
        "\n",
        "\n",
        "def predict_survival(passenger_class, is_male, age, company, fare, embark_point):\n",
        "    if passenger_class is None or embark_point is None:\n",
        "        return None\n",
        "    df = pd.DataFrame.from_dict(\n",
        "        {\n",
        "            \"Pclass\": [passenger_class + 1],\n",
        "            \"Sex\": [0 if is_male else 1],\n",
        "            \"Age\": [age],\n",
        "            \"Company\": [\n",
        "                (1 if \"Sibling\" in company else 0) + (2 if \"Child\" in company else 0)\n",
        "            ],\n",
        "            \"Fare\": [fare],\n",
        "            \"Embarked\": [embark_point + 1],\n",
        "        }\n",
        "    )\n",
        "    df = encode_age(df)\n",
        "    df = encode_fare(df)\n",
        "    pred = clf.predict_proba(df)[0]\n",
        "    return {\"Perishes\": float(pred[0]), \"Survives\": float(pred[1])}\n",
        "\n",
        "#Melakukan deployment model\n",
        "demo = gr.Interface(\n",
        "    predict_survival,\n",
        "    [\n",
        "        gr.Dropdown([\"first\", \"second\", \"third\"], type=\"index\"),\n",
        "        \"checkbox\",\n",
        "        gr.Slider(0, 80, value=25),\n",
        "        gr.CheckboxGroup([\"Sibling\", \"Child\"], label=\"Travelling with (select all)\"),\n",
        "        gr.Number(value=20),\n",
        "        gr.Radio([\"S\", \"C\", \"Q\"], type=\"index\"),\n",
        "    ],\n",
        "    \"label\",\n",
        "    examples=[\n",
        "        [\"first\", True, 30, [], 50, \"S\"],\n",
        "        [\"second\", False, 40, [\"Sibling\", \"Child\"], 10, \"Q\"],\n",
        "        [\"third\", True, 30, [\"Child\"], 20, \"S\"],\n",
        "    ],\n",
        "    interpretation=\"default\",\n",
        "    live=True,\n",
        ")\n",
        "\n",
        "demo.launch()"
      ]
    },
    {
      "cell_type": "markdown",
      "id": "4be72eef",
      "metadata": {
        "id": "4be72eef"
      },
      "source": [
        "> Kita juga dapet menset sebuah user dan password untuk mengakses aplikasi yang akan kita deploy"
      ]
    },
    {
      "cell_type": "code",
      "execution_count": null,
      "id": "d23a7df3",
      "metadata": {
        "ExecuteTime": {
          "end_time": "2022-08-21T08:05:24.964708Z",
          "start_time": "2022-08-21T08:05:18.936030Z"
        },
        "colab": {
          "base_uri": "https://localhost:8080/"
        },
        "id": "d23a7df3",
        "outputId": "b4de88f8-28bc-489f-f91c-37cfe3416ed5"
      },
      "outputs": [
        {
          "output_type": "stream",
          "name": "stdout",
          "text": [
            "Colab notebook detected. To show errors in colab notebook, set `debug=True` in `launch()`\n",
            "Running on public URL: https://14029.gradio.app\n",
            "\n",
            "This share link expires in 72 hours. For free permanent hosting, check out Spaces: https://huggingface.co/spaces\n"
          ]
        },
        {
          "output_type": "execute_result",
          "data": {
            "text/plain": [
              "(<gradio.routes.App at 0x7f010f203c50>,\n",
              " 'http://127.0.0.1:7887/',\n",
              " 'https://14029.gradio.app')"
            ]
          },
          "metadata": {},
          "execution_count": 32
        }
      ],
      "source": [
        "def greet(name):\n",
        "    return \"Hello \" + name + \"!\"\n",
        "\n",
        "with gr.Blocks() as demo:\n",
        "    name = gr.Textbox(label=\"Name\")\n",
        "    output = gr.Textbox(label=\"Output Box\")\n",
        "    greet_btn = gr.Button(\"Greet\")\n",
        "    greet_btn.click(fn=greet, inputs=name, outputs=output)\n",
        "#Kita set kedalam mode share= True untuk membuatnya publish di server HuggingFace dan membuat auth untuk mengakses aplikasi kita\n",
        "demo.launch(share=True, auth=(\"admin\", \"admin\"))"
      ]
    }
  ],
  "metadata": {
    "kernelspec": {
      "display_name": "Python 3",
      "language": "python",
      "name": "python3"
    },
    "language_info": {
      "codemirror_mode": {
        "name": "ipython",
        "version": 3
      },
      "file_extension": ".py",
      "mimetype": "text/x-python",
      "name": "python",
      "nbconvert_exporter": "python",
      "pygments_lexer": "ipython3",
      "version": "3.7.7"
    },
    "themify": {
      "theme": "MOF-DAC 1"
    },
    "toc": {
      "base_numbering": 1,
      "nav_menu": {},
      "number_sections": true,
      "sideBar": true,
      "skip_h1_title": false,
      "title_cell": "Table of Contents",
      "title_sidebar": "Contents",
      "toc_cell": false,
      "toc_position": {
        "height": "calc(100% - 180px)",
        "left": "10px",
        "top": "150px",
        "width": "307.2px"
      },
      "toc_section_display": true,
      "toc_window_display": true
    },
    "colab": {
      "name": "Deployment_Gradio_fix.ipynb",
      "provenance": [],
      "collapsed_sections": []
    }
  },
  "nbformat": 4,
  "nbformat_minor": 5
}