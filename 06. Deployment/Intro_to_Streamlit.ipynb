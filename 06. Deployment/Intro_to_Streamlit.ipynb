{
  "cells": [
    {
      "cell_type": "code",
      "execution_count": null,
      "id": "8bba6e49",
      "metadata": {
        "id": "8bba6e49"
      },
      "outputs": [],
      "source": []
    },
    {
      "cell_type": "markdown",
      "id": "ae42aac4",
      "metadata": {
        "id": "ae42aac4"
      },
      "source": [
        "# <div style=\"background-color: #63ebc6;font-family: 'Roboto', sans-serif;border-radius: 10px; padding: 12px;color:#ffffff; line-height: .5;\"> Introduction to Streamlit </div>\n",
        "\n",
        "Slide by : \n",
        "\n",
        "- Agung Septia Wibowo\n",
        "\n",
        "- Fakhri Robi Aulia\n",
        "\n",
        "\n",
        "Outline : "
      ]
    },
    {
      "cell_type": "markdown",
      "id": "6202e94b",
      "metadata": {
        "id": "6202e94b"
      },
      "source": [
        "## <div style=\"background-color: #63ebc6;font-family: 'Roboto', sans-serif;border-radius: 10px; padding: 12px;color:#ffffff; line-height: .5;\"> 1. Setting up Streamlit </div>\n",
        "\n",
        "Secara umum streamlit biasanya di execute dari sebuah python script. Selain dengan script kita bisa juga menjalankan streamlit web app dari jupyter notebook / lab dengan menggunakan localtunnel + ngrok(pyngrok)\n",
        "\n",
        "Tahapan : \n",
        "1. Instalasi streamlit dan pyngrok\n",
        "```python\n",
        "!pip install streamlit \n",
        "!pip install pyngrok\n",
        "```\n",
        "2. Create User ngrok https://dashboard.ngrok.com/login, sementara menggunakan token yang ada di google collab ini, Copy Auth Token \n",
        "```\n",
        "!./ngrok authtokens token \n",
        "```\n",
        "3. Membuat Public URL tunnel melalui pyngrok\n",
        "```\n",
        "from pyngrok import ngrok \n",
        "public_url = ngrok.connect(port='PORTNUM')\n",
        "public_url\n",
        "```\n",
        "\n",
        "3. Membuat python script di Google Collab , dengan command %%writefile  namafile.py e.g. %%write webapp.py\n",
        "```python\n",
        "%%writefile  webapp.py \n",
        "#---CODE BLOCK--\n",
        "```\n",
        "\n",
        "4. Menjalankan Streamlit Web App : \n",
        "jika menjalankan langsung di code editor PC (local) \n",
        "cukup menjalankannya dengan : \n",
        "```python \n",
        "streamlit run webapp.py \n",
        "```\n",
        "jika di jupyter notebook / google collab , menambahkan npx localtunnel --port [PORTNUM] \n",
        "```python\n",
        "streamlit run webapp.py & npx localtunnel --port 5050\n",
        "```\n",
        "\n",
        "GASS Langsung Praktek"
      ]
    },
    {
      "cell_type": "code",
      "source": [
        "!pip install streamlit\n",
        "!./ngrok authtokens 2FheBgtEL27jVwpn71nwAdQmewr_3UyYT7WWRyFbtED5aJiYX \n",
        "!pip install pyngrok \n"
      ],
      "metadata": {
        "id": "cCFB8I_KxMMt"
      },
      "id": "cCFB8I_KxMMt",
      "execution_count": null,
      "outputs": []
    },
    {
      "cell_type": "code",
      "source": [
        "from pyngrok import ngrok \n",
        "public_url = ngrok.connect(port='8501')\n",
        "public_url"
      ],
      "metadata": {
        "colab": {
          "base_uri": "https://localhost:8080/"
        },
        "id": "JezgFiPz30t6",
        "outputId": "3a68f8f9-f2a1-4f24-9447-71303b6f0bb8"
      },
      "id": "JezgFiPz30t6",
      "execution_count": 14,
      "outputs": [
        {
          "output_type": "execute_result",
          "data": {
            "text/plain": [
              "<NgrokTunnel: \"http://7b4c-34-86-210-53.ngrok.io\" -> \"http://localhost:80\">"
            ]
          },
          "metadata": {},
          "execution_count": 14
        }
      ]
    },
    {
      "cell_type": "code",
      "execution_count": 11,
      "id": "48502d43",
      "metadata": {
        "colab": {
          "base_uri": "https://localhost:8080/"
        },
        "id": "48502d43",
        "outputId": "20807058-bb18-49f1-d8fd-7da5c95e8064"
      },
      "outputs": [
        {
          "output_type": "stream",
          "name": "stdout",
          "text": [
            "Overwriting webapp.py\n"
          ]
        }
      ],
      "source": [
        "%%writefile  webapp.py \n",
        "import streamlit as st \n",
        "\n",
        "def main() : \n",
        "  st.write('Minimal Example')\n",
        "\n",
        "if __name__ == '__main__' : \n",
        "  main()"
      ]
    },
    {
      "cell_type": "code",
      "source": [
        "!streamlit run webapp.py & npx localtunnel --port 8501 "
      ],
      "metadata": {
        "id": "2phHv-KbyJnM"
      },
      "id": "2phHv-KbyJnM",
      "execution_count": null,
      "outputs": []
    },
    {
      "cell_type": "markdown",
      "source": [
        "## <div style=\"background-color: #63ebc6;font-family: 'Roboto', sans-serif;border-radius: 10px; padding: 12px;color:#ffffff; line-height: .5;\"> 2. Streamlit Components </div>"
      ],
      "metadata": {
        "id": "VGG7GBU-7Kdc"
      },
      "id": "VGG7GBU-7Kdc"
    },
    {
      "cell_type": "markdown",
      "source": [
        "### <div style=\"background-color: #63ebc6;font-family: 'Roboto', sans-serif;border-radius: 10px; padding: 12px;color:#ffffff; line-height: .5;\"> 2.1. Text Element </div>"
      ],
      "metadata": {
        "id": "5v_6IVsi7-Am"
      },
      "id": "5v_6IVsi7-Am"
    },
    {
      "cell_type": "markdown",
      "source": [
        "### <div style=\"background-color: #63ebc6;font-family: 'Roboto', sans-serif;border-radius: 10px; padding: 12px;color:#ffffff; line-height: .5;\"> 2.2. Data Display Element </div>"
      ],
      "metadata": {
        "id": "adNKmF6d8HH7"
      },
      "id": "adNKmF6d8HH7"
    },
    {
      "cell_type": "markdown",
      "source": [
        "### <div style=\"background-color: #63ebc6;font-family: 'Roboto', sans-serif;border-radius: 10px; padding: 12px;color:#ffffff; line-height: .5;\"> 2.3.Chart Element </div>"
      ],
      "metadata": {
        "id": "O7eEvs3a8N8H"
      },
      "id": "O7eEvs3a8N8H"
    },
    {
      "cell_type": "markdown",
      "source": [
        "### <div style=\"background-color: #63ebc6;font-family: 'Roboto', sans-serif;border-radius: 10px; padding: 12px;color:#ffffff; line-height: .5;\"> 2.4. Data Display Element </div>"
      ],
      "metadata": {
        "id": "HVZj9tsk8Vk3"
      },
      "id": "HVZj9tsk8Vk3"
    },
    {
      "cell_type": "markdown",
      "source": [
        "### <div style=\"background-color: #63ebc6;font-family: 'Roboto', sans-serif;border-radius: 10px; padding: 12px;color:#ffffff; line-height: .5;\"> 2.5.Input Widget </div>"
      ],
      "metadata": {
        "id": "hBbxWnCL8jYO"
      },
      "id": "hBbxWnCL8jYO"
    },
    {
      "cell_type": "markdown",
      "source": [
        "### <div style=\"background-color: #63ebc6;font-family: 'Roboto', sans-serif;border-radius: 10px; padding: 12px;color:#ffffff; line-height: .5;\"> 2.6.Media Element </div>"
      ],
      "metadata": {
        "id": "944BUpVw77qe"
      },
      "id": "944BUpVw77qe"
    },
    {
      "cell_type": "markdown",
      "source": [
        "### <div style=\"background-color: #63ebc6;font-family: 'Roboto', sans-serif;border-radius: 10px; padding: 12px;color:#ffffff; line-height: .5;\"> 2.7.Layouting </div>"
      ],
      "metadata": {
        "id": "a623zR_U8teF"
      },
      "id": "a623zR_U8teF"
    },
    {
      "cell_type": "markdown",
      "source": [
        "### <div style=\"background-color: #63ebc6;font-family: 'Roboto', sans-serif;border-radius: 10px; padding: 12px;color:#ffffff; line-height: .5;\"> 2.8.Control Flow </div>"
      ],
      "metadata": {
        "id": "P0jaC64y8ygY"
      },
      "id": "P0jaC64y8ygY"
    },
    {
      "cell_type": "markdown",
      "source": [
        "### <div style=\"background-color: #63ebc6;font-family: 'Roboto', sans-serif;border-radius: 10px; padding: 12px;color:#ffffff; line-height: .5;\"> 2.9.Miscelanous  </div>"
      ],
      "metadata": {
        "id": "69ojcK998469"
      },
      "id": "69ojcK998469"
    },
    {
      "cell_type": "markdown",
      "id": "02ac257b",
      "metadata": {
        "id": "02ac257b"
      },
      "source": [
        "## <div style=\"background-color: #63ebc6;font-family: 'Roboto', sans-serif;border-radius: 10px; padding: 12px;color:#ffffff; line-height: .5;\"> Reference</div>\n",
        "\n",
        "1. Running Streamlit from Google Collab : https://medium.com/@jcharistech/how-to-run-streamlit-apps-from-colab-29b969a1bdfc\n",
        "2. Running Streamlit on Google Collab without ngrok https://www.youtube.com/watch?v=NEhrkeF2o_M"
      ]
    },
    {
      "cell_type": "code",
      "execution_count": null,
      "id": "0604d9f6",
      "metadata": {
        "id": "0604d9f6"
      },
      "outputs": [],
      "source": []
    }
  ],
  "metadata": {
    "kernelspec": {
      "display_name": "Python 3 (ipykernel)",
      "language": "python",
      "name": "python3"
    },
    "language_info": {
      "codemirror_mode": {
        "name": "ipython",
        "version": 3
      },
      "file_extension": ".py",
      "mimetype": "text/x-python",
      "name": "python",
      "nbconvert_exporter": "python",
      "pygments_lexer": "ipython3",
      "version": "3.8.5"
    },
    "latex_envs": {
      "LaTeX_envs_menu_present": true,
      "autoclose": true,
      "autocomplete": true,
      "bibliofile": "biblio.bib",
      "cite_by": "apalike",
      "current_citInitial": 1,
      "eqLabelWithNumbers": true,
      "eqNumInitial": 1,
      "hotkeys": {
        "equation": "Ctrl-E",
        "itemize": "Ctrl-I"
      },
      "labels_anchors": false,
      "latex_user_defs": false,
      "report_style_numbering": true,
      "user_envs_cfg": true
    },
    "toc": {
      "base_numbering": 1,
      "nav_menu": {},
      "number_sections": true,
      "sideBar": true,
      "skip_h1_title": false,
      "title_cell": "Table of Contents",
      "title_sidebar": "Contents",
      "toc_cell": false,
      "toc_position": {},
      "toc_section_display": true,
      "toc_window_display": false
    },
    "colab": {
      "provenance": [],
      "collapsed_sections": []
    }
  },
  "nbformat": 4,
  "nbformat_minor": 5
}