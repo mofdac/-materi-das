{
 "cells": [
  {
   "cell_type": "code",
   "execution_count": null,
   "id": "8bba6e49",
   "metadata": {},
   "outputs": [],
   "source": []
  },
  {
   "cell_type": "markdown",
   "id": "ae42aac4",
   "metadata": {},
   "source": [
    "# <div style=\"background-color: #63ebc6;font-family: 'Roboto', sans-serif;border-radius: 10px; padding: 12px;color:#ffffff; line-height: .5;\"> Introduction to Streamlit </div>\n",
    "\n",
    "Slide by : \n",
    "\n",
    "- Agung Septia Wibowo\n",
    "\n",
    "- Fakhri Robi Aulia\n",
    "\n",
    "\n",
    "Outline : "
   ]
  },
  {
   "cell_type": "markdown",
   "id": "6202e94b",
   "metadata": {},
   "source": [
    "## <div style=\"background-color: #63ebc6;font-family: 'Roboto', sans-serif;border-radius: 10px; padding: 12px;color:#ffffff; line-height: .5;\"> 1. Setting up Streamlit </div>\n",
    "\n",
    "Secara umum streamlit biasanya di execute dari sebuah python script. Selain dengan script kita bisa juga menjalankan streamlit web app dari jupyter notebook / lab dengan menggunakan ngrok (pyngrok package)\n",
    "\n",
    "Tahapan : \n",
    "1. Instalasi streamlit \n",
    "```python\n",
    "!pip install -u streamlit \n",
    "```\n",
    "\n",
    "2. "
   ]
  },
  {
   "cell_type": "code",
   "execution_count": null,
   "id": "48502d43",
   "metadata": {},
   "outputs": [],
   "source": []
  },
  {
   "cell_type": "markdown",
   "id": "02ac257b",
   "metadata": {},
   "source": [
    "## <div style=\"background-color: #63ebc6;font-family: 'Roboto', sans-serif;border-radius: 10px; padding: 12px;color:#ffffff; line-height: .5;\"> Reference</div>\n",
    "\n",
    "1. Running Streamlit from Google Collab : https://medium.com/@jcharistech/how-to-run-streamlit-apps-from-colab-29b969a1bdfc"
   ]
  },
  {
   "cell_type": "code",
   "execution_count": null,
   "id": "0604d9f6",
   "metadata": {},
   "outputs": [],
   "source": []
  }
 ],
 "metadata": {
  "kernelspec": {
   "display_name": "Python 3 (ipykernel)",
   "language": "python",
   "name": "python3"
  },
  "language_info": {
   "codemirror_mode": {
    "name": "ipython",
    "version": 3
   },
   "file_extension": ".py",
   "mimetype": "text/x-python",
   "name": "python",
   "nbconvert_exporter": "python",
   "pygments_lexer": "ipython3",
   "version": "3.8.5"
  },
  "latex_envs": {
   "LaTeX_envs_menu_present": true,
   "autoclose": true,
   "autocomplete": true,
   "bibliofile": "biblio.bib",
   "cite_by": "apalike",
   "current_citInitial": 1,
   "eqLabelWithNumbers": true,
   "eqNumInitial": 1,
   "hotkeys": {
    "equation": "Ctrl-E",
    "itemize": "Ctrl-I"
   },
   "labels_anchors": false,
   "latex_user_defs": false,
   "report_style_numbering": true,
   "user_envs_cfg": true
  },
  "toc": {
   "base_numbering": 1,
   "nav_menu": {},
   "number_sections": true,
   "sideBar": true,
   "skip_h1_title": false,
   "title_cell": "Table of Contents",
   "title_sidebar": "Contents",
   "toc_cell": false,
   "toc_position": {},
   "toc_section_display": true,
   "toc_window_display": false
  }
 },
 "nbformat": 4,
 "nbformat_minor": 5
}
